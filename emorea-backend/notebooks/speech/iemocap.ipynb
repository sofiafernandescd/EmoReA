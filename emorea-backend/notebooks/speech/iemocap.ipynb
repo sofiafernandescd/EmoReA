{
 "cells": [
  {
   "cell_type": "markdown",
   "id": "beb83727",
   "metadata": {},
   "source": [
    "# IEMOCAP"
   ]
  },
  {
   "cell_type": "code",
   "execution_count": 3,
   "id": "b381f059",
   "metadata": {},
   "outputs": [],
   "source": [
    "from datasets import load_dataset\n",
    "from sklearn.model_selection import train_test_split\n",
    "import numpy as np\n",
    "\n",
    "# Load dataset\n",
    "ds = load_dataset(\"AbstractTTS/IEMOCAP\")\n",
    "\n",
    "# Convert to pandas for easier manipulation\n",
    "df = ds['train'].to_pandas()\n",
    "\n",
    "# Extract features and labels\n",
    "features = df[['speaking_rate', 'pitch_mean', 'pitch_std', 'rms', 'relative_db']].values\n",
    "labels = df['major_emotion'].values\n",
    "\n",
    "# Split into train/test sets (80/20)\n",
    "X_train, X_test, y_train, y_test = train_test_split(\n",
    "    features, \n",
    "    labels, \n",
    "    test_size=0.3, \n",
    "    random_state=42,\n",
    "    #stratify=labels\n",
    ")"
   ]
  },
  {
   "cell_type": "code",
   "execution_count": 2,
   "id": "7f209153",
   "metadata": {},
   "outputs": [
    {
     "data": {
      "text/plain": [
       "{'bytes': b'RIFFV\\xf3\\x00\\x00WAVEfmt \\x10\\x00\\x00\\x00\\x01\\x00\\x01\\x00\\x80>\\x00\\x00\\x00}\\x00\\x00\\x02\\x00\\x10\\x00data2\\xf3\\x00\\x00[\\xff]\\xff\\x83\\xff\\x95\\xff\\xab\\xff\\xcb\\xff\\xd1\\xff\\xce\\xff\\xd9\\xff\\xf0\\xff\\x05\\x00\\x06\\x00\\x02\\x00\\x14\\x00\\x0f\\x00\\xeb\\xff\\xef\\xff\\x05\\x00\\x0c\\x00\\x17\\x00\\t\\x00\\xf4\\xff\\xe8\\xff\\xcb\\xff\\xad\\xffs\\xff:\\xffV\\xffw\\xffX\\xffJ\\xffr\\xff\\xa3\\xff\\xb8\\xff\\xb9\\xff\\xe3\\xff\\r\\x00\\xf9\\xff\\xeb\\xff\\xe6\\xff\\xf3\\xff8\\x00L\\x00/\\x00L\\x00d\\x00R\\x00a\\x00k\\x00G\\x00%\\x00\\x1e\\x00\\x02\\x00\\xd4\\xff\\xd8\\xff\\xca\\xff\\xb9\\xff\\xe1\\xff\\xf4\\xff\\xed\\xff\\xe5\\xff\\xf2\\xff\\x13\\x00\\x10\\x00\\xe0\\xff\\xc6\\xff\\xbb\\xff\\x9b\\xff\\xb5\\xff\\xbc\\xffj\\xffL\\xff\\\\\\xffv\\xff\\xb1\\xff\\xe2\\xff\\x07\\x00\\x1b\\x00\\xf9\\xff\\xe4\\xff\\x00\\x00\\x14\\x00\\x13\\x00\\xe9\\xff\\xb5\\xff\\xbe\\xff\\xd1\\xff\\xe2\\xff\\x16\\x00+\\x009\\x00t\\x00\\x81\\x00b\\x00W\\x00W\\x00W\\x00F\\x00$\\x00\\t\\x00\\xf1\\xff\\xce\\xff\\xb0\\xff\\xa8\\xff\\xad\\xff\\xbd\\xff\\xc0\\xff\\x9f\\xff\\x8f\\xff\\x80\\xffI\\xffR\\xffu\\xffa\\xffG\\xff?\\xff\\x85\\xff\\xac\\xffz\\xff\\x98\\xff\\xb6\\xff\\xbd\\xff\\xd1\\xff\\xcd\\xff\\x04\\x00-\\x00\\'\\x00?\\x00J\\x00]\\x00v\\x00R\\x008\\x00U\\x00h\\x00J\\x00S\\x00\\x83\\x00Y\\x00\\x12\\x000\\x00i\\x00S\\x00\\x1f\\x00\\t\\x00\\xe5\\xff\\xce\\xff\\xe7\\xff\\x0b\\x00%\\x00\\xf9\\xff\\xae\\xff\\xb0\\xff\\xb6\\xff\\x88\\xff|\\xff\\xca\\xff\\xee\\xff\\xa3\\xff\\x8f\\xff\\xb4\\xff\\xeb\\xffU\\x00\\x9a\\x00\\xb4\\x00\\xea\\x00.\\x01\\x14\\x01\\xe8\\x00\\r\\x01\\x0f\\x01\\xf3\\x00\\xb6\\x00\\x84\\x00\\x9d\\x00\\xc7\\x00\\x1d\\x01+\\x01\\xf3\\x00\\x17\\x01 \\x01\\x11\\x01\\x04\\x01\\xb4\\x00|\\x00\\x88\\x00\\xbb\\x00\\x88\\x00\\x1b\\x00O\\x00d\\x00\\xe8\\xff\\xc3\\xff\\n\\x00\\x1c\\x00\\x17\\x00f\\x00\\x87\\x00\\n\\x00\\xc2\\xff3\\x00N\\x00\\xec\\xff\\xed\\xff\\xdf\\xff\\x9c\\xff\\xa4\\xff\\xd8\\xff%\\x00g\\x00j\\x00`\\x00\\x8d\\x00\\xe2\\x00\\t\\x01\\xe6\\x00\\xb3\\x00\\xab\\x00\\xcd\\x00\\xd5\\x00\\xb9\\x00\\xa8\\x00\\x84\\x00.\\x00\\x01\\x00\\x1c\\x00\\xf7\\xff\\xa0\\xff\\x86\\xffr\\xff\\\\\\xffq\\xff\\x9b\\xff\\xb2\\xff\\xc2\\xff\\xd9\\xff\\xb7\\xffz\\xffU\\xff_\\xff\\x9c\\xff\\x9c\\xff\\x84\\xff\\x95\\xff\\x88\\xff\\x81\\xff\\xa1\\xff\\xaf\\xff\\xd1\\xff \\x00X\\x00Y\\x00=\\x00/\\x001\\x00S\\x00\\xad\\x00\\xdf\\x00\\xc9\\x00\\xb7\\x00\\xc9\\x00\\xe3\\x00\\xd7\\x00\\xc4\\x00\\xce\\x00\\xb5\\x00o\\x00$\\x00\\xdb\\xff\\xd5\\xff\\xff\\xff\\xff\\xff\\xe2\\xff\\xc4\\xff\\xa4\\xffn\\xff^\\xff\\x91\\xff\\xa8\\xff\\xbe\\xff\\xec\\xff\\x00\\x00\\x0f\\x000\\x00T\\x00T\\x003\\x00\\x0c\\x00\\xeb\\xff\\x05\\x00G\\x00\\x8a\\x00\\xb4\\x00\\xc0\\x00\\xe1\\x00\\xf4\\x00\\xe2\\x00\\xdf\\x00\\xda\\x00\\xa9\\x00D\\x00\\xfa\\xff\\xf2\\xff\\xf6\\xff\\x0f\\x00\\x0f\\x00\\xd3\\xff\\xa0\\xff\\xaf\\xff\\xf3\\xff\\x0c\\x00\\xdf\\xff\\xbd\\xff\\xb6\\xff\\xaa\\xff\\xa1\\xff\\xad\\xff\\xaf\\xff\\x9b\\xff\\x93\\xff{\\xff`\\xffg\\xffd\\xffF\\xff1\\xff`\\xff\\xaf\\xff\\xdb\\xff\\xf5\\xff\\xdb\\xff\\xb1\\xff\\xc6\\xff\\xec\\xff\\t\\x00&\\x00\\x1f\\x00\\xe2\\xff\\xaf\\xff\\xd7\\xff-\\x00L\\x00_\\x00r\\x00@\\x00\\x1e\\x00*\\x000\\x00\"\\x00\\xfd\\xff\\xf2\\xff\\xeb\\xff\\xe2\\xff\\x03\\x00\\x17\\x00\\x15\\x00.\\x00!\\x00\\xcb\\xff\\xa7\\xff\\x9c\\xffY\\xff=\\xff3\\xff\\x03\\xff\\xf6\\xfe\\x0f\\xff$\\xff#\\xff\"\\xffD\\xffm\\xff\\x91\\xff\\xb3\\xff\\xb2\\xff\\x8b\\xff\\xac\\xff\\x13\\x00@\\x00@\\x00K\\x00<\\x00\\x18\\x00$\\x00)\\x00C\\x00\\x9a\\x00\\x89\\x00\\x02\\x00\\x9e\\xff\\x81\\xff\\x99\\xff\\xbb\\xff\\xa6\\xff\\x8f\\xff\\xab\\xff\\x95\\xfff\\xfft\\xff\\x91\\xffq\\xff\\xfa\\xfe\\x95\\xfe\\x82\\xfe\\xa0\\xfe\\xf8\\xfev\\xff\\xbc\\xff\\xa7\\xff\\x8d\\xffw\\xffS\\xff\\xac\\xffQ\\x00z\\x00@\\x00\\x01\\x00$\\x00\\x9d\\x00\\x93\\x00\\x16\\x00\\xfa\\xffR\\x00~\\x00g\\x00\\x89\\x00\\x9e\\x00\\x7f\\x00d\\x00H\\x00\\x81\\x00\\xd4\\x00\\xbb\\x00b\\x00\\x16\\x006\\x00z\\x00\\x82\\x00\\x92\\x00\\x89\\x00E\\x00\\x05\\x00\\xc3\\xff\\x93\\xff\\x8b\\xffz\\xffF\\xff\\xf1\\xfe\\xc7\\xfe\\x15\\xffm\\xff}\\xffo\\xffm\\xfff\\xff6\\xff)\\xffh\\xff\\x95\\xff\\xae\\xff\\xe3\\xff\\x0e\\x00#\\x00F\\x00g\\x00W\\x00\\x16\\x00\\x00\\x00\\x10\\x00\\x02\\x00\\t\\x007\\x00E\\x003\\x004\\x00M\\x00J\\x00@\\x00q\\x00z\\x00G\\x00R\\x00f\\x00K\\x00G\\x00R\\x008\\x00 \\x00J\\x00\\x8c\\x00\\x82\\x00=\\x007\\x00w\\x00\\xa2\\x00\\xb8\\x00\\xc8\\x00\\xad\\x00g\\x00F\\x00{\\x00\\xa0\\x00\\xab\\x00\\xc2\\x00\\x9e\\x00_\\x004\\x00\\x1b\\x00.\\x00I\\x00O\\x00_\\x00o\\x00}\\x00\\xa4\\x00\\x96\\x00m\\x00\\x8a\\x00\\xa6\\x00\\x9e\\x00z\\x00>\\x00:\\x00`\\x00g\\x00[\\x00?\\x00<\\x00o\\x00Z\\x00\\xee\\xff\\xc6\\xff\\xe7\\xff\\xd3\\xff\\x84\\xffq\\xff\\x87\\xffy\\xff\\x8a\\xff\\xb9\\xff\\xde\\xff\\xf0\\xff\\xcb\\xff\\xa6\\xff\\xa1\\xff\\xa8\\xff\\xd9\\xff\\x18\\x00.\\x00\\x08\\x00\\xe2\\xff\\xfa\\xff!\\x00\\x1b\\x00\\xe6\\xff\\xd7\\xff\\xfa\\xff\\xed\\xff\\xc8\\xff\\xd6\\xff\\xed\\xff\\xda\\xff\\xcd\\xff\\xd2\\xff\\xca\\xff\\xce\\xff\\xba\\xffr\\xff\"\\xff\\xef\\xfe\\xf7\\xfe\\x0b\\xff\\x11\\xffE\\xffv\\xffp\\xff\\x7f\\xff\\xc6\\xff\\xfd\\xff\\xf8\\xff\\x01\\x00$\\x00\\x1c\\x00\\x1a\\x00:\\x00I\\x00=\\x00\\x0f\\x00\\xf7\\xff\\x07\\x00\\xee\\xff\\xc8\\xff\\xbd\\xff\\xb0\\xff\\x97\\xffy\\xffk\\xffj\\xffS\\xffH\\xff\\x8e\\xff\\xd4\\xff\\xcf\\xff\\xd3\\xff\\xef\\xff\\xe6\\xff\\xce\\xff\\xcd\\xff\\xc3\\xff\\xc0\\xff\\xd8\\xff\\xcd\\xff\\xae\\xff\\xa4\\xff\\x83\\xffT\\xff.\\xff\\xfc\\xfe\\x0e\\xffO\\xffX\\xff_\\xff^\\xffO\\xffc\\xff\\x86\\xff\\xb9\\xff\\xfc\\xff \\x00\\x17\\x00\\x14\\x00\\x18\\x00\\xff\\xff\\xe2\\xff\\xdb\\xff\\xe4\\xff\\xdb\\xff\\xd0\\xff\\xdf\\xff\\xfe\\xff\\x17\\x00 \\x00$\\x00\\x15\\x00\\x0b\\x00\\x1a\\x00\\x0c\\x00\\xfa\\xff\\x17\\x00&\\x00\\x04\\x00\\xea\\xff\\xed\\xff\\x00\\x00\\xfc\\xff\\xb0\\xff\\x87\\xff\\x94\\xff\\x96\\xff\\xc9\\xff\\xfb\\xff\\xe3\\xff\\xcb\\xff\\xcc\\xff\\xd4\\xff\\xe9\\xff\\x1f\\x00j\\x00\\x95\\x00\\x96\\x00}\\x00l\\x00\\x83\\x00\\x8e\\x00l\\x00a\\x00z\\x00_\\x00(\\x00/\\x00S\\x00Y\\x00Y\\x00u\\x00o\\x00R\\x00V\\x00E\\x00(\\x00\\x1d\\x00\\x1b\\x00B\\x00o\\x00\\x98\\x00\\xba\\x00\\x9a\\x00z\\x00\\x90\\x00\\x93\\x00\\x99\\x00\\xa3\\x00\\x84\\x00\\x82\\x00\\x9e\\x00\\xa3\\x00\\x98\\x00n\\x00K\\x00K\\x005\\x00\\r\\x00\\xec\\xff\\xce\\xff\\xa7\\xff\\x94\\xff\\x9e\\xff\\x95\\xff\\x86\\xff\\x90\\xff\\x9e\\xff\\xa2\\xff\\xb4\\xff\\xc3\\xff\\xac\\xff\\x9d\\xff\\xb0\\xff\\xcc\\xff\\xf3\\xff&\\x00.\\x00\\xfd\\xff\\xe1\\xff\\xe8\\xff\\xf7\\xff\\n\\x00\\x07\\x00\\xe6\\xff\\xd2\\xff\\xc6\\xff\\x9b\\xffw\\xff}\\xff\\x89\\xffm\\xff^\\xff\\x80\\xff\\x89\\xffv\\xffs\\xff`\\xff>\\xffG\\xffm\\xff\\x7f\\xff`\\xffM\\xff\\x8c\\xff\\xb7\\xff\\xa1\\xff\\x9c\\xff\\x92\\xffd\\xffH\\xffT\\xff\\\\\\xffp\\xff\\x9a\\xff\\xa1\\xff\\x85\\xff\\x88\\xff\\xab\\xff\\xc7\\xff\\xec\\xff\\x06\\x00\\xfa\\xff\\xf5\\xff\\xf4\\xff\\xed\\xff\\xe5\\xff\\xf8\\xff7\\x00q\\x00|\\x00b\\x00N\\x00/\\x00\\t\\x00\\x0b\\x00\\r\\x00\\x04\\x00\\x08\\x00\\x1e\\x00D\\x00X\\x00h\\x00\\x9c\\x00\\xb7\\x00\\x9c\\x00\\x8e\\x00\\x88\\x00\\x8c\\x00\\x8c\\x00N\\x00\\x0c\\x00\\xfe\\xff\\x01\\x00\\xf0\\xff\\xbb\\xfft\\xffO\\xffG\\xffL\\xffi\\xff\\x87\\xff\\xaa\\xff\\xb3\\xff\\xa0\\xff\\xbd\\xff\\xee\\xff\\xfe\\xff\\xe9\\xff\\xb9\\xff\\x9b\\xff\\x98\\xff\\xad\\xff\\xc4\\xff\\xb3\\xff\\xbd\\xff\\xfe\\xff\\xfb\\xff\\xcc\\xff\\xca\\xff\\xc3\\xff\\xd5\\xff\\t\\x00\\xfb\\xff\\xcf\\xff\\xc9\\xff\\xc0\\xff\\xc7\\xff\\xda\\xff\\xd6\\xff\\xf5\\xff\\x16\\x00\\x1e\\x00C\\x00W\\x00D\\x00A\\x00[\\x00]\\x00O\\x00n\\x00o\\x00R\\x00X\\x00M\\x00S\\x00h\\x00m\\x00}\\x00t\\x00x\\x00\\x89\\x00h\\x00P\\x00<\\x00\\x14\\x00\\xf9\\xff\\xe9\\xff\\xd8\\xff\\xc5\\xff\\xc9\\xff\\xe5\\xff\\xeb\\xff\\xdd\\xff\\xea\\xff\\t\\x00\\x0b\\x00\\x00\\x00\\xf0\\xff\\xe0\\xff\\xe9\\xff\\xef\\xff\\xf8\\xff\\x08\\x00\\x07\\x00)\\x00s\\x00\\x9d\\x00\\xa7\\x00\\xa3\\x00\\x8f\\x00\\x8f\\x00\\x97\\x00\\x90\\x00\\x86\\x00\\x85\\x00\\x8d\\x00\\x82\\x00\\x87\\x00\\xb0\\x00\\xc7\\x00\\xb8\\x00\\x92\\x00\\x81\\x00\\x8e\\x00\\xa4\\x00\\x9f\\x00x\\x00i\\x00\\\\\\x00E\\x00c\\x00\\x90\\x00\\x9d\\x00\\x91\\x00d\\x00B\\x009\\x005\\x00D\\x009\\x00\\x14\\x00\\x1b\\x004\\x00E\\x00`\\x00\\x84\\x00\\x9c\\x00\\x8c\\x00\\\\\\x00Y\\x00\\x92\\x00\\x9e\\x00\\x98\\x00\\xab\\x00\\x89\\x00r\\x00\\x9e\\x00\\xb8\\x00\\xca\\x00\\xef\\x00\\xf6\\x00\\xe6\\x00\\xf6\\x00\\x1c\\x01*\\x01*\\x01#\\x01\\xf5\\x00\\xd2\\x00\\xd6\\x00\\xd8\\x00\\xd8\\x00\\xdb\\x00\\xce\\x00\\xb7\\x00\\xc0\\x00\\xe7\\x00\\xfa\\x00\\xf8\\x00\\xf3\\x00\\xec\\x00\\xde\\x00\\xc6\\x00\\x96\\x00Y\\x00<\\x00?\\x00B\\x00<\\x00<\\x00G\\x00-\\x00\\xf6\\xff\\xf2\\xff\\x0c\\x00-\\x00]\\x00\\\\\\x001\\x00%\\x00*\\x00\\x1e\\x00\\x1d\\x00\\x1a\\x00\\xe7\\xff\\xa3\\xff\\x9b\\xff\\xae\\xff\\xa4\\xff\\x93\\xffe\\xff>\\xffM\\xffi\\xff\\x88\\xff\\xa8\\xff\\xc8\\xff\\xdd\\xff\\xd0\\xff\\xc0\\xff\\xbc\\xff\\xcb\\xff\\xe7\\xff\\xf0\\xff\\x05\\x00!\\x00!\\x00\\x1e\\x00 \\x00\"\\x00)\\x00,\\x00@\\x00\\x80\\x00\\x9f\\x00h\\x006\\x00\\x18\\x00\\x02\\x00 \\x00?\\x00O\\x00q\\x00\\x95\\x00\\xa4\\x00\\x9c\\x00\\x84\\x00[\\x00B\\x00H\\x00&\\x00\\xdc\\xff\\xd0\\xff\\xcf\\xff\\xad\\xff\\xa0\\xff\\x95\\xff\\x9c\\xff\\xa1\\xff\\x8e\\xff\\x9a\\xff\\xbe\\xff\\xe6\\xff\\x00\\x00\\x0f\\x00\\r\\x00\\x00\\x00\\x04\\x00\\xe2\\xff\\xc0\\xff\\xdb\\xff\\xf4\\xff\\xfb\\xff\\xfa\\xff\\xe7\\xff\\xe8\\xff\\xe6\\xff\\xce\\xff\\xe3\\xff\\x12\\x00!\\x00*\\x00A\\x008\\x00\\x10\\x00\\xf0\\xff\\xc5\\xff\\x90\\xffl\\xffZ\\xffP\\xffK\\xffF\\xff3\\xffB\\xffb\\xff\\\\\\xffh\\xffo\\xffY\\xffi\\xff\\x88\\xff\\x8d\\xff\\x81\\xff~\\xff\\x99\\xff\\xb0\\xff\\xa5\\xff\\x88\\xff\\x84\\xff\\x91\\xff~\\xffd\\xffb\\xff\\x82\\xff\\xcc\\xff\\xfc\\xff\\xf2\\xff\\xd6\\xff\\xb1\\xff\\x8e\\xffq\\xffz\\xff\\x9c\\xff\\x85\\xff^\\xffj\\xff\\x95\\xff\\xbf\\xff\\xce\\xff\\xc9\\xff\\xcc\\xff\\xd1\\xff\\xdc\\xff\\xe9\\xff\\xe0\\xff\\xec\\xff\\x16\\x00\\x1c\\x00\\x06\\x00\\xfb\\xff\\xdc\\xff\\x97\\xffd\\xff\\\\\\xffa\\xffh\\xffw\\xff\\x85\\xff\\x85\\xff\\x88\\xff\\x93\\xff\\xaf\\xff\\xdd\\xff\\xde\\xff\\xb7\\xff\\xb3\\xff\\xd1\\xff\\xea\\xff\\xfe\\xff\\x04\\x00\\x03\\x00\\x05\\x00\\xe5\\xff\\xd3\\xff\\xee\\xff\\xe9\\xff\\xcd\\xff\\xb9\\xff\\xa9\\xff\\xa3\\xff\\x8f\\xff\\x8c\\xff\\xab\\xff\\xb2\\xff\\xae\\xff\\xc3\\xff\\xe5\\xff\\xff\\xff\\x1d\\x008\\x005\\x000\\x008\\x000\\x00.\\x00\\'\\x00\\x02\\x00\\xfa\\xff\\xfc\\xff\\xe2\\xff\\xdc\\xff\\xd2\\xff\\xb1\\xff\\xba\\xff\\xce\\xff\\xc1\\xff\\xc4\\xff\\xda\\xff\\x0c\\x00>\\x00J\\x00K\\x00$\\x00\\xf6\\xff\\xff\\xff\\x02\\x00\\xe6\\xff\\xcd\\xff\\xbf\\xff\\xbb\\xff\\xcb\\xff\\xed\\xff\\xf9\\xff\\xe5\\xff\\xcc\\xff\\xb9\\xff\\xc9\\xff\\xf7\\xff\\xed\\xff\\xaa\\xff\\x88\\xff\\x97\\xff\\xad\\xff\\xb4\\xff\\xc0\\xff\\xcb\\xff\\xd2\\xff\\xf2\\xff\\x11\\x00\\x04\\x00\\xf3\\xff\\xf8\\xff\\xe6\\xff\\xbb\\xff\\xa4\\xff\\xb7\\xff\\xb5\\xff\\x97\\xff\\xac\\xff\\xc8\\xff\\xc8\\xff\\xaa\\xff\\x84\\xff\\x8c\\xff\\xbf\\xff\\t\\x001\\x00Z\\x00x\\x00K\\x001\\x007\\x00C\\x00W\\x00O\\x00C\\x004\\x00\\x04\\x00\\xbf\\xff\\x89\\xffm\\xffs\\xff\\x9a\\xff\\xa8\\xff\\xb9\\xff\\x00\\x000\\x00&\\x00\\x0b\\x00\\xe9\\xff\\xd3\\xff\\xcd\\xff\\xad\\xff\\x8f\\xff\\x94\\xff\\xb6\\xff\\xf0\\xff\\x03\\x00\\x02\\x00/\\x00P\\x00T\\x00C\\x00.\\x00-\\x00\\r\\x00\\xe3\\xff\\xb7\\xff|\\xffy\\xff\\xaa\\xff\\xf2\\xff7\\x00o\\x00\\x9c\\x00\\x9a\\x00\\x8e\\x00\\x93\\x00i\\x00,\\x00\\x0c\\x00\\xe0\\xff\\xab\\xff\\x8c\\xffn\\xff{\\xff\\xbb\\xff\\xda\\xff\\xd5\\xff\\xf1\\xff-\\x006\\x00\\x11\\x00\\x17\\x001\\x00,\\x009\\x00F\\x006\\x004\\x00\"\\x00\\x16\\x004\\x00]\\x00\\x7f\\x00\\x82\\x00{\\x00i\\x00P\\x00i\\x00\\x8c\\x00\\x98\\x00\\x93\\x00\\x87\\x00~\\x00y\\x00\\x85\\x00\\x84\\x00j\\x00R\\x00?\\x00I\\x00^\\x00S\\x00?\\x004\\x00,\\x00\\x02\\x00\\xc2\\xff\\xc1\\xff\\xc8\\xff\\xba\\xff\\xd1\\xff\\xf2\\xff\\x03\\x00\\x08\\x00\\x1c\\x006\\x008\\x00,\\x00\\n\\x00\\xe5\\xff\\xf5\\xff\\x19\\x00+\\x00Z\\x00z\\x00v\\x00u\\x00i\\x00g\\x00d\\x00l\\x00\\x96\\x00\\xa0\\x00\\x86\\x00s\\x00q\\x00u\\x00{\\x00\\x87\\x00v\\x00i\\x00|\\x00z\\x00j\\x00|\\x00\\x7f\\x00@\\x00\\t\\x00\\x05\\x00\\xed\\xff\\xd4\\xff\\xe3\\xff\\xdb\\xff\\xa4\\xff\\x99\\xff\\xc2\\xff\\xde\\xff\\xde\\xff\\xd6\\xff\\xec\\xff\\x0e\\x00\\x00\\x00\\x00\\x006\\x00K\\x003\\x00*\\x00-\\x00&\\x00\\x14\\x00\\x11\\x00-\\x00F\\x00E\\x007\\x00:\\x00>\\x00#\\x00\\x0f\\x00\\r\\x00\\xea\\xff\\xac\\xff\\x84\\xffh\\xffP\\xffd\\xff\\x9c\\xff\\xb2\\xff\\xc6\\xff\\xfe\\xff\\x15\\x00\\x06\\x00\\x08\\x00%\\x000\\x00\\r\\x00\\xed\\xff\\xdd\\xff\\xce\\xff\\xda\\xff\\xeb\\xff\\xdf\\xff\\xbf\\xff\\xb9\\xff\\xd6\\xff\\xe8\\xff\\xe5\\xff\\xd5\\xff\\xc8\\xff\\xac\\xff\\x98\\xff\\x99\\xff\\x8a\\xff\\xa1\\xff\\xbf\\xff\\xad\\xff\\x9b\\xff\\x81\\xffs\\xff\\x83\\xff\\xae\\xff\\xfd\\xff\\x16\\x00\\xff\\xff\\xf8\\xff\\xef\\xff\\xdb\\xff\\xc5\\xff\\xba\\xff\\xa0\\xff|\\xff\\x81\\xff\\x9b\\xff\\xa4\\xff\\x9b\\xff\\x8d\\xff~\\xffw\\xff\\x8b\\xff\\x94\\xffi\\xffR\\xffu\\xff\\xa5\\xff\\xc7\\xff\\xd9\\xff\\xc8\\xff\\x9d\\xff\\x97\\xff\\xb3\\xff\\xc2\\xff\\xbb\\xff\\xbb\\xff\\xbe\\xff\\xb5\\xff\\xce\\xff\\xdb\\xff\\xc9\\xff\\xce\\xff\\xe4\\xff\\xe9\\xff\\xe3\\xff\\xf2\\xff\\xef\\xff\\xe3\\xff\\x08\\x009\\x00Q\\x00k\\x00u\\x00Z\\x00J\\x003\\x00\\x0e\\x00\\xff\\xff\\xfe\\xff\\xf9\\xff\\xe4\\xff\\xd6\\xff\\xc5\\xff\\xa3\\xffz\\xffh\\xffq\\xffZ\\xff\\'\\xff\\x16\\xff\"\\xff\\x16\\xff\\n\\xff/\\xffc\\xffj\\xffZ\\xffb\\xffb\\xffM\\xffQ\\xffo\\xffz\\xffa\\xffg\\xffw\\xffb\\xffd\\xff\\x92\\xff\\xbf\\xff\\xcd\\xff\\xd1\\xff\\xf6\\xff\\x19\\x00\\x1c\\x00\\xfe\\xff\\xf6\\xff\\t\\x00\\xf5\\xff\\x01\\x00\\x1c\\x00\\x11\\x00\\x1a\\x00\"\\x001\\x00&\\x00\\x0f\\x00\\x1c\\x00!\\x00$\\x00&\\x005\\x00Q\\x00d\\x00k\\x00W\\x001\\x00\\n\\x00\\x03\\x00\\x1e\\x009\\x00M\\x00?\\x00&\\x00\\'\\x00#\\x00#\\x00#\\x00!\\x00\\x18\\x00\\x00\\x00\\x07\\x00\\x0b\\x00\\xfd\\xff\\xed\\xff\\xdb\\xff\\xdd\\xff\\xfc\\xff\\x1d\\x00\\x15\\x00\\x0c\\x00\\x0c\\x00\\xff\\xff\\x14\\x00&\\x00\\x05\\x00\\xf3\\xff\\n\\x00\\x10\\x00\\xe8\\xff\\xd5\\xff\\xf8\\xff\\xe2\\xff\\xbd\\xff\\xdc\\xff\\xd0\\xff\\xba\\xff\\xe2\\xff\\xf6\\xff\\xf1\\xff\\xed\\xff\\xdf\\xff\\xcc\\xff\\xcf\\xff\\xd7\\xff\\xc3\\xff\\xd1\\xff\\x0f\\x001\\x00!\\x00\\xfc\\xff\\xdf\\xff\\xc0\\xff\\xa7\\xff\\x9f\\xff\\x98\\xff\\x90\\xff\\x84\\xffv\\xffW\\xffF\\xffJ\\xff4\\xff,\\xff\\'\\xff*\\xffs\\xff\\xa7\\xff\\xab\\xff\\xab\\xff\\x92\\xff\\x87\\xffz\\xffj\\xff\\x90\\xff\\x96\\xffr\\xffv\\xff\\x94\\xff\\xa7\\xff\\xbe\\xff\\xe9\\xff\\xe8\\xff\\xbb\\xff\\xb3\\xff\\xc0\\xff\\xbf\\xff\\xc5\\xff\\xe4\\xff\\n\\x00\\x04\\x00\\xde\\xff\\xd6\\xff\\xea\\xff\\xfa\\xff\\x08\\x00\\x06\\x00\\xf0\\xff\\xf3\\xff\\x0f\\x006\\x00J\\x005\\x00\"\\x00\\n\\x00\\t\\x000\\x000\\x00\\x1f\\x00)\\x00\\x1f\\x00\\x11\\x00 \\x00!\\x00\\x0b\\x00\\xf7\\xff\\xe7\\xff\\xe8\\xff\\x01\\x00\\x12\\x00\\x07\\x00\\xfe\\xff\\r\\x00\\x1f\\x00\\x1c\\x00\\x02\\x00\\xf3\\xff\\xfc\\xff\\xf8\\xff\\xfc\\xff\\x10\\x00\\x15\\x00$\\x009\\x00[\\x00g\\x005\\x00>\\x00v\\x00e\\x00C\\x00,\\x00 \\x001\\x002\\x00\\x1f\\x00\\x13\\x00\\x06\\x00\\x06\\x00&\\x00A\\x00M\\x00_\\x00M\\x001\\x00-\\x00\\x15\\x00\\x02\\x00\\x04\\x00\\x04\\x00\\x03\\x00\\x11\\x00\"\\x00#\\x002\\x00=\\x00-\\x00(\\x00*\\x00(\\x00*\\x00\\x1d\\x00\\x18\\x00\\x1f\\x00\\x16\\x00\\x14\\x00\\x19\\x00\\x1a\\x00-\\x001\\x00\\x19\\x00\\x0e\\x00\\x12\\x00\\x1a\\x002\\x00Y\\x00m\\x00q\\x00\\x8e\\x00\\xa4\\x00\\x95\\x00\\x83\\x00i\\x00<\\x00\\'\\x00\\'\\x00!\\x00*\\x003\\x004\\x00D\\x00W\\x00y\\x00\\xc5\\x00\\xf0\\x00\\xd1\\x00\\xb9\\x00\\xac\\x00\\x92\\x00\\x89\\x00\\x88\\x00\\x80\\x00\\x80\\x00\\x91\\x00\\xaa\\x00\\xb1\\x00\\xa6\\x00\\x94\\x00}\\x00o\\x00i\\x00\\\\\\x00J\\x00C\\x00;\\x00#\\x00/\\x00P\\x00^\\x00r\\x00\\x8d\\x00\\xa7\\x00\\xcd\\x00\\xe8\\x00\\xdf\\x00\\xda\\x00\\xf4\\x00\\xff\\x00\\xf1\\x00\\xd5\\x00\\xbc\\x00\\xa8\\x00\\x89\\x00v\\x00\\x89\\x00\\xb0\\x00\\xca\\x00\\xc4\\x00\\xa9\\x00\\xaa\\x00\\xc8\\x00\\xc4\\x00\\xbd\\x00\\xd0\\x00\\xca\\x00\\xc9\\x00\\xcd\\x00\\xbb\\x00\\xab\\x00\\x9d\\x00\\x82\\x00l\\x00s\\x00y\\x00x\\x00\\x8a\\x00}\\x00p\\x00\\x95\\x00\\xac\\x00\\xb7\\x00\\xc6\\x00\\xc0\\x00\\xb8\\x00\\x9c\\x00g\\x00N\\x00C\\x003\\x007\\x00<\\x00:\\x00J\\x00T\\x00O\\x00M\\x00A\\x00#\\x00\\x17\\x001\\x00I\\x00M\\x00G\\x00X\\x00\\x87\\x00\\x9e\\x00\\x93\\x00{\\x00\\x7f\\x00\\x9f\\x00\\x9b\\x00\\x96\\x00\\xb2\\x00\\xb6\\x00\\xa2\\x00\\x92\\x00p\\x00P\\x00Y\\x00_\\x00G\\x00B\\x00=\\x00\\x1f\\x00\\x06\\x00\\xf2\\xff\\xee\\xff\\xf9\\xff\\xfb\\xff\\x0b\\x006\\x00W\\x00_\\x00s\\x00\\x87\\x00|\\x00l\\x00Z\\x00:\\x00\\x17\\x00\\xf0\\xff\\xd0\\xff\\xc0\\xff\\xaf\\xff\\xba\\xff\\xcb\\xff\\xba\\xff\\xcf\\xff\\xe9\\xff\\xce\\xff\\xbb\\xff\\x9a\\xfft\\xffz\\xff\\x8d\\xff\\x95\\xff\\xa1\\xff\\xcb\\xff\\x00\\x00\\x1e\\x00\\x15\\x00\\xf9\\xff\\xfe\\xff\\x07\\x00\\xfa\\xff\\xe2\\xff\\xcb\\xff\\xc1\\xff\\xc6\\xff\\xdc\\xff\\xed\\xff\\xfb\\xff\\x13\\x00\\x16\\x00\\x1e\\x000\\x00#\\x00\\x1d\\x00 \\x00\\x17\\x00\\xf8\\xff\\xed\\xff\\x0e\\x00\\x13\\x00\\r\\x00\\xfa\\xff\\xc9\\xff\\xb2\\xff\\xa5\\xff\\xbe\\xff\\xd6\\xff\\xa9\\xff\\xa5\\xff\\xd0\\xff\\xce\\xff\\xb2\\xff\\xb5\\xff\\xc7\\xff\\xc0\\xff\\xcf\\xff\\xf8\\xff\\xf9\\xff\\xf8\\xff\\t\\x00\\x12\\x00.\\x00.\\x00\\x07\\x00\\xf9\\xff\\xf3\\xff\\xeb\\xff\\xe9\\xff\\xc7\\xff\\x9d\\xff\\x94\\xff\\x8b\\xff\\x8e\\xff\\x8e\\xff\\x80\\xff\\x9c\\xff\\xc2\\xff\\xcd\\xff\\xc7\\xff\\xa9\\xff\\xa1\\xff\\xab\\xff\\x93\\xff\\x92\\xff\\xa3\\xffg\\xff\\x02\\xff\\xac\\xfek\\xfe\\x7f\\xfe\\xee\\xfe>\\xffO\\xffP\\xff<\\xff?\\xffI\\xff\\x1d\\xff\\xfc\\xfe,\\xffk\\xff\\x87\\xff\\xb6\\xff\\xde\\xff\\xe1\\xff\\xf4\\xff\\x07\\x00\\x08\\x00\\xec\\xff\\x9e\\xffr\\xff\\x88\\xff\\x8c\\xff\\x84\\xff\\xa5\\xff\\xc7\\xff\\xc8\\xff\\xb2\\xff\\xaa\\xff\\xc9\\xff\\xe5\\xff\\xf8\\xff\\x07\\x00\\n\\x00\\n\\x00\\xf1\\xff\\xd1\\xff\\xb2\\xff\\x92\\xff\\x9c\\xff\\xa6\\xff\\x9f\\xff\\xa6\\xff\\xb3\\xff\\xc6\\xff\\xb6\\xff\\x86\\xffi\\xffD\\xff\\x17\\xff\\x01\\xff\\xdd\\xfe\\xae\\xfe\\x9b\\xfe\\x9e\\xfe\\xb1\\xfe\\xcf\\xfe\\xea\\xfe\\x14\\xffY\\xffv\\xff_\\xffZ\\xffM\\xff<\\xffH\\xffK\\xfff\\xff\\x91\\xff\\x85\\xffn\\xffi\\xff\\x82\\xff\\xb5\\xff\\xcf\\xff\\xcf\\xff\\xd6\\xff\\xf3\\xff\\x02\\x00\\n\\x00$\\x00&\\x00B\\x00r\\x00s\\x00\\x80\\x00\\x82\\x00\\\\\\x00M\\x00.\\x00\\x14\\x00+\\x00+\\x00\\x1f\\x00\\x1d\\x00\\x01\\x00\\xd9\\xff\\xb8\\xff\\xb6\\xff\\xcf\\xff\\xdc\\xff\\xca\\xff\\xbc\\xff\\xc3\\xff\\xa8\\xff\\x81\\xff\\x9a\\xff\\xac\\xff\\x8c\\xff\\x83\\xff\\x85\\xff\\x91\\xff\\xb1\\xff\\xc4\\xff\\xea\\xff!\\x00,\\x00\\x19\\x00\\xfd\\xff\\xde\\xff\\xdb\\xff\\xe8\\xff\\x11\\x00R\\x00]\\x00X\\x00h\\x00i\\x00o\\x00r\\x00d\\x00k\\x00\\x9b\\x00\\xc6\\x00\\xd5\\x00\\xcb\\x00\\xb0\\x00\\x92\\x00j\\x00Z\\x00~\\x00\\x92\\x00|\\x00d\\x00=\\x00$\\x00A\\x00T\\x00<\\x00\"\\x00\\x05\\x00\\xf9\\xff\\xfc\\xff\\xdd\\xff\\xd1\\xff\\xda\\xff\\xc7\\xff\\xc3\\xff\\xb8\\xff\\x94\\xff\\xa0\\xff\\xc7\\xff\\xd6\\xff\\xdf\\xff\\xe3\\xff\\xe1\\xff\\xff\\xff*\\x00!\\x00\\x04\\x00\\xe1\\xff\\xaf\\xff\\x9a\\xff\\x9c\\xff\\x80\\xffm\\xffo\\xff<\\xff?\\xff\\xa5\\xff\\xd5\\xff\\xce\\xff\\xab\\xff\\x93\\xff\\xc9\\xff\\x14\\x00K\\x00\\x87\\x00\\xb3\\x00\\xb8\\x00\\xbd\\x00\\xc8\\x00\\xd4\\x00\\xf6\\x00\\xee\\x00\\xc5\\x00\\xd2\\x00\\xd1\\x00\\xa4\\x00\\x8b\\x00i\\x00G\\x00U\\x00g\\x00\\x7f\\x00\\xab\\x00\\xc5\\x00\\xb5\\x00{\\x00j\\x00\\x99\\x00\\x9d\\x00u\\x00T\\x008\\x00+\\x00\\x18\\x00\\x0c\\x00\\x0c\\x00\\xdf\\xff\\xb0\\xff\\xb0\\xff\\xa5\\xff\\x94\\xff\\x9d\\xff\\x90\\xffa\\xffa\\xff\\x85\\xff\\xa0\\xff\\xb1\\xff\\x8f\\xfff\\xffe\\xffm\\xff\\x84\\xff\\x92\\xff\\x85\\xff\\x85\\xff\\x9e\\xff\\xb5\\xff\\xb0\\xff\\xa0\\xff\\x9c\\xff\\xa7\\xff\\xc4\\xff\\xdb\\xff\\xbe\\xff\\xbf\\xff\\xe4\\xff\\xb4\\xffw\\xff\\x80\\xff\\x82\\xff\\x87\\xff\\xbc\\xff\\xe9\\xff\\xf0\\xff\\x05\\x00\\x1a\\x00\\x11\\x00\\x1a\\x00$\\x00#\\x005\\x00!\\x00\\x02\\x00!\\x00L\\x00?\\x00\\x16\\x00\\x0e\\x00\\x1c\\x001\\x00T\\x00S\\x00<\\x007\\x00\"\\x00\\n\\x00\\x10\\x00\\x1e\\x00\\x1c\\x00\\x11\\x00\\x01\\x00\\xf3\\xff\\xec\\xff\\xdc\\xff\\xd6\\xff\\xc0\\xff\\xaa\\xff\\xc5\\xff\\xbe\\xff\\xac\\xff\\xbd\\xff\\xc2\\xff\\xdf\\xff\\xf6\\xff\\xd8\\xff\\xd2\\xff\\xb8\\xffr\\xffv\\xff\\x8c\\xff\\x97\\xff\\xba\\xff\\xd8\\xff\\x0c\\x00-\\x00\\x19\\x00\\xff\\xff\\xf4\\xff\\t\\x00\\n\\x00\\xea\\xff\\xee\\xff\\xf4\\xff\\xe8\\xff\\x05\\x006\\x00<\\x00.\\x00\\x0e\\x00\\xcd\\xff\\x98\\xff\\x94\\xff\\xb4\\xff\\xcb\\xff\\xd0\\xff\\xeb\\xff\\xf5\\xff\\xed\\xff \\x00V\\x00j\\x00h\\x00:\\x00.\\x00<\\x00*\\x00T\\x00\\xac\\x00\\xde\\x00\\xe9\\x00\\xc8\\x00\\xb5\\x00\\xc4\\x00\\xa4\\x00\\x8b\\x00\\xa7\\x00\\xa3\\x00k\\x00+\\x00\\r\\x00\\x0c\\x00\\t\\x00\\x15\\x00#\\x00\\t\\x00\\xe8\\xff\\xf7\\xff\\x1a\\x00>\\x00h\\x00a\\x000\\x00!\\x000\\x00\\x14\\x00\\xed\\xff\\xef\\xff\\xe6\\xff\\xf3\\xff\\x18\\x00\\xf6\\xff\\xc8\\xff\\xba\\xff\\x9d\\xff\\xb1\\xff\\xd6\\xff\\xd0\\xff\\xd7\\xff\\xe0\\xff\\xec\\xff\\xed\\xff\\xe2\\xff\\x03\\x00$\\x00(\\x00 \\x00\\x1e\\x00+\\x007\\x009\\x005\\x00D\\x00>\\x00\"\\x00#\\x000\\x00H\\x00N\\x00F\\x00c\\x00b\\x00,\\x00\\x1a\\x00\\x17\\x00\\x0b\\x00\"\\x00M\\x00v\\x00\\x91\\x00\\x9c\\x00\\x86\\x00e\\x00o\\x00s\\x00Z\\x00[\\x00d\\x00Y\\x005\\x00\\x04\\x00\\xe4\\xff\\xc4\\xff\\xae\\xff\\xcd\\xff\\x0f\\x00!\\x00\\x18\\x00=\\x00&\\x00\\xe0\\xff\\xd4\\xff\\x9e\\xff[\\xff~\\xff\\x8e\\xffy\\xff\\x97\\xff\\xc9\\xff\\xf3\\xff\\xfc\\xff\\xea\\xff\\xc0\\xff\\x9e\\xff\\xc7\\xff\\x02\\x00\\x0f\\x00\\x02\\x00\\x15\\x001\\x00\\x0e\\x00\\x0f\\x00E\\x00K\\x00Z\\x00c\\x00Y\\x00t\\x00c\\x00<\\x007\\x00\\x1e\\x00,\\x00L\\x00,\\x00\\x01\\x00\\xf5\\xff\\xff\\xff\\x11\\x00*\\x00C\\x00C\\x00\\x15\\x00\\xd1\\xff\\xa8\\xff\\xa3\\xff\\xb2\\xff\\xc5\\xff\\xe4\\xff\\xe5\\xff\\xab\\xff\\x8d\\xff|\\xffj\\xff\\x84\\xff\\xa1\\xff\\xad\\xff\\xad\\xff\\xa2\\xff\\x97\\xff\\x83\\xffW\\xff`\\xff\\x8e\\xff\\x94\\xff\\xb9\\xff\\xce\\xff\\xa9\\xff\\xa6\\xff\\x94\\xffg\\xffR\\xff,\\xff\\xfe\\xfe\\xfd\\xfe\\x15\\xffI\\xff\\x89\\xffy\\xffM\\xffK\\xffC\\xff9\\xff&\\xff\\x16\\xff/\\xffO\\xffT\\xff?\\xff\\\\\\xff\\x8a\\xff\\x85\\xff\\xb7\\xff\\xef\\xff\\xe2\\xff\\x06\\x007\\x00\\x1b\\x00\\xe6\\xff\\xdf\\xff\\xfd\\xff\\xdc\\xff\\xa7\\xff\\xcb\\xff\\xe8\\xff\\xd0\\xff\\xd2\\xff\\xf5\\xff\\x12\\x00\\xed\\xff\\xb9\\xff\\xc8\\xff\\xcd\\xff\\xcd\\xff\\xdd\\xff\\xd5\\xff\\xd7\\xff\\xe2\\xff\\xff\\xff0\\x00=\\x005\\x003\\x00,\\x00+\\x001\\x005\\x00P\\x00]\\x00P\\x00i\\x00w\\x00o\\x00}\\x00\\x87\\x00r\\x00N\\x009\\x00-\\x00\\x19\\x00\\xff\\xff\\x08\\x00\\x1c\\x00\\x01\\x00\\xf7\\xff!\\x00=\\x00B\\x00A\\x00;\\x00&\\x00\\x10\\x00\\x07\\x00\\xed\\xff\\xde\\xff\\x02\\x00*\\x00J\\x00Z\\x00N\\x00`\\x00\\\\\\x00\\x1e\\x00\\x1a\\x00]\\x00r\\x00Q\\x00N\\x00G\\x00?\\x00N\\x009\\x00,\\x00I\\x00B\\x00\\x10\\x00\\x05\\x00!\\x00*\\x004\\x001\\x00\\r\\x00\\xee\\xff\\xe3\\xff\\x1d\\x00\\x82\\x00\\xad\\x00\\xc0\\x00\\xbd\\x00\\x86\\x00k\\x00P\\x008\\x00\\x84\\x00\\xd5\\x00\\xf6\\x00*\\x01c\\x01g\\x01/\\x01\\xf9\\x00\\xdc\\x00\\xcd\\x00\\xd9\\x00\\xe5\\x00\\xd6\\x00\\xa9\\x00H\\x00\\xfd\\xff\\x11\\x00\\x1b\\x00\\n\\x00#\\x00(\\x00\\x1b\\x00\\x1f\\x00+\\x00P\\x00]\\x00A\\x00*\\x00*\\x00R\\x00w\\x00r\\x00j\\x00\\\\\\x006\\x00>\\x00Y\\x00+\\x00\\x04\\x00\\t\\x00\\xf6\\xff\\xcc\\xff\\xc0\\xff\\xea\\xff\\x04\\x00\\xf1\\xff\\xfa\\xff\\x15\\x00*\\x00:\\x00\"\\x00\\x08\\x00\\x18\\x00$\\x00\\x11\\x00\\x17\\x00;\\x001\\x00\\r\\x00\\x07\\x00\\x19\\x00%\\x00,\\x004\\x004\\x00/\\x001\\x00T\\x00a\\x00>\\x00?\\x00g\\x00\\x89\\x00\\x95\\x00\\x8e\\x00\\x9b\\x00\\x9b\\x00|\\x00\\x91\\x00\\xa2\\x00q\\x00B\\x00/\\x00I\\x00P\\x00/\\x00#\\x00\\n\\x00\\xee\\xff\\xd3\\xff\\xca\\xff\\xe6\\xff\\xdf\\xff\\xe2\\xff\\xf1\\xff\\xca\\xff\\xaf\\xff\\x8a\\xff\\\\\\xffj\\xffp\\xffz\\xff\\x9b\\xff\\x96\\xff\\x84\\xffj\\xff`\\xffn\\xffS\\xffP\\xffk\\xffG\\xff8\\xffR\\xffT\\xff|\\xff\\xb6\\xff\\xce\\xff\\xeb\\xff\\xf9\\xff\\x07\\x00\\x1c\\x00\\x19\\x00;\\x00x\\x00\\x80\\x00S\\x00=\\x00O\\x00W\\x00W\\x00X\\x00Q\\x00F\\x008\\x00=\\x00I\\x00\\x16\\x00\\xd1\\xff\\xca\\xff\\xc9\\xff\\xc5\\xff\\xe9\\xff\\x0c\\x00\\x1a\\x00)\\x001\\x00:\\x005\\x00\\x05\\x00\\xeb\\xff\\x02\\x00\\xf5\\xff\\xcd\\xff\\xc5\\xff\\xb5\\xff\\x86\\xffk\\xff~\\xff\\x98\\xff\\x9e\\xff\\xab\\xff\\xb9\\xff\\x98\\xff\\x8d\\xff\\xae\\xff\\x9b\\xff\\x7f\\xffu\\xff\\\\\\xfft\\xff\\x98\\xff\\x9b\\xff\\xbe\\xff\\xbc\\xff{\\xffk\\xff|\\xff\\x84\\xff\\x96\\xff\\xc1\\xff\\xe1\\xff\\xcf\\xff\\xc3\\xff\\xdb\\xff\\xef\\xff\\x02\\x00\\n\\x00\\x00\\x00\\xf4\\xff\\xd7\\xff\\xb6\\xff\\xca\\xff\\xe0\\xff\\xb4\\xff\\xa1\\xff\\xcb\\xff\\xe1\\xff\\xd2\\xff\\xb4\\xff\\xa7\\xff\\xb0\\xff\\xb6\\xff\\xb7\\xff\\xa6\\xff\\xae\\xff\\xc7\\xff\\xc7\\xff\\xcd\\xff\\xca\\xff\\xdf\\xff\\xf1\\xff\\xd1\\xff\\xdc\\xff\\xf4\\xff\\xf9\\xff\\xf2\\xff\\xd0\\xff\\xcd\\xff\\xdb\\xff\\xe7\\xff\\xf7\\xff\\x02\\x00\\x06\\x00\\xe2\\xff\\xba\\xff\\xb8\\xff\\xc0\\xff\\xcf\\xff\\xe2\\xff\\xe6\\xff\\xe3\\xff\\xdb\\xff\\xce\\xff\\xda\\xff\\xff\\xff \\x00E\\x00M\\x00#\\x00\\x11\\x00\\x0b\\x00\\xe1\\xff\\xc6\\xff\\xc2\\xff\\xbf\\xff\\xba\\xff\\x92\\xffr\\xffy\\xff\\x7f\\xff\\x82\\xff\\x88\\xff\\x94\\xff\\xa8\\xff\\xbf\\xff\\xd2\\xff\\xdb\\xff\\xdf\\xff\\xcc\\xff\\xb0\\xff\\xb5\\xff\\xbf\\xff\\xd0\\xff\\xfb\\xff\\x13\\x00\\x13\\x00\\x10\\x00\\xff\\xff\\xe6\\xff\\x00\\x00\\x1a\\x00\\xec\\xff\\xdb\\xff\\xf0\\xff\\xe3\\xff\\xdc\\xff\\xe1\\xff\\xe8\\xff\\xfc\\xff\\xf6\\xff\\xe1\\xff\\xed\\xff\\xe0\\xff\\xa8\\xff\\xab\\xff\\xd9\\xff\\xf0\\xff\\x01\\x00\\n\\x00\\x02\\x00\\xff\\xff\\x11\\x00\\x16\\x00\\xfc\\xff\\x00\\x00\\x19\\x00\\x1a\\x00\\x16\\x00\\x1a\\x00 \\x00 \\x00\\x13\\x00\\x16\\x00\\x1f\\x00\\x13\\x00(\\x00a\\x00\\x85\\x00\\x9e\\x00\\xab\\x00\\x9e\\x00\\x82\\x00Y\\x005\\x00\\r\\x00\\xf4\\xff\\x07\\x00\\x03\\x00\\xf8\\xff\\x17\\x00\\'\\x00&\\x00,\\x00&\\x002\\x00J\\x00N\\x00k\\x00\\x80\\x00g\\x00^\\x00g\\x00u\\x00\\x81\\x00z\\x00z\\x00\\x86\\x00\\x91\\x00\\x84\\x00N\\x009\\x001\\x00\\x06\\x00\\x06\\x00\\x05\\x00\\xe5\\xff\\xe8\\xff\\xe0\\xff\\xcc\\xff\\xc0\\xff\\xb5\\xff\\xb5\\xff\\xa8\\xff\\x98\\xff\\xbb\\xff\\xde\\xff\\xca\\xff\\xc6\\xff\\xdc\\xff\\xe9\\xff\\xf6\\xff\\xf4\\xff\\xf7\\xff\\x01\\x00\\x0b\\x00\"\\x00\\x1e\\x00\\x03\\x00\\xff\\xff\\xfe\\xff\\xf8\\xff\\x01\\x00\\x0b\\x00\\x15\\x00*\\x00$\\x00\\t\\x00\\x1e\\x00D\\x00J\\x00V\\x00h\\x00h\\x00P\\x00B\\x00C\\x00*\\x00\\x16\\x00\\'\\x00I\\x00Q\\x00B\\x00I\\x00\\\\\\x00Y\\x00U\\x00j\\x00\\x8b\\x00\\xa0\\x00\\x9f\\x00\\x96\\x00\\x84\\x00n\\x00o\\x00l\\x00b\\x00c\\x00c\\x00q\\x00r\\x00=\\x00\\x0f\\x00\\xfc\\xff\\xdd\\xff\\xd2\\xff\\xda\\xff\\xd2\\xff\\xc6\\xff\\xb1\\xff\\xb1\\xff\\xd5\\xff\\xf1\\xff\\xef\\xff\\xc8\\xff\\xb3\\xff\\xce\\xff\\xc3\\xff\\xb2\\xff\\xd8\\xff\\xe5\\xff\\xda\\xff\\xe1\\xff\\xeb\\xff\\x0e\\x00.\\x006\\x00E\\x00J\\x008\\x00\\x0f\\x00\\t\\x00J\\x00U\\x00-\\x00H\\x00[\\x00P\\x00J\\x007\\x00H\\x00A\\x00\\x0c\\x00\\xf1\\xff\\xd1\\xff\\xb1\\xff\\xa2\\xff\\x95\\xff\\xa4\\xff\\xbe\\xff\\xd1\\xff\\xfc\\xff:\\x00v\\x00\\x87\\x00^\\x00S\\x00L\\x00\\x0c\\x00\\x07\\x00\\x16\\x00\\xe6\\xff\\xef\\xff\\x1e\\x00\\x16\\x00\\x02\\x00\\x00\\x00\\x04\\x00\\xf0\\xff\\xba\\xff\\xab\\xff\\xd0\\xff\\xe2\\xff\\xff\\xff\\x11\\x00\\xec\\xff\\xd3\\xff\\xd3\\xff\\xc6\\xff\\xbe\\xff\\xb3\\xff\\xba\\xff\\xdc\\xff\\xdf\\xff\\xcf\\xff\\xc5\\xff\\xc5\\xff\\xd4\\xff\\xd8\\xff\\xe1\\xff\\xfb\\xff\\x01\\x00\\x01\\x00\\xea\\xff\\xc2\\xff\\xc7\\xff\\xd4\\xff\\xcd\\xff\\xd4\\xff\\xca\\xff\\xc0\\xff\\xda\\xff\\xe8\\xff\\x01\\x000\\x00+\\x00\\xfc\\xff\\xee\\xff\\x01\\x00\\x0b\\x00\\x08\\x00\\xf2\\xff\\xd8\\xff\\xc6\\xff\\xb3\\xff\\xb0\\xff\\xb0\\xff\\x8e\\xffd\\xff@\\xff-\\xff,\\xff\\n\\xff\\xf1\\xfe\\xfb\\xfe\\x03\\xff$\\xff2\\xff\\x10\\xff\\x08\\xff\\x15\\xff\\x05\\xff\\xf0\\xfe\\xf2\\xfe\\xf6\\xfe\\x08\\xff@\\xff_\\xffI\\xffH\\xffL\\xff9\\xff6\\xffC\\xff`\\xffu\\xffj\\xffw\\xff\\xa3\\xff\\xbe\\xff\\xc0\\xff\\xbc\\xff\\xda\\xff\\xf8\\xff\\xe8\\xff\\xe1\\xff\\xd8\\xff\\xcf\\xff\\xe9\\xff\\xf6\\xff\\xfb\\xff\\x16\\x006\\x00N\\x00W\\x00R\\x00E\\x00,\\x00\\x15\\x00\"\\x00F\\x00V\\x00V\\x00r\\x00\\x8a\\x00\\x85\\x00\\x86\\x00{\\x00n\\x00[\\x00;\\x00;\\x006\\x00-\\x00J\\x00I\\x00F\\x00[\\x00S\\x00T\\x00E\\x00\"\\x00\\x18\\x00\\x0f\\x00\\x1e\\x00\\x1d\\x00\\xf9\\xff\\x0b\\x00.\\x00\\x17\\x00\\x10\\x00:\\x00H\\x00D\\x00G\\x00S\\x00}\\x00\\x88\\x00q\\x00b\\x00S\\x00E\\x00\\x1e\\x00\\x1d\\x00Y\\x00r\\x00t\\x00^\\x00$\\x002\\x00`\\x00M\\x00S\\x00\\x80\\x00|\\x00q\\x00u\\x00Z\\x00@\\x008\\x00#\\x00\\x0b\\x00\\x02\\x00\\x10\\x00\\x1b\\x00\\x19\\x00%\\x00\"\\x00\\x1b\\x00(\\x00,\\x00>\\x00b\\x00r\\x00i\\x00N\\x00:\\x000\\x00#\\x00\\x15\\x00\\xf4\\xff\\xcf\\xff\\xd3\\xff\\xd4\\xff\\xc2\\xff\\xc4\\xff\\xc8\\xff\\xb1\\xff\\xbc\\xff\\xf9\\xff\\x05\\x00\\xf7\\xff\\xef\\xff\\xeb\\xff\\x11\\x00&\\x00\\x1a\\x00\\x1c\\x00,\\x00F\\x00]\\x00f\\x00q\\x00\\x84\\x00~\\x00j\\x00g\\x00]\\x00M\\x00=\\x00*\\x005\\x00K\\x00G\\x00O\\x00]\\x00Y\\x00V\\x00D\\x00+\\x00\\x1a\\x00$\\x00@\\x00+\\x005\\x00[\\x00J\\x00G\\x00L\\x00:\\x00 \\x00\\x0f\\x00\\x04\\x00\\xe9\\xff\\xf0\\xff\\x11\\x00 \\x00\\x18\\x00\\xfa\\xff\\xe6\\xff\\xd3\\xff\\xc8\\xff\\xc6\\xff\\xb2\\xff\\xc8\\xff\\xe2\\xff\\xc9\\xff\\xc2\\xff\\xbf\\xff\\xcb\\xff\\xe7\\xff\\xb8\\xff\\xa5\\xff\\xe4\\xff\\xf5\\xff\\xed\\xff\\xe9\\xff\\xda\\xff\\xd7\\xff\\xd0\\xff\\xca\\xff\\xbf\\xff\\xa0\\xff\\x90\\xff\\x8f\\xff\\x80\\xfff\\xffo\\xff\\x87\\xff\\x88\\xff\\xa5\\xff\\xc8\\xff\\xc2\\xff\\xaf\\xff\\x9a\\xff\\x85\\xffw\\xffm\\xffn\\xff~\\xff\\x86\\xff~\\xff\\x83\\xff\\x93\\xff\\x94\\xff\\x8e\\xff\\xa3\\xff\\xa8\\xff\\x82\\xffn\\xffv\\xff\\x87\\xff\\x8a\\xff\\x98\\xff\\xa4\\xff\\x97\\xff\\x82\\xffq\\xffz\\xffp\\xffL\\xff)\\xff\\x19\\xff:\\xffF\\xffS\\xff\\x81\\xffk\\xffZ\\xff\\x91\\xff\\x95\\xff\\x8e\\xff\\xac\\xff\\xaa\\xff\\xb6\\xff\\xe1\\xff\\xe5\\xff\\xdf\\xff\\xf5\\xff\\xec\\xff\\xdb\\xff\\xf3\\xff\\xf6\\xff\\xff\\xff%\\x00\\x16\\x00\\xee\\xff\\xe5\\xff\\xe5\\xff\\xe9\\xff\\xe5\\xff\\xdf\\xff\\xef\\xff\\x14\\x00,\\x00\\'\\x007\\x00S\\x00\\\\\\x00R\\x00\\x1c\\x00\\xe2\\xff\\xd2\\xff\\xde\\xff\\xf6\\xff\\xf8\\xff\\xdb\\xff\\xb6\\xff\\xab\\xff\\xa4\\xff\\xa1\\xff\\xcf\\xff\\xf5\\xff\\xf1\\xff\\x12\\x00:\\x00$\\x00\\xfd\\xff\\xf2\\xff\\x13\\x00=\\x00=\\x004\\x00D\\x00N\\x00Q\\x00G\\x00C\\x00\\\\\\x00\\\\\\x00f\\x00\\x81\\x00x\\x00~\\x00\\x94\\x00\\x9b\\x00\\x92\\x00\\x93\\x00\\x8e\\x00s\\x00v\\x00s\\x00j\\x00s\\x00l\\x00t\\x00\\x83\\x00\\x86\\x00\\x93\\x00\\xa7\\x00\\xa2\\x00\\x9c\\x00\\x9e\\x00\\x86\\x00x\\x00q\\x00j\\x00p\\x00m\\x00g\\x00a\\x00[\\x00O\\x00A\\x00M\\x00h\\x00j\\x00Q\\x00M\\x00c\\x00k\\x00b\\x00c\\x00n\\x00x\\x00\\x85\\x00\\x8a\\x00\\x86\\x00\\x8b\\x00\\xa6\\x00\\xbe\\x00\\xce\\x00\\xf5\\x00\\xf8\\x00\\xe7\\x00\\xfe\\x00\\xe5\\x00\\xbb\\x00\\xad\\x00\\x95\\x00\\x9d\\x00\\xa8\\x00\\xad\\x00\\xb9\\x00\\xab\\x00\\x94\\x00\\x88\\x00z\\x00e\\x00r\\x00\\x81\\x00q\\x00u\\x00{\\x00s\\x00a\\x004\\x00\\x12\\x00\\x01\\x00\\xf5\\xff\\x05\\x00\\x1a\\x00.\\x00S\\x00\\x80\\x00\\x9e\\x00\\x94\\x00\\x85\\x00x\\x00S\\x00F\\x00I\\x005\\x00\\x1a\\x00\\x1d\\x00-\\x00\\x10\\x00\\xfb\\xff\\x0b\\x00\\x06\\x00\\x0f\\x00!\\x00\\xf6\\xff\\xc9\\xff\\xd6\\xff\\xdd\\xff\\xcc\\xff\\xcb\\xff\\xae\\xff\\x86\\xff\\x85\\xff\\x90\\xff\\x99\\xff\\xa3\\xff\\xa7\\xff\\x9f\\xff\\x8e\\xff\\x8b\\xff\\x8f\\xff\\x80\\xff\\x84\\xff\\x90\\xffh\\xff^\\xff\\x7f\\xffi\\xff`\\xff\\x83\\xff\\x92\\xff\\xb0\\xff\\xcf\\xff\\xd1\\xff\\xbf\\xff\\x99\\xff\\x93\\xff\\x9e\\xff\\x91\\xff\\x8c\\xff\\x90\\xff\\x97\\xff\\x9d\\xff\\x89\\xff}\\xff\\x88\\xff\\x7f\\xffy\\xffx\\xffo\\xff|\\xff\\x86\\xff\\x83\\xffc\\xff>\\xffH\\xffO\\xffS\\xffV\\xff:\\xff\\x1f\\xff \\xff@\\xffV\\xffZ\\xffs\\xff\\x85\\xff\\x81\\xffs\\xff}\\xff\\xa5\\xff\\xb0\\xff\\xb4\\xff\\xbb\\xff\\xae\\xff\\xcd\\xff\\xe4\\xff\\xb8\\xff\\xb2\\xff\\xc8\\xff\\xab\\xff\\x97\\xff\\xa1\\xff\\xa5\\xff\\xa8\\xff\\x8c\\xff|\\xff\\x90\\xffz\\xff\\x84\\xff\\xc2\\xff\\xc9\\xff\\xc8\\xff\\xe7\\xff\\xee\\xff\\xe2\\xff\\xee\\xff\\x05\\x00\\x06\\x00\\xf5\\xff\\xeb\\xff\\xf8\\xff\\n\\x00\\x11\\x00\\x04\\x00\\xdc\\xff\\xc1\\xff\\xcb\\xff\\xdd\\xff\\xea\\xff\\x00\\x00\\x08\\x00\\x12\\x00-\\x00\\x07\\x00\\xd1\\xff\\xed\\xff\\xfa\\xff\\xdd\\xff\\xec\\xff\\n\\x00\\x17\\x00\\x1a\\x00\\x0e\\x00\\x07\\x00!\\x00L\\x00K\\x00)\\x005\\x00c\\x00y\\x00\\x81\\x00m\\x00S\\x00a\\x00h\\x00q\\x00~\\x00\\x88\\x00\\x90\\x00|\\x00q\\x00t\\x00k\\x00h\\x00a\\x00Q\\x00_\\x00s\\x00\\x82\\x00\\x93\\x00t\\x00r\\x00\\xa2\\x00\\xa4\\x00\\xba\\x00\\xb8\\x00f\\x00T\\x00S\\x00#\\x00%\\x00&\\x000\\x00W\\x009\\x00>\\x00q\\x00A\\x00\\xf8\\xff\\xeb\\xff\\x10\\x00B\\x00<\\x00 \\x00\\'\\x009\\x00%\\x00\\xe5\\xff\\xbf\\xff\\x97\\xffg\\xff\\x81\\xff\\x8b\\xff\\x8e\\xff\\xda\\xff\\xf3\\xff\\xef\\xff\\x02\\x00\\xf8\\xff\\xf3\\xff\\xe4\\xff\\xd0\\xff\\xde\\xff\\xf2\\xff\\x06\\x000\\x00O\\x00A\\x005\\x00S\\x00r\\x00k\\x00`\\x00k\\x00c\\x00E\\x00\\'\\x00\\x1a\\x004\\x00=\\x00\\x11\\x00\\xe7\\xff\\xe5\\xff\\x00\\x00\\x12\\x00\\x0f\\x00\\x15\\x00\\x10\\x00\\xfe\\xff\\xeb\\xff\\xd4\\xff\\xd4\\xff\\xea\\xff\\xfc\\xff\\xec\\xff\\xc4\\xff\\xb4\\xff\\xa9\\xff\\x86\\xffq\\xff\\x80\\xff\\x92\\xff\\x94\\xff\\xb6\\xff\\xdb\\xff\\xcb\\xff\\xc9\\xff\\xcb\\xff\\xc4\\xff\\xf3\\xff\\x07\\x00\\xde\\xff\\xce\\xff\\xbb\\xff\\xb0\\xff\\xc6\\xff\\xc5\\xff\\xc1\\xff\\xc2\\xff\\xb6\\xff\\xb2\\xff\\x9d\\xffx\\xffY\\xff\\x1f\\xff\\x01\\xff\\x1c\\xff\\x02\\xff\\xdd\\xfe\\xe4\\xfe\\xda\\xfe\\xe3\\xfe\\x13\\xff)\\xff\\x06\\xff\\xfd\\xfe\\x12\\xff\\x11\\xff?\\xffW\\xffR\\xff|\\xff}\\xffk\\xffe\\xff{\\xff\\xa7\\xff\\x8f\\xff\\x7f\\xff\\x86\\xff\\xa0\\xff\\xd1\\xff\\xd9\\xff\\xf1\\xff\\x0f\\x00\\x0c\\x00\\xf7\\xff\\xf6\\xff%\\x00@\\x00N\\x00\\x84\\x00\\xd3\\x00\\xe6\\x00\\x98\\x00>\\x00\\xe7\\xff\\xad\\xff\\xa0\\xff\\xa0\\xff\\xd3\\xff(\\x00\\x15\\x00\\xb0\\xff\\x9c\\xff\\xb4\\xff\\xaa\\xff\\xc1\\xff\\xd6\\xff\\xc9\\xff\\xdc\\xff\\xef\\xff\\xfb\\xff\\x02\\x00\\xf1\\xff\\x14\\x001\\x00\\x03\\x00\\xff\\xff\\x11\\x00\\xf7\\xff\\x17\\x00M\\x00A\\x00P\\x00w\\x00V\\x00)\\x00\\x1b\\x00\"\\x00G\\x00h\\x00\\x87\\x00\\x96\\x00>\\x00\\xe3\\xff\\x00\\x008\\x00K\\x002\\x00\\x06\\x00\\xe3\\xff\\xb0\\xff\\xbd\\xff\\xe8\\xff\\xe3\\xff\\xf9\\xff\\x07\\x00\\xc9\\xff\\x97\\xff\\xbb\\xff\\xe3\\xff\\xf2\\xff\\xfb\\xff\\xdd\\xff\\xce\\xff\\xc1\\xff\\x91\\xff\\x90\\xff\\xb6\\xff\\xc2\\xff\\xb2\\xff\\x9f\\xff\\xa3\\xff\\xa0\\xff\\x99\\xff\\xc6\\xff\\xe3\\xff\\xe5\\xff\\x01\\x00\\x03\\x00\\xee\\xff\\xff\\xff\\x01\\x00\\xc9\\xff\\xa8\\xff\\xb0\\xff\\xa8\\xff\\xa0\\xff\\xa5\\xff\\xb5\\xff\\xbf\\xff\\xc4\\xff\\xe4\\xff\\xfc\\xff\\xfc\\xff\\xf4\\xff\\xeb\\xff\\xf4\\xff\\n\\x002\\x00E\\x00\\xfb\\xff\\x8c\\xffz\\xff\\xd2\\xff\"\\x00\\'\\x00 \\x00!\\x00\\x02\\x00\\x08\\x00\\x1f\\x00\\x06\\x00\\x07\\x00&\\x00:\\x00$\\x00\\xf6\\xff\\xf5\\xff\\x0e\\x00-\\x001\\x00=\\x00\\x87\\x00\\xbd\\x00\\xe4\\x00\\x0b\\x01\\xff\\x00\\xf6\\x00\\xf3\\x00\\xbd\\x00\\xab\\x00\\xc3\\x00\\xcc\\x00\\xd7\\x00\\xb6\\x00\\x80\\x00\\x94\\x00\\xc6\\x00\\xce\\x00\\xcd\\x00\\xce\\x00\\xc0\\x00\\x9b\\x00v\\x00k\\x00T\\x004\\x00*\\x00\\x1d\\x00\\x07\\x00\\xf5\\xff\\xe4\\xff\\xcb\\xff\\xcf\\xff\\xf6\\xff\\xfb\\xff\\xc0\\xff\\x85\\xff\\x94\\xff\\xb5\\xff\\xd0\\xff\\xed\\xff\\xd5\\xff\\xb3\\xff\\x91\\xff\\x80\\xff\\xd9\\xff\\'\\x00\\xfb\\xff\\xcb\\xff\\xb0\\xff\\x86\\xff\\x90\\xff\\xb8\\xff\\xc3\\xff\\xb2\\xff\\xa3\\xff\\xd6\\xff\\x12\\x00\\x0c\\x00\\xf8\\xff\\xce\\xff\\x9a\\xff\\xa9\\xff\\xdc\\xff\\xf1\\xff\\x0e\\x005\\x00S\\x00j\\x00\\\\\\x00]\\x00l\\x00Q\\x00I\\x00L\\x00I\\x00n\\x00\\x89\\x00e\\x00D\\x00a\\x00\\x84\\x00\\x87\\x00m\\x00W\\x00S\\x00)\\x00\\xf9\\xff\\xd9\\xff\\xda\\xff\\r\\x00\\x15\\x00\\x0b\\x00\\x16\\x00\\x19\\x00,\\x00\\x17\\x00\\xe9\\xff\\xf4\\xff\\xfe\\xff\\xd1\\xff\\xc3\\xff\\xfe\\xff8\\x00w\\x00\\xb5\\x00\\xac\\x00\\x89\\x00\\x98\\x00\\xba\\x00\\x97\\x00h\\x00|\\x00\\x9d\\x00\\xbb\\x00\\xbb\\x00\\x94\\x00\\x93\\x00\\xa6\\x00\\xa6\\x00\\x9b\\x00\\xa1\\x00\\xdf\\x00\\x06\\x01\\xe4\\x00\\xc1\\x00\\x98\\x00\\x84\\x00\\xb0\\x00\\xc3\\x00\\x9c\\x00v\\x00k\\x00v\\x00z\\x00k\\x00\\x8f\\x00\\xdd\\x00\\xdf\\x00\\xd6\\x00\\xd9\\x00\\xa5\\x00\\x8a\\x00\\x90\\x00\\x91\\x00\\xa6\\x00\\xc9\\x00\\xe7\\x00\\xed\\x00\\xec\\x00\\xea\\x00\\xc5\\x00\\xaa\\x00\\xcc\\x00\\xe9\\x00\\xde\\x00\\xcd\\x00\\xb2\\x00\\xae\\x00\\xa9\\x00u\\x00c\\x00f\\x00Y\\x00v\\x00\\x95\\x00}\\x00b\\x00Y\\x00V\\x00g\\x00r\\x00o\\x00v\\x00\\x85\\x00\\x92\\x00\\x82\\x00`\\x00M\\x00C\\x007\\x00$\\x00\\x03\\x00\\xf7\\xff%\\x00H\\x00P\\x00\\\\\\x00I\\x002\\x002\\x00\\x1b\\x00\\xfa\\xff\\xe1\\xff\\xfa\\xff3\\x000\\x00 \\x00#\\x00#\\x00/\\x00D\\x00h\\x00\\x84\\x00\\x84\\x00k\\x00M\\x005\\x00$\\x00\\x1e\\x00 \\x00\\x1f\\x00\\xf4\\xff\\xd8\\xff\\xe2\\xff\\xea\\xff\\n\\x00\\x19\\x00$\\x007\\x00-\\x001\\x007\\x000\\x00\\x1c\\x00\\x0b\\x00!\\x00\"\\x00\\x1d\\x00\\r\\x00\\xbb\\xff\\x87\\xff~\\xffi\\xff[\\xffB\\xff6\\xffM\\xffj\\xff\\x91\\xff\\xac\\xff\\xa0\\xff\\x96\\xff\\x99\\xff}\\xfff\\xff\\x91\\xff\\xaf\\xff\\xaa\\xff\\xb8\\xff\\xb0\\xff\\x9c\\xffw\\xffJ\\xffz\\xff\\xc0\\xff\\xe0\\xff\\xe5\\xff\\xb1\\xff\\x9c\\xff\\x9f\\xffs\\xffl\\xff\\xa6\\xff\\xdc\\xff\\xf5\\xff\\xf2\\xff\\xe7\\xff\\x11\\x007\\x00\\x19\\x00\\x10\\x00 \\x00&\\x002\\x00\\x07\\x00\\xab\\xff\\xa3\\xff\\xd7\\xff\\xdc\\xff\\xdb\\xff\\xc9\\xff\\xa1\\xff\\xb4\\xff\\xc8\\xff\\xca\\xff\\xd9\\xff\\xd3\\xff\\xd1\\xff\\xd0\\xff\\xb7\\xff\\xc3\\xff\\xe2\\xff\\xce\\xff\\xc2\\xff\\xd5\\xff\\xbe\\xff\\xa2\\xff\\xac\\xff\\xc0\\xff\\xc9\\xff\\xc6\\xff\\xc8\\xff\\xcd\\xff\\xb4\\xff\\x90\\xff\\xa1\\xff\\xa8\\xff\\x90\\xff\\x8b\\xff[\\xff!\\xff\\x10\\xff\\x0f\\xff*\\xffM\\xffk\\xffo\\xff[\\xffh\\xff_\\xff6\\xff:\\xffN\\xffV\\xffP\\xffG\\xffP\\xffY\\xffs\\xff\\x9d\\xff\\x9d\\xff\\x9f\\xff\\xc0\\xff\\xd7\\xff\\xd4\\xff\\xe0\\xff\\xfd\\xff\\xf1\\xff\\xec\\xff\\xf0\\xff\\xd6\\xff\\xd5\\xff\\xe3\\xff\\xe7\\xff\\xeb\\xff\\xe4\\xff\\xc9\\xff\\xaa\\xff\\x9b\\xff\\xba\\xff\\xee\\xff\\xe8\\xff\\xd3\\xff\\xc9\\xff\\xb7\\xff\\xc0\\xff\\xc2\\xff\\xb6\\xff\\xc0\\xff\\xe9\\xff*\\x00+\\x00\\xcf\\xff\\x86\\xff\\x8c\\xff\\x9b\\xff\\x8d\\xffq\\xff_\\xffc\\xffZ\\xffI\\xffC\\xffE\\xffP\\xffQ\\xffU\\xffx\\xff\\x85\\xff\\\\\\xff^\\xff\\x96\\xff\\xab\\xff\\xc6\\xff\\xf0\\xff\\xd8\\xff\\xab\\xff\\x92\\xff}\\xff\\xad\\xff\\x00\\x00\\xf3\\xff\\xb7\\xff\\xa1\\xff\\x88\\xff\\x89\\xff\\xb0\\xff\\xcc\\xff\\xeb\\xff\\xe8\\xff\\xd4\\xff\\xcf\\xff\\xbb\\xff\\xd2\\xff\\x1d\\x00T\\x00]\\x00Q\\x00j\\x00\\x89\\x00\\x92\\x00\\xae\\x00\\xbf\\x00\\x9a\\x00\\x83\\x00\\x86\\x00w\\x00m\\x00c\\x00Y\\x00K\\x00+\\x00*\\x00;\\x00(\\x00\\x07\\x00\\xf8\\xff\\xe5\\xff\\xd8\\xff\\xd4\\xff\\xbe\\xff\\xb1\\xff\\xac\\xff\\xbd\\xff\\xdb\\xff\\xd4\\xff\\xde\\xff\\xee\\xff\\xd9\\xff\\xc5\\xff\\xb8\\xff\\xc3\\xff\\xd8\\xff\\xc4\\xff\\xb2\\xff\\xcc\\xff\\xe2\\xff\\xe7\\xff\\xeb\\xff\\xef\\xff\\xf5\\xff\\xf8\\xff\\x11\\x003\\x004\\x00\\x1d\\x00\\x03\\x00\\xf4\\xff\\xf0\\xff\\xef\\xff\\xfa\\xff\\x05\\x00\\xed\\xff\\xcc\\xff\\xca\\xff\\xc0\\xff\\xaa\\xff\\xa2\\xff\\x91\\xff\\x86\\xff\\x97\\xff\\xa7\\xff\\xa6\\xff\\xa5\\xff\\xac\\xff\\xb4\\xff\\xc0\\xff\\xc5\\xff\\xb9\\xff\\xbf\\xff\\xdd\\xff\\x03\\x00\\x18\\x00\\x10\\x00\\x14\\x00(\\x00<\\x00@\\x006\\x00+\\x00\\x0b\\x00\\xed\\xff\\xd4\\xff\\xb6\\xff\\xb8\\xff\\xce\\xff\\xc9\\xff\\xb0\\xff\\xaf\\xff\\xb2\\xff\\x97\\xff\\x90\\xff\\xa1\\xff\\xb1\\xff\\xc9\\xff\\xc9\\xff\\xc8\\xff\\xe4\\xff\\xeb\\xff\\xec\\xff\\x00\\x00\\x04\\x00\\x1c\\x00<\\x009\\x00=\\x00(\\x00\\xf0\\xff\\xde\\xff\\x00\\x00)\\x00\\x1a\\x00\\xfa\\xff\\xfd\\xff\\x00\\x00\\x14\\x00\\x10\\x00\\xe0\\xff\\xd2\\xff\\xcb\\xff\\xb0\\xff\\xb7\\xff\\xe0\\xff\\xf7\\xff\\xf7\\xff\\x0c\\x00!\\x00\\x16\\x00\\xf6\\xff\\xe1\\xff\\x0e\\x00C\\x00K\\x00_\\x00k\\x00d\\x00o\\x00\\x83\\x00\\x9e\\x00\\xb8\\x00\\xa0\\x00u\\x00d\\x00^\\x00\\x81\\x00\\x95\\x00g\\x006\\x00\\t\\x00\\x06\\x00\\x1b\\x00\\xfd\\xff\\xfb\\xff\\x11\\x00\\t\\x00\\x01\\x00\\xe4\\xff\\xe6\\xff\\x1d\\x002\\x00/\\x00C\\x00I\\x00:\\x009\\x00>\\x000\\x00\\x1c\\x00%\\x004\\x003\\x00A\\x00M\\x00,\\x00\\x0b\\x00\\x15\\x00\\'\\x004\\x00L\\x00R\\x00G\\x003\\x00\\x1a\\x00\"\\x00C\\x00O\\x00]\\x00q\\x00Z\\x00F\\x00B\\x00\\x1e\\x00\\x1f\\x00H\\x00R\\x00M\\x00B\\x00?\\x00]\\x00c\\x00@\\x00%\\x001\\x00F\\x00<\\x007\\x008\\x00+\\x008\\x00^\\x00w\\x00}\\x00\\x82\\x00\\x9a\\x00\\xab\\x00\\x9d\\x00\\x88\\x00o\\x00X\\x00G\\x00C\\x00Q\\x00R\\x00Q\\x00T\\x00I\\x00=\\x00:\\x008\\x00C\\x00T\\x00M\\x009\\x00*\\x00+\\x00)\\x00\\r\\x00\\xf2\\xff\\xde\\xff\\xc5\\xff\\xc0\\xff\\xd8\\xff\\xf0\\xff\\x0f\\x00)\\x00\\x1c\\x00\\xf4\\xff\\xd8\\xff\\xd8\\xff\\xd8\\xff\\xe5\\xff\\x00\\x00\\xf8\\xff\\xf2\\xff\\x11\\x008\\x00V\\x00O\\x00\\'\\x00\\x19\\x00\\x1b\\x00\\t\\x00\\xf8\\xff\\xff\\xff\\x03\\x00\\xf0\\xff\\xd2\\xff\\xc6\\xff\\xe8\\xff\\xf5\\xff\\xe4\\xff\\xe5\\xff\\xd0\\xff\\xbb\\xff\\xc0\\xff\\xbc\\xff\\xad\\xff\\xae\\xff\\xbf\\xff\\xc1\\xff\\xb7\\xff\\xbd\\xff\\xe1\\xff\\xf9\\xff\\xf6\\xff\\xf1\\xff\\xd5\\xff\\xc2\\xff\\xdc\\xff\\xeb\\xff\\xe0\\xff\\xf5\\xff \\x003\\x008\\x00E\\x00>\\x00\"\\x00\\x0e\\x00\\xfc\\xff\\xf7\\xff\\x04\\x00\\x06\\x00\\xf3\\xff\\xd9\\xff\\xcf\\xff\\xbf\\xff\\xa2\\xff\\x9f\\xff\\x92\\xffp\\xffl\\xff~\\xff\\x9a\\xff\\xb5\\xff\\xb2\\xff\\xa3\\xff\\x9d\\xff\\x92\\xff\\x94\\xff\\x8f\\xffr\\xff\\x80\\xff\\xb5\\xff\\xd1\\xff\\xd4\\xff\\xc3\\xff\\xa7\\xff\\x81\\xffn\\xff\\x91\\xff\\xb8\\xff\\xae\\xff\\x91\\xffm\\xffB\\xff-\\xff\\x1f\\xff+\\xff?\\xff3\\xff<\\xff<\\xff4\\xffK\\xff_\\xff{\\xff\\x90\\xff\\x96\\xff\\xaa\\xff\\xc6\\xff\\xdb\\xff\\xd8\\xff\\xd4\\xff\\xeb\\xff\\xed\\xff\\xc8\\xff\\xc4\\xff\\xd4\\xff\\xc7\\xff\\xb7\\xff\\xb3\\xff\\xbd\\xff\\xc2\\xff\\xc5\\xff\\xdc\\xff\\xdd\\xff\\xe8\\xff\\x0b\\x00\\x12\\x00\\x1b\\x00\\x15\\x00\\xf3\\xff\\xe4\\xff\\xdd\\xff\\xdd\\xff\\xdf\\xff\\xe2\\xff\\xed\\xff\\xf8\\xff\\r\\x00\\x19\\x00\\x10\\x00\\xfe\\xff\\xeb\\xff\\xfd\\xff\\x1c\\x00\\x19\\x00\\t\\x00\\xf2\\xff\\xe1\\xff\\xeb\\xff\\xd9\\xff\\xb7\\xff\\xbe\\xff\\xb8\\xff\\xb2\\xff\\xbe\\xff\\xbe\\xff\\xca\\xff\\xce\\xff\\xb2\\xff\\x96\\xff\\x99\\xff\\xb7\\xff\\xdc\\xff\\xeb\\xff\\xe1\\xff\\xce\\xff\\xb5\\xff\\xac\\xff\\xc0\\xff\\xcc\\xff\\xd6\\xff\\xd3\\xff\\xc4\\xff\\xd8\\xff\\xd9\\xff\\xbe\\xff\\xb4\\xff\\xac\\xff\\xb4\\xff\\xb8\\xff\\x9e\\xff\\x96\\xff\\x8e\\xffv\\xffq\\xffr\\xff\\x7f\\xff\\x98\\xff\\xa3\\xff\\xa4\\xff\\x92\\xff\\x9c\\xff\\xce\\xff\\xde\\xff\\xe2\\xff\\x01\\x00!\\x00\\'\\x00\\x17\\x00\\x16\\x00\\x13\\x00\\x10\\x003\\x00=\\x00\\x1c\\x00\\x1c\\x007\\x00?\\x00A\\x00C\\x00L\\x00X\\x00P\\x00P\\x00o\\x00\\x97\\x00\\xb7\\x00\\xc2\\x00\\xbf\\x00\\xbc\\x00\\xa6\\x00\\x9c\\x00\\xb4\\x00\\xbd\\x00\\xb3\\x00\\xb2\\x00\\xb9\\x00\\xb3\\x00\\xa0\\x00\\x99\\x00\\x88\\x00l\\x00j\\x00~\\x00\\x82\\x00f\\x00O\\x009\\x00\\x1f\\x00\\x0e\\x00\\t\\x00\\x1f\\x00)\\x00*\\x00-\\x00\\x1c\\x00\\x1c\\x00/\\x00T\\x00z\\x00}\\x00w\\x00p\\x00f\\x00N\\x00?\\x00O\\x00X\\x00i\\x00|\\x00{\\x00\\x8b\\x00\\x91\\x00\\x81\\x00m\\x00F\\x00)\\x00/\\x001\\x000\\x00?\\x00L\\x00N\\x00?\\x00/\\x00:\\x00O\\x00G\\x00E\\x00L\\x00&\\x00\\x04\\x00\\x03\\x00\\x00\\x00\\xfc\\xff\\xea\\xff\\xdc\\xff\\xee\\xff\\xff\\xff\\xfb\\xff\\x01\\x00#\\x00;\\x00*\\x00%\\x00<\\x00B\\x00:\\x00>\\x00<\\x00\\x1a\\x00\\x02\\x00\\x1f\\x00@\\x00;\\x00L\\x00s\\x00h\\x00[\\x00\\\\\\x00K\\x00M\\x00N\\x00E\\x00D\\x00>\\x00?\\x001\\x00\\x05\\x00\\xe5\\xff\\xe5\\xff\\xf6\\xff\\x00\\x00\\x00\\x00\\xfb\\xff\\xf8\\xff\\xeb\\xff\\xd5\\xff\\xd6\\xff\\xd4\\xff\\xc2\\xff\\xba\\xff\\xbf\\xff\\xcf\\xff\\xd5\\xff\\xda\\xff\\xdf\\xff\\xdb\\xff\\xdf\\xff\\xd9\\xff\\xdc\\xff\\xed\\xff\\x05\\x00/\\x00.\\x00\\x07\\x00\\xf6\\xff\\xf4\\xff\\xf9\\xff\\xf8\\xff\\xdf\\xff\\xc6\\xff\\xc2\\xff\\xc5\\xff\\xd6\\xff\\xf5\\xff\\xfb\\xff\\xf8\\xff\\x14\\x00\\'\\x00(\\x008\\x00;\\x00%\\x00\\x1b\\x00\\x18\\x00\\x15\\x00\\x16\\x00\\x15\\x00%\\x00>\\x00F\\x00K\\x00=\\x00\\x13\\x00\\xfa\\xff\\xea\\xff\\xda\\xff\\xdd\\xff\\xe1\\xff\\xe2\\xff\\xf1\\xff\\x02\\x00\\xfa\\xff\\xce\\xff\\xb6\\xff\\xc7\\xff\\xd9\\xff\\xdf\\xff\\xc8\\xff\\xae\\xff\\xb3\\xff\\xc0\\xff\\xc8\\xff\\xc5\\xff\\xb6\\xff\\xb6\\xff\\xc1\\xff\\xc4\\xff\\xc5\\xff\\xb7\\xff\\xab\\xff\\xc5\\xff\\xcf\\xff\\xbd\\xff\\xae\\xff\\x9f\\xff\\xab\\xff\\xc2\\xff\\xc0\\xff\\xbc\\xff\\xce\\xff\\xef\\xff\\t\\x00\\x1b\\x00&\\x00.\\x00G\\x00C\\x00\\x19\\x00!\\x00:\\x00\\x1a\\x00\\xeb\\xff\\xcc\\xff\\xc1\\xff\\xce\\xff\\xc8\\xff\\xb7\\xff\\xad\\xff\\xa4\\xff\\x99\\xff\\x90\\xff\\x8f\\xff\\x8b\\xff\\x81\\xffn\\xffW\\xffY\\xffd\\xff`\\xff\\\\\\xffs\\xff\\x90\\xff\\x8e\\xff~\\xff\\x80\\xff\\x7f\\xff{\\xff\\x82\\xff\\x86\\xffu\\xffi\\xffy\\xff{\\xffq\\xffj\\xffc\\xffy\\xff\\x95\\xff\\xa3\\xff\\xa4\\xff\\x8e\\xff\\x85\\xff\\x92\\xff\\xa7\\xff\\xb2\\xff\\xad\\xff\\xb0\\xff\\xc0\\xff\\xd5\\xff\\xcb\\xff\\xbf\\xff\\xcd\\xff\\xd2\\xff\\xd3\\xff\\xe3\\xff\\xfd\\xff\\xf4\\xff\\xcd\\xff\\xca\\xff\\xd4\\xff\\xd1\\xff\\xdf\\xff\\x08\\x00&\\x00\\'\\x00&\\x00=\\x00D\\x00#\\x00\\x0f\\x00\\x08\\x00\\x07\\x00\\x0c\\x00\\x14\\x00/\\x00?\\x008\\x006\\x008\\x001\\x002\\x00S\\x00i\\x00e\\x00c\\x00X\\x00L\\x00C\\x00.\\x00\\x15\\x00\\x15\\x00-\\x002\\x001\\x008\\x00\\'\\x00\\x18\\x00#\\x000\\x000\\x00*\\x00,\\x00,\\x00\\x1c\\x00%\\x00C\\x00<\\x009\\x00G\\x00\\x1d\\x00\\xf1\\xff\\xf9\\xff\\x08\\x00\\x0c\\x00\\x03\\x00\\xf6\\xff\\xf3\\xff\\xea\\xff\\xe7\\xff\\xf7\\xff\\x04\\x00\\xff\\xff\\x0e\\x00.\\x004\\x00<\\x00]\\x00n\\x00y\\x00\\x8e\\x00\\x98\\x00\\x98\\x00\\xa2\\x00\\xbf\\x00\\xbf\\x00\\xa8\\x00\\xa8\\x00\\xa0\\x00\\x91\\x00\\x82\\x00k\\x00Y\\x007\\x00\\x1d\\x00%\\x008\\x00:\\x00\\x13\\x00\\xe6\\xff\\xd0\\xff\\xc7\\xff\\xc5\\xff\\xba\\xff\\xb6\\xff\\xc9\\xff\\xd8\\xff\\xe3\\xff\\xee\\xff\\xee\\xff\\xf0\\xff\\xf0\\xff\\xff\\xff\\x06\\x00\\xe4\\xff\\xd0\\xff\\xd9\\xff\\xee\\xff\\xe5\\xff\\xc6\\xff\\xca\\xff\\xbd\\xff\\xa7\\xff\\xa6\\xff\\xa5\\xff\\xa9\\xff\\x90\\xff\\x80\\xff\\x86\\xff\\x82\\xff\\x95\\xff\\xa2\\xff\\xa9\\xff\\xb5\\xff\\xa2\\xff\\x98\\xff\\xa0\\xff\\x9a\\xff\\xb7\\xff\\xeb\\xff\\xf6\\xff\\n\\x00<\\x00G\\x00<\\x009\\x001\\x003\\x008\\x00G\\x00]\\x00_\\x00S\\x00@\\x008\\x006\\x003\\x00B\\x00H\\x002\\x00\\x16\\x00\\x07\\x00\\x00\\x00\\xfb\\xff\\xf3\\xff\\xec\\xff\\xee\\xff\\xe5\\xff\\xe6\\xff\\xf9\\xff\\xfc\\xff\\xf6\\xff\\xf2\\xff\\xe2\\xff\\xd5\\xff\\xd3\\xff\\xc9\\xff\\xb7\\xff\\xac\\xff\\xb2\\xff\\xb2\\xff\\xad\\xff\\xb0\\xff\\xb3\\xff\\xbc\\xff\\xb9\\xff\\xc8\\xff\\xea\\xff\\xf2\\xff\\xf4\\xff\\xfb\\xff\\x03\\x00(\\x00N\\x00-\\x00\\t\\x00A\\x00u\\x00Y\\x002\\x00;\\x00P\\x003\\x00\\x04\\x00\\xf4\\xff\\xf1\\xff\\xdf\\xff\\xd7\\xff\\xe1\\xff\\xda\\xff\\xc0\\xff\\xaf\\xff\\xb2\\xff\\xc0\\xff\\xce\\xff\\xe0\\xff\\xfe\\xff$\\x00\\x1c\\x00\\xfa\\xff\\n\\x002\\x00A\\x007\\x00\\x14\\x00\\xf6\\xff\\xe7\\xff\\xd0\\xff\\xd3\\xff\\xd8\\xff\\xbc\\xff\\xb3\\xff\\xb3\\xff\\xa7\\xff\\xa5\\xff\\xac\\xff\\xba\\xff\\xba\\xff\\xbc\\xff\\xd1\\xff\\xd9\\xff\\xce\\xff\\xc9\\xff\\xb9\\xff\\x9a\\xff\\x9a\\xff\\xaa\\xff\\xc4\\xff\\xec\\xff\\x03\\x00\\x13\\x00\\x0c\\x00\\xfc\\xff\\xf2\\xff\\xc9\\xff\\xb5\\xff\\xbf\\xff\\xc4\\xff\\xe4\\xff\\x08\\x00\\x17\\x00\\n\\x00\\xfd\\xff\\x0e\\x00\\x1c\\x003\\x00T\\x00_\\x00e\\x00u\\x00\\x87\\x00\\x82\\x00m\\x00g\\x00g\\x00]\\x00X\\x00j\\x00r\\x00`\\x00N\\x00@\\x00C\\x00H\\x00.\\x00\\x16\\x00\\x1b\\x00*\\x001\\x00,\\x00\\x15\\x00\\x00\\x00\\x02\\x00\\t\\x00\\x10\\x00$\\x00<\\x00H\\x00V\\x00e\\x00X\\x00U\\x00x\\x00\\x85\\x00}\\x00\\x86\\x00\\x87\\x00t\\x00k\\x00q\\x00h\\x00Y\\x00n\\x00|\\x00d\\x00`\\x00S\\x00>\\x00k\\x00\\x93\\x00\\x86\\x00y\\x00d\\x00S\\x00b\\x00|\\x00\\x88\\x00\\x8c\\x00\\x97\\x00\\x9d\\x00\\xa1\\x00\\xb5\\x00\\xbb\\x00\\xb6\\x00\\xbc\\x00\\xb8\\x00\\xa8\\x00\\xa3\\x00\\xb3\\x00\\xb9\\x00\\xa9\\x00\\xa2\\x00\\x93\\x00w\\x00j\\x00^\\x00U\\x00L\\x00*\\x00\\x1a\\x00\\x18\\x00\\xfd\\xff\\xef\\xff\\xdd\\xff\\xb9\\xff\\xc4\\xff\\xd2\\xff\\xc4\\xff\\xc6\\xff\\xde\\xff\\xf9\\xff\\xfd\\xff\\n\\x000\\x005\\x00*\\x00\\'\\x00#\\x00 \\x00\\x00\\x00\\xd0\\xff\\xc1\\xff\\xec\\xff\\x11\\x00\\xda\\xff\\xc0\\xff\\x16\\x00N\\x00C\\x00J\\x00P\\x00)\\x000\\x00r\\x00\\x8e\\x00\\x9a\\x00\\xa2\\x00b\\x00E\\x00\\xa0\\x00\\xc9\\x00\\xb7\\x00\\xc0\\x00\\x97\\x00~\\x00\\x8b\\x00\\x83\\x00\\x80\\x00{\\x00c\\x00G\\x00S\\x00c\\x00W\\x00d\\x00t\\x00{\\x00x\\x00a\\x00`\\x00_\\x00S\\x00N\\x001\\x00(\\x00-\\x00\\x0b\\x00\\xf6\\xff\\xe5\\xff\\xce\\xff\\xd0\\xff\\xc7\\xff\\xc0\\xff\\xc9\\xff\\xc7\\xff\\xb5\\xff\\xa7\\xff\\x9a\\xff\\x7f\\xffy\\xff\\x88\\xff\\x95\\xff\\xac\\xff\\xc1\\xff\\xc1\\xff\\xb2\\xff\\x98\\xff\\x98\\xff\\xc5\\xff\\xe0\\xff\\xdf\\xff\\xd2\\xff\\xb2\\xff\\xa0\\xff\\xb0\\xff\\xd3\\xff\\xdd\\xff\\xc3\\xff\\xbf\\xff\\xcb\\xff\\xb5\\xff\\x9f\\xff\\xb7\\xff\\xd0\\xff\\xd5\\xff\\xc7\\xff\\xbf\\xff\\xe2\\xff\\xec\\xff\\xd3\\xff\\xc3\\xff\\xb6\\xff\\xba\\xff\\xc6\\xff\\xd0\\xff\\xc1\\xff\\xa7\\xff\\xac\\xff\\xa1\\xff\\xa7\\xff\\xb7\\xff\\x9f\\xff\\xa0\\xff\\xb0\\xff\\xa7\\xff\\x91\\xff}\\xffl\\xff^\\xfff\\xffo\\xffw\\xff\\x8c\\xff\\xaf\\xff\\xba\\xff\\x9d\\xff\\x9b\\xff\\xae\\xff\\xbf\\xff\\xdc\\xff\\xe2\\xff\\xd0\\xff\\xc5\\xff\\xc4\\xff\\xc2\\xff\\xac\\xff\\x9e\\xff\\xa3\\xff\\x9c\\xff\\x92\\xff\\x93\\xff\\xa3\\xff\\xa7\\xff\\xa8\\xff\\xb6\\xff\\xab\\xff\\xa8\\xff\\xb4\\xff\\xb2\\xff\\xb2\\xff\\xc6\\xff\\xea\\xff\\xf1\\xff\\xe1\\xff\\xe1\\xff\\xf5\\xff\\x07\\x00\\x10\\x00*\\x00?\\x00;\\x009\\x00E\\x008\\x00\\x1e\\x00\\x18\\x00\\t\\x00\\xfd\\xff\\xfa\\xff\\xe5\\xff\\xd3\\xff\\xc5\\xff\\xb3\\xff\\x9d\\xff\\x86\\xff\\x91\\xff\\x9a\\xff\\x93\\xff\\xa2\\xff\\xa0\\xff\\x85\\xffu\\xff\\x88\\xff\\x9a\\xff\\x8f\\xff\\xaf\\xff\\xed\\xff\\x01\\x00\\xff\\xff\\x01\\x00\\x0f\\x00\\x13\\x00\\xfa\\xff\\xd8\\xff\\xc5\\xff\\xb3\\xff\\xb1\\xff\\xb3\\xff\\x8f\\xff\\x8a\\xff\\xa5\\xff\\x97\\xffw\\xffp\\xffz\\xff~\\xff}\\xff\\x86\\xff\\x85\\xff{\\xff\\x82\\xff\\x98\\xff\\x92\\xff\\x91\\xff\\xc1\\xff\\xe3\\xff\\xeb\\xff\\xf9\\xff\\xef\\xff\\xe5\\xff\\xe6\\xff\\xd6\\xff\\xca\\xff\\xcd\\xff\\xd3\\xff\\xe6\\xff\\xf4\\xff\\xfe\\xff\\x10\\x00\\x04\\x00\\xee\\xff\\xf7\\xff\\xfb\\xff\\xfd\\xff\\xf3\\xff\\xce\\xff\\xc6\\xff\\xc5\\xff\\xbc\\xff\\xd1\\xff\\xd4\\xff\\xba\\xff\\xbc\\xff\\xc2\\xff\\xa8\\xff\\xac\\xff\\xe1\\xff\\xfd\\xff\\xf9\\xff\\x00\\x00\\r\\x00\\x1d\\x00*\\x00\\x14\\x00\\xf6\\xff\\xf3\\xff\\xee\\xff\\xed\\xff\\xfe\\xff\\xfc\\xff\\xde\\xff\\xd0\\xff\\xda\\xff\\xe0\\xff\\xe0\\xff\\xd9\\xff\\xcd\\xff\\xd4\\xff\\xe7\\xff\\xed\\xff\\xe5\\xff\\xdf\\xff\\xd1\\xff\\xbe\\xff\\xb9\\xff\\xb4\\xff\\xb8\\xff\\xce\\xff\\xdc\\xff\\xe3\\xff\\xe4\\xff\\xe3\\xff\\xf1\\xff\\x08\\x00\\x1f\\x00,\\x003\\x00L\\x00`\\x00`\\x00j\\x00o\\x00[\\x00Z\\x00i\\x00d\\x00\\\\\\x00X\\x00N\\x00[\\x00g\\x00S\\x00E\\x00D\\x00A\\x00M\\x00S\\x00D\\x00C\\x00<\\x00-\\x00&\\x00*\\x00Q\\x00u\\x00l\\x00Y\\x00|\\x00\\xb2\\x00\\xa8\\x00\\x99\\x00\\xa7\\x00\\xa1\\x00\\x9d\\x00\\x9d\\x00\\x8c\\x00{\\x00c\\x00<\\x00$\\x00\\x13\\x00\\xfa\\xff\\xfb\\xff\\x10\\x00\\x1c\\x00-\\x00/\\x00-\\x00K\\x00T\\x00D\\x00>\\x00:\\x00D\\x00N\\x00T\\x00^\\x00R\\x00U\\x00e\\x00W\\x00H\\x004\\x005\\x00R\\x00O\\x00O\\x00i\\x00g\\x00B\\x00*\\x00<\\x00Q\\x00?\\x00*\\x00+\\x00,\\x00\\x15\\x00\\x05\\x00\\x1f\\x00$\\x00\\x01\\x00\\xe9\\xff\\xda\\xff\\xe9\\xff\\x04\\x00\\x07\\x00\\x0e\\x00\\x05\\x00\\xfa\\xff\\x01\\x00\\xf0\\xff\\xde\\xff\\xe9\\xff\\xee\\xff\\xe8\\xff\\xf1\\xff\\x02\\x00\\xfc\\xff\\x00\\x00/\\x004\\x00\\r\\x00\\t\\x00\\xfd\\xff\\xe7\\xff\\xfc\\xff\\xfc\\xff\\xf2\\xff\\xf9\\xff\\xf5\\xff\\xf9\\xff\\xc5\\xff\\xeb\\xffV\\x00\\x17\\x00\\x11\\x00^\\x00\\x86\\x00~\\x002\\x00J\\x00\\x81\\x00k\\x00B\\x00D\\x00V\\x00#\\x00\\x08\\x00\\x19\\x002\\x00F\\x00\\x11\\x00\\xde\\xff\\xcf\\xff\\xae\\xff\\x96\\xff\\x85\\xff\\x82\\xff\\x9a\\xff\\xa7\\xff\\xb5\\xff\\xd4\\xff\\xe2\\xff\\xdc\\xff\\xd6\\xff\\xcd\\xff\\xc3\\xff\\xbf\\xff\\xc4\\xff\\xca\\xff\\xcf\\xff\\xcc\\xff\\xc8\\xff\\xd0\\xff\\xcd\\xff\\xbd\\xff\\xb4\\xff\\xb6\\xff\\xc3\\xff\\xb7\\xff\\xa3\\xff\\xbb\\xff\\xd1\\xff\\xbb\\xff\\xa7\\xff\\x9f\\xff\\xa2\\xff\\xb9\\xff\\xc9\\xff\\xcf\\xff\\xc3\\xff\\xb7\\xff\\xbb\\xff\\xb4\\xff\\xa8\\xff\\xae\\xff\\xdb\\xff\\xf7\\xff\\xde\\xff\\xf9\\xff1\\x00&\\x00\\x1d\\x00*\\x00\\x18\\x00\\x1f\\x00*\\x00\\x06\\x00\\xf0\\xff\\xec\\xff\\xd8\\xff\\xc7\\xff\\xcc\\xff\\xd4\\xff\\xdc\\xff\\xdf\\xff\\xd3\\xff\\xd9\\xff\\xda\\xff\\xd1\\xff\\xe2\\xff\\xdb\\xff\\xc4\\xff\\xc4\\xff\\xaa\\xff\\x8e\\xff\\x97\\xff\\xa7\\xff\\xab\\xff\\xa7\\xff\\xb0\\xff\\xbd\\xff\\xbc\\xff\\xc0\\xff\\xca\\xff\\xd1\\xff\\xcd\\xff\\xbe\\xff\\xb8\\xff\\xbc\\xff\\xd7\\xff\\x01\\x00\\r\\x00\\x0b\\x00\\x15\\x00\\x16\\x00\\t\\x00\\x00\\x00\\x15\\x00/\\x00\\'\\x00\\x1f\\x00\"\\x00 \\x00\\x16\\x00\\x05\\x00\\xfe\\xff\\x00\\x00\\x10\\x00)\\x00.\\x00%\\x00!\\x00\\'\\x00-\\x00*\\x00/\\x005\\x00 \\x00\\x13\\x00\\x11\\x00\\x07\\x00\\x15\\x00\\x11\\x00\\x05\\x00\\x15\\x00\\x1d\\x00\"\\x00!\\x00\\x1b\\x00\\x19\\x00\\x04\\x00\\xf5\\xff\\xe8\\xff\\xdf\\xff\\xee\\xff\\xe9\\xff\\xd2\\xff\\xdb\\xff\\xdf\\xff\\xc7\\xff\\xc2\\xff\\xc8\\xff\\xd7\\xff\\xde\\xff\\xe3\\xff\\xf5\\xff\\xed\\xff\\xfd\\xff%\\x00#\\x00\\x13\\x00\\x12\\x00!\\x00!\\x00\\x07\\x00\\xed\\xff\\xe9\\xff\\xfd\\xff\\xff\\xff\\xf1\\xff\\xe5\\xff\\xd1\\xff\\xcc\\xff\\xce\\xff\\xce\\xff\\xd9\\xff\\xdc\\xff\\xd9\\xff\\xd3\\xff\\xcf\\xff\\xd3\\xff\\xdb\\xff\\xf6\\xff\\x06\\x00\\xee\\xff\\xd0\\xff\\xcf\\xff\\xd8\\xff\\xc5\\xff\\xaf\\xff\\xb3\\xff\\xb6\\xff\\xb6\\xff\\xba\\xff\\xac\\xff\\x94\\xff\\x8a\\xff\\x80\\xffw\\xffp\\xffb\\xff[\\xffS\\xffJ\\xff@\\xff4\\xff>\\xffG\\xffF\\xffR\\xffU\\xffY\\xffq\\xffw\\xffq\\xff\\x7f\\xff\\x9c\\xff\\xaa\\xff\\x95\\xff\\x80\\xffu\\xffu\\xff\\x8e\\xff\\x8d\\xfft\\xffx\\xff\\x8a\\xff\\x99\\xff\\x95\\xff\\x7f\\xffn\\xffZ\\xffJ\\xffL\\xffF\\xff:\\xffH\\xff\\\\\\xffH\\xff9\\xffU\\xff`\\xffK\\xffc\\xff\\x8e\\xff\\x86\\xff{\\xff\\x89\\xff\\x9d\\xff\\xae\\xff\\xa7\\xff\\x98\\xff\\x96\\xff\\x9a\\xff\\xa4\\xff\\xa8\\xff\\x9a\\xff\\x83\\xffz\\xff\\x80\\xffv\\xffg\\xffs\\xffu\\xffv\\xff\\x85\\xff\\x88\\xff\\x8d\\xff\\x93\\xff\\xa0\\xff\\x9b\\xff\\x8a\\xff\\xb5\\xff\\xda\\xff\\xdd\\xff\\xd6\\xff\\xbf\\xff\\xe6\\xff\\xfc\\xff\\xd2\\xff\\xe7\\xff\\x0b\\x00 \\x002\\x00\\x18\\x00\\x11\\x00\\x1a\\x00\\x0f\\x00\\x1e\\x00/\\x00/\\x00B\\x00G\\x009\\x00F\\x00G\\x00<\\x00G\\x00G\\x00=\\x00%\\x00\\x14\\x00\\x17\\x00\\r\\x00\\x0c\\x00\\x0e\\x00\\x15\\x00?\\x00Z\\x00\\\\\\x00Y\\x00F\\x00<\\x00G\\x00S\\x00U\\x00_\\x00j\\x00q\\x00\\x87\\x00\\x89\\x00t\\x00v\\x00\\x8d\\x00\\xa0\\x00\\xb6\\x00\\xbd\\x00\\xc5\\x00\\xe3\\x00\\xdc\\x00\\xae\\x00\\x9c\\x00\\x98\\x00\\x85\\x00\\x85\\x00\\x85\\x00}\\x00w\\x00Y\\x00B\\x00Q\\x00]\\x00S\\x00V\\x00s\\x00}\\x00w\\x00\\x8e\\x00\\xa0\\x00}\\x00J\\x002\\x001\\x00)\\x00\\x10\\x00\\r\\x00\\x1e\\x00\\x1a\\x00#\\x00E\\x00<\\x00+\\x00I\\x00p\\x00\\x80\\x00h\\x00[\\x00a\\x00J\\x006\\x00<\\x00P\\x00l\\x00u\\x00u\\x00\\x8f\\x00\\xa4\\x00\\xab\\x00\\xbe\\x00\\xc6\\x00\\xc2\\x00\\xb0\\x00\\xa0\\x00\\xa9\\x00\\x96\\x00x\\x00l\\x00a\\x00g\\x00\\\\\\x00U\\x00d\\x00V\\x00[\\x00m\\x00j\\x00m\\x00t\\x00v\\x00h\\x00e\\x00x\\x00j\\x00O\\x00S\\x00d\\x00\\x80\\x00\\x98\\x00\\xa6\\x00\\xa5\\x00\\x85\\x00e\\x00[\\x00[\\x00[\\x00X\\x00X\\x00U\\x00D\\x005\\x00,\\x00\\x1f\\x00\\x11\\x00\\x12\\x00-\\x00/\\x00\"\\x001\\x00F\\x00V\\x00V\\x00I\\x00J\\x00O\\x00k\\x00\\x97\\x00\\xa4\\x00\\xaa\\x00\\xa9\\x00\\x8f\\x00\\x84\\x00u\\x00K\\x00*\\x00\\x1d\\x00-\\x009\\x00!\\x00\\x15\\x00\\x10\\x00\\x03\\x00\\xf7\\xff\\xe9\\xff\\xe1\\xff\\xd4\\xff\\xbb\\xff\\x9b\\xff\\x91\\xff\\xaa\\xff\\xa3\\xff\\x92\\xff\\x96\\xff\\x93\\xff\\xa3\\xff\\xb5\\xff\\xbd\\xff\\xce\\xff\\xda\\xff\\xde\\xff\\xe4\\xff\\xe9\\xff\\xe3\\xff\\xe8\\xff\\t\\x00\\x1e\\x00\\x17\\x00\\x0e\\x00\\x1a\\x00*\\x00\\x15\\x00\\x08\\x00\\x13\\x00\\xfc\\xff\\xde\\xff\\xd3\\xff\\xda\\xff\\xe6\\xff\\xf1\\xff\\x00\\x00\\x02\\x00\\x01\\x00\\x03\\x00\\x06\\x00\\x0e\\x00\\x0f\\x00\\x0f\\x00\\x0f\\x00\\'\\x00(\\x00\\xfb\\xff\\x11\\x00$\\x00\\x0c\\x00&\\x000\\x00+\\x007\\x00+\\x00A\\x00M\\x00:\\x00H\\x00:\\x000\\x00K\\x00>\\x005\\x00K\\x00O\\x00L\\x00B\\x001\\x003\\x00;\\x00?\\x00[\\x00q\\x00c\\x00F\\x00,\\x00!\\x00#\\x00\"\\x00\\x1b\\x00\\x11\\x00\\x17\\x00)\\x002\\x00(\\x00\\x1b\\x00\\x15\\x00\\xff\\xff\\xe7\\xff\\xe2\\xff\\xe1\\xff\\xdc\\xff\\xdb\\xff\\xe2\\xff\\xe3\\xff\\xee\\xff\\xf1\\xff\\xd1\\xff\\xb8\\xff\\xb8\\xff\\xbd\\xff\\xba\\xff\\xc2\\xff\\xdc\\xff\\xd3\\xff\\xd6\\xff\\xfa\\xff\\xe6\\xff\\xea\\xff\\x0e\\x00\\x01\\x00\\r\\x00\\x16\\x00\\xf2\\xff\\xf1\\xff\\x17\\x004\\x002\\x006\\x00D\\x00F\\x00H\\x007\\x009\\x00J\\x006\\x007\\x001\\x00\\x19\\x00\\x11\\x00\\xf9\\xff\\x08\\x00\\x1f\\x00\\xf0\\xff\\xe5\\xff\\xfb\\xff\\xea\\xff\\xeb\\xff\\xfb\\xff\\xef\\xff\\xee\\xff\\xf1\\xff\\xe2\\xff\\xe1\\xff\\xf6\\xff\\x13\\x00\\x1b\\x00 \\x00 \\x00\\n\\x00\\x00\\x00\\xf2\\xff\\xea\\xff\\xf0\\xff\\xea\\xff\\xeb\\xff\\xd9\\xff\\xb7\\xff\\xa2\\xff\\x8f\\xff\\xa3\\xff\\xb0\\xff\\x8b\\xff\\x8c\\xff\\xaa\\xff\\xb5\\xff\\xb7\\xff\\xc7\\xff\\xd8\\xff\\xc6\\xff\\xd7\\xff\\xdf\\xff\\xb8\\xff\\xd0\\xff\\xc4\\xff\\xd4\\xffE\\x00\\x15\\x00\\xce\\xff\\x0f\\x00\\xf9\\xff\\xcc\\xff\\xea\\xff\\xd0\\xff\\xd8\\xff7\\x00-\\x00\\x07\\x00/\\x00.\\x00-\\x00=\\x00\\x14\\x00\\x04\\x00\\x0e\\x00\\xf1\\xff\\xf4\\xff\\x05\\x00\\xe9\\xff\\xe3\\xff\\x0b\\x00\\x11\\x00\\xf1\\xff\\xfd\\xff\\r\\x00\\xf1\\xff\\xe1\\xff\\xe9\\xff\\xdd\\xff\\xbc\\xff\\xbb\\xff\\xc3\\xff\\xad\\xff\\xa5\\xff\\xa9\\xff\\xa5\\xff\\xa0\\xff\\xa6\\xff\\xae\\xff\\x9b\\xff\\x8f\\xff\\xb2\\xff\\xc5\\xff\\xa1\\xff\\x9f\\xff\\xcd\\xff\\xd6\\xff\\xc4\\xff\\xcb\\xff\\xd5\\xff\\xbd\\xff\\xbc\\xff\\xd7\\xff\\xd1\\xff\\xc7\\xff\\xbb\\xff\\xa9\\xff\\xa9\\xff\\x9d\\xff\\x83\\xff\\x8a\\xff\\xac\\xff\\xb7\\xff\\xd0\\xff\\n\\x00\\x06\\x00\\xf6\\xff\\x06\\x00\\xe9\\xff\\xe8\\xff\\x02\\x00\\xf5\\xff\\n\\x00\\x19\\x00\\x05\\x00(\\x00@\\x00/\\x00$\\x00\\x01\\x00\\xfa\\xff\\x07\\x00\\xec\\xff\\xd3\\xff\\xce\\xff\\xc7\\xff\\x9f\\xff\\x8b\\xff\\xab\\xff\\xb5\\xff\\xbd\\xff\\xc2\\xff\\xa6\\xff\\x9d\\xff\\xb8\\xff\\xc2\\xff\\xaa\\xff\\xab\\xff\\xb5\\xff\\x98\\xff\\x9e\\xff\\xb8\\xff\\xa4\\xff\\xa0\\xff\\xa2\\xff\\x9d\\xff\\xb3\\xff\\xb8\\xff\\xb0\\xff\\xad\\xff\\xa4\\xff\\xaf\\xff\\xc4\\xff\\xb3\\xff\\x90\\xff\\xb3\\xff\\xe6\\xff\\xe4\\xff\\xfd\\xff\\x16\\x00\\xfd\\xff\\xfc\\xff\\xfb\\xff\\xfb\\xff\\x0b\\x00\\xe2\\xff\\xdc\\xff\\x0c\\x00\\xe6\\xff\\xbe\\xff\\xed\\xff\\xe7\\xff\\xc2\\xff\\xe3\\xff\\xdc\\xff\\xb3\\xff\\xc6\\xff\\xcb\\xff\\xa8\\xff\\x99\\xff\\xa4\\xff\\xb4\\xff\\xae\\xff\\xb0\\xff\\xc5\\xff\\xd7\\xff\\xe7\\xff\\xf0\\xff(\\x00F\\x00\\x12\\x00 \\x00\\'\\x00\\xdb\\xff\\xef\\xff\\x1f\\x00\\xf2\\xff\\xe3\\xff\\xfd\\xff\\xfe\\xff\\x00\\x00\\x0c\\x00\\x15\\x00\\x07\\x00\\xfc\\xff\\x12\\x00\\x1f\\x00\\x14\\x00\\x13\\x00\\'\\x00(\\x00\\xfa\\xff\\xed\\xff\\x02\\x00\\xec\\xff\\xda\\xff\\xe7\\xff\\xec\\xff\\xeb\\xff\\x13\\x008\\x00%\\x00<\\x00Z\\x006\\x00?\\x00T\\x002\\x002\\x00B\\x006\\x00\\x14\\x00\\xe0\\xff\\xde\\xff\\x00\\x00\\xeb\\xff\\xd7\\xff\\xff\\xff\\xff\\xff\\xda\\xff\\xd6\\xff\\xde\\xff\\xd1\\xff\\x9a\\xff\\x93\\xff\\xb1\\xff\\x9f\\xff\\xc3\\xff\\xef\\xff\\xce\\xff\\xe5\\xff\\x1c\\x00\\x1c\\x00\\x1d\\x00!\\x00\\x1b\\x00&\\x000\\x00(\\x00\"\\x00\\x01\\x00\\xd8\\xff\\xfb\\xff\\x13\\x00\\xf3\\xff\\x07\\x00)\\x00\"\\x00\\n\\x00\\xf4\\xff\\xdf\\xff\\xda\\xff\\xfd\\xff\\x19\\x001\\x00=\\x00\\'\\x008\\x00S\\x00P\\x00D\\x00S\\x00o\\x00N\\x00F\\x00`\\x006\\x00\\x14\\x00!\\x00.\\x00\\x1f\\x00\\x1e\\x00?\\x00>\\x00+\\x00%\\x00\\x11\\x00\\xf0\\xff\\xef\\xff\\x12\\x000\\x00?\\x005\\x00#\\x00\\x04\\x00\\xe7\\xff\\x0c\\x00#\\x00\\x06\\x00\\xfb\\xff\\xf8\\xff\\x02\\x00\\x1f\\x00 \\x00\\x05\\x00\\xec\\xff\\xe3\\xff\\xdf\\xff\\xed\\xff\\xff\\xff\\xef\\xff\\xf1\\xff\\r\\x00\\xf5\\xff\\xe0\\xff\\r\\x00\\x12\\x00\\x07\\x00%\\x00\\x1b\\x00\\x1b\\x00\\x1d\\x00\\x0b\\x00!\\x00\\x03\\x00\\xda\\xff\\xee\\xff\\xf1\\xff\\xfb\\xff\\x1a\\x005\\x00I\\x00G\\x00M\\x00V\\x00g\\x00\\x80\\x00r\\x00q\\x00\\x8c\\x00\\x87\\x00v\\x00c\\x00M\\x00]\\x00s\\x00g\\x00[\\x00s\\x00|\\x00Q\\x00[\\x00\\x8f\\x00\\x95\\x00\\x96\\x00\\x8b\\x00\\x7f\\x00u\\x00O\\x00\\\\\\x00e\\x00A\\x00\\\\\\x00h\\x00H\\x00;\\x00-\\x001\\x00(\\x00\\x1a\\x003\\x00\\'\\x00\\x03\\x00\\x17\\x00\\x1e\\x00\\xf7\\xff\\xf5\\xff\\xf0\\xff\\xd2\\xff\\xde\\xff\\xe4\\xff\\xf6\\xff\\x0b\\x00\\xce\\xff\\xb5\\xff\\xd7\\xff\\xc5\\xff\\xb1\\xff\\xc5\\xff\\xd5\\xff\\xe8\\xff\\xff\\xff\\xf1\\xff\\xf3\\xff\\x07\\x00\\xf1\\xff\\xf3\\xff\\x0e\\x00\\x16\\x00\\x0b\\x00\\x05\\x00\\'\\x00+\\x00\\x1c\\x00?\\x006\\x00\\x0b\\x00*\\x00F\\x00\\x1a\\x00\\x17\\x007\\x00)\\x00!\\x00\\x15\\x00\\xf4\\xff\\xdb\\xff\\xcd\\xff\\xde\\xff\\xed\\xff\\xf1\\xff\\x0b\\x00\\x1e\\x00&\\x000\\x00+\\x00\\x17\\x00\\xfc\\xff\\xe0\\xff\\xfb\\xff\\x18\\x00\\x07\\x00\\x0e\\x00\\x0b\\x00\\x07\\x00\\x14\\x00\\xe0\\xff\\xc0\\xff\\xd2\\xff\\xaa\\xff\\x8a\\xff\\xa3\\xff\\xa2\\xff\\x97\\xff\\xd1\\xff\\xe7\\xff\\xad\\xff\\xb4\\xff\\xc8\\xff\\xb7\\xff\\xc5\\xff\\xc3\\xff\\xc4\\xff\\xc5\\xff\\x9d\\xff\\x9d\\xff\\xbe\\xff\\xcf\\xff\\xcc\\xff\\xca\\xff\\xda\\xff\\xe8\\xff\\x11\\x00$\\x00\\x02\\x00\\x0b\\x00\\x16\\x00\\x04\\x00\\x1e\\x00)\\x00\\xfc\\xff\\xf0\\xff\\n\\x00\\x19\\x00*\\x00.\\x00!\\x00=\\x00?\\x00\\x13\\x00\\x1f\\x00)\\x00(\\x00!\\x00\\x0f\\x00\\r\\x00\\xe9\\xff\\xe3\\xff\\xe6\\xff\\xca\\xff\\xd9\\xff\\xf1\\xff\\xf2\\xff\\xd3\\xff\\xab\\xff\\x9d\\xff\\xba\\xff\\xbe\\xff\\x8f\\xff\\xa4\\xff\\xc6\\xff\\xcc\\xff\\xef\\xff\\xd8\\xff\\x9c\\xff\\x9c\\xff\\x99\\xff\\x87\\xff\\x87\\xffl\\xff8\\xffM\\xff\\x8d\\xff\\x8e\\xff\\x8d\\xff\\x95\\xff\\x8a\\xff\\x8f\\xff\\x9e\\xff\\xc0\\xff\\xce\\xff\\xb7\\xff\\xce\\xff\\xe5\\xff\\xbc\\xff\\xc6\\xff\\xf2\\xff\\xd8\\xff\\xc9\\xff\\xc9\\xff\\xc1\\xff\\xca\\xff\\xaf\\xff\\x87\\xff\\xa9\\xff\\xee\\xff\\xe5\\xff\\xd0\\xff\\xe0\\xff\\xd0\\xff\\xcb\\xff\\xcf\\xff\\xca\\xff\\xd8\\xff\\xc1\\xff\\xae\\xff\\xe8\\xff\\xfd\\xff\\xec\\xff\\n\\x00\\x03\\x00\\xf8\\xff*\\x00\\r\\x00\\xe0\\xff\\xf8\\xff\\xe1\\xff\\xd1\\xff\\xdc\\xff\\xcc\\xff\\xc1\\xff\\xb7\\xff\\xb8\\xff\\xab\\xff\\xa1\\xff\\x99\\xff\\x84\\xff\\x83\\xffu\\xff\\x8d\\xff\\xb2\\xff\\x9b\\xff\\xa1\\xff\\xbf\\xff\\xaa\\xff\\x9c\\xff\\xd3\\xff\\xf5\\xff\\xec\\xff\\xdf\\xff\\xe0\\xff\\x10\\x00\\'\\x00\\r\\x00\\x18\\x00;\\x00>\\x00I\\x00b\\x00E\\x009\\x00^\\x00N\\x007\\x00,\\x00\\x02\\x00\\xfb\\xff\\xfd\\xff\\xf0\\xff\\xf2\\xff\\xd4\\xff\\xc6\\xff\\xec\\xff\\xc3\\xff\\x97\\xff\\xcc\\xff\\xbe\\xff\\x86\\xff\\x94\\xff\\x9d\\xff\\x99\\xff\\xaf\\xff\\xcb\\xff\\xd4\\xff\\xdf\\xff\\xf9\\xff%\\x003\\x00\\xf3\\xff\\xe1\\xff\\x02\\x00\\xed\\xff\\xec\\xff\\xfd\\xff\\xf8\\xff\\x12\\x00\\x16\\x00\\x1e\\x00N\\x00\\'\\x00\\xf9\\xff-\\x00\\x14\\x00\\xb9\\xff\\xc2\\xff\\xdc\\xff\\xc4\\xff\\xc2\\xff\\xca\\xff\\xb3\\xff\\xc9\\xff\\xe5\\xff\\xb7\\xff\\xd1\\xff\\x16\\x00\\x06\\x00\\xea\\xff\\xd8\\xff\\xd0\\xff\\xee\\xff\\xff\\xff\\xf7\\xff \\x00 \\x00\\x04\\x00/\\x00@\\x00M\\x005\\x00\\x01\\x00\\x16\\x00\\x0b\\x00\\xfb\\xff\\n\\x00\\xeb\\xff\\xea\\xff\\x08\\x00\\xdb\\xff\\xaa\\xff\\xe2\\xff\\xeb\\xff\\xb2\\xff\\xc1\\xff\\xb5\\xff\\xc2\\xff\\x0c\\x00\\xe6\\xff\\xd9\\xff(\\x00-\\x00 \\x00#\\x00\\x0e\\x00\\x1f\\x00\\x14\\x00\\xce\\xff\\xbf\\xff\\xed\\xff\\x05\\x00\\xe1\\xff\\xd8\\xff\\xf4\\xff\\xca\\xff\\x9b\\xff\\xd5\\xff\\x1a\\x00\\xec\\xff\\xa0\\xff\\xc5\\xff\\xf7\\xff\\xdc\\xff\\xce\\xff\\xd4\\xff\\xcc\\xff\\xe3\\xff\\x00\\x00\\x06\\x00\\x15\\x00\\x14\\x00\\x1b\\x00\\xf3\\xff\\xb5\\xff\\xdc\\xff\\xf5\\xff\\x07\\x00\\x0e\\x00\\xf2\\xff0\\x00d\\x00P\\x00O\\x00^\\x00g\\x00`\\x00X\\x00o\\x00j\\x007\\x00]\\x00\\x7f\\x00V\\x00?\\x00.\\x00f\\x00\\x94\\x00V\\x000\\x00+\\x00\"\\x00\\x19\\x00\\x16\\x00)\\x00\\x1a\\x00\\xf7\\xff\\xe1\\xff\\xc6\\xff\\xbd\\xff\\xcd\\xff\\xd0\\xff\\xbf\\xff\\xe2\\xff\\x04\\x00\\xfc\\xff\\x1b\\x00\\n\\x00\\xe0\\xff\\xff\\xff\\xeb\\xff\\xd9\\xff\\xfa\\xff\\xcc\\xff\\xc6\\xff\\xea\\xff\\xd7\\xff\\x00\\x00\\xff\\xff\\xc9\\xff\\x01\\x00B\\x00J\\x00M\\x00\\\\\\x00c\\x00E\\x00<\\x00<\\x002\\x00>\\x00\"\\x00\\x0b\\x00!\\x00-\\x00P\\x00N\\x00\\x08\\x00\\x1b\\x00M\\x00@\\x00\\\\\\x00b\\x00J\\x00V\\x00Y\\x00e\\x00P\\x00Q\\x00p\\x00b\\x00r\\x00e\\x00M\\x00L\\x009\\x00V\\x00R\\x00.\\x00\\x17\\x00\\xed\\xff\\xfa\\xff\\xfa\\xff\\xd2\\xff\\xd3\\xff\\xce\\xff\\xb3\\xff\\xc0\\xff\\xd5\\xff\\xbb\\xff\\xc0\\xff\\xdc\\xff\\xc7\\xff\\xc5\\xff\\xd5\\xff\\xc2\\xff\\xc3\\xff\\xe7\\xff\\xd8\\xff\\xb2\\xff\\xbd\\xff\\xb8\\xff\\x8e\\xff\\x87\\xff\\x9e\\xff\\xc9\\xff\\xe4\\xff\\xdf\\xff\\x10\\x000\\x00%\\x008\\x00+\\x00:\\x00i\\x00f\\x00U\\x00I\\x00D\\x00\\x1a\\x00\\xf9\\xff\\xf8\\xff\\xcc\\xff\\xe6\\xff\\x0e\\x00\\xd6\\xff\\xd1\\xff\\xd9\\xff\\xb3\\xff\\xd8\\xff\\x0c\\x00\\xfb\\xff\\xfb\\xff7\\x00j\\x00l\\x00\\x8c\\x00\\xac\\x00g\\x00I\\x00x\\x00k\\x00y\\x00\\x91\\x00i\\x00|\\x00\\x90\\x00g\\x00e\\x00\\x7f\\x00\\x87\\x00\\x89\\x00\\x7f\\x00Y\\x00V\\x00_\\x00=\\x00?\\x00@\\x00\\x08\\x00\\xfd\\xff\\x1c\\x00&\\x00G\\x00_\\x00\\\\\\x00m\\x00t\\x00i\\x00^\\x00u\\x00\\x8f\\x00\\x85\\x00\\x84\\x00f\\x00Q\\x00h\\x00\\x84\\x00y\\x00\"\\x00%\\x00\\x94\\x00\\xa8\\x00\\x82\\x00\\x92\\x00\\x86\\x00P\\x00g\\x00e\\x00!\\x006\\x00/\\x00\\xc2\\xff\\xb2\\xff\\xe7\\xff\\xee\\xff\\xe8\\xff\\xe1\\xff\\xf7\\xff \\x00\\x0c\\x00\\xf8\\xff\\x12\\x00\\x1a\\x00\\x12\\x00\\x19\\x00(\\x00#\\x00\\x12\\x00\\x06\\x00\\x12\\x00\\x1f\\x00\\x04\\x00\\xfd\\xff\\x17\\x00!\\x00(\\x00\\x14\\x00\\xe9\\xff\\xe9\\xff\\xe3\\xff\\xbc\\xff\\x9b\\xff\\xaf\\xff\\xf9\\xff\\xef\\xff\\xd8\\xff\\xfd\\xff\\x07\\x00 \\x00\\x14\\x00\\x05\\x00\\'\\x000\\x00\\\\\\x00T\\x00\\x15\\x00G\\x00]\\x00\\x17\\x004\\x00r\\x00N\\x00;\\x00`\\x00}\\x00v\\x00V\\x00D\\x00F\\x00L\\x00G\\x00A\\x006\\x00\\x0b\\x00\\xf9\\xff\\x04\\x00\\x08\\x00!\\x00(\\x00\\x1b\\x00\\x15\\x00\\x0c\\x00,\\x009\\x00+\\x00\\x1a\\x00\\xec\\xff\\xf7\\xff\\x0b\\x00\\xf0\\xff\\xfb\\xff%\\x003\\x00\\x08\\x00\\xef\\xff\\x05\\x00\\x04\\x00\\xf7\\xff\\xfd\\xff\\x08\\x00\\xda\\xff\\xb8\\xff\\xcd\\xff\\xbc\\xff\\xc7\\xff\\xce\\xff\\xb3\\xff\\xc3\\xff\\xd4\\xff\\xea\\xff\\x04\\x00\\x0b\\x00#\\x009\\x00M\\x00}\\x00\\x9e\\x00~\\x00c\\x00l\\x00k\\x00a\\x00P\\x009\\x00:\\x00O\\x00,\\x00\\x10\\x00\\x18\\x00\\xe4\\xff\\xda\\xff\\xe5\\xff\\xa9\\xff\\xc3\\xff\\x08\\x00\\xd9\\xff\\xc4\\xff\\x0c\\x00\\x05\\x00\\xe8\\xff\\n\\x00\\xf8\\xff\\xf4\\xff\\x16\\x00\\xec\\xff\\xd4\\xff\\xfb\\xff\\x00\\x00\\xe9\\xff\\xf7\\xff\\xfe\\xff\\xef\\xff\\xe6\\xff\\xc9\\xff\\xbe\\xff\\xbc\\xff\\xc0\\xff\\xbb\\xff\\x99\\xff\\xa8\\xff\\xb5\\xff\\xbf\\xff\\xc1\\xff\\x92\\xff\\x9c\\xff\\x8f\\xfff\\xff}\\xffu\\xff\\x81\\xff\\xc0\\xff\\xc8\\xff\\xc1\\xff\\xe7\\xff\\x13\\x00!\\x00\\'\\x008\\x00.\\x00\"\\x00>\\x00Y\\x00S\\x00/\\x00%\\x00>\\x00U\\x00p\\x00c\\x00D\\x005\\x00\\x0c\\x00\\xfd\\xff\\x05\\x00\\x08\\x00\\x01\\x00\\xda\\xff\\xc1\\xff\\xa0\\xff\\xa9\\xff\\xcf\\xff\\xba\\xffE\\x00\\xea\\x00\\xd1\\x00\\xbf\\x00\"\\x00\\x8d\\xff\\xb4\\xff\\x8d\\xff\\xee\\xfft\\x009\\x00\\x01\\x00\\x9b\\xffz\\xff\\xb0\\xff\\xa1\\xff\\xb3\\xff\\xa4\\xff\\x8c\\xff\\xa3\\xff~\\xff\\x93\\xff\\xba\\xff\\xa0\\xff\\xb1\\xff\\xaf\\xff\\xa9\\xff\\xca\\xff\\xb4\\xff\\xba\\xff\\x1a\\x008\\x00 \\x00\\x18\\x00\\'\\x00Z\\x00H\\x00+\\x007\\x00\\x08\\x00\\x00\\x00\\x16\\x00\\xf3\\xff\\xfa\\xff\\xfe\\xff\\xcd\\xff\\xe7\\xff\\t\\x00\\xfb\\xff\\xe5\\xff\\xd8\\xff\\xd7\\xff\\xb7\\xff\\xac\\xff\\xa4\\xff\\xa7\\xff\\xab\\xff\\xa1\\xff\\xc3\\xff\\xbd\\xff\\xec\\xff\\xfe\\xff\\xa2\\xff\\xac\\xff\\xba\\xff\\xb8\\xff\\xce\\xff\\xbe\\xff\\xcc\\xff\\xdb\\xff\\xc2\\xff\\xb0\\xff\\xb1\\xff\\xa1\\xff\\xa8\\xff\\xd6\\xff\\xe9\\xff\\xba\\xff\\x81\\xff\\xa3\\xff\\x8b\\xffN\\xff{\\xff_\\xffF\\xffb\\xffD\\xffW\\xffn\\xffa\\xffc\\xffn\\xffy\\xffs\\xff\\x88\\xff\\xbb\\xff\\xd0\\xff\\xb6\\xff\\xac\\xff\\xc8\\xff\\xdd\\xff\\xf3\\xff\\xf2\\xff\\xe9\\xff\\xeb\\xff\\xd2\\xff\\xc7\\xff\\xd7\\xff\\xe4\\xff\\xd9\\xff\\xd7\\xff\\xe6\\xff\\xe9\\xff$\\x00\\x1c\\x00\\xd5\\xff\\xf0\\xff\\xcc\\xff\\x82\\xff\\xc0\\xff\\x0c\\x00\\xfe\\xff\\x00\\x00\\xfe\\xff\\xbf\\xff\\xca\\xff\\xef\\xff\\xd9\\xff\\xd3\\xff\\xc0\\xffz\\xff_\\xff\\x90\\xff\\x8e\\xff\\x81\\xff\\x8f\\xffh\\xffm\\xff\\x89\\xffj\\xff\\x83\\xff\\xab\\xffr\\xffU\\xffj\\xff_\\xffv\\xffz\\xff\\x9e\\xff\\xe8\\xff\\x9f\\xffg\\xff\\xa7\\xff\\xc4\\xff\\xb3\\xff\\xd6\\xff\\xe5\\xff\\xba\\xff\\xf3\\xff\\xed\\xff\\xb7\\xff\\xd5\\xff\\xb5\\xff\\xc1\\xff\\xdd\\xff\\xcb\\xff\\xf1\\xff\\x1d\\x00\\x1c\\x00\\x0e\\x00 \\x00\\x16\\x00\\xfa\\xff\\x10\\x00(\\x00\\r\\x00\\xde\\xff\\xc5\\xff\\xbc\\xff\\xa4\\xff\\x87\\xff\\x9d\\xff\\x93\\xffS\\xffJ\\xffb\\xff\\x96\\xff\\xd5\\xff\\xc6\\xff\\xb4\\xff\\xed\\xff\\xe3\\xff\\xb7\\xff\\xd6\\xff\\xdd\\xff\\xcc\\xff\\xcd\\xff\\x00\\x00\\xef\\xff\\xdf\\xffJ\\x00\\x1d\\x00R\\x00\\xf3\\x00\\x88\\x00\\xac\\x00\\xd8\\x00Q\\x00\\xac\\x00\\x84\\x00\\x00\\x00a\\x00 \\x00\\xe3\\xff\\x1d\\x00\\xe6\\xff\\x00\\x00\\xf4\\xff\\xe8\\xff\\x14\\x00\\xca\\xff\\xf9\\xff\\xe2\\xff\\xae\\xff \\x00\\xf0\\xff\\xe7\\xff)\\x00\\xde\\xff0\\x00}\\x005\\x00\\xa7\\x00\\x87\\x00\\x0e\\x00\\x8a\\x00\\xaf\\x00\\xa2\\x00\\xc1\\x00\\xd2\\x00\\xc0\\x00L\\x00Y\\x00G\\x00\\xdb\\xff\\x7f\\x00\\x16\\x00\\\\\\xff*\\x00\\xc5\\xff\\xa7\\xff&\\x00~\\xff\\xa4\\xff\\xe5\\xff\\xa4\\xff\\xd6\\xff\\xd4\\xff\\xc4\\xff\\xd0\\xff\\xa7\\xff\\xbb\\xff\\xea\\xff\\xb4\\xff\\xb4\\xff\\x01\\x00\\xf3\\xff\\xe8\\xff\\x14\\x00\\xdb\\xff+\\x00y\\x00\\xf9\\xffu\\x00\\xa6\\x007\\x00\\xa0\\x00\\x91\\x00`\\x00\\xa3\\x00\\x9b\\x00\\x9c\\x00\\xa7\\x00-\\x00\\xff\\xff2\\x00\\x13\\x00=\\x00<\\x00\\xd3\\xff\\xd9\\xff\\x02\\x00?\\x00v\\x00|\\x00\\x87\\x00|\\x00\\xc7\\x00\\xd4\\x00\\x8d\\x00\\xb0\\x00\\xa8\\x00\\x91\\x00\\xb0\\x00\\xf9\\x00\\xe0\\x00\\xb9\\x00\\x11\\x01`\\x00\\xf8\\xff\\x8e\\x00%\\x00/\\x00\\xb5\\x00T\\x00D\\x00\\x81\\x00h\\x00\\x8c\\x00\\xa3\\x00P\\x00\\xf0\\x00\\x1e\\x01\\x9c\\x00\\xf9\\x006\\x00\\x19\\x00\\xc8\\x00\"\\x00\\xb6\\x00=\\x01k\\x00\\xa1\\x00\\x8a\\x00\\xfb\\xffj\\x00\\x0f\\x00\\xe3\\xffZ\\x00\\xf7\\xff+\\x00}\\x00?\\x00$\\x00=\\x00C\\x00?\\x00\\xb0\\x00\\x82\\x00\\x1a\\x00f\\x00Q\\x00$\\x00n\\x00P\\x00\\x04\\x00p\\x00H\\x00\\x1e\\x00g\\x00\\xfa\\xff7\\x00\\xfd\\xff\\\\\\xff\\xcf\\xff\\xc5\\xff\\xb2\\xff\\x15\\x00\\xeb\\xff\\x85\\xff\\xbe\\xff\\xbc\\xff\\xb3\\xff\\x0e\\x00\\xbb\\xff\\xbc\\xff\\x18\\x00\\t\\x00\\xef\\xff\\xcb\\xff\\xc9\\xff\\xec\\xff\\x06\\x00\\n\\x00$\\x00\\xd5\\xffn\\xff\\x9e\\xff\\xbc\\xff\\xcd\\xff\\xe4\\xff\\x98\\xff\\xa8\\xff\\xbb\\xffh\\xff\\x81\\xff\\x10\\xff\\xe2\\xfe5\\xff\\xda\\xfek\\xff\\xd2\\xffi\\xff\\xe5\\xff\\xdf\\xffY\\xff\\x88\\xff\\x95\\xff\\xd0\\xff\\xc3\\xff\\x8e\\xff\\xe2\\xffG\\xffZ\\xff\\xea\\xffp\\xff\\xb4\\xff\\xa2\\xfff\\xff\\x0e\\x006\\x00A\\x00G\\x00\\xdc\\xff\\xe2\\xff3\\x00,\\x00\\xfa\\xff\\xcd\\xff\\xc8\\xff\\xa1\\xffy\\xff\\xd1\\xff\\xdf\\xff\\x80\\xff\\xb3\\xff\\xb8\\xff\\x8a\\xff\\x0f\\x00\\x0b\\x00\\xbb\\xff\\xfb\\xff\\x05\\x00\\x13\\x00@\\x009\\x00\\x12\\x00\\xfe\\xff\\x03\\x00\\x0e\\x00B\\x008\\x00\\xea\\xff\\xfa\\xff\\xf7\\xff\\x9c\\xff\\xae\\xff\\xd0\\xff\\xe6\\xff\\x08\\x00\\xb5\\xff\\xda\\xff\\xcd\\xff^\\xff\\xbd\\xff\\xb4\\xff\\xaf\\xff\\x05\\x00\\xd1\\xff\\xe5\\xff\\xc2\\xff\\x8c\\xff\\xf3\\xff\\xfd\\xff\\xca\\xff\\xa1\\xff\\xf4\\xffy\\x00\\x1c\\x00\\xfd\\xff\\x0b\\x00\\xea\\xffk\\x00\\x82\\x00=\\x00H\\x00\\'\\x002\\x00\\x82\\x00\\xa1\\x00\\x93\\x00r\\x00Q\\x00+\\x00\\x0c\\x00P\\x00&\\x00\\xd7\\xff&\\x00\\xe1\\xff\\xfc\\xffS\\x00\\xd5\\xff\\xe9\\xff\\xe9\\xff\\x83\\xff\\xbd\\xff\\xab\\xffU\\xff\\x9d\\xff\\x86\\xffp\\xff\\xf4\\xff\\xd8\\xff\\xca\\xff\\xe8\\xff\\xb5\\xff\\x12\\x00\\x1e\\x00\\x17\\x00#\\x00\\xa4\\xff\\xda\\xff\\xbf\\xff\\xa5\\xff\\x0e\\x00\\xcd\\xff\\x10\\x00.\\x00*\\x00p\\x00\\xf6\\xff\\x05\\x00\\x02\\x00\\xc6\\xffu\\x00P\\x00\\x19\\x00i\\x00J\\x00>\\x00K\\x00b\\x00<\\x00R\\x00P\\x00@\\x00\\xb2\\x00Q\\x00-\\x00\\xbc\\x00\\xa7\\x00\\xc6\\x00\\xb8\\x00Y\\x00\\x86\\x00[\\x00P\\x00N\\x00\\x03\\x00O\\x00r\\x00\\x93\\x00o\\x00\\xd7\\xff\\xe0\\xff\\xb9\\xff\\xb0\\xff$\\x00X\\x00\\x82\\x008\\x00\\xb5\\xff\\xa0\\xff\\xc2\\xff\\xf0\\xff\\x11\\x00\\x0b\\x00\\x0f\\x00\\x02\\x00\\xec\\xff,\\x00\\x8b\\xff\\x1d\\xff\\xa7\\xffU\\xff\\xed\\xffy\\x00\\x8b\\xff\\xe2\\xff\\xae\\xff3\\xffG\\x00\\xf1\\xff\\xd1\\xffE\\x00\\xa4\\xff\\'\\x00`\\x00\\'\\x00\\x88\\x00>\\x008\\x00Q\\x00=\\x00U\\x00\"\\x00W\\x00J\\x00-\\x00\\xca\\x00J\\x00,\\x00\\x87\\x00\\xb5\\xff\\xf3\\xffl\\x00\\x18\\x00F\\x00a\\x006\\x00[\\x00\\x83\\x00>\\x00\\xd5\\xff\\xcd\\xff\\x19\\x00\\t\\x00C\\x00\\xc0\\x00}\\x00p\\x006\\x00\\xbf\\xff\\n\\x00A\\x00\\xa5\\x00\\xd6\\x007\\x00;\\x00\\x92\\x00z\\x00X\\x00\\xff\\xff\\xc2\\xff\\x18\\x00u\\x00G\\x00X\\x00\\x85\\x00\\xf0\\xff\\xdc\\xff.\\x00S\\x00\\xb8\\x00\\x85\\x00\\x1e\\x00\\x06\\x00\\xe5\\xffT\\x00\\x88\\x00U\\x00\\x86\\x00\\x86\\x00\\x80\\x00c\\x00<\\x00e\\x00b\\x00}\\x00\\x88\\x001\\x00E\\x00\\x8e\\x00t\\x00R\\x004\\x005\\x00p\\x00\\x8d\\x00}\\x00a\\x00\\x1d\\x00\\x9d\\xff\\xb6\\xff\\x1e\\x00\\xce\\xff\\xd8\\xff6\\x00\\x13\\x00$\\x00\\x0b\\x00\\xee\\xff.\\x004\\x00V\\x00]\\x00C\\x00r\\x00v\\x00\\x89\\x00\\xae\\x00K\\x00;\\x00p\\x00\\x05\\x007\\x00.\\x00\\x9b\\xff\\x18\\x00\\x04\\x00\\xb5\\xff\\xed\\xff~\\xff\\xb8\\xff\\xc5\\xff\\x1e\\xffX\\xffY\\xff\\x87\\xff\\xfb\\xff\\xce\\xff\\xe7\\xff\\xda\\xff\\xeb\\xffD\\x00N\\x00q\\x00&\\x00\\x02\\x00\\'\\x00#\\x00]\\x00(\\x00,\\x00<\\x00\\x10\\x001\\x00\\xcd\\xff\\xcd\\xff2\\x00\\x18\\x00\\x19\\x00\\x12\\x00\\xfc\\xff\\x18\\x00\\x08\\x00\\xca\\xff\\xe4\\xff\\xbd\\xff\\x85\\xff\\xf4\\xff\\xe1\\xff\\x93\\xff\\xa2\\xff\\x90\\xff\\xa3\\xff\\xa8\\xff\\x99\\xff{\\xffe\\xff\\x9e\\xffy\\xff}\\xff\\xb3\\xffl\\xff\\x98\\xff\\xb8\\xffv\\xff\\x8d\\xffg\\xffq\\xff\\xb2\\xff\\xaa\\xff\\xe1\\xff\\xe3\\xff\\x95\\xffn\\xffm\\xff\\x93\\xff\\x96\\xff\\x8c\\xff\\x9e\\xff\\x97\\xff\\xd3\\xff\\x11\\x00\\xdd\\xff\\xbb\\xff\\xa0\\xff\\xb0\\xff\\xea\\xff\\xda\\xff%\\x00A\\x00\\xcd\\xff\\xd8\\xff\\xc0\\xff\\xc5\\xff7\\x00\\xcc\\xff\\xa9\\xffR\\x00_\\x00Y\\x00^\\x00\\xcb\\xff\\xae\\xff\\xc4\\xff\\x9d\\xff\\xeb\\xff\\xf6\\xff\\xda\\xff\\xc6\\xff\\xca\\xff\\x05\\x00\\x0e\\x00Z\\x00=\\x00\\x15\\x00*\\x00\\x12\\x00\\x9e\\x00\\xb8\\x00S\\x00#\\x00\\x16\\x00T\\x00K\\x00F\\x00<\\x00\\xf6\\xff\\xfb\\xffD\\x00D\\x00\\xfd\\xff\\xb4\\xffs\\xff\\x88\\xffr\\xffb\\xff\\xb1\\xffo\\xff3\\xff\\xb5\\xff\\xda\\xff\\xcf\\xff\\x12\\x00\\xaf\\xff\\x8a\\xff\\xd7\\xff\\xac\\xff\\xec\\xff\\t\\x00\\x9d\\xff\\xc4\\xff\\xe2\\xff\\xd6\\xff\\x01\\x00\\xb9\\xff\\x9c\\xff\\x9f\\xff\\x87\\xff\\xf6\\xff\\x1e\\x00\\xff\\xff\\x00\\x00\\xdf\\xff\\n\\x00F\\x00>\\x00\\x06\\x00\\xf0\\xff\\x0c\\x00\\xe3\\xff\\xfe\\xff\\x0b\\x00\\x00\\x00>\\x00\\xce\\xff\\xb3\\xff\\r\\x00\\xe2\\xff3\\x00Q\\x00\\xf1\\xff\\x0c\\x00\\x13\\x00\\x15\\x00G\\x005\\x00\\xfe\\xff-\\x00a\\x007\\x00P\\x00|\\x00\\x85\\x00k\\x00i\\x00\\x87\\x00Q\\x00[\\x00T\\x00\\'\\x00\\x19\\x00\\xdc\\xff\\x10\\x00\\t\\x00\\xe2\\xff)\\x00\\xb8\\xff\\xaf\\xff\\xe9\\xffy\\xff\\xb0\\xff\\x99\\xffr\\xff\\xe9\\xff\\xe7\\xffM\\x00i\\x00\\xf6\\xff\\x1e\\x00\\xea\\xff\\xca\\xff\\x05\\x00\\xd3\\xff\\xfb\\xff\\x12\\x00\\xe4\\xff\\xfd\\xff\\xb4\\xff\\xa6\\xff\\xcb\\xff\\x9a\\xff\\xca\\xff\\xbf\\xff\\xb7\\xff\\xdd\\xff\\x8d\\xff\\xcd\\xff\\xea\\xff\\xb6\\xff\\xf6\\xff\\xed\\xff\\x14\\x00\\x08\\x00\\xdf\\xff#\\x00\\x04\\x00C\\x00:\\x00\\xf7\\xffH\\x00\\xfc\\xff\\x02\\x00\\x12\\x00\\xb0\\xff\\xf4\\xff\\xfc\\xff\\x14\\x00@\\x00\\t\\x00\\x00\\x00\\xb1\\xff\\x9a\\xff\\xb3\\xff\\xa5\\xff\\xf3\\xff\\x06\\x00+\\x00T\\x00\\xcb\\xff\\xea\\xff\\x06\\x00s\\xff\\xea\\xff\\xe3\\xff\\xae\\xffC\\x00\\xc8\\xff\\xe4\\xff0\\x00\\xa8\\xff\\xe2\\xff\\xeb\\xff\\n\\x00\\\\\\x00\\xe8\\xff\\xee\\xff\"\\x00\\xdb\\xff\\xd0\\xff\\xdc\\xff\\xca\\xff\\xae\\xff\\xb2\\xff\\xde\\xff\\xee\\xff\\xaf\\xff\\x80\\xff\\x94\\xff\\x8c\\xff\\xb3\\xff\\xc4\\xff\\xbc\\xff\\xc0\\xff\\xa9\\xff\\xe7\\xff\\xc6\\xff\\xc4\\xff\\x0e\\x00\\xb3\\xff\\xcf\\xff\\x01\\x00\\xa9\\xff\\xce\\xff\\xc1\\xffv\\xff\\x0f\\x00\\xf9\\xff~\\xff\\xfb\\xff\\xba\\xffl\\xff\\xb7\\xffw\\xff\\x80\\xff\\x0f\\x00\\xea\\xff\\xf4\\xff7\\x00\\x94\\xff\\xad\\xff\\xd3\\xff\\xc3\\xff\\xd2\\xffm\\xff\\xa6\\xff|\\xffw\\xff\\xb6\\xff7\\xff\\x93\\xff\\xe6\\xffj\\xff\\xa3\\xff\\x80\\xff>\\xff\\xf4\\xff\\xed\\xff\\xe0\\xff\\xe1\\xff\\x9d\\xff\\n\\x00\\xec\\xff\\xd7\\xff\\xf3\\xff\\xc1\\xff\\xb6\\xff\\xa3\\xff\\xb3\\xff}\\xffT\\xff_\\xff_\\xffr\\xffH\\xffg\\xfff\\xff?\\xff\\x83\\xff\\x84\\xff\\xa2\\xff\\xda\\xff\\xb5\\xff\\xc3\\xff\\xba\\xff\\xbb\\xff\\xf1\\xff\\x9d\\xff\\xc9\\xff\\x03\\x00\\x99\\xff\\xdb\\xff\\xd7\\xff\\x97\\xff\\xbb\\xff\\x94\\xff\\xc6\\xff\\xdb\\xff\\xb3\\xff\\xae\\xffp\\xffs\\xff\\x8b\\xff\\xad\\xff\\xdc\\xff\\xf0\\xff\\xf1\\xff\\xdf\\xff\\xe3\\xff\\xf3\\xff\\xeb\\xff\\xcc\\xff\\xff\\xff\\xdd\\xff\\xb4\\xff\\xf7\\xff\\xd3\\xff\\xf1\\xff\\xdb\\xff\\xa8\\xff\\xe6\\xff\\xd1\\xff\\x11\\x00\\x19\\x00\\xc1\\xff\\xef\\xff\\xd2\\xff\\xdf\\xff$\\x00+\\x002\\x00\\x0b\\x00&\\x00\\x15\\x00\\xc2\\xff\\xf2\\xff\\xe2\\xff\\xba\\xff\\x1c\\x00\\xf2\\xff\\xf9\\xff1\\x00\\xb0\\xff\\xef\\xff#\\x00\\xdd\\xff\\x14\\x00\\x16\\x00\\xca\\xff\\xd2\\xff\\xff\\xff\\xed\\xff\\xe4\\xff\\xd3\\xff\\xb5\\xff\\xb6\\xff\\xd9\\xff\\xc2\\xff\\xcb\\xff\\x03\\x00\\xed\\xff\\'\\x00#\\x00\\xe4\\xff\\x03\\x00\\xd4\\xff\\xed\\xff@\\x00\\xfb\\xff\\x05\\x00N\\x00Q\\x00\\x89\\x00\\x87\\x00|\\x00\\xd2\\x00\\xa4\\x00\\xa7\\x00\\x15\\x01\\xc7\\x00\\x92\\x00\\xcc\\x00\\xb4\\x00\\xaf\\x00\\xb8\\x00\\x89\\x00\\x9a\\x00c\\x00%\\x00?\\x005\\x00v\\x00\\x80\\x00h\\x00P\\x00\\x06\\x00#\\x007\\x00\\x1e\\x00\\x06\\x00\\xf4\\xff\\x1a\\x00H\\x00A\\x00$\\x006\\x00\\x10\\x00\\x13\\x00Z\\x00\\xf8\\xff\\xfe\\xff?\\x00\\xe1\\xff\\xee\\xff(\\x00\\xf0\\xff\\xfd\\xff\\x02\\x00\\xab\\xff\\xf6\\xff\\xf9\\xff\\xd7\\xff)\\x00\\xd2\\xff\\xd1\\xff\\x08\\x00\\xda\\xff\\x1c\\x00\\x02\\x00\\xc7\\xff\\x11\\x00\\xfa\\xff\\x01\\x00\\n\\x00\\x11\\x00-\\x00\\n\\x00C\\x00\\x0b\\x00\\x17\\x00Z\\x00 \\x00:\\x00Q\\x00m\\x00D\\x00+\\x000\\x00\\x1e\\x00\\x17\\x00\\xf2\\xff\"\\x00\\xdd\\xff\\xde\\xff\\x02\\x00\\x91\\xff\\xf5\\xff\\xe6\\xff\\x92\\xff\\xdd\\xff\\xbf\\xff\\xb9\\xff\\xd4\\xff\\xc8\\xff\\xba\\xff\\xc8\\xff\\xd3\\xff\\xd1\\xff\\xd5\\xff\\xcc\\xff\\xce\\xff\\xc8\\xff\\xc7\\xff\\xae\\xff\\xcf\\xff\\xeb\\xff\\xdf\\xff\\x0c\\x00\\xf9\\xff\\xe0\\xff\\xc4\\xff\\xd1\\xff\\xa9\\xff\\xa1\\xff\\xd8\\xff\\x96\\xff\\xf7\\xff\\xd9\\xff\\x91\\xff\\xf3\\xff\\xa0\\xff\\xb1\\xff\\xdb\\xff\\xa8\\xff\\xf3\\xff\\xfc\\xff\\xe3\\xffR\\x00\\x11\\x00\\xbb\\xff/\\x00\\xd8\\xff\\xe7\\xff%\\x00\\xa7\\xff\\xcf\\xff\\xe3\\xff\\xc5\\xff\\xa0\\xff\\xdc\\xff\\xf1\\xff\\xb2\\xff\\x00\\x00\\xc4\\xff\\xe3\\xff\\x1b\\x00\\xe2\\xff\\x18\\x00\\t\\x00\\xfe\\xff4\\x00!\\x00\\xcc\\xff\\x0f\\x00 \\x00\\xf3\\xff@\\x00\\x05\\x00\\x1a\\x002\\x00\\n\\x00,\\x00Y\\x00m\\x00$\\x006\\x00\\x19\\x00!\\x00&\\x00\\x07\\x00n\\x006\\x00T\\x00h\\x00\\'\\x00i\\x00/\\x00B\\x00\\x81\\x00W\\x00w\\x00z\\x00P\\x00G\\x00G\\x00N\\x00s\\x00\\x9a\\x00\\x81\\x00\\x84\\x00\\x8a\\x00@\\x004\\x00g\\x00S\\x00H\\x00}\\x00k\\x00I\\x00V\\x00\\x1a\\x00/\\x00G\\x00\\xd1\\xff\\x05\\x00\\x07\\x00\\xc9\\xff\\xed\\xff\\xba\\xff\\xf0\\xff\\r\\x00\\xea\\xff\"\\x00(\\x00&\\x007\\x00&\\x00\\xfe\\xff\\x08\\x00\"\\x00\\xf2\\xff\\x01\\x00(\\x00\\x10\\x00C\\x00*\\x00\\x04\\x00&\\x00\\x03\\x00%\\x00&\\x00\\x1a\\x00&\\x00\\xee\\xff\\xee\\xff\\xc3\\xff\\xd7\\xff\\xf7\\xff\\xd6\\xff\\x15\\x00\\x1e\\x00*\\x00%\\x00\\x0c\\x00)\\x00\\x14\\x001\\x00E\\x00E\\x00S\\x00G\\x00y\\x00\\x94\\x00\\x93\\x00\\x8a\\x00\\x86\\x00\\x8f\\x00\\x8d\\x00\\xb8\\x00\\xc6\\x00\\xdb\\x00\\xed\\x00\\xd7\\x00\\xc4\\x00\\xb2\\x00\\xb3\\x00\\x9a\\x00\\xa4\\x00\\x92\\x00~\\x00\\x86\\x00c\\x00w\\x00p\\x00v\\x00\\\\\\x00<\\x00\\x8b\\x00q\\x00f\\x00t\\x00K\\x00\\x91\\x00\\x9c\\x00\\xb8\\x00\\xfa\\x00\\xd8\\x00\\xe6\\x00\\xa9\\x00\\xb5\\x00\\xd1\\x00\\x82\\x00\\xcc\\x00\\xb1\\x00\\x8d\\x00\\x9c\\x00]\\x00}\\x00<\\x00>\\x00x\\x002\\x00\\x85\\x00\\\\\\x00\"\\x00\\x7f\\x00.\\x00E\\x00P\\x00\\x15\\x00,\\x00\\xce\\xff\\xd3\\xff\\xce\\xff\\x9d\\xff\\xd6\\xff\\xab\\xff\\x9d\\xff\\xc0\\xff\\xeb\\xff\\xfe\\xff\\xf5\\xff?\\x00]\\x00|\\x00\\xa3\\x00\\xb1\\x00\\xab\\x00\\x8e\\x00\\xb6\\x00\\xca\\x00\\xe2\\x00\\xca\\x00\\x9b\\x00\\x9a\\x00O\\x00^\\x00[\\x00\\x1c\\x006\\x00\\x1c\\x00\\x1b\\x00\\x0e\\x00,\\x00S\\x00\\x1a\\x00G\\x00\\x1a\\x00\\xe9\\xff\\xfe\\xff\\xd6\\xff\\x01\\x00\\xf9\\xff\\x0e\\x00=\\x00\\xde\\xff\\xfb\\xff;\\x00\\x02\\x00(\\x00=\\x00\\r\\x00\\xf8\\xff\\xe4\\xff\\xda\\xff\\xda\\xff\\xd0\\xff\\xb1\\xff\\xc7\\xff\\x9e\\xffr\\xff\\xb3\\xff\\x8f\\xffj\\xff\\x93\\xff\\xc3\\xff\\xa9\\xffw\\xff\\xa4\\xff\\x8d\\xff\\xa6\\xff\\xf0\\xff\\xdf\\xff\\x02\\x00\\x0c\\x00\\xed\\xff\\x15\\x00\\x19\\x00\\xdf\\xff\\xd8\\xff\\xe1\\xff\\xc7\\xff\\xdf\\xff\\xf0\\xff\\xb9\\xff\\xfb\\xff\\r\\x00\\xdc\\xff\\x01\\x00\\xa3\\xff\\xa9\\xff\\xe0\\xff\\xc8\\xff\\x04\\x00\\xd6\\xff\\xf1\\xff\\x01\\x00\\xb7\\xff\\xf3\\xff\\xbe\\xff\\xc6\\xff\\xea\\xff\\xa8\\xff\\xf6\\xff\\xde\\xff\\xbc\\xff\\xd3\\xff\\xb4\\xff\\xd9\\xff\\xcc\\xff\\xf1\\xff\\xe8\\xff\\x91\\xff\\xae\\xffb\\xff]\\xffZ\\xff\\x06\\xff\\x89\\xffB\\xffG\\xff\\xd9\\xffP\\xff\\xa0\\xff\\xb0\\xffu\\xff\\xcc\\xff\\x84\\xff\\xc9\\xff\\xcb\\xff\\xb2\\xff\\xd1\\xffv\\xff\\xc6\\xff\\x95\\xff_\\xff\\xa3\\xff~\\xff\\xb1\\xff{\\xff\\x94\\xff\\xae\\xff<\\xff\\x99\\xff\\x90\\xff\\xbf\\xff\\xc3\\xffd\\xff\\xb3\\xffL\\xff\\x89\\xff\\x8e\\xffl\\xff\\x1a\\x00\\x8e\\xff\\xf5\\xff&\\x00\\xac\\xff&\\x00\\x82\\xff\\xb1\\xff\\xf8\\xff\\xc0\\xff\\t\\x00\\x92\\xff\\x06\\x00\\xb1\\xff\\x83\\xff2\\x00^\\xff\\xfc\\xff\\xca\\xffb\\xffl\\x00j\\xff\\x04\\x00E\\x00i\\xffN\\x00\\xa4\\xff\\x00\\x00(\\x00\\xab\\xff\\x7f\\x00\\xda\\xff8\\x00\\x01\\x00\\x93\\xff\\x1f\\x00B\\xff\\xf3\\xff\\xd6\\xfff\\xff)\\x00b\\xff\\xd3\\xff\\xfa\\xff\\xae\\xff0\\x00\\xb1\\xff\\xf8\\xff\\xca\\xff\\xa6\\xff\\xf2\\xff\\x98\\xff\\xfd\\xff\\xb2\\xff\\x04\\x00I\\x00\\xdc\\xffr\\x00\\r\\x00\\x1d\\x00\\x19\\x00\\xd2\\xffR\\x00\\xac\\xff\\xee\\xff\\xdf\\xff~\\xff\\xfb\\xffu\\xff\\xcd\\xff\\xa3\\xff\\xa4\\xff\\x08\\x00`\\xffH\\x004\\x00\\xf8\\xff\\x84\\x00\\xfe\\xff[\\x00\\x18\\x00\\x0b\\x00\\\\\\x00\\xb0\\xff=\\x006\\x00\\xc0\\xff\\x1b\\x00\\x88\\xff\\xa5\\xff\\xfc\\xff\\\\\\xff\\xbf\\xff\\xc8\\xffv\\xff\\x01\\x00\\xa6\\xff\\x91\\xff\\x10\\x00\\xb4\\xff\\xc0\\xff\\x16\\x00\\xef\\xff\\xff\\xff\\x1f\\x00\\xf8\\xff\\xba\\xff\\xe8\\xff*\\x00\\xc6\\xff\\xed\\xff\\xfd\\xff\\xaa\\xff\\x01\\x00\\x0f\\x00\\x0e\\x00\\x19\\x00!\\x00\\x16\\x009\\x00\\x8f\\x000\\x00h\\x00\\x8a\\x00]\\x00\\xd1\\x00\\xa6\\x00\\xa1\\x00\\xb1\\x00d\\x00\\x9b\\x00Y\\x008\\x00e\\x00\\x10\\x006\\x00\\x17\\x00\\xeb\\xff\\x18\\x00\\xea\\xff\\x01\\x00\\xf1\\xff\\xcb\\xff\\x0c\\x00\\xfa\\xff\\xde\\xff\\xfb\\xff\\xf9\\xff\\x0e\\x00\\xff\\xff\\xe4\\xff\\xcd\\xff\\xac\\xff\\x93\\xff\\x89\\xff\\xd3\\xff\\xa8\\xff\\x9a\\xff\\xdb\\xff\\x83\\xff\\xcc\\xff\\xef\\xff\\x95\\xff\\x1d\\x00\\x0f\\x00\\xfb\\xffE\\x00\\xee\\xff5\\x00*\\x00\\xbd\\xff;\\x00@\\x00\\xc0\\xff\\xfb\\xff\\xe3\\xff\\\\\\xff\\xb1\\xff}\\xffF\\xff\\x87\\xff,\\xff\\xb3\\xff\\xa7\\xff\\x83\\xff\\x06\\x00\\x86\\xff\\xd8\\xff+\\x00\\xe1\\xff\\x0b\\x00\\x19\\x00#\\x00+\\x00;\\x00I\\x00W\\x00m\\x00:\\x00\\x1a\\x00*\\x00\\xea\\xff\\xf1\\xff\\x06\\x00\\xc4\\xff\\xf2\\xff\\xc8\\xffo\\xff\\xb5\\xff\\xb0\\xffe\\xff\\xc0\\xff\\xd2\\xffZ\\xff\\xde\\xff\\xe8\\xff\\x85\\xff\\x04\\x00\\xc8\\xff\\xd6\\xffT\\x00\\xe1\\xff\"\\x004\\x00\\xa3\\xff\\x1b\\x00\\x00\\x00\\x94\\xff\\xef\\xff\\xb7\\xff\\xce\\xff&\\x00\\xab\\xff\\x08\\x00-\\x00\\x93\\xffL\\x00/\\x00\\xc2\\xff\\x8e\\x00-\\x00\\xc9\\xffB\\x00\\xea\\xff\\xd2\\xfff\\x00a\\x00K\\x00\\x87\\x00\\x83\\x00E\\x00\\x87\\x00s\\x00\\x00\\x00\\\\\\x00\\x1e\\x00\\x11\\x009\\x00$\\x000\\x00\\xb5\\xff>\\x00\\xe8\\xff\\x9a\\xffM\\x00\\xc2\\xff\\xc6\\xff\\xd9\\xff2\\x00\\x0f\\x00\\xdc\\xff\\xa5\\x00\\xd6\\xff\\x1f\\x00`\\x00\\xfe\\xff\\x8f\\x00\\xea\\xff\\t\\x00\\x04\\x00\\xe1\\xff:\\x00\\xab\\xff\\xce\\xff\\xb6\\xff\\x94\\xff}\\xffz\\xff\\xb4\\xffj\\xff\\xc8\\xff\\x96\\xffq\\xff\\xe7\\xff\\x83\\xff\\xad\\xff\\x08\\x00\\xb9\\xff \\x00%\\x00\\xdd\\xffJ\\x00\\xea\\xffS\\x00V\\x00\\xd5\\xff\\x96\\x00\\xf8\\xff)\\x00c\\x00\\xbf\\xffh\\x00/\\x00\\xf0\\xff\\xf9\\xff\\x15\\x00\\xfa\\xff\\x9e\\xff\\x0c\\x00\\xe0\\xff\\x1a\\x00\\xfd\\xff\\xb6\\xffH\\x00\\xd8\\xff\\xdb\\xff\\xe2\\xff\\xc2\\xffK\\x00\\x0c\\x001\\x00C\\x00\\xdd\\xfff\\x00O\\x00\\xf2\\xff[\\x00\\xe8\\xff\\xe5\\xff$\\x00\\x94\\xff0\\x00\\xf5\\xff\\x89\\xff8\\x00\\x9d\\xff\\xcc\\xff\\xde\\xff\\xa5\\xffq\\x00\\x93\\xff\\xd1\\xff\\x7f\\x00\\x97\\xffO\\x00@\\x00\\x84\\xffK\\x00\\x15\\x00\\xdd\\xff{\\x00@\\x00#\\x00A\\x00\\x07\\x00\\x1e\\x00\\x0e\\x00\\xee\\xff\\xf1\\xff\\xc3\\xff\\xaf\\xff\\xbb\\xff\\x9e\\xff\\xc1\\xff\\x0e\\x00\\xe8\\xffU\\x00>\\x00\\xa0\\xff1\\x00\\xd1\\xff\\xc1\\xffR\\x00\\xe5\\xffG\\x008\\x00\\x1b\\x00M\\x00\\x03\\x00r\\x00$\\x00\\t\\x00n\\x00\\x02\\x00\\xf5\\xff\\x0b\\x00\\xf3\\xff\\xcc\\xff\\x12\\x00\\xe5\\xff|\\xff\\x10\\x00\\xca\\xff\\x99\\xff<\\x00\\xe7\\xff\\xe9\\xffy\\x00\"\\x002\\x00m\\x00\\xff\\xff\\x04\\x00\\xf1\\xff#\\x00`\\x00\\xd4\\xff\\xfc\\xff\\x11\\x00\\xa0\\xff\\x08\\x00-\\x00\\xdd\\xff+\\x00\\x11\\x00\\xd4\\xff\\xfd\\xff\\xb9\\xff\\xe4\\xff\\xe5\\xff\\x9f\\xff\\x19\\x00\\xcf\\xff\\xb3\\xff\\xe4\\xfff\\xff\\xab\\xff\\xba\\xff\\xc2\\xff3\\x00\\xe8\\xff\\xbb\\xff\\xbf\\xff\\xa4\\xff\\x95\\xff\\xa4\\xff\\xf8\\xff\\xe7\\xff\\xbe\\xff\\xe6\\xff\\xba\\xff\\xd8\\xff\\x1b\\x00\\xf6\\xff%\\x00\\x18\\x00\\xed\\xff\\x04\\x00\\xe6\\xff\\xfe\\xff\\xfd\\xff\\xce\\xff\\xc4\\xff\\xb8\\xff\\xac\\xff\\x9e\\xff\\xaa\\xff\\xa1\\xff\\x94\\xff\\x94\\xff\\x9a\\xff\\xb9\\xff\\x9a\\xff\\x99\\xff\\xb6\\xff\\x8c\\xff\\x97\\xff\\x8e\\xff{\\xff\\xc5\\xff\\xca\\xff\\xc1\\xff\\xfc\\xff\\xe8\\xff\\xc9\\xff\\xec\\xff\\xcd\\xff\\xc6\\xff\\xf4\\xff\\xf1\\xff\\x1b\\x00\\x02\\x00\\xcf\\xff\\x05\\x00\\xeb\\xff\\xee\\xff3\\x00\\x11\\x00\\x13\\x000\\x00\\xfa\\xff\\xe1\\xff\\xd2\\xff\\xc0\\xff\\xaf\\xff\\x90\\xff\\xb1\\xff\\xa9\\xff\\xaf\\xff\\xdf\\xff\\xcf\\xff\\xde\\xff\\xca\\xff\\xb4\\xff\\xbb\\xff\\xaf\\xff\\xc7\\xff\\xbb\\xff\\xbf\\xff\\xba\\xff\\xb3\\xff\\xe4\\xff\\xd1\\xff\\xbe\\xff\\xb4\\xff\\xba\\xff\\xdb\\xff\\xc4\\xff\\xa4\\xff\\x81\\xff\\x84\\xffn\\xff:\\xffG\\xffG\\xff\\\\\\xffo\\xffT\\xff[\\xffp\\xff\\x83\\xff\\x8a\\xff\\x92\\xff\\xab\\xff\\xb3\\xff\\xa9\\xff\\x9d\\xff\\xac\\xff\\xba\\xff\\xce\\xff\\xf5\\xff\\xfe\\xff\\x03\\x00\\x11\\x00\"\\x005\\x00\\'\\x00\\'\\x00O\\x00@\\x00;\\x00X\\x00M\\x00U\\x00P\\x00`\\x00U\\x00\\x0b\\x00\\x1e\\x00(\\x00\\x14\\x00\\x1a\\x00\\x01\\x00\\r\\x00\\x13\\x00\\xf3\\xff\\xfa\\xff\\x16\\x00\\x1b\\x00\\x06\\x00\\xfd\\xff\\xfa\\xff\\xe4\\xff\\xdb\\xff\\xe8\\xff\\xfe\\xff\\x04\\x00\\x1f\\x00<\\x00C\\x00k\\x00t\\x00u\\x00Z\\x00\\x1f\\x00J\\x00_\\x00^\\x00\\x8a\\x00\\x82\\x00\\x89\\x00\\x99\\x00\\x95\\x00\\x9c\\x00\\x96\\x00\\x8b\\x00\\x84\\x00q\\x00L\\x00A\\x00N\\x00[\\x00Y\\x00>\\x00>\\x00Q\\x00`\\x00i\\x00}\\x00\\x8d\\x00f\\x00G\\x00J\\x00@\\x00B\\x00S\\x00I\\x00J\\x00V\\x00F\\x00R\\x004\\x00\\x11\\x008\\x00 \\x00\\x02\\x00)\\x00\\x07\\x00\\xd8\\xff\\xfa\\xff\\xfa\\xff\\x06\\x00\\x1d\\x00\\x1e\\x00@\\x00\\x16\\x00\\xeb\\xff\\xf7\\xff\\xec\\xff\\xea\\xff\\xd8\\xff\\xf0\\xff\\xee\\xff\\xbf\\xff\\xe4\\xff\\xe9\\xff\\xcd\\xff\\xcc\\xff\\xbf\\xff\\xc7\\xff\\xe4\\xff\\xf4\\xff\\xfd\\xff\\x06\\x00\\x06\\x003\\x00`\\x008\\x00/\\x00E\\x00&\\x00-\\x00E\\x00-\\x00\\x14\\x00\\x1c\\x00?\\x00G\\x00=\\x00K\\x00R\\x00f\\x00b\\x00?\\x00N\\x00t\\x00\\x90\\x00\\xa6\\x00\\xb5\\x00\\xac\\x00\\xad\\x00\\xc8\\x00\\xbf\\x00\\xc2\\x00\\xa8\\x00\\x7f\\x00\\x9d\\x00\\x7f\\x00^\\x00r\\x00^\\x00d\\x00l\\x00a\\x00b\\x00[\\x00f\\x00X\\x005\\x002\\x00%\\x00\\n\\x00\\xf0\\xff\\xfb\\xff\\x19\\x00\\x06\\x00\\xea\\xff\\xe4\\xff\\xf6\\xff\\x0c\\x00\\x0e\\x00\\x0c\\x00\\x07\\x00\\x04\\x00\\x04\\x00\\xee\\xff\\xe5\\xff\\xe1\\xff\\xb1\\xff\\xa5\\xff\\xc9\\xff\\xce\\xff\\xce\\xff\\xc2\\xff\\xc5\\xff\\xf5\\xff\\x0c\\x00\\xff\\xff\\xef\\xff\\xf9\\xff\\x06\\x00\\xf5\\xff\\xf8\\xff\\xfa\\xff\\xf1\\xff\\xe9\\xff\\xda\\xff\\xea\\xff\\xfe\\xff\\x0b\\x00\\xf0\\xff\\xc0\\xff\\xd7\\xff\\xca\\xff\\xbb\\xff\\xc7\\xff\\xa3\\xff\\xae\\xff\\xa6\\xff\\x8c\\xff\\xa0\\xff\\xa4\\xff\\xb4\\xff\\xa8\\xffw\\xffw\\xff\\x92\\xff\\x9d\\xff\\x98\\xff\\xa4\\xff\\xc2\\xff\\xd8\\xff\\xe2\\xff\\xdb\\xff\\xc9\\xff\\xc8\\xff\\xc3\\xff\\xbc\\xff\\xdd\\xff\\xe8\\xff\\xc4\\xff\\xab\\xff\\xaf\\xff\\x9f\\xff\\x85\\xff\\xa9\\xff\\xbe\\xff\\xcb\\xff\\xdf\\xff\\xa4\\xff\\xea\\xffb\\x004\\x00.\\x00!\\x00\\xf1\\xff\\x1d\\x00E\\x00n\\x00\\x9b\\x00\\x81\\x00w\\x00\\x86\\x00p\\x00s\\x00h\\x00Q\\x00u\\x00z\\x00P\\x00P\\x00N\\x00\\x11\\x00\\xf5\\xff\\xf0\\xff\\xe7\\xff\\xf6\\xff\\xf9\\xff\\xfc\\xff\\xfc\\xff\\x10\\x00*\\x00L\\x00n\\x00Y\\x00_\\x00`\\x00K\\x00I\\x00/\\x00&\\x00\\x06\\x00\\xe7\\xff\\xf6\\xff\\xf3\\xff\\xf9\\xff\\xf2\\xff\\xe8\\xff\\xff\\xff\\xf9\\xff\\xfc\\xff\\xef\\xff\\xb7\\xff\\xe7\\xff-\\x00\\x03\\x00\\xf2\\xff-\\x00B\\x004\\x00P\\x00l\\x00b\\x00]\\x00T\\x00P\\x00\"\\x00\\xfa\\xff\\x1d\\x00\\x15\\x00\\xef\\xff\\xe9\\xff\\xef\\xff\\xeb\\xff\\xf7\\xff\\x1d\\x00\\x16\\x00\\xf8\\xff\\x0b\\x00 \\x00\\x1a\\x00\\'\\x00D\\x00Z\\x00@\\x007\\x00C\\x00%\\x00=\\x006\\x00\\xff\\xff\\x1c\\x00\\x17\\x00\\xe8\\xff\\xe3\\xff\\xce\\xff\\xc6\\xff\\xd1\\xff\\xc0\\xff\\xde\\xff\\xfa\\xff\\x03\\x00\\x08\\x00\\xdb\\xff\\xc7\\xff\\x89\\xff\\xf3\\xff\\xeb\\x00>\\x00`\\xff\\xcc\\xff\\xfd\\xff\\x03\\x00\\x05\\x00\\x9f\\xffo\\xff\\xac\\xff\\xee\\xff\\x1f\\x00&\\x00\\xbd\\xff\\x92\\xff\\xfa\\xff\\x18\\x00\\x18\\x00e\\x00/\\x00\\x9d\\xff\\xb2\\xff\\x05\\x00#\\x00-\\x00\\xf9\\xff\\x04\\x00Y\\x00\\x8a\\x00\\xb6\\x00\\xa3\\x00,\\x00\\x11\\x00w\\x00[\\x00\\x0e\\x00\\x06\\x00\\xeb\\xff\\x1a\\x008\\x00\\x07\\x00\\x10\\x00#\\x000\\x00d\\x00m\\x00T\\x00d\\x00o\\x00Y\\x00x\\x00\\xa6\\x00~\\x00\\x82\\x00\\xbd\\x00\\xad\\x00\\xca\\x00\\x03\\x01\\xc7\\x00\\x9b\\x00\\xaf\\x00\\xae\\x00\\xae\\x00\\x9a\\x00\\x93\\x00\\x83\\x00S\\x00P\\x00>\\x00\\xfc\\xff\\xc1\\xff\\xe5\\xff8\\x00\\n\\x00\\xd1\\xff\\xec\\xff\\xed\\xff\\xde\\xff\\xe8\\xff\\xe8\\xff\\xcf\\xff\\xd1\\xff\\x03\\x00\\x00\\x00\\x05\\x00[\\x00^\\x00T\\x00c\\x00m\\x00\\xca\\x00\\xb9\\x00y\\x00\\x95\\x00\\xa5\\x00\\xa3\\x00w\\x00p\\x00e\\x00$\\x00 \\x00\\x06\\x00\\xde\\xff\\xad\\xff\\xb5\\xff\\x07\\x00\\xae\\xff\\x8d\\xff\\xfe\\xff\\xd8\\xff\\xaa\\xff\\xd6\\xff\\xa7\\xffV\\xff\\xa7\\xff\\xeb\\xff\\xac\\xff\\xcf\\xff\\xfa\\xff\\xf3\\xff\"\\x00\\x06\\x00?\\x00m\\x00\\xd2\\xff,\\x00t\\x00\\xd7\\xff8\\x00\\n\\x00_\\xff\\xe6\\xff\\xbe\\xff\\x93\\xff1\\x00\\x99\\xff\\\\\\xff\\xd1\\xff=\\xff\\\\\\xff\\xa8\\xff\\x17\\xff[\\xff\\xa0\\xffG\\xffS\\xff\\x91\\xff\\x91\\xffI\\xffs\\xff\\xe0\\xff\\xae\\xff\\xa9\\xff\\xf3\\xff\\xdc\\xff\\xe9\\xff\"\\x00\\xd7\\xff\\xc6\\xff2\\x00\\xfc\\xff\\xdf\\xff>\\x00\\xf8\\xff\\xe4\\xff\\xe1\\xffM\\xff\\x9f\\xff\\xec\\xffa\\xff\\xd6\\xfe\\'\\xff\\xc6\\xff\\xbd\\xfe\\x10\\xffi\\xfe\\x13\\xfdb\\x03\\x02\\x06y\\xff\\xf0\\xfd\\xb4\\x00\\xa6\\x01q\\x01K\\x00A\\x00\\x0e\\x01\\xa8\\x01\\xae\\x02V\\x02\\x0c\\x01\\xa9\\xff\\xc4\\xff\\xe3\\x01\\x04\\x01\\xa7\\xfe\\x89\\xffs\\x00\\xd0\\xff\\x91\\xff\\xb7\\xfee\\xff\\xad\\x00\\x9d\\xfe\\xcc\\xfd\\x15\\xff\\x1e\\xff\\xfe\\xfeq\\xfe<\\xfe^\\xff\\x1d\\xff\\xa5\\xfe~\\xff\\x86\\xffv\\xff\\x94\\xff\\xc1\\xff\\x92\\x00.\\x00Y\\xff\"\\x00\\x90\\x00\\x15\\x00\\xf7\\xffI\\x00\\x0c\\x01\\xba\\x00\\x1a\\x00b\\x00b\\x00c\\x00\\x0c\\x00\\xd0\\xffA\\x008\\x00\\xdf\\xff\\xdc\\xff\\xa4\\xff&\\xff\\x88\\xff\\x81\\xff\\xe0\\xfeT\\xff&\\xff\\xbc\\xfe\\x1a\\xff\\xc9\\xfe\\x9f\\xfe\\x18\\xffh\\xffC\\xff\\x00\\xffC\\xffk\\xff\\xa0\\xff\\x1b\\x00\\xf0\\xff\\xb6\\xff\\xbb\\xff\\xd7\\xff\\'\\x00\\n\\x00\\x13\\x00p\\x00C\\x00\\x06\\x00I\\x00d\\x00\\x16\\x00A\\x00_\\x00)\\x00M\\x00\\r\\x00\\x02\\x00^\\x00;\\x00C\\x00)\\x00\\xd3\\xff\\xe9\\xff/\\x00\\xec\\xff_\\xff\\xa5\\xff\\xc6\\xff\\x83\\xff)\\x00F\\x00|\\xff\\xb9\\xff+\\x00\\xeb\\xff\\xe4\\xff\\x08\\x00\\'\\x00\\x15\\x00\\xdc\\xff\\xef\\xff \\x005\\x00\\x14\\x00\\x07\\x00\\xfb\\xff0\\x00\\xc6\\x00d\\x00\\x0f\\x00\\x96\\x00\\x8a\\x00g\\x00L\\x00\\xe6\\xff\\x06\\x007\\x00\\xc0\\xff\\xac\\xff3\\x00\\xda\\xff\\x80\\xff\\xfe\\xff\\xb9\\xff[\\xff\\xfa\\xff\\xe6\\xffu\\xff\\xe0\\xff\\x93\\xffA\\xff<\\x00X\\x00g\\xff\\xa6\\xff+\\x00\\xb9\\xffN\\x00\\x9a\\x00\\x94\\xff<\\x00\\xce\\x00\\xb5\\xff\\xd3\\xff`\\x00\\xe6\\xff\\xf2\\xff\\x1d\\x00)\\x00S\\x00\\xa4\\xff\\xa0\\xff\\x02\\x00f\\xff\\xd0\\xff#\\x00t\\xff\\n\\x00\\xcd\\xff4\\xff\\x9f\\x00J\\x00\\'\\xff2\\x00u\\x00R\\x00\\x86\\x00\\xbe\\xff\\x0c\\x00\\xd0\\x00\\x0e\\x00\\x9b\\xffl\\x00q\\x00\\x90\\xff\\xfb\\xffa\\x00\\n\\x00\\xf1\\xff\\x97\\xff!\\x00\\xd2\\x00\\xa2\\xff$\\xff5\\x00\\x0e\\x00r\\xff\\xb9\\xff\\xc9\\xff\\xe3\\xffp\\x00\\xed\\xff(\\xff%\\x00\\x99\\x00\\x97\\xff\\xb7\\xff]\\x00\\x89\\xff\\r\\xffy\\x00\\xc6\\x00,\\xff\\xc0\\xfe\\xa5\\xffb\\x00\\x90\\xff0\\xfe\\xf8\\xfe\\x0f\\x00\\x82\\xff\\xe1\\xfea\\xff\\x0e\\x00\\'\\x00\\xfb\\xff\\xd1\\xffB\\x00,\\x00g\\xff \\x00\\xf6\\x00\\xc8\\xff\\x0e\\xffm\\x00\\x08\\x01\\xb7\\xff\\xaa\\xffQ\\x00\\x0b\\x00\\x7f\\x00&\\x00\\x83\\xff\\x12\\x004\\x00\\xce\\xffg\\xff\\xff\\xff\\x14\\x00^\\xff\\xd1\\xff\\xdd\\xff\\xaf\\xffU\\x006\\x00\\x7f\\xff\\xc3\\xff\\xa6\\xff\\x88\\xff\\x14\\x00o\\xff\\xfc\\xff\\xc6\\x00u\\xffd\\xff\\x94\\x00\\xab\\x00\\x08\\x00&\\x00U\\x00\\xfc\\xffj\\x00\\x87\\x00\\r\\x00n\\x00X\\x00(\\x00\\xd5\\x00L\\x00\\x99\\xffZ\\x00\\x86\\x00\\x05\\x00\\xca\\xff2\\xff\\xf2\\xff\\xdd\\x00h\\xff\\x8b\\xff\\x0e\\x01_\\x00\\xb6\\xff\\xb9\\x00\\xc5\\x00\\xbe\\xffV\\x00\\xc3\\x00H\\x00\\xa2\\x00~\\x00\\xe5\\xff\\x18\\x00j\\x00S\\x00i\\x00\\x9a\\x00\\x88\\x00<\\x00D\\x00\\xf3\\x00\\xac\\x00\\xed\\xffF\\x00\\x80\\x00\\x98\\x00\\xb6\\x00\\xeb\\xff\\xc7\\xff\\xb7\\x00:\\x00\\\\\\xff\\xee\\xffB\\x00\\n\\x00\\x9c\\xff@\\xff\\xb8\\xff\\xe2\\xff\\xd0\\xff\\xbb\\xff\\xb2\\xff\\x14\\x00\\x8b\\xff\\xf5\\xff\\'\\x019\\x00k\\xff\\xfb\\xff\\xd9\\x00\\xa0\\x00\\x86\\xff\\xa6\\xff%\\x00\\x94\\x00\\xab\\x00~\\xff\\x1a\\xffT\\x00\\xa2\\x00\\xa1\\xffU\\xffw\\xff\\xbb\\xffO\\x00,\\x00\\xc0\\xff\\xa0\\xff\\xa7\\xff\\xde\\xff\\xfa\\xff\\xd8\\xff\\xd2\\xff^\\x00\\xd5\\x00`\\x00\\xcb\\xff)\\x00\\xc1\\x00g\\x00\\xe9\\xff\\x0f\\x00*\\x009\\x00`\\x00\\xf1\\xffm\\xff\\xe0\\xff!\\x00\\xf7\\xff:\\x00+\\x00C\\x00\\xea\\xffh\\xffx\\x00-\\x00\\x15\\xff\\xd2\\xff\\x06\\x00-\\x00m\\x00\\xa8\\xff\\xc4\\xffL\\x00F\\x00*\\x00\\x0f\\x004\\x00\\x10\\x00\\xcc\\xff|\\x00\\xaf\\x00y\\xff\\x9e\\xff\\xac\\x00x\\x00p\\x00c\\x00\\x03\\x00\\xb2\\x00\\xcf\\x00\\xdc\\xffR\\x00\\xbd\\x00\\xb6\\xff\\xeb\\xff\\xee\\x00\\x9c\\x00\\x1d\\x00B\\x00>\\x007\\x002\\x00\\xe4\\xff/\\x00\\x8f\\x00\\x11\\x00\\xd7\\xff0\\x00)\\x00\\xe2\\xff\\xee\\xff\\x04\\x00\\xce\\xff\\xc1\\xff\\xe3\\xffQ\\xff/\\xff\\x15\\x00\\xec\\xff\\x89\\xff\\xd3\\xff\\x84\\xffV\\xff\\xea\\xff\\x06\\x00\\x86\\xff\\x9a\\xff\\xbc\\xff\\xca\\xffE\\x00\\xca\\xff\\xfa\\xfe\\xdd\\xff\\x84\\x00w\\xffu\\xffH\\x00\\x05\\x00N\\x00\\x9d\\x00\\xb7\\xff\\xdf\\xff\\xb5\\x00`\\x00P\\x00\\x82\\x00\\xfb\\xff+\\x00\\x13\\x012\\x01\\x99\\x00!\\x00K\\x00\\xf3\\x00\\x12\\x01\\x18\\x00r\\xff\\xd4\\xff/\\x00#\\x00\\xd2\\xffl\\xff\\xb3\\xff\\x8f\\x00S\\x00s\\xff\\x9b\\xff\\xfe\\xff\\xf6\\xff.\\x00M\\x00\\x8e\\xff7\\xff\\xef\\xff%\\x00\\xcf\\xff\\x9b\\xff[\\xff\\xae\\xff;\\x00\\xcf\\xffR\\xfff\\xff\\xd6\\xff\\x02\\x00\\x80\\xff\\x95\\xff\\xb2\\xff\\xa1\\xff4\\x00\\xce\\xff\\xf9\\xfen\\xff\\xef\\xff\\x8f\\xff\\x19\\xffH\\xff\\xc7\\xff\\xbe\\xff\\x8d\\xff\\xa4\\xffq\\xff\\x9d\\xff,\\x00\\x13\\x00\\xcb\\xff\\x85\\xff\\x89\\xff\\xe4\\xff|\\xff\"\\xffS\\xff@\\xff\\xa8\\xff\\xcd\\xff1\\xff^\\xff\\x9a\\xff\\x91\\xff\\xcc\\xffp\\xffZ\\xff\\xe7\\xff\\xe3\\xff\\xc3\\xff\\xab\\xff\\x93\\xff\\t\\x00\\x06\\x00\\x80\\xff\\xb0\\xff;\\x00r\\x00\\x11\\x00\\x9b\\xff\\xc6\\xff\\x02\\x001\\x00T\\x00\\x0c\\x00\\xe2\\xff\\xfe\\xff@\\x00F\\x00\\xf3\\xff\\xf2\\xff\\x03\\x001\\x00{\\x00\\xff\\xffe\\xff\\xcd\\xff6\\x00\\xef\\xff\\xe5\\xff\\xde\\xff\\x90\\xff\\xbb\\xff\\xc1\\xff?\\xff=\\xff\\xb2\\xff\\x9c\\xff \\xffS\\xff\\xa9\\xffP\\xff\\x13\\xff0\\xffy\\xff\\xa7\\xffK\\xff\\xf4\\xfe\\xfe\\xfeF\\xffd\\xff\\'\\xff\\x14\\xff?\\xffT\\xff\\xf6\\xfe\\xb5\\xfe\\xfe\\xfe\\xda\\xfe\\xd3\\xfep\\xff\\x7f\\xffG\\xff\\x83\\xff\\xbf\\xff\\r\\x00y\\x00[\\x00j\\x00>\\x01\\xa1\\x01y\\x01\\xbc\\x011\\x02Z\\x02\\x92\\x02\\xa9\\x02\\x88\\x02\\xe0\\x02@\\x036\\x03O\\x03g\\x03,\\x03$\\x03H\\x03\\x15\\x03\\xdb\\x02\\xb1\\x02l\\x02E\\x02\\xf0\\x01M\\x01\\xed\\x00\\xb3\\x00d\\x00%\\x00\\xad\\xff\\x02\\xff\\xab\\xfe\\x96\\xfe)\\xfeo\\xfd\\xf8\\xfc\\xb5\\xfc\\x8b\\xfc\\x81\\xfc.\\xfc\\xe8\\xfb\\xdc\\xfb\\xa8\\xfb\\x91\\xfbl\\xfb+\\xfb`\\xfb\\x9d\\xfb\\x88\\xfb\\xd0\\xfb|\\xfc\\x05\\xfd\\x1d\\xfd\\xca\\xfc\\x94\\xfcS\\xfd\\xa8\\xfe\\xdd\\xfe\\x87\\xfe^\\xff\\x8d\\x00\\x0c\\x01f\\x01\\xd5\\x01r\\x02o\\x030\\x04\\xa4\\x04\\xe9\\x04\\xfc\\x04;\\x05\\x9e\\x05\\x1c\\x06?\\x06\\xf3\\x05\\x16\\x06Y\\x06\\x17\\x06\\x90\\x05\\n\\x05\\xca\\x04\\xe2\\x04\\xbb\\x04\\xf6\\x03\\x17\\x03\\xac\\x02K\\x02\\x87\\x01\\xf0\\x00\\xa0\\x00\\x1e\\x00\\xa9\\xffJ\\xff\\xe7\\xfe\\xca\\xfeq\\xfe\\xe0\\xfd\\xd6\\xfd\\xe1\\xfd\\xaa\\xfdI\\xfd\\xf6\\xfc\\t\\xfd\\xe3\\xfc\\x89\\xfc\\xa9\\xfc\\xca\\xfc\\x9b\\xfc^\\xfc\\xd4\\xfb\\x94\\xfb\\xfd\\xfb\\xdb\\xfb?\\xfb\\x05\\xfb\\xfb\\xfa\\xad\\xfa`\\xfa\\xaa\\xfb\\xe0\\xfd \\xfd}\\xf9\\xdb\\xf8\\x9f\\xfcR\\xfe$\\xfc\\xaa\\xfbh\\xfeP\\x00\\xf0\\xff\\xaf\\xffk\\x00S\\x01\\x90\\x021\\x04h\\x05\\x9a\\x05\\\\\\x05a\\x05\\x05\\x06q\\x07\\x13\\x08\\xfa\\x06V\\x06g\\x07\\x12\\x08\\xa3\\x06\\x16\\x05\\x9c\\x05\\x80\\x06\\xbe\\x05\\n\\x04\\xce\\x02\\xca\\x02\\xf5\\x02\\xf9\\x01\\x07\\x01\\xf9\\x00\\x89\\x00\\x93\\xff\\x15\\xff3\\xff\\x1e\\xffg\\xfe\\xd2\\xfd\\x00\\xfe6\\xfe\\x82\\xfd\\xc3\\xfc,\\xfd#\\xfeT\\xfe\\x9b\\xfdj\\xfd\\xee\\xfd\\xe0\\xfd;\\xfd\\xde\\xfcF\\xfd\\xea\\xfd\\xec\\xfdX\\xfd\\xdb\\xfc\\xb9\\xfcd\\xfc\\x0f\\xfc\\xe5\\xfb5\\xfb`\\xfa\\xd6\\xf9?\\xfa\\x05\\xfcU\\xfcv\\xf9\\x18\\xf7\\xe5\\xf8\\xd7\\xfb\\x88\\xfb(\\xfa\\x06\\xfb\\xf5\\xfc\\xba\\xfd\\xc5\\xfd\\x81\\xfe\\x84\\xff\\x96\\x00@\\x02\\xcd\\x03i\\x04\\x97\\x04\\xb3\\x04\\xec\\x04S\\x06\\x03\\x08\\xdc\\x07\\xdd\\x06\\xe9\\x06\\x9b\\x07\\x86\\x07\\x86\\x06\\xf2\\x05\\x0b\\x06\\x16\\x06\\x96\\x056\\x04\\xd5\\x02d\\x02\\'\\x02y\\x01\\xdb\\x00e\\x00^\\xff7\\xfe\\x1b\\xfet\\xfe\\xff\\xfd-\\xfd\\xe6\\xfc\\x05\\xfd$\\xfd\\x1d\\xfd\\x03\\xfdN\\xfd\\x17\\xfe\\x82\\xfeh\\xfe\\x85\\xfe\\xa3\\xfe\\x87\\xfe|\\xfe\\x85\\xfe\\x9a\\xfe\\xb8\\xfe\\xe1\\xfe\\x03\\xff\\x9e\\xfe\\xa0\\xfd\\x00\\xfd\\xf4\\xfc\\xb0\\xfc\\xe1\\xfb\\xd8\\xfa\\xfc\\xf9E\\xfa\\x11\\xfcJ\\xfc\\t\\xf9\\x97\\xf6\\xac\\xf8\\xcd\\xfb\\xba\\xfb\\x99\\xfa\\x8a\\xfb\\x0f\\xfd\\x93\\xfd6\\xfe(\\xff\\x02\\x00i\\x013\\x03\\xb0\\x04\\x9d\\x05\\xc6\\x05\\\\\\x05\\x84\\x05e\\x07\\x87\\tg\\t\\xfc\\x07\\x15\\x088\\t\\xee\\x08\\xa1\\x07j\\x07\\xa0\\x07\\xf6\\x06\\x06\\x06\\x1c\\x05\\x16\\x04+\\x03\\x8c\\x02h\\x02\\x1d\\x02\\xe5\\x00\\x7f\\xff\\xfb\\xfe\\x0e\\xff\\xe3\\xfe)\\xfea\\xfdW\\xfd\\xca\\xfd\\xaf\\xfdG\\xfd\\x9c\\xfd7\\xfez\\xfe\\xc6\\xfe\\x04\\xff\\xfa\\xfe\\xce\\xfe\\xa2\\xfe\\xbb\\xfe\\xfc\\xfe\\xb0\\xfe\\x19\\xfeK\\xfe\\x05\\xff\\xe2\\xfe\\xa7\\xfd\\x9f\\xfcj\\xfcF\\xfc\\xb5\\xfb\\xdc\\xfa\\xc7\\xf9H\\xf9\\xdd\\xfa\\xd9\\xfca\\xfb\\x94\\xf7\\xc7\\xf6\\xba\\xf9\\xac\\xfb(\\xfb\\x08\\xfb\\xe9\\xfb\\x99\\xfc-\\xfdZ\\xfe\\xd0\\xff\\xa2\\x00l\\x01\\x18\\x03\\xde\\x04\\xca\\x05\\xbe\\x05g\\x05Y\\x06\\xbe\\x08\\x02\\n\\r\\t\\x1f\\x08]\\x08\\x96\\x08\\x16\\x08v\\x07;\\x07\\xb0\\x06\\x85\\x05\\x9e\\x04\\x10\\x04-\\x03\\xfe\\x01>\\x01T\\x01R\\x01?\\x00\\xc3\\xfeA\\xfe\\xcd\\xfe\\x13\\xff\\x92\\xfe)\\xfe\\x1a\\xfe\\xd3\\xfdt\\xfd\\xb3\\xfda\\xfe\\x8e\\xfe\\x85\\xfe\\xfb\\xfed\\xff\\x90\\xff\\x81\\xffW\\xff\\xa2\\xff\\xe5\\xff\\x86\\xff\\xf8\\xfe\\x0e\\xff\\xcf\\xff\\xc9\\xffe\\xfe%\\xfd \\xfdN\\xfd\\x89\\xfc\\x0b\\xfb\\xb1\\xf9\\xa3\\xf9W\\xfb\\xc2\\xfc\\x02\\xfbh\\xf7\\x83\\xf6\\xe8\\xf8\\xda\\xfa\\xd9\\xfa\\xc4\\xfa^\\xfb\\xbf\\xfb/\\xfc\\x8d\\xfdB\\xffD\\x00\\xf8\\x00\\x80\\x02\\x8e\\x04\\xce\\x05\\xc5\\x05V\\x05/\\x06R\\x08\\xb2\\tz\\t\\xc9\\x08\\xb1\\x08\\x95\\x08\\x08\\x082\\x08\\x80\\x08Y\\x07~\\x05Y\\x04\\x18\\x04\\xa8\\x032\\x02\\xe9\\x00\\xc4\\x00\\xa8\\x00\\xa3\\xffi\\xfe.\\xfe\\x85\\xfeF\\xfe\\xf5\\xfd\\x17\\xfe\\x14\\xfe\\x84\\xfd\\xf0\\xfc\\x85\\xfd\\xa7\\xfe\\xca\\xfe\\x84\\xfe\\xa1\\xfe\\x05\\xff\\x87\\xff\\x9a\\xff\\x85\\xff\\xe5\\xff\\x1c\\x00\\xbf\\xffN\\xff?\\xff\\xc7\\xff\\xe4\\xff\\x93\\xfe4\\xfd\\xed\\xfc\\xde\\xfc\\xd7\\xfbQ\\xfa\\x9b\\xf9j\\xf9\\r\\xfa\\xab\\xfb6\\xfb\\xdf\\xf7\\x8a\\xf5\\xcc\\xf6\\x82\\xf9f\\xfa(\\xfa~\\xfa\\xb7\\xfa\\xfe\\xfau\\xfc\\x8b\\xfe\\xdf\\xff\\x8c\\x00\\xa2\\x01N\\x03\\x02\\x05\\xe0\\x05\\xab\\x05\\xc3\\x05g\\x07|\\t\\xf3\\t\\x17\\t\\xa6\\x08\\x8b\\x08H\\x08\\x80\\x08\\xe6\\x08X\\x08\\x99\\x06\\x02\\x05\\xc4\\x04\\xc1\\x04\\xee\\x03\\xc1\\x02\\xec\\x01\\x84\\x01\\xd3\\x00\\xe8\\xffs\\xff9\\xff\\xf4\\xfe\\xd8\\xfe\\xe1\\xfe\\xd0\\xfeW\\xfe\\xad\\xfd\\xe4\\xfd\\x12\\xff\\xc5\\xff\\x8f\\xff=\\xff_\\xff\\xd9\\xff>\\x00\\x86\\x00\\x8a\\x00x\\x00e\\x00\\xef\\xff\\xa3\\xff\\xdf\\xff\\n\\x00\\x84\\xffJ\\xfe\\\\\\xfd\\xf8\\xfc\\x1e\\xfc\\xa4\\xfa|\\xf9\\n\\xf9A\\xf9m\\xfa\\xdf\\xfan\\xf8S\\xf5I\\xf5\\xbc\\xf7\\x8a\\xf9\\xd1\\xf9\\xd6\\xf9\\x01\\xfa\\x10\\xfa\\x1d\\xfb|\\xfdU\\xff\\xf2\\xff\\xab\\x00o\\x02\\x80\\x04\\xcb\\x05+\\x06G\\x06`\\x07B\\t\\t\\n\\xc2\\tv\\t\\xe3\\x085\\x08;\\x08\\xd8\\x08\\xc1\\x08\\x1d\\x07\\x18\\x05E\\x04;\\x04\\xcb\\x03\\xf5\\x02%\\x02J\\x01j\\x00\\xcf\\xffy\\xff=\\xff$\\xff\\x12\\xff\\xe6\\xfe\\xca\\xfe\\x86\\xfe\\xee\\xfd\\xc5\\xfdo\\xfeB\\xff\\x8c\\xff_\\xfft\\xff\\xb1\\xff\\x9d\\xff\\xc9\\xff\\x7f\\x00\\xf7\\x00\\x88\\x00\\xc6\\xffp\\xff\\xcf\\xff}\\x00\\x04\\x00h\\xfe<\\xfd\\xa7\\xfc\\xf5\\xfb\\x08\\xfb\\xe7\\xf9\\xd3\\xf8\\x8e\\xf8\\x99\\xf9\\x8d\\xfa\\x0f\\xf9\\xfd\\xf5\\x91\\xf4\\xe3\\xf5\\x08\\xf8\\x1f\\xf9t\\xf9\\x8c\\xf9I\\xf9\\xb4\\xf9\\xe5\\xfb\\xb8\\xfe@\\x00\\x8e\\x00U\\x01*\\x03\\t\\x05\\x11\\x06X\\x06\\xd8\\x06\\x12\\x08U\\t\\xe0\\t\\xc6\\tF\\tj\\x08\\xc3\\x07\\xf0\\x07\\x9b\\x08\\\\\\x08[\\x06C\\x04\\xe9\\x03Y\\x04\\x1b\\x04-\\x03\\x06\\x02\\xdd\\x00\\x01\\x00\\xd3\\xff\\x05\\x00\\xe7\\xff<\\xff~\\xfed\\xfe\\xb1\\xfep\\xfe\\xeb\\xfd\\x0e\\xfe\\x99\\xfe\\r\\xffM\\xffP\\xff8\\xff7\\xff\\xa6\\xffm\\x00\\xf1\\x00\\xca\\x00\\xf4\\xff*\\xff#\\xff\\xb7\\xff\\xe2\\xff\\xc6\\xfe+\\xfd\\'\\xfcb\\xfb\\x89\\xfa\\xdd\\xf9\\t\\xf90\\xf8*\\xf8\\xd6\\xf8\\xe9\\xf8&\\xf7\\xc6\\xf4\\xa1\\xf4\\xc7\\xf6\\xa0\\xf8K\\xf9\\x93\\xf9\\xb9\\xf9\\x0b\\xfa;\\xfb\\xb7\\xfd[\\x00\\x96\\x01\\x11\\x02 \\x03\\xe0\\x04\\xa1\\x06\\x94\\x07\\xe1\\x07s\\x08\\x95\\t\\x9a\\n\\x0b\\x0b\\xd3\\n\\xe9\\t\\xf0\\x08\\xb6\\x08\\x0f\\t\\xee\\x08\\xa0\\x07\\xcb\\x05\\x81\\x04\\xd8\\x03S\\x03\\xce\\x02\\x17\\x02\\xf2\\x00\\xd7\\xff\\x1b\\xff\\xb3\\xfe\\x99\\xfe@\\xfe\\xae\\xfd\\x85\\xfdu\\xfd?\\xfd1\\xfd7\\xfd9\\xfd\\x8c\\xfdY\\xfe\\xec\\xfe\\xe2\\xfe\\xe2\\xfe#\\xffi\\xff\\xc2\\xff\\xce\\xff|\\xffS\\xff=\\xff\\x1c\\xff&\\xff\\xda\\xfe\\xc8\\xfd\\x86\\xfc\\xa8\\xfb\\xf6\\xfa\\x02\\xfa\\xe0\\xf8\\xea\\xf7\\x8f\\xf7\\x07\\xf8d\\xf8\\x9e\\xf7\\xf8\\xf5\\xd7\\xf4n\\xf5\\x0b\\xf7-\\xf8\\xd8\\xf8\\x8f\\xf9\\x02\\xfa\\x8e\\xfa)\\xfcf\\xfe*\\x00E\\x01Z\\x02\\xea\\x03x\\x05\\x95\\x06_\\x07\\xf2\\x07\\x89\\x08J\\t$\\n\\x8f\\n\\r\\n\\xfe\\x08:\\x085\\x08W\\x08\\xda\\x07\\xdf\\x06\\xd2\\x05\\x9d\\x04d\\x03\\xa4\\x02/\\x02\\xa0\\x01\\xbc\\x00\\x92\\xff\\xc4\\xfek\\xfe\\x10\\xfe\\xd1\\xfd\\xed\\xfd\\x13\\xfe\\xf2\\xfd\\xad\\xfd\\x9f\\xfd\\xe1\\xfd<\\xfe\\xa9\\xfe\\x10\\xffE\\xffr\\xff\\xbb\\xff\\xe8\\xff\\xe3\\xff\\x03\\x00\\x1e\\x00\\xf4\\xff\\xe7\\xff\\xd5\\xff\\x8f\\xff%\\xff\\x82\\xfe\\xab\\xfd\\xbd\\xfc\\xea\\xfb\\x1b\\xfb\\r\\xfa\\x10\\xf9\\x82\\xf8=\\xf8_\\xf8\\xc8\\xf8*\\xf8v\\xf6\\xbb\\xf5\\xa9\\xf6\\xef\\xf7\\x16\\xf9\\x80\\xfa\\x9f\\xfb\\x0f\\xfc\\xce\\xfc\\x8c\\xfe\\xa9\\x00u\\x02\\xe7\\x03$\\x05p\\x06\\xec\\x07\\x19\\t\\x80\\t\\xb2\\t_\\nP\\x0b\\xea\\x0b\\xee\\x0b\\x86\\x0b\\x90\\nw\\t\\x1e\\t\\x01\\tW\\x088\\x07\\xc7\\x05?\\x04\\x0c\\x03D\\x02\\xb6\\x01E\\x01\\xba\\x00\\xb8\\xff\\x82\\xfe\\xf9\\xfd!\\xfeT\\xfeP\\xfe\\xee\\xfd\\xa5\\xfd\\xf5\\xfd`\\xfe\\x98\\xfe\\xb2\\xfe\\xe8\\xfes\\xff\\x03\\x00k\\x00\\xb6\\x00\\xb7\\x00s\\x00y\\x00\\xd0\\x00\\xd7\\x00t\\x00\\x00\\x00\\xc8\\xff\\x88\\xff\\xd9\\xfe\\xdd\\xfd\\xf8\\xfc6\\xfc\\x1a\\xfb\\xb8\\xf9\\xde\\xf8\\xb8\\xf8\\x8b\\xf8g\\xf8\\xa1\\xf8_\\xf8R\\xf7\\x8f\\xf6\\x02\\xf7L\\xf8\\xc2\\xf9\\x13\\xfb\\x02\\xfc\\xd8\\xfc\\xe9\\xfd#\\xff\\xa9\\x00T\\x02\\xe3\\x03L\\x05\\x80\\x06\\xb5\\x07\\x87\\x08\\xa8\\x08\\xd1\\x08s\\t3\\n\\x82\\nP\\n\\xb2\\t\\xb5\\x08\\xcc\\x07\\x1c\\x07\\x97\\x06J\\x06\\xa6\\x05[\\x04\\xca\\x02[\\x01\\x9b\\x00\\x93\\x00g\\x00\\x85\\xffd\\xfe\\xc7\\xfd\\xb6\\xfd\\xc8\\xfd\\xd7\\xfd\\xe2\\xfd\\xe5\\xfd\\xd8\\xfd\\xd2\\xfd\\x0c\\xfeK\\xfe\\x8c\\xfe\\xfc\\xfe\\x94\\xfff\\x00\\xd8\\x00\\x98\\x00G\\x00A\\x00\\x83\\x00\\x91\\x00g\\x00o\\x00\\x13\\x00\\'\\xfff\\xfe\\xb3\\xfd\\xc9\\xfc2\\xfc\\x84\\xfb7\\xfa\\x05\\xf9\\x1a\\xf8_\\xf7*\\xf7\\x82\\xf7\\xec\\xf7\\xf4\\xf7v\\xf7\\xba\\xf6\\xc9\\xf6\\x94\\xf7w\\xf8.\\xfa\\x1d\\xfc\\xe6\\xfcw\\xfd\\x8f\\xfe\\xbd\\xff\\r\\x01\\xaa\\x02I\\x04\\x97\\x05\\x86\\x06\\xf6\\x06?\\x07\\xae\\x07\\x15\\x08c\\x08\\x9f\\x08\\xee\\x08\\xee\\x08%\\x08\\x00\\x074\\x06\\xe7\\x05\\x9b\\x05\\xed\\x04\\xe9\\x03\\xcf\\x02\\xca\\x01\\xe9\\x00o\\x00=\\x00\\xd6\\xff>\\xff\\xad\\xfel\\xfe[\\xfe.\\xfe)\\xfe>\\xfe%\\xfe/\\xfec\\xfe\\x7f\\xfe\\xbb\\xfe\\xff\\xfe4\\xff\\xc3\\xff`\\x00\\x80\\x00X\\x00\\x17\\x00\\xf4\\xff.\\x005\\x00\\xe3\\xffq\\xff\\xc4\\xfe:\\xfe\\xc3\\xfd\\x07\\xfdV\\xfcu\\xfb@\\xfa\\\\\\xf9\\xaa\\xf8\\xe3\\xf7$\\xf7\\x8a\\xf6\\xf9\\xf6+\\xf8C\\xf8t\\xf76\\xf7y\\xf7\\xf9\\xf7\\x1e\\xf9\\xfd\\xfa\\xbb\\xfcg\\xfd\\x9b\\xfd\\x92\\xfeZ\\x00\\xf7\\x01\\x0f\\x03/\\x04N\\x05+\\x06\\xe7\\x06\\x8c\\x07\\xfc\\x07\\xfd\\x07\\xab\\x07\\xc2\\x07\\\\\\x08\\x80\\x08\\xd3\\x07\\xd6\\x06\\xe5\\x05t\\x05Q\\x05\\xe9\\x04/\\x04\\x1c\\x03\\x1b\\x02\\x8c\\x012\\x01\\xc1\\x00\\xfd\\xffZ\\xff;\\xff&\\xff\\xfd\\xfe\\xf8\\xfe\\xd9\\xfe\\x8b\\xfeU\\xfeh\\xfe\\xef\\xfeo\\xff\\x85\\xff\\xcf\\xffT\\x00\\x82\\x00z\\x00\\x84\\x00\\x83\\x00\\x7f\\x00R\\x00\\x0f\\x00\\x1f\\x00\\xa5\\xff\\xd0\\xfe\\x93\\xfeU\\xfe\\x00\\xfe8\\xfd\\x13\\xfcZ\\xfby\\xfa\\xca\\xf9P\\xf9\\xc0\\xf8\\x8d\\xf8\\x18\\xf8-\\xf8\\x1f\\xf9f\\xf9\\xe9\\xf8|\\xf8\\xf3\\xf8\\x0f\\xfa0\\xfbk\\xfc\\xac\\xfd\\xdd\\xfe\\x92\\xfff\\x00\\xed\\x01\\xe2\\x02P\\x03\\x11\\x04\\t\\x05A\\x067\\x07|\\x07e\\x07I\\x07\\x8e\\x07\\x12\\x08J\\x08>\\x08\\xda\\x07\\x07\\x07Q\\x06\\xe4\\x05\\x8a\\x05\\x1f\\x05\\x82\\x04\\xed\\x03p\\x03\\xc5\\x02\\x02\\x02O\\x01\\xbe\\x00q\\x00,\\x00\\x00\\x00\\xf5\\xff\\x9d\\xffX\\xff\\xf3\\xfe0\\xfe;\\xfe\\xe2\\xfe%\\xffJ\\xffu\\xffq\\xffR\\xff)\\xff\\x0e\\xff-\\xff\\x86\\xff\\x9d\\xff\\xf8\\xfeZ\\xfe\\x14\\xfe\\xbc\\xfd\\xc4\\xfd\\xa9\\xfdJ\\xfd\\xf3\\xfc\\xf1\\xfb4\\xfb\\x96\\xfa\\x88\\xf9y\\xf9\\xb3\\xf9z\\xf9;\\xf9\\xc3\\xf8\\xd5\\xf8W\\xf9\\xb8\\xf9+\\xfa\\x92\\xfa\\xf1\\xfa\\x80\\xfbe\\xfc\\xeb\\xfc\\xa4\\xfd\\x15\\xff\\xc2\\xffZ\\x00G\\x01\\xc8\\x01\\x99\\x02q\\x03\\x0e\\x04\\xc1\\x04F\\x05\\xf0\\x05\\x94\\x06\\xb4\\x06\\x8e\\x06h\\x06r\\x06\\xb7\\x06\\xd2\\x06g\\x06\\xf5\\x05\\xa3\\x05\\x1f\\x05\\xd9\\x04\\xa8\\x04C\\x04\\xc2\\x03\\xd9\\x02A\\x02\\x1c\\x02m\\x01\\xde\\x00\\xd5\\x00x\\x00!\\x00\\xe9\\xffR\\xff\\x03\\xff\\xef\\xfe\\xc8\\xfe\\x02\\xffL\\xff\\x86\\xff_\\xff\\xda\\xfe\\xf3\\xfe\\x06\\xff0\\xff\\xae\\xff`\\xff\\xe0\\xfef\\xfe\\x04\\xfe\\x0b\\xfe\\xf1\\xfd\\x92\\xfd;\\xfd3\\xfd\\xb0\\xfc\\x0b\\xfc\\xb9\\xfb\\x12\\xfb\\xf4\\xfa\\x9d\\xfa?\\xfa\\xd7\\xfa\\x91\\xfa\\xf7\\xf9\\xe4\\xf9&\\xfa\\x1c\\xfb\\x02\\xfc\\x87\\xfc\\xbd\\xfc\\xd9\\xfc\\xe7\\xfcX\\xfd\\x86\\xfef\\xff<\\x00\\xe2\\x00\\x1a\\x01\\xe9\\x01c\\x02\\xb7\\x02\\xad\\x03~\\x04H\\x05\\xc4\\x05\\xef\\x05(\\x069\\x069\\x06K\\x06\\x86\\x06\\x8a\\x06H\\x06\\x0e\\x06\\xb5\\x05F\\x05\\xac\\x04`\\x04m\\x04\\xe7\\x03P\\x03\\xe1\\x02\\x1e\\x02\\x83\\x01\\xfe\\x00\\xaa\\x00\\xbd\\x00z\\x00\\x1f\\x00\\xc9\\xff\\x14\\xff\\xcc\\xfe\\xcc\\xfe\\xbe\\xfe\\xf9\\xfe\\x92\\xfe\\x04\\xfe(\\xfe)\\xfe[\\xfeq\\xfe\\'\\xfeQ\\xfe\\xf5\\xfd\\x91\\xfd\\xb3\\xfdb\\xfd\\xb5\\xfd\\xa6\\xfd\\r\\xfdO\\xfd\\xc7\\xfc\\xad\\xfc\\x17\\xfd\\x80\\xfc\\x7f\\xfc\\xf1\\xfc\\xed\\xfc\\xb3\\xfc\\xd9\\xfc\\x84\\xfc2\\xfc\\xd8\\xfc\\xcd\\xfc?\\xfd\\xfa\\xfd\\x9b\\xfd\\x18\\xfer\\xfe]\\xfe\\x1b\\xffY\\xff\\xd7\\xff\\xc4\\x00\\xd2\\x00\\x0f\\x01\\xa6\\x01\\xe9\\x01\\x87\\x028\\x03Y\\x03\\x1f\\x04\\xeb\\x04\\xf2\\x04\\x8e\\x05\\xa5\\x05c\\x05\\xed\\x05\\xed\\x05\\xeb\\x05\\xff\\x05\\x86\\x05l\\x052\\x05\\xad\\x04e\\x04\\xe3\\x03\\x85\\x03Y\\x03\\xa6\\x02\\x02\\x02\\xc8\\x01N\\x01\\x9a\\x00\\x0b\\x00\\xb4\\xff\\\\\\xff\\x05\\xff\\xcb\\xfe\\x8d\\xfet\\xfeL\\xfe&\\xfe6\\xfe#\\xfe\\x16\\xfe\\x08\\xfe\\r\\xfe\\xef\\xfd\\x98\\xfd\\x94\\xfd\\xa8\\xfd\\xcb\\xfd\\xce\\xfd\\xbb\\xfd\\xfb\\xfd/\\xfe\\x08\\xfe\\xcd\\xfd\\xc6\\xfd\\xd0\\xfd\\xdc\\xfd\\xd5\\xfd\\xd7\\xfd\\xc5\\xfd\\xb7\\xfd\\xdc\\xfd\\xd8\\xfd\\x05\\xfe\\xe5\\xfd\\xac\\xfd\\xbe\\xfd\\x93\\xfd\\xc3\\xfd\\xb6\\xfd\\xa9\\xfd\\x1d\\xfeO\\xfe\\x99\\xfe\\xcb\\xfe\\xf7\\xfe/\\xff\\x88\\xffV\\x00\\xb8\\x00?\\x01\\x9a\\x01s\\x01\\x07\\x02\\x8a\\x02\\'\\x03\\xdd\\x03\\x15\\x04b\\x04J\\x04,\\x04G\\x04j\\x04\\xba\\x04\\x89\\x04-\\x04\\xd5\\x034\\x03\\xd2\\x02\\xa9\\x02\\x94\\x02\\x85\\x02)\\x02\\xe0\\x01o\\x01\\xc2\\x00\\x8c\\x009\\x00=\\x00V\\x00\\xb3\\xff\\x96\\xff\\n\\xff\\x84\\xfe\\xdd\\xfe\\x96\\xfe\\xa0\\xfe\\x03\\xff\\xf2\\xfe\\xb6\\xfe\\xa8\\xfe\\x98\\xfeT\\xfe\\xaf\\xfe\\x1d\\xffw\\xff}\\xff\\x05\\xff\\x12\\xff\\x80\\xff\\xe3\\xff\\xb7\\xff\\x9d\\xff\\x94\\xff>\\xffv\\xff.\\xff\\x08\\xff \\xff\\xb7\\xfe\\xbc\\xfeK\\xfe:\\xfeO\\xfe\\xa5\\xfdy\\xfd}\\xfd\\xaf\\xfd\\xa0\\xfd\\x9b\\xfd\\xbc\\xfd\\x99\\xfd\\x04\\xfe\\xfa\\xfdR\\xfe\\xfe\\xfe\\xbe\\xfeB\\xffv\\xff\\x87\\xffq\\x00\\xc7\\x00!\\x01X\\x01I\\x01j\\x01\\xbb\\x01w\\x02\\xb9\\x02\\xe9\\x02\\x02\\x03\\x90\\x02\\xb2\\x02\\xa4\\x02\\x80\\x02\\xba\\x02s\\x02M\\x02\\xfa\\x01\\xd9\\x01\\x18\\x02}\\x012\\x013\\x01\\xd7\\x00k\\x00\\xf2\\xff\\xd9\\xff\\xc2\\xff\\x8f\\xff\\x91\\xffn\\xfft\\xff\\x89\\xff\\x19\\xff%\\xffR\\xffM\\xff\\xae\\xff\\x8f\\xff\\x89\\xff{\\xffg\\xff\\xbb\\xff\\xc8\\xff\\x16\\x00\\x04\\x00\\x0e\\x00\\x0f\\x00\\x92\\xff\\x07\\x00\\x8b\\xff\\r\\xff~\\xff\\xed\\xfe\\xde\\xfe\\xf2\\xfe|\\xfeL\\xfe\\x02\\xfe\\x94\\xfd\\x83\\xfd\\x0c\\xfe\\x92\\xfd\\xfb\\xfc.\\xfd\\xfc\\xfcV\\xfdq\\xfdh\\xfd\\xd7\\xfd\\xc7\\xfd(\\xfe\\x81\\xfe\\xc1\\xfeo\\xffv\\xff\\x8e\\xff\\x1f\\x00i\\x00\\xa6\\x00\\x0c\\x01>\\x01\\x85\\x01\\xcc\\x01\\xae\\x01\\xfb\\x01\\x1e\\x02\\x04\\x02e\\x029\\x02\\x12\\x026\\x02\\xc2\\x01\\x80\\x01\\xcb\\x01\\xd6\\x01\\xd9\\x01%\\x02~\\x01\\xe7\\x00\\x1f\\x01\\xc1\\x00\\xdc\\x00\\xf1\\x00\\xa5\\x00\\xd4\\x00\\xaa\\x00\\xa3\\x00{\\x00,\\x00\\t\\x005\\x00\\x88\\x00C\\x00\\x80\\x00^\\x00\\xeb\\xff/\\x00&\\x00\\x9a\\x00\\xe8\\x00\\x84\\x00\\xbd\\x00\\x84\\x00!\\x006\\x00c\\xff\\x12\\xffO\\xff\\xd7\\xfe)\\xff\\x03\\xff\\x1c\\xfe\\x1a\\xfe\\xe9\\xfd\\xe8\\xfd(\\xfe\\xd9\\xfd\\xc6\\xfd\\xf5\\xfd\\x01\\xfe\\xe9\\xfd;\\xfee\\xfe\\xfd\\xfdL\\xfe^\\xfe\\xa3\\xfeb\\xff\\x0b\\xffJ\\xff\\xbd\\xff\\xc9\\xff#\\x00<\\x00\\xa7\\x00\\x9d\\x00g\\x00\\xb7\\x00\\xa8\\x00\\xef\\x00H\\x016\\x01#\\x012\\x01-\\x01\\xd5\\x00\\xed\\x00\\xe4\\x00\\xc4\\x00/\\x01\\xbd\\x00\\xc4\\x007\\x01I\\x00w\\x00\\xf5\\x00j\\x00\\xa9\\x00{\\x00,\\x00\\x95\\x003\\x00\\xde\\xff\\xf8\\xff\\xb7\\xff\\xe4\\xffA\\x00\\t\\x00\\x9b\\xff\\xa3\\xff-\\x00\\xe8\\xffl\\xff@\\x00g\\x00\\xc8\\xff8\\x00n\\x00N\\x003\\x00\\x97\\xffd\\xff`\\xff\\xe4\\xfe\\xa0\\xfe\\xc1\\xfeP\\xfe\\xed\\xfd(\\xfe\\x00\\xfe\\xd0\\xfd\\x87\\xfdW\\xfd\\x17\\xfd\\xa8\\xfc*\\xfdv\\xfd>\\xfdL\\xfd\\xa4\\xfd\\xe5\\xfd\\xb1\\xfd\\x0e\\xfe\\xbc\\xfe\\x06\\xff\\xd0\\xfe\\xba\\xfe]\\xffg\\xffx\\xff\\x06\\x00\\xd8\\xff\\xb5\\xff\\xe1\\xff#\\x00J\\x00\\xd9\\xff\\xf9\\xffM\\x00\\xf0\\xff\\x08\\x00\"\\x00\\xf8\\xffA\\x00G\\x00\\\\\\x00\\xbf\\x00\\xaf\\x00h\\x00\\x99\\x00\\xfe\\x00\\xa7\\x00\\x91\\x00\\xf3\\x00\\xa1\\x00\\xe0\\x00a\\x01\\x08\\x01\\x16\\x01o\\x01k\\x01m\\x01]\\x01 \\x01-\\x014\\x01\\x0e\\x01\\xa5\\x01\\x01\\x02q\\x01\\xf2\\x00\\xf6\\x00\\xa2\\x01^\\x01\\x9c\\x00\\xd0\\x00+\\x00\\xd8\\xffK\\x00\\xc7\\xff\\xa3\\xfft\\xff\\xc5\\xfe\\xb3\\xfe\\xdc\\xfe\\xb5\\xfeP\\xfeC\\xfe\\x16\\xfe\\x01\\xfef\\xfe`\\xfe\\x86\\xfe\\x87\\xfe\\xda\\xfd\\xe1\\xfd\\x84\\xfe\\x8e\\xfee\\xfe\\x86\\xfe\\x96\\xfe\\xf1\\xfe<\\xff\\'\\xff\\x92\\xff\\xe7\\xff\\xaa\\xffw\\xffo\\xff\\x96\\xff\\xae\\xff\\x85\\xffk\\xff\\x10\\x00n\\x00\\x9e\\xff\\xaa\\xff(\\x00\\xfa\\xff!\\x002\\x00S\\x00l\\x00#\\x00B\\x00\\x87\\x00\\xb9\\x00\\xc7\\x00\\xee\\x00e\\x01\\xaa\\x01\\xc0\\x01\\xb6\\x01\\xe5\\x01\\x03\\x02\\x0e\\x02\\x95\\x02\\x90\\x028\\x02h\\x02Y\\x02\\x03\\x02\\r\\x02&\\x02\\xb0\\x01P\\x01_\\x01E\\x01%\\x01\\x13\\x01\\xc6\\x00N\\x00\\xdb\\xff\\x93\\xff\\x93\\xff\\xac\\xffO\\xff\\xb4\\xfe{\\xfe\\xa6\\xfe\\xcb\\xfe\\xbd\\xfe\\xac\\xfe\\x9a\\xfe\\xac\\xfe\\xa0\\xfe\\x86\\xfe\\xa0\\xfel\\xfeC\\xfel\\xfe\\xac\\xfe\\xd9\\xfe\\xe1\\xfe\\x1d\\xff\\xf9\\xfe\\x93\\xfe\\xb7\\xfe\\xda\\xfe\\xc3\\xfe\\xd3\\xfe\"\\xff\\x80\\xffm\\xff;\\xff\\x9b\\xff\\xe9\\xff\\xb2\\xff\\xa6\\xff\\xbe\\xff\\xcb\\xff\\x04\\x00\\t\\x00\\x06\\x00V\\x00e\\x00\\\\\\x00\\x8b\\x00\\xbd\\x00 \\x01W\\x010\\x01N\\x01\\x80\\x01l\\x01i\\x01\\x8f\\x01\\xed\\x01X\\x02h\\x02h\\x02\\xad\\x02\\xdf\\x02\\xad\\x02\\xa0\\x02\\x1b\\x03D\\x03\\x02\\x03\\xf9\\x02\\xc6\\x02\\x8f\\x02\\xab\\x02\\x95\\x024\\x02\\xe8\\x01\\xaf\\x015\\x01\\xe8\\x00\\xd7\\x00Y\\x00\\xeb\\xff\\xc5\\xffx\\xff \\xff\\xd5\\xfe\\xa4\\xfet\\xfeR\\xfev\\xfej\\xfe/\\xfe\"\\xfe\\x10\\xfe\\xea\\xfd\\xcd\\xfd\\xf8\\xfdS\\xfea\\xfe`\\xfe~\\xfeu\\xfew\\xfeq\\xfe8\\xfe6\\xfe0\\xfe!\\xfeV\\xfeq\\xfeu\\xfe\\x8d\\xfe\\xb9\\xfe\\xed\\xfe\\x19\\xff\\r\\xff\\xb8\\xfe\\x93\\xfe\\xaa\\xfe\\xe3\\xfe&\\xff*\\xff9\\xffi\\xff\\xa5\\xff\\'\\x00\\x9a\\x00\\xa0\\x00\\x9f\\x00\\xc0\\x00\\xb9\\x00\\xb0\\x00\\xf2\\x00M\\x01{\\x01\\xb9\\x01\\xf8\\x01\\xfd\\x01*\\x02K\\x02D\\x02\\x98\\x02\\xd7\\x02\\xae\\x02\\x86\\x02\\x9e\\x02\\xcf\\x02\\xb6\\x02\\xa2\\x02\\xc3\\x02\\x87\\x02\\x08\\x02\\xd1\\x01\\xab\\x01@\\x01\\xe5\\x00\\xa7\\x00b\\x00\\r\\x00\\x80\\xff7\\xffJ\\xff-\\xff\\x07\\xff\\xed\\xfe\\xcb\\xfe\\x91\\xfe>\\xfe\\r\\xfe\\xb2\\xfdi\\xfd\\xab\\xfd\\xe8\\xfd\\xdf\\xfd\\xe4\\xfd\\x0e\\xfe\\x07\\xfe\\xd2\\xfd\\xee\\xfd,\\xfe4\\xfeF\\xfet\\xfes\\xfeX\\xfeL\\xfew\\xfe\\xe7\\xfe\\xee\\xfe\\xa5\\xfe\\xb0\\xfe\\xc5\\xfe\\xbf\\xfe\\xf6\\xfeW\\xff\\x91\\xff\\x97\\xff\\x88\\xff\\x83\\xff\\x91\\xff\\xbf\\xff\"\\x00x\\x00\\xad\\x00\\xf4\\x00\\x16\\x017\\x01\\x9d\\x01\\xea\\x01\\x19\\x02\\\\\\x02q\\x02x\\x02\\xbe\\x02\\x16\\x03b\\x03u\\x03N\\x03l\\x03\\xa6\\x03\\x87\\x03^\\x03P\\x03\\x12\\x03\\xd9\\x02\\xc1\\x02\\x81\\x029\\x02\\xe0\\x01\\x8b\\x01\\x98\\x01y\\x01\\x06\\x01\\xbb\\x00a\\x00\\t\\x00\\xc5\\xffK\\xff\\x0c\\xff\\x07\\xff\\xcb\\xfe\\x99\\xfel\\xfe\\'\\xfe\\xd8\\xfd\\x9c\\xfd\\xc6\\xfd\\x07\\xfe\\xea\\xfd\\xb7\\xfd\\xba\\xfd\\xe9\\xfd\\x14\\xfe\\xd8\\xfd\\x8e\\xfd\\xf0\\xfdX\\xfe$\\xfe\\x1b\\xfe`\\xfeU\\xfe<\\xfeV\\xfe\\x8e\\xfe\\xbb\\xfew\\xfe!\\xfe&\\xfeY\\xfe\\x98\\xfe\\xa5\\xfe\\xc7\\xfe\\x05\\xff$\\xffe\\xff\\x92\\xff\\xde\\xffK\\x00q\\x00\\xb7\\x00\\x14\\x01q\\x01\\xdf\\x01=\\x02\\xac\\x02\\xdd\\x02\\xf6\\x02C\\x03y\\x03\\x91\\x03\\x8c\\x03\\x8f\\x03\\xaf\\x03\\xa5\\x03y\\x039\\x03\\x04\\x03\\xfe\\x02\\xe4\\x02\\xb3\\x02\\xb9\\x02\\x94\\x02%\\x02\\xdd\\x01\\x81\\x01\\xff\\x00\\xd4\\x00\\xb7\\x00 \\x00\\xa4\\xff\\x8f\\xffc\\xff%\\xff\\xff\\xfe\\xbe\\xfeX\\xfe$\\xfe\\x14\\xfe\\xe2\\xfd\\x94\\xfdM\\xfd[\\xfd\\x89\\xfd\\x92\\xfd\\xac\\xfd\\xa1\\xfdk\\xfd>\\xfd)\\xfdZ\\xfd\\x81\\xfdi\\xfdv\\xfd\\x87\\xfd\\\\\\xfd`\\xfd\\x9d\\xfd\\xba\\xfd\\xc2\\xfd\\xb9\\xfd\\xce\\xfd\\x10\\xfe3\\xfeo\\xfe\\xd0\\xfe\\xf7\\xfe&\\xff\\xa5\\xff\\xf6\\xff9\\x00\\xc8\\x003\\x01X\\x01}\\x01\\xe9\\x01a\\x02\\xa0\\x02\\xe3\\x02\\x1f\\x03G\\x03\\x7f\\x03\\xcd\\x03\\t\\x04%\\x04\"\\x04\\xe0\\x03\\xe1\\x03=\\x04B\\x04\\xeb\\x03\\xa2\\x03\\xa1\\x03\\x85\\x03\\x10\\x03\\xe9\\x02\\xf9\\x02\\xa3\\x02)\\x02\\xbc\\x01m\\x01Y\\x01\\x08\\x01\\x8b\\x00P\\x00\\x03\\x00\\x8c\\xff@\\xff\\x1c\\xff\\xd8\\xfee\\xfe\\xfc\\xfd\\xc9\\xfd\\xb0\\xfdK\\xfd\\xbb\\xfc\\x86\\xfc\\xa1\\xfc\\xcc\\xfc\\xc3\\xfcu\\xfc?\\xfc\\x19\\xfc\\xcf\\xfb\\xb3\\xfb\\xf1\\xfb\\x08\\xfc\\xef\\xfb\\xf7\\xfb\\xf2\\xfb\\x01\\xfc\\x10\\xfc\\x17\\xfcc\\xfc\\xa6\\xfc\\xd4\\xfc+\\xfd\\x81\\xfd\\xe7\\xfdE\\xfe{\\xfe\\x00\\xff\\xaa\\xff\\xfe\\xffV\\x00\\xca\\x00\\x0e\\x01u\\x01\\x14\\x02\\x80\\x02\\xcc\\x02.\\x03u\\x03\\x90\\x03\\xc3\\x03\\xf1\\x03\\x18\\x04}\\x04\\xae\\x04~\\x04^\\x04Q\\x04C\\x04Z\\x04\\x88\\x04g\\x04\\x16\\x04\\xcd\\x03r\\x03L\\x03c\\x03C\\x03\\xcd\\x02k\\x02!\\x02\\xaa\\x01=\\x01\\x01\\x01\\xb5\\x00$\\x00\\xc4\\xff\\x9c\\xff5\\xff\\xca\\xfeI\\xfe\\xc8\\xfd\\x91\\xfd\\x1d\\xfd\\x88\\xfcN\\xfc\\xfd\\xfb\\x81\\xfbL\\xfb0\\xfb\\x01\\xfb\\xd2\\xfax\\xfa@\\xfaL\\xfai\\xfa\\xb8\\xfa\\x06\\xfbS\\xfb\\x80\\xfbo\\xfb\\xae\\xfb\\x0e\\xfc\\x85\\xfcI\\xfd\\xb2\\xfd\\xf1\\xfd\\x83\\xfe\\x11\\xff\\x8a\\xff \\x00\\xc9\\x00f\\x01\\xcc\\x01\"\\x02\\xcb\\x02a\\x03\\xa2\\x03\\xf7\\x03D\\x04\\x84\\x04\\xcd\\x04\\xf7\\x04\\xf5\\x04\\xd2\\x04\\xc8\\x04\\xcc\\x04\\xc7\\x04\\xe8\\x04\\xde\\x04\\x84\\x04A\\x04\\x17\\x04\\xe8\\x03\\xa9\\x03^\\x03\\x0f\\x03\\xc4\\x02\\x99\\x02^\\x02\\xf2\\x01\\xc2\\x01\\xa2\\x015\\x01\\xc6\\x00\\x80\\x008\\x00\\xcd\\xff\\x8a\\xff#\\xffq\\xfe\\x13\\xfe\\x9f\\xfd\\xf1\\xfc\\x84\\xfc\\xfa\\xfbZ\\xfb\\xf8\\xfa\\x88\\xfa\\x00\\xfa\\x9e\\xf94\\xf9\\xc6\\xf8\\xb6\\xf8\\xdc\\xf8\\xf1\\xf8\\x17\\xf9\\x0f\\xf9\\xe0\\xf8\\t\\xf9{\\xf9\\xf3\\xf9\\x89\\xfab\\xfb\\'\\xfc\\xe7\\xfc\\xbd\\xfdH\\xfe\\xf9\\xfe\\xc8\\xff3\\x00\\xcf\\x00\\xb4\\x01?\\x02\\xbd\\x02\\x80\\x03\\x06\\x04=\\x04t\\x04\\x81\\x04k\\x04\\xc1\\x04G\\x05\\\\\\x05G\\x05\\'\\x05\\x07\\x05\\x01\\x05\\xd5\\x04\\xb7\\x04\\x9d\\x04X\\x04/\\x04\\r\\x04\\xca\\x03e\\x03$\\x03\\t\\x03\\x9b\\x02\\\\\\x02\\x80\\x02:\\x02\\xca\\x01\\x86\\x01\\x02\\x01\\x95\\x00t\\x00\\x0e\\x00\\x9d\\xffZ\\xff\\xf8\\xfek\\xfe\\xfb\\xfd\\xd2\\xfd`\\xfd\\x99\\xfc\\x0e\\xfc\\x9d\\xfb$\\xfb\\xcb\\xfaF\\xfa\\xb6\\xf9\\xae\\xf9\\x97\\xf9[\\xf9|\\xf9T\\xf9\\x10\\xf9\\x1a\\xf9\\xfd\\xf8\\x13\\xf9\\xcf\\xf9\\xc6\\xfa\\x93\\xfbN\\xfc\\x18\\xfd\\xdb\\xfd\\x8a\\xfeE\\xff$\\x00\\xcd\\x004\\x01\\xe8\\x01\\xd8\\x02\\xa5\\x03[\\x04\\xbc\\x04\\xc7\\x04\\xd2\\x04\\xff\\x04Q\\x05s\\x05Y\\x05=\\x05P\\x05F\\x05\\xe8\\x04\\x01\\x05\"\\x05\\xa4\\x04b\\x04C\\x04\\xc8\\x03\\x98\\x03\\xb6\\x03g\\x03\\x07\\x03\\xd3\\x02]\\x02\\r\\x02!\\x02\\xe9\\x01g\\x016\\x01\\x15\\x01\\xd0\\x00\\x9f\\x00M\\x00\\xcf\\xffy\\xffU\\xff\\xf3\\xfec\\xfe+\\xfe\\xa2\\xfd\\x9c\\xfc\\n\\xfc\\xa7\\xfb\\x01\\xfbT\\xfa\\xce\\xf9Y\\xf9\\xf7\\xf8\\x11\\xf9q\\xf9\\x96\\xf9\\xbb\\xf9\\xe0\\xf9\\xc3\\xf9\\xe0\\xf9\\x82\\xfaO\\xfb\\x1c\\xfc\\xeb\\xfc\\xbd\\xfdo\\xfeU\\xff{\\x00I\\x01\\xe7\\x01W\\x02\\xb4\\x02\\xa8\\x03\\x80\\x04\\xb4\\x04,\\x05\\xc3\\x05\\xd2\\x05\\xba\\x05\\xd4\\x05\\x07\\x06\\x1b\\x06\\xf2\\x05\\x8e\\x05I\\x05\\x8c\\x05\\xbf\\x05{\\x058\\x05\\xdd\\x04>\\x04\\xa4\\x03&\\x03\\xd2\\x02\\xd8\\x02\\xd0\\x02<\\x02\\xf3\\x01;\\x02\\x11\\x02\\x9c\\x01[\\x01\\'\\x01\\x0c\\x01\\xb4\\x00-\\x00\\xf7\\xff\\xb5\\xff=\\xff\\xb8\\xfe3\\xfe\\xdb\\xfdp\\xfd\\xf5\\xfcZ\\xfc^\\xfb\\xce\\xfa\\x81\\xfa\\xb2\\xf9.\\xf9\\xfa\\xf8}\\xf8i\\xf8\\xb6\\xf8\\xab\\xf8\\x95\\xf8\\xa9\\xf8\\x92\\xf8\\xa4\\xf8m\\xf9\\x7f\\xfaT\\xfbi\\xfc\\xa7\\xfdS\\xfe-\\xffa\\x00\\x02\\x01\\x95\\x01c\\x02\\xe1\\x02{\\x03`\\x04\\xd8\\x04,\\x05\\xa8\\x05\\xac\\x05\\x94\\x05\\xb9\\x05\\xba\\x05\\xa0\\x05\\x87\\x05@\\x05\\xd4\\x04\\xad\\x04\\xc2\\x04\\xb5\\x04\\x86\\x04\\x17\\x04\\x96\\x03X\\x03\\x1b\\x03\\xc5\\x02\\x86\\x02j\\x02M\\x02\\xfd\\x01\\xbe\\x01\\xbc\\x01\\xb5\\x01\\xa1\\x01n\\x01\\x14\\x01\\xc4\\x00q\\x00\\x17\\x00\\xeb\\xff\\x97\\xff\\xf2\\xfe\\x8e\\xfeF\\xfe\\xa1\\xfd\\xe8\\xfc^\\xfc\\xb3\\xfb\\xd5\\xfa=\\xfa\\xcb\\xf9\\x10\\xf9z\\xf8q\\xf8\\x92\\xf8\\x99\\xf8\\x94\\xf8q\\xf8S\\xf8Q\\xf8\\x97\\xf8z\\xf9\\x90\\xfal\\xfbg\\xfc\\x90\\xfdq\\xfe-\\xffM\\x00\\x84\\x01<\\x02\\xc2\\x02N\\x03\\xe0\\x03\\xcd\\x04|\\x05\\xaa\\x05\\xd0\\x05\\xa1\\x05\\x83\\x05\\xbe\\x05\\xab\\x05\\xa8\\x05\\xb6\\x05G\\x05\\xd9\\x04\\xce\\x04\\xb8\\x04T\\x04\\xe8\\x03\\x90\\x03&\\x03\\x05\\x03\"\\x03\\xd7\\x02\\x92\\x02\\xac\\x02r\\x02\\x16\\x02\\xec\\x01\\xbb\\x01\\xba\\x01\\xb6\\x01w\\x01D\\x01\\x0f\\x01\\xf3\\x00\\xe3\\x00m\\x00\\xef\\xff\\x97\\xff\\x0f\\xff\\xa6\\xfe?\\xfet\\xfd\\xa9\\xfc\\xe4\\xfb\\xe1\\xfa\\xfe\\xf9N\\xf9\\xae\\xf8a\\xf8S\\xf8B\\xf8+\\xf82\\xf8w\\xf8\\xa4\\xf8\\x9c\\xf8\\x01\\xf9\\xf7\\xf9\\xd3\\xfa\\xc4\\xfb\\x18\\xfd0\\xfe\\x08\\xff\\xf8\\xff\\xf8\\x00\\xec\\x01x\\x02\\xe7\\x02\\xa4\\x03E\\x04\\x03\\x05\\xc4\\x05\\xcd\\x05\\x9e\\x05\\xa1\\x05v\\x05+\\x05\\x17\\x052\\x05/\\x05\\xe2\\x04^\\x04\\xf3\\x03\\xa9\\x03;\\x03\\xbf\\x02n\\x02r\\x02c\\x02\\x13\\x02\\x16\\x025\\x02\\x07\\x02\\xca\\x01\\xbc\\x01\\xcc\\x01\\xde\\x01\\xce\\x01v\\x01p\\x01\\x82\\x01\\x05\\x01\\xa1\\x00U\\x00\\xde\\xff\\x97\\xffO\\xff\\xb5\\xfe\\xff\\xfd\\xd4\\xfd\\x81\\xfd<\\xfcj\\xfb\\xdf\\xfa\\xcb\\xf9\\xe8\\xf8\\xc0\\xf7!\\xf7\\x15\\xf8\\x19\\xf9Y\\xf9L\\xf9b\\xf9.\\xf9\\xef\\xf8\\x8b\\xf9\\x90\\xfa\\xc0\\xfb&\\xfd\\xb0\\xfeQ\\x00\\xce\\x01\\xdd\\x02\\xe4\\x02\\x8a\\x02\\xd5\\x02v\\x030\\x04\\xc6\\x04\\x02\\x05Q\\x05\\x8c\\x05\\x1e\\x05J\\x04\\x92\\x03\\x1a\\x03\\xf1\\x02\\x02\\x03\\xf8\\x02\\x91\\x02@\\x02;\\x02\\x14\\x02\\xfc\\x01\\x0e\\x02\\r\\x02\\x01\\x02\\xea\\x01\\x15\\x02P\\x02?\\x02z\\x02\\xc0\\x02\\x97\\x02u\\x02e\\x02\\'\\x02\\xe0\\x01\\x9d\\x01*\\x01\\x88\\x00\\xd5\\xff\\x11\\xffY\\xfe\\x93\\xfd\\x97\\xfc\\xdf\\xfb\\x7f\\xfb\\xa4\\xfaf\\xf9T\\xf8\\\\\\xf7{\\xf6\\x1e\\xf6\\xc3\\xf6\\x18\\xf8{\\xf9\\n\\xfa\\x87\\xf9l\\xf98\\xfa=\\xfbj\\xfc\\x0e\\xfe\\xbb\\xff\\xb4\\x004\\x01\\xa9\\x01f\\x025\\x03\\x8a\\x03\\xe8\\x03e\\x04\\x9d\\x04\\xa2\\x049\\x04\\x8f\\x03!\\x03\\xeb\\x02\\xde\\x02\\xc1\\x02h\\x02\\xb7\\x01\\xdf\\x00\\xba\\x00K\\x01\\xb2\\x01\\x90\\x01l\\x01\\xce\\x01(\\x02\\x11\\x02\\x13\\x02B\\x02x\\x02\\xc1\\x02\\xe2\\x02\\xc0\\x02\\x81\\x02X\\x02\\x1b\\x02\\xde\\x01\\t\\x02\\xef\\x01N\\x01\\xad\\x00\\x13\\x00\\xa8\\xff-\\xffR\\xfe\\xa1\\xfd8\\xfd\\x9d\\xfc\\xc8\\xfb!\\xfb\\xba\\xfa\\x19\\xfa&\\xf93\\xf8s\\xf7\\xff\\xf6\\xa5\\xf6\\xee\\xf6\\xaf\\xf8\\xa7\\xfa\\xb6\\xfa\\x92\\xf9\\xc2\\xf9\\x7f\\xfbR\\xfd\\x95\\xfe\\xdc\\xffO\\x01\\xe5\\x01\\n\\x023\\x03\\xa7\\x04\\x10\\x05?\\x05\\x86\\x05_\\x05~\\x05d\\x05Y\\x04\\x8d\\x03\\x9b\\x03\\xb8\\x03\\\\\\x03\\xf9\\x02\\xad\\x02\\xd4\\x01\\x18\\x01\\xd5\\x01\\xfa\\x02\\xcc\\x02\\xe0\\x01\\x8b\\x01\\xc2\\x01\\xfb\\x01D\\x02\\x95\\x02\\xa2\\x02N\\x02\\x0e\\x02\\x1f\\x02\\x1a\\x02\\x01\\x02\\xd8\\x01u\\x01]\\x01\\x8b\\x01*\\x01n\\x00\\xff\\xff\\n\\x00\\xf9\\xffF\\xff\\x8d\\xfe\\xba\\xfd\\xb1\\xfc\\xf9\\xfb\\x81\\xfbV\\xfb8\\xfbm\\xfa;\\xf9l\\xf8\\xf2\\xf7w\\xf7\\xcf\\xf7\\x8e\\xf9^\\xfbd\\xfb\\x9f\\xf9\\xfb\\xf8*\\xfb\\x9b\\xfd\\xa2\\xfe\\xaa\\xff\\xe1\\x00$\\x01b\\x01\\xf3\\x02\\xe5\\x04\\xe9\\x05 \\x06\\x03\\x06\\xd4\\x05\\xbe\\x05}\\x05\\xf8\\x04\\x8e\\x04\\x94\\x04\\x95\\x04\\xff\\x03N\\x03\\xf9\\x02\\x8a\\x02\\xd0\\x01\\x16\\x02L\\x03f\\x03\\x11\\x02\\xe1\\x00\\x1b\\x01\\xf2\\x01\\x1f\\x02\\x1e\\x02%\\x02\\x92\\x01\\xd4\\x00\\xd1\\x00U\\x01\\x93\\x01Q\\x01\\xe0\\x00\\xaa\\x00\\xea\\x00\\xc5\\x00\\xc2\\xff/\\xff\\x8a\\xff\\x9f\\xff\\xd5\\xfe\\xd5\\xfd \\xfdd\\xfc\\xa4\\xfbU\\xfb \\xfb\\x87\\xfa\\xbf\\xf9\\xc7\\xf8\\xcc\\xf7Q\\xf7b\\xf7\\x7f\\xf8\\xb1\\xfa\\xec\\xfb\\xe0\\xfaG\\xf9\\xf1\\xf9\\xd5\\xfc)\\xff\"\\x00\\x06\\x01\\x9a\\x01\\x9b\\x01\\x8e\\x02\\xab\\x04N\\x06\\xba\\x06\\x91\\x06K\\x06\\x17\\x06>\\x06(\\x06L\\x05\\xb3\\x04\\xf4\\x04\\x91\\x047\\x03\\xa9\\x02\\xc7\\x02Y\\x02\\xf6\\x01\\x9b\\x02\\x93\\x03V\\x036\\x02\\xeb\\x01\\xc5\\x02\\xa6\\x03\\xb7\\x03`\\x03D\\x03\\xd8\\x028\\x02G\\x02\\x7f\\x02M\\x02\\xbf\\x01\\xeb\\x00\\x90\\x00\\xb4\\x004\\x00B\\xff\\xc2\\xfe\\x92\\xfe6\\xfez\\xfd\\x86\\xfc\\x99\\xfb\\xcc\\xfa-\\xfa\\xee\\xf9\\xd3\\xf9\\x1d\\xf9\\x16\\xf8{\\xf7-\\xf7\\xcf\\xf6\\xf4\\xf6\\xdd\\xf8?\\xfb!\\xfb\\x02\\xf9h\\xf8\\xe3\\xfa\\xef\\xfd=\\xff\\x11\\x00:\\x01`\\x01r\\x01\\xba\\x03x\\x06\\xec\\x06b\\x06\\x8c\\x06\\x16\\x07q\\x07;\\x07\\x93\\x06\\xd4\\x05\\xbf\\x05\\x00\\x06\\x14\\x05\\n\\x04\\x07\\x04\\xea\\x03y\\x03_\\x03\\xe6\\x03\\\\\\x04\\xcf\\x03\\xc7\\x02\\xa6\\x02\\xa2\\x03X\\x04\\x0b\\x04~\\x036\\x03\\xf7\\x02\\x99\\x02\\xbf\\x02B\\x03\\xc8\\x02\\x90\\x01\\xdc\\x00\\xb7\\x00\\x89\\x00\\xdd\\xff\\xfa\\xfe\\\\\\xfe\\x10\\xfe\\x9e\\xfd\\x85\\xfcw\\xfb\\xeb\\xfa;\\xfa\\x8e\\xf9\\x8c\\xf9p\\xf9-\\xf8\\xeb\\xf6x\\xf6\\x12\\xf6.\\xf6\\xca\\xf74\\xfa\\xd5\\xfa\\xc2\\xf8m\\xf7_\\xf9\\x8f\\xfc;\\xfe\\x7f\\xfe\\xe8\\xfeu\\xff\\x1a\\x00\\r\\x02\\x19\\x05\\xf4\\x06=\\x06g\\x05w\\x06\\xba\\x07\\xe7\\x077\\x07o\\x06Q\\x06t\\x06\\x11\\x06B\\x05\\xb8\\x04e\\x04\\xe8\\x03\\xa1\\x03\\xf6\\x03=\\x04\\x80\\x03m\\x02\\x8a\\x02\\x9c\\x03>\\x04\\xbb\\x03\\xee\\x02\\xca\\x02i\\x02\\xab\\x01\\xbe\\x01\\x18\\x02\\xa9\\x01\\xcc\\x00?\\x00C\\x00\\t\\x00\\x1b\\xff\\x98\\xfeu\\xfe\\xed\\xfd=\\xfdA\\xfcP\\xfb\\xaf\\xfa\\xa8\\xf9\\xd2\\xf8\\xb8\\xf8b\\xf8G\\xf7\\x15\\xf6\\xa1\\xf5z\\xf5U\\xf5\\x89\\xf6\\xbd\\xf88\\xf9.\\xf7\\xc3\\xf5\\n\\xf8\\xa3\\xfb\\xf5\\xfc\\xd6\\xfc(\\xfd\\xc6\\xfdV\\xfeE\\x00^\\x03\\x92\\x04\\xf7\\x03\"\\x04m\\x05\\xe8\\x06\\x98\\x07\\xfa\\x06>\\x06\\x94\\x06\\xf9\\x06r\\x06\\xd8\\x05\\x89\\x05-\\x05\\xe6\\x04\\xcd\\x04\\xf8\\x04.\\x05\\xdb\\x04\\xea\\x03H\\x03\\xbd\\x03\\\\\\x04C\\x04\\xdd\\x03\\x80\\x03\\xd2\\x02\\xf6\\x01\\xd8\\x01U\\x02A\\x02y\\x01\\xe8\\x00\\x9e\\x00\\xff\\xff%\\xff\\xcc\\xfe\\xe8\\xfe\\x9d\\xfe\\xa1\\xfds\\xfc\\xae\\xfb\\xd8\\xfa\\xb4\\xf9&\\xf9\\x0e\\xf9\\xd5\\xf8\\x10\\xf8\\x9f\\xf6\\x89\\xf57\\xf5\\x88\\xf5K\\xf7e\\xf9\\xea\\xf86\\xf6\\xbb\\xf5\\x19\\xf9\\xf4\\xfb=\\xfc\\xfe\\xfb\\xeb\\xfb?\\xfc\\xe7\\xfd\\xcd\\x00\\xe0\\x02\\xe2\\x02\\\\\\x02\\xf1\\x02\\xc2\\x04\\x8b\\x06\\xcf\\x06\\xc4\\x05P\\x05;\\x06\\xda\\x06E\\x06\\xd4\\x05\\xec\\x05\\x86\\x05\\xf6\\x04\\x17\\x05\\xe2\\x05u\\x06\\x90\\x05\\xfe\\x03\\xc7\\x03\\xbf\\x04\\x0e\\x05T\\x04\\xd6\\x03\\xc9\\x039\\x03\\x96\\x02\\xaf\\x02\\xef\\x02\\xb7\\x02;\\x02\\x11\\x02%\\x02\\xa4\\x01\\x9f\\x00\\xf7\\xff\\xbf\\xffj\\xff\\x85\\xfeJ\\xfd\\x81\\xfc\\x9c\\xfb4\\xfa\\x8a\\xf9\\x9b\\xf9\\n\\xf9\\xa9\\xf7\\xac\\xf6\\x05\\xf6d\\xf5\\xb8\\xf6\\x7f\\xf9\\x99\\xf9\\xde\\xf6\\xe5\\xf5\\xb5\\xf8 \\xfc\\x02\\xfdS\\xfc\\xe9\\xfb\\x07\\xfcK\\xfd\\x00\\x002\\x02\\x1c\\x02,\\x01\\xb0\\x01\\x85\\x034\\x05\\x98\\x05\\xa6\\x04\\x0b\\x04\\xcb\\x04\\xe0\\x05<\\x06\\x0b\\x06\\xe1\\x05\\x95\\x05L\\x05\\x8c\\x05\\xd0\\x05\\xe8\\x05G\\x06&\\x06\\x16\\x05\\x9e\\x04\\x16\\x05;\\x05\\xf6\\x04\\xc7\\x04Q\\x04M\\x03\\xda\\x02q\\x03\\xa0\\x03\\x05\\x03\\x8e\\x02f\\x02-\\x02\\xe7\\x01h\\x01_\\x00\\x87\\xff\\x1d\\xff;\\xfeQ\\xfd\\xd6\\xfc\\xc1\\xfbg\\xfa\\xd2\\xf9e\\xf9\\xa7\\xf8\\xa8\\xf7^\\xf6\\xc2\\xf5n\\xf7\\x96\\xfa\\xd8\\xfa\\x83\\xf74\\xf6B\\xf9C\\xfc1\\xfcm\\xfb\\xba\\xfb=\\xfc[\\xfd\\xea\\xff\\x07\\x02\\x82\\x01\"\\x00\\xc4\\x00\\xdc\\x02Q\\x04v\\x04\\xa5\\x035\\x03<\\x047\\x05P\\x05\\x91\\x05\\xc1\\x05z\\x05-\\x05R\\x05\\xfc\\x05^\\x06\\xcf\\x05\\x0f\\x05U\\x05\\xec\\x05)\\x05\\xd6\\x03\\xbc\\x03E\\x04\\xf7\\x03:\\x03\\xcb\\x02n\\x02\\x12\\x02\\x05\\x02`\\x02V\\x02;\\x010\\x00d\\x00\\xeb\\x00j\\x00\\xfe\\xfe\\xa6\\xfd\\x1a\\xfd\\x8d\\xfcq\\xfb\\xb4\\xfaG\\xfa1\\xf9\\xd2\\xf7T\\xf7\\t\\xf7\\xa1\\xf6\\x1e\\xf8i\\xfa\\x93\\xf9\\xa6\\xf6\\xc4\\xf6\\xa3\\xfas\\xfd\\xb6\\xfc\\x83\\xfb\\xc1\\xfb]\\xfc\\xfa\\xfd\\xd5\\x00T\\x02#\\x01\\xf0\\xff\\x12\\x010\\x03\\x82\\x04Q\\x04\\x14\\x03\\xa9\\x02\\x90\\x03\\x89\\x04\\xee\\x047\\x05\\x85\\x055\\x05\\x14\\x05\\x11\\x06\\xb4\\x06\\xb0\\x05\\x8c\\x04\\xa1\\x05C\\x07\\x13\\x06\\x98\\x031\\x03M\\x04\\x8b\\x04\\xa4\\x03\\x87\\x02\\x93\\x01\\xe2\\x00\\xe6\\x00\\x97\\x01\\xda\\x01\\xac\\x00\\xe3\\xfe\\xb4\\xfe\\xdd\\xff\\xec\\xff`\\xfe\\xcc\\xfcV\\xfc\\x16\\xfc@\\xfb\\x95\\xfaL\\xfau\\xf9\\xff\\xf7\\x1a\\xf7\\xc3\\xf6\\xb3\\xf6#\\xf8:\\xfa\\x97\\xf9\\xa9\\xf6:\\xf6\\xb9\\xf9\\xdd\\xfc\\xbe\\xfch\\xfb\\xf7\\xfaM\\xfb\\xc6\\xfc\\xac\\xff\\xad\\x01\\xbd\\x00$\\xff\\xdc\\xff\\xc7\\x01\\xc8\\x02\\xe9\\x02t\\x02\\xfb\\x01\\x88\\x02\\x90\\x03\\x18\\x04\\xb8\\x04y\\x05`\\x05m\\x05\\xac\\x06}\\x07\\xb4\\x06+\\x06\\xb7\\x07\\xf3\\x08S\\x07U\\x05G\\x05\\xa3\\x05(\\x05C\\x044\\x03)\\x02w\\x01{\\x01\\xdd\\x01R\\x01\\xd8\\xff\\xc0\\xfe\\xf8\\xfe\\xd9\\xff\\x81\\xff\\xbc\\xfd\\x8c\\xfc|\\xfc5\\xfcn\\xfb\\xc8\\xfa\\x19\\xfa\\xd1\\xf8\\xf4\\xf7\\xe8\\xf75\\xf7\\xd6\\xf6\\xa1\\xf8\\xaa\\xfa\\x8e\\xf9\\xd5\\xf6G\\xf7\\x85\\xfa8\\xfc\\x8b\\xfb\\xfa\\xfaN\\xfb\\xfa\\xfby\\xfd\\xd6\\xff\\xe5\\x00\\xc9\\xff5\\xffn\\x00\\x05\\x02\\x95\\x02\\xf1\\x01.\\x01X\\x01y\\x02f\\x03\\x93\\x03\\xe4\\x03\\xcf\\x04\\xac\\x05C\\x06\\xdf\\x06(\\x07|\\x07d\\x08\\x08\\t~\\x08d\\x07E\\x07\\xc5\\x07\\x8a\\x07\\x91\\x06\\x04\\x05\\x8e\\x03%\\x03I\\x03 \\x03]\\x02*\\x01M\\x00W\\x00\\xba\\x00h\\x00P\\xffK\\xfe\\xa8\\xfd\\x15\\xfd\\x85\\xfc\\x07\\xfc#\\xfb\\xaf\\xf9\\xca\\xf8\\xa0\\xf8\\xbf\\xf7\\xe4\\xf6\\x08\\xf8\\xfb\\xf9\\x7f\\xf9\\xda\\xf6I\\xf65\\xf9\\xbb\\xfb&\\xfb\\xf3\\xf9j\\xfa|\\xfb\\xab\\xfc\\xae\\xfe6\\x00v\\xff]\\xfe\\x7f\\xff\\xdb\\x01\\'\\x03\\x8b\\x02(\\x01\\xe6\\x00\\xea\\x01\\xbb\\x026\\x03\\x07\\x04\\x8a\\x04?\\x04*\\x04y\\x05q\\x07v\\x08o\\x08\"\\x08\\x1f\\x08\\x98\\x08e\\t\\xf7\\tp\\t\\xb0\\x07\\xe6\\x05\\x8c\\x05u\\x06\\x83\\x06\\xa5\\x04w\\x02r\\x018\\x01I\\x01\\\\\\x01\\x86\\x00v\\xfe\\xc5\\xfc\\xc0\\xfc@\\xfd\\xe0\\xfc\\xbf\\xfb9\\xfa\\xbc\\xf8]\\xf8\\xb1\\xf80\\xf8\\x8b\\xf7;\\xf8\\n\\xf9\\xb3\\xf7\\xf5\\xf5h\\xf7|\\xfa\\x03\\xfb\\x80\\xf9\\x1f\\xf9\\xdc\\xf9\\xd9\\xfa\\xb4\\xfc\\xbf\\xfeC\\xff.\\xfe\\xa2\\xfd\\x1e\\xff~\\x01x\\x02!\\x01\\x9a\\xff\\xef\\xff.\\x01F\\x02 \\x03\\x8e\\x03i\\x03\\x06\\x03\\x8f\\x03R\\x05\\xed\\x06C\\x07\\xd2\\x06\\xf4\\x06\\xdd\\x07\\xc1\\x08m\\t\\xe2\\to\\t\\xec\\x07\\xbe\\x06\\xfd\\x06\\x9a\\x07\\xed\\x06Q\\x05\\x1e\\x04d\\x03\\x98\\x02\\xf2\\x01\\x99\\x01\\xfb\\x00\\xbe\\xff5\\xfe>\\xfd\\x1e\\xfd\\xea\\xfc\\xed\\xfb\\xbb\\xfa6\\xfa\\x8f\\xf98\\xf8\\xcd\\xf7n\\xf9\\xde\\xfa\\xff\\xf8U\\xf6?\\xf7\\x0c\\xfa\\x12\\xfb$\\xfa\\x19\\xf9\\xdd\\xf8\\xa7\\xf9\\x8a\\xfbQ\\xfd\\xb1\\xfd\\xb3\\xfc\\xf2\\xfbA\\xfd\\xc0\\xff\\xe0\\x00\\x01\\x00\\xf9\\xfe\\x9e\\xff$\\x01\\xe2\\x01|\\x02\\x84\\x03~\\x03\\x1b\\x02\\xca\\x01\\xa4\\x03<\\x05S\\x05;\\x05v\\x05\\xa9\\x05\\x13\\x06\\x0c\\x07/\\x08\\x81\\x08x\\x07:\\x06c\\x06P\\x07_\\x07<\\x06\\xc7\\x04\\xe4\\x03J\\x03\\x82\\x02\\xfd\\x01U\\x01\\xb2\\xff3\\xfe\\x10\\xfeV\\xfe\\xd0\\xfd\\x8b\\xfc\\x83\\xfb\\xef\\xfa\\x0e\\xfa\\xb9\\xf9\\x05\\xfb!\\xfc\\xe8\\xfa\\xd8\\xf8\\xd8\\xf8}\\xfa\\x8d\\xfb/\\xfb\\xee\\xf9\\x14\\xf9l\\xf9\\xbd\\xfa\\xe8\\xfb0\\xfc\\xe3\\xfbB\\xfbf\\xfb#\\xfd\\x95\\xfeU\\xfe\\xbf\\xfd\\x17\\xfeH\\xff\\x82\\x00V\\x01\\xe7\\x01\\xa2\\x01\\xf1\\x00\\x8d\\x01F\\x03K\\x04\\xfc\\x03r\\x03\\x94\\x03u\\x04\\x94\\x05?\\x06V\\x06\\xec\\x05M\\x053\\x05\\xc8\\x05~\\x06u\\x06^\\x05U\\x04\\x06\\x04\\xd0\\x03x\\x03\\xc4\\x02\\x82\\x01\\x13\\x00\\xf1\\xfe\\x82\\xfe5\\xfe\\x8b\\xfd\\x02\\xfdQ\\xfc\\t\\xfb\\xf7\\xf9e\\xfa\\xee\\xfb~\\xfc\\x8e\\xfb\\xa7\\xfaJ\\xfb\\xaf\\xfcY\\xfdp\\xfd\\x92\\xfc\\xf1\\xfa\\xa7\\xfaK\\xfc\\x04\\xfe\\x1e\\xfe\\xc4\\xfc\\xa6\\xfb6\\xfc\\xd7\\xfd\\xfb\\xfe\\xc6\\xfe\\xb4\\xfd\\x12\\xfd\\x8d\\xfdI\\xff\\x1c\\x01h\\x01l\\x00\\xc6\\xff\\x9c\\x00:\\x02.\\x03\\x84\\x03\\xaa\\x03X\\x03 \\x03\\xdb\\x03\\xf0\\x04\\x0c\\x05+\\x04\\x87\\x03`\\x03A\\x03X\\x03\\xba\\x03\\xbb\\x03\\xa2\\x029\\x01\\xdb\\x00P\\x01u\\x01\\xc3\\x00\\xa8\\xff\\xae\\xfe\\t\\xfe\\xa9\\xfd\\xb5\\xfd\\xf5\\xfdF\\xfd\\x91\\xfb_\\xfa)\\xfb\\x12\\xfd\\xc3\\xfd\\xfd\\xfc\\x7f\\xfc\\x07\\xfd\\xbc\\xfd_\\xfe\\xdd\\xfe\\x83\\xfev\\xfd\\x02\\xfd\\xe0\\xfd\\x07\\xff}\\xff\\x1c\\xffw\\xfe\\x9b\\xfee\\xff\\xcb\\xff\\x85\\xff?\\xff\\x91\\xff\\x0f\\x00*\\x00]\\x00\\xd9\\x00\\x0e\\x01\\x15\\x015\\x01Y\\x01\\xab\\x01m\\x02\\x0c\\x03F\\x03\\xaf\\x03\\t\\x04#\\x04b\\x04\\x83\\x048\\x04\\xad\\x03C\\x03\\xfd\\x02{\\x02\\xee\\x01k\\x01\\x90\\x00\\xa7\\xff\\x18\\xff\\xca\\xfet\\xfe\\xb9\\xfd\\xaa\\xfc3\\xfc\\xaf\\xfc\\xda\\xfcA\\xfc\\x93\\xfbE\\xfb\\xe1\\xfb\\x12\\xfd\\xdf\\xfd\\n\\xfe\\xfb\\xfdE\\xfe(\\xff&\\x00\\xb0\\x00\\x87\\x00\\xd6\\xff\\x8b\\xff\\xf6\\xff\\x88\\x00\\x0b\\x01@\\x01\\'\\x01\\x06\\x01\\xd8\\x00\\'\\x01.\\x02\\xc4\\x02b\\x02\\x8a\\x011\\x01\\x0f\\x02\\x0e\\x03\\xf8\\x02G\\x02\\x9d\\x015\\x01\\x84\\x01<\\x02q\\x02\\x0b\\x02\\xa7\\x01\\xdb\\x01r\\x02\\xd2\\x02\\xd5\\x02\\x9e\\x02v\\x02>\\x02\\xc4\\x01g\\x01\"\\x01\\xa9\\x00\\x08\\x002\\xffZ\\xfe\\xcb\\xfd,\\xfdV\\xfcn\\xfb\\xd0\\xfak\\xfa\\xcf\\xf9\\xbc\\xf9\\xf0\\xf9\\xe7\\xf9\\xab\\xfa\\xc7\\xfb$\\xfcI\\xfcg\\xfd\\xfb\\xfe\\xa5\\xff!\\x00\\xc5\\x00\\xca\\x00\\xab\\x00C\\x01+\\x02[\\x02\\x0c\\x02\\xb0\\x01m\\x01\\x97\\x01\\xe2\\x01\\r\\x020\\x02Z\\x02v\\x02\\x85\\x02\\xff\\x02\\xd2\\x031\\x04\\xe5\\x03k\\x033\\x03O\\x03g\\x034\\x03\\xe2\\x02\\x88\\x021\\x02 \\x02\\r\\x02\\xba\\x01U\\x01\\xa2\\x00O\\x00\\x83\\x00\\x11\\x00[\\xff\\xde\\xfe^\\xfe\\x15\\xfe\\xde\\xfd[\\xfd(\\xfc\\xca\\xfal\\xfa\\xad\\xfam\\xfa\\x8c\\xf9\\x83\\xf8\\x07\\xf8\\xa3\\xf8\\xb0\\xf9.\\xfa\\xe6\\xf9|\\xf9V\\xfas\\xfc\\x0c\\xfeU\\xfe?\\xfe\\xc3\\xfe\\xe2\\xff.\\x01\\x15\\x02\\x90\\x02\\xc3\\x02\\x9d\\x02\\xb8\\x02)\\x03_\\x03V\\x033\\x031\\x03f\\x03\\xa5\\x03 \\x04\\xd8\\x04.\\x05\\t\\x05\\x01\\x05*\\x05;\\x05W\\x05u\\x05Y\\x05\\x15\\x05\\x96\\x04\\x08\\x04\\xc6\\x03\\x9c\\x03$\\x03\\x1c\\x02\\xee\\x00R\\x00\\x08\\x00\\x8d\\xff\\n\\xffd\\xfep\\xfds\\xfc\\x98\\xfb\\xe5\\xfaf\\xfa\\x1d\\xfao\\xf9+\\xf8o\\xf7w\\xf7\\xbc\\xf7A\\xf8\\xae\\xf8z\\xf8\\xc9\\xf7\\xfd\\xf7\\xe2\\xf9\\x83\\xfb\\x82\\xfb1\\xfb\\xac\\xfb\\xa4\\xfc\\xc3\\xfd\\xfe\\xfe\\xc0\\xff\\xfd\\xffL\\x00\\xb4\\x00\\x8e\\x01\\xd4\\x02~\\x03Q\\x03\\x0c\\x037\\x03\\xd5\\x03v\\x04\\xd8\\x04\\x14\\x05\\xdd\\x04i\\x04\\xc8\\x04\\xde\\x05^\\x06\\r\\x06\\xdc\\x05!\\x06b\\x06}\\x06Y\\x06\\xb3\\x05\\xfe\\x04|\\x04\\x11\\x04\\xc4\\x03%\\x03\\x0e\\x02\\xff\\x00\\x85\\x00o\\x00\\xc9\\xffH\\xfe\\xad\\xfc\\xcd\\xfb\\x7f\\xfb\\x05\\xfb\\xe8\\xf9u\\xf8\\xa4\\xf7\\xa9\\xf7\\xd8\\xf7\\xbe\\xf7\\x88\\xf7`\\xf7H\\xf7\\xe0\\xf76\\xf94\\xfa\\x96\\xfa\\xe3\\xfah\\xfbI\\xfcI\\xfd\\n\\xfex\\xfe\\x94\\xfe\\xc8\\xfe,\\xff}\\xff\\x00\\x00\\x90\\x00\\xcb\\x00\\x02\\x01]\\x01\\xb7\\x01B\\x02\\x18\\x03\\xca\\x03\\x03\\x04N\\x04\\xe4\\x04M\\x05\\xa4\\x05\\xf5\\x05\\x17\\x06\\x04\\x06\\xe0\\x05\\xe3\\x05\\xcd\\x05\\xac\\x05\\xc9\\x05\\xc5\\x05W\\x05\\xc8\\x04g\\x04$\\x04\\x94\\x03\\xc9\\x02\\x13\\x026\\x01%\\x00L\\xff\\xc0\\xfe\\x19\\xfe\\x07\\xfd\\xb6\\xfb\\xdb\\xfa\\xce\\xfau\\xfaw\\xf9\\x07\\xf9\\x0f\\xf9\\xeb\\xf8\\x1e\\xf9\\xaa\\xf9\\xde\\xf9\\xdb\\xf9/\\xfa\\xb4\\xfa?\\xfb\\xe0\\xfb~\\xfc\\xf9\\xfca\\xfd\\xc3\\xfd\\x06\\xfe\\x86\\xfe&\\xffr\\xff\\xd7\\xff1\\x00\\x0e\\x00\\x03\\x00\\x95\\x00[\\x01\\xb6\\x01\\xb9\\x01\\xe2\\x01u\\x02\\x1d\\x03\\x93\\x03\\x13\\x04\\xa8\\x04\\xfd\\x04\\xd6\\x04\\xec\\x04\\x82\\x05o\\x05\\xd2\\x04\\xce\\x04\\x15\\x05\\xcb\\x04;\\x04\\xee\\x03\\x88\\x03 \\x03\\xd2\\x02&\\x02q\\x01\\xc7\\x00\\n\\x00\\xb1\\xff=\\xff8\\xfej\\xfd\\x08\\xfd\\x82\\xfc\\xf4\\xfb\\xa4\\xfby\\xfbr\\xfb\\x9d\\xfb\\xab\\xfbR\\xfb+\\xfb\\xa6\\xfb3\\xfcm\\xfc\\x83\\xfc\\x0c\\xfd\\xc1\\xfd\\xc9\\xfd{\\xfd\\xb7\\xfd\\x9f\\xfe\\x14\\xff\\xa4\\xfe\\x83\\xfe\\x19\\xff\\xe6\\xffX\\x00i\\x00~\\x00u\\x00\\xbf\\x00\\x9a\\x01\\x0b\\x02\\xac\\x01|\\x01:\\x02%\\x03\\x8f\\x03\\xba\\x03\\xa8\\x03y\\x03\\xdd\\x03t\\x04\\x97\\x04\\x98\\x04S\\x04\\x01\\x04\\x07\\x04\\xcb\\x030\\x03\\xc3\\x02\\xa4\\x02\\x1a\\x024\\x01\\xc2\\x00x\\x00\\x15\\x00\\xab\\xffK\\xff$\\xff\\xe3\\xfes\\xfe\\x15\\xfe\\xc6\\xfdV\\xfd\\xe5\\xfc\\xcf\\xfc\\xe2\\xfc\\x16\\xfdG\\xfd\\x04\\xfd\\xd9\\xfc#\\xfd\\x9b\\xfdF\\xfe\\x97\\xfe0\\xfe\\xe5\\xfd\\x18\\xfe~\\xfe\\xc1\\xfe\\xd3\\xfe\\xdb\\xfe\\xa5\\xfe\\xb1\\xfeV\\xff\\xa0\\xff{\\xff\\x9f\\xff\\x17\\x00\\x9f\\x00+\\x01\\x9c\\x01\\xce\\x013\\x02\\xc7\\x02\\xfc\\x02\\x0b\\x03%\\x03\\x18\\x03\\xf4\\x02\\x1c\\x03A\\x03\\xd5\\x02\\xb4\\x02%\\x037\\x03\\xb1\\x02(\\x02\\x04\\x02\\xed\\x01\\xbc\\x01\\x91\\x01F\\x01\\x02\\x01\\xbd\\x00`\\x00\\\\\\x00z\\x00A\\x00\\xd9\\xffr\\xff4\\xff\\x1f\\xff&\\xffE\\xffI\\xff\\xf0\\xfe|\\xfe\\x83\\xfe\\xef\\xfeZ\\xffi\\xffD\\xffz\\xff\\xb6\\xff\\xba\\xff\\xdc\\xff\\xf4\\xff\\xf0\\xff\\xe0\\xff\\xca\\xff\\xed\\xff\\xf2\\xff\\x93\\xff~\\xff\\xd9\\xff\\xf4\\xff\\xe7\\xff\\xe6\\xff\\xff\\xffd\\x00\\xae\\x00\\x0b\\x01\\x9f\\x01\\xde\\x01\\xea\\x01\"\\x02\\x7f\\x02\\xa8\\x02\\x89\\x02\\x90\\x02\\xb7\\x02\\xc1\\x02\\xca\\x02l\\x02\\xdd\\x01\\xc1\\x01\\x9d\\x01K\\x01\\xea\\x00\\x85\\x00n\\x00x\\x00]\\x00E\\x00g\\x00\\x90\\x00\\x9a\\x00\\x8d\\x00Q\\x00%\\x00}\\x00\\xdb\\x00\\xbd\\x00\\x87\\x00L\\x00*\\x00;\\x000\\x00*\\x00\"\\x00\\x08\\x00-\\x00\\xa3\\x00\\xe9\\x00\\xdf\\x00\\x01\\x01&\\x01\\x1c\\x01\\x1f\\x01\\x1f\\x01\\x00\\x01\\xba\\x00v\\x00O\\x00\\x1c\\x00\\xae\\xff\\'\\xff*\\xff\\x89\\xff\\x86\\xff[\\xfft\\xff\\xc7\\xff;\\x00\\xaa\\x00\\xb9\\x00\\x7f\\x00q\\x00x\\x00\\xa6\\x00\\x05\\x01\\xf7\\x00y\\x00F\\x00\\x8d\\x00\\xa5\\x00\\x16\\x00r\\xffY\\xffF\\xff\\xf3\\xfe\\xf2\\xfeA\\xffJ\\xff\\xda\\xfe\\x98\\xfe\\xeb\\xfeJ\\xff:\\xff\\x06\\xff>\\xff\\x98\\xff\\x92\\xffr\\xff\\x9b\\xff/\\x00{\\x00\\x0b\\x00\\xca\\xff \\x00j\\x00d\\x00\\x97\\x00\\xfb\\x00\\xc0\\x00\\x84\\x00\\xdf\\x00\\xfa\\x00\\xd8\\x00\\xc4\\x00\\xe2\\x003\\x01:\\x01\\xe7\\x00f\\x00[\\x00\\xaa\\x00\\xa2\\x00\\x92\\x00R\\x00\\xf2\\xff\\x08\\x00:\\x00N\\x00T\\x00!\\x00\\xfa\\xff\\xf9\\xff\\xc5\\xff\\x92\\xff\\xad\\xff\\xdf\\xff\\xa1\\xff+\\xff#\\xff.\\xff\\x06\\xff\\xd9\\xfe\\xaf\\xfe\\x9f\\xfe\\x8c\\xfeh\\xfe}\\xfe\\xae\\xfe\\x88\\xfeP\\xfeh\\xfe\\x95\\xfe\\x9e\\xfe\\xba\\xfe\\xdb\\xfe\\xa2\\xfe\\x93\\xfe\\xc5\\xfe\\xf6\\xfeA\\xffH\\xffZ\\xff\\xba\\xff\\x03\\x00a\\x00\\xeb\\x00a\\x01\\x90\\x01\\x89\\x01\\xb4\\x01\\xeb\\x01\\xde\\x01\\xe8\\x01\\xf4\\x01\\xc4\\x01y\\x01(\\x01\\x10\\x01\\x10\\x01,\\x01a\\x01 \\x01\\xdc\\x00\\x04\\x01\\xf8\\x00\\xad\\x00\\xac\\x00~\\x00\\xe5\\xff\\xef\\xffP\\x00\\x1d\\x00\\xbb\\xff[\\xff\\xe3\\xfe\\x91\\xfe\\xc2\\xfeH\\xff<\\xff\\x86\\xfe\\xed\\xfd\\x05\\xfe\\xa4\\xfe\\xbd\\xfeJ\\xfe\\x1e\\xfe1\\xfe`\\xfe\\x80\\xfe\\\\\\xfe\\x12\\xfe\\xf3\\xfd\\xfc\\xfd\\xf4\\xfd.\\xfen\\xfe\\x07\\xfe\\x99\\xfd\\xed\\xfdz\\xfe\\x9b\\xfe\\xb6\\xfe@\\xff\\xc9\\xff\\xdb\\xff\\xec\\xff\\x97\\x00`\\x01\\xb8\\x01\\xcb\\x01\\xf0\\x018\\x02S\\x02a\\x02\\xb9\\x02\\xde\\x02G\\x02\\xb1\\x01\\x99\\x01\\x8d\\x01\\x90\\x01\\x9c\\x01\\x81\\x01S\\x01\\n\\x01\\xd6\\x00\\xf2\\x00#\\x01\\xf6\\x00q\\x00\\n\\x00\\x1b\\x003\\x00\\xe9\\xff\\xb7\\xff\\xc4\\xff\\x82\\xff\\xed\\xfe\\xdb\\xfeK\\xffQ\\xff\\xdd\\xfe\\x82\\xfeb\\xfek\\xfe\\x9c\\xfe\\xde\\xfe\\xe5\\xfe{\\xfe\\xff\\xfd\\xe9\\xfd2\\xfe\\x80\\xfea\\xfe\\xdd\\xfd\\x95\\xfd\\xae\\xfd\\xe1\\xfd\\x10\\xfe\\xf7\\xfd\\xd1\\xfd\\n\\xfeV\\xfe\\xb2\\xfe\\x0e\\xff@\\xfft\\xff\\xc9\\xffO\\x00\\xb7\\x00\\x02\\x01f\\x01\\xc4\\x01\\t\\x02\\x0e\\x02\\xe2\\x01\\xd5\\x01\\x0f\\x02P\\x02-\\x02\\xcb\\x01y\\x01V\\x01\\x8e\\x01\\xcb\\x01\\x96\\x015\\x01\\x02\\x01\\xe6\\x00\\xe6\\x00\\r\\x01\\xf7\\x00\\x91\\x002\\x00\\xdc\\xff\\xd1\\xff\\xd9\\xff\\x83\\xff\\x0c\\xff\\xb7\\xfe\\x8d\\xfeo\\xfe\\x93\\xfe\\xda\\xfe\\xbb\\xfeK\\xfe\\xf7\\xfd\\x18\\xfeU\\xfe]\\xfei\\xfe;\\xfe\\x14\\xfe=\\xfeC\\xfe]\\xfet\\xfe=\\xfe-\\xfeC\\xfeg\\xfe\\x86\\xfea\\xfeI\\xfeh\\xfe\\x84\\xfe\\xc8\\xfeD\\xff\\xad\\xff\\xdc\\xff\\xcb\\xff\\xbe\\xff$\\x00\\xcb\\x00\\xea\\x00\\xbd\\x00\\xe0\\x00\\xe0\\x00\\xf1\\x00F\\x01S\\x011\\x01\\x08\\x01\\xe7\\x00\\xf2\\x00\\x17\\x01(\\x01\\x17\\x01\\x12\\x01\\x16\\x01\\x0c\\x01\\xfc\\x00\\xc0\\x00k\\x00J\\x00,\\x00!\\x003\\x00\\x1e\\x00\\xf4\\xff\\xba\\xff\\x8a\\xff|\\xffr\\xffM\\xff+\\xff\"\\xff\\xfb\\xfe\\xdc\\xfe\\xce\\xfe\\x8f\\xfeQ\\xfe^\\xfe\\x7f\\xfe`\\xfeB\\xfed\\xfe\\xab\\xfe\\xe2\\xfe\\x16\\xff<\\xff\\x15\\xff\\x1f\\xff\\x85\\xff\\xb5\\xff\\xaa\\xff\\x91\\xff\\xa0\\xff\\xe9\\xff-\\x00b\\x00\\x86\\x00\\x8f\\x00h\\x00O\\x00\\x80\\x00u\\x00Q\\x00u\\x00{\\x00\\x8e\\x00\\xb9\\x00\\xa0\\x00\\x98\\x00\\xa9\\x00\\xc6\\x00%\\x01:\\x01 \\x01\\x1a\\x01\\xf4\\x00\\xfc\\x00\\x15\\x01\\x15\\x01\\xe0\\x00\\x9b\\x00\\x8d\\x00e\\x00X\\x005\\x00\\xe2\\xff\\xd9\\xff\\xba\\xff\\x87\\xffZ\\xff7\\xff]\\xffJ\\xff\\x18\\xffJ\\xffc\\xffW\\xffc\\xffb\\xffY\\xff_\\xff\\x84\\xff\\xbd\\xff\\xc0\\xff\\x84\\xffX\\xffi\\xff\\xb8\\xff\\xc5\\xffy\\xff}\\xff\\xa7\\xff\\xcd\\xff\\x1c\\x00*\\x00\\xcc\\xff\\x93\\xff\\x95\\xff\\x94\\xff\\xc1\\xff\\xcb\\xff\\x9c\\xff]\\xff\\x1e\\xff=\\xfft\\xff\\x7f\\xff\\x91\\xff\\xd2\\xff\\x02\\x00\\x03\\x00E\\x00\\x8b\\x00\\x83\\x00\\x98\\x00\\xbe\\x00\\xc0\\x00\\xe3\\x00\\xcc\\x00o\\x00\\x83\\x00\\xc8\\x00\\xd7\\x00\\xcf\\x00\\xb8\\x00\\xa2\\x00|\\x00\\x18\\x00\\xd4\\xff\\xf0\\xff\\xeb\\xff\\xae\\xff\\x97\\xff\\xcd\\xff\\xe1\\xff\\xc9\\xff\\xdc\\xff\\xa9\\xff\\x8b\\xff\\xfc\\xff/\\x00\\x04\\x00\\x10\\x00$\\x00\\x15\\x00:\\x00d\\x00E\\x00&\\x00\\xfb\\xff\\x9b\\xff\\x91\\xff\\xca\\xff\\xb6\\xff\\xa8\\xff\\xaf\\xffj\\xffK\\xffu\\xff]\\xff;\\xff9\\xff\\xf4\\xfe\\xc1\\xfe\\xe3\\xfe\\xee\\xfe\\xa7\\xfex\\xfe\\xbf\\xfe\\xf9\\xfe\\xc5\\xfe\\xb6\\xfe\\x0c\\xffi\\xff\\xa7\\xff\\xaa\\xff\\xc8\\xff\"\\x00\\x11\\x00\\xe9\\xff\\xff\\xff\\x10\\x00B\\x00\\x81\\x00\\x9c\\x00\\x98\\x00\\x8f\\x00\\x98\\x00\\xa7\\x00\\xbd\\x00\\xd3\\x00\\xd6\\x00\\xcc\\x00\\xc4\\x00\\xc8\\x00\\xc3\\x00\\xba\\x00\\xd4\\x00\\xe2\\x00\\xcb\\x00\\x84\\x00H\\x00h\\x00{\\x00n\\x00H\\x00!\\x001\\x00*\\x00)\\x00R\\x00=\\x00\\x07\\x00\\x06\\x00\\n\\x00\\x0f\\x00\\x06\\x00\\xbc\\xfft\\xff.\\xff\\xcb\\xfe\\xb5\\xfe\\xcd\\xfe\\x8e\\xfeO\\xfex\\xfe\\x8f\\xfe\\xa1\\xfe\\xf6\\xfe\\n\\xff\\xf2\\xfe\\x03\\xff\\x07\\xff\\x18\\xffL\\xff\\x84\\xff\\xcb\\xff\\n\\x00\\xf2\\xff\\xcd\\xff\\x12\\x00]\\x00u\\x00\\x8c\\x00\\x96\\x00\\x98\\x00\\x87\\x00\\xac\\x00\\t\\x01\\x19\\x011\\x01T\\x01?\\x01f\\x01\\xaf\\x01\\xca\\x01\\xa0\\x01@\\x01\\x06\\x01\\xf5\\x00\\xf4\\x00\\xe1\\x00\\x9c\\x00d\\x00C\\x001\\x00M\\x00\\x88\\x00\\x9f\\x00`\\x00#\\x00\\x0f\\x00\\x03\\x00\\x1b\\x00\\x13\\x00\\x8c\\xff\\x15\\xff\\x1c\\xff\\x12\\xff\\xee\\xfe\\xeb\\xfe\\xdb\\xfe\\xbc\\xfe\\x9a\\xfe\\x97\\xfe\\x9f\\xfe\\x8b\\xfe\\x8d\\xfe\\xaa\\xfe\\xd4\\xfe\\x0c\\xff&\\xff9\\xffg\\xff\\x97\\xff\\xb8\\xff\\xa8\\xff\\xa5\\xff\\xf0\\xff\\t\\x00\\xcb\\xff\\xde\\xffJ\\x00\\\\\\x00C\\x00r\\x00\\x90\\x00\\xaf\\x00\\xe1\\x00\\xe9\\x00\\x17\\x01N\\x01c\\x01\\xae\\x01\\xee\\x01\\xf5\\x01\\xfb\\x01\\xf8\\x01\\xf3\\x01\\xd5\\x01\\x94\\x01h\\x013\\x01\\xee\\x00\\xb9\\x00\\x9a\\x00b\\x00\\x13\\x00\\x1c\\x00E\\x00:\\x00<\\x002\\x00\\xeb\\xff\\xca\\xff\\xd2\\xff\\xa7\\xff\\x80\\xff:\\xff\\xd8\\xfe\\xc0\\xfe\\xcf\\xfe\\xd6\\xfe\\xdb\\xfe\\xe3\\xfe\\xcf\\xfe\\xc3\\xfe\\xe6\\xfe\\xfc\\xfe\\xfa\\xfe\\xfa\\xfe\\xf8\\xfe\\r\\xffX\\xffy\\xffg\\xff\\x81\\xff\\x89\\xff~\\xff\\x98\\xff\\x99\\xff\\x96\\xff\\xa6\\xff\\xc9\\xff\\xfc\\xff\\x1c\\x00t\\x00\\xcf\\x00\\xd8\\x00\\xef\\x00\\x00\\x01\\x15\\x01Q\\x01e\\x01u\\x01\\x8e\\x01\\x7f\\x01n\\x01\\x8f\\x01\\xaa\\x01\\x91\\x01x\\x01R\\x01\\'\\x01@\\x01<\\x01\\xe1\\x00\\x90\\x00j\\x00S\\x00i\\x00b\\x00\\x10\\x00\\xd8\\xff\\xb0\\xff\\x9d\\xff\\x9c\\xff\\x94\\xffg\\xff\\x18\\xff/\\xffL\\xff[\\xff\\xae\\xff\\x94\\xff7\\xff#\\xff\"\\xff.\\xff_\\xff\\x98\\xffz\\xff&\\xffB\\xffv\\xff\\x92\\xff\\xff\\xff\\x1d\\x00\\xcc\\xff\\xbd\\xff\\xf5\\xff(\\x00G\\x00\\x82\\x00\\x9c\\x00w\\x00i\\x00y\\x00\\xa3\\x00\\xee\\x002\\x01\\x1c\\x01\\xe2\\x00\\x03\\x016\\x018\\x01[\\x01\\x7f\\x01J\\x01\\x06\\x01+\\x01j\\x01Y\\x014\\x01\\x13\\x01\\xdd\\x00\\xb4\\x00\\xaa\\x00\\xae\\x00\\x91\\x00!\\x00\\x7f\\xff+\\xff0\\xff@\\xff4\\xff\\xec\\xfe\\xad\\xfe\\xd2\\xfe8\\xfff\\xffE\\xfff\\xff\\xa3\\xff{\\xffY\\xffL\\xff2\\xffq\\xff\\xc2\\xff\\xbf\\xff\\x83\\xff{\\xff\\xcd\\xff\\n\\x00,\\x000\\x00\\x19\\x000\\x00Z\\x00c\\x00<\\x00+\\x00D\\x00A\\x005\\x00:\\x00W\\x00\\x91\\x00\\xd0\\x00\\xdf\\x00\\xc5\\x00\\x02\\x01q\\x01y\\x01C\\x01,\\x01J\\x01k\\x01c\\x01u\\x01\\x7f\\x01C\\x01\\xf9\\x00\\xac\\x00\\x86\\x00{\\x00`\\x00i\\x00h\\x007\\x00\"\\x00%\\x00\\x14\\x00\\xf3\\xff\\xbc\\xff\\x85\\xff|\\xff\\xa6\\xff\\xb7\\xff\\x95\\xff\\x99\\xff\\xb5\\xff\\xa8\\xff\\x9d\\xff\\xc6\\xff\\x03\\x00\\x17\\x00\\xff\\xff\\xef\\xff\\x10\\x00\\x07\\x00\\xce\\xff\\xf1\\xff#\\x00$\\x00,\\x00/\\x00+\\x005\\x00A\\x00Q\\x00w\\x00\\x90\\x00\\xad\\x00\\xc8\\x00\\xdc\\x00\\x01\\x01\\x00\\x01\\xf0\\x00\\x0e\\x01.\\x01,\\x01*\\x01#\\x012\\x01S\\x01@\\x01\\x1a\\x01\\xf3\\x00\\xfc\\x00 \\x01\\xee\\x00\\x88\\x00U\\x00j\\x00U\\x00\\x13\\x00 \\x00+\\x00\\xe7\\xff\\xcb\\xff\\xbb\\xffh\\xffL\\xffX\\xff/\\xff\\x0f\\xff%\\xffT\\xffs\\xff~\\xff\\x88\\xff\\x8b\\xff\\x89\\xff\\xa9\\xff\\xb9\\xff\\xab\\xff\\xc5\\xff\\xd6\\xff\\xf0\\xff/\\x00(\\x00\\xe8\\xff\\xe4\\xff\\x01\\x00\\xee\\xff\\xdd\\xff\\xf7\\xff\\r\\x00\\x11\\x00,\\x00:\\x003\\x00T\\x00{\\x00\\xa5\\x00\\xc7\\x00\\xcb\\x00\\xd1\\x00\\xe4\\x00\\n\\x01.\\x01H\\x01@\\x01$\\x01-\\x01+\\x015\\x01;\\x01\\xee\\x00\\xb2\\x00\\xa2\\x00\\x81\\x00S\\x00\\x13\\x00\\xdf\\xff\\x96\\xffH\\xffd\\xff\\x88\\xffR\\xff\\xf6\\xfe\\xc1\\xfe\\xcf\\xfe\\xcd\\xfe\\xce\\xfe\\x06\\xff\\x06\\xff\\xc7\\xfe\\x9c\\xfe\\x9b\\xfe\\xcb\\xfe\\xea\\xfe\\xe8\\xfe\\x08\\xff\\x12\\xff\\xff\\xfe;\\xff\\x9f\\xff\\xcd\\xff\\xc7\\xff\\xdf\\xff(\\x00K\\x00Y\\x00f\\x00Z\\x00]\\x00f\\x00_\\x00o\\x00\\x9d\\x00\\xaf\\x00\\xcd\\x00\\xe4\\x00\\x92\\x00o\\x00\\x84\\x00d\\x00\\x82\\x00\\xdb\\x00\\x0e\\x01\\xf9\\x00\\xc6\\x00\\xb4\\x00\\xa2\\x00\\x87\\x00\\x85\\x00t\\x00S\\x00R\\x00J\\x00<\\x007\\x00\\x1d\\x00\\xc2\\xffW\\xffn\\xffz\\xff\\x1f\\xff\\xf5\\xfe\\xc8\\xfe\\x9a\\xfe\\xa7\\xfe\\xa2\\xfex\\xfe_\\xfea\\xfe3\\xfe\\x00\\xfe\\x14\\xfe2\\xfe?\\xfe(\\xfe\\xe9\\xfd\\xc5\\xfd\\x03\\xfed\\xfe\\x97\\xfe\\xda\\xfe\\x18\\xff$\\xff;\\xffb\\xff\\x91\\xff\\xd1\\xff\\xf1\\xff\\xfb\\xff\\x15\\x00P\\x00\\xad\\x00\\xc9\\x00\\xa2\\x00\\xa3\\x00\\xb9\\x00\\xc7\\x00\\xed\\x00\\xfb\\x00\\xa7\\x00`\\x00\\x88\\x00\\x97\\x00\\x83\\x00\\x9c\\x00\\x86\\x00;\\x00\\x04\\x00\\xe2\\xff\\xf0\\xff\\x12\\x00\\xfd\\xff\\xa9\\xffw\\xff\\x9c\\xff\\x95\\xff\\x7f\\xff\\x9c\\xff~\\xffJ\\xff/\\xff\\x14\\xff\\x0c\\xff\\xe9\\xfe\\xb3\\xfe\\xb0\\xfe\\xea\\xfe\\x04\\xff\\xce\\xfe\\x89\\xfek\\xfe\\x80\\xfe\\xa0\\xfe\\xb9\\xfe\\xca\\xfe\\xba\\xfe\\xac\\xfe\\xa8\\xfe\\xb8\\xfe\\xe6\\xfe\\xf0\\xfe\\xf6\\xfe\\x0b\\xff\\x07\\xff\\x1f\\xffU\\xff\\x84\\xff\\x92\\xff\\xac\\xff\\xd5\\xff\\xfe\\xff`\\x00\\x93\\x00\\x8b\\x00\\xae\\x00\\xbd\\x00\\xb8\\x00\\xc3\\x00\\xc9\\x00\\xf4\\x00\\x1f\\x01\\xee\\x00\\xb7\\x00\\xda\\x00\\x06\\x01\\xcb\\x00~\\x00\\x9b\\x00\\xb6\\x00\\xa6\\x00\\x94\\x00r\\x00f\\x00G\\x00\\xed\\xff\\xb7\\xff\\xbb\\xff\\xc6\\xff\\xc2\\xff\\xc3\\xff\\xc5\\xff\\x9e\\xffu\\xff\\x88\\xff\\x9c\\xffj\\xff\"\\xff\\x16\\xff9\\xffM\\xffX\\xffI\\xff\\x14\\xff\\x15\\xff/\\xff\\x17\\xff\\x1f\\xff4\\xff\\x12\\xff\\x15\\xffU\\xff^\\xff=\\xffh\\xff\\xa0\\xff\\x97\\xff\\xa9\\xff\\xdf\\xff\\xe3\\xff\\xc3\\xff\\xc9\\xff\\xfb\\xff\\x16\\x00/\\x00`\\x00q\\x00t\\x00~\\x00m\\x00Y\\x00S\\x00C\\x00-\\x00D\\x00c\\x00L\\x00I\\x00k\\x00]\\x00H\\x00V\\x00J\\x00$\\x00\\x13\\x00\\x0b\\x00\\xdf\\xff\\xbd\\xff\\xeb\\xff\\x03\\x00\\xd6\\xff\\xb4\\xff\\xa5\\xff\\xa3\\xff\\xb0\\xff\\xd4\\xff\\xcf\\xff\\x98\\xff\\x93\\xff\\x9a\\xff|\\xffo\\xffy\\xffm\\xffb\\xffo\\xffn\\xffl\\xff|\\xff\\xa8\\xff\\xb2\\xff\\xc0\\xff\\x02\\x00\\x12\\x00\\t\\x00\\x13\\x00\"\\x00G\\x00f\\x00w\\x00\\x84\\x00\\x87\\x00\\x82\\x00~\\x00\\x83\\x00\\x97\\x00\\x9d\\x00\\xa5\\x00\\xb7\\x00\\xa1\\x00\\x97\\x00\\xc1\\x00\\xcd\\x00\\x9d\\x00f\\x00H\\x008\\x00H\\x00U\\x007\\x00*\\x00\\x18\\x00\\xcd\\xff\\x9f\\xff\\xb3\\xff\\xbf\\xff\\x8c\\xffS\\xffG\\xffE\\xff\\x84\\xff\\xc6\\xff\\x8c\\xffT\\xff \\xff\\xd8\\xfe\\xf7\\xfe\\x16\\xff\\xd7\\xfe\\xb6\\xfe\\xef\\xfe.\\xff7\\xff;\\xffL\\xffI\\xff&\\xff\\x06\\xff$\\xffR\\xffU\\xffX\\xffi\\xfft\\xffv\\xff\\x7f\\xff\\xa1\\xff\\xae\\xff\\x8c\\xff|\\xff\\xa9\\xff\\xe3\\xff\\x11\\x00O\\x00e\\x00J\\x00Q\\x00\\x7f\\x00\\x9a\\x00\\x89\\x00g\\x00D\\x00>\\x00]\\x00e\\x00a\\x00|\\x00\\x8a\\x00q\\x00o\\x00\\x85\\x00t\\x00|\\x00u\\x00E\\x00g\\x00\\x89\\x00b\\x00W\\x00S\\x00?\\x008\\x00.\\x00!\\x00\\xf7\\xff\\xd1\\xff\\xcf\\xff\\x9e\\xff\\x83\\xff\\xa6\\xff\\x88\\xffX\\xff\\x81\\xff\\xb2\\xff\\x8f\\xffo\\xff{\\xffu\\xff\\x88\\xff\\xad\\xff\\x9e\\xff\\xab\\xff\\xde\\xff\\xd0\\xff\\xbd\\xff\\xdd\\xff\\xf3\\xff\\x11\\x00_\\x00\\x9f\\x00\\x89\\x00W\\x00b\\x00\\x88\\x00\\x94\\x00\\xa4\\x00\\xa4\\x00\\x91\\x00\\x9c\\x00\\x91\\x00\\x8f\\x00\\xbc\\x00\\xb2\\x00w\\x00`\\x00j\\x00p\\x00\\x7f\\x00\\x9d\\x00\\x94\\x00Z\\x00/\\x00\\x14\\x00\\xe4\\xff\\xdd\\xff\\xdf\\xff\\x9c\\xff\\x8c\\xff\\xbc\\xff\\xce\\xff\\xe9\\xff\\x0f\\x00\\xf7\\xff\\xdf\\xff\\x1d\\x00T\\x00K\\x00Q\\x00S\\x00%\\x00\\x06\\x00\\xea\\xff\\xcd\\xff\\xf1\\xff\\xf4\\xff\\xa6\\xffz\\xffl\\xffN\\xffP\\xffw\\xff\\x97\\xff\\xad\\xff\\xb1\\xff\\x81\\xff~\\xff\\xf1\\xffI\\x00K\\x00X\\x00}\\x00z\\x00\\x80\\x00\\xb1\\x00\\xb9\\x00\\xa4\\x00\\x97\\x00\\x94\\x00\\xa5\\x00\\xb8\\x00\\xc6\\x00\\xaf\\x00\\x8b\\x00\\xa0\\x00\\xaa\\x00\\x93\\x00\\x98\\x00u\\x00D\\x00F\\x00-\\x00\\x10\\x00&\\x00&\\x00\\xfe\\xff\\xf4\\xff\\xf9\\xff\\xe3\\xff\\xcd\\xff\\xac\\xffg\\xffk\\xff\\xc8\\xff\\xcb\\xff\\x85\\xff\\x85\\xff\\x9a\\xff\\xa3\\xff\\xc8\\xff\\xd7\\xff\\x9d\\xffV\\xffo\\xff\\xad\\xff\\xa4\\xff\\x8b\\xff\\x8a\\xff\\x9a\\xff\\xae\\xff\\xb3\\xff\\xda\\xff\\x04\\x00\\xe8\\xff\\xc0\\xff\\xda\\xff\\xed\\xff\\xd2\\xff\\xdc\\xff\\xff\\xff\\xf4\\xff\\xd7\\xff\\xde\\xff\\xef\\xff\\x08\\x009\\x00F\\x001\\x00M\\x00\\x83\\x00\\x83\\x00W\\x00I\\x00{\\x00\\xb0\\x00\\xc8\\x00\\xd1\\x00\\xc0\\x00\\xac\\x00\\xba\\x00\\xc3\\x00\\x9b\\x00j\\x00^\\x00T\\x00C\\x009\\x00\\x04\\x00\\xd8\\xff\\xd8\\xff\\xcd\\xff\\xde\\xff\\x0c\\x00\\x07\\x00\\xde\\xff\\xd2\\xff\\xcf\\xff\\xd0\\xff\\xf6\\xff\\xfd\\xff\\xd7\\xff\\xce\\xff\\xe0\\xff\\xf7\\xff\\t\\x00\\xfd\\xff\\xe4\\xff\\xfe\\xff4\\x00@\\x008\\x00:\\x00)\\x00\\xff\\xff\\xec\\xff\\xfd\\xff\\x00\\x00\\xf9\\xff\\x1b\\x00>\\x00.\\x00\\x00\\x00\\xfe\\xff\\'\\x000\\x00\\r\\x00\\xe5\\xff\\xda\\xff\\xed\\xff\\x1e\\x00)\\x00\\x00\\x00\\x0e\\x00!\\x00\\x1f\\x007\\x00G\\x00?\\x00\\x0f\\x00\\x04\\x000\\x00C\\x00Z\\x00d\\x00d\\x00u\\x00n\\x00r\\x00\\x88\\x00\\x81\\x00q\\x00j\\x00\\x83\\x00\\xab\\x00\\xaa\\x00\\x8d\\x00z\\x00z\\x00\\x85\\x00\\xaf\\x00\\xd1\\x00\\xa4\\x00\\xa1\\x00\\xce\\x00\\xbb\\x00\\xb4\\x00\\xaf\\x00\\x86\\x00|\\x00\\x8a\\x00\\x8e\\x00\\x90\\x00\\xb0\\x00\\xd0\\x00\\xad\\x00\\x98\\x00\\xb5\\x00\\x9d\\x00\\x8a\\x00\\x96\\x00\\x86\\x00\\x86\\x00\\x8c\\x00u\\x00b\\x00W\\x00F\\x00;\\x00*\\x00\\x11\\x00\\x1b\\x00;\\x00X\\x00v\\x00\\x82\\x00r\\x00\\x86\\x00\\xbf\\x00\\xcb\\x00\\xc1\\x00\\xa8\\x00~\\x00p\\x00t\\x00\\x9a\\x00\\xb3\\x00\\x82\\x00:\\x00\\x14\\x00,\\x00]\\x00_\\x008\\x00.\\x00<\\x00,\\x00:\\x00n\\x00`\\x00;\\x00P\\x00c\\x00t\\x00\\x9c\\x00\\x8e\\x00O\\x00(\\x00\\x1d\\x00+\\x00T\\x00h\\x00.\\x00\\xf7\\xff\\xea\\xff\\xdc\\xff\\n\\x00L\\x00C\\x00 \\x00\\x08\\x00\\xfc\\xff\\xec\\xff\\xc2\\xff\\x96\\xffn\\xffn\\xff\\x92\\xff\\x92\\xff\\x8d\\xff\\x9b\\xff\\x94\\xff\\x92\\xff\\xaa\\xff\\xc2\\xff\\xde\\xff\\xf2\\xff\\xf9\\xff\\x0c\\x007\\x00W\\x003\\x00$\\x00`\\x00v\\x00m\\x00x\\x00Y\\x00\\x0f\\x00\\xf7\\xff2\\x00h\\x00Z\\x00<\\x00:\\x00R\\x00z\\x00l\\x002\\x00,\\x00(\\x00\\xdf\\xff\\xa7\\xff\\xc1\\xff\\xee\\xff\\x08\\x00\\xfb\\xff\\xbf\\xff\\xba\\xff\\xed\\xff\\xf1\\xff\\xd4\\xff\\xc5\\xff\\xd8\\xff\\xe8\\xff\\xca\\xff\\xa1\\xff\\x8f\\xff\\xa4\\xff\\xb2\\xff\\xac\\xff\\xb2\\xff\\xbf\\xff\\xd2\\xff\\xe2\\xff\\xf0\\xff\\xe7\\xff\\xc8\\xff\\xc7\\xff\\xd9\\xff\\xed\\xff\\xf6\\xff\\xea\\xff\\xde\\xff\\xcd\\xff\\xd6\\xff\\x10\\x00*\\x00\\x1d\\x00#\\x00\\x18\\x00\\x18\\x00-\\x00&\\x00\\x12\\x00\\xff\\xff\\xf7\\xff\\xf6\\xff\\xfb\\xff\\x14\\x00\\x11\\x00\\xe8\\xff\\xec\\xff\\xfb\\xff\\xea\\xff\\xf9\\xff\\xf2\\xff\\xc2\\xff\\xce\\xff\\x0e\\x00#\\x00\\x10\\x00\\x07\\x00\\xeb\\xff\\xe4\\xff\\xff\\xff\\xde\\xff\\xb9\\xff\\xc7\\xff\\xc5\\xff\\xc0\\xff\\xd7\\xff\\xed\\xff\\xe9\\xff\\xdd\\xff\\xd1\\xff\\xc0\\xff\\xc9\\xff\\xd9\\xff\\xbe\\xff\\xb5\\xff\\xd3\\xff\\xea\\xff\\xe7\\xff\\xde\\xff\\xe6\\xff\\xd5\\xff\\xbc\\xff\\xaa\\xff\\xa5\\xff\\xcc\\xff\\xee\\xff\\xea\\xff\\xd0\\xff\\xc4\\xff\\xc4\\xff\\xb5\\xff\\xb6\\xff\\xb0\\xff\\xb1\\xff\\xde\\xff\\xf8\\xff\\t\\x00!\\x00\\x11\\x00\\x06\\x00 \\x00\\x1f\\x00\\x05\\x00\\xf7\\xff\\xe3\\xff\\xc6\\xff\\xdb\\xff\\x07\\x00\\n\\x00\\x0e\\x00\\x10\\x00\\xf6\\xff\\xf3\\xff\\x0b\\x00\\xf4\\xff\\xa5\\xff\\xad\\xff\\xf6\\xff\\xe1\\xff\\xc3\\xff\\xdc\\xff\\xd1\\xff\\xc5\\xff\\xf1\\xff\\xff\\xff\\xe5\\xff\\xed\\xff\\xef\\xff\\xdd\\xff\\xeb\\xff\\xfb\\xff\\xcd\\xff\\xbb\\xff\\xee\\xff\\xeb\\xff\\xe9\\xff\\xff\\xff\\xc5\\xff\\xb0\\xff\\xfc\\xff\\xfd\\xff\\xad\\xff\\xc9\\xff\\x01\\x00\\xdb\\xff\\xe2\\xff\\x00\\x00\\xe6\\xff\\xef\\xff\\x0e\\x00\\xfa\\xff\\xee\\xff\\xef\\xff\\xdd\\xff\\xf7\\xff#\\x00\\x0c\\x00\\xde\\xff\\xf9\\xff,\\x004\\x00G\\x00=\\x00\\xf6\\xff\\xe4\\xff\\n\\x00\\x19\\x00\\x03\\x00\\xe0\\xff\\xba\\xff\\xa8\\xff\\xc2\\xff\\xbb\\xff\\x87\\xffp\\xffo\\xff\\x81\\xff\\x8e\\xff\\x7f\\xff\\x87\\xff\\x9d\\xff\\x85\\xffZ\\xffX\\xff\\x81\\xff\\xa6\\xff\\x97\\xff\\x81\\xff\\x81\\xff\\x83\\xff\\x85\\xff}\\xff\\x9c\\xff\\xd6\\xff\\xbb\\xff\\xa0\\xff\\xd9\\xff\\xdb\\xff\\xb9\\xff\\xcb\\xff\\xbb\\xff\\x97\\xff\\x9b\\xff\\x9a\\xffm\\xff4\\xff3\\xffH\\xff2\\xff%\\xff$\\xff\\x1b\\xff>\\xffP\\xff$\\xff6\\xffn\\xffa\\xffO\\xffo\\xff\\x82\\xff\\x84\\xff\\x95\\xff\\x9c\\xffw\\xffX\\xffs\\xff\\xa4\\xff\\xab\\xff}\\xff^\\xffx\\xff\\x9f\\xff\\xb0\\xff\\xb7\\xff\\xbb\\xff\\x99\\xff\\x82\\xff\\xa6\\xff\\xda\\xff\\x0e\\x00\\x02\\x00\\xb7\\xff\\x86\\xff}\\xffx\\xffg\\xffb\\xffd\\xffL\\xff>\\xffG\\xffY\\xffq\\xff\\x85\\xff\\xa2\\xff\\xb8\\xff\\xbe\\xff\\xc8\\xff\\xe4\\xff\\x01\\x00\\xef\\xff\\xe0\\xff\\xf3\\xff\\xe8\\xff\\xf5\\xff\\x1c\\x00*\\x00J\\x00d\\x00@\\x00\\t\\x00\\x10\\x00-\\x00\\x1b\\x00\\x1a\\x00,\\x00\\x11\\x00\\xea\\xff\\xf0\\xff\\x15\\x00\\x1a\\x00\\xfc\\xff\\xe0\\xff\\xf8\\xff@\\x00E\\x001\\x00S\\x00K\\x00%\\x005\\x00B\\x00/\\x00\"\\x00\\x18\\x00\\x12\\x00\\x1c\\x009\\x00\\\\\\x00r\\x00\\x87\\x00\\x8f\\x00\\x8f\\x00\\xaf\\x00\\xbc\\x00\\x98\\x00x\\x00b\\x00Y\\x00[\\x00j\\x00\\\\\\x00\\x19\\x00\\x15\\x00@\\x00E\\x00R\\x00b\\x00e\\x00w\\x00}\\x00j\\x00<\\x00&\\x00Z\\x00t\\x00l\\x00i\\x00N\\x00C\\x00R\\x00\\\\\\x00K\\x00,\\x00!\\x00\\x16\\x00\\t\\x00\\x19\\x00&\\x00+\\x00?\\x00D\\x004\\x00\"\\x00,\\x00\\\\\\x00g\\x00M\\x00\\\\\\x00y\\x00\\x7f\\x00\\x8d\\x00\\x9e\\x00|\\x00^\\x00u\\x00z\\x00\\x8c\\x00\\x8d\\x00V\\x00_\\x00v\\x00f\\x00`\\x00D\\x00%\\x00\\x19\\x00\\x19\\x002\\x00\\'\\x00\\x07\\x00\\xf4\\xff\\xcf\\xff\\xd9\\xff\\xf5\\xff\\xe9\\xff\\x04\\x008\\x006\\x00-\\x00P\\x00b\\x00d\\x00t\\x00c\\x00J\\x00]\\x00X\\x00$\\x00\\x18\\x00\\x16\\x00\\x17\\x00&\\x00!\\x006\\x00C\\x006\\x00,\\x00\\x16\\x00\\x1c\\x00\\x1d\\x00\\x17\\x000\\x00\\x08\\x00\\xcd\\xff\\xea\\xff\\xf7\\xff\\xeb\\xff\\xfe\\xff\\xfe\\xff\\xeb\\xff\\xec\\xff\\xf0\\xff\\xef\\xff\\x0c\\x00\\x1a\\x00\\xe9\\xff\\xdc\\xff\\r\\x00\\x15\\x00\\xf8\\xff\\xe6\\xff\\xd0\\xff\\xd3\\xff\\xdd\\xff\\xab\\xffy\\xff\\x99\\xff\\xc2\\xff\\x99\\xffr\\xff\\x7f\\xff\\x81\\xff\\x7f\\xff\\x86\\xffy\\xff|\\xff\\x8f\\xff\\x88\\xff\\x83\\xff\\x84\\xff^\\xff:\\xff8\\xffL\\xffz\\xff\\x92\\xff\\x88\\xff}\\xffm\\xff~\\xff\\x90\\xff|\\xff\\x8a\\xff\\xa3\\xff\\x9f\\xff\\xad\\xff\\xc3\\xff\\xc9\\xff\\xbe\\xff\\xa2\\xff\\x8a\\xffx\\xffN\\xff,\\xffG\\xffo\\xffy\\xff\\x7f\\xffy\\xff}\\xff\\x8d\\xff\\x85\\xff\\x96\\xff\\xaf\\xff\\xa0\\xff\\x91\\xff\\x95\\xff\\x98\\xff\\x8e\\xff\\x81\\xffp\\xffx\\xff\\x92\\xff\\x9c\\xff\\xa9\\xff\\x9b\\xff]\\xff3\\xffQ\\xff^\\xff9\\xff\"\\xff\\x17\\xff&\\xff*\\xff\\x1d\\xff9\\xff?\\xff\\x0c\\xff\\xe9\\xfe\\xe4\\xfe\\xe9\\xfe\\x02\\xff\\x08\\xff\\t\\xff/\\xff=\\xff*\\xffU\\xff\\xa3\\xff\\xb8\\xff\\xb9\\xff\\xd8\\xff\\xe7\\xff\\xea\\xff\\x18\\x007\\x00.\\x00O\\x00o\\x00W\\x00O\\x00]\\x00P\\x00\\\\\\x00t\\x006\\x00\\xfc\\xff\\x1c\\x007\\x00)\\x00\"\\x00\\x05\\x00\\xee\\xff\\x13\\x00#\\x00\\x13\\x00\\x05\\x00\\xe6\\xff\\xd4\\xff\\xd9\\xff\\xf0\\xff\\xf8\\xff\\xec\\xff\\xe3\\xff\\xe7\\xff\\xfd\\xff\\x11\\x00#\\x006\\x00I\\x00/\\x00\\x0e\\x00+\\x002\\x00%\\x00J\\x00a\\x00M\\x00>\\x00<\\x00E\\x00?\\x00\\r\\x00\\xfe\\xff\\x0c\\x00\\xf2\\xff\\xe8\\xff\\x02\\x00\\x1e\\x005\\x00?\\x00I\\x00^\\x00\\x8d\\x00\\xc9\\x00\\xc1\\x00\\x97\\x00\\xa4\\x00\\xa8\\x00\\x93\\x00\\x95\\x00|\\x00h\\x00\\x90\\x00\\x9e\\x00\\x83\\x00\\x8d\\x00\\x94\\x00m\\x00r\\x00\\x83\\x00g\\x00n\\x00u\\x00_\\x00k\\x00\\x8c\\x00\\x91\\x00\\x7f\\x00\\x8d\\x00\\xa3\\x00\\x97\\x00\\x94\\x00\\x8d\\x00o\\x00l\\x00s\\x00c\\x00i\\x00Y\\x00\\x17\\x00\\xfc\\xff\\xf0\\xff\\xcd\\xff\\xc5\\xff\\xbb\\xff\\xae\\xff\\xd1\\xff\\xeb\\xff\\xc6\\xff\\x92\\xff\\x93\\xff\\xa6\\xff\\x9c\\xff\\xae\\xff\\xe6\\xff\\x13\\x00&\\x004\\x00\\\\\\x00m\\x00^\\x00\\\\\\x00e\\x00\\x7f\\x00\\xa5\\x00\\xbd\\x00\\xb7\\x00\\xa8\\x00\\x9d\\x00\\x8f\\x00\\x98\\x00z\\x00<\\x00=\\x006\\x00\\x0e\\x00\\x19\\x00(\\x00 \\x00-\\x00A\\x00;\\x00*\\x00-\\x00-\\x00\\x1d\\x00/\\x00I\\x00)\\x00\\x1b\\x00P\\x00v\\x00x\\x00\\x81\\x00\\x83\\x00K\\x00\\x18\\x00%\\x00,\\x00/\\x008\\x00 \\x00\\x17\\x00\\x03\\x00\\xdb\\xff\\xf0\\xff\\x01\\x00\\xe7\\xff\\xe6\\xff\\xed\\xff\\xee\\xff\\n\\x00!\\x00\\x19\\x00\\x1b\\x002\\x001\\x004\\x00Q\\x00@\\x00\\x0f\\x00\\x13\\x007\\x00F\\x00P\\x00V\\x00J\\x00e\\x00\\x81\\x00A\\x00\\x1a\\x00)\\x00\\x00\\x00\\xeb\\xff\\t\\x00\\x19\\x00,\\x002\\x00#\\x00!\\x00\"\\x00\\t\\x00\\x05\\x004\\x00V\\x00L\\x00?\\x006\\x00;\\x00?\\x00\\r\\x00\\xd8\\xff\\xda\\xff\\xe1\\xff\\xd5\\xff\\xd2\\xff\\xdd\\xff\\xcd\\xff\\xb0\\xff\\xad\\xff\\xad\\xff\\xa7\\xff\\x9d\\xff\\x9f\\xff\\xb7\\xff\\xa5\\xffz\\xff\\x82\\xff\\x86\\xffm\\xff]\\xff9\\xff\\x1e\\xff%\\xff\\x1b\\xff\\xfe\\xfe\\x03\\xff\\x1f\\xff2\\xffY\\xff\\x82\\xff\\x88\\xff\\xa3\\xff\\xc9\\xff\\xbd\\xff\\xae\\xff\\xc0\\xff\\xda\\xff\\xdf\\xff\\xe6\\xff\"\\x00I\\x00K\\x00{\\x00\\x97\\x00x\\x00v\\x00z\\x00p\\x00x\\x00r\\x00[\\x00M\\x00C\\x00B\\x00E\\x007\\x00F\\x00x\\x00~\\x00m\\x00i\\x00G\\x00&\\x00*\\x00)\\x00\\x1e\\x00\\x16\\x00\\x07\\x00\\x04\\x00\\x10\\x00\\x1c\\x00&\\x00-\\x00\\x0b\\x00\\xe2\\xff\\xef\\xff\\xfa\\xff\\x07\\x00%\\x00\\x12\\x00\\xda\\xff\\xc3\\xff\\xd6\\xff\\xe4\\xff\\xda\\xff\\xc3\\xff\\xc9\\xff\\xed\\xff\\xf0\\xff\\xe1\\xff\\xf0\\xff\\x04\\x00\\xf7\\xff\\xfc\\xff!\\x00;\\x00U\\x00o\\x00\\x7f\\x00m\\x00i\\x00\\x83\\x00\\x81\\x00|\\x00l\\x00a\\x00\\x85\\x00\\xa5\\x00\\xb2\\x00\\xbf\\x00\\xc3\\x00\\xc1\\x00\\xc7\\x00\\xab\\x00\\x9b\\x00\\xc8\\x00\\xbe\\x00\\x9d\\x00\\xb7\\x00\\xbc\\x00\\x98\\x00y\\x00\\x85\\x00\\x8b\\x00]\\x00=\\x005\\x00.\\x00>\\x00O\\x00O\\x00G\\x009\\x00>\\x00H\\x00G\\x00J\\x000\\x00\\x0f\\x00\\x04\\x00\\xf8\\xff\\xf4\\xff\\xdf\\xff\\xc7\\xff\\xd0\\xff\\xdb\\xff\\xd1\\xff\\xd3\\xff\\xe1\\xff\\xcd\\xff\\xcf\\xff\\xed\\xff\\xf8\\xff$\\x00@\\x00\\x0e\\x00\\xfd\\xff\\x0e\\x00\\xf4\\xff\\xdb\\xff\\xd2\\xff\\xca\\xff\\xd2\\xff\\xe9\\xff\\xeb\\xff\\xcb\\xff\\xc6\\xff\\xe9\\xff\\xf2\\xff\\xe1\\xff\\xe1\\xff\\xdc\\xff\\xdc\\xff\\xf2\\xff\\xfb\\xff\\xfb\\xff\\xea\\xff\\xdd\\xff\\xf1\\xff\\xfe\\xff\\x06\\x00\"\\x003\\x002\\x007\\x00/\\x00+\\x000\\x00\\x12\\x00\\x0f\\x008\\x00H\\x00W\\x00c\\x00P\\x00B\\x00,\\x00\\x10\\x00\\x04\\x00\\xe2\\xff\\xd3\\xff\\x03\\x00\\x1a\\x00\\xec\\xff\\xc4\\xff\\xd8\\xff\\xd4\\xff\\xa6\\xff\\xa1\\xff\\xb2\\xff\\xc8\\xff\\xd0\\xff\\xb2\\xff\\xa9\\xff\\xc1\\xff\\xd1\\xff\\xd1\\xff\\xe9\\xff\\x00\\x00\\xe7\\xff\\xfb\\xff,\\x00\\x1b\\x00\\x06\\x00\\r\\x00\\xf7\\xff\\n\\x000\\x00\\xef\\xff\\xc6\\xff\\xdb\\xff\\xda\\xff\\xf5\\xff\\xfb\\xff\\xd9\\xff\\xd6\\xff\\xdf\\xff\\xd6\\xff\\xbb\\xff\\xb1\\xff\\xcb\\xff\\xdf\\xff\\xf4\\xff\\xfb\\xff\\xd1\\xff\\xcf\\xff\\x02\\x00\\xf2\\xff\\xc2\\xff\\xcf\\xff\\xcf\\xff\\xa0\\xff\\xa3\\xff\\xbf\\xff\\xae\\xff\\x9f\\xff\\xac\\xff\\xcf\\xff\\xeb\\xff\\xde\\xff\\xd9\\xff\\xde\\xff\\xce\\xff\\xe4\\xff\\x08\\x00\\xee\\xff\\xc7\\xff\\xd5\\xff\\xe1\\xff\\xd3\\xff\\xcc\\xff\\xbd\\xff\\x9d\\xff\\x84\\xff}\\xffo\\xffW\\xffK\\xffB\\xffB\\xffR\\xffa\\xff\\x91\\xff\\xd4\\xff\\xc1\\xff\\x85\\xff\\x9c\\xff\\xf3\\xff\\x11\\x00\\xdf\\xff\\xcc\\xff\\xea\\xff\\x00\\x00\\xf7\\xff\\xf8\\xff!\\x00=\\x000\\x00\\x19\\x00\\x10\\x00\\n\\x00\\x13\\x00-\\x00\\x1d\\x00\\xe8\\xff\\xc8\\xff\\xc2\\xff\\xd0\\xff\\xe5\\xff\\xc5\\xff\\xb7\\xff\\xf9\\xff\\x0c\\x00\\xdd\\xff\\xe4\\xff,\\x00<\\x00\\x00\\x00\\xdd\\xff\\xeb\\xff\\xfd\\xff\\x07\\x00\\x01\\x00\\xef\\xff\\n\\x00<\\x00B\\x003\\x00@\\x00Q\\x00@\\x00\\x1b\\x00\\x01\\x00\\r\\x00\\x17\\x00\\r\\x00\\x19\\x00\\xfe\\xff\\xc7\\xff\\xd3\\xff\\xcc\\xff\\x9a\\xff\\x84\\xff\\x97\\xff\\xbc\\xff\\xb7\\xff\\xaf\\xff\\xd9\\xff\\xe7\\xff\\xdf\\xff\\xf9\\xff\\xfa\\xff\\xe6\\xff\\xef\\xff\\xef\\xff\\xea\\xff\\xec\\xff\\xcd\\xff\\xc0\\xff\\xd1\\xff\\xbe\\xff\\xad\\xff\\xaf\\xff\\xaa\\xff\\x9e\\xff\\x8d\\xff\\x92\\xff\\x86\\xff_\\xffk\\xff\\x88\\xff\\x85\\xff\\x8b\\xff\\xa1\\xff\\xa9\\xff\\xcc\\xff\\x16\\x00!\\x00\\xe9\\xff\\xd0\\xff\\xf2\\xff\\x12\\x00\\x01\\x00\\xf4\\xff\\xee\\xff\\xd2\\xff\\xc7\\xff\\xaa\\xff\\x88\\xff\\x9e\\xff\\xae\\xff\\x92\\xff\\x8c\\xff\\xb3\\xff\\xde\\xff\\xf0\\xff\\xdd\\xff\\xc9\\xff\\xe3\\xff\\xf3\\xff\\xec\\xff\\x05\\x00)\\x00,\\x00\\t\\x00\\xe5\\xff\\xde\\xff\\xeb\\xff\\xf4\\xff\\xd7\\xff\\x93\\xff\\x91\\xff\\xc4\\xff\\xd4\\xff\\xf3\\xff\\xe7\\xff\\xb8\\xff\\xbc\\xff\\xa0\\xff\\x82\\xff\\x85\\xff\\x83\\xff\\x99\\xff\\x98\\xffu\\xffh\\xff\\x8a\\xff\\xb5\\xff\\xb5\\xff\\xbe\\xff\\xc6\\xff\\xab\\xff\\xb7\\xff\\xda\\xff\\xc6\\xff\\xbc\\xff\\xf2\\xff\\x17\\x00\\x1b\\x00\\x01\\x00\\xda\\xff\\xef\\xff\\t\\x00\\xee\\xff\\xd9\\xff\\xe0\\xff\\xf1\\xff\\xf6\\xff\\x11\\x00=\\x00\\x18\\x00\\xec\\xff\\x08\\x00\\x0c\\x00\\x1c\\x009\\x00\\x1e\\x00\\x16\\x00!\\x00\\x0e\\x00\\xf7\\xff\\xe4\\xff\\xf0\\xff\\x1e\\x00-\\x00\\xfe\\xff\\xe5\\xff\\xf1\\xff\\xf3\\xff\\xf6\\xff\\xe5\\xff\\xe5\\xff\\x01\\x00\\xe8\\xff\\xd3\\xff\\xe6\\xff\\xca\\xff\\x96\\xff\\x90\\xff\\x99\\xff\\x99\\xff\\x97\\xff\\x9b\\xff\\xab\\xff\\xb6\\xff\\xb8\\xff\\xb9\\xff\\xba\\xff\\xc6\\xff\\xb1\\xff\\xa6\\xff\\xe2\\xff\\xd5\\xff\\x94\\xff\\x90\\xff\\x90\\xff\\x9d\\xff\\xb2\\xff\\xbd\\xff\\xd1\\xff\\xd9\\xff\\xe1\\xff\\xe7\\xff\\xf5\\xff\\x17\\x00\\x1a\\x00\\xf9\\xff\\xdc\\xff\\xb4\\xff\\xc0\\xff\\x0f\\x00!\\x00\\xf9\\xff\\xf9\\xff\\x1e\\x00!\\x00\\x18\\x00L\\x00a\\x00.\\x003\\x00X\\x00U\\x00f\\x00\\x81\\x00k\\x00U\\x00H\\x00D\\x00o\\x00m\\x008\\x00(\\x00\\x18\\x00\\t\\x00!\\x00%\\x00\\x06\\x00\\x03\\x00\\xfc\\xff\\xef\\xff\\x12\\x005\\x009\\x00*\\x00\\x17\\x00\\x08\\x00\\xfb\\xff\\n\\x00\\x1c\\x00%\\x00\"\\x00\\x02\\x00\\x08\\x005\\x00A\\x00>\\x006\\x00\\x12\\x00\\xf7\\xff\\xfd\\xff\\x10\\x002\\x00Q\\x00F\\x007\\x00H\\x00N\\x00Y\\x00\\x7f\\x00\\x8a\\x00x\\x00x\\x00t\\x00c\\x00l\\x00x\\x00q\\x00`\\x00Y\\x00m\\x00\\x91\\x00\\xc9\\x00\\xd4\\x00\\xab\\x00\\xaa\\x00\\x94\\x00o\\x00\\xa7\\x00\\xc7\\x00\\xa1\\x00\\xab\\x00\\xba\\x00\\xa4\\x00\\xc0\\x00\\xd8\\x00\\xa0\\x00\\x82\\x00\\x84\\x00Y\\x00<\\x00c\\x00^\\x00\\t\\x00\\xf4\\xff\\n\\x00\\n\\x00\\x18\\x00\\x11\\x00\\xdd\\xff\\xc4\\xff\\xe2\\xff\\xdc\\xff\\xd3\\xff\\r\\x00%\\x00\\x06\\x00\\x06\\x00 \\x007\\x00c\\x00\\x8d\\x00\\x91\\x00\\x93\\x00\\xbe\\x00\\xd4\\x00\\xa0\\x00\\x82\\x00\\xa5\\x00\\xb4\\x00\\x98\\x00{\\x00l\\x00^\\x00]\\x00c\\x00`\\x00J\\x007\\x00g\\x00\\x92\\x00t\\x00i\\x00v\\x00q\\x00a\\x00Y\\x00c\\x00[\\x00`\\x00\\x85\\x00\\x94\\x00\\xa4\\x00\\xac\\x00\\x91\\x00\\x89\\x00\\x98\\x00\\x9c\\x00\\x9b\\x00\\x97\\x00x\\x00c\\x00t\\x00\\x84\\x00\\x84\\x00b\\x00,\\x000\\x00?\\x00\\x1b\\x00\\x0b\\x00\\x18\\x00\\x11\\x00\\xf0\\xff\\xa4\\xffu\\xff\\x9d\\xff\\xa1\\xffq\\xff\\x89\\xff\\xb8\\xff\\x9c\\xff\\x89\\xff\\xb0\\xff\\xdf\\xff\\x01\\x00\\xf8\\xff\\xf0\\xff\\x19\\x00F\\x00d\\x00Q\\x00(\\x001\\x00?\\x00B\\x00Y\\x00@\\x00\\xfb\\xff\\xfd\\xff\\x16\\x00\\xfd\\xff\\xdb\\xff\\xd9\\xff\\xe5\\xff\\xd3\\xff\\xd0\\xff\\xdd\\xff\\xf1\\xff\\x14\\x00\\x07\\x00\\xbe\\xff\\xa9\\xff\\xf5\\xff\\x08\\x00\\xd4\\xff\\xdb\\xff\\xf4\\xff\\xf4\\xff\\xf8\\xff\\x02\\x00\\x02\\x00\\x12\\x00,\\x00\\x11\\x00\\x07\\x00\\x19\\x00\\xf5\\xff\\xde\\xff\\xdc\\xff\\xcf\\xff\\xc1\\xff\\xb0\\xff\\xce\\xff\\xea\\xff\\xbf\\xff\\x9e\\xff\\xb3\\xff\\xc5\\xff\\xc5\\xff\\xc8\\xff\\xad\\xff\\xa6\\xff\\xc4\\xff\\xba\\xff\\xb7\\xff\\xca\\xff\\xb9\\xff\\xb2\\xff\\xde\\xff\\xeb\\xff\\xcd\\xff\\xe0\\xff\\x0c\\x00\\x17\\x00\\x1e\\x005\\x005\\x00-\\x00+\\x00&\\x00\\x1a\\x00\\x19\\x004\\x001\\x00\"\\x00E\\x00G\\x00\\'\\x00K\\x00Y\\x00\\x17\\x00\\x10\\x00?\\x00G\\x005\\x00\\r\\x00\\xf7\\xff\\x19\\x00$\\x00\\x0b\\x00\\n\\x00\\x0c\\x00\\xf5\\xff\\xef\\xff\\xfd\\xff\\xee\\xff\\xdc\\xff\\xe7\\xff\\xe1\\xff\\xd8\\xff\\xd3\\xff\\xa3\\xff\\x9c\\xff\\xe1\\xff\\xd8\\xff\\xb6\\xff\\xd4\\xff\\xc7\\xff\\xb1\\xff\\x98\\xffp\\xffl\\xffl\\xffx\\xff\\x8b\\xff\\xa5\\xff\\xd0\\xff\\xdd\\xff\\xd9\\xff\\xf7\\xff-\\x00B\\x00%\\x00\\xf8\\xff\\xef\\xff!\\x00H\\x000\\x00\\x05\\x00\\xf0\\xff\\xf4\\xff\\xf3\\xff\\x0f\\x00\\x14\\x00\\xc3\\xff\\xa5\\xff\\xbd\\xff\\xc2\\xff\\xc4\\xff\\xaf\\xff\\xa0\\xff\\x91\\xff\\x8e\\xff\\xa8\\xff\\xaf\\xff\\xb9\\xff\\xc7\\xff\\xd4\\xff\\x06\\x00$\\x00+\\x00L\\x00N\\x006\\x00C\\x00P\\x000\\x00\\x10\\x00#\\x00\\x0e\\x00\\xd1\\xff\\xce\\xff\\xc5\\xff\\xa6\\xff\\xae\\xff\\xbd\\xff\\x89\\xffH\\xffV\\xffm\\xffp\\xff{\\xffk\\xffb\\xff\\x85\\xff\\x98\\xffw\\xff}\\xff\\xbd\\xff\\xcf\\xff\\xbc\\xff\\xcc\\xff\\xf3\\xff\\x08\\x00%\\x00F\\x00N\\x00G\\x00-\\x00!\\x00#\\x00\\x1d\\x00(\\x000\\x00!\\x00\\x02\\x00\\x0f\\x00I\\x00J\\x00\\x15\\x00\\xec\\xff\\xd1\\xff\\xb9\\xff\\xc2\\xff\\xd1\\xff\\xbf\\xff\\xc8\\xff\\xd4\\xff\\xca\\xff\\xeb\\xff\"\\x00>\\x00-\\x00\\x05\\x00\\x08\\x00\\x1d\\x00\\xf9\\xff\\xcf\\xff\\xcd\\xff\\xbe\\xff\\xa9\\xff\\xae\\xff\\xb3\\xff\\xc2\\xff\\xe7\\xff\\xf7\\xff\\xfc\\xff\\t\\x00\\xfa\\xff\\xf0\\xff\\x07\\x00\\r\\x00\\xf0\\xff\\xfa\\xff&\\x00\\x18\\x00\\x12\\x00/\\x00\\x16\\x00\\xf7\\xff\\xef\\xff\\xe3\\xff\\xfe\\xff#\\x00\\x19\\x00\\x04\\x00\\x04\\x00$\\x00B\\x00/\\x00\\x1d\\x00\\x1d\\x00-\\x00F\\x00>\\x00Z\\x00\\x81\\x00z\\x00{\\x00u\\x00~\\x00\\x9f\\x00\\xa8\\x00\\xa2\\x00\\x87\\x00x\\x00e\\x00@\\x00+\\x00\\x16\\x00\\x08\\x00\\xf4\\xff\\xe2\\xff\\xe2\\xff\\xe7\\xff\\xfa\\xff\\xf6\\xff\\xe5\\xff\\xd7\\xff\\xc3\\xff\\xc2\\xff\\xd5\\xff\\xd5\\xff\\xda\\xff\\x10\\x00,\\x00\\x19\\x002\\x00F\\x005\\x00G\\x004\\x00\\xe4\\xff\\xd4\\xff\\xde\\xff\\xec\\xff\"\\x00\\x0e\\x00\\xea\\xff%\\x00\\x1f\\x00\\xd2\\xff\\xd2\\xff\\xe4\\xff\\xd1\\xff\\xa6\\xff\\x8c\\xff\\x9c\\xff\\xa1\\xff\\xaa\\xff\\xa2\\xff\\x81\\xff\\xa1\\xff\\xd7\\xff\\xf6\\xff\\x16\\x002\\x00F\\x00-\\x00/\\x00S\\x00B\\x005\\x00\\x1f\\x00\\xe7\\xff\\xe1\\xff\\xfe\\xff\\x16\\x00*\\x003\\x00!\\x00\\xe4\\xff\\xb1\\xff\\xa3\\xff\\x9f\\xff\\xbc\\xff\\xc5\\xffy\\xff`\\xff\\xb2\\xff\\xd7\\xff\\xbc\\xff\\xab\\xff\\x94\\xff\\x9d\\xff\\xbd\\xff\\xbd\\xff\\xa5\\xff\\x93\\xff\\xb7\\xff\\xed\\xff\\xef\\xff\\xeb\\xff\\xfb\\xff\\x06\\x00\\xf5\\xff\\xc4\\xff\\xaa\\xff\\xc3\\xff\\xe0\\xff\\xdb\\xff\\xcd\\xff\\xd2\\xff\\xf2\\xff\\x0c\\x00\\x03\\x00\\x13\\x000\\x001\\x00B\\x00>\\x00\\t\\x00\\xe9\\xff\\xef\\xff\\x06\\x00\\x0c\\x00\\xe2\\xff\\xcd\\xff\\xe9\\xff\\xf8\\xff\\x11\\x00.\\x00+\\x00\\x18\\x00\\xf7\\xff\\xe1\\xff\\xea\\xff\\xf7\\xff\\xf3\\xff\\xeb\\xff\\xe5\\xff\\xc9\\xff\\xc0\\xff\\xe7\\xff\\xfb\\xff\\xe6\\xff\\xde\\xff\\xe1\\xff\\xca\\xff\\xaa\\xff\\x99\\xff\\x9c\\xff\\xb9\\xff\\xcd\\xff\\xd3\\xff\\xd5\\xff\\xe7\\xff\\xfd\\xff\\xe6\\xff\\xd0\\xff\\xbe\\xff\\x9f\\xff\\xc4\\xff\\xfc\\xff\\x02\\x00\\x03\\x00\\xf0\\xff\\xe1\\xff\\xe4\\xff\\xd3\\xff\\xd2\\xff\\xcd\\xff\\xb0\\xff\\xb0\\xff\\xba\\xff\\xc1\\xff\\xcb\\xff\\xba\\xff\\xab\\xff\\xaf\\xff\\x8e\\xffO\\xffB\\xffg\\xffj\\xffo\\xff\\x89\\xff\\x90\\xff\\xc9\\xff\\t\\x00\\x01\\x00\\xf5\\xff\\x12\\x00P\\x00e\\x00P\\x00X\\x00r\\x00\\x88\\x00f\\x00+\\x00)\\x00)\\x00\\x07\\x00\\xe9\\xff\\xda\\xff\\xd9\\xff\\xd0\\xff\\xd0\\xff\\xf6\\xff\\xff\\xff\\xe8\\xff\\xe9\\xff\\xca\\xff\\x95\\xff\\x93\\xff\\xae\\xff\\xba\\xff\\xb9\\xff\\xcd\\xff\\xe8\\xff\\xf4\\xff\\xe6\\xff\\xc2\\xff\\xb1\\xff\\xaa\\xff\\xaa\\xff\\xc1\\xff\\xd4\\xff\\xd7\\xff\\xf2\\xff\\x1f\\x00\\x1e\\x00\\x1b\\x00E\\x00?\\x00\\x0f\\x00\\x1d\\x00M\\x00W\\x00I\\x00Q\\x00r\\x00\\x91\\x00\\xaf\\x00\\xc3\\x00\\xc6\\x00\\xb1\\x00\\x81\\x00X\\x00H\\x00W\\x00i\\x00m\\x00~\\x00|\\x00n\\x00o\\x00h\\x00R\\x00+\\x00\\x1a\\x003\\x00F\\x007\\x001\\x00L\\x00.\\x00\\xed\\xff\\x05\\x00&\\x00\\x10\\x00\\xf1\\xff\\xd6\\xff\\xe1\\xff\\xe7\\xff\\xdb\\xff\\xe4\\xff\\xc5\\xff\\x9c\\xff\\x90\\xff\\x83\\xff\\x99\\xff\\xbd\\xff\\xca\\xff\\xec\\xff\\x17\\x00\\x1d\\x00\\x06\\x00\\xfc\\xff\\x19\\x00\\'\\x00\\x1b\\x00\\x1b\\x00\\x1a\\x00\\x12\\x00\\xf0\\xff\\xe5\\xff\\xf8\\xff\\xdf\\xff\\xd7\\xff\\xd8\\xff\\xb2\\xff\\xb5\\xff\\xcd\\xff\\xca\\xff\\xb4\\xff\\xa6\\xff\\xbe\\xff\\xd6\\xff\\xe0\\xff\\xe0\\xff\\xe9\\xff\\x1d\\x008\\x00(\\x00#\\x00\\x1b\\x00%\\x00*\\x00\\x0c\\x00\\x16\\x00I\\x00o\\x00p\\x00J\\x00C\\x00l\\x00`\\x00/\\x008\\x00R\\x00L\\x00/\\x00\\x1c\\x00\"\\x00/\\x004\\x00\\x07\\x00\\xdc\\xff\\xf9\\xff\\x07\\x00\\xf9\\xff\\xf1\\xff\\xf1\\xff\\xfa\\xff\\xe8\\xff\\xe7\\xff\\xf4\\xff\\xf8\\xff4\\x00K\\x00%\\x00B\\x00e\\x00g\\x00p\\x00j\\x00R\\x00F\\x00O\\x00E\\x00>\\x00L\\x00:\\x00\\x17\\x00\\x0b\\x00\\x1d\\x00\\x19\\x00\\xd8\\xff\\x9d\\xff\\x8d\\xff\\x7f\\xffo\\xffu\\xffp\\xff{\\xff\\xa6\\xff\\xa8\\xff\\xa4\\xff\\xb7\\xff\\xc7\\xff\\xe1\\xff\\t\\x00 \\x00\\x15\\x00\\x11\\x00\\x05\\x00\\xee\\xff\\xfe\\xff\\x17\\x00*\\x00!\\x00\\x10\\x00.\\x007\\x00\\x1e\\x00\\x12\\x00\\x01\\x00\\x00\\x00\\xf6\\xff\\xc2\\xff\\xae\\xff\\xbc\\xff\\xad\\xff\\x8c\\xff\\x88\\xff\\xab\\xff\\xca\\xff\\xc1\\xff\\xad\\xff\\xb9\\xff\\xbd\\xff\\xd2\\xff\\x02\\x00\\xe8\\xff\\xbe\\xff\\xbc\\xff\\xbe\\xff\\xce\\xff\\xd7\\xff\\xf5\\xff\\x14\\x00\\t\\x00\\x01\\x00\\xf2\\xff\\xce\\xff\\xd1\\xff \\x00\\\\\\x00P\\x00E\\x00(\\x00\\xfe\\xff\\x12\\x001\\x008\\x00N\\x00X\\x00`\\x00\\x84\\x00\\x9f\\x00\\xa1\\x00\\xc1\\x00\\xf7\\x00\\xdf\\x00\\x9e\\x00\\x82\\x00_\\x00E\\x00_\\x00^\\x00@\\x00U\\x00H\\x00!\\x00)\\x00\\x16\\x00\\x0c\\x00\\x1c\\x00\\x1f\\x00\\x17\\x00\\x08\\x00$\\x004\\x00(\\x00;\\x00#\\x00\\x01\\x00\\x1b\\x00!\\x00\\'\\x00B\\x007\\x00\\x10\\x00\\xfa\\xff\\x01\\x00\\x04\\x00\\x04\\x00\\r\\x00\\xe7\\xff\\xbb\\xff\\xc1\\xff\\xc9\\xff\\xc9\\xff\\xdb\\xff\\xec\\xff\\xec\\xff\\xe3\\xff\\xdb\\xff\\xe0\\xff\\xeb\\xff\\xee\\xff\\xe1\\xff\\xdd\\xff\\xf0\\xff\\xfc\\xff\\x02\\x00\\xfe\\xff\\xee\\xff\\x06\\x00S\\x00y\\x00X\\x00W\\x00m\\x00Q\\x00F\\x00Z\\x00r\\x00\\x9c\\x00\\xa5\\x00\\x8f\\x00t\\x00m\\x00\\xa2\\x00\\xac\\x00~\\x00\\x81\\x00q\\x00_\\x00~\\x00\\x7f\\x00\\x89\\x00\\x8a\\x00X\\x009\\x003\\x006\\x00\\'\\x00\\x08\\x00\\x02\\x00\\x17\\x00\\x1f\\x00\\xff\\xff\\x00\\x00\\x12\\x00\\xf7\\xff\\xf1\\xff\\xd9\\xff\\xad\\xff\\xc6\\xff\\xdf\\xff\\xf7\\xff\\x18\\x00\\xfc\\xff\\xfb\\xff\\x16\\x00\\x12\\x00\\x15\\x00\\xf6\\xff\\xcc\\xff\\xd4\\xff\\xe6\\xff\\xee\\xff\\xed\\xff\\xd4\\xff\\xa5\\xff|\\xff\\x82\\xff\\xa3\\xff\\xb7\\xff\\xc8\\xff\\xcb\\xff\\xd4\\xff\\r\\x00-\\x00)\\x00D\\x00M\\x00\\x1a\\x00\\xf0\\xff\\n\\x00\\x1c\\x00\\xf2\\xff\\xe5\\xff\\xe9\\xff\\xca\\xff\\xbf\\xff\\xd3\\xff\\xf7\\xff\\x1f\\x004\\x00:\\x00@\\x00Q\\x00d\\x00v\\x00\\x8c\\x00\\x86\\x00i\\x00`\\x00_\\x00T\\x007\\x00$\\x000\\x00#\\x00\"\\x00V\\x00^\\x006\\x00-\\x00C\\x00G\\x00A\\x00O\\x00U\\x00X\\x00S\\x00D\\x00^\\x00m\\x00N\\x00>\\x005\\x00/\\x000\\x00<\\x00@\\x00,\\x00/\\x00\\x1f\\x00\\xeb\\xff\\xdc\\xff\\xe1\\xff\\xea\\xff\\x0f\\x00\\x18\\x00\\x00\\x00\\xf5\\xff\\xe8\\xff\\xde\\xff\\xed\\xff\\xfa\\xff\\xe0\\xff\\xc8\\xff\\xce\\xff\\xb4\\xff\\x9d\\xff\\xab\\xff\\xb3\\xff\\xb8\\xff\\xc3\\xff\\xb1\\xff\\x84\\xff\\x8f\\xff\\xbe\\xff\\xb6\\xff}\\xffN\\xffX\\xfft\\xff\\x8c\\xff\\x9e\\xff\\x8d\\xfft\\xffp\\xff}\\xffp\\xffF\\xff1\\xffG\\xffv\\xff\\x81\\xff\\x83\\xff\\x9c\\xff\\x82\\xffA\\xff\\'\\xff7\\xffa\\xffw\\xffc\\xff\\\\\\xffp\\xff\\x8c\\xff\\xab\\xff\\xd0\\xff\\xef\\xff\\xd7\\xff\\x9d\\xff\\x8f\\xff\\xac\\xff\\xc9\\xff\\xe5\\xff\\x01\\x00\\xfc\\xff\\xe6\\xff\\xe7\\xff\\xe5\\xff\\xd3\\xff\\xcb\\xff\\xca\\xff\\xc7\\xff\\xb6\\xff\\x99\\xff\\x9b\\xff\\x9b\\xff\\x99\\xff\\xa6\\xff\\x97\\xffs\\xff`\\xff`\\xffX\\xffT\\xffY\\xffQ\\xffJ\\xffG\\xffF\\xffH\\xff=\\xff;\\xff\\\\\\xff\\x83\\xff\\x81\\xffs\\xffx\\xffy\\xff\\x86\\xff\\x9d\\xff\\xa5\\xff\\xda\\xff\\x07\\x00\\xe2\\xff\\xe0\\xff\\xfd\\xff\\xfc\\xff\\xf8\\xff\\xf4\\xff\\x1f\\x000\\x00\\xfb\\xff\\xf0\\xff\\x03\\x00\\xf7\\xff\\xe5\\xff\\xef\\xff\\xef\\xff\\xd9\\xff\\xe3\\xff\\xfc\\xff\\x06\\x00\\xfd\\xff\\xda\\xff\\xbe\\xff\\xb7\\xff\\xbb\\xff\\xc5\\xff\\xc1\\xff\\xbc\\xff\\xc0\\xff\\xca\\xff\\x01\\x00R\\x00w\\x00t\\x00\\x84\\x00\\xb7\\x00\\xd9\\x00\\xcf\\x00\\xad\\x00\\x97\\x00\\x89\\x00x\\x00w\\x00j\\x00i\\x00|\\x00v\\x00r\\x00q\\x00r\\x00\\x86\\x00\\x8f\\x00\\x8d\\x00\\x8e\\x00\\x93\\x00\\xab\\x00\\xbd\\x00\\xb2\\x00\\x93\\x00u\\x00\\x81\\x00\\x94\\x00{\\x00q\\x00y\\x00c\\x00Q\\x00]\\x00|\\x00\\x9f\\x00\\xbd\\x00\\xe3\\x00\\xf2\\x00\\xeb\\x00\\xf7\\x00\\x06\\x01\\n\\x01\\xe9\\x00\\xc6\\x00\\xc5\\x00\\xab\\x00\\x8e\\x00y\\x00c\\x00_\\x00.\\x00\\xf1\\xff\\xdb\\xff\\xbd\\xff\\xca\\xff\\xfe\\xff\\t\\x00\\x02\\x00\\x0f\\x00@\\x00t\\x00\\x8e\\x00\\x9f\\x00\\x92\\x00y\\x00~\\x00\\x85\\x00\\x81\\x00\\x83\\x00d\\x00\"\\x00\\xf1\\xff\\xda\\xff\\xe3\\xff\\xf7\\xff\\xed\\xff\\xdb\\xff\\xf5\\xff6\\x00Y\\x00|\\x00\\xa4\\x00\\x8d\\x00h\\x00R\\x00.\\x00(\\x00#\\x00\\x0b\\x00\\x02\\x00\\xdb\\xff\\xd1\\xff\\x11\\x00\\x1c\\x00\\x01\\x00\\xf3\\xff\\xd9\\xff\\xd2\\xff\\xe4\\xff\\xdf\\xff\\xad\\xff\\x95\\xff\\xa9\\xff\\xb4\\xff\\xc4\\xff\\xcf\\xff\\xce\\xff\\xd9\\xff\\xde\\xff\\xde\\xff\\xe4\\xff\\xdd\\xff\\xce\\xff\\xd7\\xff\\xe5\\xff\\xe1\\xff\\xe3\\xff\\xe5\\xff\\xf0\\xff\\xef\\xff\\xc4\\xff\\xc4\\xff\\x08\\x00?\\x00@\\x00:\\x00K\\x00?\\x00\\x15\\x00\\xfc\\xff\\xec\\xff\\xe3\\xff\\xd8\\xff\\xc1\\xff\\xce\\xff\\xd7\\xff\\xd0\\xff\\xe2\\xff\\xea\\xff\\xe7\\xff\\xdc\\xff\\xed\\xff#\\x00\\x1f\\x00\\xfe\\xff\\x0c\\x00\\x14\\x00\\x02\\x00\\xfd\\xff\\xe7\\xff\\xcd\\xff\\xc8\\xff\\xbe\\xff\\xda\\xff\\x0e\\x00\\r\\x00\\x03\\x00\\x0c\\x00\\xfc\\xff\\xde\\xff\\xd7\\xff\\xda\\xff\\xe6\\xff\\xec\\xff\\xb5\\xff~\\xfft\\xffS\\xffH\\xffX\\xffY\\xffv\\xffw\\xffe\\xff{\\xff~\\xffv\\xff\\x8c\\xff\\x9c\\xff\\x88\\xff}\\xff\\x9c\\xff\\x9f\\xff\\x83\\xff\\x9b\\xff\\xcd\\xff\\xd2\\xff\\xc5\\xff\\xd2\\xff\\xeb\\xff\\xe9\\xff\\xc8\\xff\\xaf\\xff\\xb9\\xff\\xce\\xff\\xcf\\xff\\xbe\\xff\\xb1\\xff\\xa6\\xff\\x9f\\xff\\x8d\\xffl\\xffX\\xff]\\xfft\\xffb\\xffB\\xffJ\\xffT\\xffe\\xff\\x85\\xff\\x91\\xff\\x81\\xff\\x81\\xff\\x8a\\xff\\x8e\\xff\\xaf\\xff\\xba\\xff\\xb7\\xff\\xbd\\xff\\x92\\xffj\\xff\\x8e\\xff\\xb0\\xff\\x99\\xff\\x82\\xff\\xa0\\xff\\xcf\\xff\\xe0\\xff\\xc6\\xff\\x96\\xff\\xa1\\xff\\xd9\\xff\\xe6\\xff\\xd0\\xff\\xd7\\xff\\xfe\\xff\\xfa\\xff\\xd6\\xff\\xc5\\xff\\xc8\\xff\\xe2\\xff\\xfa\\xff\\x03\\x00\\r\\x00,\\x00f\\x00\\x8f\\x00\\x88\\x00q\\x00_\\x00N\\x001\\x00\\x12\\x00\\xff\\xff\\x04\\x00\"\\x00%\\x00\\x0f\\x00\\x14\\x002\\x00K\\x005\\x00\\x19\\x00\"\\x00\\x1f\\x00\\x0e\\x00\\n\\x00 \\x00)\\x00\\x1b\\x005\\x006\\x00\\x07\\x00\\x14\\x00\\'\\x00\\x0b\\x00\\x1d\\x00G\\x00I\\x002\\x00\"\\x00.\\x00C\\x00]\\x00a\\x00@\\x008\\x00;\\x00 \\x00\\x15\\x00)\\x00\\r\\x00\\xd7\\xff\\xe3\\xff\\xf9\\xff\\xf2\\xff\\x07\\x00\"\\x00\\x1e\\x00\\x17\\x00\\x11\\x00\\xe0\\xff\\xa7\\xff\\xad\\xff\\xba\\xff\\x9c\\xff\\x8f\\xff\\x9b\\xff\\xa2\\xff\\xb6\\xff\\xc5\\xff\\xb1\\xff\\x9f\\xff\\xc5\\xff\\xf8\\xff\\xee\\xff\\xde\\xff\\xfb\\xff\\x02\\x00\\x06\\x00\\x1b\\x00\\x0e\\x00\\x0e\\x00\\x1a\\x00\\t\\x00\\n\\x00\\x0c\\x00\\xf6\\xff\\x05\\x00$\\x00\\x00\\x00\\xb8\\xff\\xa9\\xff\\xab\\xff\\x93\\xff\\x8d\\xff\\x8e\\xff\\x94\\xff\\x9c\\xff\\x8e\\xffy\\xffo\\xffp\\xff]\\xffJ\\xffU\\xfff\\xffq\\xffl\\xff_\\xffJ\\xff;\\xffi\\xff\\x89\\xffU\\xff>\\xffR\\xff?\\xff>\\xffH\\xffI\\xffw\\xff\\x99\\xff\\x89\\xff\\x81\\xff\\x8f\\xff\\xab\\xff\\xc2\\xff\\xbc\\xff\\xca\\xff\\xf1\\xff\\xee\\xff\\xca\\xff\\xbc\\xff\\xdf\\xff\\x0b\\x00\\'\\x00\\x17\\x00\\xdb\\xff\\xdc\\xff\\xf2\\xff\\xe0\\xff\\xec\\xff\\xf6\\xff\\xe5\\xff\\xef\\xff\\xfd\\xff\\x0e\\x00!\\x00$\\x00-\\x00\\x1f\\x00\\x13\\x00\"\\x00\\x1d\\x00$\\x00%\\x00\\xfc\\xff\\xf3\\xff\\xfe\\xff\\xf2\\xff\\x01\\x00\\xfc\\xff\\xcf\\xff\\xce\\xff\\xca\\xff\\xc2\\xff\\xe2\\xff\\xdc\\xff\\xc2\\xff\\xc2\\xff\\xbd\\xff\\xcd\\xff\\xef\\xff\\x00\\x00\\x02\\x00\\xf1\\xff\\xea\\xff\\xe0\\xff\\xca\\xff\\xd4\\xff\\xc4\\xff\\xa6\\xff\\xbc\\xff\\xd9\\xff\\xf0\\xff\\t\\x00\\t\\x00\\x05\\x00)\\x008\\x00\\x17\\x00\\x1f\\x00B\\x00O\\x00H\\x00C\\x00_\\x00o\\x00v\\x00n\\x00<\\x00/\\x00@\\x00-\\x00\\x19\\x009\\x00p\\x00j\\x002\\x00)\\x00J\\x00O\\x00@\\x00\\x13\\x00\\xf3\\xff\\x03\\x00\\x02\\x00\\x00\\x00\\xf4\\xff\\xe1\\xff\\xe9\\xff\\xec\\xff\\r\\x00\"\\x00\\x13\\x00:\\x00[\\x00W\\x00e\\x00Z\\x00\\x1d\\x00\\xf4\\xff\\x00\\x00\\x1f\\x00I\\x00\\\\\\x009\\x002\\x00h\\x00p\\x00=\\x00>\\x00,\\x00\\xf4\\xff\\x16\\x00*\\x00\\x10\\x002\\x00A\\x00=\\x00e\\x00\\x86\\x00\\x9d\\x00\\xa2\\x00\\x9b\\x00\\xa5\\x00\\x9d\\x00\\xa0\\x00\\xb6\\x00\\xa3\\x00\\x93\\x00\\x9b\\x00\\x81\\x00u\\x00\\x8b\\x00\\x94\\x00\\x9f\\x00\\xab\\x00\\x8f\\x00Z\\x00U\\x00w\\x00\\x89\\x00\\xad\\x00\\xca\\x00\\xa3\\x00\\x8e\\x00\\x84\\x00>\\x00\\x14\\x00\\x15\\x00\\xee\\xff\\xba\\xff\\xb5\\xff\\xc8\\xff\\xc5\\xff\\xcc\\xff\\xf4\\xff\\x18\\x00I\\x00Q\\x00\\n\\x00\\xfb\\xff\\x13\\x00\\x07\\x00\\r\\x00\\x0b\\x00\\xe1\\xff\\xb8\\xff\\xb5\\xff\\xcf\\xff\\xcc\\xff\\xc5\\xff\\xd9\\xff\\xd5\\xff\\xb8\\xff\\xaa\\xff\\xc7\\xff\\xe5\\xff\\xd7\\xff\\xd1\\xff\\xdc\\xff\\xe5\\xff\\xf1\\xff\\xe8\\xff\\xdb\\xff\\xf5\\xff\\x08\\x00\\x00\\x00\\xfe\\xff\\x07\\x00 \\x00=\\x000\\x00\\xf2\\xff\\xcc\\xff\\xe7\\xff\\x13\\x00\\x1f\\x00%\\x005\\x00\"\\x00\\x03\\x00\\xfe\\xff\\t\\x00\"\\x00\\x1c\\x00\\x03\\x00\\x06\\x00\\r\\x00#\\x00+\\x00\\r\\x00\\x03\\x00\\xf8\\xff\\xd1\\xff\\xcf\\xff\\xf1\\xff\\x02\\x00\\x01\\x00\\xe6\\xff\\xc6\\xff\\xcb\\xff\\xe5\\xff\\xfb\\xff\\x04\\x00\\xf8\\xff\\xdf\\xff\\xe5\\xff\\x18\\x00)\\x00\\x02\\x00\\xd3\\xff\\xa4\\xffz\\xffp\\xff|\\xff\\x86\\xff\\x9e\\xff\\xb9\\xff\\xa5\\xff\\x83\\xff\\x94\\xff\\xc1\\xff\\xcb\\xff\\xd3\\xff\\xf4\\xff\\xfe\\xff\\x13\\x00>\\x00R\\x00Q\\x00.\\x00\\x10\\x00\\x1a\\x00\\x05\\x00\\xd2\\xff\\xd5\\xff\\xed\\xff\\xdb\\xff\\xbd\\xff\\xa6\\xff\\xb4\\xff\\xeb\\xff\\x01\\x00\\xfb\\xff\\x04\\x00\\xf0\\xff\\xce\\xff\\xd8\\xff\\xe9\\xff\\xed\\xff\\x08\\x00\\x1a\\x00\\x08\\x00\\x17\\x00A\\x00Q\\x00T\\x006\\x00\\x17\\x00\\x18\\x00\\x13\\x00\\x04\\x00\\xdd\\xff\\xaf\\xff\\x8f\\xffu\\xff\\x8d\\xff\\xaf\\xff\\xa2\\xff\\xb5\\xff\\xe4\\xff\\xd2\\xff\\xdd\\xff\\x1f\\x00\\x19\\x00\\x03\\x00\\x12\\x00\\x13\\x00\\xfa\\xff\\xf1\\xff\\x13\\x00*\\x00-\\x00;\\x007\\x00=\\x00`\\x00V\\x003\\x00\"\\x00\"\\x002\\x00*\\x00\\x11\\x00\\xfd\\xff\\xf3\\xff\\x0c\\x00\\x18\\x00\\xfd\\xff\\xff\\xff\\x1e\\x003\\x00;\\x00\\'\\x00\"\\x00-\\x00\\x1c\\x00\\x04\\x00\\xf4\\xff\\x1c\\x00H\\x00/\\x00)\\x00:\\x00>\\x00D\\x00D\\x00M\\x00Z\\x00A\\x00%\\x009\\x00^\\x00y\\x00\\x8a\\x00\\xa9\\x00\\xc1\\x00\\xb9\\x00\\xe1\\x00\\xf8\\x00\\xcc\\x00\\xcd\\x00\\xb6\\x00w\\x00\\x81\\x00\\x8c\\x00~\\x00\\x8d\\x00\\x8c\\x00v\\x00^\\x007\\x00#\\x00\\x1b\\x00\\x08\\x00\\xee\\xff\\xd1\\xff\\xd1\\xff\\xc3\\xff\\xac\\xff\\xc4\\xff\\xd0\\xff\\xe0\\xff\\x11\\x009\\x00B\\x00(\\x00&\\x007\\x00+\\x002\\x00)\\x00\\xf6\\xff\\xf7\\xff\\x0b\\x00\\xe7\\xff\\xb5\\xff\\xac\\xff\\xbc\\xff\\xb9\\xff\\xbc\\xff\\xcf\\xff\\xe0\\xff\\x08\\x00\\x1f\\x00\\x14\\x00\\x04\\x00\\xea\\xff\\xed\\xff\\x0b\\x00\\x10\\x00\\x13\\x00\\x16\\x00\\x01\\x00\\xd8\\xff\\xad\\xff\\xa2\\xff\\xb2\\xff\\xc2\\xff\\xbb\\xff\\xa3\\xff\\x9f\\xff\\xa3\\xff\\xaf\\xff\\xae\\xff\\x96\\xff\\x9f\\xff\\x9d\\xff\\x88\\xff\\x8d\\xff\\x8c\\xff\\xa8\\xff\\xd2\\xff\\xcf\\xff\\xce\\xff\\xca\\xff\\xd3\\xff\\t\\x00)\\x003\\x004\\x00\\x17\\x00\\x02\\x00\\xf7\\xff\\xd9\\xff\\xce\\xff\\xdc\\xff\\xd9\\xff\\xd4\\xff\\xdb\\xff\\xdf\\xff\\xd0\\xff\\xc0\\xff\\xc7\\xff\\xc8\\xff\\xd4\\xff\\xef\\xff\\xe4\\xff\\xe8\\xff\\t\\x00\\xf1\\xff\\xd8\\xff\\x06\\x00\\x15\\x00\\xf8\\xff\\xfa\\xff\\xef\\xff\\xd6\\xff\\xd3\\xff\\xc0\\xff\\xc6\\xff\\x02\\x00\\x14\\x00\\x11\\x00\\'\\x00\\x1e\\x00!\\x00=\\x00?\\x006\\x00(\\x00(\\x00/\\x00\\x12\\x00\\xef\\xff\\xdb\\xff\\xd1\\xff\\xc4\\xff\\xac\\xff\\xbc\\xff\\xcc\\xff\\xb3\\xff\\xbe\\xff\\xd5\\xff\\xc2\\xff\\xc8\\xff\\xf0\\xff\\xeb\\xff\\xcf\\xff\\xcf\\xff\\xcc\\xff\\xd8\\xff\\xfc\\xff\\x14\\x00\\r\\x00\\t\\x00\\'\\x00\\x18\\x00\\x04\\x00\\x16\\x00\\x16\\x00#\\x00\\x19\\x00\\xfd\\xff\\x00\\x00\\xf4\\xff\\xdf\\xff\\xdc\\xff\\xee\\xff\\x00\\x00\\xf4\\xff\\xf2\\xff\\x1e\\x00C\\x007\\x001\\x00<\\x00 \\x00\\x0b\\x00\"\\x00\\'\\x00\\x18\\x00,\\x00O\\x00F\\x002\\x00+\\x00*\\x00U\\x00r\\x00p\\x00\\x99\\x00\\xba\\x00\\xac\\x00\\xa0\\x00\\x8e\\x00\\x83\\x00\\x93\\x00\\x99\\x00\\x9a\\x00\\x99\\x00\\x8c\\x00\\x97\\x00\\x8c\\x00a\\x00_\\x00\\\\\\x00C\\x00L\\x00Q\\x005\\x00!\\x00\\x1b\\x00\\x1f\\x00.\\x00A\\x00I\\x00O\\x00j\\x00\\x91\\x00\\xaa\\x00\\xb0\\x00\\xad\\x00\\x9b\\x00\\x83\\x00\\x7f\\x00~\\x00t\\x00e\\x00T\\x00<\\x00\\x12\\x00\\x03\\x00\\x07\\x00\\xf7\\xff\\xdf\\xff\\xc2\\xff\\xb4\\xff\\xbc\\xff\\xcd\\xff\\xd4\\xff\\xc1\\xff\\xcf\\xff\\xd4\\xff\\x95\\xff\\x85\\xff\\x90\\xff{\\xff\\x9a\\xff\\xaf\\xff\\x8e\\xff\\x97\\xff\\xb8\\xff\\xc9\\xff\\xd0\\xff\\xcc\\xff\\xcd\\xff\\xd4\\xff\\xcd\\xff\\xc6\\xff\\xc2\\xff\\x9e\\xff\\x98\\xff\\xc7\\xff\\xc8\\xff\\xc4\\xff\\xe3\\xff\\xea\\xff\\xd3\\xff\\xb4\\xff\\xa7\\xff\\xa4\\xff\\xa1\\xff\\x9a\\xff\\x80\\xff\\x82\\xff\\x9a\\xffu\\xffT\\xff\\x8e\\xff\\xbc\\xff\\xb4\\xff\\xc4\\xff\\xc7\\xff\\xb2\\xff\\xee\\xff/\\x00\\xfa\\xff\\xd4\\xff\\xf1\\xff\\xd9\\xff\\xd0\\xff\\x07\\x00\\x1f\\x00\\x0b\\x00\\xf2\\xff\\xf0\\xff\\xf2\\xff\\xed\\xff\\xe2\\xff\\xd2\\xff\\xde\\xff\\xe8\\xff\\xda\\xff\\xea\\xff\\x02\\x00\\xff\\xff\\xf0\\xff\\xf2\\xff\\xf7\\xff\\xdb\\xff\\xe6\\xff\\r\\x00\\xf2\\xff\\xcf\\xff\\xda\\xff\\xed\\xff\\xe6\\xff\\xd8\\xff\\xdd\\xff\\xac\\xffp\\xff\\x8f\\xff\\xb0\\xff\\xb9\\xff\\xdc\\xff\\xe7\\xff\\xe1\\xff\\xe5\\xff\\xdf\\xff\\xd9\\xff\\xca\\xff\\xc4\\xff\\xd6\\xff\\xc1\\xff\\xb8\\xff\\xde\\xff\\xd0\\xff\\xb6\\xff\\xad\\xff\\x83\\xff\\x96\\xff\\xcf\\xff\\xd2\\xff\\xd6\\xff\\xd8\\xff\\xd0\\xff\\xf4\\xff\\x18\\x00\\xff\\xff\\x01\\x00)\\x00\"\\x00\\x0b\\x00\\xf6\\xff\\xf1\\xff\\xe0\\xff\\xc7\\xff\\xe0\\xff\\xd0\\xff\\xb9\\xff\\xeb\\xff\\xfe\\xff\\x04\\x00\\x17\\x00\\x0c\\x00\\xfb\\xff\\xf5\\xff\\xfc\\xff\\x0b\\x00\\x1b\\x00\\x1f\\x00\\x1e\\x00%\\x00\\x10\\x00\\x04\\x00$\\x006\\x003\\x00>\\x00;\\x00\\x12\\x00\\x14\\x001\\x00.\\x00=\\x00A\\x00-\\x00!\\x00\\x16\\x00 \\x00!\\x003\\x00Z\\x00`\\x00I\\x00\\x12\\x00\\x15\\x00.\\x00\\n\\x00#\\x00S\\x00X\\x00a\\x00T\\x00R\\x00j\\x00\\x84\\x00z\\x00T\\x00g\\x00z\\x00g\\x00Z\\x00E\\x00:\\x00;\\x00K\\x00X\\x00P\\x00U\\x00K\\x00,\\x005\\x00X\\x00_\\x00I\\x003\\x00\\x1f\\x00\\x16\\x00\\x0e\\x00\\xfd\\xff\\x0c\\x00)\\x001\\x00)\\x00\\x0c\\x00\\x1f\\x00G\\x00>\\x006\\x00?\\x00Q\\x00e\\x00t\\x00\\x82\\x00\\x87\\x00\\x89\\x00\\x83\\x00n\\x00a\\x00\\x80\\x00\\xa0\\x00\\x9e\\x00\\xa1\\x00\\xaf\\x00\\xbd\\x00\\xcc\\x00\\xd0\\x00\\xb4\\x00\\xb0\\x00\\xd2\\x00\\xb5\\x00\\x85\\x00\\x97\\x00\\xa9\\x00\\x98\\x00\\x8c\\x00{\\x00\\x8a\\x00\\xc2\\x00\\xb7\\x00\\xa3\\x00\\xc5\\x00\\xd9\\x00\\x03\\x01-\\x01\\x1d\\x01\\x02\\x01\\xf8\\x00\\xe5\\x00\\xbd\\x00\\xb6\\x00\\xaf\\x00t\\x00L\\x00>\\x00%\\x00\\r\\x00\\x0b\\x00$\\x00+\\x00\\n\\x00\\xf5\\xff\\x00\\x00\\xf8\\xff\\xe0\\xff\\xd7\\xff\\xd5\\xff\\xb8\\xff\\x88\\xff\\x90\\xff\\xc3\\xff\\xe1\\xff\\xf6\\xff\\x0f\\x00\\x11\\x00\\xf9\\xff\\t\\x00\\x13\\x00\\xfb\\xff\\x10\\x00!\\x00\\x07\\x00\\x04\\x00\\x16\\x00\\x02\\x00\\xe9\\xff\\xf5\\xff\\xe7\\xff\\xda\\xff\\xf8\\xff\\xf2\\xff\\xdf\\xff\\xf6\\xff\\xdd\\xff\\xbd\\xff\\xea\\xff\\x0c\\x00\\xf2\\xff\\xe1\\xff\\xf2\\xff\\xda\\xff\\xcc\\xff\\xf1\\xff\\xed\\xff\\xdf\\xff\\xd7\\xff\\xba\\xff\\x98\\xff\\x85\\xff\\x85\\xffy\\xff\\x84\\xff\\xaa\\xff\\xb9\\xff\\xb0\\xff\\xa7\\xff\\xca\\xff\\xd6\\xff\\xc1\\xff\\xe3\\xff\\xf0\\xff\\xd8\\xff\\xf0\\xff\\xf7\\xff\\xeb\\xff\\x0c\\x00(\\x00\\x1c\\x00\\n\\x00\\x12\\x00\\xff\\xff\\xe3\\xff\\x03\\x00\\x02\\x00\\xd0\\xff\\xc5\\xff\\xbe\\xff\\x9e\\xff\\x87\\xff}\\xff[\\xff_\\xff\\x91\\xffo\\xffL\\xffw\\xff\\x99\\xff\\xc5\\xff\\xd5\\xff\\xa8\\xff\\x96\\xff\\xa9\\xff\\xc0\\xff\\xa3\\xffw\\xff\\x89\\xff\\x8c\\xffv\\xffv\\xffi\\xffc\\xfft\\xff\\x8d\\xff\\xaa\\xff\\xb7\\xff\\xe2\\xff\\xef\\xff\\xb7\\xff\\xc4\\xff\\xca\\xff\\xad\\xff\\xd0\\xff\\xcc\\xff\\xb1\\xff\\xb8\\xff\\xb6\\xff\\xaf\\xff\\xaf\\xff\\xb1\\xff\\x9d\\xff\\x89\\xff\\x94\\xff\\x90\\xffs\\xffu\\xff\\xa0\\xff\\xc0\\xff\\xc2\\xff\\xa6\\xff\\x90\\xff\\xa8\\xff\\xb9\\xff\\xb2\\xff\\x92\\xffd\\xffi\\xff\\x8d\\xff\\x9d\\xff\\x9f\\xff\\xaf\\xff\\xbb\\xff\\xb3\\xff\\xc8\\xff\\xe4\\xff\\xdd\\xff\\xec\\xff\\x11\\x00\\xf9\\xff\\xb7\\xff\\xa9\\xff\\xc0\\xff\\xbb\\xff\\x9d\\xff\\x92\\xff\\xa6\\xff\\xba\\xff\\xb7\\xff\\xb3\\xff\\xc6\\xff\\xd3\\xff\\xf5\\xff)\\x00+\\x000\\x00Y\\x00|\\x00y\\x00c\\x00}\\x00\\x93\\x00\\x88\\x00\\x8f\\x00\\x9c\\x00\\x98\\x00\\x8a\\x00\\x9b\\x00\\xb4\\x00\\x95\\x00z\\x00o\\x00J\\x00,\\x00.\\x00.\\x00\\x10\\x00\\n\\x00\\x06\\x00\\xeb\\xff\\xe5\\xff\\xcc\\xff\\xb5\\xff\\xbf\\xff\\xc0\\xff\\xc3\\xff\\xe0\\xff\\x06\\x00\\xf7\\xff\\xcc\\xff\\xe4\\xff\\xfd\\xff\\xe6\\xff\\xfa\\xff\\x16\\x00\\xe8\\xff\\xcf\\xff\\xe2\\xff\\xd4\\xff\\xc6\\xff\\xcc\\xff\\xb7\\xff\\x9b\\xff\\xa1\\xff\\xac\\xff\\xb2\\xff\\xe0\\xff\\xfc\\xff\\xf7\\xff\\x05\\x00\\x1a\\x000\\x00\\'\\x00\\r\\x00\\r\\x00\\x15\\x00%\\x008\\x00C\\x00Q\\x00&\\x00\\xf8\\xff\\x1b\\x00 \\x00\\x0c\\x00\\x1b\\x00\\x11\\x00\\xf5\\xff\\xf4\\xff\\x0f\\x00\\x1f\\x00\\xf2\\xff\\xaf\\xff\\xbf\\xff\\xdc\\xff\\xb1\\xff\\xb2\\xff\\xee\\xff\\x00\\x00\\xe7\\xff\\xdd\\xff\\xea\\xff\\xee\\xff\\xf1\\xff\\xf5\\xff\\xdd\\xff\\xbf\\xff\\xd8\\xff\\xf1\\xff\\xdf\\xff\\xe7\\xff\\xd6\\xff\\xba\\xff\\xda\\xff\\xeb\\xff\\xf2\\xff\\x0e\\x00\\xf3\\xff\\xc9\\xff\\xf8\\xff+\\x00\\t\\x00\\xff\\xff%\\x00\\x0c\\x00\\xf6\\xff-\\x00\\'\\x00\\xef\\xff\\xff\\xff\\xfc\\xff\\xe1\\xff\\xec\\xff\\xd2\\xff\\xb7\\xff\\xc6\\xff\\xb3\\xff\\xa4\\xff\\xbd\\xff\\xb1\\xff\\x9b\\xff\\xaa\\xff\\xa0\\xff\\x85\\xff\\x86\\xff|\\xffc\\xffp\\xff\\x93\\xff\\x9c\\xff\\xa1\\xff\\xc2\\xff\\xc2\\xff\\x96\\xff\\x87\\xff\\x8a\\xff\\x94\\xff\\x96\\xff\\x90\\xff\\xb2\\xff\\xc1\\xff\\xb5\\xff\\xa9\\xff\\x88\\xff\\x99\\xff\\xbb\\xff\\xb6\\xff\\xc9\\xff\\xe5\\xff\\xf9\\xff\\r\\x00\\xfc\\xff\\xe9\\xff\\xdc\\xff\\xb9\\xff\\xa4\\xff\\xa3\\xff\\x99\\xffp\\xffb\\xffw\\xffi\\xffr\\xff\\x95\\xff\\x9b\\xff\\x94\\xff{\\xffT\\xff+\\xffI\\xff\\x80\\xffe\\xfft\\xff\\xad\\xff\\x98\\xff\\x88\\xff\\xa6\\xff\\x9c\\xff\\x92\\xff\\xb4\\xff\\x96\\xffv\\xff\\xbd\\xff\\xf6\\xff\\xe4\\xff\\xdb\\xff\\xe0\\xff\\xbf\\xff\\xcc\\xff\\x16\\x00\\x1f\\x00\\n\\x00\\x1b\\x00\\xfb\\xff\\xe2\\xff\\x1c\\x00\\n\\x00\\xd6\\xff\\xf2\\xff\\xf3\\xff\\xf8\\xff2\\x00E\\x00-\\x002\\x00\\'\\x00\\xec\\xff\\xe2\\xff\\xf7\\xff\\xfc\\xff\\x1e\\x00\\x1b\\x00\\xdb\\xff\\xd8\\xff\\xed\\xff\\xdf\\xff\\xf1\\xff\\xf3\\xff\\xe5\\xff\\x10\\x008\\x002\\x00\\n\\x00\\xf1\\xff\\x15\\x00\\'\\x00\\x02\\x00\\xfc\\xff\\x0f\\x00\\x07\\x00\\xfd\\xff\\xfe\\xff\\xf3\\xff\\xe5\\xff\\xdc\\xff\\xdb\\xff\\xdd\\xff\\xc0\\xff\\xbd\\xff\\xdd\\xff\\xcf\\xff\\xe3\\xff\\'\\x009\\x00M\\x00a\\x00\\\\\\x00a\\x00Z\\x00a\\x00\\x82\\x00\\x89\\x00\\x87\\x00\\x90\\x00\\x91\\x00\\x8e\\x00\\x85\\x00\\\\\\x00\\'\\x00!\\x00T\\x00\\x84\\x00s\\x00B\\x00R\\x00z\\x00k\\x00J\\x00J\\x00x\\x00}\\x00U\\x00P\\x00=\\x00-\\x00B\\x00>\\x00\\x12\\x00\\x08\\x00E\\x00j\\x00R\\x000\\x00\\x01\\x00\\xf9\\xffB\\x00^\\x005\\x008\\x00J\\x00J\\x00T\\x007\\x00\\n\\x00 \\x00A\\x009\\x00\\n\\x00\\x05\\x00E\\x00?\\x00*\\x00K\\x00J\\x00U\\x00q\\x00S\\x00E\\x00r\\x00\\x8a\\x00u\\x00Q\\x008\\x00/\\x00F\\x00|\\x00y\\x00f\\x00\\x80\\x00z\\x00\\x85\\x00\\xa0\\x00x\\x00e\\x00g\\x00L\\x00X\\x00c\\x00C\\x00>\\x00B\\x00H\\x00h\\x00v\\x00\\x91\\x00\\x8b\\x00@\\x007\\x00b\\x00f\\x00\\\\\\x00O\\x00@\\x008\\x00-\\x00+\\x00\\x1a\\x00\\xf9\\xff\\xf4\\xff\\x0f\\x00\\x1f\\x00\\x01\\x00\\xe6\\xff\\xf4\\xff\\xff\\xff\\x00\\x00\\xf7\\xff\\xdd\\xff\\xd6\\xff\\xf7\\xff\\x0b\\x00\\xe5\\xff\\xcb\\xff\\xee\\xff\\x0c\\x00!\\x00(\\x00\\x13\\x000\\x00T\\x00>\\x00*\\x00\\x1e\\x00\\r\\x00\\x1f\\x00%\\x00\\x07\\x00\\x0c\\x00-\\x00N\\x00_\\x00_\\x00j\\x00q\\x00\\x89\\x00\\xc1\\x00\\xc2\\x00\\x90\\x00\\x89\\x00\\x99\\x00\\xa6\\x00\\xa8\\x00\\x7f\\x00d\\x00a\\x00=\\x00\\x15\\x00\\x1b\\x00B\\x00M\\x001\\x00\\x17\\x00\\x0e\\x00\\x04\\x00\\xf0\\xff\\xeb\\xff\\xfe\\xff\\x0f\\x00\\x05\\x00\\xf4\\xff\\x17\\x00\"\\x00\\xf8\\xff\\x03\\x00\\xf9\\xff\\xd0\\xff\\xf2\\xff\\x16\\x00\\x06\\x00\\x0c\\x00;\\x00J\\x00I\\x00b\\x00O\\x00-\\x007\\x00C\\x00\\\\\\x00d\\x00W\\x00o\\x00i\\x00N\\x00f\\x00m\\x00T\\x00E\\x00M\\x00a\\x00r\\x00r\\x00`\\x00\\\\\\x00f\\x00`\\x00P\\x00F\\x00,\\x00\\x01\\x00\\xfd\\xff\\x02\\x00\\xe4\\xff\\xc0\\xff\\x9b\\xff\\x94\\xff\\xb9\\xff\\xba\\xff\\xa8\\xff\\xbb\\xff\\xbd\\xff\\x9e\\xff\\x9b\\xff\\xba\\xff\\xba\\xff\\xa5\\xff\\xb5\\xff\\xc4\\xff\\xae\\xff\\xa4\\xff\\xce\\xff\\n\\x002\\x00+\\x00\\x05\\x00\\x10\\x00G\\x00X\\x001\\x00\\x01\\x00\\xf4\\xff\\xd7\\xff\\xac\\xff\\xc0\\xff\\xc9\\xff\\xa5\\xff\\x95\\xffe\\xffB\\xffd\\xffh\\xffa\\xffq\\xffr\\xffp\\xffo\\xffv\\xff\\x97\\xff\\xae\\xff\\xa3\\xff\\xa3\\xff\\xae\\xff\\x99\\xff\\x87\\xff\\x96\\xff\\xb5\\xff\\xbd\\xff\\x9b\\xff\\x8f\\xff\\xbb\\xff\\xca\\xff\\xb9\\xff\\xd0\\xff\\xe6\\xff\\xda\\xff\\xd9\\xff\\xae\\xff~\\xff\\xa7\\xff\\xc2\\xff\\x9b\\xff~\\xff\\x84\\xff\\x8b\\xff\\xa5\\xff\\xcf\\xff\\xae\\xff\\x88\\xff\\x97\\xff\\x9d\\xff\\xa0\\xff\\xa6\\xff\\xbe\\xff\\xc8\\xff\\xb1\\xff\\x8f\\xffm\\xff\\x9b\\xff\\xe2\\xff\\xd0\\xff\\x94\\xff\\x8b\\xff\\xcb\\xff\\xf5\\xff\\xdd\\xff\\xd5\\xff\\xde\\xff\\xd6\\xff\\xdb\\xff\\xe7\\xff\\xd3\\xff\\xb3\\xff\\xa5\\xff\\x8a\\xffY\\xff5\\xff5\\xff8\\xff#\\xff(\\xff6\\xffE\\xffr\\xff\\x85\\xffm\\xffc\\xff\\x82\\xff\\x9e\\xff\\xa7\\xff\\xc1\\xff\\xcd\\xff\\xcf\\xff\\xcf\\xff\\xb7\\xff\\xca\\xff\\xed\\xff\\xe6\\xff\\xda\\xff\\xca\\xff\\xc2\\xff\\xd6\\xff\\xf2\\xff\\x04\\x00\\xe3\\xff\\x99\\xff\\x8b\\xff\\xad\\xff\\xc8\\xff\\xe1\\xff\\xcf\\xff\\xa9\\xff\\xa2\\xff\\x80\\xffR\\xff[\\xff]\\xffX\\xffX\\xff2\\xff%\\xff5\\xffW\\xff\\x88\\xff\\x86\\xff\\x88\\xff\\x96\\xfff\\xffQ\\xffd\\xff_\\xffn\\xffh\\xff>\\xfff\\xff\\x90\\xff\\x80\\xff\\x94\\xff\\x9c\\xff\\x8b\\xff\\xa7\\xff\\xdf\\xff\\x11\\x00\\x0b\\x00\\xe9\\xff\\xec\\xff\\xf1\\xff\\xfe\\xff\\x1b\\x00\\x11\\x00\\xfb\\xff\\x10\\x00+\\x009\\x00[\\x00q\\x00\\\\\\x00S\\x00K\\x00\\x1c\\x00\\x18\\x004\\x00\\x18\\x00\\xfe\\xff\\xf1\\xff\\xc8\\xff\\xa8\\xff\\xa1\\xff\\x8d\\xffr\\xff{\\xff\\x8e\\xff\\xae\\xff\\xe6\\xff\\xd5\\xff\\xa0\\xff\\xbb\\xff\\xec\\xff\\x05\\x00\\x14\\x00\\n\\x00\\x04\\x00\\xf9\\xff\\xe9\\xff\\xf1\\xff\\xf4\\xff\\xf7\\xff\\xf2\\xff\\xc6\\xff\\xac\\xff\\xcf\\xff\\xfc\\xff\\xf9\\xff\\xe6\\xff\\xe4\\xff\\xeb\\xff0\\x00~\\x00u\\x00_\\x00w\\x00\\xa4\\x00\\xae\\x00}\\x00\\x8d\\x00\\xb9\\x00\\x93\\x00\\x8e\\x00\\xb5\\x00\\xb2\\x00\\x9b\\x00\\x86\\x00y\\x00f\\x00v\\x00\\xa1\\x00\\x8d\\x00c\\x00d\\x00k\\x00X\\x00K\\x00X\\x00d\\x00b\\x00J\\x00\"\\x00\\xf3\\xff\\xef\\xff\\x18\\x00\\x08\\x00\\xe6\\xff\\xe1\\xff\\xbd\\xff\\xb8\\xff\\xe4\\xff\\xd8\\xff\\xc6\\xff\\xec\\xff\\xec\\xff\\xd3\\xff\\xed\\xff\\x1a\\x00\\x07\\x00\\xcc\\xff\\xd3\\xff\\x06\\x00\\x16\\x00\\x1f\\x00?\\x00F\\x00?\\x00?\\x00:\\x00E\\x00K\\x00C\\x00V\\x00[\\x007\\x009\\x00`\\x00}\\x00\\x8d\\x00w\\x00k\\x00\\x8b\\x00\\x90\\x00y\\x00\\x84\\x00\\x85\\x00f\\x00[\\x00^\\x00f\\x00z\\x00\\x87\\x00s\\x00Q\\x00G\\x00V\\x00g\\x00m\\x00M\\x00!\\x00.\\x00=\\x000\\x00\\x12\\x00\\xe4\\xff\\xe7\\xff\\x10\\x00 \\x00\\x15\\x00\\r\\x00\\x02\\x00\\xd4\\xff\\xa2\\xff\\x9d\\xff\\xbd\\xff\\xda\\xff\\xd6\\xff\\xba\\xff\\x92\\xff\\x90\\xff\\xd6\\xff\\xfb\\xff\\xe4\\xff\\xe0\\xff\\xe0\\xff\\xe6\\xff\\xfb\\xff\\x05\\x00\\n\\x00\\xfa\\xff\\xdf\\xff\\xe8\\xff\\x0b\\x00\\x1f\\x00\\x10\\x00\\xff\\xff\\n\\x00\\x03\\x00\\xec\\xff\\xeb\\xff\\xe5\\xff\\xdf\\xff\\xe1\\xff\\xe0\\xff\\xda\\xff\\xcb\\xff\\xd6\\xff\\xf7\\xff\\x1a\\x005\\x00\\x10\\x00\\xe6\\xff\\xf4\\xff\\xf3\\xff\\xe3\\xff\\xd5\\xff\\xbd\\xff\\xb5\\xff\\xbf\\xff\\xde\\xff\\xe6\\xff\\xe2\\xff\\xed\\xff\\xc5\\xff\\x9e\\xff\\xa8\\xff\\xb2\\xff\\xc9\\xff\\xcd\\xff\\x96\\xff\\x99\\xff\\xee\\xff\\xff\\xff\\xee\\xff\\x15\\x00(\\x00\\x0e\\x00\\x17\\x00 \\x00\\x0e\\x00*\\x004\\x00\\x1e\\x008\\x00;\\x00)\\x00]\\x00v\\x004\\x00\\x19\\x00/\\x00\\x1f\\x00\\x12\\x00\\x14\\x00\\x01\\x00\\xec\\xff\\xee\\xff\\xfe\\xff\\xfa\\xff\\xec\\xff\\xd7\\xff\\xc6\\xff\\xdc\\xff\\xe6\\xff\\xdd\\xff\\xd8\\xff\\xb8\\xff\\x9d\\xff\\x9f\\xff\\xa5\\xff\\xa7\\xff\\xac\\xff\\xb6\\xff\\xba\\xff\\xc8\\xff\\xfb\\xff\\x1d\\x00\\xec\\xff\\xc7\\xff\\xf2\\xff\\xfa\\xff\\xe6\\xff\\xe5\\xff\\xc7\\xff\\xc1\\xff\\xcd\\xff\\xac\\xff\\xb7\\xff\\xea\\xff\\xd3\\xff\\xc2\\xff\\x02\\x00;\\x00G\\x00=\\x00/\\x00=\\x00`\\x00k\\x00l\\x00\\x9b\\x00\\xa7\\x00s\\x00s\\x00p\\x00<\\x00=\\x00M\\x00I\\x006\\x00\\x07\\x00\\t\\x000\\x00A\\x00C\\x00&\\x00!\\x00=\\x00\\x06\\x00\\xe2\\xff!\\x00>\\x00G\\x00f\\x00l\\x00|\\x00{\\x00G\\x00M\\x00i\\x00U\\x00O\\x00[\\x00s\\x00\\x8c\\x00\\xa7\\x00\\xbe\\x00\\xa9\\x00\\xa3\\x00\\xc0\\x00\\xcb\\x00\\xc9\\x00\\xb5\\x00\\x84\\x00s\\x00\\x93\\x00\\xa8\\x00\\xad\\x00\\x98\\x00k\\x00g\\x00_\\x00V\\x00\\x90\\x00\\xa2\\x00t\\x00^\\x00W\\x00[\\x00K\\x004\\x00?\\x00D\\x00A\\x004\\x00(\\x001\\x00?\\x00>\\x00.\\x00+\\x00.\\x004\\x00>\\x00-\\x00\\x07\\x00\\xf5\\xff\\xf4\\xff\\xeb\\xff\\xe1\\xff\\xdd\\xff\\xfe\\xff\\r\\x00\\xf5\\xff\\xf5\\xff\\xdd\\xff\\xeb\\xff\\x1c\\x00\\xf6\\xff\\xd8\\xff\\xdd\\xff\\xde\\xff\\xfb\\xff\\x07\\x00\\x07\\x00\\x07\\x00\\x15\\x00=\\x00E\\x002\\x00\"\\x00\\x1a\\x00#\\x00\\x1c\\x00\\x04\\x00\\x08\\x00(\\x00\\x16\\x00\\xd4\\xff\\xc7\\xff\\xfc\\xff\\x15\\x00\\x05\\x00\\x14\\x00\\x12\\x00\\xef\\xff\\x01\\x00\\x15\\x00\\x05\\x00\\xee\\xff\\xbb\\xff\\xaf\\xff\\xc0\\xff\\xaa\\xff\\xc6\\xff\\xed\\xff\\xcf\\xff\\xc1\\xff\\xd9\\xff\\xdc\\xff\\xe1\\xff\\xe1\\xff\\xbd\\xff\\xcf\\xff\\x0c\\x00\\xef\\xff\\xd6\\xff\\x0b\\x00\\x14\\x00\\xfc\\xff\\xe3\\xff\\xb8\\xff\\xb5\\xff\\xeb\\xff\\x07\\x00\\xe8\\xff\\xdd\\xff\\xf3\\xff\\x13\\x00\\x1a\\x00\\xf5\\xff\\x12\\x009\\x00!\\x00\\x07\\x00\\xd7\\xff\\xcd\\xff\\xf3\\xff\\xe3\\xff\\xc4\\xff\\xc5\\xff\\xdc\\xff\\t\\x00\\x03\\x00\\xd2\\xff\\xd6\\xff\\xde\\xff\\xc9\\xff\\xca\\xff\\xb1\\xff\\x87\\xff\\x9c\\xff\\xb7\\xff\\xb2\\xff\\xbe\\xff\\xbb\\xff\\x97\\xff\\x82\\xff\\x8f\\xff\\x9f\\xff\\x8e\\xff\\x9a\\xff\\xbc\\xff\\xaf\\xff\\xb8\\xff\\xed\\xff\\xfc\\xff\\xda\\xff\\xbc\\xff\\xb5\\xff\\xba\\xff\\xe8\\xff$\\x00/\\x00%\\x00-\\x00\\x1e\\x00\\xff\\xff\\x15\\x00\\x1f\\x00\\xee\\xff\\xe1\\xff\\xe7\\xff\\xd6\\xff\\xe9\\xff)\\x00F\\x00:\\x00E\\x00K\\x00?\\x00b\\x00q\\x00H\\x00D\\x00A\\x00,\\x00)\\x00\\x19\\x00-\\x00c\\x00U\\x00\\x1e\\x00\\x0c\\x00\\r\\x00\\x18\\x00D\\x00M\\x00*\\x00*\\x003\\x003\\x00r\\x00\\xa9\\x00\\x86\\x00[\\x00D\\x00\\x1e\\x00\\x14\\x00\\'\\x00\\x18\\x00\\x02\\x00 \\x00F\\x00S\\x00c\\x00e\\x00I\\x00E\\x00@\\x00\\x0e\\x00\\r\\x00J\\x00Z\\x00\\x17\\x00\\xdb\\xff\\xe9\\xff\\xfb\\xff\\xf6\\xff\\xe0\\xff\\xd0\\xff\\xeb\\xff\\xf1\\xff\\xbc\\xff\\x98\\xff\\x94\\xff\\x85\\xff\\x86\\xff\\xa6\\xff\\x99\\xff\\x86\\xff\\xa8\\xff\\xcd\\xff\\xd9\\xff\\xc9\\xff\\xc7\\xff\\xdd\\xff\\xc9\\xff\\xaa\\xff\\xb2\\xff\\xd6\\xff\\x16\\x006\\x00\\x11\\x00\\xf4\\xff\\xff\\xff\\x0c\\x00\\xf5\\xff\\xef\\xff\\x1a\\x00\\x1f\\x00\\x10\\x00$\\x00F\\x00Q\\x00;\\x006\\x00!\\x00\\x0b\\x00/\\x00-\\x00\\x0f\\x00\\x13\\x00\\x06\\x00\\x13\\x009\\x00\\x1a\\x00\\xe5\\xff\\xf5\\xff\"\\x00\\x1c\\x00\\x0c\\x00\\x0f\\x00\\xf5\\xff\\xf6\\xff\\n\\x00\\xfe\\xff\\x14\\x004\\x00\\x14\\x00\\xe8\\xff\\xeb\\xff\\xf1\\xff\\xe2\\xff\\xe0\\xff\\xce\\xff\\xa0\\xff\\x8f\\xff\\x96\\xff\\x91\\xff|\\xffm\\xff\\x7f\\xff\\x91\\xff\\x94\\xff\\x8a\\xffm\\xff_\\xffY\\xffV\\xff\\x8c\\xff\\xb7\\xff\\x9f\\xff\\xa4\\xff\\xb0\\xff\\x8d\\xff\\x9d\\xff\\xd3\\xff\\xd8\\xff\\xd0\\xff\\xcd\\xff\\xd0\\xff\\xff\\xff%\\x00\\x19\\x00\\x1a\\x00\\x1b\\x00\\xfc\\xff\\xf1\\xff\\xf0\\xff\\xdb\\xff\\xd3\\xff\\xda\\xff\\xbe\\xff\\x91\\xff\\xb6\\xff\\xf6\\xff\\xf8\\xff\\xe7\\xff\\xd3\\xff\\xcb\\xff\\xd7\\xff\\xde\\xff\\xce\\xff\\x9b\\xff|\\xff\\x82\\xff\\x93\\xff\\xa2\\xffw\\xffS\\xffi\\xffV\\xff5\\xffG\\xffg\\xffu\\xffo\\xffj\\xffz\\xff\\xa3\\xff\\xc2\\xff\\xad\\xff\\xac\\xff\\xd4\\xff\\xe2\\xff\\xdd\\xff\\xd1\\xff\\xb8\\xff\\xbb\\xff\\xba\\xff\\xa6\\xff\\xb7\\xff\\xcc\\xff\\xd2\\xff\\xd3\\xff\\xd4\\xff\\xe6\\xff\\xec\\xff\\x00\\x00$\\x00\\x1a\\x00\\x02\\x00\\x13\\x000\\x000\\x002\\x00\\x1d\\x00\\xf2\\xff\\xf3\\xff\\xfb\\xff\\xf5\\xff\\x05\\x00\\x1a\\x00\\n\\x00\\xfb\\xff\\xed\\xff\\xdc\\xff\\xfb\\xff\\x0e\\x00\\xfb\\xff\\xf5\\xff\\x06\\x00\\x15\\x00\\xfd\\xff\\xd2\\xff\\xc9\\xff\\xe6\\xff\\xfb\\xff\\x03\\x00\\r\\x00\\x1b\\x00:\\x00?\\x00\\x1c\\x00\\xfb\\xff\\xe7\\xff\\xe7\\xff\\x06\\x00\\x14\\x00\\xef\\xff\\xe0\\xff\\xfb\\xff\\xf2\\xff\\xcd\\xff\\xc2\\xff\\xc3\\xff\\xda\\xff\\x08\\x00\\x1e\\x00\\x1b\\x00\\x1f\\x00\\x1a\\x00\\xe2\\xff\\xb2\\xff\\xc1\\xff\\xc8\\xff\\xda\\xff\\x02\\x00\\x0c\\x00.\\x00O\\x00P\\x00r\\x00\\x90\\x00\\x83\\x00\\x85\\x00u\\x00E\\x00f\\x00\\xb3\\x00\\xcd\\x00\\xca\\x00\\xae\\x00\\xb9\\x00\\x0c\\x011\\x01\\xec\\x00\\xb0\\x00\\xc9\\x00\\xc8\\x00\\xa6\\x00\\xa9\\x00\\x8d\\x00Z\\x00Y\\x00c\\x00J\\x008\\x00B\\x005\\x00\\x19\\x00\\x12\\x00\\r\\x00+\\x00[\\x00]\\x00V\\x00o\\x00\\x8f\\x00\\xa6\\x00\\xba\\x00\\xbd\\x00\\xb6\\x00\\xbf\\x00\\xaf\\x00\\x9a\\x00\\xa0\\x00\\x9c\\x00\\xa4\\x00\\x9e\\x00q\\x00\\x81\\x00\\x93\\x00T\\x00,\\x001\\x00(\\x00\\x15\\x00\\x07\\x00\\x06\\x00\\xfe\\xff\\xf7\\xff\\x05\\x00\\r\\x00\\x1b\\x00D\\x00Z\\x00[\\x00\\x8b\\x00\\xab\\x00\\x87\\x00e\\x00*\\x00\\x06\\x00\\x1e\\x00\\x15\\x00\\xf5\\xff\\xfa\\xff\\x1f\\x001\\x00.\\x009\\x00/\\x00\\xfd\\xff\\xcf\\xff\\xbb\\xff\\x8b\\xfff\\xff\\x87\\xff\\x94\\xff\\x97\\xff\\xc1\\xff\\xeb\\xff\\x17\\x00(\\x00\\x11\\x00\\x05\\x00\\x0f\\x00\\r\\x00\\x01\\x00\\t\\x00\\x1b\\x00?\\x00q\\x00\\x92\\x00\\xb5\\x00\\xde\\x00\\xd6\\x00\\x9c\\x00n\\x00F\\x00\\x1f\\x00\\x1d\\x00!\\x00\\x18\\x00\\r\\x00\\x0f\\x00\\x1f\\x00&\\x00\\x1b\\x00\\x0b\\x00\\x11\\x00\\x1d\\x00\\x10\\x00\\x14\\x00*\\x00+\\x001\\x00M\\x00o\\x00\\x84\\x00\\x94\\x00\\x99\\x00\\x83\\x00n\\x00Z\\x00N\\x00X\\x00X\\x00L\\x00I\\x00E\\x00T\\x00`\\x006\\x00!\\x00#\\x00\\x17\\x002\\x00.\\x00\\x05\\x00\\t\\x00\\x0f\\x00\\xee\\xff\\xcc\\xff\\xc2\\xff\\xc0\\xff\\xbc\\xff\\xa6\\xffv\\xffO\\xffW\\xfft\\xffd\\xffS\\xffd\\xffu\\xff\\x95\\xff\\xa9\\xff\\xa8\\xff\\xd2\\xff\\x04\\x00\\x08\\x00\\x12\\x00\\x0c\\x00\\xd1\\xff\\xa5\\xff~\\xffT\\xffo\\xff\\xaa\\xff\\xb7\\xff\\xb5\\xff\\xa7\\xffr\\xff[\\xffU\\xff-\\xff\\x14\\xff\\x0f\\xff\\n\\xff\\x16\\xff4\\xffJ\\xff[\\xff\\x84\\xff\\xb0\\xff\\x9e\\xff\\x83\\xff\\xb2\\xff\\xce\\xff\\xad\\xff\\x88\\xff\\x91\\xff\\xc6\\xff\\xc4\\xff\\xb1\\xff\\xcb\\xff\\xd0\\xff\\xc6\\xff\\xc3\\xff\\xd2\\xff\\xfd\\xff\\x04\\x00\\xde\\xff\\xce\\xff\\xc5\\xff\\x91\\xfft\\xff\\xa7\\xff\\xc5\\xff\\xaa\\xff\\xbd\\xff\\xdc\\xff\\xb7\\xff\\xa0\\xff\\xb8\\xff\\xbf\\xff\\xa3\\xff\\x8c\\xff~\\xff\\x81\\xff\\xb9\\xff\\xca\\xff\\xab\\xff\\xe0\\xff\\x16\\x00\\xe3\\xff\\xe4\\xff:\\x00P\\x002\\x00\\x15\\x00\\xe6\\xff\\xc6\\xff\\xbb\\xff\\xb4\\xff\\x94\\xffQ\\xff8\\xffS\\xffg\\xffk\\xffa\\xffv\\xff\\xa2\\xff\\x93\\xff\\x97\\xff\\xda\\xff\\x03\\x00\\x15\\x00\\x0f\\x00\\xe7\\xff\\xe8\\xff\\x0f\\x00\\xfa\\xff\\xcb\\xff\\xc9\\xff\\xd7\\xff\\xe6\\xff\\xd7\\xff\\xb9\\xff\\xcc\\xff\\n\\x00$\\x00\\x10\\x00\\x08\\x00\\xe7\\xff\\xad\\xff\\x7f\\xff[\\xffH\\xff[\\xff\\xa5\\xff\\xc9\\xff\\xa6\\xff\\x97\\xff\\xa7\\xff\\xaa\\xff\\x97\\xff\\x80\\xff\\x98\\xff\\xb7\\xff\\x91\\xff\\x8e\\xff\\xcd\\xff\\xf2\\xff\\x0b\\x00\\n\\x00\\xe5\\xff\\xc7\\xff\\xc4\\xff\\xe0\\xff\\xee\\xff\\xd4\\xff\\xc6\\xff\\xcf\\xff\\xb0\\xff\\x8d\\xff\\x90\\xff\\x94\\xff\\xb9\\xff\\xe6\\xff\\xde\\xff\\xe6\\xff\\x0f\\x00\\x18\\x00\\x12\\x00\\x07\\x00\\xe9\\xff\\xe4\\xff\\x15\\x00N\\x00R\\x00R\\x00R\\x00(\\x00$\\x00)\\x00\\x01\\x00\\xe3\\xff\\xe4\\xff\\xe0\\xff\\xcd\\xff\\xd3\\xff\\xd7\\xff\\xc7\\xff\\xd2\\xff\\xea\\xff\\xe5\\xff\\xf3\\xff4\\x00>\\x00\\x18\\x00\\x16\\x00\\x1d\\x00%\\x00,\\x00\\x10\\x00!\\x00i\\x00q\\x00b\\x00\\x81\\x00\\x96\\x00\\x96\\x00\\x9e\\x00\\x8e\\x00j\\x00m\\x00o\\x00S\\x00B\\x00E\\x009\\x00\\x1c\\x00$\\x00\\x1a\\x00\\x17\\x001\\x00\\xff\\xff\\xe2\\xff\\xe5\\xff\\xc7\\xff\\xdc\\xff\\xea\\xff\\xc7\\xff\\xce\\xff\\x0c\\x00\\x06\\x00\\xac\\xff\\xa2\\xff\\xcf\\xff\\xf2\\xff\\x08\\x00\\xd6\\xff\\xd3\\xff\\x1f\\x00!\\x00\\x15\\x00>\\x009\\x00\"\\x00&\\x00\\x1f\\x008\\x00f\\x00U\\x00@\\x00d\\x00l\\x00M\\x00C\\x000\\x00\\x15\\x00\\xf9\\xff\\xd2\\xff\\xae\\xff\\xad\\xff\\xbe\\xff\\xb3\\xff\\xbf\\xff\\xd7\\xff\\xd4\\xff\\xd6\\xff\\xd9\\xff\\xd6\\xff\\xc3\\xff\\xc6\\xff\\xda\\xff\\xc4\\xff\\xcc\\xff\\xf7\\xff\\xdc\\xff\\xb4\\xff\\xd1\\xff\\xf5\\xff+\\x00G\\x00\\x12\\x00\\xff\\xff\\xf9\\xff\\xbd\\xff\\x9c\\xff\\x91\\xff\\x86\\xffv\\xffq\\xff\\x97\\xff\\xae\\xff\\xc5\\xff\\xc8\\xff\\x9e\\xff\\xc3\\xff\\xf3\\xff\\xe6\\xff\\xf6\\xff\\x0c\\x00\\xf3\\xff\\xe6\\xff\\x15\\x00)\\x00\\x03\\x00\\x0c\\x00B\\x00C\\x00@\\x00m\\x00k\\x00f\\x00t\\x006\\x00\\x15\\x00E\\x00M\\x00E\\x00a\\x00~\\x00j\\x00H\\x00O\\x00N\\x00P\\x00i\\x00a\\x00B\\x00>\\x00Q\\x00N\\x00^\\x00y\\x00K\\x00T\\x00\\x9d\\x00[\\x00\\x12\\x00M\\x00m\\x00N\\x00?\\x00D\\x004\\x00\\x1a\\x00\\x13\\x00\\x03\\x00\\x06\\x00%\\x00\\x1a\\x00\\x03\\x00\\x18\\x00)\\x00=\\x00o\\x00r\\x00>\\x007\\x00T\\x00M\\x00V\\x00\\x8e\\x00\\x95\\x00\\x8b\\x00\\xa8\\x00\\xa0\\x00x\\x00a\\x00w\\x00\\x91\\x00\\x88\\x00\\x82\\x00\\x82\\x00\\x94\\x00\\xa3\\x00\\x8a\\x00X\\x00)\\x00#\\x00!\\x00\\x0e\\x00!\\x00J\\x00f\\x00\\x85\\x00\\x8f\\x00s\\x00^\\x00L\\x00\\x1f\\x00\\x04\\x00\\xea\\xff\\xce\\xff\\xfd\\xff5\\x00&\\x00\\x0f\\x00\\x1e\\x00!\\x00\\xf9\\xff\\xd7\\xff\\xcf\\xff\\xcb\\xff\\xae\\xffu\\xffd\\xff\\x8b\\xff\\xa5\\xff\\x92\\xff\\x7f\\xff\\x9c\\xff\\xb9\\xff\\xb1\\xff\\x9a\\xffo\\xff^\\xff\\x81\\xffx\\xffj\\xff\\x99\\xff\\xc5\\xff\\xe9\\xff\\xfe\\xff\\xe9\\xff\\xf3\\xff\\x19\\x00\\x11\\x00\\xeb\\xff\\xcb\\xff\\xbe\\xff\\xcd\\xff\\xd1\\xff\\xa8\\xff\\xb8\\xff\\x17\\x006\\x00&\\x00-\\x003\\x00I\\x00H\\x00\\t\\x00\\xee\\xff\\x10\\x00.\\x00I\\x00G\\x00\\x13\\x00\\x03\\x008\\x00A\\x00\\x00\\x00\\xe3\\xff\\x01\\x00\\xfa\\xff\\xc0\\xff\\xc9\\xff\\x01\\x00\\t\\x00\\xfe\\xff\\x06\\x00+\\x00=\\x00[\\x00\\x8a\\x00f\\x00k\\x00\\x9b\\x00x\\x00u\\x00\\x9f\\x00\\x9b\\x00\\x8b\\x00\\x99\\x00\\xa4\\x00\\xa7\\x00\\xae\\x00\\x8c\\x00r\\x00y\\x00d\\x00M\\x00B\\x00F\\x00;\\x00\\xfc\\xff\\xff\\xff2\\x00>\\x00Z\\x00v\\x00z\\x00q\\x00g\\x00M\\x00\\x16\\x00\\x1d\\x00A\\x00/\\x00\\x0f\\x00\\xfd\\xff\\x03\\x00\\x15\\x00\\x08\\x00\\xd3\\xff\\xba\\xff\\xee\\xff \\x00\"\\x00\\x13\\x00\\xee\\xff\\xdc\\xff\\x12\\x00\\x1e\\x00\\xcb\\xff\\xca\\xff\\xf5\\xff\\xae\\xff\\x86\\xff\\x96\\xff\\x85\\xff\\xa4\\xff\\xad\\xffy\\xff\\x8d\\xff\\xb7\\xff\\x8f\\xff`\\xffi\\xffr\\xff}\\xff\\x98\\xff\\x91\\xffs\\xffw\\xff\\x9f\\xff\\x96\\xff\\x82\\xff\\xbd\\xff\\xf3\\xff\\xdb\\xff\\xbd\\xff\\xd1\\xff\\xee\\xff\\xfe\\xff\\x0f\\x00\\x0e\\x00\\x01\\x00\\x16\\x00\\x14\\x00\\xe7\\xff\\xe7\\xff\\xee\\xff\\xfe\\xff&\\x00\\x13\\x00\\xf6\\xff\\n\\x00 \\x00\\r\\x00\\xfc\\xff\\x0c\\x00\\x0c\\x00\\x13\\x00.\\x00\\x10\\x00\\xed\\xff\\x07\\x00\\x11\\x00\\n\\x00.\\x00-\\x00\\xf9\\xff\\x18\\x00^\\x00B\\x00\\x10\\x00\\r\\x00\\x11\\x00,\\x00M\\x008\\x00!\\x00\\x18\\x00\\xe0\\xff\\xc1\\xff\\xd4\\xff\\x96\\xffU\\xff\\x8b\\xff\\xb0\\xff\\x7f\\xff\\x7f\\xff\\xb2\\xff\\xad\\xff\\x9b\\xff\\x9d\\xff\\x81\\xffu\\xff\\xa3\\xff\\xdf\\xff\\x01\\x00\\r\\x00\\x17\\x00\\x10\\x00\\x10\\x00 \\x00\\xf6\\xff\\xcb\\xff\\xed\\xff\\xf0\\xff\\xd3\\xff\\xeb\\xff\\xed\\xff\\xdf\\xff\\x1d\\x00K\\x00\\x15\\x00\\x05\\x00\\x1a\\x00\\xd9\\xff\\xab\\xff\\xc5\\xff\\xf3\\xff\\x1a\\x00%\\x00#\\x00\\x0c\\x00\\t\\x008\\x006\\x00\\xf7\\xff\\xd0\\xff\\xc5\\xff\\xb3\\xff\\xac\\xff\\xb1\\xff\\xbd\\xff\\xd8\\xff\\xdb\\xff\\xd9\\xff\\x04\\x00\\x1b\\x00\\x06\\x00\\x06\\x00%\\x00\\x1d\\x00\\xdf\\xff\\xe0\\xff\\xef\\xff\\xb5\\xff\\xbf\\xff\\xff\\xff\\xf5\\xff\\xe2\\xff\\xf0\\xff\\xd6\\xff\\xa8\\xff\\x90\\xff}\\xff\\x86\\xff\\xcd\\xff\\xfe\\xff\\xcf\\xff\\xce\\xff\\'\\x00;\\x00E\\x00l\\x00T\\x00[\\x00\\x9e\\x00\\xa2\\x00\\x83\\x00\\xaf\\x00\\xbb\\x00l\\x00r\\x00\\xa1\\x00\\x8b\\x00\\x86\\x00~\\x00@\\x003\\x00Q\\x00\\x1b\\x00\\xc5\\xff\\xbb\\xff\\xc3\\xff\\xb9\\xff\\xb4\\xff\\x8c\\xff\\\\\\xffq\\xff\\x90\\xffi\\xffC\\xffY\\xff]\\xff;\\xff6\\xff@\\xff/\\xffC\\xff{\\xff\\x80\\xffo\\xffv\\xff\\x88\\xff\\xa6\\xff\\xb6\\xff\\xb2\\xff\\xb7\\xff\\xd7\\xff\\xda\\xff\\x9e\\xff\\xa5\\xff\\xca\\xff\\x9f\\xff\\x97\\xff\\xb4\\xff\\x99\\xff\\x90\\xff\\xb9\\xff\\xb2\\xff\\x8c\\xff\\xb1\\xff\\xf3\\xff\\x0c\\x00\\x1e\\x00\\x1b\\x00\\xed\\xff\\xdb\\xff\\x07\\x00 \\x00\\x01\\x00\\xfe\\xff\\x10\\x00\\xfe\\xff\\xf2\\xff\\xdd\\xff\\xe2\\xff%\\x00\\\\\\x00\\x7f\\x00\\x82\\x00z\\x00j\\x00K\\x00K\\x00W\\x00\\x93\\x00\\xbe\\x00w\\x00)\\x00\\xfc\\xff\\x1c\\x00z\\x00\\x8d\\x00`\\x00;\\x006\\x00+\\x00\\x13\\x00\\x05\\x00\\xe3\\xff\\xd6\\xff\\xf9\\xff\\x05\\x00+\\x00m\\x00g\\x00(\\x00\\xee\\xff\\xe1\\xff\\xe4\\xff\\xfc\\xff3\\x00%\\x00\\xf3\\xff\\xed\\xff\\xf6\\xff\\n\\x00\\x12\\x00\\x0c\\x00\\x19\\x00\\x1e\\x00\\x07\\x00\\xfb\\xff\\x1a\\x00I\\x00F\\x00/\\x00W\\x00_\\x000\\x00<\\x00:\\x00\\x1b\\x00\\x1f\\x00\\x17\\x00%\\x00&\\x00\\xf3\\xff\\xde\\xff\\xc4\\xff\\xcc\\xff\\xfb\\xff\\xea\\xff\\xef\\xff\\x16\\x00\\n\\x00\\xd6\\xff\\xb8\\xff\\xd0\\xff\\xe3\\xff\\xf4\\xff\\x19\\x00\\x10\\x00\\x0b\\x00\\x1d\\x00\\xed\\xff\\xc6\\xff\\xf4\\xff\\xf8\\xff\\xcf\\xff\\xdf\\xff\\x03\\x002\\x006\\x00\\xd9\\xff\\xd2\\xff1\\x00]\\x00X\\x004\\x00!\\x00*\\x009\\x00>\\x00\\x1a\\x00\\x1a\\x009\\x00\\x10\\x00\\xce\\xff\\xf4\\xffK\\x002\\x00\\xfa\\xff\\xfc\\xff\\xf3\\xff\\xf4\\xff\\x15\\x00 \\x00\\x1b\\x00\\x1d\\x00\\x0e\\x00\\x0c\\x006\\x00j\\x00\\x94\\x00\\xaa\\x00\\xa9\\x00\\x97\\x00\\xa0\\x00\\xb6\\x00\\xab\\x00\\x9e\\x00\\x88\\x00b\\x00\\\\\\x00^\\x00K\\x00N\\x00x\\x00y\\x00a\\x00w\\x00d\\x001\\x006\\x008\\x00-\\x00D\\x00Z\\x00>\\x00<\\x00b\\x00E\\x00$\\x00S\\x00\\x87\\x00z\\x00U\\x000\\x00%\\x00{\\x00\\xa2\\x00\\'\\x00\\xf6\\xff%\\x00\\x05\\x00\\x07\\x00C\\x00F\\x00!\\x00\\x14\\x00!\\x00\\x14\\x00L\\x00\\xb4\\x00\\xa1\\x00l\\x00S\\x00D\\x00}\\x00\\xcb\\x00\\x8f\\x00\\x14\\x00+\\x00K\\x00\"\\x00K\\x00q\\x00m\\x00p\\x00A\\x00\\x1c\\x00I\\x00\\x8c\\x00j\\x00\\x13\\x00\\x17\\x00\\'\\x00\\x17\\x008\\x003\\x00\\xe7\\xff\\xd9\\xff\\xed\\xff\\xc3\\xff\\xab\\xff\\xbd\\xff\\xbc\\xff\\xac\\xff\\xab\\xff\\xc0\\xff\\xe5\\xff\\x10\\x00)\\x00%\\x00%\\x00.\\x00\\x07\\x00\\xdb\\xff\\xfb\\xff\\x12\\x00\\xf2\\xff\\xf8\\xff\\x1d\\x00!\\x00X\\x00\\xa6\\x00\\xa0\\x00\\x9c\\x00\\x8b\\x006\\x00\\x10\\x00\\x19\\x00\\x1d\\x00)\\x00[\\x00}\\x004\\x00,\\x00q\\x00M\\x00%\\x00B\\x00C\\x00O\\x00\\x86\\x00}\\x00r\\x00\\xa5\\x00\\x9c\\x00v\\x00\\xb0\\x00\\xec\\x00\\xd2\\x00\\xbe\\x00\\x8e\\x00D\\x00Y\\x00\\x81\\x00w\\x00P\\x00\\x19\\x00#\\x00E\\x00!\\x00\\xf8\\xff\\xf1\\xff\\xf6\\xff\\x16\\x00\\x10\\x00\\xcc\\xff\\xaa\\xff\\xa9\\xff\\x8c\\xffp\\xffa\\xffk\\xff\\xa9\\xff\\xba\\xff\\x90\\xff~\\xffq\\xfff\\xffb\\xfff\\xff`\\xff4\\xff\\x1c\\xff&\\xff$\\xff\\x17\\xff#\\xffE\\xffW\\xffB\\xff\\x1a\\xff6\\xffa\\xffF\\xff>\\xffM\\xff?\\xff(\\xff\\x12\\xff\\x1a\\xff\\x1a\\xff\\x16\\xffD\\xffW\\xffZ\\xff\\x8b\\xff\\x88\\xff\\x92\\xff\\xed\\xff\\xf6\\xff\\xd6\\xff\\xe9\\xff\\xe8\\xff\\xe6\\xff\\xea\\xff\\xd7\\xff\\xc2\\xff\\xbf\\xff\\xc9\\xff\\xe5\\xff\\xde\\xff\\x8e\\xff\\x81\\xff\\xa2\\xff\\x8f\\xff\\x8b\\xff\\x87\\xff~\\xff~\\xffs\\xff\\x89\\xff\\x91\\xffw\\xff\\x96\\xff\\xd9\\xff\\xf9\\xff\\x00\\x00\\xf6\\xff\\xef\\xff\\xfc\\xff\\xf4\\xff\\xeb\\xff\\x02\\x00\\x03\\x00\\xf4\\xff\\xef\\xff\\xe4\\xff\\xd7\\xff\\xe2\\xff\\t\\x00\\xe1\\xff\\xa2\\xff\\xcb\\xff\\xe3\\xff\\xd8\\xff\\xdb\\xff\\xca\\xff\\xc3\\xff\\xb0\\xff\\xa6\\xff\\xca\\xff\\xd0\\xff\\xc4\\xff\\xe6\\xff\\x01\\x00\\xe4\\xff\\xc5\\xff\\xc4\\xff\\xcb\\xff\\xba\\xff\\x8e\\xff\\x94\\xff\\xb0\\xff\\x82\\xffv\\xff\\xa5\\xff\\x9a\\xff\\x8f\\xff\\x8f\\xffl\\xff~\\xff\\xc3\\xff\\xb0\\xfff\\xffr\\xff{\\xff[\\xff\\x89\\xff\\x9b\\xffz\\xff\\xb9\\xff\\xee\\xff\\xa9\\xff\\x81\\xff\\xac\\xff\\xc5\\xff\\xbc\\xff\\xba\\xff\\xc8\\xff\\xe6\\xff\\x0b\\x00\\x02\\x00\\xe7\\xff#\\x00x\\x00f\\x00R\\x00k\\x00]\\x00h\\x00r\\x001\\x00\\xfa\\xff\\x00\\x00\\x11\\x00\\xec\\xff\\xd3\\xff\\xcb\\xff\\xa8\\xff\\xa0\\xff|\\xffZ\\xff\\x93\\xff\\xb5\\xffj\\xff3\\xffU\\xffn\\xff\\x95\\xff\\xba\\xff\\x87\\xffo\\xff\\xa6\\xff\\xd5\\xff\\xd1\\xff\\xad\\xff\\xa6\\xff\\xbe\\xff\\xe0\\xff\\xfa\\xff\\xe9\\xff\\xe5\\xff\\xf6\\xff\\xdd\\xff\\xba\\xff\\xd8\\xff\\xe8\\xff\\xc0\\xff\\xdc\\xff\\x0c\\x00\\x06\\x00\\n\\x00\\x12\\x00\\r\\x00\\x05\\x00\\xfa\\xff\\x07\\x00\\x1b\\x00\\xfe\\xff\\xd2\\xff\\xb8\\xff|\\xffO\\xff]\\xffh\\xffa\\xff`\\xff_\\xffR\\xffZ\\xffz\\xffv\\xff\\x87\\xff\\xc3\\xff\\xd5\\xff\\xdb\\xff\\xec\\xff\\xdb\\xff\\xb9\\xff\\xc8\\xff\\xdc\\xff\\xb2\\xff\\xc8\\xff\\x12\\x00\\xf4\\xff\\xc4\\xff\\xb7\\xffy\\xff_\\xff\\x82\\xff\\x83\\xffx\\xff\\x84\\xff\\xb1\\xff\\xb8\\xff\\xa6\\xff\\xd9\\xff\\xe4\\xff\\xd6\\xff\\xfb\\xff\\x10\\x00\\x1e\\x00\\x07\\x00\\xdf\\xff\\x04\\x00\\x1c\\x00\\xfe\\xff\\r\\x00,\\x00\\x11\\x00\\x0b\\x00\\x1e\\x00\\xfb\\xff\\xff\\xff \\x00\\x16\\x00,\\x00A\\x00L\\x00u\\x00t\\x00^\\x00y\\x00\\xa0\\x00\\x9e\\x00v\\x00e\\x00[\\x007\\x00*\\x00\\x1a\\x00\\x04\\x00\\r\\x00%\\x00,\\x00\\x1c\\x00=\\x00i\\x00l\\x00y\\x00v\\x00X\\x00=\\x00\\x1c\\x00\\xf0\\xff\\xd0\\xff\\xca\\xff\\xc5\\xff\\xbf\\xff\\xdb\\xff\\xfe\\xff\\xfe\\xff\\xe8\\xff\\xf9\\xff,\\x00Q\\x00\\x82\\x00\\x89\\x00Y\\x00j\\x00z\\x00l\\x00\\x98\\x00\\xbf\\x00\\xa1\\x00u\\x00\\x87\\x00\\x9e\\x00\\x96\\x00\\xaa\\x00\\x9c\\x00|\\x00\\x94\\x00\\x96\\x00\\x92\\x00\\x9e\\x00\\x88\\x00\\x80\\x00z\\x00S\\x00=\\x00?\\x00S\\x00H\\x00\\xfe\\xff\\xc2\\xff\\xaf\\xff\\xbb\\xff\\xc9\\xff\\xc1\\xff\\xe5\\xff\\x1c\\x00\\'\\x00%\\x00 \\x00 \\x00*\\x00)\\x00\\x1d\\x00\\x15\\x002\\x00f\\x00G\\x00\\x0b\\x00\\x0e\\x00\\x0e\\x00\\x11\\x00\\x19\\x00\\x08\\x00\\x1a\\x00\\x12\\x00\\xd5\\xff\\xe1\\xff\\x08\\x00\\x19\\x00,\\x00\\x18\\x00\\xeb\\xff\\xea\\xff\\x11\\x00\\x14\\x00\\x1b\\x00Z\\x00\\x81\\x00x\\x00W\\x006\\x003\\x00L\\x00\\\\\\x00Y\\x00`\\x00R\\x003\\x00-\\x00B\\x00U\\x00u\\x00\\xb9\\x00\\x9f\\x00I\\x00R\\x00c\\x00Z\\x00H\\x00*\\x00\\x1c\\x00\\xfe\\xff\\xea\\xff\\xba\\xffr\\xffk\\xffG\\xff\\x1d\\xffJ\\xffi\\xffy\\xff\\x8e\\xff\\x8f\\xff\\x94\\xff\\x93\\xff\\xbc\\xff\\xe2\\xff\\xce\\xff\\xcf\\xff\\xb8\\xff\\x99\\xff\\xbd\\xff\\xb4\\xff[\\xff:\\xffR\\xff=\\xff+\\xffG\\xffG\\xffS\\xff\\x97\\xff\\xa0\\xff\\x9e\\xff\\xea\\xff\\xea\\xff\\xb6\\xff\\xf8\\xff=\\x00\\x1c\\x00\\n\\x00\\xfd\\xff\\xcd\\xff\\xe2\\xff\\x14\\x00\\xe7\\xff\\xb4\\xff\\xc1\\xff\\xbc\\xff\\xc4\\xff\\x03\\x00\\'\\x00\\x03\\x00\\xe9\\xff\\xea\\xff\\xbf\\xff\\x98\\xff\\xaa\\xff\\xe2\\xff\\x14\\x00\\x11\\x00\\xf2\\xff\\xe0\\xff\\xf1\\xff\\x17\\x00\\x18\\x00\\x01\\x00\\x14\\x00\\x1e\\x00\\xf4\\xff\\xef\\xff\\xf4\\xff\\xcd\\xff\\xd0\\xff\\xf3\\xff\\x16\\x003\\x00+\\x00=\\x00n\\x00n\\x00H\\x00I\\x00h\\x002\\x00\\xb9\\xff\\xa5\\xff\\xe5\\xff\\xc8\\xffx\\xffg\\xffT\\xffT\\xff\\x94\\xff\\xa4\\xff\\x8a\\xff\\xa7\\xff\\xcd\\xff\\xe0\\xff\\x04\\x00\\x14\\x00\\x12\\x00(\\x001\\x00\\x16\\x00\\xfd\\xff\\xfd\\xff\\x00\\x00\\xfe\\xff\\x0e\\x00 \\x00>\\x00p\\x00w\\x00H\\x00G\\x00o\\x00b\\x00T\\x00|\\x00\\x93\\x00r\\x00Y\\x00t\\x00f\\x00E\\x00`\\x00\\x8e\\x00\\xd7\\x00\\xf3\\x00\\xd9\\x00\\xdb\\x00\\xc6\\x00\\xad\\x00\\xce\\x00\\xe8\\x00\\xab\\x00d\\x00f\\x00f\\x00r\\x00\\xc9\\x00\\xea\\x00\\x97\\x00`\\x00[\\x00>\\x00>\\x00u\\x00\\x80\\x00U\\x00A\\x00D\\x00P\\x00`\\x00K\\x00\\x07\\x00\\xfc\\xffY\\x00\\x94\\x00\\xc5\\x00\\x0f\\x01\\xeb\\x00\\xcc\\x00\\xd4\\x00\\xae\\x00\\xf1\\x00\\'\\x01\\x00\\x01\\x18\\x01\\xf0\\x00u\\x00/\\x00\\x19\\x00\\x06\\x00\\xe9\\xff\\xe8\\xff\\xc8\\xff\\x9e\\xff\\xd9\\xff\\xde\\xff`\\xffv\\xff\\xf0\\xff\\xd6\\xff\\xd0\\xff&\\x00\\\\\\x00e\\x00M\\x00C\\x009\\x00F\\x00\\x94\\x00\\xb3\\x00\\x9d\\x00\\x95\\x00\\x80\\x00\\x84\\x00\\xa1\\x00y\\x00$\\x00\\xf0\\xff\\xd7\\xff\\xc2\\xff\\xb3\\xff\\xb5\\xff|\\xff!\\xff<\\xff\\x85\\xff\\xa9\\xff\\xcb\\xff\\x05\\x00\\xe8\\xff\\x92\\xff\\xdc\\xff\\xce\\xff\\x90\\xff\\xfa\\xff\\xdd\\xff\\xbd\\xff8\\x00B\\x00\\x00\\x00\\xec\\xff\\xbd\\xffx\\xff\\xae\\xff\\x1f\\x00>\\x00O\\x00J\\x006\\x00Y\\x00^\\x00I\\x00G\\x007\\x00(\\x00\\xdf\\xff\\xaf\\xff\\xc4\\xff~\\xff]\\xff\\xae\\xff\\xcb\\xff\\xbd\\xff\\xb2\\xff\\x99\\xff`\\xff$\\xffd\\xff\\xd0\\xff\\x9f\\xffn\\xff\\xb9\\xff\\xce\\xff\\x8b\\xffa\\xffA\\xff+\\xffl\\xff\\x93\\xff\\xaf\\xff\\r\\x00\\x14\\x00\\xf6\\xff\\x0b\\x00\\x07\\x00 \\x008\\x00\\x1a\\x00\\x12\\x00\\xce\\xff\\x94\\xff\\xaa\\xffh\\xffP\\xff\\x9b\\xff\\x89\\xff\"\\xff\\x06\\xffC\\xff\\x14\\xff\\xd7\\xfe\\x1e\\xffP\\xfff\\xff}\\xff\"\\xff\\x97\\xfe\\xbe\\xfe?\\xff?\\xff\\x14\\xff\\x0b\\xff\\xef\\xfe\\xdf\\xfe\\xf5\\xfe\\x15\\xffW\\xff\\x9e\\xff\\x9e\\xff\\x8a\\xff\\x9b\\xff\\xbb\\xff\\xd0\\xff\\xef\\xff\\xe5\\xff\\xc0\\xff\\x05\\x00+\\x00\\xfb\\xff\\x15\\x00E\\x00?\\x00\\x10\\x00\\xdb\\xff\\xf7\\xff-\\x00\\t\\x00\\xd8\\xff\\xc2\\xff\\xd0\\xff\\x10\\x00\\x12\\x00-\\x00q\\x00i\\x00_\\x002\\x00\\xed\\xff\\x15\\x007\\x00.\\x008\\x00>\\x00z\\x00g\\x00\\x16\\x00L\\x00a\\x00G\\x00H\\x001\\x00A\\x00L\\x00R\\x00R\\x002\\x001\\x00\\xf7\\xff\\xab\\xff\\xd4\\xff\\n\\x00\\xfb\\xff\\xfc\\xff\\x08\\x00\\xdc\\xff\\xcb\\xff\\xfb\\xff\\x13\\x00\\'\\x00-\\x00\\xf3\\xff\\xe5\\xff\\xf3\\xff\\xef\\xff\\x1a\\x00 \\x00\\x00\\x00\\x0f\\x007\\x00o\\x00\\xa2\\x00\\xa2\\x00\\x87\\x00\\xad\\x00\\xe6\\x00\\xe7\\x00\\x01\\x01\\x14\\x01\\xf0\\x00\\xdb\\x00\\xdb\\x00\\x91\\x002\\x00W\\x00|\\x00<\\x00\\x04\\x00\\xd7\\xff\\xce\\xff\\t\\x00)\\x00\\n\\x00\\x03\\x00\\x15\\x00\\xf3\\xff\\xde\\xff\\xfe\\xff\\xf1\\xff\\xf3\\xff0\\x00*\\x00\\t\\x00(\\x00c\\x00V\\x00\\xea\\xff\\xc9\\xff\\x08\\x00+\\x00-\\x00.\\x00.\\x00\\x0f\\x00\\x0b\\x00&\\x00\\x1d\\x00.\\x001\\x00\\xfe\\xff\\x06\\x00\\x11\\x00\\xca\\xff\\xa6\\xff\\xa0\\xff}\\xff\\x9b\\xff\\xea\\xff\\xf3\\xff\\xfe\\xff6\\x00#\\x00\\xf3\\xff\\x07\\x00\\x13\\x00\\xde\\xff\\xba\\xff\\xda\\xff\\xdb\\xff\\xd0\\xff\\xf6\\xff\\x0b\\x00\\x04\\x00\\xd8\\xff\\xc5\\xff\\xf5\\xff\\x13\\x00.\\x00:\\x001\\x00N\\x00\\\\\\x00*\\x00\\xf7\\xff\\xe0\\xff\\xc9\\xff\\xd0\\xff\\xe6\\xff\\xd9\\xff\\xdd\\xff\\x00\\x00\\xfd\\xff\\x03\\x00\\x0c\\x00\\x07\\x00;\\x00,\\x00\\xec\\xff\\xe5\\xff\\xc4\\xff\\xd3\\xff\\x08\\x00\\xfa\\xff\\x07\\x001\\x00\\xfb\\xff\\xbd\\xff\\xcc\\xff\\xd1\\xff\\xe9\\xff\\xca\\xffP\\xff7\\xffB\\xff.\\xffT\\xffx\\xffn\\xffT\\xffY\\xffY\\xff8\\xff_\\xffy\\xff@\\xffj\\xff\\xe2\\xff\\xea\\xff\\xc9\\xff\\xf6\\xff\\x12\\x00\\n\\x00\\xf6\\xff\\xd3\\xff\\xba\\xff\\xc5\\xff\\xe7\\xff\\xe4\\xff\\xda\\xff\\xe3\\xff\\x08\\x00Q\\x00B\\x00\\xf3\\xff\\xea\\xff\\xf6\\xff\\xdd\\xff\\xb9\\xff\\xab\\xff\\xa3\\xff\\x9b\\xff\\xb7\\xff\\xb5\\xff\\x8a\\xff\\xa0\\xff\\xcc\\xff\\xbf\\xff\\xb5\\xff\\xc6\\xff\\xd2\\xff\\xe1\\xff\\xd0\\xff\\xbf\\xff\\xe4\\xff\\xe6\\xff\\xf3\\xff%\\x00\\xff\\xff\\xcc\\xff\\xde\\xff\\xed\\xff\\xff\\xff)\\x00\\x17\\x00\\xdf\\xff\\xe5\\xff\\xf0\\xff\\xd8\\xff\\xbb\\xff\\xbe\\xff\\xdd\\xff\\xc5\\xff\\x8f\\xff\\x95\\xff\\xc5\\xff\\xee\\xff\\x01\\x00\\xd6\\xff\\xa5\\xff\\xc0\\xff\\x1f\\x00Q\\x00\\x10\\x00\\xff\\xff\\x1f\\x00\\x0e\\x00\\x0e\\x00\\n\\x00\\xde\\xff\\xa6\\xff\\x93\\xff\\x9b\\xff\\x9f\\xff\\xe6\\xff\\x1e\\x00\\xcc\\xffi\\xff]\\xff|\\xff\\xad\\xff\\xe1\\xff\\xcb\\xff\\x81\\xff\\x90\\xff\\xd5\\xff\\xdb\\xff\\xe4\\xff\\xe4\\xff\\xa7\\xff\\xae\\xff\\xeb\\xff\\xfb\\xff\\n\\x003\\x00Q\\x00\"\\x00\\x08\\x00`\\x00\\x95\\x00\\x8f\\x00\\x9e\\x00\\xa8\\x00\\xa7\\x00\\x9a\\x00k\\x00K\\x00P\\x00 \\x00\\xe5\\xff\\xe9\\xff\\xd8\\xff\\xe3\\xff-\\x00,\\x00\\x13\\x00\\x14\\x00\\t\\x00\\x06\\x00\\xf8\\xff\\x04\\x00\\x1e\\x00\\x1b\\x00&\\x00\\x1e\\x00$\\x00a\\x00\\x8b\\x00\\x9d\\x00\\xa7\\x00\\x8d\\x00p\\x00z\\x00n\\x006\\x00:\\x00^\\x00?\\x00F\\x00c\\x00;\\x00\\x15\\x00\\x00\\x00\\xfe\\xff\\x04\\x00\\x14\\x000\\x00\"\\x00E\\x00\\xa4\\x00\\xc0\\x00\\xaf\\x00\\x95\\x00v\\x00o\\x00\\x7f\\x00a\\x00:\\x00`\\x00g\\x00B\\x00D\\x00;\\x004\\x00[\\x00g\\x00@\\x00;\\x00\\x88\\x00\\xa0\\x00b\\x00N\\x00G\\x00S\\x00\\x87\\x00q\\x001\\x00\\x17\\x00\\x0b\\x00\\xf3\\xff\\xf9\\xff\\x1c\\x00\\x16\\x00\\xf8\\xff\\xce\\xff\\xad\\xff\\xb2\\xff\\x9d\\xff\\x94\\xff\\xc4\\xff\\xd9\\xff\\xf2\\xff3\\x00E\\x00+\\x00\\x0c\\x00\\xcf\\xff\\xa3\\xff\\xb0\\xff\\xbd\\xff\\x96\\xffp\\xff\\x9e\\xff\\xe9\\xff\\x0b\\x00\\xfd\\xff\\xd5\\xff\\xda\\xff\\xeb\\xff\\xd2\\xff\\xd9\\xff\\xf3\\xff\\xc2\\xff\\x84\\xff\\x93\\xff\\xbb\\xff\\xb5\\xff\\x88\\xff\\x81\\xff\\x97\\xff\\x94\\xff\\xb3\\xff\\x04\\x00;\\x00Q\\x00_\\x00L\\x00A\\x00?\\x00\\n\\x00\\xfd\\xff7\\x00T\\x00L\\x006\\x00=\\x00V\\x000\\x00\\xfa\\xff\\xee\\xff\\xed\\xff\\x05\\x00*\\x00&\\x00\\r\\x00\\x13\\x00\\x0e\\x00\\xdc\\xff\\xb5\\xff\\x9b\\xff\\x98\\xff\\xda\\xff\\x17\\x00\\xe7\\xff\\xb4\\xff\\xf9\\xff\\x19\\x00\\xe7\\xff\\xc2\\xff\\xac\\xff\\xaa\\xff\\x8f\\xffl\\xff\\x9b\\xff\\xe8\\xff\\x01\\x00\\x0e\\x00\\xfe\\xff\\xbf\\xff\\x9f\\xff\\x82\\xffb\\xffy\\xff\\xa6\\xff\\xad\\xff\\xd2\\xff\\x0e\\x00\\x14\\x005\\x00(\\x00\\xd4\\xff\\xfd\\xff\\\\\\x00o\\x00o\\x00x\\x00x\\x00\\xa8\\x00\\xee\\x00\\xce\\x00\\x98\\x00\\xa4\\x00\\x98\\x00~\\x00|\\x00e\\x00Q\\x00}\\x00\\xa5\\x00Y\\x00\\x1a\\x00o\\x00\\xa1\\x00\\x85\\x00j\\x00\\t\\x00\\xd4\\xff\\x0c\\x00\\xf9\\xff\\xb2\\xff\\xcf\\xff\\x06\\x00\\x10\\x00\\x1d\\x002\\x00:\\x00/\\x00!\\x00\\x16\\x00\\x1b\\x00\\\\\\x00x\\x00X\\x00t\\x00n\\x00\\'\\x00+\\x00)\\x00\\xc3\\xff\\x86\\xff{\\xffS\\xffp\\xff\\xb6\\xff\\xcf\\xff\\xef\\xff\\xf5\\xff\\xd0\\xff\\xd1\\xff\\xe3\\xff\\xdb\\xff\\xd1\\xff\\xd6\\xff\\xe7\\xff\\x01\\x00&\\x00\\x1a\\x00\\xe0\\xff\\xc2\\xff\\xcb\\xff\\x0f\\x00=\\x003\\x003\\x00\\x1c\\x00$\\x00K\\x001\\x00\\xfe\\xff\\xe1\\xff\\xbf\\xff\\xb6\\xff\\xe0\\xff\\xcb\\xff\\x86\\xff\\xa7\\xff\\xdd\\xff\\xcf\\xff\\xa8\\xff\\x88\\xff\\x88\\xffl\\xffD\\xfff\\xff\\xb8\\xff\\xd6\\xff\\xb1\\xff\\xbf\\xff\\xd2\\xff\\xa6\\xff\\xa4\\xff\\xc4\\xff\\xd7\\xff\\xf1\\xff\\x13\\x009\\x00 \\x00\\xf9\\xff\\x12\\x00\\xf5\\xff\\xae\\xff\\xb3\\xff\\xcf\\xff\\xd3\\xff\\xdf\\xff\\xf6\\xff\\xe2\\xff\\xbb\\xff\\xb3\\xff\\x98\\xff|\\xff\\x98\\xff\\xda\\xff\\x08\\x00\\xe8\\xff\\xc1\\xff\\xef\\xff\\x0c\\x00\\x00\\x00B\\x00f\\x00<\\x001\\x00\\x11\\x00$\\x00\\x86\\x00\\xa1\\x00\\xa7\\x00\\xae\\x00\\x9e\\x00\\xbc\\x00\\xc7\\x00\\xa5\\x00\\x9e\\x00r\\x00R\\x00\\x86\\x00q\\x00\\x0b\\x00\\xe1\\xff\\x13\\x008\\x00*\\x00S\\x00U\\x00\\x10\\x00\\x1b\\x00\\x11\\x00\\xdb\\xff\\xf3\\xff \\x00\\x1c\\x00\\x15\\x001\\x00!\\x00\\x05\\x00!\\x00\\x03\\x00\\xf3\\xff6\\x00R\\x00G\\x008\\x00\\x1e\\x00\\xf7\\xff\\xd4\\xff\\xd1\\xff\\xe6\\xff\\x18\\x00W\\x00[\\x00?\\x00d\\x00u\\x00.\\x00\\xda\\xff\\xc5\\xff\\n\\x00\\x16\\x00\\x03\\x00-\\x00-\\x005\\x001\\x00\\xfa\\xff\\xfa\\xff\\xf3\\xff\\xd0\\xff\\xc8\\xff\\xc6\\xff\\xc8\\xff\\xcb\\xff\\xef\\xff \\x00\\xf3\\xff\\xb9\\xff\\xdf\\xff\\xe8\\xff\\xd0\\xff\\n\\x00=\\x00.\\x00\\x19\\x00C\\x00\\x86\\x00t\\x00K\\x00\\x1e\\x00\\xf8\\xff8\\x00w\\x009\\x00\\xf7\\xff\\x1e\\x00-\\x00\\xf6\\xff\\xd8\\xff\\xe6\\xff\\t\\x00\\xea\\xff\\xbb\\xff\\xe0\\xff\\xed\\xff\\xf2\\xff?\\x00X\\x00\\x1b\\x00\\x0b\\x00;\\x00R\\x00]\\x00\\xa4\\x00\\xe8\\x00\\xe9\\x00\\xf3\\x00\\xeb\\x00\\xa2\\x00\\xa0\\x00\\xd7\\x00\\xb1\\x00\\xa0\\x00\\xd4\\x00\\xad\\x00\\x83\\x00\\x88\\x00F\\x00(\\x00A\\x00\\x15\\x00\\xf4\\xff\\x13\\x00 \\x00)\\x00K\\x00G\\x00\\x02\\x00\\xf3\\xff%\\x00\\x0e\\x00\\xe4\\xff\\xf7\\xff\\xde\\xff\\xba\\xff\\xdf\\xff\\xe5\\xff\\xcf\\xff\\xe7\\xff\\xf2\\xff\\xd0\\xff\\x9e\\xff\\x8c\\xff\\xb8\\xff\\xd0\\xff\\xe5\\xff/\\x00E\\x00-\\x00\\x13\\x00\\xcf\\xff\\x98\\xff\\xb7\\xff\\xe2\\xff\\xe2\\xff\\x19\\x007\\x00\\x01\\x00\\xfd\\xff\\xe3\\xff\\x8c\\xff\\x8e\\xff\\xda\\xff\\xfb\\xff\\xfa\\xff\\xfa\\xff\\xf5\\xff\\xe7\\xff\\xf5\\xff\\x1a\\x00\\xf0\\xff\\xd7\\xff(\\x001\\x00\\xf1\\xff\\xc6\\xff\\xa6\\xff\\xc5\\xff\\xda\\xff\\x96\\xff\\x99\\xff\\xf2\\xff\\t\\x00\\xe8\\xff\\xdd\\xff\\xd9\\xff\\xe4\\xff\\xf6\\xff\\xe6\\xff\\xec\\xff\\xf5\\xff\\xd8\\xff\\xaf\\xff\\x95\\xff\\xae\\xff\\xc1\\xff\\xe5\\xff2\\x00\\x15\\x00\\xcc\\xff\\xed\\xff\\x1d\\x00,\\x00\\x11\\x00\\xf3\\xffC\\x006\\x00\\xb1\\xff\\xb9\\xff\\xf2\\xff\\xd2\\xff\\xa6\\xff\\x9f\\xff\\xa7\\xff\\xc1\\xff\\xd9\\xff\\xb2\\xff\\x99\\xff\\xc3\\xff\\xe3\\xff\\xf7\\xff\"\\x00*\\x00&\\x00]\\x00N\\x00\\xcf\\xff\\x99\\xff\\xaf\\xff\\x8b\\xff]\\xffX\\xff[\\xff\\x85\\xff\\xa1\\xff\\x8b\\xff\\x97\\xff\\xad\\xff\\xc7\\xff\\xc8\\xff\\xb4\\xff\\xe9\\xff\\x07\\x00\\xf6\\xff\\x05\\x00$\\x00K\\x00k\\x00\\x88\\x00\\x88\\x00d\\x00o\\x00\\x86\\x00s\\x00i\\x00e\\x00\\\\\\x00O\\x00B\\x00:\\x00\\r\\x00\\xeb\\xff\\xe4\\xff\\xd0\\xff\\xd7\\xff\\xf0\\xff\\x08\\x00&\\x00\\x0f\\x00\\xcd\\xff\\xd7\\xff\\xf0\\xff\\xce\\xff\\xf6\\xff\\x1a\\x00\\xef\\xff\\x15\\x00=\\x00\\r\\x00\\xf6\\xff\\x00\\x00\\t\\x00\\xfa\\xff\\xd8\\xff\\xcc\\xff\\xc0\\xff\\xa1\\xff\\x80\\xff\\x83\\xff\\x9e\\xff\\xa3\\xff\\xaa\\xff\\xa3\\xff\\x81\\xff\\x95\\xff\\xda\\xff\\t\\x00!\\x005\\x00+\\x00\\n\\x00\\n\\x00 \\x00*\\x00>\\x00T\\x00\\x84\\x00\\xbc\\x00\\x88\\x00s\\x00\\xc9\\x00\\xc4\\x00\\x99\\x00\\xab\\x00\\xb4\\x00\\xac\\x00\\xb4\\x00\\xcf\\x00\\xae\\x00\\x89\\x00}\\x00$\\x004\\x00\\x94\\x00_\\x00+\\x00\\\\\\x00X\\x00\\x0e\\x00*\\x00d\\x007\\x00<\\x00F\\x00!\\x00T\\x00\\x83\\x00U\\x004\\x000\\x00\\x19\\x00>\\x00m\\x00L\\x009\\x003\\x00+\\x00B\\x00G\\x00:\\x004\\x00-\\x00\\x08\\x00\\xcb\\xff\\xb7\\xff\\xba\\xff\\xc0\\xff\\xcf\\xff\\xcd\\xff\\xee\\xff,\\x00\\x18\\x00\\xc7\\xff\\xa9\\xff\\xa4\\xff\\x94\\xff\\xb7\\xff\\xda\\xff\\xb6\\xff\\xc6\\xff5\\x00]\\x00.\\x00\\xf8\\xff\\xec\\xff(\\x00J\\x00<\\x00>\\x00O\\x00|\\x00r\\x00(\\x00@\\x00\\\\\\x003\\x00D\\x00-\\x00\\xd9\\xff\\xfa\\xffI\\x00(\\x00\\n\\x00\\x1c\\x00\\xf4\\xff\\xf4\\xffG\\x00P\\x000\\x00n\\x00\\x90\\x00=\\x009\\x00\\x8a\\x00\\x8a\\x00\\x83\\x00\\x9f\\x00s\\x00#\\x00#\\x00)\\x00\\xf8\\xff\\'\\x00\\\\\\x00\\t\\x00\\x00\\x00H\\x00:\\x00\\n\\x00\\xd9\\xff\\xaa\\xff\\x9c\\xff\\x83\\xffh\\xff{\\xff\\x87\\xffr\\xffZ\\xffo\\xff\\x9d\\xff\\xa6\\xff\\xcc\\xff\\x0b\\x00\\x04\\x00\\xe5\\xff\\xfa\\xff \\x00#\\x00(\\x00\\x1e\\x00\\xf1\\xff\\xf5\\xff\\t\\x00\\xe7\\xff\\xce\\xff\\xc7\\xff\\x8b\\xffK\\xffx\\xff\\xd2\\xff\\xf4\\xff\\xc9\\xff\\x86\\xff\\x99\\xff\\xa2\\xff\\x82\\xff\\xa5\\xff\\xbd\\xff\\xa9\\xff\\xac\\xff\\x95\\xffZ\\xff~\\xff\\xd1\\xff\\xd7\\xff\\xcf\\xff\\xd7\\xff\\xc4\\xff\\x9a\\xff\\xbb\\xff\\x0f\\x00\\xfc\\xff\\xe7\\xff\\x10\\x00\\xdf\\xff\\xae\\xff\\xd0\\xff\\xa4\\xffc\\xffl\\xffl\\xfff\\xff\\x8f\\xff\\x96\\xffZ\\xff\\x88\\xff\\xbc\\xff;\\xff\\x1b\\xff\\x94\\xff\\x99\\xffZ\\xfff\\xff{\\xffW\\xffi\\xff\\xba\\xff\\xb2\\xffq\\xffV\\xffS\\xffv\\xff\\x92\\xff_\\xff;\\xffQ\\xffC\\xff-\\xff]\\xff{\\xffa\\xffs\\xff\\x95\\xffd\\xffM\\xff\\x8a\\xff\\x84\\xffu\\xff\\x99\\xff\\x84\\xff\\x80\\xff\\xaa\\xff\\xbb\\xff\\xa1\\xff\\x90\\xff\\xe9\\xff\\'\\x00\\x17\\x008\\x00G\\x00 \\x00\\xfa\\xff\\xef\\xff\\xdc\\xff\\xc8\\xff\\xfd\\xff\\x1c\\x00\\xd9\\xff\\xa2\\xff\\x94\\xff{\\xff\\xb1\\xff\\x07\\x00\\xea\\xff\\xdd\\xff\\x17\\x00\\x1c\\x00.\\x00q\\x00S\\x00\\x1f\\x00*\\x00\\xf3\\xff\\xd7\\xff\\'\\x00N\\x00=\\x00_\\x00\\x83\\x003\\x00\\xe4\\xff\\x18\\x00/\\x00\\xe0\\xff\\xb0\\xff\\xbb\\xff\\xd4\\xff\\xc2\\xff\\x9d\\xff\\xb0\\xff\\xad\\xff\\x91\\xff\\xb7\\xff\\xd4\\xff\\xbb\\xff\\x89\\xfff\\xff}\\xff~\\xffx\\xff\\x98\\xff\\x85\\xff[\\xff^\\xff\\x8e\\xff\\xb8\\xff\\xc5\\xff\\xd7\\xff\\xbe\\xff\\x8e\\xff\\xb2\\xff\\xc9\\xffu\\xffO\\xffu\\xffP\\xff&\\xfff\\xff`\\xff\\x1c\\xff@\\xffL\\xff<\\xffk\\xff\\x88\\xff\\x85\\xffl\\xffP\\xffh\\xff\\xa0\\xff\\xa8\\xff\\xac\\xff\\xe3\\xff\\x07\\x00\\x08\\x00\\x05\\x00\\x19\\x00\\x10\\x00\\x0e\\x00O\\x003\\x00\\xd0\\xff\\xde\\xff!\\x00\"\\x00\\x0f\\x00\\xf9\\xff\\xce\\xff\\xcd\\xff\\xde\\xff\\xd2\\xff\\xe3\\xff\\xde\\xff\\x97\\xff\\x95\\xff\\xbd\\xff\\xb9\\xff\\xd8\\xff\\xda\\xff\\x84\\xffx\\xff\\xc6\\xff\\xce\\xff\\xb0\\xff\\xcb\\xff\\xea\\xff\\xea\\xff\\xeb\\xff\\x18\\x00=\\x00.\\x00=\\x007\\x00\\x17\\x00?\\x00M\\x00\\x06\\x00\\xf0\\xff\\x16\\x00\\xfa\\xff\\xd6\\xff\\xdc\\xff\\xad\\xff\\x96\\xff\\xd0\\xff\\xda\\xff\\xb1\\xff\\xca\\xff\\xdf\\xff\\xad\\xff\\x99\\xff\\xa6\\xff\\xe2\\xff\\x19\\x00\\x00\\x00+\\x00b\\x00J\\x00\\x85\\x00\\xdc\\x00\\xe6\\x00\\xe3\\x00\\xaf\\x00T\\x00\\\\\\x00\\xa9\\x00\\xaa\\x00\\x8b\\x00\\xae\\x00\\xc6\\x00u\\x00.\\x00o\\x00\\xc7\\x00\\xe5\\x00\\xca\\x00\\x81\\x00\\x7f\\x00\\xb4\\x00\\xa1\\x00\\x86\\x00\\xaa\\x00\\xd0\\x00\\xb9\\x00f\\x00:\\x00\\'\\x00\\xf7\\xff\\xdb\\xff\\xcc\\xff\\xac\\xffz\\xff\\xa1\\xff\\x17\\x00\\x12\\x00\\xf7\\xff7\\x00f\\x00`\\x00\\x13\\x00\\x18\\x00\\xb0\\x00\\xb7\\x00N\\x00M\\x00H\\x00\\t\\x00\\xdc\\xff\\xeb\\xff\\xf6\\xff\\xdd\\xff\\x08\\x00;\\x00)\\x00\\x1f\\x00\\xe5\\xff\\x9b\\xff\\xd5\\xff\\x04\\x00\\xfc\\xffR\\x00\\x8b\\x00s\\x00u\\x00t\\x00\\x8b\\x00\\xcd\\x00\\xfa\\x00\\x18\\x01\\x19\\x01\\xde\\x00\\xc1\\x00\\xb7\\x00\\x82\\x00Z\\x00C\\x00U\\x00Q\\x00\\x16\\x00\\x1d\\x00\\x14\\x00\\x07\\x00;\\x00)\\x008\\x00p\\x00O\\x00d\\x00\\xa7\\x00\\xa5\\x00\\x88\\x00s\\x00w\\x00\\x8f\\x00\\x95\\x00s\\x00\\x8a\\x00\\xd9\\x00\\xb2\\x001\\x00\\xfe\\xff\\x16\\x00\\x1e\\x00\\x0c\\x00\\xf3\\xff\\xd0\\xff\\xdb\\xff\\x0f\\x00\\xfc\\xff\\xf1\\xff!\\x00\\x11\\x00\\xe8\\xff\\x12\\x00X\\x00m\\x00\\x94\\x00\\xa3\\x00g\\x00}\\x00\\xbf\\x00\\xb3\\x00\\xa8\\x00\\xaf\\x00\\x8b\\x00g\\x00Z\\x00=\\x00\\x1d\\x00\"\\x004\\x00\\x05\\x00\\xaa\\xff\\x97\\xff\\xbe\\xff\\xb4\\xff\\x88\\xff\\xb6\\xff(\\x00-\\x00\\xec\\xff\\x08\\x00+\\x00\\x19\\x00\\x16\\x00\\x11\\x00\\x05\\x00\\x17\\x00/\\x00\\x1a\\x00&\\x00z\\x00s\\x006\\x00.\\x00$\\x00\\x14\\x00\\x04\\x00\\x04\\x00\\x1b\\x00$\\x00\\x02\\x00\\xde\\xff\\xf3\\xff\\xf1\\xff\\xe8\\xff\\x01\\x00\\x1a\\x00J\\x00J\\x00\\x1d\\x00#\\x00 \\x00\\xf0\\xff\\xe6\\xff\\x00\\x00\\xf2\\xff\\xf1\\xff\\xf8\\xff\\xbd\\xff\\xc0\\xff\\x11\\x00\\xfe\\xff\\xe9\\xff\\r\\x00\\xeb\\xff\\xda\\xff\\xdf\\xff\\xad\\xff\\xae\\xff\\xd5\\xff\\xcd\\xff\\xcd\\xff\\xfb\\xff\\x0f\\x00\\x08\\x00\\xfa\\xff\\x02\\x007\\x00\\xfc\\xff\\xb3\\xff\\x01\\x00\\r\\x00\\xf6\\xff\\x0c\\x00\\xd7\\xff\\xc1\\xff\\xd8\\xff\\xa0\\xfft\\xff\\xac\\xff\\xcf\\xff\\xbd\\xff\\xc4\\xff\\xb6\\xff\\x9e\\xff\\xa2\\xff\\x9f\\xff\\xa2\\xff\\x8b\\xff\\x86\\xff\\xbd\\xff\\xbf\\xff\\x9d\\xff\\x88\\xff\\xaa\\xff\\x10\\x00\\x0b\\x00\\xc4\\xff\\xbf\\xff\\xd9\\xff+\\x007\\x00\\xe6\\xff\\xe7\\xff\\xdf\\xff\\xaf\\xff\\xb9\\xff\\x9e\\xff\\x84\\xff\\xa3\\xff\\x90\\xffc\\xff<\\xffK\\xff\\xa8\\xff\\xbb\\xffY\\xff\\x11\\xff&\\xff2\\xff\\x0c\\xff\\x13\\xff\\x7f\\xff\\xd8\\xff\\xa6\\xff\\x7f\\xff\\xc0\\xff\\xd3\\xff\\xa0\\xff\\xae\\xff\\xd3\\xff\\x92\\xffJ\\xffX\\xff^\\xffI\\xff\\\\\\xff\\x85\\xff\\x92\\xff\\x8c\\xff\\x9b\\xff\\xca\\xff\\xd6\\xff\\x97\\xffl\\xff\\xa1\\xff\\xe0\\xff\\xec\\xff\\xeb\\xff\\xef\\xff\\xef\\xff\\xe4\\xff\\xd6\\xff\\xc5\\xff\\xa9\\xff\\xb9\\xff\\xda\\xff\\xb3\\xff\\xae\\xff\\xcc\\xff\\x93\\xff\\x8b\\xff\\xb6\\xff`\\xff3\\xff\\x8a\\xff\\x98\\xff\\x9e\\xff\\xcb\\xff\\x9b\\xff\\x82\\xff\\xa6\\xff\\xd4\\xff\\x05\\x00\\xf6\\xff\\xdf\\xff\\xd6\\xff\\xc7\\xff\\xec\\xff\\x1d\\x00-\\x00\\x1e\\x00\\x0e\\x00/\\x00T\\x00O\\x002\\x00\\t\\x00\\x0c\\x004\\x00N\\x00a\\x00]\\x00\\x1b\\x00\\xc3\\xff\\x8c\\xffm\\xfff\\xff\\x8c\\xff\\xb0\\xff\\x8b\\xff3\\xff\\x00\\xff\\x19\\xff2\\xff\\x12\\xff\\x06\\xff2\\xffQ\\xffd\\xff\\x8f\\xff\\x8b\\xffa\\xffj\\xff}\\xff|\\xff\\x98\\xff\\xc9\\xff\\xc6\\xff\\x8f\\xffw\\xff\\xab\\xff\\xd0\\xff\\xa7\\xff\\xbe\\xff\\x10\\x00.\\x00\"\\x00\\xc8\\xff\\xc0\\xff-\\x00O\\x00\\x86\\x00\\xb9\\x00g\\x00\\xff\\xff\\xe0\\xff\\xed\\xff\\xfa\\xff\\x03\\x00\\xff\\xff\\x07\\x00-\\x005\\x00\\x18\\x00\\x18\\x004\\x00;\\x00+\\x00*\\x00I\\x00E\\x00\\x04\\x00\\xeb\\xff\\x19\\x00^\\x00\\x81\\x00p\\x00]\\x00+\\x00\\xdf\\xff\\xfd\\xffA\\x00C\\x00\\x82\\x00\\xcd\\x00\\xa0\\x00U\\x002\\x00\\'\\x00/\\x00I\\x00X\\x00=\\x00\\x16\\x00\\x0e\\x00\\xf2\\xff\\xd2\\xff\\'\\x00n\\x00;\\x009\\x00y\\x00}\\x00r\\x00\\x88\\x00f\\x00U\\x00\\x7f\\x00d\\x00c\\x00\\xa8\\x00\\xa6\\x00\\xa7\\x00\\xd5\\x00\\x8a\\x00F\\x00y\\x00L\\x00\\t\\x00\\x18\\x00\\x19\\x00N\\x00s\\x00<\\x00\\x0e\\x00\\xfb\\xff\\x11\\x00\\xf1\\xff\\x81\\xfft\\xff\\xa8\\xff\\xd0\\xff\\x18\\x00(\\x00\\xf5\\xff$\\x00t\\x00n\\x00O\\x00+\\x00/\\x00.\\x00\\xe0\\xff\\xd2\\xff\\t\\x00.\\x00T\\x00Z\\x00&\\x00\\xc7\\xff\\x90\\xff\\xd1\\xff%\\x001\\x00\\x08\\x00\\xe8\\xff\\xe2\\xff\\xec\\xff%\\x00A\\x00?\\x00d\\x00A\\x00 \\x00Y\\x005\\x006\\x00\\xa9\\x00\\xa1\\x00\\x97\\x00\\xc2\\x00\\x8f\\x00r\\x00\\x82\\x00\\x82\\x00\\xa5\\x00\\xd2\\x00\\xd4\\x00\\xd6\\x00\\x02\\x01\\xe0\\x00\\x81\\x00x\\x00/\\x00\\xb2\\xff\\x14\\x00\\xaf\\x00\\x8c\\x00*\\x00\\xdc\\xff\\xd4\\xff#\\x006\\x00?\\x00\\x89\\x00|\\x009\\x00O\\x00o\\x00x\\x00\\xae\\x00\\xeb\\x00\\xf6\\x00\\x10\\x01\\x1d\\x01\\xb5\\x00]\\x00\\x7f\\x00\\x95\\x00Z\\x00=\\x00k\\x00T\\x00#\\x00@\\x00h\\x00\\xb6\\x00\\xcc\\x00r\\x00X\\x00g\\x00B\\x00\\xf9\\xff\\xd7\\xff!\\x00U\\x00g\\x00\\x9b\\x00\\x8c\\x00o\\x00~\\x00R\\x00.\\x00W\\x001\\x00\\xd3\\xff\\xb8\\xff\\x94\\xffp\\xff\\x8e\\xff\\xa5\\xffa\\xff\\x1e\\xffH\\xffs\\xffp\\xffT\\xff\\xec\\xfe\\xd1\\xfe1\\xffp\\xff\\xc0\\xff\\xcf\\xff.\\xff\\x18\\xff\\xc4\\xff\\xdc\\xff\\xbb\\xff\\xfc\\xff\\xfc\\xff\\x16\\x00o\\x00b\\x00[\\x00\\x8d\\x00}\\x00g\\x00\\x9d\\x00\\xa3\\x00?\\x00\\xfa\\xff\\x13\\x00-\\x00 \\x00+\\x00f\\x00\\x80\\x00\\x89\\x00\\xa1\\x00z\\x00z\\x00\\xc4\\x00\\xc7\\x00\\xab\\x00\\x8a\\x00\\x8f\\x00\\xba\\x00\\x8a\\x00;\\x00-\\x00[\\x00Y\\x00\\x0e\\x00\\xf3\\xff\\xe5\\xff\\xf1\\xff\\x05\\x00\\xfd\\xff:\\x00O\\x00\\x1d\\x00\\xff\\xff\\xfa\\xff\\x01\\x00\\xed\\xff\\xf4\\xff#\\x000\\x00\\r\\x00\\xee\\xff\\xf3\\xff\\xda\\xff\\xd4\\xff\\xfc\\xff\\x00\\x00\\xf1\\xff\\xd0\\xff\\xe2\\xff.\\x00\\x0f\\x00\\xc6\\xff\\xd9\\xff\\xf5\\xff\\xc3\\xff\\xac\\xff\\x05\\x00-\\x00\\xf6\\xff\\xec\\xff\\xd1\\xff\\x91\\xff\\xab\\xff\\xd8\\xff\\xb7\\xff\\x93\\xff\\xd6\\xff\\t\\x00\\xc7\\xff\\xae\\xff\\xb3\\xff\\xa7\\xff\\xe2\\xff\\xf1\\xff\\xbe\\xff\\xe4\\xff#\\x00\\xdc\\xff\\\\\\xffS\\xffL\\xff\\xf1\\xfe\\x05\\xfff\\xffz\\xff\\x91\\xff\\xc1\\xff\\x96\\xffP\\xff>\\xff\\x1a\\xff&\\xffY\\xff8\\xff\\x16\\xff-\\xff\\x1b\\xff\\xd3\\xfe\\x08\\xfft\\xffG\\xff\\x1c\\xff#\\xff\\x1d\\xffr\\xff\\xa0\\xffh\\xff\\x83\\xff\\xa0\\xffz\\xffp\\xffa\\xff\\x83\\xff\\xda\\xff\\xcd\\xff\\x7f\\xff\\x92\\xff\\xe6\\xff\\xfe\\xff\\x12\\x00\\x1b\\x00\\xeb\\xff\\xfa\\xff\\xf3\\xff\\xa9\\xff\\xd4\\xff\\n\\x00\\xde\\xff\\xc4\\xff\\xad\\xff\\x8f\\xff\\xac\\xff\\xe1\\xff\\xe5\\xff\\xa8\\xffn\\xff\\x8c\\xff\\xcc\\xff\\xd3\\xff\\xce\\xff\\xf2\\xff\\x1f\\x001\\x00\\x11\\x00\\xf8\\xff\\x18\\x00N\\x00u\\x004\\x00\\xee\\xff3\\x00W\\x005\\x00+\\x00\\x08\\x00\\xd6\\xff\\xd9\\xff\\x17\\x00=\\x00E\\x004\\x00\\xf9\\xff\\xd0\\xff\\xcc\\xff\\n\\x00Z\\x00[\\x00A\\x00+\\x00B\\x00p\\x008\\x00\\x1f\\x00Y\\x00H\\x00M\\x00u\\x00[\\x00M\\x00\\x15\\x00\\xe5\\xff$\\x00M\\x00s\\x00\\xbe\\x00\\xd5\\x00\\xb1\\x00x\\x00=\\x00\\x13\\x00\\x03\\x00\\xfd\\xff\\x12\\x00<\\x00i\\x00~\\x00_\\x00i\\x00\\x8b\\x00\\xa2\\x00\\t\\x01O\\x01\\x1a\\x01\\xe7\\x00\\xf4\\x00\\x16\\x018\\x01>\\x01\"\\x01U\\x01\\x8a\\x01(\\x01\\xc8\\x00\\xb7\\x00\\xb4\\x00\\xcd\\x00\\xd8\\x00\\xcd\\x00\\xd9\\x00\\xd6\\x00a\\x00\\x1a\\x00A\\x00\\xf4\\xff\\x13\\x00\\x80\\x00\\n\\x00\\xe4\\xff \\x00!\\x009\\x00J\\x00g\\x00\\xa0\\x00\\xde\\x00\\xce\\x00\\x9c\\x00\\xc8\\x00\\xda\\x00\\x96\\x00\\x96\\x00\\xcc\\x00\\x86\\x00P\\x00\\x9e\\x00c\\x00\\xd4\\xff\\xee\\xff<\\x00,\\x00%\\x00k\\x00\\x81\\x00X\\x00S\\x00e\\x00\\x8c\\x00\\xb8\\x00\\x91\\x00C\\x00\\x13\\x00\\x00\\x00#\\x00:\\x00J\\x00r\\x001\\x00\\xe0\\xff\\xbc\\xff\\x9c\\xff\\xf0\\xff<\\x00;\\x00E\\x00\\x19\\x00\\xe7\\xff\\xdf\\xff\\xb1\\xff\\xab\\xff\\xe9\\xff\\xcd\\xffe\\xffV\\xff\\x85\\xffd\\xff_\\xff\\xab\\xff\\x84\\xff^\\xff\\xbb\\xff\\xe9\\xff\\xe9\\xff\\xce\\xff\\x85\\xff\\x9c\\xff\\xc0\\xff\\x9e\\xff\\x9f\\xff\\x8d\\xffw\\xffm\\xffp\\xff\\xda\\xff\\xdf\\xffn\\xffr\\xff\\xa5\\xff\\xca\\xff\\xd3\\xff\\xba\\xff\\xb4\\xff\\xb4\\xff\\x9f\\xff0\\xff\\xdc\\xfe2\\xffe\\xffS\\xff\\x81\\xff\\x98\\xff\\xa4\\xff\\xb6\\xff\\xb0\\xff\\xdc\\xff\\r\\x00\\xf0\\xff\\xc9\\xff\\xd3\\xff\\xce\\xff\\x01\\x00z\\x00]\\x00\\x05\\x00\\x1a\\x00S\\x00\\x9e\\x00\\xbf\\x00\\x9e\\x00L\\x00\\xb0\\xffv\\xff\\xab\\xff\\xa2\\xff\\x99\\xff\\x8a\\xff^\\xff\\x8d\\xff\\xf8\\xff8\\x00\\xe9\\xff\\xa3\\xff\\x01\\x00\\x07\\x00\\x98\\xffo\\xffQ\\xff&\\xffd\\xff|\\xff%\\xff6\\xffF\\xffL\\xffz\\xff-\\xff\\r\\xff$\\xff\\xec\\xfe\\xe1\\xfe\\xd6\\xfe\\xcf\\xfe9\\xff{\\xff8\\xffE\\xffy\\xff(\\xff\\x16\\xff3\\xff\\x03\\xff?\\xff\\x95\\xffX\\xffb\\xff\\xb8\\xffy\\xffD\\xffY\\xff2\\xffX\\xff\\x9c\\xff\\xb3\\xff\\xdc\\xff\\xcc\\xff\\xc9\\xff\\xca\\xff\\xa1\\xff\\xaf\\xff\\xf0\\xff0\\x00;\\x00E\\x00b\\x00m\\x00P\\x00\\x08\\x00\\xf9\\xff\\xe3\\xff\\xaa\\xff\\xd6\\xff\\n\\x00\\xe0\\xff\\x8b\\xff]\\xff\\x9f\\xff\\xd1\\xff\\x9b\\xff\\xe2\\xff~\\x00Y\\x00)\\x00m\\x00J\\x00\\n\\x00\\x1b\\x00I\\x00\\x8f\\x00o\\x00)\\x00w\\x00\\x9f\\x00S\\x00G\\x00q\\x00\\x82\\x00n\\x00i\\x00j\\x00\\x13\\x00\\xcf\\xff\\xfb\\xff.\\x00\\xf3\\xff\\x9f\\xff\\xe9\\xff9\\x00\\xf3\\xff\\xdf\\xff>\\x00t\\x00\\x92\\x00\\xbf\\x00\\xb3\\x00\\xa6\\x00\\xd3\\x00\\xec\\x00\\xc3\\x00\\xa5\\x00\\x95\\x00a\\x00E\\x00#\\x00\\xe3\\xff\\xd6\\xff\\x9d\\xff8\\xffv\\xff\"\\x00\\x8f\\x00\\xaa\\x00\\xc7\\x001\\x01\\x1c\\x01e\\x008\\x00\\'\\x00\\x18\\x00~\\x00\\x90\\x00\\x8f\\x00\\x8e\\x00\\xb6\\x00\\x15\\x01\\xd2\\x00\\x98\\x00k\\x00k\\x00\\xd9\\x00\\x8e\\x00k\\x00\\x9b\\x00\\r\\x00\\xbc\\xff\\xdf\\xff\\x17\\x00\\xef\\xffk\\xffu\\xff\"\\xff\\x8d\\xfe\\xc3\\xfe\\xbb\\xfe\\x91\\xfe\\xe8\\xfe\\t\\xffH\\xff\\x12\\x00`\\x00I\\x002\\x00\\xd7\\xff\\xf6\\xffg\\x00i\\x00S\\x00a\\x00\\xb3\\x00\\xfc\\x00\\x00\\x01\\x08\\x01\\xb7\\x00Q\\x00p\\x00\\x81\\x00i\\x00@\\x00\\xeb\\xff\\xd2\\xff\\xee\\xff\\x11\\x00F\\x00?\\x00\\xdd\\xffF\\xff\\x14\\xffu\\xffU\\xff\\xd9\\xfe\\xdd\\xfe\\xd7\\xfe\\xa8\\xfe\\xd1\\xfe\\x11\\xff-\\xfft\\xff\\xbc\\xff\\xab\\xff\\xc8\\xff\\x0c\\x00\\xcf\\xff_\\xffZ\\xff\\xa5\\xff\\xb4\\xff\\xfe\\xfft\\x00*\\x00\\xc4\\xff\\xb8\\xff\\xe7\\xff\\x16\\x00\\xf1\\xff\\xe4\\xff\\xc7\\xff\\xde\\xff2\\x00\\xd2\\xff\\\\\\xffj\\xffy\\xff\\x81\\xff\\xcf\\xff\\xec\\xff\\x81\\xffN\\xffs\\xff\\xbe\\xff\\x17\\x00L\\x00\\x99\\x00\\xbb\\x00\\x93\\x00`\\x00\\'\\x00@\\x00\\x85\\x00\\x85\\x00\\x89\\x00\\x8d\\x00\\x8a\\x00\\xa5\\x00v\\x00@\\x00(\\x00\\x1b\\x00r\\x00b\\x00\\xe9\\xff\\xd0\\xff\\xe4\\xffE\\x00y\\x00,\\x00?\\x00}\\x009\\x00\\xe0\\xff\\xb6\\xffS\\xff)\\xff\\x8e\\xff\\x98\\xffc\\xffx\\xff\\xb1\\xff\"\\x00z\\x00\\x92\\x00\\x92\\x00X\\x00\\xdc\\xff7\\xff\\xf0\\xfe$\\xffT\\xffb\\xff4\\xff\\xfd\\xfe\\xeb\\xfe\\xcf\\xfe\\xb0\\xfe\\x92\\xfeD\\xfe\\xd5\\xfd\\xdc\\xfdB\\xfe^\\xfea\\xfe9\\xfe\\xfb\\xfda\\xfe\\'\\xff\\x84\\xffn\\xff\\xb3\\xff,\\x00\\xf8\\xff\\xd2\\xff\\xfc\\xff\\xea\\xff\\xe4\\xff\\x08\\x00g\\x00\\xc4\\x00\\x0c\\x01\\x83\\x01\\x9c\\x01p\\x017\\x01\\x8c\\x00\\x05\\x00\\xf0\\xff\\x08\\x00>\\x00z\\x00\\xc6\\x00\\xec\\x00\\x05\\x01-\\x01\\xe0\\x00e\\x00N\\x00?\\x00+\\x00N\\x00?\\x00O\\x00\\xc1\\x00\\xc5\\x00\\x96\\x00\\x7f\\x00G\\x00Y\\x00s\\x00\\x8e\\x00\\x9d\\x00>\\x00o\\x00\\xd2\\x00\\x82\\x00\\xa1\\x00\\xad\\x00\\xf2\\xff\\xa6\\xff\\xc6\\xff\\xfd\\xff\\x96\\x00)\\x017\\x01\\x07\\x01\\xee\\x00\\xd3\\x00\\xc3\\x00\\xb7\\x00\\x80\\x00I\\x006\\x00\\x05\\x00\\x03\\x00u\\x00\\xaa\\x00\\x83\\x00\\xa9\\x00\\xf4\\x00%\\x01P\\x01\\x1e\\x01\\xb9\\x00\\x94\\x00\\xa4\\x00Y\\x00\\xdd\\xff\\x08\\x00\\x0b\\x00\\x93\\xff_\\xff-\\xff\\x06\\xff4\\xffR\\xff$\\xff@\\xffh\\xff)\\xff\\x9a\\xff/\\x00\\x9e\\xff \\xffi\\xff\\x87\\xffZ\\xffl\\xff\\xbb\\xff\\xf9\\xff\\x1b\\x00\\x11\\x00\\x1b\\x00>\\x00\\t\\x00\\x04\\x00Q\\x00]\\x00c\\x00I\\x00\\xcd\\xffv\\xff\\x98\\xff\\x0f\\x00\\x85\\x00q\\x003\\x00L\\x00P\\x00c\\x00\\x81\\x00\\x1d\\x00\\xe5\\xffO\\x00C\\x00\\x17\\x00\\xa1\\x00\\x7f\\x00\\xa0\\xffz\\xffj\\xff\\xc8\\xfe\\xc1\\xfeC\\xff\\x1e\\xff\\n\\xffy\\xff\\xe5\\xff\\x7f\\x00\\xbb\\x00D\\x00\\x17\\x00\\x92\\x00\\xb2\\x00\\n\\x00\\xb2\\xff\\xd7\\xfff\\xff\\xca\\xfe\\x1c\\xff\\xe8\\xff\\x87\\x00\\x99\\x00$\\x00\\xf4\\xff1\\x00N\\x00Z\\x00\\xee\\x00\\x8f\\x01W\\x01\\xd3\\x00d\\x00\\xc0\\xff\\xb1\\xffh\\x00\\xba\\x00\\xdb\\x006\\x01\\xf1\\x006\\x00\\xc2\\xff\\xa2\\xff\\x7f\\xffu\\xff\\t\\x00t\\x00\\x1e\\x00\\xbd\\xff\\x85\\xffR\\xffL\\xff\\x9f\\xff=\\x00\\xba\\x00\\xf5\\x00\\xf6\\x00d\\x00\\xde\\xff\\xe7\\xff\\xf1\\xff\\xf4\\xff\\xa8\\xff<\\xff\\x90\\xff\\xff\\xff\\x1f\\x00\\x86\\x00\\xc3\\x00Z\\x00\\xcc\\xffu\\xffx\\xffu\\xff4\\xffM\\xff`\\xff\\x8e\\xff\\xef\\xff\\xb4\\xff\\xa3\\xff\\x16\\x00\\x19\\x00\\xd6\\xff\\xd0\\xff\\x92\\xffV\\xff\\xd9\\xffw\\x00\\x98\\x00\\x8d\\x00\\xd3\\x00\\xcb\\x00\\x06\\x00\\xbe\\xff\\xf5\\xff\\x14\\x002\\x00\\xda\\xff2\\xff\\x1b\\xff\\x85\\xffl\\xff\\x02\\xff\\x13\\xff;\\xffg\\xff\\xc6\\xff\\xa3\\x00\\x7f\\x01T\\x01\\xf9\\x00\\xd9\\x00\\x84\\x00\\x1c\\x00\\xdc\\xff\\r\\x00\\x05\\x00{\\xff\\n\\xff\\xdb\\xfe\\x0c\\xff^\\xff\\xbf\\xffa\\x00\\xe5\\x00\\x16\\x012\\x012\\x01\\x03\\x01\\xdc\\x00\\xdc\\x00\\xf2\\x00\\xcf\\x00\\xc3\\x00\\x17\\x01\\xd6\\x00\\x8f\\x00\\x0f\\x01\\x01\\x01\\x96\\x00\\x7f\\x00\\xfd\\xff\\xbf\\xfft\\x00\\xf9\\x00\\xa5\\x00\\xf3\\xff\\x95\\xff\\xe4\\xff\\x12\\x00\\x03\\x00r\\x00\\xbb\\x00\\xb8\\x00\\xe5\\x00\\xaf\\x00\\x10\\x00\\xe2\\xff\\n\\x00&\\x00\\x96\\x00\\xf9\\x00\\xfd\\x00\\xeb\\x00H\\x00\\xe1\\xffY\\x00?\\x00\\xce\\xff\\xc9\\xff\\xd1\\xff\\xd2\\xff\\x96\\xff\\x83\\xff\\xe9\\xff\\x02\\x00\\xcf\\xff\\xde\\xff\\xeb\\xff\\x06\\x00r\\x00`\\x00\\xb2\\xffq\\xff\\xc5\\xff$\\x002\\x00\\x13\\x00\\x80\\xffx\\xfe\\x1b\\xfe\\x11\\xfe\\xd7\\xfd\\xd1\\xfd\\x95\\xfd\\xcc\\xfdU\\xffT\\x00\\x9d\\xff\\xce\\xfe\\x93\\xfe\\xdc\\xfe\\x9f\\xff%\\x00\\xf2\\xff\\xf0\\xfeT\\xfe\\xbb\\xfe\\x13\\xffv\\xff\\xac\\xffc\\xff\\xd5\\xff \\x00e\\xff\\x0c\\xff\\xe5\\xfe\\xe0\\xfeH\\xff&\\xffk\\xffw\\x00\\xb8\\x00\\x8b\\x00\\xb3\\x00\\r\\x01\\x82\\x01\\xd5\\x01\\xdf\\x01\\x90\\x01\\'\\x01\\x9c\\x00(\\x00\\\\\\x00\\xa7\\x00\\xb7\\x00\\x8f\\x00\\xdb\\xffJ\\xff\\xa1\\xffL\\x00;\\x00\\xc6\\xff\\xd3\\xff(\\x00\\x8a\\x00\\xa8\\x00L\\x00\\xeb\\xff\\xaa\\xff\\xc6\\xff\\xe0\\xff\\xf9\\xff`\\x00\\x0b\\x00\\x91\\xff?\\xff\\xb1\\xfe.\\xff\\xa1\\xffv\\xff\\xff\\xff\\xfb\\xff#\\xff\\xe7\\xfe*\\xff\\x87\\xffr\\xff\\xe4\\xfe\\xec\\xfe\\xfc\\xfe\\xf0\\xfe\\xdf\\xff\\x9e\\x00g\\x00m\\x00\\x96\\x00_\\x00F\\x00[\\x00L\\x00\\t\\x00\\xbb\\xffZ\\xff2\\xff\\x05\\x00\\xa7\\x00\\xea\\xff*\\xff\\x0b\\xff\\xd5\\xfe\\xda\\xfev\\xff\\x17\\x009\\x00\\xc6\\xffL\\xff\\x10\\xff\\xb0\\xfe|\\xfe\\xd0\\xfe/\\xff\\xb0\\xff9\\x00\\xd5\\xff+\\xff*\\xff\\xfb\\xfen\\xfex\\xfe\\xd0\\xfe\\xfc\\xfek\\xff\\xac\\xff\\x9e\\xff\\x9d\\xff0\\xff\\xf2\\xfe[\\xff\\x85\\xffd\\xffG\\xffr\\xff\\x99\\xff\\x08\\xff\\xf6\\xfew\\xff)\\xff\\x00\\xff\\x83\\xff\\xc0\\xff\\xdf\\xff@\\x00s\\x00\\x81\\x00\\x90\\x00O\\x00\\xf8\\xff\\xa4\\xff{\\xff\\xcb\\xff\\xef\\xff\\xfd\\xff\\\\\\x00\\x98\\x00\\xe2\\x00\\xfd\\x00\\xb9\\x00\\xcb\\x00\\xc3\\x00i\\x00}\\x00\\xe1\\x00\\xfb\\x00\\xdd\\x00\\xe8\\x00\\xd2\\x00R\\x00\\xab\\xffU\\xff\\xcd\\xff\\x9d\\x00\\r\\x01\\xf5\\x00f\\x00\\xc7\\xff\\x96\\xff\\xc5\\xff\\xce\\xff\\xda\\xff\\x06\\x00\\r\\x00\\xd6\\xffw\\xff\\x95\\xff\\xf2\\xff\\xb7\\xffh\\xffY\\xff(\\xff2\\xff[\\xff\\xf2\\xfe\\x94\\xfe\\xb7\\xfe\\xbe\\xfe\\xc4\\xfe\\x1c\\xff`\\xff\\x94\\xff\\x02\\x00@\\x00\\n\\x00\\xce\\xff\\xe7\\xff\\x1e\\x00H\\x00&\\x00\\xd6\\xff\\x94\\x00\\xae\\x01\\xa2\\x01E\\x01\\xf1\\x00\\x9e\\x00\\xce\\x00\\x12\\x01\\x03\\x01\\xe7\\x00\\x14\\x01C\\x01\\xf1\\x00\\x94\\x00\\x9f\\x00\\xc7\\x00\\x0e\\x01\\'\\x01\\xe4\\x00\\x1b\\x01Y\\x01\\x00\\x01\\xb7\\x00g\\x00\\xdb\\xffe\\xffB\\xffV\\xffO\\xff^\\xff{\\xffX\\xffU\\xff\\x96\\xff\\x91\\xff\\x8f\\xff\\n\\x00\\xa4\\x00\\xd4\\x009\\x00\\xc0\\xff\\x07\\x00#\\x00#\\x006\\x00\\x1a\\x004\\x00l\\x00\\xa1\\x00\\x0c\\x01\\x19\\x01\\x8f\\x00\\x7f\\x00\\xb2\\x00M\\x00\\xf7\\xff\\x07\\x005\\x00V\\x00E\\x00\\x12\\x00\\xaf\\xff\\xc7\\xff\\x85\\x00\\xe5\\x00\\x08\\x01\\xfc\\x00\\x8b\\x00V\\x00f\\x00\\xac\\x00\\xbd\\x00H\\x00\"\\x00\\'\\x00\\xca\\xff\\xc9\\xff\\x04\\x00\\xc1\\xff\\x84\\xff\\x7f\\xff_\\xffz\\xff\\xda\\xff\\xfe\\xff\\xf7\\xff\\x1b\\x00\\x19\\x00\\x17\\x00\\x81\\x00\\xca\\x00\\xdb\\x00\\x17\\x01\\x1d\\x01\\t\\x01\\x1a\\x01\\xdc\\x00\\xa6\\x00\\xc6\\x00k\\x00\\x92\\xff\\x1f\\xff^\\xff\\xa3\\xff\\xbc\\xff\\x16\\x00\\\\\\x00t\\x00v\\x00\\x8a\\x00\\xd9\\x00\\xdd\\x00Y\\x00\\xd0\\xff\\xcb\\xff\\xe3\\xff\\x00\\x00\\xaa\\x00N\\x01;\\x01\\xc2\\x00n\\x00(\\x00\\x16\\x00U\\x006\\x00\\x1b\\x00K\\x006\\x00\\xff\\xff\\xaa\\xff\\x84\\xff\\xc2\\xff\\xfd\\xffm\\x00\\xb3\\x00\\x84\\x00w\\x00i\\x009\\x00\\x12\\x00\\xe4\\xff\\x93\\xff\\x18\\xff\\xc0\\xfe\\xc3\\xfe3\\xff\\xf5\\xff.\\x00\\xbc\\xff\\x97\\xff\\xf0\\xff@\\x00)\\x00\\x0c\\x00\\x14\\x00\\xe4\\xff=\\x00\\xcf\\x00\\x90\\x00u\\x00\\x85\\x00\\x0e\\x00\\xe5\\xff\\xdb\\xff\\x9c\\xff\\xbf\\xff\\xa0\\xffg\\xff\\xee\\xff$\\x00\\xe4\\xff\\xf0\\xff\\xb7\\xfff\\xff\\xa4\\xff\\x11\\x00^\\x00\\xa4\\x00\\xc2\\x00\\xcb\\x00\\xe6\\x00\\xde\\x00\\x9a\\x00?\\x005\\x00_\\x00\\x99\\x00\\xfe\\x00\\xdb\\x00X\\x001\\x007\\x00;\\x00$\\x00\\xee\\xff\\x93\\xffN\\xffk\\xff\\xc1\\xff[\\x00\\xbf\\x00c\\x00\\xda\\xff\\xb5\\xff\\xdf\\xff\\xdd\\xff\\xb5\\xff\\xdd\\xff9\\x00V\\x00\\x06\\x00\\x9a\\xffl\\xff\\x9e\\xff\\x08\\x00\\x02\\x00\\xc3\\xff\\t\\x00G\\x00\\xf4\\xff\\xa1\\xff\\x96\\xff\\xb4\\xff\\xd3\\xff\\xb0\\xffw\\xffe\\xff[\\xff\\x98\\xff\\x08\\x00\\x04\\x00\\xd4\\xff\\x16\\x00Q\\x00\\xeb\\xffw\\xffm\\xfff\\xff{\\xff\\xd0\\xff\\xfb\\xff\\xbf\\xff@\\xffL\\xff\\xac\\xff\\x8b\\xff\\x9e\\xff\\xdc\\xff\\xf0\\xff\\xf5\\xff\\xbf\\xff\\xc8\\xff\\xd6\\xff\\xc3\\xff\\xdb\\xff\\xb7\\xff\\xc0\\xff\\xba\\xff\\x11\\xff\\x0b\\xff\\xb7\\xff\\xa2\\xff\\x0b\\xff\\xb1\\xfe\\xa6\\xfe\\xf0\\xfe\\x15\\xff\\xe7\\xfe\\xf9\\xfe\\x9a\\xff?\\x00O\\x00O\\x00\\x9c\\x00\\x93\\x00C\\x00b\\x00\\xb4\\x00\\xc9\\x00\\xa5\\x00S\\x004\\x00\\x15\\x00\\xc4\\xff\\xc7\\xff\\xb7\\xff\\x98\\xff\\xda\\xff\\x05\\x00:\\x00y\\x00X\\x00E\\x00r\\x00f\\x00@\\x00M\\x00\\xf1\\xffU\\xffj\\xff\\xf3\\xff\\xfd\\xffi\\xffL\\xff\\xb2\\xff\\xc0\\xff\\xd4\\xff\\xe7\\xff\\xb1\\xff\\xb1\\xff\\x8d\\xff\\x17\\xff\\xd9\\xfe\\xc0\\xfe\\xf0\\xfe_\\xff\\xa3\\xff\\xe6\\xffJ\\x00^\\x00\\x1f\\x00N\\x00\\x83\\x00b\\x00\\\\\\x00-\\x00\\xe2\\xff\\xe1\\xff$\\x00.\\x00\\xc2\\xffy\\xff\\x83\\xff\\xa4\\xff\\x03\\x00Z\\x00`\\x00x\\x00\\xa4\\x00\\xd3\\x00\\xfc\\x00\\xfb\\x00\\x03\\x01\\x18\\x01\"\\x01\\xfd\\x00\\xcc\\x00\\xca\\x00\\xd0\\x00\\xc7\\x00\\x9a\\x00\\x82\\x00\\xa0\\x00\\xa9\\x00d\\x00\\xd6\\xff\\x8d\\xff\\x90\\xffu\\xff\\x90\\xff\\x96\\xffJ\\xff\\xc0\\xff\\x82\\x00\\x99\\x00\\x8d\\x003\\x00\\xce\\xff\\x00\\x00\\x19\\x00\\xe2\\xff\\xd3\\xff\\x12\\x00\\x18\\x00\\x99\\xffu\\xff\\xc7\\xff\\xb5\\xff\\x82\\xff\\xb1\\xff\\xf0\\xff#\\x00\\x84\\x00\\x07\\x01f\\x01r\\x01t\\x01b\\x01\\xf7\\x00\\xae\\x00\\x98\\x00\\x81\\x00\\xa3\\x00\\xc7\\x00\\xb5\\x00~\\x00\\\\\\x00\\x9f\\x00\\xf0\\x00\\x06\\x016\\x01a\\x015\\x01\\x01\\x01\\x14\\x01\\x07\\x01\\xae\\x00\\x89\\x00\\xa6\\x00\\xb9\\x00\\xca\\x00\\xe8\\x00\\xf0\\x00\\xd5\\x00\\xd5\\x00\\xaa\\x00\\x10\\x00\\xd9\\xff \\x00&\\x00\\xf1\\xff\\xe9\\xff\\xeb\\xff\\xcd\\xff\\xdb\\xff\\x07\\x00/\\x00;\\x00\\xfd\\xff\\xc4\\xff\\x99\\xff\\x80\\xff\\xb5\\xff\\xfd\\xff3\\x00>\\x00:\\x00o\\x00\\xb3\\x00\\xd9\\x00\\xc1\\x00v\\x00I\\x00g\\x00\\x89\\x00u\\x009\\x00\\xdb\\xff\\x96\\xffh\\xffa\\xff\\xa0\\xff\\xe5\\xff\\x01\\x00\\xea\\xff\\x10\\x00B\\x00\\x0f\\x00\\x03\\x00\\x17\\x00\\t\\x00\\xc6\\xffn\\xffY\\xff,\\xffO\\xff\\xdf\\xff\\xf8\\xff\\x1c\\x00f\\x00<\\x00,\\x001\\x00\\xf6\\xff\\xfc\\xff\\xf2\\xff\\x9c\\xff\\xaa\\xff\\xdd\\xff\\x9e\\xff=\\xff\\x06\\xff\\xfb\\xfe\"\\xff$\\xff\\x03\\xff\\xfc\\xfe\\x1d\\xffw\\xffl\\xff\\x14\\xffL\\xff\\xa9\\xff\\xa4\\xff\\xa7\\xff\\xc7\\xff\\xae\\xff\\xc4\\xff$\\x003\\x00\\x19\\x00\\x14\\x00\\x0c\\x00\\x00\\x00\\xec\\xff\\xf0\\xff\\x17\\x00N\\x00\\x91\\x00\\xa6\\x00\\x86\\x00\\xa0\\x00\\xbf\\x00w\\x00>\\x00)\\x00\\xdd\\xff\\xa8\\xff\\xac\\xff\\xdc\\xff>\\x00C\\x00\\xc3\\xff\\x92\\xff\\xf5\\xffT\\x00t\\x00\\x7f\\x00o\\x00J\\x00d\\x00\\x85\\x00\\x04\\x00\\x96\\xff\\xcc\\xff\\x99\\xff=\\xffz\\xff\\xc9\\xff\\xd8\\xff\\xba\\xff\\xa9\\xff\\xb8\\xff\\xa7\\xff\\x9e\\xff\\xa5\\xffa\\xff!\\xff\\n\\xff\\xcd\\xfe\\xc2\\xfe\\xc9\\xfe\\x8c\\xfe\\x9a\\xfe\\xd0\\xfe\\xc3\\xfe\\xda\\xfe8\\xff\\x8a\\xff\\xb2\\xff\\xf4\\xffj\\x00\\x95\\x00C\\x00\\xcc\\xffw\\xff\\x86\\xff\\xad\\xff\\x83\\xffC\\xff*\\xffT\\xffv\\xffq\\xff\\x94\\xff\\xc7\\xff\\xe5\\xff\\x0e\\x00\\x1f\\x00\\xdf\\xff\\xd6\\xff\\xe7\\xff\\x8e\\xffZ\\xff?\\xff\\'\\xffw\\xff\\xab\\xff\\xb2\\xff\\x0b\\x00{\\x00~\\x00;\\x00D\\x00y\\x00L\\x00\\n\\x00 \\x00\\x1a\\x00\\xe5\\xff\\xd4\\xff\\x90\\xff%\\xffD\\xff\\xb0\\xff\\xd9\\xff\\x06\\x00\\x17\\x00\\xd1\\xff\\xab\\xff\\xb6\\xff\\xd2\\xff\\xe5\\xff\\xf3\\xff/\\x00c\\x00g\\x00.\\x00\\xeb\\xff\\x04\\x00N\\x00|\\x00]\\x00@\\x00\\x84\\x00\\xab\\x00y\\x00\\'\\x00\\xe1\\xff\\xf8\\xff?\\x00Q\\x000\\x00\\x0b\\x00(\\x00>\\x00\\x03\\x00\\xe6\\xff\\x08\\x00\\x1d\\x00\\x1f\\x007\\x00g\\x00A\\x00\\xbf\\xff{\\xff\\x8f\\xff\\xa8\\xff\\x9e\\xffd\\xff1\\xffR\\xff\\x84\\xffr\\xff<\\xff\\x17\\xff\\x10\\xffA\\xff]\\xff\\x1d\\xff7\\xff\\xaf\\xff\\xde\\xff\\x14\\x00=\\x00&\\x00\\n\\x00\\xf2\\xff\\xea\\xff\\xad\\xffn\\xff\\x99\\xff\\xce\\xff\\x10\\x00W\\x00&\\x00\\xd6\\xff\\xea\\xff\\n\\x00\\x07\\x00C\\x00\\x83\\x00\\x7f\\x00\\x99\\x00v\\x00\\x0f\\x00B\\x00w\\x00\\x17\\x00\\xcd\\xff\\xc0\\xff\\xb8\\xff\\x81\\xffR\\xff\\xac\\xff\\x02\\x00\\x01\\x00!\\x00@\\x00<\\x00C\\x00?\\x00#\\x00\\x00\\x00\\x18\\x00[\\x00@\\x00\\xd7\\xffv\\xff\\x19\\xff\\xfd\\xfe$\\xffN\\xff\\xa3\\xff\\xda\\xff\\xe1\\xff\\x14\\x00\\x19\\x00\\xf3\\xff\\x0c\\x00\\x0e\\x00\\xd9\\xff\\xdf\\xff\\x1b\\x00(\\x00\\x16\\x00\\x1a\\x00\\x14\\x00\\xf8\\xff\\x05\\x00\\xf2\\xff\\xa2\\xff\\xad\\xff\\xf1\\xff\\xe4\\xff\\xa3\\xffz\\xff\\x83\\xff\\xab\\xff\\xdc\\xff\\xd6\\xff\\x9b\\xff\\xa9\\xff\\xea\\xff\\x01\\x00\\xfe\\xff\\x01\\x001\\x00\\x8f\\x00\\x9f\\x00 \\x00\\xc8\\xff\\xe8\\xff\\xf5\\xff\\xf6\\xff%\\x007\\x00D\\x00{\\x00\\x96\\x00\\x83\\x008\\x00\\xfb\\xff\\x14\\x00\\'\\x00\\x12\\x00\\xe5\\xff\\xd9\\xff\\x06\\x00\\xe6\\xff\\xc1\\xff\\xfb\\xff\\x13\\x00\\xff\\xff\\x12\\x004\\x00T\\x00Z\\x00-\\x00\\x1c\\x00\\x11\\x00\\xe8\\xff\\xf8\\xff\\x08\\x00\\xfe\\xff0\\x00D\\x00\\x16\\x00\\x0f\\x00/\\x00\\xfe\\xffk\\xffI\\xff\\x99\\xff\\xbd\\xff\\xc3\\xff\\x8c\\xff_\\xff\\xa1\\xff\\xe1\\xff\\xdd\\xff\\xd0\\xff\\x0e\\x00U\\x00S\\x00c\\x00R\\x00\\x1c\\x00&\\x00\\x1c\\x00\\x02\\x00\\x1c\\x00#\\x00 \\x008\\x00<\\x00@\\x002\\x00\\x0e\\x00+\\x00I\\x00\\x13\\x00\\xe9\\xff\\r\\x00)\\x00$\\x00A\\x002\\x00\\xe4\\xff\\xf7\\xff?\\x007\\x00\\xef\\xff\\xb1\\xff\\xa9\\xff\\xa7\\xff\\x95\\xff{\\xff\\\\\\xff}\\xff\\xa0\\xff\\x99\\xff\\xb3\\xff\\xa4\\xffx\\xff\\xc0\\xff\\x03\\x00\\xf2\\xff\\xfb\\xff\\xf0\\xff\\xf2\\xff8\\x00I\\x00\\x17\\x00\\xfb\\xff\\xf9\\xff\\xda\\xff\\x91\\xffz\\xff\\xc2\\xff\\xfc\\xff\\xf6\\xff\\xd8\\xff\\xdc\\xff\\xf5\\xff\\xd4\\xff\\xc0\\xff\\xfa\\xff\\n\\x00\\xc3\\xff\\xa6\\xff\\xc3\\xff\\xb3\\xff\\x9d\\xff\\xb2\\xff\\xdc\\xff\\x04\\x00(\\x00X\\x001\\x00\\xf2\\xff/\\x00d\\x00>\\x00\\x13\\x00\\xe7\\xff\\xc6\\xff\\xf4\\xff\\x04\\x00\\xbb\\xff\\xc5\\xff \\x00:\\x00*\\x00\\x17\\x00\\xdf\\xff\\xda\\xff+\\x00\\'\\x00\\xe3\\xff,\\x00Z\\x00\\xc9\\xff\\xb1\\xff\\x0f\\x00\\xd5\\xff\\xbc\\xff\"\\x00%\\x00\\xc0\\xff\\x9c\\xff\\xb9\\xff\\xa8\\xff\\x9a\\xff\\xd4\\xff\\xfe\\xff\\x0f\\x004\\x00,\\x00\\xf2\\xff\\x05\\x00J\\x00P\\x00a\\x00q\\x00(\\x00\\xf9\\xff\\xff\\xff\\xe0\\xff\\xf3\\xffG\\x00C\\x001\\x00O\\x002\\x00\\x0e\\x006\\x00U\\x00O\\x00\\x7f\\x00\\xb2\\x00\\x82\\x00T\\x00}\\x00\\x94\\x00`\\x00I\\x00\\\\\\x00[\\x00K\\x00\\x18\\x00\\r\\x00:\\x00\\x15\\x00\\xc4\\xff\\x97\\xff\\x9d\\xff\\xca\\xff\\xba\\xff\\xbc\\xff\\x07\\x00\\x1e\\x00.\\x00?\\x00;\\x00]\\x00\\x7f\\x00\\x97\\x00v\\x00\\x05\\x00\\xb8\\xff\\x9e\\xff\\x98\\xff\\xa9\\xff\\xb4\\xff\\xb2\\xff\\xc0\\xff\\xd8\\xff\\xe1\\xff\\xf1\\xff\\xf8\\xff\\xf8\\xff\\x18\\x00Y\\x00\\x91\\x00\\x91\\x00}\\x00k\\x00^\\x00\\x82\\x00\\x9f\\x00N\\x00\\xde\\xff\\xe3\\xff*\\x004\\x002\\x00G\\x000\\x00\\x1e\\x009\\x00]\\x00`\\x00\\'\\x00\\xfe\\xff\\xea\\xff\\xd0\\xff\\xee\\xff\\x12\\x00\\x07\\x00\"\\x00K\\x00K\\x00=\\x00 \\x00\\xfd\\xff\\xeb\\xff\\xed\\xff\\xf0\\xff\\xf5\\xff\\x1f\\x00;\\x00\\x14\\x00\\xee\\xff\\xf7\\xff\\x12\\x00E\\x00t\\x00q\\x00`\\x00I\\x00\\x12\\x00\\xff\\xff\\x14\\x00\\xfe\\xff\\xdb\\xff\\x00\\x00 \\x00\\xd4\\xff\\x88\\xffw\\xffi\\xffi\\xffu\\xffP\\xff \\xffQ\\xff\\x80\\xff\\x9b\\xff\\xcb\\xff\\xc9\\xff\\xea\\xff\\xfb\\xff\\xed\\xff%\\x00\\x1b\\x00\\xdb\\xff\\xdc\\xff\\x03\\x00\\x0c\\x00\\xcc\\xff\\xb6\\xff\\xef\\xff\\xe8\\xff\\xa0\\xffl\\xffy\\xff\\xc5\\xff\\xd9\\xff\\xe4\\xff7\\x00]\\x00x\\x00\\xa9\\x00\\xb1\\x00\\xb6\\x00\\xa2\\x00c\\x00L\\x00v\\x00{\\x008\\x00\\x1f\\x00M\\x00f\\x00|\\x00\\xc3\\x00\\xb1\\x00u\\x00\\xb2\\x00\\xad\\x00U\\x00[\\x00Z\\x00M\\x00t\\x00}\\x00t\\x00e\\x00F\\x00:\\x00.\\x001\\x00F\\x00-\\x00\\xfe\\xff\\xf9\\xff\\xf3\\xff\\xee\\xff\\x14\\x00.\\x00\\x16\\x00\\xec\\xff\\xcd\\xff\\xac\\xff~\\xff^\\xff[\\xffp\\xff\\x94\\xff\\xa5\\xff\\x81\\xff{\\xff\\xc8\\xff\\xc9\\xffm\\xff\\x7f\\xff\\xd9\\xff\\xe2\\xff\\xdc\\xff\\xec\\xff\\xea\\xff\\x05\\x00!\\x00\\x05\\x00\\xea\\xff\\xfe\\xff\\x10\\x00\\xf6\\xff\\x05\\x00U\\x00u\\x00c\\x00U\\x00C\\x00J\\x00t\\x00\\x87\\x00\\x86\\x00{\\x00j\\x00m\\x00b\\x00a\\x00i\\x00A\\x00%\\x00<\\x00`\\x00y\\x00\\x7f\\x00|\\x00\\x8c\\x00\\xbb\\x00\\xdd\\x00\\xe2\\x00\\xea\\x00\\x01\\x01\\xe1\\x00\\xbf\\x00\\xec\\x00\\xe3\\x00\\x9e\\x00\\x8d\\x00\\x9e\\x00\\xba\\x00\\xb7\\x00\\x91\\x00\\x82\\x00n\\x008\\x001\\x00T\\x00X\\x00O\\x00=\\x009\\x00J\\x00R\\x00;\\x00\\'\\x00V\\x00\\x9a\\x00\\xae\\x00\\xa3\\x00\\x8e\\x00O\\x00\\xf4\\xff\\xeb\\xff\\r\\x00\\xe2\\xff\\xb8\\xff\\xd3\\xff\\xe7\\xff\\xe6\\xff\\xda\\xff\\xbe\\xff\\xb4\\xff\\xbc\\xff\\xc1\\xff\\xb9\\xff\\xab\\xff\\xa4\\xff\\xab\\xff\\xc3\\xff\\xbb\\xff\\x8f\\xff\\x7f\\xff\\x99\\xff\\x9a\\xff\\x8b\\xff\\xaa\\xff\\xdb\\xff\\x03\\x00\\x15\\x00\\x0f\\x00\\x10\\x00\\x1e\\x002\\x00E\\x00#\\x00\\xe4\\xff\\xdd\\xff\\xd2\\xff\\x98\\xff\\xb8\\xff\\x1a\\x00\\x1c\\x00\\x04\\x00\\x1c\\x00\\x14\\x00\\xfd\\xff\\x13\\x008\\x009\\x00,\\x002\\x00!\\x00\"\\x00A\\x00.\\x00 \\x00A\\x00`\\x00\\x8a\\x00\\xb9\\x00\\xaa\\x00\\x87\\x00\\x91\\x00\\xb8\\x00\\xe1\\x00\\xd9\\x00\\xbe\\x00\\xa1\\x00u\\x00v\\x00i\\x005\\x00(\\x00$\\x00\\x12\\x00\\r\\x00\\xf8\\xff\\xde\\xff\\x0c\\x00F\\x00Q\\x00w\\x00\\x80\\x00[\\x00e\\x00w\\x00b\\x00T\\x00[\\x00Z\\x00T\\x00D\\x00\\r\\x00\\xe4\\xff\\x17\\x00W\\x00V\\x005\\x00\\x16\\x00#\\x007\\x005\\x004\\x00\\x0f\\x00\\xb9\\xff~\\xff\\x8a\\xffm\\xff\"\\xff$\\xff<\\xff*\\xff6\\xff_\\xffu\\xff\\x8d\\xff\\x82\\xffL\\xffZ\\xff\\xa9\\xff\\xc7\\xff\\xa2\\xff\\x8f\\xff\\x86\\xffX\\xff]\\xff\\xba\\xff\\xe7\\xff\\xf8\\xff%\\x00\\x07\\x00\\xf0\\xff+\\x00#\\x00\\xe4\\xff\\xe6\\xff\\x03\\x00\\xe3\\xff\\xb8\\xff\\xa8\\xffl\\xffU\\xff\\x81\\xff\\x93\\xff\\x9c\\xff\\x9b\\xff\\x9a\\xff\\xd7\\xff\\x08\\x00\\xe3\\xff\\xba\\xff\\xd3\\xff\\x02\\x00\\xfc\\xff\\xfe\\xff\\x10\\x00\\xea\\xff\\x01\\x00+\\x00\\xf1\\xff\\xe3\\xff\\x12\\x00\\xec\\xff\\x91\\xff\\x92\\xff\\xb3\\xff\\x98\\xff\\x99\\xff\\x93\\xffz\\xff\\xc2\\xff\\xef\\xff\\xc2\\xff\\xc9\\xff\\xbc\\xffz\\xffo\\xff\\x90\\xff\\xb2\\xff\\xab\\xff\\x99\\xff\\xa6\\xff\\xb6\\xff\\xe6\\xff\\x01\\x00\\xfb\\xff>\\x00\\x94\\x00\\xbe\\x00\\xcb\\x00\\x9e\\x00f\\x00n\\x00\\x80\\x00h\\x00k\\x00\\x94\\x00\\x8d\\x00]\\x00Q\\x00Z\\x00O\\x00q\\x00\\x9e\\x00\\x82\\x00d\\x00U\\x00A\\x005\\x00\\x1c\\x00\\x0e\\x00/\\x00_\\x00P\\x00\\x12\\x00\\xf5\\xff\\xda\\xff\\xc8\\xff\\xf2\\xff\\t\\x00\\x00\\x00\\x03\\x00\\xf5\\xff\\xe8\\xff\\xe7\\xff\\xed\\xff\\xfb\\xff\\xed\\xff\\xcf\\xff\\xb9\\xff\\xac\\xff\\xcf\\xff\\xf9\\xff\\xf3\\xff\\xe9\\xff\\xe2\\xff\\xd1\\xff\\xd8\\xff\\xf7\\xff\\x05\\x00\\xf1\\xff\\xd2\\xff\\xc3\\xff\\xca\\xff\\xca\\xff\\xbe\\xff\\xb9\\xff\\xb4\\xff\\xc6\\xff\\xc5\\xff\\x9c\\xff\\xb8\\xff\\xbf\\xff\\x7f\\xff\\x89\\xff\\xb1\\xff\\xcd\\xff\\xf3\\xff\\x00\\x00\\xf5\\xff\\xe6\\xff\\xe6\\xff\\xf6\\xff\\x04\\x00\\x11\\x00\\xfe\\xff\\xd2\\xff\\xcd\\xff\\xef\\xff\\xf2\\xff\\xde\\xff\\xf8\\xff\\x10\\x00\\xfc\\xff\\xec\\xff\\xcb\\xff\\xc4\\xff\\xfa\\xff\\x1d\\x006\\x00#\\x00\\xdc\\xff\\xd7\\xff\\xed\\xff\\xe1\\xff\\xfa\\xff\\x0e\\x00\\xd2\\xff\\x82\\xffK\\xff.\\xffQ\\xff\\x97\\xff\\xa0\\xff\\xa3\\xff\\xdb\\xff\\xd7\\xff\\xab\\xff\\xaa\\xff\\xb7\\xff\\xaf\\xff\\xa7\\xff\\xd1\\xff\\x07\\x00\\x1f\\x00>\\x00L\\x00B\\x00F\\x00W\\x00p\\x00\\x8d\\x00\\x89\\x00q\\x00f\\x00Y\\x00D\\x00\\x1a\\x00\\xe2\\xff\\xc7\\xff\\xb4\\xff\\xa0\\xff\\x9b\\xffs\\xffM\\xff^\\xffw\\xff\\xa3\\xff\\xe2\\xff\\xf4\\xff\\xd1\\xff\\xaa\\xff\\x8d\\xff\\x7f\\xff}\\xfft\\xffw\\xffy\\xff\\x84\\xff\\xa4\\xff\\xc5\\xff\\x0b\\x003\\x00\\x01\\x00\\xed\\xff\\xf6\\xff\\xef\\xff\\xfa\\xff\\xe8\\xff\\xb5\\xff\\x97\\xff\\x8c\\xff\\x98\\xff\\x9d\\xff\\x9b\\xff\\x9c\\xff|\\xff^\\xffQ\\xff>\\xffd\\xff\\x82\\xffW\\xff@\\xffK\\xffY\\xff}\\xff\\xab\\xff\\xc6\\xff\\xd0\\xff\\xfd\\xff1\\x00&\\x00!\\x00(\\x00\\n\\x00\\x1e\\x00F\\x00O\\x00q\\x00x\\x00K\\x00/\\x00<\\x00>\\x00#\\x00\\x19\\x00\\x1b\\x00\\t\\x00\\xeb\\xff\\xeb\\xff\\xff\\xff\\r\\x00\\x07\\x00\\xe5\\xff\\xe3\\xff \\x008\\x00\\xf0\\xff\\xcb\\xff\\xef\\xff\\x0b\\x00\\x1f\\x00\\x1a\\x00\\r\\x00\\r\\x00\\x01\\x00\\xe5\\xff\\xbf\\xff\\xc6\\xff\\xd7\\xff\\xc2\\xff\\xac\\xff\\xa2\\xff\\xa0\\xff\\xb6\\xff\\xd8\\xff\\xc9\\xff\\xa3\\xff\\x9b\\xff\\x8e\\xff\\x86\\xff\\x8c\\xff~\\xffq\\xff[\\xff1\\xffG\\xff\\x8a\\xff\\x95\\xff}\\xff\\x80\\xff\\x92\\xff\\x90\\xff\\x91\\xff\\xaa\\xff\\xb6\\xff\\xce\\xff\\xf9\\xff\\x03\\x00\\xfb\\xff\\xf3\\xff\\xd1\\xff\\xa2\\xff\\x8e\\xff\\x8d\\xff\\xac\\xff\\xd3\\xff\\xe1\\xff\\xfe\\xff\\x08\\x00\\xfd\\xff\\xef\\xff\\xe8\\xff\\x04\\x00\\xf8\\xff\\xbf\\xff\\xaf\\xff\\xb5\\xff\\xa8\\xff\\xb3\\xff\\xc4\\xff\\xac\\xff\\xb7\\xff\\xdd\\xff\\xc4\\xff\\xc1\\xff\\xe5\\xff\\xd6\\xff\\xe1\\xff\\x17\\x00\\x1a\\x00\\xfd\\xff\\xde\\xff\\xba\\xff\\xa9\\xff\\xb1\\xff\\x99\\xffk\\xff\\x84\\xff\\xc8\\xff\\xcb\\xff\\xb8\\xff\\xe5\\xff\\x05\\x00\\x08\\x005\\x00F\\x008\\x00I\\x00O\\x00\\\\\\x00\\x85\\x00\\x91\\x00\\x82\\x00f\\x00C\\x003\\x00\\x1b\\x00\\x0b\\x00\\x1b\\x00\"\\x00,\\x00/\\x00\\x16\\x00\\t\\x00\\'\\x00,\\x00\\xdf\\xff\\xab\\xff\\xc6\\xff\\xde\\xff\\xd3\\xff\\xc6\\xff\\xd7\\xff\\xdf\\xff\\xda\\xff\\xee\\xff\\xf2\\xff\\xf1\\xff\\x00\\x00\\xfc\\xff\\xf2\\xff\\xf5\\xff\\xfd\\xff\\x01\\x00\\xe9\\xff\\xef\\xff0\\x00A\\x00+\\x00:\\x00W\\x00T\\x00?\\x00P\\x00d\\x009\\x00\\x01\\x00\\xd8\\xff\\xb2\\xff\\xc4\\xff\\xcd\\xff\\xab\\xff\\xb4\\xff\\xb6\\xff\\xb9\\xff\\xef\\xff\\x12\\x002\\x00U\\x00U\\x00X\\x00e\\x00x\\x00\\x97\\x00\\x85\\x00L\\x00A\\x00R\\x00F\\x005\\x00A\\x00`\\x00l\\x00s\\x00\\x95\\x00\\x9d\\x00\\x8f\\x00\\xa4\\x00\\x99\\x00Z\\x00Y\\x00s\\x00f\\x00h\\x00x\\x00m\\x00L\\x00<\\x00-\\x00\\x13\\x00\"\\x005\\x00$\\x00\\x19\\x00%\\x00\\x18\\x00\\xfb\\xff\\x17\\x00?\\x00A\\x00F\\x00J\\x00R\\x00W\\x00F\\x009\\x00/\\x00F\\x00y\\x00\\x80\\x00k\\x00V\\x009\\x00(\\x004\\x00J\\x00T\\x00\\\\\\x00Y\\x00K\\x00L\\x00<\\x00\\x06\\x00\\xf5\\xff\\xfc\\xff\\xfc\\xff&\\x00E\\x005\\x00B\\x00V\\x00;\\x003\\x00K\\x003\\x00\\x15\\x00\\x19\\x00\\x03\\x00\\xe7\\xff\\xf3\\xff\\x13\\x00\\r\\x00\\xfe\\xff,\\x00B\\x00<\\x00\\\\\\x00]\\x006\\x00\"\\x00\\x16\\x00\\x0b\\x00\\x11\\x00#\\x00:\\x00W\\x00Z\\x00<\\x00G\\x00f\\x00=\\x00*\\x00U\\x00B\\x00&\\x00,\\x00\\x04\\x00\\xe4\\xff\\xff\\xff\\x12\\x00\\x03\\x00\\xff\\xff\\xfb\\xff\\xdf\\xff\\xd7\\xff\\xe5\\xff\\xe8\\xff\\xd0\\xff\\xb5\\xff\\xc4\\xff\\xd2\\xff\\xd3\\xff\\xed\\xff\\x04\\x00\\x00\\x00\\xde\\xff\\xa6\\xff\\x81\\xff\\x83\\xff\\xaf\\xff\\xda\\xff\\xe3\\xff\\xf3\\xff\\xf9\\xff\\xe6\\xff\\xe4\\xff\\xf8\\xff\\xfd\\xff\\x05\\x00%\\x00$\\x00!\\x00B\\x00@\\x009\\x00[\\x00V\\x00B\\x00h\\x00o\\x00S\\x00x\\x00\\x97\\x00\\x8a\\x00\\x8d\\x00{\\x00Z\\x00S\\x00;\\x004\\x00`\\x00d\\x003\\x00\\x0e\\x00\\x00\\x00\\r\\x00<\\x00G\\x00\\t\\x00\\xe4\\xff\\x10\\x00<\\x00A\\x002\\x00\\x0c\\x00\\x01\\x00\\x1c\\x00\\x05\\x00\\xe3\\xff\\x14\\x00G\\x00&\\x00\\x02\\x00\\xf0\\xff\\xe8\\xff\\x18\\x000\\x00\\x02\\x00\\xe9\\xff\\x0c\\x00)\\x00\\x1d\\x00\\x05\\x00\\xfc\\xff\\x13\\x00!\\x00\\x12\\x00#\\x00D\\x00<\\x008\\x00\\\\\\x00^\\x00r\\x00\\xb6\\x00\\xb2\\x00\\xa3\\x00\\xb7\\x00\\x8f\\x00L\\x009\\x002\\x00\\x0c\\x00\\t\\x000\\x00*\\x001\\x00\\x80\\x00\\xa1\\x00\\x9b\\x00\\xbe\\x00\\xd8\\x00\\xd5\\x00\\xc4\\x00\\xc0\\x00\\xbb\\x00~\\x00F\\x00D\\x001\\x00 \\x002\\x00 \\x00\\x01\\x00\\r\\x00\\x1a\\x00\\x08\\x00\\xf2\\xff\\xf7\\xff\\xff\\xff\\xf3\\xff\\xc6\\xff\\x99\\xff\\x99\\xff\\xb5\\xff\\xce\\xff\\xac\\xff\\x96\\xff\\xe4\\xff\\x07\\x00\\xdd\\xff\\xe5\\xff\\x0c\\x00\"\\x00\\x1a\\x00\\xf8\\xff\\xfd\\xff:\\x00Y\\x00>\\x00\\'\\x00$\\x00,\\x00:\\x00+\\x00\\x1e\\x005\\x004\\x00\\x19\\x00\\x16\\x00/\\x00[\\x00U\\x00%\\x00\\x12\\x00\\x16\\x00(\\x00!\\x00\\xe0\\xff\\xa9\\xff\\xbd\\xff\\xf3\\xff\\xf2\\xff\\xd6\\xff\\x04\\x00D\\x00<\\x00,\\x003\\x00=\\x00l\\x00\\x9d\\x00}\\x00@\\x009\\x003\\x00\\x10\\x00\\xfa\\xff\\xf2\\xff\\xe8\\xff\\xf7\\xff\\x1a\\x00$\\x004\\x00K\\x00<\\x00 \\x00&\\x00?\\x00N\\x00d\\x00}\\x00\\x95\\x00\\xa7\\x00}\\x00*\\x00\\r\\x00\\x1c\\x000\\x00N\\x00>\\x00\\x1e\\x00&\\x00\\x1e\\x00\\x12\\x00\\x05\\x00\\xf5\\xff\\x01\\x00\\x0f\\x00#\\x00\\x1f\\x00\\xfa\\xff\\x03\\x00\\x19\\x00\\x08\\x00\\xff\\xff\\t\\x00\\xf6\\xff\\xd9\\xff\\xce\\xff\\xbb\\xff\\xa1\\xff\\x8f\\xff\\x98\\xff\\xb6\\xff\\xbb\\xff\\x9a\\xff\\x83\\xff\\x97\\xff\\xa8\\xffu\\xffI\\xffc\\xffk\\xff\\\\\\xffr\\xff}\\xffi\\xffa\\xff^\\xffX\\xffk\\xff\\x82\\xff\\x8b\\xff\\x8e\\xff\\x88\\xff~\\xffb\\xffE\\xffS\\xff\\x82\\xff\\x96\\xff\\x7f\\xffc\\xff_\\xff|\\xff{\\xffV\\xff[\\xffw\\xff\\x8a\\xff\\x94\\xff\\xa0\\xff\\x9e\\xffi\\xffO\\xffs\\xff\\x85\\xff\\x86\\xff\\x91\\xff\\xa6\\xff\\xcd\\xff\\xec\\xff\\xf1\\xff\\xe2\\xff\\xdb\\xff\\xef\\xff\\xe9\\xff\\xdc\\xff\\xd6\\xff\\xac\\xffy\\xffb\\xffv\\xff\\x89\\xffu\\xffY\\xffH\\xffa\\xff\\x9a\\xff\\xb5\\xff\\xad\\xff\\xa9\\xff\\xad\\xff\\x97\\xff\\x83\\xff\\x8e\\xff\\x95\\xff\\x9b\\xff\\x9a\\xffo\\xffO\\xffS\\xff`\\xff|\\xffu\\xff]\\xff\\x80\\xff\\x9b\\xff\\x88\\xff\\x98\\xff\\xbe\\xff\\xa3\\xff\\x80\\xff\\xa7\\xff\\xce\\xff\\xc4\\xff\\xc1\\xff\\xcd\\xff\\xcc\\xff\\xc5\\xff\\xb5\\xff\\xa0\\xff\\x95\\xff\\x95\\xff\\xa6\\xff\\xb5\\xff\\xba\\xff\\xbc\\xff\\xb8\\xff\\xcc\\xff\\xdc\\xff\\xd1\\xff\\xca\\xff\\xba\\xff\\xba\\xff\\xac\\xffc\\xffK\\xffX\\xffO\\xffl\\xff\\x96\\xff\\xaf\\xff\\xc6\\xff\\xd2\\xff\\xd6\\xff\\xdf\\xff\\xec\\xff\\xea\\xff\\xd0\\xff\\xb1\\xff\\xa8\\xff\\xa8\\xff\\xa6\\xff\\xc7\\xff\\xd3\\xff\\xb2\\xff\\xb3\\xff\\xa5\\xffl\\xffa\\xffw\\xffw\\xffj\\xff[\\xffH\\xffN\\xffp\\xff}\\xff}\\xff\\x90\\xff\\x91\\xffx\\xffs\\xff\\x8a\\xff\\x91\\xff\\x83\\xff\\x8c\\xff\\x91\\xff\\x95\\xff\\xbb\\xff\\xb8\\xff\\xa1\\xff\\xcc\\xff\\xf1\\xff\\xf0\\xff\\x12\\x00G\\x00Y\\x00R\\x00H\\x00T\\x00l\\x00\\x87\\x00\\x96\\x00\\x8e\\x00\\xa2\\x00\\xb2\\x00\\xa1\\x00\\x9b\\x00\\xa7\\x00\\xc1\\x00\\xc0\\x00\\xa5\\x00\\x7f\\x00G\\x00.\\x00,\\x00\\x16\\x00\\x02\\x00\\xf6\\xff\\xce\\xff\\xbb\\xff\\xd6\\xff\\xcf\\xff\\xd3\\xff\\x15\\x001\\x00 \\x00!\\x00+\\x00\\x1f\\x00\\r\\x00\\x1a\\x00\\x12\\x00\\xdc\\xff\\xce\\xff\\xe1\\xff\\xd4\\xff\\xc8\\xff\\xe5\\xff\\xfe\\xff\\xe7\\xff\\xd7\\xff\\xe6\\xff\\xeb\\xff\\xe9\\xff\\xda\\xff\\xd1\\xff\\xe9\\xff\\x12\\x004\\x00\\x1b\\x00\\xf0\\xff\\xed\\xff\\xf5\\xff\\xf2\\xff\\xf4\\xff\\x0c\\x00\\x1d\\x00\\x1b\\x00\\x16\\x00&\\x00W\\x00l\\x00`\\x00f\\x00s\\x00|\\x00\\x94\\x00\\x97\\x00e\\x00C\\x00J\\x00H\\x00M\\x00f\\x00\\x86\\x00\\x93\\x00d\\x00P\\x00f\\x00E\\x00.\\x00d\\x00w\\x00C\\x00*\\x00%\\x00\\x04\\x00\\x01\\x00/\\x006\\x00\\x04\\x00\\xff\\xff\\x05\\x00\\xdf\\xff\\xcb\\xff\\xad\\xff\\x97\\xff\\xb6\\xff\\xd2\\xff\\xd0\\xff\\xa1\\xff\\x8f\\xff\\xb6\\xff\\xbd\\xff\\xc1\\xff\\xe8\\xff\\x02\\x00\\xfb\\xff\\xf3\\xff\\xf8\\xff\\xfe\\xff\\xf0\\xff\\xe9\\xff\\x02\\x00\\x06\\x00\\x0c\\x00\\x15\\x00\\xf1\\xff\\xcd\\xff\\xbd\\xff\\xc4\\xff\\xe1\\xff\\xdf\\xff\\xd7\\xff\\xe4\\xff\\xe1\\xff\\xdd\\xff\\xe1\\xff\\xda\\xff\\xf0\\xff\\x13\\x00\\x0f\\x00\\xfc\\xff\\xfb\\xff\\xfb\\xff\\x01\\x00\\n\\x00\\x08\\x00\\x12\\x004\\x00F\\x00.\\x00\\x1d\\x00$\\x00\\n\\x00\\xde\\xff\\xce\\xff\\xcd\\xff\\xf1\\xff4\\x00J\\x00<\\x000\\x006\\x003\\x00\\x14\\x00\\x11\\x00\\x19\\x00\\x06\\x00\\xf6\\xff\\x02\\x009\\x00U\\x00:\\x00\"\\x00\\x12\\x00\\x03\\x00\\xf9\\xff\\r\\x00\\x10\\x00\\x02\\x00\\x11\\x00\\xf5\\xff\\xe7\\xff\\x14\\x00\\x15\\x00\\xf9\\xff\\xed\\xff\\x02\\x00#\\x00\\x1f\\x00\\x13\\x00\\x18\\x00;\\x00X\\x00F\\x00O\\x00d\\x007\\x00\\x18\\x00\\x0b\\x00\\xda\\xff\\xc4\\xff\\xd2\\xff\\xe2\\xff\\xdf\\xff\\xd1\\xff\\xc9\\xff\\xc4\\xff\\xd0\\xff\\xd6\\xff\\xe1\\xff\\x01\\x00\\xee\\xff\\xb3\\xff\\xa7\\xff\\xd2\\xff\\xf8\\xff\\x0e\\x00\\x14\\x00\\x05\\x00\\x0b\\x00!\\x00\\x1f\\x00\\x1b\\x00\"\\x00 \\x00-\\x008\\x00+\\x00\\x1a\\x00$\\x00L\\x00L\\x00A\\x00C\\x00\\x0e\\x00\\xda\\xff\\xdf\\xff\\xfc\\xff\\x0b\\x00\\x11\\x00(\\x003\\x00\"\\x00\\x0c\\x00\\xf0\\xff\\xf0\\xff\\x08\\x00\\xfb\\xff\\xef\\xff\\xed\\xff\\xf0\\xff\\x0c\\x00\\x10\\x00+\\x00F\\x00\\x1b\\x00\\n\\x00\\x10\\x00\\x03\\x00\\x11\\x00 \\x00\\x1b\\x00\\x13\\x00\\x0e\\x00\\x18\\x00\\x1f\\x00\\x1d\\x00\\x17\\x00\\x01\\x00\\xee\\xff\\xe4\\xff\\xdf\\xff\\xed\\xff\\xeb\\xff\\xd3\\xff\\xc5\\xff\\xae\\xff\\xa1\\xff\\xb2\\xff\\xa7\\xff\\xa9\\xff\\xe5\\xff\\xe7\\xff\\xc4\\xff\\xef\\xff\\t\\x00\\xdc\\xff\\xd9\\xff\\x07\\x00\\x03\\x00\\xdf\\xff\\xec\\xff\\xf9\\xff\\xe2\\xff\\xe8\\xff\\x05\\x00\\xfc\\xff\\x02\\x000\\x000\\x00\\x10\\x00\\x01\\x00\\xdd\\xff\\xda\\xff\\xf0\\xff\\xd0\\xff\\xac\\xff\\xa2\\xff\\x8e\\xffx\\xff\\x83\\xff\\xad\\xff\\xb6\\xff\\xac\\xff\\xca\\xff\\xf1\\xff\\xea\\xff\\xcf\\xff\\xd4\\xff\\xdd\\xff\\xdf\\xff\\xfd\\xff\\x1d\\x00;\\x00_\\x00]\\x00P\\x00S\\x00A\\x00=\\x00N\\x00=\\x00\\x11\\x00\\xf8\\xff\\xf9\\xff\\x0f\\x00/\\x00;\\x00B\\x00L\\x00D\\x00A\\x00(\\x00\\t\\x00\\x14\\x00\\x11\\x00\\x05\\x00\\x05\\x00\\xfe\\xff\\x10\\x00*\\x00=\\x00W\\x00l\\x00\\x83\\x00\\xa9\\x00\\xbe\\x00\\x9e\\x00n\\x00A\\x00\\x12\\x00\\xfc\\xff\\xf7\\xff\\xea\\xff\\xd8\\xff\\xc1\\xff\\xa2\\xff\\xa1\\xff\\xa0\\xfft\\xffh\\xff\\x88\\xff\\xb3\\xff\\xe3\\xff\\xdf\\xff\\xcb\\xff\\xda\\xff\\xd4\\xff\\xcb\\xff\\xca\\xff\\xb1\\xff\\xb9\\xff\\xbb\\xff\\x85\\xffk\\xff\\x8b\\xff\\xb2\\xff\\xc7\\xff\\xd4\\xff\\xd8\\xff\\xdc\\xff\\xeb\\xff\\xef\\xff\\xff\\xff\\x10\\x00\\x07\\x00\\r\\x00\"\\x00(\\x005\\x00<\\x00\\x1b\\x00\\xf8\\xff\\xe6\\xff\\xe0\\xff\\xeb\\xff\\xf1\\xff\\xf6\\xff\\x08\\x00\\x13\\x00\\x16\\x00\\x1b\\x00\\x03\\x00\\xe8\\xff\\xf6\\xff\\xf9\\xff\\xf8\\xff\\x0c\\x00\\x0b\\x00\\x07\\x00\\x11\\x00\\x1c\\x00+\\x00?\\x00>\\x00\\x1e\\x00\\x19\\x004\\x00$\\x00\\x00\\x00\\x0c\\x00\\x1d\\x00\\x07\\x00\\xee\\xff\\xee\\xff\\xfd\\xff\\xfa\\xff\\xf3\\xff\\xfd\\xff\\xfc\\xff\\x15\\x00I\\x00S\\x00I\\x00O\\x00g\\x00\\x88\\x00\\x90\\x00~\\x00i\\x00c\\x00d\\x00Y\\x00e\\x00{\\x00\\x81\\x00t\\x00U\\x00^\\x00d\\x00H\\x00_\\x00j\\x00J\\x00L\\x00B\\x004\\x00]\\x00t\\x00d\\x00N\\x00<\\x00Z\\x00v\\x00m\\x00{\\x00\\x90\\x00\\x8c\\x00\\x83\\x00t\\x00X\\x00V\\x00]\\x00P\\x00H\\x00C\\x002\\x00)\\x00%\\x00\\x15\\x00\\x1b\\x00(\\x00\\x0e\\x00\\xfc\\xff\\x03\\x00\\x10\\x00#\\x002\\x00>\\x009\\x00D\\x00i\\x00l\\x00o\\x00\\x92\\x00\\xab\\x00\\xc1\\x00\\xd4\\x00\\xca\\x00\\xce\\x00\\xdc\\x00\\xbb\\x00\\x87\\x00h\\x00<\\x00\\x03\\x00\\xfb\\xff\\x0f\\x00\\x1c\\x00,\\x00\\x11\\x00\\xf1\\xff\\xfe\\xff\\x04\\x00\\xfd\\xff\\x07\\x00\\x1d\\x00 \\x00\\x17\\x001\\x00_\\x00n\\x00t\\x00\\x91\\x00\\x9d\\x00\\x93\\x00}\\x00Y\\x00I\\x00G\\x00<\\x003\\x001\\x00 \\x00\\xfd\\xff\\xfa\\xff%\\x000\\x00\\x1e\\x00 \\x00\\x19\\x00\\x11\\x00!\\x00%\\x00\\x1a\\x00\\x04\\x00\\xfb\\xff\\xf3\\xff\\xd0\\xff\\xd5\\xff\\xd9\\xff\\xcb\\xff\\xf8\\xff\\x15\\x00\\x17\\x00\\x1a\\x00\\xfa\\xff\\xe0\\xff\\xd0\\xff\\xd1\\xff\\xf2\\xff\\xf1\\xff\\xf1\\xff\\xf8\\xff\\xe7\\xff\\xec\\xff\\xf1\\xff\\xdb\\xff\\xde\\xff\\xe8\\xff\\xc9\\xff\\xc6\\xff\\xf6\\xff\\x08\\x00\\xf5\\xff\\xee\\xff\\x05\\x00\\xff\\xff\\xe5\\xff\\xfd\\xff\\x15\\x00\\x18\\x00 \\x00\\x12\\x00\\xfa\\xff\\xe0\\xff\\xd2\\xff\\xda\\xff\\xbd\\xff\\xab\\xff\\xbd\\xff\\xae\\xff\\xae\\xff\\xc3\\xff\\xbf\\xff\\xae\\xff\\x9a\\xff\\xa1\\xff\\xa5\\xff\\xad\\xff\\xc8\\xff\\xa1\\xffo\\xff{\\xff\\x91\\xff\\x91\\xffv\\xff[\\xffY\\xffg\\xff\\x82\\xff\\x99\\xff\\xa1\\xff\\x98\\xff\\x83\\xff}\\xff}\\xff\\x89\\xff\\xa1\\xff\\x9c\\xff\\x93\\xff\\x95\\xff\\x83\\xff\\x8a\\xff\\xa2\\xff\\x97\\xff\\x8d\\xff\\xa6\\xff\\xc9\\xff\\xcf\\xff\\xb4\\xff\\x9a\\xff\\xa0\\xff\\xb2\\xff\\xcf\\xff\\xe9\\xff\\xe0\\xff\\xd6\\xff\\xc4\\xff\\xae\\xff\\xb0\\xff\\x93\\xff\\x84\\xff\\xa4\\xff\\xb2\\xff\\xc4\\xff\\xd4\\xff\\xb5\\xff\\xbb\\xff\\xe2\\xff\\xdd\\xff\\xd9\\xff\\xe4\\xff\\xe2\\xff\\xe6\\xff\\xf6\\xff\\xfb\\xff\\xd5\\xff\\xb1\\xff\\xbe\\xff\\xba\\xff\\xa8\\xff\\xc2\\xff\\xcc\\xff\\xc3\\xff\\xe8\\xff\\x02\\x00\\xe0\\xff\\xd2\\xff\\x01\\x00\\t\\x00\\xd9\\xff\\xc9\\xff\\xd5\\xff\\xd9\\xff\\xd9\\xff\\xd8\\xff\\xd0\\xff\\xc0\\xff\\xbf\\xff\\xcf\\xff\\xd0\\xff\\xd5\\xff\\xf9\\xff\\x17\\x00\\x19\\x00\\x19\\x00\"\\x004\\x006\\x00\\x10\\x00\\xee\\xff\\xfc\\xff\\xf9\\xff\\xba\\xff\\x9b\\xff\\xab\\xff\\xa1\\xff\\x95\\xff\\xa3\\xff\\x8b\\xffK\\xff%\\xff\\x1a\\xff+\\xff;\\xff9\\xffF\\xffT\\xff^\\xffM\\xff:\\xffb\\xff\\x80\\xff\\x81\\xff\\x9e\\xff\\xbe\\xff\\xca\\xff\\xc9\\xff\\xc7\\xff\\xbf\\xff\\xb1\\xff\\xb1\\xff\\xba\\xff\\xc4\\xff\\xa8\\xff_\\xffJ\\xffi\\xff{\\xff\\x87\\xff\\x99\\xff\\xad\\xff\\xb4\\xff\\xad\\xff\\xa2\\xff\\xa3\\xff\\xb5\\xff\\xc4\\xff\\xc1\\xff\\xce\\xff\\xfa\\xff\\xfc\\xff\\xe4\\xff\\xed\\xff\\xde\\xff\\xcc\\xff\\xe2\\xff\\xf1\\xff\\xf8\\xff\\xfd\\xff\\x05\\x00,\\x00G\\x008\\x001\\x00;\\x00D\\x00O\\x00d\\x00{\\x00u\\x00X\\x00D\\x00%\\x00\\n\\x00\\x10\\x00\\x0e\\x00\\xfe\\xff\\xe2\\xff\\xc5\\xff\\xc6\\xff\\xd3\\xff\\xd0\\xff\\xaa\\xff\\x87\\xff\\x80\\xff\\x8e\\xff\\xb0\\xff\\xa3\\xff\\x96\\xff\\xc5\\xff\\xd9\\xff\\xcd\\xff\\xc9\\xff\\xdd\\xff\\xfc\\xff\\xf0\\xff\\xea\\xff\\t\\x00\\x18\\x00\\x17\\x00&\\x00=\\x00A\\x00>\\x00D\\x00:\\x00\\x1e\\x00\\x0f\\x00\\x14\\x00\\t\\x00\\xff\\xff\\x19\\x00/\\x00@\\x00^\\x00M\\x006\\x00@\\x00+\\x00\\x0f\\x00\\x06\\x00\\x08\\x00\\x1b\\x00\\x1c\\x00\\x0c\\x00\\xfd\\xff\\xfc\\xff%\\x00F\\x003\\x001\\x00O\\x00\\\\\\x00^\\x00W\\x00A\\x000\\x00,\\x00\\x1b\\x00\\x13\\x00#\\x00\\x1d\\x00\\x19\\x00\\x1e\\x00\\x19\\x00\\x11\\x00\\xf1\\xff\\xe4\\xff\\x01\\x00\\n\\x00\\x0c\\x00\\x1c\\x00\\x16\\x00\\x0e\\x00\\x0e\\x00\\xf8\\xff\\xee\\xff\\x04\\x00\\t\\x00\\xfb\\xff\\xfc\\xff\\t\\x00\\x13\\x00\\x1b\\x00\\x1d\\x00\\x0f\\x00\\n\\x00\\x1f\\x00.\\x00!\\x00\\x19\\x00\\x1c\\x00\\x1c\\x00\\x1c\\x00\"\\x00<\\x00U\\x00Z\\x00d\\x00{\\x00\\x86\\x00z\\x00i\\x00`\\x00_\\x00b\\x00m\\x00u\\x00e\\x00E\\x00A\\x00M\\x00B\\x00F\\x00O\\x00A\\x00C\\x00J\\x00C\\x00N\\x00l\\x00w\\x00x\\x00\\x7f\\x00p\\x00h\\x00q\\x00[\\x00K\\x00m\\x00l\\x00H\\x00K\\x00I\\x00<\\x00<\\x00(\\x00\\x04\\x00\\xda\\xff\\xd7\\xff\\xf0\\xff\\xe8\\xff\\xf2\\xff\\x0c\\x00\\n\\x00\\x10\\x00\\x04\\x00\\xde\\xff\\xd4\\xff\\xde\\xff\\xe3\\xff\\xe1\\xff\\xd2\\xff\\xcd\\xff\\xdc\\xff\\xde\\xff\\xea\\xff\\xf7\\xff\\xfc\\xff\\x1a\\x00\"\\x00#\\x002\\x00.\\x003\\x00:\\x00=\\x00<\\x004\\x00V\\x00~\\x00s\\x00m\\x00c\\x003\\x00#\\x005\\x00?\\x00?\\x00*\\x00&\\x00(\\x00\\x17\\x00\\x1c\\x00\\x15\\x00\\xff\\xff\\xfe\\xff\\x0e\\x005\\x00X\\x00k\\x00x\\x00i\\x00D\\x00)\\x00#\\x00\\x1d\\x00\\x17\\x00\\x14\\x00\\x01\\x00\\xeb\\xff\\xd5\\xff\\xc0\\xff\\xc2\\xff\\xbf\\xff\\xb1\\xff\\xb4\\xff\\xbc\\xff\\xc1\\xff\\xbc\\xff\\xb1\\xff\\xa7\\xff\\xa3\\xff\\xb3\\xff\\xb8\\xff\\xb0\\xff\\xbc\\xff\\xb9\\xff\\xaf\\xff\\xb3\\xff\\xa4\\xff\\x95\\xff\\x9a\\xff\\xad\\xff\\xbf\\xff\\xbe\\xff\\xba\\xff\\xba\\xff\\xb6\\xff\\xbe\\xff\\xdc\\xff\\xe6\\xff\\xe4\\xff\\xf3\\xff\\xea\\xff\\xdf\\xff\\xeb\\xff\\xeb\\xff\\xf8\\xff\\x05\\x00\\xfc\\xff\\x06\\x00\\x07\\x00\\xef\\xff\\xe7\\xff\\xd8\\xff\\xbf\\xff\\xbb\\xff\\xb8\\xff\\xc6\\xff\\xdd\\xff\\xd4\\xff\\xc6\\xff\\xbc\\xff\\xa4\\xff\\x90\\xff\\x8a\\xff\\x84\\xff\\x7f\\xff\\x88\\xff\\xa1\\xff\\xc0\\xff\\xd4\\xff\\xdf\\xff\\xef\\xff\\xe9\\xff\\xcd\\xff\\xb8\\xff\\xaa\\xff\\xa7\\xff\\xa6\\xff\\x92\\xff\\x86\\xff\\x92\\xff\\xa4\\xff\\xb2\\xff\\xca\\xff\\xe7\\xff\\xf4\\xff\\xec\\xff\\xed\\xff\\xfa\\xff\\xf7\\xff\\xfb\\xff\\x0e\\x00\\x12\\x00\\x03\\x00\\xed\\xff\\xe1\\xff\\xcf\\xff\\xc4\\xff\\xcc\\xff\\xc9\\xff\\xd4\\xff\\xed\\xff\\xe7\\xff\\xdc\\xff\\xe1\\xff\\xe9\\xff\\xe8\\xff\\xda\\xff\\xd9\\xff\\xf0\\xff\\x11\\x00,\\x00(\\x00#\\x006\\x00%\\x00\\xf6\\xff\\xf0\\xff\\xe9\\xff\\xcd\\xff\\xd5\\xff\\xe6\\xff\\xe2\\xff\\xe9\\xff\\xff\\xff$\\x007\\x00.\\x00\\x1e\\x00\\x0c\\x00\\x1e\\x00*\\x00\\x1d\\x002\\x00;\\x00C\\x00r\\x00\\x94\\x00\\x96\\x00\\x90\\x00\\x95\\x00\\x9c\\x00\\x9f\\x00\\xa9\\x00\\x90\\x00n\\x00l\\x00h\\x00[\\x00N\\x00<\\x00\\x1b\\x00\\xfc\\xff\\x05\\x00\\x1e\\x00%\\x00\\x1b\\x00)\\x00F\\x00:\\x002\\x00M\\x00]\\x00a\\x00k\\x00w\\x00v\\x00q\\x00e\\x00Z\\x00d\\x00h\\x00_\\x00c\\x00\\x7f\\x00\\x9e\\x00\\xa7\\x00\\xaf\\x00\\xb3\\x00\\x9f\\x00\\x90\\x00\\x93\\x00\\x87\\x00l\\x00c\\x00l\\x00x\\x00z\\x00r\\x00w\\x00x\\x00b\\x00T\\x00N\\x00C\\x00(\\x00\\xf8\\xff\\xd3\\xff\\xcc\\xff\\xd8\\xff\\xec\\xff\\xf5\\xff\\xeb\\xff\\xcc\\xff\\xa3\\xff\\x93\\xff\\x95\\xff\\x91\\xff\\x99\\xff\\xc0\\xff\\xe9\\xff\\x01\\x00\\x0b\\x00\\x13\\x00\\x19\\x00,\\x00B\\x009\\x004\\x00T\\x00T\\x00(\\x00\\x0f\\x00\\xff\\xff\\xe3\\xff\\xd8\\xff\\xc9\\xff\\xaf\\xff\\xae\\xff\\xad\\xff\\xa6\\xff\\xaf\\xff\\xae\\xff\\xac\\xff\\xb2\\xff\\xa7\\xff\\xa9\\xff\\xd4\\xff\\xeb\\xff\\xd7\\xff\\xd2\\xff\\xc9\\xff\\xc5\\xff\\xea\\xff\\xf3\\xff\\xd5\\xff\\xd2\\xff\\xea\\xff\\xff\\xff\\x02\\x00\\xfd\\xff\\x0c\\x00\\x1d\\x00\\x11\\x00\\x01\\x00\\xf9\\xff\\xe9\\xff\\xd6\\xff\\xc5\\xff\\xab\\xff\\x86\\xffk\\xffe\\xffd\\xffb\\xff_\\xffr\\xff\\x8e\\xff\\x9d\\xff\\xc3\\xff\\xd3\\xff\\xbc\\xff\\xc2\\xff\\xb9\\xff\\x9c\\xff\\xa2\\xff\\xb1\\xff\\xb3\\xff\\xbb\\xff\\xb7\\xff\\xa2\\xff\\xb4\\xff\\xd4\\xff\\xd4\\xff\\xe6\\xff\\xed\\xff\\xd3\\xff\\xd3\\xff\\xd9\\xff\\xdf\\xff\\xe7\\xff\\xd9\\xff\\xd5\\xff\\xd8\\xff\\xc4\\xff\\xab\\xff\\xa6\\xff\\xaf\\xff\\xb1\\xff\\xaa\\xff\\xa2\\xff\\x93\\xff\\x86\\xff\\x8e\\xff\\x99\\xff\\x91\\xff\\x9b\\xff\\xaa\\xff\\xaa\\xff\\xc6\\xff\\xdf\\xff\\xda\\xff\\xda\\xff\\xe3\\xff\\xce\\xff\\xa9\\xff\\xaf\\xff\\xd2\\xff\\xe5\\xff\\xe6\\xff\\xe5\\xff\\xd8\\xff\\xbb\\xff\\xbe\\xff\\xdf\\xff\\xf1\\xff\\xf2\\xff\\xe3\\xff\\xe1\\xff\\x04\\x00\\x06\\x00\\xef\\xff\\xf7\\xff\\xf1\\xff\\xde\\xff\\xe1\\xff\\xec\\xff\\xfb\\xff\\xff\\xff\\xf0\\xff\\xe9\\xff\\xf7\\xff\\x07\\x00\\x13\\x00(\\x00:\\x007\\x007\\x00?\\x00@\\x00K\\x00\\\\\\x00U\\x00:\\x00-\\x00-\\x00$\\x00!\\x00:\\x00@\\x00\\x1d\\x00!\\x009\\x00K\\x00v\\x00\\x7f\\x00y\\x00\\x84\\x00\\x83\\x00\\x83\\x00\\x7f\\x00\\x93\\x00\\xa8\\x00\\x9c\\x00\\xb1\\x00\\xd6\\x00\\xe5\\x00\\xed\\x00\\xe1\\x00\\xd2\\x00\\xc7\\x00\\xa3\\x00\\x83\\x00z\\x00^\\x00P\\x00R\\x004\\x00%\\x00 \\x00\\x0c\\x00\\x1c\\x00:\\x00-\\x00\\x11\\x00\\x1a\\x00!\\x00\\x1e\\x00)\\x00!\\x00\\x1a\\x00/\\x00Q\\x00S\\x00/\\x008\\x00S\\x00V\\x00`\\x00T\\x00I\\x00W\\x00L\\x00&\\x00\\x13\\x00\\x19\\x00\\x14\\x00\\x15\\x004\\x009\\x00\\x14\\x00\\xf8\\xff\\r\\x001\\x002\\x00\\x1d\\x00\\x17\\x00$\\x00&\\x00\\x18\\x00\\x1e\\x00,\\x00#\\x00\\x1f\\x003\\x007\\x00-\\x009\\x00/\\x00(\\x00A\\x00I\\x00d\\x00\\x8f\\x00\\x94\\x00\\x97\\x00\\xad\\x00\\xb3\\x00\\xa3\\x00\\x90\\x00\\x80\\x00i\\x00O\\x00H\\x00P\\x00S\\x00K\\x000\\x00\\x19\\x00\\x1f\\x00+\\x00,\\x00-\\x00\\x1f\\x00\\x13\\x00\\x1f\\x00\\x1d\\x00\\x16\\x00\\x1e\\x00\\x1f\\x00\\'\\x004\\x008\\x00K\\x00e\\x00u\\x00q\\x00K\\x00+\\x00\\x1e\\x00#\\x00>\\x00G\\x00O\\x00]\\x00T\\x00O\\x00T\\x00A\\x00\\x1f\\x00\\x19\\x00\\x1d\\x00\\x08\\x00\\xf6\\xff\\xef\\xff\\xdd\\xff\\xd6\\xff\\xe3\\xff\\xed\\xff\\xfd\\xff\\x0b\\x00\\x16\\x00\\x1a\\x00\\x15\\x00!\\x00\\x16\\x00\\xfa\\xff\\xf4\\xff\\xf4\\xff\\x02\\x00\\x05\\x00\\xe1\\xff\\xc1\\xff\\xbf\\xff\\xbc\\xff\\xa0\\xff\\x8e\\xff\\x92\\xff\\x9d\\xff\\xa9\\xff\\x98\\xffw\\xff',\n",
       " 'path': 'Ses01F_impro01_F000.wav'}"
      ]
     },
     "execution_count": 2,
     "metadata": {},
     "output_type": "execute_result"
    }
   ],
   "source": [
    "df.iloc[0].audio"
   ]
  },
  {
   "cell_type": "code",
   "execution_count": 16,
   "id": "af40ed2a",
   "metadata": {},
   "outputs": [
    {
     "name": "stderr",
     "output_type": "stream",
     "text": [
      "2025-06-14 11:57:42.127173: I tensorflow/core/platform/cpu_feature_guard.cc:182] This TensorFlow binary is optimized to use available CPU instructions in performance-critical operations.\n",
      "To enable the following instructions: AVX2 FMA, in other operations, rebuild TensorFlow with the appropriate compiler flags.\n",
      "Some weights of Wav2Vec2ForSequenceClassification were not initialized from the model checkpoint at facebook/wav2vec2-base-960h and are newly initialized: ['classifier.bias', 'classifier.weight', 'projector.bias', 'projector.weight', 'wav2vec2.masked_spec_embed']\n",
      "You should probably TRAIN this model on a down-stream task to be able to use it for predictions and inference.\n",
      "Map: 100%|██████████| 10039/10039 [14:59<00:00, 11.16 examples/s]\n"
     ]
    }
   ],
   "source": [
    "import torch\n",
    "import torchaudio\n",
    "from transformers import Wav2Vec2Processor, Wav2Vec2ForSequenceClassification\n",
    "\n",
    "# Preprocess audio\n",
    "processor = Wav2Vec2Processor.from_pretrained(\"facebook/wav2vec2-base-960h\")\n",
    "model = Wav2Vec2ForSequenceClassification.from_pretrained(\n",
    "    \"facebook/wav2vec2-base-960h\",\n",
    "    num_labels=len(np.unique(labels))\n",
    ")\n",
    "\n",
    "# Sample audio processing\n",
    "def preprocess_audio(examples):\n",
    "    audio_arrays = [x['array'] for x in examples['audio']]\n",
    "    inputs = processor(\n",
    "        audio_arrays, \n",
    "        sampling_rate=16000, \n",
    "        padding=True, \n",
    "        return_tensors=\"pt\"\n",
    "    )\n",
    "    return inputs\n",
    "\n",
    "# Apply to dataset\n",
    "audio_ds = ds['train'].map(\n",
    "    preprocess_audio,\n",
    "    batched=True,\n",
    "    batch_size=4\n",
    ")\n",
    "audio_ds = audio_ds.rename_column(\"major_emotion\", \"labels\")\n",
    "\n",
    "# Split dataset\n",
    "split_ds = audio_ds.train_test_split(test_size=0.2)\n",
    "\n",
    "# Create PyTorch DataLoader\n",
    "from torch.utils.data import DataLoader\n",
    "train_loader = DataLoader(split_ds['train'], batch_size=4, shuffle=True)\n",
    "test_loader = DataLoader(split_ds['test'], batch_size=4)"
   ]
  },
  {
   "cell_type": "code",
   "execution_count": 22,
   "id": "0fafe91d",
   "metadata": {},
   "outputs": [
    {
     "name": "stdout",
     "output_type": "stream",
     "text": [
      "Detected 10 emotion classes: ['angry', 'disgust', 'excited', 'fear', 'frustrated', 'happy', 'neutral', 'other', 'sad', 'surprise']\n"
     ]
    },
    {
     "name": "stderr",
     "output_type": "stream",
     "text": [
      "Some weights of Wav2Vec2ForSequenceClassification were not initialized from the model checkpoint at facebook/wav2vec2-base-960h and are newly initialized: ['classifier.bias', 'classifier.weight', 'projector.bias', 'projector.weight', 'wav2vec2.masked_spec_embed']\n",
      "You should probably TRAIN this model on a down-stream task to be able to use it for predictions and inference.\n",
      "Map:   0%|          | 0/10039 [00:00<?, ? examples/s]\n"
     ]
    },
    {
     "ename": "KeyError",
     "evalue": "'attention_mask'",
     "output_type": "error",
     "traceback": [
      "\u001b[0;31m---------------------------------------------------------------------------\u001b[0m",
      "\u001b[0;31mKeyError\u001b[0m                                  Traceback (most recent call last)",
      "Cell \u001b[0;32mIn[22], line 59\u001b[0m\n\u001b[1;32m     57\u001b[0m \u001b[38;5;66;03m# 5. Apply preprocessing with smaller batches\u001b[39;00m\n\u001b[1;32m     58\u001b[0m batch_size \u001b[38;5;241m=\u001b[39m \u001b[38;5;241m4\u001b[39m\n\u001b[0;32m---> 59\u001b[0m encoded_ds \u001b[38;5;241m=\u001b[39m \u001b[43mtrain_ds\u001b[49m\u001b[38;5;241;43m.\u001b[39;49m\u001b[43mmap\u001b[49m\u001b[43m(\u001b[49m\n\u001b[1;32m     60\u001b[0m \u001b[43m    \u001b[49m\u001b[43mpreprocess_function\u001b[49m\u001b[43m,\u001b[49m\n\u001b[1;32m     61\u001b[0m \u001b[43m    \u001b[49m\u001b[43mbatched\u001b[49m\u001b[38;5;241;43m=\u001b[39;49m\u001b[38;5;28;43;01mTrue\u001b[39;49;00m\u001b[43m,\u001b[49m\n\u001b[1;32m     62\u001b[0m \u001b[43m    \u001b[49m\u001b[43mbatch_size\u001b[49m\u001b[38;5;241;43m=\u001b[39;49m\u001b[43mbatch_size\u001b[49m\u001b[43m,\u001b[49m\n\u001b[1;32m     63\u001b[0m \u001b[43m    \u001b[49m\u001b[43mremove_columns\u001b[49m\u001b[38;5;241;43m=\u001b[39;49m\u001b[43mtrain_ds\u001b[49m\u001b[38;5;241;43m.\u001b[39;49m\u001b[43mcolumn_names\u001b[49m\n\u001b[1;32m     64\u001b[0m \u001b[43m)\u001b[49m\n\u001b[1;32m     66\u001b[0m \u001b[38;5;66;03m# 6. Split dataset (80/20)\u001b[39;00m\n\u001b[1;32m     67\u001b[0m split_ds \u001b[38;5;241m=\u001b[39m encoded_ds\u001b[38;5;241m.\u001b[39mtrain_test_split(test_size\u001b[38;5;241m=\u001b[39m\u001b[38;5;241m0.2\u001b[39m)\n",
      "File \u001b[0;32m~/miniconda3/envs/varm/lib/python3.8/site-packages/datasets/arrow_dataset.py:560\u001b[0m, in \u001b[0;36mtransmit_format.<locals>.wrapper\u001b[0;34m(*args, **kwargs)\u001b[0m\n\u001b[1;32m    553\u001b[0m self_format \u001b[38;5;241m=\u001b[39m {\n\u001b[1;32m    554\u001b[0m     \u001b[38;5;124m\"\u001b[39m\u001b[38;5;124mtype\u001b[39m\u001b[38;5;124m\"\u001b[39m: \u001b[38;5;28mself\u001b[39m\u001b[38;5;241m.\u001b[39m_format_type,\n\u001b[1;32m    555\u001b[0m     \u001b[38;5;124m\"\u001b[39m\u001b[38;5;124mformat_kwargs\u001b[39m\u001b[38;5;124m\"\u001b[39m: \u001b[38;5;28mself\u001b[39m\u001b[38;5;241m.\u001b[39m_format_kwargs,\n\u001b[1;32m    556\u001b[0m     \u001b[38;5;124m\"\u001b[39m\u001b[38;5;124mcolumns\u001b[39m\u001b[38;5;124m\"\u001b[39m: \u001b[38;5;28mself\u001b[39m\u001b[38;5;241m.\u001b[39m_format_columns,\n\u001b[1;32m    557\u001b[0m     \u001b[38;5;124m\"\u001b[39m\u001b[38;5;124moutput_all_columns\u001b[39m\u001b[38;5;124m\"\u001b[39m: \u001b[38;5;28mself\u001b[39m\u001b[38;5;241m.\u001b[39m_output_all_columns,\n\u001b[1;32m    558\u001b[0m }\n\u001b[1;32m    559\u001b[0m \u001b[38;5;66;03m# apply actual function\u001b[39;00m\n\u001b[0;32m--> 560\u001b[0m out: Union[\u001b[38;5;124m\"\u001b[39m\u001b[38;5;124mDataset\u001b[39m\u001b[38;5;124m\"\u001b[39m, \u001b[38;5;124m\"\u001b[39m\u001b[38;5;124mDatasetDict\u001b[39m\u001b[38;5;124m\"\u001b[39m] \u001b[38;5;241m=\u001b[39m \u001b[43mfunc\u001b[49m\u001b[43m(\u001b[49m\u001b[38;5;28;43mself\u001b[39;49m\u001b[43m,\u001b[49m\u001b[43m \u001b[49m\u001b[38;5;241;43m*\u001b[39;49m\u001b[43margs\u001b[49m\u001b[43m,\u001b[49m\u001b[43m \u001b[49m\u001b[38;5;241;43m*\u001b[39;49m\u001b[38;5;241;43m*\u001b[39;49m\u001b[43mkwargs\u001b[49m\u001b[43m)\u001b[49m\n\u001b[1;32m    561\u001b[0m datasets: List[\u001b[38;5;124m\"\u001b[39m\u001b[38;5;124mDataset\u001b[39m\u001b[38;5;124m\"\u001b[39m] \u001b[38;5;241m=\u001b[39m \u001b[38;5;28mlist\u001b[39m(out\u001b[38;5;241m.\u001b[39mvalues()) \u001b[38;5;28;01mif\u001b[39;00m \u001b[38;5;28misinstance\u001b[39m(out, \u001b[38;5;28mdict\u001b[39m) \u001b[38;5;28;01melse\u001b[39;00m [out]\n\u001b[1;32m    562\u001b[0m \u001b[38;5;66;03m# re-apply format to the output\u001b[39;00m\n",
      "File \u001b[0;32m~/miniconda3/envs/varm/lib/python3.8/site-packages/datasets/arrow_dataset.py:3055\u001b[0m, in \u001b[0;36mDataset.map\u001b[0;34m(self, function, with_indices, with_rank, input_columns, batched, batch_size, drop_last_batch, remove_columns, keep_in_memory, load_from_cache_file, cache_file_name, writer_batch_size, features, disable_nullable, fn_kwargs, num_proc, suffix_template, new_fingerprint, desc)\u001b[0m\n\u001b[1;32m   3049\u001b[0m \u001b[38;5;28;01mif\u001b[39;00m transformed_dataset \u001b[38;5;129;01mis\u001b[39;00m \u001b[38;5;28;01mNone\u001b[39;00m:\n\u001b[1;32m   3050\u001b[0m     \u001b[38;5;28;01mwith\u001b[39;00m hf_tqdm(\n\u001b[1;32m   3051\u001b[0m         unit\u001b[38;5;241m=\u001b[39m\u001b[38;5;124m\"\u001b[39m\u001b[38;5;124m examples\u001b[39m\u001b[38;5;124m\"\u001b[39m,\n\u001b[1;32m   3052\u001b[0m         total\u001b[38;5;241m=\u001b[39mpbar_total,\n\u001b[1;32m   3053\u001b[0m         desc\u001b[38;5;241m=\u001b[39mdesc \u001b[38;5;129;01mor\u001b[39;00m \u001b[38;5;124m\"\u001b[39m\u001b[38;5;124mMap\u001b[39m\u001b[38;5;124m\"\u001b[39m,\n\u001b[1;32m   3054\u001b[0m     ) \u001b[38;5;28;01mas\u001b[39;00m pbar:\n\u001b[0;32m-> 3055\u001b[0m         \u001b[38;5;28;01mfor\u001b[39;00m rank, done, content \u001b[38;5;129;01min\u001b[39;00m Dataset\u001b[38;5;241m.\u001b[39m_map_single(\u001b[38;5;241m*\u001b[39m\u001b[38;5;241m*\u001b[39mdataset_kwargs):\n\u001b[1;32m   3056\u001b[0m             \u001b[38;5;28;01mif\u001b[39;00m done:\n\u001b[1;32m   3057\u001b[0m                 shards_done \u001b[38;5;241m+\u001b[39m\u001b[38;5;241m=\u001b[39m \u001b[38;5;241m1\u001b[39m\n",
      "File \u001b[0;32m~/miniconda3/envs/varm/lib/python3.8/site-packages/datasets/arrow_dataset.py:3458\u001b[0m, in \u001b[0;36mDataset._map_single\u001b[0;34m(shard, function, with_indices, with_rank, input_columns, batched, batch_size, drop_last_batch, remove_columns, keep_in_memory, cache_file_name, writer_batch_size, features, disable_nullable, fn_kwargs, new_fingerprint, rank, offset)\u001b[0m\n\u001b[1;32m   3454\u001b[0m indices \u001b[38;5;241m=\u001b[39m \u001b[38;5;28mlist\u001b[39m(\n\u001b[1;32m   3455\u001b[0m     \u001b[38;5;28mrange\u001b[39m(\u001b[38;5;241m*\u001b[39m(\u001b[38;5;28mslice\u001b[39m(i, i \u001b[38;5;241m+\u001b[39m batch_size)\u001b[38;5;241m.\u001b[39mindices(shard\u001b[38;5;241m.\u001b[39mnum_rows)))\n\u001b[1;32m   3456\u001b[0m )  \u001b[38;5;66;03m# Something simpler?\u001b[39;00m\n\u001b[1;32m   3457\u001b[0m \u001b[38;5;28;01mtry\u001b[39;00m:\n\u001b[0;32m-> 3458\u001b[0m     batch \u001b[38;5;241m=\u001b[39m \u001b[43mapply_function_on_filtered_inputs\u001b[49m\u001b[43m(\u001b[49m\n\u001b[1;32m   3459\u001b[0m \u001b[43m        \u001b[49m\u001b[43mbatch\u001b[49m\u001b[43m,\u001b[49m\n\u001b[1;32m   3460\u001b[0m \u001b[43m        \u001b[49m\u001b[43mindices\u001b[49m\u001b[43m,\u001b[49m\n\u001b[1;32m   3461\u001b[0m \u001b[43m        \u001b[49m\u001b[43mcheck_same_num_examples\u001b[49m\u001b[38;5;241;43m=\u001b[39;49m\u001b[38;5;28;43mlen\u001b[39;49m\u001b[43m(\u001b[49m\u001b[43mshard\u001b[49m\u001b[38;5;241;43m.\u001b[39;49m\u001b[43mlist_indexes\u001b[49m\u001b[43m(\u001b[49m\u001b[43m)\u001b[49m\u001b[43m)\u001b[49m\u001b[43m \u001b[49m\u001b[38;5;241;43m>\u001b[39;49m\u001b[43m \u001b[49m\u001b[38;5;241;43m0\u001b[39;49m\u001b[43m,\u001b[49m\n\u001b[1;32m   3462\u001b[0m \u001b[43m        \u001b[49m\u001b[43moffset\u001b[49m\u001b[38;5;241;43m=\u001b[39;49m\u001b[43moffset\u001b[49m\u001b[43m,\u001b[49m\n\u001b[1;32m   3463\u001b[0m \u001b[43m    \u001b[49m\u001b[43m)\u001b[49m\n\u001b[1;32m   3464\u001b[0m \u001b[38;5;28;01mexcept\u001b[39;00m NumExamplesMismatchError:\n\u001b[1;32m   3465\u001b[0m     \u001b[38;5;28;01mraise\u001b[39;00m DatasetTransformationNotAllowedError(\n\u001b[1;32m   3466\u001b[0m         \u001b[38;5;124m\"\u001b[39m\u001b[38;5;124mUsing `.map` in batched mode on a dataset with attached indexes is allowed only if it doesn\u001b[39m\u001b[38;5;124m'\u001b[39m\u001b[38;5;124mt create or remove existing examples. You can first run `.drop_index() to remove your index and then re-add it.\u001b[39m\u001b[38;5;124m\"\u001b[39m\n\u001b[1;32m   3467\u001b[0m     ) \u001b[38;5;28;01mfrom\u001b[39;00m \u001b[38;5;28;01mNone\u001b[39;00m\n",
      "File \u001b[0;32m~/miniconda3/envs/varm/lib/python3.8/site-packages/datasets/arrow_dataset.py:3320\u001b[0m, in \u001b[0;36mDataset._map_single.<locals>.apply_function_on_filtered_inputs\u001b[0;34m(pa_inputs, indices, check_same_num_examples, offset)\u001b[0m\n\u001b[1;32m   3318\u001b[0m \u001b[38;5;28;01mif\u001b[39;00m with_rank:\n\u001b[1;32m   3319\u001b[0m     additional_args \u001b[38;5;241m+\u001b[39m\u001b[38;5;241m=\u001b[39m (rank,)\n\u001b[0;32m-> 3320\u001b[0m processed_inputs \u001b[38;5;241m=\u001b[39m \u001b[43mfunction\u001b[49m\u001b[43m(\u001b[49m\u001b[38;5;241;43m*\u001b[39;49m\u001b[43mfn_args\u001b[49m\u001b[43m,\u001b[49m\u001b[43m \u001b[49m\u001b[38;5;241;43m*\u001b[39;49m\u001b[43madditional_args\u001b[49m\u001b[43m,\u001b[49m\u001b[43m \u001b[49m\u001b[38;5;241;43m*\u001b[39;49m\u001b[38;5;241;43m*\u001b[39;49m\u001b[43mfn_kwargs\u001b[49m\u001b[43m)\u001b[49m\n\u001b[1;32m   3321\u001b[0m \u001b[38;5;28;01mif\u001b[39;00m \u001b[38;5;28misinstance\u001b[39m(processed_inputs, LazyDict):\n\u001b[1;32m   3322\u001b[0m     processed_inputs \u001b[38;5;241m=\u001b[39m {\n\u001b[1;32m   3323\u001b[0m         k: v \u001b[38;5;28;01mfor\u001b[39;00m k, v \u001b[38;5;129;01min\u001b[39;00m processed_inputs\u001b[38;5;241m.\u001b[39mdata\u001b[38;5;241m.\u001b[39mitems() \u001b[38;5;28;01mif\u001b[39;00m k \u001b[38;5;129;01mnot\u001b[39;00m \u001b[38;5;129;01min\u001b[39;00m processed_inputs\u001b[38;5;241m.\u001b[39mkeys_to_format\n\u001b[1;32m   3324\u001b[0m     }\n",
      "Cell \u001b[0;32mIn[22], line 53\u001b[0m, in \u001b[0;36mpreprocess_function\u001b[0;34m(examples)\u001b[0m\n\u001b[1;32m     48\u001b[0m         \u001b[38;5;28mprint\u001b[39m(\u001b[38;5;124mf\u001b[39m\u001b[38;5;124m\"\u001b[39m\u001b[38;5;124mWarning: Unknown emotion \u001b[39m\u001b[38;5;124m'\u001b[39m\u001b[38;5;132;01m{\u001b[39;00memotion\u001b[38;5;132;01m}\u001b[39;00m\u001b[38;5;124m'\u001b[39m\u001b[38;5;124m, using default\u001b[39m\u001b[38;5;124m\"\u001b[39m)\n\u001b[1;32m     49\u001b[0m         labels\u001b[38;5;241m.\u001b[39mappend(\u001b[38;5;241m0\u001b[39m)  \u001b[38;5;66;03m# Default to first class\u001b[39;00m\n\u001b[1;32m     51\u001b[0m \u001b[38;5;28;01mreturn\u001b[39;00m {\n\u001b[1;32m     52\u001b[0m     \u001b[38;5;124m'\u001b[39m\u001b[38;5;124minput_values\u001b[39m\u001b[38;5;124m'\u001b[39m: inputs[\u001b[38;5;124m'\u001b[39m\u001b[38;5;124minput_values\u001b[39m\u001b[38;5;124m'\u001b[39m],        \u001b[38;5;66;03m# FIX: Use dict access\u001b[39;00m\n\u001b[0;32m---> 53\u001b[0m     \u001b[38;5;124m'\u001b[39m\u001b[38;5;124mattention_mask\u001b[39m\u001b[38;5;124m'\u001b[39m: \u001b[43minputs\u001b[49m\u001b[43m[\u001b[49m\u001b[38;5;124;43m'\u001b[39;49m\u001b[38;5;124;43mattention_mask\u001b[39;49m\u001b[38;5;124;43m'\u001b[39;49m\u001b[43m]\u001b[49m,    \u001b[38;5;66;03m# FIX: Use dict access\u001b[39;00m\n\u001b[1;32m     54\u001b[0m     \u001b[38;5;124m'\u001b[39m\u001b[38;5;124mlabels\u001b[39m\u001b[38;5;124m'\u001b[39m: torch\u001b[38;5;241m.\u001b[39mtensor(labels)\n\u001b[1;32m     55\u001b[0m }\n",
      "File \u001b[0;32m~/miniconda3/envs/varm/lib/python3.8/site-packages/transformers/feature_extraction_utils.py:87\u001b[0m, in \u001b[0;36mBatchFeature.__getitem__\u001b[0;34m(self, item)\u001b[0m\n\u001b[1;32m     82\u001b[0m \u001b[38;5;250m\u001b[39m\u001b[38;5;124;03m\"\"\"\u001b[39;00m\n\u001b[1;32m     83\u001b[0m \u001b[38;5;124;03mIf the key is a string, returns the value of the dict associated to `key` ('input_values', 'attention_mask',\u001b[39;00m\n\u001b[1;32m     84\u001b[0m \u001b[38;5;124;03metc.).\u001b[39;00m\n\u001b[1;32m     85\u001b[0m \u001b[38;5;124;03m\"\"\"\u001b[39;00m\n\u001b[1;32m     86\u001b[0m \u001b[38;5;28;01mif\u001b[39;00m \u001b[38;5;28misinstance\u001b[39m(item, \u001b[38;5;28mstr\u001b[39m):\n\u001b[0;32m---> 87\u001b[0m     \u001b[38;5;28;01mreturn\u001b[39;00m \u001b[38;5;28;43mself\u001b[39;49m\u001b[38;5;241;43m.\u001b[39;49m\u001b[43mdata\u001b[49m\u001b[43m[\u001b[49m\u001b[43mitem\u001b[49m\u001b[43m]\u001b[49m\n\u001b[1;32m     88\u001b[0m \u001b[38;5;28;01melse\u001b[39;00m:\n\u001b[1;32m     89\u001b[0m     \u001b[38;5;28;01mraise\u001b[39;00m \u001b[38;5;167;01mKeyError\u001b[39;00m(\u001b[38;5;124m\"\u001b[39m\u001b[38;5;124mIndexing with integers is not available when using Python based feature extractors\u001b[39m\u001b[38;5;124m\"\u001b[39m)\n",
      "\u001b[0;31mKeyError\u001b[0m: 'attention_mask'"
     ]
    }
   ],
   "source": [
    "import torch\n",
    "from transformers import Wav2Vec2Processor, Wav2Vec2ForSequenceClassification, Trainer, TrainingArguments\n",
    "from datasets import load_dataset\n",
    "import evaluate\n",
    "import numpy as np\n",
    "\n",
    "# 1. Load dataset\n",
    "ds = load_dataset(\"AbstractTTS/IEMOCAP\")\n",
    "train_ds = ds['train']\n",
    "\n",
    "# 2. Prepare label mapping\n",
    "emotions = train_ds['major_emotion']\n",
    "unique_emotions = sorted(set(emotions))\n",
    "label2id = {label: i for i, label in enumerate(unique_emotions)}\n",
    "id2label = {i: label for i, label in enumerate(unique_emotions)}\n",
    "num_labels = len(unique_emotions)\n",
    "\n",
    "print(f\"Detected {num_labels} emotion classes: {unique_emotions}\")\n",
    "\n",
    "# 3. Initialize processor and model\n",
    "processor = Wav2Vec2Processor.from_pretrained(\"facebook/wav2vec2-base-960h\")\n",
    "model = Wav2Vec2ForSequenceClassification.from_pretrained(\n",
    "    \"facebook/wav2vec2-base-960h\",\n",
    "    num_labels=num_labels,\n",
    "    label2id=label2id,\n",
    "    id2label=id2label\n",
    ")\n",
    "\n",
    "# 4. FIXED: Audio preprocessing function (use dict access instead of attributes)\n",
    "def preprocess_function(examples):\n",
    "    audio_arrays = [x['array'] for x in examples['audio']]\n",
    "    inputs = processor(\n",
    "        audio_arrays, \n",
    "        sampling_rate=16000, \n",
    "        padding=True, \n",
    "        truncation=True,\n",
    "        max_length=48000,  # 3 seconds at 16kHz\n",
    "        return_tensors=\"pt\"\n",
    "    )\n",
    "    \n",
    "    # Convert emotion labels to IDs\n",
    "    labels = []\n",
    "    for emotion in examples['major_emotion']:\n",
    "        if emotion in label2id:\n",
    "            labels.append(label2id[emotion])\n",
    "        else:\n",
    "            # Handle any unexpected labels\n",
    "            print(f\"Warning: Unknown emotion '{emotion}', using default\")\n",
    "            labels.append(0)  # Default to first class\n",
    "    \n",
    "    return {\n",
    "        'input_values': inputs['input_values'],        # FIX: Use dict access\n",
    "        'attention_mask': inputs['attention_mask'],    # FIX: Use dict access\n",
    "        'labels': torch.tensor(labels)\n",
    "    }\n",
    "\n",
    "# 5. Apply preprocessing with smaller batches\n",
    "batch_size = 4\n",
    "encoded_ds = train_ds.map(\n",
    "    preprocess_function,\n",
    "    batched=True,\n",
    "    batch_size=batch_size,\n",
    "    remove_columns=train_ds.column_names\n",
    ")\n",
    "\n",
    "# 6. Split dataset (80/20)\n",
    "split_ds = encoded_ds.train_test_split(test_size=0.2)\n",
    "\n",
    "# 7. Set up training arguments\n",
    "training_args = TrainingArguments(\n",
    "    output_dir=\"./emotion_classifier_results\",\n",
    "    evaluation_strategy=\"epoch\",\n",
    "    learning_rate=3e-5,\n",
    "    per_device_train_batch_size=batch_size,\n",
    "    per_device_eval_batch_size=batch_size,\n",
    "    num_train_epochs=3,\n",
    "    weight_decay=0.01,\n",
    "    logging_dir=\"./logs\",\n",
    "    logging_steps=10,\n",
    "    save_strategy=\"epoch\",\n",
    "    load_best_model_at_end=True,\n",
    "    fp16=torch.cuda.is_available(),\n",
    ")\n",
    "\n",
    "# 8. Metrics function\n",
    "def compute_metrics(p):\n",
    "    predictions, labels = p\n",
    "    predictions = np.argmax(predictions, axis=1)\n",
    "    \n",
    "    accuracy = evaluate.load(\"accuracy\")\n",
    "    f1 = evaluate.load(\"f1\")\n",
    "    \n",
    "    return {\n",
    "        \"accuracy\": accuracy.compute(predictions=predictions, references=labels)[\"accuracy\"],\n",
    "        \"f1\": f1.compute(predictions=predictions, references=labels, average=\"weighted\")[\"f1\"]\n",
    "    }\n",
    "\n",
    "# 9. Create Trainer\n",
    "trainer = Trainer(\n",
    "    model=model,\n",
    "    args=training_args,\n",
    "    train_dataset=split_ds[\"train\"],\n",
    "    eval_dataset=split_ds[\"test\"],\n",
    "    compute_metrics=compute_metrics,\n",
    ")\n",
    "\n",
    "# 10. Train and evaluate\n",
    "print(\"Starting training...\")\n",
    "trainer.train()\n",
    "\n",
    "print(\"\\nEvaluation results:\")\n",
    "results = trainer.evaluate()\n",
    "print(results)\n",
    "\n",
    "# Save model\n",
    "trainer.save_model(\"./emotion_classifier_final\")\n",
    "print(\"Model saved successfully!\")"
   ]
  },
  {
   "cell_type": "markdown",
   "id": "0a8b4615",
   "metadata": {},
   "source": [
    "# Train with audio"
   ]
  },
  {
   "cell_type": "code",
   "execution_count": null,
   "id": "133c2bb0",
   "metadata": {},
   "outputs": [],
   "source": [
    "import torch\n",
    "from transformers import Wav2Vec2Processor, Wav2Vec2ForSequenceClassification, Trainer, TrainingArguments\n",
    "from datasets import load_dataset, load_metric\n",
    "import numpy as np\n",
    "\n",
    "# 1. Load dataset with streaming to avoid memory issues\n",
    "ds = load_dataset(\"AbstractTTS/IEMOCAP\", streaming=True)\n",
    "train_ds = ds['train']\n",
    "\n",
    "# 2. Prepare label mappings\n",
    "label_names = train_ds.features['major_emotion'].names\n",
    "label2id = {label: i for i, label in enumerate(label_names)}\n",
    "id2label = {i: label for i, label in enumerate(label_names)}\n",
    "\n",
    "# 3. Initialize processor and model\n",
    "processor = Wav2Vec2Processor.from_pretrained(\"facebook/wav2vec2-base-960h\")\n",
    "model = Wav2Vec2ForSequenceClassification.from_pretrained(\n",
    "    \"facebook/wav2vec2-base-960h\",\n",
    "    num_labels=len(label_names),\n",
    "    label2id=label2id,\n",
    "    id2label=id2label\n",
    ")\n",
    "\n",
    "# 4. Audio preprocessing function\n",
    "def preprocess_function(examples):\n",
    "    audio_arrays = [x['array'] for x in examples['audio']]\n",
    "    inputs = processor(\n",
    "        audio_arrays, \n",
    "        sampling_rate=16000, \n",
    "        padding=True, \n",
    "        truncation=True,\n",
    "        max_length=100000,  # ~6 seconds at 16kHz\n",
    "        return_tensors=\"pt\"\n",
    "    )\n",
    "    labels = [label2id[emotion] for emotion in examples['major_emotion']]\n",
    "    return {\n",
    "        'input_values': inputs.input_values,\n",
    "        'attention_mask': inputs.attention_mask,\n",
    "        'labels': labels\n",
    "    }\n",
    "\n",
    "# 5. Apply preprocessing in batches\n",
    "batch_size = 4\n",
    "encoded_ds = train_ds.map(\n",
    "    preprocess_function,\n",
    "    batched=True,\n",
    "    batch_size=batch_size,\n",
    "    remove_columns=train_ds.column_names\n",
    ")\n",
    "\n",
    "# 6. Split dataset (80/20)\n",
    "split_ds = encoded_ds.train_test_split(test_size=0.2)\n",
    "\n",
    "# 7. Set up training arguments\n",
    "training_args = TrainingArguments(\n",
    "    output_dir=\"./results\",\n",
    "    evaluation_strategy=\"epoch\",\n",
    "    learning_rate=3e-5,\n",
    "    per_device_train_batch_size=batch_size,\n",
    "    per_device_eval_batch_size=batch_size,\n",
    "    num_train_epochs=5,\n",
    "    weight_decay=0.01,\n",
    "    logging_dir=\"./logs\",\n",
    "    logging_steps=10,\n",
    "    save_strategy=\"epoch\",\n",
    "    load_best_model_at_end=True,\n",
    ")\n",
    "\n",
    "# 8. Metrics function\n",
    "def compute_metrics(p):\n",
    "    predictions, labels = p\n",
    "    predictions = np.argmax(predictions, axis=1)\n",
    "    accuracy = load_metric(\"accuracy\").compute(predictions=predictions, references=labels)[\"accuracy\"]\n",
    "    f1 = load_metric(\"f1\").compute(predictions=predictions, references=labels, average=\"weighted\")[\"f1\"]\n",
    "    return {\"accuracy\": accuracy, \"f1\": f1}\n",
    "\n",
    "# 9. Create Trainer\n",
    "trainer = Trainer(\n",
    "    model=model,\n",
    "    args=training_args,\n",
    "    train_dataset=split_ds[\"train\"],\n",
    "    eval_dataset=split_ds[\"test\"],\n",
    "    compute_metrics=compute_metrics,\n",
    ")\n",
    "\n",
    "# 10. Train and evaluate\n",
    "trainer.train()\n",
    "results = trainer.evaluate()\n",
    "print(results)"
   ]
  },
  {
   "cell_type": "code",
   "execution_count": 25,
   "id": "6d6b9b35",
   "metadata": {},
   "outputs": [
    {
     "name": "stderr",
     "output_type": "stream",
     "text": [
      "/Users/sofiafernandes/miniconda3/envs/varm/lib/python3.8/site-packages/sklearn/metrics/_classification.py:1471: UndefinedMetricWarning: Precision and F-score are ill-defined and being set to 0.0 in labels with no predicted samples. Use `zero_division` parameter to control this behavior.\n",
      "  _warn_prf(average, modifier, msg_start, len(result))\n",
      "/Users/sofiafernandes/miniconda3/envs/varm/lib/python3.8/site-packages/sklearn/metrics/_classification.py:1471: UndefinedMetricWarning: Precision and F-score are ill-defined and being set to 0.0 in labels with no predicted samples. Use `zero_division` parameter to control this behavior.\n",
      "  _warn_prf(average, modifier, msg_start, len(result))\n",
      "/Users/sofiafernandes/miniconda3/envs/varm/lib/python3.8/site-packages/sklearn/metrics/_classification.py:1471: UndefinedMetricWarning: Precision and F-score are ill-defined and being set to 0.0 in labels with no predicted samples. Use `zero_division` parameter to control this behavior.\n",
      "  _warn_prf(average, modifier, msg_start, len(result))\n"
     ]
    },
    {
     "name": "stdout",
     "output_type": "stream",
     "text": [
      "Performance SVM with feature scaling\n",
      "               precision    recall  f1-score   support\n",
      "\n",
      "       angry       0.62      0.20      0.31       382\n",
      "     disgust       0.00      0.00      0.00         1\n",
      "     excited       0.55      0.01      0.02       579\n",
      "        fear       0.00      0.00      0.00        31\n",
      "  frustrated       0.33      0.86      0.48       912\n",
      "       happy       0.00      0.00      0.00       202\n",
      "     neutral       0.00      0.00      0.00       523\n",
      "       other       0.00      0.00      0.00         9\n",
      "         sad       0.33      0.48      0.39       346\n",
      "    surprise       0.00      0.00      0.00        27\n",
      "\n",
      "    accuracy                           0.34      3012\n",
      "   macro avg       0.18      0.16      0.12      3012\n",
      "weighted avg       0.32      0.34      0.23      3012\n",
      "\n"
     ]
    },
    {
     "data": {
      "image/png": "[encoded data removed]",
      "text/plain": [
       "<Figure size 1000x800 with 2 Axes>"
      ]
     },
     "metadata": {},
     "output_type": "display_data"
    }
   ],
   "source": [
    "from sklearn.preprocessing import StandardScaler\n",
    "from sklearn import svm\n",
    "from sklearn.metrics import classification_report, confusion_matrix, accuracy_score\n",
    "import matplotlib.pyplot as plt\n",
    "import seaborn as sns\n",
    "\n",
    "\n",
    "## Simple SVM(1) classifier with feature scaling (2)\n",
    "# Standardize features by removing the mean and scaling to unit variance\n",
    "scaler = StandardScaler()\n",
    "X_train_scaled = scaler.fit_transform(X_train)\n",
    "X_test_scaled = scaler.transform(X_test)\n",
    "# Train the model\n",
    "clf12 = svm.SVC(kernel='linear')\n",
    "clf12.fit(X_train_scaled, y_train)\n",
    "pred12 = clf12.predict(X_test_scaled)\n",
    "print(\"Performance SVM with feature scaling\\n\", classification_report(y_test, pred12))\n",
    "\n",
    "# Generate a confusion matrix\n",
    "cm = confusion_matrix(y_test, pred12)\n",
    "\n",
    "# Plot the confusion matrix\n",
    "plt.figure(figsize=(10, 8))\n",
    "sns.heatmap(cm, annot=True, fmt='d', cmap='Blues', xticklabels=set(label_names), yticklabels=set(label_names))\n",
    "plt.xlabel('Predicted')\n",
    "plt.ylabel('True')\n",
    "plt.title('Confusion Matrix')\n",
    "plt.show()"
   ]
  },
  {
   "cell_type": "code",
   "execution_count": 34,
   "id": "72a62f5a",
   "metadata": {},
   "outputs": [
    {
     "name": "stderr",
     "output_type": "stream",
     "text": [
      "Extracting features: 0it [00:00, ?it/s]'(ReadTimeoutError(\"HTTPSConnectionPool(host='cdn-lfs-us-1.hf.co', port=443): Read timed out. (read timeout=10)\"), '(Request ID: 98429dea-6cf8-4303-b90b-13198d83ae99)')' thrown while requesting GET https://huggingface.co/datasets/AbstractTTS/IEMOCAP/resolve/9f1696a135a65ce997d898d4121c952269a822ca/data/train-00000-of-00003.parquet\n",
      "Retrying in 1s [Retry 1/5].\n",
      "Extracting features: 19it [00:14,  7.26it/s]'(ReadTimeoutError(\"HTTPSConnectionPool(host='huggingface.co', port=443): Read timed out. (read timeout=10)\"), '(Request ID: a9bc1a06-1513-41ff-a90c-e1e364434530)')' thrown while requesting GET https://huggingface.co/datasets/AbstractTTS/IEMOCAP/resolve/9f1696a135a65ce997d898d4121c952269a822ca/data/train-00000-of-00003.parquet\n",
      "Retrying in 1s [Retry 1/5].\n",
      "Extracting features: 19it [00:32,  7.26it/s]'(ReadTimeoutError(\"HTTPSConnectionPool(host='cdn-lfs-us-1.hf.co', port=443): Read timed out. (read timeout=10)\"), '(Request ID: ba22c314-b7ed-4864-89ba-3db28e5f3602)')' thrown while requesting GET https://huggingface.co/datasets/AbstractTTS/IEMOCAP/resolve/9f1696a135a65ce997d898d4121c952269a822ca/data/train-00000-of-00003.parquet\n",
      "Retrying in 2s [Retry 2/5].\n",
      "'(ReadTimeoutError(\"HTTPSConnectionPool(host='huggingface.co', port=443): Read timed out. (read timeout=10)\"), '(Request ID: d6d7946a-6e6a-4996-88b6-fe1ff97effd4)')' thrown while requesting GET https://huggingface.co/datasets/AbstractTTS/IEMOCAP/resolve/9f1696a135a65ce997d898d4121c952269a822ca/data/train-00000-of-00003.parquet\n",
      "Retrying in 1s [Retry 1/5].\n",
      "'(ReadTimeoutError(\"HTTPSConnectionPool(host='cdn-lfs-us-1.hf.co', port=443): Read timed out. (read timeout=10)\"), '(Request ID: 2ae0d2be-3ee6-444e-b3af-f0b6bbad243f)')' thrown while requesting GET https://huggingface.co/datasets/AbstractTTS/IEMOCAP/resolve/9f1696a135a65ce997d898d4121c952269a822ca/data/train-00000-of-00003.parquet\n",
      "Retrying in 2s [Retry 2/5].\n",
      "Extracting features: 68it [01:08,  7.02it/s]'(ReadTimeoutError(\"HTTPSConnectionPool(host='huggingface.co', port=443): Read timed out. (read timeout=10)\"), '(Request ID: a4e7cf47-368d-4fea-823d-895b152bca38)')' thrown while requesting GET https://huggingface.co/datasets/AbstractTTS/IEMOCAP/resolve/9f1696a135a65ce997d898d4121c952269a822ca/data/train-00000-of-00003.parquet\n",
      "Retrying in 1s [Retry 1/5].\n",
      "'(ReadTimeoutError(\"HTTPSConnectionPool(host='cdn-lfs-us-1.hf.co', port=443): Read timed out. (read timeout=10)\"), '(Request ID: cbb675bc-19a0-4e29-a3e8-05a47271c1dc)')' thrown while requesting GET https://huggingface.co/datasets/AbstractTTS/IEMOCAP/resolve/9f1696a135a65ce997d898d4121c952269a822ca/data/train-00000-of-00003.parquet\n",
      "Retrying in 2s [Retry 2/5].\n",
      "'(ReadTimeoutError(\"HTTPSConnectionPool(host='huggingface.co', port=443): Read timed out. (read timeout=10)\"), '(Request ID: d9ae80aa-57a8-4ac1-9581-93874652e8f2)')' thrown while requesting GET https://huggingface.co/datasets/AbstractTTS/IEMOCAP/resolve/9f1696a135a65ce997d898d4121c952269a822ca/data/train-00000-of-00003.parquet\n",
      "Retrying in 1s [Retry 1/5].\n",
      "'(ReadTimeoutError(\"HTTPSConnectionPool(host='cdn-lfs-us-1.hf.co', port=443): Read timed out. (read timeout=10)\"), '(Request ID: 2b4c4ed4-634b-4f0d-9522-b75e0c495b6e)')' thrown while requesting GET https://huggingface.co/datasets/AbstractTTS/IEMOCAP/resolve/9f1696a135a65ce997d898d4121c952269a822ca/data/train-00000-of-00003.parquet\n",
      "Retrying in 2s [Retry 2/5].\n",
      "Extracting features: 115it [02:04,  8.02it/s]'(ReadTimeoutError(\"HTTPSConnectionPool(host='huggingface.co', port=443): Read timed out. (read timeout=10)\"), '(Request ID: bfd883dd-6483-4087-8308-c020fb88e7f7)')' thrown while requesting GET https://huggingface.co/datasets/AbstractTTS/IEMOCAP/resolve/9f1696a135a65ce997d898d4121c952269a822ca/data/train-00000-of-00003.parquet\n",
      "Retrying in 1s [Retry 1/5].\n",
      "'(ReadTimeoutError(\"HTTPSConnectionPool(host='cdn-lfs-us-1.hf.co', port=443): Read timed out. (read timeout=10)\"), '(Request ID: 21c11b0e-b1e4-413b-83c4-e3e4d2ab8205)')' thrown while requesting GET https://huggingface.co/datasets/AbstractTTS/IEMOCAP/resolve/9f1696a135a65ce997d898d4121c952269a822ca/data/train-00000-of-00003.parquet\n",
      "Retrying in 2s [Retry 2/5].\n",
      "'(ReadTimeoutError(\"HTTPSConnectionPool(host='huggingface.co', port=443): Read timed out. (read timeout=10)\"), '(Request ID: b58d6b81-e864-448c-88bc-50fc2282ecd2)')' thrown while requesting GET https://huggingface.co/datasets/AbstractTTS/IEMOCAP/resolve/9f1696a135a65ce997d898d4121c952269a822ca/data/train-00000-of-00003.parquet\n",
      "Retrying in 1s [Retry 1/5].\n",
      "'(ReadTimeoutError(\"HTTPSConnectionPool(host='cdn-lfs-us-1.hf.co', port=443): Read timed out. (read timeout=10)\"), '(Request ID: 53f16ef3-d8e3-4206-b89f-4983cc57b219)')' thrown while requesting GET https://huggingface.co/datasets/AbstractTTS/IEMOCAP/resolve/9f1696a135a65ce997d898d4121c952269a822ca/data/train-00000-of-00003.parquet\n",
      "Retrying in 2s [Retry 2/5].\n",
      "Extracting features: 133it [02:54,  4.58it/s]'(ReadTimeoutError(\"HTTPSConnectionPool(host='huggingface.co', port=443): Read timed out. (read timeout=10)\"), '(Request ID: b8898c5e-7057-4334-b44a-75eeaccbc857)')' thrown while requesting GET https://huggingface.co/datasets/AbstractTTS/IEMOCAP/resolve/9f1696a135a65ce997d898d4121c952269a822ca/data/train-00000-of-00003.parquet\n",
      "Retrying in 1s [Retry 1/5].\n",
      "'(ReadTimeoutError(\"HTTPSConnectionPool(host='cdn-lfs-us-1.hf.co', port=443): Read timed out. (read timeout=10)\"), '(Request ID: 6166c162-f19c-4699-9d01-57eed88a0ad0)')' thrown while requesting GET https://huggingface.co/datasets/AbstractTTS/IEMOCAP/resolve/9f1696a135a65ce997d898d4121c952269a822ca/data/train-00000-of-00003.parquet\n",
      "Retrying in 2s [Retry 2/5].\n",
      "Extracting features: 163it [03:24,  7.94it/s]'(ReadTimeoutError(\"HTTPSConnectionPool(host='huggingface.co', port=443): Read timed out. (read timeout=10)\"), '(Request ID: 6a95ac57-c6d4-4215-9dcf-32039c5d439b)')' thrown while requesting GET https://huggingface.co/datasets/AbstractTTS/IEMOCAP/resolve/9f1696a135a65ce997d898d4121c952269a822ca/data/train-00000-of-00003.parquet\n",
      "Retrying in 1s [Retry 1/5].\n",
      "'(ReadTimeoutError(\"HTTPSConnectionPool(host='cdn-lfs-us-1.hf.co', port=443): Read timed out. (read timeout=10)\"), '(Request ID: 9f1362e9-aa95-49cb-bb0d-98d418274dc6)')' thrown while requesting GET https://huggingface.co/datasets/AbstractTTS/IEMOCAP/resolve/9f1696a135a65ce997d898d4121c952269a822ca/data/train-00000-of-00003.parquet\n",
      "Retrying in 2s [Retry 2/5].\n",
      "'(ReadTimeoutError(\"HTTPSConnectionPool(host='huggingface.co', port=443): Read timed out. (read timeout=10)\"), '(Request ID: b0e441b2-8ac6-4de0-9c4c-6e0315ffccec)')' thrown while requesting GET https://huggingface.co/datasets/AbstractTTS/IEMOCAP/resolve/9f1696a135a65ce997d898d4121c952269a822ca/data/train-00000-of-00003.parquet\n",
      "Retrying in 1s [Retry 1/5].\n",
      "'(ReadTimeoutError(\"HTTPSConnectionPool(host='cdn-lfs-us-1.hf.co', port=443): Read timed out. (read timeout=10)\"), '(Request ID: 140cb4e2-f823-4fc1-bfee-e3cc62930d26)')' thrown while requesting GET https://huggingface.co/datasets/AbstractTTS/IEMOCAP/resolve/9f1696a135a65ce997d898d4121c952269a822ca/data/train-00000-of-00003.parquet\n",
      "Retrying in 2s [Retry 2/5].\n",
      "Extracting features: 219it [04:24,  3.54it/s]'(ReadTimeoutError(\"HTTPSConnectionPool(host='huggingface.co', port=443): Read timed out. (read timeout=10)\"), '(Request ID: 77fc5a6d-d6f4-44d2-afae-44fdfdc648c3)')' thrown while requesting GET https://huggingface.co/datasets/AbstractTTS/IEMOCAP/resolve/9f1696a135a65ce997d898d4121c952269a822ca/data/train-00000-of-00003.parquet\n",
      "Retrying in 1s [Retry 1/5].\n",
      "'(ReadTimeoutError(\"HTTPSConnectionPool(host='cdn-lfs-us-1.hf.co', port=443): Read timed out. (read timeout=10)\"), '(Request ID: c0a0b0aa-4cd0-483e-ad82-d3598799da7a)')' thrown while requesting GET https://huggingface.co/datasets/AbstractTTS/IEMOCAP/resolve/9f1696a135a65ce997d898d4121c952269a822ca/data/train-00000-of-00003.parquet\n",
      "Retrying in 2s [Retry 2/5].\n",
      "Extracting features: 235it [04:51,  5.00it/s]'(ReadTimeoutError(\"HTTPSConnectionPool(host='huggingface.co', port=443): Read timed out. (read timeout=10)\"), '(Request ID: ec792176-be5c-4c2d-b46f-0da636ccaea7)')' thrown while requesting GET https://huggingface.co/datasets/AbstractTTS/IEMOCAP/resolve/9f1696a135a65ce997d898d4121c952269a822ca/data/train-00000-of-00003.parquet\n",
      "Retrying in 1s [Retry 1/5].\n",
      "'(ReadTimeoutError(\"HTTPSConnectionPool(host='cdn-lfs-us-1.hf.co', port=443): Read timed out. (read timeout=10)\"), '(Request ID: 9ba10096-dc2e-4b8d-8d58-bda904a34e9e)')' thrown while requesting GET https://huggingface.co/datasets/AbstractTTS/IEMOCAP/resolve/9f1696a135a65ce997d898d4121c952269a822ca/data/train-00000-of-00003.parquet\n",
      "Retrying in 2s [Retry 2/5].\n",
      "Extracting features: 290it [05:26,  5.83it/s]'(ReadTimeoutError(\"HTTPSConnectionPool(host='huggingface.co', port=443): Read timed out. (read timeout=10)\"), '(Request ID: e0543f0d-d1da-4111-a9da-86da1977af79)')' thrown while requesting GET https://huggingface.co/datasets/AbstractTTS/IEMOCAP/resolve/9f1696a135a65ce997d898d4121c952269a822ca/data/train-00000-of-00003.parquet\n",
      "Retrying in 1s [Retry 1/5].\n",
      "'(ReadTimeoutError(\"HTTPSConnectionPool(host='cdn-lfs-us-1.hf.co', port=443): Read timed out. (read timeout=10)\"), '(Request ID: 5d541753-200b-4276-9117-e5852aa2b9db)')' thrown while requesting GET https://huggingface.co/datasets/AbstractTTS/IEMOCAP/resolve/9f1696a135a65ce997d898d4121c952269a822ca/data/train-00000-of-00003.parquet\n",
      "Retrying in 2s [Retry 2/5].\n",
      "Extracting features: 1726it [11:18,  2.54it/s]"
     ]
    },
    {
     "name": "stdout",
     "output_type": "stream",
     "text": [
      "Final dataset size: 1726 samples\n",
      "Class distribution: [   0    0    0 1726]\n"
     ]
    },
    {
     "name": "stderr",
     "output_type": "stream",
     "text": [
      "\n"
     ]
    },
    {
     "ename": "ValueError",
     "evalue": "The number of classes has to be greater than one; got 1 class",
     "output_type": "error",
     "traceback": [
      "\u001b[0;31m---------------------------------------------------------------------------\u001b[0m",
      "\u001b[0;31mValueError\u001b[0m                                Traceback (most recent call last)",
      "Cell \u001b[0;32mIn[34], line 73\u001b[0m\n\u001b[1;32m     71\u001b[0m \u001b[38;5;66;03m# 3. Train SVM\u001b[39;00m\n\u001b[1;32m     72\u001b[0m clf \u001b[38;5;241m=\u001b[39m SVC(kernel\u001b[38;5;241m=\u001b[39m\u001b[38;5;124m'\u001b[39m\u001b[38;5;124mlinear\u001b[39m\u001b[38;5;124m'\u001b[39m, random_state\u001b[38;5;241m=\u001b[39m\u001b[38;5;241m42\u001b[39m, probability\u001b[38;5;241m=\u001b[39m\u001b[38;5;28;01mTrue\u001b[39;00m)\n\u001b[0;32m---> 73\u001b[0m \u001b[43mclf\u001b[49m\u001b[38;5;241;43m.\u001b[39;49m\u001b[43mfit\u001b[49m\u001b[43m(\u001b[49m\u001b[43mX_train_scaled\u001b[49m\u001b[43m,\u001b[49m\u001b[43m \u001b[49m\u001b[43my_train\u001b[49m\u001b[43m)\u001b[49m\n\u001b[1;32m     75\u001b[0m \u001b[38;5;66;03m# 4. Evaluate\u001b[39;00m\n\u001b[1;32m     76\u001b[0m y_pred \u001b[38;5;241m=\u001b[39m clf\u001b[38;5;241m.\u001b[39mpredict(X_test_scaled)\n",
      "File \u001b[0;32m~/miniconda3/envs/varm/lib/python3.8/site-packages/sklearn/base.py:1152\u001b[0m, in \u001b[0;36m_fit_context.<locals>.decorator.<locals>.wrapper\u001b[0;34m(estimator, *args, **kwargs)\u001b[0m\n\u001b[1;32m   1145\u001b[0m     estimator\u001b[38;5;241m.\u001b[39m_validate_params()\n\u001b[1;32m   1147\u001b[0m \u001b[38;5;28;01mwith\u001b[39;00m config_context(\n\u001b[1;32m   1148\u001b[0m     skip_parameter_validation\u001b[38;5;241m=\u001b[39m(\n\u001b[1;32m   1149\u001b[0m         prefer_skip_nested_validation \u001b[38;5;129;01mor\u001b[39;00m global_skip_validation\n\u001b[1;32m   1150\u001b[0m     )\n\u001b[1;32m   1151\u001b[0m ):\n\u001b[0;32m-> 1152\u001b[0m     \u001b[38;5;28;01mreturn\u001b[39;00m \u001b[43mfit_method\u001b[49m\u001b[43m(\u001b[49m\u001b[43mestimator\u001b[49m\u001b[43m,\u001b[49m\u001b[43m \u001b[49m\u001b[38;5;241;43m*\u001b[39;49m\u001b[43margs\u001b[49m\u001b[43m,\u001b[49m\u001b[43m \u001b[49m\u001b[38;5;241;43m*\u001b[39;49m\u001b[38;5;241;43m*\u001b[39;49m\u001b[43mkwargs\u001b[49m\u001b[43m)\u001b[49m\n",
      "File \u001b[0;32m~/miniconda3/envs/varm/lib/python3.8/site-packages/sklearn/svm/_base.py:199\u001b[0m, in \u001b[0;36mBaseLibSVM.fit\u001b[0;34m(self, X, y, sample_weight)\u001b[0m\n\u001b[1;32m    189\u001b[0m \u001b[38;5;28;01melse\u001b[39;00m:\n\u001b[1;32m    190\u001b[0m     X, y \u001b[38;5;241m=\u001b[39m \u001b[38;5;28mself\u001b[39m\u001b[38;5;241m.\u001b[39m_validate_data(\n\u001b[1;32m    191\u001b[0m         X,\n\u001b[1;32m    192\u001b[0m         y,\n\u001b[0;32m   (...)\u001b[0m\n\u001b[1;32m    196\u001b[0m         accept_large_sparse\u001b[38;5;241m=\u001b[39m\u001b[38;5;28;01mFalse\u001b[39;00m,\n\u001b[1;32m    197\u001b[0m     )\n\u001b[0;32m--> 199\u001b[0m y \u001b[38;5;241m=\u001b[39m \u001b[38;5;28;43mself\u001b[39;49m\u001b[38;5;241;43m.\u001b[39;49m\u001b[43m_validate_targets\u001b[49m\u001b[43m(\u001b[49m\u001b[43my\u001b[49m\u001b[43m)\u001b[49m\n\u001b[1;32m    201\u001b[0m sample_weight \u001b[38;5;241m=\u001b[39m np\u001b[38;5;241m.\u001b[39masarray(\n\u001b[1;32m    202\u001b[0m     [] \u001b[38;5;28;01mif\u001b[39;00m sample_weight \u001b[38;5;129;01mis\u001b[39;00m \u001b[38;5;28;01mNone\u001b[39;00m \u001b[38;5;28;01melse\u001b[39;00m sample_weight, dtype\u001b[38;5;241m=\u001b[39mnp\u001b[38;5;241m.\u001b[39mfloat64\n\u001b[1;32m    203\u001b[0m )\n\u001b[1;32m    204\u001b[0m solver_type \u001b[38;5;241m=\u001b[39m LIBSVM_IMPL\u001b[38;5;241m.\u001b[39mindex(\u001b[38;5;28mself\u001b[39m\u001b[38;5;241m.\u001b[39m_impl)\n",
      "File \u001b[0;32m~/miniconda3/envs/varm/lib/python3.8/site-packages/sklearn/svm/_base.py:747\u001b[0m, in \u001b[0;36mBaseSVC._validate_targets\u001b[0;34m(self, y)\u001b[0m\n\u001b[1;32m    745\u001b[0m \u001b[38;5;28mself\u001b[39m\u001b[38;5;241m.\u001b[39mclass_weight_ \u001b[38;5;241m=\u001b[39m compute_class_weight(\u001b[38;5;28mself\u001b[39m\u001b[38;5;241m.\u001b[39mclass_weight, classes\u001b[38;5;241m=\u001b[39m\u001b[38;5;28mcls\u001b[39m, y\u001b[38;5;241m=\u001b[39my_)\n\u001b[1;32m    746\u001b[0m \u001b[38;5;28;01mif\u001b[39;00m \u001b[38;5;28mlen\u001b[39m(\u001b[38;5;28mcls\u001b[39m) \u001b[38;5;241m<\u001b[39m \u001b[38;5;241m2\u001b[39m:\n\u001b[0;32m--> 747\u001b[0m     \u001b[38;5;28;01mraise\u001b[39;00m \u001b[38;5;167;01mValueError\u001b[39;00m(\n\u001b[1;32m    748\u001b[0m         \u001b[38;5;124m\"\u001b[39m\u001b[38;5;124mThe number of classes has to be greater than one; got \u001b[39m\u001b[38;5;132;01m%d\u001b[39;00m\u001b[38;5;124m class\u001b[39m\u001b[38;5;124m\"\u001b[39m\n\u001b[1;32m    749\u001b[0m         \u001b[38;5;241m%\u001b[39m \u001b[38;5;28mlen\u001b[39m(\u001b[38;5;28mcls\u001b[39m)\n\u001b[1;32m    750\u001b[0m     )\n\u001b[1;32m    752\u001b[0m \u001b[38;5;28mself\u001b[39m\u001b[38;5;241m.\u001b[39mclasses_ \u001b[38;5;241m=\u001b[39m \u001b[38;5;28mcls\u001b[39m\n\u001b[1;32m    754\u001b[0m \u001b[38;5;28;01mreturn\u001b[39;00m np\u001b[38;5;241m.\u001b[39masarray(y, dtype\u001b[38;5;241m=\u001b[39mnp\u001b[38;5;241m.\u001b[39mfloat64, order\u001b[38;5;241m=\u001b[39m\u001b[38;5;124m\"\u001b[39m\u001b[38;5;124mC\u001b[39m\u001b[38;5;124m\"\u001b[39m)\n",
      "\u001b[0;31mValueError\u001b[0m: The number of classes has to be greater than one; got 1 class"
     ]
    }
   ],
   "source": [
    "\n",
    "from datasets import load_dataset\n",
    "import numpy as np\n",
    "\n",
    "# 1. Load dataset\n",
    "ds = load_dataset(\"AbstractTTS/IEMOCAP\", streaming=True)\n",
    "train_ds = ds['train']\n",
    "\n",
    "# 2. Define target classes\n",
    "target_classes = [\"happiness\", \"anger\", \"sadness\", \"neutral\"]\n",
    "\n",
    "# 3. Filter dataset\n",
    "def filter_classes(example):\n",
    "    return example['major_emotion'].lower() in target_classes\n",
    "\n",
    "filtered_ds = train_ds.filter(filter_classes)\n",
    "\n",
    "# 4. Prepare label mapping\n",
    "label2id = {cls: idx for idx, cls in enumerate(target_classes)}\n",
    "id2label = {idx: cls for idx, cls in enumerate(target_classes)}\n",
    "\n",
    "import opensmile\n",
    "from tqdm import tqdm\n",
    "\n",
    "# Initialize OpenSMILE\n",
    "smile = opensmile.Smile(\n",
    "    feature_set=opensmile.FeatureSet.GeMAPSv01b, #eGeMAPSv02,\n",
    "    feature_level=opensmile.FeatureLevel.Functionals,\n",
    ")\n",
    "\n",
    "# Extract features\n",
    "X = []\n",
    "y = []\n",
    "\n",
    "for example in tqdm(filtered_ds, desc=\"Extracting features\"):\n",
    "    try:\n",
    "        audio_data = example['audio']\n",
    "        features = smile.process_signal(\n",
    "            audio_data['array'], \n",
    "            audio_data['sampling_rate']\n",
    "        ).values.flatten()\n",
    "        \n",
    "        X.append(features)\n",
    "        y.append(label2id[example['major_emotion'].lower()])\n",
    "    except Exception as e:\n",
    "        print(f\"Skipping file due to error: {e}\")\n",
    "\n",
    "X = np.array(X)\n",
    "y = np.array(y)\n",
    "\n",
    "print(f\"Final dataset size: {len(X)} samples\")\n",
    "print(f\"Class distribution: {np.bincount(y)}\")\n",
    "\n",
    "\n",
    "from sklearn.model_selection import train_test_split\n",
    "from sklearn.preprocessing import StandardScaler\n",
    "from sklearn.svm import SVC\n",
    "from sklearn.metrics import classification_report, confusion_matrix, accuracy_score\n",
    "import matplotlib.pyplot as plt\n",
    "import seaborn as sns\n",
    "\n",
    "# 1. Split dataset\n",
    "X_train, X_test, y_train, y_test = train_test_split(\n",
    "    X, y, test_size=0.2, random_state=42, stratify=y\n",
    ")\n",
    "\n",
    "# 2. Scale features\n",
    "scaler = StandardScaler()\n",
    "X_train_scaled = scaler.fit_transform(X_train)\n",
    "X_test_scaled = scaler.transform(X_test)\n",
    "\n",
    "# 3. Train SVM\n",
    "clf = SVC(kernel='linear', random_state=42, probability=True)\n",
    "clf.fit(X_train_scaled, y_train)\n",
    "\n",
    "# 4. Evaluate\n",
    "y_pred = clf.predict(X_test_scaled)\n",
    "\n",
    "print(\"Classification Report:\")\n",
    "print(classification_report(y_test, y_pred, target_names=target_classes))\n",
    "\n",
    "print(f\"Overall Accuracy: {accuracy_score(y_test, y_pred):.4f}\")\n",
    "\n",
    "# 5. Confusion Matrix\n",
    "cm = confusion_matrix(y_test, y_pred)\n",
    "plt.figure(figsize=(10, 8))\n",
    "sns.heatmap(cm, annot=True, fmt='d', cmap='Blues', \n",
    "            xticklabels=target_classes, \n",
    "            yticklabels=target_classes)\n",
    "plt.xlabel('Predicted')\n",
    "plt.ylabel('True')\n",
    "plt.title('Confusion Matrix for Emotion Recognition')\n",
    "plt.show()"
   ]
  },
  {
   "cell_type": "code",
   "execution_count": null,
   "id": "b3539f31",
   "metadata": {},
   "outputs": [],
   "source": [
    "# Class distribution visualization\n",
    "plt.figure(figsize=(10, 6))\n",
    "sns.countplot(x=y)\n",
    "plt.xticks(ticks=range(len(target_classes)), labels=target_classes)\n",
    "plt.title('Class Distribution in Filtered Dataset')\n",
    "plt.show()\n",
    "\n",
    "# Feature importance analysis\n",
    "coef = clf.coef_\n",
    "plt.figure(figsize=(12, 6))\n",
    "sns.barplot(x=np.arange(len(coef[0])[:50], y=np.mean(np.abs(coef), axis=0)[:50]))\n",
    "plt.title('Top 50 Most Important Features (Average Absolute Coefficient)')\n",
    "plt.xlabel('Feature Index')\n",
    "plt.ylabel('Average |Coefficient|')\n",
    "plt.show()"
   ]
  },
  {
   "cell_type": "markdown",
   "id": "d34f43f0",
   "metadata": {},
   "source": [
    "# OpenSMILE"
   ]
  },
  {
   "cell_type": "code",
   "execution_count": null,
   "id": "eae6cc18",
   "metadata": {},
   "outputs": [
    {
     "name": "stderr",
     "output_type": "stream",
     "text": [
      "Extracting OpenSMILE features:   0%|          | 22/10039 [00:00<00:00, 44171.70it/s]"
     ]
    },
    {
     "name": "stdout",
     "output_type": "stream",
     "text": [
      "Error processing example: string indices must be integers\n",
      "Error processing example: string indices must be integers\n",
      "Error processing example: string indices must be integers\n",
      "Error processing example: string indices must be integers\n",
      "Error processing example: string indices must be integers\n",
      "Error processing example: string indices must be integers\n",
      "Error processing example: string indices must be integers\n",
      "Error processing example: string indices must be integers\n",
      "Error processing example: string indices must be integers\n",
      "Error processing example: string indices must be integers\n",
      "Error processing example: string indices must be integers\n",
      "Error processing example: string indices must be integers\n",
      "Error processing example: string indices must be integers\n",
      "Error processing example: string indices must be integers\n",
      "Error processing example: string indices must be integers\n",
      "Error processing example: string indices must be integers\n",
      "Error processing example: string indices must be integers\n",
      "Error processing example: string indices must be integers\n",
      "Error processing example: string indices must be integers\n",
      "Error processing example: string indices must be integers\n",
      "Error processing example: string indices must be integers\n",
      "Error processing example: string indices must be integers\n"
     ]
    },
    {
     "name": "stderr",
     "output_type": "stream",
     "text": [
      "\n"
     ]
    }
   ],
   "source": [
    "import opensmile\n",
    "import numpy as np\n",
    "from tqdm import tqdm\n",
    "\n",
    "# Initialize OpenSMILE with GeMAPS feature set\n",
    "smile = opensmile.Smile(\n",
    "    feature_set=opensmile.FeatureSet.GeMAPSv01b,\n",
    "    feature_level=opensmile.FeatureLevel.Functionals,\n",
    ")\n",
    "\n",
    "def extract_opensmile_features(audio_dict):\n",
    "    \"\"\"\n",
    "    Extract OpenSMILE features from audio dictionary\n",
    "    Returns flattened feature vector of 6373 dimensions\n",
    "    \"\"\"\n",
    "    audio_array = audio_dict['array']\n",
    "    sampling_rate = audio_dict['sampling_rate']\n",
    "    \n",
    "    # Process audio signal\n",
    "    features = smile.process_signal(audio_array, sampling_rate)\n",
    "    \n",
    "    # Return as flattened numpy array\n",
    "    return features.values.flatten()\n",
    "\n",
    "# Extract features from the dataset\n",
    "X = []\n",
    "y = []\n",
    "\n",
    "# Process with progress bar\n",
    "for example in tqdm(df, total=10039, desc=\"Extracting OpenSMILE features\"):\n",
    "    try:\n",
    "        features = extract_opensmile_features(example['audio'])\n",
    "        X.append(features)\n",
    "        y.append(example['major_emotion'])\n",
    "    except Exception as e:\n",
    "        print(f\"Error processing example: {e}\")\n",
    "        continue\n",
    "\n",
    "# Convert to numpy arrays\n",
    "X = np.array(X)\n",
    "y = np.array(y)\n",
    "\n",
    "# Save features to disk for later use\n",
    "np.savez('iemocap_GeMAPSv01a_features.npz', X=X, y=y)\n",
    "\n",
    "# Load features from disk\n",
    "data = np.load('iemocap_GeMAPSv01a_features.npz')\n",
    "X = data['X']\n",
    "y = data['y']\n",
    "\n"
   ]
  },
  {
   "cell_type": "code",
   "execution_count": 38,
   "id": "17c361ae",
   "metadata": {},
   "outputs": [
    {
     "name": "stdout",
     "output_type": "stream",
     "text": [
      "Classification Report:\n",
      "              precision    recall  f1-score   support\n",
      "\n",
      "       angry       0.54      0.26      0.35       260\n",
      "     disgust       0.00      0.00      0.00         1\n",
      "     excited       0.39      0.27      0.32       394\n",
      "        fear       0.00      0.00      0.00        24\n",
      "  frustrated       0.38      0.67      0.49       602\n",
      "       happy       0.00      0.00      0.00       130\n",
      "     neutral       0.31      0.24      0.27       344\n",
      "       other       0.00      0.00      0.00         7\n",
      "         sad       0.44      0.54      0.49       227\n",
      "    surprise       0.00      0.00      0.00        19\n",
      "\n",
      "    accuracy                           0.39      2008\n",
      "   macro avg       0.21      0.20      0.19      2008\n",
      "weighted avg       0.36      0.39      0.35      2008\n",
      "\n"
     ]
    },
    {
     "data": {
      "image/png": "[encoded data removed]",
      "text/plain": [
       "<Figure size 1200x1000 with 2 Axes>"
      ]
     },
     "metadata": {},
     "output_type": "display_data"
    },
    {
     "name": "stdout",
     "output_type": "stream",
     "text": [
      "Overall Accuracy: 0.3904382470119522.\n"
     ]
    }
   ],
   "source": [
    "from sklearn.model_selection import train_test_split\n",
    "from sklearn.preprocessing import StandardScaler, LabelEncoder\n",
    "from sklearn import svm\n",
    "from sklearn.metrics import classification_report, confusion_matrix\n",
    "import matplotlib.pyplot as plt\n",
    "import seaborn as sns\n",
    "\n",
    "# Encode string labels to integers\n",
    "le = LabelEncoder()\n",
    "y_encoded = le.fit_transform(y)\n",
    "\n",
    "# Split dataset (80/20)\n",
    "X_train, X_test, y_train, y_test = train_test_split(\n",
    "    X, y_encoded, test_size=0.2, random_state=42\n",
    ")\n",
    "\n",
    "# Standardize features\n",
    "scaler = StandardScaler()\n",
    "X_train_scaled = scaler.fit_transform(X_train)\n",
    "X_test_scaled = scaler.transform(X_test)\n",
    "\n",
    "# Train SVM classifier\n",
    "clf = svm.SVC(kernel='linear', probability=True, random_state=42)\n",
    "clf.fit(X_train_scaled, y_train)\n",
    "\n",
    "# Evaluate\n",
    "y_pred = clf.predict(X_test_scaled)\n",
    "\n",
    "# Classification report\n",
    "print(\"Classification Report:\")\n",
    "print(classification_report(y_test, y_pred, target_names=le.classes_))\n",
    "\n",
    "# Confusion matrix\n",
    "cm = confusion_matrix(y_test, y_pred)\n",
    "plt.figure(figsize=(12, 10))\n",
    "sns.heatmap(cm, annot=True, fmt='d', cmap='Blues', \n",
    "            xticklabels=le.classes_, \n",
    "            yticklabels=le.classes_)\n",
    "plt.xlabel('Predicted')\n",
    "plt.ylabel('True')\n",
    "plt.title('Confusion Matrix')\n",
    "plt.show()\n",
    "\n",
    "# Accuracy score\n",
    "accuracy = accuracy_score(y_test, y_pred)\n",
    "print(f\"Overall Accuracy: {accuracy}.\")"
   ]
  },
  {
   "cell_type": "markdown",
   "id": "4881298b",
   "metadata": {},
   "source": [
    "eGeMAPSv02: Overall Accuracy: 0.399402390438247.\n",
    "\n",
    "GeMAPSv01b Overall Accuracy: 0.39243027888446214.\n",
    "\n",
    "GeMAPSv01a "
   ]
  },
  {
   "cell_type": "code",
   "execution_count": 29,
   "id": "a8fb1468",
   "metadata": {},
   "outputs": [
    {
     "data": {
      "text/plain": [
       "10039"
      ]
     },
     "execution_count": 29,
     "metadata": {},
     "output_type": "execute_result"
    }
   ],
   "source": [
    "len(train_ds)"
   ]
  },
  {
   "cell_type": "code",
   "execution_count": 1,
   "id": "6e7f8f7f",
   "metadata": {},
   "outputs": [
    {
     "name": "stdout",
     "output_type": "stream",
     "text": [
      "Extracted 10039 samples with 62 features each.\n",
      "Class distribution: {'angry': 1269, 'disgust': 2, 'excited': 1976, 'fear': 107, 'frustrated': 2917, 'happy': 656, 'neutral': 1726, 'other': 26, 'sad': 1250, 'surprise': 110}\n"
     ]
    },
    {
     "data": {
      "image/png": "[encoded data removed]",
      "text/plain": [
       "<Figure size 1000x600 with 1 Axes>"
      ]
     },
     "metadata": {},
     "output_type": "display_data"
    }
   ],
   "source": [
    "from sklearn.model_selection import GridSearchCV\n",
    "from sklearn import svm\n",
    "import pandas as pd\n",
    "import matplotlib.pyplot as plt\n",
    "import seaborn as sns\n",
    "import numpy as np\n",
    "\n",
    "# Load the saved features\n",
    "data = np.load('iemocap_GeMAPSv01a_features.npz')\n",
    "X = data['X']\n",
    "y = data['y']\n",
    "print(f\"Extracted {X.shape[0]} samples with {X.shape[1]} features each.\")\n",
    "# Check class distribution\n",
    "unique, counts = np.unique(y, return_counts=True)\n",
    "class_distribution = dict(zip(unique, counts))\n",
    "print(\"Class distribution:\", class_distribution)\n",
    "\n",
    "# Visualize class distribution\n",
    "plt.figure(figsize=(10, 6))\n",
    "sns.countplot(y=y, order=sorted(class_distribution.keys()))\n",
    "plt.title('Class Distribution in IEMOCAP Dataset')\n",
    "plt.xlabel('Emotion')\n",
    "plt.ylabel('Count')\n",
    "plt.xticks(rotation=45)\n",
    "plt.show()\n",
    "\n"
   ]
  },
  {
   "cell_type": "code",
   "execution_count": 2,
   "id": "b7e590e6",
   "metadata": {},
   "outputs": [
    {
     "name": "stdout",
     "output_type": "stream",
     "text": [
      "Training set shape: (8031, 62), Testing set shape: (2008, 62)\n",
      "Fitting 5 folds for each of 18 candidates, totalling 90 fits\n"
     ]
    },
    {
     "name": "stderr",
     "output_type": "stream",
     "text": [
      "/Users/sofiafernandes/miniconda3/envs/varm/lib/python3.8/site-packages/sklearn/model_selection/_split.py:737: UserWarning: The least populated class in y has only 2 members, which is less than n_splits=5.\n",
      "  warnings.warn(\n"
     ]
    },
    {
     "name": "stdout",
     "output_type": "stream",
     "text": [
      "[CV] END .........................C=0.1, gamma=1, kernel=rbf; total time=  11.6s\n",
      "[CV] END .........................C=0.1, gamma=1, kernel=rbf; total time=  11.7s\n",
      "[CV] END .........................C=0.1, gamma=1, kernel=rbf; total time=  11.7s\n",
      "[CV] END .........................C=0.1, gamma=1, kernel=rbf; total time=  11.8s\n",
      "[CV] END .........................C=0.1, gamma=1, kernel=rbf; total time=  11.6s\n",
      "[CV] END .....................C=0.1, gamma=1, kernel=sigmoid; total time=   5.0s\n",
      "[CV] END .....................C=0.1, gamma=1, kernel=sigmoid; total time=   5.0s\n",
      "[CV] END .....................C=0.1, gamma=1, kernel=sigmoid; total time=   5.2s\n",
      "[CV] END .....................C=0.1, gamma=1, kernel=sigmoid; total time=   5.0s\n",
      "[CV] END .....................C=0.1, gamma=1, kernel=sigmoid; total time=   5.2s\n",
      "[CV] END ......................C=0.1, gamma=0.01, kernel=rbf; total time=   7.5s\n",
      "[CV] END ......................C=0.1, gamma=0.01, kernel=rbf; total time=   7.7s\n",
      "[CV] END ......................C=0.1, gamma=0.01, kernel=rbf; total time=   7.5s\n",
      "[CV] END ......................C=0.1, gamma=0.01, kernel=rbf; total time=   7.5s\n",
      "[CV] END ......................C=0.1, gamma=0.01, kernel=rbf; total time=   7.5s\n",
      "[CV] END ..................C=0.1, gamma=0.01, kernel=sigmoid; total time=   5.6s\n",
      "[CV] END ..................C=0.1, gamma=0.01, kernel=sigmoid; total time=   5.6s\n",
      "[CV] END ..................C=0.1, gamma=0.01, kernel=sigmoid; total time=   5.6s\n",
      "[CV] END ..................C=0.1, gamma=0.01, kernel=sigmoid; total time=   5.6s\n",
      "[CV] END ..................C=0.1, gamma=0.01, kernel=sigmoid; total time=   5.7s\n",
      "[CV] END .....................C=0.1, gamma=0.001, kernel=rbf; total time=   7.7s\n",
      "[CV] END .....................C=0.1, gamma=0.001, kernel=rbf; total time=   7.5s\n",
      "[CV] END .....................C=0.1, gamma=0.001, kernel=rbf; total time=   7.5s\n",
      "[CV] END .....................C=0.1, gamma=0.001, kernel=rbf; total time=   7.7s\n",
      "[CV] END .....................C=0.1, gamma=0.001, kernel=rbf; total time=   7.6s\n",
      "[CV] END .................C=0.1, gamma=0.001, kernel=sigmoid; total time=   5.3s\n",
      "[CV] END .................C=0.1, gamma=0.001, kernel=sigmoid; total time=   5.3s\n",
      "[CV] END .................C=0.1, gamma=0.001, kernel=sigmoid; total time=   5.4s\n",
      "[CV] END .................C=0.1, gamma=0.001, kernel=sigmoid; total time=   5.3s\n",
      "[CV] END .................C=0.1, gamma=0.001, kernel=sigmoid; total time=   5.4s\n",
      "[CV] END ..........................C=10, gamma=1, kernel=rbf; total time=  13.3s\n",
      "[CV] END ..........................C=10, gamma=1, kernel=rbf; total time=  13.4s\n",
      "[CV] END ..........................C=10, gamma=1, kernel=rbf; total time=  13.3s\n",
      "[CV] END ..........................C=10, gamma=1, kernel=rbf; total time=  13.3s\n",
      "[CV] END ..........................C=10, gamma=1, kernel=rbf; total time=  13.3s\n",
      "[CV] END ......................C=10, gamma=1, kernel=sigmoid; total time=   4.8s\n",
      "[CV] END ......................C=10, gamma=1, kernel=sigmoid; total time=   4.8s\n",
      "[CV] END ......................C=10, gamma=1, kernel=sigmoid; total time=   4.9s\n",
      "[CV] END ......................C=10, gamma=1, kernel=sigmoid; total time=   4.8s\n",
      "[CV] END ......................C=10, gamma=1, kernel=sigmoid; total time=   5.0s\n",
      "[CV] END .......................C=10, gamma=0.01, kernel=rbf; total time=   8.1s\n",
      "[CV] END .......................C=10, gamma=0.01, kernel=rbf; total time=   8.1s\n",
      "[CV] END .......................C=10, gamma=0.01, kernel=rbf; total time=   8.1s\n",
      "[CV] END .......................C=10, gamma=0.01, kernel=rbf; total time=   8.1s\n",
      "[CV] END .......................C=10, gamma=0.01, kernel=rbf; total time=   8.2s\n",
      "[CV] END ...................C=10, gamma=0.01, kernel=sigmoid; total time=   3.6s\n",
      "[CV] END ...................C=10, gamma=0.01, kernel=sigmoid; total time=   3.6s\n",
      "[CV] END ...................C=10, gamma=0.01, kernel=sigmoid; total time=   3.7s\n",
      "[CV] END ...................C=10, gamma=0.01, kernel=sigmoid; total time=   3.7s\n",
      "[CV] END ...................C=10, gamma=0.01, kernel=sigmoid; total time=   3.6s\n",
      "[CV] END ......................C=10, gamma=0.001, kernel=rbf; total time=   7.2s\n",
      "[CV] END ......................C=10, gamma=0.001, kernel=rbf; total time=   7.2s\n",
      "[CV] END ......................C=10, gamma=0.001, kernel=rbf; total time=   7.3s\n",
      "[CV] END ......................C=10, gamma=0.001, kernel=rbf; total time=   7.3s\n",
      "[CV] END ......................C=10, gamma=0.001, kernel=rbf; total time=   7.2s\n",
      "[CV] END ..................C=10, gamma=0.001, kernel=sigmoid; total time=   5.0s\n",
      "[CV] END ..................C=10, gamma=0.001, kernel=sigmoid; total time=   4.9s\n",
      "[CV] END ..................C=10, gamma=0.001, kernel=sigmoid; total time=   5.1s\n",
      "[CV] END ..................C=10, gamma=0.001, kernel=sigmoid; total time=   5.0s\n",
      "[CV] END ..................C=10, gamma=0.001, kernel=sigmoid; total time=   4.9s\n",
      "[CV] END .........................C=100, gamma=1, kernel=rbf; total time=  13.3s\n",
      "[CV] END .........................C=100, gamma=1, kernel=rbf; total time=  13.3s\n",
      "[CV] END .........................C=100, gamma=1, kernel=rbf; total time=  13.4s\n",
      "[CV] END .........................C=100, gamma=1, kernel=rbf; total time=  13.3s\n",
      "[CV] END .........................C=100, gamma=1, kernel=rbf; total time=  13.4s\n",
      "[CV] END .....................C=100, gamma=1, kernel=sigmoid; total time=   4.8s\n",
      "[CV] END .....................C=100, gamma=1, kernel=sigmoid; total time=   4.8s\n",
      "[CV] END .....................C=100, gamma=1, kernel=sigmoid; total time=   4.9s\n",
      "[CV] END .....................C=100, gamma=1, kernel=sigmoid; total time=   4.8s\n",
      "[CV] END .....................C=100, gamma=1, kernel=sigmoid; total time=   5.0s\n",
      "[CV] END ......................C=100, gamma=0.01, kernel=rbf; total time=  13.3s\n",
      "[CV] END ......................C=100, gamma=0.01, kernel=rbf; total time=  13.2s\n",
      "[CV] END ......................C=100, gamma=0.01, kernel=rbf; total time=  13.4s\n",
      "[CV] END ......................C=100, gamma=0.01, kernel=rbf; total time=  13.2s\n",
      "[CV] END ......................C=100, gamma=0.01, kernel=rbf; total time=  13.5s\n",
      "[CV] END ..................C=100, gamma=0.01, kernel=sigmoid; total time=   3.5s\n",
      "[CV] END ..................C=100, gamma=0.01, kernel=sigmoid; total time=   3.7s\n",
      "[CV] END ..................C=100, gamma=0.01, kernel=sigmoid; total time=   3.5s\n",
      "[CV] END ..................C=100, gamma=0.01, kernel=sigmoid; total time=   3.6s\n",
      "[CV] END ..................C=100, gamma=0.01, kernel=sigmoid; total time=   3.3s\n",
      "[CV] END .....................C=100, gamma=0.001, kernel=rbf; total time=   8.5s\n",
      "[CV] END .....................C=100, gamma=0.001, kernel=rbf; total time=   8.8s\n",
      "[CV] END .....................C=100, gamma=0.001, kernel=rbf; total time=   8.5s\n",
      "[CV] END .....................C=100, gamma=0.001, kernel=rbf; total time=30.1min\n",
      "[CV] END .....................C=100, gamma=0.001, kernel=rbf; total time=  20.9s\n",
      "[CV] END .................C=100, gamma=0.001, kernel=sigmoid; total time=  16.3s\n",
      "[CV] END .................C=100, gamma=0.001, kernel=sigmoid; total time= 9.5min\n",
      "[CV] END .................C=100, gamma=0.001, kernel=sigmoid; total time=   5.7s\n",
      "[CV] END .................C=100, gamma=0.001, kernel=sigmoid; total time=   5.4s\n",
      "[CV] END .................C=100, gamma=0.001, kernel=sigmoid; total time=   5.6s\n"
     ]
    },
    {
     "data": {
      "text/html": [
       "<style>#sk-container-id-1 {color: black;}#sk-container-id-1 pre{padding: 0;}#sk-container-id-1 div.sk-toggleable {background-color: white;}#sk-container-id-1 label.sk-toggleable__label {cursor: pointer;display: block;width: 100%;margin-bottom: 0;padding: 0.3em;box-sizing: border-box;text-align: center;}#sk-container-id-1 label.sk-toggleable__label-arrow:before {content: \"▸\";float: left;margin-right: 0.25em;color: #696969;}#sk-container-id-1 label.sk-toggleable__label-arrow:hover:before {color: black;}#sk-container-id-1 div.sk-estimator:hover label.sk-toggleable__label-arrow:before {color: black;}#sk-container-id-1 div.sk-toggleable__content {max-height: 0;max-width: 0;overflow: hidden;text-align: left;background-color: #f0f8ff;}#sk-container-id-1 div.sk-toggleable__content pre {margin: 0.2em;color: black;border-radius: 0.25em;background-color: #f0f8ff;}#sk-container-id-1 input.sk-toggleable__control:checked~div.sk-toggleable__content {max-height: 200px;max-width: 100%;overflow: auto;}#sk-container-id-1 input.sk-toggleable__control:checked~label.sk-toggleable__label-arrow:before {content: \"▾\";}#sk-container-id-1 div.sk-estimator input.sk-toggleable__control:checked~label.sk-toggleable__label {background-color: #d4ebff;}#sk-container-id-1 div.sk-label input.sk-toggleable__control:checked~label.sk-toggleable__label {background-color: #d4ebff;}#sk-container-id-1 input.sk-hidden--visually {border: 0;clip: rect(1px 1px 1px 1px);clip: rect(1px, 1px, 1px, 1px);height: 1px;margin: -1px;overflow: hidden;padding: 0;position: absolute;width: 1px;}#sk-container-id-1 div.sk-estimator {font-family: monospace;background-color: #f0f8ff;border: 1px dotted black;border-radius: 0.25em;box-sizing: border-box;margin-bottom: 0.5em;}#sk-container-id-1 div.sk-estimator:hover {background-color: #d4ebff;}#sk-container-id-1 div.sk-parallel-item::after {content: \"\";width: 100%;border-bottom: 1px solid gray;flex-grow: 1;}#sk-container-id-1 div.sk-label:hover label.sk-toggleable__label {background-color: #d4ebff;}#sk-container-id-1 div.sk-serial::before {content: \"\";position: absolute;border-left: 1px solid gray;box-sizing: border-box;top: 0;bottom: 0;left: 50%;z-index: 0;}#sk-container-id-1 div.sk-serial {display: flex;flex-direction: column;align-items: center;background-color: white;padding-right: 0.2em;padding-left: 0.2em;position: relative;}#sk-container-id-1 div.sk-item {position: relative;z-index: 1;}#sk-container-id-1 div.sk-parallel {display: flex;align-items: stretch;justify-content: center;background-color: white;position: relative;}#sk-container-id-1 div.sk-item::before, #sk-container-id-1 div.sk-parallel-item::before {content: \"\";position: absolute;border-left: 1px solid gray;box-sizing: border-box;top: 0;bottom: 0;left: 50%;z-index: -1;}#sk-container-id-1 div.sk-parallel-item {display: flex;flex-direction: column;z-index: 1;position: relative;background-color: white;}#sk-container-id-1 div.sk-parallel-item:first-child::after {align-self: flex-end;width: 50%;}#sk-container-id-1 div.sk-parallel-item:last-child::after {align-self: flex-start;width: 50%;}#sk-container-id-1 div.sk-parallel-item:only-child::after {width: 0;}#sk-container-id-1 div.sk-dashed-wrapped {border: 1px dashed gray;margin: 0 0.4em 0.5em 0.4em;box-sizing: border-box;padding-bottom: 0.4em;background-color: white;}#sk-container-id-1 div.sk-label label {font-family: monospace;font-weight: bold;display: inline-block;line-height: 1.2em;}#sk-container-id-1 div.sk-label-container {text-align: center;}#sk-container-id-1 div.sk-container {/* jupyter's `normalize.less` sets `[hidden] { display: none; }` but bootstrap.min.css set `[hidden] { display: none !important; }` so we also need the `!important` here to be able to override the default hidden behavior on the sphinx rendered scikit-learn.org. See: https://github.com/scikit-learn/scikit-learn/issues/21755 */display: inline-block !important;position: relative;}#sk-container-id-1 div.sk-text-repr-fallback {display: none;}</style><div id=\"sk-container-id-1\" class=\"sk-top-container\"><div class=\"sk-text-repr-fallback\"><pre>GridSearchCV(estimator=SVC(),\n",
       "             param_grid={&#x27;C&#x27;: [0.1, 10, 100], &#x27;gamma&#x27;: [1, 0.01, 0.001],\n",
       "                         &#x27;kernel&#x27;: [&#x27;rbf&#x27;, &#x27;sigmoid&#x27;]},\n",
       "             verbose=2)</pre><b>In a Jupyter environment, please rerun this cell to show the HTML representation or trust the notebook. <br />On GitHub, the HTML representation is unable to render, please try loading this page with nbviewer.org.</b></div><div class=\"sk-container\" hidden><div class=\"sk-item sk-dashed-wrapped\"><div class=\"sk-label-container\"><div class=\"sk-label sk-toggleable\"><input class=\"sk-toggleable__control sk-hidden--visually\" id=\"sk-estimator-id-1\" type=\"checkbox\" ><label for=\"sk-estimator-id-1\" class=\"sk-toggleable__label sk-toggleable__label-arrow\">GridSearchCV</label><div class=\"sk-toggleable__content\"><pre>GridSearchCV(estimator=SVC(),\n",
       "             param_grid={&#x27;C&#x27;: [0.1, 10, 100], &#x27;gamma&#x27;: [1, 0.01, 0.001],\n",
       "                         &#x27;kernel&#x27;: [&#x27;rbf&#x27;, &#x27;sigmoid&#x27;]},\n",
       "             verbose=2)</pre></div></div></div><div class=\"sk-parallel\"><div class=\"sk-parallel-item\"><div class=\"sk-item\"><div class=\"sk-label-container\"><div class=\"sk-label sk-toggleable\"><input class=\"sk-toggleable__control sk-hidden--visually\" id=\"sk-estimator-id-2\" type=\"checkbox\" ><label for=\"sk-estimator-id-2\" class=\"sk-toggleable__label sk-toggleable__label-arrow\">estimator: SVC</label><div class=\"sk-toggleable__content\"><pre>SVC()</pre></div></div></div><div class=\"sk-serial\"><div class=\"sk-item\"><div class=\"sk-estimator sk-toggleable\"><input class=\"sk-toggleable__control sk-hidden--visually\" id=\"sk-estimator-id-3\" type=\"checkbox\" ><label for=\"sk-estimator-id-3\" class=\"sk-toggleable__label sk-toggleable__label-arrow\">SVC</label><div class=\"sk-toggleable__content\"><pre>SVC()</pre></div></div></div></div></div></div></div></div></div></div>"
      ],
      "text/plain": [
       "GridSearchCV(estimator=SVC(),\n",
       "             param_grid={'C': [0.1, 10, 100], 'gamma': [1, 0.01, 0.001],\n",
       "                         'kernel': ['rbf', 'sigmoid']},\n",
       "             verbose=2)"
      ]
     },
     "execution_count": 2,
     "metadata": {},
     "output_type": "execute_result"
    }
   ],
   "source": [
    "from sklearn.model_selection import train_test_split\n",
    "from sklearn.preprocessing import StandardScaler\n",
    "# Split dataset into training and testing sets\n",
    "X_train, X_test, y_train, y_test = train_test_split(\n",
    "    X, y, test_size=0.2, random_state=42, stratify=y\n",
    ")\n",
    "print(f\"Training set shape: {X_train.shape}, Testing set shape: {X_test.shape}\")\n",
    "# Scale features\n",
    "scaler = StandardScaler()\n",
    "X_train_scaled = scaler.fit_transform(X_train)\n",
    "X_test_scaled = scaler.transform(X_test)\n",
    "\n",
    "\n",
    "# Define the parameter grid\n",
    "param_grid = {\n",
    "    'C': [0.1, 10, 100], #[0.1, 1, 10, 100],\n",
    "    'gamma': [1, 0.01, 0.001], #[1, 0.1, 0.01, 0.001],\n",
    "    'kernel': ['rbf', 'sigmoid'], #['rbf', 'linear', 'poly', 'sigmoid']\n",
    "}\n",
    "\n",
    "# Create a GridSearchCV object\n",
    "grid_search = GridSearchCV(svm.SVC(), param_grid, refit=True, verbose=2)\n",
    "# Run grid search\n",
    "grid_search.fit(X_train_scaled, y_train)\n"
   ]
  },
  {
   "cell_type": "code",
   "execution_count": 3,
   "id": "50850b4e",
   "metadata": {},
   "outputs": [
    {
     "name": "stdout",
     "output_type": "stream",
     "text": [
      "Best parameters: {'C': 100, 'gamma': 0.001, 'kernel': 'rbf'}\n",
      "Best CV accuracy: 0.42609799437547907\n",
      "Test accuracy: 0.010956175298804782\n"
     ]
    },
    {
     "data": {
      "text/html": [
       "<div>\n",
       "<style scoped>\n",
       "    .dataframe tbody tr th:only-of-type {\n",
       "        vertical-align: middle;\n",
       "    }\n",
       "\n",
       "    .dataframe tbody tr th {\n",
       "        vertical-align: top;\n",
       "    }\n",
       "\n",
       "    .dataframe thead th {\n",
       "        text-align: right;\n",
       "    }\n",
       "</style>\n",
       "<table border=\"1\" class=\"dataframe\">\n",
       "  <thead>\n",
       "    <tr style=\"text-align: right;\">\n",
       "      <th></th>\n",
       "      <th>mean_fit_time</th>\n",
       "      <th>std_fit_time</th>\n",
       "      <th>mean_score_time</th>\n",
       "      <th>std_score_time</th>\n",
       "      <th>param_C</th>\n",
       "      <th>param_gamma</th>\n",
       "      <th>param_kernel</th>\n",
       "      <th>params</th>\n",
       "      <th>split0_test_score</th>\n",
       "      <th>split1_test_score</th>\n",
       "      <th>split2_test_score</th>\n",
       "      <th>split3_test_score</th>\n",
       "      <th>split4_test_score</th>\n",
       "      <th>mean_test_score</th>\n",
       "      <th>std_test_score</th>\n",
       "      <th>rank_test_score</th>\n",
       "    </tr>\n",
       "  </thead>\n",
       "  <tbody>\n",
       "    <tr>\n",
       "      <th>0</th>\n",
       "      <td>8.920219</td>\n",
       "      <td>0.062231</td>\n",
       "      <td>2.761120</td>\n",
       "      <td>0.082398</td>\n",
       "      <td>0.1</td>\n",
       "      <td>1</td>\n",
       "      <td>rbf</td>\n",
       "      <td>{'C': 0.1, 'gamma': 1, 'kernel': 'rbf'}</td>\n",
       "      <td>0.289981</td>\n",
       "      <td>0.290785</td>\n",
       "      <td>0.290785</td>\n",
       "      <td>0.290785</td>\n",
       "      <td>0.290162</td>\n",
       "      <td>0.290499</td>\n",
       "      <td>0.000354</td>\n",
       "      <td>15</td>\n",
       "    </tr>\n",
       "    <tr>\n",
       "      <th>1</th>\n",
       "      <td>4.049374</td>\n",
       "      <td>0.111299</td>\n",
       "      <td>1.028686</td>\n",
       "      <td>0.015869</td>\n",
       "      <td>0.1</td>\n",
       "      <td>1</td>\n",
       "      <td>sigmoid</td>\n",
       "      <td>{'C': 0.1, 'gamma': 1, 'kernel': 'sigmoid'}</td>\n",
       "      <td>0.222775</td>\n",
       "      <td>0.214819</td>\n",
       "      <td>0.211083</td>\n",
       "      <td>0.192403</td>\n",
       "      <td>0.213574</td>\n",
       "      <td>0.210931</td>\n",
       "      <td>0.010057</td>\n",
       "      <td>18</td>\n",
       "    </tr>\n",
       "    <tr>\n",
       "      <th>2</th>\n",
       "      <td>4.874690</td>\n",
       "      <td>0.047928</td>\n",
       "      <td>2.661358</td>\n",
       "      <td>0.031486</td>\n",
       "      <td>0.1</td>\n",
       "      <td>0.01</td>\n",
       "      <td>rbf</td>\n",
       "      <td>{'C': 0.1, 'gamma': 0.01, 'kernel': 'rbf'}</td>\n",
       "      <td>0.364655</td>\n",
       "      <td>0.367372</td>\n",
       "      <td>0.370486</td>\n",
       "      <td>0.361768</td>\n",
       "      <td>0.368618</td>\n",
       "      <td>0.366580</td>\n",
       "      <td>0.003062</td>\n",
       "      <td>6</td>\n",
       "    </tr>\n",
       "    <tr>\n",
       "      <th>3</th>\n",
       "      <td>4.688513</td>\n",
       "      <td>0.017144</td>\n",
       "      <td>0.911133</td>\n",
       "      <td>0.026337</td>\n",
       "      <td>0.1</td>\n",
       "      <td>0.01</td>\n",
       "      <td>sigmoid</td>\n",
       "      <td>{'C': 0.1, 'gamma': 0.01, 'kernel': 'sigmoid'}</td>\n",
       "      <td>0.343497</td>\n",
       "      <td>0.352428</td>\n",
       "      <td>0.362391</td>\n",
       "      <td>0.349315</td>\n",
       "      <td>0.352428</td>\n",
       "      <td>0.352012</td>\n",
       "      <td>0.006129</td>\n",
       "      <td>8</td>\n",
       "    </tr>\n",
       "    <tr>\n",
       "      <th>4</th>\n",
       "      <td>4.881359</td>\n",
       "      <td>0.075843</td>\n",
       "      <td>2.730783</td>\n",
       "      <td>0.034857</td>\n",
       "      <td>0.1</td>\n",
       "      <td>0.001</td>\n",
       "      <td>rbf</td>\n",
       "      <td>{'C': 0.1, 'gamma': 0.001, 'kernel': 'rbf'}</td>\n",
       "      <td>0.319228</td>\n",
       "      <td>0.314446</td>\n",
       "      <td>0.316936</td>\n",
       "      <td>0.318804</td>\n",
       "      <td>0.320672</td>\n",
       "      <td>0.318018</td>\n",
       "      <td>0.002148</td>\n",
       "      <td>9</td>\n",
       "    </tr>\n",
       "    <tr>\n",
       "      <th>5</th>\n",
       "      <td>4.511853</td>\n",
       "      <td>0.082191</td>\n",
       "      <td>0.817819</td>\n",
       "      <td>0.012277</td>\n",
       "      <td>0.1</td>\n",
       "      <td>0.001</td>\n",
       "      <td>sigmoid</td>\n",
       "      <td>{'C': 0.1, 'gamma': 0.001, 'kernel': 'sigmoid'}</td>\n",
       "      <td>0.298693</td>\n",
       "      <td>0.295766</td>\n",
       "      <td>0.301993</td>\n",
       "      <td>0.295143</td>\n",
       "      <td>0.300125</td>\n",
       "      <td>0.298344</td>\n",
       "      <td>0.002588</td>\n",
       "      <td>10</td>\n",
       "    </tr>\n",
       "    <tr>\n",
       "      <th>6</th>\n",
       "      <td>10.580501</td>\n",
       "      <td>0.028276</td>\n",
       "      <td>2.740706</td>\n",
       "      <td>0.007916</td>\n",
       "      <td>10</td>\n",
       "      <td>1</td>\n",
       "      <td>rbf</td>\n",
       "      <td>{'C': 10, 'gamma': 1, 'kernel': 'rbf'}</td>\n",
       "      <td>0.290604</td>\n",
       "      <td>0.291407</td>\n",
       "      <td>0.291407</td>\n",
       "      <td>0.290785</td>\n",
       "      <td>0.291407</td>\n",
       "      <td>0.291122</td>\n",
       "      <td>0.000354</td>\n",
       "      <td>13</td>\n",
       "    </tr>\n",
       "    <tr>\n",
       "      <th>7</th>\n",
       "      <td>3.837914</td>\n",
       "      <td>0.092235</td>\n",
       "      <td>1.007593</td>\n",
       "      <td>0.015172</td>\n",
       "      <td>10</td>\n",
       "      <td>1</td>\n",
       "      <td>sigmoid</td>\n",
       "      <td>{'C': 10, 'gamma': 1, 'kernel': 'sigmoid'}</td>\n",
       "      <td>0.224642</td>\n",
       "      <td>0.212329</td>\n",
       "      <td>0.218555</td>\n",
       "      <td>0.193649</td>\n",
       "      <td>0.223537</td>\n",
       "      <td>0.214542</td>\n",
       "      <td>0.011318</td>\n",
       "      <td>16</td>\n",
       "    </tr>\n",
       "    <tr>\n",
       "      <th>8</th>\n",
       "      <td>5.494097</td>\n",
       "      <td>0.025489</td>\n",
       "      <td>2.595841</td>\n",
       "      <td>0.025219</td>\n",
       "      <td>10</td>\n",
       "      <td>0.01</td>\n",
       "      <td>rbf</td>\n",
       "      <td>{'C': 10, 'gamma': 0.01, 'kernel': 'rbf'}</td>\n",
       "      <td>0.425016</td>\n",
       "      <td>0.404732</td>\n",
       "      <td>0.437111</td>\n",
       "      <td>0.409714</td>\n",
       "      <td>0.420922</td>\n",
       "      <td>0.419499</td>\n",
       "      <td>0.011458</td>\n",
       "      <td>2</td>\n",
       "    </tr>\n",
       "    <tr>\n",
       "      <th>9</th>\n",
       "      <td>2.889713</td>\n",
       "      <td>0.054097</td>\n",
       "      <td>0.755288</td>\n",
       "      <td>0.011062</td>\n",
       "      <td>10</td>\n",
       "      <td>0.01</td>\n",
       "      <td>sigmoid</td>\n",
       "      <td>{'C': 10, 'gamma': 0.01, 'kernel': 'sigmoid'}</td>\n",
       "      <td>0.294337</td>\n",
       "      <td>0.324408</td>\n",
       "      <td>0.316936</td>\n",
       "      <td>0.273350</td>\n",
       "      <td>0.281445</td>\n",
       "      <td>0.298095</td>\n",
       "      <td>0.019754</td>\n",
       "      <td>11</td>\n",
       "    </tr>\n",
       "    <tr>\n",
       "      <th>10</th>\n",
       "      <td>4.671350</td>\n",
       "      <td>0.029062</td>\n",
       "      <td>2.568596</td>\n",
       "      <td>0.034095</td>\n",
       "      <td>10</td>\n",
       "      <td>0.001</td>\n",
       "      <td>rbf</td>\n",
       "      <td>{'C': 10, 'gamma': 0.001, 'kernel': 'rbf'}</td>\n",
       "      <td>0.405725</td>\n",
       "      <td>0.399751</td>\n",
       "      <td>0.425903</td>\n",
       "      <td>0.397260</td>\n",
       "      <td>0.404110</td>\n",
       "      <td>0.406550</td>\n",
       "      <td>0.010136</td>\n",
       "      <td>3</td>\n",
       "    </tr>\n",
       "    <tr>\n",
       "      <th>11</th>\n",
       "      <td>4.191030</td>\n",
       "      <td>0.064257</td>\n",
       "      <td>0.780459</td>\n",
       "      <td>0.005196</td>\n",
       "      <td>10</td>\n",
       "      <td>0.001</td>\n",
       "      <td>sigmoid</td>\n",
       "      <td>{'C': 10, 'gamma': 0.001, 'kernel': 'sigmoid'}</td>\n",
       "      <td>0.404480</td>\n",
       "      <td>0.391034</td>\n",
       "      <td>0.401619</td>\n",
       "      <td>0.407223</td>\n",
       "      <td>0.389166</td>\n",
       "      <td>0.398704</td>\n",
       "      <td>0.007270</td>\n",
       "      <td>4</td>\n",
       "    </tr>\n",
       "    <tr>\n",
       "      <th>12</th>\n",
       "      <td>10.576243</td>\n",
       "      <td>0.030081</td>\n",
       "      <td>2.770453</td>\n",
       "      <td>0.040531</td>\n",
       "      <td>100</td>\n",
       "      <td>1</td>\n",
       "      <td>rbf</td>\n",
       "      <td>{'C': 100, 'gamma': 1, 'kernel': 'rbf'}</td>\n",
       "      <td>0.290604</td>\n",
       "      <td>0.291407</td>\n",
       "      <td>0.291407</td>\n",
       "      <td>0.290785</td>\n",
       "      <td>0.291407</td>\n",
       "      <td>0.291122</td>\n",
       "      <td>0.000354</td>\n",
       "      <td>13</td>\n",
       "    </tr>\n",
       "    <tr>\n",
       "      <th>13</th>\n",
       "      <td>3.858602</td>\n",
       "      <td>0.093971</td>\n",
       "      <td>1.001010</td>\n",
       "      <td>0.012819</td>\n",
       "      <td>100</td>\n",
       "      <td>1</td>\n",
       "      <td>sigmoid</td>\n",
       "      <td>{'C': 100, 'gamma': 1, 'kernel': 'sigmoid'}</td>\n",
       "      <td>0.226509</td>\n",
       "      <td>0.210461</td>\n",
       "      <td>0.219801</td>\n",
       "      <td>0.189913</td>\n",
       "      <td>0.214197</td>\n",
       "      <td>0.212176</td>\n",
       "      <td>0.012379</td>\n",
       "      <td>17</td>\n",
       "    </tr>\n",
       "    <tr>\n",
       "      <th>14</th>\n",
       "      <td>10.764215</td>\n",
       "      <td>0.083161</td>\n",
       "      <td>2.573803</td>\n",
       "      <td>0.019907</td>\n",
       "      <td>100</td>\n",
       "      <td>0.01</td>\n",
       "      <td>rbf</td>\n",
       "      <td>{'C': 100, 'gamma': 0.01, 'kernel': 'rbf'}</td>\n",
       "      <td>0.355320</td>\n",
       "      <td>0.360523</td>\n",
       "      <td>0.378580</td>\n",
       "      <td>0.384807</td>\n",
       "      <td>0.378580</td>\n",
       "      <td>0.371562</td>\n",
       "      <td>0.011486</td>\n",
       "      <td>5</td>\n",
       "    </tr>\n",
       "    <tr>\n",
       "      <th>15</th>\n",
       "      <td>2.800821</td>\n",
       "      <td>0.126387</td>\n",
       "      <td>0.725946</td>\n",
       "      <td>0.010016</td>\n",
       "      <td>100</td>\n",
       "      <td>0.01</td>\n",
       "      <td>sigmoid</td>\n",
       "      <td>{'C': 100, 'gamma': 0.01, 'kernel': 'sigmoid'}</td>\n",
       "      <td>0.296204</td>\n",
       "      <td>0.300125</td>\n",
       "      <td>0.320050</td>\n",
       "      <td>0.270237</td>\n",
       "      <td>0.295766</td>\n",
       "      <td>0.296476</td>\n",
       "      <td>0.015863</td>\n",
       "      <td>12</td>\n",
       "    </tr>\n",
       "    <tr>\n",
       "      <th>16</th>\n",
       "      <td>367.199763</td>\n",
       "      <td>719.208816</td>\n",
       "      <td>3.772591</td>\n",
       "      <td>2.426058</td>\n",
       "      <td>100</td>\n",
       "      <td>0.001</td>\n",
       "      <td>rbf</td>\n",
       "      <td>{'C': 100, 'gamma': 0.001, 'kernel': 'rbf'}</td>\n",
       "      <td>0.433105</td>\n",
       "      <td>0.412827</td>\n",
       "      <td>0.438356</td>\n",
       "      <td>0.423412</td>\n",
       "      <td>0.422790</td>\n",
       "      <td>0.426098</td>\n",
       "      <td>0.008873</td>\n",
       "      <td>1</td>\n",
       "    </tr>\n",
       "    <tr>\n",
       "      <th>17</th>\n",
       "      <td>119.289767</td>\n",
       "      <td>224.545815</td>\n",
       "      <td>1.166356</td>\n",
       "      <td>0.624890</td>\n",
       "      <td>100</td>\n",
       "      <td>0.001</td>\n",
       "      <td>sigmoid</td>\n",
       "      <td>{'C': 100, 'gamma': 0.001, 'kernel': 'sigmoid'}</td>\n",
       "      <td>0.369011</td>\n",
       "      <td>0.356164</td>\n",
       "      <td>0.365504</td>\n",
       "      <td>0.367372</td>\n",
       "      <td>0.346202</td>\n",
       "      <td>0.360851</td>\n",
       "      <td>0.008571</td>\n",
       "      <td>7</td>\n",
       "    </tr>\n",
       "  </tbody>\n",
       "</table>\n",
       "</div>"
      ],
      "text/plain": [
       "    mean_fit_time  std_fit_time  mean_score_time  std_score_time param_C  \\\n",
       "0        8.920219      0.062231         2.761120        0.082398     0.1   \n",
       "1        4.049374      0.111299         1.028686        0.015869     0.1   \n",
       "2        4.874690      0.047928         2.661358        0.031486     0.1   \n",
       "3        4.688513      0.017144         0.911133        0.026337     0.1   \n",
       "4        4.881359      0.075843         2.730783        0.034857     0.1   \n",
       "5        4.511853      0.082191         0.817819        0.012277     0.1   \n",
       "6       10.580501      0.028276         2.740706        0.007916      10   \n",
       "7        3.837914      0.092235         1.007593        0.015172      10   \n",
       "8        5.494097      0.025489         2.595841        0.025219      10   \n",
       "9        2.889713      0.054097         0.755288        0.011062      10   \n",
       "10       4.671350      0.029062         2.568596        0.034095      10   \n",
       "11       4.191030      0.064257         0.780459        0.005196      10   \n",
       "12      10.576243      0.030081         2.770453        0.040531     100   \n",
       "13       3.858602      0.093971         1.001010        0.012819     100   \n",
       "14      10.764215      0.083161         2.573803        0.019907     100   \n",
       "15       2.800821      0.126387         0.725946        0.010016     100   \n",
       "16     367.199763    719.208816         3.772591        2.426058     100   \n",
       "17     119.289767    224.545815         1.166356        0.624890     100   \n",
       "\n",
       "   param_gamma param_kernel                                           params  \\\n",
       "0            1          rbf          {'C': 0.1, 'gamma': 1, 'kernel': 'rbf'}   \n",
       "1            1      sigmoid      {'C': 0.1, 'gamma': 1, 'kernel': 'sigmoid'}   \n",
       "2         0.01          rbf       {'C': 0.1, 'gamma': 0.01, 'kernel': 'rbf'}   \n",
       "3         0.01      sigmoid   {'C': 0.1, 'gamma': 0.01, 'kernel': 'sigmoid'}   \n",
       "4        0.001          rbf      {'C': 0.1, 'gamma': 0.001, 'kernel': 'rbf'}   \n",
       "5        0.001      sigmoid  {'C': 0.1, 'gamma': 0.001, 'kernel': 'sigmoid'}   \n",
       "6            1          rbf           {'C': 10, 'gamma': 1, 'kernel': 'rbf'}   \n",
       "7            1      sigmoid       {'C': 10, 'gamma': 1, 'kernel': 'sigmoid'}   \n",
       "8         0.01          rbf        {'C': 10, 'gamma': 0.01, 'kernel': 'rbf'}   \n",
       "9         0.01      sigmoid    {'C': 10, 'gamma': 0.01, 'kernel': 'sigmoid'}   \n",
       "10       0.001          rbf       {'C': 10, 'gamma': 0.001, 'kernel': 'rbf'}   \n",
       "11       0.001      sigmoid   {'C': 10, 'gamma': 0.001, 'kernel': 'sigmoid'}   \n",
       "12           1          rbf          {'C': 100, 'gamma': 1, 'kernel': 'rbf'}   \n",
       "13           1      sigmoid      {'C': 100, 'gamma': 1, 'kernel': 'sigmoid'}   \n",
       "14        0.01          rbf       {'C': 100, 'gamma': 0.01, 'kernel': 'rbf'}   \n",
       "15        0.01      sigmoid   {'C': 100, 'gamma': 0.01, 'kernel': 'sigmoid'}   \n",
       "16       0.001          rbf      {'C': 100, 'gamma': 0.001, 'kernel': 'rbf'}   \n",
       "17       0.001      sigmoid  {'C': 100, 'gamma': 0.001, 'kernel': 'sigmoid'}   \n",
       "\n",
       "    split0_test_score  split1_test_score  split2_test_score  \\\n",
       "0            0.289981           0.290785           0.290785   \n",
       "1            0.222775           0.214819           0.211083   \n",
       "2            0.364655           0.367372           0.370486   \n",
       "3            0.343497           0.352428           0.362391   \n",
       "4            0.319228           0.314446           0.316936   \n",
       "5            0.298693           0.295766           0.301993   \n",
       "6            0.290604           0.291407           0.291407   \n",
       "7            0.224642           0.212329           0.218555   \n",
       "8            0.425016           0.404732           0.437111   \n",
       "9            0.294337           0.324408           0.316936   \n",
       "10           0.405725           0.399751           0.425903   \n",
       "11           0.404480           0.391034           0.401619   \n",
       "12           0.290604           0.291407           0.291407   \n",
       "13           0.226509           0.210461           0.219801   \n",
       "14           0.355320           0.360523           0.378580   \n",
       "15           0.296204           0.300125           0.320050   \n",
       "16           0.433105           0.412827           0.438356   \n",
       "17           0.369011           0.356164           0.365504   \n",
       "\n",
       "    split3_test_score  split4_test_score  mean_test_score  std_test_score  \\\n",
       "0            0.290785           0.290162         0.290499        0.000354   \n",
       "1            0.192403           0.213574         0.210931        0.010057   \n",
       "2            0.361768           0.368618         0.366580        0.003062   \n",
       "3            0.349315           0.352428         0.352012        0.006129   \n",
       "4            0.318804           0.320672         0.318018        0.002148   \n",
       "5            0.295143           0.300125         0.298344        0.002588   \n",
       "6            0.290785           0.291407         0.291122        0.000354   \n",
       "7            0.193649           0.223537         0.214542        0.011318   \n",
       "8            0.409714           0.420922         0.419499        0.011458   \n",
       "9            0.273350           0.281445         0.298095        0.019754   \n",
       "10           0.397260           0.404110         0.406550        0.010136   \n",
       "11           0.407223           0.389166         0.398704        0.007270   \n",
       "12           0.290785           0.291407         0.291122        0.000354   \n",
       "13           0.189913           0.214197         0.212176        0.012379   \n",
       "14           0.384807           0.378580         0.371562        0.011486   \n",
       "15           0.270237           0.295766         0.296476        0.015863   \n",
       "16           0.423412           0.422790         0.426098        0.008873   \n",
       "17           0.367372           0.346202         0.360851        0.008571   \n",
       "\n",
       "    rank_test_score  \n",
       "0                15  \n",
       "1                18  \n",
       "2                 6  \n",
       "3                 8  \n",
       "4                 9  \n",
       "5                10  \n",
       "6                13  \n",
       "7                16  \n",
       "8                 2  \n",
       "9                11  \n",
       "10                3  \n",
       "11                4  \n",
       "12               13  \n",
       "13               17  \n",
       "14                5  \n",
       "15               12  \n",
       "16                1  \n",
       "17                7  "
      ]
     },
     "execution_count": 3,
     "metadata": {},
     "output_type": "execute_result"
    }
   ],
   "source": [
    "# Results analysis\n",
    "print(\"Best parameters:\", grid_search.best_params_)\n",
    "print(\"Best CV accuracy:\", grid_search.best_score_)\n",
    "print(\"Test accuracy:\", grid_search.score(X_test, y_test))\n",
    "\n",
    "# Save results to DataFrame\n",
    "results_df = pd.DataFrame(grid_search.cv_results_)\n",
    "results_df.to_csv('IEMOCAP_SVM_grid_search_results.csv', index=False)\n",
    "results_df"
   ]
  },
  {
   "cell_type": "code",
   "execution_count": 32,
   "id": "2deb696a",
   "metadata": {},
   "outputs": [
    {
     "name": "stdout",
     "output_type": "stream",
     "text": [
      "Fitting 10 folds for each of 96 candidates, totalling 960 fits\n",
      "[CV] END selector__L=0.7, selector__MS=0.7, selector__algorithm=algorithm1, selector__dispersion_measure=MM; total time=  28.7s\n",
      "[CV] END selector__L=0.7, selector__MS=0.7, selector__algorithm=algorithm1, selector__dispersion_measure=MM; total time=  28.9s\n",
      "[CV] END selector__L=0.7, selector__MS=0.7, selector__algorithm=algorithm1, selector__dispersion_measure=MM; total time=  28.8s\n",
      "[CV] END selector__L=0.7, selector__MS=0.7, selector__algorithm=algorithm1, selector__dispersion_measure=MAD; total time=  28.5s\n",
      "[CV] END selector__L=0.7, selector__MS=0.7, selector__algorithm=algorithm1, selector__dispersion_measure=MM; total time=  28.9s\n",
      "[CV] END selector__L=0.7, selector__MS=0.7, selector__algorithm=algorithm1, selector__dispersion_measure=MM; total time=  29.0s\n",
      "[CV] END selector__L=0.7, selector__MS=0.7, selector__algorithm=algorithm1, selector__dispersion_measure=MM; total time=  28.6s\n",
      "[CV] END selector__L=0.7, selector__MS=0.7, selector__algorithm=algorithm1, selector__dispersion_measure=MAD; total time=  29.0s\n",
      "[CV] END selector__L=0.7, selector__MS=0.7, selector__algorithm=algorithm1, selector__dispersion_measure=MM; total time=  29.0s\n",
      "[CV] END selector__L=0.7, selector__MS=0.7, selector__algorithm=algorithm1, selector__dispersion_measure=MM; total time=  29.0s\n",
      "[CV] END selector__L=0.7, selector__MS=0.7, selector__algorithm=algorithm1, selector__dispersion_measure=MM; total time=  29.0s\n",
      "[CV] END selector__L=0.7, selector__MS=0.7, selector__algorithm=algorithm1, selector__dispersion_measure=MM; total time=  28.8s\n",
      "[CV] END selector__L=0.7, selector__MS=0.7, selector__algorithm=algorithm1, selector__dispersion_measure=MAD; total time=  26.8s\n",
      "[CV] END selector__L=0.7, selector__MS=0.7, selector__algorithm=algorithm1, selector__dispersion_measure=MAD; total time=  26.9s\n",
      "[CV] END selector__L=0.7, selector__MS=0.7, selector__algorithm=algorithm1, selector__dispersion_measure=MAD; total time=  27.0s\n",
      "[CV] END selector__L=0.7, selector__MS=0.7, selector__algorithm=algorithm1, selector__dispersion_measure=MAD; total time=  27.3s\n",
      "[CV] END selector__L=0.7, selector__MS=0.7, selector__algorithm=algorithm1, selector__dispersion_measure=MAD; total time=  27.4s\n",
      "[CV] END selector__L=0.7, selector__MS=0.7, selector__algorithm=algorithm1, selector__dispersion_measure=MAD; total time=  27.4s\n",
      "[CV] END selector__L=0.7, selector__MS=0.7, selector__algorithm=algorithm1, selector__dispersion_measure=MAD; total time=  27.2s\n",
      "[CV] END selector__L=0.7, selector__MS=0.7, selector__algorithm=algorithm1, selector__dispersion_measure=MAD; total time=  27.5s\n"
     ]
    },
    {
     "name": "stderr",
     "output_type": "stream",
     "text": [
      "/Users/sofiafernandes/Documents/Repos/EmoReA/emorea-backend/src/select_features.py:54: RuntimeWarning: divide by zero encountered in scalar divide\n",
      "  dispersions[i] = arithmetic_mean / geometric_mean\n",
      "/Users/sofiafernandes/Documents/Repos/EmoReA/emorea-backend/src/select_features.py:54: RuntimeWarning: overflow encountered in scalar divide\n",
      "  dispersions[i] = arithmetic_mean / geometric_mean\n",
      "/Users/sofiafernandes/Documents/Repos/EmoReA/emorea-backend/src/select_features.py:54: RuntimeWarning: divide by zero encountered in scalar divide\n",
      "  dispersions[i] = arithmetic_mean / geometric_mean\n",
      "/Users/sofiafernandes/Documents/Repos/EmoReA/emorea-backend/src/select_features.py:54: RuntimeWarning: overflow encountered in scalar divide\n",
      "  dispersions[i] = arithmetic_mean / geometric_mean\n"
     ]
    },
    {
     "name": "stdout",
     "output_type": "stream",
     "text": [
      "[CV] END selector__L=0.7, selector__MS=0.7, selector__algorithm=algorithm1, selector__dispersion_measure=TV; total time=  27.1s\n"
     ]
    },
    {
     "name": "stderr",
     "output_type": "stream",
     "text": [
      "/Users/sofiafernandes/Documents/Repos/EmoReA/emorea-backend/src/select_features.py:54: RuntimeWarning: divide by zero encountered in scalar divide\n",
      "  dispersions[i] = arithmetic_mean / geometric_mean\n",
      "/Users/sofiafernandes/Documents/Repos/EmoReA/emorea-backend/src/select_features.py:54: RuntimeWarning: overflow encountered in scalar divide\n",
      "  dispersions[i] = arithmetic_mean / geometric_mean\n"
     ]
    },
    {
     "name": "stdout",
     "output_type": "stream",
     "text": [
      "[CV] END selector__L=0.7, selector__MS=0.7, selector__algorithm=algorithm1, selector__dispersion_measure=TV; total time=  27.1s\n"
     ]
    },
    {
     "name": "stderr",
     "output_type": "stream",
     "text": [
      "/Users/sofiafernandes/Documents/Repos/EmoReA/emorea-backend/src/select_features.py:54: RuntimeWarning: divide by zero encountered in scalar divide\n",
      "  dispersions[i] = arithmetic_mean / geometric_mean\n",
      "/Users/sofiafernandes/Documents/Repos/EmoReA/emorea-backend/src/select_features.py:54: RuntimeWarning: overflow encountered in scalar divide\n",
      "  dispersions[i] = arithmetic_mean / geometric_mean\n"
     ]
    },
    {
     "name": "stdout",
     "output_type": "stream",
     "text": [
      "[CV] END selector__L=0.7, selector__MS=0.7, selector__algorithm=algorithm1, selector__dispersion_measure=TV; total time=  27.0s\n"
     ]
    },
    {
     "name": "stderr",
     "output_type": "stream",
     "text": [
      "/Users/sofiafernandes/Documents/Repos/EmoReA/emorea-backend/src/select_features.py:54: RuntimeWarning: divide by zero encountered in scalar divide\n",
      "  dispersions[i] = arithmetic_mean / geometric_mean\n",
      "/Users/sofiafernandes/Documents/Repos/EmoReA/emorea-backend/src/select_features.py:54: RuntimeWarning: overflow encountered in scalar divide\n",
      "  dispersions[i] = arithmetic_mean / geometric_mean\n"
     ]
    },
    {
     "name": "stdout",
     "output_type": "stream",
     "text": [
      "[CV] END selector__L=0.7, selector__MS=0.7, selector__algorithm=algorithm1, selector__dispersion_measure=TV; total time=  27.0s\n"
     ]
    },
    {
     "name": "stderr",
     "output_type": "stream",
     "text": [
      "/Users/sofiafernandes/Documents/Repos/EmoReA/emorea-backend/src/select_features.py:54: RuntimeWarning: divide by zero encountered in scalar divide\n",
      "  dispersions[i] = arithmetic_mean / geometric_mean\n",
      "/Users/sofiafernandes/Documents/Repos/EmoReA/emorea-backend/src/select_features.py:54: RuntimeWarning: overflow encountered in scalar divide\n",
      "  dispersions[i] = arithmetic_mean / geometric_mean\n"
     ]
    },
    {
     "name": "stdout",
     "output_type": "stream",
     "text": [
      "[CV] END selector__L=0.7, selector__MS=0.7, selector__algorithm=algorithm1, selector__dispersion_measure=TV; total time=  25.0s\n",
      "[CV] END selector__L=0.7, selector__MS=0.7, selector__algorithm=algorithm1, selector__dispersion_measure=TV; total time=  25.1s\n"
     ]
    },
    {
     "name": "stderr",
     "output_type": "stream",
     "text": [
      "/Users/sofiafernandes/Documents/Repos/EmoReA/emorea-backend/src/select_features.py:54: RuntimeWarning: divide by zero encountered in scalar divide\n",
      "  dispersions[i] = arithmetic_mean / geometric_mean\n",
      "/Users/sofiafernandes/Documents/Repos/EmoReA/emorea-backend/src/select_features.py:54: RuntimeWarning: overflow encountered in scalar divide\n",
      "  dispersions[i] = arithmetic_mean / geometric_mean\n",
      "/Users/sofiafernandes/Documents/Repos/EmoReA/emorea-backend/src/select_features.py:54: RuntimeWarning: divide by zero encountered in scalar divide\n",
      "  dispersions[i] = arithmetic_mean / geometric_mean\n",
      "/Users/sofiafernandes/Documents/Repos/EmoReA/emorea-backend/src/select_features.py:54: RuntimeWarning: overflow encountered in scalar divide\n",
      "  dispersions[i] = arithmetic_mean / geometric_mean\n"
     ]
    },
    {
     "name": "stdout",
     "output_type": "stream",
     "text": [
      "[CV] END selector__L=0.7, selector__MS=0.7, selector__algorithm=algorithm1, selector__dispersion_measure=TV; total time=  25.5s\n"
     ]
    },
    {
     "name": "stderr",
     "output_type": "stream",
     "text": [
      "/Users/sofiafernandes/Documents/Repos/EmoReA/emorea-backend/src/select_features.py:54: RuntimeWarning: divide by zero encountered in scalar divide\n",
      "  dispersions[i] = arithmetic_mean / geometric_mean\n",
      "/Users/sofiafernandes/Documents/Repos/EmoReA/emorea-backend/src/select_features.py:54: RuntimeWarning: overflow encountered in scalar divide\n",
      "  dispersions[i] = arithmetic_mean / geometric_mean\n"
     ]
    },
    {
     "name": "stdout",
     "output_type": "stream",
     "text": [
      "[CV] END selector__L=0.7, selector__MS=0.7, selector__algorithm=algorithm1, selector__dispersion_measure=TV; total time=  25.9s\n"
     ]
    },
    {
     "name": "stderr",
     "output_type": "stream",
     "text": [
      "/Users/sofiafernandes/Documents/Repos/EmoReA/emorea-backend/src/select_features.py:54: RuntimeWarning: divide by zero encountered in scalar divide\n",
      "  dispersions[i] = arithmetic_mean / geometric_mean\n",
      "/Users/sofiafernandes/Documents/Repos/EmoReA/emorea-backend/src/select_features.py:54: RuntimeWarning: overflow encountered in scalar divide\n",
      "  dispersions[i] = arithmetic_mean / geometric_mean\n"
     ]
    },
    {
     "name": "stdout",
     "output_type": "stream",
     "text": [
      "[CV] END selector__L=0.7, selector__MS=0.7, selector__algorithm=algorithm1, selector__dispersion_measure=TV; total time=  26.3s\n",
      "[CV] END selector__L=0.7, selector__MS=0.7, selector__algorithm=algorithm1, selector__dispersion_measure=AMGM; total time=  26.3s\n",
      "[CV] END selector__L=0.7, selector__MS=0.7, selector__algorithm=algorithm1, selector__dispersion_measure=AMGM; total time=  26.4s\n",
      "[CV] END selector__L=0.7, selector__MS=0.7, selector__algorithm=algorithm1, selector__dispersion_measure=TV; total time=  26.4s\n",
      "[CV] END selector__L=0.7, selector__MS=0.7, selector__algorithm=algorithm1, selector__dispersion_measure=AMGM; total time=  26.0s\n",
      "[CV] END selector__L=0.7, selector__MS=0.7, selector__algorithm=algorithm1, selector__dispersion_measure=AMGM; total time=  25.7s\n",
      "[CV] END selector__L=0.7, selector__MS=0.7, selector__algorithm=algorithm1, selector__dispersion_measure=AMGM; total time=  25.5s\n",
      "[CV] END selector__L=0.7, selector__MS=0.7, selector__algorithm=algorithm1, selector__dispersion_measure=AMGM; total time=  25.3s\n",
      "[CV] END selector__L=0.7, selector__MS=0.7, selector__algorithm=algorithm2, selector__dispersion_measure=MM; total time=  17.5s\n",
      "[CV] END selector__L=0.7, selector__MS=0.7, selector__algorithm=algorithm2, selector__dispersion_measure=MM; total time=  17.7s\n",
      "[CV] END selector__L=0.7, selector__MS=0.7, selector__algorithm=algorithm2, selector__dispersion_measure=MM; total time=  17.9s\n",
      "[CV] END selector__L=0.7, selector__MS=0.7, selector__algorithm=algorithm2, selector__dispersion_measure=MM; total time=  17.6s\n",
      "[CV] END selector__L=0.7, selector__MS=0.7, selector__algorithm=algorithm2, selector__dispersion_measure=MM; total time=  18.5s\n",
      "[CV] END selector__L=0.7, selector__MS=0.7, selector__algorithm=algorithm2, selector__dispersion_measure=MM; total time=  18.2s\n",
      "[CV] END selector__L=0.7, selector__MS=0.7, selector__algorithm=algorithm1, selector__dispersion_measure=AMGM; total time=  22.6s\n",
      "[CV] END selector__L=0.7, selector__MS=0.7, selector__algorithm=algorithm2, selector__dispersion_measure=MM; total time=  19.5s\n",
      "[CV] END selector__L=0.7, selector__MS=0.7, selector__algorithm=algorithm2, selector__dispersion_measure=MM; total time=  19.7s\n",
      "[CV] END selector__L=0.7, selector__MS=0.7, selector__algorithm=algorithm1, selector__dispersion_measure=AMGM; total time=  22.5s\n",
      "[CV] END selector__L=0.7, selector__MS=0.7, selector__algorithm=algorithm1, selector__dispersion_measure=AMGM; total time=  22.7s\n",
      "[CV] END selector__L=0.7, selector__MS=0.7, selector__algorithm=algorithm1, selector__dispersion_measure=AMGM; total time=  22.7s\n",
      "[CV] END selector__L=0.7, selector__MS=0.7, selector__algorithm=algorithm2, selector__dispersion_measure=MM; total time=  16.7s\n",
      "[CV] END selector__L=0.7, selector__MS=0.7, selector__algorithm=algorithm2, selector__dispersion_measure=MM; total time=  17.0s\n",
      "[CV] END selector__L=0.7, selector__MS=0.7, selector__algorithm=algorithm2, selector__dispersion_measure=MAD; total time=  17.3s\n",
      "[CV] END selector__L=0.7, selector__MS=0.7, selector__algorithm=algorithm2, selector__dispersion_measure=MAD; total time=  19.5s\n",
      "[CV] END selector__L=0.7, selector__MS=0.7, selector__algorithm=algorithm2, selector__dispersion_measure=MAD; total time=  18.8s\n",
      "[CV] END selector__L=0.7, selector__MS=0.7, selector__algorithm=algorithm2, selector__dispersion_measure=MAD; total time=  19.6s\n",
      "[CV] END selector__L=0.7, selector__MS=0.7, selector__algorithm=algorithm2, selector__dispersion_measure=MAD; total time=  18.5s\n",
      "[CV] END selector__L=0.7, selector__MS=0.7, selector__algorithm=algorithm2, selector__dispersion_measure=MAD; total time=  18.4s\n",
      "[CV] END selector__L=0.7, selector__MS=0.7, selector__algorithm=algorithm2, selector__dispersion_measure=MAD; total time=  18.7s\n",
      "[CV] END selector__L=0.7, selector__MS=0.7, selector__algorithm=algorithm2, selector__dispersion_measure=MAD; total time=  19.6s\n",
      "[CV] END selector__L=0.7, selector__MS=0.7, selector__algorithm=algorithm2, selector__dispersion_measure=MAD; total time=  20.9s\n",
      "[CV] END selector__L=0.7, selector__MS=0.7, selector__algorithm=algorithm2, selector__dispersion_measure=MAD; total time=  18.3s\n"
     ]
    },
    {
     "name": "stderr",
     "output_type": "stream",
     "text": [
      "/Users/sofiafernandes/Documents/Repos/EmoReA/emorea-backend/src/select_features.py:54: RuntimeWarning: divide by zero encountered in scalar divide\n",
      "  dispersions[i] = arithmetic_mean / geometric_mean\n",
      "/Users/sofiafernandes/Documents/Repos/EmoReA/emorea-backend/src/select_features.py:54: RuntimeWarning: overflow encountered in scalar divide\n",
      "  dispersions[i] = arithmetic_mean / geometric_mean\n",
      "/Users/sofiafernandes/Documents/Repos/EmoReA/emorea-backend/src/select_features.py:54: RuntimeWarning: divide by zero encountered in scalar divide\n",
      "  dispersions[i] = arithmetic_mean / geometric_mean\n",
      "/Users/sofiafernandes/Documents/Repos/EmoReA/emorea-backend/src/select_features.py:54: RuntimeWarning: overflow encountered in scalar divide\n",
      "  dispersions[i] = arithmetic_mean / geometric_mean\n"
     ]
    },
    {
     "name": "stdout",
     "output_type": "stream",
     "text": [
      "[CV] END selector__L=0.7, selector__MS=0.7, selector__algorithm=algorithm2, selector__dispersion_measure=TV; total time=  15.0s\n",
      "[CV] END selector__L=0.7, selector__MS=0.7, selector__algorithm=algorithm2, selector__dispersion_measure=TV; total time=  15.1s\n"
     ]
    },
    {
     "name": "stderr",
     "output_type": "stream",
     "text": [
      "/Users/sofiafernandes/Documents/Repos/EmoReA/emorea-backend/src/select_features.py:54: RuntimeWarning: divide by zero encountered in scalar divide\n",
      "  dispersions[i] = arithmetic_mean / geometric_mean\n",
      "/Users/sofiafernandes/Documents/Repos/EmoReA/emorea-backend/src/select_features.py:54: RuntimeWarning: overflow encountered in scalar divide\n",
      "  dispersions[i] = arithmetic_mean / geometric_mean\n",
      "/Users/sofiafernandes/Documents/Repos/EmoReA/emorea-backend/src/select_features.py:54: RuntimeWarning: divide by zero encountered in scalar divide\n",
      "  dispersions[i] = arithmetic_mean / geometric_mean\n",
      "/Users/sofiafernandes/Documents/Repos/EmoReA/emorea-backend/src/select_features.py:54: RuntimeWarning: overflow encountered in scalar divide\n",
      "  dispersions[i] = arithmetic_mean / geometric_mean\n"
     ]
    },
    {
     "name": "stdout",
     "output_type": "stream",
     "text": [
      "[CV] END selector__L=0.7, selector__MS=0.7, selector__algorithm=algorithm2, selector__dispersion_measure=TV; total time=  16.3s\n"
     ]
    },
    {
     "name": "stderr",
     "output_type": "stream",
     "text": [
      "/Users/sofiafernandes/Documents/Repos/EmoReA/emorea-backend/src/select_features.py:54: RuntimeWarning: divide by zero encountered in scalar divide\n",
      "  dispersions[i] = arithmetic_mean / geometric_mean\n",
      "/Users/sofiafernandes/Documents/Repos/EmoReA/emorea-backend/src/select_features.py:54: RuntimeWarning: overflow encountered in scalar divide\n",
      "  dispersions[i] = arithmetic_mean / geometric_mean\n"
     ]
    },
    {
     "name": "stdout",
     "output_type": "stream",
     "text": [
      "[CV] END selector__L=0.7, selector__MS=0.7, selector__algorithm=algorithm2, selector__dispersion_measure=TV; total time=  16.7s\n"
     ]
    },
    {
     "name": "stderr",
     "output_type": "stream",
     "text": [
      "/Users/sofiafernandes/Documents/Repos/EmoReA/emorea-backend/src/select_features.py:54: RuntimeWarning: divide by zero encountered in scalar divide\n",
      "  dispersions[i] = arithmetic_mean / geometric_mean\n",
      "/Users/sofiafernandes/Documents/Repos/EmoReA/emorea-backend/src/select_features.py:54: RuntimeWarning: overflow encountered in scalar divide\n",
      "  dispersions[i] = arithmetic_mean / geometric_mean\n"
     ]
    },
    {
     "name": "stdout",
     "output_type": "stream",
     "text": [
      "[CV] END selector__L=0.7, selector__MS=0.7, selector__algorithm=algorithm2, selector__dispersion_measure=TV; total time=  16.7s\n"
     ]
    },
    {
     "name": "stderr",
     "output_type": "stream",
     "text": [
      "/Users/sofiafernandes/Documents/Repos/EmoReA/emorea-backend/src/select_features.py:54: RuntimeWarning: divide by zero encountered in scalar divide\n",
      "  dispersions[i] = arithmetic_mean / geometric_mean\n",
      "/Users/sofiafernandes/Documents/Repos/EmoReA/emorea-backend/src/select_features.py:54: RuntimeWarning: overflow encountered in scalar divide\n",
      "  dispersions[i] = arithmetic_mean / geometric_mean\n"
     ]
    },
    {
     "name": "stdout",
     "output_type": "stream",
     "text": [
      "[CV] END selector__L=0.7, selector__MS=0.7, selector__algorithm=algorithm2, selector__dispersion_measure=TV; total time=  16.7s\n"
     ]
    },
    {
     "name": "stderr",
     "output_type": "stream",
     "text": [
      "/Users/sofiafernandes/Documents/Repos/EmoReA/emorea-backend/src/select_features.py:54: RuntimeWarning: divide by zero encountered in scalar divide\n",
      "  dispersions[i] = arithmetic_mean / geometric_mean\n",
      "/Users/sofiafernandes/Documents/Repos/EmoReA/emorea-backend/src/select_features.py:54: RuntimeWarning: overflow encountered in scalar divide\n",
      "  dispersions[i] = arithmetic_mean / geometric_mean\n"
     ]
    },
    {
     "name": "stdout",
     "output_type": "stream",
     "text": [
      "[CV] END selector__L=0.7, selector__MS=0.7, selector__algorithm=algorithm2, selector__dispersion_measure=AMGM; total time=  16.4s\n",
      "[CV] END selector__L=0.7, selector__MS=0.7, selector__algorithm=algorithm2, selector__dispersion_measure=TV; total time=  17.4s\n"
     ]
    },
    {
     "name": "stderr",
     "output_type": "stream",
     "text": [
      "/Users/sofiafernandes/Documents/Repos/EmoReA/emorea-backend/src/select_features.py:54: RuntimeWarning: divide by zero encountered in scalar divide\n",
      "  dispersions[i] = arithmetic_mean / geometric_mean\n",
      "/Users/sofiafernandes/Documents/Repos/EmoReA/emorea-backend/src/select_features.py:54: RuntimeWarning: overflow encountered in scalar divide\n",
      "  dispersions[i] = arithmetic_mean / geometric_mean\n",
      "/Users/sofiafernandes/Documents/Repos/EmoReA/emorea-backend/src/select_features.py:54: RuntimeWarning: divide by zero encountered in scalar divide\n",
      "  dispersions[i] = arithmetic_mean / geometric_mean\n",
      "/Users/sofiafernandes/Documents/Repos/EmoReA/emorea-backend/src/select_features.py:54: RuntimeWarning: overflow encountered in scalar divide\n",
      "  dispersions[i] = arithmetic_mean / geometric_mean\n"
     ]
    },
    {
     "name": "stdout",
     "output_type": "stream",
     "text": [
      "[CV] END selector__L=0.7, selector__MS=0.7, selector__algorithm=algorithm2, selector__dispersion_measure=TV; total time=  17.1s\n",
      "[CV] END selector__L=0.7, selector__MS=0.7, selector__algorithm=algorithm2, selector__dispersion_measure=TV; total time=  18.0s\n",
      "[CV] END selector__L=0.7, selector__MS=0.7, selector__algorithm=algorithm2, selector__dispersion_measure=TV; total time=  18.5s\n",
      "[CV] END selector__L=0.7, selector__MS=0.7, selector__algorithm=algorithm2, selector__dispersion_measure=AMGM; total time=  19.6s\n",
      "[CV] END selector__L=0.7, selector__MS=0.7, selector__algorithm=algorithm2, selector__dispersion_measure=AMGM; total time=  15.3s\n",
      "[CV] END selector__L=0.7, selector__MS=0.7, selector__algorithm=algorithm2, selector__dispersion_measure=AMGM; total time=  16.5s\n",
      "[CV] END selector__L=0.7, selector__MS=0.7, selector__algorithm=algorithm2, selector__dispersion_measure=AMGM; total time=  17.3s\n",
      "[CV] END selector__L=0.7, selector__MS=0.7, selector__algorithm=algorithm2, selector__dispersion_measure=AMGM; total time=  17.2s\n",
      "[CV] END selector__L=0.7, selector__MS=0.7, selector__algorithm=algorithm2, selector__dispersion_measure=AMGM; total time=  16.5s\n",
      "[CV] END selector__L=0.7, selector__MS=0.7, selector__algorithm=algorithm2, selector__dispersion_measure=AMGM; total time=  16.7s\n",
      "[CV] END selector__L=0.7, selector__MS=0.7, selector__algorithm=algorithm2, selector__dispersion_measure=AMGM; total time=  16.4s\n",
      "[CV] END selector__L=0.7, selector__MS=0.7, selector__algorithm=algorithm2, selector__dispersion_measure=AMGM; total time=  18.7s\n",
      "[CV] END selector__L=0.7, selector__MS=0.75, selector__algorithm=algorithm1, selector__dispersion_measure=MM; total time=  21.9s\n",
      "[CV] END selector__L=0.7, selector__MS=0.75, selector__algorithm=algorithm1, selector__dispersion_measure=MM; total time=  21.8s\n",
      "[CV] END selector__L=0.7, selector__MS=0.75, selector__algorithm=algorithm1, selector__dispersion_measure=MM; total time=  21.8s\n",
      "[CV] END selector__L=0.7, selector__MS=0.75, selector__algorithm=algorithm1, selector__dispersion_measure=MM; total time=  20.5s\n",
      "[CV] END selector__L=0.7, selector__MS=0.75, selector__algorithm=algorithm1, selector__dispersion_measure=MM; total time=  21.7s\n",
      "[CV] END selector__L=0.7, selector__MS=0.75, selector__algorithm=algorithm1, selector__dispersion_measure=MM; total time=  22.4s\n",
      "[CV] END selector__L=0.7, selector__MS=0.75, selector__algorithm=algorithm1, selector__dispersion_measure=MM; total time=  23.7s\n",
      "[CV] END selector__L=0.7, selector__MS=0.75, selector__algorithm=algorithm1, selector__dispersion_measure=MM; total time=  23.7s\n",
      "[CV] END selector__L=0.7, selector__MS=0.75, selector__algorithm=algorithm1, selector__dispersion_measure=MM; total time=  23.9s\n",
      "[CV] END selector__L=0.7, selector__MS=0.75, selector__algorithm=algorithm1, selector__dispersion_measure=MM; total time=  24.2s\n",
      "[CV] END selector__L=0.7, selector__MS=0.75, selector__algorithm=algorithm1, selector__dispersion_measure=MAD; total time=  23.5s\n",
      "[CV] END selector__L=0.7, selector__MS=0.75, selector__algorithm=algorithm1, selector__dispersion_measure=MAD; total time=  23.1s\n",
      "[CV] END selector__L=0.7, selector__MS=0.75, selector__algorithm=algorithm1, selector__dispersion_measure=MAD; total time=  22.2s\n",
      "[CV] END selector__L=0.7, selector__MS=0.75, selector__algorithm=algorithm1, selector__dispersion_measure=MAD; total time=  22.3s\n",
      "[CV] END selector__L=0.7, selector__MS=0.75, selector__algorithm=algorithm1, selector__dispersion_measure=MAD; total time=  22.3s\n",
      "[CV] END selector__L=0.7, selector__MS=0.75, selector__algorithm=algorithm1, selector__dispersion_measure=MAD; total time=  21.5s\n",
      "[CV] END selector__L=0.7, selector__MS=0.75, selector__algorithm=algorithm1, selector__dispersion_measure=MAD; total time=  23.2s\n",
      "[CV] END selector__L=0.7, selector__MS=0.75, selector__algorithm=algorithm1, selector__dispersion_measure=MAD; total time=  24.3s\n",
      "[CV] END selector__L=0.7, selector__MS=0.75, selector__algorithm=algorithm1, selector__dispersion_measure=MAD; total time=  24.9s\n"
     ]
    },
    {
     "name": "stderr",
     "output_type": "stream",
     "text": [
      "/Users/sofiafernandes/Documents/Repos/EmoReA/emorea-backend/src/select_features.py:54: RuntimeWarning: divide by zero encountered in scalar divide\n",
      "  dispersions[i] = arithmetic_mean / geometric_mean\n",
      "/Users/sofiafernandes/Documents/Repos/EmoReA/emorea-backend/src/select_features.py:54: RuntimeWarning: overflow encountered in scalar divide\n",
      "  dispersions[i] = arithmetic_mean / geometric_mean\n"
     ]
    },
    {
     "name": "stdout",
     "output_type": "stream",
     "text": [
      "[CV] END selector__L=0.7, selector__MS=0.75, selector__algorithm=algorithm1, selector__dispersion_measure=MAD; total time=  25.2s\n"
     ]
    },
    {
     "name": "stderr",
     "output_type": "stream",
     "text": [
      "/Users/sofiafernandes/Documents/Repos/EmoReA/emorea-backend/src/select_features.py:54: RuntimeWarning: divide by zero encountered in scalar divide\n",
      "  dispersions[i] = arithmetic_mean / geometric_mean\n",
      "/Users/sofiafernandes/Documents/Repos/EmoReA/emorea-backend/src/select_features.py:54: RuntimeWarning: overflow encountered in scalar divide\n",
      "  dispersions[i] = arithmetic_mean / geometric_mean\n"
     ]
    },
    {
     "name": "stdout",
     "output_type": "stream",
     "text": [
      "[CV] END selector__L=0.7, selector__MS=0.75, selector__algorithm=algorithm1, selector__dispersion_measure=TV; total time=  24.5s\n"
     ]
    },
    {
     "name": "stderr",
     "output_type": "stream",
     "text": [
      "/Users/sofiafernandes/Documents/Repos/EmoReA/emorea-backend/src/select_features.py:54: RuntimeWarning: divide by zero encountered in scalar divide\n",
      "  dispersions[i] = arithmetic_mean / geometric_mean\n",
      "/Users/sofiafernandes/Documents/Repos/EmoReA/emorea-backend/src/select_features.py:54: RuntimeWarning: overflow encountered in scalar divide\n",
      "  dispersions[i] = arithmetic_mean / geometric_mean\n"
     ]
    },
    {
     "name": "stdout",
     "output_type": "stream",
     "text": [
      "[CV] END selector__L=0.7, selector__MS=0.75, selector__algorithm=algorithm1, selector__dispersion_measure=TV; total time=  24.4s\n"
     ]
    },
    {
     "name": "stderr",
     "output_type": "stream",
     "text": [
      "/Users/sofiafernandes/Documents/Repos/EmoReA/emorea-backend/src/select_features.py:54: RuntimeWarning: divide by zero encountered in scalar divide\n",
      "  dispersions[i] = arithmetic_mean / geometric_mean\n",
      "/Users/sofiafernandes/Documents/Repos/EmoReA/emorea-backend/src/select_features.py:54: RuntimeWarning: overflow encountered in scalar divide\n",
      "  dispersions[i] = arithmetic_mean / geometric_mean\n"
     ]
    },
    {
     "name": "stdout",
     "output_type": "stream",
     "text": [
      "[CV] END selector__L=0.7, selector__MS=0.75, selector__algorithm=algorithm1, selector__dispersion_measure=TV; total time=  24.5s\n"
     ]
    },
    {
     "name": "stderr",
     "output_type": "stream",
     "text": [
      "/Users/sofiafernandes/Documents/Repos/EmoReA/emorea-backend/src/select_features.py:54: RuntimeWarning: divide by zero encountered in scalar divide\n",
      "  dispersions[i] = arithmetic_mean / geometric_mean\n",
      "/Users/sofiafernandes/Documents/Repos/EmoReA/emorea-backend/src/select_features.py:54: RuntimeWarning: overflow encountered in scalar divide\n",
      "  dispersions[i] = arithmetic_mean / geometric_mean\n"
     ]
    },
    {
     "name": "stdout",
     "output_type": "stream",
     "text": [
      "[CV] END selector__L=0.7, selector__MS=0.75, selector__algorithm=algorithm1, selector__dispersion_measure=TV; total time=  23.5s\n",
      "[CV] END selector__L=0.7, selector__MS=0.75, selector__algorithm=algorithm1, selector__dispersion_measure=TV; total time=  22.8s\n"
     ]
    },
    {
     "name": "stderr",
     "output_type": "stream",
     "text": [
      "/Users/sofiafernandes/Documents/Repos/EmoReA/emorea-backend/src/select_features.py:54: RuntimeWarning: divide by zero encountered in scalar divide\n",
      "  dispersions[i] = arithmetic_mean / geometric_mean\n",
      "/Users/sofiafernandes/Documents/Repos/EmoReA/emorea-backend/src/select_features.py:54: RuntimeWarning: overflow encountered in scalar divide\n",
      "  dispersions[i] = arithmetic_mean / geometric_mean\n",
      "/Users/sofiafernandes/Documents/Repos/EmoReA/emorea-backend/src/select_features.py:54: RuntimeWarning: divide by zero encountered in scalar divide\n",
      "  dispersions[i] = arithmetic_mean / geometric_mean\n",
      "/Users/sofiafernandes/Documents/Repos/EmoReA/emorea-backend/src/select_features.py:54: RuntimeWarning: overflow encountered in scalar divide\n",
      "  dispersions[i] = arithmetic_mean / geometric_mean\n"
     ]
    },
    {
     "name": "stdout",
     "output_type": "stream",
     "text": [
      "[CV] END selector__L=0.7, selector__MS=0.75, selector__algorithm=algorithm1, selector__dispersion_measure=TV; total time=  22.7s\n"
     ]
    },
    {
     "name": "stderr",
     "output_type": "stream",
     "text": [
      "/Users/sofiafernandes/Documents/Repos/EmoReA/emorea-backend/src/select_features.py:54: RuntimeWarning: divide by zero encountered in scalar divide\n",
      "  dispersions[i] = arithmetic_mean / geometric_mean\n",
      "/Users/sofiafernandes/Documents/Repos/EmoReA/emorea-backend/src/select_features.py:54: RuntimeWarning: overflow encountered in scalar divide\n",
      "  dispersions[i] = arithmetic_mean / geometric_mean\n"
     ]
    },
    {
     "name": "stdout",
     "output_type": "stream",
     "text": [
      "[CV] END selector__L=0.7, selector__MS=0.75, selector__algorithm=algorithm1, selector__dispersion_measure=TV; total time=  22.3s\n"
     ]
    },
    {
     "name": "stderr",
     "output_type": "stream",
     "text": [
      "/Users/sofiafernandes/Documents/Repos/EmoReA/emorea-backend/src/select_features.py:54: RuntimeWarning: divide by zero encountered in scalar divide\n",
      "  dispersions[i] = arithmetic_mean / geometric_mean\n",
      "/Users/sofiafernandes/Documents/Repos/EmoReA/emorea-backend/src/select_features.py:54: RuntimeWarning: overflow encountered in scalar divide\n",
      "  dispersions[i] = arithmetic_mean / geometric_mean\n"
     ]
    },
    {
     "name": "stdout",
     "output_type": "stream",
     "text": [
      "[CV] END selector__L=0.7, selector__MS=0.75, selector__algorithm=algorithm1, selector__dispersion_measure=TV; total time=  22.9s\n"
     ]
    },
    {
     "name": "stderr",
     "output_type": "stream",
     "text": [
      "/Users/sofiafernandes/Documents/Repos/EmoReA/emorea-backend/src/select_features.py:54: RuntimeWarning: divide by zero encountered in scalar divide\n",
      "  dispersions[i] = arithmetic_mean / geometric_mean\n",
      "/Users/sofiafernandes/Documents/Repos/EmoReA/emorea-backend/src/select_features.py:54: RuntimeWarning: overflow encountered in scalar divide\n",
      "  dispersions[i] = arithmetic_mean / geometric_mean\n"
     ]
    },
    {
     "name": "stdout",
     "output_type": "stream",
     "text": [
      "[CV] END selector__L=0.7, selector__MS=0.75, selector__algorithm=algorithm1, selector__dispersion_measure=TV; total time=  24.8s\n",
      "[CV] END selector__L=0.7, selector__MS=0.75, selector__algorithm=algorithm1, selector__dispersion_measure=TV; total time=  29.2s\n",
      "[CV] END selector__L=0.7, selector__MS=0.75, selector__algorithm=algorithm1, selector__dispersion_measure=AMGM; total time=  30.7s\n",
      "[CV] END selector__L=0.7, selector__MS=0.75, selector__algorithm=algorithm1, selector__dispersion_measure=AMGM; total time=  30.1s\n",
      "[CV] END selector__L=0.7, selector__MS=0.75, selector__algorithm=algorithm1, selector__dispersion_measure=AMGM; total time=  30.9s\n",
      "[CV] END selector__L=0.7, selector__MS=0.75, selector__algorithm=algorithm1, selector__dispersion_measure=AMGM; total time=  26.8s\n",
      "[CV] END selector__L=0.7, selector__MS=0.75, selector__algorithm=algorithm1, selector__dispersion_measure=AMGM; total time=  26.6s\n",
      "[CV] END selector__L=0.7, selector__MS=0.75, selector__algorithm=algorithm1, selector__dispersion_measure=AMGM; total time=  25.1s\n",
      "[CV] END selector__L=0.7, selector__MS=0.75, selector__algorithm=algorithm1, selector__dispersion_measure=AMGM; total time=  25.1s\n",
      "[CV] END selector__L=0.7, selector__MS=0.75, selector__algorithm=algorithm1, selector__dispersion_measure=AMGM; total time=  24.4s\n",
      "[CV] END selector__L=0.7, selector__MS=0.75, selector__algorithm=algorithm1, selector__dispersion_measure=AMGM; total time=  24.5s\n",
      "[CV] END selector__L=0.7, selector__MS=0.75, selector__algorithm=algorithm1, selector__dispersion_measure=AMGM; total time=  24.6s\n",
      "[CV] END selector__L=0.7, selector__MS=0.75, selector__algorithm=algorithm2, selector__dispersion_measure=MM; total time=  19.5s\n",
      "[CV] END selector__L=0.7, selector__MS=0.75, selector__algorithm=algorithm2, selector__dispersion_measure=MM; total time=  20.4s\n",
      "[CV] END selector__L=0.7, selector__MS=0.75, selector__algorithm=algorithm2, selector__dispersion_measure=MM; total time=  20.2s\n",
      "[CV] END selector__L=0.7, selector__MS=0.75, selector__algorithm=algorithm2, selector__dispersion_measure=MM; total time=  20.7s\n",
      "[CV] END selector__L=0.7, selector__MS=0.75, selector__algorithm=algorithm2, selector__dispersion_measure=MM; total time=  21.2s\n",
      "[CV] END selector__L=0.7, selector__MS=0.75, selector__algorithm=algorithm2, selector__dispersion_measure=MM; total time=  22.3s\n",
      "[CV] END selector__L=0.7, selector__MS=0.75, selector__algorithm=algorithm2, selector__dispersion_measure=MM; total time=  21.3s\n",
      "[CV] END selector__L=0.7, selector__MS=0.75, selector__algorithm=algorithm2, selector__dispersion_measure=MM; total time=  21.0s\n",
      "[CV] END selector__L=0.7, selector__MS=0.75, selector__algorithm=algorithm2, selector__dispersion_measure=MM; total time=  20.2s\n",
      "[CV] END selector__L=0.7, selector__MS=0.75, selector__algorithm=algorithm2, selector__dispersion_measure=MM; total time=  19.8s\n",
      "[CV] END selector__L=0.7, selector__MS=0.75, selector__algorithm=algorithm2, selector__dispersion_measure=MAD; total time=  21.1s\n",
      "[CV] END selector__L=0.7, selector__MS=0.75, selector__algorithm=algorithm2, selector__dispersion_measure=MAD; total time=  21.0s\n",
      "[CV] END selector__L=0.7, selector__MS=0.75, selector__algorithm=algorithm2, selector__dispersion_measure=MAD; total time=  18.9s\n",
      "[CV] END selector__L=0.7, selector__MS=0.75, selector__algorithm=algorithm2, selector__dispersion_measure=MAD; total time=  18.6s\n",
      "[CV] END selector__L=0.7, selector__MS=0.75, selector__algorithm=algorithm2, selector__dispersion_measure=MAD; total time=  19.8s\n",
      "[CV] END selector__L=0.7, selector__MS=0.75, selector__algorithm=algorithm2, selector__dispersion_measure=MAD; total time=  20.5s\n",
      "[CV] END selector__L=0.7, selector__MS=0.75, selector__algorithm=algorithm2, selector__dispersion_measure=MAD; total time=  20.9s\n",
      "[CV] END selector__L=0.7, selector__MS=0.75, selector__algorithm=algorithm2, selector__dispersion_measure=MAD; total time=  22.1s\n",
      "[CV] END selector__L=0.7, selector__MS=0.75, selector__algorithm=algorithm2, selector__dispersion_measure=MAD; total time=  22.1s\n"
     ]
    },
    {
     "name": "stderr",
     "output_type": "stream",
     "text": [
      "/Users/sofiafernandes/Documents/Repos/EmoReA/emorea-backend/src/select_features.py:54: RuntimeWarning: divide by zero encountered in scalar divide\n",
      "  dispersions[i] = arithmetic_mean / geometric_mean\n",
      "/Users/sofiafernandes/Documents/Repos/EmoReA/emorea-backend/src/select_features.py:54: RuntimeWarning: overflow encountered in scalar divide\n",
      "  dispersions[i] = arithmetic_mean / geometric_mean\n"
     ]
    },
    {
     "name": "stdout",
     "output_type": "stream",
     "text": [
      "[CV] END selector__L=0.7, selector__MS=0.75, selector__algorithm=algorithm2, selector__dispersion_measure=MAD; total time=  22.5s\n"
     ]
    },
    {
     "name": "stderr",
     "output_type": "stream",
     "text": [
      "/Users/sofiafernandes/Documents/Repos/EmoReA/emorea-backend/src/select_features.py:54: RuntimeWarning: divide by zero encountered in scalar divide\n",
      "  dispersions[i] = arithmetic_mean / geometric_mean\n",
      "/Users/sofiafernandes/Documents/Repos/EmoReA/emorea-backend/src/select_features.py:54: RuntimeWarning: overflow encountered in scalar divide\n",
      "  dispersions[i] = arithmetic_mean / geometric_mean\n"
     ]
    },
    {
     "name": "stdout",
     "output_type": "stream",
     "text": [
      "[CV] END selector__L=0.7, selector__MS=0.75, selector__algorithm=algorithm2, selector__dispersion_measure=TV; total time= 4.3min\n"
     ]
    },
    {
     "name": "stderr",
     "output_type": "stream",
     "text": [
      "/Users/sofiafernandes/Documents/Repos/EmoReA/emorea-backend/src/select_features.py:54: RuntimeWarning: divide by zero encountered in scalar divide\n",
      "  dispersions[i] = arithmetic_mean / geometric_mean\n",
      "/Users/sofiafernandes/Documents/Repos/EmoReA/emorea-backend/src/select_features.py:54: RuntimeWarning: overflow encountered in scalar divide\n",
      "  dispersions[i] = arithmetic_mean / geometric_mean\n"
     ]
    },
    {
     "name": "stdout",
     "output_type": "stream",
     "text": [
      "[CV] END selector__L=0.7, selector__MS=0.75, selector__algorithm=algorithm2, selector__dispersion_measure=TV; total time= 4.2min\n"
     ]
    },
    {
     "name": "stderr",
     "output_type": "stream",
     "text": [
      "/Users/sofiafernandes/Documents/Repos/EmoReA/emorea-backend/src/select_features.py:54: RuntimeWarning: divide by zero encountered in scalar divide\n",
      "  dispersions[i] = arithmetic_mean / geometric_mean\n",
      "/Users/sofiafernandes/Documents/Repos/EmoReA/emorea-backend/src/select_features.py:54: RuntimeWarning: overflow encountered in scalar divide\n",
      "  dispersions[i] = arithmetic_mean / geometric_mean\n"
     ]
    },
    {
     "name": "stdout",
     "output_type": "stream",
     "text": [
      "[CV] END selector__L=0.7, selector__MS=0.75, selector__algorithm=algorithm2, selector__dispersion_measure=TV; total time= 4.2min\n",
      "[CV] END selector__L=0.7, selector__MS=0.75, selector__algorithm=algorithm2, selector__dispersion_measure=TV; total time= 4.3min\n"
     ]
    },
    {
     "name": "stderr",
     "output_type": "stream",
     "text": [
      "/Users/sofiafernandes/Documents/Repos/EmoReA/emorea-backend/src/select_features.py:54: RuntimeWarning: divide by zero encountered in scalar divide\n",
      "  dispersions[i] = arithmetic_mean / geometric_mean\n",
      "/Users/sofiafernandes/Documents/Repos/EmoReA/emorea-backend/src/select_features.py:54: RuntimeWarning: overflow encountered in scalar divide\n",
      "  dispersions[i] = arithmetic_mean / geometric_mean\n",
      "/Users/sofiafernandes/Documents/Repos/EmoReA/emorea-backend/src/select_features.py:54: RuntimeWarning: divide by zero encountered in scalar divide\n",
      "  dispersions[i] = arithmetic_mean / geometric_mean\n",
      "/Users/sofiafernandes/Documents/Repos/EmoReA/emorea-backend/src/select_features.py:54: RuntimeWarning: overflow encountered in scalar divide\n",
      "  dispersions[i] = arithmetic_mean / geometric_mean\n"
     ]
    },
    {
     "name": "stdout",
     "output_type": "stream",
     "text": [
      "[CV] END selector__L=0.7, selector__MS=0.75, selector__algorithm=algorithm2, selector__dispersion_measure=TV; total time= 4.2min\n"
     ]
    },
    {
     "name": "stderr",
     "output_type": "stream",
     "text": [
      "/Users/sofiafernandes/Documents/Repos/EmoReA/emorea-backend/src/select_features.py:54: RuntimeWarning: divide by zero encountered in scalar divide\n",
      "  dispersions[i] = arithmetic_mean / geometric_mean\n",
      "/Users/sofiafernandes/Documents/Repos/EmoReA/emorea-backend/src/select_features.py:54: RuntimeWarning: overflow encountered in scalar divide\n",
      "  dispersions[i] = arithmetic_mean / geometric_mean\n"
     ]
    },
    {
     "name": "stdout",
     "output_type": "stream",
     "text": [
      "[CV] END selector__L=0.7, selector__MS=0.75, selector__algorithm=algorithm2, selector__dispersion_measure=TV; total time=  20.3s\n"
     ]
    },
    {
     "name": "stderr",
     "output_type": "stream",
     "text": [
      "/Users/sofiafernandes/Documents/Repos/EmoReA/emorea-backend/src/select_features.py:54: RuntimeWarning: divide by zero encountered in scalar divide\n",
      "  dispersions[i] = arithmetic_mean / geometric_mean\n",
      "/Users/sofiafernandes/Documents/Repos/EmoReA/emorea-backend/src/select_features.py:54: RuntimeWarning: overflow encountered in scalar divide\n",
      "  dispersions[i] = arithmetic_mean / geometric_mean\n"
     ]
    },
    {
     "name": "stdout",
     "output_type": "stream",
     "text": [
      "[CV] END selector__L=0.7, selector__MS=0.75, selector__algorithm=algorithm2, selector__dispersion_measure=TV; total time=  16.9s\n"
     ]
    },
    {
     "name": "stderr",
     "output_type": "stream",
     "text": [
      "/Users/sofiafernandes/Documents/Repos/EmoReA/emorea-backend/src/select_features.py:54: RuntimeWarning: divide by zero encountered in scalar divide\n",
      "  dispersions[i] = arithmetic_mean / geometric_mean\n",
      "/Users/sofiafernandes/Documents/Repos/EmoReA/emorea-backend/src/select_features.py:54: RuntimeWarning: overflow encountered in scalar divide\n",
      "  dispersions[i] = arithmetic_mean / geometric_mean\n"
     ]
    },
    {
     "name": "stdout",
     "output_type": "stream",
     "text": [
      "[CV] END selector__L=0.7, selector__MS=0.75, selector__algorithm=algorithm2, selector__dispersion_measure=TV; total time=  16.0s\n"
     ]
    },
    {
     "name": "stderr",
     "output_type": "stream",
     "text": [
      "/Users/sofiafernandes/Documents/Repos/EmoReA/emorea-backend/src/select_features.py:54: RuntimeWarning: divide by zero encountered in scalar divide\n",
      "  dispersions[i] = arithmetic_mean / geometric_mean\n",
      "/Users/sofiafernandes/Documents/Repos/EmoReA/emorea-backend/src/select_features.py:54: RuntimeWarning: overflow encountered in scalar divide\n",
      "  dispersions[i] = arithmetic_mean / geometric_mean\n"
     ]
    },
    {
     "name": "stdout",
     "output_type": "stream",
     "text": [
      "[CV] END selector__L=0.7, selector__MS=0.75, selector__algorithm=algorithm2, selector__dispersion_measure=TV; total time=  16.3s\n",
      "[CV] END selector__L=0.7, selector__MS=0.75, selector__algorithm=algorithm2, selector__dispersion_measure=TV; total time=  15.3s\n",
      "[CV] END selector__L=0.7, selector__MS=0.75, selector__algorithm=algorithm2, selector__dispersion_measure=AMGM; total time=  14.3s\n",
      "[CV] END selector__L=0.7, selector__MS=0.75, selector__algorithm=algorithm2, selector__dispersion_measure=AMGM; total time=  13.5s\n",
      "[CV] END selector__L=0.7, selector__MS=0.75, selector__algorithm=algorithm2, selector__dispersion_measure=AMGM; total time=  13.9s\n",
      "[CV] END selector__L=0.7, selector__MS=0.75, selector__algorithm=algorithm2, selector__dispersion_measure=AMGM; total time=  13.9s\n",
      "[CV] END selector__L=0.7, selector__MS=0.75, selector__algorithm=algorithm2, selector__dispersion_measure=AMGM; total time=  15.0s\n",
      "[CV] END selector__L=0.7, selector__MS=0.75, selector__algorithm=algorithm2, selector__dispersion_measure=AMGM; total time=  16.8s\n",
      "[CV] END selector__L=0.7, selector__MS=0.75, selector__algorithm=algorithm2, selector__dispersion_measure=AMGM; total time=  15.8s\n",
      "[CV] END selector__L=0.7, selector__MS=0.75, selector__algorithm=algorithm2, selector__dispersion_measure=AMGM; total time=  15.3s\n",
      "[CV] END selector__L=0.7, selector__MS=0.75, selector__algorithm=algorithm2, selector__dispersion_measure=AMGM; total time=  16.7s\n",
      "[CV] END selector__L=0.7, selector__MS=0.75, selector__algorithm=algorithm2, selector__dispersion_measure=AMGM; total time=  17.0s\n",
      "[CV] END selector__L=0.7, selector__MS=0.8, selector__algorithm=algorithm1, selector__dispersion_measure=MM; total time=  20.2s\n",
      "[CV] END selector__L=0.7, selector__MS=0.8, selector__algorithm=algorithm1, selector__dispersion_measure=MM; total time=  21.6s\n",
      "[CV] END selector__L=0.7, selector__MS=0.8, selector__algorithm=algorithm1, selector__dispersion_measure=MM; total time=  21.6s\n",
      "[CV] END selector__L=0.7, selector__MS=0.8, selector__algorithm=algorithm1, selector__dispersion_measure=MM; total time=  21.9s\n",
      "[CV] END selector__L=0.7, selector__MS=0.8, selector__algorithm=algorithm1, selector__dispersion_measure=MM; total time=  22.2s\n",
      "[CV] END selector__L=0.7, selector__MS=0.8, selector__algorithm=algorithm1, selector__dispersion_measure=MM; total time=  22.0s\n",
      "[CV] END selector__L=0.7, selector__MS=0.8, selector__algorithm=algorithm1, selector__dispersion_measure=MM; total time=  21.4s\n",
      "[CV] END selector__L=0.7, selector__MS=0.8, selector__algorithm=algorithm1, selector__dispersion_measure=MM; total time=  22.3s\n",
      "[CV] END selector__L=0.7, selector__MS=0.8, selector__algorithm=algorithm1, selector__dispersion_measure=MM; total time=  20.0s\n",
      "[CV] END selector__L=0.7, selector__MS=0.8, selector__algorithm=algorithm1, selector__dispersion_measure=MM; total time=  19.7s\n",
      "[CV] END selector__L=0.7, selector__MS=0.8, selector__algorithm=algorithm1, selector__dispersion_measure=MAD; total time=  17.4s\n",
      "[CV] END selector__L=0.7, selector__MS=0.8, selector__algorithm=algorithm1, selector__dispersion_measure=MAD; total time=  16.4s\n",
      "[CV] END selector__L=0.7, selector__MS=0.8, selector__algorithm=algorithm1, selector__dispersion_measure=MAD; total time=  17.1s\n",
      "[CV] END selector__L=0.7, selector__MS=0.8, selector__algorithm=algorithm1, selector__dispersion_measure=MAD; total time=  20.6s\n",
      "[CV] END selector__L=0.7, selector__MS=0.8, selector__algorithm=algorithm1, selector__dispersion_measure=MAD; total time=  22.4s\n",
      "[CV] END selector__L=0.7, selector__MS=0.8, selector__algorithm=algorithm1, selector__dispersion_measure=MAD; total time=  24.7s\n",
      "[CV] END selector__L=0.7, selector__MS=0.8, selector__algorithm=algorithm1, selector__dispersion_measure=MAD; total time=  25.3s\n",
      "[CV] END selector__L=0.7, selector__MS=0.8, selector__algorithm=algorithm1, selector__dispersion_measure=MAD; total time=  25.6s\n",
      "[CV] END selector__L=0.7, selector__MS=0.8, selector__algorithm=algorithm1, selector__dispersion_measure=MAD; total time=  25.8s\n"
     ]
    },
    {
     "name": "stderr",
     "output_type": "stream",
     "text": [
      "/Users/sofiafernandes/Documents/Repos/EmoReA/emorea-backend/src/select_features.py:54: RuntimeWarning: divide by zero encountered in scalar divide\n",
      "  dispersions[i] = arithmetic_mean / geometric_mean\n",
      "/Users/sofiafernandes/Documents/Repos/EmoReA/emorea-backend/src/select_features.py:54: RuntimeWarning: overflow encountered in scalar divide\n",
      "  dispersions[i] = arithmetic_mean / geometric_mean\n"
     ]
    },
    {
     "name": "stdout",
     "output_type": "stream",
     "text": [
      "[CV] END selector__L=0.7, selector__MS=0.8, selector__algorithm=algorithm1, selector__dispersion_measure=MAD; total time=  26.5s\n"
     ]
    },
    {
     "name": "stderr",
     "output_type": "stream",
     "text": [
      "/Users/sofiafernandes/Documents/Repos/EmoReA/emorea-backend/src/select_features.py:54: RuntimeWarning: divide by zero encountered in scalar divide\n",
      "  dispersions[i] = arithmetic_mean / geometric_mean\n",
      "/Users/sofiafernandes/Documents/Repos/EmoReA/emorea-backend/src/select_features.py:54: RuntimeWarning: overflow encountered in scalar divide\n",
      "  dispersions[i] = arithmetic_mean / geometric_mean\n"
     ]
    },
    {
     "name": "stdout",
     "output_type": "stream",
     "text": [
      "[CV] END selector__L=0.7, selector__MS=0.8, selector__algorithm=algorithm1, selector__dispersion_measure=TV; total time=  24.2s\n"
     ]
    },
    {
     "name": "stderr",
     "output_type": "stream",
     "text": [
      "/Users/sofiafernandes/Documents/Repos/EmoReA/emorea-backend/src/select_features.py:54: RuntimeWarning: divide by zero encountered in scalar divide\n",
      "  dispersions[i] = arithmetic_mean / geometric_mean\n",
      "/Users/sofiafernandes/Documents/Repos/EmoReA/emorea-backend/src/select_features.py:54: RuntimeWarning: overflow encountered in scalar divide\n",
      "  dispersions[i] = arithmetic_mean / geometric_mean\n"
     ]
    },
    {
     "name": "stdout",
     "output_type": "stream",
     "text": [
      "[CV] END selector__L=0.7, selector__MS=0.8, selector__algorithm=algorithm1, selector__dispersion_measure=TV; total time=  23.0s\n"
     ]
    },
    {
     "name": "stderr",
     "output_type": "stream",
     "text": [
      "/Users/sofiafernandes/Documents/Repos/EmoReA/emorea-backend/src/select_features.py:54: RuntimeWarning: divide by zero encountered in scalar divide\n",
      "  dispersions[i] = arithmetic_mean / geometric_mean\n",
      "/Users/sofiafernandes/Documents/Repos/EmoReA/emorea-backend/src/select_features.py:54: RuntimeWarning: overflow encountered in scalar divide\n",
      "  dispersions[i] = arithmetic_mean / geometric_mean\n"
     ]
    },
    {
     "name": "stdout",
     "output_type": "stream",
     "text": [
      "[CV] END selector__L=0.7, selector__MS=0.8, selector__algorithm=algorithm1, selector__dispersion_measure=TV; total time=  21.9s\n"
     ]
    },
    {
     "name": "stderr",
     "output_type": "stream",
     "text": [
      "/Users/sofiafernandes/Documents/Repos/EmoReA/emorea-backend/src/select_features.py:54: RuntimeWarning: divide by zero encountered in scalar divide\n",
      "  dispersions[i] = arithmetic_mean / geometric_mean\n",
      "/Users/sofiafernandes/Documents/Repos/EmoReA/emorea-backend/src/select_features.py:54: RuntimeWarning: overflow encountered in scalar divide\n",
      "  dispersions[i] = arithmetic_mean / geometric_mean\n"
     ]
    },
    {
     "name": "stdout",
     "output_type": "stream",
     "text": [
      "[CV] END selector__L=0.7, selector__MS=0.8, selector__algorithm=algorithm1, selector__dispersion_measure=TV; total time=  20.8s\n"
     ]
    },
    {
     "name": "stderr",
     "output_type": "stream",
     "text": [
      "/Users/sofiafernandes/Documents/Repos/EmoReA/emorea-backend/src/select_features.py:54: RuntimeWarning: divide by zero encountered in scalar divide\n",
      "  dispersions[i] = arithmetic_mean / geometric_mean\n",
      "/Users/sofiafernandes/Documents/Repos/EmoReA/emorea-backend/src/select_features.py:54: RuntimeWarning: overflow encountered in scalar divide\n",
      "  dispersions[i] = arithmetic_mean / geometric_mean\n"
     ]
    },
    {
     "name": "stdout",
     "output_type": "stream",
     "text": [
      "[CV] END selector__L=0.7, selector__MS=0.8, selector__algorithm=algorithm1, selector__dispersion_measure=TV; total time=  18.5s\n"
     ]
    },
    {
     "name": "stderr",
     "output_type": "stream",
     "text": [
      "/Users/sofiafernandes/Documents/Repos/EmoReA/emorea-backend/src/select_features.py:54: RuntimeWarning: divide by zero encountered in scalar divide\n",
      "  dispersions[i] = arithmetic_mean / geometric_mean\n",
      "/Users/sofiafernandes/Documents/Repos/EmoReA/emorea-backend/src/select_features.py:54: RuntimeWarning: overflow encountered in scalar divide\n",
      "  dispersions[i] = arithmetic_mean / geometric_mean\n"
     ]
    },
    {
     "name": "stdout",
     "output_type": "stream",
     "text": [
      "[CV] END selector__L=0.7, selector__MS=0.8, selector__algorithm=algorithm1, selector__dispersion_measure=TV; total time=  19.3s\n"
     ]
    },
    {
     "name": "stderr",
     "output_type": "stream",
     "text": [
      "/Users/sofiafernandes/Documents/Repos/EmoReA/emorea-backend/src/select_features.py:54: RuntimeWarning: divide by zero encountered in scalar divide\n",
      "  dispersions[i] = arithmetic_mean / geometric_mean\n",
      "/Users/sofiafernandes/Documents/Repos/EmoReA/emorea-backend/src/select_features.py:54: RuntimeWarning: overflow encountered in scalar divide\n",
      "  dispersions[i] = arithmetic_mean / geometric_mean\n"
     ]
    },
    {
     "name": "stdout",
     "output_type": "stream",
     "text": [
      "[CV] END selector__L=0.7, selector__MS=0.8, selector__algorithm=algorithm1, selector__dispersion_measure=TV; total time=  20.4s\n"
     ]
    },
    {
     "name": "stderr",
     "output_type": "stream",
     "text": [
      "/Users/sofiafernandes/Documents/Repos/EmoReA/emorea-backend/src/select_features.py:54: RuntimeWarning: divide by zero encountered in scalar divide\n",
      "  dispersions[i] = arithmetic_mean / geometric_mean\n",
      "/Users/sofiafernandes/Documents/Repos/EmoReA/emorea-backend/src/select_features.py:54: RuntimeWarning: overflow encountered in scalar divide\n",
      "  dispersions[i] = arithmetic_mean / geometric_mean\n"
     ]
    },
    {
     "name": "stdout",
     "output_type": "stream",
     "text": [
      "[CV] END selector__L=0.7, selector__MS=0.8, selector__algorithm=algorithm1, selector__dispersion_measure=TV; total time=  21.9s\n"
     ]
    },
    {
     "name": "stderr",
     "output_type": "stream",
     "text": [
      "/Users/sofiafernandes/Documents/Repos/EmoReA/emorea-backend/src/select_features.py:54: RuntimeWarning: divide by zero encountered in scalar divide\n",
      "  dispersions[i] = arithmetic_mean / geometric_mean\n",
      "/Users/sofiafernandes/Documents/Repos/EmoReA/emorea-backend/src/select_features.py:54: RuntimeWarning: overflow encountered in scalar divide\n",
      "  dispersions[i] = arithmetic_mean / geometric_mean\n"
     ]
    },
    {
     "name": "stdout",
     "output_type": "stream",
     "text": [
      "[CV] END selector__L=0.7, selector__MS=0.8, selector__algorithm=algorithm1, selector__dispersion_measure=TV; total time=  21.9s\n",
      "[CV] END selector__L=0.7, selector__MS=0.8, selector__algorithm=algorithm1, selector__dispersion_measure=AMGM; total time=  22.6s\n",
      "[CV] END selector__L=0.7, selector__MS=0.8, selector__algorithm=algorithm1, selector__dispersion_measure=TV; total time=  22.7s\n",
      "[CV] END selector__L=0.7, selector__MS=0.8, selector__algorithm=algorithm1, selector__dispersion_measure=AMGM; total time=  23.9s\n",
      "[CV] END selector__L=0.7, selector__MS=0.8, selector__algorithm=algorithm1, selector__dispersion_measure=AMGM; total time=  23.8s\n",
      "[CV] END selector__L=0.7, selector__MS=0.8, selector__algorithm=algorithm1, selector__dispersion_measure=AMGM; total time=  25.9s\n",
      "[CV] END selector__L=0.7, selector__MS=0.8, selector__algorithm=algorithm1, selector__dispersion_measure=AMGM; total time=  26.7s\n",
      "[CV] END selector__L=0.7, selector__MS=0.8, selector__algorithm=algorithm1, selector__dispersion_measure=AMGM; total time=  26.9s\n",
      "[CV] END selector__L=0.7, selector__MS=0.8, selector__algorithm=algorithm1, selector__dispersion_measure=AMGM; total time=  30.8s\n",
      "[CV] END selector__L=0.7, selector__MS=0.8, selector__algorithm=algorithm1, selector__dispersion_measure=AMGM; total time=  30.5s\n",
      "[CV] END selector__L=0.7, selector__MS=0.8, selector__algorithm=algorithm1, selector__dispersion_measure=AMGM; total time=  29.5s\n",
      "[CV] END selector__L=0.7, selector__MS=0.8, selector__algorithm=algorithm2, selector__dispersion_measure=MM; total time=  27.5s\n",
      "[CV] END selector__L=0.7, selector__MS=0.8, selector__algorithm=algorithm2, selector__dispersion_measure=MM; total time=  28.6s\n",
      "[CV] END selector__L=0.7, selector__MS=0.8, selector__algorithm=algorithm1, selector__dispersion_measure=AMGM; total time=  32.0s\n",
      "[CV] END selector__L=0.7, selector__MS=0.8, selector__algorithm=algorithm2, selector__dispersion_measure=MM; total time=  27.8s\n",
      "[CV] END selector__L=0.7, selector__MS=0.8, selector__algorithm=algorithm2, selector__dispersion_measure=MM; total time=  28.7s\n",
      "[CV] END selector__L=0.7, selector__MS=0.8, selector__algorithm=algorithm2, selector__dispersion_measure=MM; total time=  27.7s\n",
      "[CV] END selector__L=0.7, selector__MS=0.8, selector__algorithm=algorithm2, selector__dispersion_measure=MM; total time=  24.9s\n",
      "[CV] END selector__L=0.7, selector__MS=0.8, selector__algorithm=algorithm2, selector__dispersion_measure=MM; total time=  26.2s\n",
      "[CV] END selector__L=0.7, selector__MS=0.8, selector__algorithm=algorithm2, selector__dispersion_measure=MM; total time=  29.2s\n",
      "[CV] END selector__L=0.7, selector__MS=0.8, selector__algorithm=algorithm2, selector__dispersion_measure=MM; total time=  24.2s\n",
      "[CV] END selector__L=0.7, selector__MS=0.8, selector__algorithm=algorithm2, selector__dispersion_measure=MM; total time=  21.4s\n",
      "[CV] END selector__L=0.7, selector__MS=0.8, selector__algorithm=algorithm2, selector__dispersion_measure=MAD; total time=  19.9s\n",
      "[CV] END selector__L=0.7, selector__MS=0.8, selector__algorithm=algorithm2, selector__dispersion_measure=MAD; total time=  19.1s\n",
      "[CV] END selector__L=0.7, selector__MS=0.8, selector__algorithm=algorithm2, selector__dispersion_measure=MAD; total time=  18.1s\n",
      "[CV] END selector__L=0.7, selector__MS=0.8, selector__algorithm=algorithm2, selector__dispersion_measure=MAD; total time=  19.0s\n",
      "[CV] END selector__L=0.7, selector__MS=0.8, selector__algorithm=algorithm2, selector__dispersion_measure=MAD; total time=  18.3s\n",
      "[CV] END selector__L=0.7, selector__MS=0.8, selector__algorithm=algorithm2, selector__dispersion_measure=MAD; total time=  17.8s\n",
      "[CV] END selector__L=0.7, selector__MS=0.8, selector__algorithm=algorithm2, selector__dispersion_measure=MAD; total time=  17.6s\n",
      "[CV] END selector__L=0.7, selector__MS=0.8, selector__algorithm=algorithm2, selector__dispersion_measure=MAD; total time=  19.5s\n",
      "[CV] END selector__L=0.7, selector__MS=0.8, selector__algorithm=algorithm2, selector__dispersion_measure=TV; total time=  14.6s\n",
      "[CV] END selector__L=0.7, selector__MS=0.8, selector__algorithm=algorithm2, selector__dispersion_measure=MAD; total time=  17.9s\n"
     ]
    },
    {
     "name": "stderr",
     "output_type": "stream",
     "text": [
      "/Users/sofiafernandes/Documents/Repos/EmoReA/emorea-backend/src/select_features.py:54: RuntimeWarning: divide by zero encountered in scalar divide\n",
      "  dispersions[i] = arithmetic_mean / geometric_mean\n",
      "/Users/sofiafernandes/Documents/Repos/EmoReA/emorea-backend/src/select_features.py:54: RuntimeWarning: overflow encountered in scalar divide\n",
      "  dispersions[i] = arithmetic_mean / geometric_mean\n",
      "/Users/sofiafernandes/Documents/Repos/EmoReA/emorea-backend/src/select_features.py:54: RuntimeWarning: divide by zero encountered in scalar divide\n",
      "  dispersions[i] = arithmetic_mean / geometric_mean\n",
      "/Users/sofiafernandes/Documents/Repos/EmoReA/emorea-backend/src/select_features.py:54: RuntimeWarning: overflow encountered in scalar divide\n",
      "  dispersions[i] = arithmetic_mean / geometric_mean\n"
     ]
    },
    {
     "name": "stdout",
     "output_type": "stream",
     "text": [
      "[CV] END selector__L=0.7, selector__MS=0.8, selector__algorithm=algorithm2, selector__dispersion_measure=MAD; total time=  16.9s\n"
     ]
    },
    {
     "name": "stderr",
     "output_type": "stream",
     "text": [
      "/Users/sofiafernandes/Documents/Repos/EmoReA/emorea-backend/src/select_features.py:54: RuntimeWarning: divide by zero encountered in scalar divide\n",
      "  dispersions[i] = arithmetic_mean / geometric_mean\n",
      "/Users/sofiafernandes/Documents/Repos/EmoReA/emorea-backend/src/select_features.py:54: RuntimeWarning: overflow encountered in scalar divide\n",
      "  dispersions[i] = arithmetic_mean / geometric_mean\n"
     ]
    },
    {
     "name": "stdout",
     "output_type": "stream",
     "text": [
      "[CV] END selector__L=0.7, selector__MS=0.8, selector__algorithm=algorithm2, selector__dispersion_measure=TV; total time=  14.9s\n"
     ]
    },
    {
     "name": "stderr",
     "output_type": "stream",
     "text": [
      "/Users/sofiafernandes/Documents/Repos/EmoReA/emorea-backend/src/select_features.py:54: RuntimeWarning: divide by zero encountered in scalar divide\n",
      "  dispersions[i] = arithmetic_mean / geometric_mean\n",
      "/Users/sofiafernandes/Documents/Repos/EmoReA/emorea-backend/src/select_features.py:54: RuntimeWarning: overflow encountered in scalar divide\n",
      "  dispersions[i] = arithmetic_mean / geometric_mean\n"
     ]
    },
    {
     "name": "stdout",
     "output_type": "stream",
     "text": [
      "[CV] END selector__L=0.7, selector__MS=0.8, selector__algorithm=algorithm2, selector__dispersion_measure=TV; total time=  19.4s\n"
     ]
    },
    {
     "name": "stderr",
     "output_type": "stream",
     "text": [
      "/Users/sofiafernandes/Documents/Repos/EmoReA/emorea-backend/src/select_features.py:54: RuntimeWarning: divide by zero encountered in scalar divide\n",
      "  dispersions[i] = arithmetic_mean / geometric_mean\n",
      "/Users/sofiafernandes/Documents/Repos/EmoReA/emorea-backend/src/select_features.py:54: RuntimeWarning: overflow encountered in scalar divide\n",
      "  dispersions[i] = arithmetic_mean / geometric_mean\n"
     ]
    },
    {
     "name": "stdout",
     "output_type": "stream",
     "text": [
      "[CV] END selector__L=0.7, selector__MS=0.8, selector__algorithm=algorithm2, selector__dispersion_measure=TV; total time=  19.5s\n"
     ]
    },
    {
     "name": "stderr",
     "output_type": "stream",
     "text": [
      "/Users/sofiafernandes/Documents/Repos/EmoReA/emorea-backend/src/select_features.py:54: RuntimeWarning: divide by zero encountered in scalar divide\n",
      "  dispersions[i] = arithmetic_mean / geometric_mean\n",
      "/Users/sofiafernandes/Documents/Repos/EmoReA/emorea-backend/src/select_features.py:54: RuntimeWarning: overflow encountered in scalar divide\n",
      "  dispersions[i] = arithmetic_mean / geometric_mean\n"
     ]
    },
    {
     "name": "stdout",
     "output_type": "stream",
     "text": [
      "[CV] END selector__L=0.7, selector__MS=0.8, selector__algorithm=algorithm2, selector__dispersion_measure=TV; total time=  18.8s\n"
     ]
    },
    {
     "name": "stderr",
     "output_type": "stream",
     "text": [
      "/Users/sofiafernandes/Documents/Repos/EmoReA/emorea-backend/src/select_features.py:54: RuntimeWarning: divide by zero encountered in scalar divide\n",
      "  dispersions[i] = arithmetic_mean / geometric_mean\n",
      "/Users/sofiafernandes/Documents/Repos/EmoReA/emorea-backend/src/select_features.py:54: RuntimeWarning: overflow encountered in scalar divide\n",
      "  dispersions[i] = arithmetic_mean / geometric_mean\n"
     ]
    },
    {
     "name": "stdout",
     "output_type": "stream",
     "text": [
      "[CV] END selector__L=0.7, selector__MS=0.8, selector__algorithm=algorithm2, selector__dispersion_measure=TV; total time=  18.6s\n"
     ]
    },
    {
     "name": "stderr",
     "output_type": "stream",
     "text": [
      "/Users/sofiafernandes/Documents/Repos/EmoReA/emorea-backend/src/select_features.py:54: RuntimeWarning: divide by zero encountered in scalar divide\n",
      "  dispersions[i] = arithmetic_mean / geometric_mean\n",
      "/Users/sofiafernandes/Documents/Repos/EmoReA/emorea-backend/src/select_features.py:54: RuntimeWarning: overflow encountered in scalar divide\n",
      "  dispersions[i] = arithmetic_mean / geometric_mean\n"
     ]
    },
    {
     "name": "stdout",
     "output_type": "stream",
     "text": [
      "[CV] END selector__L=0.7, selector__MS=0.8, selector__algorithm=algorithm2, selector__dispersion_measure=TV; total time=  20.8s\n"
     ]
    },
    {
     "name": "stderr",
     "output_type": "stream",
     "text": [
      "/Users/sofiafernandes/Documents/Repos/EmoReA/emorea-backend/src/select_features.py:54: RuntimeWarning: divide by zero encountered in scalar divide\n",
      "  dispersions[i] = arithmetic_mean / geometric_mean\n",
      "/Users/sofiafernandes/Documents/Repos/EmoReA/emorea-backend/src/select_features.py:54: RuntimeWarning: overflow encountered in scalar divide\n",
      "  dispersions[i] = arithmetic_mean / geometric_mean\n"
     ]
    },
    {
     "name": "stdout",
     "output_type": "stream",
     "text": [
      "[CV] END selector__L=0.7, selector__MS=0.8, selector__algorithm=algorithm2, selector__dispersion_measure=TV; total time=  21.9s\n",
      "[CV] END selector__L=0.7, selector__MS=0.8, selector__algorithm=algorithm2, selector__dispersion_measure=TV; total time=  21.2s\n"
     ]
    },
    {
     "name": "stderr",
     "output_type": "stream",
     "text": [
      "/Users/sofiafernandes/Documents/Repos/EmoReA/emorea-backend/src/select_features.py:54: RuntimeWarning: divide by zero encountered in scalar divide\n",
      "  dispersions[i] = arithmetic_mean / geometric_mean\n",
      "/Users/sofiafernandes/Documents/Repos/EmoReA/emorea-backend/src/select_features.py:54: RuntimeWarning: overflow encountered in scalar divide\n",
      "  dispersions[i] = arithmetic_mean / geometric_mean\n"
     ]
    },
    {
     "name": "stdout",
     "output_type": "stream",
     "text": [
      "[CV] END selector__L=0.7, selector__MS=0.8, selector__algorithm=algorithm2, selector__dispersion_measure=TV; total time=  19.8s\n",
      "[CV] END selector__L=0.7, selector__MS=0.8, selector__algorithm=algorithm2, selector__dispersion_measure=AMGM; total time=  18.7s\n",
      "[CV] END selector__L=0.7, selector__MS=0.8, selector__algorithm=algorithm2, selector__dispersion_measure=AMGM; total time=  20.2s\n",
      "[CV] END selector__L=0.7, selector__MS=0.8, selector__algorithm=algorithm2, selector__dispersion_measure=AMGM; total time=  19.0s\n",
      "[CV] END selector__L=0.7, selector__MS=0.8, selector__algorithm=algorithm2, selector__dispersion_measure=AMGM; total time=  18.2s\n",
      "[CV] END selector__L=0.7, selector__MS=0.8, selector__algorithm=algorithm2, selector__dispersion_measure=AMGM; total time=  20.1s\n",
      "[CV] END selector__L=0.7, selector__MS=0.8, selector__algorithm=algorithm2, selector__dispersion_measure=AMGM; total time=  19.2s\n",
      "[CV] END selector__L=0.7, selector__MS=0.8, selector__algorithm=algorithm2, selector__dispersion_measure=AMGM; total time=  19.7s\n",
      "[CV] END selector__L=0.7, selector__MS=0.8, selector__algorithm=algorithm2, selector__dispersion_measure=AMGM; total time=  21.0s\n",
      "[CV] END selector__L=0.7, selector__MS=0.8, selector__algorithm=algorithm2, selector__dispersion_measure=AMGM; total time=  19.8s\n",
      "[CV] END selector__L=0.7, selector__MS=0.8, selector__algorithm=algorithm2, selector__dispersion_measure=AMGM; total time=  20.3s\n",
      "[CV] END selector__L=0.8, selector__MS=0.7, selector__algorithm=algorithm1, selector__dispersion_measure=MM; total time=  23.4s\n",
      "[CV] END selector__L=0.8, selector__MS=0.7, selector__algorithm=algorithm1, selector__dispersion_measure=MM; total time=  23.1s\n",
      "[CV] END selector__L=0.8, selector__MS=0.7, selector__algorithm=algorithm1, selector__dispersion_measure=MM; total time=  23.5s\n",
      "[CV] END selector__L=0.8, selector__MS=0.7, selector__algorithm=algorithm1, selector__dispersion_measure=MM; total time=  22.2s\n",
      "[CV] END selector__L=0.8, selector__MS=0.7, selector__algorithm=algorithm1, selector__dispersion_measure=MM; total time=  22.8s\n",
      "[CV] END selector__L=0.8, selector__MS=0.7, selector__algorithm=algorithm1, selector__dispersion_measure=MM; total time=  20.8s\n",
      "[CV] END selector__L=0.8, selector__MS=0.7, selector__algorithm=algorithm1, selector__dispersion_measure=MM; total time=  19.4s\n",
      "[CV] END selector__L=0.8, selector__MS=0.7, selector__algorithm=algorithm1, selector__dispersion_measure=MM; total time=  22.5s\n",
      "[CV] END selector__L=0.8, selector__MS=0.7, selector__algorithm=algorithm1, selector__dispersion_measure=MM; total time=  26.3s\n",
      "[CV] END selector__L=0.8, selector__MS=0.7, selector__algorithm=algorithm1, selector__dispersion_measure=MAD; total time=  27.3s\n",
      "[CV] END selector__L=0.8, selector__MS=0.7, selector__algorithm=algorithm1, selector__dispersion_measure=MM; total time=  27.5s\n",
      "[CV] END selector__L=0.8, selector__MS=0.7, selector__algorithm=algorithm1, selector__dispersion_measure=MAD; total time=  31.3s\n",
      "[CV] END selector__L=0.8, selector__MS=0.7, selector__algorithm=algorithm1, selector__dispersion_measure=MAD; total time=  29.7s\n",
      "[CV] END selector__L=0.8, selector__MS=0.7, selector__algorithm=algorithm1, selector__dispersion_measure=MAD; total time=  30.2s\n",
      "[CV] END selector__L=0.8, selector__MS=0.7, selector__algorithm=algorithm1, selector__dispersion_measure=MAD; total time=  30.1s\n",
      "[CV] END selector__L=0.8, selector__MS=0.7, selector__algorithm=algorithm1, selector__dispersion_measure=MAD; total time=  30.2s\n",
      "[CV] END selector__L=0.8, selector__MS=0.7, selector__algorithm=algorithm1, selector__dispersion_measure=MAD; total time=  30.1s\n",
      "[CV] END selector__L=0.8, selector__MS=0.7, selector__algorithm=algorithm1, selector__dispersion_measure=MAD; total time=  28.3s\n",
      "[CV] END selector__L=0.8, selector__MS=0.7, selector__algorithm=algorithm1, selector__dispersion_measure=MAD; total time=  22.2s\n"
     ]
    },
    {
     "name": "stderr",
     "output_type": "stream",
     "text": [
      "/Users/sofiafernandes/Documents/Repos/EmoReA/emorea-backend/src/select_features.py:54: RuntimeWarning: divide by zero encountered in scalar divide\n",
      "  dispersions[i] = arithmetic_mean / geometric_mean\n",
      "/Users/sofiafernandes/Documents/Repos/EmoReA/emorea-backend/src/select_features.py:54: RuntimeWarning: overflow encountered in scalar divide\n",
      "  dispersions[i] = arithmetic_mean / geometric_mean\n"
     ]
    },
    {
     "name": "stdout",
     "output_type": "stream",
     "text": [
      "[CV] END selector__L=0.8, selector__MS=0.7, selector__algorithm=algorithm1, selector__dispersion_measure=MAD; total time=  23.3s\n"
     ]
    },
    {
     "name": "stderr",
     "output_type": "stream",
     "text": [
      "/Users/sofiafernandes/Documents/Repos/EmoReA/emorea-backend/src/select_features.py:54: RuntimeWarning: divide by zero encountered in scalar divide\n",
      "  dispersions[i] = arithmetic_mean / geometric_mean\n",
      "/Users/sofiafernandes/Documents/Repos/EmoReA/emorea-backend/src/select_features.py:54: RuntimeWarning: overflow encountered in scalar divide\n",
      "  dispersions[i] = arithmetic_mean / geometric_mean\n"
     ]
    },
    {
     "name": "stdout",
     "output_type": "stream",
     "text": [
      "[CV] END selector__L=0.8, selector__MS=0.7, selector__algorithm=algorithm1, selector__dispersion_measure=TV; total time=  26.2s\n"
     ]
    },
    {
     "name": "stderr",
     "output_type": "stream",
     "text": [
      "/Users/sofiafernandes/Documents/Repos/EmoReA/emorea-backend/src/select_features.py:54: RuntimeWarning: divide by zero encountered in scalar divide\n",
      "  dispersions[i] = arithmetic_mean / geometric_mean\n",
      "/Users/sofiafernandes/Documents/Repos/EmoReA/emorea-backend/src/select_features.py:54: RuntimeWarning: overflow encountered in scalar divide\n",
      "  dispersions[i] = arithmetic_mean / geometric_mean\n"
     ]
    },
    {
     "name": "stdout",
     "output_type": "stream",
     "text": [
      "[CV] END selector__L=0.8, selector__MS=0.7, selector__algorithm=algorithm1, selector__dispersion_measure=TV; total time=  27.5s\n"
     ]
    },
    {
     "name": "stderr",
     "output_type": "stream",
     "text": [
      "/Users/sofiafernandes/Documents/Repos/EmoReA/emorea-backend/src/select_features.py:54: RuntimeWarning: divide by zero encountered in scalar divide\n",
      "  dispersions[i] = arithmetic_mean / geometric_mean\n",
      "/Users/sofiafernandes/Documents/Repos/EmoReA/emorea-backend/src/select_features.py:54: RuntimeWarning: overflow encountered in scalar divide\n",
      "  dispersions[i] = arithmetic_mean / geometric_mean\n"
     ]
    },
    {
     "name": "stdout",
     "output_type": "stream",
     "text": [
      "[CV] END selector__L=0.8, selector__MS=0.7, selector__algorithm=algorithm1, selector__dispersion_measure=TV; total time=  27.6s\n"
     ]
    },
    {
     "name": "stderr",
     "output_type": "stream",
     "text": [
      "/Users/sofiafernandes/Documents/Repos/EmoReA/emorea-backend/src/select_features.py:54: RuntimeWarning: divide by zero encountered in scalar divide\n",
      "  dispersions[i] = arithmetic_mean / geometric_mean\n",
      "/Users/sofiafernandes/Documents/Repos/EmoReA/emorea-backend/src/select_features.py:54: RuntimeWarning: overflow encountered in scalar divide\n",
      "  dispersions[i] = arithmetic_mean / geometric_mean\n"
     ]
    },
    {
     "name": "stdout",
     "output_type": "stream",
     "text": [
      "[CV] END selector__L=0.8, selector__MS=0.7, selector__algorithm=algorithm1, selector__dispersion_measure=TV; total time=  33.1s\n"
     ]
    },
    {
     "name": "stderr",
     "output_type": "stream",
     "text": [
      "/Users/sofiafernandes/Documents/Repos/EmoReA/emorea-backend/src/select_features.py:54: RuntimeWarning: divide by zero encountered in scalar divide\n",
      "  dispersions[i] = arithmetic_mean / geometric_mean\n",
      "/Users/sofiafernandes/Documents/Repos/EmoReA/emorea-backend/src/select_features.py:54: RuntimeWarning: overflow encountered in scalar divide\n",
      "  dispersions[i] = arithmetic_mean / geometric_mean\n"
     ]
    },
    {
     "name": "stdout",
     "output_type": "stream",
     "text": [
      "[CV] END selector__L=0.8, selector__MS=0.7, selector__algorithm=algorithm1, selector__dispersion_measure=TV; total time=  34.1s\n"
     ]
    },
    {
     "name": "stderr",
     "output_type": "stream",
     "text": [
      "/Users/sofiafernandes/Documents/Repos/EmoReA/emorea-backend/src/select_features.py:54: RuntimeWarning: divide by zero encountered in scalar divide\n",
      "  dispersions[i] = arithmetic_mean / geometric_mean\n",
      "/Users/sofiafernandes/Documents/Repos/EmoReA/emorea-backend/src/select_features.py:54: RuntimeWarning: overflow encountered in scalar divide\n",
      "  dispersions[i] = arithmetic_mean / geometric_mean\n"
     ]
    },
    {
     "name": "stdout",
     "output_type": "stream",
     "text": [
      "[CV] END selector__L=0.8, selector__MS=0.7, selector__algorithm=algorithm1, selector__dispersion_measure=TV; total time=  35.8s\n"
     ]
    },
    {
     "name": "stderr",
     "output_type": "stream",
     "text": [
      "/Users/sofiafernandes/Documents/Repos/EmoReA/emorea-backend/src/select_features.py:54: RuntimeWarning: divide by zero encountered in scalar divide\n",
      "  dispersions[i] = arithmetic_mean / geometric_mean\n",
      "/Users/sofiafernandes/Documents/Repos/EmoReA/emorea-backend/src/select_features.py:54: RuntimeWarning: overflow encountered in scalar divide\n",
      "  dispersions[i] = arithmetic_mean / geometric_mean\n"
     ]
    },
    {
     "name": "stdout",
     "output_type": "stream",
     "text": [
      "[CV] END selector__L=0.8, selector__MS=0.7, selector__algorithm=algorithm1, selector__dispersion_measure=TV; total time=  36.8s\n"
     ]
    },
    {
     "name": "stderr",
     "output_type": "stream",
     "text": [
      "/Users/sofiafernandes/Documents/Repos/EmoReA/emorea-backend/src/select_features.py:54: RuntimeWarning: divide by zero encountered in scalar divide\n",
      "  dispersions[i] = arithmetic_mean / geometric_mean\n",
      "/Users/sofiafernandes/Documents/Repos/EmoReA/emorea-backend/src/select_features.py:54: RuntimeWarning: overflow encountered in scalar divide\n",
      "  dispersions[i] = arithmetic_mean / geometric_mean\n"
     ]
    },
    {
     "name": "stdout",
     "output_type": "stream",
     "text": [
      "[CV] END selector__L=0.8, selector__MS=0.7, selector__algorithm=algorithm1, selector__dispersion_measure=TV; total time=  36.6s\n"
     ]
    },
    {
     "name": "stderr",
     "output_type": "stream",
     "text": [
      "/Users/sofiafernandes/Documents/Repos/EmoReA/emorea-backend/src/select_features.py:54: RuntimeWarning: divide by zero encountered in scalar divide\n",
      "  dispersions[i] = arithmetic_mean / geometric_mean\n",
      "/Users/sofiafernandes/Documents/Repos/EmoReA/emorea-backend/src/select_features.py:54: RuntimeWarning: overflow encountered in scalar divide\n",
      "  dispersions[i] = arithmetic_mean / geometric_mean\n"
     ]
    },
    {
     "name": "stdout",
     "output_type": "stream",
     "text": [
      "[CV] END selector__L=0.8, selector__MS=0.7, selector__algorithm=algorithm1, selector__dispersion_measure=TV; total time=  36.3s\n",
      "[CV] END selector__L=0.8, selector__MS=0.7, selector__algorithm=algorithm1, selector__dispersion_measure=TV; total time=  36.1s\n",
      "[CV] END selector__L=0.8, selector__MS=0.7, selector__algorithm=algorithm1, selector__dispersion_measure=AMGM; total time=  36.5s\n",
      "[CV] END selector__L=0.8, selector__MS=0.7, selector__algorithm=algorithm1, selector__dispersion_measure=AMGM; total time=  40.1s\n",
      "[CV] END selector__L=0.8, selector__MS=0.7, selector__algorithm=algorithm1, selector__dispersion_measure=AMGM; total time=  41.2s\n",
      "[CV] END selector__L=0.8, selector__MS=0.7, selector__algorithm=algorithm1, selector__dispersion_measure=AMGM; total time=  40.8s\n",
      "[CV] END selector__L=0.8, selector__MS=0.7, selector__algorithm=algorithm1, selector__dispersion_measure=AMGM; total time=  40.4s\n",
      "[CV] END selector__L=0.8, selector__MS=0.7, selector__algorithm=algorithm1, selector__dispersion_measure=AMGM; total time=  35.8s\n",
      "[CV] END selector__L=0.8, selector__MS=0.7, selector__algorithm=algorithm1, selector__dispersion_measure=AMGM; total time=  36.1s\n",
      "[CV] END selector__L=0.8, selector__MS=0.7, selector__algorithm=algorithm1, selector__dispersion_measure=AMGM; total time=  35.7s\n",
      "[CV] END selector__L=0.8, selector__MS=0.7, selector__algorithm=algorithm1, selector__dispersion_measure=AMGM; total time=  36.2s\n",
      "[CV] END selector__L=0.8, selector__MS=0.7, selector__algorithm=algorithm2, selector__dispersion_measure=MM; total time=  28.1s\n",
      "[CV] END selector__L=0.8, selector__MS=0.7, selector__algorithm=algorithm2, selector__dispersion_measure=MM; total time=  30.0s\n",
      "[CV] END selector__L=0.8, selector__MS=0.7, selector__algorithm=algorithm1, selector__dispersion_measure=AMGM; total time=  36.6s\n",
      "[CV] END selector__L=0.8, selector__MS=0.7, selector__algorithm=algorithm2, selector__dispersion_measure=MM; total time=  28.7s\n",
      "[CV] END selector__L=0.8, selector__MS=0.7, selector__algorithm=algorithm2, selector__dispersion_measure=MM; total time=  33.1s\n",
      "[CV] END selector__L=0.8, selector__MS=0.7, selector__algorithm=algorithm2, selector__dispersion_measure=MM; total time=  37.4s\n",
      "[CV] END selector__L=0.8, selector__MS=0.7, selector__algorithm=algorithm2, selector__dispersion_measure=MM; total time=  37.0s\n",
      "[CV] END selector__L=0.8, selector__MS=0.7, selector__algorithm=algorithm2, selector__dispersion_measure=MM; total time=  39.6s\n",
      "[CV] END selector__L=0.8, selector__MS=0.7, selector__algorithm=algorithm2, selector__dispersion_measure=MM; total time=  27.9s\n",
      "[CV] END selector__L=0.8, selector__MS=0.7, selector__algorithm=algorithm2, selector__dispersion_measure=MM; total time=  25.9s\n",
      "[CV] END selector__L=0.8, selector__MS=0.7, selector__algorithm=algorithm2, selector__dispersion_measure=MM; total time=  24.6s\n",
      "[CV] END selector__L=0.8, selector__MS=0.7, selector__algorithm=algorithm2, selector__dispersion_measure=MAD; total time=  21.9s\n",
      "[CV] END selector__L=0.8, selector__MS=0.7, selector__algorithm=algorithm2, selector__dispersion_measure=MAD; total time=  23.7s\n",
      "[CV] END selector__L=0.8, selector__MS=0.7, selector__algorithm=algorithm2, selector__dispersion_measure=MAD; total time=  25.4s\n",
      "[CV] END selector__L=0.8, selector__MS=0.7, selector__algorithm=algorithm2, selector__dispersion_measure=MAD; total time=  26.6s\n",
      "[CV] END selector__L=0.8, selector__MS=0.7, selector__algorithm=algorithm2, selector__dispersion_measure=MAD; total time=  27.4s\n",
      "[CV] END selector__L=0.8, selector__MS=0.7, selector__algorithm=algorithm2, selector__dispersion_measure=MAD; total time=  20.2s\n",
      "[CV] END selector__L=0.8, selector__MS=0.7, selector__algorithm=algorithm2, selector__dispersion_measure=MAD; total time=  18.9s\n",
      "[CV] END selector__L=0.8, selector__MS=0.7, selector__algorithm=algorithm2, selector__dispersion_measure=MAD; total time=  17.5s\n",
      "[CV] END selector__L=0.8, selector__MS=0.7, selector__algorithm=algorithm2, selector__dispersion_measure=MAD; total time=  18.0s\n"
     ]
    },
    {
     "name": "stderr",
     "output_type": "stream",
     "text": [
      "/Users/sofiafernandes/Documents/Repos/EmoReA/emorea-backend/src/select_features.py:54: RuntimeWarning: divide by zero encountered in scalar divide\n",
      "  dispersions[i] = arithmetic_mean / geometric_mean\n",
      "/Users/sofiafernandes/Documents/Repos/EmoReA/emorea-backend/src/select_features.py:54: RuntimeWarning: overflow encountered in scalar divide\n",
      "  dispersions[i] = arithmetic_mean / geometric_mean\n"
     ]
    },
    {
     "name": "stdout",
     "output_type": "stream",
     "text": [
      "[CV] END selector__L=0.8, selector__MS=0.7, selector__algorithm=algorithm2, selector__dispersion_measure=MAD; total time=  19.2s\n"
     ]
    },
    {
     "name": "stderr",
     "output_type": "stream",
     "text": [
      "/Users/sofiafernandes/Documents/Repos/EmoReA/emorea-backend/src/select_features.py:54: RuntimeWarning: divide by zero encountered in scalar divide\n",
      "  dispersions[i] = arithmetic_mean / geometric_mean\n",
      "/Users/sofiafernandes/Documents/Repos/EmoReA/emorea-backend/src/select_features.py:54: RuntimeWarning: overflow encountered in scalar divide\n",
      "  dispersions[i] = arithmetic_mean / geometric_mean\n"
     ]
    },
    {
     "name": "stdout",
     "output_type": "stream",
     "text": [
      "[CV] END selector__L=0.8, selector__MS=0.7, selector__algorithm=algorithm2, selector__dispersion_measure=TV; total time=  18.1s\n"
     ]
    },
    {
     "name": "stderr",
     "output_type": "stream",
     "text": [
      "/Users/sofiafernandes/Documents/Repos/EmoReA/emorea-backend/src/select_features.py:54: RuntimeWarning: divide by zero encountered in scalar divide\n",
      "  dispersions[i] = arithmetic_mean / geometric_mean\n",
      "/Users/sofiafernandes/Documents/Repos/EmoReA/emorea-backend/src/select_features.py:54: RuntimeWarning: overflow encountered in scalar divide\n",
      "  dispersions[i] = arithmetic_mean / geometric_mean\n"
     ]
    },
    {
     "name": "stdout",
     "output_type": "stream",
     "text": [
      "[CV] END selector__L=0.8, selector__MS=0.7, selector__algorithm=algorithm2, selector__dispersion_measure=TV; total time=  19.5s\n"
     ]
    },
    {
     "name": "stderr",
     "output_type": "stream",
     "text": [
      "/Users/sofiafernandes/Documents/Repos/EmoReA/emorea-backend/src/select_features.py:54: RuntimeWarning: divide by zero encountered in scalar divide\n",
      "  dispersions[i] = arithmetic_mean / geometric_mean\n",
      "/Users/sofiafernandes/Documents/Repos/EmoReA/emorea-backend/src/select_features.py:54: RuntimeWarning: overflow encountered in scalar divide\n",
      "  dispersions[i] = arithmetic_mean / geometric_mean\n"
     ]
    },
    {
     "name": "stdout",
     "output_type": "stream",
     "text": [
      "[CV] END selector__L=0.8, selector__MS=0.7, selector__algorithm=algorithm2, selector__dispersion_measure=TV; total time=  19.4s\n"
     ]
    },
    {
     "name": "stderr",
     "output_type": "stream",
     "text": [
      "/Users/sofiafernandes/Documents/Repos/EmoReA/emorea-backend/src/select_features.py:54: RuntimeWarning: divide by zero encountered in scalar divide\n",
      "  dispersions[i] = arithmetic_mean / geometric_mean\n",
      "/Users/sofiafernandes/Documents/Repos/EmoReA/emorea-backend/src/select_features.py:54: RuntimeWarning: overflow encountered in scalar divide\n",
      "  dispersions[i] = arithmetic_mean / geometric_mean\n"
     ]
    },
    {
     "name": "stdout",
     "output_type": "stream",
     "text": [
      "[CV] END selector__L=0.8, selector__MS=0.7, selector__algorithm=algorithm2, selector__dispersion_measure=TV; total time=  19.7s\n"
     ]
    },
    {
     "name": "stderr",
     "output_type": "stream",
     "text": [
      "/Users/sofiafernandes/Documents/Repos/EmoReA/emorea-backend/src/select_features.py:54: RuntimeWarning: divide by zero encountered in scalar divide\n",
      "  dispersions[i] = arithmetic_mean / geometric_mean\n",
      "/Users/sofiafernandes/Documents/Repos/EmoReA/emorea-backend/src/select_features.py:54: RuntimeWarning: overflow encountered in scalar divide\n",
      "  dispersions[i] = arithmetic_mean / geometric_mean\n"
     ]
    },
    {
     "name": "stdout",
     "output_type": "stream",
     "text": [
      "[CV] END selector__L=0.8, selector__MS=0.7, selector__algorithm=algorithm2, selector__dispersion_measure=TV; total time=  19.8s\n",
      "[CV] END selector__L=0.8, selector__MS=0.7, selector__algorithm=algorithm2, selector__dispersion_measure=TV; total time=  21.1s\n"
     ]
    },
    {
     "name": "stderr",
     "output_type": "stream",
     "text": [
      "/Users/sofiafernandes/Documents/Repos/EmoReA/emorea-backend/src/select_features.py:54: RuntimeWarning: divide by zero encountered in scalar divide\n",
      "  dispersions[i] = arithmetic_mean / geometric_mean\n",
      "/Users/sofiafernandes/Documents/Repos/EmoReA/emorea-backend/src/select_features.py:54: RuntimeWarning: overflow encountered in scalar divide\n",
      "  dispersions[i] = arithmetic_mean / geometric_mean\n",
      "/Users/sofiafernandes/Documents/Repos/EmoReA/emorea-backend/src/select_features.py:54: RuntimeWarning: divide by zero encountered in scalar divide\n",
      "  dispersions[i] = arithmetic_mean / geometric_mean\n",
      "/Users/sofiafernandes/Documents/Repos/EmoReA/emorea-backend/src/select_features.py:54: RuntimeWarning: overflow encountered in scalar divide\n",
      "  dispersions[i] = arithmetic_mean / geometric_mean\n"
     ]
    },
    {
     "name": "stdout",
     "output_type": "stream",
     "text": [
      "[CV] END selector__L=0.8, selector__MS=0.7, selector__algorithm=algorithm2, selector__dispersion_measure=TV; total time=  20.1s\n"
     ]
    },
    {
     "name": "stderr",
     "output_type": "stream",
     "text": [
      "/Users/sofiafernandes/Documents/Repos/EmoReA/emorea-backend/src/select_features.py:54: RuntimeWarning: divide by zero encountered in scalar divide\n",
      "  dispersions[i] = arithmetic_mean / geometric_mean\n",
      "/Users/sofiafernandes/Documents/Repos/EmoReA/emorea-backend/src/select_features.py:54: RuntimeWarning: overflow encountered in scalar divide\n",
      "  dispersions[i] = arithmetic_mean / geometric_mean\n"
     ]
    },
    {
     "name": "stdout",
     "output_type": "stream",
     "text": [
      "[CV] END selector__L=0.8, selector__MS=0.7, selector__algorithm=algorithm2, selector__dispersion_measure=TV; total time=  19.9s\n"
     ]
    },
    {
     "name": "stderr",
     "output_type": "stream",
     "text": [
      "/Users/sofiafernandes/Documents/Repos/EmoReA/emorea-backend/src/select_features.py:54: RuntimeWarning: divide by zero encountered in scalar divide\n",
      "  dispersions[i] = arithmetic_mean / geometric_mean\n",
      "/Users/sofiafernandes/Documents/Repos/EmoReA/emorea-backend/src/select_features.py:54: RuntimeWarning: overflow encountered in scalar divide\n",
      "  dispersions[i] = arithmetic_mean / geometric_mean\n"
     ]
    },
    {
     "name": "stdout",
     "output_type": "stream",
     "text": [
      "[CV] END selector__L=0.8, selector__MS=0.7, selector__algorithm=algorithm2, selector__dispersion_measure=TV; total time=  20.7s\n",
      "[CV] END selector__L=0.8, selector__MS=0.7, selector__algorithm=algorithm2, selector__dispersion_measure=TV; total time=  21.4s\n",
      "[CV] END selector__L=0.8, selector__MS=0.7, selector__algorithm=algorithm2, selector__dispersion_measure=AMGM; total time=  19.9s\n",
      "[CV] END selector__L=0.8, selector__MS=0.7, selector__algorithm=algorithm2, selector__dispersion_measure=AMGM; total time=  18.2s\n",
      "[CV] END selector__L=0.8, selector__MS=0.7, selector__algorithm=algorithm2, selector__dispersion_measure=AMGM; total time=  21.4s\n",
      "[CV] END selector__L=0.8, selector__MS=0.7, selector__algorithm=algorithm2, selector__dispersion_measure=AMGM; total time=  18.4s\n",
      "[CV] END selector__L=0.8, selector__MS=0.7, selector__algorithm=algorithm2, selector__dispersion_measure=AMGM; total time=  18.3s\n",
      "[CV] END selector__L=0.8, selector__MS=0.7, selector__algorithm=algorithm2, selector__dispersion_measure=AMGM; total time=  17.0s\n",
      "[CV] END selector__L=0.8, selector__MS=0.7, selector__algorithm=algorithm2, selector__dispersion_measure=AMGM; total time=  17.5s\n",
      "[CV] END selector__L=0.8, selector__MS=0.7, selector__algorithm=algorithm2, selector__dispersion_measure=AMGM; total time=  17.3s\n",
      "[CV] END selector__L=0.8, selector__MS=0.7, selector__algorithm=algorithm2, selector__dispersion_measure=AMGM; total time=  17.8s\n",
      "[CV] END selector__L=0.8, selector__MS=0.7, selector__algorithm=algorithm2, selector__dispersion_measure=AMGM; total time=  20.0s\n",
      "[CV] END selector__L=0.8, selector__MS=0.75, selector__algorithm=algorithm1, selector__dispersion_measure=MM; total time=  22.1s\n",
      "[CV] END selector__L=0.8, selector__MS=0.75, selector__algorithm=algorithm1, selector__dispersion_measure=MM; total time=  22.1s\n",
      "[CV] END selector__L=0.8, selector__MS=0.75, selector__algorithm=algorithm1, selector__dispersion_measure=MM; total time=  21.8s\n",
      "[CV] END selector__L=0.8, selector__MS=0.75, selector__algorithm=algorithm1, selector__dispersion_measure=MM; total time=  23.5s\n",
      "[CV] END selector__L=0.8, selector__MS=0.75, selector__algorithm=algorithm1, selector__dispersion_measure=MM; total time=  24.9s\n",
      "[CV] END selector__L=0.8, selector__MS=0.75, selector__algorithm=algorithm1, selector__dispersion_measure=MM; total time=  25.0s\n",
      "[CV] END selector__L=0.8, selector__MS=0.75, selector__algorithm=algorithm1, selector__dispersion_measure=MM; total time=  25.7s\n",
      "[CV] END selector__L=0.8, selector__MS=0.75, selector__algorithm=algorithm1, selector__dispersion_measure=MM; total time=  25.9s\n",
      "[CV] END selector__L=0.8, selector__MS=0.75, selector__algorithm=algorithm1, selector__dispersion_measure=MM; total time=  26.4s\n",
      "[CV] END selector__L=0.8, selector__MS=0.75, selector__algorithm=algorithm1, selector__dispersion_measure=MM; total time=  26.3s\n",
      "[CV] END selector__L=0.8, selector__MS=0.75, selector__algorithm=algorithm1, selector__dispersion_measure=MAD; total time=  25.2s\n",
      "[CV] END selector__L=0.8, selector__MS=0.75, selector__algorithm=algorithm1, selector__dispersion_measure=MAD; total time=  24.6s\n",
      "[CV] END selector__L=0.8, selector__MS=0.75, selector__algorithm=algorithm1, selector__dispersion_measure=MAD; total time=  23.4s\n",
      "[CV] END selector__L=0.8, selector__MS=0.75, selector__algorithm=algorithm1, selector__dispersion_measure=MAD; total time=  24.5s\n",
      "[CV] END selector__L=0.8, selector__MS=0.75, selector__algorithm=algorithm1, selector__dispersion_measure=MAD; total time=  24.9s\n",
      "[CV] END selector__L=0.8, selector__MS=0.75, selector__algorithm=algorithm1, selector__dispersion_measure=MAD; total time=  26.1s\n",
      "[CV] END selector__L=0.8, selector__MS=0.75, selector__algorithm=algorithm1, selector__dispersion_measure=MAD; total time=  27.5s\n",
      "[CV] END selector__L=0.8, selector__MS=0.75, selector__algorithm=algorithm1, selector__dispersion_measure=MAD; total time=  27.6s\n",
      "[CV] END selector__L=0.8, selector__MS=0.75, selector__algorithm=algorithm1, selector__dispersion_measure=MAD; total time=  28.2s\n"
     ]
    },
    {
     "name": "stderr",
     "output_type": "stream",
     "text": [
      "/Users/sofiafernandes/Documents/Repos/EmoReA/emorea-backend/src/select_features.py:54: RuntimeWarning: divide by zero encountered in scalar divide\n",
      "  dispersions[i] = arithmetic_mean / geometric_mean\n",
      "/Users/sofiafernandes/Documents/Repos/EmoReA/emorea-backend/src/select_features.py:54: RuntimeWarning: overflow encountered in scalar divide\n",
      "  dispersions[i] = arithmetic_mean / geometric_mean\n"
     ]
    },
    {
     "name": "stdout",
     "output_type": "stream",
     "text": [
      "[CV] END selector__L=0.8, selector__MS=0.75, selector__algorithm=algorithm1, selector__dispersion_measure=MAD; total time=  28.3s\n"
     ]
    },
    {
     "name": "stderr",
     "output_type": "stream",
     "text": [
      "/Users/sofiafernandes/Documents/Repos/EmoReA/emorea-backend/src/select_features.py:54: RuntimeWarning: divide by zero encountered in scalar divide\n",
      "  dispersions[i] = arithmetic_mean / geometric_mean\n",
      "/Users/sofiafernandes/Documents/Repos/EmoReA/emorea-backend/src/select_features.py:54: RuntimeWarning: overflow encountered in scalar divide\n",
      "  dispersions[i] = arithmetic_mean / geometric_mean\n"
     ]
    },
    {
     "name": "stdout",
     "output_type": "stream",
     "text": [
      "[CV] END selector__L=0.8, selector__MS=0.75, selector__algorithm=algorithm1, selector__dispersion_measure=TV; total time=  27.7s\n"
     ]
    },
    {
     "name": "stderr",
     "output_type": "stream",
     "text": [
      "/Users/sofiafernandes/Documents/Repos/EmoReA/emorea-backend/src/select_features.py:54: RuntimeWarning: divide by zero encountered in scalar divide\n",
      "  dispersions[i] = arithmetic_mean / geometric_mean\n",
      "/Users/sofiafernandes/Documents/Repos/EmoReA/emorea-backend/src/select_features.py:54: RuntimeWarning: overflow encountered in scalar divide\n",
      "  dispersions[i] = arithmetic_mean / geometric_mean\n"
     ]
    },
    {
     "name": "stdout",
     "output_type": "stream",
     "text": [
      "[CV] END selector__L=0.8, selector__MS=0.75, selector__algorithm=algorithm1, selector__dispersion_measure=TV; total time=  27.8s\n"
     ]
    },
    {
     "name": "stderr",
     "output_type": "stream",
     "text": [
      "/Users/sofiafernandes/Documents/Repos/EmoReA/emorea-backend/src/select_features.py:54: RuntimeWarning: divide by zero encountered in scalar divide\n",
      "  dispersions[i] = arithmetic_mean / geometric_mean\n",
      "/Users/sofiafernandes/Documents/Repos/EmoReA/emorea-backend/src/select_features.py:54: RuntimeWarning: overflow encountered in scalar divide\n",
      "  dispersions[i] = arithmetic_mean / geometric_mean\n"
     ]
    },
    {
     "name": "stdout",
     "output_type": "stream",
     "text": [
      "[CV] END selector__L=0.8, selector__MS=0.75, selector__algorithm=algorithm1, selector__dispersion_measure=TV; total time=  26.8s\n"
     ]
    },
    {
     "name": "stderr",
     "output_type": "stream",
     "text": [
      "/Users/sofiafernandes/Documents/Repos/EmoReA/emorea-backend/src/select_features.py:54: RuntimeWarning: divide by zero encountered in scalar divide\n",
      "  dispersions[i] = arithmetic_mean / geometric_mean\n",
      "/Users/sofiafernandes/Documents/Repos/EmoReA/emorea-backend/src/select_features.py:54: RuntimeWarning: overflow encountered in scalar divide\n",
      "  dispersions[i] = arithmetic_mean / geometric_mean\n"
     ]
    },
    {
     "name": "stdout",
     "output_type": "stream",
     "text": [
      "[CV] END selector__L=0.8, selector__MS=0.75, selector__algorithm=algorithm1, selector__dispersion_measure=TV; total time=  26.0s\n"
     ]
    },
    {
     "name": "stderr",
     "output_type": "stream",
     "text": [
      "/Users/sofiafernandes/Documents/Repos/EmoReA/emorea-backend/src/select_features.py:54: RuntimeWarning: divide by zero encountered in scalar divide\n",
      "  dispersions[i] = arithmetic_mean / geometric_mean\n",
      "/Users/sofiafernandes/Documents/Repos/EmoReA/emorea-backend/src/select_features.py:54: RuntimeWarning: overflow encountered in scalar divide\n",
      "  dispersions[i] = arithmetic_mean / geometric_mean\n"
     ]
    },
    {
     "name": "stdout",
     "output_type": "stream",
     "text": [
      "[CV] END selector__L=0.8, selector__MS=0.75, selector__algorithm=algorithm1, selector__dispersion_measure=TV; total time=  23.1s\n"
     ]
    },
    {
     "name": "stderr",
     "output_type": "stream",
     "text": [
      "/Users/sofiafernandes/Documents/Repos/EmoReA/emorea-backend/src/select_features.py:54: RuntimeWarning: divide by zero encountered in scalar divide\n",
      "  dispersions[i] = arithmetic_mean / geometric_mean\n",
      "/Users/sofiafernandes/Documents/Repos/EmoReA/emorea-backend/src/select_features.py:54: RuntimeWarning: overflow encountered in scalar divide\n",
      "  dispersions[i] = arithmetic_mean / geometric_mean\n"
     ]
    },
    {
     "name": "stdout",
     "output_type": "stream",
     "text": [
      "[CV] END selector__L=0.8, selector__MS=0.75, selector__algorithm=algorithm1, selector__dispersion_measure=TV; total time=  23.3s\n"
     ]
    },
    {
     "name": "stderr",
     "output_type": "stream",
     "text": [
      "/Users/sofiafernandes/Documents/Repos/EmoReA/emorea-backend/src/select_features.py:54: RuntimeWarning: divide by zero encountered in scalar divide\n",
      "  dispersions[i] = arithmetic_mean / geometric_mean\n",
      "/Users/sofiafernandes/Documents/Repos/EmoReA/emorea-backend/src/select_features.py:54: RuntimeWarning: overflow encountered in scalar divide\n",
      "  dispersions[i] = arithmetic_mean / geometric_mean\n"
     ]
    },
    {
     "name": "stdout",
     "output_type": "stream",
     "text": [
      "[CV] END selector__L=0.8, selector__MS=0.75, selector__algorithm=algorithm1, selector__dispersion_measure=TV; total time=  23.4s\n"
     ]
    },
    {
     "name": "stderr",
     "output_type": "stream",
     "text": [
      "/Users/sofiafernandes/Documents/Repos/EmoReA/emorea-backend/src/select_features.py:54: RuntimeWarning: divide by zero encountered in scalar divide\n",
      "  dispersions[i] = arithmetic_mean / geometric_mean\n",
      "/Users/sofiafernandes/Documents/Repos/EmoReA/emorea-backend/src/select_features.py:54: RuntimeWarning: overflow encountered in scalar divide\n",
      "  dispersions[i] = arithmetic_mean / geometric_mean\n"
     ]
    },
    {
     "name": "stdout",
     "output_type": "stream",
     "text": [
      "[CV] END selector__L=0.8, selector__MS=0.75, selector__algorithm=algorithm1, selector__dispersion_measure=TV; total time=  23.4s\n"
     ]
    },
    {
     "name": "stderr",
     "output_type": "stream",
     "text": [
      "/Users/sofiafernandes/Documents/Repos/EmoReA/emorea-backend/src/select_features.py:54: RuntimeWarning: divide by zero encountered in scalar divide\n",
      "  dispersions[i] = arithmetic_mean / geometric_mean\n",
      "/Users/sofiafernandes/Documents/Repos/EmoReA/emorea-backend/src/select_features.py:54: RuntimeWarning: overflow encountered in scalar divide\n",
      "  dispersions[i] = arithmetic_mean / geometric_mean\n"
     ]
    },
    {
     "name": "stdout",
     "output_type": "stream",
     "text": [
      "[CV] END selector__L=0.8, selector__MS=0.75, selector__algorithm=algorithm1, selector__dispersion_measure=TV; total time=  24.6s\n",
      "[CV] END selector__L=0.8, selector__MS=0.75, selector__algorithm=algorithm1, selector__dispersion_measure=TV; total time=  26.0s\n",
      "[CV] END selector__L=0.8, selector__MS=0.75, selector__algorithm=algorithm1, selector__dispersion_measure=AMGM; total time=  26.8s\n",
      "[CV] END selector__L=0.8, selector__MS=0.75, selector__algorithm=algorithm1, selector__dispersion_measure=AMGM; total time=  27.0s\n",
      "[CV] END selector__L=0.8, selector__MS=0.75, selector__algorithm=algorithm1, selector__dispersion_measure=AMGM; total time=  27.5s\n",
      "[CV] END selector__L=0.8, selector__MS=0.75, selector__algorithm=algorithm1, selector__dispersion_measure=AMGM; total time=  27.5s\n",
      "[CV] END selector__L=0.8, selector__MS=0.75, selector__algorithm=algorithm1, selector__dispersion_measure=AMGM; total time=  27.3s\n",
      "[CV] END selector__L=0.8, selector__MS=0.75, selector__algorithm=algorithm1, selector__dispersion_measure=AMGM; total time=  26.2s\n",
      "[CV] END selector__L=0.8, selector__MS=0.75, selector__algorithm=algorithm1, selector__dispersion_measure=AMGM; total time=  24.1s\n",
      "[CV] END selector__L=0.8, selector__MS=0.75, selector__algorithm=algorithm1, selector__dispersion_measure=AMGM; total time=  22.8s\n",
      "[CV] END selector__L=0.8, selector__MS=0.75, selector__algorithm=algorithm1, selector__dispersion_measure=AMGM; total time=  23.0s\n",
      "[CV] END selector__L=0.8, selector__MS=0.75, selector__algorithm=algorithm1, selector__dispersion_measure=AMGM; total time=  22.7s\n",
      "[CV] END selector__L=0.8, selector__MS=0.75, selector__algorithm=algorithm2, selector__dispersion_measure=MM; total time=  21.7s\n",
      "[CV] END selector__L=0.8, selector__MS=0.75, selector__algorithm=algorithm2, selector__dispersion_measure=MM; total time=  21.9s\n",
      "[CV] END selector__L=0.8, selector__MS=0.75, selector__algorithm=algorithm2, selector__dispersion_measure=MM; total time=  23.0s\n",
      "[CV] END selector__L=0.8, selector__MS=0.75, selector__algorithm=algorithm2, selector__dispersion_measure=MM; total time=  23.6s\n",
      "[CV] END selector__L=0.8, selector__MS=0.75, selector__algorithm=algorithm2, selector__dispersion_measure=MM; total time=  23.9s\n",
      "[CV] END selector__L=0.8, selector__MS=0.75, selector__algorithm=algorithm2, selector__dispersion_measure=MM; total time=  23.7s\n",
      "[CV] END selector__L=0.8, selector__MS=0.75, selector__algorithm=algorithm2, selector__dispersion_measure=MM; total time=  25.1s\n",
      "[CV] END selector__L=0.8, selector__MS=0.75, selector__algorithm=algorithm2, selector__dispersion_measure=MM; total time=  22.2s\n",
      "[CV] END selector__L=0.8, selector__MS=0.75, selector__algorithm=algorithm2, selector__dispersion_measure=MM; total time=  20.2s\n",
      "[CV] END selector__L=0.8, selector__MS=0.75, selector__algorithm=algorithm2, selector__dispersion_measure=MM; total time=  19.3s\n",
      "[CV] END selector__L=0.8, selector__MS=0.75, selector__algorithm=algorithm2, selector__dispersion_measure=MAD; total time=  19.3s\n",
      "[CV] END selector__L=0.8, selector__MS=0.75, selector__algorithm=algorithm2, selector__dispersion_measure=MAD; total time=  19.3s\n",
      "[CV] END selector__L=0.8, selector__MS=0.75, selector__algorithm=algorithm2, selector__dispersion_measure=MAD; total time=  19.1s\n",
      "[CV] END selector__L=0.8, selector__MS=0.75, selector__algorithm=algorithm2, selector__dispersion_measure=MAD; total time=  20.1s\n",
      "[CV] END selector__L=0.8, selector__MS=0.75, selector__algorithm=algorithm2, selector__dispersion_measure=MAD; total time=  21.2s\n",
      "[CV] END selector__L=0.8, selector__MS=0.75, selector__algorithm=algorithm2, selector__dispersion_measure=MAD; total time=  22.0s\n",
      "[CV] END selector__L=0.8, selector__MS=0.75, selector__algorithm=algorithm2, selector__dispersion_measure=MAD; total time=  21.6s\n",
      "[CV] END selector__L=0.8, selector__MS=0.75, selector__algorithm=algorithm2, selector__dispersion_measure=MAD; total time=  21.8s\n",
      "[CV] END selector__L=0.8, selector__MS=0.75, selector__algorithm=algorithm2, selector__dispersion_measure=MAD; total time=  21.4s\n",
      "[CV] END selector__L=0.8, selector__MS=0.75, selector__algorithm=algorithm2, selector__dispersion_measure=MAD; total time=  21.1s\n"
     ]
    },
    {
     "name": "stderr",
     "output_type": "stream",
     "text": [
      "/Users/sofiafernandes/Documents/Repos/EmoReA/emorea-backend/src/select_features.py:54: RuntimeWarning: divide by zero encountered in scalar divide\n",
      "  dispersions[i] = arithmetic_mean / geometric_mean\n",
      "/Users/sofiafernandes/Documents/Repos/EmoReA/emorea-backend/src/select_features.py:54: RuntimeWarning: overflow encountered in scalar divide\n",
      "  dispersions[i] = arithmetic_mean / geometric_mean\n",
      "/Users/sofiafernandes/Documents/Repos/EmoReA/emorea-backend/src/select_features.py:54: RuntimeWarning: divide by zero encountered in scalar divide\n",
      "  dispersions[i] = arithmetic_mean / geometric_mean\n",
      "/Users/sofiafernandes/Documents/Repos/EmoReA/emorea-backend/src/select_features.py:54: RuntimeWarning: overflow encountered in scalar divide\n",
      "  dispersions[i] = arithmetic_mean / geometric_mean\n"
     ]
    },
    {
     "name": "stdout",
     "output_type": "stream",
     "text": [
      "[CV] END selector__L=0.8, selector__MS=0.75, selector__algorithm=algorithm2, selector__dispersion_measure=TV; total time=  21.9s\n"
     ]
    },
    {
     "name": "stderr",
     "output_type": "stream",
     "text": [
      "/Users/sofiafernandes/Documents/Repos/EmoReA/emorea-backend/src/select_features.py:54: RuntimeWarning: divide by zero encountered in scalar divide\n",
      "  dispersions[i] = arithmetic_mean / geometric_mean\n",
      "/Users/sofiafernandes/Documents/Repos/EmoReA/emorea-backend/src/select_features.py:54: RuntimeWarning: overflow encountered in scalar divide\n",
      "  dispersions[i] = arithmetic_mean / geometric_mean\n"
     ]
    },
    {
     "name": "stdout",
     "output_type": "stream",
     "text": [
      "[CV] END selector__L=0.8, selector__MS=0.75, selector__algorithm=algorithm2, selector__dispersion_measure=TV; total time=  21.1s\n",
      "[CV] END selector__L=0.8, selector__MS=0.75, selector__algorithm=algorithm2, selector__dispersion_measure=TV; total time=  18.6s\n"
     ]
    },
    {
     "name": "stderr",
     "output_type": "stream",
     "text": [
      "/Users/sofiafernandes/Documents/Repos/EmoReA/emorea-backend/src/select_features.py:54: RuntimeWarning: divide by zero encountered in scalar divide\n",
      "  dispersions[i] = arithmetic_mean / geometric_mean\n",
      "/Users/sofiafernandes/Documents/Repos/EmoReA/emorea-backend/src/select_features.py:54: RuntimeWarning: overflow encountered in scalar divide\n",
      "  dispersions[i] = arithmetic_mean / geometric_mean\n",
      "/Users/sofiafernandes/Documents/Repos/EmoReA/emorea-backend/src/select_features.py:54: RuntimeWarning: divide by zero encountered in scalar divide\n",
      "  dispersions[i] = arithmetic_mean / geometric_mean\n",
      "/Users/sofiafernandes/Documents/Repos/EmoReA/emorea-backend/src/select_features.py:54: RuntimeWarning: overflow encountered in scalar divide\n",
      "  dispersions[i] = arithmetic_mean / geometric_mean\n"
     ]
    },
    {
     "name": "stdout",
     "output_type": "stream",
     "text": [
      "[CV] END selector__L=0.8, selector__MS=0.75, selector__algorithm=algorithm2, selector__dispersion_measure=TV; total time=  17.8s\n"
     ]
    },
    {
     "name": "stderr",
     "output_type": "stream",
     "text": [
      "/Users/sofiafernandes/Documents/Repos/EmoReA/emorea-backend/src/select_features.py:54: RuntimeWarning: divide by zero encountered in scalar divide\n",
      "  dispersions[i] = arithmetic_mean / geometric_mean\n",
      "/Users/sofiafernandes/Documents/Repos/EmoReA/emorea-backend/src/select_features.py:54: RuntimeWarning: overflow encountered in scalar divide\n",
      "  dispersions[i] = arithmetic_mean / geometric_mean\n"
     ]
    },
    {
     "name": "stdout",
     "output_type": "stream",
     "text": [
      "[CV] END selector__L=0.8, selector__MS=0.75, selector__algorithm=algorithm2, selector__dispersion_measure=TV; total time=  20.2s\n"
     ]
    },
    {
     "name": "stderr",
     "output_type": "stream",
     "text": [
      "/Users/sofiafernandes/Documents/Repos/EmoReA/emorea-backend/src/select_features.py:54: RuntimeWarning: divide by zero encountered in scalar divide\n",
      "  dispersions[i] = arithmetic_mean / geometric_mean\n",
      "/Users/sofiafernandes/Documents/Repos/EmoReA/emorea-backend/src/select_features.py:54: RuntimeWarning: overflow encountered in scalar divide\n",
      "  dispersions[i] = arithmetic_mean / geometric_mean\n"
     ]
    },
    {
     "name": "stdout",
     "output_type": "stream",
     "text": [
      "[CV] END selector__L=0.8, selector__MS=0.75, selector__algorithm=algorithm2, selector__dispersion_measure=TV; total time=  19.9s\n"
     ]
    },
    {
     "name": "stderr",
     "output_type": "stream",
     "text": [
      "/Users/sofiafernandes/Documents/Repos/EmoReA/emorea-backend/src/select_features.py:54: RuntimeWarning: divide by zero encountered in scalar divide\n",
      "  dispersions[i] = arithmetic_mean / geometric_mean\n",
      "/Users/sofiafernandes/Documents/Repos/EmoReA/emorea-backend/src/select_features.py:54: RuntimeWarning: overflow encountered in scalar divide\n",
      "  dispersions[i] = arithmetic_mean / geometric_mean\n"
     ]
    },
    {
     "name": "stdout",
     "output_type": "stream",
     "text": [
      "[CV] END selector__L=0.8, selector__MS=0.75, selector__algorithm=algorithm2, selector__dispersion_measure=TV; total time=  20.2s\n"
     ]
    },
    {
     "name": "stderr",
     "output_type": "stream",
     "text": [
      "/Users/sofiafernandes/Documents/Repos/EmoReA/emorea-backend/src/select_features.py:54: RuntimeWarning: divide by zero encountered in scalar divide\n",
      "  dispersions[i] = arithmetic_mean / geometric_mean\n",
      "/Users/sofiafernandes/Documents/Repos/EmoReA/emorea-backend/src/select_features.py:54: RuntimeWarning: overflow encountered in scalar divide\n",
      "  dispersions[i] = arithmetic_mean / geometric_mean\n"
     ]
    },
    {
     "name": "stdout",
     "output_type": "stream",
     "text": [
      "[CV] END selector__L=0.8, selector__MS=0.75, selector__algorithm=algorithm2, selector__dispersion_measure=TV; total time=  21.0s\n"
     ]
    },
    {
     "name": "stderr",
     "output_type": "stream",
     "text": [
      "/Users/sofiafernandes/Documents/Repos/EmoReA/emorea-backend/src/select_features.py:54: RuntimeWarning: divide by zero encountered in scalar divide\n",
      "  dispersions[i] = arithmetic_mean / geometric_mean\n",
      "/Users/sofiafernandes/Documents/Repos/EmoReA/emorea-backend/src/select_features.py:54: RuntimeWarning: overflow encountered in scalar divide\n",
      "  dispersions[i] = arithmetic_mean / geometric_mean\n"
     ]
    },
    {
     "name": "stdout",
     "output_type": "stream",
     "text": [
      "[CV] END selector__L=0.8, selector__MS=0.75, selector__algorithm=algorithm2, selector__dispersion_measure=TV; total time=  21.6s\n",
      "[CV] END selector__L=0.8, selector__MS=0.75, selector__algorithm=algorithm2, selector__dispersion_measure=AMGM; total time=  21.1s\n",
      "[CV] END selector__L=0.8, selector__MS=0.75, selector__algorithm=algorithm2, selector__dispersion_measure=AMGM; total time=  21.2s\n",
      "[CV] END selector__L=0.8, selector__MS=0.75, selector__algorithm=algorithm2, selector__dispersion_measure=AMGM; total time=  23.6s\n",
      "[CV] END selector__L=0.8, selector__MS=0.75, selector__algorithm=algorithm2, selector__dispersion_measure=TV; total time=  23.3s\n",
      "[CV] END selector__L=0.8, selector__MS=0.75, selector__algorithm=algorithm2, selector__dispersion_measure=AMGM; total time=  18.7s\n",
      "[CV] END selector__L=0.8, selector__MS=0.75, selector__algorithm=algorithm2, selector__dispersion_measure=AMGM; total time=  19.6s\n",
      "[CV] END selector__L=0.8, selector__MS=0.75, selector__algorithm=algorithm2, selector__dispersion_measure=AMGM; total time=  17.3s\n",
      "[CV] END selector__L=0.8, selector__MS=0.75, selector__algorithm=algorithm2, selector__dispersion_measure=AMGM; total time=  18.8s\n",
      "[CV] END selector__L=0.8, selector__MS=0.75, selector__algorithm=algorithm2, selector__dispersion_measure=AMGM; total time=  18.0s\n",
      "[CV] END selector__L=0.8, selector__MS=0.75, selector__algorithm=algorithm2, selector__dispersion_measure=AMGM; total time=  18.9s\n",
      "[CV] END selector__L=0.8, selector__MS=0.75, selector__algorithm=algorithm2, selector__dispersion_measure=AMGM; total time=  21.0s\n",
      "[CV] END selector__L=0.8, selector__MS=0.8, selector__algorithm=algorithm1, selector__dispersion_measure=MM; total time=  24.7s\n",
      "[CV] END selector__L=0.8, selector__MS=0.8, selector__algorithm=algorithm1, selector__dispersion_measure=MM; total time=  25.8s\n",
      "[CV] END selector__L=0.8, selector__MS=0.8, selector__algorithm=algorithm1, selector__dispersion_measure=MM; total time=  25.5s\n",
      "[CV] END selector__L=0.8, selector__MS=0.8, selector__algorithm=algorithm1, selector__dispersion_measure=MM; total time=  25.6s\n",
      "[CV] END selector__L=0.8, selector__MS=0.8, selector__algorithm=algorithm1, selector__dispersion_measure=MM; total time=  25.0s\n",
      "[CV] END selector__L=0.8, selector__MS=0.8, selector__algorithm=algorithm1, selector__dispersion_measure=MM; total time=  25.8s\n",
      "[CV] END selector__L=0.8, selector__MS=0.8, selector__algorithm=algorithm1, selector__dispersion_measure=MM; total time=  24.1s\n",
      "[CV] END selector__L=0.8, selector__MS=0.8, selector__algorithm=algorithm1, selector__dispersion_measure=MM; total time=  22.8s\n",
      "[CV] END selector__L=0.8, selector__MS=0.8, selector__algorithm=algorithm1, selector__dispersion_measure=MM; total time=  21.1s\n",
      "[CV] END selector__L=0.8, selector__MS=0.8, selector__algorithm=algorithm1, selector__dispersion_measure=MM; total time=  21.3s\n",
      "[CV] END selector__L=0.8, selector__MS=0.8, selector__algorithm=algorithm1, selector__dispersion_measure=MAD; total time=  20.8s\n",
      "[CV] END selector__L=0.8, selector__MS=0.8, selector__algorithm=algorithm1, selector__dispersion_measure=MAD; total time=  22.9s\n",
      "[CV] END selector__L=0.8, selector__MS=0.8, selector__algorithm=algorithm1, selector__dispersion_measure=MAD; total time=  26.1s\n",
      "[CV] END selector__L=0.8, selector__MS=0.8, selector__algorithm=algorithm1, selector__dispersion_measure=MAD; total time=  34.4s\n",
      "[CV] END selector__L=0.8, selector__MS=0.8, selector__algorithm=algorithm1, selector__dispersion_measure=MAD; total time=  34.7s\n",
      "[CV] END selector__L=0.8, selector__MS=0.8, selector__algorithm=algorithm1, selector__dispersion_measure=MAD; total time=  35.7s\n",
      "[CV] END selector__L=0.8, selector__MS=0.8, selector__algorithm=algorithm1, selector__dispersion_measure=MAD; total time=  36.5s\n",
      "[CV] END selector__L=0.8, selector__MS=0.8, selector__algorithm=algorithm1, selector__dispersion_measure=MAD; total time=  36.3s\n",
      "[CV] END selector__L=0.8, selector__MS=0.8, selector__algorithm=algorithm1, selector__dispersion_measure=MAD; total time=  35.9s\n"
     ]
    },
    {
     "name": "stderr",
     "output_type": "stream",
     "text": [
      "/Users/sofiafernandes/Documents/Repos/EmoReA/emorea-backend/src/select_features.py:54: RuntimeWarning: divide by zero encountered in scalar divide\n",
      "  dispersions[i] = arithmetic_mean / geometric_mean\n",
      "/Users/sofiafernandes/Documents/Repos/EmoReA/emorea-backend/src/select_features.py:54: RuntimeWarning: overflow encountered in scalar divide\n",
      "  dispersions[i] = arithmetic_mean / geometric_mean\n"
     ]
    },
    {
     "name": "stdout",
     "output_type": "stream",
     "text": [
      "[CV] END selector__L=0.8, selector__MS=0.8, selector__algorithm=algorithm1, selector__dispersion_measure=MAD; total time=  35.6s\n"
     ]
    },
    {
     "name": "stderr",
     "output_type": "stream",
     "text": [
      "/Users/sofiafernandes/Documents/Repos/EmoReA/emorea-backend/src/select_features.py:54: RuntimeWarning: divide by zero encountered in scalar divide\n",
      "  dispersions[i] = arithmetic_mean / geometric_mean\n",
      "/Users/sofiafernandes/Documents/Repos/EmoReA/emorea-backend/src/select_features.py:54: RuntimeWarning: overflow encountered in scalar divide\n",
      "  dispersions[i] = arithmetic_mean / geometric_mean\n"
     ]
    },
    {
     "name": "stdout",
     "output_type": "stream",
     "text": [
      "[CV] END selector__L=0.8, selector__MS=0.8, selector__algorithm=algorithm1, selector__dispersion_measure=TV; total time=  31.6s\n"
     ]
    },
    {
     "name": "stderr",
     "output_type": "stream",
     "text": [
      "/Users/sofiafernandes/Documents/Repos/EmoReA/emorea-backend/src/select_features.py:54: RuntimeWarning: divide by zero encountered in scalar divide\n",
      "  dispersions[i] = arithmetic_mean / geometric_mean\n",
      "/Users/sofiafernandes/Documents/Repos/EmoReA/emorea-backend/src/select_features.py:54: RuntimeWarning: overflow encountered in scalar divide\n",
      "  dispersions[i] = arithmetic_mean / geometric_mean\n"
     ]
    },
    {
     "name": "stdout",
     "output_type": "stream",
     "text": [
      "[CV] END selector__L=0.8, selector__MS=0.8, selector__algorithm=algorithm1, selector__dispersion_measure=TV; total time=  31.3s\n"
     ]
    },
    {
     "name": "stderr",
     "output_type": "stream",
     "text": [
      "/Users/sofiafernandes/Documents/Repos/EmoReA/emorea-backend/src/select_features.py:54: RuntimeWarning: divide by zero encountered in scalar divide\n",
      "  dispersions[i] = arithmetic_mean / geometric_mean\n",
      "/Users/sofiafernandes/Documents/Repos/EmoReA/emorea-backend/src/select_features.py:54: RuntimeWarning: overflow encountered in scalar divide\n",
      "  dispersions[i] = arithmetic_mean / geometric_mean\n"
     ]
    },
    {
     "name": "stdout",
     "output_type": "stream",
     "text": [
      "[CV] END selector__L=0.8, selector__MS=0.8, selector__algorithm=algorithm1, selector__dispersion_measure=TV; total time=  29.8s\n"
     ]
    },
    {
     "name": "stderr",
     "output_type": "stream",
     "text": [
      "/Users/sofiafernandes/Documents/Repos/EmoReA/emorea-backend/src/select_features.py:54: RuntimeWarning: divide by zero encountered in scalar divide\n",
      "  dispersions[i] = arithmetic_mean / geometric_mean\n",
      "/Users/sofiafernandes/Documents/Repos/EmoReA/emorea-backend/src/select_features.py:54: RuntimeWarning: overflow encountered in scalar divide\n",
      "  dispersions[i] = arithmetic_mean / geometric_mean\n"
     ]
    },
    {
     "name": "stdout",
     "output_type": "stream",
     "text": [
      "[CV] END selector__L=0.8, selector__MS=0.8, selector__algorithm=algorithm1, selector__dispersion_measure=TV; total time=  28.1s\n"
     ]
    },
    {
     "name": "stderr",
     "output_type": "stream",
     "text": [
      "/Users/sofiafernandes/Documents/Repos/EmoReA/emorea-backend/src/select_features.py:54: RuntimeWarning: divide by zero encountered in scalar divide\n",
      "  dispersions[i] = arithmetic_mean / geometric_mean\n",
      "/Users/sofiafernandes/Documents/Repos/EmoReA/emorea-backend/src/select_features.py:54: RuntimeWarning: overflow encountered in scalar divide\n",
      "  dispersions[i] = arithmetic_mean / geometric_mean\n"
     ]
    },
    {
     "name": "stdout",
     "output_type": "stream",
     "text": [
      "[CV] END selector__L=0.8, selector__MS=0.8, selector__algorithm=algorithm1, selector__dispersion_measure=TV; total time=  26.5s\n"
     ]
    },
    {
     "name": "stderr",
     "output_type": "stream",
     "text": [
      "/Users/sofiafernandes/Documents/Repos/EmoReA/emorea-backend/src/select_features.py:54: RuntimeWarning: divide by zero encountered in scalar divide\n",
      "  dispersions[i] = arithmetic_mean / geometric_mean\n",
      "/Users/sofiafernandes/Documents/Repos/EmoReA/emorea-backend/src/select_features.py:54: RuntimeWarning: overflow encountered in scalar divide\n",
      "  dispersions[i] = arithmetic_mean / geometric_mean\n"
     ]
    },
    {
     "name": "stdout",
     "output_type": "stream",
     "text": [
      "[CV] END selector__L=0.8, selector__MS=0.8, selector__algorithm=algorithm1, selector__dispersion_measure=TV; total time=  27.7s\n"
     ]
    },
    {
     "name": "stderr",
     "output_type": "stream",
     "text": [
      "/Users/sofiafernandes/Documents/Repos/EmoReA/emorea-backend/src/select_features.py:54: RuntimeWarning: divide by zero encountered in scalar divide\n",
      "  dispersions[i] = arithmetic_mean / geometric_mean\n",
      "/Users/sofiafernandes/Documents/Repos/EmoReA/emorea-backend/src/select_features.py:54: RuntimeWarning: overflow encountered in scalar divide\n",
      "  dispersions[i] = arithmetic_mean / geometric_mean\n"
     ]
    },
    {
     "name": "stdout",
     "output_type": "stream",
     "text": [
      "[CV] END selector__L=0.8, selector__MS=0.8, selector__algorithm=algorithm1, selector__dispersion_measure=TV; total time=  28.1s\n"
     ]
    },
    {
     "name": "stderr",
     "output_type": "stream",
     "text": [
      "/Users/sofiafernandes/Documents/Repos/EmoReA/emorea-backend/src/select_features.py:54: RuntimeWarning: divide by zero encountered in scalar divide\n",
      "  dispersions[i] = arithmetic_mean / geometric_mean\n",
      "/Users/sofiafernandes/Documents/Repos/EmoReA/emorea-backend/src/select_features.py:54: RuntimeWarning: overflow encountered in scalar divide\n",
      "  dispersions[i] = arithmetic_mean / geometric_mean\n"
     ]
    },
    {
     "name": "stdout",
     "output_type": "stream",
     "text": [
      "[CV] END selector__L=0.8, selector__MS=0.8, selector__algorithm=algorithm1, selector__dispersion_measure=TV; total time=  27.9s\n"
     ]
    },
    {
     "name": "stderr",
     "output_type": "stream",
     "text": [
      "/Users/sofiafernandes/Documents/Repos/EmoReA/emorea-backend/src/select_features.py:54: RuntimeWarning: divide by zero encountered in scalar divide\n",
      "  dispersions[i] = arithmetic_mean / geometric_mean\n",
      "/Users/sofiafernandes/Documents/Repos/EmoReA/emorea-backend/src/select_features.py:54: RuntimeWarning: overflow encountered in scalar divide\n",
      "  dispersions[i] = arithmetic_mean / geometric_mean\n"
     ]
    },
    {
     "name": "stdout",
     "output_type": "stream",
     "text": [
      "[CV] END selector__L=0.8, selector__MS=0.8, selector__algorithm=algorithm1, selector__dispersion_measure=TV; total time=  28.2s\n",
      "[CV] END selector__L=0.8, selector__MS=0.8, selector__algorithm=algorithm1, selector__dispersion_measure=AMGM; total time=  27.9s\n",
      "[CV] END selector__L=0.8, selector__MS=0.8, selector__algorithm=algorithm1, selector__dispersion_measure=AMGM; total time=  27.4s\n",
      "[CV] END selector__L=0.8, selector__MS=0.8, selector__algorithm=algorithm1, selector__dispersion_measure=TV; total time=  28.6s\n",
      "[CV] END selector__L=0.8, selector__MS=0.8, selector__algorithm=algorithm1, selector__dispersion_measure=AMGM; total time=  26.0s\n",
      "[CV] END selector__L=0.8, selector__MS=0.8, selector__algorithm=algorithm1, selector__dispersion_measure=AMGM; total time=  26.2s\n",
      "[CV] END selector__L=0.8, selector__MS=0.8, selector__algorithm=algorithm1, selector__dispersion_measure=AMGM; total time=  24.5s\n",
      "[CV] END selector__L=0.8, selector__MS=0.8, selector__algorithm=algorithm1, selector__dispersion_measure=AMGM; total time=  23.2s\n",
      "[CV] END selector__L=0.8, selector__MS=0.8, selector__algorithm=algorithm1, selector__dispersion_measure=AMGM; total time=  26.9s\n",
      "[CV] END selector__L=0.8, selector__MS=0.8, selector__algorithm=algorithm1, selector__dispersion_measure=AMGM; total time=  32.7s\n",
      "[CV] END selector__L=0.8, selector__MS=0.8, selector__algorithm=algorithm1, selector__dispersion_measure=AMGM; total time=  32.4s\n",
      "[CV] END selector__L=0.8, selector__MS=0.8, selector__algorithm=algorithm1, selector__dispersion_measure=AMGM; total time=  30.9s\n",
      "[CV] END selector__L=0.8, selector__MS=0.8, selector__algorithm=algorithm2, selector__dispersion_measure=MM; total time=  26.3s\n",
      "[CV] END selector__L=0.8, selector__MS=0.8, selector__algorithm=algorithm2, selector__dispersion_measure=MM; total time=  26.2s\n",
      "[CV] END selector__L=0.8, selector__MS=0.8, selector__algorithm=algorithm2, selector__dispersion_measure=MM; total time=  25.3s\n",
      "[CV] END selector__L=0.8, selector__MS=0.8, selector__algorithm=algorithm2, selector__dispersion_measure=MM; total time=  25.1s\n",
      "[CV] END selector__L=0.8, selector__MS=0.8, selector__algorithm=algorithm2, selector__dispersion_measure=MM; total time=  21.2s\n",
      "[CV] END selector__L=0.8, selector__MS=0.8, selector__algorithm=algorithm2, selector__dispersion_measure=MM; total time=  22.3s\n",
      "[CV] END selector__L=0.8, selector__MS=0.8, selector__algorithm=algorithm2, selector__dispersion_measure=MM; total time=  22.5s\n",
      "[CV] END selector__L=0.8, selector__MS=0.8, selector__algorithm=algorithm2, selector__dispersion_measure=MM; total time=  19.0s\n",
      "[CV] END selector__L=0.8, selector__MS=0.8, selector__algorithm=algorithm2, selector__dispersion_measure=MM; total time=  18.7s\n",
      "[CV] END selector__L=0.8, selector__MS=0.8, selector__algorithm=algorithm2, selector__dispersion_measure=MM; total time=  22.1s\n",
      "[CV] END selector__L=0.8, selector__MS=0.8, selector__algorithm=algorithm2, selector__dispersion_measure=MAD; total time=  24.8s\n",
      "[CV] END selector__L=0.8, selector__MS=0.8, selector__algorithm=algorithm2, selector__dispersion_measure=MAD; total time=  26.0s\n",
      "[CV] END selector__L=0.8, selector__MS=0.8, selector__algorithm=algorithm2, selector__dispersion_measure=MAD; total time=  28.3s\n",
      "[CV] END selector__L=0.8, selector__MS=0.8, selector__algorithm=algorithm2, selector__dispersion_measure=MAD; total time=  27.8s\n",
      "[CV] END selector__L=0.8, selector__MS=0.8, selector__algorithm=algorithm2, selector__dispersion_measure=MAD; total time=  27.0s\n",
      "[CV] END selector__L=0.8, selector__MS=0.8, selector__algorithm=algorithm2, selector__dispersion_measure=MAD; total time=  27.2s\n",
      "[CV] END selector__L=0.8, selector__MS=0.8, selector__algorithm=algorithm2, selector__dispersion_measure=MAD; total time=  25.9s\n",
      "[CV] END selector__L=0.8, selector__MS=0.8, selector__algorithm=algorithm2, selector__dispersion_measure=MAD; total time=  28.1s\n",
      "[CV] END selector__L=0.8, selector__MS=0.8, selector__algorithm=algorithm2, selector__dispersion_measure=MAD; total time=  26.0s\n"
     ]
    },
    {
     "name": "stderr",
     "output_type": "stream",
     "text": [
      "/Users/sofiafernandes/Documents/Repos/EmoReA/emorea-backend/src/select_features.py:54: RuntimeWarning: divide by zero encountered in scalar divide\n",
      "  dispersions[i] = arithmetic_mean / geometric_mean\n",
      "/Users/sofiafernandes/Documents/Repos/EmoReA/emorea-backend/src/select_features.py:54: RuntimeWarning: overflow encountered in scalar divide\n",
      "  dispersions[i] = arithmetic_mean / geometric_mean\n"
     ]
    },
    {
     "name": "stdout",
     "output_type": "stream",
     "text": [
      "[CV] END selector__L=0.8, selector__MS=0.8, selector__algorithm=algorithm2, selector__dispersion_measure=MAD; total time=  25.7s\n"
     ]
    },
    {
     "name": "stderr",
     "output_type": "stream",
     "text": [
      "/Users/sofiafernandes/Documents/Repos/EmoReA/emorea-backend/src/select_features.py:54: RuntimeWarning: divide by zero encountered in scalar divide\n",
      "  dispersions[i] = arithmetic_mean / geometric_mean\n",
      "/Users/sofiafernandes/Documents/Repos/EmoReA/emorea-backend/src/select_features.py:54: RuntimeWarning: overflow encountered in scalar divide\n",
      "  dispersions[i] = arithmetic_mean / geometric_mean\n"
     ]
    },
    {
     "name": "stdout",
     "output_type": "stream",
     "text": [
      "[CV] END selector__L=0.8, selector__MS=0.8, selector__algorithm=algorithm2, selector__dispersion_measure=TV; total time=  22.1s\n"
     ]
    },
    {
     "name": "stderr",
     "output_type": "stream",
     "text": [
      "/Users/sofiafernandes/Documents/Repos/EmoReA/emorea-backend/src/select_features.py:54: RuntimeWarning: divide by zero encountered in scalar divide\n",
      "  dispersions[i] = arithmetic_mean / geometric_mean\n",
      "/Users/sofiafernandes/Documents/Repos/EmoReA/emorea-backend/src/select_features.py:54: RuntimeWarning: overflow encountered in scalar divide\n",
      "  dispersions[i] = arithmetic_mean / geometric_mean\n"
     ]
    },
    {
     "name": "stdout",
     "output_type": "stream",
     "text": [
      "[CV] END selector__L=0.8, selector__MS=0.8, selector__algorithm=algorithm2, selector__dispersion_measure=TV; total time=  24.5s\n"
     ]
    },
    {
     "name": "stderr",
     "output_type": "stream",
     "text": [
      "/Users/sofiafernandes/Documents/Repos/EmoReA/emorea-backend/src/select_features.py:54: RuntimeWarning: divide by zero encountered in scalar divide\n",
      "  dispersions[i] = arithmetic_mean / geometric_mean\n",
      "/Users/sofiafernandes/Documents/Repos/EmoReA/emorea-backend/src/select_features.py:54: RuntimeWarning: overflow encountered in scalar divide\n",
      "  dispersions[i] = arithmetic_mean / geometric_mean\n"
     ]
    },
    {
     "name": "stdout",
     "output_type": "stream",
     "text": [
      "[CV] END selector__L=0.8, selector__MS=0.8, selector__algorithm=algorithm2, selector__dispersion_measure=TV; total time=  26.3s\n"
     ]
    },
    {
     "name": "stderr",
     "output_type": "stream",
     "text": [
      "/Users/sofiafernandes/Documents/Repos/EmoReA/emorea-backend/src/select_features.py:54: RuntimeWarning: divide by zero encountered in scalar divide\n",
      "  dispersions[i] = arithmetic_mean / geometric_mean\n",
      "/Users/sofiafernandes/Documents/Repos/EmoReA/emorea-backend/src/select_features.py:54: RuntimeWarning: overflow encountered in scalar divide\n",
      "  dispersions[i] = arithmetic_mean / geometric_mean\n"
     ]
    },
    {
     "name": "stdout",
     "output_type": "stream",
     "text": [
      "[CV] END selector__L=0.8, selector__MS=0.8, selector__algorithm=algorithm2, selector__dispersion_measure=TV; total time=  19.5s\n"
     ]
    },
    {
     "name": "stderr",
     "output_type": "stream",
     "text": [
      "/Users/sofiafernandes/Documents/Repos/EmoReA/emorea-backend/src/select_features.py:54: RuntimeWarning: divide by zero encountered in scalar divide\n",
      "  dispersions[i] = arithmetic_mean / geometric_mean\n",
      "/Users/sofiafernandes/Documents/Repos/EmoReA/emorea-backend/src/select_features.py:54: RuntimeWarning: overflow encountered in scalar divide\n",
      "  dispersions[i] = arithmetic_mean / geometric_mean\n"
     ]
    },
    {
     "name": "stdout",
     "output_type": "stream",
     "text": [
      "[CV] END selector__L=0.8, selector__MS=0.8, selector__algorithm=algorithm2, selector__dispersion_measure=TV; total time=  21.7s\n"
     ]
    },
    {
     "name": "stderr",
     "output_type": "stream",
     "text": [
      "/Users/sofiafernandes/Documents/Repos/EmoReA/emorea-backend/src/select_features.py:54: RuntimeWarning: divide by zero encountered in scalar divide\n",
      "  dispersions[i] = arithmetic_mean / geometric_mean\n",
      "/Users/sofiafernandes/Documents/Repos/EmoReA/emorea-backend/src/select_features.py:54: RuntimeWarning: overflow encountered in scalar divide\n",
      "  dispersions[i] = arithmetic_mean / geometric_mean\n"
     ]
    },
    {
     "name": "stdout",
     "output_type": "stream",
     "text": [
      "[CV] END selector__L=0.8, selector__MS=0.8, selector__algorithm=algorithm2, selector__dispersion_measure=TV; total time=  19.7s\n"
     ]
    },
    {
     "name": "stderr",
     "output_type": "stream",
     "text": [
      "/Users/sofiafernandes/Documents/Repos/EmoReA/emorea-backend/src/select_features.py:54: RuntimeWarning: divide by zero encountered in scalar divide\n",
      "  dispersions[i] = arithmetic_mean / geometric_mean\n",
      "/Users/sofiafernandes/Documents/Repos/EmoReA/emorea-backend/src/select_features.py:54: RuntimeWarning: overflow encountered in scalar divide\n",
      "  dispersions[i] = arithmetic_mean / geometric_mean\n"
     ]
    },
    {
     "name": "stdout",
     "output_type": "stream",
     "text": [
      "[CV] END selector__L=0.8, selector__MS=0.8, selector__algorithm=algorithm2, selector__dispersion_measure=TV; total time=  22.5s\n"
     ]
    },
    {
     "name": "stderr",
     "output_type": "stream",
     "text": [
      "/Users/sofiafernandes/Documents/Repos/EmoReA/emorea-backend/src/select_features.py:54: RuntimeWarning: divide by zero encountered in scalar divide\n",
      "  dispersions[i] = arithmetic_mean / geometric_mean\n",
      "/Users/sofiafernandes/Documents/Repos/EmoReA/emorea-backend/src/select_features.py:54: RuntimeWarning: overflow encountered in scalar divide\n",
      "  dispersions[i] = arithmetic_mean / geometric_mean\n"
     ]
    },
    {
     "name": "stdout",
     "output_type": "stream",
     "text": [
      "[CV] END selector__L=0.8, selector__MS=0.8, selector__algorithm=algorithm2, selector__dispersion_measure=TV; total time=  22.3s\n"
     ]
    },
    {
     "name": "stderr",
     "output_type": "stream",
     "text": [
      "/Users/sofiafernandes/Documents/Repos/EmoReA/emorea-backend/src/select_features.py:54: RuntimeWarning: divide by zero encountered in scalar divide\n",
      "  dispersions[i] = arithmetic_mean / geometric_mean\n",
      "/Users/sofiafernandes/Documents/Repos/EmoReA/emorea-backend/src/select_features.py:54: RuntimeWarning: overflow encountered in scalar divide\n",
      "  dispersions[i] = arithmetic_mean / geometric_mean\n"
     ]
    },
    {
     "name": "stdout",
     "output_type": "stream",
     "text": [
      "[CV] END selector__L=0.8, selector__MS=0.8, selector__algorithm=algorithm2, selector__dispersion_measure=TV; total time=  19.4s\n",
      "[CV] END selector__L=0.8, selector__MS=0.8, selector__algorithm=algorithm2, selector__dispersion_measure=AMGM; total time=  18.8s\n",
      "[CV] END selector__L=0.8, selector__MS=0.8, selector__algorithm=algorithm2, selector__dispersion_measure=TV; total time=  21.6s\n",
      "[CV] END selector__L=0.8, selector__MS=0.8, selector__algorithm=algorithm2, selector__dispersion_measure=AMGM; total time=  19.6s\n",
      "[CV] END selector__L=0.8, selector__MS=0.8, selector__algorithm=algorithm2, selector__dispersion_measure=AMGM; total time=  17.9s\n",
      "[CV] END selector__L=0.8, selector__MS=0.8, selector__algorithm=algorithm2, selector__dispersion_measure=AMGM; total time=  19.6s\n",
      "[CV] END selector__L=0.8, selector__MS=0.8, selector__algorithm=algorithm2, selector__dispersion_measure=AMGM; total time=  20.5s\n",
      "[CV] END selector__L=0.8, selector__MS=0.8, selector__algorithm=algorithm2, selector__dispersion_measure=AMGM; total time=  24.0s\n",
      "[CV] END selector__L=0.8, selector__MS=0.8, selector__algorithm=algorithm2, selector__dispersion_measure=AMGM; total time=  24.9s\n",
      "[CV] END selector__L=0.8, selector__MS=0.8, selector__algorithm=algorithm2, selector__dispersion_measure=AMGM; total time=  25.0s\n",
      "[CV] END selector__L=0.8, selector__MS=0.8, selector__algorithm=algorithm2, selector__dispersion_measure=AMGM; total time=  26.8s\n",
      "[CV] END selector__L=0.8, selector__MS=0.8, selector__algorithm=algorithm2, selector__dispersion_measure=AMGM; total time=  24.1s\n",
      "[CV] END selector__L=0.9, selector__MS=0.7, selector__algorithm=algorithm1, selector__dispersion_measure=MM; total time=  29.7s\n",
      "[CV] END selector__L=0.9, selector__MS=0.7, selector__algorithm=algorithm1, selector__dispersion_measure=MM; total time=  29.9s\n",
      "[CV] END selector__L=0.9, selector__MS=0.7, selector__algorithm=algorithm1, selector__dispersion_measure=MM; total time=  29.2s\n",
      "[CV] END selector__L=0.9, selector__MS=0.7, selector__algorithm=algorithm1, selector__dispersion_measure=MM; total time=  27.8s\n",
      "[CV] END selector__L=0.9, selector__MS=0.7, selector__algorithm=algorithm1, selector__dispersion_measure=MM; total time=  27.1s\n",
      "[CV] END selector__L=0.9, selector__MS=0.7, selector__algorithm=algorithm1, selector__dispersion_measure=MM; total time=  23.1s\n",
      "[CV] END selector__L=0.9, selector__MS=0.7, selector__algorithm=algorithm1, selector__dispersion_measure=MM; total time=  26.3s\n",
      "[CV] END selector__L=0.9, selector__MS=0.7, selector__algorithm=algorithm1, selector__dispersion_measure=MM; total time=  37.7s\n",
      "[CV] END selector__L=0.9, selector__MS=0.7, selector__algorithm=algorithm1, selector__dispersion_measure=MM; total time=  38.8s\n",
      "[CV] END selector__L=0.9, selector__MS=0.7, selector__algorithm=algorithm1, selector__dispersion_measure=MM; total time=  39.3s\n",
      "[CV] END selector__L=0.9, selector__MS=0.7, selector__algorithm=algorithm1, selector__dispersion_measure=MAD; total time=  36.6s\n",
      "[CV] END selector__L=0.9, selector__MS=0.7, selector__algorithm=algorithm1, selector__dispersion_measure=MAD; total time=  34.6s\n",
      "[CV] END selector__L=0.9, selector__MS=0.7, selector__algorithm=algorithm1, selector__dispersion_measure=MAD; total time=  31.1s\n",
      "[CV] END selector__L=0.9, selector__MS=0.7, selector__algorithm=algorithm1, selector__dispersion_measure=MAD; total time=  31.2s\n",
      "[CV] END selector__L=0.9, selector__MS=0.7, selector__algorithm=algorithm1, selector__dispersion_measure=MAD; total time=  30.1s\n",
      "[CV] END selector__L=0.9, selector__MS=0.7, selector__algorithm=algorithm1, selector__dispersion_measure=MAD; total time=  29.5s\n",
      "[CV] END selector__L=0.9, selector__MS=0.7, selector__algorithm=algorithm1, selector__dispersion_measure=MAD; total time=  29.7s\n",
      "[CV] END selector__L=0.9, selector__MS=0.7, selector__algorithm=algorithm1, selector__dispersion_measure=MAD; total time=  26.9s\n",
      "[CV] END selector__L=0.9, selector__MS=0.7, selector__algorithm=algorithm1, selector__dispersion_measure=MAD; total time=  26.8s\n"
     ]
    },
    {
     "name": "stderr",
     "output_type": "stream",
     "text": [
      "/Users/sofiafernandes/Documents/Repos/EmoReA/emorea-backend/src/select_features.py:54: RuntimeWarning: divide by zero encountered in scalar divide\n",
      "  dispersions[i] = arithmetic_mean / geometric_mean\n",
      "/Users/sofiafernandes/Documents/Repos/EmoReA/emorea-backend/src/select_features.py:54: RuntimeWarning: overflow encountered in scalar divide\n",
      "  dispersions[i] = arithmetic_mean / geometric_mean\n"
     ]
    },
    {
     "name": "stdout",
     "output_type": "stream",
     "text": [
      "[CV] END selector__L=0.9, selector__MS=0.7, selector__algorithm=algorithm1, selector__dispersion_measure=TV; total time=  30.2s\n"
     ]
    },
    {
     "name": "stderr",
     "output_type": "stream",
     "text": [
      "/Users/sofiafernandes/Documents/Repos/EmoReA/emorea-backend/src/select_features.py:54: RuntimeWarning: divide by zero encountered in scalar divide\n",
      "  dispersions[i] = arithmetic_mean / geometric_mean\n",
      "/Users/sofiafernandes/Documents/Repos/EmoReA/emorea-backend/src/select_features.py:54: RuntimeWarning: overflow encountered in scalar divide\n",
      "  dispersions[i] = arithmetic_mean / geometric_mean\n"
     ]
    },
    {
     "name": "stdout",
     "output_type": "stream",
     "text": [
      "[CV] END selector__L=0.9, selector__MS=0.7, selector__algorithm=algorithm1, selector__dispersion_measure=MAD; total time=  30.7s\n"
     ]
    },
    {
     "name": "stderr",
     "output_type": "stream",
     "text": [
      "/Users/sofiafernandes/Documents/Repos/EmoReA/emorea-backend/src/select_features.py:54: RuntimeWarning: divide by zero encountered in scalar divide\n",
      "  dispersions[i] = arithmetic_mean / geometric_mean\n",
      "/Users/sofiafernandes/Documents/Repos/EmoReA/emorea-backend/src/select_features.py:54: RuntimeWarning: overflow encountered in scalar divide\n",
      "  dispersions[i] = arithmetic_mean / geometric_mean\n"
     ]
    },
    {
     "name": "stdout",
     "output_type": "stream",
     "text": [
      "[CV] END selector__L=0.9, selector__MS=0.7, selector__algorithm=algorithm1, selector__dispersion_measure=TV; total time=  29.9s\n"
     ]
    },
    {
     "name": "stderr",
     "output_type": "stream",
     "text": [
      "/Users/sofiafernandes/Documents/Repos/EmoReA/emorea-backend/src/select_features.py:54: RuntimeWarning: divide by zero encountered in scalar divide\n",
      "  dispersions[i] = arithmetic_mean / geometric_mean\n",
      "/Users/sofiafernandes/Documents/Repos/EmoReA/emorea-backend/src/select_features.py:54: RuntimeWarning: overflow encountered in scalar divide\n",
      "  dispersions[i] = arithmetic_mean / geometric_mean\n"
     ]
    },
    {
     "name": "stdout",
     "output_type": "stream",
     "text": [
      "[CV] END selector__L=0.9, selector__MS=0.7, selector__algorithm=algorithm1, selector__dispersion_measure=TV; total time=  30.3s\n"
     ]
    },
    {
     "name": "stderr",
     "output_type": "stream",
     "text": [
      "/Users/sofiafernandes/Documents/Repos/EmoReA/emorea-backend/src/select_features.py:54: RuntimeWarning: divide by zero encountered in scalar divide\n",
      "  dispersions[i] = arithmetic_mean / geometric_mean\n",
      "/Users/sofiafernandes/Documents/Repos/EmoReA/emorea-backend/src/select_features.py:54: RuntimeWarning: overflow encountered in scalar divide\n",
      "  dispersions[i] = arithmetic_mean / geometric_mean\n"
     ]
    },
    {
     "name": "stdout",
     "output_type": "stream",
     "text": [
      "[CV] END selector__L=0.9, selector__MS=0.7, selector__algorithm=algorithm1, selector__dispersion_measure=TV; total time=  29.8s\n"
     ]
    },
    {
     "name": "stderr",
     "output_type": "stream",
     "text": [
      "/Users/sofiafernandes/Documents/Repos/EmoReA/emorea-backend/src/select_features.py:54: RuntimeWarning: divide by zero encountered in scalar divide\n",
      "  dispersions[i] = arithmetic_mean / geometric_mean\n",
      "/Users/sofiafernandes/Documents/Repos/EmoReA/emorea-backend/src/select_features.py:54: RuntimeWarning: overflow encountered in scalar divide\n",
      "  dispersions[i] = arithmetic_mean / geometric_mean\n"
     ]
    },
    {
     "name": "stdout",
     "output_type": "stream",
     "text": [
      "[CV] END selector__L=0.9, selector__MS=0.7, selector__algorithm=algorithm1, selector__dispersion_measure=TV; total time=  28.5s\n"
     ]
    },
    {
     "name": "stderr",
     "output_type": "stream",
     "text": [
      "/Users/sofiafernandes/Documents/Repos/EmoReA/emorea-backend/src/select_features.py:54: RuntimeWarning: divide by zero encountered in scalar divide\n",
      "  dispersions[i] = arithmetic_mean / geometric_mean\n",
      "/Users/sofiafernandes/Documents/Repos/EmoReA/emorea-backend/src/select_features.py:54: RuntimeWarning: overflow encountered in scalar divide\n",
      "  dispersions[i] = arithmetic_mean / geometric_mean\n"
     ]
    },
    {
     "name": "stdout",
     "output_type": "stream",
     "text": [
      "[CV] END selector__L=0.9, selector__MS=0.7, selector__algorithm=algorithm1, selector__dispersion_measure=TV; total time=  28.5s\n"
     ]
    },
    {
     "name": "stderr",
     "output_type": "stream",
     "text": [
      "/Users/sofiafernandes/Documents/Repos/EmoReA/emorea-backend/src/select_features.py:54: RuntimeWarning: divide by zero encountered in scalar divide\n",
      "  dispersions[i] = arithmetic_mean / geometric_mean\n",
      "/Users/sofiafernandes/Documents/Repos/EmoReA/emorea-backend/src/select_features.py:54: RuntimeWarning: overflow encountered in scalar divide\n",
      "  dispersions[i] = arithmetic_mean / geometric_mean\n"
     ]
    },
    {
     "name": "stdout",
     "output_type": "stream",
     "text": [
      "[CV] END selector__L=0.9, selector__MS=0.7, selector__algorithm=algorithm1, selector__dispersion_measure=TV; total time=  28.7s\n"
     ]
    },
    {
     "name": "stderr",
     "output_type": "stream",
     "text": [
      "/Users/sofiafernandes/Documents/Repos/EmoReA/emorea-backend/src/select_features.py:54: RuntimeWarning: divide by zero encountered in scalar divide\n",
      "  dispersions[i] = arithmetic_mean / geometric_mean\n",
      "/Users/sofiafernandes/Documents/Repos/EmoReA/emorea-backend/src/select_features.py:54: RuntimeWarning: overflow encountered in scalar divide\n",
      "  dispersions[i] = arithmetic_mean / geometric_mean\n"
     ]
    },
    {
     "name": "stdout",
     "output_type": "stream",
     "text": [
      "[CV] END selector__L=0.9, selector__MS=0.7, selector__algorithm=algorithm1, selector__dispersion_measure=TV; total time=  29.1s\n"
     ]
    },
    {
     "name": "stderr",
     "output_type": "stream",
     "text": [
      "/Users/sofiafernandes/Documents/Repos/EmoReA/emorea-backend/src/select_features.py:54: RuntimeWarning: divide by zero encountered in scalar divide\n",
      "  dispersions[i] = arithmetic_mean / geometric_mean\n",
      "/Users/sofiafernandes/Documents/Repos/EmoReA/emorea-backend/src/select_features.py:54: RuntimeWarning: overflow encountered in scalar divide\n",
      "  dispersions[i] = arithmetic_mean / geometric_mean\n"
     ]
    },
    {
     "name": "stdout",
     "output_type": "stream",
     "text": [
      "[CV] END selector__L=0.9, selector__MS=0.7, selector__algorithm=algorithm1, selector__dispersion_measure=TV; total time=  28.6s\n",
      "[CV] END selector__L=0.9, selector__MS=0.7, selector__algorithm=algorithm1, selector__dispersion_measure=TV; total time=  30.9s\n",
      "[CV] END selector__L=0.9, selector__MS=0.7, selector__algorithm=algorithm1, selector__dispersion_measure=AMGM; total time=  31.9s\n",
      "[CV] END selector__L=0.9, selector__MS=0.7, selector__algorithm=algorithm1, selector__dispersion_measure=AMGM; total time=  39.9s\n",
      "[CV] END selector__L=0.9, selector__MS=0.7, selector__algorithm=algorithm1, selector__dispersion_measure=AMGM; total time=  40.0s\n",
      "[CV] END selector__L=0.9, selector__MS=0.7, selector__algorithm=algorithm1, selector__dispersion_measure=AMGM; total time=  39.3s\n",
      "[CV] END selector__L=0.9, selector__MS=0.7, selector__algorithm=algorithm1, selector__dispersion_measure=AMGM; total time=  36.6s\n",
      "[CV] END selector__L=0.9, selector__MS=0.7, selector__algorithm=algorithm1, selector__dispersion_measure=AMGM; total time=  35.6s\n",
      "[CV] END selector__L=0.9, selector__MS=0.7, selector__algorithm=algorithm2, selector__dispersion_measure=MM; total time=  25.7s\n",
      "[CV] END selector__L=0.9, selector__MS=0.7, selector__algorithm=algorithm1, selector__dispersion_measure=AMGM; total time=  34.7s\n",
      "[CV] END selector__L=0.9, selector__MS=0.7, selector__algorithm=algorithm1, selector__dispersion_measure=AMGM; total time=  34.1s\n",
      "[CV] END selector__L=0.9, selector__MS=0.7, selector__algorithm=algorithm2, selector__dispersion_measure=MM; total time=  23.3s\n",
      "[CV] END selector__L=0.9, selector__MS=0.7, selector__algorithm=algorithm2, selector__dispersion_measure=MM; total time=  22.2s\n",
      "[CV] END selector__L=0.9, selector__MS=0.7, selector__algorithm=algorithm1, selector__dispersion_measure=AMGM; total time=  33.7s\n",
      "[CV] END selector__L=0.9, selector__MS=0.7, selector__algorithm=algorithm1, selector__dispersion_measure=AMGM; total time=  34.0s\n",
      "[CV] END selector__L=0.9, selector__MS=0.7, selector__algorithm=algorithm2, selector__dispersion_measure=MM; total time=  23.7s\n",
      "[CV] END selector__L=0.9, selector__MS=0.7, selector__algorithm=algorithm2, selector__dispersion_measure=MM; total time=  24.1s\n",
      "[CV] END selector__L=0.9, selector__MS=0.7, selector__algorithm=algorithm2, selector__dispersion_measure=MM; total time=  25.6s\n",
      "[CV] END selector__L=0.9, selector__MS=0.7, selector__algorithm=algorithm2, selector__dispersion_measure=MM; total time=  21.8s\n",
      "[CV] END selector__L=0.9, selector__MS=0.7, selector__algorithm=algorithm2, selector__dispersion_measure=MM; total time=  19.5s\n",
      "[CV] END selector__L=0.9, selector__MS=0.7, selector__algorithm=algorithm2, selector__dispersion_measure=MM; total time=  18.5s\n",
      "[CV] END selector__L=0.9, selector__MS=0.7, selector__algorithm=algorithm2, selector__dispersion_measure=MM; total time=  18.1s\n",
      "[CV] END selector__L=0.9, selector__MS=0.7, selector__algorithm=algorithm2, selector__dispersion_measure=MAD; total time=  19.8s\n",
      "[CV] END selector__L=0.9, selector__MS=0.7, selector__algorithm=algorithm2, selector__dispersion_measure=MAD; total time=  19.1s\n",
      "[CV] END selector__L=0.9, selector__MS=0.7, selector__algorithm=algorithm2, selector__dispersion_measure=MAD; total time=  18.3s\n",
      "[CV] END selector__L=0.9, selector__MS=0.7, selector__algorithm=algorithm2, selector__dispersion_measure=MAD; total time=  16.9s\n",
      "[CV] END selector__L=0.9, selector__MS=0.7, selector__algorithm=algorithm2, selector__dispersion_measure=MAD; total time=  20.4s\n",
      "[CV] END selector__L=0.9, selector__MS=0.7, selector__algorithm=algorithm2, selector__dispersion_measure=MAD; total time=  17.1s\n",
      "[CV] END selector__L=0.9, selector__MS=0.7, selector__algorithm=algorithm2, selector__dispersion_measure=MAD; total time=  19.3s\n",
      "[CV] END selector__L=0.9, selector__MS=0.7, selector__algorithm=algorithm2, selector__dispersion_measure=MAD; total time=  19.3s\n",
      "[CV] END selector__L=0.9, selector__MS=0.7, selector__algorithm=algorithm2, selector__dispersion_measure=MAD; total time=  24.1s\n"
     ]
    },
    {
     "name": "stderr",
     "output_type": "stream",
     "text": [
      "/Users/sofiafernandes/Documents/Repos/EmoReA/emorea-backend/src/select_features.py:54: RuntimeWarning: divide by zero encountered in scalar divide\n",
      "  dispersions[i] = arithmetic_mean / geometric_mean\n",
      "/Users/sofiafernandes/Documents/Repos/EmoReA/emorea-backend/src/select_features.py:54: RuntimeWarning: overflow encountered in scalar divide\n",
      "  dispersions[i] = arithmetic_mean / geometric_mean\n"
     ]
    },
    {
     "name": "stdout",
     "output_type": "stream",
     "text": [
      "[CV] END selector__L=0.9, selector__MS=0.7, selector__algorithm=algorithm2, selector__dispersion_measure=MAD; total time=  27.3s\n"
     ]
    },
    {
     "name": "stderr",
     "output_type": "stream",
     "text": [
      "/Users/sofiafernandes/Documents/Repos/EmoReA/emorea-backend/src/select_features.py:54: RuntimeWarning: divide by zero encountered in scalar divide\n",
      "  dispersions[i] = arithmetic_mean / geometric_mean\n",
      "/Users/sofiafernandes/Documents/Repos/EmoReA/emorea-backend/src/select_features.py:54: RuntimeWarning: overflow encountered in scalar divide\n",
      "  dispersions[i] = arithmetic_mean / geometric_mean\n"
     ]
    },
    {
     "name": "stdout",
     "output_type": "stream",
     "text": [
      "[CV] END selector__L=0.9, selector__MS=0.7, selector__algorithm=algorithm2, selector__dispersion_measure=TV; total time=  27.5s\n"
     ]
    },
    {
     "name": "stderr",
     "output_type": "stream",
     "text": [
      "/Users/sofiafernandes/Documents/Repos/EmoReA/emorea-backend/src/select_features.py:54: RuntimeWarning: divide by zero encountered in scalar divide\n",
      "  dispersions[i] = arithmetic_mean / geometric_mean\n",
      "/Users/sofiafernandes/Documents/Repos/EmoReA/emorea-backend/src/select_features.py:54: RuntimeWarning: overflow encountered in scalar divide\n",
      "  dispersions[i] = arithmetic_mean / geometric_mean\n"
     ]
    },
    {
     "name": "stdout",
     "output_type": "stream",
     "text": [
      "[CV] END selector__L=0.9, selector__MS=0.7, selector__algorithm=algorithm2, selector__dispersion_measure=TV; total time=  27.9s\n"
     ]
    },
    {
     "name": "stderr",
     "output_type": "stream",
     "text": [
      "/Users/sofiafernandes/Documents/Repos/EmoReA/emorea-backend/src/select_features.py:54: RuntimeWarning: divide by zero encountered in scalar divide\n",
      "  dispersions[i] = arithmetic_mean / geometric_mean\n",
      "/Users/sofiafernandes/Documents/Repos/EmoReA/emorea-backend/src/select_features.py:54: RuntimeWarning: overflow encountered in scalar divide\n",
      "  dispersions[i] = arithmetic_mean / geometric_mean\n"
     ]
    },
    {
     "name": "stdout",
     "output_type": "stream",
     "text": [
      "[CV] END selector__L=0.9, selector__MS=0.7, selector__algorithm=algorithm2, selector__dispersion_measure=TV; total time=  26.0s\n"
     ]
    },
    {
     "name": "stderr",
     "output_type": "stream",
     "text": [
      "/Users/sofiafernandes/Documents/Repos/EmoReA/emorea-backend/src/select_features.py:54: RuntimeWarning: divide by zero encountered in scalar divide\n",
      "  dispersions[i] = arithmetic_mean / geometric_mean\n",
      "/Users/sofiafernandes/Documents/Repos/EmoReA/emorea-backend/src/select_features.py:54: RuntimeWarning: overflow encountered in scalar divide\n",
      "  dispersions[i] = arithmetic_mean / geometric_mean\n"
     ]
    },
    {
     "name": "stdout",
     "output_type": "stream",
     "text": [
      "[CV] END selector__L=0.9, selector__MS=0.7, selector__algorithm=algorithm2, selector__dispersion_measure=TV; total time=  25.8s\n"
     ]
    },
    {
     "name": "stderr",
     "output_type": "stream",
     "text": [
      "/Users/sofiafernandes/Documents/Repos/EmoReA/emorea-backend/src/select_features.py:54: RuntimeWarning: divide by zero encountered in scalar divide\n",
      "  dispersions[i] = arithmetic_mean / geometric_mean\n",
      "/Users/sofiafernandes/Documents/Repos/EmoReA/emorea-backend/src/select_features.py:54: RuntimeWarning: overflow encountered in scalar divide\n",
      "  dispersions[i] = arithmetic_mean / geometric_mean\n"
     ]
    },
    {
     "name": "stdout",
     "output_type": "stream",
     "text": [
      "[CV] END selector__L=0.9, selector__MS=0.7, selector__algorithm=algorithm2, selector__dispersion_measure=TV; total time=  26.8s\n"
     ]
    },
    {
     "name": "stderr",
     "output_type": "stream",
     "text": [
      "/Users/sofiafernandes/Documents/Repos/EmoReA/emorea-backend/src/select_features.py:54: RuntimeWarning: divide by zero encountered in scalar divide\n",
      "  dispersions[i] = arithmetic_mean / geometric_mean\n",
      "/Users/sofiafernandes/Documents/Repos/EmoReA/emorea-backend/src/select_features.py:54: RuntimeWarning: overflow encountered in scalar divide\n",
      "  dispersions[i] = arithmetic_mean / geometric_mean\n"
     ]
    },
    {
     "name": "stdout",
     "output_type": "stream",
     "text": [
      "[CV] END selector__L=0.9, selector__MS=0.7, selector__algorithm=algorithm2, selector__dispersion_measure=TV; total time=  28.1s\n"
     ]
    },
    {
     "name": "stderr",
     "output_type": "stream",
     "text": [
      "/Users/sofiafernandes/Documents/Repos/EmoReA/emorea-backend/src/select_features.py:54: RuntimeWarning: divide by zero encountered in scalar divide\n",
      "  dispersions[i] = arithmetic_mean / geometric_mean\n",
      "/Users/sofiafernandes/Documents/Repos/EmoReA/emorea-backend/src/select_features.py:54: RuntimeWarning: overflow encountered in scalar divide\n",
      "  dispersions[i] = arithmetic_mean / geometric_mean\n"
     ]
    },
    {
     "name": "stdout",
     "output_type": "stream",
     "text": [
      "[CV] END selector__L=0.9, selector__MS=0.7, selector__algorithm=algorithm2, selector__dispersion_measure=TV; total time=  24.7s\n"
     ]
    },
    {
     "name": "stderr",
     "output_type": "stream",
     "text": [
      "/Users/sofiafernandes/Documents/Repos/EmoReA/emorea-backend/src/select_features.py:54: RuntimeWarning: divide by zero encountered in scalar divide\n",
      "  dispersions[i] = arithmetic_mean / geometric_mean\n",
      "/Users/sofiafernandes/Documents/Repos/EmoReA/emorea-backend/src/select_features.py:54: RuntimeWarning: overflow encountered in scalar divide\n",
      "  dispersions[i] = arithmetic_mean / geometric_mean\n"
     ]
    },
    {
     "name": "stdout",
     "output_type": "stream",
     "text": [
      "[CV] END selector__L=0.9, selector__MS=0.7, selector__algorithm=algorithm2, selector__dispersion_measure=TV; total time=  21.1s\n"
     ]
    },
    {
     "name": "stderr",
     "output_type": "stream",
     "text": [
      "/Users/sofiafernandes/Documents/Repos/EmoReA/emorea-backend/src/select_features.py:54: RuntimeWarning: divide by zero encountered in scalar divide\n",
      "  dispersions[i] = arithmetic_mean / geometric_mean\n",
      "/Users/sofiafernandes/Documents/Repos/EmoReA/emorea-backend/src/select_features.py:54: RuntimeWarning: overflow encountered in scalar divide\n",
      "  dispersions[i] = arithmetic_mean / geometric_mean\n"
     ]
    },
    {
     "name": "stdout",
     "output_type": "stream",
     "text": [
      "[CV] END selector__L=0.9, selector__MS=0.7, selector__algorithm=algorithm2, selector__dispersion_measure=TV; total time=  20.6s\n",
      "[CV] END selector__L=0.9, selector__MS=0.7, selector__algorithm=algorithm2, selector__dispersion_measure=TV; total time=  20.6s\n",
      "[CV] END selector__L=0.9, selector__MS=0.7, selector__algorithm=algorithm2, selector__dispersion_measure=AMGM; total time=  17.7s\n",
      "[CV] END selector__L=0.9, selector__MS=0.7, selector__algorithm=algorithm2, selector__dispersion_measure=AMGM; total time=  21.0s\n",
      "[CV] END selector__L=0.9, selector__MS=0.7, selector__algorithm=algorithm2, selector__dispersion_measure=AMGM; total time=  17.8s\n",
      "[CV] END selector__L=0.9, selector__MS=0.7, selector__algorithm=algorithm2, selector__dispersion_measure=AMGM; total time=  17.0s\n",
      "[CV] END selector__L=0.9, selector__MS=0.7, selector__algorithm=algorithm2, selector__dispersion_measure=AMGM; total time=  16.6s\n",
      "[CV] END selector__L=0.9, selector__MS=0.7, selector__algorithm=algorithm2, selector__dispersion_measure=AMGM; total time=  16.5s\n",
      "[CV] END selector__L=0.9, selector__MS=0.7, selector__algorithm=algorithm2, selector__dispersion_measure=AMGM; total time=  16.6s\n",
      "[CV] END selector__L=0.9, selector__MS=0.7, selector__algorithm=algorithm2, selector__dispersion_measure=AMGM; total time=  16.7s\n",
      "[CV] END selector__L=0.9, selector__MS=0.7, selector__algorithm=algorithm2, selector__dispersion_measure=AMGM; total time=  16.1s\n",
      "[CV] END selector__L=0.9, selector__MS=0.7, selector__algorithm=algorithm2, selector__dispersion_measure=AMGM; total time=  18.2s\n",
      "[CV] END selector__L=0.9, selector__MS=0.75, selector__algorithm=algorithm1, selector__dispersion_measure=MM; total time=  23.4s\n",
      "[CV] END selector__L=0.9, selector__MS=0.75, selector__algorithm=algorithm1, selector__dispersion_measure=MM; total time=  23.7s\n",
      "[CV] END selector__L=0.9, selector__MS=0.75, selector__algorithm=algorithm1, selector__dispersion_measure=MM; total time=  26.3s\n",
      "[CV] END selector__L=0.9, selector__MS=0.75, selector__algorithm=algorithm1, selector__dispersion_measure=MM; total time=  29.3s\n",
      "[CV] END selector__L=0.9, selector__MS=0.75, selector__algorithm=algorithm1, selector__dispersion_measure=MM; total time=  29.4s\n",
      "[CV] END selector__L=0.9, selector__MS=0.75, selector__algorithm=algorithm1, selector__dispersion_measure=MM; total time=  29.4s\n",
      "[CV] END selector__L=0.9, selector__MS=0.75, selector__algorithm=algorithm1, selector__dispersion_measure=MM; total time=  29.5s\n",
      "[CV] END selector__L=0.9, selector__MS=0.75, selector__algorithm=algorithm1, selector__dispersion_measure=MM; total time=  29.0s\n",
      "[CV] END selector__L=0.9, selector__MS=0.75, selector__algorithm=algorithm1, selector__dispersion_measure=MM; total time=  29.0s\n",
      "[CV] END selector__L=0.9, selector__MS=0.75, selector__algorithm=algorithm1, selector__dispersion_measure=MM; total time=  29.1s\n",
      "[CV] END selector__L=0.9, selector__MS=0.75, selector__algorithm=algorithm1, selector__dispersion_measure=MAD; total time=  28.2s\n",
      "[CV] END selector__L=0.9, selector__MS=0.75, selector__algorithm=algorithm1, selector__dispersion_measure=MAD; total time=  27.7s\n",
      "[CV] END selector__L=0.9, selector__MS=0.75, selector__algorithm=algorithm1, selector__dispersion_measure=MAD; total time=  29.9s\n",
      "[CV] END selector__L=0.9, selector__MS=0.75, selector__algorithm=algorithm1, selector__dispersion_measure=MAD; total time=  30.3s\n",
      "[CV] END selector__L=0.9, selector__MS=0.75, selector__algorithm=algorithm1, selector__dispersion_measure=MAD; total time=  32.2s\n",
      "[CV] END selector__L=0.9, selector__MS=0.75, selector__algorithm=algorithm1, selector__dispersion_measure=MAD; total time=  34.4s\n",
      "[CV] END selector__L=0.9, selector__MS=0.75, selector__algorithm=algorithm1, selector__dispersion_measure=MAD; total time=  34.5s\n",
      "[CV] END selector__L=0.9, selector__MS=0.75, selector__algorithm=algorithm1, selector__dispersion_measure=MAD; total time=  34.4s\n",
      "[CV] END selector__L=0.9, selector__MS=0.75, selector__algorithm=algorithm1, selector__dispersion_measure=MAD; total time=  34.1s\n"
     ]
    },
    {
     "name": "stderr",
     "output_type": "stream",
     "text": [
      "/Users/sofiafernandes/Documents/Repos/EmoReA/emorea-backend/src/select_features.py:54: RuntimeWarning: divide by zero encountered in scalar divide\n",
      "  dispersions[i] = arithmetic_mean / geometric_mean\n",
      "/Users/sofiafernandes/Documents/Repos/EmoReA/emorea-backend/src/select_features.py:54: RuntimeWarning: overflow encountered in scalar divide\n",
      "  dispersions[i] = arithmetic_mean / geometric_mean\n"
     ]
    },
    {
     "name": "stdout",
     "output_type": "stream",
     "text": [
      "[CV] END selector__L=0.9, selector__MS=0.75, selector__algorithm=algorithm1, selector__dispersion_measure=MAD; total time=  32.4s\n"
     ]
    },
    {
     "name": "stderr",
     "output_type": "stream",
     "text": [
      "/Users/sofiafernandes/Documents/Repos/EmoReA/emorea-backend/src/select_features.py:54: RuntimeWarning: divide by zero encountered in scalar divide\n",
      "  dispersions[i] = arithmetic_mean / geometric_mean\n",
      "/Users/sofiafernandes/Documents/Repos/EmoReA/emorea-backend/src/select_features.py:54: RuntimeWarning: overflow encountered in scalar divide\n",
      "  dispersions[i] = arithmetic_mean / geometric_mean\n"
     ]
    },
    {
     "name": "stdout",
     "output_type": "stream",
     "text": [
      "[CV] END selector__L=0.9, selector__MS=0.75, selector__algorithm=algorithm1, selector__dispersion_measure=TV; total time=  31.9s\n"
     ]
    },
    {
     "name": "stderr",
     "output_type": "stream",
     "text": [
      "/Users/sofiafernandes/Documents/Repos/EmoReA/emorea-backend/src/select_features.py:54: RuntimeWarning: divide by zero encountered in scalar divide\n",
      "  dispersions[i] = arithmetic_mean / geometric_mean\n",
      "/Users/sofiafernandes/Documents/Repos/EmoReA/emorea-backend/src/select_features.py:54: RuntimeWarning: overflow encountered in scalar divide\n",
      "  dispersions[i] = arithmetic_mean / geometric_mean\n"
     ]
    },
    {
     "name": "stdout",
     "output_type": "stream",
     "text": [
      "[CV] END selector__L=0.9, selector__MS=0.75, selector__algorithm=algorithm1, selector__dispersion_measure=TV; total time=  31.2s\n"
     ]
    },
    {
     "name": "stderr",
     "output_type": "stream",
     "text": [
      "/Users/sofiafernandes/Documents/Repos/EmoReA/emorea-backend/src/select_features.py:54: RuntimeWarning: divide by zero encountered in scalar divide\n",
      "  dispersions[i] = arithmetic_mean / geometric_mean\n",
      "/Users/sofiafernandes/Documents/Repos/EmoReA/emorea-backend/src/select_features.py:54: RuntimeWarning: overflow encountered in scalar divide\n",
      "  dispersions[i] = arithmetic_mean / geometric_mean\n"
     ]
    },
    {
     "name": "stdout",
     "output_type": "stream",
     "text": [
      "[CV] END selector__L=0.9, selector__MS=0.75, selector__algorithm=algorithm1, selector__dispersion_measure=TV; total time=  31.4s\n"
     ]
    },
    {
     "name": "stderr",
     "output_type": "stream",
     "text": [
      "/Users/sofiafernandes/Documents/Repos/EmoReA/emorea-backend/src/select_features.py:54: RuntimeWarning: divide by zero encountered in scalar divide\n",
      "  dispersions[i] = arithmetic_mean / geometric_mean\n",
      "/Users/sofiafernandes/Documents/Repos/EmoReA/emorea-backend/src/select_features.py:54: RuntimeWarning: overflow encountered in scalar divide\n",
      "  dispersions[i] = arithmetic_mean / geometric_mean\n"
     ]
    },
    {
     "name": "stdout",
     "output_type": "stream",
     "text": [
      "[CV] END selector__L=0.9, selector__MS=0.75, selector__algorithm=algorithm1, selector__dispersion_measure=TV; total time=  30.6s\n"
     ]
    },
    {
     "name": "stderr",
     "output_type": "stream",
     "text": [
      "/Users/sofiafernandes/Documents/Repos/EmoReA/emorea-backend/src/select_features.py:54: RuntimeWarning: divide by zero encountered in scalar divide\n",
      "  dispersions[i] = arithmetic_mean / geometric_mean\n",
      "/Users/sofiafernandes/Documents/Repos/EmoReA/emorea-backend/src/select_features.py:54: RuntimeWarning: overflow encountered in scalar divide\n",
      "  dispersions[i] = arithmetic_mean / geometric_mean\n"
     ]
    },
    {
     "name": "stdout",
     "output_type": "stream",
     "text": [
      "[CV] END selector__L=0.9, selector__MS=0.75, selector__algorithm=algorithm1, selector__dispersion_measure=TV; total time=  29.7s\n"
     ]
    },
    {
     "name": "stderr",
     "output_type": "stream",
     "text": [
      "/Users/sofiafernandes/Documents/Repos/EmoReA/emorea-backend/src/select_features.py:54: RuntimeWarning: divide by zero encountered in scalar divide\n",
      "  dispersions[i] = arithmetic_mean / geometric_mean\n",
      "/Users/sofiafernandes/Documents/Repos/EmoReA/emorea-backend/src/select_features.py:54: RuntimeWarning: overflow encountered in scalar divide\n",
      "  dispersions[i] = arithmetic_mean / geometric_mean\n"
     ]
    },
    {
     "name": "stdout",
     "output_type": "stream",
     "text": [
      "[CV] END selector__L=0.9, selector__MS=0.75, selector__algorithm=algorithm1, selector__dispersion_measure=TV; total time=  29.9s\n"
     ]
    },
    {
     "name": "stderr",
     "output_type": "stream",
     "text": [
      "/Users/sofiafernandes/Documents/Repos/EmoReA/emorea-backend/src/select_features.py:54: RuntimeWarning: divide by zero encountered in scalar divide\n",
      "  dispersions[i] = arithmetic_mean / geometric_mean\n",
      "/Users/sofiafernandes/Documents/Repos/EmoReA/emorea-backend/src/select_features.py:54: RuntimeWarning: overflow encountered in scalar divide\n",
      "  dispersions[i] = arithmetic_mean / geometric_mean\n"
     ]
    },
    {
     "name": "stdout",
     "output_type": "stream",
     "text": [
      "[CV] END selector__L=0.9, selector__MS=0.75, selector__algorithm=algorithm1, selector__dispersion_measure=TV; total time=  30.1s\n"
     ]
    },
    {
     "name": "stderr",
     "output_type": "stream",
     "text": [
      "/Users/sofiafernandes/Documents/Repos/EmoReA/emorea-backend/src/select_features.py:54: RuntimeWarning: divide by zero encountered in scalar divide\n",
      "  dispersions[i] = arithmetic_mean / geometric_mean\n",
      "/Users/sofiafernandes/Documents/Repos/EmoReA/emorea-backend/src/select_features.py:54: RuntimeWarning: overflow encountered in scalar divide\n",
      "  dispersions[i] = arithmetic_mean / geometric_mean\n"
     ]
    },
    {
     "name": "stdout",
     "output_type": "stream",
     "text": [
      "[CV] END selector__L=0.9, selector__MS=0.75, selector__algorithm=algorithm1, selector__dispersion_measure=TV; total time=  31.6s\n"
     ]
    },
    {
     "name": "stderr",
     "output_type": "stream",
     "text": [
      "/Users/sofiafernandes/Documents/Repos/EmoReA/emorea-backend/src/select_features.py:54: RuntimeWarning: divide by zero encountered in scalar divide\n",
      "  dispersions[i] = arithmetic_mean / geometric_mean\n",
      "/Users/sofiafernandes/Documents/Repos/EmoReA/emorea-backend/src/select_features.py:54: RuntimeWarning: overflow encountered in scalar divide\n",
      "  dispersions[i] = arithmetic_mean / geometric_mean\n"
     ]
    },
    {
     "name": "stdout",
     "output_type": "stream",
     "text": [
      "[CV] END selector__L=0.9, selector__MS=0.75, selector__algorithm=algorithm1, selector__dispersion_measure=TV; total time=  31.7s\n",
      "[CV] END selector__L=0.9, selector__MS=0.75, selector__algorithm=algorithm1, selector__dispersion_measure=TV; total time=  32.4s\n",
      "[CV] END selector__L=0.9, selector__MS=0.75, selector__algorithm=algorithm1, selector__dispersion_measure=AMGM; total time=  31.6s\n",
      "[CV] END selector__L=0.9, selector__MS=0.75, selector__algorithm=algorithm1, selector__dispersion_measure=AMGM; total time=  30.6s\n",
      "[CV] END selector__L=0.9, selector__MS=0.75, selector__algorithm=algorithm1, selector__dispersion_measure=AMGM; total time=  30.8s\n",
      "[CV] END selector__L=0.9, selector__MS=0.75, selector__algorithm=algorithm1, selector__dispersion_measure=AMGM; total time=  30.5s\n",
      "[CV] END selector__L=0.9, selector__MS=0.75, selector__algorithm=algorithm1, selector__dispersion_measure=AMGM; total time=  30.9s\n",
      "[CV] END selector__L=0.9, selector__MS=0.75, selector__algorithm=algorithm1, selector__dispersion_measure=AMGM; total time=  29.7s\n",
      "[CV] END selector__L=0.9, selector__MS=0.75, selector__algorithm=algorithm1, selector__dispersion_measure=AMGM; total time=  28.9s\n",
      "[CV] END selector__L=0.9, selector__MS=0.75, selector__algorithm=algorithm1, selector__dispersion_measure=AMGM; total time=  29.0s\n",
      "[CV] END selector__L=0.9, selector__MS=0.75, selector__algorithm=algorithm1, selector__dispersion_measure=AMGM; total time=  30.7s\n",
      "[CV] END selector__L=0.9, selector__MS=0.75, selector__algorithm=algorithm2, selector__dispersion_measure=MM; total time=  27.7s\n",
      "[CV] END selector__L=0.9, selector__MS=0.75, selector__algorithm=algorithm2, selector__dispersion_measure=MM; total time=  29.7s\n",
      "[CV] END selector__L=0.9, selector__MS=0.75, selector__algorithm=algorithm2, selector__dispersion_measure=MM; total time=  29.6s\n",
      "[CV] END selector__L=0.9, selector__MS=0.75, selector__algorithm=algorithm1, selector__dispersion_measure=AMGM; total time=  36.7s\n",
      "[CV] END selector__L=0.9, selector__MS=0.75, selector__algorithm=algorithm2, selector__dispersion_measure=MM; total time=  27.1s\n",
      "[CV] END selector__L=0.9, selector__MS=0.75, selector__algorithm=algorithm2, selector__dispersion_measure=MM; total time=  26.0s\n",
      "[CV] END selector__L=0.9, selector__MS=0.75, selector__algorithm=algorithm2, selector__dispersion_measure=MM; total time=  26.0s\n",
      "[CV] END selector__L=0.9, selector__MS=0.75, selector__algorithm=algorithm2, selector__dispersion_measure=MM; total time=  25.9s\n",
      "[CV] END selector__L=0.9, selector__MS=0.75, selector__algorithm=algorithm2, selector__dispersion_measure=MM; total time=  27.4s\n",
      "[CV] END selector__L=0.9, selector__MS=0.75, selector__algorithm=algorithm2, selector__dispersion_measure=MM; total time=  21.5s\n",
      "[CV] END selector__L=0.9, selector__MS=0.75, selector__algorithm=algorithm2, selector__dispersion_measure=MM; total time=  21.0s\n",
      "[CV] END selector__L=0.9, selector__MS=0.75, selector__algorithm=algorithm2, selector__dispersion_measure=MAD; total time=  22.0s\n",
      "[CV] END selector__L=0.9, selector__MS=0.75, selector__algorithm=algorithm2, selector__dispersion_measure=MAD; total time=  19.9s\n",
      "[CV] END selector__L=0.9, selector__MS=0.75, selector__algorithm=algorithm2, selector__dispersion_measure=MAD; total time=  19.6s\n",
      "[CV] END selector__L=0.9, selector__MS=0.75, selector__algorithm=algorithm2, selector__dispersion_measure=MAD; total time=  19.6s\n",
      "[CV] END selector__L=0.9, selector__MS=0.75, selector__algorithm=algorithm2, selector__dispersion_measure=MAD; total time=  19.5s\n",
      "[CV] END selector__L=0.9, selector__MS=0.75, selector__algorithm=algorithm2, selector__dispersion_measure=MAD; total time=  19.7s\n",
      "[CV] END selector__L=0.9, selector__MS=0.75, selector__algorithm=algorithm2, selector__dispersion_measure=MAD; total time=  19.0s\n",
      "[CV] END selector__L=0.9, selector__MS=0.75, selector__algorithm=algorithm2, selector__dispersion_measure=MAD; total time=  19.1s\n",
      "[CV] END selector__L=0.9, selector__MS=0.75, selector__algorithm=algorithm2, selector__dispersion_measure=MAD; total time=  19.1s\n"
     ]
    },
    {
     "name": "stderr",
     "output_type": "stream",
     "text": [
      "/Users/sofiafernandes/Documents/Repos/EmoReA/emorea-backend/src/select_features.py:54: RuntimeWarning: divide by zero encountered in scalar divide\n",
      "  dispersions[i] = arithmetic_mean / geometric_mean\n",
      "/Users/sofiafernandes/Documents/Repos/EmoReA/emorea-backend/src/select_features.py:54: RuntimeWarning: overflow encountered in scalar divide\n",
      "  dispersions[i] = arithmetic_mean / geometric_mean\n"
     ]
    },
    {
     "name": "stdout",
     "output_type": "stream",
     "text": [
      "[CV] END selector__L=0.9, selector__MS=0.75, selector__algorithm=algorithm2, selector__dispersion_measure=MAD; total time=  19.0s\n"
     ]
    },
    {
     "name": "stderr",
     "output_type": "stream",
     "text": [
      "/Users/sofiafernandes/Documents/Repos/EmoReA/emorea-backend/src/select_features.py:54: RuntimeWarning: divide by zero encountered in scalar divide\n",
      "  dispersions[i] = arithmetic_mean / geometric_mean\n",
      "/Users/sofiafernandes/Documents/Repos/EmoReA/emorea-backend/src/select_features.py:54: RuntimeWarning: overflow encountered in scalar divide\n",
      "  dispersions[i] = arithmetic_mean / geometric_mean\n"
     ]
    },
    {
     "name": "stdout",
     "output_type": "stream",
     "text": [
      "[CV] END selector__L=0.9, selector__MS=0.75, selector__algorithm=algorithm2, selector__dispersion_measure=TV; total time=  20.6s\n"
     ]
    },
    {
     "name": "stderr",
     "output_type": "stream",
     "text": [
      "/Users/sofiafernandes/Documents/Repos/EmoReA/emorea-backend/src/select_features.py:54: RuntimeWarning: divide by zero encountered in scalar divide\n",
      "  dispersions[i] = arithmetic_mean / geometric_mean\n",
      "/Users/sofiafernandes/Documents/Repos/EmoReA/emorea-backend/src/select_features.py:54: RuntimeWarning: overflow encountered in scalar divide\n",
      "  dispersions[i] = arithmetic_mean / geometric_mean\n"
     ]
    },
    {
     "name": "stdout",
     "output_type": "stream",
     "text": [
      "[CV] END selector__L=0.9, selector__MS=0.75, selector__algorithm=algorithm2, selector__dispersion_measure=TV; total time=  20.7s\n"
     ]
    },
    {
     "name": "stderr",
     "output_type": "stream",
     "text": [
      "/Users/sofiafernandes/Documents/Repos/EmoReA/emorea-backend/src/select_features.py:54: RuntimeWarning: divide by zero encountered in scalar divide\n",
      "  dispersions[i] = arithmetic_mean / geometric_mean\n",
      "/Users/sofiafernandes/Documents/Repos/EmoReA/emorea-backend/src/select_features.py:54: RuntimeWarning: overflow encountered in scalar divide\n",
      "  dispersions[i] = arithmetic_mean / geometric_mean\n"
     ]
    },
    {
     "name": "stdout",
     "output_type": "stream",
     "text": [
      "[CV] END selector__L=0.9, selector__MS=0.75, selector__algorithm=algorithm2, selector__dispersion_measure=TV; total time=  22.7s\n"
     ]
    },
    {
     "name": "stderr",
     "output_type": "stream",
     "text": [
      "/Users/sofiafernandes/Documents/Repos/EmoReA/emorea-backend/src/select_features.py:54: RuntimeWarning: divide by zero encountered in scalar divide\n",
      "  dispersions[i] = arithmetic_mean / geometric_mean\n",
      "/Users/sofiafernandes/Documents/Repos/EmoReA/emorea-backend/src/select_features.py:54: RuntimeWarning: overflow encountered in scalar divide\n",
      "  dispersions[i] = arithmetic_mean / geometric_mean\n"
     ]
    },
    {
     "name": "stdout",
     "output_type": "stream",
     "text": [
      "[CV] END selector__L=0.9, selector__MS=0.75, selector__algorithm=algorithm2, selector__dispersion_measure=TV; total time=  24.5s\n"
     ]
    },
    {
     "name": "stderr",
     "output_type": "stream",
     "text": [
      "/Users/sofiafernandes/Documents/Repos/EmoReA/emorea-backend/src/select_features.py:54: RuntimeWarning: divide by zero encountered in scalar divide\n",
      "  dispersions[i] = arithmetic_mean / geometric_mean\n",
      "/Users/sofiafernandes/Documents/Repos/EmoReA/emorea-backend/src/select_features.py:54: RuntimeWarning: overflow encountered in scalar divide\n",
      "  dispersions[i] = arithmetic_mean / geometric_mean\n"
     ]
    },
    {
     "name": "stdout",
     "output_type": "stream",
     "text": [
      "[CV] END selector__L=0.9, selector__MS=0.75, selector__algorithm=algorithm2, selector__dispersion_measure=TV; total time=  26.3s\n"
     ]
    },
    {
     "name": "stderr",
     "output_type": "stream",
     "text": [
      "/Users/sofiafernandes/Documents/Repos/EmoReA/emorea-backend/src/select_features.py:54: RuntimeWarning: divide by zero encountered in scalar divide\n",
      "  dispersions[i] = arithmetic_mean / geometric_mean\n",
      "/Users/sofiafernandes/Documents/Repos/EmoReA/emorea-backend/src/select_features.py:54: RuntimeWarning: overflow encountered in scalar divide\n",
      "  dispersions[i] = arithmetic_mean / geometric_mean\n"
     ]
    },
    {
     "name": "stdout",
     "output_type": "stream",
     "text": [
      "[CV] END selector__L=0.9, selector__MS=0.75, selector__algorithm=algorithm2, selector__dispersion_measure=TV; total time=  27.1s\n"
     ]
    },
    {
     "name": "stderr",
     "output_type": "stream",
     "text": [
      "/Users/sofiafernandes/Documents/Repos/EmoReA/emorea-backend/src/select_features.py:54: RuntimeWarning: divide by zero encountered in scalar divide\n",
      "  dispersions[i] = arithmetic_mean / geometric_mean\n",
      "/Users/sofiafernandes/Documents/Repos/EmoReA/emorea-backend/src/select_features.py:54: RuntimeWarning: overflow encountered in scalar divide\n",
      "  dispersions[i] = arithmetic_mean / geometric_mean\n"
     ]
    },
    {
     "name": "stdout",
     "output_type": "stream",
     "text": [
      "[CV] END selector__L=0.9, selector__MS=0.75, selector__algorithm=algorithm2, selector__dispersion_measure=TV; total time=  25.8s\n"
     ]
    },
    {
     "name": "stderr",
     "output_type": "stream",
     "text": [
      "/Users/sofiafernandes/Documents/Repos/EmoReA/emorea-backend/src/select_features.py:54: RuntimeWarning: divide by zero encountered in scalar divide\n",
      "  dispersions[i] = arithmetic_mean / geometric_mean\n",
      "/Users/sofiafernandes/Documents/Repos/EmoReA/emorea-backend/src/select_features.py:54: RuntimeWarning: overflow encountered in scalar divide\n",
      "  dispersions[i] = arithmetic_mean / geometric_mean\n"
     ]
    },
    {
     "name": "stdout",
     "output_type": "stream",
     "text": [
      "[CV] END selector__L=0.9, selector__MS=0.75, selector__algorithm=algorithm2, selector__dispersion_measure=TV; total time=  25.1s\n"
     ]
    },
    {
     "name": "stderr",
     "output_type": "stream",
     "text": [
      "/Users/sofiafernandes/Documents/Repos/EmoReA/emorea-backend/src/select_features.py:54: RuntimeWarning: divide by zero encountered in scalar divide\n",
      "  dispersions[i] = arithmetic_mean / geometric_mean\n",
      "/Users/sofiafernandes/Documents/Repos/EmoReA/emorea-backend/src/select_features.py:54: RuntimeWarning: overflow encountered in scalar divide\n",
      "  dispersions[i] = arithmetic_mean / geometric_mean\n"
     ]
    },
    {
     "name": "stdout",
     "output_type": "stream",
     "text": [
      "[CV] END selector__L=0.9, selector__MS=0.75, selector__algorithm=algorithm2, selector__dispersion_measure=TV; total time=  25.5s\n",
      "[CV] END selector__L=0.9, selector__MS=0.75, selector__algorithm=algorithm2, selector__dispersion_measure=AMGM; total time=  23.4s\n",
      "[CV] END selector__L=0.9, selector__MS=0.75, selector__algorithm=algorithm2, selector__dispersion_measure=TV; total time=  26.4s\n",
      "[CV] END selector__L=0.9, selector__MS=0.75, selector__algorithm=algorithm2, selector__dispersion_measure=AMGM; total time=  26.5s\n",
      "[CV] END selector__L=0.9, selector__MS=0.75, selector__algorithm=algorithm2, selector__dispersion_measure=AMGM; total time=  24.2s\n",
      "[CV] END selector__L=0.9, selector__MS=0.75, selector__algorithm=algorithm2, selector__dispersion_measure=AMGM; total time=  25.8s\n",
      "[CV] END selector__L=0.9, selector__MS=0.75, selector__algorithm=algorithm2, selector__dispersion_measure=AMGM; total time=  29.9s\n",
      "[CV] END selector__L=0.9, selector__MS=0.75, selector__algorithm=algorithm2, selector__dispersion_measure=AMGM; total time=  32.3s\n",
      "[CV] END selector__L=0.9, selector__MS=0.75, selector__algorithm=algorithm2, selector__dispersion_measure=AMGM; total time=  28.9s\n",
      "[CV] END selector__L=0.9, selector__MS=0.75, selector__algorithm=algorithm2, selector__dispersion_measure=AMGM; total time=  33.2s\n",
      "[CV] END selector__L=0.9, selector__MS=0.75, selector__algorithm=algorithm2, selector__dispersion_measure=AMGM; total time=  26.6s\n",
      "[CV] END selector__L=0.9, selector__MS=0.75, selector__algorithm=algorithm2, selector__dispersion_measure=AMGM; total time=  27.7s\n",
      "[CV] END selector__L=0.9, selector__MS=0.8, selector__algorithm=algorithm1, selector__dispersion_measure=MM; total time=  37.5s\n",
      "[CV] END selector__L=0.9, selector__MS=0.8, selector__algorithm=algorithm1, selector__dispersion_measure=MM; total time=  37.1s\n",
      "[CV] END selector__L=0.9, selector__MS=0.8, selector__algorithm=algorithm1, selector__dispersion_measure=MM; total time=  39.1s\n",
      "[CV] END selector__L=0.9, selector__MS=0.8, selector__algorithm=algorithm1, selector__dispersion_measure=MM; total time=  38.9s\n",
      "[CV] END selector__L=0.9, selector__MS=0.8, selector__algorithm=algorithm1, selector__dispersion_measure=MM; total time=  38.6s\n",
      "[CV] END selector__L=0.9, selector__MS=0.8, selector__algorithm=algorithm1, selector__dispersion_measure=MM; total time=  39.2s\n",
      "[CV] END selector__L=0.9, selector__MS=0.8, selector__algorithm=algorithm1, selector__dispersion_measure=MM; total time=  37.6s\n",
      "[CV] END selector__L=0.9, selector__MS=0.8, selector__algorithm=algorithm1, selector__dispersion_measure=MM; total time=  35.5s\n",
      "[CV] END selector__L=0.9, selector__MS=0.8, selector__algorithm=algorithm1, selector__dispersion_measure=MM; total time=  36.6s\n",
      "[CV] END selector__L=0.9, selector__MS=0.8, selector__algorithm=algorithm1, selector__dispersion_measure=MM; total time=  36.4s\n",
      "[CV] END selector__L=0.9, selector__MS=0.8, selector__algorithm=algorithm1, selector__dispersion_measure=MAD; total time=  37.9s\n",
      "[CV] END selector__L=0.9, selector__MS=0.8, selector__algorithm=algorithm1, selector__dispersion_measure=MAD; total time=  40.9s\n",
      "[CV] END selector__L=0.9, selector__MS=0.8, selector__algorithm=algorithm1, selector__dispersion_measure=MAD; total time=  41.7s\n",
      "[CV] END selector__L=0.9, selector__MS=0.8, selector__algorithm=algorithm1, selector__dispersion_measure=MAD; total time=  41.7s\n",
      "[CV] END selector__L=0.9, selector__MS=0.8, selector__algorithm=algorithm1, selector__dispersion_measure=MAD; total time=  39.5s\n",
      "[CV] END selector__L=0.9, selector__MS=0.8, selector__algorithm=algorithm1, selector__dispersion_measure=MAD; total time=  38.6s\n",
      "[CV] END selector__L=0.9, selector__MS=0.8, selector__algorithm=algorithm1, selector__dispersion_measure=MAD; total time=  36.5s\n",
      "[CV] END selector__L=0.9, selector__MS=0.8, selector__algorithm=algorithm1, selector__dispersion_measure=MAD; total time=  35.3s\n",
      "[CV] END selector__L=0.9, selector__MS=0.8, selector__algorithm=algorithm1, selector__dispersion_measure=MAD; total time=  33.7s\n"
     ]
    },
    {
     "name": "stderr",
     "output_type": "stream",
     "text": [
      "/Users/sofiafernandes/Documents/Repos/EmoReA/emorea-backend/src/select_features.py:54: RuntimeWarning: divide by zero encountered in scalar divide\n",
      "  dispersions[i] = arithmetic_mean / geometric_mean\n",
      "/Users/sofiafernandes/Documents/Repos/EmoReA/emorea-backend/src/select_features.py:54: RuntimeWarning: overflow encountered in scalar divide\n",
      "  dispersions[i] = arithmetic_mean / geometric_mean\n"
     ]
    },
    {
     "name": "stdout",
     "output_type": "stream",
     "text": [
      "[CV] END selector__L=0.9, selector__MS=0.8, selector__algorithm=algorithm1, selector__dispersion_measure=MAD; total time=  35.5s\n"
     ]
    },
    {
     "name": "stderr",
     "output_type": "stream",
     "text": [
      "/Users/sofiafernandes/Documents/Repos/EmoReA/emorea-backend/src/select_features.py:54: RuntimeWarning: divide by zero encountered in scalar divide\n",
      "  dispersions[i] = arithmetic_mean / geometric_mean\n",
      "/Users/sofiafernandes/Documents/Repos/EmoReA/emorea-backend/src/select_features.py:54: RuntimeWarning: overflow encountered in scalar divide\n",
      "  dispersions[i] = arithmetic_mean / geometric_mean\n"
     ]
    },
    {
     "name": "stdout",
     "output_type": "stream",
     "text": [
      "[CV] END selector__L=0.9, selector__MS=0.8, selector__algorithm=algorithm1, selector__dispersion_measure=TV; total time=  35.9s\n"
     ]
    },
    {
     "name": "stderr",
     "output_type": "stream",
     "text": [
      "/Users/sofiafernandes/Documents/Repos/EmoReA/emorea-backend/src/select_features.py:54: RuntimeWarning: divide by zero encountered in scalar divide\n",
      "  dispersions[i] = arithmetic_mean / geometric_mean\n",
      "/Users/sofiafernandes/Documents/Repos/EmoReA/emorea-backend/src/select_features.py:54: RuntimeWarning: overflow encountered in scalar divide\n",
      "  dispersions[i] = arithmetic_mean / geometric_mean\n"
     ]
    },
    {
     "name": "stdout",
     "output_type": "stream",
     "text": [
      "[CV] END selector__L=0.9, selector__MS=0.8, selector__algorithm=algorithm1, selector__dispersion_measure=TV; total time=  35.7s\n"
     ]
    },
    {
     "name": "stderr",
     "output_type": "stream",
     "text": [
      "/Users/sofiafernandes/Documents/Repos/EmoReA/emorea-backend/src/select_features.py:54: RuntimeWarning: divide by zero encountered in scalar divide\n",
      "  dispersions[i] = arithmetic_mean / geometric_mean\n",
      "/Users/sofiafernandes/Documents/Repos/EmoReA/emorea-backend/src/select_features.py:54: RuntimeWarning: overflow encountered in scalar divide\n",
      "  dispersions[i] = arithmetic_mean / geometric_mean\n"
     ]
    },
    {
     "name": "stdout",
     "output_type": "stream",
     "text": [
      "[CV] END selector__L=0.9, selector__MS=0.8, selector__algorithm=algorithm1, selector__dispersion_measure=TV; total time=  35.9s\n"
     ]
    },
    {
     "name": "stderr",
     "output_type": "stream",
     "text": [
      "/Users/sofiafernandes/Documents/Repos/EmoReA/emorea-backend/src/select_features.py:54: RuntimeWarning: divide by zero encountered in scalar divide\n",
      "  dispersions[i] = arithmetic_mean / geometric_mean\n",
      "/Users/sofiafernandes/Documents/Repos/EmoReA/emorea-backend/src/select_features.py:54: RuntimeWarning: overflow encountered in scalar divide\n",
      "  dispersions[i] = arithmetic_mean / geometric_mean\n"
     ]
    },
    {
     "name": "stdout",
     "output_type": "stream",
     "text": [
      "[CV] END selector__L=0.9, selector__MS=0.8, selector__algorithm=algorithm1, selector__dispersion_measure=TV; total time=  36.1s\n"
     ]
    },
    {
     "name": "stderr",
     "output_type": "stream",
     "text": [
      "/Users/sofiafernandes/Documents/Repos/EmoReA/emorea-backend/src/select_features.py:54: RuntimeWarning: divide by zero encountered in scalar divide\n",
      "  dispersions[i] = arithmetic_mean / geometric_mean\n",
      "/Users/sofiafernandes/Documents/Repos/EmoReA/emorea-backend/src/select_features.py:54: RuntimeWarning: overflow encountered in scalar divide\n",
      "  dispersions[i] = arithmetic_mean / geometric_mean\n"
     ]
    },
    {
     "name": "stdout",
     "output_type": "stream",
     "text": [
      "[CV] END selector__L=0.9, selector__MS=0.8, selector__algorithm=algorithm1, selector__dispersion_measure=TV; total time=  36.8s\n"
     ]
    },
    {
     "name": "stderr",
     "output_type": "stream",
     "text": [
      "/Users/sofiafernandes/Documents/Repos/EmoReA/emorea-backend/src/select_features.py:54: RuntimeWarning: divide by zero encountered in scalar divide\n",
      "  dispersions[i] = arithmetic_mean / geometric_mean\n",
      "/Users/sofiafernandes/Documents/Repos/EmoReA/emorea-backend/src/select_features.py:54: RuntimeWarning: overflow encountered in scalar divide\n",
      "  dispersions[i] = arithmetic_mean / geometric_mean\n"
     ]
    },
    {
     "name": "stdout",
     "output_type": "stream",
     "text": [
      "[CV] END selector__L=0.9, selector__MS=0.8, selector__algorithm=algorithm1, selector__dispersion_measure=TV; total time=  36.8s\n"
     ]
    },
    {
     "name": "stderr",
     "output_type": "stream",
     "text": [
      "/Users/sofiafernandes/Documents/Repos/EmoReA/emorea-backend/src/select_features.py:54: RuntimeWarning: divide by zero encountered in scalar divide\n",
      "  dispersions[i] = arithmetic_mean / geometric_mean\n",
      "/Users/sofiafernandes/Documents/Repos/EmoReA/emorea-backend/src/select_features.py:54: RuntimeWarning: overflow encountered in scalar divide\n",
      "  dispersions[i] = arithmetic_mean / geometric_mean\n"
     ]
    },
    {
     "name": "stdout",
     "output_type": "stream",
     "text": [
      "[CV] END selector__L=0.9, selector__MS=0.8, selector__algorithm=algorithm1, selector__dispersion_measure=TV; total time=  38.3s\n"
     ]
    },
    {
     "name": "stderr",
     "output_type": "stream",
     "text": [
      "/Users/sofiafernandes/Documents/Repos/EmoReA/emorea-backend/src/select_features.py:54: RuntimeWarning: divide by zero encountered in scalar divide\n",
      "  dispersions[i] = arithmetic_mean / geometric_mean\n",
      "/Users/sofiafernandes/Documents/Repos/EmoReA/emorea-backend/src/select_features.py:54: RuntimeWarning: overflow encountered in scalar divide\n",
      "  dispersions[i] = arithmetic_mean / geometric_mean\n"
     ]
    },
    {
     "name": "stdout",
     "output_type": "stream",
     "text": [
      "[CV] END selector__L=0.9, selector__MS=0.8, selector__algorithm=algorithm1, selector__dispersion_measure=TV; total time=  38.5s\n"
     ]
    },
    {
     "name": "stderr",
     "output_type": "stream",
     "text": [
      "/Users/sofiafernandes/Documents/Repos/EmoReA/emorea-backend/src/select_features.py:54: RuntimeWarning: divide by zero encountered in scalar divide\n",
      "  dispersions[i] = arithmetic_mean / geometric_mean\n",
      "/Users/sofiafernandes/Documents/Repos/EmoReA/emorea-backend/src/select_features.py:54: RuntimeWarning: overflow encountered in scalar divide\n",
      "  dispersions[i] = arithmetic_mean / geometric_mean\n"
     ]
    },
    {
     "name": "stdout",
     "output_type": "stream",
     "text": [
      "[CV] END selector__L=0.9, selector__MS=0.8, selector__algorithm=algorithm1, selector__dispersion_measure=TV; total time=  38.6s\n",
      "[CV] END selector__L=0.9, selector__MS=0.8, selector__algorithm=algorithm1, selector__dispersion_measure=TV; total time=  38.9s\n",
      "[CV] END selector__L=0.9, selector__MS=0.8, selector__algorithm=algorithm1, selector__dispersion_measure=AMGM; total time=  37.9s\n",
      "[CV] END selector__L=0.9, selector__MS=0.8, selector__algorithm=algorithm1, selector__dispersion_measure=AMGM; total time=  35.8s\n",
      "[CV] END selector__L=0.9, selector__MS=0.8, selector__algorithm=algorithm1, selector__dispersion_measure=AMGM; total time=  35.7s\n",
      "[CV] END selector__L=0.9, selector__MS=0.8, selector__algorithm=algorithm1, selector__dispersion_measure=AMGM; total time=  36.0s\n",
      "[CV] END selector__L=0.9, selector__MS=0.8, selector__algorithm=algorithm1, selector__dispersion_measure=AMGM; total time=  33.4s\n",
      "[CV] END selector__L=0.9, selector__MS=0.8, selector__algorithm=algorithm1, selector__dispersion_measure=AMGM; total time=  34.6s\n",
      "[CV] END selector__L=0.9, selector__MS=0.8, selector__algorithm=algorithm1, selector__dispersion_measure=AMGM; total time=  35.2s\n",
      "[CV] END selector__L=0.9, selector__MS=0.8, selector__algorithm=algorithm1, selector__dispersion_measure=AMGM; total time=  34.9s\n",
      "[CV] END selector__L=0.9, selector__MS=0.8, selector__algorithm=algorithm2, selector__dispersion_measure=MM; total time=  25.9s\n",
      "[CV] END selector__L=0.9, selector__MS=0.8, selector__algorithm=algorithm1, selector__dispersion_measure=AMGM; total time=  34.1s\n",
      "[CV] END selector__L=0.9, selector__MS=0.8, selector__algorithm=algorithm2, selector__dispersion_measure=MM; total time=  26.1s\n",
      "[CV] END selector__L=0.9, selector__MS=0.8, selector__algorithm=algorithm1, selector__dispersion_measure=AMGM; total time=  34.4s\n",
      "[CV] END selector__L=0.9, selector__MS=0.8, selector__algorithm=algorithm2, selector__dispersion_measure=MM; total time=  25.2s\n",
      "[CV] END selector__L=0.9, selector__MS=0.8, selector__algorithm=algorithm2, selector__dispersion_measure=MM; total time=  24.7s\n",
      "[CV] END selector__L=0.9, selector__MS=0.8, selector__algorithm=algorithm2, selector__dispersion_measure=MM; total time=  23.5s\n",
      "[CV] END selector__L=0.9, selector__MS=0.8, selector__algorithm=algorithm2, selector__dispersion_measure=MM; total time=  22.5s\n",
      "[CV] END selector__L=0.9, selector__MS=0.8, selector__algorithm=algorithm2, selector__dispersion_measure=MM; total time=  26.7s\n",
      "[CV] END selector__L=0.9, selector__MS=0.8, selector__algorithm=algorithm2, selector__dispersion_measure=MM; total time=  24.1s\n",
      "[CV] END selector__L=0.9, selector__MS=0.8, selector__algorithm=algorithm2, selector__dispersion_measure=MM; total time=  24.1s\n",
      "[CV] END selector__L=0.9, selector__MS=0.8, selector__algorithm=algorithm2, selector__dispersion_measure=MM; total time=  23.4s\n",
      "[CV] END selector__L=0.9, selector__MS=0.8, selector__algorithm=algorithm2, selector__dispersion_measure=MAD; total time=  23.6s\n",
      "[CV] END selector__L=0.9, selector__MS=0.8, selector__algorithm=algorithm2, selector__dispersion_measure=MAD; total time=  24.3s\n",
      "[CV] END selector__L=0.9, selector__MS=0.8, selector__algorithm=algorithm2, selector__dispersion_measure=MAD; total time=  22.7s\n",
      "[CV] END selector__L=0.9, selector__MS=0.8, selector__algorithm=algorithm2, selector__dispersion_measure=MAD; total time=  23.5s\n",
      "[CV] END selector__L=0.9, selector__MS=0.8, selector__algorithm=algorithm2, selector__dispersion_measure=MAD; total time=  21.4s\n",
      "[CV] END selector__L=0.9, selector__MS=0.8, selector__algorithm=algorithm2, selector__dispersion_measure=MAD; total time=  19.3s\n",
      "[CV] END selector__L=0.9, selector__MS=0.8, selector__algorithm=algorithm2, selector__dispersion_measure=MAD; total time=  19.2s\n",
      "[CV] END selector__L=0.9, selector__MS=0.8, selector__algorithm=algorithm2, selector__dispersion_measure=MAD; total time=  20.8s\n",
      "[CV] END selector__L=0.9, selector__MS=0.8, selector__algorithm=algorithm2, selector__dispersion_measure=MAD; total time=  18.6s\n"
     ]
    },
    {
     "name": "stderr",
     "output_type": "stream",
     "text": [
      "/Users/sofiafernandes/Documents/Repos/EmoReA/emorea-backend/src/select_features.py:54: RuntimeWarning: divide by zero encountered in scalar divide\n",
      "  dispersions[i] = arithmetic_mean / geometric_mean\n",
      "/Users/sofiafernandes/Documents/Repos/EmoReA/emorea-backend/src/select_features.py:54: RuntimeWarning: overflow encountered in scalar divide\n",
      "  dispersions[i] = arithmetic_mean / geometric_mean\n"
     ]
    },
    {
     "name": "stdout",
     "output_type": "stream",
     "text": [
      "[CV] END selector__L=0.9, selector__MS=0.8, selector__algorithm=algorithm2, selector__dispersion_measure=MAD; total time=  18.9s\n"
     ]
    },
    {
     "name": "stderr",
     "output_type": "stream",
     "text": [
      "/Users/sofiafernandes/Documents/Repos/EmoReA/emorea-backend/src/select_features.py:54: RuntimeWarning: divide by zero encountered in scalar divide\n",
      "  dispersions[i] = arithmetic_mean / geometric_mean\n",
      "/Users/sofiafernandes/Documents/Repos/EmoReA/emorea-backend/src/select_features.py:54: RuntimeWarning: overflow encountered in scalar divide\n",
      "  dispersions[i] = arithmetic_mean / geometric_mean\n"
     ]
    },
    {
     "name": "stdout",
     "output_type": "stream",
     "text": [
      "[CV] END selector__L=0.9, selector__MS=0.8, selector__algorithm=algorithm2, selector__dispersion_measure=TV; total time=  19.9s\n"
     ]
    },
    {
     "name": "stderr",
     "output_type": "stream",
     "text": [
      "/Users/sofiafernandes/Documents/Repos/EmoReA/emorea-backend/src/select_features.py:54: RuntimeWarning: divide by zero encountered in scalar divide\n",
      "  dispersions[i] = arithmetic_mean / geometric_mean\n",
      "/Users/sofiafernandes/Documents/Repos/EmoReA/emorea-backend/src/select_features.py:54: RuntimeWarning: overflow encountered in scalar divide\n",
      "  dispersions[i] = arithmetic_mean / geometric_mean\n"
     ]
    },
    {
     "name": "stdout",
     "output_type": "stream",
     "text": [
      "[CV] END selector__L=0.9, selector__MS=0.8, selector__algorithm=algorithm2, selector__dispersion_measure=TV; total time=  21.7s\n"
     ]
    },
    {
     "name": "stderr",
     "output_type": "stream",
     "text": [
      "/Users/sofiafernandes/Documents/Repos/EmoReA/emorea-backend/src/select_features.py:54: RuntimeWarning: divide by zero encountered in scalar divide\n",
      "  dispersions[i] = arithmetic_mean / geometric_mean\n",
      "/Users/sofiafernandes/Documents/Repos/EmoReA/emorea-backend/src/select_features.py:54: RuntimeWarning: overflow encountered in scalar divide\n",
      "  dispersions[i] = arithmetic_mean / geometric_mean\n"
     ]
    },
    {
     "name": "stdout",
     "output_type": "stream",
     "text": [
      "[CV] END selector__L=0.9, selector__MS=0.8, selector__algorithm=algorithm2, selector__dispersion_measure=TV; total time=  20.6s\n"
     ]
    },
    {
     "name": "stderr",
     "output_type": "stream",
     "text": [
      "/Users/sofiafernandes/Documents/Repos/EmoReA/emorea-backend/src/select_features.py:54: RuntimeWarning: divide by zero encountered in scalar divide\n",
      "  dispersions[i] = arithmetic_mean / geometric_mean\n",
      "/Users/sofiafernandes/Documents/Repos/EmoReA/emorea-backend/src/select_features.py:54: RuntimeWarning: overflow encountered in scalar divide\n",
      "  dispersions[i] = arithmetic_mean / geometric_mean\n"
     ]
    },
    {
     "name": "stdout",
     "output_type": "stream",
     "text": [
      "[CV] END selector__L=0.9, selector__MS=0.8, selector__algorithm=algorithm2, selector__dispersion_measure=TV; total time=  22.9s\n"
     ]
    },
    {
     "name": "stderr",
     "output_type": "stream",
     "text": [
      "/Users/sofiafernandes/Documents/Repos/EmoReA/emorea-backend/src/select_features.py:54: RuntimeWarning: divide by zero encountered in scalar divide\n",
      "  dispersions[i] = arithmetic_mean / geometric_mean\n",
      "/Users/sofiafernandes/Documents/Repos/EmoReA/emorea-backend/src/select_features.py:54: RuntimeWarning: overflow encountered in scalar divide\n",
      "  dispersions[i] = arithmetic_mean / geometric_mean\n"
     ]
    },
    {
     "name": "stdout",
     "output_type": "stream",
     "text": [
      "[CV] END selector__L=0.9, selector__MS=0.8, selector__algorithm=algorithm2, selector__dispersion_measure=TV; total time=  24.7s\n"
     ]
    },
    {
     "name": "stderr",
     "output_type": "stream",
     "text": [
      "/Users/sofiafernandes/Documents/Repos/EmoReA/emorea-backend/src/select_features.py:54: RuntimeWarning: divide by zero encountered in scalar divide\n",
      "  dispersions[i] = arithmetic_mean / geometric_mean\n",
      "/Users/sofiafernandes/Documents/Repos/EmoReA/emorea-backend/src/select_features.py:54: RuntimeWarning: overflow encountered in scalar divide\n",
      "  dispersions[i] = arithmetic_mean / geometric_mean\n"
     ]
    },
    {
     "name": "stdout",
     "output_type": "stream",
     "text": [
      "[CV] END selector__L=0.9, selector__MS=0.8, selector__algorithm=algorithm2, selector__dispersion_measure=TV; total time=  20.1s\n"
     ]
    },
    {
     "name": "stderr",
     "output_type": "stream",
     "text": [
      "/Users/sofiafernandes/Documents/Repos/EmoReA/emorea-backend/src/select_features.py:54: RuntimeWarning: divide by zero encountered in scalar divide\n",
      "  dispersions[i] = arithmetic_mean / geometric_mean\n",
      "/Users/sofiafernandes/Documents/Repos/EmoReA/emorea-backend/src/select_features.py:54: RuntimeWarning: overflow encountered in scalar divide\n",
      "  dispersions[i] = arithmetic_mean / geometric_mean\n"
     ]
    },
    {
     "name": "stdout",
     "output_type": "stream",
     "text": [
      "[CV] END selector__L=0.9, selector__MS=0.8, selector__algorithm=algorithm2, selector__dispersion_measure=TV; total time=  24.2s\n"
     ]
    },
    {
     "name": "stderr",
     "output_type": "stream",
     "text": [
      "/Users/sofiafernandes/Documents/Repos/EmoReA/emorea-backend/src/select_features.py:54: RuntimeWarning: divide by zero encountered in scalar divide\n",
      "  dispersions[i] = arithmetic_mean / geometric_mean\n",
      "/Users/sofiafernandes/Documents/Repos/EmoReA/emorea-backend/src/select_features.py:54: RuntimeWarning: overflow encountered in scalar divide\n",
      "  dispersions[i] = arithmetic_mean / geometric_mean\n"
     ]
    },
    {
     "name": "stdout",
     "output_type": "stream",
     "text": [
      "[CV] END selector__L=0.9, selector__MS=0.8, selector__algorithm=algorithm2, selector__dispersion_measure=TV; total time=  21.7s\n"
     ]
    },
    {
     "name": "stderr",
     "output_type": "stream",
     "text": [
      "/Users/sofiafernandes/Documents/Repos/EmoReA/emorea-backend/src/select_features.py:54: RuntimeWarning: divide by zero encountered in scalar divide\n",
      "  dispersions[i] = arithmetic_mean / geometric_mean\n",
      "/Users/sofiafernandes/Documents/Repos/EmoReA/emorea-backend/src/select_features.py:54: RuntimeWarning: overflow encountered in scalar divide\n",
      "  dispersions[i] = arithmetic_mean / geometric_mean\n"
     ]
    },
    {
     "name": "stdout",
     "output_type": "stream",
     "text": [
      "[CV] END selector__L=0.9, selector__MS=0.8, selector__algorithm=algorithm2, selector__dispersion_measure=TV; total time=  18.1s\n",
      "Warning: L=0.95 outside recommended [0.7, 0.9] range\n",
      "[CV] END selector__L=0.9, selector__MS=0.8, selector__algorithm=algorithm2, selector__dispersion_measure=TV; total time=  20.5s\n",
      "Warning: L=0.95 outside recommended [0.7, 0.9] range\n",
      "[CV] END selector__L=0.9, selector__MS=0.8, selector__algorithm=algorithm2, selector__dispersion_measure=AMGM; total time=  17.4s\n",
      "Warning: L=0.95 outside recommended [0.7, 0.9] range\n",
      "[CV] END selector__L=0.9, selector__MS=0.8, selector__algorithm=algorithm2, selector__dispersion_measure=AMGM; total time=  19.0s\n",
      "Warning: L=0.95 outside recommended [0.7, 0.9] range\n",
      "[CV] END selector__L=0.9, selector__MS=0.8, selector__algorithm=algorithm2, selector__dispersion_measure=AMGM; total time=  17.6s\n",
      "Warning: L=0.95 outside recommended [0.7, 0.9] range\n",
      "[CV] END selector__L=0.9, selector__MS=0.8, selector__algorithm=algorithm2, selector__dispersion_measure=AMGM; total time=  19.1s\n",
      "Warning: L=0.95 outside recommended [0.7, 0.9] range\n",
      "[CV] END selector__L=0.9, selector__MS=0.8, selector__algorithm=algorithm2, selector__dispersion_measure=AMGM; total time=  21.3s\n",
      "Warning: L=0.95 outside recommended [0.7, 0.9] range\n",
      "[CV] END selector__L=0.9, selector__MS=0.8, selector__algorithm=algorithm2, selector__dispersion_measure=AMGM; total time=  20.4s\n",
      "Warning: L=0.95 outside recommended [0.7, 0.9] range\n",
      "[CV] END selector__L=0.9, selector__MS=0.8, selector__algorithm=algorithm2, selector__dispersion_measure=AMGM; total time=  20.9s\n",
      "Warning: L=0.95 outside recommended [0.7, 0.9] range\n",
      "[CV] END selector__L=0.9, selector__MS=0.8, selector__algorithm=algorithm2, selector__dispersion_measure=AMGM; total time=  20.9s\n",
      "Warning: L=0.95 outside recommended [0.7, 0.9] range\n",
      "[CV] END selector__L=0.9, selector__MS=0.8, selector__algorithm=algorithm2, selector__dispersion_measure=AMGM; total time=  21.9s\n",
      "Warning: L=0.95 outside recommended [0.7, 0.9] range\n",
      "[CV] END selector__L=0.9, selector__MS=0.8, selector__algorithm=algorithm2, selector__dispersion_measure=AMGM; total time=  19.9s\n",
      "Warning: L=0.95 outside recommended [0.7, 0.9] range\n",
      "[CV] END selector__L=0.95, selector__MS=0.7, selector__algorithm=algorithm1, selector__dispersion_measure=MM; total time=  23.1s\n",
      "Warning: L=0.95 outside recommended [0.7, 0.9] range\n",
      "[CV] END selector__L=0.95, selector__MS=0.7, selector__algorithm=algorithm1, selector__dispersion_measure=MM; total time=  22.6s\n",
      "Warning: L=0.95 outside recommended [0.7, 0.9] range\n",
      "[CV] END selector__L=0.95, selector__MS=0.7, selector__algorithm=algorithm1, selector__dispersion_measure=MM; total time=  21.4s\n",
      "Warning: L=0.95 outside recommended [0.7, 0.9] range\n",
      "[CV] END selector__L=0.95, selector__MS=0.7, selector__algorithm=algorithm1, selector__dispersion_measure=MM; total time=  20.7s\n",
      "Warning: L=0.95 outside recommended [0.7, 0.9] range\n",
      "[CV] END selector__L=0.95, selector__MS=0.7, selector__algorithm=algorithm1, selector__dispersion_measure=MM; total time=  19.5s\n",
      "Warning: L=0.95 outside recommended [0.7, 0.9] range\n",
      "[CV] END selector__L=0.95, selector__MS=0.7, selector__algorithm=algorithm1, selector__dispersion_measure=MM; total time=  22.8s\n",
      "Warning: L=0.95 outside recommended [0.7, 0.9] range\n",
      "[CV] END selector__L=0.95, selector__MS=0.7, selector__algorithm=algorithm1, selector__dispersion_measure=MM; total time=  26.7s\n",
      "Warning: L=0.95 outside recommended [0.7, 0.9] range\n",
      "[CV] END selector__L=0.95, selector__MS=0.7, selector__algorithm=algorithm1, selector__dispersion_measure=MM; total time=  26.9s\n",
      "Warning: L=0.95 outside recommended [0.7, 0.9] range\n",
      "[CV] END selector__L=0.95, selector__MS=0.7, selector__algorithm=algorithm1, selector__dispersion_measure=MM; total time=  27.7s\n",
      "Warning: L=0.95 outside recommended [0.7, 0.9] range\n",
      "[CV] END selector__L=0.95, selector__MS=0.7, selector__algorithm=algorithm1, selector__dispersion_measure=MM; total time=  28.1s\n",
      "Warning: L=0.95 outside recommended [0.7, 0.9] range\n",
      "[CV] END selector__L=0.95, selector__MS=0.7, selector__algorithm=algorithm1, selector__dispersion_measure=MAD; total time=  27.6s\n",
      "Warning: L=0.95 outside recommended [0.7, 0.9] range\n",
      "[CV] END selector__L=0.95, selector__MS=0.7, selector__algorithm=algorithm1, selector__dispersion_measure=MAD; total time=  26.8s\n",
      "Warning: L=0.95 outside recommended [0.7, 0.9] range\n",
      "[CV] END selector__L=0.95, selector__MS=0.7, selector__algorithm=algorithm1, selector__dispersion_measure=MAD; total time=  25.7s\n",
      "[CV] END selector__L=0.95, selector__MS=0.7, selector__algorithm=algorithm1, selector__dispersion_measure=MAD; total time=  25.9s\n",
      "Warning: L=0.95 outside recommended [0.7, 0.9] range\n",
      "Warning: L=0.95 outside recommended [0.7, 0.9] range\n",
      "[CV] END selector__L=0.95, selector__MS=0.7, selector__algorithm=algorithm1, selector__dispersion_measure=MAD; total time=  24.9s\n",
      "Warning: L=0.95 outside recommended [0.7, 0.9] range\n",
      "[CV] END selector__L=0.95, selector__MS=0.7, selector__algorithm=algorithm1, selector__dispersion_measure=MAD; total time=  24.2s\n",
      "Warning: L=0.95 outside recommended [0.7, 0.9] range\n",
      "[CV] END selector__L=0.95, selector__MS=0.7, selector__algorithm=algorithm1, selector__dispersion_measure=MAD; total time=  24.6s\n",
      "Warning: L=0.95 outside recommended [0.7, 0.9] range\n",
      "[CV] END selector__L=0.95, selector__MS=0.7, selector__algorithm=algorithm1, selector__dispersion_measure=MAD; total time=  27.8s\n",
      "Warning: L=0.95 outside recommended [0.7, 0.9] range\n",
      "[CV] END selector__L=0.95, selector__MS=0.7, selector__algorithm=algorithm1, selector__dispersion_measure=MAD; total time=  31.1s\n",
      "Warning: L=0.95 outside recommended [0.7, 0.9] range\n"
     ]
    },
    {
     "name": "stderr",
     "output_type": "stream",
     "text": [
      "/Users/sofiafernandes/Documents/Repos/EmoReA/emorea-backend/src/select_features.py:54: RuntimeWarning: divide by zero encountered in scalar divide\n",
      "  dispersions[i] = arithmetic_mean / geometric_mean\n",
      "/Users/sofiafernandes/Documents/Repos/EmoReA/emorea-backend/src/select_features.py:54: RuntimeWarning: overflow encountered in scalar divide\n",
      "  dispersions[i] = arithmetic_mean / geometric_mean\n"
     ]
    },
    {
     "name": "stdout",
     "output_type": "stream",
     "text": [
      "[CV] END selector__L=0.95, selector__MS=0.7, selector__algorithm=algorithm1, selector__dispersion_measure=MAD; total time=  31.0s\n",
      "Warning: L=0.95 outside recommended [0.7, 0.9] range\n"
     ]
    },
    {
     "name": "stderr",
     "output_type": "stream",
     "text": [
      "/Users/sofiafernandes/Documents/Repos/EmoReA/emorea-backend/src/select_features.py:54: RuntimeWarning: divide by zero encountered in scalar divide\n",
      "  dispersions[i] = arithmetic_mean / geometric_mean\n",
      "/Users/sofiafernandes/Documents/Repos/EmoReA/emorea-backend/src/select_features.py:54: RuntimeWarning: overflow encountered in scalar divide\n",
      "  dispersions[i] = arithmetic_mean / geometric_mean\n"
     ]
    },
    {
     "name": "stdout",
     "output_type": "stream",
     "text": [
      "[CV] END selector__L=0.95, selector__MS=0.7, selector__algorithm=algorithm1, selector__dispersion_measure=TV; total time=  30.3s\n",
      "Warning: L=0.95 outside recommended [0.7, 0.9] range\n"
     ]
    },
    {
     "name": "stderr",
     "output_type": "stream",
     "text": [
      "/Users/sofiafernandes/Documents/Repos/EmoReA/emorea-backend/src/select_features.py:54: RuntimeWarning: divide by zero encountered in scalar divide\n",
      "  dispersions[i] = arithmetic_mean / geometric_mean\n",
      "/Users/sofiafernandes/Documents/Repos/EmoReA/emorea-backend/src/select_features.py:54: RuntimeWarning: overflow encountered in scalar divide\n",
      "  dispersions[i] = arithmetic_mean / geometric_mean\n"
     ]
    },
    {
     "name": "stdout",
     "output_type": "stream",
     "text": [
      "[CV] END selector__L=0.95, selector__MS=0.7, selector__algorithm=algorithm1, selector__dispersion_measure=TV; total time=  29.6s\n",
      "Warning: L=0.95 outside recommended [0.7, 0.9] range\n"
     ]
    },
    {
     "name": "stderr",
     "output_type": "stream",
     "text": [
      "/Users/sofiafernandes/Documents/Repos/EmoReA/emorea-backend/src/select_features.py:54: RuntimeWarning: divide by zero encountered in scalar divide\n",
      "  dispersions[i] = arithmetic_mean / geometric_mean\n",
      "/Users/sofiafernandes/Documents/Repos/EmoReA/emorea-backend/src/select_features.py:54: RuntimeWarning: overflow encountered in scalar divide\n",
      "  dispersions[i] = arithmetic_mean / geometric_mean\n"
     ]
    },
    {
     "name": "stdout",
     "output_type": "stream",
     "text": [
      "[CV] END selector__L=0.95, selector__MS=0.7, selector__algorithm=algorithm1, selector__dispersion_measure=TV; total time=  29.4s\n",
      "Warning: L=0.95 outside recommended [0.7, 0.9] range\n"
     ]
    },
    {
     "name": "stderr",
     "output_type": "stream",
     "text": [
      "/Users/sofiafernandes/Documents/Repos/EmoReA/emorea-backend/src/select_features.py:54: RuntimeWarning: divide by zero encountered in scalar divide\n",
      "  dispersions[i] = arithmetic_mean / geometric_mean\n",
      "/Users/sofiafernandes/Documents/Repos/EmoReA/emorea-backend/src/select_features.py:54: RuntimeWarning: overflow encountered in scalar divide\n",
      "  dispersions[i] = arithmetic_mean / geometric_mean\n"
     ]
    },
    {
     "name": "stdout",
     "output_type": "stream",
     "text": [
      "[CV] END selector__L=0.95, selector__MS=0.7, selector__algorithm=algorithm1, selector__dispersion_measure=TV; total time=  28.8s\n",
      "Warning: L=0.95 outside recommended [0.7, 0.9] range\n"
     ]
    },
    {
     "name": "stderr",
     "output_type": "stream",
     "text": [
      "/Users/sofiafernandes/Documents/Repos/EmoReA/emorea-backend/src/select_features.py:54: RuntimeWarning: divide by zero encountered in scalar divide\n",
      "  dispersions[i] = arithmetic_mean / geometric_mean\n",
      "/Users/sofiafernandes/Documents/Repos/EmoReA/emorea-backend/src/select_features.py:54: RuntimeWarning: overflow encountered in scalar divide\n",
      "  dispersions[i] = arithmetic_mean / geometric_mean\n"
     ]
    },
    {
     "name": "stdout",
     "output_type": "stream",
     "text": [
      "[CV] END selector__L=0.95, selector__MS=0.7, selector__algorithm=algorithm1, selector__dispersion_measure=TV; total time=  28.2s\n",
      "Warning: L=0.95 outside recommended [0.7, 0.9] range\n"
     ]
    },
    {
     "name": "stderr",
     "output_type": "stream",
     "text": [
      "/Users/sofiafernandes/Documents/Repos/EmoReA/emorea-backend/src/select_features.py:54: RuntimeWarning: divide by zero encountered in scalar divide\n",
      "  dispersions[i] = arithmetic_mean / geometric_mean\n",
      "/Users/sofiafernandes/Documents/Repos/EmoReA/emorea-backend/src/select_features.py:54: RuntimeWarning: overflow encountered in scalar divide\n",
      "  dispersions[i] = arithmetic_mean / geometric_mean\n"
     ]
    },
    {
     "name": "stdout",
     "output_type": "stream",
     "text": [
      "[CV] END selector__L=0.95, selector__MS=0.7, selector__algorithm=algorithm1, selector__dispersion_measure=TV; total time=  28.3s\n",
      "Warning: L=0.95 outside recommended [0.7, 0.9] range\n"
     ]
    },
    {
     "name": "stderr",
     "output_type": "stream",
     "text": [
      "/Users/sofiafernandes/Documents/Repos/EmoReA/emorea-backend/src/select_features.py:54: RuntimeWarning: divide by zero encountered in scalar divide\n",
      "  dispersions[i] = arithmetic_mean / geometric_mean\n",
      "/Users/sofiafernandes/Documents/Repos/EmoReA/emorea-backend/src/select_features.py:54: RuntimeWarning: overflow encountered in scalar divide\n",
      "  dispersions[i] = arithmetic_mean / geometric_mean\n"
     ]
    },
    {
     "name": "stdout",
     "output_type": "stream",
     "text": [
      "[CV] END selector__L=0.95, selector__MS=0.7, selector__algorithm=algorithm1, selector__dispersion_measure=TV; total time=  28.2s\n",
      "Warning: L=0.95 outside recommended [0.7, 0.9] range\n"
     ]
    },
    {
     "name": "stderr",
     "output_type": "stream",
     "text": [
      "/Users/sofiafernandes/Documents/Repos/EmoReA/emorea-backend/src/select_features.py:54: RuntimeWarning: divide by zero encountered in scalar divide\n",
      "  dispersions[i] = arithmetic_mean / geometric_mean\n",
      "/Users/sofiafernandes/Documents/Repos/EmoReA/emorea-backend/src/select_features.py:54: RuntimeWarning: overflow encountered in scalar divide\n",
      "  dispersions[i] = arithmetic_mean / geometric_mean\n"
     ]
    },
    {
     "name": "stdout",
     "output_type": "stream",
     "text": [
      "[CV] END selector__L=0.95, selector__MS=0.7, selector__algorithm=algorithm1, selector__dispersion_measure=TV; total time=  27.7s\n",
      "Warning: L=0.95 outside recommended [0.7, 0.9] range\n"
     ]
    },
    {
     "name": "stderr",
     "output_type": "stream",
     "text": [
      "/Users/sofiafernandes/Documents/Repos/EmoReA/emorea-backend/src/select_features.py:54: RuntimeWarning: divide by zero encountered in scalar divide\n",
      "  dispersions[i] = arithmetic_mean / geometric_mean\n",
      "/Users/sofiafernandes/Documents/Repos/EmoReA/emorea-backend/src/select_features.py:54: RuntimeWarning: overflow encountered in scalar divide\n",
      "  dispersions[i] = arithmetic_mean / geometric_mean\n"
     ]
    },
    {
     "name": "stdout",
     "output_type": "stream",
     "text": [
      "[CV] END selector__L=0.95, selector__MS=0.7, selector__algorithm=algorithm1, selector__dispersion_measure=TV; total time=  26.2s\n",
      "[CV] END selector__L=0.95, selector__MS=0.7, selector__algorithm=algorithm1, selector__dispersion_measure=TV; total time=  24.8s\n",
      "[CV] END selector__L=0.95, selector__MS=0.7, selector__algorithm=algorithm1, selector__dispersion_measure=AMGM; total time=  31.4s\n",
      "[CV] END selector__L=0.95, selector__MS=0.7, selector__algorithm=algorithm1, selector__dispersion_measure=AMGM; total time=  31.9s\n",
      "[CV] END selector__L=0.95, selector__MS=0.7, selector__algorithm=algorithm1, selector__dispersion_measure=AMGM; total time=  33.1s\n",
      "[CV] END selector__L=0.95, selector__MS=0.7, selector__algorithm=algorithm1, selector__dispersion_measure=AMGM; total time=  33.7s\n",
      "[CV] END selector__L=0.95, selector__MS=0.7, selector__algorithm=algorithm1, selector__dispersion_measure=AMGM; total time=  33.8s\n",
      "[CV] END selector__L=0.95, selector__MS=0.7, selector__algorithm=algorithm1, selector__dispersion_measure=AMGM; total time=  32.7s\n",
      "[CV] END selector__L=0.95, selector__MS=0.7, selector__algorithm=algorithm1, selector__dispersion_measure=AMGM; total time=  30.3s\n",
      "[CV] END selector__L=0.95, selector__MS=0.7, selector__algorithm=algorithm1, selector__dispersion_measure=AMGM; total time=  29.7s\n",
      "[CV] END selector__L=0.95, selector__MS=0.7, selector__algorithm=algorithm2, selector__dispersion_measure=MM; total time=  20.2s\n",
      "[CV] END selector__L=0.95, selector__MS=0.7, selector__algorithm=algorithm1, selector__dispersion_measure=AMGM; total time=  27.6s\n",
      "[CV] END selector__L=0.95, selector__MS=0.7, selector__algorithm=algorithm1, selector__dispersion_measure=AMGM; total time=  27.7s\n",
      "[CV] END selector__L=0.95, selector__MS=0.7, selector__algorithm=algorithm2, selector__dispersion_measure=MM; total time=  18.0s\n",
      "[CV] END selector__L=0.95, selector__MS=0.7, selector__algorithm=algorithm2, selector__dispersion_measure=MM; total time=  18.7s\n",
      "[CV] END selector__L=0.95, selector__MS=0.7, selector__algorithm=algorithm2, selector__dispersion_measure=MM; total time=  19.0s\n",
      "[CV] END selector__L=0.95, selector__MS=0.7, selector__algorithm=algorithm2, selector__dispersion_measure=MM; total time=  20.1s\n",
      "[CV] END selector__L=0.95, selector__MS=0.7, selector__algorithm=algorithm2, selector__dispersion_measure=MM; total time=  20.0s\n",
      "[CV] END selector__L=0.95, selector__MS=0.7, selector__algorithm=algorithm2, selector__dispersion_measure=MM; total time=  20.7s\n",
      "[CV] END selector__L=0.95, selector__MS=0.7, selector__algorithm=algorithm2, selector__dispersion_measure=MM; total time=  22.3s\n",
      "[CV] END selector__L=0.95, selector__MS=0.7, selector__algorithm=algorithm2, selector__dispersion_measure=MM; total time=  20.2s\n",
      "[CV] END selector__L=0.95, selector__MS=0.7, selector__algorithm=algorithm2, selector__dispersion_measure=MM; total time=  20.4s\n",
      "[CV] END selector__L=0.95, selector__MS=0.7, selector__algorithm=algorithm2, selector__dispersion_measure=MAD; total time=  21.0s\n",
      "[CV] END selector__L=0.95, selector__MS=0.7, selector__algorithm=algorithm2, selector__dispersion_measure=MAD; total time=  20.9s\n",
      "[CV] END selector__L=0.95, selector__MS=0.7, selector__algorithm=algorithm2, selector__dispersion_measure=MAD; total time=  22.1s\n",
      "[CV] END selector__L=0.95, selector__MS=0.7, selector__algorithm=algorithm2, selector__dispersion_measure=MAD; total time=  19.5s\n",
      "[CV] END selector__L=0.95, selector__MS=0.7, selector__algorithm=algorithm2, selector__dispersion_measure=MAD; total time=  16.8s\n",
      "[CV] END selector__L=0.95, selector__MS=0.7, selector__algorithm=algorithm2, selector__dispersion_measure=MAD; total time=  17.2s\n",
      "[CV] END selector__L=0.95, selector__MS=0.7, selector__algorithm=algorithm2, selector__dispersion_measure=MAD; total time=  18.3s\n",
      "[CV] END selector__L=0.95, selector__MS=0.7, selector__algorithm=algorithm2, selector__dispersion_measure=MAD; total time=  17.3s\n",
      "[CV] END selector__L=0.95, selector__MS=0.7, selector__algorithm=algorithm2, selector__dispersion_measure=MAD; total time=  17.6s\n"
     ]
    },
    {
     "name": "stderr",
     "output_type": "stream",
     "text": [
      "/Users/sofiafernandes/Documents/Repos/EmoReA/emorea-backend/src/select_features.py:54: RuntimeWarning: divide by zero encountered in scalar divide\n",
      "  dispersions[i] = arithmetic_mean / geometric_mean\n",
      "/Users/sofiafernandes/Documents/Repos/EmoReA/emorea-backend/src/select_features.py:54: RuntimeWarning: overflow encountered in scalar divide\n",
      "  dispersions[i] = arithmetic_mean / geometric_mean\n"
     ]
    },
    {
     "name": "stdout",
     "output_type": "stream",
     "text": [
      "[CV] END selector__L=0.95, selector__MS=0.7, selector__algorithm=algorithm2, selector__dispersion_measure=MAD; total time=  18.1s\n"
     ]
    },
    {
     "name": "stderr",
     "output_type": "stream",
     "text": [
      "/Users/sofiafernandes/Documents/Repos/EmoReA/emorea-backend/src/select_features.py:54: RuntimeWarning: divide by zero encountered in scalar divide\n",
      "  dispersions[i] = arithmetic_mean / geometric_mean\n",
      "/Users/sofiafernandes/Documents/Repos/EmoReA/emorea-backend/src/select_features.py:54: RuntimeWarning: overflow encountered in scalar divide\n",
      "  dispersions[i] = arithmetic_mean / geometric_mean\n"
     ]
    },
    {
     "name": "stdout",
     "output_type": "stream",
     "text": [
      "[CV] END selector__L=0.95, selector__MS=0.7, selector__algorithm=algorithm2, selector__dispersion_measure=TV; total time=  16.6s\n"
     ]
    },
    {
     "name": "stderr",
     "output_type": "stream",
     "text": [
      "/Users/sofiafernandes/Documents/Repos/EmoReA/emorea-backend/src/select_features.py:54: RuntimeWarning: divide by zero encountered in scalar divide\n",
      "  dispersions[i] = arithmetic_mean / geometric_mean\n",
      "/Users/sofiafernandes/Documents/Repos/EmoReA/emorea-backend/src/select_features.py:54: RuntimeWarning: overflow encountered in scalar divide\n",
      "  dispersions[i] = arithmetic_mean / geometric_mean\n"
     ]
    },
    {
     "name": "stdout",
     "output_type": "stream",
     "text": [
      "[CV] END selector__L=0.95, selector__MS=0.7, selector__algorithm=algorithm2, selector__dispersion_measure=TV; total time=  16.6s\n"
     ]
    },
    {
     "name": "stderr",
     "output_type": "stream",
     "text": [
      "/Users/sofiafernandes/Documents/Repos/EmoReA/emorea-backend/src/select_features.py:54: RuntimeWarning: divide by zero encountered in scalar divide\n",
      "  dispersions[i] = arithmetic_mean / geometric_mean\n",
      "/Users/sofiafernandes/Documents/Repos/EmoReA/emorea-backend/src/select_features.py:54: RuntimeWarning: overflow encountered in scalar divide\n",
      "  dispersions[i] = arithmetic_mean / geometric_mean\n"
     ]
    },
    {
     "name": "stdout",
     "output_type": "stream",
     "text": [
      "[CV] END selector__L=0.95, selector__MS=0.7, selector__algorithm=algorithm2, selector__dispersion_measure=TV; total time=  16.0s\n"
     ]
    },
    {
     "name": "stderr",
     "output_type": "stream",
     "text": [
      "/Users/sofiafernandes/Documents/Repos/EmoReA/emorea-backend/src/select_features.py:54: RuntimeWarning: divide by zero encountered in scalar divide\n",
      "  dispersions[i] = arithmetic_mean / geometric_mean\n",
      "/Users/sofiafernandes/Documents/Repos/EmoReA/emorea-backend/src/select_features.py:54: RuntimeWarning: overflow encountered in scalar divide\n",
      "  dispersions[i] = arithmetic_mean / geometric_mean\n"
     ]
    },
    {
     "name": "stdout",
     "output_type": "stream",
     "text": [
      "[CV] END selector__L=0.95, selector__MS=0.7, selector__algorithm=algorithm2, selector__dispersion_measure=TV; total time=  16.0s\n"
     ]
    },
    {
     "name": "stderr",
     "output_type": "stream",
     "text": [
      "/Users/sofiafernandes/Documents/Repos/EmoReA/emorea-backend/src/select_features.py:54: RuntimeWarning: divide by zero encountered in scalar divide\n",
      "  dispersions[i] = arithmetic_mean / geometric_mean\n",
      "/Users/sofiafernandes/Documents/Repos/EmoReA/emorea-backend/src/select_features.py:54: RuntimeWarning: overflow encountered in scalar divide\n",
      "  dispersions[i] = arithmetic_mean / geometric_mean\n"
     ]
    },
    {
     "name": "stdout",
     "output_type": "stream",
     "text": [
      "[CV] END selector__L=0.95, selector__MS=0.7, selector__algorithm=algorithm2, selector__dispersion_measure=TV; total time=  15.9s\n"
     ]
    },
    {
     "name": "stderr",
     "output_type": "stream",
     "text": [
      "/Users/sofiafernandes/Documents/Repos/EmoReA/emorea-backend/src/select_features.py:54: RuntimeWarning: divide by zero encountered in scalar divide\n",
      "  dispersions[i] = arithmetic_mean / geometric_mean\n",
      "/Users/sofiafernandes/Documents/Repos/EmoReA/emorea-backend/src/select_features.py:54: RuntimeWarning: overflow encountered in scalar divide\n",
      "  dispersions[i] = arithmetic_mean / geometric_mean\n"
     ]
    },
    {
     "name": "stdout",
     "output_type": "stream",
     "text": [
      "[CV] END selector__L=0.95, selector__MS=0.7, selector__algorithm=algorithm2, selector__dispersion_measure=TV; total time=  17.1s\n"
     ]
    },
    {
     "name": "stderr",
     "output_type": "stream",
     "text": [
      "/Users/sofiafernandes/Documents/Repos/EmoReA/emorea-backend/src/select_features.py:54: RuntimeWarning: divide by zero encountered in scalar divide\n",
      "  dispersions[i] = arithmetic_mean / geometric_mean\n",
      "/Users/sofiafernandes/Documents/Repos/EmoReA/emorea-backend/src/select_features.py:54: RuntimeWarning: overflow encountered in scalar divide\n",
      "  dispersions[i] = arithmetic_mean / geometric_mean\n"
     ]
    },
    {
     "name": "stdout",
     "output_type": "stream",
     "text": [
      "[CV] END selector__L=0.95, selector__MS=0.7, selector__algorithm=algorithm2, selector__dispersion_measure=TV; total time=  16.5s\n"
     ]
    },
    {
     "name": "stderr",
     "output_type": "stream",
     "text": [
      "/Users/sofiafernandes/Documents/Repos/EmoReA/emorea-backend/src/select_features.py:54: RuntimeWarning: divide by zero encountered in scalar divide\n",
      "  dispersions[i] = arithmetic_mean / geometric_mean\n",
      "/Users/sofiafernandes/Documents/Repos/EmoReA/emorea-backend/src/select_features.py:54: RuntimeWarning: overflow encountered in scalar divide\n",
      "  dispersions[i] = arithmetic_mean / geometric_mean\n"
     ]
    },
    {
     "name": "stdout",
     "output_type": "stream",
     "text": [
      "[CV] END selector__L=0.95, selector__MS=0.7, selector__algorithm=algorithm2, selector__dispersion_measure=TV; total time=  16.2s\n"
     ]
    },
    {
     "name": "stderr",
     "output_type": "stream",
     "text": [
      "/Users/sofiafernandes/Documents/Repos/EmoReA/emorea-backend/src/select_features.py:54: RuntimeWarning: divide by zero encountered in scalar divide\n",
      "  dispersions[i] = arithmetic_mean / geometric_mean\n",
      "/Users/sofiafernandes/Documents/Repos/EmoReA/emorea-backend/src/select_features.py:54: RuntimeWarning: overflow encountered in scalar divide\n",
      "  dispersions[i] = arithmetic_mean / geometric_mean\n"
     ]
    },
    {
     "name": "stdout",
     "output_type": "stream",
     "text": [
      "[CV] END selector__L=0.95, selector__MS=0.7, selector__algorithm=algorithm2, selector__dispersion_measure=TV; total time=  16.5s\n",
      "Warning: L=0.95 outside recommended [0.7, 0.9] range\n",
      "[CV] END selector__L=0.95, selector__MS=0.7, selector__algorithm=algorithm2, selector__dispersion_measure=AMGM; total time=  16.3s\n",
      "Warning: L=0.95 outside recommended [0.7, 0.9] range\n",
      "[CV] END selector__L=0.95, selector__MS=0.7, selector__algorithm=algorithm2, selector__dispersion_measure=TV; total time=  17.4s\n",
      "Warning: L=0.95 outside recommended [0.7, 0.9] range\n",
      "[CV] END selector__L=0.95, selector__MS=0.7, selector__algorithm=algorithm2, selector__dispersion_measure=AMGM; total time=  17.4s\n",
      "Warning: L=0.95 outside recommended [0.7, 0.9] range\n",
      "[CV] END selector__L=0.95, selector__MS=0.7, selector__algorithm=algorithm2, selector__dispersion_measure=AMGM; total time=  17.4s\n",
      "Warning: L=0.95 outside recommended [0.7, 0.9] range\n",
      "[CV] END selector__L=0.95, selector__MS=0.7, selector__algorithm=algorithm2, selector__dispersion_measure=AMGM; total time=  16.2s\n",
      "Warning: L=0.95 outside recommended [0.7, 0.9] range\n",
      "[CV] END selector__L=0.95, selector__MS=0.7, selector__algorithm=algorithm2, selector__dispersion_measure=AMGM; total time=  20.2s\n",
      "Warning: L=0.95 outside recommended [0.7, 0.9] range\n",
      "[CV] END selector__L=0.95, selector__MS=0.7, selector__algorithm=algorithm2, selector__dispersion_measure=AMGM; total time=  16.8s\n",
      "Warning: L=0.95 outside recommended [0.7, 0.9] range\n",
      "[CV] END selector__L=0.95, selector__MS=0.7, selector__algorithm=algorithm2, selector__dispersion_measure=AMGM; total time=  17.0s\n",
      "Warning: L=0.95 outside recommended [0.7, 0.9] range\n",
      "[CV] END selector__L=0.95, selector__MS=0.7, selector__algorithm=algorithm2, selector__dispersion_measure=AMGM; total time=  16.9s\n",
      "Warning: L=0.95 outside recommended [0.7, 0.9] range\n",
      "[CV] END selector__L=0.95, selector__MS=0.7, selector__algorithm=algorithm2, selector__dispersion_measure=AMGM; total time=  18.5s\n",
      "Warning: L=0.95 outside recommended [0.7, 0.9] range\n",
      "[CV] END selector__L=0.95, selector__MS=0.7, selector__algorithm=algorithm2, selector__dispersion_measure=AMGM; total time=  19.8s\n",
      "Warning: L=0.95 outside recommended [0.7, 0.9] range\n",
      "[CV] END selector__L=0.95, selector__MS=0.75, selector__algorithm=algorithm1, selector__dispersion_measure=MM; total time=  34.9s\n",
      "Warning: L=0.95 outside recommended [0.7, 0.9] range\n",
      "[CV] END selector__L=0.95, selector__MS=0.75, selector__algorithm=algorithm1, selector__dispersion_measure=MM; total time=  35.2s\n",
      "Warning: L=0.95 outside recommended [0.7, 0.9] range\n",
      "[CV] END selector__L=0.95, selector__MS=0.75, selector__algorithm=algorithm1, selector__dispersion_measure=MM; total time=  35.0s\n",
      "Warning: L=0.95 outside recommended [0.7, 0.9] range\n",
      "[CV] END selector__L=0.95, selector__MS=0.75, selector__algorithm=algorithm1, selector__dispersion_measure=MM; total time=  39.4s\n",
      "Warning: L=0.95 outside recommended [0.7, 0.9] range\n",
      "[CV] END selector__L=0.95, selector__MS=0.75, selector__algorithm=algorithm1, selector__dispersion_measure=MM; total time=  39.8s\n",
      "Warning: L=0.95 outside recommended [0.7, 0.9] range\n",
      "[CV] END selector__L=0.95, selector__MS=0.75, selector__algorithm=algorithm1, selector__dispersion_measure=MM; total time=  39.7s\n",
      "Warning: L=0.95 outside recommended [0.7, 0.9] range\n",
      "[CV] END selector__L=0.95, selector__MS=0.75, selector__algorithm=algorithm1, selector__dispersion_measure=MM; total time=  40.1s\n",
      "Warning: L=0.95 outside recommended [0.7, 0.9] range\n",
      "[CV] END selector__L=0.95, selector__MS=0.75, selector__algorithm=algorithm1, selector__dispersion_measure=MM; total time=  39.7s\n",
      "Warning: L=0.95 outside recommended [0.7, 0.9] range\n",
      "[CV] END selector__L=0.95, selector__MS=0.75, selector__algorithm=algorithm1, selector__dispersion_measure=MM; total time=  39.9s\n",
      "Warning: L=0.95 outside recommended [0.7, 0.9] range\n",
      "[CV] END selector__L=0.95, selector__MS=0.75, selector__algorithm=algorithm1, selector__dispersion_measure=MM; total time=  39.4s\n",
      "Warning: L=0.95 outside recommended [0.7, 0.9] range\n",
      "[CV] END selector__L=0.95, selector__MS=0.75, selector__algorithm=algorithm1, selector__dispersion_measure=MAD; total time=  37.4s\n",
      "Warning: L=0.95 outside recommended [0.7, 0.9] range\n",
      "[CV] END selector__L=0.95, selector__MS=0.75, selector__algorithm=algorithm1, selector__dispersion_measure=MAD; total time=  31.0s\n",
      "Warning: L=0.95 outside recommended [0.7, 0.9] range\n",
      "[CV] END selector__L=0.95, selector__MS=0.75, selector__algorithm=algorithm1, selector__dispersion_measure=MAD; total time=  36.7s\n",
      "Warning: L=0.95 outside recommended [0.7, 0.9] range\n",
      "[CV] END selector__L=0.95, selector__MS=0.75, selector__algorithm=algorithm1, selector__dispersion_measure=MAD; total time=  36.6s\n",
      "Warning: L=0.95 outside recommended [0.7, 0.9] range\n",
      "[CV] END selector__L=0.95, selector__MS=0.75, selector__algorithm=algorithm1, selector__dispersion_measure=MAD; total time=  36.9s\n",
      "Warning: L=0.95 outside recommended [0.7, 0.9] range\n",
      "[CV] END selector__L=0.95, selector__MS=0.75, selector__algorithm=algorithm1, selector__dispersion_measure=MAD; total time=  36.4s\n",
      "Warning: L=0.95 outside recommended [0.7, 0.9] range\n",
      "[CV] END selector__L=0.95, selector__MS=0.75, selector__algorithm=algorithm1, selector__dispersion_measure=MAD; total time=  36.6s\n",
      "Warning: L=0.95 outside recommended [0.7, 0.9] range\n",
      "[CV] END selector__L=0.95, selector__MS=0.75, selector__algorithm=algorithm1, selector__dispersion_measure=MAD; total time=  35.3s\n",
      "Warning: L=0.95 outside recommended [0.7, 0.9] range\n",
      "[CV] END selector__L=0.95, selector__MS=0.75, selector__algorithm=algorithm1, selector__dispersion_measure=MAD; total time=  34.7s\n",
      "Warning: L=0.95 outside recommended [0.7, 0.9] range\n"
     ]
    },
    {
     "name": "stderr",
     "output_type": "stream",
     "text": [
      "/Users/sofiafernandes/Documents/Repos/EmoReA/emorea-backend/src/select_features.py:54: RuntimeWarning: divide by zero encountered in scalar divide\n",
      "  dispersions[i] = arithmetic_mean / geometric_mean\n",
      "/Users/sofiafernandes/Documents/Repos/EmoReA/emorea-backend/src/select_features.py:54: RuntimeWarning: overflow encountered in scalar divide\n",
      "  dispersions[i] = arithmetic_mean / geometric_mean\n"
     ]
    },
    {
     "name": "stdout",
     "output_type": "stream",
     "text": [
      "[CV] END selector__L=0.95, selector__MS=0.75, selector__algorithm=algorithm1, selector__dispersion_measure=MAD; total time=  34.1s\n",
      "Warning: L=0.95 outside recommended [0.7, 0.9] range\n"
     ]
    },
    {
     "name": "stderr",
     "output_type": "stream",
     "text": [
      "/Users/sofiafernandes/Documents/Repos/EmoReA/emorea-backend/src/select_features.py:54: RuntimeWarning: divide by zero encountered in scalar divide\n",
      "  dispersions[i] = arithmetic_mean / geometric_mean\n",
      "/Users/sofiafernandes/Documents/Repos/EmoReA/emorea-backend/src/select_features.py:54: RuntimeWarning: overflow encountered in scalar divide\n",
      "  dispersions[i] = arithmetic_mean / geometric_mean\n"
     ]
    },
    {
     "name": "stdout",
     "output_type": "stream",
     "text": [
      "[CV] END selector__L=0.95, selector__MS=0.75, selector__algorithm=algorithm1, selector__dispersion_measure=TV; total time=  33.2s\n",
      "Warning: L=0.95 outside recommended [0.7, 0.9] range\n"
     ]
    },
    {
     "name": "stderr",
     "output_type": "stream",
     "text": [
      "/Users/sofiafernandes/Documents/Repos/EmoReA/emorea-backend/src/select_features.py:54: RuntimeWarning: divide by zero encountered in scalar divide\n",
      "  dispersions[i] = arithmetic_mean / geometric_mean\n",
      "/Users/sofiafernandes/Documents/Repos/EmoReA/emorea-backend/src/select_features.py:54: RuntimeWarning: overflow encountered in scalar divide\n",
      "  dispersions[i] = arithmetic_mean / geometric_mean\n"
     ]
    },
    {
     "name": "stdout",
     "output_type": "stream",
     "text": [
      "[CV] END selector__L=0.95, selector__MS=0.75, selector__algorithm=algorithm1, selector__dispersion_measure=TV; total time=  32.6s\n",
      "Warning: L=0.95 outside recommended [0.7, 0.9] range\n"
     ]
    },
    {
     "name": "stderr",
     "output_type": "stream",
     "text": [
      "/Users/sofiafernandes/Documents/Repos/EmoReA/emorea-backend/src/select_features.py:54: RuntimeWarning: divide by zero encountered in scalar divide\n",
      "  dispersions[i] = arithmetic_mean / geometric_mean\n",
      "/Users/sofiafernandes/Documents/Repos/EmoReA/emorea-backend/src/select_features.py:54: RuntimeWarning: overflow encountered in scalar divide\n",
      "  dispersions[i] = arithmetic_mean / geometric_mean\n"
     ]
    },
    {
     "name": "stdout",
     "output_type": "stream",
     "text": [
      "[CV] END selector__L=0.95, selector__MS=0.75, selector__algorithm=algorithm1, selector__dispersion_measure=TV; total time=  29.6s\n",
      "Warning: L=0.95 outside recommended [0.7, 0.9] range\n",
      "[CV] END selector__L=0.95, selector__MS=0.75, selector__algorithm=algorithm1, selector__dispersion_measure=TV; total time=  29.5s\n",
      "Warning: L=0.95 outside recommended [0.7, 0.9] range\n"
     ]
    },
    {
     "name": "stderr",
     "output_type": "stream",
     "text": [
      "/Users/sofiafernandes/Documents/Repos/EmoReA/emorea-backend/src/select_features.py:54: RuntimeWarning: divide by zero encountered in scalar divide\n",
      "  dispersions[i] = arithmetic_mean / geometric_mean\n",
      "/Users/sofiafernandes/Documents/Repos/EmoReA/emorea-backend/src/select_features.py:54: RuntimeWarning: overflow encountered in scalar divide\n",
      "  dispersions[i] = arithmetic_mean / geometric_mean\n",
      "/Users/sofiafernandes/Documents/Repos/EmoReA/emorea-backend/src/select_features.py:54: RuntimeWarning: divide by zero encountered in scalar divide\n",
      "  dispersions[i] = arithmetic_mean / geometric_mean\n",
      "/Users/sofiafernandes/Documents/Repos/EmoReA/emorea-backend/src/select_features.py:54: RuntimeWarning: overflow encountered in scalar divide\n",
      "  dispersions[i] = arithmetic_mean / geometric_mean\n"
     ]
    },
    {
     "name": "stdout",
     "output_type": "stream",
     "text": [
      "[CV] END selector__L=0.95, selector__MS=0.75, selector__algorithm=algorithm1, selector__dispersion_measure=TV; total time=  32.5s\n",
      "Warning: L=0.95 outside recommended [0.7, 0.9] range\n"
     ]
    },
    {
     "name": "stderr",
     "output_type": "stream",
     "text": [
      "/Users/sofiafernandes/Documents/Repos/EmoReA/emorea-backend/src/select_features.py:54: RuntimeWarning: divide by zero encountered in scalar divide\n",
      "  dispersions[i] = arithmetic_mean / geometric_mean\n",
      "/Users/sofiafernandes/Documents/Repos/EmoReA/emorea-backend/src/select_features.py:54: RuntimeWarning: overflow encountered in scalar divide\n",
      "  dispersions[i] = arithmetic_mean / geometric_mean\n"
     ]
    },
    {
     "name": "stdout",
     "output_type": "stream",
     "text": [
      "[CV] END selector__L=0.95, selector__MS=0.75, selector__algorithm=algorithm1, selector__dispersion_measure=TV; total time=  32.2s\n",
      "Warning: L=0.95 outside recommended [0.7, 0.9] range\n"
     ]
    },
    {
     "name": "stderr",
     "output_type": "stream",
     "text": [
      "/Users/sofiafernandes/Documents/Repos/EmoReA/emorea-backend/src/select_features.py:54: RuntimeWarning: divide by zero encountered in scalar divide\n",
      "  dispersions[i] = arithmetic_mean / geometric_mean\n",
      "/Users/sofiafernandes/Documents/Repos/EmoReA/emorea-backend/src/select_features.py:54: RuntimeWarning: overflow encountered in scalar divide\n",
      "  dispersions[i] = arithmetic_mean / geometric_mean\n"
     ]
    },
    {
     "name": "stdout",
     "output_type": "stream",
     "text": [
      "[CV] END selector__L=0.95, selector__MS=0.75, selector__algorithm=algorithm1, selector__dispersion_measure=TV; total time=  31.8s\n",
      "Warning: L=0.95 outside recommended [0.7, 0.9] range\n"
     ]
    },
    {
     "name": "stderr",
     "output_type": "stream",
     "text": [
      "/Users/sofiafernandes/Documents/Repos/EmoReA/emorea-backend/src/select_features.py:54: RuntimeWarning: divide by zero encountered in scalar divide\n",
      "  dispersions[i] = arithmetic_mean / geometric_mean\n",
      "/Users/sofiafernandes/Documents/Repos/EmoReA/emorea-backend/src/select_features.py:54: RuntimeWarning: overflow encountered in scalar divide\n",
      "  dispersions[i] = arithmetic_mean / geometric_mean\n"
     ]
    },
    {
     "name": "stdout",
     "output_type": "stream",
     "text": [
      "[CV] END selector__L=0.95, selector__MS=0.75, selector__algorithm=algorithm1, selector__dispersion_measure=TV; total time=  30.1s\n",
      "Warning: L=0.95 outside recommended [0.7, 0.9] range\n"
     ]
    },
    {
     "name": "stderr",
     "output_type": "stream",
     "text": [
      "/Users/sofiafernandes/Documents/Repos/EmoReA/emorea-backend/src/select_features.py:54: RuntimeWarning: divide by zero encountered in scalar divide\n",
      "  dispersions[i] = arithmetic_mean / geometric_mean\n",
      "/Users/sofiafernandes/Documents/Repos/EmoReA/emorea-backend/src/select_features.py:54: RuntimeWarning: overflow encountered in scalar divide\n",
      "  dispersions[i] = arithmetic_mean / geometric_mean\n"
     ]
    },
    {
     "name": "stdout",
     "output_type": "stream",
     "text": [
      "[CV] END selector__L=0.95, selector__MS=0.75, selector__algorithm=algorithm1, selector__dispersion_measure=TV; total time=  30.4s\n",
      "[CV] END selector__L=0.95, selector__MS=0.75, selector__algorithm=algorithm1, selector__dispersion_measure=TV; total time=  30.5s\n",
      "[CV] END selector__L=0.95, selector__MS=0.75, selector__algorithm=algorithm1, selector__dispersion_measure=AMGM; total time=  30.1s\n",
      "[CV] END selector__L=0.95, selector__MS=0.75, selector__algorithm=algorithm1, selector__dispersion_measure=AMGM; total time=  28.8s\n",
      "[CV] END selector__L=0.95, selector__MS=0.75, selector__algorithm=algorithm1, selector__dispersion_measure=AMGM; total time=  28.4s\n",
      "[CV] END selector__L=0.95, selector__MS=0.75, selector__algorithm=algorithm1, selector__dispersion_measure=AMGM; total time=  28.0s\n",
      "[CV] END selector__L=0.95, selector__MS=0.75, selector__algorithm=algorithm1, selector__dispersion_measure=AMGM; total time=  26.9s\n",
      "[CV] END selector__L=0.95, selector__MS=0.75, selector__algorithm=algorithm1, selector__dispersion_measure=AMGM; total time=  27.4s\n",
      "[CV] END selector__L=0.95, selector__MS=0.75, selector__algorithm=algorithm1, selector__dispersion_measure=AMGM; total time=  32.0s\n",
      "[CV] END selector__L=0.95, selector__MS=0.75, selector__algorithm=algorithm1, selector__dispersion_measure=AMGM; total time=  31.7s\n",
      "[CV] END selector__L=0.95, selector__MS=0.75, selector__algorithm=algorithm1, selector__dispersion_measure=AMGM; total time=  31.1s\n",
      "[CV] END selector__L=0.95, selector__MS=0.75, selector__algorithm=algorithm2, selector__dispersion_measure=MM; total time=  21.4s\n",
      "[CV] END selector__L=0.95, selector__MS=0.75, selector__algorithm=algorithm2, selector__dispersion_measure=MM; total time=  24.1s\n",
      "[CV] END selector__L=0.95, selector__MS=0.75, selector__algorithm=algorithm2, selector__dispersion_measure=MM; total time=  23.3s\n",
      "[CV] END selector__L=0.95, selector__MS=0.75, selector__algorithm=algorithm1, selector__dispersion_measure=AMGM; total time=  28.8s\n",
      "[CV] END selector__L=0.95, selector__MS=0.75, selector__algorithm=algorithm2, selector__dispersion_measure=MM; total time=  21.5s\n",
      "[CV] END selector__L=0.95, selector__MS=0.75, selector__algorithm=algorithm2, selector__dispersion_measure=MM; total time=  21.3s\n",
      "[CV] END selector__L=0.95, selector__MS=0.75, selector__algorithm=algorithm2, selector__dispersion_measure=MM; total time=  22.5s\n",
      "[CV] END selector__L=0.95, selector__MS=0.75, selector__algorithm=algorithm2, selector__dispersion_measure=MM; total time=  19.7s\n",
      "[CV] END selector__L=0.95, selector__MS=0.75, selector__algorithm=algorithm2, selector__dispersion_measure=MM; total time=  20.9s\n",
      "[CV] END selector__L=0.95, selector__MS=0.75, selector__algorithm=algorithm2, selector__dispersion_measure=MM; total time=  20.2s\n",
      "[CV] END selector__L=0.95, selector__MS=0.75, selector__algorithm=algorithm2, selector__dispersion_measure=MM; total time=  20.0s\n",
      "[CV] END selector__L=0.95, selector__MS=0.75, selector__algorithm=algorithm2, selector__dispersion_measure=MAD; total time=  21.0s\n",
      "[CV] END selector__L=0.95, selector__MS=0.75, selector__algorithm=algorithm2, selector__dispersion_measure=MAD; total time=  22.4s\n",
      "[CV] END selector__L=0.95, selector__MS=0.75, selector__algorithm=algorithm2, selector__dispersion_measure=MAD; total time=  22.1s\n",
      "[CV] END selector__L=0.95, selector__MS=0.75, selector__algorithm=algorithm2, selector__dispersion_measure=MAD; total time=  21.7s\n",
      "[CV] END selector__L=0.95, selector__MS=0.75, selector__algorithm=algorithm2, selector__dispersion_measure=MAD; total time=  22.2s\n",
      "[CV] END selector__L=0.95, selector__MS=0.75, selector__algorithm=algorithm2, selector__dispersion_measure=MAD; total time=  21.3s\n",
      "[CV] END selector__L=0.95, selector__MS=0.75, selector__algorithm=algorithm2, selector__dispersion_measure=MAD; total time=  21.8s\n",
      "[CV] END selector__L=0.95, selector__MS=0.75, selector__algorithm=algorithm2, selector__dispersion_measure=MAD; total time=  19.6s\n",
      "[CV] END selector__L=0.95, selector__MS=0.75, selector__algorithm=algorithm2, selector__dispersion_measure=MAD; total time=  20.7s\n"
     ]
    },
    {
     "name": "stderr",
     "output_type": "stream",
     "text": [
      "/Users/sofiafernandes/Documents/Repos/EmoReA/emorea-backend/src/select_features.py:54: RuntimeWarning: divide by zero encountered in scalar divide\n",
      "  dispersions[i] = arithmetic_mean / geometric_mean\n",
      "/Users/sofiafernandes/Documents/Repos/EmoReA/emorea-backend/src/select_features.py:54: RuntimeWarning: overflow encountered in scalar divide\n",
      "  dispersions[i] = arithmetic_mean / geometric_mean\n"
     ]
    },
    {
     "name": "stdout",
     "output_type": "stream",
     "text": [
      "[CV] END selector__L=0.95, selector__MS=0.75, selector__algorithm=algorithm2, selector__dispersion_measure=MAD; total time=  19.1s\n"
     ]
    },
    {
     "name": "stderr",
     "output_type": "stream",
     "text": [
      "/Users/sofiafernandes/Documents/Repos/EmoReA/emorea-backend/src/select_features.py:54: RuntimeWarning: divide by zero encountered in scalar divide\n",
      "  dispersions[i] = arithmetic_mean / geometric_mean\n",
      "/Users/sofiafernandes/Documents/Repos/EmoReA/emorea-backend/src/select_features.py:54: RuntimeWarning: overflow encountered in scalar divide\n",
      "  dispersions[i] = arithmetic_mean / geometric_mean\n"
     ]
    },
    {
     "name": "stdout",
     "output_type": "stream",
     "text": [
      "[CV] END selector__L=0.95, selector__MS=0.75, selector__algorithm=algorithm2, selector__dispersion_measure=TV; total time=  28.7s\n"
     ]
    },
    {
     "name": "stderr",
     "output_type": "stream",
     "text": [
      "/Users/sofiafernandes/Documents/Repos/EmoReA/emorea-backend/src/select_features.py:54: RuntimeWarning: divide by zero encountered in scalar divide\n",
      "  dispersions[i] = arithmetic_mean / geometric_mean\n",
      "/Users/sofiafernandes/Documents/Repos/EmoReA/emorea-backend/src/select_features.py:54: RuntimeWarning: overflow encountered in scalar divide\n",
      "  dispersions[i] = arithmetic_mean / geometric_mean\n"
     ]
    },
    {
     "name": "stdout",
     "output_type": "stream",
     "text": [
      "[CV] END selector__L=0.95, selector__MS=0.75, selector__algorithm=algorithm2, selector__dispersion_measure=TV; total time=  28.1s\n"
     ]
    },
    {
     "name": "stderr",
     "output_type": "stream",
     "text": [
      "/Users/sofiafernandes/Documents/Repos/EmoReA/emorea-backend/src/select_features.py:54: RuntimeWarning: divide by zero encountered in scalar divide\n",
      "  dispersions[i] = arithmetic_mean / geometric_mean\n",
      "/Users/sofiafernandes/Documents/Repos/EmoReA/emorea-backend/src/select_features.py:54: RuntimeWarning: overflow encountered in scalar divide\n",
      "  dispersions[i] = arithmetic_mean / geometric_mean\n"
     ]
    },
    {
     "name": "stdout",
     "output_type": "stream",
     "text": [
      "[CV] END selector__L=0.95, selector__MS=0.75, selector__algorithm=algorithm2, selector__dispersion_measure=TV; total time=  25.5s\n"
     ]
    },
    {
     "name": "stderr",
     "output_type": "stream",
     "text": [
      "/Users/sofiafernandes/Documents/Repos/EmoReA/emorea-backend/src/select_features.py:54: RuntimeWarning: divide by zero encountered in scalar divide\n",
      "  dispersions[i] = arithmetic_mean / geometric_mean\n",
      "/Users/sofiafernandes/Documents/Repos/EmoReA/emorea-backend/src/select_features.py:54: RuntimeWarning: overflow encountered in scalar divide\n",
      "  dispersions[i] = arithmetic_mean / geometric_mean\n"
     ]
    },
    {
     "name": "stdout",
     "output_type": "stream",
     "text": [
      "[CV] END selector__L=0.95, selector__MS=0.75, selector__algorithm=algorithm2, selector__dispersion_measure=TV; total time=  23.2s\n"
     ]
    },
    {
     "name": "stderr",
     "output_type": "stream",
     "text": [
      "/Users/sofiafernandes/Documents/Repos/EmoReA/emorea-backend/src/select_features.py:54: RuntimeWarning: divide by zero encountered in scalar divide\n",
      "  dispersions[i] = arithmetic_mean / geometric_mean\n",
      "/Users/sofiafernandes/Documents/Repos/EmoReA/emorea-backend/src/select_features.py:54: RuntimeWarning: overflow encountered in scalar divide\n",
      "  dispersions[i] = arithmetic_mean / geometric_mean\n"
     ]
    },
    {
     "name": "stdout",
     "output_type": "stream",
     "text": [
      "[CV] END selector__L=0.95, selector__MS=0.75, selector__algorithm=algorithm2, selector__dispersion_measure=TV; total time=  25.3s\n"
     ]
    },
    {
     "name": "stderr",
     "output_type": "stream",
     "text": [
      "/Users/sofiafernandes/Documents/Repos/EmoReA/emorea-backend/src/select_features.py:54: RuntimeWarning: divide by zero encountered in scalar divide\n",
      "  dispersions[i] = arithmetic_mean / geometric_mean\n",
      "/Users/sofiafernandes/Documents/Repos/EmoReA/emorea-backend/src/select_features.py:54: RuntimeWarning: overflow encountered in scalar divide\n",
      "  dispersions[i] = arithmetic_mean / geometric_mean\n"
     ]
    },
    {
     "name": "stdout",
     "output_type": "stream",
     "text": [
      "[CV] END selector__L=0.95, selector__MS=0.75, selector__algorithm=algorithm2, selector__dispersion_measure=TV; total time=  25.2s\n"
     ]
    },
    {
     "name": "stderr",
     "output_type": "stream",
     "text": [
      "/Users/sofiafernandes/Documents/Repos/EmoReA/emorea-backend/src/select_features.py:54: RuntimeWarning: divide by zero encountered in scalar divide\n",
      "  dispersions[i] = arithmetic_mean / geometric_mean\n",
      "/Users/sofiafernandes/Documents/Repos/EmoReA/emorea-backend/src/select_features.py:54: RuntimeWarning: overflow encountered in scalar divide\n",
      "  dispersions[i] = arithmetic_mean / geometric_mean\n"
     ]
    },
    {
     "name": "stdout",
     "output_type": "stream",
     "text": [
      "[CV] END selector__L=0.95, selector__MS=0.75, selector__algorithm=algorithm2, selector__dispersion_measure=TV; total time=  26.2s\n"
     ]
    },
    {
     "name": "stderr",
     "output_type": "stream",
     "text": [
      "/Users/sofiafernandes/Documents/Repos/EmoReA/emorea-backend/src/select_features.py:54: RuntimeWarning: divide by zero encountered in scalar divide\n",
      "  dispersions[i] = arithmetic_mean / geometric_mean\n",
      "/Users/sofiafernandes/Documents/Repos/EmoReA/emorea-backend/src/select_features.py:54: RuntimeWarning: overflow encountered in scalar divide\n",
      "  dispersions[i] = arithmetic_mean / geometric_mean\n"
     ]
    },
    {
     "name": "stdout",
     "output_type": "stream",
     "text": [
      "[CV] END selector__L=0.95, selector__MS=0.75, selector__algorithm=algorithm2, selector__dispersion_measure=TV; total time=  25.2s\n",
      "[CV] END selector__L=0.95, selector__MS=0.75, selector__algorithm=algorithm2, selector__dispersion_measure=TV; total time=  25.6s\n",
      "Warning: L=0.95 outside recommended [0.7, 0.9] range\n"
     ]
    },
    {
     "name": "stderr",
     "output_type": "stream",
     "text": [
      "/Users/sofiafernandes/Documents/Repos/EmoReA/emorea-backend/src/select_features.py:54: RuntimeWarning: divide by zero encountered in scalar divide\n",
      "  dispersions[i] = arithmetic_mean / geometric_mean\n",
      "/Users/sofiafernandes/Documents/Repos/EmoReA/emorea-backend/src/select_features.py:54: RuntimeWarning: overflow encountered in scalar divide\n",
      "  dispersions[i] = arithmetic_mean / geometric_mean\n"
     ]
    },
    {
     "name": "stdout",
     "output_type": "stream",
     "text": [
      "[CV] END selector__L=0.95, selector__MS=0.75, selector__algorithm=algorithm2, selector__dispersion_measure=AMGM; total time=  23.8s\n",
      "Warning: L=0.95 outside recommended [0.7, 0.9] range\n",
      "[CV] END selector__L=0.95, selector__MS=0.75, selector__algorithm=algorithm2, selector__dispersion_measure=TV; total time=  26.4s\n",
      "Warning: L=0.95 outside recommended [0.7, 0.9] range\n",
      "[CV] END selector__L=0.95, selector__MS=0.75, selector__algorithm=algorithm2, selector__dispersion_measure=AMGM; total time=  25.5s\n",
      "Warning: L=0.95 outside recommended [0.7, 0.9] range\n",
      "[CV] END selector__L=0.95, selector__MS=0.75, selector__algorithm=algorithm2, selector__dispersion_measure=AMGM; total time=  24.0s\n",
      "Warning: L=0.95 outside recommended [0.7, 0.9] range\n",
      "[CV] END selector__L=0.95, selector__MS=0.75, selector__algorithm=algorithm2, selector__dispersion_measure=AMGM; total time=  22.4s\n",
      "Warning: L=0.95 outside recommended [0.7, 0.9] range\n",
      "[CV] END selector__L=0.95, selector__MS=0.75, selector__algorithm=algorithm2, selector__dispersion_measure=AMGM; total time=  22.7s\n",
      "Warning: L=0.95 outside recommended [0.7, 0.9] range\n",
      "[CV] END selector__L=0.95, selector__MS=0.75, selector__algorithm=algorithm2, selector__dispersion_measure=AMGM; total time=  25.3s\n",
      "Warning: L=0.95 outside recommended [0.7, 0.9] range\n",
      "[CV] END selector__L=0.95, selector__MS=0.75, selector__algorithm=algorithm2, selector__dispersion_measure=AMGM; total time=  25.3s\n",
      "Warning: L=0.95 outside recommended [0.7, 0.9] range\n",
      "[CV] END selector__L=0.95, selector__MS=0.75, selector__algorithm=algorithm2, selector__dispersion_measure=AMGM; total time=  25.4s\n",
      "[CV] END selector__L=0.95, selector__MS=0.75, selector__algorithm=algorithm2, selector__dispersion_measure=AMGM; total time=  27.4s\n",
      "Warning: L=0.95 outside recommended [0.7, 0.9] range\n",
      "Warning: L=0.95 outside recommended [0.7, 0.9] range\n",
      "[CV] END selector__L=0.95, selector__MS=0.75, selector__algorithm=algorithm2, selector__dispersion_measure=AMGM; total time=  25.9s\n",
      "Warning: L=0.95 outside recommended [0.7, 0.9] range\n",
      "[CV] END selector__L=0.95, selector__MS=0.8, selector__algorithm=algorithm1, selector__dispersion_measure=MM; total time=  30.2s\n",
      "Warning: L=0.95 outside recommended [0.7, 0.9] range\n",
      "[CV] END selector__L=0.95, selector__MS=0.8, selector__algorithm=algorithm1, selector__dispersion_measure=MM; total time=  29.4s\n",
      "Warning: L=0.95 outside recommended [0.7, 0.9] range\n",
      "[CV] END selector__L=0.95, selector__MS=0.8, selector__algorithm=algorithm1, selector__dispersion_measure=MM; total time=  28.7s\n",
      "Warning: L=0.95 outside recommended [0.7, 0.9] range\n",
      "[CV] END selector__L=0.95, selector__MS=0.8, selector__algorithm=algorithm1, selector__dispersion_measure=MM; total time=  27.0s\n",
      "Warning: L=0.95 outside recommended [0.7, 0.9] range\n",
      "[CV] END selector__L=0.95, selector__MS=0.8, selector__algorithm=algorithm1, selector__dispersion_measure=MM; total time=  23.4s\n",
      "Warning: L=0.95 outside recommended [0.7, 0.9] range\n",
      "[CV] END selector__L=0.95, selector__MS=0.8, selector__algorithm=algorithm1, selector__dispersion_measure=MM; total time=  23.0s\n",
      "Warning: L=0.95 outside recommended [0.7, 0.9] range\n",
      "[CV] END selector__L=0.95, selector__MS=0.8, selector__algorithm=algorithm1, selector__dispersion_measure=MM; total time=  23.2s\n",
      "Warning: L=0.95 outside recommended [0.7, 0.9] range\n",
      "[CV] END selector__L=0.95, selector__MS=0.8, selector__algorithm=algorithm1, selector__dispersion_measure=MM; total time=  25.2s\n",
      "Warning: L=0.95 outside recommended [0.7, 0.9] range\n",
      "[CV] END selector__L=0.95, selector__MS=0.8, selector__algorithm=algorithm1, selector__dispersion_measure=MM; total time=  25.8s\n",
      "Warning: L=0.95 outside recommended [0.7, 0.9] range\n",
      "[CV] END selector__L=0.95, selector__MS=0.8, selector__algorithm=algorithm1, selector__dispersion_measure=MAD; total time=  27.4s\n",
      "Warning: L=0.95 outside recommended [0.7, 0.9] range\n",
      "[CV] END selector__L=0.95, selector__MS=0.8, selector__algorithm=algorithm1, selector__dispersion_measure=MM; total time=  27.4s\n",
      "Warning: L=0.95 outside recommended [0.7, 0.9] range\n",
      "[CV] END selector__L=0.95, selector__MS=0.8, selector__algorithm=algorithm1, selector__dispersion_measure=MAD; total time=  27.4s\n",
      "Warning: L=0.95 outside recommended [0.7, 0.9] range\n",
      "[CV] END selector__L=0.95, selector__MS=0.8, selector__algorithm=algorithm1, selector__dispersion_measure=MAD; total time=  27.9s\n",
      "Warning: L=0.95 outside recommended [0.7, 0.9] range\n",
      "[CV] END selector__L=0.95, selector__MS=0.8, selector__algorithm=algorithm1, selector__dispersion_measure=MAD; total time=  28.0s\n",
      "Warning: L=0.95 outside recommended [0.7, 0.9] range\n",
      "[CV] END selector__L=0.95, selector__MS=0.8, selector__algorithm=algorithm1, selector__dispersion_measure=MAD; total time=  28.7s\n",
      "Warning: L=0.95 outside recommended [0.7, 0.9] range\n",
      "[CV] END selector__L=0.95, selector__MS=0.8, selector__algorithm=algorithm1, selector__dispersion_measure=MAD; total time=  29.1s\n",
      "Warning: L=0.95 outside recommended [0.7, 0.9] range\n",
      "[CV] END selector__L=0.95, selector__MS=0.8, selector__algorithm=algorithm1, selector__dispersion_measure=MAD; total time=  30.5s\n",
      "Warning: L=0.95 outside recommended [0.7, 0.9] range\n",
      "[CV] END selector__L=0.95, selector__MS=0.8, selector__algorithm=algorithm1, selector__dispersion_measure=MAD; total time=  30.4s\n",
      "Warning: L=0.95 outside recommended [0.7, 0.9] range\n",
      "[CV] END selector__L=0.95, selector__MS=0.8, selector__algorithm=algorithm1, selector__dispersion_measure=MAD; total time=  30.9s\n",
      "Warning: L=0.95 outside recommended [0.7, 0.9] range\n"
     ]
    },
    {
     "name": "stderr",
     "output_type": "stream",
     "text": [
      "/Users/sofiafernandes/Documents/Repos/EmoReA/emorea-backend/src/select_features.py:54: RuntimeWarning: divide by zero encountered in scalar divide\n",
      "  dispersions[i] = arithmetic_mean / geometric_mean\n",
      "/Users/sofiafernandes/Documents/Repos/EmoReA/emorea-backend/src/select_features.py:54: RuntimeWarning: overflow encountered in scalar divide\n",
      "  dispersions[i] = arithmetic_mean / geometric_mean\n"
     ]
    },
    {
     "name": "stdout",
     "output_type": "stream",
     "text": [
      "[CV] END selector__L=0.95, selector__MS=0.8, selector__algorithm=algorithm1, selector__dispersion_measure=MAD; total time=  27.6s\n",
      "Warning: L=0.95 outside recommended [0.7, 0.9] range\n"
     ]
    },
    {
     "name": "stderr",
     "output_type": "stream",
     "text": [
      "/Users/sofiafernandes/Documents/Repos/EmoReA/emorea-backend/src/select_features.py:54: RuntimeWarning: divide by zero encountered in scalar divide\n",
      "  dispersions[i] = arithmetic_mean / geometric_mean\n",
      "/Users/sofiafernandes/Documents/Repos/EmoReA/emorea-backend/src/select_features.py:54: RuntimeWarning: overflow encountered in scalar divide\n",
      "  dispersions[i] = arithmetic_mean / geometric_mean\n"
     ]
    },
    {
     "name": "stdout",
     "output_type": "stream",
     "text": [
      "[CV] END selector__L=0.95, selector__MS=0.8, selector__algorithm=algorithm1, selector__dispersion_measure=TV; total time=  27.2s\n",
      "Warning: L=0.95 outside recommended [0.7, 0.9] range\n"
     ]
    },
    {
     "name": "stderr",
     "output_type": "stream",
     "text": [
      "/Users/sofiafernandes/Documents/Repos/EmoReA/emorea-backend/src/select_features.py:54: RuntimeWarning: divide by zero encountered in scalar divide\n",
      "  dispersions[i] = arithmetic_mean / geometric_mean\n",
      "/Users/sofiafernandes/Documents/Repos/EmoReA/emorea-backend/src/select_features.py:54: RuntimeWarning: overflow encountered in scalar divide\n",
      "  dispersions[i] = arithmetic_mean / geometric_mean\n"
     ]
    },
    {
     "name": "stdout",
     "output_type": "stream",
     "text": [
      "[CV] END selector__L=0.95, selector__MS=0.8, selector__algorithm=algorithm1, selector__dispersion_measure=TV; total time=  26.7s\n",
      "Warning: L=0.95 outside recommended [0.7, 0.9] range\n"
     ]
    },
    {
     "name": "stderr",
     "output_type": "stream",
     "text": [
      "/Users/sofiafernandes/Documents/Repos/EmoReA/emorea-backend/src/select_features.py:54: RuntimeWarning: divide by zero encountered in scalar divide\n",
      "  dispersions[i] = arithmetic_mean / geometric_mean\n",
      "/Users/sofiafernandes/Documents/Repos/EmoReA/emorea-backend/src/select_features.py:54: RuntimeWarning: overflow encountered in scalar divide\n",
      "  dispersions[i] = arithmetic_mean / geometric_mean\n"
     ]
    },
    {
     "name": "stdout",
     "output_type": "stream",
     "text": [
      "[CV] END selector__L=0.95, selector__MS=0.8, selector__algorithm=algorithm1, selector__dispersion_measure=TV; total time=  27.0s\n",
      "Warning: L=0.95 outside recommended [0.7, 0.9] range\n"
     ]
    },
    {
     "name": "stderr",
     "output_type": "stream",
     "text": [
      "/Users/sofiafernandes/Documents/Repos/EmoReA/emorea-backend/src/select_features.py:54: RuntimeWarning: divide by zero encountered in scalar divide\n",
      "  dispersions[i] = arithmetic_mean / geometric_mean\n",
      "/Users/sofiafernandes/Documents/Repos/EmoReA/emorea-backend/src/select_features.py:54: RuntimeWarning: overflow encountered in scalar divide\n",
      "  dispersions[i] = arithmetic_mean / geometric_mean\n"
     ]
    },
    {
     "name": "stdout",
     "output_type": "stream",
     "text": [
      "[CV] END selector__L=0.95, selector__MS=0.8, selector__algorithm=algorithm1, selector__dispersion_measure=TV; total time=  26.7s\n",
      "Warning: L=0.95 outside recommended [0.7, 0.9] range\n"
     ]
    },
    {
     "name": "stderr",
     "output_type": "stream",
     "text": [
      "/Users/sofiafernandes/Documents/Repos/EmoReA/emorea-backend/src/select_features.py:54: RuntimeWarning: divide by zero encountered in scalar divide\n",
      "  dispersions[i] = arithmetic_mean / geometric_mean\n",
      "/Users/sofiafernandes/Documents/Repos/EmoReA/emorea-backend/src/select_features.py:54: RuntimeWarning: overflow encountered in scalar divide\n",
      "  dispersions[i] = arithmetic_mean / geometric_mean\n"
     ]
    },
    {
     "name": "stdout",
     "output_type": "stream",
     "text": [
      "[CV] END selector__L=0.95, selector__MS=0.8, selector__algorithm=algorithm1, selector__dispersion_measure=TV; total time=  27.1s\n",
      "Warning: L=0.95 outside recommended [0.7, 0.9] range\n"
     ]
    },
    {
     "name": "stderr",
     "output_type": "stream",
     "text": [
      "/Users/sofiafernandes/Documents/Repos/EmoReA/emorea-backend/src/select_features.py:54: RuntimeWarning: divide by zero encountered in scalar divide\n",
      "  dispersions[i] = arithmetic_mean / geometric_mean\n",
      "/Users/sofiafernandes/Documents/Repos/EmoReA/emorea-backend/src/select_features.py:54: RuntimeWarning: overflow encountered in scalar divide\n",
      "  dispersions[i] = arithmetic_mean / geometric_mean\n"
     ]
    },
    {
     "name": "stdout",
     "output_type": "stream",
     "text": [
      "[CV] END selector__L=0.95, selector__MS=0.8, selector__algorithm=algorithm1, selector__dispersion_measure=TV; total time=  26.7s\n",
      "Warning: L=0.95 outside recommended [0.7, 0.9] range\n"
     ]
    },
    {
     "name": "stderr",
     "output_type": "stream",
     "text": [
      "/Users/sofiafernandes/Documents/Repos/EmoReA/emorea-backend/src/select_features.py:54: RuntimeWarning: divide by zero encountered in scalar divide\n",
      "  dispersions[i] = arithmetic_mean / geometric_mean\n",
      "/Users/sofiafernandes/Documents/Repos/EmoReA/emorea-backend/src/select_features.py:54: RuntimeWarning: overflow encountered in scalar divide\n",
      "  dispersions[i] = arithmetic_mean / geometric_mean\n"
     ]
    },
    {
     "name": "stdout",
     "output_type": "stream",
     "text": [
      "[CV] END selector__L=0.95, selector__MS=0.8, selector__algorithm=algorithm1, selector__dispersion_measure=TV; total time=  26.7s\n",
      "Warning: L=0.95 outside recommended [0.7, 0.9] range\n"
     ]
    },
    {
     "name": "stderr",
     "output_type": "stream",
     "text": [
      "/Users/sofiafernandes/Documents/Repos/EmoReA/emorea-backend/src/select_features.py:54: RuntimeWarning: divide by zero encountered in scalar divide\n",
      "  dispersions[i] = arithmetic_mean / geometric_mean\n",
      "/Users/sofiafernandes/Documents/Repos/EmoReA/emorea-backend/src/select_features.py:54: RuntimeWarning: overflow encountered in scalar divide\n",
      "  dispersions[i] = arithmetic_mean / geometric_mean\n"
     ]
    },
    {
     "name": "stdout",
     "output_type": "stream",
     "text": [
      "[CV] END selector__L=0.95, selector__MS=0.8, selector__algorithm=algorithm1, selector__dispersion_measure=TV; total time=  26.9s\n",
      "Warning: L=0.95 outside recommended [0.7, 0.9] range\n"
     ]
    },
    {
     "name": "stderr",
     "output_type": "stream",
     "text": [
      "/Users/sofiafernandes/Documents/Repos/EmoReA/emorea-backend/src/select_features.py:54: RuntimeWarning: divide by zero encountered in scalar divide\n",
      "  dispersions[i] = arithmetic_mean / geometric_mean\n",
      "/Users/sofiafernandes/Documents/Repos/EmoReA/emorea-backend/src/select_features.py:54: RuntimeWarning: overflow encountered in scalar divide\n",
      "  dispersions[i] = arithmetic_mean / geometric_mean\n"
     ]
    },
    {
     "name": "stdout",
     "output_type": "stream",
     "text": [
      "[CV] END selector__L=0.95, selector__MS=0.8, selector__algorithm=algorithm1, selector__dispersion_measure=TV; total time=  29.3s\n",
      "[CV] END selector__L=0.95, selector__MS=0.8, selector__algorithm=algorithm1, selector__dispersion_measure=TV; total time=  30.7s\n",
      "[CV] END selector__L=0.95, selector__MS=0.8, selector__algorithm=algorithm1, selector__dispersion_measure=AMGM; total time=  31.2s\n",
      "[CV] END selector__L=0.95, selector__MS=0.8, selector__algorithm=algorithm1, selector__dispersion_measure=AMGM; total time=  39.9s\n",
      "[CV] END selector__L=0.95, selector__MS=0.8, selector__algorithm=algorithm1, selector__dispersion_measure=AMGM; total time=  40.0s\n",
      "[CV] END selector__L=0.95, selector__MS=0.8, selector__algorithm=algorithm1, selector__dispersion_measure=AMGM; total time=  38.6s\n",
      "[CV] END selector__L=0.95, selector__MS=0.8, selector__algorithm=algorithm1, selector__dispersion_measure=AMGM; total time=  36.1s\n",
      "[CV] END selector__L=0.95, selector__MS=0.8, selector__algorithm=algorithm1, selector__dispersion_measure=AMGM; total time=  34.4s\n",
      "[CV] END selector__L=0.95, selector__MS=0.8, selector__algorithm=algorithm1, selector__dispersion_measure=AMGM; total time=  30.6s\n",
      "[CV] END selector__L=0.95, selector__MS=0.8, selector__algorithm=algorithm1, selector__dispersion_measure=AMGM; total time=  29.5s\n",
      "[CV] END selector__L=0.95, selector__MS=0.8, selector__algorithm=algorithm1, selector__dispersion_measure=AMGM; total time=  28.5s\n",
      "[CV] END selector__L=0.95, selector__MS=0.8, selector__algorithm=algorithm2, selector__dispersion_measure=MM; total time=  20.5s\n",
      "[CV] END selector__L=0.95, selector__MS=0.8, selector__algorithm=algorithm2, selector__dispersion_measure=MM; total time=  20.4s\n",
      "[CV] END selector__L=0.95, selector__MS=0.8, selector__algorithm=algorithm1, selector__dispersion_measure=AMGM; total time=  27.0s\n",
      "[CV] END selector__L=0.95, selector__MS=0.8, selector__algorithm=algorithm2, selector__dispersion_measure=MM; total time=  19.6s\n",
      "[CV] END selector__L=0.95, selector__MS=0.8, selector__algorithm=algorithm2, selector__dispersion_measure=MM; total time=  21.2s\n",
      "[CV] END selector__L=0.95, selector__MS=0.8, selector__algorithm=algorithm2, selector__dispersion_measure=MM; total time=  21.3s\n",
      "[CV] END selector__L=0.95, selector__MS=0.8, selector__algorithm=algorithm2, selector__dispersion_measure=MM; total time=  21.1s\n",
      "[CV] END selector__L=0.95, selector__MS=0.8, selector__algorithm=algorithm2, selector__dispersion_measure=MM; total time=  24.9s\n",
      "[CV] END selector__L=0.95, selector__MS=0.8, selector__algorithm=algorithm2, selector__dispersion_measure=MM; total time=  27.5s\n",
      "[CV] END selector__L=0.95, selector__MS=0.8, selector__algorithm=algorithm2, selector__dispersion_measure=MM; total time=  25.6s\n",
      "[CV] END selector__L=0.95, selector__MS=0.8, selector__algorithm=algorithm2, selector__dispersion_measure=MAD; total time=  25.2s\n",
      "[CV] END selector__L=0.95, selector__MS=0.8, selector__algorithm=algorithm2, selector__dispersion_measure=MM; total time=  24.7s\n",
      "[CV] END selector__L=0.95, selector__MS=0.8, selector__algorithm=algorithm2, selector__dispersion_measure=MAD; total time=  24.6s\n",
      "[CV] END selector__L=0.95, selector__MS=0.8, selector__algorithm=algorithm2, selector__dispersion_measure=MAD; total time=  22.5s\n",
      "[CV] END selector__L=0.95, selector__MS=0.8, selector__algorithm=algorithm2, selector__dispersion_measure=MAD; total time=  21.3s\n",
      "[CV] END selector__L=0.95, selector__MS=0.8, selector__algorithm=algorithm2, selector__dispersion_measure=MAD; total time=  23.2s\n",
      "[CV] END selector__L=0.95, selector__MS=0.8, selector__algorithm=algorithm2, selector__dispersion_measure=MAD; total time=  21.0s\n",
      "[CV] END selector__L=0.95, selector__MS=0.8, selector__algorithm=algorithm2, selector__dispersion_measure=MAD; total time=  23.4s\n",
      "[CV] END selector__L=0.95, selector__MS=0.8, selector__algorithm=algorithm2, selector__dispersion_measure=MAD; total time=  24.9s\n",
      "[CV] END selector__L=0.95, selector__MS=0.8, selector__algorithm=algorithm2, selector__dispersion_measure=MAD; total time=  26.0s\n"
     ]
    },
    {
     "name": "stderr",
     "output_type": "stream",
     "text": [
      "/Users/sofiafernandes/Documents/Repos/EmoReA/emorea-backend/src/select_features.py:54: RuntimeWarning: divide by zero encountered in scalar divide\n",
      "  dispersions[i] = arithmetic_mean / geometric_mean\n",
      "/Users/sofiafernandes/Documents/Repos/EmoReA/emorea-backend/src/select_features.py:54: RuntimeWarning: overflow encountered in scalar divide\n",
      "  dispersions[i] = arithmetic_mean / geometric_mean\n"
     ]
    },
    {
     "name": "stdout",
     "output_type": "stream",
     "text": [
      "[CV] END selector__L=0.95, selector__MS=0.8, selector__algorithm=algorithm2, selector__dispersion_measure=MAD; total time=  26.6s\n"
     ]
    },
    {
     "name": "stderr",
     "output_type": "stream",
     "text": [
      "/Users/sofiafernandes/Documents/Repos/EmoReA/emorea-backend/src/select_features.py:54: RuntimeWarning: divide by zero encountered in scalar divide\n",
      "  dispersions[i] = arithmetic_mean / geometric_mean\n",
      "/Users/sofiafernandes/Documents/Repos/EmoReA/emorea-backend/src/select_features.py:54: RuntimeWarning: overflow encountered in scalar divide\n",
      "  dispersions[i] = arithmetic_mean / geometric_mean\n"
     ]
    },
    {
     "name": "stdout",
     "output_type": "stream",
     "text": [
      "[CV] END selector__L=0.95, selector__MS=0.8, selector__algorithm=algorithm2, selector__dispersion_measure=TV; total time=  25.3s\n"
     ]
    },
    {
     "name": "stderr",
     "output_type": "stream",
     "text": [
      "/Users/sofiafernandes/Documents/Repos/EmoReA/emorea-backend/src/select_features.py:54: RuntimeWarning: divide by zero encountered in scalar divide\n",
      "  dispersions[i] = arithmetic_mean / geometric_mean\n",
      "/Users/sofiafernandes/Documents/Repos/EmoReA/emorea-backend/src/select_features.py:54: RuntimeWarning: overflow encountered in scalar divide\n",
      "  dispersions[i] = arithmetic_mean / geometric_mean\n"
     ]
    },
    {
     "name": "stdout",
     "output_type": "stream",
     "text": [
      "[CV] END selector__L=0.95, selector__MS=0.8, selector__algorithm=algorithm2, selector__dispersion_measure=TV; total time=  27.9s\n"
     ]
    },
    {
     "name": "stderr",
     "output_type": "stream",
     "text": [
      "/Users/sofiafernandes/Documents/Repos/EmoReA/emorea-backend/src/select_features.py:54: RuntimeWarning: divide by zero encountered in scalar divide\n",
      "  dispersions[i] = arithmetic_mean / geometric_mean\n",
      "/Users/sofiafernandes/Documents/Repos/EmoReA/emorea-backend/src/select_features.py:54: RuntimeWarning: overflow encountered in scalar divide\n",
      "  dispersions[i] = arithmetic_mean / geometric_mean\n"
     ]
    },
    {
     "name": "stdout",
     "output_type": "stream",
     "text": [
      "[CV] END selector__L=0.95, selector__MS=0.8, selector__algorithm=algorithm2, selector__dispersion_measure=TV; total time=  31.2s\n"
     ]
    },
    {
     "name": "stderr",
     "output_type": "stream",
     "text": [
      "/Users/sofiafernandes/Documents/Repos/EmoReA/emorea-backend/src/select_features.py:54: RuntimeWarning: divide by zero encountered in scalar divide\n",
      "  dispersions[i] = arithmetic_mean / geometric_mean\n",
      "/Users/sofiafernandes/Documents/Repos/EmoReA/emorea-backend/src/select_features.py:54: RuntimeWarning: overflow encountered in scalar divide\n",
      "  dispersions[i] = arithmetic_mean / geometric_mean\n"
     ]
    },
    {
     "name": "stdout",
     "output_type": "stream",
     "text": [
      "[CV] END selector__L=0.95, selector__MS=0.8, selector__algorithm=algorithm2, selector__dispersion_measure=TV; total time=  29.1s\n"
     ]
    },
    {
     "name": "stderr",
     "output_type": "stream",
     "text": [
      "/Users/sofiafernandes/Documents/Repos/EmoReA/emorea-backend/src/select_features.py:54: RuntimeWarning: divide by zero encountered in scalar divide\n",
      "  dispersions[i] = arithmetic_mean / geometric_mean\n",
      "/Users/sofiafernandes/Documents/Repos/EmoReA/emorea-backend/src/select_features.py:54: RuntimeWarning: overflow encountered in scalar divide\n",
      "  dispersions[i] = arithmetic_mean / geometric_mean\n"
     ]
    },
    {
     "name": "stdout",
     "output_type": "stream",
     "text": [
      "[CV] END selector__L=0.95, selector__MS=0.8, selector__algorithm=algorithm2, selector__dispersion_measure=TV; total time=  27.0s\n"
     ]
    },
    {
     "name": "stderr",
     "output_type": "stream",
     "text": [
      "/Users/sofiafernandes/Documents/Repos/EmoReA/emorea-backend/src/select_features.py:54: RuntimeWarning: divide by zero encountered in scalar divide\n",
      "  dispersions[i] = arithmetic_mean / geometric_mean\n",
      "/Users/sofiafernandes/Documents/Repos/EmoReA/emorea-backend/src/select_features.py:54: RuntimeWarning: overflow encountered in scalar divide\n",
      "  dispersions[i] = arithmetic_mean / geometric_mean\n"
     ]
    },
    {
     "name": "stdout",
     "output_type": "stream",
     "text": [
      "[CV] END selector__L=0.95, selector__MS=0.8, selector__algorithm=algorithm2, selector__dispersion_measure=TV; total time=  27.1s\n"
     ]
    },
    {
     "name": "stderr",
     "output_type": "stream",
     "text": [
      "/Users/sofiafernandes/Documents/Repos/EmoReA/emorea-backend/src/select_features.py:54: RuntimeWarning: divide by zero encountered in scalar divide\n",
      "  dispersions[i] = arithmetic_mean / geometric_mean\n",
      "/Users/sofiafernandes/Documents/Repos/EmoReA/emorea-backend/src/select_features.py:54: RuntimeWarning: overflow encountered in scalar divide\n",
      "  dispersions[i] = arithmetic_mean / geometric_mean\n"
     ]
    },
    {
     "name": "stdout",
     "output_type": "stream",
     "text": [
      "[CV] END selector__L=0.95, selector__MS=0.8, selector__algorithm=algorithm2, selector__dispersion_measure=TV; total time=  29.5s\n"
     ]
    },
    {
     "name": "stderr",
     "output_type": "stream",
     "text": [
      "/Users/sofiafernandes/Documents/Repos/EmoReA/emorea-backend/src/select_features.py:54: RuntimeWarning: divide by zero encountered in scalar divide\n",
      "  dispersions[i] = arithmetic_mean / geometric_mean\n",
      "/Users/sofiafernandes/Documents/Repos/EmoReA/emorea-backend/src/select_features.py:54: RuntimeWarning: overflow encountered in scalar divide\n",
      "  dispersions[i] = arithmetic_mean / geometric_mean\n"
     ]
    },
    {
     "name": "stdout",
     "output_type": "stream",
     "text": [
      "[CV] END selector__L=0.95, selector__MS=0.8, selector__algorithm=algorithm2, selector__dispersion_measure=TV; total time=  22.2s\n"
     ]
    },
    {
     "name": "stderr",
     "output_type": "stream",
     "text": [
      "/Users/sofiafernandes/Documents/Repos/EmoReA/emorea-backend/src/select_features.py:54: RuntimeWarning: divide by zero encountered in scalar divide\n",
      "  dispersions[i] = arithmetic_mean / geometric_mean\n",
      "/Users/sofiafernandes/Documents/Repos/EmoReA/emorea-backend/src/select_features.py:54: RuntimeWarning: overflow encountered in scalar divide\n",
      "  dispersions[i] = arithmetic_mean / geometric_mean\n"
     ]
    },
    {
     "name": "stdout",
     "output_type": "stream",
     "text": [
      "[CV] END selector__L=0.95, selector__MS=0.8, selector__algorithm=algorithm2, selector__dispersion_measure=TV; total time=  18.8s\n",
      "[CV] END selector__L=0.95, selector__MS=0.8, selector__algorithm=algorithm2, selector__dispersion_measure=TV; total time=  20.4s\n",
      "[CV] END selector__L=0.95, selector__MS=0.8, selector__algorithm=algorithm2, selector__dispersion_measure=AMGM; total time=  17.8s\n",
      "[CV] END selector__L=0.95, selector__MS=0.8, selector__algorithm=algorithm2, selector__dispersion_measure=AMGM; total time=  19.5s\n",
      "[CV] END selector__L=0.95, selector__MS=0.8, selector__algorithm=algorithm2, selector__dispersion_measure=AMGM; total time=  20.7s\n",
      "[CV] END selector__L=0.95, selector__MS=0.8, selector__algorithm=algorithm2, selector__dispersion_measure=AMGM; total time=  20.6s\n",
      "[CV] END selector__L=0.95, selector__MS=0.8, selector__algorithm=algorithm2, selector__dispersion_measure=AMGM; total time=  21.6s\n",
      "[CV] END selector__L=0.95, selector__MS=0.8, selector__algorithm=algorithm2, selector__dispersion_measure=AMGM; total time=  20.9s\n",
      "[CV] END selector__L=0.95, selector__MS=0.8, selector__algorithm=algorithm2, selector__dispersion_measure=AMGM; total time=  21.2s\n",
      "[CV] END selector__L=0.95, selector__MS=0.8, selector__algorithm=algorithm2, selector__dispersion_measure=AMGM; total time=  20.8s\n",
      "[CV] END selector__L=0.95, selector__MS=0.8, selector__algorithm=algorithm2, selector__dispersion_measure=AMGM; total time=  21.9s\n",
      "[CV] END selector__L=0.95, selector__MS=0.8, selector__algorithm=algorithm2, selector__dispersion_measure=AMGM; total time=  19.2s\n",
      "Best parameters: {'selector__L': 0.7, 'selector__MS': 0.7, 'selector__algorithm': 'algorithm1', 'selector__dispersion_measure': 'MAD'}\n",
      "Best CV accuracy: 0.29062517425326667\n",
      "Test accuracy: 0.30727091633466136\n"
     ]
    }
   ],
   "source": [
    "from sklearn.pipeline import Pipeline\n",
    "from sklearn.model_selection import GridSearchCV\n",
    "from sklearn.svm import SVC\n",
    "import pandas as pd\n",
    "from src.select_features import FeatureSelector\n",
    "\n",
    "\n",
    "# Create pipeline with fixed SVM params and feature selector\n",
    "pipeline = Pipeline([\n",
    "    ('selector', FeatureSelector()),\n",
    "    ('clf', SVC(C=10, gamma='scale', kernel='rbf', random_state=42))  # Fixed SVM params\n",
    "])\n",
    "\n",
    "# Define parameter grid for feature selection\n",
    "param_grid = {\n",
    "    'selector__algorithm': ['algorithm1', 'algorithm2'],\n",
    "    'selector__L': [0.7, 0.8, 0.9, 0.95],\n",
    "    'selector__MS': [0.7, 0.75, 0.8],  # Only used with algorithm2\n",
    "    'selector__dispersion_measure': ['MM', 'MAD', 'TV', 'AMGM']\n",
    "}\n",
    "\n",
    "# Configure grid search\n",
    "grid_search = GridSearchCV(\n",
    "    estimator=pipeline,\n",
    "    param_grid=param_grid,\n",
    "    cv=10,\n",
    "    scoring='accuracy',\n",
    "    n_jobs=-1,\n",
    "    verbose=2,\n",
    "    return_train_score=True\n",
    ")\n",
    "\n",
    "# Run grid search\n",
    "grid_search.fit(X_train, y_train)\n",
    "\n",
    "# Results analysis\n",
    "print(\"Best parameters:\", grid_search.best_params_)\n",
    "print(\"Best CV accuracy:\", grid_search.best_score_)\n",
    "print(\"Test accuracy:\", grid_search.score(X_test, y_test))\n",
    "\n",
    "# Save results to DataFrame\n",
    "results_df = pd.DataFrame(grid_search.cv_results_)\n",
    "results_df.to_csv('feature_selection_grid_search_results.csv', index=False)"
   ]
  },
  {
   "cell_type": "code",
   "execution_count": null,
   "id": "7a2ad091",
   "metadata": {},
   "outputs": [
    {
     "ename": "ModuleNotFoundError",
     "evalue": "No module named 'select_features'",
     "output_type": "error",
     "traceback": [
      "\u001b[0;31m---------------------------------------------------------------------------\u001b[0m",
      "\u001b[0;31mModuleNotFoundError\u001b[0m                       Traceback (most recent call last)",
      "Cell \u001b[0;32mIn[30], line 2\u001b[0m\n\u001b[1;32m      1\u001b[0m \u001b[38;5;28;01mfrom\u001b[39;00m \u001b[38;5;21;01msklearn\u001b[39;00m\u001b[38;5;21;01m.\u001b[39;00m\u001b[38;5;21;01mbase\u001b[39;00m \u001b[38;5;28;01mimport\u001b[39;00m BaseEstimator, TransformerMixin\n\u001b[0;32m----> 2\u001b[0m \u001b[38;5;28;01mfrom\u001b[39;00m \u001b[38;5;21;01mselect_features\u001b[39;00m \u001b[38;5;28;01mimport\u001b[39;00m algorithm1, algorithm2\n\u001b[1;32m      3\u001b[0m \u001b[38;5;28;01mimport\u001b[39;00m \u001b[38;5;21;01mmatplotlib\u001b[39;00m\u001b[38;5;21;01m.\u001b[39;00m\u001b[38;5;21;01mpyplot\u001b[39;00m \u001b[38;5;28;01mas\u001b[39;00m \u001b[38;5;21;01mplt\u001b[39;00m\n\u001b[1;32m      4\u001b[0m \u001b[38;5;28;01mimport\u001b[39;00m \u001b[38;5;21;01mnumpy\u001b[39;00m \u001b[38;5;28;01mas\u001b[39;00m \u001b[38;5;21;01mnp\u001b[39;00m\n",
      "\u001b[0;31mModuleNotFoundError\u001b[0m: No module named 'select_features'"
     ]
    }
   ],
   "source": [
    "import sys\n",
    "import os\n",
    "module_path = os.path.abspath(os.path.join('..', '..')) # or the path to your source code\n",
    "sys.path.insert(0, module_path)\n",
    "from sklearn.base import BaseEstimator, TransformerMixin\n",
    "from src.select_features import algorithm1, algorithm2\n",
    "import matplotlib.pyplot as plt\n",
    "import numpy as np\n",
    "\n",
    "class FeatureSelector(BaseEstimator, TransformerMixin):\n",
    "    def __init__(self, algorithm='algorithm2', L=0.95, MS=0.8, dispersion_measure='MM'):\n",
    "        self.algorithm = algorithm\n",
    "        self.L = L\n",
    "        self.MS = MS\n",
    "        self.dispersion_measure = dispersion_measure\n",
    "        self.selected_indices = None\n",
    "        \n",
    "    def fit(self, X, y=None):\n",
    "        if self.algorithm == 'algorithm1':\n",
    "            self.selected_indices = algorithm1(X, self.L, self.dispersion_measure)\n",
    "        else:\n",
    "            self.selected_indices = algorithm2(X, self.L, self.MS, self.dispersion_measure)\n",
    "        return self\n",
    "    \n",
    "    def transform(self, X):\n",
    "        return X[:, self.selected_indices]\n",
    "    \n",
    "# Visualizar máscara como imagem 2D\n",
    "def plot_feature_mask(mask, title):\n",
    "    # Calcular dimensões para visualização\n",
    "    n_features = mask.shape[0]\n",
    "    grid_size = int(np.ceil(np.sqrt(n_features)))\n",
    "    pad = grid_size**2 - n_features\n",
    "    \n",
    "    # Aplicar padding e remodelar\n",
    "    mask_padded = np.pad(mask, (0, pad))\n",
    "    plt.imshow(mask_padded.reshape(grid_size, grid_size), cmap='gray')\n",
    "    plt.title(title)\n",
    "    plt.show()\n"
   ]
  },
  {
   "cell_type": "code",
   "execution_count": null,
   "id": "cc323807",
   "metadata": {},
   "outputs": [],
   "source": [
    "import sys\n",
    "import os\n",
    "module_path = os.path.abspath(os.path.join('..', '..')) # or the path to your source code\n",
    "sys.path.insert(0, module_path)\n",
    "\n",
    "from src.select_features import FeatureSelector\n",
    "\n"
   ]
  },
  {
   "cell_type": "code",
   "execution_count": null,
   "id": "d3b51c1c",
   "metadata": {},
   "outputs": [],
   "source": []
  }
 ],
 "metadata": {
  "kernelspec": {
   "display_name": "varm",
   "language": "python",
   "name": "python3"
  },
  "language_info": {
   "codemirror_mode": {
    "name": "ipython",
    "version": 3
   },
   "file_extension": ".py",
   "mimetype": "text/x-python",
   "name": "python",
   "nbconvert_exporter": "python",
   "pygments_lexer": "ipython3",
   "version": "3.8.19"
  }
 },
 "nbformat": 4,
 "nbformat_minor": 5
}
