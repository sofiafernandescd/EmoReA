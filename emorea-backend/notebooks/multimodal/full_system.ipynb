{
 "cells": [
  {
   "cell_type": "markdown",
   "id": "40f317d1",
   "metadata": {},
   "source": [
    "## Multimodal Emotion Recognition - Full system\n",
    "\n"
   ]
  },
  {
   "cell_type": "code",
   "execution_count": null,
   "id": "75ae0d4d",
   "metadata": {},
   "outputs": [],
   "source": [
    "import sys\n",
    "import os\n",
    "# insert the path to the source code directory\n",
    "module_path = os.path.abspath(os.path.join('..', '..')) \n",
    "sys.path.insert(0, module_path)"
   ]
  },
  {
   "cell_type": "markdown",
   "id": "b84a1322",
   "metadata": {},
   "source": []
  }
 ],
 "metadata": {
  "language_info": {
   "name": "python"
  }
 },
 "nbformat": 4,
 "nbformat_minor": 5
}
