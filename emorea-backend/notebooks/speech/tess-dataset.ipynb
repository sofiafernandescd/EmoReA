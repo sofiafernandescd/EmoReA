{
 "cells": [
  {
   "cell_type": "markdown",
   "id": "d81b1ab0",
   "metadata": {},
   "source": [
    "# Toronto emotional speech set (TESS)\n",
    "\n",
    "There are a set of 200 target words were spoken in the carrier phrase \"Say the word _' by two actresses (aged 26 and 64 years) and recordings were made of the set portraying each of seven emotions (anger, disgust, fear, happiness, pleasant surprise, sadness, and neutral). There are 2800 data points (audio files) in total.\n",
    "\n",
    "The dataset is organised such that each of the two female actor and their emotions are contain within its own folder. And within that, all 200 target words audio file can be found. The format of the audio file is a WAV format\n",
    "\n",
    "https://utoronto.scholaris.ca/collections/036db644-9790-4ed0-90cc-be1dfb8a4b66\n",
    "\n",
    "OAF stands for \"Older Adult Female\". This refers to the actress aged 64 years.\n",
    "\n",
    "YAF stands for \"Younger Adult Female\". This refers to the actress aged 26 years."
   ]
  },
  {
   "cell_type": "code",
   "execution_count": 3,
   "id": "624a51c3",
   "metadata": {},
   "outputs": [
    {
     "name": "stdout",
     "output_type": "stream",
     "text": [
      "Warning: Looks like you're using an outdated `kagglehub` version, please consider updating (latest version: 0.3.12)\n",
      "Path to dataset files: /Users/sofiafernandes/.cache/kagglehub/datasets/ejlok1/toronto-emotional-speech-set-tess/versions/1\n",
      "['TESS']\n",
      "['YAF_disgust', 'OAF_Pleasant_surprise', 'OAF_happy', 'YAF_sad', 'YAF_happy', 'YAF_neutral', 'OAF_Fear', 'OAF_angry', 'YAF_pleasant_surprised', 'YAF_fear', 'OAF_neutral', 'OAF_disgust', 'YAF_angry', 'OAF_Sad']\n"
     ]
    }
   ],
   "source": [
    "import kagglehub\n",
    "import os\n",
    "import pandas as pd\n",
    "import matplotlib.pyplot as plt\n",
    "\n",
    "## TESS Dataset\n",
    "\n",
    "# Download dataset from Kaggle\n",
    "path = kagglehub.dataset_download(\"ejlok1/toronto-emotional-speech-set-tess\")\n",
    "print(\"Path to dataset files:\", path)\n",
    "# List all files in the dataset\n",
    "print(os.listdir(path))\n",
    "# change name of existing folder on path\n",
    "os.rename(os.path.join(path, os.listdir(path)[0]), os.path.join(path, \"TESS\"))\n",
    "\n",
    "tess_path = os.path.join(path, \"TESS\")\n",
    "print(os.listdir(tess_path))\n"
   ]
  },
  {
   "cell_type": "code",
   "execution_count": 4,
   "id": "89410955",
   "metadata": {},
   "outputs": [
    {
     "data": {
      "text/plain": [
       "<Axes: title={'center': 'Emotion Distribution in TESS'}, xlabel='label'>"
      ]
     },
     "execution_count": 4,
     "metadata": {},
     "output_type": "execute_result"
    },
    {
     "data": {
      "image/png": "[encoded data removed]",
      "text/plain": [
       "<Figure size 640x480 with 1 Axes>"
      ]
     },
     "metadata": {},
     "output_type": "display_data"
    }
   ],
   "source": [
    "all_files = [\n",
    "    os.path.join(tess_path, folder, filename)\n",
    "    for folder in os.listdir(tess_path)\n",
    "    for filename in os.listdir(os.path.join(tess_path, folder))\n",
    "]\n",
    "\n",
    "labels = [\n",
    "    f[:-4].split('_')[-1].lower() \n",
    "    if f[:-4].split('_')[-1].lower() != \"ps\"\n",
    "    else \"surprise\"\n",
    "    for f in all_files\n",
    "]\n",
    "\n",
    "tess_db = pd.DataFrame({\n",
    "    'filename': all_files,\n",
    "    'label': labels\n",
    "})\n",
    "\n",
    "tess_db['label'].value_counts().plot(kind='bar', color='lightblue', title='Emotion Distribution in TESS')\n",
    "\n"
   ]
  },
  {
   "cell_type": "code",
   "execution_count": 3,
   "id": "35b73c95",
   "metadata": {},
   "outputs": [
    {
     "name": "stderr",
     "output_type": "stream",
     "text": [
      "2025-05-27 18:34:52.062107: I tensorflow/core/platform/cpu_feature_guard.cc:182] This TensorFlow binary is optimized to use available CPU instructions in performance-critical operations.\n",
      "To enable the following instructions: AVX2 FMA, in other operations, rebuild TensorFlow with the appropriate compiler flags.\n",
      "100%|██████████| 2800/2800 [04:36<00:00, 10.12it/s]\n"
     ]
    },
    {
     "data": {
      "text/html": [
       "<div>\n",
       "<style scoped>\n",
       "    .dataframe tbody tr th:only-of-type {\n",
       "        vertical-align: middle;\n",
       "    }\n",
       "\n",
       "    .dataframe tbody tr th {\n",
       "        vertical-align: top;\n",
       "    }\n",
       "\n",
       "    .dataframe thead th {\n",
       "        text-align: right;\n",
       "    }\n",
       "</style>\n",
       "<table border=\"1\" class=\"dataframe\">\n",
       "  <thead>\n",
       "    <tr style=\"text-align: right;\">\n",
       "      <th></th>\n",
       "      <th>filename</th>\n",
       "      <th>label</th>\n",
       "      <th>pred</th>\n",
       "    </tr>\n",
       "  </thead>\n",
       "  <tbody>\n",
       "    <tr>\n",
       "      <th>0</th>\n",
       "      <td>/Users/sofiafernandes/.cache/kagglehub/dataset...</td>\n",
       "      <td>disgust</td>\n",
       "      <td>disgust</td>\n",
       "    </tr>\n",
       "    <tr>\n",
       "      <th>1</th>\n",
       "      <td>/Users/sofiafernandes/.cache/kagglehub/dataset...</td>\n",
       "      <td>disgust</td>\n",
       "      <td>disgust</td>\n",
       "    </tr>\n",
       "    <tr>\n",
       "      <th>2</th>\n",
       "      <td>/Users/sofiafernandes/.cache/kagglehub/dataset...</td>\n",
       "      <td>disgust</td>\n",
       "      <td>disgust</td>\n",
       "    </tr>\n",
       "    <tr>\n",
       "      <th>3</th>\n",
       "      <td>/Users/sofiafernandes/.cache/kagglehub/dataset...</td>\n",
       "      <td>disgust</td>\n",
       "      <td>disgust</td>\n",
       "    </tr>\n",
       "    <tr>\n",
       "      <th>4</th>\n",
       "      <td>/Users/sofiafernandes/.cache/kagglehub/dataset...</td>\n",
       "      <td>disgust</td>\n",
       "      <td>boredom</td>\n",
       "    </tr>\n",
       "  </tbody>\n",
       "</table>\n",
       "</div>"
      ],
      "text/plain": [
       "                                            filename    label     pred\n",
       "0  /Users/sofiafernandes/.cache/kagglehub/dataset...  disgust  disgust\n",
       "1  /Users/sofiafernandes/.cache/kagglehub/dataset...  disgust  disgust\n",
       "2  /Users/sofiafernandes/.cache/kagglehub/dataset...  disgust  disgust\n",
       "3  /Users/sofiafernandes/.cache/kagglehub/dataset...  disgust  disgust\n",
       "4  /Users/sofiafernandes/.cache/kagglehub/dataset...  disgust  boredom"
      ]
     },
     "execution_count": 3,
     "metadata": {},
     "output_type": "execute_result"
    }
   ],
   "source": [
    "import sys\n",
    "module_path = os.path.abspath(os.path.join('..', '..')) # or the path to your source code\n",
    "sys.path.insert(0, module_path)\n",
    "\n",
    "from src.recognizers import SpeechEmotionRecognizer\n",
    "import librosa\n",
    "from tqdm import tqdm\n",
    "tqdm.pandas()\n",
    "\n",
    "\n",
    "\n",
    "# Initialize the assistant\n",
    "ser = SpeechEmotionRecognizer()\n",
    "# Analyze the dataset\n",
    "preds = []\n",
    "for i in tqdm(range(len(tess_db))):\n",
    "    filename = tess_db['filename'].iloc[i]\n",
    "    audio, sr = librosa.load(filename, sr=16000)\n",
    "    pred = ser.analyze(audio, sr)\n",
    "    preds.append(pred['emotions'][0])\n",
    "tess_db['pred'] = preds\n",
    "tess_db.head()"
   ]
  },
  {
   "cell_type": "code",
   "execution_count": 5,
   "id": "31867b5a",
   "metadata": {},
   "outputs": [
    {
     "name": "stdout",
     "output_type": "stream",
     "text": [
      "              precision    recall  f1-score   support\n",
      "\n",
      "       angry       0.27      0.04      0.07       400\n",
      "     boredom       0.00      0.00      0.00         0\n",
      "     disgust       0.17      0.59      0.27       400\n",
      "        fear       0.00      0.00      0.00       400\n",
      "       happy       0.45      0.03      0.06       400\n",
      "     neutral       1.00      0.00      0.00       400\n",
      "         sad       0.00      0.00      0.00       400\n",
      "\n",
      "    accuracy                           0.11      2400\n",
      "   macro avg       0.27      0.09      0.06      2400\n",
      "weighted avg       0.31      0.11      0.07      2400\n",
      "\n"
     ]
    },
    {
     "data": {
      "image/png": "[encoded data removed]",
      "text/plain": [
       "<Figure size 1000x800 with 2 Axes>"
      ]
     },
     "metadata": {},
     "output_type": "display_data"
    }
   ],
   "source": [
    "from sklearn.metrics import classification_report, confusion_matrix\n",
    "import seaborn as sns\n",
    "import matplotlib.pyplot as plt\n",
    "\n",
    "# Fuse labels with similar meanings\n",
    "tess_db['pred'] = tess_db['pred'].replace({\n",
    "    'anger': 'angry',\n",
    "    'happiness': 'happy',\n",
    "    'sadness': 'sad',\n",
    "    'fearful' : 'fear'\n",
    "})\n",
    "\n",
    "tess_db = tess_db[tess_db['label'].isin(['disgust', 'sad', 'boredom', 'angry', 'fear', 'happy', 'neutral'])]\n",
    "\n",
    "# Generate a classification report\n",
    "report = classification_report(tess_db['label'], tess_db['pred'])\n",
    "\n",
    "print(report)\n",
    "# Generate a confusion matrix\n",
    "cm = confusion_matrix(tess_db['label'], tess_db['pred'])\n",
    "\n",
    "# Plot the confusion matrix\n",
    "plt.figure(figsize=(10, 8))\n",
    "sns.heatmap(cm, annot=True, fmt='d', cmap='Blues') #, xticklabels=emo_order, yticklabels=emo_order)\n",
    "plt.xlabel('Predicted')\n",
    "plt.ylabel('True')\n",
    "plt.title('Confusion Matrix')\n",
    "plt.show()"
   ]
  },
  {
   "cell_type": "code",
   "execution_count": 6,
   "id": "e0d46d91",
   "metadata": {},
   "outputs": [
    {
     "name": "stdout",
     "output_type": "stream",
     "text": [
      "['disgust' 'happy' 'sad' 'neutral' 'fear' 'angry']\n",
      "['disgust' 'boredom' 'sad' 'angry' 'happy' 'neutral']\n"
     ]
    }
   ],
   "source": [
    "\n",
    "print(tess_db[\"label\"].unique())\n",
    "print(tess_db['pred'].unique())"
   ]
  },
  {
   "cell_type": "markdown",
   "id": "598ccae2",
   "metadata": {},
   "source": [
    "# OpenSMILE"
   ]
  },
  {
   "cell_type": "code",
   "execution_count": 8,
   "id": "6d3241c7",
   "metadata": {},
   "outputs": [
    {
     "data": {
      "text/html": [
       "<div>\n",
       "<style scoped>\n",
       "    .dataframe tbody tr th:only-of-type {\n",
       "        vertical-align: middle;\n",
       "    }\n",
       "\n",
       "    .dataframe tbody tr th {\n",
       "        vertical-align: top;\n",
       "    }\n",
       "\n",
       "    .dataframe thead th {\n",
       "        text-align: right;\n",
       "    }\n",
       "</style>\n",
       "<table border=\"1\" class=\"dataframe\">\n",
       "  <thead>\n",
       "    <tr style=\"text-align: right;\">\n",
       "      <th></th>\n",
       "      <th></th>\n",
       "      <th></th>\n",
       "      <th>F0semitoneFrom27.5Hz_sma3nz_amean</th>\n",
       "      <th>F0semitoneFrom27.5Hz_sma3nz_stddevNorm</th>\n",
       "      <th>F0semitoneFrom27.5Hz_sma3nz_percentile20.0</th>\n",
       "      <th>F0semitoneFrom27.5Hz_sma3nz_percentile50.0</th>\n",
       "      <th>F0semitoneFrom27.5Hz_sma3nz_percentile80.0</th>\n",
       "      <th>F0semitoneFrom27.5Hz_sma3nz_pctlrange0-2</th>\n",
       "      <th>F0semitoneFrom27.5Hz_sma3nz_meanRisingSlope</th>\n",
       "      <th>F0semitoneFrom27.5Hz_sma3nz_stddevRisingSlope</th>\n",
       "      <th>F0semitoneFrom27.5Hz_sma3nz_meanFallingSlope</th>\n",
       "      <th>F0semitoneFrom27.5Hz_sma3nz_stddevFallingSlope</th>\n",
       "      <th>...</th>\n",
       "      <th>slopeUV0-500_sma3nz_amean</th>\n",
       "      <th>slopeUV500-1500_sma3nz_amean</th>\n",
       "      <th>spectralFluxUV_sma3nz_amean</th>\n",
       "      <th>loudnessPeaksPerSec</th>\n",
       "      <th>VoicedSegmentsPerSec</th>\n",
       "      <th>MeanVoicedSegmentLengthSec</th>\n",
       "      <th>StddevVoicedSegmentLengthSec</th>\n",
       "      <th>MeanUnvoicedSegmentLength</th>\n",
       "      <th>StddevUnvoicedSegmentLength</th>\n",
       "      <th>equivalentSoundLevel_dBp</th>\n",
       "    </tr>\n",
       "    <tr>\n",
       "      <th>file</th>\n",
       "      <th>start</th>\n",
       "      <th>end</th>\n",
       "      <th></th>\n",
       "      <th></th>\n",
       "      <th></th>\n",
       "      <th></th>\n",
       "      <th></th>\n",
       "      <th></th>\n",
       "      <th></th>\n",
       "      <th></th>\n",
       "      <th></th>\n",
       "      <th></th>\n",
       "      <th></th>\n",
       "      <th></th>\n",
       "      <th></th>\n",
       "      <th></th>\n",
       "      <th></th>\n",
       "      <th></th>\n",
       "      <th></th>\n",
       "      <th></th>\n",
       "      <th></th>\n",
       "      <th></th>\n",
       "      <th></th>\n",
       "    </tr>\n",
       "  </thead>\n",
       "  <tbody>\n",
       "    <tr>\n",
       "      <th>/Users/sofiafernandes/.cache/kagglehub/datasets/ejlok1/toronto-emotional-speech-set-tess/versions/1/TESS/YAF_disgust/YAF_date_disgust.wav</th>\n",
       "      <th>0 days</th>\n",
       "      <th>0 days 00:00:02.380765135</th>\n",
       "      <td>33.311512</td>\n",
       "      <td>0.167887</td>\n",
       "      <td>30.233387</td>\n",
       "      <td>33.582432</td>\n",
       "      <td>36.801254</td>\n",
       "      <td>6.567867</td>\n",
       "      <td>37.088375</td>\n",
       "      <td>23.873022</td>\n",
       "      <td>102.139885</td>\n",
       "      <td>78.412605</td>\n",
       "      <td>...</td>\n",
       "      <td>0.015293</td>\n",
       "      <td>-0.013067</td>\n",
       "      <td>0.034128</td>\n",
       "      <td>2.109705</td>\n",
       "      <td>1.724138</td>\n",
       "      <td>0.3225</td>\n",
       "      <td>0.367585</td>\n",
       "      <td>0.2325</td>\n",
       "      <td>0.107558</td>\n",
       "      <td>-33.633442</td>\n",
       "    </tr>\n",
       "    <tr>\n",
       "      <th>/Users/sofiafernandes/.cache/kagglehub/datasets/ejlok1/toronto-emotional-speech-set-tess/versions/1/TESS/YAF_disgust/YAF_rag_disgust.wav</th>\n",
       "      <th>0 days</th>\n",
       "      <th>0 days 00:00:02.321741624</th>\n",
       "      <td>33.541199</td>\n",
       "      <td>0.221251</td>\n",
       "      <td>30.607704</td>\n",
       "      <td>34.415165</td>\n",
       "      <td>38.339211</td>\n",
       "      <td>7.731506</td>\n",
       "      <td>301.817078</td>\n",
       "      <td>329.956909</td>\n",
       "      <td>47.030148</td>\n",
       "      <td>38.146214</td>\n",
       "      <td>...</td>\n",
       "      <td>0.024138</td>\n",
       "      <td>-0.019726</td>\n",
       "      <td>0.064816</td>\n",
       "      <td>2.597403</td>\n",
       "      <td>1.769912</td>\n",
       "      <td>0.3775</td>\n",
       "      <td>0.378641</td>\n",
       "      <td>0.1625</td>\n",
       "      <td>0.087571</td>\n",
       "      <td>-30.686287</td>\n",
       "    </tr>\n",
       "    <tr>\n",
       "      <th>/Users/sofiafernandes/.cache/kagglehub/datasets/ejlok1/toronto-emotional-speech-set-tess/versions/1/TESS/YAF_disgust/YAF_raise_disgust.wav</th>\n",
       "      <th>0 days</th>\n",
       "      <th>0 days 00:00:02.646063734</th>\n",
       "      <td>33.721695</td>\n",
       "      <td>0.219033</td>\n",
       "      <td>30.271343</td>\n",
       "      <td>33.172550</td>\n",
       "      <td>39.682961</td>\n",
       "      <td>9.411617</td>\n",
       "      <td>31.068426</td>\n",
       "      <td>20.980042</td>\n",
       "      <td>97.000076</td>\n",
       "      <td>61.183487</td>\n",
       "      <td>...</td>\n",
       "      <td>0.015026</td>\n",
       "      <td>-0.011972</td>\n",
       "      <td>0.027866</td>\n",
       "      <td>2.661597</td>\n",
       "      <td>1.550388</td>\n",
       "      <td>0.4050</td>\n",
       "      <td>0.424882</td>\n",
       "      <td>0.1740</td>\n",
       "      <td>0.142352</td>\n",
       "      <td>-30.999493</td>\n",
       "    </tr>\n",
       "    <tr>\n",
       "      <th>/Users/sofiafernandes/.cache/kagglehub/datasets/ejlok1/toronto-emotional-speech-set-tess/versions/1/TESS/YAF_disgust/YAF_ditch_disgust.wav</th>\n",
       "      <th>0 days</th>\n",
       "      <th>0 days 00:00:02.542434669</th>\n",
       "      <td>34.361111</td>\n",
       "      <td>0.204392</td>\n",
       "      <td>29.236042</td>\n",
       "      <td>34.488140</td>\n",
       "      <td>37.640064</td>\n",
       "      <td>8.404022</td>\n",
       "      <td>969.197632</td>\n",
       "      <td>1468.279053</td>\n",
       "      <td>60.660587</td>\n",
       "      <td>25.906439</td>\n",
       "      <td>...</td>\n",
       "      <td>-0.006464</td>\n",
       "      <td>-0.011046</td>\n",
       "      <td>0.050418</td>\n",
       "      <td>2.371542</td>\n",
       "      <td>2.016129</td>\n",
       "      <td>0.2680</td>\n",
       "      <td>0.374775</td>\n",
       "      <td>0.2040</td>\n",
       "      <td>0.136176</td>\n",
       "      <td>-33.801414</td>\n",
       "    </tr>\n",
       "    <tr>\n",
       "      <th>/Users/sofiafernandes/.cache/kagglehub/datasets/ejlok1/toronto-emotional-speech-set-tess/versions/1/TESS/YAF_disgust/YAF_door_disgust.wav</th>\n",
       "      <th>0 days</th>\n",
       "      <th>0 days 00:00:02.448758909</th>\n",
       "      <td>33.536655</td>\n",
       "      <td>0.219005</td>\n",
       "      <td>28.647896</td>\n",
       "      <td>33.393734</td>\n",
       "      <td>39.124413</td>\n",
       "      <td>10.476517</td>\n",
       "      <td>188.472672</td>\n",
       "      <td>132.225250</td>\n",
       "      <td>106.128799</td>\n",
       "      <td>78.476913</td>\n",
       "      <td>...</td>\n",
       "      <td>-0.016488</td>\n",
       "      <td>-0.003887</td>\n",
       "      <td>0.044019</td>\n",
       "      <td>1.639344</td>\n",
       "      <td>1.673640</td>\n",
       "      <td>0.3850</td>\n",
       "      <td>0.414578</td>\n",
       "      <td>0.1520</td>\n",
       "      <td>0.102645</td>\n",
       "      <td>-28.442787</td>\n",
       "    </tr>\n",
       "  </tbody>\n",
       "</table>\n",
       "<p>5 rows × 88 columns</p>\n",
       "</div>"
      ],
      "text/plain": [
       "                                                                                     F0semitoneFrom27.5Hz_sma3nz_amean  \\\n",
       "file                                               start  end                                                            \n",
       "/Users/sofiafernandes/.cache/kagglehub/datasets... 0 days 0 days 00:00:02.380765135                          33.311512   \n",
       "/Users/sofiafernandes/.cache/kagglehub/datasets... 0 days 0 days 00:00:02.321741624                          33.541199   \n",
       "/Users/sofiafernandes/.cache/kagglehub/datasets... 0 days 0 days 00:00:02.646063734                          33.721695   \n",
       "/Users/sofiafernandes/.cache/kagglehub/datasets... 0 days 0 days 00:00:02.542434669                          34.361111   \n",
       "/Users/sofiafernandes/.cache/kagglehub/datasets... 0 days 0 days 00:00:02.448758909                          33.536655   \n",
       "\n",
       "                                                                                     F0semitoneFrom27.5Hz_sma3nz_stddevNorm  \\\n",
       "file                                               start  end                                                                 \n",
       "/Users/sofiafernandes/.cache/kagglehub/datasets... 0 days 0 days 00:00:02.380765135                                0.167887   \n",
       "/Users/sofiafernandes/.cache/kagglehub/datasets... 0 days 0 days 00:00:02.321741624                                0.221251   \n",
       "/Users/sofiafernandes/.cache/kagglehub/datasets... 0 days 0 days 00:00:02.646063734                                0.219033   \n",
       "/Users/sofiafernandes/.cache/kagglehub/datasets... 0 days 0 days 00:00:02.542434669                                0.204392   \n",
       "/Users/sofiafernandes/.cache/kagglehub/datasets... 0 days 0 days 00:00:02.448758909                                0.219005   \n",
       "\n",
       "                                                                                     F0semitoneFrom27.5Hz_sma3nz_percentile20.0  \\\n",
       "file                                               start  end                                                                     \n",
       "/Users/sofiafernandes/.cache/kagglehub/datasets... 0 days 0 days 00:00:02.380765135                                   30.233387   \n",
       "/Users/sofiafernandes/.cache/kagglehub/datasets... 0 days 0 days 00:00:02.321741624                                   30.607704   \n",
       "/Users/sofiafernandes/.cache/kagglehub/datasets... 0 days 0 days 00:00:02.646063734                                   30.271343   \n",
       "/Users/sofiafernandes/.cache/kagglehub/datasets... 0 days 0 days 00:00:02.542434669                                   29.236042   \n",
       "/Users/sofiafernandes/.cache/kagglehub/datasets... 0 days 0 days 00:00:02.448758909                                   28.647896   \n",
       "\n",
       "                                                                                     F0semitoneFrom27.5Hz_sma3nz_percentile50.0  \\\n",
       "file                                               start  end                                                                     \n",
       "/Users/sofiafernandes/.cache/kagglehub/datasets... 0 days 0 days 00:00:02.380765135                                   33.582432   \n",
       "/Users/sofiafernandes/.cache/kagglehub/datasets... 0 days 0 days 00:00:02.321741624                                   34.415165   \n",
       "/Users/sofiafernandes/.cache/kagglehub/datasets... 0 days 0 days 00:00:02.646063734                                   33.172550   \n",
       "/Users/sofiafernandes/.cache/kagglehub/datasets... 0 days 0 days 00:00:02.542434669                                   34.488140   \n",
       "/Users/sofiafernandes/.cache/kagglehub/datasets... 0 days 0 days 00:00:02.448758909                                   33.393734   \n",
       "\n",
       "                                                                                     F0semitoneFrom27.5Hz_sma3nz_percentile80.0  \\\n",
       "file                                               start  end                                                                     \n",
       "/Users/sofiafernandes/.cache/kagglehub/datasets... 0 days 0 days 00:00:02.380765135                                   36.801254   \n",
       "/Users/sofiafernandes/.cache/kagglehub/datasets... 0 days 0 days 00:00:02.321741624                                   38.339211   \n",
       "/Users/sofiafernandes/.cache/kagglehub/datasets... 0 days 0 days 00:00:02.646063734                                   39.682961   \n",
       "/Users/sofiafernandes/.cache/kagglehub/datasets... 0 days 0 days 00:00:02.542434669                                   37.640064   \n",
       "/Users/sofiafernandes/.cache/kagglehub/datasets... 0 days 0 days 00:00:02.448758909                                   39.124413   \n",
       "\n",
       "                                                                                     F0semitoneFrom27.5Hz_sma3nz_pctlrange0-2  \\\n",
       "file                                               start  end                                                                   \n",
       "/Users/sofiafernandes/.cache/kagglehub/datasets... 0 days 0 days 00:00:02.380765135                                  6.567867   \n",
       "/Users/sofiafernandes/.cache/kagglehub/datasets... 0 days 0 days 00:00:02.321741624                                  7.731506   \n",
       "/Users/sofiafernandes/.cache/kagglehub/datasets... 0 days 0 days 00:00:02.646063734                                  9.411617   \n",
       "/Users/sofiafernandes/.cache/kagglehub/datasets... 0 days 0 days 00:00:02.542434669                                  8.404022   \n",
       "/Users/sofiafernandes/.cache/kagglehub/datasets... 0 days 0 days 00:00:02.448758909                                 10.476517   \n",
       "\n",
       "                                                                                     F0semitoneFrom27.5Hz_sma3nz_meanRisingSlope  \\\n",
       "file                                               start  end                                                                      \n",
       "/Users/sofiafernandes/.cache/kagglehub/datasets... 0 days 0 days 00:00:02.380765135                                    37.088375   \n",
       "/Users/sofiafernandes/.cache/kagglehub/datasets... 0 days 0 days 00:00:02.321741624                                   301.817078   \n",
       "/Users/sofiafernandes/.cache/kagglehub/datasets... 0 days 0 days 00:00:02.646063734                                    31.068426   \n",
       "/Users/sofiafernandes/.cache/kagglehub/datasets... 0 days 0 days 00:00:02.542434669                                   969.197632   \n",
       "/Users/sofiafernandes/.cache/kagglehub/datasets... 0 days 0 days 00:00:02.448758909                                   188.472672   \n",
       "\n",
       "                                                                                     F0semitoneFrom27.5Hz_sma3nz_stddevRisingSlope  \\\n",
       "file                                               start  end                                                                        \n",
       "/Users/sofiafernandes/.cache/kagglehub/datasets... 0 days 0 days 00:00:02.380765135                                      23.873022   \n",
       "/Users/sofiafernandes/.cache/kagglehub/datasets... 0 days 0 days 00:00:02.321741624                                     329.956909   \n",
       "/Users/sofiafernandes/.cache/kagglehub/datasets... 0 days 0 days 00:00:02.646063734                                      20.980042   \n",
       "/Users/sofiafernandes/.cache/kagglehub/datasets... 0 days 0 days 00:00:02.542434669                                    1468.279053   \n",
       "/Users/sofiafernandes/.cache/kagglehub/datasets... 0 days 0 days 00:00:02.448758909                                     132.225250   \n",
       "\n",
       "                                                                                     F0semitoneFrom27.5Hz_sma3nz_meanFallingSlope  \\\n",
       "file                                               start  end                                                                       \n",
       "/Users/sofiafernandes/.cache/kagglehub/datasets... 0 days 0 days 00:00:02.380765135                                    102.139885   \n",
       "/Users/sofiafernandes/.cache/kagglehub/datasets... 0 days 0 days 00:00:02.321741624                                     47.030148   \n",
       "/Users/sofiafernandes/.cache/kagglehub/datasets... 0 days 0 days 00:00:02.646063734                                     97.000076   \n",
       "/Users/sofiafernandes/.cache/kagglehub/datasets... 0 days 0 days 00:00:02.542434669                                     60.660587   \n",
       "/Users/sofiafernandes/.cache/kagglehub/datasets... 0 days 0 days 00:00:02.448758909                                    106.128799   \n",
       "\n",
       "                                                                                     F0semitoneFrom27.5Hz_sma3nz_stddevFallingSlope  \\\n",
       "file                                               start  end                                                                         \n",
       "/Users/sofiafernandes/.cache/kagglehub/datasets... 0 days 0 days 00:00:02.380765135                                       78.412605   \n",
       "/Users/sofiafernandes/.cache/kagglehub/datasets... 0 days 0 days 00:00:02.321741624                                       38.146214   \n",
       "/Users/sofiafernandes/.cache/kagglehub/datasets... 0 days 0 days 00:00:02.646063734                                       61.183487   \n",
       "/Users/sofiafernandes/.cache/kagglehub/datasets... 0 days 0 days 00:00:02.542434669                                       25.906439   \n",
       "/Users/sofiafernandes/.cache/kagglehub/datasets... 0 days 0 days 00:00:02.448758909                                       78.476913   \n",
       "\n",
       "                                                                                     ...  \\\n",
       "file                                               start  end                        ...   \n",
       "/Users/sofiafernandes/.cache/kagglehub/datasets... 0 days 0 days 00:00:02.380765135  ...   \n",
       "/Users/sofiafernandes/.cache/kagglehub/datasets... 0 days 0 days 00:00:02.321741624  ...   \n",
       "/Users/sofiafernandes/.cache/kagglehub/datasets... 0 days 0 days 00:00:02.646063734  ...   \n",
       "/Users/sofiafernandes/.cache/kagglehub/datasets... 0 days 0 days 00:00:02.542434669  ...   \n",
       "/Users/sofiafernandes/.cache/kagglehub/datasets... 0 days 0 days 00:00:02.448758909  ...   \n",
       "\n",
       "                                                                                     slopeUV0-500_sma3nz_amean  \\\n",
       "file                                               start  end                                                    \n",
       "/Users/sofiafernandes/.cache/kagglehub/datasets... 0 days 0 days 00:00:02.380765135                   0.015293   \n",
       "/Users/sofiafernandes/.cache/kagglehub/datasets... 0 days 0 days 00:00:02.321741624                   0.024138   \n",
       "/Users/sofiafernandes/.cache/kagglehub/datasets... 0 days 0 days 00:00:02.646063734                   0.015026   \n",
       "/Users/sofiafernandes/.cache/kagglehub/datasets... 0 days 0 days 00:00:02.542434669                  -0.006464   \n",
       "/Users/sofiafernandes/.cache/kagglehub/datasets... 0 days 0 days 00:00:02.448758909                  -0.016488   \n",
       "\n",
       "                                                                                     slopeUV500-1500_sma3nz_amean  \\\n",
       "file                                               start  end                                                       \n",
       "/Users/sofiafernandes/.cache/kagglehub/datasets... 0 days 0 days 00:00:02.380765135                     -0.013067   \n",
       "/Users/sofiafernandes/.cache/kagglehub/datasets... 0 days 0 days 00:00:02.321741624                     -0.019726   \n",
       "/Users/sofiafernandes/.cache/kagglehub/datasets... 0 days 0 days 00:00:02.646063734                     -0.011972   \n",
       "/Users/sofiafernandes/.cache/kagglehub/datasets... 0 days 0 days 00:00:02.542434669                     -0.011046   \n",
       "/Users/sofiafernandes/.cache/kagglehub/datasets... 0 days 0 days 00:00:02.448758909                     -0.003887   \n",
       "\n",
       "                                                                                     spectralFluxUV_sma3nz_amean  \\\n",
       "file                                               start  end                                                      \n",
       "/Users/sofiafernandes/.cache/kagglehub/datasets... 0 days 0 days 00:00:02.380765135                     0.034128   \n",
       "/Users/sofiafernandes/.cache/kagglehub/datasets... 0 days 0 days 00:00:02.321741624                     0.064816   \n",
       "/Users/sofiafernandes/.cache/kagglehub/datasets... 0 days 0 days 00:00:02.646063734                     0.027866   \n",
       "/Users/sofiafernandes/.cache/kagglehub/datasets... 0 days 0 days 00:00:02.542434669                     0.050418   \n",
       "/Users/sofiafernandes/.cache/kagglehub/datasets... 0 days 0 days 00:00:02.448758909                     0.044019   \n",
       "\n",
       "                                                                                     loudnessPeaksPerSec  \\\n",
       "file                                               start  end                                              \n",
       "/Users/sofiafernandes/.cache/kagglehub/datasets... 0 days 0 days 00:00:02.380765135             2.109705   \n",
       "/Users/sofiafernandes/.cache/kagglehub/datasets... 0 days 0 days 00:00:02.321741624             2.597403   \n",
       "/Users/sofiafernandes/.cache/kagglehub/datasets... 0 days 0 days 00:00:02.646063734             2.661597   \n",
       "/Users/sofiafernandes/.cache/kagglehub/datasets... 0 days 0 days 00:00:02.542434669             2.371542   \n",
       "/Users/sofiafernandes/.cache/kagglehub/datasets... 0 days 0 days 00:00:02.448758909             1.639344   \n",
       "\n",
       "                                                                                     VoicedSegmentsPerSec  \\\n",
       "file                                               start  end                                               \n",
       "/Users/sofiafernandes/.cache/kagglehub/datasets... 0 days 0 days 00:00:02.380765135              1.724138   \n",
       "/Users/sofiafernandes/.cache/kagglehub/datasets... 0 days 0 days 00:00:02.321741624              1.769912   \n",
       "/Users/sofiafernandes/.cache/kagglehub/datasets... 0 days 0 days 00:00:02.646063734              1.550388   \n",
       "/Users/sofiafernandes/.cache/kagglehub/datasets... 0 days 0 days 00:00:02.542434669              2.016129   \n",
       "/Users/sofiafernandes/.cache/kagglehub/datasets... 0 days 0 days 00:00:02.448758909              1.673640   \n",
       "\n",
       "                                                                                     MeanVoicedSegmentLengthSec  \\\n",
       "file                                               start  end                                                     \n",
       "/Users/sofiafernandes/.cache/kagglehub/datasets... 0 days 0 days 00:00:02.380765135                      0.3225   \n",
       "/Users/sofiafernandes/.cache/kagglehub/datasets... 0 days 0 days 00:00:02.321741624                      0.3775   \n",
       "/Users/sofiafernandes/.cache/kagglehub/datasets... 0 days 0 days 00:00:02.646063734                      0.4050   \n",
       "/Users/sofiafernandes/.cache/kagglehub/datasets... 0 days 0 days 00:00:02.542434669                      0.2680   \n",
       "/Users/sofiafernandes/.cache/kagglehub/datasets... 0 days 0 days 00:00:02.448758909                      0.3850   \n",
       "\n",
       "                                                                                     StddevVoicedSegmentLengthSec  \\\n",
       "file                                               start  end                                                       \n",
       "/Users/sofiafernandes/.cache/kagglehub/datasets... 0 days 0 days 00:00:02.380765135                      0.367585   \n",
       "/Users/sofiafernandes/.cache/kagglehub/datasets... 0 days 0 days 00:00:02.321741624                      0.378641   \n",
       "/Users/sofiafernandes/.cache/kagglehub/datasets... 0 days 0 days 00:00:02.646063734                      0.424882   \n",
       "/Users/sofiafernandes/.cache/kagglehub/datasets... 0 days 0 days 00:00:02.542434669                      0.374775   \n",
       "/Users/sofiafernandes/.cache/kagglehub/datasets... 0 days 0 days 00:00:02.448758909                      0.414578   \n",
       "\n",
       "                                                                                     MeanUnvoicedSegmentLength  \\\n",
       "file                                               start  end                                                    \n",
       "/Users/sofiafernandes/.cache/kagglehub/datasets... 0 days 0 days 00:00:02.380765135                     0.2325   \n",
       "/Users/sofiafernandes/.cache/kagglehub/datasets... 0 days 0 days 00:00:02.321741624                     0.1625   \n",
       "/Users/sofiafernandes/.cache/kagglehub/datasets... 0 days 0 days 00:00:02.646063734                     0.1740   \n",
       "/Users/sofiafernandes/.cache/kagglehub/datasets... 0 days 0 days 00:00:02.542434669                     0.2040   \n",
       "/Users/sofiafernandes/.cache/kagglehub/datasets... 0 days 0 days 00:00:02.448758909                     0.1520   \n",
       "\n",
       "                                                                                     StddevUnvoicedSegmentLength  \\\n",
       "file                                               start  end                                                      \n",
       "/Users/sofiafernandes/.cache/kagglehub/datasets... 0 days 0 days 00:00:02.380765135                     0.107558   \n",
       "/Users/sofiafernandes/.cache/kagglehub/datasets... 0 days 0 days 00:00:02.321741624                     0.087571   \n",
       "/Users/sofiafernandes/.cache/kagglehub/datasets... 0 days 0 days 00:00:02.646063734                     0.142352   \n",
       "/Users/sofiafernandes/.cache/kagglehub/datasets... 0 days 0 days 00:00:02.542434669                     0.136176   \n",
       "/Users/sofiafernandes/.cache/kagglehub/datasets... 0 days 0 days 00:00:02.448758909                     0.102645   \n",
       "\n",
       "                                                                                     equivalentSoundLevel_dBp  \n",
       "file                                               start  end                                                  \n",
       "/Users/sofiafernandes/.cache/kagglehub/datasets... 0 days 0 days 00:00:02.380765135                -33.633442  \n",
       "/Users/sofiafernandes/.cache/kagglehub/datasets... 0 days 0 days 00:00:02.321741624                -30.686287  \n",
       "/Users/sofiafernandes/.cache/kagglehub/datasets... 0 days 0 days 00:00:02.646063734                -30.999493  \n",
       "/Users/sofiafernandes/.cache/kagglehub/datasets... 0 days 0 days 00:00:02.542434669                -33.801414  \n",
       "/Users/sofiafernandes/.cache/kagglehub/datasets... 0 days 0 days 00:00:02.448758909                -28.442787  \n",
       "\n",
       "[5 rows x 88 columns]"
      ]
     },
     "execution_count": 8,
     "metadata": {},
     "output_type": "execute_result"
    }
   ],
   "source": [
    "# https://audeering.github.io/opensmile-python/\n",
    "#!pip install opensmile\n",
    "\n",
    "import opensmile\n",
    "\n",
    "# Load data and extract features\n",
    "smile = opensmile.Smile(\n",
    "    #feature_set=opensmile.FeatureSet.GeMAPSv01b,\n",
    "    feature_set=opensmile.FeatureSet.eGeMAPSv02,\n",
    "    feature_level=opensmile.FeatureLevel.Functionals,\n",
    ")\n",
    "\n",
    "feats_df = smile.process_files(tess_db[\"filename\"])\n",
    "\n",
    "feats_df.head()"
   ]
  },
  {
   "cell_type": "code",
   "execution_count": null,
   "id": "05882925",
   "metadata": {},
   "outputs": [],
   "source": [
    "#feats_df.to_csv('TESS_GeMAPS_features.csv', index=False)"
   ]
  },
  {
   "cell_type": "code",
   "execution_count": 9,
   "id": "efc7e0a2",
   "metadata": {},
   "outputs": [
    {
     "name": "stdout",
     "output_type": "stream",
     "text": [
      "(1920, 88) (480, 88)\n"
     ]
    }
   ],
   "source": [
    "#!pip install sklearn\n",
    "from sklearn.model_selection import train_test_split\n",
    "\n",
    "# Split data\n",
    "X = feats_df.values\n",
    "y = tess_db.label\n",
    "X_train, X_test, y_train, y_test = train_test_split(X, y, test_size=0.2, random_state=42)\n",
    "\n",
    "print(X_train.shape, X_test.shape)"
   ]
  },
  {
   "cell_type": "code",
   "execution_count": 12,
   "id": "787d1a6d",
   "metadata": {},
   "outputs": [
    {
     "name": "stdout",
     "output_type": "stream",
     "text": [
      "Performance SVM without feature scaling\n",
      "               precision    recall  f1-score   support\n",
      "\n",
      "       angry       0.97      1.00      0.98        87\n",
      "     disgust       0.99      0.99      0.99        74\n",
      "        fear       1.00      0.99      0.99        68\n",
      "       happy       1.00      0.96      0.98        85\n",
      "     neutral       1.00      0.99      0.99        85\n",
      "         sad       0.96      0.99      0.98        81\n",
      "\n",
      "    accuracy                           0.99       480\n",
      "   macro avg       0.99      0.99      0.99       480\n",
      "weighted avg       0.99      0.99      0.99       480\n",
      "\n",
      "Performance SVM with feature scaling\n",
      "               precision    recall  f1-score   support\n",
      "\n",
      "       angry       0.99      1.00      0.99        87\n",
      "     disgust       0.99      1.00      0.99        74\n",
      "        fear       1.00      0.99      0.99        68\n",
      "       happy       1.00      1.00      1.00        85\n",
      "     neutral       1.00      1.00      1.00        85\n",
      "         sad       1.00      0.99      0.99        81\n",
      "\n",
      "    accuracy                           1.00       480\n",
      "   macro avg       1.00      1.00      1.00       480\n",
      "weighted avg       1.00      1.00      1.00       480\n",
      "\n"
     ]
    }
   ],
   "source": [
    "from sklearn.preprocessing import StandardScaler\n",
    "from sklearn import svm\n",
    "from sklearn.metrics import classification_report, confusion_matrix, accuracy_score\n",
    "\n",
    "## Simple SVM(1) classifier without feature scaling (1)\n",
    "clf11 = svm.SVC(kernel='linear')\n",
    "clf11.fit(X_train, y_train)\n",
    "pred11 = clf11.predict(X_test)\n",
    "print(\"Performance SVM without feature scaling\\n\", classification_report(y_test, pred11))\n",
    "\n",
    "## Simple SVM(1) classifier with feature scaling (2)\n",
    "# Standardize features by removing the mean and scaling to unit variance\n",
    "scaler = StandardScaler()\n",
    "X_train_scaled = scaler.fit_transform(X_train)\n",
    "X_test_scaled = scaler.transform(X_test)\n",
    "# Train the model\n",
    "clf12 = svm.SVC(kernel='linear')\n",
    "clf12.fit(X_train_scaled, y_train)\n",
    "pred12 = clf12.predict(X_test_scaled)\n",
    "print(\"Performance SVM with feature scaling\\n\", classification_report(y_test, pred12))"
   ]
  },
  {
   "cell_type": "code",
   "execution_count": 14,
   "id": "be1d873e",
   "metadata": {},
   "outputs": [
    {
     "name": "stdout",
     "output_type": "stream",
     "text": [
      "Performance SVM with feature scaling\n",
      "               precision    recall  f1-score   support\n",
      "\n",
      "       angry       1.00      1.00      1.00        87\n",
      "     disgust       1.00      0.99      0.99        74\n",
      "        fear       1.00      1.00      1.00        68\n",
      "       happy       1.00      1.00      1.00        85\n",
      "     neutral       1.00      1.00      1.00        85\n",
      "         sad       0.99      1.00      0.99        81\n",
      "\n",
      "    accuracy                           1.00       480\n",
      "   macro avg       1.00      1.00      1.00       480\n",
      "weighted avg       1.00      1.00      1.00       480\n",
      "\n"
     ]
    }
   ],
   "source": [
    "from sklearn.ensemble import RandomForestClassifier\n",
    "clf12 = RandomForestClassifier()\n",
    "clf12.fit(X_train_scaled, y_train)\n",
    "pred12 = clf12.predict(X_test_scaled)\n",
    "print(\"Performance SVM with feature scaling\\n\", classification_report(y_test, pred12))"
   ]
  },
  {
   "cell_type": "code",
   "execution_count": 15,
   "id": "b225ca69",
   "metadata": {},
   "outputs": [
    {
     "name": "stdout",
     "output_type": "stream",
     "text": [
      "Warning: Looks like you're using an outdated `kagglehub` version, please consider updating (latest version: 0.3.12)\n",
      "Path to dataset files: /Users/sofiafernandes/.cache/kagglehub/datasets/uwrfkaggler/ravdess-emotional-speech-audio/versions/1\n",
      "['Actor_16', 'Actor_11', 'Actor_18', 'Actor_20', 'Actor_21', 'Actor_19', 'Actor_10', 'Actor_17', 'Actor_04', 'Actor_03', 'Actor_02', 'Actor_05', 'audio_speech_actors_01-24', 'Actor_12', 'Actor_15', 'Actor_23', 'Actor_24', 'Actor_22', 'Actor_14', 'Actor_13', 'Actor_09', 'Actor_07', 'Actor_06', 'Actor_01', 'Actor_08']\n"
     ]
    },
    {
     "data": {
      "text/html": [
       "<div>\n",
       "<style scoped>\n",
       "    .dataframe tbody tr th:only-of-type {\n",
       "        vertical-align: middle;\n",
       "    }\n",
       "\n",
       "    .dataframe tbody tr th {\n",
       "        vertical-align: top;\n",
       "    }\n",
       "\n",
       "    .dataframe thead th {\n",
       "        text-align: right;\n",
       "    }\n",
       "</style>\n",
       "<table border=\"1\" class=\"dataframe\">\n",
       "  <thead>\n",
       "    <tr style=\"text-align: right;\">\n",
       "      <th></th>\n",
       "      <th>filename</th>\n",
       "      <th>label</th>\n",
       "    </tr>\n",
       "  </thead>\n",
       "  <tbody>\n",
       "    <tr>\n",
       "      <th>0</th>\n",
       "      <td>/Users/sofiafernandes/.cache/kagglehub/dataset...</td>\n",
       "      <td>angry</td>\n",
       "    </tr>\n",
       "    <tr>\n",
       "      <th>1</th>\n",
       "      <td>/Users/sofiafernandes/.cache/kagglehub/dataset...</td>\n",
       "      <td>fear</td>\n",
       "    </tr>\n",
       "    <tr>\n",
       "      <th>2</th>\n",
       "      <td>/Users/sofiafernandes/.cache/kagglehub/dataset...</td>\n",
       "      <td>fear</td>\n",
       "    </tr>\n",
       "    <tr>\n",
       "      <th>3</th>\n",
       "      <td>/Users/sofiafernandes/.cache/kagglehub/dataset...</td>\n",
       "      <td>angry</td>\n",
       "    </tr>\n",
       "    <tr>\n",
       "      <th>4</th>\n",
       "      <td>/Users/sofiafernandes/.cache/kagglehub/dataset...</td>\n",
       "      <td>disgust</td>\n",
       "    </tr>\n",
       "  </tbody>\n",
       "</table>\n",
       "</div>"
      ],
      "text/plain": [
       "                                            filename    label\n",
       "0  /Users/sofiafernandes/.cache/kagglehub/dataset...    angry\n",
       "1  /Users/sofiafernandes/.cache/kagglehub/dataset...     fear\n",
       "2  /Users/sofiafernandes/.cache/kagglehub/dataset...     fear\n",
       "3  /Users/sofiafernandes/.cache/kagglehub/dataset...    angry\n",
       "4  /Users/sofiafernandes/.cache/kagglehub/dataset...  disgust"
      ]
     },
     "execution_count": 15,
     "metadata": {},
     "output_type": "execute_result"
    }
   ],
   "source": [
    "import glob\n",
    "\n",
    "# Download dataset from Kaggle\n",
    "path = kagglehub.dataset_download(\"uwrfkaggler/ravdess-emotional-speech-audio\")\n",
    "print(\"Path to dataset files:\", path)\n",
    "# List all files in the dataset\n",
    "print(os.listdir(path))\n",
    "\n",
    "# Define the dataset directory\n",
    "ravdess_path = path + \"/audio_speech_actors_01-24/**/*.wav\"\n",
    "\n",
    "# Codebook that maps RAVDESS filename encoding to emotions\n",
    "emotion_map = {\n",
    "    '01': 'neutral',\n",
    "    '02': 'calm',\n",
    "    '03': 'happy',\n",
    "    '04': 'sad',\n",
    "    '05': 'angry',\n",
    "    '06': 'fear', #'fearful',\n",
    "    '07': 'disgust',\n",
    "    '08': 'surprise', #'surprised'\n",
    "}\n",
    "\n",
    "# Extract emotion labels from filenames\n",
    "filenames = glob.glob(ravdess_path, recursive=True)\n",
    "emotions = [emotion_map[os.path.basename(f).split('-')[2]] for f in filenames if os.path.basename(f).split('-')[2] in emotion_map]\n",
    "\n",
    "rav_db = pd.DataFrame({\n",
    "    'filename': filenames,\n",
    "    'label': emotions\n",
    "})\n",
    "\n",
    "rav_db.head()"
   ]
  },
  {
   "cell_type": "code",
   "execution_count": 24,
   "id": "7b3a8528",
   "metadata": {},
   "outputs": [
    {
     "data": {
      "text/html": [
       "<div>\n",
       "<style scoped>\n",
       "    .dataframe tbody tr th:only-of-type {\n",
       "        vertical-align: middle;\n",
       "    }\n",
       "\n",
       "    .dataframe tbody tr th {\n",
       "        vertical-align: top;\n",
       "    }\n",
       "\n",
       "    .dataframe thead th {\n",
       "        text-align: right;\n",
       "    }\n",
       "</style>\n",
       "<table border=\"1\" class=\"dataframe\">\n",
       "  <thead>\n",
       "    <tr style=\"text-align: right;\">\n",
       "      <th></th>\n",
       "      <th></th>\n",
       "      <th></th>\n",
       "      <th>F0semitoneFrom27.5Hz_sma3nz_amean</th>\n",
       "      <th>F0semitoneFrom27.5Hz_sma3nz_stddevNorm</th>\n",
       "      <th>F0semitoneFrom27.5Hz_sma3nz_percentile20.0</th>\n",
       "      <th>F0semitoneFrom27.5Hz_sma3nz_percentile50.0</th>\n",
       "      <th>F0semitoneFrom27.5Hz_sma3nz_percentile80.0</th>\n",
       "      <th>F0semitoneFrom27.5Hz_sma3nz_pctlrange0-2</th>\n",
       "      <th>F0semitoneFrom27.5Hz_sma3nz_meanRisingSlope</th>\n",
       "      <th>F0semitoneFrom27.5Hz_sma3nz_stddevRisingSlope</th>\n",
       "      <th>F0semitoneFrom27.5Hz_sma3nz_meanFallingSlope</th>\n",
       "      <th>F0semitoneFrom27.5Hz_sma3nz_stddevFallingSlope</th>\n",
       "      <th>...</th>\n",
       "      <th>slopeUV0-500_sma3nz_amean</th>\n",
       "      <th>slopeUV500-1500_sma3nz_amean</th>\n",
       "      <th>spectralFluxUV_sma3nz_amean</th>\n",
       "      <th>loudnessPeaksPerSec</th>\n",
       "      <th>VoicedSegmentsPerSec</th>\n",
       "      <th>MeanVoicedSegmentLengthSec</th>\n",
       "      <th>StddevVoicedSegmentLengthSec</th>\n",
       "      <th>MeanUnvoicedSegmentLength</th>\n",
       "      <th>StddevUnvoicedSegmentLength</th>\n",
       "      <th>equivalentSoundLevel_dBp</th>\n",
       "    </tr>\n",
       "    <tr>\n",
       "      <th>file</th>\n",
       "      <th>start</th>\n",
       "      <th>end</th>\n",
       "      <th></th>\n",
       "      <th></th>\n",
       "      <th></th>\n",
       "      <th></th>\n",
       "      <th></th>\n",
       "      <th></th>\n",
       "      <th></th>\n",
       "      <th></th>\n",
       "      <th></th>\n",
       "      <th></th>\n",
       "      <th></th>\n",
       "      <th></th>\n",
       "      <th></th>\n",
       "      <th></th>\n",
       "      <th></th>\n",
       "      <th></th>\n",
       "      <th></th>\n",
       "      <th></th>\n",
       "      <th></th>\n",
       "      <th></th>\n",
       "      <th></th>\n",
       "    </tr>\n",
       "  </thead>\n",
       "  <tbody>\n",
       "    <tr>\n",
       "      <th>/Users/sofiafernandes/.cache/kagglehub/datasets/uwrfkaggler/ravdess-emotional-speech-audio/versions/1/audio_speech_actors_01-24/Actor_16/03-01-05-01-02-01-16.wav</th>\n",
       "      <th>0 days</th>\n",
       "      <th>0 days 00:00:03.903895833</th>\n",
       "      <td>36.663185</td>\n",
       "      <td>0.092193</td>\n",
       "      <td>33.923561</td>\n",
       "      <td>36.607681</td>\n",
       "      <td>39.911366</td>\n",
       "      <td>5.987804</td>\n",
       "      <td>234.625992</td>\n",
       "      <td>278.505188</td>\n",
       "      <td>229.474777</td>\n",
       "      <td>402.364685</td>\n",
       "      <td>...</td>\n",
       "      <td>0.088287</td>\n",
       "      <td>0.012799</td>\n",
       "      <td>0.024085</td>\n",
       "      <td>1.799486</td>\n",
       "      <td>1.822917</td>\n",
       "      <td>0.204286</td>\n",
       "      <td>0.120458</td>\n",
       "      <td>0.321429</td>\n",
       "      <td>0.410833</td>\n",
       "      <td>-33.784313</td>\n",
       "    </tr>\n",
       "    <tr>\n",
       "      <th>/Users/sofiafernandes/.cache/kagglehub/datasets/uwrfkaggler/ravdess-emotional-speech-audio/versions/1/audio_speech_actors_01-24/Actor_16/03-01-06-01-02-02-16.wav</th>\n",
       "      <th>0 days</th>\n",
       "      <th>0 days 00:00:03.570229167</th>\n",
       "      <td>38.592869</td>\n",
       "      <td>0.083782</td>\n",
       "      <td>35.799889</td>\n",
       "      <td>39.018208</td>\n",
       "      <td>41.324265</td>\n",
       "      <td>5.524376</td>\n",
       "      <td>41.661167</td>\n",
       "      <td>45.850269</td>\n",
       "      <td>45.512527</td>\n",
       "      <td>26.246408</td>\n",
       "      <td>...</td>\n",
       "      <td>0.111506</td>\n",
       "      <td>0.012556</td>\n",
       "      <td>0.017401</td>\n",
       "      <td>2.808989</td>\n",
       "      <td>1.139601</td>\n",
       "      <td>0.312500</td>\n",
       "      <td>0.162692</td>\n",
       "      <td>0.540000</td>\n",
       "      <td>0.446822</td>\n",
       "      <td>-36.295971</td>\n",
       "    </tr>\n",
       "    <tr>\n",
       "      <th>/Users/sofiafernandes/.cache/kagglehub/datasets/uwrfkaggler/ravdess-emotional-speech-audio/versions/1/audio_speech_actors_01-24/Actor_16/03-01-06-02-01-02-16.wav</th>\n",
       "      <th>0 days</th>\n",
       "      <th>0 days 00:00:03.737062500</th>\n",
       "      <td>47.691246</td>\n",
       "      <td>0.117621</td>\n",
       "      <td>45.381668</td>\n",
       "      <td>46.748459</td>\n",
       "      <td>50.922649</td>\n",
       "      <td>5.540981</td>\n",
       "      <td>173.288620</td>\n",
       "      <td>104.474289</td>\n",
       "      <td>30.014435</td>\n",
       "      <td>10.889656</td>\n",
       "      <td>...</td>\n",
       "      <td>0.062252</td>\n",
       "      <td>0.000030</td>\n",
       "      <td>0.070835</td>\n",
       "      <td>2.419355</td>\n",
       "      <td>1.634877</td>\n",
       "      <td>0.245000</td>\n",
       "      <td>0.206377</td>\n",
       "      <td>0.410000</td>\n",
       "      <td>0.385071</td>\n",
       "      <td>-22.345514</td>\n",
       "    </tr>\n",
       "    <tr>\n",
       "      <th>/Users/sofiafernandes/.cache/kagglehub/datasets/uwrfkaggler/ravdess-emotional-speech-audio/versions/1/audio_speech_actors_01-24/Actor_16/03-01-05-02-01-01-16.wav</th>\n",
       "      <th>0 days</th>\n",
       "      <th>0 days 00:00:03.970645833</th>\n",
       "      <td>39.567497</td>\n",
       "      <td>0.156933</td>\n",
       "      <td>35.898926</td>\n",
       "      <td>40.488960</td>\n",
       "      <td>43.685249</td>\n",
       "      <td>7.786324</td>\n",
       "      <td>168.711563</td>\n",
       "      <td>148.852676</td>\n",
       "      <td>128.481461</td>\n",
       "      <td>119.730644</td>\n",
       "      <td>...</td>\n",
       "      <td>0.074365</td>\n",
       "      <td>0.008484</td>\n",
       "      <td>0.037622</td>\n",
       "      <td>2.525253</td>\n",
       "      <td>1.534527</td>\n",
       "      <td>0.270000</td>\n",
       "      <td>0.163197</td>\n",
       "      <td>0.358333</td>\n",
       "      <td>0.450830</td>\n",
       "      <td>-26.800886</td>\n",
       "    </tr>\n",
       "    <tr>\n",
       "      <th>/Users/sofiafernandes/.cache/kagglehub/datasets/uwrfkaggler/ravdess-emotional-speech-audio/versions/1/audio_speech_actors_01-24/Actor_16/03-01-07-01-01-01-16.wav</th>\n",
       "      <th>0 days</th>\n",
       "      <th>0 days 00:00:03.770437500</th>\n",
       "      <td>35.005974</td>\n",
       "      <td>0.106174</td>\n",
       "      <td>31.523083</td>\n",
       "      <td>34.555748</td>\n",
       "      <td>38.189644</td>\n",
       "      <td>6.666561</td>\n",
       "      <td>99.787117</td>\n",
       "      <td>77.171021</td>\n",
       "      <td>34.780659</td>\n",
       "      <td>24.179268</td>\n",
       "      <td>...</td>\n",
       "      <td>0.094444</td>\n",
       "      <td>0.012590</td>\n",
       "      <td>0.030078</td>\n",
       "      <td>2.659575</td>\n",
       "      <td>1.347709</td>\n",
       "      <td>0.238000</td>\n",
       "      <td>0.165094</td>\n",
       "      <td>0.480000</td>\n",
       "      <td>0.446318</td>\n",
       "      <td>-42.832409</td>\n",
       "    </tr>\n",
       "  </tbody>\n",
       "</table>\n",
       "<p>5 rows × 88 columns</p>\n",
       "</div>"
      ],
      "text/plain": [
       "                                                                                     F0semitoneFrom27.5Hz_sma3nz_amean  \\\n",
       "file                                               start  end                                                            \n",
       "/Users/sofiafernandes/.cache/kagglehub/datasets... 0 days 0 days 00:00:03.903895833                          36.663185   \n",
       "/Users/sofiafernandes/.cache/kagglehub/datasets... 0 days 0 days 00:00:03.570229167                          38.592869   \n",
       "/Users/sofiafernandes/.cache/kagglehub/datasets... 0 days 0 days 00:00:03.737062500                          47.691246   \n",
       "/Users/sofiafernandes/.cache/kagglehub/datasets... 0 days 0 days 00:00:03.970645833                          39.567497   \n",
       "/Users/sofiafernandes/.cache/kagglehub/datasets... 0 days 0 days 00:00:03.770437500                          35.005974   \n",
       "\n",
       "                                                                                     F0semitoneFrom27.5Hz_sma3nz_stddevNorm  \\\n",
       "file                                               start  end                                                                 \n",
       "/Users/sofiafernandes/.cache/kagglehub/datasets... 0 days 0 days 00:00:03.903895833                                0.092193   \n",
       "/Users/sofiafernandes/.cache/kagglehub/datasets... 0 days 0 days 00:00:03.570229167                                0.083782   \n",
       "/Users/sofiafernandes/.cache/kagglehub/datasets... 0 days 0 days 00:00:03.737062500                                0.117621   \n",
       "/Users/sofiafernandes/.cache/kagglehub/datasets... 0 days 0 days 00:00:03.970645833                                0.156933   \n",
       "/Users/sofiafernandes/.cache/kagglehub/datasets... 0 days 0 days 00:00:03.770437500                                0.106174   \n",
       "\n",
       "                                                                                     F0semitoneFrom27.5Hz_sma3nz_percentile20.0  \\\n",
       "file                                               start  end                                                                     \n",
       "/Users/sofiafernandes/.cache/kagglehub/datasets... 0 days 0 days 00:00:03.903895833                                   33.923561   \n",
       "/Users/sofiafernandes/.cache/kagglehub/datasets... 0 days 0 days 00:00:03.570229167                                   35.799889   \n",
       "/Users/sofiafernandes/.cache/kagglehub/datasets... 0 days 0 days 00:00:03.737062500                                   45.381668   \n",
       "/Users/sofiafernandes/.cache/kagglehub/datasets... 0 days 0 days 00:00:03.970645833                                   35.898926   \n",
       "/Users/sofiafernandes/.cache/kagglehub/datasets... 0 days 0 days 00:00:03.770437500                                   31.523083   \n",
       "\n",
       "                                                                                     F0semitoneFrom27.5Hz_sma3nz_percentile50.0  \\\n",
       "file                                               start  end                                                                     \n",
       "/Users/sofiafernandes/.cache/kagglehub/datasets... 0 days 0 days 00:00:03.903895833                                   36.607681   \n",
       "/Users/sofiafernandes/.cache/kagglehub/datasets... 0 days 0 days 00:00:03.570229167                                   39.018208   \n",
       "/Users/sofiafernandes/.cache/kagglehub/datasets... 0 days 0 days 00:00:03.737062500                                   46.748459   \n",
       "/Users/sofiafernandes/.cache/kagglehub/datasets... 0 days 0 days 00:00:03.970645833                                   40.488960   \n",
       "/Users/sofiafernandes/.cache/kagglehub/datasets... 0 days 0 days 00:00:03.770437500                                   34.555748   \n",
       "\n",
       "                                                                                     F0semitoneFrom27.5Hz_sma3nz_percentile80.0  \\\n",
       "file                                               start  end                                                                     \n",
       "/Users/sofiafernandes/.cache/kagglehub/datasets... 0 days 0 days 00:00:03.903895833                                   39.911366   \n",
       "/Users/sofiafernandes/.cache/kagglehub/datasets... 0 days 0 days 00:00:03.570229167                                   41.324265   \n",
       "/Users/sofiafernandes/.cache/kagglehub/datasets... 0 days 0 days 00:00:03.737062500                                   50.922649   \n",
       "/Users/sofiafernandes/.cache/kagglehub/datasets... 0 days 0 days 00:00:03.970645833                                   43.685249   \n",
       "/Users/sofiafernandes/.cache/kagglehub/datasets... 0 days 0 days 00:00:03.770437500                                   38.189644   \n",
       "\n",
       "                                                                                     F0semitoneFrom27.5Hz_sma3nz_pctlrange0-2  \\\n",
       "file                                               start  end                                                                   \n",
       "/Users/sofiafernandes/.cache/kagglehub/datasets... 0 days 0 days 00:00:03.903895833                                  5.987804   \n",
       "/Users/sofiafernandes/.cache/kagglehub/datasets... 0 days 0 days 00:00:03.570229167                                  5.524376   \n",
       "/Users/sofiafernandes/.cache/kagglehub/datasets... 0 days 0 days 00:00:03.737062500                                  5.540981   \n",
       "/Users/sofiafernandes/.cache/kagglehub/datasets... 0 days 0 days 00:00:03.970645833                                  7.786324   \n",
       "/Users/sofiafernandes/.cache/kagglehub/datasets... 0 days 0 days 00:00:03.770437500                                  6.666561   \n",
       "\n",
       "                                                                                     F0semitoneFrom27.5Hz_sma3nz_meanRisingSlope  \\\n",
       "file                                               start  end                                                                      \n",
       "/Users/sofiafernandes/.cache/kagglehub/datasets... 0 days 0 days 00:00:03.903895833                                   234.625992   \n",
       "/Users/sofiafernandes/.cache/kagglehub/datasets... 0 days 0 days 00:00:03.570229167                                    41.661167   \n",
       "/Users/sofiafernandes/.cache/kagglehub/datasets... 0 days 0 days 00:00:03.737062500                                   173.288620   \n",
       "/Users/sofiafernandes/.cache/kagglehub/datasets... 0 days 0 days 00:00:03.970645833                                   168.711563   \n",
       "/Users/sofiafernandes/.cache/kagglehub/datasets... 0 days 0 days 00:00:03.770437500                                    99.787117   \n",
       "\n",
       "                                                                                     F0semitoneFrom27.5Hz_sma3nz_stddevRisingSlope  \\\n",
       "file                                               start  end                                                                        \n",
       "/Users/sofiafernandes/.cache/kagglehub/datasets... 0 days 0 days 00:00:03.903895833                                     278.505188   \n",
       "/Users/sofiafernandes/.cache/kagglehub/datasets... 0 days 0 days 00:00:03.570229167                                      45.850269   \n",
       "/Users/sofiafernandes/.cache/kagglehub/datasets... 0 days 0 days 00:00:03.737062500                                     104.474289   \n",
       "/Users/sofiafernandes/.cache/kagglehub/datasets... 0 days 0 days 00:00:03.970645833                                     148.852676   \n",
       "/Users/sofiafernandes/.cache/kagglehub/datasets... 0 days 0 days 00:00:03.770437500                                      77.171021   \n",
       "\n",
       "                                                                                     F0semitoneFrom27.5Hz_sma3nz_meanFallingSlope  \\\n",
       "file                                               start  end                                                                       \n",
       "/Users/sofiafernandes/.cache/kagglehub/datasets... 0 days 0 days 00:00:03.903895833                                    229.474777   \n",
       "/Users/sofiafernandes/.cache/kagglehub/datasets... 0 days 0 days 00:00:03.570229167                                     45.512527   \n",
       "/Users/sofiafernandes/.cache/kagglehub/datasets... 0 days 0 days 00:00:03.737062500                                     30.014435   \n",
       "/Users/sofiafernandes/.cache/kagglehub/datasets... 0 days 0 days 00:00:03.970645833                                    128.481461   \n",
       "/Users/sofiafernandes/.cache/kagglehub/datasets... 0 days 0 days 00:00:03.770437500                                     34.780659   \n",
       "\n",
       "                                                                                     F0semitoneFrom27.5Hz_sma3nz_stddevFallingSlope  \\\n",
       "file                                               start  end                                                                         \n",
       "/Users/sofiafernandes/.cache/kagglehub/datasets... 0 days 0 days 00:00:03.903895833                                      402.364685   \n",
       "/Users/sofiafernandes/.cache/kagglehub/datasets... 0 days 0 days 00:00:03.570229167                                       26.246408   \n",
       "/Users/sofiafernandes/.cache/kagglehub/datasets... 0 days 0 days 00:00:03.737062500                                       10.889656   \n",
       "/Users/sofiafernandes/.cache/kagglehub/datasets... 0 days 0 days 00:00:03.970645833                                      119.730644   \n",
       "/Users/sofiafernandes/.cache/kagglehub/datasets... 0 days 0 days 00:00:03.770437500                                       24.179268   \n",
       "\n",
       "                                                                                     ...  \\\n",
       "file                                               start  end                        ...   \n",
       "/Users/sofiafernandes/.cache/kagglehub/datasets... 0 days 0 days 00:00:03.903895833  ...   \n",
       "/Users/sofiafernandes/.cache/kagglehub/datasets... 0 days 0 days 00:00:03.570229167  ...   \n",
       "/Users/sofiafernandes/.cache/kagglehub/datasets... 0 days 0 days 00:00:03.737062500  ...   \n",
       "/Users/sofiafernandes/.cache/kagglehub/datasets... 0 days 0 days 00:00:03.970645833  ...   \n",
       "/Users/sofiafernandes/.cache/kagglehub/datasets... 0 days 0 days 00:00:03.770437500  ...   \n",
       "\n",
       "                                                                                     slopeUV0-500_sma3nz_amean  \\\n",
       "file                                               start  end                                                    \n",
       "/Users/sofiafernandes/.cache/kagglehub/datasets... 0 days 0 days 00:00:03.903895833                   0.088287   \n",
       "/Users/sofiafernandes/.cache/kagglehub/datasets... 0 days 0 days 00:00:03.570229167                   0.111506   \n",
       "/Users/sofiafernandes/.cache/kagglehub/datasets... 0 days 0 days 00:00:03.737062500                   0.062252   \n",
       "/Users/sofiafernandes/.cache/kagglehub/datasets... 0 days 0 days 00:00:03.970645833                   0.074365   \n",
       "/Users/sofiafernandes/.cache/kagglehub/datasets... 0 days 0 days 00:00:03.770437500                   0.094444   \n",
       "\n",
       "                                                                                     slopeUV500-1500_sma3nz_amean  \\\n",
       "file                                               start  end                                                       \n",
       "/Users/sofiafernandes/.cache/kagglehub/datasets... 0 days 0 days 00:00:03.903895833                      0.012799   \n",
       "/Users/sofiafernandes/.cache/kagglehub/datasets... 0 days 0 days 00:00:03.570229167                      0.012556   \n",
       "/Users/sofiafernandes/.cache/kagglehub/datasets... 0 days 0 days 00:00:03.737062500                      0.000030   \n",
       "/Users/sofiafernandes/.cache/kagglehub/datasets... 0 days 0 days 00:00:03.970645833                      0.008484   \n",
       "/Users/sofiafernandes/.cache/kagglehub/datasets... 0 days 0 days 00:00:03.770437500                      0.012590   \n",
       "\n",
       "                                                                                     spectralFluxUV_sma3nz_amean  \\\n",
       "file                                               start  end                                                      \n",
       "/Users/sofiafernandes/.cache/kagglehub/datasets... 0 days 0 days 00:00:03.903895833                     0.024085   \n",
       "/Users/sofiafernandes/.cache/kagglehub/datasets... 0 days 0 days 00:00:03.570229167                     0.017401   \n",
       "/Users/sofiafernandes/.cache/kagglehub/datasets... 0 days 0 days 00:00:03.737062500                     0.070835   \n",
       "/Users/sofiafernandes/.cache/kagglehub/datasets... 0 days 0 days 00:00:03.970645833                     0.037622   \n",
       "/Users/sofiafernandes/.cache/kagglehub/datasets... 0 days 0 days 00:00:03.770437500                     0.030078   \n",
       "\n",
       "                                                                                     loudnessPeaksPerSec  \\\n",
       "file                                               start  end                                              \n",
       "/Users/sofiafernandes/.cache/kagglehub/datasets... 0 days 0 days 00:00:03.903895833             1.799486   \n",
       "/Users/sofiafernandes/.cache/kagglehub/datasets... 0 days 0 days 00:00:03.570229167             2.808989   \n",
       "/Users/sofiafernandes/.cache/kagglehub/datasets... 0 days 0 days 00:00:03.737062500             2.419355   \n",
       "/Users/sofiafernandes/.cache/kagglehub/datasets... 0 days 0 days 00:00:03.970645833             2.525253   \n",
       "/Users/sofiafernandes/.cache/kagglehub/datasets... 0 days 0 days 00:00:03.770437500             2.659575   \n",
       "\n",
       "                                                                                     VoicedSegmentsPerSec  \\\n",
       "file                                               start  end                                               \n",
       "/Users/sofiafernandes/.cache/kagglehub/datasets... 0 days 0 days 00:00:03.903895833              1.822917   \n",
       "/Users/sofiafernandes/.cache/kagglehub/datasets... 0 days 0 days 00:00:03.570229167              1.139601   \n",
       "/Users/sofiafernandes/.cache/kagglehub/datasets... 0 days 0 days 00:00:03.737062500              1.634877   \n",
       "/Users/sofiafernandes/.cache/kagglehub/datasets... 0 days 0 days 00:00:03.970645833              1.534527   \n",
       "/Users/sofiafernandes/.cache/kagglehub/datasets... 0 days 0 days 00:00:03.770437500              1.347709   \n",
       "\n",
       "                                                                                     MeanVoicedSegmentLengthSec  \\\n",
       "file                                               start  end                                                     \n",
       "/Users/sofiafernandes/.cache/kagglehub/datasets... 0 days 0 days 00:00:03.903895833                    0.204286   \n",
       "/Users/sofiafernandes/.cache/kagglehub/datasets... 0 days 0 days 00:00:03.570229167                    0.312500   \n",
       "/Users/sofiafernandes/.cache/kagglehub/datasets... 0 days 0 days 00:00:03.737062500                    0.245000   \n",
       "/Users/sofiafernandes/.cache/kagglehub/datasets... 0 days 0 days 00:00:03.970645833                    0.270000   \n",
       "/Users/sofiafernandes/.cache/kagglehub/datasets... 0 days 0 days 00:00:03.770437500                    0.238000   \n",
       "\n",
       "                                                                                     StddevVoicedSegmentLengthSec  \\\n",
       "file                                               start  end                                                       \n",
       "/Users/sofiafernandes/.cache/kagglehub/datasets... 0 days 0 days 00:00:03.903895833                      0.120458   \n",
       "/Users/sofiafernandes/.cache/kagglehub/datasets... 0 days 0 days 00:00:03.570229167                      0.162692   \n",
       "/Users/sofiafernandes/.cache/kagglehub/datasets... 0 days 0 days 00:00:03.737062500                      0.206377   \n",
       "/Users/sofiafernandes/.cache/kagglehub/datasets... 0 days 0 days 00:00:03.970645833                      0.163197   \n",
       "/Users/sofiafernandes/.cache/kagglehub/datasets... 0 days 0 days 00:00:03.770437500                      0.165094   \n",
       "\n",
       "                                                                                     MeanUnvoicedSegmentLength  \\\n",
       "file                                               start  end                                                    \n",
       "/Users/sofiafernandes/.cache/kagglehub/datasets... 0 days 0 days 00:00:03.903895833                   0.321429   \n",
       "/Users/sofiafernandes/.cache/kagglehub/datasets... 0 days 0 days 00:00:03.570229167                   0.540000   \n",
       "/Users/sofiafernandes/.cache/kagglehub/datasets... 0 days 0 days 00:00:03.737062500                   0.410000   \n",
       "/Users/sofiafernandes/.cache/kagglehub/datasets... 0 days 0 days 00:00:03.970645833                   0.358333   \n",
       "/Users/sofiafernandes/.cache/kagglehub/datasets... 0 days 0 days 00:00:03.770437500                   0.480000   \n",
       "\n",
       "                                                                                     StddevUnvoicedSegmentLength  \\\n",
       "file                                               start  end                                                      \n",
       "/Users/sofiafernandes/.cache/kagglehub/datasets... 0 days 0 days 00:00:03.903895833                     0.410833   \n",
       "/Users/sofiafernandes/.cache/kagglehub/datasets... 0 days 0 days 00:00:03.570229167                     0.446822   \n",
       "/Users/sofiafernandes/.cache/kagglehub/datasets... 0 days 0 days 00:00:03.737062500                     0.385071   \n",
       "/Users/sofiafernandes/.cache/kagglehub/datasets... 0 days 0 days 00:00:03.970645833                     0.450830   \n",
       "/Users/sofiafernandes/.cache/kagglehub/datasets... 0 days 0 days 00:00:03.770437500                     0.446318   \n",
       "\n",
       "                                                                                     equivalentSoundLevel_dBp  \n",
       "file                                               start  end                                                  \n",
       "/Users/sofiafernandes/.cache/kagglehub/datasets... 0 days 0 days 00:00:03.903895833                -33.784313  \n",
       "/Users/sofiafernandes/.cache/kagglehub/datasets... 0 days 0 days 00:00:03.570229167                -36.295971  \n",
       "/Users/sofiafernandes/.cache/kagglehub/datasets... 0 days 0 days 00:00:03.737062500                -22.345514  \n",
       "/Users/sofiafernandes/.cache/kagglehub/datasets... 0 days 0 days 00:00:03.970645833                -26.800886  \n",
       "/Users/sofiafernandes/.cache/kagglehub/datasets... 0 days 0 days 00:00:03.770437500                -42.832409  \n",
       "\n",
       "[5 rows x 88 columns]"
      ]
     },
     "execution_count": 24,
     "metadata": {},
     "output_type": "execute_result"
    }
   ],
   "source": [
    "rav_feats = smile.process_files(rav_db[\"filename\"])\n",
    "\n",
    "rav_feats.head()"
   ]
  },
  {
   "cell_type": "code",
   "execution_count": null,
   "id": "f3982290",
   "metadata": {},
   "outputs": [],
   "source": [
    "#rav_feats.to_csv('RAVDESS_GeMAPS_features.csv', index=False)"
   ]
  },
  {
   "cell_type": "code",
   "execution_count": 7,
   "id": "787934fb",
   "metadata": {},
   "outputs": [
    {
     "name": "stdout",
     "output_type": "stream",
     "text": [
      "Warning: Looks like you're using an outdated `kagglehub` version, please consider updating (latest version: 0.3.12)\n",
      "Path to dataset files: /Users/sofiafernandes/.cache/kagglehub/datasets/ejlok1/toronto-emotional-speech-set-tess/versions/1\n",
      "['TESS']\n",
      "['YAF_disgust', 'OAF_Pleasant_surprise', 'OAF_happy', 'YAF_sad', 'YAF_happy', 'YAF_neutral', 'OAF_Fear', 'OAF_angry', 'YAF_pleasant_surprised', 'YAF_fear', 'OAF_neutral', 'OAF_disgust', 'YAF_angry', 'OAF_Sad']\n",
      "Warning: Looks like you're using an outdated `kagglehub` version, please consider updating (latest version: 0.3.12)\n",
      "Path to dataset files: /Users/sofiafernandes/.cache/kagglehub/datasets/uwrfkaggler/ravdess-emotional-speech-audio/versions/1\n",
      "['Actor_16', 'Actor_11', 'Actor_18', 'Actor_20', 'Actor_21', 'Actor_19', 'Actor_10', 'Actor_17', 'Actor_04', 'Actor_03', 'Actor_02', 'Actor_05', 'audio_speech_actors_01-24', 'Actor_12', 'Actor_15', 'Actor_23', 'Actor_24', 'Actor_22', 'Actor_14', 'Actor_13', 'Actor_09', 'Actor_07', 'Actor_06', 'Actor_01', 'Actor_08']\n"
     ]
    },
    {
     "ename": "NameError",
     "evalue": "name 'rav_feats' is not defined",
     "output_type": "error",
     "traceback": [
      "\u001b[0;31m---------------------------------------------------------------------------\u001b[0m",
      "\u001b[0;31mNameError\u001b[0m                                 Traceback (most recent call last)",
      "Cell \u001b[0;32mIn[7], line 13\u001b[0m\n\u001b[1;32m     10\u001b[0m emotions \u001b[38;5;241m=\u001b[39m tess_db[\u001b[38;5;124m'\u001b[39m\u001b[38;5;124mlabel\u001b[39m\u001b[38;5;124m'\u001b[39m]\u001b[38;5;241m.\u001b[39munique()\n\u001b[1;32m     11\u001b[0m idx \u001b[38;5;241m=\u001b[39m rav_db[rav_db[\u001b[38;5;124m'\u001b[39m\u001b[38;5;124mlabel\u001b[39m\u001b[38;5;124m'\u001b[39m]\u001b[38;5;241m.\u001b[39misin(emotions)]\u001b[38;5;241m.\u001b[39mindex\n\u001b[0;32m---> 13\u001b[0m X_rav \u001b[38;5;241m=\u001b[39m \u001b[43mrav_feats\u001b[49m\u001b[38;5;241m.\u001b[39miloc[idx]\u001b[38;5;241m.\u001b[39mvalues\n\u001b[1;32m     14\u001b[0m y_rav \u001b[38;5;241m=\u001b[39m rav_db\u001b[38;5;241m.\u001b[39miloc[idx]\u001b[38;5;241m.\u001b[39mlabel\n",
      "\u001b[0;31mNameError\u001b[0m: name 'rav_feats' is not defined"
     ]
    }
   ],
   "source": [
    "\n",
    "# Split data\n",
    "emotions = tess_db['label'].unique()\n",
    "idx = rav_db[rav_db['label'].isin(emotions)].index\n",
    "\n",
    "X_rav = rav_feats.iloc[idx].values\n",
    "y_rav = rav_db.iloc[idx].label"
   ]
  },
  {
   "cell_type": "code",
   "execution_count": 55,
   "id": "cf1e93a9",
   "metadata": {},
   "outputs": [
    {
     "name": "stdout",
     "output_type": "stream",
     "text": [
      "Performance SVM with feature scaling\n",
      "               precision    recall  f1-score   support\n",
      "\n",
      "       angry       0.35      0.35      0.35       192\n",
      "     disgust       0.25      0.82      0.38       192\n",
      "        fear       0.39      0.40      0.39       192\n",
      "       happy       0.20      0.01      0.01       192\n",
      "     neutral       0.25      0.02      0.04        96\n",
      "         sad       0.61      0.06      0.10       192\n",
      "\n",
      "    accuracy                           0.30      1056\n",
      "   macro avg       0.34      0.28      0.21      1056\n",
      "weighted avg       0.35      0.30      0.23      1056\n",
      "\n"
     ]
    }
   ],
   "source": [
    "## Simple SVM(1) classifier with feature scaling (2)\n",
    "# Standardize features by removing the mean and scaling to unit variance\n",
    "X_rav_scaled = scaler.transform([i[:-1] for i in X_rav])\n",
    "# Predict with model\n",
    "pred_rav = clf12.predict(X_rav_scaled)\n",
    "print(\"Performance SVM with feature scaling\\n\", classification_report(y_rav, pred_rav))"
   ]
  },
  {
   "cell_type": "code",
   "execution_count": 56,
   "id": "fa0317a9",
   "metadata": {},
   "outputs": [
    {
     "data": {
      "image/png": "[encoded data removed]",
      "text/plain": [
       "<Figure size 1000x800 with 2 Axes>"
      ]
     },
     "metadata": {},
     "output_type": "display_data"
    }
   ],
   "source": [
    "# Generate a confusion matrix\n",
    "cm = confusion_matrix(y_rav, pred_rav)\n",
    "\n",
    "# Plot the confusion matrix\n",
    "plt.figure(figsize=(10, 8))\n",
    "sns.heatmap(cm, annot=True, fmt='d', cmap='Blues') #, xticklabels=emo_order, yticklabels=emo_order)\n",
    "plt.xlabel('Predicted')\n",
    "plt.ylabel('True')\n",
    "plt.title('Confusion Matrix')\n",
    "plt.show()"
   ]
  },
  {
   "cell_type": "code",
   "execution_count": 57,
   "id": "bbf3c195",
   "metadata": {},
   "outputs": [
    {
     "name": "stdout",
     "output_type": "stream",
     "text": [
      "Warning: Looks like you're using an outdated `kagglehub` version, please consider updating (latest version: 0.3.12)\n",
      "Path to dataset files: /Users/sofiafernandes/.cache/kagglehub/datasets/piyushagni5/berlin-database-of-emotional-speech-emodb/versions/1\n"
     ]
    },
    {
     "data": {
      "text/html": [
       "<div>\n",
       "<style scoped>\n",
       "    .dataframe tbody tr th:only-of-type {\n",
       "        vertical-align: middle;\n",
       "    }\n",
       "\n",
       "    .dataframe tbody tr th {\n",
       "        vertical-align: top;\n",
       "    }\n",
       "\n",
       "    .dataframe thead th {\n",
       "        text-align: right;\n",
       "    }\n",
       "</style>\n",
       "<table border=\"1\" class=\"dataframe\">\n",
       "  <thead>\n",
       "    <tr style=\"text-align: right;\">\n",
       "      <th></th>\n",
       "      <th>filename</th>\n",
       "      <th>label</th>\n",
       "    </tr>\n",
       "  </thead>\n",
       "  <tbody>\n",
       "    <tr>\n",
       "      <th>0</th>\n",
       "      <td>/Users/sofiafernandes/.cache/kagglehub/dataset...</td>\n",
       "      <td>boredom</td>\n",
       "    </tr>\n",
       "    <tr>\n",
       "      <th>1</th>\n",
       "      <td>/Users/sofiafernandes/.cache/kagglehub/dataset...</td>\n",
       "      <td>angry</td>\n",
       "    </tr>\n",
       "    <tr>\n",
       "      <th>2</th>\n",
       "      <td>/Users/sofiafernandes/.cache/kagglehub/dataset...</td>\n",
       "      <td>fear</td>\n",
       "    </tr>\n",
       "    <tr>\n",
       "      <th>3</th>\n",
       "      <td>/Users/sofiafernandes/.cache/kagglehub/dataset...</td>\n",
       "      <td>disgust</td>\n",
       "    </tr>\n",
       "    <tr>\n",
       "      <th>4</th>\n",
       "      <td>/Users/sofiafernandes/.cache/kagglehub/dataset...</td>\n",
       "      <td>angry</td>\n",
       "    </tr>\n",
       "  </tbody>\n",
       "</table>\n",
       "</div>"
      ],
      "text/plain": [
       "                                            filename    label\n",
       "0  /Users/sofiafernandes/.cache/kagglehub/dataset...  boredom\n",
       "1  /Users/sofiafernandes/.cache/kagglehub/dataset...    angry\n",
       "2  /Users/sofiafernandes/.cache/kagglehub/dataset...     fear\n",
       "3  /Users/sofiafernandes/.cache/kagglehub/dataset...  disgust\n",
       "4  /Users/sofiafernandes/.cache/kagglehub/dataset...    angry"
      ]
     },
     "execution_count": 57,
     "metadata": {},
     "output_type": "execute_result"
    }
   ],
   "source": [
    "## EMO-DB Dataset\n",
    "\n",
    "# Download dataset from Kaggle\n",
    "path = kagglehub.dataset_download(\"piyushagni5/berlin-database-of-emotional-speech-emodb\")\n",
    "print(\"Path to dataset files:\", path)\n",
    "\n",
    "# List all files in the dataset\n",
    "files = [file_path.name for file_path in os.scandir(path+\"/wav\") if file_path.is_file()]\n",
    "\n",
    "# Define the dataset directory\n",
    "emodb_path = path + \"/wav/*.wav\"\n",
    "\n",
    "# Codebook that maps EmoDB filename encoding to emotions\n",
    "emotion_map = {\n",
    "    'W': 'angry', #'anger',\n",
    "    'L': 'boredom',\n",
    "    'E': 'disgust',\n",
    "    'A': 'fear',\n",
    "    'F': 'happy', #'happiness',\n",
    "    'T': 'sad', #'sadness',\n",
    "    'N': 'neutral'\n",
    "}\n",
    "\n",
    "# Extract emotion labels from filenames (6th character)\n",
    "filenames = glob.glob(emodb_path)\n",
    "emotions = [emotion_map[os.path.basename(f)[5]] for f in filenames if os.path.basename(f)[5] in emotion_map]\n",
    "\n",
    "# Create a DataFrame to store the emotion labels\n",
    "emo_db = pd.DataFrame({\n",
    "    'filename': filenames,\n",
    "    'label': emotions\n",
    "})\n",
    "\n",
    "emo_db.head()\n"
   ]
  },
  {
   "cell_type": "code",
   "execution_count": 61,
   "id": "a53bf7e3",
   "metadata": {},
   "outputs": [
    {
     "data": {
      "text/html": [
       "<div>\n",
       "<style scoped>\n",
       "    .dataframe tbody tr th:only-of-type {\n",
       "        vertical-align: middle;\n",
       "    }\n",
       "\n",
       "    .dataframe tbody tr th {\n",
       "        vertical-align: top;\n",
       "    }\n",
       "\n",
       "    .dataframe thead th {\n",
       "        text-align: right;\n",
       "    }\n",
       "</style>\n",
       "<table border=\"1\" class=\"dataframe\">\n",
       "  <thead>\n",
       "    <tr style=\"text-align: right;\">\n",
       "      <th></th>\n",
       "      <th></th>\n",
       "      <th></th>\n",
       "      <th>F0semitoneFrom27.5Hz_sma3nz_amean</th>\n",
       "      <th>F0semitoneFrom27.5Hz_sma3nz_stddevNorm</th>\n",
       "      <th>F0semitoneFrom27.5Hz_sma3nz_percentile20.0</th>\n",
       "      <th>F0semitoneFrom27.5Hz_sma3nz_percentile50.0</th>\n",
       "      <th>F0semitoneFrom27.5Hz_sma3nz_percentile80.0</th>\n",
       "      <th>F0semitoneFrom27.5Hz_sma3nz_pctlrange0-2</th>\n",
       "      <th>F0semitoneFrom27.5Hz_sma3nz_meanRisingSlope</th>\n",
       "      <th>F0semitoneFrom27.5Hz_sma3nz_stddevRisingSlope</th>\n",
       "      <th>F0semitoneFrom27.5Hz_sma3nz_meanFallingSlope</th>\n",
       "      <th>F0semitoneFrom27.5Hz_sma3nz_stddevFallingSlope</th>\n",
       "      <th>...</th>\n",
       "      <th>slopeUV0-500_sma3nz_amean</th>\n",
       "      <th>slopeUV500-1500_sma3nz_amean</th>\n",
       "      <th>spectralFluxUV_sma3nz_amean</th>\n",
       "      <th>loudnessPeaksPerSec</th>\n",
       "      <th>VoicedSegmentsPerSec</th>\n",
       "      <th>MeanVoicedSegmentLengthSec</th>\n",
       "      <th>StddevVoicedSegmentLengthSec</th>\n",
       "      <th>MeanUnvoicedSegmentLength</th>\n",
       "      <th>StddevUnvoicedSegmentLength</th>\n",
       "      <th>equivalentSoundLevel_dBp</th>\n",
       "    </tr>\n",
       "    <tr>\n",
       "      <th>file</th>\n",
       "      <th>start</th>\n",
       "      <th>end</th>\n",
       "      <th></th>\n",
       "      <th></th>\n",
       "      <th></th>\n",
       "      <th></th>\n",
       "      <th></th>\n",
       "      <th></th>\n",
       "      <th></th>\n",
       "      <th></th>\n",
       "      <th></th>\n",
       "      <th></th>\n",
       "      <th></th>\n",
       "      <th></th>\n",
       "      <th></th>\n",
       "      <th></th>\n",
       "      <th></th>\n",
       "      <th></th>\n",
       "      <th></th>\n",
       "      <th></th>\n",
       "      <th></th>\n",
       "      <th></th>\n",
       "      <th></th>\n",
       "    </tr>\n",
       "  </thead>\n",
       "  <tbody>\n",
       "    <tr>\n",
       "      <th>/Users/sofiafernandes/.cache/kagglehub/datasets/piyushagni5/berlin-database-of-emotional-speech-emodb/versions/1/wav/16a02Lb.wav</th>\n",
       "      <th>0 days</th>\n",
       "      <th>0 days 00:00:02.081125</th>\n",
       "      <td>36.145962</td>\n",
       "      <td>0.120175</td>\n",
       "      <td>31.316414</td>\n",
       "      <td>36.366047</td>\n",
       "      <td>40.726501</td>\n",
       "      <td>9.410088</td>\n",
       "      <td>21.147469</td>\n",
       "      <td>14.031230</td>\n",
       "      <td>28.690582</td>\n",
       "      <td>8.217484</td>\n",
       "      <td>...</td>\n",
       "      <td>-0.016520</td>\n",
       "      <td>0.015412</td>\n",
       "      <td>0.260250</td>\n",
       "      <td>3.864734</td>\n",
       "      <td>2.475248</td>\n",
       "      <td>0.246000</td>\n",
       "      <td>0.212659</td>\n",
       "      <td>0.113333</td>\n",
       "      <td>0.052810</td>\n",
       "      <td>-17.709595</td>\n",
       "    </tr>\n",
       "    <tr>\n",
       "      <th>/Users/sofiafernandes/.cache/kagglehub/datasets/piyushagni5/berlin-database-of-emotional-speech-emodb/versions/1/wav/14a07Wc.wav</th>\n",
       "      <th>0 days</th>\n",
       "      <th>0 days 00:00:02.063500</th>\n",
       "      <td>41.152687</td>\n",
       "      <td>0.119568</td>\n",
       "      <td>38.206409</td>\n",
       "      <td>41.596970</td>\n",
       "      <td>43.566231</td>\n",
       "      <td>5.359821</td>\n",
       "      <td>38.043438</td>\n",
       "      <td>41.589668</td>\n",
       "      <td>57.602268</td>\n",
       "      <td>35.204792</td>\n",
       "      <td>...</td>\n",
       "      <td>0.008704</td>\n",
       "      <td>0.011329</td>\n",
       "      <td>0.248952</td>\n",
       "      <td>4.390244</td>\n",
       "      <td>3.500000</td>\n",
       "      <td>0.208571</td>\n",
       "      <td>0.141566</td>\n",
       "      <td>0.072000</td>\n",
       "      <td>0.036551</td>\n",
       "      <td>-19.888117</td>\n",
       "    </tr>\n",
       "    <tr>\n",
       "      <th>/Users/sofiafernandes/.cache/kagglehub/datasets/piyushagni5/berlin-database-of-emotional-speech-emodb/versions/1/wav/10a07Ad.wav</th>\n",
       "      <th>0 days</th>\n",
       "      <th>0 days 00:00:01.603375</th>\n",
       "      <td>29.344051</td>\n",
       "      <td>0.033157</td>\n",
       "      <td>28.594852</td>\n",
       "      <td>29.091187</td>\n",
       "      <td>30.407171</td>\n",
       "      <td>1.812319</td>\n",
       "      <td>121.797241</td>\n",
       "      <td>167.920105</td>\n",
       "      <td>22.221197</td>\n",
       "      <td>13.601577</td>\n",
       "      <td>...</td>\n",
       "      <td>-0.011442</td>\n",
       "      <td>0.016779</td>\n",
       "      <td>0.574719</td>\n",
       "      <td>4.402516</td>\n",
       "      <td>4.545455</td>\n",
       "      <td>0.090000</td>\n",
       "      <td>0.068243</td>\n",
       "      <td>0.107143</td>\n",
       "      <td>0.055988</td>\n",
       "      <td>-18.262444</td>\n",
       "    </tr>\n",
       "    <tr>\n",
       "      <th>/Users/sofiafernandes/.cache/kagglehub/datasets/piyushagni5/berlin-database-of-emotional-speech-emodb/versions/1/wav/13a05Ea.wav</th>\n",
       "      <th>0 days</th>\n",
       "      <th>0 days 00:00:04.195937500</th>\n",
       "      <td>36.554493</td>\n",
       "      <td>0.064922</td>\n",
       "      <td>34.792404</td>\n",
       "      <td>36.899849</td>\n",
       "      <td>38.542122</td>\n",
       "      <td>3.749718</td>\n",
       "      <td>101.899666</td>\n",
       "      <td>151.185745</td>\n",
       "      <td>48.196270</td>\n",
       "      <td>20.018641</td>\n",
       "      <td>...</td>\n",
       "      <td>-0.021964</td>\n",
       "      <td>-0.002345</td>\n",
       "      <td>0.757442</td>\n",
       "      <td>5.502393</td>\n",
       "      <td>3.389830</td>\n",
       "      <td>0.105714</td>\n",
       "      <td>0.087155</td>\n",
       "      <td>0.157333</td>\n",
       "      <td>0.168779</td>\n",
       "      <td>-16.983673</td>\n",
       "    </tr>\n",
       "    <tr>\n",
       "      <th>/Users/sofiafernandes/.cache/kagglehub/datasets/piyushagni5/berlin-database-of-emotional-speech-emodb/versions/1/wav/14a05Wa.wav</th>\n",
       "      <th>0 days</th>\n",
       "      <th>0 days 00:00:04.006812500</th>\n",
       "      <td>40.611958</td>\n",
       "      <td>0.147944</td>\n",
       "      <td>36.786343</td>\n",
       "      <td>41.586903</td>\n",
       "      <td>44.147541</td>\n",
       "      <td>7.361198</td>\n",
       "      <td>244.031326</td>\n",
       "      <td>170.801331</td>\n",
       "      <td>118.145416</td>\n",
       "      <td>96.427307</td>\n",
       "      <td>...</td>\n",
       "      <td>-0.001218</td>\n",
       "      <td>0.014095</td>\n",
       "      <td>0.279358</td>\n",
       "      <td>5.012531</td>\n",
       "      <td>4.060914</td>\n",
       "      <td>0.151875</td>\n",
       "      <td>0.142004</td>\n",
       "      <td>0.077333</td>\n",
       "      <td>0.033757</td>\n",
       "      <td>-18.152895</td>\n",
       "    </tr>\n",
       "  </tbody>\n",
       "</table>\n",
       "<p>5 rows × 88 columns</p>\n",
       "</div>"
      ],
      "text/plain": [
       "                                                                                     F0semitoneFrom27.5Hz_sma3nz_amean  \\\n",
       "file                                               start  end                                                            \n",
       "/Users/sofiafernandes/.cache/kagglehub/datasets... 0 days 0 days 00:00:02.081125                             36.145962   \n",
       "/Users/sofiafernandes/.cache/kagglehub/datasets... 0 days 0 days 00:00:02.063500                             41.152687   \n",
       "/Users/sofiafernandes/.cache/kagglehub/datasets... 0 days 0 days 00:00:01.603375                             29.344051   \n",
       "/Users/sofiafernandes/.cache/kagglehub/datasets... 0 days 0 days 00:00:04.195937500                          36.554493   \n",
       "/Users/sofiafernandes/.cache/kagglehub/datasets... 0 days 0 days 00:00:04.006812500                          40.611958   \n",
       "\n",
       "                                                                                     F0semitoneFrom27.5Hz_sma3nz_stddevNorm  \\\n",
       "file                                               start  end                                                                 \n",
       "/Users/sofiafernandes/.cache/kagglehub/datasets... 0 days 0 days 00:00:02.081125                                   0.120175   \n",
       "/Users/sofiafernandes/.cache/kagglehub/datasets... 0 days 0 days 00:00:02.063500                                   0.119568   \n",
       "/Users/sofiafernandes/.cache/kagglehub/datasets... 0 days 0 days 00:00:01.603375                                   0.033157   \n",
       "/Users/sofiafernandes/.cache/kagglehub/datasets... 0 days 0 days 00:00:04.195937500                                0.064922   \n",
       "/Users/sofiafernandes/.cache/kagglehub/datasets... 0 days 0 days 00:00:04.006812500                                0.147944   \n",
       "\n",
       "                                                                                     F0semitoneFrom27.5Hz_sma3nz_percentile20.0  \\\n",
       "file                                               start  end                                                                     \n",
       "/Users/sofiafernandes/.cache/kagglehub/datasets... 0 days 0 days 00:00:02.081125                                      31.316414   \n",
       "/Users/sofiafernandes/.cache/kagglehub/datasets... 0 days 0 days 00:00:02.063500                                      38.206409   \n",
       "/Users/sofiafernandes/.cache/kagglehub/datasets... 0 days 0 days 00:00:01.603375                                      28.594852   \n",
       "/Users/sofiafernandes/.cache/kagglehub/datasets... 0 days 0 days 00:00:04.195937500                                   34.792404   \n",
       "/Users/sofiafernandes/.cache/kagglehub/datasets... 0 days 0 days 00:00:04.006812500                                   36.786343   \n",
       "\n",
       "                                                                                     F0semitoneFrom27.5Hz_sma3nz_percentile50.0  \\\n",
       "file                                               start  end                                                                     \n",
       "/Users/sofiafernandes/.cache/kagglehub/datasets... 0 days 0 days 00:00:02.081125                                      36.366047   \n",
       "/Users/sofiafernandes/.cache/kagglehub/datasets... 0 days 0 days 00:00:02.063500                                      41.596970   \n",
       "/Users/sofiafernandes/.cache/kagglehub/datasets... 0 days 0 days 00:00:01.603375                                      29.091187   \n",
       "/Users/sofiafernandes/.cache/kagglehub/datasets... 0 days 0 days 00:00:04.195937500                                   36.899849   \n",
       "/Users/sofiafernandes/.cache/kagglehub/datasets... 0 days 0 days 00:00:04.006812500                                   41.586903   \n",
       "\n",
       "                                                                                     F0semitoneFrom27.5Hz_sma3nz_percentile80.0  \\\n",
       "file                                               start  end                                                                     \n",
       "/Users/sofiafernandes/.cache/kagglehub/datasets... 0 days 0 days 00:00:02.081125                                      40.726501   \n",
       "/Users/sofiafernandes/.cache/kagglehub/datasets... 0 days 0 days 00:00:02.063500                                      43.566231   \n",
       "/Users/sofiafernandes/.cache/kagglehub/datasets... 0 days 0 days 00:00:01.603375                                      30.407171   \n",
       "/Users/sofiafernandes/.cache/kagglehub/datasets... 0 days 0 days 00:00:04.195937500                                   38.542122   \n",
       "/Users/sofiafernandes/.cache/kagglehub/datasets... 0 days 0 days 00:00:04.006812500                                   44.147541   \n",
       "\n",
       "                                                                                     F0semitoneFrom27.5Hz_sma3nz_pctlrange0-2  \\\n",
       "file                                               start  end                                                                   \n",
       "/Users/sofiafernandes/.cache/kagglehub/datasets... 0 days 0 days 00:00:02.081125                                     9.410088   \n",
       "/Users/sofiafernandes/.cache/kagglehub/datasets... 0 days 0 days 00:00:02.063500                                     5.359821   \n",
       "/Users/sofiafernandes/.cache/kagglehub/datasets... 0 days 0 days 00:00:01.603375                                     1.812319   \n",
       "/Users/sofiafernandes/.cache/kagglehub/datasets... 0 days 0 days 00:00:04.195937500                                  3.749718   \n",
       "/Users/sofiafernandes/.cache/kagglehub/datasets... 0 days 0 days 00:00:04.006812500                                  7.361198   \n",
       "\n",
       "                                                                                     F0semitoneFrom27.5Hz_sma3nz_meanRisingSlope  \\\n",
       "file                                               start  end                                                                      \n",
       "/Users/sofiafernandes/.cache/kagglehub/datasets... 0 days 0 days 00:00:02.081125                                       21.147469   \n",
       "/Users/sofiafernandes/.cache/kagglehub/datasets... 0 days 0 days 00:00:02.063500                                       38.043438   \n",
       "/Users/sofiafernandes/.cache/kagglehub/datasets... 0 days 0 days 00:00:01.603375                                      121.797241   \n",
       "/Users/sofiafernandes/.cache/kagglehub/datasets... 0 days 0 days 00:00:04.195937500                                   101.899666   \n",
       "/Users/sofiafernandes/.cache/kagglehub/datasets... 0 days 0 days 00:00:04.006812500                                   244.031326   \n",
       "\n",
       "                                                                                     F0semitoneFrom27.5Hz_sma3nz_stddevRisingSlope  \\\n",
       "file                                               start  end                                                                        \n",
       "/Users/sofiafernandes/.cache/kagglehub/datasets... 0 days 0 days 00:00:02.081125                                         14.031230   \n",
       "/Users/sofiafernandes/.cache/kagglehub/datasets... 0 days 0 days 00:00:02.063500                                         41.589668   \n",
       "/Users/sofiafernandes/.cache/kagglehub/datasets... 0 days 0 days 00:00:01.603375                                        167.920105   \n",
       "/Users/sofiafernandes/.cache/kagglehub/datasets... 0 days 0 days 00:00:04.195937500                                     151.185745   \n",
       "/Users/sofiafernandes/.cache/kagglehub/datasets... 0 days 0 days 00:00:04.006812500                                     170.801331   \n",
       "\n",
       "                                                                                     F0semitoneFrom27.5Hz_sma3nz_meanFallingSlope  \\\n",
       "file                                               start  end                                                                       \n",
       "/Users/sofiafernandes/.cache/kagglehub/datasets... 0 days 0 days 00:00:02.081125                                        28.690582   \n",
       "/Users/sofiafernandes/.cache/kagglehub/datasets... 0 days 0 days 00:00:02.063500                                        57.602268   \n",
       "/Users/sofiafernandes/.cache/kagglehub/datasets... 0 days 0 days 00:00:01.603375                                        22.221197   \n",
       "/Users/sofiafernandes/.cache/kagglehub/datasets... 0 days 0 days 00:00:04.195937500                                     48.196270   \n",
       "/Users/sofiafernandes/.cache/kagglehub/datasets... 0 days 0 days 00:00:04.006812500                                    118.145416   \n",
       "\n",
       "                                                                                     F0semitoneFrom27.5Hz_sma3nz_stddevFallingSlope  \\\n",
       "file                                               start  end                                                                         \n",
       "/Users/sofiafernandes/.cache/kagglehub/datasets... 0 days 0 days 00:00:02.081125                                           8.217484   \n",
       "/Users/sofiafernandes/.cache/kagglehub/datasets... 0 days 0 days 00:00:02.063500                                          35.204792   \n",
       "/Users/sofiafernandes/.cache/kagglehub/datasets... 0 days 0 days 00:00:01.603375                                          13.601577   \n",
       "/Users/sofiafernandes/.cache/kagglehub/datasets... 0 days 0 days 00:00:04.195937500                                       20.018641   \n",
       "/Users/sofiafernandes/.cache/kagglehub/datasets... 0 days 0 days 00:00:04.006812500                                       96.427307   \n",
       "\n",
       "                                                                                     ...  \\\n",
       "file                                               start  end                        ...   \n",
       "/Users/sofiafernandes/.cache/kagglehub/datasets... 0 days 0 days 00:00:02.081125     ...   \n",
       "/Users/sofiafernandes/.cache/kagglehub/datasets... 0 days 0 days 00:00:02.063500     ...   \n",
       "/Users/sofiafernandes/.cache/kagglehub/datasets... 0 days 0 days 00:00:01.603375     ...   \n",
       "/Users/sofiafernandes/.cache/kagglehub/datasets... 0 days 0 days 00:00:04.195937500  ...   \n",
       "/Users/sofiafernandes/.cache/kagglehub/datasets... 0 days 0 days 00:00:04.006812500  ...   \n",
       "\n",
       "                                                                                     slopeUV0-500_sma3nz_amean  \\\n",
       "file                                               start  end                                                    \n",
       "/Users/sofiafernandes/.cache/kagglehub/datasets... 0 days 0 days 00:00:02.081125                     -0.016520   \n",
       "/Users/sofiafernandes/.cache/kagglehub/datasets... 0 days 0 days 00:00:02.063500                      0.008704   \n",
       "/Users/sofiafernandes/.cache/kagglehub/datasets... 0 days 0 days 00:00:01.603375                     -0.011442   \n",
       "/Users/sofiafernandes/.cache/kagglehub/datasets... 0 days 0 days 00:00:04.195937500                  -0.021964   \n",
       "/Users/sofiafernandes/.cache/kagglehub/datasets... 0 days 0 days 00:00:04.006812500                  -0.001218   \n",
       "\n",
       "                                                                                     slopeUV500-1500_sma3nz_amean  \\\n",
       "file                                               start  end                                                       \n",
       "/Users/sofiafernandes/.cache/kagglehub/datasets... 0 days 0 days 00:00:02.081125                         0.015412   \n",
       "/Users/sofiafernandes/.cache/kagglehub/datasets... 0 days 0 days 00:00:02.063500                         0.011329   \n",
       "/Users/sofiafernandes/.cache/kagglehub/datasets... 0 days 0 days 00:00:01.603375                         0.016779   \n",
       "/Users/sofiafernandes/.cache/kagglehub/datasets... 0 days 0 days 00:00:04.195937500                     -0.002345   \n",
       "/Users/sofiafernandes/.cache/kagglehub/datasets... 0 days 0 days 00:00:04.006812500                      0.014095   \n",
       "\n",
       "                                                                                     spectralFluxUV_sma3nz_amean  \\\n",
       "file                                               start  end                                                      \n",
       "/Users/sofiafernandes/.cache/kagglehub/datasets... 0 days 0 days 00:00:02.081125                        0.260250   \n",
       "/Users/sofiafernandes/.cache/kagglehub/datasets... 0 days 0 days 00:00:02.063500                        0.248952   \n",
       "/Users/sofiafernandes/.cache/kagglehub/datasets... 0 days 0 days 00:00:01.603375                        0.574719   \n",
       "/Users/sofiafernandes/.cache/kagglehub/datasets... 0 days 0 days 00:00:04.195937500                     0.757442   \n",
       "/Users/sofiafernandes/.cache/kagglehub/datasets... 0 days 0 days 00:00:04.006812500                     0.279358   \n",
       "\n",
       "                                                                                     loudnessPeaksPerSec  \\\n",
       "file                                               start  end                                              \n",
       "/Users/sofiafernandes/.cache/kagglehub/datasets... 0 days 0 days 00:00:02.081125                3.864734   \n",
       "/Users/sofiafernandes/.cache/kagglehub/datasets... 0 days 0 days 00:00:02.063500                4.390244   \n",
       "/Users/sofiafernandes/.cache/kagglehub/datasets... 0 days 0 days 00:00:01.603375                4.402516   \n",
       "/Users/sofiafernandes/.cache/kagglehub/datasets... 0 days 0 days 00:00:04.195937500             5.502393   \n",
       "/Users/sofiafernandes/.cache/kagglehub/datasets... 0 days 0 days 00:00:04.006812500             5.012531   \n",
       "\n",
       "                                                                                     VoicedSegmentsPerSec  \\\n",
       "file                                               start  end                                               \n",
       "/Users/sofiafernandes/.cache/kagglehub/datasets... 0 days 0 days 00:00:02.081125                 2.475248   \n",
       "/Users/sofiafernandes/.cache/kagglehub/datasets... 0 days 0 days 00:00:02.063500                 3.500000   \n",
       "/Users/sofiafernandes/.cache/kagglehub/datasets... 0 days 0 days 00:00:01.603375                 4.545455   \n",
       "/Users/sofiafernandes/.cache/kagglehub/datasets... 0 days 0 days 00:00:04.195937500              3.389830   \n",
       "/Users/sofiafernandes/.cache/kagglehub/datasets... 0 days 0 days 00:00:04.006812500              4.060914   \n",
       "\n",
       "                                                                                     MeanVoicedSegmentLengthSec  \\\n",
       "file                                               start  end                                                     \n",
       "/Users/sofiafernandes/.cache/kagglehub/datasets... 0 days 0 days 00:00:02.081125                       0.246000   \n",
       "/Users/sofiafernandes/.cache/kagglehub/datasets... 0 days 0 days 00:00:02.063500                       0.208571   \n",
       "/Users/sofiafernandes/.cache/kagglehub/datasets... 0 days 0 days 00:00:01.603375                       0.090000   \n",
       "/Users/sofiafernandes/.cache/kagglehub/datasets... 0 days 0 days 00:00:04.195937500                    0.105714   \n",
       "/Users/sofiafernandes/.cache/kagglehub/datasets... 0 days 0 days 00:00:04.006812500                    0.151875   \n",
       "\n",
       "                                                                                     StddevVoicedSegmentLengthSec  \\\n",
       "file                                               start  end                                                       \n",
       "/Users/sofiafernandes/.cache/kagglehub/datasets... 0 days 0 days 00:00:02.081125                         0.212659   \n",
       "/Users/sofiafernandes/.cache/kagglehub/datasets... 0 days 0 days 00:00:02.063500                         0.141566   \n",
       "/Users/sofiafernandes/.cache/kagglehub/datasets... 0 days 0 days 00:00:01.603375                         0.068243   \n",
       "/Users/sofiafernandes/.cache/kagglehub/datasets... 0 days 0 days 00:00:04.195937500                      0.087155   \n",
       "/Users/sofiafernandes/.cache/kagglehub/datasets... 0 days 0 days 00:00:04.006812500                      0.142004   \n",
       "\n",
       "                                                                                     MeanUnvoicedSegmentLength  \\\n",
       "file                                               start  end                                                    \n",
       "/Users/sofiafernandes/.cache/kagglehub/datasets... 0 days 0 days 00:00:02.081125                      0.113333   \n",
       "/Users/sofiafernandes/.cache/kagglehub/datasets... 0 days 0 days 00:00:02.063500                      0.072000   \n",
       "/Users/sofiafernandes/.cache/kagglehub/datasets... 0 days 0 days 00:00:01.603375                      0.107143   \n",
       "/Users/sofiafernandes/.cache/kagglehub/datasets... 0 days 0 days 00:00:04.195937500                   0.157333   \n",
       "/Users/sofiafernandes/.cache/kagglehub/datasets... 0 days 0 days 00:00:04.006812500                   0.077333   \n",
       "\n",
       "                                                                                     StddevUnvoicedSegmentLength  \\\n",
       "file                                               start  end                                                      \n",
       "/Users/sofiafernandes/.cache/kagglehub/datasets... 0 days 0 days 00:00:02.081125                        0.052810   \n",
       "/Users/sofiafernandes/.cache/kagglehub/datasets... 0 days 0 days 00:00:02.063500                        0.036551   \n",
       "/Users/sofiafernandes/.cache/kagglehub/datasets... 0 days 0 days 00:00:01.603375                        0.055988   \n",
       "/Users/sofiafernandes/.cache/kagglehub/datasets... 0 days 0 days 00:00:04.195937500                     0.168779   \n",
       "/Users/sofiafernandes/.cache/kagglehub/datasets... 0 days 0 days 00:00:04.006812500                     0.033757   \n",
       "\n",
       "                                                                                     equivalentSoundLevel_dBp  \n",
       "file                                               start  end                                                  \n",
       "/Users/sofiafernandes/.cache/kagglehub/datasets... 0 days 0 days 00:00:02.081125                   -17.709595  \n",
       "/Users/sofiafernandes/.cache/kagglehub/datasets... 0 days 0 days 00:00:02.063500                   -19.888117  \n",
       "/Users/sofiafernandes/.cache/kagglehub/datasets... 0 days 0 days 00:00:01.603375                   -18.262444  \n",
       "/Users/sofiafernandes/.cache/kagglehub/datasets... 0 days 0 days 00:00:04.195937500                -16.983673  \n",
       "/Users/sofiafernandes/.cache/kagglehub/datasets... 0 days 0 days 00:00:04.006812500                -18.152895  \n",
       "\n",
       "[5 rows x 88 columns]"
      ]
     },
     "execution_count": 61,
     "metadata": {},
     "output_type": "execute_result"
    }
   ],
   "source": [
    "emo_feats = smile.process_files(emo_db[\"filename\"])\n",
    "\n",
    "emo_feats.head()"
   ]
  },
  {
   "cell_type": "code",
   "execution_count": null,
   "id": "a65a450c",
   "metadata": {},
   "outputs": [],
   "source": [
    "#emo_feats.to_csv('EmoDB_GeMAPS_features.csv', index=False)"
   ]
  },
  {
   "cell_type": "code",
   "execution_count": 65,
   "id": "4f43f15d",
   "metadata": {},
   "outputs": [
    {
     "name": "stdout",
     "output_type": "stream",
     "text": [
      "Performance SVM with feature scaling\n",
      "               precision    recall  f1-score   support\n",
      "\n",
      "       angry       0.33      0.53      0.41       127\n",
      "     disgust       0.05      0.15      0.07        46\n",
      "        fear       0.17      0.20      0.18        69\n",
      "       happy       0.00      0.00      0.00        71\n",
      "     neutral       0.06      0.01      0.02        79\n",
      "         sad       0.27      0.05      0.08        62\n",
      "\n",
      "    accuracy                           0.20       454\n",
      "   macro avg       0.15      0.16      0.13       454\n",
      "weighted avg       0.17      0.20      0.16       454\n",
      "\n"
     ]
    }
   ],
   "source": [
    "emotions = tess_db['label'].unique()\n",
    "idx = emo_db[emo_db['label'].isin(emotions)].index\n",
    "\n",
    "X_rav = emo_feats.iloc[idx].values\n",
    "y_rav = emo_db.iloc[idx].label\n",
    "\n",
    "## Simple SVM(1) classifier with feature scaling (2)\n",
    "# Standardize features by removing the mean and scaling to unit variance\n",
    "X_rav_scaled = scaler.transform(X_rav)\n",
    "# Predict with model\n",
    "pred_rav = clf12.predict(X_rav_scaled)\n",
    "print(\"Performance SVM with feature scaling\\n\", classification_report(y_rav, pred_rav))"
   ]
  },
  {
   "cell_type": "code",
   "execution_count": 66,
   "id": "e173ef5a",
   "metadata": {},
   "outputs": [
    {
     "data": {
      "image/png": "[encoded data removed]",
      "text/plain": [
       "<Figure size 1000x800 with 2 Axes>"
      ]
     },
     "metadata": {},
     "output_type": "display_data"
    }
   ],
   "source": [
    "# Generate a confusion matrix\n",
    "cm = confusion_matrix(y_rav, pred_rav)\n",
    "\n",
    "# Plot the confusion matrix\n",
    "plt.figure(figsize=(10, 8))\n",
    "sns.heatmap(cm, annot=True, fmt='d', cmap='Blues') #, xticklabels=emo_order, yticklabels=emo_order)\n",
    "plt.xlabel('Predicted')\n",
    "plt.ylabel('True')\n",
    "plt.title('Confusion Matrix')\n",
    "plt.show()"
   ]
  },
  {
   "cell_type": "markdown",
   "id": "24294b22",
   "metadata": {},
   "source": [
    "# Train and evaluate with 3 datasets"
   ]
  },
  {
   "cell_type": "code",
   "execution_count": 12,
   "id": "313d7eba",
   "metadata": {},
   "outputs": [
    {
     "name": "stdout",
     "output_type": "stream",
     "text": [
      "Warning: Looks like you're using an outdated `kagglehub` version, please consider updating (latest version: 0.3.12)\n",
      "Path to dataset files: /Users/sofiafernandes/.cache/kagglehub/datasets/ejlok1/toronto-emotional-speech-set-tess/versions/1\n",
      "['TESS']\n",
      "['YAF_disgust', 'OAF_Pleasant_surprise', 'OAF_happy', 'YAF_sad', 'YAF_happy', 'YAF_neutral', 'OAF_Fear', 'OAF_angry', 'YAF_pleasant_surprised', 'YAF_fear', 'OAF_neutral', 'OAF_disgust', 'YAF_angry', 'OAF_Sad']\n",
      "Warning: Looks like you're using an outdated `kagglehub` version, please consider updating (latest version: 0.3.12)\n",
      "Path to dataset files: /Users/sofiafernandes/.cache/kagglehub/datasets/uwrfkaggler/ravdess-emotional-speech-audio/versions/1\n",
      "['Actor_16', 'Actor_11', 'Actor_18', 'Actor_20', 'Actor_21', 'Actor_19', 'Actor_10', 'Actor_17', 'Actor_04', 'Actor_03', 'Actor_02', 'Actor_05', 'audio_speech_actors_01-24', 'Actor_12', 'Actor_15', 'Actor_23', 'Actor_24', 'Actor_22', 'Actor_14', 'Actor_13', 'Actor_09', 'Actor_07', 'Actor_06', 'Actor_01', 'Actor_08']\n",
      "Warning: Looks like you're using an outdated `kagglehub` version, please consider updating (latest version: 0.3.12)\n",
      "Path to dataset files: /Users/sofiafernandes/.cache/kagglehub/datasets/piyushagni5/berlin-database-of-emotional-speech-emodb/versions/1\n"
     ]
    },
    {
     "data": {
      "text/html": [
       "<div>\n",
       "<style scoped>\n",
       "    .dataframe tbody tr th:only-of-type {\n",
       "        vertical-align: middle;\n",
       "    }\n",
       "\n",
       "    .dataframe tbody tr th {\n",
       "        vertical-align: top;\n",
       "    }\n",
       "\n",
       "    .dataframe thead th {\n",
       "        text-align: right;\n",
       "    }\n",
       "</style>\n",
       "<table border=\"1\" class=\"dataframe\">\n",
       "  <thead>\n",
       "    <tr style=\"text-align: right;\">\n",
       "      <th></th>\n",
       "      <th>file</th>\n",
       "      <th>start</th>\n",
       "      <th>end</th>\n",
       "      <th>F0semitoneFrom27.5Hz_sma3nz_amean</th>\n",
       "      <th>F0semitoneFrom27.5Hz_sma3nz_stddevNorm</th>\n",
       "      <th>F0semitoneFrom27.5Hz_sma3nz_percentile20.0</th>\n",
       "      <th>F0semitoneFrom27.5Hz_sma3nz_percentile50.0</th>\n",
       "      <th>F0semitoneFrom27.5Hz_sma3nz_percentile80.0</th>\n",
       "      <th>F0semitoneFrom27.5Hz_sma3nz_pctlrange0-2</th>\n",
       "      <th>F0semitoneFrom27.5Hz_sma3nz_meanRisingSlope</th>\n",
       "      <th>...</th>\n",
       "      <th>slopeUV0-500_sma3nz_amean</th>\n",
       "      <th>slopeUV500-1500_sma3nz_amean</th>\n",
       "      <th>spectralFluxUV_sma3nz_amean</th>\n",
       "      <th>loudnessPeaksPerSec</th>\n",
       "      <th>VoicedSegmentsPerSec</th>\n",
       "      <th>MeanVoicedSegmentLengthSec</th>\n",
       "      <th>StddevVoicedSegmentLengthSec</th>\n",
       "      <th>MeanUnvoicedSegmentLength</th>\n",
       "      <th>StddevUnvoicedSegmentLength</th>\n",
       "      <th>equivalentSoundLevel_dBp</th>\n",
       "    </tr>\n",
       "  </thead>\n",
       "  <tbody>\n",
       "    <tr>\n",
       "      <th>0</th>\n",
       "      <td>/Users/sofiafernandes/.cache/kagglehub/dataset...</td>\n",
       "      <td>0 days</td>\n",
       "      <td>0 days 00:00:02.380765135</td>\n",
       "      <td>33.311512</td>\n",
       "      <td>0.167887</td>\n",
       "      <td>30.233387</td>\n",
       "      <td>33.582430</td>\n",
       "      <td>36.801254</td>\n",
       "      <td>6.567867</td>\n",
       "      <td>37.088375</td>\n",
       "      <td>...</td>\n",
       "      <td>0.015293</td>\n",
       "      <td>-0.013067</td>\n",
       "      <td>0.034128</td>\n",
       "      <td>2.109705</td>\n",
       "      <td>1.724138</td>\n",
       "      <td>0.322500</td>\n",
       "      <td>0.367585</td>\n",
       "      <td>0.232500</td>\n",
       "      <td>0.107558</td>\n",
       "      <td>-33.633442</td>\n",
       "    </tr>\n",
       "    <tr>\n",
       "      <th>1</th>\n",
       "      <td>/Users/sofiafernandes/.cache/kagglehub/dataset...</td>\n",
       "      <td>0 days</td>\n",
       "      <td>0 days 00:00:02.321741624</td>\n",
       "      <td>33.541200</td>\n",
       "      <td>0.221251</td>\n",
       "      <td>30.607704</td>\n",
       "      <td>34.415165</td>\n",
       "      <td>38.339210</td>\n",
       "      <td>7.731506</td>\n",
       "      <td>301.817080</td>\n",
       "      <td>...</td>\n",
       "      <td>0.024138</td>\n",
       "      <td>-0.019726</td>\n",
       "      <td>0.064816</td>\n",
       "      <td>2.597403</td>\n",
       "      <td>1.769912</td>\n",
       "      <td>0.377500</td>\n",
       "      <td>0.378641</td>\n",
       "      <td>0.162500</td>\n",
       "      <td>0.087571</td>\n",
       "      <td>-30.686287</td>\n",
       "    </tr>\n",
       "    <tr>\n",
       "      <th>2</th>\n",
       "      <td>/Users/sofiafernandes/.cache/kagglehub/dataset...</td>\n",
       "      <td>0 days</td>\n",
       "      <td>0 days 00:00:02.646063734</td>\n",
       "      <td>33.721695</td>\n",
       "      <td>0.219033</td>\n",
       "      <td>30.271343</td>\n",
       "      <td>33.172550</td>\n",
       "      <td>39.682960</td>\n",
       "      <td>9.411617</td>\n",
       "      <td>31.068426</td>\n",
       "      <td>...</td>\n",
       "      <td>0.015026</td>\n",
       "      <td>-0.011972</td>\n",
       "      <td>0.027866</td>\n",
       "      <td>2.661597</td>\n",
       "      <td>1.550388</td>\n",
       "      <td>0.405000</td>\n",
       "      <td>0.424882</td>\n",
       "      <td>0.174000</td>\n",
       "      <td>0.142352</td>\n",
       "      <td>-30.999493</td>\n",
       "    </tr>\n",
       "    <tr>\n",
       "      <th>3</th>\n",
       "      <td>/Users/sofiafernandes/.cache/kagglehub/dataset...</td>\n",
       "      <td>0 days</td>\n",
       "      <td>0 days 00:00:02.542434669</td>\n",
       "      <td>34.361110</td>\n",
       "      <td>0.204392</td>\n",
       "      <td>29.236042</td>\n",
       "      <td>34.488140</td>\n",
       "      <td>37.640064</td>\n",
       "      <td>8.404022</td>\n",
       "      <td>969.197630</td>\n",
       "      <td>...</td>\n",
       "      <td>-0.006464</td>\n",
       "      <td>-0.011046</td>\n",
       "      <td>0.050418</td>\n",
       "      <td>2.371542</td>\n",
       "      <td>2.016129</td>\n",
       "      <td>0.268000</td>\n",
       "      <td>0.374775</td>\n",
       "      <td>0.204000</td>\n",
       "      <td>0.136176</td>\n",
       "      <td>-33.801414</td>\n",
       "    </tr>\n",
       "    <tr>\n",
       "      <th>4</th>\n",
       "      <td>/Users/sofiafernandes/.cache/kagglehub/dataset...</td>\n",
       "      <td>0 days</td>\n",
       "      <td>0 days 00:00:02.448758909</td>\n",
       "      <td>33.536655</td>\n",
       "      <td>0.219005</td>\n",
       "      <td>28.647896</td>\n",
       "      <td>33.393734</td>\n",
       "      <td>39.124413</td>\n",
       "      <td>10.476517</td>\n",
       "      <td>188.472670</td>\n",
       "      <td>...</td>\n",
       "      <td>-0.016488</td>\n",
       "      <td>-0.003887</td>\n",
       "      <td>0.044019</td>\n",
       "      <td>1.639344</td>\n",
       "      <td>1.673640</td>\n",
       "      <td>0.385000</td>\n",
       "      <td>0.414578</td>\n",
       "      <td>0.152000</td>\n",
       "      <td>0.102645</td>\n",
       "      <td>-28.442787</td>\n",
       "    </tr>\n",
       "    <tr>\n",
       "      <th>...</th>\n",
       "      <td>...</td>\n",
       "      <td>...</td>\n",
       "      <td>...</td>\n",
       "      <td>...</td>\n",
       "      <td>...</td>\n",
       "      <td>...</td>\n",
       "      <td>...</td>\n",
       "      <td>...</td>\n",
       "      <td>...</td>\n",
       "      <td>...</td>\n",
       "      <td>...</td>\n",
       "      <td>...</td>\n",
       "      <td>...</td>\n",
       "      <td>...</td>\n",
       "      <td>...</td>\n",
       "      <td>...</td>\n",
       "      <td>...</td>\n",
       "      <td>...</td>\n",
       "      <td>...</td>\n",
       "      <td>...</td>\n",
       "      <td>...</td>\n",
       "    </tr>\n",
       "    <tr>\n",
       "      <th>4370</th>\n",
       "      <td>/Users/sofiafernandes/.cache/kagglehub/dataset...</td>\n",
       "      <td>0 days</td>\n",
       "      <td>0 days 00:00:03.937270833</td>\n",
       "      <td>38.136395</td>\n",
       "      <td>0.082155</td>\n",
       "      <td>35.621384</td>\n",
       "      <td>39.419216</td>\n",
       "      <td>40.493355</td>\n",
       "      <td>4.871971</td>\n",
       "      <td>164.967350</td>\n",
       "      <td>...</td>\n",
       "      <td>0.007304</td>\n",
       "      <td>0.007272</td>\n",
       "      <td>0.014186</td>\n",
       "      <td>2.040816</td>\n",
       "      <td>0.775194</td>\n",
       "      <td>0.506667</td>\n",
       "      <td>0.091773</td>\n",
       "      <td>0.570000</td>\n",
       "      <td>0.496639</td>\n",
       "      <td>-36.501630</td>\n",
       "    </tr>\n",
       "    <tr>\n",
       "      <th>4371</th>\n",
       "      <td>/Users/sofiafernandes/.cache/kagglehub/dataset...</td>\n",
       "      <td>0 days</td>\n",
       "      <td>0 days 00:00:03.436750</td>\n",
       "      <td>34.502087</td>\n",
       "      <td>0.086906</td>\n",
       "      <td>31.821001</td>\n",
       "      <td>34.341667</td>\n",
       "      <td>36.840748</td>\n",
       "      <td>5.019747</td>\n",
       "      <td>30.288550</td>\n",
       "      <td>...</td>\n",
       "      <td>-0.025129</td>\n",
       "      <td>0.007835</td>\n",
       "      <td>0.008716</td>\n",
       "      <td>2.339181</td>\n",
       "      <td>0.890208</td>\n",
       "      <td>0.430000</td>\n",
       "      <td>0.279404</td>\n",
       "      <td>0.666667</td>\n",
       "      <td>0.440025</td>\n",
       "      <td>-44.086678</td>\n",
       "    </tr>\n",
       "    <tr>\n",
       "      <th>4372</th>\n",
       "      <td>/Users/sofiafernandes/.cache/kagglehub/dataset...</td>\n",
       "      <td>0 days</td>\n",
       "      <td>0 days 00:00:03.636958333</td>\n",
       "      <td>32.549720</td>\n",
       "      <td>0.145451</td>\n",
       "      <td>32.592190</td>\n",
       "      <td>33.413900</td>\n",
       "      <td>36.421947</td>\n",
       "      <td>3.829758</td>\n",
       "      <td>4.624880</td>\n",
       "      <td>...</td>\n",
       "      <td>-0.008157</td>\n",
       "      <td>0.005465</td>\n",
       "      <td>0.008949</td>\n",
       "      <td>2.209945</td>\n",
       "      <td>1.680672</td>\n",
       "      <td>0.163333</td>\n",
       "      <td>0.119536</td>\n",
       "      <td>0.351429</td>\n",
       "      <td>0.428133</td>\n",
       "      <td>-52.962883</td>\n",
       "    </tr>\n",
       "    <tr>\n",
       "      <th>4373</th>\n",
       "      <td>/Users/sofiafernandes/.cache/kagglehub/dataset...</td>\n",
       "      <td>0 days</td>\n",
       "      <td>0 days 00:00:03.470125</td>\n",
       "      <td>33.988625</td>\n",
       "      <td>0.051731</td>\n",
       "      <td>32.588040</td>\n",
       "      <td>34.082024</td>\n",
       "      <td>35.868362</td>\n",
       "      <td>3.280323</td>\n",
       "      <td>102.553560</td>\n",
       "      <td>...</td>\n",
       "      <td>-0.020109</td>\n",
       "      <td>0.004687</td>\n",
       "      <td>0.011814</td>\n",
       "      <td>2.023121</td>\n",
       "      <td>1.173021</td>\n",
       "      <td>0.267500</td>\n",
       "      <td>0.143069</td>\n",
       "      <td>0.560000</td>\n",
       "      <td>0.491325</td>\n",
       "      <td>-49.797230</td>\n",
       "    </tr>\n",
       "    <tr>\n",
       "      <th>4374</th>\n",
       "      <td>/Users/sofiafernandes/.cache/kagglehub/dataset...</td>\n",
       "      <td>0 days</td>\n",
       "      <td>0 days 00:00:03.503499999</td>\n",
       "      <td>33.220165</td>\n",
       "      <td>0.071488</td>\n",
       "      <td>31.703505</td>\n",
       "      <td>33.277428</td>\n",
       "      <td>35.168270</td>\n",
       "      <td>3.464765</td>\n",
       "      <td>59.469727</td>\n",
       "      <td>...</td>\n",
       "      <td>-0.026909</td>\n",
       "      <td>0.006613</td>\n",
       "      <td>0.008026</td>\n",
       "      <td>2.005731</td>\n",
       "      <td>0.872093</td>\n",
       "      <td>0.430000</td>\n",
       "      <td>0.100333</td>\n",
       "      <td>0.520000</td>\n",
       "      <td>0.475763</td>\n",
       "      <td>-46.740050</td>\n",
       "    </tr>\n",
       "  </tbody>\n",
       "</table>\n",
       "<p>4375 rows × 91 columns</p>\n",
       "</div>"
      ],
      "text/plain": [
       "                                                   file   start  \\\n",
       "0     /Users/sofiafernandes/.cache/kagglehub/dataset...  0 days   \n",
       "1     /Users/sofiafernandes/.cache/kagglehub/dataset...  0 days   \n",
       "2     /Users/sofiafernandes/.cache/kagglehub/dataset...  0 days   \n",
       "3     /Users/sofiafernandes/.cache/kagglehub/dataset...  0 days   \n",
       "4     /Users/sofiafernandes/.cache/kagglehub/dataset...  0 days   \n",
       "...                                                 ...     ...   \n",
       "4370  /Users/sofiafernandes/.cache/kagglehub/dataset...  0 days   \n",
       "4371  /Users/sofiafernandes/.cache/kagglehub/dataset...  0 days   \n",
       "4372  /Users/sofiafernandes/.cache/kagglehub/dataset...  0 days   \n",
       "4373  /Users/sofiafernandes/.cache/kagglehub/dataset...  0 days   \n",
       "4374  /Users/sofiafernandes/.cache/kagglehub/dataset...  0 days   \n",
       "\n",
       "                            end  F0semitoneFrom27.5Hz_sma3nz_amean  \\\n",
       "0     0 days 00:00:02.380765135                          33.311512   \n",
       "1     0 days 00:00:02.321741624                          33.541200   \n",
       "2     0 days 00:00:02.646063734                          33.721695   \n",
       "3     0 days 00:00:02.542434669                          34.361110   \n",
       "4     0 days 00:00:02.448758909                          33.536655   \n",
       "...                         ...                                ...   \n",
       "4370  0 days 00:00:03.937270833                          38.136395   \n",
       "4371     0 days 00:00:03.436750                          34.502087   \n",
       "4372  0 days 00:00:03.636958333                          32.549720   \n",
       "4373     0 days 00:00:03.470125                          33.988625   \n",
       "4374  0 days 00:00:03.503499999                          33.220165   \n",
       "\n",
       "      F0semitoneFrom27.5Hz_sma3nz_stddevNorm  \\\n",
       "0                                   0.167887   \n",
       "1                                   0.221251   \n",
       "2                                   0.219033   \n",
       "3                                   0.204392   \n",
       "4                                   0.219005   \n",
       "...                                      ...   \n",
       "4370                                0.082155   \n",
       "4371                                0.086906   \n",
       "4372                                0.145451   \n",
       "4373                                0.051731   \n",
       "4374                                0.071488   \n",
       "\n",
       "      F0semitoneFrom27.5Hz_sma3nz_percentile20.0  \\\n",
       "0                                      30.233387   \n",
       "1                                      30.607704   \n",
       "2                                      30.271343   \n",
       "3                                      29.236042   \n",
       "4                                      28.647896   \n",
       "...                                          ...   \n",
       "4370                                   35.621384   \n",
       "4371                                   31.821001   \n",
       "4372                                   32.592190   \n",
       "4373                                   32.588040   \n",
       "4374                                   31.703505   \n",
       "\n",
       "      F0semitoneFrom27.5Hz_sma3nz_percentile50.0  \\\n",
       "0                                      33.582430   \n",
       "1                                      34.415165   \n",
       "2                                      33.172550   \n",
       "3                                      34.488140   \n",
       "4                                      33.393734   \n",
       "...                                          ...   \n",
       "4370                                   39.419216   \n",
       "4371                                   34.341667   \n",
       "4372                                   33.413900   \n",
       "4373                                   34.082024   \n",
       "4374                                   33.277428   \n",
       "\n",
       "      F0semitoneFrom27.5Hz_sma3nz_percentile80.0  \\\n",
       "0                                      36.801254   \n",
       "1                                      38.339210   \n",
       "2                                      39.682960   \n",
       "3                                      37.640064   \n",
       "4                                      39.124413   \n",
       "...                                          ...   \n",
       "4370                                   40.493355   \n",
       "4371                                   36.840748   \n",
       "4372                                   36.421947   \n",
       "4373                                   35.868362   \n",
       "4374                                   35.168270   \n",
       "\n",
       "      F0semitoneFrom27.5Hz_sma3nz_pctlrange0-2  \\\n",
       "0                                     6.567867   \n",
       "1                                     7.731506   \n",
       "2                                     9.411617   \n",
       "3                                     8.404022   \n",
       "4                                    10.476517   \n",
       "...                                        ...   \n",
       "4370                                  4.871971   \n",
       "4371                                  5.019747   \n",
       "4372                                  3.829758   \n",
       "4373                                  3.280323   \n",
       "4374                                  3.464765   \n",
       "\n",
       "      F0semitoneFrom27.5Hz_sma3nz_meanRisingSlope  ...  \\\n",
       "0                                       37.088375  ...   \n",
       "1                                      301.817080  ...   \n",
       "2                                       31.068426  ...   \n",
       "3                                      969.197630  ...   \n",
       "4                                      188.472670  ...   \n",
       "...                                           ...  ...   \n",
       "4370                                   164.967350  ...   \n",
       "4371                                    30.288550  ...   \n",
       "4372                                     4.624880  ...   \n",
       "4373                                   102.553560  ...   \n",
       "4374                                    59.469727  ...   \n",
       "\n",
       "      slopeUV0-500_sma3nz_amean  slopeUV500-1500_sma3nz_amean  \\\n",
       "0                      0.015293                     -0.013067   \n",
       "1                      0.024138                     -0.019726   \n",
       "2                      0.015026                     -0.011972   \n",
       "3                     -0.006464                     -0.011046   \n",
       "4                     -0.016488                     -0.003887   \n",
       "...                         ...                           ...   \n",
       "4370                   0.007304                      0.007272   \n",
       "4371                  -0.025129                      0.007835   \n",
       "4372                  -0.008157                      0.005465   \n",
       "4373                  -0.020109                      0.004687   \n",
       "4374                  -0.026909                      0.006613   \n",
       "\n",
       "      spectralFluxUV_sma3nz_amean  loudnessPeaksPerSec  VoicedSegmentsPerSec  \\\n",
       "0                        0.034128             2.109705              1.724138   \n",
       "1                        0.064816             2.597403              1.769912   \n",
       "2                        0.027866             2.661597              1.550388   \n",
       "3                        0.050418             2.371542              2.016129   \n",
       "4                        0.044019             1.639344              1.673640   \n",
       "...                           ...                  ...                   ...   \n",
       "4370                     0.014186             2.040816              0.775194   \n",
       "4371                     0.008716             2.339181              0.890208   \n",
       "4372                     0.008949             2.209945              1.680672   \n",
       "4373                     0.011814             2.023121              1.173021   \n",
       "4374                     0.008026             2.005731              0.872093   \n",
       "\n",
       "      MeanVoicedSegmentLengthSec  StddevVoicedSegmentLengthSec  \\\n",
       "0                       0.322500                      0.367585   \n",
       "1                       0.377500                      0.378641   \n",
       "2                       0.405000                      0.424882   \n",
       "3                       0.268000                      0.374775   \n",
       "4                       0.385000                      0.414578   \n",
       "...                          ...                           ...   \n",
       "4370                    0.506667                      0.091773   \n",
       "4371                    0.430000                      0.279404   \n",
       "4372                    0.163333                      0.119536   \n",
       "4373                    0.267500                      0.143069   \n",
       "4374                    0.430000                      0.100333   \n",
       "\n",
       "      MeanUnvoicedSegmentLength  StddevUnvoicedSegmentLength  \\\n",
       "0                      0.232500                     0.107558   \n",
       "1                      0.162500                     0.087571   \n",
       "2                      0.174000                     0.142352   \n",
       "3                      0.204000                     0.136176   \n",
       "4                      0.152000                     0.102645   \n",
       "...                         ...                          ...   \n",
       "4370                   0.570000                     0.496639   \n",
       "4371                   0.666667                     0.440025   \n",
       "4372                   0.351429                     0.428133   \n",
       "4373                   0.560000                     0.491325   \n",
       "4374                   0.520000                     0.475763   \n",
       "\n",
       "      equivalentSoundLevel_dBp  \n",
       "0                   -33.633442  \n",
       "1                   -30.686287  \n",
       "2                   -30.999493  \n",
       "3                   -33.801414  \n",
       "4                   -28.442787  \n",
       "...                        ...  \n",
       "4370                -36.501630  \n",
       "4371                -44.086678  \n",
       "4372                -52.962883  \n",
       "4373                -49.797230  \n",
       "4374                -46.740050  \n",
       "\n",
       "[4375 rows x 91 columns]"
      ]
     },
     "execution_count": 12,
     "metadata": {},
     "output_type": "execute_result"
    }
   ],
   "source": [
    "import sys\n",
    "module_path = os.path.abspath(os.path.join('..', '..'))  # or the path to your source code\n",
    "sys.path.insert(0, module_path)\n",
    "\n",
    "from src.utils import load_ravdess, load_tess, load_emodb\n",
    "# Load TESS and RAVDESS datasets\n",
    "tess_db = load_tess()\n",
    "rav_db = load_ravdess()\n",
    "emo_db = load_emodb()\n",
    "# concatenate\n",
    "tess_emo_rav = pd.concat([tess_db, emo_db, rav_db])\n",
    "\n",
    "#all_feats = smile.process_files(tess_emo_rav[\"filename\"])\n",
    "all_feats = pd.read_csv('./features/TESS_EmoDB_RAVDESS_features.csv')\n",
    "all_feats"
   ]
  },
  {
   "cell_type": "code",
   "execution_count": 75,
   "id": "94544981",
   "metadata": {},
   "outputs": [],
   "source": [
    "tess_emo_rav.to_csv(\"TESS_EmoDB_RAVDESS.csv\")\n",
    "all_feats.to_csv(\"TESS_EmoDB_RAVDESS_features.csv\")"
   ]
  },
  {
   "cell_type": "code",
   "execution_count": null,
   "id": "d2eabf44",
   "metadata": {},
   "outputs": [],
   "source": [
    "tess_emo_rav"
   ]
  },
  {
   "cell_type": "code",
   "execution_count": 14,
   "id": "e1ebd7c5",
   "metadata": {},
   "outputs": [
    {
     "ename": "ValueError",
     "evalue": "Found input variables with inconsistent numbers of samples: [4375, 4775]",
     "output_type": "error",
     "traceback": [
      "\u001b[0;31m---------------------------------------------------------------------------\u001b[0m",
      "\u001b[0;31mValueError\u001b[0m                                Traceback (most recent call last)",
      "Cell \u001b[0;32mIn[14], line 8\u001b[0m\n\u001b[1;32m      5\u001b[0m X \u001b[38;5;241m=\u001b[39m all_feats\u001b[38;5;241m.\u001b[39mvalues\n\u001b[1;32m      6\u001b[0m y \u001b[38;5;241m=\u001b[39m tess_emo_rav\u001b[38;5;241m.\u001b[39mlabel\n\u001b[0;32m----> 8\u001b[0m X_train, X_test, y_train, y_test \u001b[38;5;241m=\u001b[39m \u001b[43mtrain_test_split\u001b[49m\u001b[43m(\u001b[49m\u001b[43mX\u001b[49m\u001b[43m,\u001b[49m\u001b[43m \u001b[49m\u001b[43my\u001b[49m\u001b[43m,\u001b[49m\u001b[43m \u001b[49m\u001b[43mtest_size\u001b[49m\u001b[38;5;241;43m=\u001b[39;49m\u001b[38;5;241;43m0.3\u001b[39;49m\u001b[43m,\u001b[49m\u001b[43m \u001b[49m\u001b[43mrandom_state\u001b[49m\u001b[38;5;241;43m=\u001b[39;49m\u001b[38;5;241;43m42\u001b[39;49m\u001b[43m,\u001b[49m\u001b[43m \u001b[49m\u001b[43mshuffle\u001b[49m\u001b[38;5;241;43m=\u001b[39;49m\u001b[38;5;28;43;01mTrue\u001b[39;49;00m\u001b[43m,\u001b[49m\u001b[43m \u001b[49m\u001b[43mstratify\u001b[49m\u001b[38;5;241;43m=\u001b[39;49m\u001b[43my\u001b[49m\u001b[43m)\u001b[49m\n\u001b[1;32m     10\u001b[0m \u001b[38;5;66;03m## Simple SVM(1) classifier with feature scaling (2)\u001b[39;00m\n\u001b[1;32m     11\u001b[0m \u001b[38;5;66;03m# Standardize features by removing the mean and scaling to unit variance\u001b[39;00m\n\u001b[1;32m     12\u001b[0m scaler \u001b[38;5;241m=\u001b[39m StandardScaler()\n",
      "File \u001b[0;32m~/miniconda3/envs/varm/lib/python3.8/site-packages/sklearn/utils/_param_validation.py:214\u001b[0m, in \u001b[0;36mvalidate_params.<locals>.decorator.<locals>.wrapper\u001b[0;34m(*args, **kwargs)\u001b[0m\n\u001b[1;32m    208\u001b[0m \u001b[38;5;28;01mtry\u001b[39;00m:\n\u001b[1;32m    209\u001b[0m     \u001b[38;5;28;01mwith\u001b[39;00m config_context(\n\u001b[1;32m    210\u001b[0m         skip_parameter_validation\u001b[38;5;241m=\u001b[39m(\n\u001b[1;32m    211\u001b[0m             prefer_skip_nested_validation \u001b[38;5;129;01mor\u001b[39;00m global_skip_validation\n\u001b[1;32m    212\u001b[0m         )\n\u001b[1;32m    213\u001b[0m     ):\n\u001b[0;32m--> 214\u001b[0m         \u001b[38;5;28;01mreturn\u001b[39;00m \u001b[43mfunc\u001b[49m\u001b[43m(\u001b[49m\u001b[38;5;241;43m*\u001b[39;49m\u001b[43margs\u001b[49m\u001b[43m,\u001b[49m\u001b[43m \u001b[49m\u001b[38;5;241;43m*\u001b[39;49m\u001b[38;5;241;43m*\u001b[39;49m\u001b[43mkwargs\u001b[49m\u001b[43m)\u001b[49m\n\u001b[1;32m    215\u001b[0m \u001b[38;5;28;01mexcept\u001b[39;00m InvalidParameterError \u001b[38;5;28;01mas\u001b[39;00m e:\n\u001b[1;32m    216\u001b[0m     \u001b[38;5;66;03m# When the function is just a wrapper around an estimator, we allow\u001b[39;00m\n\u001b[1;32m    217\u001b[0m     \u001b[38;5;66;03m# the function to delegate validation to the estimator, but we replace\u001b[39;00m\n\u001b[1;32m    218\u001b[0m     \u001b[38;5;66;03m# the name of the estimator by the name of the function in the error\u001b[39;00m\n\u001b[1;32m    219\u001b[0m     \u001b[38;5;66;03m# message to avoid confusion.\u001b[39;00m\n\u001b[1;32m    220\u001b[0m     msg \u001b[38;5;241m=\u001b[39m re\u001b[38;5;241m.\u001b[39msub(\n\u001b[1;32m    221\u001b[0m         \u001b[38;5;124mr\u001b[39m\u001b[38;5;124m\"\u001b[39m\u001b[38;5;124mparameter of \u001b[39m\u001b[38;5;124m\\\u001b[39m\u001b[38;5;124mw+ must be\u001b[39m\u001b[38;5;124m\"\u001b[39m,\n\u001b[1;32m    222\u001b[0m         \u001b[38;5;124mf\u001b[39m\u001b[38;5;124m\"\u001b[39m\u001b[38;5;124mparameter of \u001b[39m\u001b[38;5;132;01m{\u001b[39;00mfunc\u001b[38;5;241m.\u001b[39m\u001b[38;5;18m__qualname__\u001b[39m\u001b[38;5;132;01m}\u001b[39;00m\u001b[38;5;124m must be\u001b[39m\u001b[38;5;124m\"\u001b[39m,\n\u001b[1;32m    223\u001b[0m         \u001b[38;5;28mstr\u001b[39m(e),\n\u001b[1;32m    224\u001b[0m     )\n",
      "File \u001b[0;32m~/miniconda3/envs/varm/lib/python3.8/site-packages/sklearn/model_selection/_split.py:2646\u001b[0m, in \u001b[0;36mtrain_test_split\u001b[0;34m(test_size, train_size, random_state, shuffle, stratify, *arrays)\u001b[0m\n\u001b[1;32m   2643\u001b[0m \u001b[38;5;28;01mif\u001b[39;00m n_arrays \u001b[38;5;241m==\u001b[39m \u001b[38;5;241m0\u001b[39m:\n\u001b[1;32m   2644\u001b[0m     \u001b[38;5;28;01mraise\u001b[39;00m \u001b[38;5;167;01mValueError\u001b[39;00m(\u001b[38;5;124m\"\u001b[39m\u001b[38;5;124mAt least one array required as input\u001b[39m\u001b[38;5;124m\"\u001b[39m)\n\u001b[0;32m-> 2646\u001b[0m arrays \u001b[38;5;241m=\u001b[39m \u001b[43mindexable\u001b[49m\u001b[43m(\u001b[49m\u001b[38;5;241;43m*\u001b[39;49m\u001b[43marrays\u001b[49m\u001b[43m)\u001b[49m\n\u001b[1;32m   2648\u001b[0m n_samples \u001b[38;5;241m=\u001b[39m _num_samples(arrays[\u001b[38;5;241m0\u001b[39m])\n\u001b[1;32m   2649\u001b[0m n_train, n_test \u001b[38;5;241m=\u001b[39m _validate_shuffle_split(\n\u001b[1;32m   2650\u001b[0m     n_samples, test_size, train_size, default_test_size\u001b[38;5;241m=\u001b[39m\u001b[38;5;241m0.25\u001b[39m\n\u001b[1;32m   2651\u001b[0m )\n",
      "File \u001b[0;32m~/miniconda3/envs/varm/lib/python3.8/site-packages/sklearn/utils/validation.py:453\u001b[0m, in \u001b[0;36mindexable\u001b[0;34m(*iterables)\u001b[0m\n\u001b[1;32m    434\u001b[0m \u001b[38;5;250m\u001b[39m\u001b[38;5;124;03m\"\"\"Make arrays indexable for cross-validation.\u001b[39;00m\n\u001b[1;32m    435\u001b[0m \n\u001b[1;32m    436\u001b[0m \u001b[38;5;124;03mChecks consistent length, passes through None, and ensures that everything\u001b[39;00m\n\u001b[0;32m   (...)\u001b[0m\n\u001b[1;32m    449\u001b[0m \u001b[38;5;124;03m    sparse matrix, or dataframe) or `None`.\u001b[39;00m\n\u001b[1;32m    450\u001b[0m \u001b[38;5;124;03m\"\"\"\u001b[39;00m\n\u001b[1;32m    452\u001b[0m result \u001b[38;5;241m=\u001b[39m [_make_indexable(X) \u001b[38;5;28;01mfor\u001b[39;00m X \u001b[38;5;129;01min\u001b[39;00m iterables]\n\u001b[0;32m--> 453\u001b[0m \u001b[43mcheck_consistent_length\u001b[49m\u001b[43m(\u001b[49m\u001b[38;5;241;43m*\u001b[39;49m\u001b[43mresult\u001b[49m\u001b[43m)\u001b[49m\n\u001b[1;32m    454\u001b[0m \u001b[38;5;28;01mreturn\u001b[39;00m result\n",
      "File \u001b[0;32m~/miniconda3/envs/varm/lib/python3.8/site-packages/sklearn/utils/validation.py:407\u001b[0m, in \u001b[0;36mcheck_consistent_length\u001b[0;34m(*arrays)\u001b[0m\n\u001b[1;32m    405\u001b[0m uniques \u001b[38;5;241m=\u001b[39m np\u001b[38;5;241m.\u001b[39munique(lengths)\n\u001b[1;32m    406\u001b[0m \u001b[38;5;28;01mif\u001b[39;00m \u001b[38;5;28mlen\u001b[39m(uniques) \u001b[38;5;241m>\u001b[39m \u001b[38;5;241m1\u001b[39m:\n\u001b[0;32m--> 407\u001b[0m     \u001b[38;5;28;01mraise\u001b[39;00m \u001b[38;5;167;01mValueError\u001b[39;00m(\n\u001b[1;32m    408\u001b[0m         \u001b[38;5;124m\"\u001b[39m\u001b[38;5;124mFound input variables with inconsistent numbers of samples: \u001b[39m\u001b[38;5;132;01m%r\u001b[39;00m\u001b[38;5;124m\"\u001b[39m\n\u001b[1;32m    409\u001b[0m         \u001b[38;5;241m%\u001b[39m [\u001b[38;5;28mint\u001b[39m(l) \u001b[38;5;28;01mfor\u001b[39;00m l \u001b[38;5;129;01min\u001b[39;00m lengths]\n\u001b[1;32m    410\u001b[0m     )\n",
      "\u001b[0;31mValueError\u001b[0m: Found input variables with inconsistent numbers of samples: [4375, 4775]"
     ]
    }
   ],
   "source": [
    "from sklearn.model_selection import train_test_split\n",
    "from sklearn.preprocessing import StandardScaler\n",
    "from sklearn import svm\n",
    "\n",
    "X = all_feats.values\n",
    "y = tess_emo_rav.label\n",
    "\n",
    "X_train, X_test, y_train, y_test = train_test_split(X, y, test_size=0.3, random_state=42, shuffle=True, stratify=y)\n",
    "\n",
    "## Simple SVM(1) classifier with feature scaling (2)\n",
    "# Standardize features by removing the mean and scaling to unit variance\n",
    "scaler = StandardScaler()\n",
    "X_train_scaled = scaler.fit_transform(X_train)\n",
    "X_test_scaled = scaler.transform(X_test)"
   ]
  },
  {
   "cell_type": "code",
   "execution_count": 78,
   "id": "22fbf4cf",
   "metadata": {},
   "outputs": [
    {
     "name": "stdout",
     "output_type": "stream",
     "text": [
      "Performance SVM with feature scaling\n",
      "               precision    recall  f1-score   support\n",
      "\n",
      "       angry       0.84      0.86      0.85       216\n",
      "     boredom       0.74      0.71      0.72        24\n",
      "        calm       0.71      0.62      0.66        58\n",
      "     disgust       0.80      0.79      0.79       191\n",
      "        fear       0.81      0.79      0.80       198\n",
      "       happy       0.74      0.73      0.74       199\n",
      "     neutral       0.82      0.88      0.85       173\n",
      "         sad       0.78      0.78      0.78       196\n",
      "    surprise       0.68      0.71      0.69        58\n",
      "\n",
      "    accuracy                           0.79      1313\n",
      "   macro avg       0.77      0.76      0.77      1313\n",
      "weighted avg       0.79      0.79      0.79      1313\n",
      "\n"
     ]
    },
    {
     "data": {
      "image/png": "[encoded data removed]",
      "text/plain": [
       "<Figure size 1000x800 with 2 Axes>"
      ]
     },
     "metadata": {},
     "output_type": "display_data"
    }
   ],
   "source": [
    "\n",
    "# Train the model\n",
    "clf12 = svm.SVC(kernel='linear')\n",
    "clf12.fit(X_train_scaled, y_train)\n",
    "pred12 = clf12.predict(X_test_scaled)\n",
    "print(\"Performance SVM with feature scaling\\n\", classification_report(y_test, pred12))\n",
    "\n",
    "# Generate a confusion matrix\n",
    "cm = confusion_matrix(y_test, pred12)\n",
    "\n",
    "# Plot the confusion matrix\n",
    "plt.figure(figsize=(10, 8))\n",
    "sns.heatmap(cm, annot=True, fmt='d', cmap='Blues', xticklabels=y.unique(), yticklabels=y.unique())\n",
    "plt.xlabel('Predicted')\n",
    "plt.ylabel('True')\n",
    "plt.title('Confusion Matrix')\n",
    "plt.show()"
   ]
  },
  {
   "cell_type": "code",
   "execution_count": 79,
   "id": "4f658c5b",
   "metadata": {},
   "outputs": [
    {
     "name": "stdout",
     "output_type": "stream",
     "text": [
      "Performance RandomForest with feature scaling\n",
      "               precision    recall  f1-score   support\n",
      "\n",
      "       angry       0.85      0.89      0.87       216\n",
      "     boredom       0.92      0.92      0.92        24\n",
      "        calm       0.68      0.88      0.77        58\n",
      "     disgust       0.87      0.80      0.84       191\n",
      "        fear       0.81      0.83      0.82       198\n",
      "       happy       0.81      0.75      0.78       199\n",
      "     neutral       0.94      0.87      0.91       173\n",
      "         sad       0.84      0.87      0.85       196\n",
      "    surprise       0.62      0.62      0.62        58\n",
      "\n",
      "    accuracy                           0.83      1313\n",
      "   macro avg       0.81      0.83      0.82      1313\n",
      "weighted avg       0.83      0.83      0.83      1313\n",
      "\n"
     ]
    },
    {
     "data": {
      "image/png": "[encoded data removed]",
      "text/plain": [
       "<Figure size 1000x800 with 2 Axes>"
      ]
     },
     "metadata": {},
     "output_type": "display_data"
    }
   ],
   "source": [
    "from sklearn.ensemble import RandomForestClassifier\n",
    "clf12 = RandomForestClassifier()\n",
    "clf12.fit(X_train_scaled, y_train)\n",
    "pred12 = clf12.predict(X_test_scaled)\n",
    "print(\"Performance RandomForest with feature scaling\\n\", classification_report(y_test, pred12))\n",
    "\n",
    "# Generate a confusion matrix\n",
    "cm = confusion_matrix(y_test, pred12)\n",
    "\n",
    "# Plot the confusion matrix\n",
    "plt.figure(figsize=(10, 8))\n",
    "sns.heatmap(cm, annot=True, fmt='d', cmap='Blues', xticklabels=y.unique(), yticklabels=y.unique())\n",
    "plt.xlabel('Predicted')\n",
    "plt.ylabel('True')\n",
    "plt.title('Confusion Matrix')\n",
    "plt.show()\n"
   ]
  },
  {
   "cell_type": "markdown",
   "id": "c1aee6be",
   "metadata": {},
   "source": [
    "# Test best cross-dataset SVM with CREMA-D"
   ]
  },
  {
   "cell_type": "code",
   "execution_count": 111,
   "id": "53b9814d",
   "metadata": {},
   "outputs": [
    {
     "name": "stdout",
     "output_type": "stream",
     "text": [
      "label\n",
      "angry      1271\n",
      "disgust    1271\n",
      "sad        1271\n",
      "fear       1271\n",
      "happy      1271\n",
      "neutral    1087\n",
      "Name: count, dtype: int64\n"
     ]
    }
   ],
   "source": [
    "# Download dataset from Kaggle\n",
    "path = kagglehub.dataset_download(\"ejlok1/cremad\")\n",
    "print(\"Path to dataset files:\", path)\n",
    "# List all files in the dataset\n",
    "path = path + '/AudioWAV'\n",
    "crema_directory_list = os.listdir(path)\n",
    "print(crema_directory_list)\n",
    "\n",
    "file_emotion = []\n",
    "file_path = []\n",
    "\n",
    "for file in crema_directory_list:\n",
    "    # storing file paths\n",
    "    file_path.append(path + '/' + file)\n",
    "    # storing file emotions\n",
    "    part=file.split('_')\n",
    "    if part[2] == 'SAD':\n",
    "        file_emotion.append('sad')\n",
    "    elif part[2] == 'ANG':\n",
    "        file_emotion.append('angry')\n",
    "    elif part[2] == 'DIS':\n",
    "        file_emotion.append('disgust')\n",
    "    elif part[2] == 'FEA':\n",
    "        file_emotion.append('fear')\n",
    "    elif part[2] == 'HAP':\n",
    "        file_emotion.append('happy')\n",
    "    elif part[2] == 'NEU':\n",
    "        file_emotion.append('neutral')\n",
    "    else:\n",
    "        file_emotion.append('unknown')\n",
    "        \n",
    "# dataframe for emotion of files\n",
    "emotion_df = pd.DataFrame(file_emotion, columns=['label'])\n",
    "\n",
    "# dataframe for path of files.\n",
    "path_df = pd.DataFrame(file_path, columns=['path'])\n",
    "crema_df = pd.concat([emotion_df, path_df], axis=1)\n",
    "crema_df.head()\n",
    "print(crema_df.label.value_counts())"
   ]
  },
  {
   "cell_type": "code",
   "execution_count": 112,
   "id": "81d72789",
   "metadata": {},
   "outputs": [
    {
     "data": {
      "text/html": [
       "<div>\n",
       "<style scoped>\n",
       "    .dataframe tbody tr th:only-of-type {\n",
       "        vertical-align: middle;\n",
       "    }\n",
       "\n",
       "    .dataframe tbody tr th {\n",
       "        vertical-align: top;\n",
       "    }\n",
       "\n",
       "    .dataframe thead th {\n",
       "        text-align: right;\n",
       "    }\n",
       "</style>\n",
       "<table border=\"1\" class=\"dataframe\">\n",
       "  <thead>\n",
       "    <tr style=\"text-align: right;\">\n",
       "      <th></th>\n",
       "      <th></th>\n",
       "      <th></th>\n",
       "      <th>F0semitoneFrom27.5Hz_sma3nz_amean</th>\n",
       "      <th>F0semitoneFrom27.5Hz_sma3nz_stddevNorm</th>\n",
       "      <th>F0semitoneFrom27.5Hz_sma3nz_percentile20.0</th>\n",
       "      <th>F0semitoneFrom27.5Hz_sma3nz_percentile50.0</th>\n",
       "      <th>F0semitoneFrom27.5Hz_sma3nz_percentile80.0</th>\n",
       "      <th>F0semitoneFrom27.5Hz_sma3nz_pctlrange0-2</th>\n",
       "      <th>F0semitoneFrom27.5Hz_sma3nz_meanRisingSlope</th>\n",
       "      <th>F0semitoneFrom27.5Hz_sma3nz_stddevRisingSlope</th>\n",
       "      <th>F0semitoneFrom27.5Hz_sma3nz_meanFallingSlope</th>\n",
       "      <th>F0semitoneFrom27.5Hz_sma3nz_stddevFallingSlope</th>\n",
       "      <th>...</th>\n",
       "      <th>slopeUV0-500_sma3nz_amean</th>\n",
       "      <th>slopeUV500-1500_sma3nz_amean</th>\n",
       "      <th>spectralFluxUV_sma3nz_amean</th>\n",
       "      <th>loudnessPeaksPerSec</th>\n",
       "      <th>VoicedSegmentsPerSec</th>\n",
       "      <th>MeanVoicedSegmentLengthSec</th>\n",
       "      <th>StddevVoicedSegmentLengthSec</th>\n",
       "      <th>MeanUnvoicedSegmentLength</th>\n",
       "      <th>StddevUnvoicedSegmentLength</th>\n",
       "      <th>equivalentSoundLevel_dBp</th>\n",
       "    </tr>\n",
       "    <tr>\n",
       "      <th>file</th>\n",
       "      <th>start</th>\n",
       "      <th>end</th>\n",
       "      <th></th>\n",
       "      <th></th>\n",
       "      <th></th>\n",
       "      <th></th>\n",
       "      <th></th>\n",
       "      <th></th>\n",
       "      <th></th>\n",
       "      <th></th>\n",
       "      <th></th>\n",
       "      <th></th>\n",
       "      <th></th>\n",
       "      <th></th>\n",
       "      <th></th>\n",
       "      <th></th>\n",
       "      <th></th>\n",
       "      <th></th>\n",
       "      <th></th>\n",
       "      <th></th>\n",
       "      <th></th>\n",
       "      <th></th>\n",
       "      <th></th>\n",
       "    </tr>\n",
       "  </thead>\n",
       "  <tbody>\n",
       "    <tr>\n",
       "      <th>/Users/sofiafernandes/.cache/kagglehub/datasets/ejlok1/cremad/versions/1/AudioWAV/1022_ITS_ANG_XX.wav</th>\n",
       "      <th>0 days</th>\n",
       "      <th>0 days 00:00:02.435750</th>\n",
       "      <td>33.554379</td>\n",
       "      <td>0.133362</td>\n",
       "      <td>29.844292</td>\n",
       "      <td>32.074005</td>\n",
       "      <td>36.359715</td>\n",
       "      <td>6.515423</td>\n",
       "      <td>75.130508</td>\n",
       "      <td>37.419884</td>\n",
       "      <td>85.780258</td>\n",
       "      <td>70.062393</td>\n",
       "      <td>...</td>\n",
       "      <td>-0.001459</td>\n",
       "      <td>-0.010670</td>\n",
       "      <td>0.219415</td>\n",
       "      <td>2.066116</td>\n",
       "      <td>3.375528</td>\n",
       "      <td>0.130000</td>\n",
       "      <td>0.065000</td>\n",
       "      <td>0.162857</td>\n",
       "      <td>0.168159</td>\n",
       "      <td>-16.657373</td>\n",
       "    </tr>\n",
       "    <tr>\n",
       "      <th>/Users/sofiafernandes/.cache/kagglehub/datasets/ejlok1/cremad/versions/1/AudioWAV/1037_ITS_ANG_XX.wav</th>\n",
       "      <th>0 days</th>\n",
       "      <th>0 days 00:00:03.003000</th>\n",
       "      <td>33.797928</td>\n",
       "      <td>0.156689</td>\n",
       "      <td>27.839457</td>\n",
       "      <td>33.943745</td>\n",
       "      <td>39.205154</td>\n",
       "      <td>11.365698</td>\n",
       "      <td>213.228745</td>\n",
       "      <td>224.954208</td>\n",
       "      <td>21.323975</td>\n",
       "      <td>7.774736</td>\n",
       "      <td>...</td>\n",
       "      <td>-0.001692</td>\n",
       "      <td>-0.008970</td>\n",
       "      <td>0.104355</td>\n",
       "      <td>2.675585</td>\n",
       "      <td>2.380953</td>\n",
       "      <td>0.198571</td>\n",
       "      <td>0.097311</td>\n",
       "      <td>0.175000</td>\n",
       "      <td>0.097852</td>\n",
       "      <td>-25.951315</td>\n",
       "    </tr>\n",
       "    <tr>\n",
       "      <th>/Users/sofiafernandes/.cache/kagglehub/datasets/ejlok1/cremad/versions/1/AudioWAV/1060_ITS_NEU_XX.wav</th>\n",
       "      <th>0 days</th>\n",
       "      <th>0 days 00:00:02.402375</th>\n",
       "      <td>33.272175</td>\n",
       "      <td>0.040007</td>\n",
       "      <td>32.571785</td>\n",
       "      <td>33.174286</td>\n",
       "      <td>35.001083</td>\n",
       "      <td>2.429298</td>\n",
       "      <td>50.564014</td>\n",
       "      <td>51.252964</td>\n",
       "      <td>11.337610</td>\n",
       "      <td>5.761051</td>\n",
       "      <td>...</td>\n",
       "      <td>-0.003549</td>\n",
       "      <td>-0.005669</td>\n",
       "      <td>0.056235</td>\n",
       "      <td>2.928870</td>\n",
       "      <td>2.136752</td>\n",
       "      <td>0.082000</td>\n",
       "      <td>0.037094</td>\n",
       "      <td>0.303333</td>\n",
       "      <td>0.317263</td>\n",
       "      <td>-39.639580</td>\n",
       "    </tr>\n",
       "    <tr>\n",
       "      <th>/Users/sofiafernandes/.cache/kagglehub/datasets/ejlok1/cremad/versions/1/AudioWAV/1075_ITS_NEU_XX.wav</th>\n",
       "      <th>0 days</th>\n",
       "      <th>0 days 00:00:02.435750</th>\n",
       "      <td>33.863213</td>\n",
       "      <td>0.100446</td>\n",
       "      <td>31.627247</td>\n",
       "      <td>32.890541</td>\n",
       "      <td>36.872204</td>\n",
       "      <td>5.244957</td>\n",
       "      <td>98.765892</td>\n",
       "      <td>91.597748</td>\n",
       "      <td>127.040131</td>\n",
       "      <td>70.957596</td>\n",
       "      <td>...</td>\n",
       "      <td>-0.008016</td>\n",
       "      <td>-0.016566</td>\n",
       "      <td>0.076499</td>\n",
       "      <td>2.892562</td>\n",
       "      <td>1.687764</td>\n",
       "      <td>0.112500</td>\n",
       "      <td>0.036315</td>\n",
       "      <td>0.366000</td>\n",
       "      <td>0.337200</td>\n",
       "      <td>-37.282352</td>\n",
       "    </tr>\n",
       "    <tr>\n",
       "      <th>/Users/sofiafernandes/.cache/kagglehub/datasets/ejlok1/cremad/versions/1/AudioWAV/1073_IOM_DIS_XX.wav</th>\n",
       "      <th>0 days</th>\n",
       "      <th>0 days 00:00:02.869562500</th>\n",
       "      <td>31.973564</td>\n",
       "      <td>0.051781</td>\n",
       "      <td>29.778587</td>\n",
       "      <td>32.372501</td>\n",
       "      <td>33.615463</td>\n",
       "      <td>3.836876</td>\n",
       "      <td>4.747492</td>\n",
       "      <td>5.274123</td>\n",
       "      <td>11.323006</td>\n",
       "      <td>0.540545</td>\n",
       "      <td>...</td>\n",
       "      <td>-0.016674</td>\n",
       "      <td>-0.010002</td>\n",
       "      <td>0.067577</td>\n",
       "      <td>2.456141</td>\n",
       "      <td>0.714286</td>\n",
       "      <td>0.395000</td>\n",
       "      <td>0.135000</td>\n",
       "      <td>0.653333</td>\n",
       "      <td>0.372767</td>\n",
       "      <td>-33.866997</td>\n",
       "    </tr>\n",
       "  </tbody>\n",
       "</table>\n",
       "<p>5 rows × 88 columns</p>\n",
       "</div>"
      ],
      "text/plain": [
       "                                                                                     F0semitoneFrom27.5Hz_sma3nz_amean  \\\n",
       "file                                               start  end                                                            \n",
       "/Users/sofiafernandes/.cache/kagglehub/datasets... 0 days 0 days 00:00:02.435750                             33.554379   \n",
       "/Users/sofiafernandes/.cache/kagglehub/datasets... 0 days 0 days 00:00:03.003000                             33.797928   \n",
       "/Users/sofiafernandes/.cache/kagglehub/datasets... 0 days 0 days 00:00:02.402375                             33.272175   \n",
       "/Users/sofiafernandes/.cache/kagglehub/datasets... 0 days 0 days 00:00:02.435750                             33.863213   \n",
       "/Users/sofiafernandes/.cache/kagglehub/datasets... 0 days 0 days 00:00:02.869562500                          31.973564   \n",
       "\n",
       "                                                                                     F0semitoneFrom27.5Hz_sma3nz_stddevNorm  \\\n",
       "file                                               start  end                                                                 \n",
       "/Users/sofiafernandes/.cache/kagglehub/datasets... 0 days 0 days 00:00:02.435750                                   0.133362   \n",
       "/Users/sofiafernandes/.cache/kagglehub/datasets... 0 days 0 days 00:00:03.003000                                   0.156689   \n",
       "/Users/sofiafernandes/.cache/kagglehub/datasets... 0 days 0 days 00:00:02.402375                                   0.040007   \n",
       "/Users/sofiafernandes/.cache/kagglehub/datasets... 0 days 0 days 00:00:02.435750                                   0.100446   \n",
       "/Users/sofiafernandes/.cache/kagglehub/datasets... 0 days 0 days 00:00:02.869562500                                0.051781   \n",
       "\n",
       "                                                                                     F0semitoneFrom27.5Hz_sma3nz_percentile20.0  \\\n",
       "file                                               start  end                                                                     \n",
       "/Users/sofiafernandes/.cache/kagglehub/datasets... 0 days 0 days 00:00:02.435750                                      29.844292   \n",
       "/Users/sofiafernandes/.cache/kagglehub/datasets... 0 days 0 days 00:00:03.003000                                      27.839457   \n",
       "/Users/sofiafernandes/.cache/kagglehub/datasets... 0 days 0 days 00:00:02.402375                                      32.571785   \n",
       "/Users/sofiafernandes/.cache/kagglehub/datasets... 0 days 0 days 00:00:02.435750                                      31.627247   \n",
       "/Users/sofiafernandes/.cache/kagglehub/datasets... 0 days 0 days 00:00:02.869562500                                   29.778587   \n",
       "\n",
       "                                                                                     F0semitoneFrom27.5Hz_sma3nz_percentile50.0  \\\n",
       "file                                               start  end                                                                     \n",
       "/Users/sofiafernandes/.cache/kagglehub/datasets... 0 days 0 days 00:00:02.435750                                      32.074005   \n",
       "/Users/sofiafernandes/.cache/kagglehub/datasets... 0 days 0 days 00:00:03.003000                                      33.943745   \n",
       "/Users/sofiafernandes/.cache/kagglehub/datasets... 0 days 0 days 00:00:02.402375                                      33.174286   \n",
       "/Users/sofiafernandes/.cache/kagglehub/datasets... 0 days 0 days 00:00:02.435750                                      32.890541   \n",
       "/Users/sofiafernandes/.cache/kagglehub/datasets... 0 days 0 days 00:00:02.869562500                                   32.372501   \n",
       "\n",
       "                                                                                     F0semitoneFrom27.5Hz_sma3nz_percentile80.0  \\\n",
       "file                                               start  end                                                                     \n",
       "/Users/sofiafernandes/.cache/kagglehub/datasets... 0 days 0 days 00:00:02.435750                                      36.359715   \n",
       "/Users/sofiafernandes/.cache/kagglehub/datasets... 0 days 0 days 00:00:03.003000                                      39.205154   \n",
       "/Users/sofiafernandes/.cache/kagglehub/datasets... 0 days 0 days 00:00:02.402375                                      35.001083   \n",
       "/Users/sofiafernandes/.cache/kagglehub/datasets... 0 days 0 days 00:00:02.435750                                      36.872204   \n",
       "/Users/sofiafernandes/.cache/kagglehub/datasets... 0 days 0 days 00:00:02.869562500                                   33.615463   \n",
       "\n",
       "                                                                                     F0semitoneFrom27.5Hz_sma3nz_pctlrange0-2  \\\n",
       "file                                               start  end                                                                   \n",
       "/Users/sofiafernandes/.cache/kagglehub/datasets... 0 days 0 days 00:00:02.435750                                     6.515423   \n",
       "/Users/sofiafernandes/.cache/kagglehub/datasets... 0 days 0 days 00:00:03.003000                                    11.365698   \n",
       "/Users/sofiafernandes/.cache/kagglehub/datasets... 0 days 0 days 00:00:02.402375                                     2.429298   \n",
       "/Users/sofiafernandes/.cache/kagglehub/datasets... 0 days 0 days 00:00:02.435750                                     5.244957   \n",
       "/Users/sofiafernandes/.cache/kagglehub/datasets... 0 days 0 days 00:00:02.869562500                                  3.836876   \n",
       "\n",
       "                                                                                     F0semitoneFrom27.5Hz_sma3nz_meanRisingSlope  \\\n",
       "file                                               start  end                                                                      \n",
       "/Users/sofiafernandes/.cache/kagglehub/datasets... 0 days 0 days 00:00:02.435750                                       75.130508   \n",
       "/Users/sofiafernandes/.cache/kagglehub/datasets... 0 days 0 days 00:00:03.003000                                      213.228745   \n",
       "/Users/sofiafernandes/.cache/kagglehub/datasets... 0 days 0 days 00:00:02.402375                                       50.564014   \n",
       "/Users/sofiafernandes/.cache/kagglehub/datasets... 0 days 0 days 00:00:02.435750                                       98.765892   \n",
       "/Users/sofiafernandes/.cache/kagglehub/datasets... 0 days 0 days 00:00:02.869562500                                     4.747492   \n",
       "\n",
       "                                                                                     F0semitoneFrom27.5Hz_sma3nz_stddevRisingSlope  \\\n",
       "file                                               start  end                                                                        \n",
       "/Users/sofiafernandes/.cache/kagglehub/datasets... 0 days 0 days 00:00:02.435750                                         37.419884   \n",
       "/Users/sofiafernandes/.cache/kagglehub/datasets... 0 days 0 days 00:00:03.003000                                        224.954208   \n",
       "/Users/sofiafernandes/.cache/kagglehub/datasets... 0 days 0 days 00:00:02.402375                                         51.252964   \n",
       "/Users/sofiafernandes/.cache/kagglehub/datasets... 0 days 0 days 00:00:02.435750                                         91.597748   \n",
       "/Users/sofiafernandes/.cache/kagglehub/datasets... 0 days 0 days 00:00:02.869562500                                       5.274123   \n",
       "\n",
       "                                                                                     F0semitoneFrom27.5Hz_sma3nz_meanFallingSlope  \\\n",
       "file                                               start  end                                                                       \n",
       "/Users/sofiafernandes/.cache/kagglehub/datasets... 0 days 0 days 00:00:02.435750                                        85.780258   \n",
       "/Users/sofiafernandes/.cache/kagglehub/datasets... 0 days 0 days 00:00:03.003000                                        21.323975   \n",
       "/Users/sofiafernandes/.cache/kagglehub/datasets... 0 days 0 days 00:00:02.402375                                        11.337610   \n",
       "/Users/sofiafernandes/.cache/kagglehub/datasets... 0 days 0 days 00:00:02.435750                                       127.040131   \n",
       "/Users/sofiafernandes/.cache/kagglehub/datasets... 0 days 0 days 00:00:02.869562500                                     11.323006   \n",
       "\n",
       "                                                                                     F0semitoneFrom27.5Hz_sma3nz_stddevFallingSlope  \\\n",
       "file                                               start  end                                                                         \n",
       "/Users/sofiafernandes/.cache/kagglehub/datasets... 0 days 0 days 00:00:02.435750                                          70.062393   \n",
       "/Users/sofiafernandes/.cache/kagglehub/datasets... 0 days 0 days 00:00:03.003000                                           7.774736   \n",
       "/Users/sofiafernandes/.cache/kagglehub/datasets... 0 days 0 days 00:00:02.402375                                           5.761051   \n",
       "/Users/sofiafernandes/.cache/kagglehub/datasets... 0 days 0 days 00:00:02.435750                                          70.957596   \n",
       "/Users/sofiafernandes/.cache/kagglehub/datasets... 0 days 0 days 00:00:02.869562500                                        0.540545   \n",
       "\n",
       "                                                                                     ...  \\\n",
       "file                                               start  end                        ...   \n",
       "/Users/sofiafernandes/.cache/kagglehub/datasets... 0 days 0 days 00:00:02.435750     ...   \n",
       "/Users/sofiafernandes/.cache/kagglehub/datasets... 0 days 0 days 00:00:03.003000     ...   \n",
       "/Users/sofiafernandes/.cache/kagglehub/datasets... 0 days 0 days 00:00:02.402375     ...   \n",
       "/Users/sofiafernandes/.cache/kagglehub/datasets... 0 days 0 days 00:00:02.435750     ...   \n",
       "/Users/sofiafernandes/.cache/kagglehub/datasets... 0 days 0 days 00:00:02.869562500  ...   \n",
       "\n",
       "                                                                                     slopeUV0-500_sma3nz_amean  \\\n",
       "file                                               start  end                                                    \n",
       "/Users/sofiafernandes/.cache/kagglehub/datasets... 0 days 0 days 00:00:02.435750                     -0.001459   \n",
       "/Users/sofiafernandes/.cache/kagglehub/datasets... 0 days 0 days 00:00:03.003000                     -0.001692   \n",
       "/Users/sofiafernandes/.cache/kagglehub/datasets... 0 days 0 days 00:00:02.402375                     -0.003549   \n",
       "/Users/sofiafernandes/.cache/kagglehub/datasets... 0 days 0 days 00:00:02.435750                     -0.008016   \n",
       "/Users/sofiafernandes/.cache/kagglehub/datasets... 0 days 0 days 00:00:02.869562500                  -0.016674   \n",
       "\n",
       "                                                                                     slopeUV500-1500_sma3nz_amean  \\\n",
       "file                                               start  end                                                       \n",
       "/Users/sofiafernandes/.cache/kagglehub/datasets... 0 days 0 days 00:00:02.435750                        -0.010670   \n",
       "/Users/sofiafernandes/.cache/kagglehub/datasets... 0 days 0 days 00:00:03.003000                        -0.008970   \n",
       "/Users/sofiafernandes/.cache/kagglehub/datasets... 0 days 0 days 00:00:02.402375                        -0.005669   \n",
       "/Users/sofiafernandes/.cache/kagglehub/datasets... 0 days 0 days 00:00:02.435750                        -0.016566   \n",
       "/Users/sofiafernandes/.cache/kagglehub/datasets... 0 days 0 days 00:00:02.869562500                     -0.010002   \n",
       "\n",
       "                                                                                     spectralFluxUV_sma3nz_amean  \\\n",
       "file                                               start  end                                                      \n",
       "/Users/sofiafernandes/.cache/kagglehub/datasets... 0 days 0 days 00:00:02.435750                        0.219415   \n",
       "/Users/sofiafernandes/.cache/kagglehub/datasets... 0 days 0 days 00:00:03.003000                        0.104355   \n",
       "/Users/sofiafernandes/.cache/kagglehub/datasets... 0 days 0 days 00:00:02.402375                        0.056235   \n",
       "/Users/sofiafernandes/.cache/kagglehub/datasets... 0 days 0 days 00:00:02.435750                        0.076499   \n",
       "/Users/sofiafernandes/.cache/kagglehub/datasets... 0 days 0 days 00:00:02.869562500                     0.067577   \n",
       "\n",
       "                                                                                     loudnessPeaksPerSec  \\\n",
       "file                                               start  end                                              \n",
       "/Users/sofiafernandes/.cache/kagglehub/datasets... 0 days 0 days 00:00:02.435750                2.066116   \n",
       "/Users/sofiafernandes/.cache/kagglehub/datasets... 0 days 0 days 00:00:03.003000                2.675585   \n",
       "/Users/sofiafernandes/.cache/kagglehub/datasets... 0 days 0 days 00:00:02.402375                2.928870   \n",
       "/Users/sofiafernandes/.cache/kagglehub/datasets... 0 days 0 days 00:00:02.435750                2.892562   \n",
       "/Users/sofiafernandes/.cache/kagglehub/datasets... 0 days 0 days 00:00:02.869562500             2.456141   \n",
       "\n",
       "                                                                                     VoicedSegmentsPerSec  \\\n",
       "file                                               start  end                                               \n",
       "/Users/sofiafernandes/.cache/kagglehub/datasets... 0 days 0 days 00:00:02.435750                 3.375528   \n",
       "/Users/sofiafernandes/.cache/kagglehub/datasets... 0 days 0 days 00:00:03.003000                 2.380953   \n",
       "/Users/sofiafernandes/.cache/kagglehub/datasets... 0 days 0 days 00:00:02.402375                 2.136752   \n",
       "/Users/sofiafernandes/.cache/kagglehub/datasets... 0 days 0 days 00:00:02.435750                 1.687764   \n",
       "/Users/sofiafernandes/.cache/kagglehub/datasets... 0 days 0 days 00:00:02.869562500              0.714286   \n",
       "\n",
       "                                                                                     MeanVoicedSegmentLengthSec  \\\n",
       "file                                               start  end                                                     \n",
       "/Users/sofiafernandes/.cache/kagglehub/datasets... 0 days 0 days 00:00:02.435750                       0.130000   \n",
       "/Users/sofiafernandes/.cache/kagglehub/datasets... 0 days 0 days 00:00:03.003000                       0.198571   \n",
       "/Users/sofiafernandes/.cache/kagglehub/datasets... 0 days 0 days 00:00:02.402375                       0.082000   \n",
       "/Users/sofiafernandes/.cache/kagglehub/datasets... 0 days 0 days 00:00:02.435750                       0.112500   \n",
       "/Users/sofiafernandes/.cache/kagglehub/datasets... 0 days 0 days 00:00:02.869562500                    0.395000   \n",
       "\n",
       "                                                                                     StddevVoicedSegmentLengthSec  \\\n",
       "file                                               start  end                                                       \n",
       "/Users/sofiafernandes/.cache/kagglehub/datasets... 0 days 0 days 00:00:02.435750                         0.065000   \n",
       "/Users/sofiafernandes/.cache/kagglehub/datasets... 0 days 0 days 00:00:03.003000                         0.097311   \n",
       "/Users/sofiafernandes/.cache/kagglehub/datasets... 0 days 0 days 00:00:02.402375                         0.037094   \n",
       "/Users/sofiafernandes/.cache/kagglehub/datasets... 0 days 0 days 00:00:02.435750                         0.036315   \n",
       "/Users/sofiafernandes/.cache/kagglehub/datasets... 0 days 0 days 00:00:02.869562500                      0.135000   \n",
       "\n",
       "                                                                                     MeanUnvoicedSegmentLength  \\\n",
       "file                                               start  end                                                    \n",
       "/Users/sofiafernandes/.cache/kagglehub/datasets... 0 days 0 days 00:00:02.435750                      0.162857   \n",
       "/Users/sofiafernandes/.cache/kagglehub/datasets... 0 days 0 days 00:00:03.003000                      0.175000   \n",
       "/Users/sofiafernandes/.cache/kagglehub/datasets... 0 days 0 days 00:00:02.402375                      0.303333   \n",
       "/Users/sofiafernandes/.cache/kagglehub/datasets... 0 days 0 days 00:00:02.435750                      0.366000   \n",
       "/Users/sofiafernandes/.cache/kagglehub/datasets... 0 days 0 days 00:00:02.869562500                   0.653333   \n",
       "\n",
       "                                                                                     StddevUnvoicedSegmentLength  \\\n",
       "file                                               start  end                                                      \n",
       "/Users/sofiafernandes/.cache/kagglehub/datasets... 0 days 0 days 00:00:02.435750                        0.168159   \n",
       "/Users/sofiafernandes/.cache/kagglehub/datasets... 0 days 0 days 00:00:03.003000                        0.097852   \n",
       "/Users/sofiafernandes/.cache/kagglehub/datasets... 0 days 0 days 00:00:02.402375                        0.317263   \n",
       "/Users/sofiafernandes/.cache/kagglehub/datasets... 0 days 0 days 00:00:02.435750                        0.337200   \n",
       "/Users/sofiafernandes/.cache/kagglehub/datasets... 0 days 0 days 00:00:02.869562500                     0.372767   \n",
       "\n",
       "                                                                                     equivalentSoundLevel_dBp  \n",
       "file                                               start  end                                                  \n",
       "/Users/sofiafernandes/.cache/kagglehub/datasets... 0 days 0 days 00:00:02.435750                   -16.657373  \n",
       "/Users/sofiafernandes/.cache/kagglehub/datasets... 0 days 0 days 00:00:03.003000                   -25.951315  \n",
       "/Users/sofiafernandes/.cache/kagglehub/datasets... 0 days 0 days 00:00:02.402375                   -39.639580  \n",
       "/Users/sofiafernandes/.cache/kagglehub/datasets... 0 days 0 days 00:00:02.435750                   -37.282352  \n",
       "/Users/sofiafernandes/.cache/kagglehub/datasets... 0 days 0 days 00:00:02.869562500                -33.866997  \n",
       "\n",
       "[5 rows x 88 columns]"
      ]
     },
     "execution_count": 112,
     "metadata": {},
     "output_type": "execute_result"
    }
   ],
   "source": [
    "X_crema = smile.process_files(crema_df['path'])\n",
    "#X_crema.to_csv(\"CREMA-D_features.csv\")\n",
    "X_crema.head()"
   ]
  },
  {
   "cell_type": "code",
   "execution_count": 118,
   "id": "ea81e4da",
   "metadata": {},
   "outputs": [
    {
     "name": "stdout",
     "output_type": "stream",
     "text": [
      "Performance RandomForest with feature scaling\n",
      "               precision    recall  f1-score   support\n",
      "\n",
      "       angry       0.71      0.22      0.34      1271\n",
      "     boredom       0.00      0.00      0.00         0\n",
      "        calm       0.00      0.00      0.00         0\n",
      "     disgust       0.26      0.31      0.28      1271\n",
      "        fear       0.28      0.28      0.28      1271\n",
      "       happy       0.44      0.07      0.12      1271\n",
      "     neutral       0.15      0.11      0.12      1087\n",
      "         sad       0.26      0.64      0.37      1271\n",
      "    surprise       0.00      0.00      0.00         0\n",
      "\n",
      "    accuracy                           0.28      7442\n",
      "   macro avg       0.23      0.18      0.17      7442\n",
      "weighted avg       0.35      0.28      0.26      7442\n",
      "\n"
     ]
    },
    {
     "data": {
      "image/png": "[encoded data removed]",
      "text/plain": [
       "<Figure size 1000x800 with 2 Axes>"
      ]
     },
     "metadata": {},
     "output_type": "display_data"
    }
   ],
   "source": [
    "X_cr = X_crema.values\n",
    "y_crema = crema_df.label\n",
    "\n",
    "X_crema_scaled = scaler.transform(X_cr)\n",
    "\n",
    "pred_crema = clf12.predict(X_crema_scaled)\n",
    "print(\"Performance RandomForest with feature scaling\\n\", classification_report(y_crema, pred_crema))\n",
    "\n",
    "# Generate a confusion matrix\n",
    "cm = confusion_matrix(y_crema, pred_crema)\n",
    "\n",
    "# Plot the confusion matrix\n",
    "plt.figure(figsize=(10, 8))\n",
    "sns.heatmap(cm, annot=True, fmt='d', cmap='Blues', xticklabels=y.unique(), yticklabels=y.unique())\n",
    "plt.xlabel('Predicted')\n",
    "plt.ylabel('True')\n",
    "plt.title('Confusion Matrix')\n",
    "plt.show()"
   ]
  },
  {
   "cell_type": "markdown",
   "id": "59089173",
   "metadata": {},
   "source": [
    "# SAVEE"
   ]
  },
  {
   "cell_type": "code",
   "execution_count": 122,
   "id": "c2181d6d",
   "metadata": {},
   "outputs": [
    {
     "name": "stdout",
     "output_type": "stream",
     "text": [
      "Warning: Looks like you're using an outdated `kagglehub` version, please consider updating (latest version: 0.3.12)\n",
      "Path to dataset files: /Users/sofiafernandes/.cache/kagglehub/datasets/ejlok1/surrey-audiovisual-expressed-emotion-savee/versions/1\n",
      "['JK_sa01.wav', 'JK_sa15.wav', 'DC_n13.wav', 'DC_su09.wav', 'DC_n07.wav', 'JK_n20.wav', 'JK_n08.wav', 'JE_sa08.wav', 'JK_f15.wav', 'JK_f01.wav', 'KL_sa13.wav', 'KL_sa07.wav', 'JK_d03.wav', 'DC_h01.wav', 'DC_h15.wav', 'DC_h14.wav', 'JK_d02.wav', 'KL_sa06.wav', 'KL_sa12.wav', 'JK_f14.wav', 'JE_sa09.wav', 'JK_n09.wav', 'JK_n21.wav', 'DC_n06.wav', 'DC_n12.wav', 'DC_su08.wav', 'JK_sa14.wav', 'JK_sa02.wav', 'DC_n04.wav', 'DC_n10.wav', 'JK_n23.wav', 'JK_f02.wav', 'KL_sa04.wav', 'KL_sa10.wav', 'JK_d14.wav', 'DC_h02.wav', 'DC_h03.wav', 'JK_d15.wav', 'KL_sa11.wav', 'JK_d01.wav', 'KL_sa05.wav', 'JK_f03.wav', 'JK_n22.wav', 'DC_n11.wav', 'DC_n05.wav', 'JK_sa03.wav', 'JK_sa13.wav', 'JK_sa07.wav', 'DC_n29.wav', 'DC_n01.wav', 'DC_n15.wav', 'JK_n26.wav', 'JK_f07.wav', 'JK_f13.wav', 'JK_h08.wav', 'KL_sa01.wav', 'JK_d05.wav', 'KL_sa15.wav', 'JK_d11.wav', 'DC_f08.wav', 'DC_h13.wav', 'KL_a09.wav', 'DC_h07.wav', 'DC_h06.wav', 'DC_h12.wav', 'KL_a08.wav', 'DC_f09.wav', 'JK_d10.wav', 'KL_sa14.wav', 'JK_d04.wav', 'JK_h09.wav', 'JK_f12.wav', 'JK_f06.wav', 'JK_n27.wav', 'DC_n14.wav', 'DC_n28.wav', 'JK_sa06.wav', 'JK_sa12.wav', 'JK_sa04.wav', 'JK_sa10.wav', 'DC_n16.wav', 'DC_n02.wav', 'JK_n19.wav', 'JK_n25.wav', 'JE_a09.wav', 'JK_f10.wav', 'JK_f04.wav', 'DC_d09.wav', 'JK_d12.wav', 'KL_sa02.wav', 'JK_d06.wav', 'DC_h04.wav', 'DC_h10.wav', 'DC_h11.wav', 'DC_h05.wav', 'JK_d07.wav', 'KL_sa03.wav', 'JK_d13.wav', 'DC_d08.wav', 'JK_f05.wav', 'JK_f11.wav', 'JK_n30.wav', 'JK_n24.wav', 'JE_a08.wav', 'JK_n18.wav', 'DC_n03.wav', 'DC_n17.wav', 'JK_sa11.wav', 'JK_sa05.wav', 'KL_n17.wav', 'KL_n03.wav', 'JE_su04.wav', 'JE_su10.wav', 'JE_h12.wav', 'JE_h06.wav', 'JE_f09.wav', 'JE_n14.wav', 'JK_a10.wav', 'JE_n28.wav', 'JK_a04.wav', 'KL_d08.wav', 'DC_sa11.wav', 'DC_sa05.wav', 'KL_h05.wav', 'KL_h11.wav', 'KL_h10.wav', 'KL_h04.wav', 'DC_sa04.wav', 'DC_sa10.wav', 'KL_d09.wav', 'JE_n29.wav', 'JK_a05.wav', 'JK_a11.wav', 'JE_n15.wav', 'JE_n01.wav', 'JE_f08.wav', 'JE_h07.wav', 'JE_h13.wav', 'JE_su11.wav', 'JE_su05.wav', 'KL_n02.wav', 'KL_n16.wav', 'KL_n14.wav', 'JE_su13.wav', 'JE_su07.wav', 'KL_n28.wav', 'JE_d08.wav', 'JE_h05.wav', 'KL_su08.wav', 'JE_h11.wav', 'JE_n17.wav', 'JE_n03.wav', 'JK_a07.wav', 'JK_a13.wav', 'DC_sa06.wav', 'DC_sa12.wav', 'KL_h12.wav', 'DC_a08.wav', 'KL_h06.wav', 'KL_f09.wav', 'KL_f08.wav', 'KL_h07.wav', 'KL_h13.wav', 'DC_a09.wav', 'DC_sa13.wav', 'DC_sa07.wav', 'JK_a12.wav', 'JK_a06.wav', 'JE_n02.wav', 'JE_n16.wav', 'KL_su09.wav', 'JE_h10.wav', 'JE_h04.wav', 'JE_d09.wav', 'KL_n29.wav', 'JE_su06.wav', 'JE_su12.wav', 'KL_n15.wav', 'KL_n01.wav', 'JE_su02.wav', 'KL_n05.wav', 'KL_n11.wav', 'JE_h14.wav', 'JK_a02.wav', 'JE_n12.wav', 'JE_n06.wav', 'DC_sa03.wav', 'KL_h03.wav', 'KL_h02.wav', 'DC_sa02.wav', 'JE_n07.wav', 'JE_n13.wav', 'JK_a03.wav', 'JE_h15.wav', 'JE_h01.wav', 'KL_n10.wav', 'KL_n04.wav', 'JE_su03.wav', 'JE_su01.wav', 'JE_su15.wav', 'KL_n12.wav', 'KL_n06.wav', 'JE_h03.wav', 'JK_a15.wav', 'JK_a01.wav', 'JE_n05.wav', 'JK_su08.wav', 'JE_n11.wav', 'DC_sa14.wav', 'KL_h14.wav', 'KL_h15.wav', 'KL_h01.wav', 'DC_sa01.wav', 'DC_sa15.wav', 'JK_su09.wav', 'JE_n10.wav', 'JE_n04.wav', 'JK_a14.wav', 'JE_h02.wav', 'KL_n07.wav', 'KL_n13.wav', 'JE_su14.wav', 'KL_n22.wav', 'JE_d02.wav', 'KL_su02.wav', 'JE_f14.wav', 'JE_n21.wav', 'JK_su04.wav', 'JE_n09.wav', 'JK_su10.wav', 'KL_d01.wav', 'KL_d15.wav', 'DC_a02.wav', 'KL_f03.wav', 'KL_f02.wav', 'DC_a03.wav', 'KL_d14.wav', 'JE_n08.wav', 'JK_su11.wav', 'JK_su05.wav', 'JE_n20.wav', 'JE_f01.wav', 'JE_f15.wav', 'KL_su03.wav', 'JE_d03.wav', 'KL_n23.wav', 'KL_n21.wav', 'KL_n09.wav', 'JE_d01.wav', 'JE_d15.wav', 'KL_su01.wav', 'KL_su15.wav', 'JE_f03.wav', 'JE_n22.wav', 'JK_su13.wav', 'JK_su07.wav', 'KL_d02.wav', 'DC_a15.wav', 'DC_a01.wav', 'KL_f14.wav', 'KL_f01.wav', 'KL_f15.wav', 'DC_a14.wav', 'KL_d03.wav', 'JK_su06.wav', 'JK_su12.wav', 'JE_n23.wav', 'JE_f02.wav', 'KL_su14.wav', 'JE_d14.wav', 'KL_n08.wav', 'KL_n20.wav', 'KL_n18.wav', 'KL_n24.wav', 'KL_n30.wav', 'JE_d04.wav', 'JE_d10.wav', 'KL_su04.wav', 'JE_h09.wav', 'KL_su10.wav', 'JE_f06.wav', 'JE_f12.wav', 'JK_su02.wav', 'JE_n27.wav', 'KL_d13.wav', 'KL_d07.wav', 'DC_a10.wav', 'DC_a04.wav', 'KL_f11.wav', 'KL_f05.wav', 'KL_f04.wav', 'KL_f10.wav', 'DC_a05.wav', 'DC_a11.wav', 'KL_d06.wav', 'KL_d12.wav', 'JE_n26.wav', 'JK_su03.wav', 'JE_f13.wav', 'JE_f07.wav', 'JE_h08.wav', 'KL_su11.wav', 'KL_su05.wav', 'JE_d11.wav', 'JE_d05.wav', 'KL_n25.wav', 'KL_n19.wav', 'KL_n27.wav', 'JE_su08.wav', 'JE_d13.wav', 'JE_d07.wav', 'KL_su13.wav', 'KL_su07.wav', 'JE_f11.wav', 'JE_f05.wav', 'JE_n18.wav', 'JK_su01.wav', 'JK_su15.wav', 'JE_n24.wav', 'JK_a08.wav', 'JE_n30.wav', 'KL_d04.wav', 'KL_d10.wav', 'DC_sa09.wav', 'DC_a07.wav', 'KL_h09.wav', 'DC_a13.wav', 'KL_f06.wav', 'KL_f12.wav', 'KL_f13.wav', 'KL_f07.wav', 'KL_h08.wav', 'DC_a12.wav', 'DC_a06.wav', 'DC_sa08.wav', 'KL_d11.wav', 'KL_d05.wav', 'JE_n25.wav', 'JK_a09.wav', 'JK_su14.wav', 'JE_n19.wav', 'JE_f04.wav', 'JE_f10.wav', 'KL_su06.wav', 'KL_su12.wav', 'JE_d06.wav', 'JE_d12.wav', 'JE_su09.wav', 'KL_n26.wav', 'JK_sa08.wav', 'DC_n26.wav', 'DC_su14.wav', 'JK_n01.wav', 'JK_n15.wav', 'JE_a11.wav', 'JK_n29.wav', 'JE_a05.wav', 'JK_f08.wav', 'DC_d05.wav', 'JE_sa01.wav', 'JE_sa15.wav', 'DC_d11.wav', 'JK_h13.wav', 'JK_h07.wav', 'DC_f07.wav', 'DC_f13.wav', 'KL_a06.wav', 'DC_h08.wav', 'KL_a12.wav', 'DC_h09.wav', 'KL_a13.wav', 'KL_a07.wav', 'DC_f12.wav', 'DC_f06.wav', 'JK_h06.wav', 'JK_h12.wav', 'JE_sa14.wav', 'DC_d10.wav', 'DC_d04.wav', 'JK_f09.wav', 'JK_n28.wav', 'JE_a04.wav', 'JE_a10.wav', 'JK_n14.wav', 'DC_su01.wav', 'DC_su15.wav', 'DC_n27.wav', 'JK_sa09.wav', 'DC_n25.wav', 'DC_n19.wav', 'DC_su03.wav', 'JK_n16.wav', 'JK_n02.wav', 'JE_a06.wav', 'JE_a12.wav', 'DC_d12.wav', 'JE_sa02.wav', 'DC_d06.wav', 'JK_h04.wav', 'JK_h10.wav', 'JK_d09.wav', 'DC_f10.wav', 'DC_f04.wav', 'KL_a11.wav', 'KL_a05.wav', 'KL_a04.wav', 'KL_a10.wav', 'DC_f05.wav', 'DC_f11.wav', 'JK_d08.wav', 'JK_h11.wav', 'JK_h05.wav', 'JE_sa03.wav', 'DC_d07.wav', 'DC_d13.wav', 'JE_a13.wav', 'JE_a07.wav', 'JK_n03.wav', 'JK_n17.wav', 'DC_n18.wav', 'DC_su02.wav', 'DC_n30.wav', 'DC_n24.wav', 'DC_su06.wav', 'DC_n08.wav', 'DC_su12.wav', 'DC_n20.wav', 'JE_a03.wav', 'JK_n13.wav', 'JK_n07.wav', 'JE_sa13.wav', 'DC_d03.wav', 'JE_sa07.wav', 'JK_h01.wav', 'JK_h15.wav', 'DC_f15.wav', 'DC_f01.wav', 'KL_sa08.wav', 'KL_a14.wav', 'KL_a01.wav', 'KL_a15.wav', 'KL_sa09.wav', 'DC_f14.wav', 'JK_h14.wav', 'DC_d02.wav', 'JE_sa06.wav', 'JE_sa12.wav', 'JK_n06.wav', 'JK_n12.wav', 'JE_a02.wav', 'DC_n21.wav', 'DC_n09.wav', 'DC_su13.wav', 'DC_su07.wav', 'DC_su11.wav', 'DC_su05.wav', 'DC_n23.wav', 'JE_a14.wav', 'JK_n04.wav', 'JK_n10.wav', 'JE_sa04.wav', 'DC_d14.wav', 'JE_sa10.wav', 'JK_h02.wav', 'DC_f02.wav', 'KL_a03.wav', 'KL_a02.wav', 'DC_f03.wav', 'JK_h03.wav', 'DC_d15.wav', 'JE_sa11.wav', 'JE_sa05.wav', 'DC_d01.wav', 'JK_n11.wav', 'JK_n05.wav', 'JE_a01.wav', 'JE_a15.wav', 'DC_n22.wav', 'DC_su04.wav', 'DC_su10.wav']\n"
     ]
    }
   ],
   "source": [
    "# Download dataset from Kaggle\n",
    "path = kagglehub.dataset_download(\"ejlok1/surrey-audiovisual-expressed-emotion-savee\")\n",
    "print(\"Path to dataset files:\", path)\n",
    "# List all files in the dataset\n",
    "#path = path + '/AudioWAV'\n",
    "savee_dir = path+'/ALL'\n",
    "print(os.listdir(savee_dir))"
   ]
  },
  {
   "cell_type": "code",
   "execution_count": 124,
   "id": "7544ecac",
   "metadata": {},
   "outputs": [
    {
     "name": "stdout",
     "output_type": "stream",
     "text": [
      "label\n",
      "neutral     120\n",
      "sad          60\n",
      "surprise     60\n",
      "fear         60\n",
      "disgust      60\n",
      "happy        60\n",
      "angry        60\n",
      "Name: count, dtype: int64\n"
     ]
    }
   ],
   "source": [
    "savee_directory_list = os.listdir(savee_dir)\n",
    "\n",
    "file_emotion = []\n",
    "file_path = []\n",
    "\n",
    "for file in savee_directory_list:\n",
    "    file_path.append(savee_dir + '/' + file)\n",
    "    part = file.split('_')[1]\n",
    "    ele = part[:-6]\n",
    "    if ele=='a':\n",
    "        file_emotion.append('angry')\n",
    "    elif ele=='d':\n",
    "        file_emotion.append('disgust')\n",
    "    elif ele=='f':\n",
    "        file_emotion.append('fear')\n",
    "    elif ele=='h':\n",
    "        file_emotion.append('happy')\n",
    "    elif ele=='n':\n",
    "        file_emotion.append('neutral')\n",
    "    elif ele=='sa':\n",
    "        file_emotion.append('sad')\n",
    "    else:\n",
    "        file_emotion.append('surprise')\n",
    "        \n",
    "# dataframe for emotion of files\n",
    "emotion_df = pd.DataFrame(file_emotion, columns=['label'])\n",
    "\n",
    "# dataframe for path of files.\n",
    "path_df = pd.DataFrame(file_path, columns=['path'])\n",
    "savee_df = pd.concat([emotion_df, path_df], axis=1)\n",
    "savee_df.head()\n",
    "print(savee_df.label.value_counts())"
   ]
  },
  {
   "cell_type": "code",
   "execution_count": 125,
   "id": "5e841cac",
   "metadata": {},
   "outputs": [
    {
     "data": {
      "text/html": [
       "<div>\n",
       "<style scoped>\n",
       "    .dataframe tbody tr th:only-of-type {\n",
       "        vertical-align: middle;\n",
       "    }\n",
       "\n",
       "    .dataframe tbody tr th {\n",
       "        vertical-align: top;\n",
       "    }\n",
       "\n",
       "    .dataframe thead th {\n",
       "        text-align: right;\n",
       "    }\n",
       "</style>\n",
       "<table border=\"1\" class=\"dataframe\">\n",
       "  <thead>\n",
       "    <tr style=\"text-align: right;\">\n",
       "      <th></th>\n",
       "      <th></th>\n",
       "      <th></th>\n",
       "      <th>F0semitoneFrom27.5Hz_sma3nz_amean</th>\n",
       "      <th>F0semitoneFrom27.5Hz_sma3nz_stddevNorm</th>\n",
       "      <th>F0semitoneFrom27.5Hz_sma3nz_percentile20.0</th>\n",
       "      <th>F0semitoneFrom27.5Hz_sma3nz_percentile50.0</th>\n",
       "      <th>F0semitoneFrom27.5Hz_sma3nz_percentile80.0</th>\n",
       "      <th>F0semitoneFrom27.5Hz_sma3nz_pctlrange0-2</th>\n",
       "      <th>F0semitoneFrom27.5Hz_sma3nz_meanRisingSlope</th>\n",
       "      <th>F0semitoneFrom27.5Hz_sma3nz_stddevRisingSlope</th>\n",
       "      <th>F0semitoneFrom27.5Hz_sma3nz_meanFallingSlope</th>\n",
       "      <th>F0semitoneFrom27.5Hz_sma3nz_stddevFallingSlope</th>\n",
       "      <th>...</th>\n",
       "      <th>slopeUV0-500_sma3nz_amean</th>\n",
       "      <th>slopeUV500-1500_sma3nz_amean</th>\n",
       "      <th>spectralFluxUV_sma3nz_amean</th>\n",
       "      <th>loudnessPeaksPerSec</th>\n",
       "      <th>VoicedSegmentsPerSec</th>\n",
       "      <th>MeanVoicedSegmentLengthSec</th>\n",
       "      <th>StddevVoicedSegmentLengthSec</th>\n",
       "      <th>MeanUnvoicedSegmentLength</th>\n",
       "      <th>StddevUnvoicedSegmentLength</th>\n",
       "      <th>equivalentSoundLevel_dBp</th>\n",
       "    </tr>\n",
       "    <tr>\n",
       "      <th>file</th>\n",
       "      <th>start</th>\n",
       "      <th>end</th>\n",
       "      <th></th>\n",
       "      <th></th>\n",
       "      <th></th>\n",
       "      <th></th>\n",
       "      <th></th>\n",
       "      <th></th>\n",
       "      <th></th>\n",
       "      <th></th>\n",
       "      <th></th>\n",
       "      <th></th>\n",
       "      <th></th>\n",
       "      <th></th>\n",
       "      <th></th>\n",
       "      <th></th>\n",
       "      <th></th>\n",
       "      <th></th>\n",
       "      <th></th>\n",
       "      <th></th>\n",
       "      <th></th>\n",
       "      <th></th>\n",
       "      <th></th>\n",
       "    </tr>\n",
       "  </thead>\n",
       "  <tbody>\n",
       "    <tr>\n",
       "      <th>/Users/sofiafernandes/.cache/kagglehub/datasets/ejlok1/surrey-audiovisual-expressed-emotion-savee/versions/1/ALL/JK_sa01.wav</th>\n",
       "      <th>0 days</th>\n",
       "      <th>0 days 00:00:04.511836735</th>\n",
       "      <td>30.007080</td>\n",
       "      <td>0.272709</td>\n",
       "      <td>25.000589</td>\n",
       "      <td>28.750051</td>\n",
       "      <td>32.279442</td>\n",
       "      <td>7.278852</td>\n",
       "      <td>240.264999</td>\n",
       "      <td>231.647217</td>\n",
       "      <td>108.595650</td>\n",
       "      <td>103.315277</td>\n",
       "      <td>...</td>\n",
       "      <td>-0.124250</td>\n",
       "      <td>-0.006894</td>\n",
       "      <td>0.141440</td>\n",
       "      <td>2.888889</td>\n",
       "      <td>1.573034</td>\n",
       "      <td>0.391429</td>\n",
       "      <td>0.281294</td>\n",
       "      <td>0.195000</td>\n",
       "      <td>0.196278</td>\n",
       "      <td>-18.515924</td>\n",
       "    </tr>\n",
       "    <tr>\n",
       "      <th>/Users/sofiafernandes/.cache/kagglehub/datasets/ejlok1/surrey-audiovisual-expressed-emotion-savee/versions/1/ALL/JK_sa15.wav</th>\n",
       "      <th>0 days</th>\n",
       "      <th>0 days 00:00:06.058707483</th>\n",
       "      <td>25.473991</td>\n",
       "      <td>0.217824</td>\n",
       "      <td>22.993029</td>\n",
       "      <td>24.884258</td>\n",
       "      <td>26.689384</td>\n",
       "      <td>3.696356</td>\n",
       "      <td>555.023865</td>\n",
       "      <td>1132.687256</td>\n",
       "      <td>79.383507</td>\n",
       "      <td>57.577232</td>\n",
       "      <td>...</td>\n",
       "      <td>-0.123710</td>\n",
       "      <td>-0.009605</td>\n",
       "      <td>0.107340</td>\n",
       "      <td>3.145695</td>\n",
       "      <td>2.671119</td>\n",
       "      <td>0.216250</td>\n",
       "      <td>0.156400</td>\n",
       "      <td>0.179167</td>\n",
       "      <td>0.186434</td>\n",
       "      <td>-22.415129</td>\n",
       "    </tr>\n",
       "    <tr>\n",
       "      <th>/Users/sofiafernandes/.cache/kagglehub/datasets/ejlok1/surrey-audiovisual-expressed-emotion-savee/versions/1/ALL/DC_n13.wav</th>\n",
       "      <th>0 days</th>\n",
       "      <th>0 days 00:00:02.788888889</th>\n",
       "      <td>27.486273</td>\n",
       "      <td>0.234637</td>\n",
       "      <td>23.860952</td>\n",
       "      <td>26.258076</td>\n",
       "      <td>29.287365</td>\n",
       "      <td>5.426413</td>\n",
       "      <td>1114.765137</td>\n",
       "      <td>1384.494995</td>\n",
       "      <td>53.991169</td>\n",
       "      <td>11.393560</td>\n",
       "      <td>...</td>\n",
       "      <td>-0.133652</td>\n",
       "      <td>-0.008191</td>\n",
       "      <td>0.069946</td>\n",
       "      <td>3.249098</td>\n",
       "      <td>1.838235</td>\n",
       "      <td>0.316000</td>\n",
       "      <td>0.188000</td>\n",
       "      <td>0.204000</td>\n",
       "      <td>0.166445</td>\n",
       "      <td>-22.394150</td>\n",
       "    </tr>\n",
       "    <tr>\n",
       "      <th>/Users/sofiafernandes/.cache/kagglehub/datasets/ejlok1/surrey-audiovisual-expressed-emotion-savee/versions/1/ALL/DC_su09.wav</th>\n",
       "      <th>0 days</th>\n",
       "      <th>0 days 00:00:03.433968254</th>\n",
       "      <td>36.879757</td>\n",
       "      <td>0.170512</td>\n",
       "      <td>33.624943</td>\n",
       "      <td>35.374607</td>\n",
       "      <td>38.021076</td>\n",
       "      <td>4.396133</td>\n",
       "      <td>128.577591</td>\n",
       "      <td>147.499802</td>\n",
       "      <td>18.332680</td>\n",
       "      <td>21.825897</td>\n",
       "      <td>...</td>\n",
       "      <td>-0.119606</td>\n",
       "      <td>-0.010003</td>\n",
       "      <td>0.110836</td>\n",
       "      <td>3.216374</td>\n",
       "      <td>2.077151</td>\n",
       "      <td>0.267143</td>\n",
       "      <td>0.237830</td>\n",
       "      <td>0.168750</td>\n",
       "      <td>0.179265</td>\n",
       "      <td>-15.458962</td>\n",
       "    </tr>\n",
       "    <tr>\n",
       "      <th>/Users/sofiafernandes/.cache/kagglehub/datasets/ejlok1/surrey-audiovisual-expressed-emotion-savee/versions/1/ALL/DC_n07.wav</th>\n",
       "      <th>0 days</th>\n",
       "      <th>0 days 00:00:04.051768707</th>\n",
       "      <td>25.581205</td>\n",
       "      <td>0.108522</td>\n",
       "      <td>23.417963</td>\n",
       "      <td>25.015635</td>\n",
       "      <td>28.008581</td>\n",
       "      <td>4.590618</td>\n",
       "      <td>111.322693</td>\n",
       "      <td>142.705490</td>\n",
       "      <td>37.078491</td>\n",
       "      <td>24.161617</td>\n",
       "      <td>...</td>\n",
       "      <td>-0.133119</td>\n",
       "      <td>-0.007635</td>\n",
       "      <td>0.072440</td>\n",
       "      <td>2.227723</td>\n",
       "      <td>1.002506</td>\n",
       "      <td>0.637500</td>\n",
       "      <td>0.326449</td>\n",
       "      <td>0.270000</td>\n",
       "      <td>0.190578</td>\n",
       "      <td>-22.507835</td>\n",
       "    </tr>\n",
       "  </tbody>\n",
       "</table>\n",
       "<p>5 rows × 88 columns</p>\n",
       "</div>"
      ],
      "text/plain": [
       "                                                                                     F0semitoneFrom27.5Hz_sma3nz_amean  \\\n",
       "file                                               start  end                                                            \n",
       "/Users/sofiafernandes/.cache/kagglehub/datasets... 0 days 0 days 00:00:04.511836735                          30.007080   \n",
       "/Users/sofiafernandes/.cache/kagglehub/datasets... 0 days 0 days 00:00:06.058707483                          25.473991   \n",
       "/Users/sofiafernandes/.cache/kagglehub/datasets... 0 days 0 days 00:00:02.788888889                          27.486273   \n",
       "/Users/sofiafernandes/.cache/kagglehub/datasets... 0 days 0 days 00:00:03.433968254                          36.879757   \n",
       "/Users/sofiafernandes/.cache/kagglehub/datasets... 0 days 0 days 00:00:04.051768707                          25.581205   \n",
       "\n",
       "                                                                                     F0semitoneFrom27.5Hz_sma3nz_stddevNorm  \\\n",
       "file                                               start  end                                                                 \n",
       "/Users/sofiafernandes/.cache/kagglehub/datasets... 0 days 0 days 00:00:04.511836735                                0.272709   \n",
       "/Users/sofiafernandes/.cache/kagglehub/datasets... 0 days 0 days 00:00:06.058707483                                0.217824   \n",
       "/Users/sofiafernandes/.cache/kagglehub/datasets... 0 days 0 days 00:00:02.788888889                                0.234637   \n",
       "/Users/sofiafernandes/.cache/kagglehub/datasets... 0 days 0 days 00:00:03.433968254                                0.170512   \n",
       "/Users/sofiafernandes/.cache/kagglehub/datasets... 0 days 0 days 00:00:04.051768707                                0.108522   \n",
       "\n",
       "                                                                                     F0semitoneFrom27.5Hz_sma3nz_percentile20.0  \\\n",
       "file                                               start  end                                                                     \n",
       "/Users/sofiafernandes/.cache/kagglehub/datasets... 0 days 0 days 00:00:04.511836735                                   25.000589   \n",
       "/Users/sofiafernandes/.cache/kagglehub/datasets... 0 days 0 days 00:00:06.058707483                                   22.993029   \n",
       "/Users/sofiafernandes/.cache/kagglehub/datasets... 0 days 0 days 00:00:02.788888889                                   23.860952   \n",
       "/Users/sofiafernandes/.cache/kagglehub/datasets... 0 days 0 days 00:00:03.433968254                                   33.624943   \n",
       "/Users/sofiafernandes/.cache/kagglehub/datasets... 0 days 0 days 00:00:04.051768707                                   23.417963   \n",
       "\n",
       "                                                                                     F0semitoneFrom27.5Hz_sma3nz_percentile50.0  \\\n",
       "file                                               start  end                                                                     \n",
       "/Users/sofiafernandes/.cache/kagglehub/datasets... 0 days 0 days 00:00:04.511836735                                   28.750051   \n",
       "/Users/sofiafernandes/.cache/kagglehub/datasets... 0 days 0 days 00:00:06.058707483                                   24.884258   \n",
       "/Users/sofiafernandes/.cache/kagglehub/datasets... 0 days 0 days 00:00:02.788888889                                   26.258076   \n",
       "/Users/sofiafernandes/.cache/kagglehub/datasets... 0 days 0 days 00:00:03.433968254                                   35.374607   \n",
       "/Users/sofiafernandes/.cache/kagglehub/datasets... 0 days 0 days 00:00:04.051768707                                   25.015635   \n",
       "\n",
       "                                                                                     F0semitoneFrom27.5Hz_sma3nz_percentile80.0  \\\n",
       "file                                               start  end                                                                     \n",
       "/Users/sofiafernandes/.cache/kagglehub/datasets... 0 days 0 days 00:00:04.511836735                                   32.279442   \n",
       "/Users/sofiafernandes/.cache/kagglehub/datasets... 0 days 0 days 00:00:06.058707483                                   26.689384   \n",
       "/Users/sofiafernandes/.cache/kagglehub/datasets... 0 days 0 days 00:00:02.788888889                                   29.287365   \n",
       "/Users/sofiafernandes/.cache/kagglehub/datasets... 0 days 0 days 00:00:03.433968254                                   38.021076   \n",
       "/Users/sofiafernandes/.cache/kagglehub/datasets... 0 days 0 days 00:00:04.051768707                                   28.008581   \n",
       "\n",
       "                                                                                     F0semitoneFrom27.5Hz_sma3nz_pctlrange0-2  \\\n",
       "file                                               start  end                                                                   \n",
       "/Users/sofiafernandes/.cache/kagglehub/datasets... 0 days 0 days 00:00:04.511836735                                  7.278852   \n",
       "/Users/sofiafernandes/.cache/kagglehub/datasets... 0 days 0 days 00:00:06.058707483                                  3.696356   \n",
       "/Users/sofiafernandes/.cache/kagglehub/datasets... 0 days 0 days 00:00:02.788888889                                  5.426413   \n",
       "/Users/sofiafernandes/.cache/kagglehub/datasets... 0 days 0 days 00:00:03.433968254                                  4.396133   \n",
       "/Users/sofiafernandes/.cache/kagglehub/datasets... 0 days 0 days 00:00:04.051768707                                  4.590618   \n",
       "\n",
       "                                                                                     F0semitoneFrom27.5Hz_sma3nz_meanRisingSlope  \\\n",
       "file                                               start  end                                                                      \n",
       "/Users/sofiafernandes/.cache/kagglehub/datasets... 0 days 0 days 00:00:04.511836735                                   240.264999   \n",
       "/Users/sofiafernandes/.cache/kagglehub/datasets... 0 days 0 days 00:00:06.058707483                                   555.023865   \n",
       "/Users/sofiafernandes/.cache/kagglehub/datasets... 0 days 0 days 00:00:02.788888889                                  1114.765137   \n",
       "/Users/sofiafernandes/.cache/kagglehub/datasets... 0 days 0 days 00:00:03.433968254                                   128.577591   \n",
       "/Users/sofiafernandes/.cache/kagglehub/datasets... 0 days 0 days 00:00:04.051768707                                   111.322693   \n",
       "\n",
       "                                                                                     F0semitoneFrom27.5Hz_sma3nz_stddevRisingSlope  \\\n",
       "file                                               start  end                                                                        \n",
       "/Users/sofiafernandes/.cache/kagglehub/datasets... 0 days 0 days 00:00:04.511836735                                     231.647217   \n",
       "/Users/sofiafernandes/.cache/kagglehub/datasets... 0 days 0 days 00:00:06.058707483                                    1132.687256   \n",
       "/Users/sofiafernandes/.cache/kagglehub/datasets... 0 days 0 days 00:00:02.788888889                                    1384.494995   \n",
       "/Users/sofiafernandes/.cache/kagglehub/datasets... 0 days 0 days 00:00:03.433968254                                     147.499802   \n",
       "/Users/sofiafernandes/.cache/kagglehub/datasets... 0 days 0 days 00:00:04.051768707                                     142.705490   \n",
       "\n",
       "                                                                                     F0semitoneFrom27.5Hz_sma3nz_meanFallingSlope  \\\n",
       "file                                               start  end                                                                       \n",
       "/Users/sofiafernandes/.cache/kagglehub/datasets... 0 days 0 days 00:00:04.511836735                                    108.595650   \n",
       "/Users/sofiafernandes/.cache/kagglehub/datasets... 0 days 0 days 00:00:06.058707483                                     79.383507   \n",
       "/Users/sofiafernandes/.cache/kagglehub/datasets... 0 days 0 days 00:00:02.788888889                                     53.991169   \n",
       "/Users/sofiafernandes/.cache/kagglehub/datasets... 0 days 0 days 00:00:03.433968254                                     18.332680   \n",
       "/Users/sofiafernandes/.cache/kagglehub/datasets... 0 days 0 days 00:00:04.051768707                                     37.078491   \n",
       "\n",
       "                                                                                     F0semitoneFrom27.5Hz_sma3nz_stddevFallingSlope  \\\n",
       "file                                               start  end                                                                         \n",
       "/Users/sofiafernandes/.cache/kagglehub/datasets... 0 days 0 days 00:00:04.511836735                                      103.315277   \n",
       "/Users/sofiafernandes/.cache/kagglehub/datasets... 0 days 0 days 00:00:06.058707483                                       57.577232   \n",
       "/Users/sofiafernandes/.cache/kagglehub/datasets... 0 days 0 days 00:00:02.788888889                                       11.393560   \n",
       "/Users/sofiafernandes/.cache/kagglehub/datasets... 0 days 0 days 00:00:03.433968254                                       21.825897   \n",
       "/Users/sofiafernandes/.cache/kagglehub/datasets... 0 days 0 days 00:00:04.051768707                                       24.161617   \n",
       "\n",
       "                                                                                     ...  \\\n",
       "file                                               start  end                        ...   \n",
       "/Users/sofiafernandes/.cache/kagglehub/datasets... 0 days 0 days 00:00:04.511836735  ...   \n",
       "/Users/sofiafernandes/.cache/kagglehub/datasets... 0 days 0 days 00:00:06.058707483  ...   \n",
       "/Users/sofiafernandes/.cache/kagglehub/datasets... 0 days 0 days 00:00:02.788888889  ...   \n",
       "/Users/sofiafernandes/.cache/kagglehub/datasets... 0 days 0 days 00:00:03.433968254  ...   \n",
       "/Users/sofiafernandes/.cache/kagglehub/datasets... 0 days 0 days 00:00:04.051768707  ...   \n",
       "\n",
       "                                                                                     slopeUV0-500_sma3nz_amean  \\\n",
       "file                                               start  end                                                    \n",
       "/Users/sofiafernandes/.cache/kagglehub/datasets... 0 days 0 days 00:00:04.511836735                  -0.124250   \n",
       "/Users/sofiafernandes/.cache/kagglehub/datasets... 0 days 0 days 00:00:06.058707483                  -0.123710   \n",
       "/Users/sofiafernandes/.cache/kagglehub/datasets... 0 days 0 days 00:00:02.788888889                  -0.133652   \n",
       "/Users/sofiafernandes/.cache/kagglehub/datasets... 0 days 0 days 00:00:03.433968254                  -0.119606   \n",
       "/Users/sofiafernandes/.cache/kagglehub/datasets... 0 days 0 days 00:00:04.051768707                  -0.133119   \n",
       "\n",
       "                                                                                     slopeUV500-1500_sma3nz_amean  \\\n",
       "file                                               start  end                                                       \n",
       "/Users/sofiafernandes/.cache/kagglehub/datasets... 0 days 0 days 00:00:04.511836735                     -0.006894   \n",
       "/Users/sofiafernandes/.cache/kagglehub/datasets... 0 days 0 days 00:00:06.058707483                     -0.009605   \n",
       "/Users/sofiafernandes/.cache/kagglehub/datasets... 0 days 0 days 00:00:02.788888889                     -0.008191   \n",
       "/Users/sofiafernandes/.cache/kagglehub/datasets... 0 days 0 days 00:00:03.433968254                     -0.010003   \n",
       "/Users/sofiafernandes/.cache/kagglehub/datasets... 0 days 0 days 00:00:04.051768707                     -0.007635   \n",
       "\n",
       "                                                                                     spectralFluxUV_sma3nz_amean  \\\n",
       "file                                               start  end                                                      \n",
       "/Users/sofiafernandes/.cache/kagglehub/datasets... 0 days 0 days 00:00:04.511836735                     0.141440   \n",
       "/Users/sofiafernandes/.cache/kagglehub/datasets... 0 days 0 days 00:00:06.058707483                     0.107340   \n",
       "/Users/sofiafernandes/.cache/kagglehub/datasets... 0 days 0 days 00:00:02.788888889                     0.069946   \n",
       "/Users/sofiafernandes/.cache/kagglehub/datasets... 0 days 0 days 00:00:03.433968254                     0.110836   \n",
       "/Users/sofiafernandes/.cache/kagglehub/datasets... 0 days 0 days 00:00:04.051768707                     0.072440   \n",
       "\n",
       "                                                                                     loudnessPeaksPerSec  \\\n",
       "file                                               start  end                                              \n",
       "/Users/sofiafernandes/.cache/kagglehub/datasets... 0 days 0 days 00:00:04.511836735             2.888889   \n",
       "/Users/sofiafernandes/.cache/kagglehub/datasets... 0 days 0 days 00:00:06.058707483             3.145695   \n",
       "/Users/sofiafernandes/.cache/kagglehub/datasets... 0 days 0 days 00:00:02.788888889             3.249098   \n",
       "/Users/sofiafernandes/.cache/kagglehub/datasets... 0 days 0 days 00:00:03.433968254             3.216374   \n",
       "/Users/sofiafernandes/.cache/kagglehub/datasets... 0 days 0 days 00:00:04.051768707             2.227723   \n",
       "\n",
       "                                                                                     VoicedSegmentsPerSec  \\\n",
       "file                                               start  end                                               \n",
       "/Users/sofiafernandes/.cache/kagglehub/datasets... 0 days 0 days 00:00:04.511836735              1.573034   \n",
       "/Users/sofiafernandes/.cache/kagglehub/datasets... 0 days 0 days 00:00:06.058707483              2.671119   \n",
       "/Users/sofiafernandes/.cache/kagglehub/datasets... 0 days 0 days 00:00:02.788888889              1.838235   \n",
       "/Users/sofiafernandes/.cache/kagglehub/datasets... 0 days 0 days 00:00:03.433968254              2.077151   \n",
       "/Users/sofiafernandes/.cache/kagglehub/datasets... 0 days 0 days 00:00:04.051768707              1.002506   \n",
       "\n",
       "                                                                                     MeanVoicedSegmentLengthSec  \\\n",
       "file                                               start  end                                                     \n",
       "/Users/sofiafernandes/.cache/kagglehub/datasets... 0 days 0 days 00:00:04.511836735                    0.391429   \n",
       "/Users/sofiafernandes/.cache/kagglehub/datasets... 0 days 0 days 00:00:06.058707483                    0.216250   \n",
       "/Users/sofiafernandes/.cache/kagglehub/datasets... 0 days 0 days 00:00:02.788888889                    0.316000   \n",
       "/Users/sofiafernandes/.cache/kagglehub/datasets... 0 days 0 days 00:00:03.433968254                    0.267143   \n",
       "/Users/sofiafernandes/.cache/kagglehub/datasets... 0 days 0 days 00:00:04.051768707                    0.637500   \n",
       "\n",
       "                                                                                     StddevVoicedSegmentLengthSec  \\\n",
       "file                                               start  end                                                       \n",
       "/Users/sofiafernandes/.cache/kagglehub/datasets... 0 days 0 days 00:00:04.511836735                      0.281294   \n",
       "/Users/sofiafernandes/.cache/kagglehub/datasets... 0 days 0 days 00:00:06.058707483                      0.156400   \n",
       "/Users/sofiafernandes/.cache/kagglehub/datasets... 0 days 0 days 00:00:02.788888889                      0.188000   \n",
       "/Users/sofiafernandes/.cache/kagglehub/datasets... 0 days 0 days 00:00:03.433968254                      0.237830   \n",
       "/Users/sofiafernandes/.cache/kagglehub/datasets... 0 days 0 days 00:00:04.051768707                      0.326449   \n",
       "\n",
       "                                                                                     MeanUnvoicedSegmentLength  \\\n",
       "file                                               start  end                                                    \n",
       "/Users/sofiafernandes/.cache/kagglehub/datasets... 0 days 0 days 00:00:04.511836735                   0.195000   \n",
       "/Users/sofiafernandes/.cache/kagglehub/datasets... 0 days 0 days 00:00:06.058707483                   0.179167   \n",
       "/Users/sofiafernandes/.cache/kagglehub/datasets... 0 days 0 days 00:00:02.788888889                   0.204000   \n",
       "/Users/sofiafernandes/.cache/kagglehub/datasets... 0 days 0 days 00:00:03.433968254                   0.168750   \n",
       "/Users/sofiafernandes/.cache/kagglehub/datasets... 0 days 0 days 00:00:04.051768707                   0.270000   \n",
       "\n",
       "                                                                                     StddevUnvoicedSegmentLength  \\\n",
       "file                                               start  end                                                      \n",
       "/Users/sofiafernandes/.cache/kagglehub/datasets... 0 days 0 days 00:00:04.511836735                     0.196278   \n",
       "/Users/sofiafernandes/.cache/kagglehub/datasets... 0 days 0 days 00:00:06.058707483                     0.186434   \n",
       "/Users/sofiafernandes/.cache/kagglehub/datasets... 0 days 0 days 00:00:02.788888889                     0.166445   \n",
       "/Users/sofiafernandes/.cache/kagglehub/datasets... 0 days 0 days 00:00:03.433968254                     0.179265   \n",
       "/Users/sofiafernandes/.cache/kagglehub/datasets... 0 days 0 days 00:00:04.051768707                     0.190578   \n",
       "\n",
       "                                                                                     equivalentSoundLevel_dBp  \n",
       "file                                               start  end                                                  \n",
       "/Users/sofiafernandes/.cache/kagglehub/datasets... 0 days 0 days 00:00:04.511836735                -18.515924  \n",
       "/Users/sofiafernandes/.cache/kagglehub/datasets... 0 days 0 days 00:00:06.058707483                -22.415129  \n",
       "/Users/sofiafernandes/.cache/kagglehub/datasets... 0 days 0 days 00:00:02.788888889                -22.394150  \n",
       "/Users/sofiafernandes/.cache/kagglehub/datasets... 0 days 0 days 00:00:03.433968254                -15.458962  \n",
       "/Users/sofiafernandes/.cache/kagglehub/datasets... 0 days 0 days 00:00:04.051768707                -22.507835  \n",
       "\n",
       "[5 rows x 88 columns]"
      ]
     },
     "execution_count": 125,
     "metadata": {},
     "output_type": "execute_result"
    }
   ],
   "source": [
    "X_s = smile.process_files(savee_df['path'])\n",
    "X_s.to_csv(\"SAVEE_features.csv\")\n",
    "X_s.head()"
   ]
  },
  {
   "cell_type": "code",
   "execution_count": 126,
   "id": "276528ef",
   "metadata": {},
   "outputs": [
    {
     "name": "stdout",
     "output_type": "stream",
     "text": [
      "Performance RandomForest with feature scaling\n",
      "               precision    recall  f1-score   support\n",
      "\n",
      "       angry       0.18      0.03      0.06        60\n",
      "     boredom       0.00      0.00      0.00         0\n",
      "     disgust       0.04      0.03      0.04        60\n",
      "        fear       1.00      0.05      0.10        60\n",
      "       happy       0.05      0.03      0.04        60\n",
      "     neutral       0.03      0.01      0.01       120\n",
      "         sad       0.19      0.92      0.32        60\n",
      "    surprise       0.00      0.00      0.00        60\n",
      "\n",
      "    accuracy                           0.14       480\n",
      "   macro avg       0.19      0.13      0.07       480\n",
      "weighted avg       0.19      0.14      0.07       480\n",
      "\n"
     ]
    },
    {
     "data": {
      "image/png": "[encoded data removed]",
      "text/plain": [
       "<Figure size 1000x800 with 2 Axes>"
      ]
     },
     "metadata": {},
     "output_type": "display_data"
    }
   ],
   "source": [
    "X_savee = X_s.values\n",
    "y_savee = savee_df.label\n",
    "\n",
    "X_savee_scaled = scaler.transform(X_savee)\n",
    "\n",
    "pred_savee = clf12.predict(X_savee_scaled)\n",
    "print(\"Performance RandomForest with feature scaling\\n\", classification_report(y_savee, pred_savee))\n",
    "\n",
    "# Generate a confusion matrix\n",
    "cm = confusion_matrix(y_savee, pred_savee)\n",
    "\n",
    "# Plot the confusion matrix\n",
    "plt.figure(figsize=(10, 8))\n",
    "sns.heatmap(cm, annot=True, fmt='d', cmap='Blues', xticklabels=y.unique(), yticklabels=y.unique())\n",
    "plt.xlabel('Predicted')\n",
    "plt.ylabel('True')\n",
    "plt.title('Confusion Matrix')\n",
    "plt.show()"
   ]
  },
  {
   "cell_type": "markdown",
   "id": "14b4caac",
   "metadata": {},
   "source": [
    "# MLPClassifier"
   ]
  },
  {
   "cell_type": "code",
   "execution_count": 97,
   "id": "fa388220",
   "metadata": {},
   "outputs": [
    {
     "name": "stdout",
     "output_type": "stream",
     "text": [
      "              precision    recall  f1-score   support\n",
      "\n",
      "       angry       0.89      0.88      0.88       216\n",
      "     boredom       0.95      0.83      0.89        24\n",
      "        calm       0.63      0.67      0.65        58\n",
      "     disgust       0.86      0.85      0.86       191\n",
      "        fear       0.82      0.81      0.82       198\n",
      "       happy       0.77      0.80      0.78       199\n",
      "     neutral       0.87      0.88      0.88       173\n",
      "         sad       0.83      0.81      0.82       196\n",
      "    surprise       0.74      0.74      0.74        58\n",
      "\n",
      "    accuracy                           0.83      1313\n",
      "   macro avg       0.82      0.81      0.81      1313\n",
      "weighted avg       0.83      0.83      0.83      1313\n",
      "\n"
     ]
    },
    {
     "data": {
      "image/png": "[encoded data removed]",
      "text/plain": [
       "<Figure size 1000x800 with 2 Axes>"
      ]
     },
     "metadata": {},
     "output_type": "display_data"
    }
   ],
   "source": [
    "from sklearn.neural_network import MLPClassifier\n",
    "from sklearn.preprocessing import StandardScaler\n",
    "\n",
    "# Feature scaling is CRUCIAL for MLP\n",
    "scaler = StandardScaler()\n",
    "X_train_scaled = scaler.fit_transform(X_train)\n",
    "X_test_scaled = scaler.transform(X_test)\n",
    "\n",
    "# Initialize MLP\n",
    "mlp = MLPClassifier(\n",
    "    hidden_layer_sizes=(100, 50),\n",
    "    activation='relu',\n",
    "    solver='adam',\n",
    "    early_stopping=True,\n",
    "    validation_fraction=0.2,\n",
    "    random_state=42,\n",
    "    alpha=0.0001\n",
    ")\n",
    "\n",
    "# Train\n",
    "mlp.fit(X_train_scaled, y_train)\n",
    "#mlp.fit(X_train, y_train)\n",
    "\n",
    "# Evaluate\n",
    "pred_mlp = mlp.predict(X_test_scaled) #83%\n",
    "#pred_mlp = mlp.predict(X_test) # 60%\n",
    "print(classification_report(y_test, pred_mlp))\n",
    "\n",
    "# Generate a confusion matrix\n",
    "cm = confusion_matrix(y_test, pred_mlp)\n",
    "\n",
    "# Plot the confusion matrix\n",
    "plt.figure(figsize=(10, 8))\n",
    "sns.heatmap(cm, annot=True, fmt='d', cmap='Blues', xticklabels=y.unique(), yticklabels=y.unique())\n",
    "plt.xlabel('Predicted')\n",
    "plt.ylabel('True')\n",
    "plt.title('Confusion Matrix')\n",
    "plt.show()"
   ]
  },
  {
   "cell_type": "code",
   "execution_count": 83,
   "id": "0c0568e3",
   "metadata": {},
   "outputs": [
    {
     "data": {
      "text/html": [
       "<style>#sk-container-id-1 {color: black;}#sk-container-id-1 pre{padding: 0;}#sk-container-id-1 div.sk-toggleable {background-color: white;}#sk-container-id-1 label.sk-toggleable__label {cursor: pointer;display: block;width: 100%;margin-bottom: 0;padding: 0.3em;box-sizing: border-box;text-align: center;}#sk-container-id-1 label.sk-toggleable__label-arrow:before {content: \"▸\";float: left;margin-right: 0.25em;color: #696969;}#sk-container-id-1 label.sk-toggleable__label-arrow:hover:before {color: black;}#sk-container-id-1 div.sk-estimator:hover label.sk-toggleable__label-arrow:before {color: black;}#sk-container-id-1 div.sk-toggleable__content {max-height: 0;max-width: 0;overflow: hidden;text-align: left;background-color: #f0f8ff;}#sk-container-id-1 div.sk-toggleable__content pre {margin: 0.2em;color: black;border-radius: 0.25em;background-color: #f0f8ff;}#sk-container-id-1 input.sk-toggleable__control:checked~div.sk-toggleable__content {max-height: 200px;max-width: 100%;overflow: auto;}#sk-container-id-1 input.sk-toggleable__control:checked~label.sk-toggleable__label-arrow:before {content: \"▾\";}#sk-container-id-1 div.sk-estimator input.sk-toggleable__control:checked~label.sk-toggleable__label {background-color: #d4ebff;}#sk-container-id-1 div.sk-label input.sk-toggleable__control:checked~label.sk-toggleable__label {background-color: #d4ebff;}#sk-container-id-1 input.sk-hidden--visually {border: 0;clip: rect(1px 1px 1px 1px);clip: rect(1px, 1px, 1px, 1px);height: 1px;margin: -1px;overflow: hidden;padding: 0;position: absolute;width: 1px;}#sk-container-id-1 div.sk-estimator {font-family: monospace;background-color: #f0f8ff;border: 1px dotted black;border-radius: 0.25em;box-sizing: border-box;margin-bottom: 0.5em;}#sk-container-id-1 div.sk-estimator:hover {background-color: #d4ebff;}#sk-container-id-1 div.sk-parallel-item::after {content: \"\";width: 100%;border-bottom: 1px solid gray;flex-grow: 1;}#sk-container-id-1 div.sk-label:hover label.sk-toggleable__label {background-color: #d4ebff;}#sk-container-id-1 div.sk-serial::before {content: \"\";position: absolute;border-left: 1px solid gray;box-sizing: border-box;top: 0;bottom: 0;left: 50%;z-index: 0;}#sk-container-id-1 div.sk-serial {display: flex;flex-direction: column;align-items: center;background-color: white;padding-right: 0.2em;padding-left: 0.2em;position: relative;}#sk-container-id-1 div.sk-item {position: relative;z-index: 1;}#sk-container-id-1 div.sk-parallel {display: flex;align-items: stretch;justify-content: center;background-color: white;position: relative;}#sk-container-id-1 div.sk-item::before, #sk-container-id-1 div.sk-parallel-item::before {content: \"\";position: absolute;border-left: 1px solid gray;box-sizing: border-box;top: 0;bottom: 0;left: 50%;z-index: -1;}#sk-container-id-1 div.sk-parallel-item {display: flex;flex-direction: column;z-index: 1;position: relative;background-color: white;}#sk-container-id-1 div.sk-parallel-item:first-child::after {align-self: flex-end;width: 50%;}#sk-container-id-1 div.sk-parallel-item:last-child::after {align-self: flex-start;width: 50%;}#sk-container-id-1 div.sk-parallel-item:only-child::after {width: 0;}#sk-container-id-1 div.sk-dashed-wrapped {border: 1px dashed gray;margin: 0 0.4em 0.5em 0.4em;box-sizing: border-box;padding-bottom: 0.4em;background-color: white;}#sk-container-id-1 div.sk-label label {font-family: monospace;font-weight: bold;display: inline-block;line-height: 1.2em;}#sk-container-id-1 div.sk-label-container {text-align: center;}#sk-container-id-1 div.sk-container {/* jupyter's `normalize.less` sets `[hidden] { display: none; }` but bootstrap.min.css set `[hidden] { display: none !important; }` so we also need the `!important` here to be able to override the default hidden behavior on the sphinx rendered scikit-learn.org. See: https://github.com/scikit-learn/scikit-learn/issues/21755 */display: inline-block !important;position: relative;}#sk-container-id-1 div.sk-text-repr-fallback {display: none;}</style><div id=\"sk-container-id-1\" class=\"sk-top-container\"><div class=\"sk-text-repr-fallback\"><pre>GridSearchCV(cv=5, estimator=MLPClassifier(),\n",
       "             param_grid={&#x27;activation&#x27;: [&#x27;relu&#x27;, &#x27;tanh&#x27;],\n",
       "                         &#x27;alpha&#x27;: [0.0001, 0.001, 0.01],\n",
       "                         &#x27;hidden_layer_sizes&#x27;: [(100,), (100, 50),\n",
       "                                                (100, 50, 25)]})</pre><b>In a Jupyter environment, please rerun this cell to show the HTML representation or trust the notebook. <br />On GitHub, the HTML representation is unable to render, please try loading this page with nbviewer.org.</b></div><div class=\"sk-container\" hidden><div class=\"sk-item sk-dashed-wrapped\"><div class=\"sk-label-container\"><div class=\"sk-label sk-toggleable\"><input class=\"sk-toggleable__control sk-hidden--visually\" id=\"sk-estimator-id-1\" type=\"checkbox\" ><label for=\"sk-estimator-id-1\" class=\"sk-toggleable__label sk-toggleable__label-arrow\">GridSearchCV</label><div class=\"sk-toggleable__content\"><pre>GridSearchCV(cv=5, estimator=MLPClassifier(),\n",
       "             param_grid={&#x27;activation&#x27;: [&#x27;relu&#x27;, &#x27;tanh&#x27;],\n",
       "                         &#x27;alpha&#x27;: [0.0001, 0.001, 0.01],\n",
       "                         &#x27;hidden_layer_sizes&#x27;: [(100,), (100, 50),\n",
       "                                                (100, 50, 25)]})</pre></div></div></div><div class=\"sk-parallel\"><div class=\"sk-parallel-item\"><div class=\"sk-item\"><div class=\"sk-label-container\"><div class=\"sk-label sk-toggleable\"><input class=\"sk-toggleable__control sk-hidden--visually\" id=\"sk-estimator-id-2\" type=\"checkbox\" ><label for=\"sk-estimator-id-2\" class=\"sk-toggleable__label sk-toggleable__label-arrow\">estimator: MLPClassifier</label><div class=\"sk-toggleable__content\"><pre>MLPClassifier()</pre></div></div></div><div class=\"sk-serial\"><div class=\"sk-item\"><div class=\"sk-estimator sk-toggleable\"><input class=\"sk-toggleable__control sk-hidden--visually\" id=\"sk-estimator-id-3\" type=\"checkbox\" ><label for=\"sk-estimator-id-3\" class=\"sk-toggleable__label sk-toggleable__label-arrow\">MLPClassifier</label><div class=\"sk-toggleable__content\"><pre>MLPClassifier()</pre></div></div></div></div></div></div></div></div></div></div>"
      ],
      "text/plain": [
       "GridSearchCV(cv=5, estimator=MLPClassifier(),\n",
       "             param_grid={'activation': ['relu', 'tanh'],\n",
       "                         'alpha': [0.0001, 0.001, 0.01],\n",
       "                         'hidden_layer_sizes': [(100,), (100, 50),\n",
       "                                                (100, 50, 25)]})"
      ]
     },
     "execution_count": 83,
     "metadata": {},
     "output_type": "execute_result"
    }
   ],
   "source": [
    "from sklearn.model_selection import GridSearchCV\n",
    "\n",
    "param_grid = {\n",
    "    'hidden_layer_sizes': [(100,), (100,50), (100,50,25)],\n",
    "    'activation': ['relu', 'tanh'],\n",
    "    'alpha': [0.0001, 0.001, 0.01]\n",
    "}\n",
    "\n",
    "grid = GridSearchCV(MLPClassifier(), param_grid, cv=5)\n",
    "grid.fit(X_train_scaled, y_train)"
   ]
  },
  {
   "cell_type": "code",
   "execution_count": 85,
   "id": "5a9129f9",
   "metadata": {},
   "outputs": [
    {
     "data": {
      "text/plain": [
       "{'activation': 'relu', 'alpha': 0.001, 'hidden_layer_sizes': (100,)}"
      ]
     },
     "execution_count": 85,
     "metadata": {},
     "output_type": "execute_result"
    }
   ],
   "source": [
    "grid.best_params_"
   ]
  },
  {
   "cell_type": "code",
   "execution_count": 95,
   "id": "0a1a19b5",
   "metadata": {},
   "outputs": [
    {
     "data": {
      "text/plain": [
       "0.8327863608738765"
      ]
     },
     "execution_count": 95,
     "metadata": {},
     "output_type": "execute_result"
    }
   ],
   "source": [
    "grid.best_score_"
   ]
  },
  {
   "cell_type": "code",
   "execution_count": 98,
   "id": "ecaabae9",
   "metadata": {},
   "outputs": [
    {
     "name": "stdout",
     "output_type": "stream",
     "text": [
      "Fitting 10 folds for each of 48 candidates, totalling 480 fits\n",
      "\n",
      "SVM Best Parameters: {'clf__C': 10, 'clf__gamma': 'scale', 'clf__kernel': 'rbf'}\n",
      "Validation Accuracy: 0.840\n",
      "Test Accuracy: 0.848\n",
      "Fitting 10 folds for each of 27 candidates, totalling 270 fits\n",
      "\n",
      "RandomForest Best Parameters: {'clf__max_depth': 20, 'clf__min_samples_split': 2, 'clf__n_estimators': 300}\n",
      "Validation Accuracy: 0.840\n",
      "Test Accuracy: 0.839\n",
      "Fitting 10 folds for each of 12 candidates, totalling 120 fits\n"
     ]
    },
    {
     "name": "stderr",
     "output_type": "stream",
     "text": [
      "/Users/sofiafernandes/miniconda3/envs/varm/lib/python3.8/site-packages/sklearn/linear_model/_sag.py:350: ConvergenceWarning: The max_iter was reached which means the coef_ did not converge\n",
      "  warnings.warn(\n",
      "/Users/sofiafernandes/miniconda3/envs/varm/lib/python3.8/site-packages/sklearn/linear_model/_sag.py:350: ConvergenceWarning: The max_iter was reached which means the coef_ did not converge\n",
      "  warnings.warn(\n",
      "/Users/sofiafernandes/miniconda3/envs/varm/lib/python3.8/site-packages/sklearn/linear_model/_sag.py:350: ConvergenceWarning: The max_iter was reached which means the coef_ did not converge\n",
      "  warnings.warn(\n",
      "/Users/sofiafernandes/miniconda3/envs/varm/lib/python3.8/site-packages/sklearn/linear_model/_sag.py:350: ConvergenceWarning: The max_iter was reached which means the coef_ did not converge\n",
      "  warnings.warn(\n",
      "/Users/sofiafernandes/miniconda3/envs/varm/lib/python3.8/site-packages/sklearn/linear_model/_sag.py:350: ConvergenceWarning: The max_iter was reached which means the coef_ did not converge\n",
      "  warnings.warn(\n",
      "/Users/sofiafernandes/miniconda3/envs/varm/lib/python3.8/site-packages/sklearn/linear_model/_sag.py:350: ConvergenceWarning: The max_iter was reached which means the coef_ did not converge\n",
      "  warnings.warn(\n",
      "/Users/sofiafernandes/miniconda3/envs/varm/lib/python3.8/site-packages/sklearn/linear_model/_sag.py:350: ConvergenceWarning: The max_iter was reached which means the coef_ did not converge\n",
      "  warnings.warn(\n",
      "/Users/sofiafernandes/miniconda3/envs/varm/lib/python3.8/site-packages/sklearn/linear_model/_sag.py:350: ConvergenceWarning: The max_iter was reached which means the coef_ did not converge\n",
      "  warnings.warn(\n",
      "/Users/sofiafernandes/miniconda3/envs/varm/lib/python3.8/site-packages/sklearn/linear_model/_sag.py:350: ConvergenceWarning: The max_iter was reached which means the coef_ did not converge\n",
      "  warnings.warn(\n",
      "/Users/sofiafernandes/miniconda3/envs/varm/lib/python3.8/site-packages/sklearn/linear_model/_sag.py:350: ConvergenceWarning: The max_iter was reached which means the coef_ did not converge\n",
      "  warnings.warn(\n",
      "/Users/sofiafernandes/miniconda3/envs/varm/lib/python3.8/site-packages/sklearn/linear_model/_sag.py:350: ConvergenceWarning: The max_iter was reached which means the coef_ did not converge\n",
      "  warnings.warn(\n",
      "/Users/sofiafernandes/miniconda3/envs/varm/lib/python3.8/site-packages/sklearn/linear_model/_sag.py:350: ConvergenceWarning: The max_iter was reached which means the coef_ did not converge\n",
      "  warnings.warn(\n",
      "/Users/sofiafernandes/miniconda3/envs/varm/lib/python3.8/site-packages/sklearn/linear_model/_sag.py:350: ConvergenceWarning: The max_iter was reached which means the coef_ did not converge\n",
      "  warnings.warn(\n",
      "/Users/sofiafernandes/miniconda3/envs/varm/lib/python3.8/site-packages/sklearn/linear_model/_sag.py:350: ConvergenceWarning: The max_iter was reached which means the coef_ did not converge\n",
      "  warnings.warn(\n",
      "/Users/sofiafernandes/miniconda3/envs/varm/lib/python3.8/site-packages/sklearn/linear_model/_sag.py:350: ConvergenceWarning: The max_iter was reached which means the coef_ did not converge\n",
      "  warnings.warn(\n",
      "/Users/sofiafernandes/miniconda3/envs/varm/lib/python3.8/site-packages/sklearn/linear_model/_sag.py:350: ConvergenceWarning: The max_iter was reached which means the coef_ did not converge\n",
      "  warnings.warn(\n",
      "/Users/sofiafernandes/miniconda3/envs/varm/lib/python3.8/site-packages/sklearn/linear_model/_sag.py:350: ConvergenceWarning: The max_iter was reached which means the coef_ did not converge\n",
      "  warnings.warn(\n",
      "/Users/sofiafernandes/miniconda3/envs/varm/lib/python3.8/site-packages/sklearn/linear_model/_sag.py:350: ConvergenceWarning: The max_iter was reached which means the coef_ did not converge\n",
      "  warnings.warn(\n",
      "/Users/sofiafernandes/miniconda3/envs/varm/lib/python3.8/site-packages/sklearn/linear_model/_sag.py:350: ConvergenceWarning: The max_iter was reached which means the coef_ did not converge\n",
      "  warnings.warn(\n",
      "/Users/sofiafernandes/miniconda3/envs/varm/lib/python3.8/site-packages/sklearn/linear_model/_sag.py:350: ConvergenceWarning: The max_iter was reached which means the coef_ did not converge\n",
      "  warnings.warn(\n",
      "/Users/sofiafernandes/miniconda3/envs/varm/lib/python3.8/site-packages/sklearn/linear_model/_sag.py:350: ConvergenceWarning: The max_iter was reached which means the coef_ did not converge\n",
      "  warnings.warn(\n",
      "/Users/sofiafernandes/miniconda3/envs/varm/lib/python3.8/site-packages/sklearn/linear_model/_sag.py:350: ConvergenceWarning: The max_iter was reached which means the coef_ did not converge\n",
      "  warnings.warn(\n",
      "/Users/sofiafernandes/miniconda3/envs/varm/lib/python3.8/site-packages/sklearn/linear_model/_sag.py:350: ConvergenceWarning: The max_iter was reached which means the coef_ did not converge\n",
      "  warnings.warn(\n",
      "/Users/sofiafernandes/miniconda3/envs/varm/lib/python3.8/site-packages/sklearn/linear_model/_sag.py:350: ConvergenceWarning: The max_iter was reached which means the coef_ did not converge\n",
      "  warnings.warn(\n",
      "/Users/sofiafernandes/miniconda3/envs/varm/lib/python3.8/site-packages/sklearn/linear_model/_sag.py:350: ConvergenceWarning: The max_iter was reached which means the coef_ did not converge\n",
      "  warnings.warn(\n",
      "/Users/sofiafernandes/miniconda3/envs/varm/lib/python3.8/site-packages/sklearn/linear_model/_sag.py:350: ConvergenceWarning: The max_iter was reached which means the coef_ did not converge\n",
      "  warnings.warn(\n",
      "/Users/sofiafernandes/miniconda3/envs/varm/lib/python3.8/site-packages/sklearn/linear_model/_sag.py:350: ConvergenceWarning: The max_iter was reached which means the coef_ did not converge\n",
      "  warnings.warn(\n",
      "/Users/sofiafernandes/miniconda3/envs/varm/lib/python3.8/site-packages/sklearn/linear_model/_sag.py:350: ConvergenceWarning: The max_iter was reached which means the coef_ did not converge\n",
      "  warnings.warn(\n",
      "/Users/sofiafernandes/miniconda3/envs/varm/lib/python3.8/site-packages/sklearn/linear_model/_sag.py:350: ConvergenceWarning: The max_iter was reached which means the coef_ did not converge\n",
      "  warnings.warn(\n",
      "/Users/sofiafernandes/miniconda3/envs/varm/lib/python3.8/site-packages/sklearn/linear_model/_sag.py:350: ConvergenceWarning: The max_iter was reached which means the coef_ did not converge\n",
      "  warnings.warn(\n",
      "/Users/sofiafernandes/miniconda3/envs/varm/lib/python3.8/site-packages/sklearn/linear_model/_sag.py:350: ConvergenceWarning: The max_iter was reached which means the coef_ did not converge\n",
      "  warnings.warn(\n",
      "/Users/sofiafernandes/miniconda3/envs/varm/lib/python3.8/site-packages/sklearn/linear_model/_sag.py:350: ConvergenceWarning: The max_iter was reached which means the coef_ did not converge\n",
      "  warnings.warn(\n",
      "/Users/sofiafernandes/miniconda3/envs/varm/lib/python3.8/site-packages/sklearn/linear_model/_sag.py:350: ConvergenceWarning: The max_iter was reached which means the coef_ did not converge\n",
      "  warnings.warn(\n",
      "/Users/sofiafernandes/miniconda3/envs/varm/lib/python3.8/site-packages/sklearn/linear_model/_sag.py:350: ConvergenceWarning: The max_iter was reached which means the coef_ did not converge\n",
      "  warnings.warn(\n",
      "/Users/sofiafernandes/miniconda3/envs/varm/lib/python3.8/site-packages/sklearn/linear_model/_sag.py:350: ConvergenceWarning: The max_iter was reached which means the coef_ did not converge\n",
      "  warnings.warn(\n",
      "/Users/sofiafernandes/miniconda3/envs/varm/lib/python3.8/site-packages/sklearn/linear_model/_sag.py:350: ConvergenceWarning: The max_iter was reached which means the coef_ did not converge\n",
      "  warnings.warn(\n",
      "/Users/sofiafernandes/miniconda3/envs/varm/lib/python3.8/site-packages/sklearn/linear_model/_sag.py:350: ConvergenceWarning: The max_iter was reached which means the coef_ did not converge\n",
      "  warnings.warn(\n",
      "/Users/sofiafernandes/miniconda3/envs/varm/lib/python3.8/site-packages/sklearn/linear_model/_sag.py:350: ConvergenceWarning: The max_iter was reached which means the coef_ did not converge\n",
      "  warnings.warn(\n",
      "/Users/sofiafernandes/miniconda3/envs/varm/lib/python3.8/site-packages/sklearn/linear_model/_sag.py:350: ConvergenceWarning: The max_iter was reached which means the coef_ did not converge\n",
      "  warnings.warn(\n",
      "/Users/sofiafernandes/miniconda3/envs/varm/lib/python3.8/site-packages/sklearn/linear_model/_sag.py:350: ConvergenceWarning: The max_iter was reached which means the coef_ did not converge\n",
      "  warnings.warn(\n",
      "/Users/sofiafernandes/miniconda3/envs/varm/lib/python3.8/site-packages/sklearn/linear_model/_sag.py:350: ConvergenceWarning: The max_iter was reached which means the coef_ did not converge\n",
      "  warnings.warn(\n"
     ]
    },
    {
     "name": "stdout",
     "output_type": "stream",
     "text": [
      "\n",
      "LogisticRegression Best Parameters: {'clf__C': 10, 'clf__penalty': 'l1', 'clf__solver': 'saga'}\n",
      "Validation Accuracy: 0.795\n",
      "Test Accuracy: 0.794\n",
      "Fitting 10 folds for each of 8 candidates, totalling 80 fits\n",
      "\n",
      "KNN Best Parameters: {'clf__n_neighbors': 5, 'clf__weights': 'distance'}\n",
      "Validation Accuracy: 0.793\n",
      "Test Accuracy: 0.794\n",
      "\n",
      "Model Comparison:\n",
      "                model  best_score  test_score\n",
      "0                 SVM    0.839646    0.847677\n",
      "1        RandomForest    0.839641    0.839299\n",
      "2  LogisticRegression    0.794892    0.794364\n",
      "3                 KNN    0.792617    0.794364\n"
     ]
    }
   ],
   "source": [
    "from sklearn.model_selection import GridSearchCV\n",
    "from sklearn.svm import SVC\n",
    "from sklearn.ensemble import RandomForestClassifier\n",
    "from sklearn.neighbors import KNeighborsClassifier\n",
    "from sklearn.linear_model import LogisticRegression\n",
    "from sklearn.pipeline import Pipeline\n",
    "from sklearn.preprocessing import StandardScaler\n",
    "\n",
    "# Define classifiers and parameter grids\n",
    "classifiers = {\n",
    "    'SVM': {\n",
    "        'model': SVC(),\n",
    "        'params': {\n",
    "            'clf__C': [0.1, 1, 10, 100],\n",
    "            'clf__kernel': ['linear', 'rbf', 'poly'],\n",
    "            'clf__gamma': ['scale', 'auto', 0.1, 1]\n",
    "        }\n",
    "    },\n",
    "    'RandomForest': {\n",
    "        'model': RandomForestClassifier(),\n",
    "        'params': {\n",
    "            'clf__n_estimators': [100, 200, 300],\n",
    "            'clf__max_depth': [None, 10, 20],\n",
    "            'clf__min_samples_split': [2, 5, 10]\n",
    "        }\n",
    "    },\n",
    "    'LogisticRegression': {\n",
    "        'model': LogisticRegression(max_iter=1000),\n",
    "        'params': {\n",
    "            'clf__C': [0.1, 1, 10],\n",
    "            'clf__penalty': ['l1', 'l2'],\n",
    "            'clf__solver': ['liblinear', 'saga']\n",
    "        }\n",
    "    },\n",
    "    'KNN': {\n",
    "        'model': KNeighborsClassifier(),\n",
    "        'params': {\n",
    "            'clf__n_neighbors': [3, 5, 7, 9],\n",
    "            'clf__weights': ['uniform', 'distance']\n",
    "        }\n",
    "    }\n",
    "}\n",
    "\n",
    "# Store results\n",
    "results = []\n",
    "\n",
    "for name, classifier in classifiers.items():\n",
    "    # Create pipeline with scaler and classifier\n",
    "    pipe = Pipeline([\n",
    "        ('scaler', StandardScaler()),\n",
    "        ('clf', classifier['model'])\n",
    "    ])\n",
    "    \n",
    "    # Grid Search with 10-fold CV\n",
    "    grid = GridSearchCV(\n",
    "        estimator=pipe,\n",
    "        param_grid=classifier['params'],\n",
    "        cv=10,\n",
    "        scoring='accuracy',\n",
    "        n_jobs=-1,\n",
    "        verbose=1\n",
    "    )\n",
    "    \n",
    "    grid.fit(X_train, y_train)\n",
    "    \n",
    "    # Store results\n",
    "    results.append({\n",
    "        'model': name,\n",
    "        'best_score': grid.best_score_,\n",
    "        'best_params': grid.best_params_,\n",
    "        'test_score': grid.score(X_test, y_test)\n",
    "    })\n",
    "    \n",
    "    print(f\"\\n{name} Best Parameters: {grid.best_params_}\")\n",
    "    print(f\"Validation Accuracy: {grid.best_score_:.3f}\")\n",
    "    print(f\"Test Accuracy: {grid.score(X_test, y_test):.3f}\")\n",
    "\n",
    "# Convert results to DataFrame\n",
    "results_df = pd.DataFrame(results)\n",
    "print(\"\\nModel Comparison:\")\n",
    "print(results_df[['model', 'best_score', 'test_score']])"
   ]
  },
  {
   "cell_type": "code",
   "execution_count": 99,
   "id": "cb5b940c",
   "metadata": {},
   "outputs": [
    {
     "name": "stdout",
     "output_type": "stream",
     "text": [
      "Fitting 10 folds for each of 96 candidates, totalling 960 fits\n",
      "[CV] END selector__L=0.7, selector__MS=0.7, selector__algorithm=algorithm1, selector__dispersion_measure=MAD; total time=   2.0s\n",
      "[CV] END selector__L=0.7, selector__MS=0.7, selector__algorithm=algorithm1, selector__dispersion_measure=MM; total time=   2.0s\n",
      "[CV] END selector__L=0.7, selector__MS=0.7, selector__algorithm=algorithm1, selector__dispersion_measure=MM; total time=   2.0s\n",
      "[CV] END selector__L=0.7, selector__MS=0.7, selector__algorithm=algorithm1, selector__dispersion_measure=MM; total time=   2.0s\n",
      "[CV] END selector__L=0.7, selector__MS=0.7, selector__algorithm=algorithm1, selector__dispersion_measure=MM; total time=   2.0s\n",
      "[CV] END selector__L=0.7, selector__MS=0.7, selector__algorithm=algorithm1, selector__dispersion_measure=MAD; total time=   2.0s\n",
      "[CV] END selector__L=0.7, selector__MS=0.7, selector__algorithm=algorithm1, selector__dispersion_measure=MM; total time=   2.0s\n",
      "[CV] END selector__L=0.7, selector__MS=0.7, selector__algorithm=algorithm1, selector__dispersion_measure=MM; total time=   2.0s\n",
      "[CV] END selector__L=0.7, selector__MS=0.7, selector__algorithm=algorithm1, selector__dispersion_measure=MM; total time=   2.0s\n",
      "[CV] END selector__L=0.7, selector__MS=0.7, selector__algorithm=algorithm1, selector__dispersion_measure=MM; total time=   2.0s\n",
      "[CV] END selector__L=0.7, selector__MS=0.7, selector__algorithm=algorithm1, selector__dispersion_measure=MM; total time=   2.0s\n",
      "[CV] END selector__L=0.7, selector__MS=0.7, selector__algorithm=algorithm1, selector__dispersion_measure=MM; total time=   2.0s\n",
      "[CV] END selector__L=0.7, selector__MS=0.7, selector__algorithm=algorithm1, selector__dispersion_measure=MAD; total time=   2.0s\n",
      "[CV] END selector__L=0.7, selector__MS=0.7, selector__algorithm=algorithm1, selector__dispersion_measure=MAD; total time=   2.1s\n",
      "[CV] END selector__L=0.7, selector__MS=0.7, selector__algorithm=algorithm1, selector__dispersion_measure=MAD; total time=   2.1s\n",
      "[CV] END selector__L=0.7, selector__MS=0.7, selector__algorithm=algorithm1, selector__dispersion_measure=MAD; total time=   2.1s\n",
      "[CV] END selector__L=0.7, selector__MS=0.7, selector__algorithm=algorithm1, selector__dispersion_measure=MAD; total time=   2.1s\n",
      "[CV] END selector__L=0.7, selector__MS=0.7, selector__algorithm=algorithm1, selector__dispersion_measure=MAD; total time=   2.0s\n",
      "[CV] END selector__L=0.7, selector__MS=0.7, selector__algorithm=algorithm1, selector__dispersion_measure=TV; total time=   2.1s\n",
      "[CV] END selector__L=0.7, selector__MS=0.7, selector__algorithm=algorithm1, selector__dispersion_measure=MAD; total time=   2.0s\n",
      "[CV] END selector__L=0.7, selector__MS=0.7, selector__algorithm=algorithm1, selector__dispersion_measure=TV; total time=   2.1s\n",
      "[CV] END selector__L=0.7, selector__MS=0.7, selector__algorithm=algorithm1, selector__dispersion_measure=MAD; total time=   2.1s\n"
     ]
    },
    {
     "name": "stderr",
     "output_type": "stream",
     "text": [
      "/Users/sofiafernandes/Documents/Repos/EmoReA/emorea-backend/src/select_features.py:54: RuntimeWarning: divide by zero encountered in scalar divide\n",
      "  dispersions[i] = arithmetic_mean / geometric_mean\n",
      "/Users/sofiafernandes/Documents/Repos/EmoReA/emorea-backend/src/select_features.py:54: RuntimeWarning: divide by zero encountered in scalar divide\n",
      "  dispersions[i] = arithmetic_mean / geometric_mean\n",
      "/Users/sofiafernandes/Documents/Repos/EmoReA/emorea-backend/src/select_features.py:54: RuntimeWarning: divide by zero encountered in scalar divide\n",
      "  dispersions[i] = arithmetic_mean / geometric_mean\n",
      "/Users/sofiafernandes/Documents/Repos/EmoReA/emorea-backend/src/select_features.py:54: RuntimeWarning: divide by zero encountered in scalar divide\n",
      "  dispersions[i] = arithmetic_mean / geometric_mean\n",
      "/Users/sofiafernandes/Documents/Repos/EmoReA/emorea-backend/src/select_features.py:54: RuntimeWarning: divide by zero encountered in scalar divide\n",
      "  dispersions[i] = arithmetic_mean / geometric_mean\n"
     ]
    },
    {
     "name": "stdout",
     "output_type": "stream",
     "text": [
      "[CV] END selector__L=0.7, selector__MS=0.7, selector__algorithm=algorithm1, selector__dispersion_measure=TV; total time=   2.0s\n",
      "[CV] END selector__L=0.7, selector__MS=0.7, selector__algorithm=algorithm1, selector__dispersion_measure=TV; total time=   2.0s\n"
     ]
    },
    {
     "name": "stderr",
     "output_type": "stream",
     "text": [
      "/Users/sofiafernandes/Documents/Repos/EmoReA/emorea-backend/src/select_features.py:54: RuntimeWarning: divide by zero encountered in scalar divide\n",
      "  dispersions[i] = arithmetic_mean / geometric_mean\n"
     ]
    },
    {
     "name": "stdout",
     "output_type": "stream",
     "text": [
      "[CV] END selector__L=0.7, selector__MS=0.7, selector__algorithm=algorithm1, selector__dispersion_measure=TV; total time=   2.0s\n",
      "[CV] END selector__L=0.7, selector__MS=0.7, selector__algorithm=algorithm1, selector__dispersion_measure=TV; total time=   2.0s\n",
      "[CV] END selector__L=0.7, selector__MS=0.7, selector__algorithm=algorithm1, selector__dispersion_measure=TV; total time=   1.9s\n",
      "[CV] END selector__L=0.7, selector__MS=0.7, selector__algorithm=algorithm1, selector__dispersion_measure=TV; total time=   2.0s\n"
     ]
    },
    {
     "name": "stderr",
     "output_type": "stream",
     "text": [
      "/Users/sofiafernandes/Documents/Repos/EmoReA/emorea-backend/src/select_features.py:54: RuntimeWarning: divide by zero encountered in scalar divide\n",
      "  dispersions[i] = arithmetic_mean / geometric_mean\n",
      "/Users/sofiafernandes/Documents/Repos/EmoReA/emorea-backend/src/select_features.py:54: RuntimeWarning: divide by zero encountered in scalar divide\n",
      "  dispersions[i] = arithmetic_mean / geometric_mean\n",
      "/Users/sofiafernandes/Documents/Repos/EmoReA/emorea-backend/src/select_features.py:54: RuntimeWarning: divide by zero encountered in scalar divide\n",
      "  dispersions[i] = arithmetic_mean / geometric_mean\n",
      "/Users/sofiafernandes/Documents/Repos/EmoReA/emorea-backend/src/select_features.py:54: RuntimeWarning: divide by zero encountered in scalar divide\n",
      "  dispersions[i] = arithmetic_mean / geometric_mean\n"
     ]
    },
    {
     "name": "stdout",
     "output_type": "stream",
     "text": [
      "[CV] END selector__L=0.7, selector__MS=0.7, selector__algorithm=algorithm1, selector__dispersion_measure=TV; total time=   2.0s\n",
      "[CV] END selector__L=0.7, selector__MS=0.7, selector__algorithm=algorithm1, selector__dispersion_measure=TV; total time=   2.0s\n",
      "[CV] END selector__L=0.7, selector__MS=0.7, selector__algorithm=algorithm1, selector__dispersion_measure=AMGM; total time=   2.0s\n",
      "[CV] END selector__L=0.7, selector__MS=0.7, selector__algorithm=algorithm1, selector__dispersion_measure=AMGM; total time=   2.0s\n",
      "[CV] END selector__L=0.7, selector__MS=0.7, selector__algorithm=algorithm1, selector__dispersion_measure=AMGM; total time=   2.0s\n",
      "[CV] END selector__L=0.7, selector__MS=0.7, selector__algorithm=algorithm1, selector__dispersion_measure=AMGM; total time=   2.0s\n",
      "[CV] END selector__L=0.7, selector__MS=0.7, selector__algorithm=algorithm1, selector__dispersion_measure=AMGM; total time=   2.0s\n",
      "[CV] END selector__L=0.7, selector__MS=0.7, selector__algorithm=algorithm1, selector__dispersion_measure=AMGM; total time=   2.0s\n",
      "[CV] END selector__L=0.7, selector__MS=0.7, selector__algorithm=algorithm1, selector__dispersion_measure=AMGM; total time=   2.0s\n",
      "[CV] END selector__L=0.7, selector__MS=0.7, selector__algorithm=algorithm1, selector__dispersion_measure=AMGM; total time=   2.0s\n",
      "[CV] END selector__L=0.7, selector__MS=0.7, selector__algorithm=algorithm2, selector__dispersion_measure=MM; total time=   2.0s\n",
      "[CV] END selector__L=0.7, selector__MS=0.7, selector__algorithm=algorithm2, selector__dispersion_measure=MM; total time=   1.9s\n",
      "[CV] END selector__L=0.7, selector__MS=0.7, selector__algorithm=algorithm1, selector__dispersion_measure=AMGM; total time=   2.1s\n",
      "[CV] END selector__L=0.7, selector__MS=0.7, selector__algorithm=algorithm1, selector__dispersion_measure=AMGM; total time=   2.1s\n",
      "[CV] END selector__L=0.7, selector__MS=0.7, selector__algorithm=algorithm2, selector__dispersion_measure=MM; total time=   2.1s\n",
      "[CV] END selector__L=0.7, selector__MS=0.7, selector__algorithm=algorithm2, selector__dispersion_measure=MM; total time=   2.0s\n",
      "[CV] END selector__L=0.7, selector__MS=0.7, selector__algorithm=algorithm2, selector__dispersion_measure=MM; total time=   1.9s\n",
      "[CV] END selector__L=0.7, selector__MS=0.7, selector__algorithm=algorithm2, selector__dispersion_measure=MM; total time=   2.0s\n",
      "[CV] END selector__L=0.7, selector__MS=0.7, selector__algorithm=algorithm2, selector__dispersion_measure=MM; total time=   1.9s\n",
      "[CV] END selector__L=0.7, selector__MS=0.7, selector__algorithm=algorithm2, selector__dispersion_measure=MM; total time=   1.9s\n",
      "[CV] END selector__L=0.7, selector__MS=0.7, selector__algorithm=algorithm2, selector__dispersion_measure=MM; total time=   1.7s\n",
      "[CV] END selector__L=0.7, selector__MS=0.7, selector__algorithm=algorithm2, selector__dispersion_measure=MM; total time=   1.7s\n",
      "[CV] END selector__L=0.7, selector__MS=0.7, selector__algorithm=algorithm2, selector__dispersion_measure=MAD; total time=   1.8s\n",
      "[CV] END selector__L=0.7, selector__MS=0.7, selector__algorithm=algorithm2, selector__dispersion_measure=MAD; total time=   1.8s\n",
      "[CV] END selector__L=0.7, selector__MS=0.7, selector__algorithm=algorithm2, selector__dispersion_measure=MAD; total time=   1.9s\n",
      "[CV] END selector__L=0.7, selector__MS=0.7, selector__algorithm=algorithm2, selector__dispersion_measure=MAD; total time=   1.8s\n",
      "[CV] END selector__L=0.7, selector__MS=0.7, selector__algorithm=algorithm2, selector__dispersion_measure=MAD; total time=   1.9s\n",
      "[CV] END selector__L=0.7, selector__MS=0.7, selector__algorithm=algorithm2, selector__dispersion_measure=MAD; total time=   1.9s\n",
      "[CV] END selector__L=0.7, selector__MS=0.7, selector__algorithm=algorithm2, selector__dispersion_measure=MAD; total time=   1.8s\n",
      "[CV] END selector__L=0.7, selector__MS=0.7, selector__algorithm=algorithm2, selector__dispersion_measure=MAD; total time=   1.9s\n",
      "[CV] END selector__L=0.7, selector__MS=0.7, selector__algorithm=algorithm2, selector__dispersion_measure=MAD; total time=   1.8s\n"
     ]
    },
    {
     "name": "stderr",
     "output_type": "stream",
     "text": [
      "/Users/sofiafernandes/Documents/Repos/EmoReA/emorea-backend/src/select_features.py:54: RuntimeWarning: divide by zero encountered in scalar divide\n",
      "  dispersions[i] = arithmetic_mean / geometric_mean\n"
     ]
    },
    {
     "name": "stdout",
     "output_type": "stream",
     "text": [
      "[CV] END selector__L=0.7, selector__MS=0.7, selector__algorithm=algorithm2, selector__dispersion_measure=MAD; total time=   1.8s\n"
     ]
    },
    {
     "name": "stderr",
     "output_type": "stream",
     "text": [
      "/Users/sofiafernandes/Documents/Repos/EmoReA/emorea-backend/src/select_features.py:54: RuntimeWarning: divide by zero encountered in scalar divide\n",
      "  dispersions[i] = arithmetic_mean / geometric_mean\n"
     ]
    },
    {
     "name": "stdout",
     "output_type": "stream",
     "text": [
      "[CV] END selector__L=0.7, selector__MS=0.7, selector__algorithm=algorithm2, selector__dispersion_measure=TV; total time=   1.8s\n"
     ]
    },
    {
     "name": "stderr",
     "output_type": "stream",
     "text": [
      "/Users/sofiafernandes/Documents/Repos/EmoReA/emorea-backend/src/select_features.py:54: RuntimeWarning: divide by zero encountered in scalar divide\n",
      "  dispersions[i] = arithmetic_mean / geometric_mean\n"
     ]
    },
    {
     "name": "stdout",
     "output_type": "stream",
     "text": [
      "[CV] END selector__L=0.7, selector__MS=0.7, selector__algorithm=algorithm2, selector__dispersion_measure=TV; total time=   1.8s\n",
      "[CV] END selector__L=0.7, selector__MS=0.7, selector__algorithm=algorithm2, selector__dispersion_measure=TV; total time=   1.8s\n",
      "[CV] END selector__L=0.7, selector__MS=0.7, selector__algorithm=algorithm2, selector__dispersion_measure=TV; total time=   1.9s\n",
      "[CV] END selector__L=0.7, selector__MS=0.7, selector__algorithm=algorithm2, selector__dispersion_measure=TV; total time=   1.8s\n"
     ]
    },
    {
     "name": "stderr",
     "output_type": "stream",
     "text": [
      "/Users/sofiafernandes/Documents/Repos/EmoReA/emorea-backend/src/select_features.py:54: RuntimeWarning: divide by zero encountered in scalar divide\n",
      "  dispersions[i] = arithmetic_mean / geometric_mean\n",
      "/Users/sofiafernandes/Documents/Repos/EmoReA/emorea-backend/src/select_features.py:54: RuntimeWarning: divide by zero encountered in scalar divide\n",
      "  dispersions[i] = arithmetic_mean / geometric_mean\n",
      "/Users/sofiafernandes/Documents/Repos/EmoReA/emorea-backend/src/select_features.py:54: RuntimeWarning: divide by zero encountered in scalar divide\n",
      "  dispersions[i] = arithmetic_mean / geometric_mean\n",
      "/Users/sofiafernandes/Documents/Repos/EmoReA/emorea-backend/src/select_features.py:54: RuntimeWarning: divide by zero encountered in scalar divide\n",
      "  dispersions[i] = arithmetic_mean / geometric_mean\n"
     ]
    },
    {
     "name": "stdout",
     "output_type": "stream",
     "text": [
      "[CV] END selector__L=0.7, selector__MS=0.7, selector__algorithm=algorithm2, selector__dispersion_measure=TV; total time=   1.8s\n",
      "[CV] END selector__L=0.7, selector__MS=0.7, selector__algorithm=algorithm2, selector__dispersion_measure=TV; total time=   1.8s\n",
      "[CV] END selector__L=0.7, selector__MS=0.7, selector__algorithm=algorithm2, selector__dispersion_measure=TV; total time=   1.8s\n",
      "[CV] END selector__L=0.7, selector__MS=0.7, selector__algorithm=algorithm2, selector__dispersion_measure=TV; total time=   1.9s\n",
      "[CV] END selector__L=0.7, selector__MS=0.7, selector__algorithm=algorithm2, selector__dispersion_measure=TV; total time=   1.9s\n"
     ]
    },
    {
     "name": "stderr",
     "output_type": "stream",
     "text": [
      "/Users/sofiafernandes/Documents/Repos/EmoReA/emorea-backend/src/select_features.py:54: RuntimeWarning: divide by zero encountered in scalar divide\n",
      "  dispersions[i] = arithmetic_mean / geometric_mean\n",
      "/Users/sofiafernandes/Documents/Repos/EmoReA/emorea-backend/src/select_features.py:54: RuntimeWarning: divide by zero encountered in scalar divide\n",
      "  dispersions[i] = arithmetic_mean / geometric_mean\n",
      "/Users/sofiafernandes/Documents/Repos/EmoReA/emorea-backend/src/select_features.py:54: RuntimeWarning: divide by zero encountered in scalar divide\n",
      "  dispersions[i] = arithmetic_mean / geometric_mean\n"
     ]
    },
    {
     "name": "stdout",
     "output_type": "stream",
     "text": [
      "[CV] END selector__L=0.7, selector__MS=0.7, selector__algorithm=algorithm2, selector__dispersion_measure=AMGM; total time=   1.7s\n",
      "[CV] END selector__L=0.7, selector__MS=0.7, selector__algorithm=algorithm2, selector__dispersion_measure=AMGM; total time=   1.7s\n",
      "[CV] END selector__L=0.7, selector__MS=0.7, selector__algorithm=algorithm2, selector__dispersion_measure=AMGM; total time=   1.6s\n",
      "[CV] END selector__L=0.7, selector__MS=0.7, selector__algorithm=algorithm2, selector__dispersion_measure=AMGM; total time=   1.8s\n",
      "[CV] END selector__L=0.7, selector__MS=0.7, selector__algorithm=algorithm2, selector__dispersion_measure=AMGM; total time=   1.5s\n",
      "[CV] END selector__L=0.7, selector__MS=0.7, selector__algorithm=algorithm2, selector__dispersion_measure=AMGM; total time=   1.7s\n",
      "[CV] END selector__L=0.7, selector__MS=0.7, selector__algorithm=algorithm2, selector__dispersion_measure=AMGM; total time=   1.7s\n",
      "[CV] END selector__L=0.7, selector__MS=0.7, selector__algorithm=algorithm2, selector__dispersion_measure=AMGM; total time=   1.7s\n",
      "[CV] END selector__L=0.7, selector__MS=0.7, selector__algorithm=algorithm2, selector__dispersion_measure=AMGM; total time=   1.9s\n",
      "[CV] END selector__L=0.7, selector__MS=0.7, selector__algorithm=algorithm2, selector__dispersion_measure=AMGM; total time=   1.9s\n",
      "[CV] END selector__L=0.7, selector__MS=0.75, selector__algorithm=algorithm1, selector__dispersion_measure=MM; total time=   1.9s\n",
      "[CV] END selector__L=0.7, selector__MS=0.75, selector__algorithm=algorithm1, selector__dispersion_measure=MM; total time=   1.9s\n",
      "[CV] END selector__L=0.7, selector__MS=0.75, selector__algorithm=algorithm1, selector__dispersion_measure=MM; total time=   1.9s\n",
      "[CV] END selector__L=0.7, selector__MS=0.75, selector__algorithm=algorithm1, selector__dispersion_measure=MM; total time=   1.9s\n",
      "[CV] END selector__L=0.7, selector__MS=0.75, selector__algorithm=algorithm1, selector__dispersion_measure=MM; total time=   1.8s\n",
      "[CV] END selector__L=0.7, selector__MS=0.75, selector__algorithm=algorithm1, selector__dispersion_measure=MM; total time=   1.8s\n",
      "[CV] END selector__L=0.7, selector__MS=0.75, selector__algorithm=algorithm1, selector__dispersion_measure=MM; total time=   1.8s\n",
      "[CV] END selector__L=0.7, selector__MS=0.75, selector__algorithm=algorithm1, selector__dispersion_measure=MM; total time=   1.8s\n",
      "[CV] END selector__L=0.7, selector__MS=0.75, selector__algorithm=algorithm1, selector__dispersion_measure=MM; total time=   1.8s\n",
      "[CV] END selector__L=0.7, selector__MS=0.75, selector__algorithm=algorithm1, selector__dispersion_measure=MM; total time=   1.8s\n",
      "[CV] END selector__L=0.7, selector__MS=0.75, selector__algorithm=algorithm1, selector__dispersion_measure=MAD; total time=   1.8s\n",
      "[CV] END selector__L=0.7, selector__MS=0.75, selector__algorithm=algorithm1, selector__dispersion_measure=MAD; total time=   1.8s\n",
      "[CV] END selector__L=0.7, selector__MS=0.75, selector__algorithm=algorithm1, selector__dispersion_measure=MAD; total time=   1.8s\n",
      "[CV] END selector__L=0.7, selector__MS=0.75, selector__algorithm=algorithm1, selector__dispersion_measure=MAD; total time=   1.8s\n",
      "[CV] END selector__L=0.7, selector__MS=0.75, selector__algorithm=algorithm1, selector__dispersion_measure=MAD; total time=   1.8s\n",
      "[CV] END selector__L=0.7, selector__MS=0.75, selector__algorithm=algorithm1, selector__dispersion_measure=MAD; total time=   1.8s\n",
      "[CV] END selector__L=0.7, selector__MS=0.75, selector__algorithm=algorithm1, selector__dispersion_measure=MAD; total time=   1.9s\n",
      "[CV] END selector__L=0.7, selector__MS=0.75, selector__algorithm=algorithm1, selector__dispersion_measure=MAD; total time=   2.0s\n",
      "[CV] END selector__L=0.7, selector__MS=0.75, selector__algorithm=algorithm1, selector__dispersion_measure=MAD; total time=   2.0s\n",
      "[CV] END selector__L=0.7, selector__MS=0.75, selector__algorithm=algorithm1, selector__dispersion_measure=MAD; total time=   2.0s\n"
     ]
    },
    {
     "name": "stderr",
     "output_type": "stream",
     "text": [
      "/Users/sofiafernandes/Documents/Repos/EmoReA/emorea-backend/src/select_features.py:54: RuntimeWarning: divide by zero encountered in scalar divide\n",
      "  dispersions[i] = arithmetic_mean / geometric_mean\n",
      "/Users/sofiafernandes/Documents/Repos/EmoReA/emorea-backend/src/select_features.py:54: RuntimeWarning: divide by zero encountered in scalar divide\n",
      "  dispersions[i] = arithmetic_mean / geometric_mean\n"
     ]
    },
    {
     "name": "stdout",
     "output_type": "stream",
     "text": [
      "[CV] END selector__L=0.7, selector__MS=0.75, selector__algorithm=algorithm1, selector__dispersion_measure=TV; total time=   2.0s\n"
     ]
    },
    {
     "name": "stderr",
     "output_type": "stream",
     "text": [
      "/Users/sofiafernandes/Documents/Repos/EmoReA/emorea-backend/src/select_features.py:54: RuntimeWarning: divide by zero encountered in scalar divide\n",
      "  dispersions[i] = arithmetic_mean / geometric_mean\n",
      "/Users/sofiafernandes/Documents/Repos/EmoReA/emorea-backend/src/select_features.py:54: RuntimeWarning: divide by zero encountered in scalar divide\n",
      "  dispersions[i] = arithmetic_mean / geometric_mean\n"
     ]
    },
    {
     "name": "stdout",
     "output_type": "stream",
     "text": [
      "[CV] END selector__L=0.7, selector__MS=0.75, selector__algorithm=algorithm1, selector__dispersion_measure=TV; total time=   2.0s\n",
      "[CV] END selector__L=0.7, selector__MS=0.75, selector__algorithm=algorithm1, selector__dispersion_measure=TV; total time=   2.0s\n",
      "[CV] END selector__L=0.7, selector__MS=0.75, selector__algorithm=algorithm1, selector__dispersion_measure=TV; total time=   2.0s\n",
      "[CV] END selector__L=0.7, selector__MS=0.75, selector__algorithm=algorithm1, selector__dispersion_measure=TV; total time=   2.0s\n"
     ]
    },
    {
     "name": "stderr",
     "output_type": "stream",
     "text": [
      "/Users/sofiafernandes/Documents/Repos/EmoReA/emorea-backend/src/select_features.py:54: RuntimeWarning: divide by zero encountered in scalar divide\n",
      "  dispersions[i] = arithmetic_mean / geometric_mean\n",
      "/Users/sofiafernandes/Documents/Repos/EmoReA/emorea-backend/src/select_features.py:54: RuntimeWarning: divide by zero encountered in scalar divide\n",
      "  dispersions[i] = arithmetic_mean / geometric_mean\n",
      "/Users/sofiafernandes/Documents/Repos/EmoReA/emorea-backend/src/select_features.py:54: RuntimeWarning: divide by zero encountered in scalar divide\n",
      "  dispersions[i] = arithmetic_mean / geometric_mean\n"
     ]
    },
    {
     "name": "stdout",
     "output_type": "stream",
     "text": [
      "[CV] END selector__L=0.7, selector__MS=0.75, selector__algorithm=algorithm1, selector__dispersion_measure=TV; total time=   2.0s\n",
      "[CV] END selector__L=0.7, selector__MS=0.75, selector__algorithm=algorithm1, selector__dispersion_measure=TV; total time=   2.0s\n"
     ]
    },
    {
     "name": "stderr",
     "output_type": "stream",
     "text": [
      "/Users/sofiafernandes/Documents/Repos/EmoReA/emorea-backend/src/select_features.py:54: RuntimeWarning: divide by zero encountered in scalar divide\n",
      "  dispersions[i] = arithmetic_mean / geometric_mean\n",
      "/Users/sofiafernandes/Documents/Repos/EmoReA/emorea-backend/src/select_features.py:54: RuntimeWarning: divide by zero encountered in scalar divide\n",
      "  dispersions[i] = arithmetic_mean / geometric_mean\n"
     ]
    },
    {
     "name": "stdout",
     "output_type": "stream",
     "text": [
      "[CV] END selector__L=0.7, selector__MS=0.75, selector__algorithm=algorithm1, selector__dispersion_measure=TV; total time=   1.8s\n"
     ]
    },
    {
     "name": "stderr",
     "output_type": "stream",
     "text": [
      "/Users/sofiafernandes/Documents/Repos/EmoReA/emorea-backend/src/select_features.py:54: RuntimeWarning: divide by zero encountered in scalar divide\n",
      "  dispersions[i] = arithmetic_mean / geometric_mean\n"
     ]
    },
    {
     "name": "stdout",
     "output_type": "stream",
     "text": [
      "[CV] END selector__L=0.7, selector__MS=0.75, selector__algorithm=algorithm1, selector__dispersion_measure=TV; total time=   1.8s\n",
      "[CV] END selector__L=0.7, selector__MS=0.75, selector__algorithm=algorithm1, selector__dispersion_measure=TV; total time=   1.9s\n",
      "[CV] END selector__L=0.7, selector__MS=0.75, selector__algorithm=algorithm1, selector__dispersion_measure=AMGM; total time=   1.8s\n",
      "[CV] END selector__L=0.7, selector__MS=0.75, selector__algorithm=algorithm1, selector__dispersion_measure=AMGM; total time=   1.8s\n",
      "[CV] END selector__L=0.7, selector__MS=0.75, selector__algorithm=algorithm1, selector__dispersion_measure=AMGM; total time=   1.9s\n",
      "[CV] END selector__L=0.7, selector__MS=0.75, selector__algorithm=algorithm1, selector__dispersion_measure=AMGM; total time=   1.9s\n",
      "[CV] END selector__L=0.7, selector__MS=0.75, selector__algorithm=algorithm1, selector__dispersion_measure=AMGM; total time=   1.9s\n",
      "[CV] END selector__L=0.7, selector__MS=0.75, selector__algorithm=algorithm1, selector__dispersion_measure=AMGM; total time=   1.9s\n",
      "[CV] END selector__L=0.7, selector__MS=0.75, selector__algorithm=algorithm1, selector__dispersion_measure=AMGM; total time=   1.9s\n",
      "[CV] END selector__L=0.7, selector__MS=0.75, selector__algorithm=algorithm1, selector__dispersion_measure=AMGM; total time=   1.9s\n",
      "[CV] END selector__L=0.7, selector__MS=0.75, selector__algorithm=algorithm1, selector__dispersion_measure=AMGM; total time=   1.9s\n",
      "[CV] END selector__L=0.7, selector__MS=0.75, selector__algorithm=algorithm1, selector__dispersion_measure=AMGM; total time=   1.9s\n",
      "[CV] END selector__L=0.7, selector__MS=0.75, selector__algorithm=algorithm2, selector__dispersion_measure=MM; total time=   1.8s\n",
      "[CV] END selector__L=0.7, selector__MS=0.75, selector__algorithm=algorithm2, selector__dispersion_measure=MM; total time=   1.8s\n",
      "[CV] END selector__L=0.7, selector__MS=0.75, selector__algorithm=algorithm2, selector__dispersion_measure=MM; total time=   1.7s\n",
      "[CV] END selector__L=0.7, selector__MS=0.75, selector__algorithm=algorithm2, selector__dispersion_measure=MM; total time=   1.7s\n",
      "[CV] END selector__L=0.7, selector__MS=0.75, selector__algorithm=algorithm2, selector__dispersion_measure=MM; total time=   1.8s\n",
      "[CV] END selector__L=0.7, selector__MS=0.75, selector__algorithm=algorithm2, selector__dispersion_measure=MM; total time=   1.7s\n",
      "[CV] END selector__L=0.7, selector__MS=0.75, selector__algorithm=algorithm2, selector__dispersion_measure=MM; total time=   1.7s\n",
      "[CV] END selector__L=0.7, selector__MS=0.75, selector__algorithm=algorithm2, selector__dispersion_measure=MM; total time=   1.9s\n",
      "[CV] END selector__L=0.7, selector__MS=0.75, selector__algorithm=algorithm2, selector__dispersion_measure=MM; total time=   1.8s\n",
      "[CV] END selector__L=0.7, selector__MS=0.75, selector__algorithm=algorithm2, selector__dispersion_measure=MM; total time=   1.7s\n",
      "[CV] END selector__L=0.7, selector__MS=0.75, selector__algorithm=algorithm2, selector__dispersion_measure=MAD; total time=   1.9s\n",
      "[CV] END selector__L=0.7, selector__MS=0.75, selector__algorithm=algorithm2, selector__dispersion_measure=MAD; total time=   1.9s\n",
      "[CV] END selector__L=0.7, selector__MS=0.75, selector__algorithm=algorithm2, selector__dispersion_measure=MAD; total time=   1.8s\n",
      "[CV] END selector__L=0.7, selector__MS=0.75, selector__algorithm=algorithm2, selector__dispersion_measure=MAD; total time=   1.9s\n",
      "[CV] END selector__L=0.7, selector__MS=0.75, selector__algorithm=algorithm2, selector__dispersion_measure=MAD; total time=   1.8s\n",
      "[CV] END selector__L=0.7, selector__MS=0.75, selector__algorithm=algorithm2, selector__dispersion_measure=MAD; total time=   1.8s\n",
      "[CV] END selector__L=0.7, selector__MS=0.75, selector__algorithm=algorithm2, selector__dispersion_measure=MAD; total time=   1.9s\n",
      "[CV] END selector__L=0.7, selector__MS=0.75, selector__algorithm=algorithm2, selector__dispersion_measure=MAD; total time=   1.8s\n",
      "[CV] END selector__L=0.7, selector__MS=0.75, selector__algorithm=algorithm2, selector__dispersion_measure=MAD; total time=   1.8s\n",
      "[CV] END selector__L=0.7, selector__MS=0.75, selector__algorithm=algorithm2, selector__dispersion_measure=TV; total time=   1.8s\n"
     ]
    },
    {
     "name": "stderr",
     "output_type": "stream",
     "text": [
      "/Users/sofiafernandes/Documents/Repos/EmoReA/emorea-backend/src/select_features.py:54: RuntimeWarning: divide by zero encountered in scalar divide\n",
      "  dispersions[i] = arithmetic_mean / geometric_mean\n",
      "/Users/sofiafernandes/Documents/Repos/EmoReA/emorea-backend/src/select_features.py:54: RuntimeWarning: divide by zero encountered in scalar divide\n",
      "  dispersions[i] = arithmetic_mean / geometric_mean\n"
     ]
    },
    {
     "name": "stdout",
     "output_type": "stream",
     "text": [
      "[CV] END selector__L=0.7, selector__MS=0.75, selector__algorithm=algorithm2, selector__dispersion_measure=TV; total time=   1.8s\n",
      "[CV] END selector__L=0.7, selector__MS=0.75, selector__algorithm=algorithm2, selector__dispersion_measure=MAD; total time=   1.8s\n"
     ]
    },
    {
     "name": "stderr",
     "output_type": "stream",
     "text": [
      "/Users/sofiafernandes/Documents/Repos/EmoReA/emorea-backend/src/select_features.py:54: RuntimeWarning: divide by zero encountered in scalar divide\n",
      "  dispersions[i] = arithmetic_mean / geometric_mean\n",
      "/Users/sofiafernandes/Documents/Repos/EmoReA/emorea-backend/src/select_features.py:54: RuntimeWarning: divide by zero encountered in scalar divide\n",
      "  dispersions[i] = arithmetic_mean / geometric_mean\n"
     ]
    },
    {
     "name": "stdout",
     "output_type": "stream",
     "text": [
      "[CV] END selector__L=0.7, selector__MS=0.75, selector__algorithm=algorithm2, selector__dispersion_measure=TV; total time=   1.8s\n"
     ]
    },
    {
     "name": "stderr",
     "output_type": "stream",
     "text": [
      "/Users/sofiafernandes/Documents/Repos/EmoReA/emorea-backend/src/select_features.py:54: RuntimeWarning: divide by zero encountered in scalar divide\n",
      "  dispersions[i] = arithmetic_mean / geometric_mean\n"
     ]
    },
    {
     "name": "stdout",
     "output_type": "stream",
     "text": [
      "[CV] END selector__L=0.7, selector__MS=0.75, selector__algorithm=algorithm2, selector__dispersion_measure=TV; total time=   1.8s\n"
     ]
    },
    {
     "name": "stderr",
     "output_type": "stream",
     "text": [
      "/Users/sofiafernandes/Documents/Repos/EmoReA/emorea-backend/src/select_features.py:54: RuntimeWarning: divide by zero encountered in scalar divide\n",
      "  dispersions[i] = arithmetic_mean / geometric_mean\n"
     ]
    },
    {
     "name": "stdout",
     "output_type": "stream",
     "text": [
      "[CV] END selector__L=0.7, selector__MS=0.75, selector__algorithm=algorithm2, selector__dispersion_measure=TV; total time=   1.9s\n",
      "[CV] END selector__L=0.7, selector__MS=0.75, selector__algorithm=algorithm2, selector__dispersion_measure=TV; total time=   1.9s\n"
     ]
    },
    {
     "name": "stderr",
     "output_type": "stream",
     "text": [
      "/Users/sofiafernandes/Documents/Repos/EmoReA/emorea-backend/src/select_features.py:54: RuntimeWarning: divide by zero encountered in scalar divide\n",
      "  dispersions[i] = arithmetic_mean / geometric_mean\n",
      "/Users/sofiafernandes/Documents/Repos/EmoReA/emorea-backend/src/select_features.py:54: RuntimeWarning: divide by zero encountered in scalar divide\n",
      "  dispersions[i] = arithmetic_mean / geometric_mean\n"
     ]
    },
    {
     "name": "stdout",
     "output_type": "stream",
     "text": [
      "[CV] END selector__L=0.7, selector__MS=0.75, selector__algorithm=algorithm2, selector__dispersion_measure=TV; total time=   1.9s\n"
     ]
    },
    {
     "name": "stderr",
     "output_type": "stream",
     "text": [
      "/Users/sofiafernandes/Documents/Repos/EmoReA/emorea-backend/src/select_features.py:54: RuntimeWarning: divide by zero encountered in scalar divide\n",
      "  dispersions[i] = arithmetic_mean / geometric_mean\n"
     ]
    },
    {
     "name": "stdout",
     "output_type": "stream",
     "text": [
      "[CV] END selector__L=0.7, selector__MS=0.75, selector__algorithm=algorithm2, selector__dispersion_measure=TV; total time=   1.9s\n",
      "[CV] END selector__L=0.7, selector__MS=0.75, selector__algorithm=algorithm2, selector__dispersion_measure=TV; total time=   1.9s\n"
     ]
    },
    {
     "name": "stderr",
     "output_type": "stream",
     "text": [
      "/Users/sofiafernandes/Documents/Repos/EmoReA/emorea-backend/src/select_features.py:54: RuntimeWarning: divide by zero encountered in scalar divide\n",
      "  dispersions[i] = arithmetic_mean / geometric_mean\n"
     ]
    },
    {
     "name": "stdout",
     "output_type": "stream",
     "text": [
      "[CV] END selector__L=0.7, selector__MS=0.75, selector__algorithm=algorithm2, selector__dispersion_measure=TV; total time=   1.9s\n",
      "[CV] END selector__L=0.7, selector__MS=0.75, selector__algorithm=algorithm2, selector__dispersion_measure=AMGM; total time=   1.6s\n",
      "[CV] END selector__L=0.7, selector__MS=0.75, selector__algorithm=algorithm2, selector__dispersion_measure=AMGM; total time=   1.7s\n",
      "[CV] END selector__L=0.7, selector__MS=0.75, selector__algorithm=algorithm2, selector__dispersion_measure=AMGM; total time=   1.8s\n",
      "[CV] END selector__L=0.7, selector__MS=0.75, selector__algorithm=algorithm2, selector__dispersion_measure=AMGM; total time=   1.7s\n",
      "[CV] END selector__L=0.7, selector__MS=0.75, selector__algorithm=algorithm2, selector__dispersion_measure=AMGM; total time=   1.6s\n",
      "[CV] END selector__L=0.7, selector__MS=0.75, selector__algorithm=algorithm2, selector__dispersion_measure=AMGM; total time=   1.6s\n",
      "[CV] END selector__L=0.7, selector__MS=0.75, selector__algorithm=algorithm2, selector__dispersion_measure=AMGM; total time=   1.6s\n",
      "[CV] END selector__L=0.7, selector__MS=0.75, selector__algorithm=algorithm2, selector__dispersion_measure=AMGM; total time=   1.7s\n",
      "[CV] END selector__L=0.7, selector__MS=0.75, selector__algorithm=algorithm2, selector__dispersion_measure=AMGM; total time=   1.6s\n",
      "[CV] END selector__L=0.7, selector__MS=0.75, selector__algorithm=algorithm2, selector__dispersion_measure=AMGM; total time=   1.6s\n",
      "[CV] END selector__L=0.7, selector__MS=0.8, selector__algorithm=algorithm1, selector__dispersion_measure=MM; total time=   1.8s\n",
      "[CV] END selector__L=0.7, selector__MS=0.8, selector__algorithm=algorithm1, selector__dispersion_measure=MM; total time=   1.8s\n",
      "[CV] END selector__L=0.7, selector__MS=0.8, selector__algorithm=algorithm1, selector__dispersion_measure=MM; total time=   1.8s\n",
      "[CV] END selector__L=0.7, selector__MS=0.8, selector__algorithm=algorithm1, selector__dispersion_measure=MM; total time=   1.8s\n",
      "[CV] END selector__L=0.7, selector__MS=0.8, selector__algorithm=algorithm1, selector__dispersion_measure=MM; total time=   1.8s\n",
      "[CV] END selector__L=0.7, selector__MS=0.8, selector__algorithm=algorithm1, selector__dispersion_measure=MM; total time=   1.8s\n",
      "[CV] END selector__L=0.7, selector__MS=0.8, selector__algorithm=algorithm1, selector__dispersion_measure=MM; total time=   1.8s\n",
      "[CV] END selector__L=0.7, selector__MS=0.8, selector__algorithm=algorithm1, selector__dispersion_measure=MM; total time=   1.8s\n",
      "[CV] END selector__L=0.7, selector__MS=0.8, selector__algorithm=algorithm1, selector__dispersion_measure=MM; total time=   1.8s\n",
      "[CV] END selector__L=0.7, selector__MS=0.8, selector__algorithm=algorithm1, selector__dispersion_measure=MM; total time=   1.8s\n",
      "[CV] END selector__L=0.7, selector__MS=0.8, selector__algorithm=algorithm1, selector__dispersion_measure=MAD; total time=   1.8s\n",
      "[CV] END selector__L=0.7, selector__MS=0.8, selector__algorithm=algorithm1, selector__dispersion_measure=MAD; total time=   1.8s\n",
      "[CV] END selector__L=0.7, selector__MS=0.8, selector__algorithm=algorithm1, selector__dispersion_measure=MAD; total time=   1.8s\n",
      "[CV] END selector__L=0.7, selector__MS=0.8, selector__algorithm=algorithm1, selector__dispersion_measure=MAD; total time=   1.8s\n",
      "[CV] END selector__L=0.7, selector__MS=0.8, selector__algorithm=algorithm1, selector__dispersion_measure=MAD; total time=   1.8s\n",
      "[CV] END selector__L=0.7, selector__MS=0.8, selector__algorithm=algorithm1, selector__dispersion_measure=MAD; total time=   1.9s\n",
      "[CV] END selector__L=0.7, selector__MS=0.8, selector__algorithm=algorithm1, selector__dispersion_measure=MAD; total time=   1.9s\n",
      "[CV] END selector__L=0.7, selector__MS=0.8, selector__algorithm=algorithm1, selector__dispersion_measure=MAD; total time=   1.8s\n",
      "[CV] END selector__L=0.7, selector__MS=0.8, selector__algorithm=algorithm1, selector__dispersion_measure=MAD; total time=   1.8s\n"
     ]
    },
    {
     "name": "stderr",
     "output_type": "stream",
     "text": [
      "/Users/sofiafernandes/Documents/Repos/EmoReA/emorea-backend/src/select_features.py:54: RuntimeWarning: divide by zero encountered in scalar divide\n",
      "  dispersions[i] = arithmetic_mean / geometric_mean\n"
     ]
    },
    {
     "name": "stdout",
     "output_type": "stream",
     "text": [
      "[CV] END selector__L=0.7, selector__MS=0.8, selector__algorithm=algorithm1, selector__dispersion_measure=MAD; total time=   1.7s\n"
     ]
    },
    {
     "name": "stderr",
     "output_type": "stream",
     "text": [
      "/Users/sofiafernandes/Documents/Repos/EmoReA/emorea-backend/src/select_features.py:54: RuntimeWarning: divide by zero encountered in scalar divide\n",
      "  dispersions[i] = arithmetic_mean / geometric_mean\n"
     ]
    },
    {
     "name": "stdout",
     "output_type": "stream",
     "text": [
      "[CV] END selector__L=0.7, selector__MS=0.8, selector__algorithm=algorithm1, selector__dispersion_measure=TV; total time=   1.8s\n"
     ]
    },
    {
     "name": "stderr",
     "output_type": "stream",
     "text": [
      "/Users/sofiafernandes/Documents/Repos/EmoReA/emorea-backend/src/select_features.py:54: RuntimeWarning: divide by zero encountered in scalar divide\n",
      "  dispersions[i] = arithmetic_mean / geometric_mean\n"
     ]
    },
    {
     "name": "stdout",
     "output_type": "stream",
     "text": [
      "[CV] END selector__L=0.7, selector__MS=0.8, selector__algorithm=algorithm1, selector__dispersion_measure=TV; total time=   1.8s\n",
      "[CV] END selector__L=0.7, selector__MS=0.8, selector__algorithm=algorithm1, selector__dispersion_measure=TV; total time=   1.8s\n"
     ]
    },
    {
     "name": "stderr",
     "output_type": "stream",
     "text": [
      "/Users/sofiafernandes/Documents/Repos/EmoReA/emorea-backend/src/select_features.py:54: RuntimeWarning: divide by zero encountered in scalar divide\n",
      "  dispersions[i] = arithmetic_mean / geometric_mean\n",
      "/Users/sofiafernandes/Documents/Repos/EmoReA/emorea-backend/src/select_features.py:54: RuntimeWarning: divide by zero encountered in scalar divide\n",
      "  dispersions[i] = arithmetic_mean / geometric_mean\n"
     ]
    },
    {
     "name": "stdout",
     "output_type": "stream",
     "text": [
      "[CV] END selector__L=0.7, selector__MS=0.8, selector__algorithm=algorithm1, selector__dispersion_measure=TV; total time=   1.8s\n"
     ]
    },
    {
     "name": "stderr",
     "output_type": "stream",
     "text": [
      "/Users/sofiafernandes/Documents/Repos/EmoReA/emorea-backend/src/select_features.py:54: RuntimeWarning: divide by zero encountered in scalar divide\n",
      "  dispersions[i] = arithmetic_mean / geometric_mean\n"
     ]
    },
    {
     "name": "stdout",
     "output_type": "stream",
     "text": [
      "[CV] END selector__L=0.7, selector__MS=0.8, selector__algorithm=algorithm1, selector__dispersion_measure=TV; total time=   1.8s\n"
     ]
    },
    {
     "name": "stderr",
     "output_type": "stream",
     "text": [
      "/Users/sofiafernandes/Documents/Repos/EmoReA/emorea-backend/src/select_features.py:54: RuntimeWarning: divide by zero encountered in scalar divide\n",
      "  dispersions[i] = arithmetic_mean / geometric_mean\n"
     ]
    },
    {
     "name": "stdout",
     "output_type": "stream",
     "text": [
      "[CV] END selector__L=0.7, selector__MS=0.8, selector__algorithm=algorithm1, selector__dispersion_measure=TV; total time=   1.8s\n",
      "[CV] END selector__L=0.7, selector__MS=0.8, selector__algorithm=algorithm1, selector__dispersion_measure=TV; total time=   1.8s\n",
      "[CV] END selector__L=0.7, selector__MS=0.8, selector__algorithm=algorithm1, selector__dispersion_measure=TV; total time=   1.8s\n",
      "[CV] END selector__L=0.7, selector__MS=0.8, selector__algorithm=algorithm1, selector__dispersion_measure=TV; total time=   1.8s\n"
     ]
    },
    {
     "name": "stderr",
     "output_type": "stream",
     "text": [
      "/Users/sofiafernandes/Documents/Repos/EmoReA/emorea-backend/src/select_features.py:54: RuntimeWarning: divide by zero encountered in scalar divide\n",
      "  dispersions[i] = arithmetic_mean / geometric_mean\n",
      "/Users/sofiafernandes/Documents/Repos/EmoReA/emorea-backend/src/select_features.py:54: RuntimeWarning: divide by zero encountered in scalar divide\n",
      "  dispersions[i] = arithmetic_mean / geometric_mean\n",
      "/Users/sofiafernandes/Documents/Repos/EmoReA/emorea-backend/src/select_features.py:54: RuntimeWarning: divide by zero encountered in scalar divide\n",
      "  dispersions[i] = arithmetic_mean / geometric_mean\n"
     ]
    },
    {
     "name": "stdout",
     "output_type": "stream",
     "text": [
      "[CV] END selector__L=0.7, selector__MS=0.8, selector__algorithm=algorithm1, selector__dispersion_measure=TV; total time=   1.8s\n",
      "[CV] END selector__L=0.7, selector__MS=0.8, selector__algorithm=algorithm1, selector__dispersion_measure=AMGM; total time=   1.8s\n",
      "[CV] END selector__L=0.7, selector__MS=0.8, selector__algorithm=algorithm1, selector__dispersion_measure=AMGM; total time=   1.9s\n",
      "[CV] END selector__L=0.7, selector__MS=0.8, selector__algorithm=algorithm1, selector__dispersion_measure=AMGM; total time=   1.8s\n",
      "[CV] END selector__L=0.7, selector__MS=0.8, selector__algorithm=algorithm1, selector__dispersion_measure=AMGM; total time=   1.8s\n",
      "[CV] END selector__L=0.7, selector__MS=0.8, selector__algorithm=algorithm1, selector__dispersion_measure=AMGM; total time=   1.9s\n",
      "[CV] END selector__L=0.7, selector__MS=0.8, selector__algorithm=algorithm1, selector__dispersion_measure=AMGM; total time=   1.8s\n",
      "[CV] END selector__L=0.7, selector__MS=0.8, selector__algorithm=algorithm1, selector__dispersion_measure=AMGM; total time=   1.8s\n",
      "[CV] END selector__L=0.7, selector__MS=0.8, selector__algorithm=algorithm1, selector__dispersion_measure=AMGM; total time=   1.8s\n",
      "[CV] END selector__L=0.7, selector__MS=0.8, selector__algorithm=algorithm1, selector__dispersion_measure=AMGM; total time=   1.8s\n",
      "[CV] END selector__L=0.7, selector__MS=0.8, selector__algorithm=algorithm1, selector__dispersion_measure=AMGM; total time=   1.8s\n",
      "[CV] END selector__L=0.7, selector__MS=0.8, selector__algorithm=algorithm2, selector__dispersion_measure=MM; total time=   1.9s\n",
      "[CV] END selector__L=0.7, selector__MS=0.8, selector__algorithm=algorithm2, selector__dispersion_measure=MM; total time=   1.8s\n",
      "[CV] END selector__L=0.7, selector__MS=0.8, selector__algorithm=algorithm2, selector__dispersion_measure=MM; total time=   1.8s\n",
      "[CV] END selector__L=0.7, selector__MS=0.8, selector__algorithm=algorithm2, selector__dispersion_measure=MM; total time=   1.8s\n",
      "[CV] END selector__L=0.7, selector__MS=0.8, selector__algorithm=algorithm2, selector__dispersion_measure=MM; total time=   1.8s\n",
      "[CV] END selector__L=0.7, selector__MS=0.8, selector__algorithm=algorithm2, selector__dispersion_measure=MM; total time=   1.8s\n",
      "[CV] END selector__L=0.7, selector__MS=0.8, selector__algorithm=algorithm2, selector__dispersion_measure=MM; total time=   1.9s\n",
      "[CV] END selector__L=0.7, selector__MS=0.8, selector__algorithm=algorithm2, selector__dispersion_measure=MM; total time=   1.9s\n",
      "[CV] END selector__L=0.7, selector__MS=0.8, selector__algorithm=algorithm2, selector__dispersion_measure=MM; total time=   1.9s\n",
      "[CV] END selector__L=0.7, selector__MS=0.8, selector__algorithm=algorithm2, selector__dispersion_measure=MAD; total time=   1.9s\n",
      "[CV] END selector__L=0.7, selector__MS=0.8, selector__algorithm=algorithm2, selector__dispersion_measure=MM; total time=   1.9s\n",
      "[CV] END selector__L=0.7, selector__MS=0.8, selector__algorithm=algorithm2, selector__dispersion_measure=MAD; total time=   1.9s\n",
      "[CV] END selector__L=0.7, selector__MS=0.8, selector__algorithm=algorithm2, selector__dispersion_measure=MAD; total time=   1.7s\n",
      "[CV] END selector__L=0.7, selector__MS=0.8, selector__algorithm=algorithm2, selector__dispersion_measure=MAD; total time=   1.8s\n",
      "[CV] END selector__L=0.7, selector__MS=0.8, selector__algorithm=algorithm2, selector__dispersion_measure=MAD; total time=   1.8s\n",
      "[CV] END selector__L=0.7, selector__MS=0.8, selector__algorithm=algorithm2, selector__dispersion_measure=MAD; total time=   1.8s\n",
      "[CV] END selector__L=0.7, selector__MS=0.8, selector__algorithm=algorithm2, selector__dispersion_measure=MAD; total time=   1.8s\n",
      "[CV] END selector__L=0.7, selector__MS=0.8, selector__algorithm=algorithm2, selector__dispersion_measure=MAD; total time=   1.8s\n",
      "[CV] END selector__L=0.7, selector__MS=0.8, selector__algorithm=algorithm2, selector__dispersion_measure=MAD; total time=   1.8s\n",
      "[CV] END selector__L=0.7, selector__MS=0.8, selector__algorithm=algorithm2, selector__dispersion_measure=MAD; total time=   1.8s\n"
     ]
    },
    {
     "name": "stderr",
     "output_type": "stream",
     "text": [
      "/Users/sofiafernandes/Documents/Repos/EmoReA/emorea-backend/src/select_features.py:54: RuntimeWarning: divide by zero encountered in scalar divide\n",
      "  dispersions[i] = arithmetic_mean / geometric_mean\n",
      "/Users/sofiafernandes/Documents/Repos/EmoReA/emorea-backend/src/select_features.py:54: RuntimeWarning: divide by zero encountered in scalar divide\n",
      "  dispersions[i] = arithmetic_mean / geometric_mean\n"
     ]
    },
    {
     "name": "stdout",
     "output_type": "stream",
     "text": [
      "[CV] END selector__L=0.7, selector__MS=0.8, selector__algorithm=algorithm2, selector__dispersion_measure=TV; total time=   1.8s\n"
     ]
    },
    {
     "name": "stderr",
     "output_type": "stream",
     "text": [
      "/Users/sofiafernandes/Documents/Repos/EmoReA/emorea-backend/src/select_features.py:54: RuntimeWarning: divide by zero encountered in scalar divide\n",
      "  dispersions[i] = arithmetic_mean / geometric_mean\n"
     ]
    },
    {
     "name": "stdout",
     "output_type": "stream",
     "text": [
      "[CV] END selector__L=0.7, selector__MS=0.8, selector__algorithm=algorithm2, selector__dispersion_measure=TV; total time=   1.8s\n",
      "[CV] END selector__L=0.7, selector__MS=0.8, selector__algorithm=algorithm2, selector__dispersion_measure=TV; total time=   1.8s\n",
      "[CV] END selector__L=0.7, selector__MS=0.8, selector__algorithm=algorithm2, selector__dispersion_measure=TV; total time=   1.9s\n"
     ]
    },
    {
     "name": "stderr",
     "output_type": "stream",
     "text": [
      "/Users/sofiafernandes/Documents/Repos/EmoReA/emorea-backend/src/select_features.py:54: RuntimeWarning: divide by zero encountered in scalar divide\n",
      "  dispersions[i] = arithmetic_mean / geometric_mean\n",
      "/Users/sofiafernandes/Documents/Repos/EmoReA/emorea-backend/src/select_features.py:54: RuntimeWarning: divide by zero encountered in scalar divide\n",
      "  dispersions[i] = arithmetic_mean / geometric_mean\n",
      "/Users/sofiafernandes/Documents/Repos/EmoReA/emorea-backend/src/select_features.py:54: RuntimeWarning: divide by zero encountered in scalar divide\n",
      "  dispersions[i] = arithmetic_mean / geometric_mean\n"
     ]
    },
    {
     "name": "stdout",
     "output_type": "stream",
     "text": [
      "[CV] END selector__L=0.7, selector__MS=0.8, selector__algorithm=algorithm2, selector__dispersion_measure=TV; total time=   1.8s\n"
     ]
    },
    {
     "name": "stderr",
     "output_type": "stream",
     "text": [
      "/Users/sofiafernandes/Documents/Repos/EmoReA/emorea-backend/src/select_features.py:54: RuntimeWarning: divide by zero encountered in scalar divide\n",
      "  dispersions[i] = arithmetic_mean / geometric_mean\n"
     ]
    },
    {
     "name": "stdout",
     "output_type": "stream",
     "text": [
      "[CV] END selector__L=0.7, selector__MS=0.8, selector__algorithm=algorithm2, selector__dispersion_measure=TV; total time=   1.9s\n"
     ]
    },
    {
     "name": "stderr",
     "output_type": "stream",
     "text": [
      "/Users/sofiafernandes/Documents/Repos/EmoReA/emorea-backend/src/select_features.py:54: RuntimeWarning: divide by zero encountered in scalar divide\n",
      "  dispersions[i] = arithmetic_mean / geometric_mean\n"
     ]
    },
    {
     "name": "stdout",
     "output_type": "stream",
     "text": [
      "[CV] END selector__L=0.7, selector__MS=0.8, selector__algorithm=algorithm2, selector__dispersion_measure=TV; total time=   2.0s\n"
     ]
    },
    {
     "name": "stderr",
     "output_type": "stream",
     "text": [
      "/Users/sofiafernandes/Documents/Repos/EmoReA/emorea-backend/src/select_features.py:54: RuntimeWarning: divide by zero encountered in scalar divide\n",
      "  dispersions[i] = arithmetic_mean / geometric_mean\n"
     ]
    },
    {
     "name": "stdout",
     "output_type": "stream",
     "text": [
      "[CV] END selector__L=0.7, selector__MS=0.8, selector__algorithm=algorithm2, selector__dispersion_measure=TV; total time=   1.9s\n"
     ]
    },
    {
     "name": "stderr",
     "output_type": "stream",
     "text": [
      "/Users/sofiafernandes/Documents/Repos/EmoReA/emorea-backend/src/select_features.py:54: RuntimeWarning: divide by zero encountered in scalar divide\n",
      "  dispersions[i] = arithmetic_mean / geometric_mean\n"
     ]
    },
    {
     "name": "stdout",
     "output_type": "stream",
     "text": [
      "[CV] END selector__L=0.7, selector__MS=0.8, selector__algorithm=algorithm2, selector__dispersion_measure=TV; total time=   1.8s\n",
      "[CV] END selector__L=0.7, selector__MS=0.8, selector__algorithm=algorithm2, selector__dispersion_measure=TV; total time=   1.8s\n",
      "[CV] END selector__L=0.7, selector__MS=0.8, selector__algorithm=algorithm2, selector__dispersion_measure=AMGM; total time=   1.8s\n",
      "[CV] END selector__L=0.7, selector__MS=0.8, selector__algorithm=algorithm2, selector__dispersion_measure=AMGM; total time=   1.7s\n",
      "[CV] END selector__L=0.7, selector__MS=0.8, selector__algorithm=algorithm2, selector__dispersion_measure=AMGM; total time=   1.8s\n",
      "[CV] END selector__L=0.7, selector__MS=0.8, selector__algorithm=algorithm2, selector__dispersion_measure=AMGM; total time=   1.7s\n",
      "[CV] END selector__L=0.7, selector__MS=0.8, selector__algorithm=algorithm2, selector__dispersion_measure=AMGM; total time=   1.9s\n",
      "[CV] END selector__L=0.7, selector__MS=0.8, selector__algorithm=algorithm2, selector__dispersion_measure=AMGM; total time=   1.8s\n",
      "[CV] END selector__L=0.7, selector__MS=0.8, selector__algorithm=algorithm2, selector__dispersion_measure=AMGM; total time=   1.8s\n",
      "[CV] END selector__L=0.7, selector__MS=0.8, selector__algorithm=algorithm2, selector__dispersion_measure=AMGM; total time=   1.9s\n",
      "[CV] END selector__L=0.7, selector__MS=0.8, selector__algorithm=algorithm2, selector__dispersion_measure=AMGM; total time=   1.8s\n",
      "[CV] END selector__L=0.7, selector__MS=0.8, selector__algorithm=algorithm2, selector__dispersion_measure=AMGM; total time=   1.7s\n",
      "[CV] END selector__L=0.8, selector__MS=0.7, selector__algorithm=algorithm1, selector__dispersion_measure=MM; total time=   1.7s\n",
      "[CV] END selector__L=0.8, selector__MS=0.7, selector__algorithm=algorithm1, selector__dispersion_measure=MM; total time=   1.8s\n",
      "[CV] END selector__L=0.8, selector__MS=0.7, selector__algorithm=algorithm1, selector__dispersion_measure=MM; total time=   1.8s\n",
      "[CV] END selector__L=0.8, selector__MS=0.7, selector__algorithm=algorithm1, selector__dispersion_measure=MM; total time=   1.8s\n",
      "[CV] END selector__L=0.8, selector__MS=0.7, selector__algorithm=algorithm1, selector__dispersion_measure=MM; total time=   1.7s\n",
      "[CV] END selector__L=0.8, selector__MS=0.7, selector__algorithm=algorithm1, selector__dispersion_measure=MM; total time=   1.8s\n",
      "[CV] END selector__L=0.8, selector__MS=0.7, selector__algorithm=algorithm1, selector__dispersion_measure=MM; total time=   1.8s\n",
      "[CV] END selector__L=0.8, selector__MS=0.7, selector__algorithm=algorithm1, selector__dispersion_measure=MM; total time=   1.8s\n",
      "[CV] END selector__L=0.8, selector__MS=0.7, selector__algorithm=algorithm1, selector__dispersion_measure=MM; total time=   1.8s\n",
      "[CV] END selector__L=0.8, selector__MS=0.7, selector__algorithm=algorithm1, selector__dispersion_measure=MM; total time=   1.8s\n",
      "[CV] END selector__L=0.8, selector__MS=0.7, selector__algorithm=algorithm1, selector__dispersion_measure=MAD; total time=   1.8s\n",
      "[CV] END selector__L=0.8, selector__MS=0.7, selector__algorithm=algorithm1, selector__dispersion_measure=MAD; total time=   1.8s\n",
      "[CV] END selector__L=0.8, selector__MS=0.7, selector__algorithm=algorithm1, selector__dispersion_measure=MAD; total time=   1.7s\n",
      "[CV] END selector__L=0.8, selector__MS=0.7, selector__algorithm=algorithm1, selector__dispersion_measure=MAD; total time=   1.8s\n",
      "[CV] END selector__L=0.8, selector__MS=0.7, selector__algorithm=algorithm1, selector__dispersion_measure=MAD; total time=   1.8s\n",
      "[CV] END selector__L=0.8, selector__MS=0.7, selector__algorithm=algorithm1, selector__dispersion_measure=MAD; total time=   1.8s\n",
      "[CV] END selector__L=0.8, selector__MS=0.7, selector__algorithm=algorithm1, selector__dispersion_measure=MAD; total time=   1.9s\n",
      "[CV] END selector__L=0.8, selector__MS=0.7, selector__algorithm=algorithm1, selector__dispersion_measure=MAD; total time=   1.7s\n",
      "[CV] END selector__L=0.8, selector__MS=0.7, selector__algorithm=algorithm1, selector__dispersion_measure=MAD; total time=   1.8s\n",
      "[CV] END selector__L=0.8, selector__MS=0.7, selector__algorithm=algorithm1, selector__dispersion_measure=TV; total time=   1.8s\n",
      "[CV] END selector__L=0.8, selector__MS=0.7, selector__algorithm=algorithm1, selector__dispersion_measure=MAD; total time=   1.8s\n"
     ]
    },
    {
     "name": "stderr",
     "output_type": "stream",
     "text": [
      "/Users/sofiafernandes/Documents/Repos/EmoReA/emorea-backend/src/select_features.py:54: RuntimeWarning: divide by zero encountered in scalar divide\n",
      "  dispersions[i] = arithmetic_mean / geometric_mean\n",
      "/Users/sofiafernandes/Documents/Repos/EmoReA/emorea-backend/src/select_features.py:54: RuntimeWarning: divide by zero encountered in scalar divide\n",
      "  dispersions[i] = arithmetic_mean / geometric_mean\n",
      "/Users/sofiafernandes/Documents/Repos/EmoReA/emorea-backend/src/select_features.py:54: RuntimeWarning: divide by zero encountered in scalar divide\n",
      "  dispersions[i] = arithmetic_mean / geometric_mean\n"
     ]
    },
    {
     "name": "stdout",
     "output_type": "stream",
     "text": [
      "[CV] END selector__L=0.8, selector__MS=0.7, selector__algorithm=algorithm1, selector__dispersion_measure=TV; total time=   1.8s\n"
     ]
    },
    {
     "name": "stderr",
     "output_type": "stream",
     "text": [
      "/Users/sofiafernandes/Documents/Repos/EmoReA/emorea-backend/src/select_features.py:54: RuntimeWarning: divide by zero encountered in scalar divide\n",
      "  dispersions[i] = arithmetic_mean / geometric_mean\n"
     ]
    },
    {
     "name": "stdout",
     "output_type": "stream",
     "text": [
      "[CV] END selector__L=0.8, selector__MS=0.7, selector__algorithm=algorithm1, selector__dispersion_measure=TV; total time=   1.8s\n"
     ]
    },
    {
     "name": "stderr",
     "output_type": "stream",
     "text": [
      "/Users/sofiafernandes/Documents/Repos/EmoReA/emorea-backend/src/select_features.py:54: RuntimeWarning: divide by zero encountered in scalar divide\n",
      "  dispersions[i] = arithmetic_mean / geometric_mean\n"
     ]
    },
    {
     "name": "stdout",
     "output_type": "stream",
     "text": [
      "[CV] END selector__L=0.8, selector__MS=0.7, selector__algorithm=algorithm1, selector__dispersion_measure=TV; total time=   1.8s\n"
     ]
    },
    {
     "name": "stderr",
     "output_type": "stream",
     "text": [
      "/Users/sofiafernandes/Documents/Repos/EmoReA/emorea-backend/src/select_features.py:54: RuntimeWarning: divide by zero encountered in scalar divide\n",
      "  dispersions[i] = arithmetic_mean / geometric_mean\n"
     ]
    },
    {
     "name": "stdout",
     "output_type": "stream",
     "text": [
      "[CV] END selector__L=0.8, selector__MS=0.7, selector__algorithm=algorithm1, selector__dispersion_measure=TV; total time=   1.8s\n"
     ]
    },
    {
     "name": "stderr",
     "output_type": "stream",
     "text": [
      "/Users/sofiafernandes/Documents/Repos/EmoReA/emorea-backend/src/select_features.py:54: RuntimeWarning: divide by zero encountered in scalar divide\n",
      "  dispersions[i] = arithmetic_mean / geometric_mean\n"
     ]
    },
    {
     "name": "stdout",
     "output_type": "stream",
     "text": [
      "[CV] END selector__L=0.8, selector__MS=0.7, selector__algorithm=algorithm1, selector__dispersion_measure=TV; total time=   1.8s\n"
     ]
    },
    {
     "name": "stderr",
     "output_type": "stream",
     "text": [
      "/Users/sofiafernandes/Documents/Repos/EmoReA/emorea-backend/src/select_features.py:54: RuntimeWarning: divide by zero encountered in scalar divide\n",
      "  dispersions[i] = arithmetic_mean / geometric_mean\n"
     ]
    },
    {
     "name": "stdout",
     "output_type": "stream",
     "text": [
      "[CV] END selector__L=0.8, selector__MS=0.7, selector__algorithm=algorithm1, selector__dispersion_measure=TV; total time=   1.7s\n",
      "[CV] END selector__L=0.8, selector__MS=0.7, selector__algorithm=algorithm1, selector__dispersion_measure=TV; total time=   1.7s\n"
     ]
    },
    {
     "name": "stderr",
     "output_type": "stream",
     "text": [
      "/Users/sofiafernandes/Documents/Repos/EmoReA/emorea-backend/src/select_features.py:54: RuntimeWarning: divide by zero encountered in scalar divide\n",
      "  dispersions[i] = arithmetic_mean / geometric_mean\n",
      "/Users/sofiafernandes/Documents/Repos/EmoReA/emorea-backend/src/select_features.py:54: RuntimeWarning: divide by zero encountered in scalar divide\n",
      "  dispersions[i] = arithmetic_mean / geometric_mean\n"
     ]
    },
    {
     "name": "stdout",
     "output_type": "stream",
     "text": [
      "[CV] END selector__L=0.8, selector__MS=0.7, selector__algorithm=algorithm1, selector__dispersion_measure=TV; total time=   1.8s\n",
      "[CV] END selector__L=0.8, selector__MS=0.7, selector__algorithm=algorithm1, selector__dispersion_measure=TV; total time=   1.8s\n",
      "[CV] END selector__L=0.8, selector__MS=0.7, selector__algorithm=algorithm1, selector__dispersion_measure=AMGM; total time=   1.8s\n",
      "[CV] END selector__L=0.8, selector__MS=0.7, selector__algorithm=algorithm1, selector__dispersion_measure=AMGM; total time=   1.8s\n",
      "[CV] END selector__L=0.8, selector__MS=0.7, selector__algorithm=algorithm1, selector__dispersion_measure=AMGM; total time=   1.8s\n",
      "[CV] END selector__L=0.8, selector__MS=0.7, selector__algorithm=algorithm1, selector__dispersion_measure=AMGM; total time=   1.9s\n",
      "[CV] END selector__L=0.8, selector__MS=0.7, selector__algorithm=algorithm1, selector__dispersion_measure=AMGM; total time=   1.8s\n",
      "[CV] END selector__L=0.8, selector__MS=0.7, selector__algorithm=algorithm1, selector__dispersion_measure=AMGM; total time=   1.8s\n",
      "[CV] END selector__L=0.8, selector__MS=0.7, selector__algorithm=algorithm1, selector__dispersion_measure=AMGM; total time=   1.8s\n",
      "[CV] END selector__L=0.8, selector__MS=0.7, selector__algorithm=algorithm1, selector__dispersion_measure=AMGM; total time=   1.8s\n",
      "[CV] END selector__L=0.8, selector__MS=0.7, selector__algorithm=algorithm1, selector__dispersion_measure=AMGM; total time=   1.8s\n",
      "[CV] END selector__L=0.8, selector__MS=0.7, selector__algorithm=algorithm1, selector__dispersion_measure=AMGM; total time=   1.8s\n",
      "[CV] END selector__L=0.8, selector__MS=0.7, selector__algorithm=algorithm2, selector__dispersion_measure=MM; total time=   1.8s\n",
      "[CV] END selector__L=0.8, selector__MS=0.7, selector__algorithm=algorithm2, selector__dispersion_measure=MM; total time=   1.7s\n",
      "[CV] END selector__L=0.8, selector__MS=0.7, selector__algorithm=algorithm2, selector__dispersion_measure=MM; total time=   1.7s\n",
      "[CV] END selector__L=0.8, selector__MS=0.7, selector__algorithm=algorithm2, selector__dispersion_measure=MM; total time=   1.7s\n",
      "[CV] END selector__L=0.8, selector__MS=0.7, selector__algorithm=algorithm2, selector__dispersion_measure=MM; total time=   1.7s\n",
      "[CV] END selector__L=0.8, selector__MS=0.7, selector__algorithm=algorithm2, selector__dispersion_measure=MM; total time=   1.7s\n",
      "[CV] END selector__L=0.8, selector__MS=0.7, selector__algorithm=algorithm2, selector__dispersion_measure=MM; total time=   1.8s\n",
      "[CV] END selector__L=0.8, selector__MS=0.7, selector__algorithm=algorithm2, selector__dispersion_measure=MM; total time=   1.7s\n",
      "[CV] END selector__L=0.8, selector__MS=0.7, selector__algorithm=algorithm2, selector__dispersion_measure=MM; total time=   1.6s\n",
      "[CV] END selector__L=0.8, selector__MS=0.7, selector__algorithm=algorithm2, selector__dispersion_measure=MM; total time=   1.7s\n",
      "[CV] END selector__L=0.8, selector__MS=0.7, selector__algorithm=algorithm2, selector__dispersion_measure=MAD; total time=   1.8s\n",
      "[CV] END selector__L=0.8, selector__MS=0.7, selector__algorithm=algorithm2, selector__dispersion_measure=MAD; total time=   1.8s\n",
      "[CV] END selector__L=0.8, selector__MS=0.7, selector__algorithm=algorithm2, selector__dispersion_measure=MAD; total time=   1.7s\n",
      "[CV] END selector__L=0.8, selector__MS=0.7, selector__algorithm=algorithm2, selector__dispersion_measure=MAD; total time=   1.8s\n",
      "[CV] END selector__L=0.8, selector__MS=0.7, selector__algorithm=algorithm2, selector__dispersion_measure=MAD; total time=   1.8s\n",
      "[CV] END selector__L=0.8, selector__MS=0.7, selector__algorithm=algorithm2, selector__dispersion_measure=MAD; total time=   1.7s\n",
      "[CV] END selector__L=0.8, selector__MS=0.7, selector__algorithm=algorithm2, selector__dispersion_measure=MAD; total time=   1.8s\n",
      "[CV] END selector__L=0.8, selector__MS=0.7, selector__algorithm=algorithm2, selector__dispersion_measure=MAD; total time=   1.8s\n",
      "[CV] END selector__L=0.8, selector__MS=0.7, selector__algorithm=algorithm2, selector__dispersion_measure=MAD; total time=   1.8s\n"
     ]
    },
    {
     "name": "stderr",
     "output_type": "stream",
     "text": [
      "/Users/sofiafernandes/Documents/Repos/EmoReA/emorea-backend/src/select_features.py:54: RuntimeWarning: divide by zero encountered in scalar divide\n",
      "  dispersions[i] = arithmetic_mean / geometric_mean\n"
     ]
    },
    {
     "name": "stdout",
     "output_type": "stream",
     "text": [
      "[CV] END selector__L=0.8, selector__MS=0.7, selector__algorithm=algorithm2, selector__dispersion_measure=MAD; total time=   1.8s\n"
     ]
    },
    {
     "name": "stderr",
     "output_type": "stream",
     "text": [
      "/Users/sofiafernandes/Documents/Repos/EmoReA/emorea-backend/src/select_features.py:54: RuntimeWarning: divide by zero encountered in scalar divide\n",
      "  dispersions[i] = arithmetic_mean / geometric_mean\n"
     ]
    },
    {
     "name": "stdout",
     "output_type": "stream",
     "text": [
      "[CV] END selector__L=0.8, selector__MS=0.7, selector__algorithm=algorithm2, selector__dispersion_measure=TV; total time=   1.8s\n",
      "[CV] END selector__L=0.8, selector__MS=0.7, selector__algorithm=algorithm2, selector__dispersion_measure=TV; total time=   1.8s\n"
     ]
    },
    {
     "name": "stderr",
     "output_type": "stream",
     "text": [
      "/Users/sofiafernandes/Documents/Repos/EmoReA/emorea-backend/src/select_features.py:54: RuntimeWarning: divide by zero encountered in scalar divide\n",
      "  dispersions[i] = arithmetic_mean / geometric_mean\n",
      "/Users/sofiafernandes/Documents/Repos/EmoReA/emorea-backend/src/select_features.py:54: RuntimeWarning: divide by zero encountered in scalar divide\n",
      "  dispersions[i] = arithmetic_mean / geometric_mean\n"
     ]
    },
    {
     "name": "stdout",
     "output_type": "stream",
     "text": [
      "[CV] END selector__L=0.8, selector__MS=0.7, selector__algorithm=algorithm2, selector__dispersion_measure=TV; total time=   1.8s\n"
     ]
    },
    {
     "name": "stderr",
     "output_type": "stream",
     "text": [
      "/Users/sofiafernandes/Documents/Repos/EmoReA/emorea-backend/src/select_features.py:54: RuntimeWarning: divide by zero encountered in scalar divide\n",
      "  dispersions[i] = arithmetic_mean / geometric_mean\n"
     ]
    },
    {
     "name": "stdout",
     "output_type": "stream",
     "text": [
      "[CV] END selector__L=0.8, selector__MS=0.7, selector__algorithm=algorithm2, selector__dispersion_measure=TV; total time=   1.8s\n"
     ]
    },
    {
     "name": "stderr",
     "output_type": "stream",
     "text": [
      "/Users/sofiafernandes/Documents/Repos/EmoReA/emorea-backend/src/select_features.py:54: RuntimeWarning: divide by zero encountered in scalar divide\n",
      "  dispersions[i] = arithmetic_mean / geometric_mean\n"
     ]
    },
    {
     "name": "stdout",
     "output_type": "stream",
     "text": [
      "[CV] END selector__L=0.8, selector__MS=0.7, selector__algorithm=algorithm2, selector__dispersion_measure=TV; total time=   1.8s\n"
     ]
    },
    {
     "name": "stderr",
     "output_type": "stream",
     "text": [
      "/Users/sofiafernandes/Documents/Repos/EmoReA/emorea-backend/src/select_features.py:54: RuntimeWarning: divide by zero encountered in scalar divide\n",
      "  dispersions[i] = arithmetic_mean / geometric_mean\n"
     ]
    },
    {
     "name": "stdout",
     "output_type": "stream",
     "text": [
      "[CV] END selector__L=0.8, selector__MS=0.7, selector__algorithm=algorithm2, selector__dispersion_measure=TV; total time=   1.8s\n"
     ]
    },
    {
     "name": "stderr",
     "output_type": "stream",
     "text": [
      "/Users/sofiafernandes/Documents/Repos/EmoReA/emorea-backend/src/select_features.py:54: RuntimeWarning: divide by zero encountered in scalar divide\n",
      "  dispersions[i] = arithmetic_mean / geometric_mean\n"
     ]
    },
    {
     "name": "stdout",
     "output_type": "stream",
     "text": [
      "[CV] END selector__L=0.8, selector__MS=0.7, selector__algorithm=algorithm2, selector__dispersion_measure=TV; total time=   1.8s\n",
      "[CV] END selector__L=0.8, selector__MS=0.7, selector__algorithm=algorithm2, selector__dispersion_measure=TV; total time=   1.8s\n"
     ]
    },
    {
     "name": "stderr",
     "output_type": "stream",
     "text": [
      "/Users/sofiafernandes/Documents/Repos/EmoReA/emorea-backend/src/select_features.py:54: RuntimeWarning: divide by zero encountered in scalar divide\n",
      "  dispersions[i] = arithmetic_mean / geometric_mean\n",
      "/Users/sofiafernandes/Documents/Repos/EmoReA/emorea-backend/src/select_features.py:54: RuntimeWarning: divide by zero encountered in scalar divide\n",
      "  dispersions[i] = arithmetic_mean / geometric_mean\n"
     ]
    },
    {
     "name": "stdout",
     "output_type": "stream",
     "text": [
      "[CV] END selector__L=0.8, selector__MS=0.7, selector__algorithm=algorithm2, selector__dispersion_measure=TV; total time=   1.9s\n",
      "[CV] END selector__L=0.8, selector__MS=0.7, selector__algorithm=algorithm2, selector__dispersion_measure=TV; total time=   1.8s\n",
      "[CV] END selector__L=0.8, selector__MS=0.7, selector__algorithm=algorithm2, selector__dispersion_measure=AMGM; total time=   1.7s\n",
      "[CV] END selector__L=0.8, selector__MS=0.7, selector__algorithm=algorithm2, selector__dispersion_measure=AMGM; total time=   1.8s\n",
      "[CV] END selector__L=0.8, selector__MS=0.7, selector__algorithm=algorithm2, selector__dispersion_measure=AMGM; total time=   1.7s\n",
      "[CV] END selector__L=0.8, selector__MS=0.7, selector__algorithm=algorithm2, selector__dispersion_measure=AMGM; total time=   1.8s\n",
      "[CV] END selector__L=0.8, selector__MS=0.7, selector__algorithm=algorithm2, selector__dispersion_measure=AMGM; total time=   1.6s\n",
      "[CV] END selector__L=0.8, selector__MS=0.7, selector__algorithm=algorithm2, selector__dispersion_measure=AMGM; total time=   1.8s\n",
      "[CV] END selector__L=0.8, selector__MS=0.7, selector__algorithm=algorithm2, selector__dispersion_measure=AMGM; total time=   1.9s\n",
      "[CV] END selector__L=0.8, selector__MS=0.7, selector__algorithm=algorithm2, selector__dispersion_measure=AMGM; total time=   1.9s\n",
      "[CV] END selector__L=0.8, selector__MS=0.7, selector__algorithm=algorithm2, selector__dispersion_measure=AMGM; total time=   2.0s\n",
      "[CV] END selector__L=0.8, selector__MS=0.7, selector__algorithm=algorithm2, selector__dispersion_measure=AMGM; total time=   2.0s\n",
      "[CV] END selector__L=0.8, selector__MS=0.75, selector__algorithm=algorithm1, selector__dispersion_measure=MM; total time=   2.0s\n",
      "[CV] END selector__L=0.8, selector__MS=0.75, selector__algorithm=algorithm1, selector__dispersion_measure=MM; total time=   2.0s\n",
      "[CV] END selector__L=0.8, selector__MS=0.75, selector__algorithm=algorithm1, selector__dispersion_measure=MM; total time=   2.0s\n",
      "[CV] END selector__L=0.8, selector__MS=0.75, selector__algorithm=algorithm1, selector__dispersion_measure=MM; total time=   2.1s\n",
      "[CV] END selector__L=0.8, selector__MS=0.75, selector__algorithm=algorithm1, selector__dispersion_measure=MM; total time=   2.1s\n",
      "[CV] END selector__L=0.8, selector__MS=0.75, selector__algorithm=algorithm1, selector__dispersion_measure=MM; total time=   2.1s\n",
      "[CV] END selector__L=0.8, selector__MS=0.75, selector__algorithm=algorithm1, selector__dispersion_measure=MM; total time=   2.2s\n",
      "[CV] END selector__L=0.8, selector__MS=0.75, selector__algorithm=algorithm1, selector__dispersion_measure=MM; total time=   2.2s\n",
      "[CV] END selector__L=0.8, selector__MS=0.75, selector__algorithm=algorithm1, selector__dispersion_measure=MM; total time=   2.2s\n",
      "[CV] END selector__L=0.8, selector__MS=0.75, selector__algorithm=algorithm1, selector__dispersion_measure=MM; total time=   2.2s\n",
      "[CV] END selector__L=0.8, selector__MS=0.75, selector__algorithm=algorithm1, selector__dispersion_measure=MAD; total time=   2.3s\n",
      "[CV] END selector__L=0.8, selector__MS=0.75, selector__algorithm=algorithm1, selector__dispersion_measure=MAD; total time=   2.2s\n",
      "[CV] END selector__L=0.8, selector__MS=0.75, selector__algorithm=algorithm1, selector__dispersion_measure=MAD; total time=   2.2s\n",
      "[CV] END selector__L=0.8, selector__MS=0.75, selector__algorithm=algorithm1, selector__dispersion_measure=MAD; total time=   2.2s\n",
      "[CV] END selector__L=0.8, selector__MS=0.75, selector__algorithm=algorithm1, selector__dispersion_measure=MAD; total time=   2.2s\n",
      "[CV] END selector__L=0.8, selector__MS=0.75, selector__algorithm=algorithm1, selector__dispersion_measure=MAD; total time=   2.1s\n",
      "[CV] END selector__L=0.8, selector__MS=0.75, selector__algorithm=algorithm1, selector__dispersion_measure=MAD; total time=   2.2s\n",
      "[CV] END selector__L=0.8, selector__MS=0.75, selector__algorithm=algorithm1, selector__dispersion_measure=MAD; total time=   2.1s\n",
      "[CV] END selector__L=0.8, selector__MS=0.75, selector__algorithm=algorithm1, selector__dispersion_measure=MAD; total time=   2.1s\n",
      "[CV] END selector__L=0.8, selector__MS=0.75, selector__algorithm=algorithm1, selector__dispersion_measure=MAD; total time=   2.1s\n"
     ]
    },
    {
     "name": "stderr",
     "output_type": "stream",
     "text": [
      "/Users/sofiafernandes/Documents/Repos/EmoReA/emorea-backend/src/select_features.py:54: RuntimeWarning: divide by zero encountered in scalar divide\n",
      "  dispersions[i] = arithmetic_mean / geometric_mean\n",
      "/Users/sofiafernandes/Documents/Repos/EmoReA/emorea-backend/src/select_features.py:54: RuntimeWarning: divide by zero encountered in scalar divide\n",
      "  dispersions[i] = arithmetic_mean / geometric_mean\n"
     ]
    },
    {
     "name": "stdout",
     "output_type": "stream",
     "text": [
      "[CV] END selector__L=0.8, selector__MS=0.75, selector__algorithm=algorithm1, selector__dispersion_measure=TV; total time=   2.2s\n",
      "[CV] END selector__L=0.8, selector__MS=0.75, selector__algorithm=algorithm1, selector__dispersion_measure=TV; total time=   2.1s\n"
     ]
    },
    {
     "name": "stderr",
     "output_type": "stream",
     "text": [
      "/Users/sofiafernandes/Documents/Repos/EmoReA/emorea-backend/src/select_features.py:54: RuntimeWarning: divide by zero encountered in scalar divide\n",
      "  dispersions[i] = arithmetic_mean / geometric_mean\n",
      "/Users/sofiafernandes/Documents/Repos/EmoReA/emorea-backend/src/select_features.py:54: RuntimeWarning: divide by zero encountered in scalar divide\n",
      "  dispersions[i] = arithmetic_mean / geometric_mean\n"
     ]
    },
    {
     "name": "stdout",
     "output_type": "stream",
     "text": [
      "[CV] END selector__L=0.8, selector__MS=0.75, selector__algorithm=algorithm1, selector__dispersion_measure=TV; total time=   2.2s\n"
     ]
    },
    {
     "name": "stderr",
     "output_type": "stream",
     "text": [
      "/Users/sofiafernandes/Documents/Repos/EmoReA/emorea-backend/src/select_features.py:54: RuntimeWarning: divide by zero encountered in scalar divide\n",
      "  dispersions[i] = arithmetic_mean / geometric_mean\n"
     ]
    },
    {
     "name": "stdout",
     "output_type": "stream",
     "text": [
      "[CV] END selector__L=0.8, selector__MS=0.75, selector__algorithm=algorithm1, selector__dispersion_measure=TV; total time=   2.2s\n"
     ]
    },
    {
     "name": "stderr",
     "output_type": "stream",
     "text": [
      "/Users/sofiafernandes/Documents/Repos/EmoReA/emorea-backend/src/select_features.py:54: RuntimeWarning: divide by zero encountered in scalar divide\n",
      "  dispersions[i] = arithmetic_mean / geometric_mean\n"
     ]
    },
    {
     "name": "stdout",
     "output_type": "stream",
     "text": [
      "[CV] END selector__L=0.8, selector__MS=0.75, selector__algorithm=algorithm1, selector__dispersion_measure=TV; total time=   2.1s\n",
      "[CV] END selector__L=0.8, selector__MS=0.75, selector__algorithm=algorithm1, selector__dispersion_measure=TV; total time=   2.2s\n"
     ]
    },
    {
     "name": "stderr",
     "output_type": "stream",
     "text": [
      "/Users/sofiafernandes/Documents/Repos/EmoReA/emorea-backend/src/select_features.py:54: RuntimeWarning: divide by zero encountered in scalar divide\n",
      "  dispersions[i] = arithmetic_mean / geometric_mean\n",
      "/Users/sofiafernandes/Documents/Repos/EmoReA/emorea-backend/src/select_features.py:54: RuntimeWarning: divide by zero encountered in scalar divide\n",
      "  dispersions[i] = arithmetic_mean / geometric_mean\n"
     ]
    },
    {
     "name": "stdout",
     "output_type": "stream",
     "text": [
      "[CV] END selector__L=0.8, selector__MS=0.75, selector__algorithm=algorithm1, selector__dispersion_measure=TV; total time=   2.1s\n"
     ]
    },
    {
     "name": "stderr",
     "output_type": "stream",
     "text": [
      "/Users/sofiafernandes/Documents/Repos/EmoReA/emorea-backend/src/select_features.py:54: RuntimeWarning: divide by zero encountered in scalar divide\n",
      "  dispersions[i] = arithmetic_mean / geometric_mean\n"
     ]
    },
    {
     "name": "stdout",
     "output_type": "stream",
     "text": [
      "[CV] END selector__L=0.8, selector__MS=0.75, selector__algorithm=algorithm1, selector__dispersion_measure=TV; total time=   2.0s\n"
     ]
    },
    {
     "name": "stderr",
     "output_type": "stream",
     "text": [
      "/Users/sofiafernandes/Documents/Repos/EmoReA/emorea-backend/src/select_features.py:54: RuntimeWarning: divide by zero encountered in scalar divide\n",
      "  dispersions[i] = arithmetic_mean / geometric_mean\n"
     ]
    },
    {
     "name": "stdout",
     "output_type": "stream",
     "text": [
      "[CV] END selector__L=0.8, selector__MS=0.75, selector__algorithm=algorithm1, selector__dispersion_measure=TV; total time=   2.0s\n",
      "[CV] END selector__L=0.8, selector__MS=0.75, selector__algorithm=algorithm1, selector__dispersion_measure=TV; total time=   2.0s\n",
      "[CV] END selector__L=0.8, selector__MS=0.75, selector__algorithm=algorithm1, selector__dispersion_measure=AMGM; total time=   2.0s\n",
      "[CV] END selector__L=0.8, selector__MS=0.75, selector__algorithm=algorithm1, selector__dispersion_measure=AMGM; total time=   2.0s\n",
      "[CV] END selector__L=0.8, selector__MS=0.75, selector__algorithm=algorithm1, selector__dispersion_measure=AMGM; total time=   2.0s\n",
      "[CV] END selector__L=0.8, selector__MS=0.75, selector__algorithm=algorithm1, selector__dispersion_measure=AMGM; total time=   2.0s\n",
      "[CV] END selector__L=0.8, selector__MS=0.75, selector__algorithm=algorithm1, selector__dispersion_measure=AMGM; total time=   2.0s\n",
      "[CV] END selector__L=0.8, selector__MS=0.75, selector__algorithm=algorithm1, selector__dispersion_measure=AMGM; total time=   2.0s\n",
      "[CV] END selector__L=0.8, selector__MS=0.75, selector__algorithm=algorithm1, selector__dispersion_measure=AMGM; total time=   2.0s\n",
      "[CV] END selector__L=0.8, selector__MS=0.75, selector__algorithm=algorithm1, selector__dispersion_measure=AMGM; total time=   2.0s\n",
      "[CV] END selector__L=0.8, selector__MS=0.75, selector__algorithm=algorithm1, selector__dispersion_measure=AMGM; total time=   1.9s\n",
      "[CV] END selector__L=0.8, selector__MS=0.75, selector__algorithm=algorithm1, selector__dispersion_measure=AMGM; total time=   1.9s\n",
      "[CV] END selector__L=0.8, selector__MS=0.75, selector__algorithm=algorithm2, selector__dispersion_measure=MM; total time=   2.1s\n",
      "[CV] END selector__L=0.8, selector__MS=0.75, selector__algorithm=algorithm2, selector__dispersion_measure=MM; total time=   2.1s\n",
      "[CV] END selector__L=0.8, selector__MS=0.75, selector__algorithm=algorithm2, selector__dispersion_measure=MM; total time=   2.0s\n",
      "[CV] END selector__L=0.8, selector__MS=0.75, selector__algorithm=algorithm2, selector__dispersion_measure=MM; total time=   2.0s\n",
      "[CV] END selector__L=0.8, selector__MS=0.75, selector__algorithm=algorithm2, selector__dispersion_measure=MM; total time=   2.0s\n",
      "[CV] END selector__L=0.8, selector__MS=0.75, selector__algorithm=algorithm2, selector__dispersion_measure=MM; total time=   2.0s\n",
      "[CV] END selector__L=0.8, selector__MS=0.75, selector__algorithm=algorithm2, selector__dispersion_measure=MM; total time=   2.2s\n",
      "[CV] END selector__L=0.8, selector__MS=0.75, selector__algorithm=algorithm2, selector__dispersion_measure=MM; total time=   2.1s\n",
      "[CV] END selector__L=0.8, selector__MS=0.75, selector__algorithm=algorithm2, selector__dispersion_measure=MM; total time=   2.1s\n",
      "[CV] END selector__L=0.8, selector__MS=0.75, selector__algorithm=algorithm2, selector__dispersion_measure=MM; total time=   1.9s\n",
      "[CV] END selector__L=0.8, selector__MS=0.75, selector__algorithm=algorithm2, selector__dispersion_measure=MAD; total time=   2.3s\n",
      "[CV] END selector__L=0.8, selector__MS=0.75, selector__algorithm=algorithm2, selector__dispersion_measure=MAD; total time=   2.2s\n",
      "[CV] END selector__L=0.8, selector__MS=0.75, selector__algorithm=algorithm2, selector__dispersion_measure=MAD; total time=   2.1s\n",
      "[CV] END selector__L=0.8, selector__MS=0.75, selector__algorithm=algorithm2, selector__dispersion_measure=MAD; total time=   2.2s\n",
      "[CV] END selector__L=0.8, selector__MS=0.75, selector__algorithm=algorithm2, selector__dispersion_measure=MAD; total time=   2.1s\n",
      "[CV] END selector__L=0.8, selector__MS=0.75, selector__algorithm=algorithm2, selector__dispersion_measure=MAD; total time=   2.1s\n",
      "[CV] END selector__L=0.8, selector__MS=0.75, selector__algorithm=algorithm2, selector__dispersion_measure=MAD; total time=   2.0s\n",
      "[CV] END selector__L=0.8, selector__MS=0.75, selector__algorithm=algorithm2, selector__dispersion_measure=MAD; total time=   1.9s\n",
      "[CV] END selector__L=0.8, selector__MS=0.75, selector__algorithm=algorithm2, selector__dispersion_measure=MAD; total time=   1.9s\n"
     ]
    },
    {
     "name": "stderr",
     "output_type": "stream",
     "text": [
      "/Users/sofiafernandes/Documents/Repos/EmoReA/emorea-backend/src/select_features.py:54: RuntimeWarning: divide by zero encountered in scalar divide\n",
      "  dispersions[i] = arithmetic_mean / geometric_mean\n"
     ]
    },
    {
     "name": "stdout",
     "output_type": "stream",
     "text": [
      "[CV] END selector__L=0.8, selector__MS=0.75, selector__algorithm=algorithm2, selector__dispersion_measure=MAD; total time=   1.9s\n",
      "[CV] END selector__L=0.8, selector__MS=0.75, selector__algorithm=algorithm2, selector__dispersion_measure=TV; total time=   2.0s\n"
     ]
    },
    {
     "name": "stderr",
     "output_type": "stream",
     "text": [
      "/Users/sofiafernandes/Documents/Repos/EmoReA/emorea-backend/src/select_features.py:54: RuntimeWarning: divide by zero encountered in scalar divide\n",
      "  dispersions[i] = arithmetic_mean / geometric_mean\n",
      "/Users/sofiafernandes/Documents/Repos/EmoReA/emorea-backend/src/select_features.py:54: RuntimeWarning: divide by zero encountered in scalar divide\n",
      "  dispersions[i] = arithmetic_mean / geometric_mean\n"
     ]
    },
    {
     "name": "stdout",
     "output_type": "stream",
     "text": [
      "[CV] END selector__L=0.8, selector__MS=0.75, selector__algorithm=algorithm2, selector__dispersion_measure=TV; total time=   2.0s\n"
     ]
    },
    {
     "name": "stderr",
     "output_type": "stream",
     "text": [
      "/Users/sofiafernandes/Documents/Repos/EmoReA/emorea-backend/src/select_features.py:54: RuntimeWarning: divide by zero encountered in scalar divide\n",
      "  dispersions[i] = arithmetic_mean / geometric_mean\n"
     ]
    },
    {
     "name": "stdout",
     "output_type": "stream",
     "text": [
      "[CV] END selector__L=0.8, selector__MS=0.75, selector__algorithm=algorithm2, selector__dispersion_measure=TV; total time=   1.9s\n",
      "[CV] END selector__L=0.8, selector__MS=0.75, selector__algorithm=algorithm2, selector__dispersion_measure=TV; total time=   1.9s\n"
     ]
    },
    {
     "name": "stderr",
     "output_type": "stream",
     "text": [
      "/Users/sofiafernandes/Documents/Repos/EmoReA/emorea-backend/src/select_features.py:54: RuntimeWarning: divide by zero encountered in scalar divide\n",
      "  dispersions[i] = arithmetic_mean / geometric_mean\n",
      "/Users/sofiafernandes/Documents/Repos/EmoReA/emorea-backend/src/select_features.py:54: RuntimeWarning: divide by zero encountered in scalar divide\n",
      "  dispersions[i] = arithmetic_mean / geometric_mean\n"
     ]
    },
    {
     "name": "stdout",
     "output_type": "stream",
     "text": [
      "[CV] END selector__L=0.8, selector__MS=0.75, selector__algorithm=algorithm2, selector__dispersion_measure=TV; total time=   1.9s\n"
     ]
    },
    {
     "name": "stderr",
     "output_type": "stream",
     "text": [
      "/Users/sofiafernandes/Documents/Repos/EmoReA/emorea-backend/src/select_features.py:54: RuntimeWarning: divide by zero encountered in scalar divide\n",
      "  dispersions[i] = arithmetic_mean / geometric_mean\n"
     ]
    },
    {
     "name": "stdout",
     "output_type": "stream",
     "text": [
      "[CV] END selector__L=0.8, selector__MS=0.75, selector__algorithm=algorithm2, selector__dispersion_measure=TV; total time=   1.9s\n",
      "[CV] END selector__L=0.8, selector__MS=0.75, selector__algorithm=algorithm2, selector__dispersion_measure=TV; total time=   1.9s\n"
     ]
    },
    {
     "name": "stderr",
     "output_type": "stream",
     "text": [
      "/Users/sofiafernandes/Documents/Repos/EmoReA/emorea-backend/src/select_features.py:54: RuntimeWarning: divide by zero encountered in scalar divide\n",
      "  dispersions[i] = arithmetic_mean / geometric_mean\n",
      "/Users/sofiafernandes/Documents/Repos/EmoReA/emorea-backend/src/select_features.py:54: RuntimeWarning: divide by zero encountered in scalar divide\n",
      "  dispersions[i] = arithmetic_mean / geometric_mean\n"
     ]
    },
    {
     "name": "stdout",
     "output_type": "stream",
     "text": [
      "[CV] END selector__L=0.8, selector__MS=0.75, selector__algorithm=algorithm2, selector__dispersion_measure=TV; total time=   1.9s\n"
     ]
    },
    {
     "name": "stderr",
     "output_type": "stream",
     "text": [
      "/Users/sofiafernandes/Documents/Repos/EmoReA/emorea-backend/src/select_features.py:54: RuntimeWarning: divide by zero encountered in scalar divide\n",
      "  dispersions[i] = arithmetic_mean / geometric_mean\n"
     ]
    },
    {
     "name": "stdout",
     "output_type": "stream",
     "text": [
      "[CV] END selector__L=0.8, selector__MS=0.75, selector__algorithm=algorithm2, selector__dispersion_measure=TV; total time=   1.9s\n",
      "[CV] END selector__L=0.8, selector__MS=0.75, selector__algorithm=algorithm2, selector__dispersion_measure=TV; total time=   2.0s\n",
      "[CV] END selector__L=0.8, selector__MS=0.75, selector__algorithm=algorithm2, selector__dispersion_measure=AMGM; total time=   1.8s\n",
      "[CV] END selector__L=0.8, selector__MS=0.75, selector__algorithm=algorithm2, selector__dispersion_measure=AMGM; total time=   1.9s\n",
      "[CV] END selector__L=0.8, selector__MS=0.75, selector__algorithm=algorithm2, selector__dispersion_measure=AMGM; total time=   2.0s\n",
      "[CV] END selector__L=0.8, selector__MS=0.75, selector__algorithm=algorithm2, selector__dispersion_measure=AMGM; total time=   1.9s\n",
      "[CV] END selector__L=0.8, selector__MS=0.75, selector__algorithm=algorithm2, selector__dispersion_measure=AMGM; total time=   1.9s\n",
      "[CV] END selector__L=0.8, selector__MS=0.75, selector__algorithm=algorithm2, selector__dispersion_measure=AMGM; total time=   1.9s\n",
      "[CV] END selector__L=0.8, selector__MS=0.75, selector__algorithm=algorithm2, selector__dispersion_measure=AMGM; total time=   1.9s\n",
      "[CV] END selector__L=0.8, selector__MS=0.75, selector__algorithm=algorithm2, selector__dispersion_measure=AMGM; total time=   1.9s\n",
      "[CV] END selector__L=0.8, selector__MS=0.75, selector__algorithm=algorithm2, selector__dispersion_measure=AMGM; total time=   1.8s\n",
      "[CV] END selector__L=0.8, selector__MS=0.75, selector__algorithm=algorithm2, selector__dispersion_measure=AMGM; total time=   1.7s\n",
      "[CV] END selector__L=0.8, selector__MS=0.8, selector__algorithm=algorithm1, selector__dispersion_measure=MM; total time=   1.8s\n",
      "[CV] END selector__L=0.8, selector__MS=0.8, selector__algorithm=algorithm1, selector__dispersion_measure=MM; total time=   1.8s\n",
      "[CV] END selector__L=0.8, selector__MS=0.8, selector__algorithm=algorithm1, selector__dispersion_measure=MM; total time=   1.8s\n",
      "[CV] END selector__L=0.8, selector__MS=0.8, selector__algorithm=algorithm1, selector__dispersion_measure=MM; total time=   1.9s\n",
      "[CV] END selector__L=0.8, selector__MS=0.8, selector__algorithm=algorithm1, selector__dispersion_measure=MM; total time=   1.9s\n",
      "[CV] END selector__L=0.8, selector__MS=0.8, selector__algorithm=algorithm1, selector__dispersion_measure=MM; total time=   2.0s\n",
      "[CV] END selector__L=0.8, selector__MS=0.8, selector__algorithm=algorithm1, selector__dispersion_measure=MM; total time=   1.9s\n",
      "[CV] END selector__L=0.8, selector__MS=0.8, selector__algorithm=algorithm1, selector__dispersion_measure=MM; total time=   2.0s\n",
      "[CV] END selector__L=0.8, selector__MS=0.8, selector__algorithm=algorithm1, selector__dispersion_measure=MM; total time=   2.0s\n",
      "[CV] END selector__L=0.8, selector__MS=0.8, selector__algorithm=algorithm1, selector__dispersion_measure=MM; total time=   2.0s\n",
      "[CV] END selector__L=0.8, selector__MS=0.8, selector__algorithm=algorithm1, selector__dispersion_measure=MAD; total time=   2.0s\n",
      "[CV] END selector__L=0.8, selector__MS=0.8, selector__algorithm=algorithm1, selector__dispersion_measure=MAD; total time=   2.0s\n",
      "[CV] END selector__L=0.8, selector__MS=0.8, selector__algorithm=algorithm1, selector__dispersion_measure=MAD; total time=   2.1s\n",
      "[CV] END selector__L=0.8, selector__MS=0.8, selector__algorithm=algorithm1, selector__dispersion_measure=MAD; total time=   2.1s\n",
      "[CV] END selector__L=0.8, selector__MS=0.8, selector__algorithm=algorithm1, selector__dispersion_measure=MAD; total time=   2.0s\n",
      "[CV] END selector__L=0.8, selector__MS=0.8, selector__algorithm=algorithm1, selector__dispersion_measure=MAD; total time=   2.0s\n",
      "[CV] END selector__L=0.8, selector__MS=0.8, selector__algorithm=algorithm1, selector__dispersion_measure=MAD; total time=   2.0s\n",
      "[CV] END selector__L=0.8, selector__MS=0.8, selector__algorithm=algorithm1, selector__dispersion_measure=MAD; total time=   1.9s\n",
      "[CV] END selector__L=0.8, selector__MS=0.8, selector__algorithm=algorithm1, selector__dispersion_measure=MAD; total time=   1.9s\n"
     ]
    },
    {
     "name": "stderr",
     "output_type": "stream",
     "text": [
      "/Users/sofiafernandes/Documents/Repos/EmoReA/emorea-backend/src/select_features.py:54: RuntimeWarning: divide by zero encountered in scalar divide\n",
      "  dispersions[i] = arithmetic_mean / geometric_mean\n"
     ]
    },
    {
     "name": "stdout",
     "output_type": "stream",
     "text": [
      "[CV] END selector__L=0.8, selector__MS=0.8, selector__algorithm=algorithm1, selector__dispersion_measure=TV; total time=   2.0s\n",
      "[CV] END selector__L=0.8, selector__MS=0.8, selector__algorithm=algorithm1, selector__dispersion_measure=MAD; total time=   1.9s\n"
     ]
    },
    {
     "name": "stderr",
     "output_type": "stream",
     "text": [
      "/Users/sofiafernandes/Documents/Repos/EmoReA/emorea-backend/src/select_features.py:54: RuntimeWarning: divide by zero encountered in scalar divide\n",
      "  dispersions[i] = arithmetic_mean / geometric_mean\n",
      "/Users/sofiafernandes/Documents/Repos/EmoReA/emorea-backend/src/select_features.py:54: RuntimeWarning: divide by zero encountered in scalar divide\n",
      "  dispersions[i] = arithmetic_mean / geometric_mean\n"
     ]
    },
    {
     "name": "stdout",
     "output_type": "stream",
     "text": [
      "[CV] END selector__L=0.8, selector__MS=0.8, selector__algorithm=algorithm1, selector__dispersion_measure=TV; total time=   1.9s\n",
      "[CV] END selector__L=0.8, selector__MS=0.8, selector__algorithm=algorithm1, selector__dispersion_measure=TV; total time=   1.9s\n"
     ]
    },
    {
     "name": "stderr",
     "output_type": "stream",
     "text": [
      "/Users/sofiafernandes/Documents/Repos/EmoReA/emorea-backend/src/select_features.py:54: RuntimeWarning: divide by zero encountered in scalar divide\n",
      "  dispersions[i] = arithmetic_mean / geometric_mean\n",
      "/Users/sofiafernandes/Documents/Repos/EmoReA/emorea-backend/src/select_features.py:54: RuntimeWarning: divide by zero encountered in scalar divide\n",
      "  dispersions[i] = arithmetic_mean / geometric_mean\n"
     ]
    },
    {
     "name": "stdout",
     "output_type": "stream",
     "text": [
      "[CV] END selector__L=0.8, selector__MS=0.8, selector__algorithm=algorithm1, selector__dispersion_measure=TV; total time=   1.9s\n"
     ]
    },
    {
     "name": "stderr",
     "output_type": "stream",
     "text": [
      "/Users/sofiafernandes/Documents/Repos/EmoReA/emorea-backend/src/select_features.py:54: RuntimeWarning: divide by zero encountered in scalar divide\n",
      "  dispersions[i] = arithmetic_mean / geometric_mean\n"
     ]
    },
    {
     "name": "stdout",
     "output_type": "stream",
     "text": [
      "[CV] END selector__L=0.8, selector__MS=0.8, selector__algorithm=algorithm1, selector__dispersion_measure=TV; total time=   2.1s\n"
     ]
    },
    {
     "name": "stderr",
     "output_type": "stream",
     "text": [
      "/Users/sofiafernandes/Documents/Repos/EmoReA/emorea-backend/src/select_features.py:54: RuntimeWarning: divide by zero encountered in scalar divide\n",
      "  dispersions[i] = arithmetic_mean / geometric_mean\n"
     ]
    },
    {
     "name": "stdout",
     "output_type": "stream",
     "text": [
      "[CV] END selector__L=0.8, selector__MS=0.8, selector__algorithm=algorithm1, selector__dispersion_measure=TV; total time=   2.2s\n"
     ]
    },
    {
     "name": "stderr",
     "output_type": "stream",
     "text": [
      "/Users/sofiafernandes/Documents/Repos/EmoReA/emorea-backend/src/select_features.py:54: RuntimeWarning: divide by zero encountered in scalar divide\n",
      "  dispersions[i] = arithmetic_mean / geometric_mean\n"
     ]
    },
    {
     "name": "stdout",
     "output_type": "stream",
     "text": [
      "[CV] END selector__L=0.8, selector__MS=0.8, selector__algorithm=algorithm1, selector__dispersion_measure=TV; total time=   2.2s\n"
     ]
    },
    {
     "name": "stderr",
     "output_type": "stream",
     "text": [
      "/Users/sofiafernandes/Documents/Repos/EmoReA/emorea-backend/src/select_features.py:54: RuntimeWarning: divide by zero encountered in scalar divide\n",
      "  dispersions[i] = arithmetic_mean / geometric_mean\n"
     ]
    },
    {
     "name": "stdout",
     "output_type": "stream",
     "text": [
      "[CV] END selector__L=0.8, selector__MS=0.8, selector__algorithm=algorithm1, selector__dispersion_measure=TV; total time=   2.1s\n",
      "[CV] END selector__L=0.8, selector__MS=0.8, selector__algorithm=algorithm1, selector__dispersion_measure=TV; total time=   2.1s\n"
     ]
    },
    {
     "name": "stderr",
     "output_type": "stream",
     "text": [
      "/Users/sofiafernandes/Documents/Repos/EmoReA/emorea-backend/src/select_features.py:54: RuntimeWarning: divide by zero encountered in scalar divide\n",
      "  dispersions[i] = arithmetic_mean / geometric_mean\n"
     ]
    },
    {
     "name": "stdout",
     "output_type": "stream",
     "text": [
      "[CV] END selector__L=0.8, selector__MS=0.8, selector__algorithm=algorithm1, selector__dispersion_measure=AMGM; total time=   2.0s\n",
      "[CV] END selector__L=0.8, selector__MS=0.8, selector__algorithm=algorithm1, selector__dispersion_measure=TV; total time=   2.0s\n",
      "[CV] END selector__L=0.8, selector__MS=0.8, selector__algorithm=algorithm1, selector__dispersion_measure=AMGM; total time=   2.0s\n",
      "[CV] END selector__L=0.8, selector__MS=0.8, selector__algorithm=algorithm1, selector__dispersion_measure=AMGM; total time=   2.0s\n",
      "[CV] END selector__L=0.8, selector__MS=0.8, selector__algorithm=algorithm1, selector__dispersion_measure=AMGM; total time=   2.0s\n",
      "[CV] END selector__L=0.8, selector__MS=0.8, selector__algorithm=algorithm1, selector__dispersion_measure=AMGM; total time=   2.1s\n",
      "[CV] END selector__L=0.8, selector__MS=0.8, selector__algorithm=algorithm1, selector__dispersion_measure=AMGM; total time=   2.0s\n",
      "[CV] END selector__L=0.8, selector__MS=0.8, selector__algorithm=algorithm1, selector__dispersion_measure=AMGM; total time=   2.0s\n",
      "[CV] END selector__L=0.8, selector__MS=0.8, selector__algorithm=algorithm1, selector__dispersion_measure=AMGM; total time=   2.0s\n",
      "[CV] END selector__L=0.8, selector__MS=0.8, selector__algorithm=algorithm1, selector__dispersion_measure=AMGM; total time=   2.0s\n",
      "[CV] END selector__L=0.8, selector__MS=0.8, selector__algorithm=algorithm1, selector__dispersion_measure=AMGM; total time=   2.0s\n",
      "[CV] END selector__L=0.8, selector__MS=0.8, selector__algorithm=algorithm2, selector__dispersion_measure=MM; total time=   2.1s\n",
      "[CV] END selector__L=0.8, selector__MS=0.8, selector__algorithm=algorithm2, selector__dispersion_measure=MM; total time=   1.9s\n",
      "[CV] END selector__L=0.8, selector__MS=0.8, selector__algorithm=algorithm2, selector__dispersion_measure=MM; total time=   2.0s\n",
      "[CV] END selector__L=0.8, selector__MS=0.8, selector__algorithm=algorithm2, selector__dispersion_measure=MM; total time=   2.0s\n",
      "[CV] END selector__L=0.8, selector__MS=0.8, selector__algorithm=algorithm2, selector__dispersion_measure=MM; total time=   1.9s\n",
      "[CV] END selector__L=0.8, selector__MS=0.8, selector__algorithm=algorithm2, selector__dispersion_measure=MM; total time=   1.9s\n",
      "[CV] END selector__L=0.8, selector__MS=0.8, selector__algorithm=algorithm2, selector__dispersion_measure=MM; total time=   1.9s\n",
      "[CV] END selector__L=0.8, selector__MS=0.8, selector__algorithm=algorithm2, selector__dispersion_measure=MM; total time=   2.0s\n",
      "[CV] END selector__L=0.8, selector__MS=0.8, selector__algorithm=algorithm2, selector__dispersion_measure=MM; total time=   2.0s\n",
      "[CV] END selector__L=0.8, selector__MS=0.8, selector__algorithm=algorithm2, selector__dispersion_measure=MM; total time=   2.0s\n",
      "[CV] END selector__L=0.8, selector__MS=0.8, selector__algorithm=algorithm2, selector__dispersion_measure=MAD; total time=   2.0s\n",
      "[CV] END selector__L=0.8, selector__MS=0.8, selector__algorithm=algorithm2, selector__dispersion_measure=MAD; total time=   2.0s\n",
      "[CV] END selector__L=0.8, selector__MS=0.8, selector__algorithm=algorithm2, selector__dispersion_measure=MAD; total time=   2.2s\n",
      "[CV] END selector__L=0.8, selector__MS=0.8, selector__algorithm=algorithm2, selector__dispersion_measure=MAD; total time=   2.1s\n",
      "[CV] END selector__L=0.8, selector__MS=0.8, selector__algorithm=algorithm2, selector__dispersion_measure=MAD; total time=   2.1s\n",
      "[CV] END selector__L=0.8, selector__MS=0.8, selector__algorithm=algorithm2, selector__dispersion_measure=MAD; total time=   2.1s\n",
      "[CV] END selector__L=0.8, selector__MS=0.8, selector__algorithm=algorithm2, selector__dispersion_measure=MAD; total time=   2.0s\n",
      "[CV] END selector__L=0.8, selector__MS=0.8, selector__algorithm=algorithm2, selector__dispersion_measure=MAD; total time=   1.9s\n",
      "[CV] END selector__L=0.8, selector__MS=0.8, selector__algorithm=algorithm2, selector__dispersion_measure=MAD; total time=   1.9s\n"
     ]
    },
    {
     "name": "stderr",
     "output_type": "stream",
     "text": [
      "/Users/sofiafernandes/Documents/Repos/EmoReA/emorea-backend/src/select_features.py:54: RuntimeWarning: divide by zero encountered in scalar divide\n",
      "  dispersions[i] = arithmetic_mean / geometric_mean\n"
     ]
    },
    {
     "name": "stdout",
     "output_type": "stream",
     "text": [
      "[CV] END selector__L=0.8, selector__MS=0.8, selector__algorithm=algorithm2, selector__dispersion_measure=MAD; total time=   2.0s\n"
     ]
    },
    {
     "name": "stderr",
     "output_type": "stream",
     "text": [
      "/Users/sofiafernandes/Documents/Repos/EmoReA/emorea-backend/src/select_features.py:54: RuntimeWarning: divide by zero encountered in scalar divide\n",
      "  dispersions[i] = arithmetic_mean / geometric_mean\n"
     ]
    },
    {
     "name": "stdout",
     "output_type": "stream",
     "text": [
      "[CV] END selector__L=0.8, selector__MS=0.8, selector__algorithm=algorithm2, selector__dispersion_measure=TV; total time=   2.1s\n"
     ]
    },
    {
     "name": "stderr",
     "output_type": "stream",
     "text": [
      "/Users/sofiafernandes/Documents/Repos/EmoReA/emorea-backend/src/select_features.py:54: RuntimeWarning: divide by zero encountered in scalar divide\n",
      "  dispersions[i] = arithmetic_mean / geometric_mean\n"
     ]
    },
    {
     "name": "stdout",
     "output_type": "stream",
     "text": [
      "[CV] END selector__L=0.8, selector__MS=0.8, selector__algorithm=algorithm2, selector__dispersion_measure=TV; total time=   2.0s\n"
     ]
    },
    {
     "name": "stderr",
     "output_type": "stream",
     "text": [
      "/Users/sofiafernandes/Documents/Repos/EmoReA/emorea-backend/src/select_features.py:54: RuntimeWarning: divide by zero encountered in scalar divide\n",
      "  dispersions[i] = arithmetic_mean / geometric_mean\n"
     ]
    },
    {
     "name": "stdout",
     "output_type": "stream",
     "text": [
      "[CV] END selector__L=0.8, selector__MS=0.8, selector__algorithm=algorithm2, selector__dispersion_measure=TV; total time=   2.1s\n"
     ]
    },
    {
     "name": "stderr",
     "output_type": "stream",
     "text": [
      "/Users/sofiafernandes/Documents/Repos/EmoReA/emorea-backend/src/select_features.py:54: RuntimeWarning: divide by zero encountered in scalar divide\n",
      "  dispersions[i] = arithmetic_mean / geometric_mean\n"
     ]
    },
    {
     "name": "stdout",
     "output_type": "stream",
     "text": [
      "[CV] END selector__L=0.8, selector__MS=0.8, selector__algorithm=algorithm2, selector__dispersion_measure=TV; total time=   1.9s\n"
     ]
    },
    {
     "name": "stderr",
     "output_type": "stream",
     "text": [
      "/Users/sofiafernandes/Documents/Repos/EmoReA/emorea-backend/src/select_features.py:54: RuntimeWarning: divide by zero encountered in scalar divide\n",
      "  dispersions[i] = arithmetic_mean / geometric_mean\n"
     ]
    },
    {
     "name": "stdout",
     "output_type": "stream",
     "text": [
      "[CV] END selector__L=0.8, selector__MS=0.8, selector__algorithm=algorithm2, selector__dispersion_measure=TV; total time=   2.0s\n",
      "[CV] END selector__L=0.8, selector__MS=0.8, selector__algorithm=algorithm2, selector__dispersion_measure=TV; total time=   2.0s\n"
     ]
    },
    {
     "name": "stderr",
     "output_type": "stream",
     "text": [
      "/Users/sofiafernandes/Documents/Repos/EmoReA/emorea-backend/src/select_features.py:54: RuntimeWarning: divide by zero encountered in scalar divide\n",
      "  dispersions[i] = arithmetic_mean / geometric_mean\n",
      "/Users/sofiafernandes/Documents/Repos/EmoReA/emorea-backend/src/select_features.py:54: RuntimeWarning: divide by zero encountered in scalar divide\n",
      "  dispersions[i] = arithmetic_mean / geometric_mean\n"
     ]
    },
    {
     "name": "stdout",
     "output_type": "stream",
     "text": [
      "[CV] END selector__L=0.8, selector__MS=0.8, selector__algorithm=algorithm2, selector__dispersion_measure=TV; total time=   2.0s\n",
      "[CV] END selector__L=0.8, selector__MS=0.8, selector__algorithm=algorithm2, selector__dispersion_measure=TV; total time=   2.1s\n"
     ]
    },
    {
     "name": "stderr",
     "output_type": "stream",
     "text": [
      "/Users/sofiafernandes/Documents/Repos/EmoReA/emorea-backend/src/select_features.py:54: RuntimeWarning: divide by zero encountered in scalar divide\n",
      "  dispersions[i] = arithmetic_mean / geometric_mean\n",
      "/Users/sofiafernandes/Documents/Repos/EmoReA/emorea-backend/src/select_features.py:54: RuntimeWarning: divide by zero encountered in scalar divide\n",
      "  dispersions[i] = arithmetic_mean / geometric_mean\n"
     ]
    },
    {
     "name": "stdout",
     "output_type": "stream",
     "text": [
      "[CV] END selector__L=0.8, selector__MS=0.8, selector__algorithm=algorithm2, selector__dispersion_measure=TV; total time=   2.0s\n",
      "[CV] END selector__L=0.8, selector__MS=0.8, selector__algorithm=algorithm2, selector__dispersion_measure=TV; total time=   2.0s\n",
      "[CV] END selector__L=0.8, selector__MS=0.8, selector__algorithm=algorithm2, selector__dispersion_measure=AMGM; total time=   1.9s\n",
      "[CV] END selector__L=0.8, selector__MS=0.8, selector__algorithm=algorithm2, selector__dispersion_measure=AMGM; total time=   2.0s\n",
      "[CV] END selector__L=0.8, selector__MS=0.8, selector__algorithm=algorithm2, selector__dispersion_measure=AMGM; total time=   2.3s\n",
      "[CV] END selector__L=0.8, selector__MS=0.8, selector__algorithm=algorithm2, selector__dispersion_measure=AMGM; total time=   2.3s\n",
      "[CV] END selector__L=0.8, selector__MS=0.8, selector__algorithm=algorithm2, selector__dispersion_measure=AMGM; total time=   2.1s\n",
      "[CV] END selector__L=0.8, selector__MS=0.8, selector__algorithm=algorithm2, selector__dispersion_measure=AMGM; total time=   2.0s\n",
      "[CV] END selector__L=0.8, selector__MS=0.8, selector__algorithm=algorithm2, selector__dispersion_measure=AMGM; total time=   2.1s\n",
      "[CV] END selector__L=0.8, selector__MS=0.8, selector__algorithm=algorithm2, selector__dispersion_measure=AMGM; total time=   1.9s\n",
      "[CV] END selector__L=0.8, selector__MS=0.8, selector__algorithm=algorithm2, selector__dispersion_measure=AMGM; total time=   1.9s\n",
      "[CV] END selector__L=0.8, selector__MS=0.8, selector__algorithm=algorithm2, selector__dispersion_measure=AMGM; total time=   2.0s\n",
      "[CV] END selector__L=0.9, selector__MS=0.7, selector__algorithm=algorithm1, selector__dispersion_measure=MM; total time=   2.1s\n",
      "[CV] END selector__L=0.9, selector__MS=0.7, selector__algorithm=algorithm1, selector__dispersion_measure=MM; total time=   2.1s\n",
      "[CV] END selector__L=0.9, selector__MS=0.7, selector__algorithm=algorithm1, selector__dispersion_measure=MM; total time=   2.1s\n",
      "[CV] END selector__L=0.9, selector__MS=0.7, selector__algorithm=algorithm1, selector__dispersion_measure=MM; total time=   2.2s\n",
      "[CV] END selector__L=0.9, selector__MS=0.7, selector__algorithm=algorithm1, selector__dispersion_measure=MM; total time=   2.1s\n",
      "[CV] END selector__L=0.9, selector__MS=0.7, selector__algorithm=algorithm1, selector__dispersion_measure=MM; total time=   2.3s\n",
      "[CV] END selector__L=0.9, selector__MS=0.7, selector__algorithm=algorithm1, selector__dispersion_measure=MM; total time=   2.3s\n",
      "[CV] END selector__L=0.9, selector__MS=0.7, selector__algorithm=algorithm1, selector__dispersion_measure=MM; total time=   2.3s\n",
      "[CV] END selector__L=0.9, selector__MS=0.7, selector__algorithm=algorithm1, selector__dispersion_measure=MM; total time=   2.3s\n",
      "[CV] END selector__L=0.9, selector__MS=0.7, selector__algorithm=algorithm1, selector__dispersion_measure=MM; total time=   2.3s\n",
      "[CV] END selector__L=0.9, selector__MS=0.7, selector__algorithm=algorithm1, selector__dispersion_measure=MAD; total time=   2.4s\n",
      "[CV] END selector__L=0.9, selector__MS=0.7, selector__algorithm=algorithm1, selector__dispersion_measure=MAD; total time=   2.4s\n",
      "[CV] END selector__L=0.9, selector__MS=0.7, selector__algorithm=algorithm1, selector__dispersion_measure=MAD; total time=   2.4s\n",
      "[CV] END selector__L=0.9, selector__MS=0.7, selector__algorithm=algorithm1, selector__dispersion_measure=MAD; total time=   2.4s\n",
      "[CV] END selector__L=0.9, selector__MS=0.7, selector__algorithm=algorithm1, selector__dispersion_measure=MAD; total time=   2.4s\n",
      "[CV] END selector__L=0.9, selector__MS=0.7, selector__algorithm=algorithm1, selector__dispersion_measure=MAD; total time=   2.3s\n",
      "[CV] END selector__L=0.9, selector__MS=0.7, selector__algorithm=algorithm1, selector__dispersion_measure=MAD; total time=   2.2s\n",
      "[CV] END selector__L=0.9, selector__MS=0.7, selector__algorithm=algorithm1, selector__dispersion_measure=MAD; total time=   2.2s\n",
      "[CV] END selector__L=0.9, selector__MS=0.7, selector__algorithm=algorithm1, selector__dispersion_measure=MAD; total time=   2.2s\n"
     ]
    },
    {
     "name": "stderr",
     "output_type": "stream",
     "text": [
      "/Users/sofiafernandes/Documents/Repos/EmoReA/emorea-backend/src/select_features.py:54: RuntimeWarning: divide by zero encountered in scalar divide\n",
      "  dispersions[i] = arithmetic_mean / geometric_mean\n"
     ]
    },
    {
     "name": "stdout",
     "output_type": "stream",
     "text": [
      "[CV] END selector__L=0.9, selector__MS=0.7, selector__algorithm=algorithm1, selector__dispersion_measure=MAD; total time=   2.3s\n"
     ]
    },
    {
     "name": "stderr",
     "output_type": "stream",
     "text": [
      "/Users/sofiafernandes/Documents/Repos/EmoReA/emorea-backend/src/select_features.py:54: RuntimeWarning: divide by zero encountered in scalar divide\n",
      "  dispersions[i] = arithmetic_mean / geometric_mean\n"
     ]
    },
    {
     "name": "stdout",
     "output_type": "stream",
     "text": [
      "[CV] END selector__L=0.9, selector__MS=0.7, selector__algorithm=algorithm1, selector__dispersion_measure=TV; total time=   2.3s\n"
     ]
    },
    {
     "name": "stderr",
     "output_type": "stream",
     "text": [
      "/Users/sofiafernandes/Documents/Repos/EmoReA/emorea-backend/src/select_features.py:54: RuntimeWarning: divide by zero encountered in scalar divide\n",
      "  dispersions[i] = arithmetic_mean / geometric_mean\n"
     ]
    },
    {
     "name": "stdout",
     "output_type": "stream",
     "text": [
      "[CV] END selector__L=0.9, selector__MS=0.7, selector__algorithm=algorithm1, selector__dispersion_measure=TV; total time=   2.3s\n"
     ]
    },
    {
     "name": "stderr",
     "output_type": "stream",
     "text": [
      "/Users/sofiafernandes/Documents/Repos/EmoReA/emorea-backend/src/select_features.py:54: RuntimeWarning: divide by zero encountered in scalar divide\n",
      "  dispersions[i] = arithmetic_mean / geometric_mean\n"
     ]
    },
    {
     "name": "stdout",
     "output_type": "stream",
     "text": [
      "[CV] END selector__L=0.9, selector__MS=0.7, selector__algorithm=algorithm1, selector__dispersion_measure=TV; total time=   2.3s\n"
     ]
    },
    {
     "name": "stderr",
     "output_type": "stream",
     "text": [
      "/Users/sofiafernandes/Documents/Repos/EmoReA/emorea-backend/src/select_features.py:54: RuntimeWarning: divide by zero encountered in scalar divide\n",
      "  dispersions[i] = arithmetic_mean / geometric_mean\n"
     ]
    },
    {
     "name": "stdout",
     "output_type": "stream",
     "text": [
      "[CV] END selector__L=0.9, selector__MS=0.7, selector__algorithm=algorithm1, selector__dispersion_measure=TV; total time=   2.3s\n",
      "[CV] END selector__L=0.9, selector__MS=0.7, selector__algorithm=algorithm1, selector__dispersion_measure=TV; total time=   2.3s\n"
     ]
    },
    {
     "name": "stderr",
     "output_type": "stream",
     "text": [
      "/Users/sofiafernandes/Documents/Repos/EmoReA/emorea-backend/src/select_features.py:54: RuntimeWarning: divide by zero encountered in scalar divide\n",
      "  dispersions[i] = arithmetic_mean / geometric_mean\n",
      "/Users/sofiafernandes/Documents/Repos/EmoReA/emorea-backend/src/select_features.py:54: RuntimeWarning: divide by zero encountered in scalar divide\n",
      "  dispersions[i] = arithmetic_mean / geometric_mean\n"
     ]
    },
    {
     "name": "stdout",
     "output_type": "stream",
     "text": [
      "[CV] END selector__L=0.9, selector__MS=0.7, selector__algorithm=algorithm1, selector__dispersion_measure=TV; total time=   2.3s\n",
      "[CV] END selector__L=0.9, selector__MS=0.7, selector__algorithm=algorithm1, selector__dispersion_measure=TV; total time=   2.4s\n"
     ]
    },
    {
     "name": "stderr",
     "output_type": "stream",
     "text": [
      "/Users/sofiafernandes/Documents/Repos/EmoReA/emorea-backend/src/select_features.py:54: RuntimeWarning: divide by zero encountered in scalar divide\n",
      "  dispersions[i] = arithmetic_mean / geometric_mean\n",
      "/Users/sofiafernandes/Documents/Repos/EmoReA/emorea-backend/src/select_features.py:54: RuntimeWarning: divide by zero encountered in scalar divide\n",
      "  dispersions[i] = arithmetic_mean / geometric_mean\n"
     ]
    },
    {
     "name": "stdout",
     "output_type": "stream",
     "text": [
      "[CV] END selector__L=0.9, selector__MS=0.7, selector__algorithm=algorithm1, selector__dispersion_measure=TV; total time=   2.4s\n"
     ]
    },
    {
     "name": "stderr",
     "output_type": "stream",
     "text": [
      "/Users/sofiafernandes/Documents/Repos/EmoReA/emorea-backend/src/select_features.py:54: RuntimeWarning: divide by zero encountered in scalar divide\n",
      "  dispersions[i] = arithmetic_mean / geometric_mean\n"
     ]
    },
    {
     "name": "stdout",
     "output_type": "stream",
     "text": [
      "[CV] END selector__L=0.9, selector__MS=0.7, selector__algorithm=algorithm1, selector__dispersion_measure=TV; total time=   2.4s\n",
      "[CV] END selector__L=0.9, selector__MS=0.7, selector__algorithm=algorithm1, selector__dispersion_measure=TV; total time=   2.4s\n",
      "[CV] END selector__L=0.9, selector__MS=0.7, selector__algorithm=algorithm1, selector__dispersion_measure=AMGM; total time=   2.4s\n",
      "[CV] END selector__L=0.9, selector__MS=0.7, selector__algorithm=algorithm1, selector__dispersion_measure=AMGM; total time=   2.3s\n",
      "[CV] END selector__L=0.9, selector__MS=0.7, selector__algorithm=algorithm1, selector__dispersion_measure=AMGM; total time=   2.3s\n",
      "[CV] END selector__L=0.9, selector__MS=0.7, selector__algorithm=algorithm1, selector__dispersion_measure=AMGM; total time=   2.3s\n",
      "[CV] END selector__L=0.9, selector__MS=0.7, selector__algorithm=algorithm1, selector__dispersion_measure=AMGM; total time=   2.2s\n",
      "[CV] END selector__L=0.9, selector__MS=0.7, selector__algorithm=algorithm1, selector__dispersion_measure=AMGM; total time=   2.3s\n",
      "[CV] END selector__L=0.9, selector__MS=0.7, selector__algorithm=algorithm1, selector__dispersion_measure=AMGM; total time=   2.3s\n",
      "[CV] END selector__L=0.9, selector__MS=0.7, selector__algorithm=algorithm1, selector__dispersion_measure=AMGM; total time=   2.3s\n",
      "[CV] END selector__L=0.9, selector__MS=0.7, selector__algorithm=algorithm1, selector__dispersion_measure=AMGM; total time=   2.3s\n",
      "[CV] END selector__L=0.9, selector__MS=0.7, selector__algorithm=algorithm1, selector__dispersion_measure=AMGM; total time=   2.3s\n",
      "[CV] END selector__L=0.9, selector__MS=0.7, selector__algorithm=algorithm2, selector__dispersion_measure=MM; total time=   2.1s\n",
      "[CV] END selector__L=0.9, selector__MS=0.7, selector__algorithm=algorithm2, selector__dispersion_measure=MM; total time=   1.9s\n",
      "[CV] END selector__L=0.9, selector__MS=0.7, selector__algorithm=algorithm2, selector__dispersion_measure=MM; total time=   2.1s\n",
      "[CV] END selector__L=0.9, selector__MS=0.7, selector__algorithm=algorithm2, selector__dispersion_measure=MM; total time=   1.9s\n",
      "[CV] END selector__L=0.9, selector__MS=0.7, selector__algorithm=algorithm2, selector__dispersion_measure=MM; total time=   1.9s\n",
      "[CV] END selector__L=0.9, selector__MS=0.7, selector__algorithm=algorithm2, selector__dispersion_measure=MM; total time=   1.9s\n",
      "[CV] END selector__L=0.9, selector__MS=0.7, selector__algorithm=algorithm2, selector__dispersion_measure=MM; total time=   2.0s\n",
      "[CV] END selector__L=0.9, selector__MS=0.7, selector__algorithm=algorithm2, selector__dispersion_measure=MM; total time=   1.9s\n",
      "[CV] END selector__L=0.9, selector__MS=0.7, selector__algorithm=algorithm2, selector__dispersion_measure=MM; total time=   1.9s\n",
      "[CV] END selector__L=0.9, selector__MS=0.7, selector__algorithm=algorithm2, selector__dispersion_measure=MM; total time=   1.9s\n",
      "[CV] END selector__L=0.9, selector__MS=0.7, selector__algorithm=algorithm2, selector__dispersion_measure=MAD; total time=   2.1s\n",
      "[CV] END selector__L=0.9, selector__MS=0.7, selector__algorithm=algorithm2, selector__dispersion_measure=MAD; total time=   2.1s\n",
      "[CV] END selector__L=0.9, selector__MS=0.7, selector__algorithm=algorithm2, selector__dispersion_measure=MAD; total time=   1.9s\n",
      "[CV] END selector__L=0.9, selector__MS=0.7, selector__algorithm=algorithm2, selector__dispersion_measure=MAD; total time=   2.0s\n",
      "[CV] END selector__L=0.9, selector__MS=0.7, selector__algorithm=algorithm2, selector__dispersion_measure=MAD; total time=   2.0s\n",
      "[CV] END selector__L=0.9, selector__MS=0.7, selector__algorithm=algorithm2, selector__dispersion_measure=MAD; total time=   2.0s\n",
      "[CV] END selector__L=0.9, selector__MS=0.7, selector__algorithm=algorithm2, selector__dispersion_measure=MAD; total time=   2.0s\n",
      "[CV] END selector__L=0.9, selector__MS=0.7, selector__algorithm=algorithm2, selector__dispersion_measure=MAD; total time=   2.0s\n",
      "[CV] END selector__L=0.9, selector__MS=0.7, selector__algorithm=algorithm2, selector__dispersion_measure=MAD; total time=   2.0s\n"
     ]
    },
    {
     "name": "stderr",
     "output_type": "stream",
     "text": [
      "/Users/sofiafernandes/Documents/Repos/EmoReA/emorea-backend/src/select_features.py:54: RuntimeWarning: divide by zero encountered in scalar divide\n",
      "  dispersions[i] = arithmetic_mean / geometric_mean\n"
     ]
    },
    {
     "name": "stdout",
     "output_type": "stream",
     "text": [
      "[CV] END selector__L=0.9, selector__MS=0.7, selector__algorithm=algorithm2, selector__dispersion_measure=MAD; total time=   2.0s\n",
      "[CV] END selector__L=0.9, selector__MS=0.7, selector__algorithm=algorithm2, selector__dispersion_measure=TV; total time=   2.0s\n"
     ]
    },
    {
     "name": "stderr",
     "output_type": "stream",
     "text": [
      "/Users/sofiafernandes/Documents/Repos/EmoReA/emorea-backend/src/select_features.py:54: RuntimeWarning: divide by zero encountered in scalar divide\n",
      "  dispersions[i] = arithmetic_mean / geometric_mean\n",
      "/Users/sofiafernandes/Documents/Repos/EmoReA/emorea-backend/src/select_features.py:54: RuntimeWarning: divide by zero encountered in scalar divide\n",
      "  dispersions[i] = arithmetic_mean / geometric_mean\n"
     ]
    },
    {
     "name": "stdout",
     "output_type": "stream",
     "text": [
      "[CV] END selector__L=0.9, selector__MS=0.7, selector__algorithm=algorithm2, selector__dispersion_measure=TV; total time=   1.9s\n"
     ]
    },
    {
     "name": "stderr",
     "output_type": "stream",
     "text": [
      "/Users/sofiafernandes/Documents/Repos/EmoReA/emorea-backend/src/select_features.py:54: RuntimeWarning: divide by zero encountered in scalar divide\n",
      "  dispersions[i] = arithmetic_mean / geometric_mean\n"
     ]
    },
    {
     "name": "stdout",
     "output_type": "stream",
     "text": [
      "[CV] END selector__L=0.9, selector__MS=0.7, selector__algorithm=algorithm2, selector__dispersion_measure=TV; total time=   2.1s\n"
     ]
    },
    {
     "name": "stderr",
     "output_type": "stream",
     "text": [
      "/Users/sofiafernandes/Documents/Repos/EmoReA/emorea-backend/src/select_features.py:54: RuntimeWarning: divide by zero encountered in scalar divide\n",
      "  dispersions[i] = arithmetic_mean / geometric_mean\n"
     ]
    },
    {
     "name": "stdout",
     "output_type": "stream",
     "text": [
      "[CV] END selector__L=0.9, selector__MS=0.7, selector__algorithm=algorithm2, selector__dispersion_measure=TV; total time=   2.0s\n"
     ]
    },
    {
     "name": "stderr",
     "output_type": "stream",
     "text": [
      "/Users/sofiafernandes/Documents/Repos/EmoReA/emorea-backend/src/select_features.py:54: RuntimeWarning: divide by zero encountered in scalar divide\n",
      "  dispersions[i] = arithmetic_mean / geometric_mean\n"
     ]
    },
    {
     "name": "stdout",
     "output_type": "stream",
     "text": [
      "[CV] END selector__L=0.9, selector__MS=0.7, selector__algorithm=algorithm2, selector__dispersion_measure=TV; total time=   2.0s\n"
     ]
    },
    {
     "name": "stderr",
     "output_type": "stream",
     "text": [
      "/Users/sofiafernandes/Documents/Repos/EmoReA/emorea-backend/src/select_features.py:54: RuntimeWarning: divide by zero encountered in scalar divide\n",
      "  dispersions[i] = arithmetic_mean / geometric_mean\n"
     ]
    },
    {
     "name": "stdout",
     "output_type": "stream",
     "text": [
      "[CV] END selector__L=0.9, selector__MS=0.7, selector__algorithm=algorithm2, selector__dispersion_measure=TV; total time=   2.0s\n",
      "[CV] END selector__L=0.9, selector__MS=0.7, selector__algorithm=algorithm2, selector__dispersion_measure=TV; total time=   2.0s\n"
     ]
    },
    {
     "name": "stderr",
     "output_type": "stream",
     "text": [
      "/Users/sofiafernandes/Documents/Repos/EmoReA/emorea-backend/src/select_features.py:54: RuntimeWarning: divide by zero encountered in scalar divide\n",
      "  dispersions[i] = arithmetic_mean / geometric_mean\n",
      "/Users/sofiafernandes/Documents/Repos/EmoReA/emorea-backend/src/select_features.py:54: RuntimeWarning: divide by zero encountered in scalar divide\n",
      "  dispersions[i] = arithmetic_mean / geometric_mean\n"
     ]
    },
    {
     "name": "stdout",
     "output_type": "stream",
     "text": [
      "[CV] END selector__L=0.9, selector__MS=0.7, selector__algorithm=algorithm2, selector__dispersion_measure=TV; total time=   2.0s\n"
     ]
    },
    {
     "name": "stderr",
     "output_type": "stream",
     "text": [
      "/Users/sofiafernandes/Documents/Repos/EmoReA/emorea-backend/src/select_features.py:54: RuntimeWarning: divide by zero encountered in scalar divide\n",
      "  dispersions[i] = arithmetic_mean / geometric_mean\n"
     ]
    },
    {
     "name": "stdout",
     "output_type": "stream",
     "text": [
      "[CV] END selector__L=0.9, selector__MS=0.7, selector__algorithm=algorithm2, selector__dispersion_measure=TV; total time=   2.0s\n",
      "[CV] END selector__L=0.9, selector__MS=0.7, selector__algorithm=algorithm2, selector__dispersion_measure=TV; total time=   2.1s\n",
      "[CV] END selector__L=0.9, selector__MS=0.7, selector__algorithm=algorithm2, selector__dispersion_measure=AMGM; total time=   1.9s\n",
      "[CV] END selector__L=0.9, selector__MS=0.7, selector__algorithm=algorithm2, selector__dispersion_measure=AMGM; total time=   1.9s\n",
      "[CV] END selector__L=0.9, selector__MS=0.7, selector__algorithm=algorithm2, selector__dispersion_measure=AMGM; total time=   2.1s\n",
      "[CV] END selector__L=0.9, selector__MS=0.7, selector__algorithm=algorithm2, selector__dispersion_measure=AMGM; total time=   2.0s\n",
      "[CV] END selector__L=0.9, selector__MS=0.7, selector__algorithm=algorithm2, selector__dispersion_measure=AMGM; total time=   1.8s\n",
      "[CV] END selector__L=0.9, selector__MS=0.7, selector__algorithm=algorithm2, selector__dispersion_measure=AMGM; total time=   2.1s\n",
      "[CV] END selector__L=0.9, selector__MS=0.7, selector__algorithm=algorithm2, selector__dispersion_measure=AMGM; total time=   2.1s\n",
      "[CV] END selector__L=0.9, selector__MS=0.7, selector__algorithm=algorithm2, selector__dispersion_measure=AMGM; total time=   2.1s\n",
      "[CV] END selector__L=0.9, selector__MS=0.7, selector__algorithm=algorithm2, selector__dispersion_measure=AMGM; total time=   2.0s\n",
      "[CV] END selector__L=0.9, selector__MS=0.7, selector__algorithm=algorithm2, selector__dispersion_measure=AMGM; total time=   2.1s\n",
      "[CV] END selector__L=0.9, selector__MS=0.75, selector__algorithm=algorithm1, selector__dispersion_measure=MM; total time=   2.3s\n",
      "[CV] END selector__L=0.9, selector__MS=0.75, selector__algorithm=algorithm1, selector__dispersion_measure=MM; total time=   2.3s\n",
      "[CV] END selector__L=0.9, selector__MS=0.75, selector__algorithm=algorithm1, selector__dispersion_measure=MM; total time=   2.3s\n",
      "[CV] END selector__L=0.9, selector__MS=0.75, selector__algorithm=algorithm1, selector__dispersion_measure=MM; total time=   2.3s\n",
      "[CV] END selector__L=0.9, selector__MS=0.75, selector__algorithm=algorithm1, selector__dispersion_measure=MM; total time=   2.4s\n",
      "[CV] END selector__L=0.9, selector__MS=0.75, selector__algorithm=algorithm1, selector__dispersion_measure=MM; total time=   2.4s\n",
      "[CV] END selector__L=0.9, selector__MS=0.75, selector__algorithm=algorithm1, selector__dispersion_measure=MM; total time=   2.3s\n",
      "[CV] END selector__L=0.9, selector__MS=0.75, selector__algorithm=algorithm1, selector__dispersion_measure=MM; total time=   2.3s\n",
      "[CV] END selector__L=0.9, selector__MS=0.75, selector__algorithm=algorithm1, selector__dispersion_measure=MM; total time=   2.2s\n",
      "[CV] END selector__L=0.9, selector__MS=0.75, selector__algorithm=algorithm1, selector__dispersion_measure=MAD; total time=   2.2s\n",
      "[CV] END selector__L=0.9, selector__MS=0.75, selector__algorithm=algorithm1, selector__dispersion_measure=MM; total time=   2.2s\n",
      "[CV] END selector__L=0.9, selector__MS=0.75, selector__algorithm=algorithm1, selector__dispersion_measure=MAD; total time=   2.1s\n",
      "[CV] END selector__L=0.9, selector__MS=0.75, selector__algorithm=algorithm1, selector__dispersion_measure=MAD; total time=   2.2s\n",
      "[CV] END selector__L=0.9, selector__MS=0.75, selector__algorithm=algorithm1, selector__dispersion_measure=MAD; total time=   2.3s\n",
      "[CV] END selector__L=0.9, selector__MS=0.75, selector__algorithm=algorithm1, selector__dispersion_measure=MAD; total time=   2.3s\n",
      "[CV] END selector__L=0.9, selector__MS=0.75, selector__algorithm=algorithm1, selector__dispersion_measure=MAD; total time=   2.4s\n",
      "[CV] END selector__L=0.9, selector__MS=0.75, selector__algorithm=algorithm1, selector__dispersion_measure=MAD; total time=   2.3s\n",
      "[CV] END selector__L=0.9, selector__MS=0.75, selector__algorithm=algorithm1, selector__dispersion_measure=MAD; total time=   2.2s\n",
      "[CV] END selector__L=0.9, selector__MS=0.75, selector__algorithm=algorithm1, selector__dispersion_measure=MAD; total time=   2.2s\n",
      "[CV] END selector__L=0.9, selector__MS=0.75, selector__algorithm=algorithm1, selector__dispersion_measure=MAD; total time=   2.3s\n"
     ]
    },
    {
     "name": "stderr",
     "output_type": "stream",
     "text": [
      "/Users/sofiafernandes/Documents/Repos/EmoReA/emorea-backend/src/select_features.py:54: RuntimeWarning: divide by zero encountered in scalar divide\n",
      "  dispersions[i] = arithmetic_mean / geometric_mean\n",
      "/Users/sofiafernandes/Documents/Repos/EmoReA/emorea-backend/src/select_features.py:54: RuntimeWarning: divide by zero encountered in scalar divide\n",
      "  dispersions[i] = arithmetic_mean / geometric_mean\n"
     ]
    },
    {
     "name": "stdout",
     "output_type": "stream",
     "text": [
      "[CV] END selector__L=0.9, selector__MS=0.75, selector__algorithm=algorithm1, selector__dispersion_measure=TV; total time=   2.3s\n",
      "[CV] END selector__L=0.9, selector__MS=0.75, selector__algorithm=algorithm1, selector__dispersion_measure=TV; total time=   2.3s\n",
      "[CV] END selector__L=0.9, selector__MS=0.75, selector__algorithm=algorithm1, selector__dispersion_measure=TV; total time=   2.3s\n"
     ]
    },
    {
     "name": "stderr",
     "output_type": "stream",
     "text": [
      "/Users/sofiafernandes/Documents/Repos/EmoReA/emorea-backend/src/select_features.py:54: RuntimeWarning: divide by zero encountered in scalar divide\n",
      "  dispersions[i] = arithmetic_mean / geometric_mean\n",
      "/Users/sofiafernandes/Documents/Repos/EmoReA/emorea-backend/src/select_features.py:54: RuntimeWarning: divide by zero encountered in scalar divide\n",
      "  dispersions[i] = arithmetic_mean / geometric_mean\n",
      "/Users/sofiafernandes/Documents/Repos/EmoReA/emorea-backend/src/select_features.py:54: RuntimeWarning: divide by zero encountered in scalar divide\n",
      "  dispersions[i] = arithmetic_mean / geometric_mean\n"
     ]
    },
    {
     "name": "stdout",
     "output_type": "stream",
     "text": [
      "[CV] END selector__L=0.9, selector__MS=0.75, selector__algorithm=algorithm1, selector__dispersion_measure=TV; total time=   2.2s\n"
     ]
    },
    {
     "name": "stderr",
     "output_type": "stream",
     "text": [
      "/Users/sofiafernandes/Documents/Repos/EmoReA/emorea-backend/src/select_features.py:54: RuntimeWarning: divide by zero encountered in scalar divide\n",
      "  dispersions[i] = arithmetic_mean / geometric_mean\n"
     ]
    },
    {
     "name": "stdout",
     "output_type": "stream",
     "text": [
      "[CV] END selector__L=0.9, selector__MS=0.75, selector__algorithm=algorithm1, selector__dispersion_measure=TV; total time=   2.2s\n"
     ]
    },
    {
     "name": "stderr",
     "output_type": "stream",
     "text": [
      "/Users/sofiafernandes/Documents/Repos/EmoReA/emorea-backend/src/select_features.py:54: RuntimeWarning: divide by zero encountered in scalar divide\n",
      "  dispersions[i] = arithmetic_mean / geometric_mean\n"
     ]
    },
    {
     "name": "stdout",
     "output_type": "stream",
     "text": [
      "[CV] END selector__L=0.9, selector__MS=0.75, selector__algorithm=algorithm1, selector__dispersion_measure=TV; total time=   2.3s\n"
     ]
    },
    {
     "name": "stderr",
     "output_type": "stream",
     "text": [
      "/Users/sofiafernandes/Documents/Repos/EmoReA/emorea-backend/src/select_features.py:54: RuntimeWarning: divide by zero encountered in scalar divide\n",
      "  dispersions[i] = arithmetic_mean / geometric_mean\n"
     ]
    },
    {
     "name": "stdout",
     "output_type": "stream",
     "text": [
      "[CV] END selector__L=0.9, selector__MS=0.75, selector__algorithm=algorithm1, selector__dispersion_measure=TV; total time=   2.3s\n"
     ]
    },
    {
     "name": "stderr",
     "output_type": "stream",
     "text": [
      "/Users/sofiafernandes/Documents/Repos/EmoReA/emorea-backend/src/select_features.py:54: RuntimeWarning: divide by zero encountered in scalar divide\n",
      "  dispersions[i] = arithmetic_mean / geometric_mean\n"
     ]
    },
    {
     "name": "stdout",
     "output_type": "stream",
     "text": [
      "[CV] END selector__L=0.9, selector__MS=0.75, selector__algorithm=algorithm1, selector__dispersion_measure=TV; total time=   2.2s\n",
      "[CV] END selector__L=0.9, selector__MS=0.75, selector__algorithm=algorithm1, selector__dispersion_measure=TV; total time=   2.3s\n"
     ]
    },
    {
     "name": "stderr",
     "output_type": "stream",
     "text": [
      "/Users/sofiafernandes/Documents/Repos/EmoReA/emorea-backend/src/select_features.py:54: RuntimeWarning: divide by zero encountered in scalar divide\n",
      "  dispersions[i] = arithmetic_mean / geometric_mean\n"
     ]
    },
    {
     "name": "stdout",
     "output_type": "stream",
     "text": [
      "[CV] END selector__L=0.9, selector__MS=0.75, selector__algorithm=algorithm1, selector__dispersion_measure=TV; total time=   2.2s\n",
      "[CV] END selector__L=0.9, selector__MS=0.75, selector__algorithm=algorithm1, selector__dispersion_measure=AMGM; total time=   2.4s\n",
      "[CV] END selector__L=0.9, selector__MS=0.75, selector__algorithm=algorithm1, selector__dispersion_measure=AMGM; total time=   2.4s\n",
      "[CV] END selector__L=0.9, selector__MS=0.75, selector__algorithm=algorithm1, selector__dispersion_measure=AMGM; total time=   2.5s\n",
      "[CV] END selector__L=0.9, selector__MS=0.75, selector__algorithm=algorithm1, selector__dispersion_measure=AMGM; total time=   2.5s\n",
      "[CV] END selector__L=0.9, selector__MS=0.75, selector__algorithm=algorithm1, selector__dispersion_measure=AMGM; total time=   2.4s\n",
      "[CV] END selector__L=0.9, selector__MS=0.75, selector__algorithm=algorithm1, selector__dispersion_measure=AMGM; total time=   2.5s\n",
      "[CV] END selector__L=0.9, selector__MS=0.75, selector__algorithm=algorithm1, selector__dispersion_measure=AMGM; total time=   2.4s\n",
      "[CV] END selector__L=0.9, selector__MS=0.75, selector__algorithm=algorithm1, selector__dispersion_measure=AMGM; total time=   2.4s\n",
      "[CV] END selector__L=0.9, selector__MS=0.75, selector__algorithm=algorithm1, selector__dispersion_measure=AMGM; total time=   2.3s\n",
      "[CV] END selector__L=0.9, selector__MS=0.75, selector__algorithm=algorithm2, selector__dispersion_measure=MM; total time=   2.2s\n",
      "[CV] END selector__L=0.9, selector__MS=0.75, selector__algorithm=algorithm1, selector__dispersion_measure=AMGM; total time=   2.3s\n",
      "[CV] END selector__L=0.9, selector__MS=0.75, selector__algorithm=algorithm2, selector__dispersion_measure=MM; total time=   2.1s\n",
      "[CV] END selector__L=0.9, selector__MS=0.75, selector__algorithm=algorithm2, selector__dispersion_measure=MM; total time=   2.1s\n",
      "[CV] END selector__L=0.9, selector__MS=0.75, selector__algorithm=algorithm2, selector__dispersion_measure=MM; total time=   2.2s\n",
      "[CV] END selector__L=0.9, selector__MS=0.75, selector__algorithm=algorithm2, selector__dispersion_measure=MM; total time=   2.2s\n",
      "[CV] END selector__L=0.9, selector__MS=0.75, selector__algorithm=algorithm2, selector__dispersion_measure=MM; total time=   2.2s\n",
      "[CV] END selector__L=0.9, selector__MS=0.75, selector__algorithm=algorithm2, selector__dispersion_measure=MM; total time=   2.3s\n",
      "[CV] END selector__L=0.9, selector__MS=0.75, selector__algorithm=algorithm2, selector__dispersion_measure=MM; total time=   2.2s\n",
      "[CV] END selector__L=0.9, selector__MS=0.75, selector__algorithm=algorithm2, selector__dispersion_measure=MM; total time=   2.0s\n",
      "[CV] END selector__L=0.9, selector__MS=0.75, selector__algorithm=algorithm2, selector__dispersion_measure=MM; total time=   2.0s\n",
      "[CV] END selector__L=0.9, selector__MS=0.75, selector__algorithm=algorithm2, selector__dispersion_measure=MAD; total time=   2.2s\n",
      "[CV] END selector__L=0.9, selector__MS=0.75, selector__algorithm=algorithm2, selector__dispersion_measure=MAD; total time=   2.1s\n",
      "[CV] END selector__L=0.9, selector__MS=0.75, selector__algorithm=algorithm2, selector__dispersion_measure=MAD; total time=   2.3s\n",
      "[CV] END selector__L=0.9, selector__MS=0.75, selector__algorithm=algorithm2, selector__dispersion_measure=MAD; total time=   2.2s\n",
      "[CV] END selector__L=0.9, selector__MS=0.75, selector__algorithm=algorithm2, selector__dispersion_measure=MAD; total time=   2.2s\n",
      "[CV] END selector__L=0.9, selector__MS=0.75, selector__algorithm=algorithm2, selector__dispersion_measure=MAD; total time=   2.1s\n",
      "[CV] END selector__L=0.9, selector__MS=0.75, selector__algorithm=algorithm2, selector__dispersion_measure=MAD; total time=   2.2s\n",
      "[CV] END selector__L=0.9, selector__MS=0.75, selector__algorithm=algorithm2, selector__dispersion_measure=MAD; total time=   2.0s\n",
      "[CV] END selector__L=0.9, selector__MS=0.75, selector__algorithm=algorithm2, selector__dispersion_measure=MAD; total time=   2.0s\n"
     ]
    },
    {
     "name": "stderr",
     "output_type": "stream",
     "text": [
      "/Users/sofiafernandes/Documents/Repos/EmoReA/emorea-backend/src/select_features.py:54: RuntimeWarning: divide by zero encountered in scalar divide\n",
      "  dispersions[i] = arithmetic_mean / geometric_mean\n"
     ]
    },
    {
     "name": "stdout",
     "output_type": "stream",
     "text": [
      "[CV] END selector__L=0.9, selector__MS=0.75, selector__algorithm=algorithm2, selector__dispersion_measure=MAD; total time=   2.1s\n"
     ]
    },
    {
     "name": "stderr",
     "output_type": "stream",
     "text": [
      "/Users/sofiafernandes/Documents/Repos/EmoReA/emorea-backend/src/select_features.py:54: RuntimeWarning: divide by zero encountered in scalar divide\n",
      "  dispersions[i] = arithmetic_mean / geometric_mean\n"
     ]
    },
    {
     "name": "stdout",
     "output_type": "stream",
     "text": [
      "[CV] END selector__L=0.9, selector__MS=0.75, selector__algorithm=algorithm2, selector__dispersion_measure=TV; total time=   2.1s\n"
     ]
    },
    {
     "name": "stderr",
     "output_type": "stream",
     "text": [
      "/Users/sofiafernandes/Documents/Repos/EmoReA/emorea-backend/src/select_features.py:54: RuntimeWarning: divide by zero encountered in scalar divide\n",
      "  dispersions[i] = arithmetic_mean / geometric_mean\n"
     ]
    },
    {
     "name": "stdout",
     "output_type": "stream",
     "text": [
      "[CV] END selector__L=0.9, selector__MS=0.75, selector__algorithm=algorithm2, selector__dispersion_measure=TV; total time=   2.1s\n"
     ]
    },
    {
     "name": "stderr",
     "output_type": "stream",
     "text": [
      "/Users/sofiafernandes/Documents/Repos/EmoReA/emorea-backend/src/select_features.py:54: RuntimeWarning: divide by zero encountered in scalar divide\n",
      "  dispersions[i] = arithmetic_mean / geometric_mean\n"
     ]
    },
    {
     "name": "stdout",
     "output_type": "stream",
     "text": [
      "[CV] END selector__L=0.9, selector__MS=0.75, selector__algorithm=algorithm2, selector__dispersion_measure=TV; total time=   2.2s\n"
     ]
    },
    {
     "name": "stderr",
     "output_type": "stream",
     "text": [
      "/Users/sofiafernandes/Documents/Repos/EmoReA/emorea-backend/src/select_features.py:54: RuntimeWarning: divide by zero encountered in scalar divide\n",
      "  dispersions[i] = arithmetic_mean / geometric_mean\n"
     ]
    },
    {
     "name": "stdout",
     "output_type": "stream",
     "text": [
      "[CV] END selector__L=0.9, selector__MS=0.75, selector__algorithm=algorithm2, selector__dispersion_measure=TV; total time=   2.1s\n"
     ]
    },
    {
     "name": "stderr",
     "output_type": "stream",
     "text": [
      "/Users/sofiafernandes/Documents/Repos/EmoReA/emorea-backend/src/select_features.py:54: RuntimeWarning: divide by zero encountered in scalar divide\n",
      "  dispersions[i] = arithmetic_mean / geometric_mean\n"
     ]
    },
    {
     "name": "stdout",
     "output_type": "stream",
     "text": [
      "[CV] END selector__L=0.9, selector__MS=0.75, selector__algorithm=algorithm2, selector__dispersion_measure=TV; total time=   2.1s\n",
      "[CV] END selector__L=0.9, selector__MS=0.75, selector__algorithm=algorithm2, selector__dispersion_measure=TV; total time=   2.1s\n"
     ]
    },
    {
     "name": "stderr",
     "output_type": "stream",
     "text": [
      "/Users/sofiafernandes/Documents/Repos/EmoReA/emorea-backend/src/select_features.py:54: RuntimeWarning: divide by zero encountered in scalar divide\n",
      "  dispersions[i] = arithmetic_mean / geometric_mean\n",
      "/Users/sofiafernandes/Documents/Repos/EmoReA/emorea-backend/src/select_features.py:54: RuntimeWarning: divide by zero encountered in scalar divide\n",
      "  dispersions[i] = arithmetic_mean / geometric_mean\n"
     ]
    },
    {
     "name": "stdout",
     "output_type": "stream",
     "text": [
      "[CV] END selector__L=0.9, selector__MS=0.75, selector__algorithm=algorithm2, selector__dispersion_measure=TV; total time=   2.1s\n"
     ]
    },
    {
     "name": "stderr",
     "output_type": "stream",
     "text": [
      "/Users/sofiafernandes/Documents/Repos/EmoReA/emorea-backend/src/select_features.py:54: RuntimeWarning: divide by zero encountered in scalar divide\n",
      "  dispersions[i] = arithmetic_mean / geometric_mean\n"
     ]
    },
    {
     "name": "stdout",
     "output_type": "stream",
     "text": [
      "[CV] END selector__L=0.9, selector__MS=0.75, selector__algorithm=algorithm2, selector__dispersion_measure=AMGM; total time=   1.9s\n"
     ]
    },
    {
     "name": "stderr",
     "output_type": "stream",
     "text": [
      "/Users/sofiafernandes/Documents/Repos/EmoReA/emorea-backend/src/select_features.py:54: RuntimeWarning: divide by zero encountered in scalar divide\n",
      "  dispersions[i] = arithmetic_mean / geometric_mean\n"
     ]
    },
    {
     "name": "stdout",
     "output_type": "stream",
     "text": [
      "[CV] END selector__L=0.9, selector__MS=0.75, selector__algorithm=algorithm2, selector__dispersion_measure=TV; total time=   2.2s\n",
      "[CV] END selector__L=0.9, selector__MS=0.75, selector__algorithm=algorithm2, selector__dispersion_measure=TV; total time=   2.2s\n",
      "[CV] END selector__L=0.9, selector__MS=0.75, selector__algorithm=algorithm2, selector__dispersion_measure=AMGM; total time=   2.1s\n",
      "[CV] END selector__L=0.9, selector__MS=0.75, selector__algorithm=algorithm2, selector__dispersion_measure=TV; total time=   2.4s\n",
      "[CV] END selector__L=0.9, selector__MS=0.75, selector__algorithm=algorithm2, selector__dispersion_measure=AMGM; total time=   2.0s\n",
      "[CV] END selector__L=0.9, selector__MS=0.75, selector__algorithm=algorithm2, selector__dispersion_measure=AMGM; total time=   2.0s\n",
      "[CV] END selector__L=0.9, selector__MS=0.75, selector__algorithm=algorithm2, selector__dispersion_measure=AMGM; total time=   1.9s\n",
      "[CV] END selector__L=0.9, selector__MS=0.75, selector__algorithm=algorithm2, selector__dispersion_measure=AMGM; total time=   1.8s\n",
      "[CV] END selector__L=0.9, selector__MS=0.75, selector__algorithm=algorithm2, selector__dispersion_measure=AMGM; total time=   1.9s\n",
      "[CV] END selector__L=0.9, selector__MS=0.75, selector__algorithm=algorithm2, selector__dispersion_measure=AMGM; total time=   2.1s\n",
      "[CV] END selector__L=0.9, selector__MS=0.75, selector__algorithm=algorithm2, selector__dispersion_measure=AMGM; total time=   2.0s\n",
      "[CV] END selector__L=0.9, selector__MS=0.75, selector__algorithm=algorithm2, selector__dispersion_measure=AMGM; total time=   2.0s\n",
      "[CV] END selector__L=0.9, selector__MS=0.8, selector__algorithm=algorithm1, selector__dispersion_measure=MM; total time=   2.3s\n",
      "[CV] END selector__L=0.9, selector__MS=0.8, selector__algorithm=algorithm1, selector__dispersion_measure=MM; total time=   2.5s\n",
      "[CV] END selector__L=0.9, selector__MS=0.8, selector__algorithm=algorithm1, selector__dispersion_measure=MM; total time=   2.3s\n",
      "[CV] END selector__L=0.9, selector__MS=0.8, selector__algorithm=algorithm1, selector__dispersion_measure=MM; total time=   2.3s\n",
      "[CV] END selector__L=0.9, selector__MS=0.8, selector__algorithm=algorithm1, selector__dispersion_measure=MM; total time=   2.2s\n",
      "[CV] END selector__L=0.9, selector__MS=0.8, selector__algorithm=algorithm1, selector__dispersion_measure=MM; total time=   2.3s\n",
      "[CV] END selector__L=0.9, selector__MS=0.8, selector__algorithm=algorithm1, selector__dispersion_measure=MM; total time=   2.2s\n",
      "[CV] END selector__L=0.9, selector__MS=0.8, selector__algorithm=algorithm1, selector__dispersion_measure=MM; total time=   2.3s\n",
      "[CV] END selector__L=0.9, selector__MS=0.8, selector__algorithm=algorithm1, selector__dispersion_measure=MM; total time=   2.1s\n",
      "[CV] END selector__L=0.9, selector__MS=0.8, selector__algorithm=algorithm1, selector__dispersion_measure=MM; total time=   2.2s\n",
      "[CV] END selector__L=0.9, selector__MS=0.8, selector__algorithm=algorithm1, selector__dispersion_measure=MAD; total time=   2.3s\n",
      "[CV] END selector__L=0.9, selector__MS=0.8, selector__algorithm=algorithm1, selector__dispersion_measure=MAD; total time=   2.3s\n",
      "[CV] END selector__L=0.9, selector__MS=0.8, selector__algorithm=algorithm1, selector__dispersion_measure=MAD; total time=   2.4s\n",
      "[CV] END selector__L=0.9, selector__MS=0.8, selector__algorithm=algorithm1, selector__dispersion_measure=MAD; total time=   2.4s\n",
      "[CV] END selector__L=0.9, selector__MS=0.8, selector__algorithm=algorithm1, selector__dispersion_measure=MAD; total time=   2.3s\n",
      "[CV] END selector__L=0.9, selector__MS=0.8, selector__algorithm=algorithm1, selector__dispersion_measure=MAD; total time=   2.3s\n",
      "[CV] END selector__L=0.9, selector__MS=0.8, selector__algorithm=algorithm1, selector__dispersion_measure=MAD; total time=   2.2s\n",
      "[CV] END selector__L=0.9, selector__MS=0.8, selector__algorithm=algorithm1, selector__dispersion_measure=MAD; total time=   2.2s\n",
      "[CV] END selector__L=0.9, selector__MS=0.8, selector__algorithm=algorithm1, selector__dispersion_measure=MAD; total time=   2.1s\n"
     ]
    },
    {
     "name": "stderr",
     "output_type": "stream",
     "text": [
      "/Users/sofiafernandes/Documents/Repos/EmoReA/emorea-backend/src/select_features.py:54: RuntimeWarning: divide by zero encountered in scalar divide\n",
      "  dispersions[i] = arithmetic_mean / geometric_mean\n"
     ]
    },
    {
     "name": "stdout",
     "output_type": "stream",
     "text": [
      "[CV] END selector__L=0.9, selector__MS=0.8, selector__algorithm=algorithm1, selector__dispersion_measure=MAD; total time=   2.2s\n"
     ]
    },
    {
     "name": "stderr",
     "output_type": "stream",
     "text": [
      "/Users/sofiafernandes/Documents/Repos/EmoReA/emorea-backend/src/select_features.py:54: RuntimeWarning: divide by zero encountered in scalar divide\n",
      "  dispersions[i] = arithmetic_mean / geometric_mean\n"
     ]
    },
    {
     "name": "stdout",
     "output_type": "stream",
     "text": [
      "[CV] END selector__L=0.9, selector__MS=0.8, selector__algorithm=algorithm1, selector__dispersion_measure=TV; total time=   2.2s\n",
      "[CV] END selector__L=0.9, selector__MS=0.8, selector__algorithm=algorithm1, selector__dispersion_measure=TV; total time=   2.2s\n"
     ]
    },
    {
     "name": "stderr",
     "output_type": "stream",
     "text": [
      "/Users/sofiafernandes/Documents/Repos/EmoReA/emorea-backend/src/select_features.py:54: RuntimeWarning: divide by zero encountered in scalar divide\n",
      "  dispersions[i] = arithmetic_mean / geometric_mean\n",
      "/Users/sofiafernandes/Documents/Repos/EmoReA/emorea-backend/src/select_features.py:54: RuntimeWarning: divide by zero encountered in scalar divide\n",
      "  dispersions[i] = arithmetic_mean / geometric_mean\n"
     ]
    },
    {
     "name": "stdout",
     "output_type": "stream",
     "text": [
      "[CV] END selector__L=0.9, selector__MS=0.8, selector__algorithm=algorithm1, selector__dispersion_measure=TV; total time=   2.1s\n",
      "[CV] END selector__L=0.9, selector__MS=0.8, selector__algorithm=algorithm1, selector__dispersion_measure=TV; total time=   2.2s\n"
     ]
    },
    {
     "name": "stderr",
     "output_type": "stream",
     "text": [
      "/Users/sofiafernandes/Documents/Repos/EmoReA/emorea-backend/src/select_features.py:54: RuntimeWarning: divide by zero encountered in scalar divide\n",
      "  dispersions[i] = arithmetic_mean / geometric_mean\n",
      "/Users/sofiafernandes/Documents/Repos/EmoReA/emorea-backend/src/select_features.py:54: RuntimeWarning: divide by zero encountered in scalar divide\n",
      "  dispersions[i] = arithmetic_mean / geometric_mean\n"
     ]
    },
    {
     "name": "stdout",
     "output_type": "stream",
     "text": [
      "[CV] END selector__L=0.9, selector__MS=0.8, selector__algorithm=algorithm1, selector__dispersion_measure=TV; total time=   2.2s\n",
      "[CV] END selector__L=0.9, selector__MS=0.8, selector__algorithm=algorithm1, selector__dispersion_measure=TV; total time=   2.2s\n",
      "[CV] END selector__L=0.9, selector__MS=0.8, selector__algorithm=algorithm1, selector__dispersion_measure=TV; total time=   2.2s\n"
     ]
    },
    {
     "name": "stderr",
     "output_type": "stream",
     "text": [
      "/Users/sofiafernandes/Documents/Repos/EmoReA/emorea-backend/src/select_features.py:54: RuntimeWarning: divide by zero encountered in scalar divide\n",
      "  dispersions[i] = arithmetic_mean / geometric_mean\n",
      "/Users/sofiafernandes/Documents/Repos/EmoReA/emorea-backend/src/select_features.py:54: RuntimeWarning: divide by zero encountered in scalar divide\n",
      "  dispersions[i] = arithmetic_mean / geometric_mean\n",
      "/Users/sofiafernandes/Documents/Repos/EmoReA/emorea-backend/src/select_features.py:54: RuntimeWarning: divide by zero encountered in scalar divide\n",
      "  dispersions[i] = arithmetic_mean / geometric_mean\n"
     ]
    },
    {
     "name": "stdout",
     "output_type": "stream",
     "text": [
      "[CV] END selector__L=0.9, selector__MS=0.8, selector__algorithm=algorithm1, selector__dispersion_measure=TV; total time=   2.1s\n",
      "[CV] END selector__L=0.9, selector__MS=0.8, selector__algorithm=algorithm1, selector__dispersion_measure=TV; total time=   2.1s\n"
     ]
    },
    {
     "name": "stderr",
     "output_type": "stream",
     "text": [
      "/Users/sofiafernandes/Documents/Repos/EmoReA/emorea-backend/src/select_features.py:54: RuntimeWarning: divide by zero encountered in scalar divide\n",
      "  dispersions[i] = arithmetic_mean / geometric_mean\n"
     ]
    },
    {
     "name": "stdout",
     "output_type": "stream",
     "text": [
      "[CV] END selector__L=0.9, selector__MS=0.8, selector__algorithm=algorithm1, selector__dispersion_measure=TV; total time=   2.2s\n",
      "[CV] END selector__L=0.9, selector__MS=0.8, selector__algorithm=algorithm1, selector__dispersion_measure=AMGM; total time=   2.2s\n",
      "[CV] END selector__L=0.9, selector__MS=0.8, selector__algorithm=algorithm1, selector__dispersion_measure=AMGM; total time=   2.2s\n",
      "[CV] END selector__L=0.9, selector__MS=0.8, selector__algorithm=algorithm1, selector__dispersion_measure=AMGM; total time=   2.1s\n",
      "[CV] END selector__L=0.9, selector__MS=0.8, selector__algorithm=algorithm1, selector__dispersion_measure=AMGM; total time=   2.1s\n",
      "[CV] END selector__L=0.9, selector__MS=0.8, selector__algorithm=algorithm1, selector__dispersion_measure=AMGM; total time=   2.1s\n",
      "[CV] END selector__L=0.9, selector__MS=0.8, selector__algorithm=algorithm1, selector__dispersion_measure=AMGM; total time=   2.2s\n",
      "[CV] END selector__L=0.9, selector__MS=0.8, selector__algorithm=algorithm1, selector__dispersion_measure=AMGM; total time=   2.1s\n",
      "[CV] END selector__L=0.9, selector__MS=0.8, selector__algorithm=algorithm1, selector__dispersion_measure=AMGM; total time=   2.2s\n",
      "[CV] END selector__L=0.9, selector__MS=0.8, selector__algorithm=algorithm1, selector__dispersion_measure=AMGM; total time=   2.2s\n",
      "[CV] END selector__L=0.9, selector__MS=0.8, selector__algorithm=algorithm2, selector__dispersion_measure=MM; total time=   2.1s\n",
      "[CV] END selector__L=0.9, selector__MS=0.8, selector__algorithm=algorithm1, selector__dispersion_measure=AMGM; total time=   2.1s\n",
      "[CV] END selector__L=0.9, selector__MS=0.8, selector__algorithm=algorithm2, selector__dispersion_measure=MM; total time=   2.0s\n",
      "[CV] END selector__L=0.9, selector__MS=0.8, selector__algorithm=algorithm2, selector__dispersion_measure=MM; total time=   2.0s\n",
      "[CV] END selector__L=0.9, selector__MS=0.8, selector__algorithm=algorithm2, selector__dispersion_measure=MM; total time=   2.1s\n",
      "[CV] END selector__L=0.9, selector__MS=0.8, selector__algorithm=algorithm2, selector__dispersion_measure=MM; total time=   2.1s\n",
      "[CV] END selector__L=0.9, selector__MS=0.8, selector__algorithm=algorithm2, selector__dispersion_measure=MM; total time=   2.1s\n",
      "[CV] END selector__L=0.9, selector__MS=0.8, selector__algorithm=algorithm2, selector__dispersion_measure=MM; total time=   2.1s\n",
      "[CV] END selector__L=0.9, selector__MS=0.8, selector__algorithm=algorithm2, selector__dispersion_measure=MM; total time=   2.2s\n",
      "[CV] END selector__L=0.9, selector__MS=0.8, selector__algorithm=algorithm2, selector__dispersion_measure=MM; total time=   2.2s\n",
      "[CV] END selector__L=0.9, selector__MS=0.8, selector__algorithm=algorithm2, selector__dispersion_measure=MM; total time=   2.2s\n",
      "[CV] END selector__L=0.9, selector__MS=0.8, selector__algorithm=algorithm2, selector__dispersion_measure=MAD; total time=   2.3s\n",
      "[CV] END selector__L=0.9, selector__MS=0.8, selector__algorithm=algorithm2, selector__dispersion_measure=MAD; total time=   2.2s\n",
      "[CV] END selector__L=0.9, selector__MS=0.8, selector__algorithm=algorithm2, selector__dispersion_measure=MAD; total time=   2.1s\n",
      "[CV] END selector__L=0.9, selector__MS=0.8, selector__algorithm=algorithm2, selector__dispersion_measure=MAD; total time=   2.1s\n",
      "[CV] END selector__L=0.9, selector__MS=0.8, selector__algorithm=algorithm2, selector__dispersion_measure=MAD; total time=   2.2s\n",
      "[CV] END selector__L=0.9, selector__MS=0.8, selector__algorithm=algorithm2, selector__dispersion_measure=MAD; total time=   2.2s\n",
      "[CV] END selector__L=0.9, selector__MS=0.8, selector__algorithm=algorithm2, selector__dispersion_measure=MAD; total time=   2.1s\n",
      "[CV] END selector__L=0.9, selector__MS=0.8, selector__algorithm=algorithm2, selector__dispersion_measure=MAD; total time=   2.1s\n",
      "[CV] END selector__L=0.9, selector__MS=0.8, selector__algorithm=algorithm2, selector__dispersion_measure=MAD; total time=   2.1s\n"
     ]
    },
    {
     "name": "stderr",
     "output_type": "stream",
     "text": [
      "/Users/sofiafernandes/Documents/Repos/EmoReA/emorea-backend/src/select_features.py:54: RuntimeWarning: divide by zero encountered in scalar divide\n",
      "  dispersions[i] = arithmetic_mean / geometric_mean\n"
     ]
    },
    {
     "name": "stdout",
     "output_type": "stream",
     "text": [
      "[CV] END selector__L=0.9, selector__MS=0.8, selector__algorithm=algorithm2, selector__dispersion_measure=MAD; total time=   2.1s\n"
     ]
    },
    {
     "name": "stderr",
     "output_type": "stream",
     "text": [
      "/Users/sofiafernandes/Documents/Repos/EmoReA/emorea-backend/src/select_features.py:54: RuntimeWarning: divide by zero encountered in scalar divide\n",
      "  dispersions[i] = arithmetic_mean / geometric_mean\n"
     ]
    },
    {
     "name": "stdout",
     "output_type": "stream",
     "text": [
      "[CV] END selector__L=0.9, selector__MS=0.8, selector__algorithm=algorithm2, selector__dispersion_measure=TV; total time=   2.2s\n"
     ]
    },
    {
     "name": "stderr",
     "output_type": "stream",
     "text": [
      "/Users/sofiafernandes/Documents/Repos/EmoReA/emorea-backend/src/select_features.py:54: RuntimeWarning: divide by zero encountered in scalar divide\n",
      "  dispersions[i] = arithmetic_mean / geometric_mean\n"
     ]
    },
    {
     "name": "stdout",
     "output_type": "stream",
     "text": [
      "[CV] END selector__L=0.9, selector__MS=0.8, selector__algorithm=algorithm2, selector__dispersion_measure=TV; total time=   2.2s\n",
      "[CV] END selector__L=0.9, selector__MS=0.8, selector__algorithm=algorithm2, selector__dispersion_measure=TV; total time=   2.2s\n"
     ]
    },
    {
     "name": "stderr",
     "output_type": "stream",
     "text": [
      "/Users/sofiafernandes/Documents/Repos/EmoReA/emorea-backend/src/select_features.py:54: RuntimeWarning: divide by zero encountered in scalar divide\n",
      "  dispersions[i] = arithmetic_mean / geometric_mean\n",
      "/Users/sofiafernandes/Documents/Repos/EmoReA/emorea-backend/src/select_features.py:54: RuntimeWarning: divide by zero encountered in scalar divide\n",
      "  dispersions[i] = arithmetic_mean / geometric_mean\n"
     ]
    },
    {
     "name": "stdout",
     "output_type": "stream",
     "text": [
      "[CV] END selector__L=0.9, selector__MS=0.8, selector__algorithm=algorithm2, selector__dispersion_measure=TV; total time=   2.1s\n"
     ]
    },
    {
     "name": "stderr",
     "output_type": "stream",
     "text": [
      "/Users/sofiafernandes/Documents/Repos/EmoReA/emorea-backend/src/select_features.py:54: RuntimeWarning: divide by zero encountered in scalar divide\n",
      "  dispersions[i] = arithmetic_mean / geometric_mean\n"
     ]
    },
    {
     "name": "stdout",
     "output_type": "stream",
     "text": [
      "[CV] END selector__L=0.9, selector__MS=0.8, selector__algorithm=algorithm2, selector__dispersion_measure=TV; total time=   2.2s\n"
     ]
    },
    {
     "name": "stderr",
     "output_type": "stream",
     "text": [
      "/Users/sofiafernandes/Documents/Repos/EmoReA/emorea-backend/src/select_features.py:54: RuntimeWarning: divide by zero encountered in scalar divide\n",
      "  dispersions[i] = arithmetic_mean / geometric_mean\n"
     ]
    },
    {
     "name": "stdout",
     "output_type": "stream",
     "text": [
      "[CV] END selector__L=0.9, selector__MS=0.8, selector__algorithm=algorithm2, selector__dispersion_measure=TV; total time=   2.2s\n"
     ]
    },
    {
     "name": "stderr",
     "output_type": "stream",
     "text": [
      "/Users/sofiafernandes/Documents/Repos/EmoReA/emorea-backend/src/select_features.py:54: RuntimeWarning: divide by zero encountered in scalar divide\n",
      "  dispersions[i] = arithmetic_mean / geometric_mean\n"
     ]
    },
    {
     "name": "stdout",
     "output_type": "stream",
     "text": [
      "[CV] END selector__L=0.9, selector__MS=0.8, selector__algorithm=algorithm2, selector__dispersion_measure=TV; total time=   2.1s\n",
      "[CV] END selector__L=0.9, selector__MS=0.8, selector__algorithm=algorithm2, selector__dispersion_measure=TV; total time=   2.2s\n"
     ]
    },
    {
     "name": "stderr",
     "output_type": "stream",
     "text": [
      "/Users/sofiafernandes/Documents/Repos/EmoReA/emorea-backend/src/select_features.py:54: RuntimeWarning: divide by zero encountered in scalar divide\n",
      "  dispersions[i] = arithmetic_mean / geometric_mean\n",
      "/Users/sofiafernandes/Documents/Repos/EmoReA/emorea-backend/src/select_features.py:54: RuntimeWarning: divide by zero encountered in scalar divide\n",
      "  dispersions[i] = arithmetic_mean / geometric_mean\n"
     ]
    },
    {
     "name": "stdout",
     "output_type": "stream",
     "text": [
      "[CV] END selector__L=0.9, selector__MS=0.8, selector__algorithm=algorithm2, selector__dispersion_measure=TV; total time=   2.3s\n",
      "[CV] END selector__L=0.9, selector__MS=0.8, selector__algorithm=algorithm2, selector__dispersion_measure=TV; total time=   2.2s\n",
      "Warning: L=0.95 outside recommended [0.7, 0.9] range\n",
      "Warning: L=0.95 outside recommended [0.7, 0.9] range\n",
      "[CV] END selector__L=0.9, selector__MS=0.8, selector__algorithm=algorithm2, selector__dispersion_measure=AMGM; total time=   2.0s\n",
      "Warning: L=0.95 outside recommended [0.7, 0.9] range\n",
      "[CV] END selector__L=0.9, selector__MS=0.8, selector__algorithm=algorithm2, selector__dispersion_measure=AMGM; total time=   2.2s\n",
      "Warning: L=0.95 outside recommended [0.7, 0.9] range\n",
      "[CV] END selector__L=0.9, selector__MS=0.8, selector__algorithm=algorithm2, selector__dispersion_measure=AMGM; total time=   2.3s\n",
      "Warning: L=0.95 outside recommended [0.7, 0.9] range\n",
      "[CV] END selector__L=0.9, selector__MS=0.8, selector__algorithm=algorithm2, selector__dispersion_measure=AMGM; total time=   2.2s\n",
      "Warning: L=0.95 outside recommended [0.7, 0.9] range\n",
      "[CV] END selector__L=0.9, selector__MS=0.8, selector__algorithm=algorithm2, selector__dispersion_measure=AMGM; total time=   2.1s\n",
      "Warning: L=0.95 outside recommended [0.7, 0.9] range\n",
      "[CV] END selector__L=0.9, selector__MS=0.8, selector__algorithm=algorithm2, selector__dispersion_measure=AMGM; total time=   2.1s\n",
      "Warning: L=0.95 outside recommended [0.7, 0.9] range\n",
      "[CV] END selector__L=0.9, selector__MS=0.8, selector__algorithm=algorithm2, selector__dispersion_measure=AMGM; total time=   2.1s\n",
      "Warning: L=0.95 outside recommended [0.7, 0.9] range\n",
      "[CV] END selector__L=0.9, selector__MS=0.8, selector__algorithm=algorithm2, selector__dispersion_measure=AMGM; total time=   2.3s\n",
      "Warning: L=0.95 outside recommended [0.7, 0.9] range\n",
      "[CV] END selector__L=0.9, selector__MS=0.8, selector__algorithm=algorithm2, selector__dispersion_measure=AMGM; total time=   2.2s\n",
      "Warning: L=0.95 outside recommended [0.7, 0.9] range\n",
      "[CV] END selector__L=0.9, selector__MS=0.8, selector__algorithm=algorithm2, selector__dispersion_measure=AMGM; total time=   2.1s\n",
      "Warning: L=0.95 outside recommended [0.7, 0.9] range\n",
      "[CV] END selector__L=0.95, selector__MS=0.7, selector__algorithm=algorithm1, selector__dispersion_measure=MM; total time=   2.0s\n",
      "[CV] END selector__L=0.95, selector__MS=0.7, selector__algorithm=algorithm1, selector__dispersion_measure=MM; total time=   2.0s\n",
      "Warning: L=0.95 outside recommended [0.7, 0.9] range\n",
      "Warning: L=0.95 outside recommended [0.7, 0.9] range\n",
      "[CV] END selector__L=0.95, selector__MS=0.7, selector__algorithm=algorithm1, selector__dispersion_measure=MM; total time=   1.9s\n",
      "Warning: L=0.95 outside recommended [0.7, 0.9] range\n",
      "[CV] END selector__L=0.95, selector__MS=0.7, selector__algorithm=algorithm1, selector__dispersion_measure=MM; total time=   2.0s\n",
      "Warning: L=0.95 outside recommended [0.7, 0.9] range\n",
      "[CV] END selector__L=0.95, selector__MS=0.7, selector__algorithm=algorithm1, selector__dispersion_measure=MM; total time=   2.0s\n",
      "Warning: L=0.95 outside recommended [0.7, 0.9] range\n",
      "[CV] END selector__L=0.95, selector__MS=0.7, selector__algorithm=algorithm1, selector__dispersion_measure=MM; total time=   2.0s\n",
      "Warning: L=0.95 outside recommended [0.7, 0.9] range\n",
      "[CV] END selector__L=0.95, selector__MS=0.7, selector__algorithm=algorithm1, selector__dispersion_measure=MM; total time=   2.0s\n",
      "Warning: L=0.95 outside recommended [0.7, 0.9] range\n",
      "[CV] END selector__L=0.95, selector__MS=0.7, selector__algorithm=algorithm1, selector__dispersion_measure=MM; total time=   2.0s\n",
      "Warning: L=0.95 outside recommended [0.7, 0.9] range\n",
      "[CV] END selector__L=0.95, selector__MS=0.7, selector__algorithm=algorithm1, selector__dispersion_measure=MM; total time=   2.0s\n",
      "Warning: L=0.95 outside recommended [0.7, 0.9] range\n",
      "[CV] END selector__L=0.95, selector__MS=0.7, selector__algorithm=algorithm1, selector__dispersion_measure=MM; total time=   2.0s\n",
      "Warning: L=0.95 outside recommended [0.7, 0.9] range\n",
      "[CV] END selector__L=0.95, selector__MS=0.7, selector__algorithm=algorithm1, selector__dispersion_measure=MAD; total time=   2.0s\n",
      "Warning: L=0.95 outside recommended [0.7, 0.9] range\n",
      "[CV] END selector__L=0.95, selector__MS=0.7, selector__algorithm=algorithm1, selector__dispersion_measure=MAD; total time=   1.9s\n",
      "Warning: L=0.95 outside recommended [0.7, 0.9] range\n",
      "[CV] END selector__L=0.95, selector__MS=0.7, selector__algorithm=algorithm1, selector__dispersion_measure=MAD; total time=   2.0s\n",
      "Warning: L=0.95 outside recommended [0.7, 0.9] range\n",
      "[CV] END selector__L=0.95, selector__MS=0.7, selector__algorithm=algorithm1, selector__dispersion_measure=MAD; total time=   2.0s\n",
      "Warning: L=0.95 outside recommended [0.7, 0.9] range\n",
      "[CV] END selector__L=0.95, selector__MS=0.7, selector__algorithm=algorithm1, selector__dispersion_measure=MAD; total time=   2.1s\n",
      "Warning: L=0.95 outside recommended [0.7, 0.9] range\n",
      "[CV] END selector__L=0.95, selector__MS=0.7, selector__algorithm=algorithm1, selector__dispersion_measure=MAD; total time=   2.1s\n",
      "Warning: L=0.95 outside recommended [0.7, 0.9] range\n",
      "[CV] END selector__L=0.95, selector__MS=0.7, selector__algorithm=algorithm1, selector__dispersion_measure=MAD; total time=   2.0s\n",
      "Warning: L=0.95 outside recommended [0.7, 0.9] range\n",
      "[CV] END selector__L=0.95, selector__MS=0.7, selector__algorithm=algorithm1, selector__dispersion_measure=MAD; total time=   2.0s\n",
      "[CV] END selector__L=0.95, selector__MS=0.7, selector__algorithm=algorithm1, selector__dispersion_measure=MAD; total time=   2.0s\n",
      "Warning: L=0.95 outside recommended [0.7, 0.9] range\n",
      "Warning: L=0.95 outside recommended [0.7, 0.9] range\n",
      "[CV] END selector__L=0.95, selector__MS=0.7, selector__algorithm=algorithm1, selector__dispersion_measure=MAD; total time=   2.1s\n",
      "Warning: L=0.95 outside recommended [0.7, 0.9] range\n"
     ]
    },
    {
     "name": "stderr",
     "output_type": "stream",
     "text": [
      "/Users/sofiafernandes/Documents/Repos/EmoReA/emorea-backend/src/select_features.py:54: RuntimeWarning: divide by zero encountered in scalar divide\n",
      "  dispersions[i] = arithmetic_mean / geometric_mean\n",
      "/Users/sofiafernandes/Documents/Repos/EmoReA/emorea-backend/src/select_features.py:54: RuntimeWarning: divide by zero encountered in scalar divide\n",
      "  dispersions[i] = arithmetic_mean / geometric_mean\n"
     ]
    },
    {
     "name": "stdout",
     "output_type": "stream",
     "text": [
      "[CV] END selector__L=0.95, selector__MS=0.7, selector__algorithm=algorithm1, selector__dispersion_measure=TV; total time=   2.1s\n",
      "Warning: L=0.95 outside recommended [0.7, 0.9] range\n"
     ]
    },
    {
     "name": "stderr",
     "output_type": "stream",
     "text": [
      "/Users/sofiafernandes/Documents/Repos/EmoReA/emorea-backend/src/select_features.py:54: RuntimeWarning: divide by zero encountered in scalar divide\n",
      "  dispersions[i] = arithmetic_mean / geometric_mean\n"
     ]
    },
    {
     "name": "stdout",
     "output_type": "stream",
     "text": [
      "[CV] END selector__L=0.95, selector__MS=0.7, selector__algorithm=algorithm1, selector__dispersion_measure=TV; total time=   2.0s\n",
      "Warning: L=0.95 outside recommended [0.7, 0.9] range\n"
     ]
    },
    {
     "name": "stderr",
     "output_type": "stream",
     "text": [
      "/Users/sofiafernandes/Documents/Repos/EmoReA/emorea-backend/src/select_features.py:54: RuntimeWarning: divide by zero encountered in scalar divide\n",
      "  dispersions[i] = arithmetic_mean / geometric_mean\n"
     ]
    },
    {
     "name": "stdout",
     "output_type": "stream",
     "text": [
      "[CV] END selector__L=0.95, selector__MS=0.7, selector__algorithm=algorithm1, selector__dispersion_measure=TV; total time=   2.1s\n",
      "Warning: L=0.95 outside recommended [0.7, 0.9] range\n"
     ]
    },
    {
     "name": "stderr",
     "output_type": "stream",
     "text": [
      "/Users/sofiafernandes/Documents/Repos/EmoReA/emorea-backend/src/select_features.py:54: RuntimeWarning: divide by zero encountered in scalar divide\n",
      "  dispersions[i] = arithmetic_mean / geometric_mean\n"
     ]
    },
    {
     "name": "stdout",
     "output_type": "stream",
     "text": [
      "[CV] END selector__L=0.95, selector__MS=0.7, selector__algorithm=algorithm1, selector__dispersion_measure=TV; total time=   2.1s\n",
      "Warning: L=0.95 outside recommended [0.7, 0.9] range\n"
     ]
    },
    {
     "name": "stderr",
     "output_type": "stream",
     "text": [
      "/Users/sofiafernandes/Documents/Repos/EmoReA/emorea-backend/src/select_features.py:54: RuntimeWarning: divide by zero encountered in scalar divide\n",
      "  dispersions[i] = arithmetic_mean / geometric_mean\n"
     ]
    },
    {
     "name": "stdout",
     "output_type": "stream",
     "text": [
      "[CV] END selector__L=0.95, selector__MS=0.7, selector__algorithm=algorithm1, selector__dispersion_measure=TV; total time=   2.1s\n",
      "Warning: L=0.95 outside recommended [0.7, 0.9] range\n",
      "[CV] END selector__L=0.95, selector__MS=0.7, selector__algorithm=algorithm1, selector__dispersion_measure=TV; total time=   2.1s\n",
      "Warning: L=0.95 outside recommended [0.7, 0.9] range\n"
     ]
    },
    {
     "name": "stderr",
     "output_type": "stream",
     "text": [
      "/Users/sofiafernandes/Documents/Repos/EmoReA/emorea-backend/src/select_features.py:54: RuntimeWarning: divide by zero encountered in scalar divide\n",
      "  dispersions[i] = arithmetic_mean / geometric_mean\n",
      "/Users/sofiafernandes/Documents/Repos/EmoReA/emorea-backend/src/select_features.py:54: RuntimeWarning: divide by zero encountered in scalar divide\n",
      "  dispersions[i] = arithmetic_mean / geometric_mean\n"
     ]
    },
    {
     "name": "stdout",
     "output_type": "stream",
     "text": [
      "[CV] END selector__L=0.95, selector__MS=0.7, selector__algorithm=algorithm1, selector__dispersion_measure=TV; total time=   2.1s\n",
      "Warning: L=0.95 outside recommended [0.7, 0.9] range\n"
     ]
    },
    {
     "name": "stderr",
     "output_type": "stream",
     "text": [
      "/Users/sofiafernandes/Documents/Repos/EmoReA/emorea-backend/src/select_features.py:54: RuntimeWarning: divide by zero encountered in scalar divide\n",
      "  dispersions[i] = arithmetic_mean / geometric_mean\n"
     ]
    },
    {
     "name": "stdout",
     "output_type": "stream",
     "text": [
      "[CV] END selector__L=0.95, selector__MS=0.7, selector__algorithm=algorithm1, selector__dispersion_measure=TV; total time=   2.2s\n",
      "Warning: L=0.95 outside recommended [0.7, 0.9] range\n"
     ]
    },
    {
     "name": "stderr",
     "output_type": "stream",
     "text": [
      "/Users/sofiafernandes/Documents/Repos/EmoReA/emorea-backend/src/select_features.py:54: RuntimeWarning: divide by zero encountered in scalar divide\n",
      "  dispersions[i] = arithmetic_mean / geometric_mean\n"
     ]
    },
    {
     "name": "stdout",
     "output_type": "stream",
     "text": [
      "[CV] END selector__L=0.95, selector__MS=0.7, selector__algorithm=algorithm1, selector__dispersion_measure=TV; total time=   2.2s\n",
      "[CV] END selector__L=0.95, selector__MS=0.7, selector__algorithm=algorithm1, selector__dispersion_measure=TV; total time=   2.1s\n",
      "[CV] END selector__L=0.95, selector__MS=0.7, selector__algorithm=algorithm1, selector__dispersion_measure=AMGM; total time=   2.1s\n",
      "[CV] END selector__L=0.95, selector__MS=0.7, selector__algorithm=algorithm1, selector__dispersion_measure=AMGM; total time=   2.1s\n",
      "[CV] END selector__L=0.95, selector__MS=0.7, selector__algorithm=algorithm1, selector__dispersion_measure=AMGM; total time=   2.1s\n",
      "[CV] END selector__L=0.95, selector__MS=0.7, selector__algorithm=algorithm1, selector__dispersion_measure=AMGM; total time=   2.1s\n",
      "[CV] END selector__L=0.95, selector__MS=0.7, selector__algorithm=algorithm1, selector__dispersion_measure=AMGM; total time=   2.1s\n",
      "[CV] END selector__L=0.95, selector__MS=0.7, selector__algorithm=algorithm1, selector__dispersion_measure=AMGM; total time=   2.2s\n",
      "[CV] END selector__L=0.95, selector__MS=0.7, selector__algorithm=algorithm1, selector__dispersion_measure=AMGM; total time=   2.2s\n",
      "[CV] END selector__L=0.95, selector__MS=0.7, selector__algorithm=algorithm1, selector__dispersion_measure=AMGM; total time=   2.2s\n",
      "[CV] END selector__L=0.95, selector__MS=0.7, selector__algorithm=algorithm1, selector__dispersion_measure=AMGM; total time=   2.0s\n",
      "[CV] END selector__L=0.95, selector__MS=0.7, selector__algorithm=algorithm1, selector__dispersion_measure=AMGM; total time=   1.9s\n",
      "[CV] END selector__L=0.95, selector__MS=0.7, selector__algorithm=algorithm2, selector__dispersion_measure=MM; total time=   1.8s\n",
      "[CV] END selector__L=0.95, selector__MS=0.7, selector__algorithm=algorithm2, selector__dispersion_measure=MM; total time=   2.0s\n",
      "[CV] END selector__L=0.95, selector__MS=0.7, selector__algorithm=algorithm2, selector__dispersion_measure=MM; total time=   1.8s\n",
      "[CV] END selector__L=0.95, selector__MS=0.7, selector__algorithm=algorithm2, selector__dispersion_measure=MM; total time=   1.9s\n",
      "[CV] END selector__L=0.95, selector__MS=0.7, selector__algorithm=algorithm2, selector__dispersion_measure=MM; total time=   1.8s\n",
      "[CV] END selector__L=0.95, selector__MS=0.7, selector__algorithm=algorithm2, selector__dispersion_measure=MM; total time=   1.8s\n",
      "[CV] END selector__L=0.95, selector__MS=0.7, selector__algorithm=algorithm2, selector__dispersion_measure=MM; total time=   2.0s\n",
      "[CV] END selector__L=0.95, selector__MS=0.7, selector__algorithm=algorithm2, selector__dispersion_measure=MM; total time=   1.9s\n",
      "[CV] END selector__L=0.95, selector__MS=0.7, selector__algorithm=algorithm2, selector__dispersion_measure=MM; total time=   2.0s\n",
      "[CV] END selector__L=0.95, selector__MS=0.7, selector__algorithm=algorithm2, selector__dispersion_measure=MM; total time=   2.0s\n",
      "[CV] END selector__L=0.95, selector__MS=0.7, selector__algorithm=algorithm2, selector__dispersion_measure=MAD; total time=   2.3s\n",
      "[CV] END selector__L=0.95, selector__MS=0.7, selector__algorithm=algorithm2, selector__dispersion_measure=MAD; total time=   2.2s\n",
      "[CV] END selector__L=0.95, selector__MS=0.7, selector__algorithm=algorithm2, selector__dispersion_measure=MAD; total time=   2.1s\n",
      "[CV] END selector__L=0.95, selector__MS=0.7, selector__algorithm=algorithm2, selector__dispersion_measure=MAD; total time=   2.2s\n",
      "[CV] END selector__L=0.95, selector__MS=0.7, selector__algorithm=algorithm2, selector__dispersion_measure=MAD; total time=   2.3s\n",
      "[CV] END selector__L=0.95, selector__MS=0.7, selector__algorithm=algorithm2, selector__dispersion_measure=MAD; total time=   2.2s\n",
      "[CV] END selector__L=0.95, selector__MS=0.7, selector__algorithm=algorithm2, selector__dispersion_measure=MAD; total time=   2.3s\n",
      "[CV] END selector__L=0.95, selector__MS=0.7, selector__algorithm=algorithm2, selector__dispersion_measure=MAD; total time=   2.2s\n",
      "[CV] END selector__L=0.95, selector__MS=0.7, selector__algorithm=algorithm2, selector__dispersion_measure=MAD; total time=   2.1s\n"
     ]
    },
    {
     "name": "stderr",
     "output_type": "stream",
     "text": [
      "/Users/sofiafernandes/Documents/Repos/EmoReA/emorea-backend/src/select_features.py:54: RuntimeWarning: divide by zero encountered in scalar divide\n",
      "  dispersions[i] = arithmetic_mean / geometric_mean\n"
     ]
    },
    {
     "name": "stdout",
     "output_type": "stream",
     "text": [
      "[CV] END selector__L=0.95, selector__MS=0.7, selector__algorithm=algorithm2, selector__dispersion_measure=MAD; total time=   2.1s\n"
     ]
    },
    {
     "name": "stderr",
     "output_type": "stream",
     "text": [
      "/Users/sofiafernandes/Documents/Repos/EmoReA/emorea-backend/src/select_features.py:54: RuntimeWarning: divide by zero encountered in scalar divide\n",
      "  dispersions[i] = arithmetic_mean / geometric_mean\n"
     ]
    },
    {
     "name": "stdout",
     "output_type": "stream",
     "text": [
      "[CV] END selector__L=0.95, selector__MS=0.7, selector__algorithm=algorithm2, selector__dispersion_measure=TV; total time=   2.2s\n",
      "[CV] END selector__L=0.95, selector__MS=0.7, selector__algorithm=algorithm2, selector__dispersion_measure=TV; total time=   2.2s\n"
     ]
    },
    {
     "name": "stderr",
     "output_type": "stream",
     "text": [
      "/Users/sofiafernandes/Documents/Repos/EmoReA/emorea-backend/src/select_features.py:54: RuntimeWarning: divide by zero encountered in scalar divide\n",
      "  dispersions[i] = arithmetic_mean / geometric_mean\n",
      "/Users/sofiafernandes/Documents/Repos/EmoReA/emorea-backend/src/select_features.py:54: RuntimeWarning: divide by zero encountered in scalar divide\n",
      "  dispersions[i] = arithmetic_mean / geometric_mean\n"
     ]
    },
    {
     "name": "stdout",
     "output_type": "stream",
     "text": [
      "[CV] END selector__L=0.95, selector__MS=0.7, selector__algorithm=algorithm2, selector__dispersion_measure=TV; total time=   2.2s\n"
     ]
    },
    {
     "name": "stderr",
     "output_type": "stream",
     "text": [
      "/Users/sofiafernandes/Documents/Repos/EmoReA/emorea-backend/src/select_features.py:54: RuntimeWarning: divide by zero encountered in scalar divide\n",
      "  dispersions[i] = arithmetic_mean / geometric_mean\n"
     ]
    },
    {
     "name": "stdout",
     "output_type": "stream",
     "text": [
      "[CV] END selector__L=0.95, selector__MS=0.7, selector__algorithm=algorithm2, selector__dispersion_measure=TV; total time=   2.1s\n"
     ]
    },
    {
     "name": "stderr",
     "output_type": "stream",
     "text": [
      "/Users/sofiafernandes/Documents/Repos/EmoReA/emorea-backend/src/select_features.py:54: RuntimeWarning: divide by zero encountered in scalar divide\n",
      "  dispersions[i] = arithmetic_mean / geometric_mean\n"
     ]
    },
    {
     "name": "stdout",
     "output_type": "stream",
     "text": [
      "[CV] END selector__L=0.95, selector__MS=0.7, selector__algorithm=algorithm2, selector__dispersion_measure=TV; total time=   2.1s\n",
      "[CV] END selector__L=0.95, selector__MS=0.7, selector__algorithm=algorithm2, selector__dispersion_measure=TV; total time=   2.1s\n",
      "[CV] END selector__L=0.95, selector__MS=0.7, selector__algorithm=algorithm2, selector__dispersion_measure=TV; total time=   2.1s\n"
     ]
    },
    {
     "name": "stderr",
     "output_type": "stream",
     "text": [
      "/Users/sofiafernandes/Documents/Repos/EmoReA/emorea-backend/src/select_features.py:54: RuntimeWarning: divide by zero encountered in scalar divide\n",
      "  dispersions[i] = arithmetic_mean / geometric_mean\n",
      "/Users/sofiafernandes/Documents/Repos/EmoReA/emorea-backend/src/select_features.py:54: RuntimeWarning: divide by zero encountered in scalar divide\n",
      "  dispersions[i] = arithmetic_mean / geometric_mean\n",
      "/Users/sofiafernandes/Documents/Repos/EmoReA/emorea-backend/src/select_features.py:54: RuntimeWarning: divide by zero encountered in scalar divide\n",
      "  dispersions[i] = arithmetic_mean / geometric_mean\n"
     ]
    },
    {
     "name": "stdout",
     "output_type": "stream",
     "text": [
      "[CV] END selector__L=0.95, selector__MS=0.7, selector__algorithm=algorithm2, selector__dispersion_measure=TV; total time=   2.1s\n"
     ]
    },
    {
     "name": "stderr",
     "output_type": "stream",
     "text": [
      "/Users/sofiafernandes/Documents/Repos/EmoReA/emorea-backend/src/select_features.py:54: RuntimeWarning: divide by zero encountered in scalar divide\n",
      "  dispersions[i] = arithmetic_mean / geometric_mean\n"
     ]
    },
    {
     "name": "stdout",
     "output_type": "stream",
     "text": [
      "[CV] END selector__L=0.95, selector__MS=0.7, selector__algorithm=algorithm2, selector__dispersion_measure=TV; total time=   2.3s\n",
      "Warning: L=0.95 outside recommended [0.7, 0.9] range\n",
      "[CV] END selector__L=0.95, selector__MS=0.7, selector__algorithm=algorithm2, selector__dispersion_measure=TV; total time=   2.3s\n",
      "Warning: L=0.95 outside recommended [0.7, 0.9] range\n",
      "[CV] END selector__L=0.95, selector__MS=0.7, selector__algorithm=algorithm2, selector__dispersion_measure=AMGM; total time=   2.1s\n",
      "Warning: L=0.95 outside recommended [0.7, 0.9] range\n",
      "[CV] END selector__L=0.95, selector__MS=0.7, selector__algorithm=algorithm2, selector__dispersion_measure=AMGM; total time=   2.1s\n",
      "Warning: L=0.95 outside recommended [0.7, 0.9] range\n",
      "[CV] END selector__L=0.95, selector__MS=0.7, selector__algorithm=algorithm2, selector__dispersion_measure=AMGM; total time=   2.2s\n",
      "Warning: L=0.95 outside recommended [0.7, 0.9] range\n",
      "[CV] END selector__L=0.95, selector__MS=0.7, selector__algorithm=algorithm2, selector__dispersion_measure=AMGM; total time=   1.9s\n",
      "Warning: L=0.95 outside recommended [0.7, 0.9] range\n",
      "[CV] END selector__L=0.95, selector__MS=0.7, selector__algorithm=algorithm2, selector__dispersion_measure=AMGM; total time=   2.0s\n",
      "Warning: L=0.95 outside recommended [0.7, 0.9] range\n",
      "[CV] END selector__L=0.95, selector__MS=0.7, selector__algorithm=algorithm2, selector__dispersion_measure=AMGM; total time=   1.8s\n",
      "Warning: L=0.95 outside recommended [0.7, 0.9] range\n",
      "[CV] END selector__L=0.95, selector__MS=0.7, selector__algorithm=algorithm2, selector__dispersion_measure=AMGM; total time=   2.0s\n",
      "Warning: L=0.95 outside recommended [0.7, 0.9] range\n",
      "[CV] END selector__L=0.95, selector__MS=0.7, selector__algorithm=algorithm2, selector__dispersion_measure=AMGM; total time=   2.1s\n",
      "Warning: L=0.95 outside recommended [0.7, 0.9] range\n",
      "[CV] END selector__L=0.95, selector__MS=0.7, selector__algorithm=algorithm2, selector__dispersion_measure=AMGM; total time=   2.1s\n",
      "Warning: L=0.95 outside recommended [0.7, 0.9] range\n",
      "[CV] END selector__L=0.95, selector__MS=0.7, selector__algorithm=algorithm2, selector__dispersion_measure=AMGM; total time=   2.1s\n",
      "Warning: L=0.95 outside recommended [0.7, 0.9] range\n",
      "[CV] END selector__L=0.95, selector__MS=0.75, selector__algorithm=algorithm1, selector__dispersion_measure=MM; total time=   2.0s\n",
      "Warning: L=0.95 outside recommended [0.7, 0.9] range\n",
      "[CV] END selector__L=0.95, selector__MS=0.75, selector__algorithm=algorithm1, selector__dispersion_measure=MM; total time=   2.0s\n",
      "Warning: L=0.95 outside recommended [0.7, 0.9] range\n",
      "[CV] END selector__L=0.95, selector__MS=0.75, selector__algorithm=algorithm1, selector__dispersion_measure=MM; total time=   2.0s\n",
      "Warning: L=0.95 outside recommended [0.7, 0.9] range\n",
      "[CV] END selector__L=0.95, selector__MS=0.75, selector__algorithm=algorithm1, selector__dispersion_measure=MM; total time=   1.9s\n",
      "Warning: L=0.95 outside recommended [0.7, 0.9] range\n",
      "[CV] END selector__L=0.95, selector__MS=0.75, selector__algorithm=algorithm1, selector__dispersion_measure=MM; total time=   2.0s\n",
      "Warning: L=0.95 outside recommended [0.7, 0.9] range\n",
      "[CV] END selector__L=0.95, selector__MS=0.75, selector__algorithm=algorithm1, selector__dispersion_measure=MM; total time=   2.0s\n",
      "Warning: L=0.95 outside recommended [0.7, 0.9] range\n",
      "[CV] END selector__L=0.95, selector__MS=0.75, selector__algorithm=algorithm1, selector__dispersion_measure=MM; total time=   2.1s\n",
      "Warning: L=0.95 outside recommended [0.7, 0.9] range\n",
      "[CV] END selector__L=0.95, selector__MS=0.75, selector__algorithm=algorithm1, selector__dispersion_measure=MM; total time=   2.0s\n",
      "Warning: L=0.95 outside recommended [0.7, 0.9] range\n",
      "[CV] END selector__L=0.95, selector__MS=0.75, selector__algorithm=algorithm1, selector__dispersion_measure=MM; total time=   2.0s\n",
      "Warning: L=0.95 outside recommended [0.7, 0.9] range\n",
      "[CV] END selector__L=0.95, selector__MS=0.75, selector__algorithm=algorithm1, selector__dispersion_measure=MM; total time=   2.1s\n",
      "[CV] END selector__L=0.95, selector__MS=0.75, selector__algorithm=algorithm1, selector__dispersion_measure=MAD; total time=   2.1s\n",
      "Warning: L=0.95 outside recommended [0.7, 0.9] range\n",
      "Warning: L=0.95 outside recommended [0.7, 0.9] range\n",
      "[CV] END selector__L=0.95, selector__MS=0.75, selector__algorithm=algorithm1, selector__dispersion_measure=MAD; total time=   2.0s\n",
      "Warning: L=0.95 outside recommended [0.7, 0.9] range\n",
      "[CV] END selector__L=0.95, selector__MS=0.75, selector__algorithm=algorithm1, selector__dispersion_measure=MAD; total time=   2.0s\n",
      "Warning: L=0.95 outside recommended [0.7, 0.9] range\n",
      "[CV] END selector__L=0.95, selector__MS=0.75, selector__algorithm=algorithm1, selector__dispersion_measure=MAD; total time=   2.1s\n",
      "Warning: L=0.95 outside recommended [0.7, 0.9] range\n",
      "[CV] END selector__L=0.95, selector__MS=0.75, selector__algorithm=algorithm1, selector__dispersion_measure=MAD; total time=   2.1s\n",
      "Warning: L=0.95 outside recommended [0.7, 0.9] range\n",
      "[CV] END selector__L=0.95, selector__MS=0.75, selector__algorithm=algorithm1, selector__dispersion_measure=MAD; total time=   2.1s\n",
      "Warning: L=0.95 outside recommended [0.7, 0.9] range\n",
      "[CV] END selector__L=0.95, selector__MS=0.75, selector__algorithm=algorithm1, selector__dispersion_measure=MAD; total time=   2.1s\n",
      "Warning: L=0.95 outside recommended [0.7, 0.9] range\n",
      "[CV] END selector__L=0.95, selector__MS=0.75, selector__algorithm=algorithm1, selector__dispersion_measure=MAD; total time=   2.2s\n",
      "Warning: L=0.95 outside recommended [0.7, 0.9] range\n",
      "[CV] END selector__L=0.95, selector__MS=0.75, selector__algorithm=algorithm1, selector__dispersion_measure=MAD; total time=   2.1s\n",
      "[CV] END selector__L=0.95, selector__MS=0.75, selector__algorithm=algorithm1, selector__dispersion_measure=MAD; total time=   2.2s\n",
      "Warning: L=0.95 outside recommended [0.7, 0.9] range\n",
      "Warning: L=0.95 outside recommended [0.7, 0.9] range\n"
     ]
    },
    {
     "name": "stderr",
     "output_type": "stream",
     "text": [
      "/Users/sofiafernandes/Documents/Repos/EmoReA/emorea-backend/src/select_features.py:54: RuntimeWarning: divide by zero encountered in scalar divide\n",
      "  dispersions[i] = arithmetic_mean / geometric_mean\n",
      "/Users/sofiafernandes/Documents/Repos/EmoReA/emorea-backend/src/select_features.py:54: RuntimeWarning: divide by zero encountered in scalar divide\n",
      "  dispersions[i] = arithmetic_mean / geometric_mean\n"
     ]
    },
    {
     "name": "stdout",
     "output_type": "stream",
     "text": [
      "[CV] END selector__L=0.95, selector__MS=0.75, selector__algorithm=algorithm1, selector__dispersion_measure=TV; total time=   2.1s\n",
      "Warning: L=0.95 outside recommended [0.7, 0.9] range\n"
     ]
    },
    {
     "name": "stderr",
     "output_type": "stream",
     "text": [
      "/Users/sofiafernandes/Documents/Repos/EmoReA/emorea-backend/src/select_features.py:54: RuntimeWarning: divide by zero encountered in scalar divide\n",
      "  dispersions[i] = arithmetic_mean / geometric_mean\n"
     ]
    },
    {
     "name": "stdout",
     "output_type": "stream",
     "text": [
      "[CV] END selector__L=0.95, selector__MS=0.75, selector__algorithm=algorithm1, selector__dispersion_measure=TV; total time=   2.0s\n",
      "[CV] END selector__L=0.95, selector__MS=0.75, selector__algorithm=algorithm1, selector__dispersion_measure=TV; total time=   2.0s\n",
      "Warning: L=0.95 outside recommended [0.7, 0.9] range\n",
      "Warning: L=0.95 outside recommended [0.7, 0.9] range\n"
     ]
    },
    {
     "name": "stderr",
     "output_type": "stream",
     "text": [
      "/Users/sofiafernandes/Documents/Repos/EmoReA/emorea-backend/src/select_features.py:54: RuntimeWarning: divide by zero encountered in scalar divide\n",
      "  dispersions[i] = arithmetic_mean / geometric_mean\n",
      "/Users/sofiafernandes/Documents/Repos/EmoReA/emorea-backend/src/select_features.py:54: RuntimeWarning: divide by zero encountered in scalar divide\n",
      "  dispersions[i] = arithmetic_mean / geometric_mean\n"
     ]
    },
    {
     "name": "stdout",
     "output_type": "stream",
     "text": [
      "[CV] END selector__L=0.95, selector__MS=0.75, selector__algorithm=algorithm1, selector__dispersion_measure=TV; total time=   2.1s\n",
      "Warning: L=0.95 outside recommended [0.7, 0.9] range\n"
     ]
    },
    {
     "name": "stderr",
     "output_type": "stream",
     "text": [
      "/Users/sofiafernandes/Documents/Repos/EmoReA/emorea-backend/src/select_features.py:54: RuntimeWarning: divide by zero encountered in scalar divide\n",
      "  dispersions[i] = arithmetic_mean / geometric_mean\n"
     ]
    },
    {
     "name": "stdout",
     "output_type": "stream",
     "text": [
      "[CV] END selector__L=0.95, selector__MS=0.75, selector__algorithm=algorithm1, selector__dispersion_measure=TV; total time=   2.1s\n",
      "Warning: L=0.95 outside recommended [0.7, 0.9] range\n"
     ]
    },
    {
     "name": "stderr",
     "output_type": "stream",
     "text": [
      "/Users/sofiafernandes/Documents/Repos/EmoReA/emorea-backend/src/select_features.py:54: RuntimeWarning: divide by zero encountered in scalar divide\n",
      "  dispersions[i] = arithmetic_mean / geometric_mean\n"
     ]
    },
    {
     "name": "stdout",
     "output_type": "stream",
     "text": [
      "[CV] END selector__L=0.95, selector__MS=0.75, selector__algorithm=algorithm1, selector__dispersion_measure=TV; total time=   2.1s\n",
      "Warning: L=0.95 outside recommended [0.7, 0.9] range\n"
     ]
    },
    {
     "name": "stderr",
     "output_type": "stream",
     "text": [
      "/Users/sofiafernandes/Documents/Repos/EmoReA/emorea-backend/src/select_features.py:54: RuntimeWarning: divide by zero encountered in scalar divide\n",
      "  dispersions[i] = arithmetic_mean / geometric_mean\n"
     ]
    },
    {
     "name": "stdout",
     "output_type": "stream",
     "text": [
      "[CV] END selector__L=0.95, selector__MS=0.75, selector__algorithm=algorithm1, selector__dispersion_measure=TV; total time=   2.1s\n",
      "Warning: L=0.95 outside recommended [0.7, 0.9] range\n"
     ]
    },
    {
     "name": "stderr",
     "output_type": "stream",
     "text": [
      "/Users/sofiafernandes/Documents/Repos/EmoReA/emorea-backend/src/select_features.py:54: RuntimeWarning: divide by zero encountered in scalar divide\n",
      "  dispersions[i] = arithmetic_mean / geometric_mean\n"
     ]
    },
    {
     "name": "stdout",
     "output_type": "stream",
     "text": [
      "[CV] END selector__L=0.95, selector__MS=0.75, selector__algorithm=algorithm1, selector__dispersion_measure=TV; total time=   2.2s\n",
      "Warning: L=0.95 outside recommended [0.7, 0.9] range\n"
     ]
    },
    {
     "name": "stderr",
     "output_type": "stream",
     "text": [
      "/Users/sofiafernandes/Documents/Repos/EmoReA/emorea-backend/src/select_features.py:54: RuntimeWarning: divide by zero encountered in scalar divide\n",
      "  dispersions[i] = arithmetic_mean / geometric_mean\n"
     ]
    },
    {
     "name": "stdout",
     "output_type": "stream",
     "text": [
      "[CV] END selector__L=0.95, selector__MS=0.75, selector__algorithm=algorithm1, selector__dispersion_measure=TV; total time=   2.2s\n",
      "[CV] END selector__L=0.95, selector__MS=0.75, selector__algorithm=algorithm1, selector__dispersion_measure=TV; total time=   2.2s\n",
      "[CV] END selector__L=0.95, selector__MS=0.75, selector__algorithm=algorithm1, selector__dispersion_measure=AMGM; total time=   2.2s\n",
      "[CV] END selector__L=0.95, selector__MS=0.75, selector__algorithm=algorithm1, selector__dispersion_measure=AMGM; total time=   2.2s\n",
      "[CV] END selector__L=0.95, selector__MS=0.75, selector__algorithm=algorithm1, selector__dispersion_measure=AMGM; total time=   2.1s\n",
      "[CV] END selector__L=0.95, selector__MS=0.75, selector__algorithm=algorithm1, selector__dispersion_measure=AMGM; total time=   2.2s\n",
      "[CV] END selector__L=0.95, selector__MS=0.75, selector__algorithm=algorithm1, selector__dispersion_measure=AMGM; total time=   2.2s\n",
      "[CV] END selector__L=0.95, selector__MS=0.75, selector__algorithm=algorithm1, selector__dispersion_measure=AMGM; total time=   2.2s\n",
      "[CV] END selector__L=0.95, selector__MS=0.75, selector__algorithm=algorithm1, selector__dispersion_measure=AMGM; total time=   2.2s\n",
      "[CV] END selector__L=0.95, selector__MS=0.75, selector__algorithm=algorithm1, selector__dispersion_measure=AMGM; total time=   2.3s\n",
      "[CV] END selector__L=0.95, selector__MS=0.75, selector__algorithm=algorithm1, selector__dispersion_measure=AMGM; total time=   2.2s\n",
      "[CV] END selector__L=0.95, selector__MS=0.75, selector__algorithm=algorithm1, selector__dispersion_measure=AMGM; total time=   2.2s\n",
      "[CV] END selector__L=0.95, selector__MS=0.75, selector__algorithm=algorithm2, selector__dispersion_measure=MM; total time=   2.2s\n",
      "[CV] END selector__L=0.95, selector__MS=0.75, selector__algorithm=algorithm2, selector__dispersion_measure=MM; total time=   2.1s\n",
      "[CV] END selector__L=0.95, selector__MS=0.75, selector__algorithm=algorithm2, selector__dispersion_measure=MM; total time=   1.9s\n",
      "[CV] END selector__L=0.95, selector__MS=0.75, selector__algorithm=algorithm2, selector__dispersion_measure=MM; total time=   2.0s\n",
      "[CV] END selector__L=0.95, selector__MS=0.75, selector__algorithm=algorithm2, selector__dispersion_measure=MM; total time=   1.8s\n",
      "[CV] END selector__L=0.95, selector__MS=0.75, selector__algorithm=algorithm2, selector__dispersion_measure=MM; total time=   1.9s\n",
      "[CV] END selector__L=0.95, selector__MS=0.75, selector__algorithm=algorithm2, selector__dispersion_measure=MM; total time=   2.0s\n",
      "[CV] END selector__L=0.95, selector__MS=0.75, selector__algorithm=algorithm2, selector__dispersion_measure=MM; total time=   2.0s\n",
      "[CV] END selector__L=0.95, selector__MS=0.75, selector__algorithm=algorithm2, selector__dispersion_measure=MM; total time=   2.0s\n",
      "[CV] END selector__L=0.95, selector__MS=0.75, selector__algorithm=algorithm2, selector__dispersion_measure=MM; total time=   1.9s\n",
      "[CV] END selector__L=0.95, selector__MS=0.75, selector__algorithm=algorithm2, selector__dispersion_measure=MAD; total time=   2.0s\n",
      "[CV] END selector__L=0.95, selector__MS=0.75, selector__algorithm=algorithm2, selector__dispersion_measure=MAD; total time=   2.1s\n",
      "[CV] END selector__L=0.95, selector__MS=0.75, selector__algorithm=algorithm2, selector__dispersion_measure=MAD; total time=   1.9s\n",
      "[CV] END selector__L=0.95, selector__MS=0.75, selector__algorithm=algorithm2, selector__dispersion_measure=MAD; total time=   2.0s\n",
      "[CV] END selector__L=0.95, selector__MS=0.75, selector__algorithm=algorithm2, selector__dispersion_measure=MAD; total time=   2.0s\n",
      "[CV] END selector__L=0.95, selector__MS=0.75, selector__algorithm=algorithm2, selector__dispersion_measure=MAD; total time=   2.1s\n",
      "[CV] END selector__L=0.95, selector__MS=0.75, selector__algorithm=algorithm2, selector__dispersion_measure=MAD; total time=   2.0s\n",
      "[CV] END selector__L=0.95, selector__MS=0.75, selector__algorithm=algorithm2, selector__dispersion_measure=MAD; total time=   2.0s\n",
      "[CV] END selector__L=0.95, selector__MS=0.75, selector__algorithm=algorithm2, selector__dispersion_measure=MAD; total time=   2.0s\n"
     ]
    },
    {
     "name": "stderr",
     "output_type": "stream",
     "text": [
      "/Users/sofiafernandes/Documents/Repos/EmoReA/emorea-backend/src/select_features.py:54: RuntimeWarning: divide by zero encountered in scalar divide\n",
      "  dispersions[i] = arithmetic_mean / geometric_mean\n"
     ]
    },
    {
     "name": "stdout",
     "output_type": "stream",
     "text": [
      "[CV] END selector__L=0.95, selector__MS=0.75, selector__algorithm=algorithm2, selector__dispersion_measure=MAD; total time=   2.1s\n"
     ]
    },
    {
     "name": "stderr",
     "output_type": "stream",
     "text": [
      "/Users/sofiafernandes/Documents/Repos/EmoReA/emorea-backend/src/select_features.py:54: RuntimeWarning: divide by zero encountered in scalar divide\n",
      "  dispersions[i] = arithmetic_mean / geometric_mean\n"
     ]
    },
    {
     "name": "stdout",
     "output_type": "stream",
     "text": [
      "[CV] END selector__L=0.95, selector__MS=0.75, selector__algorithm=algorithm2, selector__dispersion_measure=TV; total time=   2.2s\n"
     ]
    },
    {
     "name": "stderr",
     "output_type": "stream",
     "text": [
      "/Users/sofiafernandes/Documents/Repos/EmoReA/emorea-backend/src/select_features.py:54: RuntimeWarning: divide by zero encountered in scalar divide\n",
      "  dispersions[i] = arithmetic_mean / geometric_mean\n"
     ]
    },
    {
     "name": "stdout",
     "output_type": "stream",
     "text": [
      "[CV] END selector__L=0.95, selector__MS=0.75, selector__algorithm=algorithm2, selector__dispersion_measure=TV; total time=   2.3s\n",
      "[CV] END selector__L=0.95, selector__MS=0.75, selector__algorithm=algorithm2, selector__dispersion_measure=TV; total time=   2.2s\n"
     ]
    },
    {
     "name": "stderr",
     "output_type": "stream",
     "text": [
      "/Users/sofiafernandes/Documents/Repos/EmoReA/emorea-backend/src/select_features.py:54: RuntimeWarning: divide by zero encountered in scalar divide\n",
      "  dispersions[i] = arithmetic_mean / geometric_mean\n",
      "/Users/sofiafernandes/Documents/Repos/EmoReA/emorea-backend/src/select_features.py:54: RuntimeWarning: divide by zero encountered in scalar divide\n",
      "  dispersions[i] = arithmetic_mean / geometric_mean\n"
     ]
    },
    {
     "name": "stdout",
     "output_type": "stream",
     "text": [
      "[CV] END selector__L=0.95, selector__MS=0.75, selector__algorithm=algorithm2, selector__dispersion_measure=TV; total time=   2.1s\n"
     ]
    },
    {
     "name": "stderr",
     "output_type": "stream",
     "text": [
      "/Users/sofiafernandes/Documents/Repos/EmoReA/emorea-backend/src/select_features.py:54: RuntimeWarning: divide by zero encountered in scalar divide\n",
      "  dispersions[i] = arithmetic_mean / geometric_mean\n"
     ]
    },
    {
     "name": "stdout",
     "output_type": "stream",
     "text": [
      "[CV] END selector__L=0.95, selector__MS=0.75, selector__algorithm=algorithm2, selector__dispersion_measure=TV; total time=   2.2s\n"
     ]
    },
    {
     "name": "stderr",
     "output_type": "stream",
     "text": [
      "/Users/sofiafernandes/Documents/Repos/EmoReA/emorea-backend/src/select_features.py:54: RuntimeWarning: divide by zero encountered in scalar divide\n",
      "  dispersions[i] = arithmetic_mean / geometric_mean\n"
     ]
    },
    {
     "name": "stdout",
     "output_type": "stream",
     "text": [
      "[CV] END selector__L=0.95, selector__MS=0.75, selector__algorithm=algorithm2, selector__dispersion_measure=TV; total time=   2.2s\n"
     ]
    },
    {
     "name": "stderr",
     "output_type": "stream",
     "text": [
      "/Users/sofiafernandes/Documents/Repos/EmoReA/emorea-backend/src/select_features.py:54: RuntimeWarning: divide by zero encountered in scalar divide\n",
      "  dispersions[i] = arithmetic_mean / geometric_mean\n"
     ]
    },
    {
     "name": "stdout",
     "output_type": "stream",
     "text": [
      "[CV] END selector__L=0.95, selector__MS=0.75, selector__algorithm=algorithm2, selector__dispersion_measure=TV; total time=   2.1s\n"
     ]
    },
    {
     "name": "stderr",
     "output_type": "stream",
     "text": [
      "/Users/sofiafernandes/Documents/Repos/EmoReA/emorea-backend/src/select_features.py:54: RuntimeWarning: divide by zero encountered in scalar divide\n",
      "  dispersions[i] = arithmetic_mean / geometric_mean\n"
     ]
    },
    {
     "name": "stdout",
     "output_type": "stream",
     "text": [
      "[CV] END selector__L=0.95, selector__MS=0.75, selector__algorithm=algorithm2, selector__dispersion_measure=TV; total time=   2.2s\n"
     ]
    },
    {
     "name": "stderr",
     "output_type": "stream",
     "text": [
      "/Users/sofiafernandes/Documents/Repos/EmoReA/emorea-backend/src/select_features.py:54: RuntimeWarning: divide by zero encountered in scalar divide\n",
      "  dispersions[i] = arithmetic_mean / geometric_mean\n"
     ]
    },
    {
     "name": "stdout",
     "output_type": "stream",
     "text": [
      "[CV] END selector__L=0.95, selector__MS=0.75, selector__algorithm=algorithm2, selector__dispersion_measure=TV; total time=   2.3s\n",
      "Warning: L=0.95 outside recommended [0.7, 0.9] range\n",
      "[CV] END selector__L=0.95, selector__MS=0.75, selector__algorithm=algorithm2, selector__dispersion_measure=AMGM; total time=   2.0s\n",
      "Warning: L=0.95 outside recommended [0.7, 0.9] range\n",
      "[CV] END selector__L=0.95, selector__MS=0.75, selector__algorithm=algorithm2, selector__dispersion_measure=TV; total time=   2.3s\n",
      "Warning: L=0.95 outside recommended [0.7, 0.9] range\n",
      "[CV] END selector__L=0.95, selector__MS=0.75, selector__algorithm=algorithm2, selector__dispersion_measure=AMGM; total time=   2.2s\n",
      "Warning: L=0.95 outside recommended [0.7, 0.9] range\n",
      "[CV] END selector__L=0.95, selector__MS=0.75, selector__algorithm=algorithm2, selector__dispersion_measure=AMGM; total time=   2.0s\n",
      "Warning: L=0.95 outside recommended [0.7, 0.9] range\n",
      "[CV] END selector__L=0.95, selector__MS=0.75, selector__algorithm=algorithm2, selector__dispersion_measure=AMGM; total time=   2.0s\n",
      "Warning: L=0.95 outside recommended [0.7, 0.9] range\n",
      "[CV] END selector__L=0.95, selector__MS=0.75, selector__algorithm=algorithm2, selector__dispersion_measure=AMGM; total time=   1.9s\n",
      "Warning: L=0.95 outside recommended [0.7, 0.9] range\n",
      "[CV] END selector__L=0.95, selector__MS=0.75, selector__algorithm=algorithm2, selector__dispersion_measure=AMGM; total time=   1.9s\n",
      "Warning: L=0.95 outside recommended [0.7, 0.9] range\n",
      "[CV] END selector__L=0.95, selector__MS=0.75, selector__algorithm=algorithm2, selector__dispersion_measure=AMGM; total time=   2.0s\n",
      "Warning: L=0.95 outside recommended [0.7, 0.9] range\n",
      "[CV] END selector__L=0.95, selector__MS=0.75, selector__algorithm=algorithm2, selector__dispersion_measure=AMGM; total time=   2.0s\n",
      "Warning: L=0.95 outside recommended [0.7, 0.9] range\n",
      "[CV] END selector__L=0.95, selector__MS=0.75, selector__algorithm=algorithm2, selector__dispersion_measure=AMGM; total time=   1.9s\n",
      "Warning: L=0.95 outside recommended [0.7, 0.9] range\n",
      "[CV] END selector__L=0.95, selector__MS=0.75, selector__algorithm=algorithm2, selector__dispersion_measure=AMGM; total time=   1.9s\n",
      "Warning: L=0.95 outside recommended [0.7, 0.9] range\n",
      "[CV] END selector__L=0.95, selector__MS=0.8, selector__algorithm=algorithm1, selector__dispersion_measure=MM; total time=   2.0s\n",
      "Warning: L=0.95 outside recommended [0.7, 0.9] range\n",
      "[CV] END selector__L=0.95, selector__MS=0.8, selector__algorithm=algorithm1, selector__dispersion_measure=MM; total time=   2.0s\n",
      "Warning: L=0.95 outside recommended [0.7, 0.9] range\n",
      "[CV] END selector__L=0.95, selector__MS=0.8, selector__algorithm=algorithm1, selector__dispersion_measure=MM; total time=   2.0s\n",
      "Warning: L=0.95 outside recommended [0.7, 0.9] range\n",
      "[CV] END selector__L=0.95, selector__MS=0.8, selector__algorithm=algorithm1, selector__dispersion_measure=MM; total time=   1.9s\n",
      "Warning: L=0.95 outside recommended [0.7, 0.9] range\n",
      "[CV] END selector__L=0.95, selector__MS=0.8, selector__algorithm=algorithm1, selector__dispersion_measure=MM; total time=   2.0s\n",
      "Warning: L=0.95 outside recommended [0.7, 0.9] range\n",
      "[CV] END selector__L=0.95, selector__MS=0.8, selector__algorithm=algorithm1, selector__dispersion_measure=MM; total time=   2.0s\n",
      "Warning: L=0.95 outside recommended [0.7, 0.9] range\n",
      "[CV] END selector__L=0.95, selector__MS=0.8, selector__algorithm=algorithm1, selector__dispersion_measure=MM; total time=   2.0s\n",
      "Warning: L=0.95 outside recommended [0.7, 0.9] range\n",
      "[CV] END selector__L=0.95, selector__MS=0.8, selector__algorithm=algorithm1, selector__dispersion_measure=MM; total time=   2.0s\n",
      "Warning: L=0.95 outside recommended [0.7, 0.9] range\n",
      "[CV] END selector__L=0.95, selector__MS=0.8, selector__algorithm=algorithm1, selector__dispersion_measure=MM; total time=   2.0s\n",
      "Warning: L=0.95 outside recommended [0.7, 0.9] range\n",
      "[CV] END selector__L=0.95, selector__MS=0.8, selector__algorithm=algorithm1, selector__dispersion_measure=MM; total time=   2.1s\n",
      "Warning: L=0.95 outside recommended [0.7, 0.9] range\n",
      "[CV] END selector__L=0.95, selector__MS=0.8, selector__algorithm=algorithm1, selector__dispersion_measure=MAD; total time=   2.1s\n",
      "Warning: L=0.95 outside recommended [0.7, 0.9] range\n",
      "[CV] END selector__L=0.95, selector__MS=0.8, selector__algorithm=algorithm1, selector__dispersion_measure=MAD; total time=   2.1s\n",
      "Warning: L=0.95 outside recommended [0.7, 0.9] range\n",
      "[CV] END selector__L=0.95, selector__MS=0.8, selector__algorithm=algorithm1, selector__dispersion_measure=MAD; total time=   2.2s\n",
      "Warning: L=0.95 outside recommended [0.7, 0.9] range\n",
      "[CV] END selector__L=0.95, selector__MS=0.8, selector__algorithm=algorithm1, selector__dispersion_measure=MAD; total time=   2.2s\n",
      "Warning: L=0.95 outside recommended [0.7, 0.9] range\n",
      "[CV] END selector__L=0.95, selector__MS=0.8, selector__algorithm=algorithm1, selector__dispersion_measure=MAD; total time=   2.2s\n",
      "Warning: L=0.95 outside recommended [0.7, 0.9] range\n",
      "[CV] END selector__L=0.95, selector__MS=0.8, selector__algorithm=algorithm1, selector__dispersion_measure=MAD; total time=   2.2s\n",
      "Warning: L=0.95 outside recommended [0.7, 0.9] range\n",
      "[CV] END selector__L=0.95, selector__MS=0.8, selector__algorithm=algorithm1, selector__dispersion_measure=MAD; total time=   2.1s\n",
      "Warning: L=0.95 outside recommended [0.7, 0.9] range\n",
      "[CV] END selector__L=0.95, selector__MS=0.8, selector__algorithm=algorithm1, selector__dispersion_measure=MAD; total time=   2.2s\n",
      "Warning: L=0.95 outside recommended [0.7, 0.9] range\n",
      "[CV] END selector__L=0.95, selector__MS=0.8, selector__algorithm=algorithm1, selector__dispersion_measure=MAD; total time=   2.2s\n",
      "Warning: L=0.95 outside recommended [0.7, 0.9] range\n"
     ]
    },
    {
     "name": "stderr",
     "output_type": "stream",
     "text": [
      "/Users/sofiafernandes/Documents/Repos/EmoReA/emorea-backend/src/select_features.py:54: RuntimeWarning: divide by zero encountered in scalar divide\n",
      "  dispersions[i] = arithmetic_mean / geometric_mean\n"
     ]
    },
    {
     "name": "stdout",
     "output_type": "stream",
     "text": [
      "[CV] END selector__L=0.95, selector__MS=0.8, selector__algorithm=algorithm1, selector__dispersion_measure=MAD; total time=   2.1s\n",
      "Warning: L=0.95 outside recommended [0.7, 0.9] range\n"
     ]
    },
    {
     "name": "stderr",
     "output_type": "stream",
     "text": [
      "/Users/sofiafernandes/Documents/Repos/EmoReA/emorea-backend/src/select_features.py:54: RuntimeWarning: divide by zero encountered in scalar divide\n",
      "  dispersions[i] = arithmetic_mean / geometric_mean\n"
     ]
    },
    {
     "name": "stdout",
     "output_type": "stream",
     "text": [
      "[CV] END selector__L=0.95, selector__MS=0.8, selector__algorithm=algorithm1, selector__dispersion_measure=TV; total time=   2.2s\n",
      "Warning: L=0.95 outside recommended [0.7, 0.9] range\n",
      "[CV] END selector__L=0.95, selector__MS=0.8, selector__algorithm=algorithm1, selector__dispersion_measure=TV; total time=   2.2s\n",
      "Warning: L=0.95 outside recommended [0.7, 0.9] range\n"
     ]
    },
    {
     "name": "stderr",
     "output_type": "stream",
     "text": [
      "/Users/sofiafernandes/Documents/Repos/EmoReA/emorea-backend/src/select_features.py:54: RuntimeWarning: divide by zero encountered in scalar divide\n",
      "  dispersions[i] = arithmetic_mean / geometric_mean\n",
      "/Users/sofiafernandes/Documents/Repos/EmoReA/emorea-backend/src/select_features.py:54: RuntimeWarning: divide by zero encountered in scalar divide\n",
      "  dispersions[i] = arithmetic_mean / geometric_mean\n"
     ]
    },
    {
     "name": "stdout",
     "output_type": "stream",
     "text": [
      "[CV] END selector__L=0.95, selector__MS=0.8, selector__algorithm=algorithm1, selector__dispersion_measure=TV; total time=   2.1s\n",
      "Warning: L=0.95 outside recommended [0.7, 0.9] range\n"
     ]
    },
    {
     "name": "stderr",
     "output_type": "stream",
     "text": [
      "/Users/sofiafernandes/Documents/Repos/EmoReA/emorea-backend/src/select_features.py:54: RuntimeWarning: divide by zero encountered in scalar divide\n",
      "  dispersions[i] = arithmetic_mean / geometric_mean\n"
     ]
    },
    {
     "name": "stdout",
     "output_type": "stream",
     "text": [
      "[CV] END selector__L=0.95, selector__MS=0.8, selector__algorithm=algorithm1, selector__dispersion_measure=TV; total time=   2.2s\n",
      "Warning: L=0.95 outside recommended [0.7, 0.9] range\n",
      "[CV] END selector__L=0.95, selector__MS=0.8, selector__algorithm=algorithm1, selector__dispersion_measure=TV; total time=   2.1s\n",
      "Warning: L=0.95 outside recommended [0.7, 0.9] range\n"
     ]
    },
    {
     "name": "stderr",
     "output_type": "stream",
     "text": [
      "/Users/sofiafernandes/Documents/Repos/EmoReA/emorea-backend/src/select_features.py:54: RuntimeWarning: divide by zero encountered in scalar divide\n",
      "  dispersions[i] = arithmetic_mean / geometric_mean\n",
      "/Users/sofiafernandes/Documents/Repos/EmoReA/emorea-backend/src/select_features.py:54: RuntimeWarning: divide by zero encountered in scalar divide\n",
      "  dispersions[i] = arithmetic_mean / geometric_mean\n"
     ]
    },
    {
     "name": "stdout",
     "output_type": "stream",
     "text": [
      "[CV] END selector__L=0.95, selector__MS=0.8, selector__algorithm=algorithm1, selector__dispersion_measure=TV; total time=   2.2s\n",
      "Warning: L=0.95 outside recommended [0.7, 0.9] range\n"
     ]
    },
    {
     "name": "stderr",
     "output_type": "stream",
     "text": [
      "/Users/sofiafernandes/Documents/Repos/EmoReA/emorea-backend/src/select_features.py:54: RuntimeWarning: divide by zero encountered in scalar divide\n",
      "  dispersions[i] = arithmetic_mean / geometric_mean\n"
     ]
    },
    {
     "name": "stdout",
     "output_type": "stream",
     "text": [
      "[CV] END selector__L=0.95, selector__MS=0.8, selector__algorithm=algorithm1, selector__dispersion_measure=TV; total time=   2.2s\n",
      "Warning: L=0.95 outside recommended [0.7, 0.9] range\n"
     ]
    },
    {
     "name": "stderr",
     "output_type": "stream",
     "text": [
      "/Users/sofiafernandes/Documents/Repos/EmoReA/emorea-backend/src/select_features.py:54: RuntimeWarning: divide by zero encountered in scalar divide\n",
      "  dispersions[i] = arithmetic_mean / geometric_mean\n"
     ]
    },
    {
     "name": "stdout",
     "output_type": "stream",
     "text": [
      "[CV] END selector__L=0.95, selector__MS=0.8, selector__algorithm=algorithm1, selector__dispersion_measure=TV; total time=   2.2s\n",
      "Warning: L=0.95 outside recommended [0.7, 0.9] range\n",
      "[CV] END selector__L=0.95, selector__MS=0.8, selector__algorithm=algorithm1, selector__dispersion_measure=TV; total time=   2.2s\n"
     ]
    },
    {
     "name": "stderr",
     "output_type": "stream",
     "text": [
      "/Users/sofiafernandes/Documents/Repos/EmoReA/emorea-backend/src/select_features.py:54: RuntimeWarning: divide by zero encountered in scalar divide\n",
      "  dispersions[i] = arithmetic_mean / geometric_mean\n"
     ]
    },
    {
     "name": "stdout",
     "output_type": "stream",
     "text": [
      "[CV] END selector__L=0.95, selector__MS=0.8, selector__algorithm=algorithm1, selector__dispersion_measure=TV; total time=   2.2s\n",
      "[CV] END selector__L=0.95, selector__MS=0.8, selector__algorithm=algorithm1, selector__dispersion_measure=AMGM; total time=   2.2s\n",
      "[CV] END selector__L=0.95, selector__MS=0.8, selector__algorithm=algorithm1, selector__dispersion_measure=AMGM; total time=   2.2s\n",
      "[CV] END selector__L=0.95, selector__MS=0.8, selector__algorithm=algorithm1, selector__dispersion_measure=AMGM; total time=   2.3s\n",
      "[CV] END selector__L=0.95, selector__MS=0.8, selector__algorithm=algorithm1, selector__dispersion_measure=AMGM; total time=   2.2s\n",
      "[CV] END selector__L=0.95, selector__MS=0.8, selector__algorithm=algorithm1, selector__dispersion_measure=AMGM; total time=   2.2s\n",
      "[CV] END selector__L=0.95, selector__MS=0.8, selector__algorithm=algorithm1, selector__dispersion_measure=AMGM; total time=   2.2s\n",
      "[CV] END selector__L=0.95, selector__MS=0.8, selector__algorithm=algorithm1, selector__dispersion_measure=AMGM; total time=   2.2s\n",
      "[CV] END selector__L=0.95, selector__MS=0.8, selector__algorithm=algorithm1, selector__dispersion_measure=AMGM; total time=   2.3s\n",
      "[CV] END selector__L=0.95, selector__MS=0.8, selector__algorithm=algorithm1, selector__dispersion_measure=AMGM; total time=   2.2s\n",
      "[CV] END selector__L=0.95, selector__MS=0.8, selector__algorithm=algorithm1, selector__dispersion_measure=AMGM; total time=   2.2s\n",
      "[CV] END selector__L=0.95, selector__MS=0.8, selector__algorithm=algorithm2, selector__dispersion_measure=MM; total time=   2.3s\n",
      "[CV] END selector__L=0.95, selector__MS=0.8, selector__algorithm=algorithm2, selector__dispersion_measure=MM; total time=   2.2s\n",
      "[CV] END selector__L=0.95, selector__MS=0.8, selector__algorithm=algorithm2, selector__dispersion_measure=MM; total time=   2.1s\n",
      "[CV] END selector__L=0.95, selector__MS=0.8, selector__algorithm=algorithm2, selector__dispersion_measure=MM; total time=   2.2s\n",
      "[CV] END selector__L=0.95, selector__MS=0.8, selector__algorithm=algorithm2, selector__dispersion_measure=MM; total time=   2.1s\n",
      "[CV] END selector__L=0.95, selector__MS=0.8, selector__algorithm=algorithm2, selector__dispersion_measure=MM; total time=   2.1s\n",
      "[CV] END selector__L=0.95, selector__MS=0.8, selector__algorithm=algorithm2, selector__dispersion_measure=MM; total time=   2.2s\n",
      "[CV] END selector__L=0.95, selector__MS=0.8, selector__algorithm=algorithm2, selector__dispersion_measure=MM; total time=   2.1s\n",
      "[CV] END selector__L=0.95, selector__MS=0.8, selector__algorithm=algorithm2, selector__dispersion_measure=MM; total time=   2.1s\n",
      "[CV] END selector__L=0.95, selector__MS=0.8, selector__algorithm=algorithm2, selector__dispersion_measure=MM; total time=   2.0s\n",
      "[CV] END selector__L=0.95, selector__MS=0.8, selector__algorithm=algorithm2, selector__dispersion_measure=MAD; total time=   2.1s\n",
      "[CV] END selector__L=0.95, selector__MS=0.8, selector__algorithm=algorithm2, selector__dispersion_measure=MAD; total time=   2.1s\n",
      "[CV] END selector__L=0.95, selector__MS=0.8, selector__algorithm=algorithm2, selector__dispersion_measure=MAD; total time=   2.0s\n",
      "[CV] END selector__L=0.95, selector__MS=0.8, selector__algorithm=algorithm2, selector__dispersion_measure=MAD; total time=   2.1s\n",
      "[CV] END selector__L=0.95, selector__MS=0.8, selector__algorithm=algorithm2, selector__dispersion_measure=MAD; total time=   2.1s\n",
      "[CV] END selector__L=0.95, selector__MS=0.8, selector__algorithm=algorithm2, selector__dispersion_measure=MAD; total time=   2.1s\n",
      "[CV] END selector__L=0.95, selector__MS=0.8, selector__algorithm=algorithm2, selector__dispersion_measure=MAD; total time=   2.0s\n",
      "[CV] END selector__L=0.95, selector__MS=0.8, selector__algorithm=algorithm2, selector__dispersion_measure=MAD; total time=   2.1s\n",
      "[CV] END selector__L=0.95, selector__MS=0.8, selector__algorithm=algorithm2, selector__dispersion_measure=MAD; total time=   2.1s\n"
     ]
    },
    {
     "name": "stderr",
     "output_type": "stream",
     "text": [
      "/Users/sofiafernandes/Documents/Repos/EmoReA/emorea-backend/src/select_features.py:54: RuntimeWarning: divide by zero encountered in scalar divide\n",
      "  dispersions[i] = arithmetic_mean / geometric_mean\n"
     ]
    },
    {
     "name": "stdout",
     "output_type": "stream",
     "text": [
      "[CV] END selector__L=0.95, selector__MS=0.8, selector__algorithm=algorithm2, selector__dispersion_measure=MAD; total time=   2.0s\n"
     ]
    },
    {
     "name": "stderr",
     "output_type": "stream",
     "text": [
      "/Users/sofiafernandes/Documents/Repos/EmoReA/emorea-backend/src/select_features.py:54: RuntimeWarning: divide by zero encountered in scalar divide\n",
      "  dispersions[i] = arithmetic_mean / geometric_mean\n"
     ]
    },
    {
     "name": "stdout",
     "output_type": "stream",
     "text": [
      "[CV] END selector__L=0.95, selector__MS=0.8, selector__algorithm=algorithm2, selector__dispersion_measure=TV; total time=   2.1s\n"
     ]
    },
    {
     "name": "stderr",
     "output_type": "stream",
     "text": [
      "/Users/sofiafernandes/Documents/Repos/EmoReA/emorea-backend/src/select_features.py:54: RuntimeWarning: divide by zero encountered in scalar divide\n",
      "  dispersions[i] = arithmetic_mean / geometric_mean\n"
     ]
    },
    {
     "name": "stdout",
     "output_type": "stream",
     "text": [
      "[CV] END selector__L=0.95, selector__MS=0.8, selector__algorithm=algorithm2, selector__dispersion_measure=TV; total time=   2.0s\n"
     ]
    },
    {
     "name": "stderr",
     "output_type": "stream",
     "text": [
      "/Users/sofiafernandes/Documents/Repos/EmoReA/emorea-backend/src/select_features.py:54: RuntimeWarning: divide by zero encountered in scalar divide\n",
      "  dispersions[i] = arithmetic_mean / geometric_mean\n"
     ]
    },
    {
     "name": "stdout",
     "output_type": "stream",
     "text": [
      "[CV] END selector__L=0.95, selector__MS=0.8, selector__algorithm=algorithm2, selector__dispersion_measure=TV; total time=   2.0s\n"
     ]
    },
    {
     "name": "stderr",
     "output_type": "stream",
     "text": [
      "/Users/sofiafernandes/Documents/Repos/EmoReA/emorea-backend/src/select_features.py:54: RuntimeWarning: divide by zero encountered in scalar divide\n",
      "  dispersions[i] = arithmetic_mean / geometric_mean\n"
     ]
    },
    {
     "name": "stdout",
     "output_type": "stream",
     "text": [
      "[CV] END selector__L=0.95, selector__MS=0.8, selector__algorithm=algorithm2, selector__dispersion_measure=TV; total time=   2.0s\n",
      "[CV] END selector__L=0.95, selector__MS=0.8, selector__algorithm=algorithm2, selector__dispersion_measure=TV; total time=   2.0s\n"
     ]
    },
    {
     "name": "stderr",
     "output_type": "stream",
     "text": [
      "/Users/sofiafernandes/Documents/Repos/EmoReA/emorea-backend/src/select_features.py:54: RuntimeWarning: divide by zero encountered in scalar divide\n",
      "  dispersions[i] = arithmetic_mean / geometric_mean\n",
      "/Users/sofiafernandes/Documents/Repos/EmoReA/emorea-backend/src/select_features.py:54: RuntimeWarning: divide by zero encountered in scalar divide\n",
      "  dispersions[i] = arithmetic_mean / geometric_mean\n"
     ]
    },
    {
     "name": "stdout",
     "output_type": "stream",
     "text": [
      "[CV] END selector__L=0.95, selector__MS=0.8, selector__algorithm=algorithm2, selector__dispersion_measure=TV; total time=   2.0s\n"
     ]
    },
    {
     "name": "stderr",
     "output_type": "stream",
     "text": [
      "/Users/sofiafernandes/Documents/Repos/EmoReA/emorea-backend/src/select_features.py:54: RuntimeWarning: divide by zero encountered in scalar divide\n",
      "  dispersions[i] = arithmetic_mean / geometric_mean\n"
     ]
    },
    {
     "name": "stdout",
     "output_type": "stream",
     "text": [
      "[CV] END selector__L=0.95, selector__MS=0.8, selector__algorithm=algorithm2, selector__dispersion_measure=TV; total time=   2.2s\n"
     ]
    },
    {
     "name": "stderr",
     "output_type": "stream",
     "text": [
      "/Users/sofiafernandes/Documents/Repos/EmoReA/emorea-backend/src/select_features.py:54: RuntimeWarning: divide by zero encountered in scalar divide\n",
      "  dispersions[i] = arithmetic_mean / geometric_mean\n"
     ]
    },
    {
     "name": "stdout",
     "output_type": "stream",
     "text": [
      "[CV] END selector__L=0.95, selector__MS=0.8, selector__algorithm=algorithm2, selector__dispersion_measure=TV; total time=   2.1s\n"
     ]
    },
    {
     "name": "stderr",
     "output_type": "stream",
     "text": [
      "/Users/sofiafernandes/Documents/Repos/EmoReA/emorea-backend/src/select_features.py:54: RuntimeWarning: divide by zero encountered in scalar divide\n",
      "  dispersions[i] = arithmetic_mean / geometric_mean\n"
     ]
    },
    {
     "name": "stdout",
     "output_type": "stream",
     "text": [
      "[CV] END selector__L=0.95, selector__MS=0.8, selector__algorithm=algorithm2, selector__dispersion_measure=TV; total time=   2.2s\n",
      "[CV] END selector__L=0.95, selector__MS=0.8, selector__algorithm=algorithm2, selector__dispersion_measure=TV; total time=   2.1s\n",
      "[CV] END selector__L=0.95, selector__MS=0.8, selector__algorithm=algorithm2, selector__dispersion_measure=AMGM; total time=   1.9s\n",
      "[CV] END selector__L=0.95, selector__MS=0.8, selector__algorithm=algorithm2, selector__dispersion_measure=AMGM; total time=   2.2s\n",
      "[CV] END selector__L=0.95, selector__MS=0.8, selector__algorithm=algorithm2, selector__dispersion_measure=AMGM; total time=   2.1s\n",
      "[CV] END selector__L=0.95, selector__MS=0.8, selector__algorithm=algorithm2, selector__dispersion_measure=AMGM; total time=   2.1s\n",
      "[CV] END selector__L=0.95, selector__MS=0.8, selector__algorithm=algorithm2, selector__dispersion_measure=AMGM; total time=   2.0s\n",
      "[CV] END selector__L=0.95, selector__MS=0.8, selector__algorithm=algorithm2, selector__dispersion_measure=AMGM; total time=   1.9s\n",
      "[CV] END selector__L=0.95, selector__MS=0.8, selector__algorithm=algorithm2, selector__dispersion_measure=AMGM; total time=   2.0s\n",
      "[CV] END selector__L=0.95, selector__MS=0.8, selector__algorithm=algorithm2, selector__dispersion_measure=AMGM; total time=   2.1s\n",
      "[CV] END selector__L=0.95, selector__MS=0.8, selector__algorithm=algorithm2, selector__dispersion_measure=AMGM; total time=   1.9s\n",
      "[CV] END selector__L=0.95, selector__MS=0.8, selector__algorithm=algorithm2, selector__dispersion_measure=AMGM; total time=   1.8s\n",
      "Best parameters: {'selector__L': 0.7, 'selector__MS': 0.7, 'selector__algorithm': 'algorithm1', 'selector__dispersion_measure': 'MAD'}\n",
      "Best CV accuracy: 0.43629579953588377\n",
      "Test accuracy: 0.44173648134044174\n"
     ]
    }
   ],
   "source": [
    "from sklearn.pipeline import Pipeline\n",
    "from sklearn.model_selection import GridSearchCV\n",
    "from src.select_features import FeatureSelector\n",
    "\n",
    "# Create pipeline with fixed SVM params and feature selector\n",
    "pipeline = Pipeline([\n",
    "    ('selector', FeatureSelector()),\n",
    "    ('clf', SVC(C=10, gamma='scale', kernel='rbf', random_state=42))  # Fixed SVM params\n",
    "])\n",
    "\n",
    "# Define parameter grid for feature selection\n",
    "param_grid = {\n",
    "    'selector__algorithm': ['algorithm1', 'algorithm2'],\n",
    "    'selector__L': [0.7, 0.8, 0.9, 0.95],\n",
    "    'selector__MS': [0.7, 0.75, 0.8],  # Only used with algorithm2\n",
    "    'selector__dispersion_measure': ['MM', 'MAD', 'TV', 'AMGM']\n",
    "}\n",
    "\n",
    "# Configure grid search\n",
    "grid_search = GridSearchCV(\n",
    "    estimator=pipeline,\n",
    "    param_grid=param_grid,\n",
    "    cv=10,\n",
    "    scoring='accuracy',\n",
    "    n_jobs=-1,\n",
    "    verbose=2,\n",
    "    return_train_score=True\n",
    ")\n",
    "\n",
    "# Run grid search\n",
    "grid_search.fit(X_train, y_train)\n",
    "\n",
    "# Results analysis\n",
    "print(\"Best parameters:\", grid_search.best_params_)\n",
    "print(\"Best CV accuracy:\", grid_search.best_score_)\n",
    "print(\"Test accuracy:\", grid_search.score(X_test, y_test))\n",
    "\n",
    "# Save results to DataFrame\n",
    "results_df = pd.DataFrame(grid_search.cv_results_)\n",
    "results_df.to_csv('feature_selection_grid_search_results.csv', index=False)"
   ]
  },
  {
   "cell_type": "code",
   "execution_count": 100,
   "id": "c3fec283",
   "metadata": {},
   "outputs": [
    {
     "data": {
      "image/png": "[encoded data removed]",
      "text/plain": [
       "<Figure size 1200x600 with 1 Axes>"
      ]
     },
     "metadata": {},
     "output_type": "display_data"
    }
   ],
   "source": [
    "\n",
    "best_selector = grid_search.best_estimator_.named_steps['selector']\n",
    "plt.figure(figsize=(12, 6))\n",
    "plt.bar(range(len(best_selector.selected_indices)), \n",
    "        X_train.std(axis=0)[best_selector.selected_indices])\n",
    "plt.title('Feature Importance (Standard Deviation) of Selected Features')\n",
    "plt.xlabel('Feature Index')\n",
    "plt.ylabel('Standard Deviation')\n",
    "plt.show()"
   ]
  },
  {
   "cell_type": "code",
   "execution_count": null,
   "id": "12deb4df",
   "metadata": {},
   "outputs": [],
   "source": []
  }
 ],
 "metadata": {
  "kernelspec": {
   "display_name": "varm",
   "language": "python",
   "name": "python3"
  },
  "language_info": {
   "codemirror_mode": {
    "name": "ipython",
    "version": 3
   },
   "file_extension": ".py",
   "mimetype": "text/x-python",
   "name": "python",
   "nbconvert_exporter": "python",
   "pygments_lexer": "ipython3",
   "version": "3.8.19"
  }
 },
 "nbformat": 4,
 "nbformat_minor": 5
}
