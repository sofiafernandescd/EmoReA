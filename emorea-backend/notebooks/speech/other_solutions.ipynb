{
 "cells": [
  {
   "cell_type": "markdown",
   "id": "3b464ff3",
   "metadata": {},
   "source": [
    "# Other solutions\n",
    "\n",
    "### Light-SERNET"
   ]
  },
  {
   "cell_type": "code",
   "execution_count": 1,
   "id": "95b40c51",
   "metadata": {},
   "outputs": [],
   "source": [
    "from IPython.display import clear_output\n",
    "!wget -O EMO-DB.zip http://emodb.bilderbar.info/download/download.zip\n",
    "!git clone https://github.com/AryaAftab/LIGHT-SERNET.git\n",
    "\n",
    "!mv /content/EMO-DB.zip /content/LIGHT-SERNET/data\n",
    "!unzip /content/LIGHT-SERNET/data/EMO-DB.zip -d /content/LIGHT-SERNET/data/EMO-DB\n",
    "\n",
    "clear_output()"
   ]
  },
  {
   "cell_type": "code",
   "execution_count": 2,
   "id": "ec6fe3a3",
   "metadata": {},
   "outputs": [
    {
     "ename": "FileNotFoundError",
     "evalue": "[Errno 2] No such file or directory: '/content/LIGHT-SERNET'",
     "output_type": "error",
     "traceback": [
      "\u001b[0;31m---------------------------------------------------------------------------\u001b[0m",
      "\u001b[0;31mFileNotFoundError\u001b[0m                         Traceback (most recent call last)",
      "Cell \u001b[0;32mIn[2], line 3\u001b[0m\n\u001b[1;32m      1\u001b[0m \u001b[38;5;28;01mimport\u001b[39;00m \u001b[38;5;21;01mos\u001b[39;00m\n\u001b[0;32m----> 3\u001b[0m \u001b[43mos\u001b[49m\u001b[38;5;241;43m.\u001b[39;49m\u001b[43mchdir\u001b[49m\u001b[43m(\u001b[49m\u001b[38;5;124;43m\"\u001b[39;49m\u001b[38;5;124;43m/content/LIGHT-SERNET\u001b[39;49m\u001b[38;5;124;43m\"\u001b[39;49m\u001b[43m)\u001b[49m\n\u001b[1;32m      5\u001b[0m get_ipython()\u001b[38;5;241m.\u001b[39msystem(\u001b[38;5;124m'\u001b[39m\u001b[38;5;124mpython train.py -dn \u001b[39m\u001b[38;5;124m\"\u001b[39m\u001b[38;5;124mEMO-DB\u001b[39m\u001b[38;5;124m\"\u001b[39m\u001b[38;5;124m -id 3 -at \u001b[39m\u001b[38;5;124m\"\u001b[39m\u001b[38;5;124mall\u001b[39m\u001b[38;5;124m\"\u001b[39m\u001b[38;5;124m -ln \u001b[39m\u001b[38;5;124m\"\u001b[39m\u001b[38;5;124mcross_entropy\u001b[39m\u001b[38;5;124m\"\u001b[39m\u001b[38;5;124m -v 0 -it \u001b[39m\u001b[38;5;124m\"\u001b[39m\u001b[38;5;124mmfcc\u001b[39m\u001b[38;5;124m\"\u001b[39m\u001b[38;5;124m -c \u001b[39m\u001b[38;5;124m\"\u001b[39m\u001b[38;5;124mram\u001b[39m\u001b[38;5;124m\"\u001b[39m\u001b[38;5;124m -m true\u001b[39m\u001b[38;5;124m'\u001b[39m)\n",
      "\u001b[0;31mFileNotFoundError\u001b[0m: [Errno 2] No such file or directory: '/content/LIGHT-SERNET'"
     ]
    }
   ],
   "source": [
    "import os\n",
    "\n",
    "os.chdir(\"/content/LIGHT-SERNET\")\n",
    "\n",
    "!python train.py -dn \"EMO-DB\" -id 3 -at \"all\" -ln \"cross_entropy\" -v 0 -it \"mfcc\" -c \"ram\" -m true"
   ]
  },
  {
   "cell_type": "markdown",
   "id": "e843d089",
   "metadata": {},
   "source": []
  }
 ],
 "metadata": {
  "kernelspec": {
   "display_name": "varm",
   "language": "python",
   "name": "python3"
  },
  "language_info": {
   "codemirror_mode": {
    "name": "ipython",
    "version": 3
   },
   "file_extension": ".py",
   "mimetype": "text/x-python",
   "name": "python",
   "nbconvert_exporter": "python",
   "pygments_lexer": "ipython3",
   "version": "3.8.19"
  }
 },
 "nbformat": 4,
 "nbformat_minor": 5
}
