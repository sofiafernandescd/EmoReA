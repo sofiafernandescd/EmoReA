{
 "cells": [
  {
   "cell_type": "code",
   "execution_count": 45,
   "id": "c10da075",
   "metadata": {},
   "outputs": [
    {
     "name": "stdout",
     "output_type": "stream",
     "text": [
      "<class 'pandas.core.frame.DataFrame'>\n",
      "Index: 2546 entries, 0 to 2609\n",
      "Data columns (total 14 columns):\n",
      " #   Column        Non-Null Count  Dtype \n",
      "---  ------        --------------  ----- \n",
      " 0   Sr No.        2546 non-null   int64 \n",
      " 1   Utterance     2546 non-null   object\n",
      " 2   Speaker       2546 non-null   object\n",
      " 3   Emotion       2546 non-null   object\n",
      " 4   Sentiment     2546 non-null   object\n",
      " 5   Dialogue_ID   2546 non-null   int64 \n",
      " 6   Utterance_ID  2546 non-null   int64 \n",
      " 7   Season        2546 non-null   int64 \n",
      " 8   Episode       2546 non-null   int64 \n",
      " 9   StartTime     2546 non-null   object\n",
      " 10  EndTime       2546 non-null   object\n",
      " 11  filename      2546 non-null   object\n",
      " 12  label         2546 non-null   object\n",
      " 13  text          2546 non-null   object\n",
      "dtypes: int64(5), object(9)\n",
      "memory usage: 298.4+ KB\n",
      "None\n"
     ]
    }
   ],
   "source": [
    "import pandas as pd\n",
    "from sklearn.preprocessing import LabelEncoder\n",
    "from datasets import Dataset, DatasetDict\n",
    "from transformers import (AutoTokenizer, AutoConfig, AutoModelForSequenceClassification,\n",
    "                          DataCollatorWithPadding, TrainingArguments, Trainer)\n",
    "from sklearn.model_selection import train_test_split\n",
    "import evaluate\n",
    "import numpy as np\n",
    "import os, sys, json\n",
    "module_path = os.path.abspath(os.path.join('..', '..')) # or the path to your source code\n",
    "sys.path.insert(0, module_path)\n",
    "from src.data_loading import load_emorynlp, load_isear, load_tess, filter_emotions, load_emodb, load_ravdess, load_iemocap, load_meld\n",
    "from src.processor import FileProcessor\n",
    "from tqdm import tqdm\n",
    "tqdm.pandas()\n",
    "\n",
    "# ===========\n",
    "# 1) load dataframe\n",
    "#train_df = load_emorynlp(split='train')\n",
    "#val_df = load_emorynlp(split='dev')\n",
    "#test_df = load_emorynlp(split='test')\n",
    "#isear = filter_emotions(load_isear())\n",
    "#ISEAR\n",
    "#df = pd.read_csv(\"hf://datasets/gsri-18/ISEAR-dataset-complete/ISEAR_dataset_complete.csv\")\n",
    "#df['label'], df['text'] = df['emotion'], df['content']\n",
    "\n",
    "#emodb = pd.read_csv(\"EmoDB_transcripts.csv\")[['text', 'label']]\n",
    "#tess = pd.read_csv(\"TESS_transcripts.csv\")[['text', 'label']]\n",
    "iemocap_transc = pd.read_csv(\"IEMOCAP_transcripts.csv\")#[['text', 'label']]\n",
    "iemocap_true = filter_emotions(load_iemocap())\n",
    "meld = pd.read_csv(\"MELD_transcripts.csv\")#[['text', 'label']]\n",
    "\n",
    "\n",
    "meld.dropna(inplace=True)\n",
    "print(meld.info())\n",
    "#iemocap['text'].fillna(\"NA\")\n",
    "#meld['text'].fillna(\"NA\")\n",
    "# Merge (join) on utterance_id\n",
    "iemocap = pd.merge(iemocap_transc, iemocap_true, on=\"filename\", how=\"inner\")\n",
    "iemocap.dropna(inplace=True)\n",
    "iemocap['Utterance'] = iemocap['text']\n",
    "iemocap['text'] = iemocap['transcription']\n",
    "\n",
    "\n",
    "#df = filter_emotions(load_crema_d())\n",
    "#processor = FileProcessor()\n",
    "#df['text'] = df['filename'].progress_apply(lambda x: processor.process_file(x)['text'])\n",
    "#df.head()"
   ]
  },
  {
   "cell_type": "code",
   "execution_count": 54,
   "id": "94ac7982",
   "metadata": {},
   "outputs": [
    {
     "name": "stderr",
     "output_type": "stream",
     "text": [
      "100%|██████████| 4615/4615 [00:00<00:00, 11697.52it/s]\n"
     ]
    },
    {
     "name": "stdout",
     "output_type": "stream",
     "text": [
      "Global WER: 0.166\n"
     ]
    },
    {
     "data": {
      "text/plain": [
       "WER           0.238256\n",
       "S_ratio       0.116416\n",
       "D_ratio       0.040713\n",
       "I_ratio       0.081128\n",
       "Hits_ratio    0.842872\n",
       "dtype: float64"
      ]
     },
     "execution_count": 54,
     "metadata": {},
     "output_type": "execute_result"
    }
   ],
   "source": [
    "import pandas as pd\n",
    "from jiwer import process_words, wer\n",
    "from tqdm import tqdm\n",
    "tqdm.pandas()\n",
    "\n",
    "import re\n",
    "\n",
    "def normalize_text(text):\n",
    "    # 1. Lowercase\n",
    "    text = text.lower()\n",
    "    \n",
    "    # 2. Remove punctuation and special characters (keep words and spaces)\n",
    "    text = re.sub(r\"[^a-zA-Z0-9\\s]\", \" \", text)\n",
    "    \n",
    "    # 3. Remove extra whitespace\n",
    "    text = re.sub(r\"\\s+\", \" \", text).strip()\n",
    "\n",
    "    if len(text)==0:\n",
    "        text = \"NA\"\n",
    "    \n",
    "    return text\n",
    "\n",
    "# Function to compute WER metrics for each pair\n",
    "def compute_wer_metrics(row):\n",
    "    ref = row[\"Utterance\"]\n",
    "    hyp = row[\"text\"]\n",
    "\n",
    "    measures = process_words(ref, hyp)\n",
    "    return pd.Series({\n",
    "        \"WER\": measures.wer,\n",
    "        \"S_ratio\": measures.substitutions / len(measures.references[0]),\n",
    "        \"D_ratio\": measures.deletions / len(measures.references[0]),\n",
    "        \"I_ratio\": measures.insertions / len(measures.references[0]),\n",
    "        \"Hits_ratio\": measures.hits / len(measures.references[0]) \n",
    "    })\n",
    "\n",
    "df = pd.concat([iemocap])\n",
    "df[\"Utterance\"] = df['Utterance'].apply(normalize_text)\n",
    "df[\"text\"] = df['text'].apply(normalize_text)\n",
    "# Apply to each row\n",
    "df_metrics = df.progress_apply(compute_wer_metrics, axis=1)\n",
    "\n",
    "# Combine with original DataFrame\n",
    "df_results = pd.concat([df, df_metrics], axis=1)\n",
    "\n",
    "ref_corpus = \" \".join(df[\"Utterance\"])\n",
    "hyp_corpus = \" \".join(df[\"text\"])\n",
    "\n",
    "global_wer = wer(ref_corpus, hyp_corpus)\n",
    "print(f\"Global WER: {global_wer:.3f}\")\n",
    "\n",
    "df_metrics.mean(axis=0)\n"
   ]
  },
  {
   "cell_type": "code",
   "execution_count": 48,
   "id": "61c283bb",
   "metadata": {},
   "outputs": [
    {
     "data": {
      "text/plain": [
       "0.13157894736842105"
      ]
     },
     "execution_count": 48,
     "metadata": {},
     "output_type": "execute_result"
    }
   ],
   "source": [
    "335/2546"
   ]
  },
  {
   "cell_type": "code",
   "execution_count": 55,
   "id": "0d87a053",
   "metadata": {},
   "outputs": [
    {
     "name": "stderr",
     "output_type": "stream",
     "text": [
      "100%|██████████| 2546/2546 [00:00<00:00, 12860.54it/s]\n"
     ]
    },
    {
     "name": "stdout",
     "output_type": "stream",
     "text": [
      "Global WER: 0.385\n"
     ]
    },
    {
     "data": {
      "text/plain": [
       "WER           0.821767\n",
       "S_ratio       0.176025\n",
       "D_ratio       0.082399\n",
       "I_ratio       0.563343\n",
       "Hits_ratio    0.741576\n",
       "dtype: float64"
      ]
     },
     "execution_count": 55,
     "metadata": {},
     "output_type": "execute_result"
    }
   ],
   "source": [
    "df = pd.concat([meld])\n",
    "df[\"Utterance\"] = df['Utterance'].apply(normalize_text)\n",
    "df[\"text\"] = df['text'].apply(normalize_text)\n",
    "\n",
    "# Apply to each row\n",
    "df_metrics = df.progress_apply(compute_wer_metrics, axis=1)\n",
    "\n",
    "# Combine with original DataFrame\n",
    "df_results = pd.concat([df, df_metrics], axis=1)\n",
    "\n",
    "ref_corpus = \" \".join(df[\"Utterance\"])\n",
    "hyp_corpus = \" \".join(df[\"text\"])\n",
    "\n",
    "global_wer = wer(ref_corpus, hyp_corpus)\n",
    "print(f\"Global WER: {global_wer:.3f}\")\n",
    "\n",
    "df_metrics.mean(axis=0)"
   ]
  },
  {
   "cell_type": "code",
   "execution_count": 51,
   "id": "f73bd290",
   "metadata": {},
   "outputs": [
    {
     "data": {
      "text/html": [
       "<div>\n",
       "<style scoped>\n",
       "    .dataframe tbody tr th:only-of-type {\n",
       "        vertical-align: middle;\n",
       "    }\n",
       "\n",
       "    .dataframe tbody tr th {\n",
       "        vertical-align: top;\n",
       "    }\n",
       "\n",
       "    .dataframe thead th {\n",
       "        text-align: right;\n",
       "    }\n",
       "</style>\n",
       "<table border=\"1\" class=\"dataframe\">\n",
       "  <thead>\n",
       "    <tr style=\"text-align: right;\">\n",
       "      <th></th>\n",
       "      <th>Sr No.</th>\n",
       "      <th>Utterance</th>\n",
       "      <th>Speaker</th>\n",
       "      <th>Emotion</th>\n",
       "      <th>Sentiment</th>\n",
       "      <th>Dialogue_ID</th>\n",
       "      <th>Utterance_ID</th>\n",
       "      <th>Season</th>\n",
       "      <th>Episode</th>\n",
       "      <th>StartTime</th>\n",
       "      <th>EndTime</th>\n",
       "      <th>filename</th>\n",
       "      <th>label</th>\n",
       "      <th>text</th>\n",
       "      <th>WER</th>\n",
       "      <th>S_ratio</th>\n",
       "      <th>D_ratio</th>\n",
       "      <th>I_ratio</th>\n",
       "      <th>Hits_ratio</th>\n",
       "    </tr>\n",
       "  </thead>\n",
       "  <tbody>\n",
       "    <tr>\n",
       "      <th>2</th>\n",
       "      <td>3</td>\n",
       "      <td>Y'know what?</td>\n",
       "      <td>Rachel</td>\n",
       "      <td>neutral</td>\n",
       "      <td>neutral</td>\n",
       "      <td>0</td>\n",
       "      <td>2</td>\n",
       "      <td>3</td>\n",
       "      <td>19</td>\n",
       "      <td>00:14:56,353</td>\n",
       "      <td>00:14:57,520</td>\n",
       "      <td>/Users/krazmic/.cache/kagglehub/datasets/bhand...</td>\n",
       "      <td>neutral</td>\n",
       "      <td>You know what?</td>\n",
       "      <td>1.0</td>\n",
       "      <td>0.500000</td>\n",
       "      <td>0.00</td>\n",
       "      <td>0.500000</td>\n",
       "      <td>0.500000</td>\n",
       "    </tr>\n",
       "    <tr>\n",
       "      <th>4</th>\n",
       "      <td>20</td>\n",
       "      <td>Push!</td>\n",
       "      <td>Joey</td>\n",
       "      <td>joy</td>\n",
       "      <td>positive</td>\n",
       "      <td>1</td>\n",
       "      <td>1</td>\n",
       "      <td>1</td>\n",
       "      <td>23</td>\n",
       "      <td>0:10:46,146</td>\n",
       "      <td>0:10:46,833</td>\n",
       "      <td>/Users/krazmic/.cache/kagglehub/datasets/bhand...</td>\n",
       "      <td>happy</td>\n",
       "      <td>Push</td>\n",
       "      <td>1.0</td>\n",
       "      <td>1.000000</td>\n",
       "      <td>0.00</td>\n",
       "      <td>0.000000</td>\n",
       "      <td>0.000000</td>\n",
       "    </tr>\n",
       "    <tr>\n",
       "      <th>8</th>\n",
       "      <td>24</td>\n",
       "      <td>Let's  I was justyeah, right.</td>\n",
       "      <td>Joey</td>\n",
       "      <td>joy</td>\n",
       "      <td>positive</td>\n",
       "      <td>1</td>\n",
       "      <td>5</td>\n",
       "      <td>1</td>\n",
       "      <td>23</td>\n",
       "      <td>00:10:55,780</td>\n",
       "      <td>00:11:01,242</td>\n",
       "      <td>/Users/krazmic/.cache/kagglehub/datasets/bhand...</td>\n",
       "      <td>happy</td>\n",
       "      <td>Let's get... I was just... Yeah, okay.</td>\n",
       "      <td>1.0</td>\n",
       "      <td>0.600000</td>\n",
       "      <td>0.00</td>\n",
       "      <td>0.400000</td>\n",
       "      <td>0.400000</td>\n",
       "    </tr>\n",
       "    <tr>\n",
       "      <th>9</th>\n",
       "      <td>25</td>\n",
       "      <td>Push!</td>\n",
       "      <td>Joey</td>\n",
       "      <td>joy</td>\n",
       "      <td>positive</td>\n",
       "      <td>1</td>\n",
       "      <td>6</td>\n",
       "      <td>1</td>\n",
       "      <td>23</td>\n",
       "      <td>0:11:01,410</td>\n",
       "      <td>0:11:01,828</td>\n",
       "      <td>/Users/krazmic/.cache/kagglehub/datasets/bhand...</td>\n",
       "      <td>happy</td>\n",
       "      <td>Push, push, push!</td>\n",
       "      <td>3.0</td>\n",
       "      <td>1.000000</td>\n",
       "      <td>0.00</td>\n",
       "      <td>2.000000</td>\n",
       "      <td>0.000000</td>\n",
       "    </tr>\n",
       "    <tr>\n",
       "      <th>10</th>\n",
       "      <td>26</td>\n",
       "      <td>Push!</td>\n",
       "      <td>Joey</td>\n",
       "      <td>joy</td>\n",
       "      <td>positive</td>\n",
       "      <td>1</td>\n",
       "      <td>7</td>\n",
       "      <td>1</td>\n",
       "      <td>23</td>\n",
       "      <td>0:11:01,828</td>\n",
       "      <td>0:11:03,774</td>\n",
       "      <td>/Users/krazmic/.cache/kagglehub/datasets/bhand...</td>\n",
       "      <td>happy</td>\n",
       "      <td>Push! Push!</td>\n",
       "      <td>1.0</td>\n",
       "      <td>0.000000</td>\n",
       "      <td>0.00</td>\n",
       "      <td>1.000000</td>\n",
       "      <td>1.000000</td>\n",
       "    </tr>\n",
       "    <tr>\n",
       "      <th>...</th>\n",
       "      <td>...</td>\n",
       "      <td>...</td>\n",
       "      <td>...</td>\n",
       "      <td>...</td>\n",
       "      <td>...</td>\n",
       "      <td>...</td>\n",
       "      <td>...</td>\n",
       "      <td>...</td>\n",
       "      <td>...</td>\n",
       "      <td>...</td>\n",
       "      <td>...</td>\n",
       "      <td>...</td>\n",
       "      <td>...</td>\n",
       "      <td>...</td>\n",
       "      <td>...</td>\n",
       "      <td>...</td>\n",
       "      <td>...</td>\n",
       "      <td>...</td>\n",
       "      <td>...</td>\n",
       "    </tr>\n",
       "    <tr>\n",
       "      <th>2594</th>\n",
       "      <td>2749</td>\n",
       "      <td>Gimme them!</td>\n",
       "      <td>Monica</td>\n",
       "      <td>anger</td>\n",
       "      <td>negative</td>\n",
       "      <td>279</td>\n",
       "      <td>0</td>\n",
       "      <td>6</td>\n",
       "      <td>4</td>\n",
       "      <td>0:14:04,176</td>\n",
       "      <td>0:14:06,058</td>\n",
       "      <td>/Users/krazmic/.cache/kagglehub/datasets/bhand...</td>\n",
       "      <td>angry</td>\n",
       "      <td>Give me a note they are mine.</td>\n",
       "      <td>3.5</td>\n",
       "      <td>1.000000</td>\n",
       "      <td>0.00</td>\n",
       "      <td>2.500000</td>\n",
       "      <td>0.000000</td>\n",
       "    </tr>\n",
       "    <tr>\n",
       "      <th>2595</th>\n",
       "      <td>2750</td>\n",
       "      <td>No! They are mine!</td>\n",
       "      <td>Rachel</td>\n",
       "      <td>anger</td>\n",
       "      <td>negative</td>\n",
       "      <td>279</td>\n",
       "      <td>1</td>\n",
       "      <td>6</td>\n",
       "      <td>4</td>\n",
       "      <td>0:14:06,058</td>\n",
       "      <td>0:14:06,438</td>\n",
       "      <td>/Users/krazmic/.cache/kagglehub/datasets/bhand...</td>\n",
       "      <td>angry</td>\n",
       "      <td>Bye!</td>\n",
       "      <td>1.0</td>\n",
       "      <td>0.250000</td>\n",
       "      <td>0.75</td>\n",
       "      <td>0.000000</td>\n",
       "      <td>0.000000</td>\n",
       "    </tr>\n",
       "    <tr>\n",
       "      <th>2598</th>\n",
       "      <td>2753</td>\n",
       "      <td>Gimme them!</td>\n",
       "      <td>Monica</td>\n",
       "      <td>anger</td>\n",
       "      <td>negative</td>\n",
       "      <td>279</td>\n",
       "      <td>4</td>\n",
       "      <td>6</td>\n",
       "      <td>4</td>\n",
       "      <td>00:14:08,848</td>\n",
       "      <td>00:14:10,431</td>\n",
       "      <td>/Users/krazmic/.cache/kagglehub/datasets/bhand...</td>\n",
       "      <td>angry</td>\n",
       "      <td>Give me a kiss!</td>\n",
       "      <td>2.0</td>\n",
       "      <td>1.000000</td>\n",
       "      <td>0.00</td>\n",
       "      <td>1.000000</td>\n",
       "      <td>0.000000</td>\n",
       "    </tr>\n",
       "    <tr>\n",
       "      <th>2602</th>\n",
       "      <td>2757</td>\n",
       "      <td>Well</td>\n",
       "      <td>Rachel</td>\n",
       "      <td>neutral</td>\n",
       "      <td>neutral</td>\n",
       "      <td>279</td>\n",
       "      <td>8</td>\n",
       "      <td>6</td>\n",
       "      <td>4</td>\n",
       "      <td>0:14:28,200</td>\n",
       "      <td>0:14:28,784</td>\n",
       "      <td>/Users/krazmic/.cache/kagglehub/datasets/bhand...</td>\n",
       "      <td>neutral</td>\n",
       "      <td>Well...</td>\n",
       "      <td>1.0</td>\n",
       "      <td>1.000000</td>\n",
       "      <td>0.00</td>\n",
       "      <td>0.000000</td>\n",
       "      <td>0.000000</td>\n",
       "    </tr>\n",
       "    <tr>\n",
       "      <th>2603</th>\n",
       "      <td>2758</td>\n",
       "      <td>Why don’t you phase it out?</td>\n",
       "      <td>Monica</td>\n",
       "      <td>neutral</td>\n",
       "      <td>neutral</td>\n",
       "      <td>279</td>\n",
       "      <td>9</td>\n",
       "      <td>6</td>\n",
       "      <td>4</td>\n",
       "      <td>0:14:28,784</td>\n",
       "      <td>0:14:31,818</td>\n",
       "      <td>/Users/krazmic/.cache/kagglehub/datasets/bhand...</td>\n",
       "      <td>neutral</td>\n",
       "      <td>Why don't you phase it out? Yeah, phase the a...</td>\n",
       "      <td>1.0</td>\n",
       "      <td>0.166667</td>\n",
       "      <td>0.00</td>\n",
       "      <td>0.833333</td>\n",
       "      <td>0.833333</td>\n",
       "    </tr>\n",
       "  </tbody>\n",
       "</table>\n",
       "<p>671 rows × 19 columns</p>\n",
       "</div>"
      ],
      "text/plain": [
       "      Sr No.                        Utterance Speaker  Emotion Sentiment  \\\n",
       "2          3                     Y'know what?  Rachel  neutral   neutral   \n",
       "4         20                            Push!    Joey      joy  positive   \n",
       "8         24  Let's  I was justyeah, right.    Joey      joy  positive   \n",
       "9         25                            Push!    Joey      joy  positive   \n",
       "10        26                            Push!    Joey      joy  positive   \n",
       "...      ...                              ...     ...      ...       ...   \n",
       "2594    2749                      Gimme them!  Monica    anger  negative   \n",
       "2595    2750               No! They are mine!  Rachel    anger  negative   \n",
       "2598    2753                      Gimme them!  Monica    anger  negative   \n",
       "2602    2757                             Well  Rachel  neutral   neutral   \n",
       "2603    2758      Why don’t you phase it out?  Monica  neutral   neutral   \n",
       "\n",
       "      Dialogue_ID  Utterance_ID  Season  Episode     StartTime       EndTime  \\\n",
       "2               0             2       3       19  00:14:56,353  00:14:57,520   \n",
       "4               1             1       1       23   0:10:46,146   0:10:46,833   \n",
       "8               1             5       1       23  00:10:55,780  00:11:01,242   \n",
       "9               1             6       1       23   0:11:01,410   0:11:01,828   \n",
       "10              1             7       1       23   0:11:01,828   0:11:03,774   \n",
       "...           ...           ...     ...      ...           ...           ...   \n",
       "2594          279             0       6        4   0:14:04,176   0:14:06,058   \n",
       "2595          279             1       6        4   0:14:06,058   0:14:06,438   \n",
       "2598          279             4       6        4  00:14:08,848  00:14:10,431   \n",
       "2602          279             8       6        4   0:14:28,200   0:14:28,784   \n",
       "2603          279             9       6        4   0:14:28,784   0:14:31,818   \n",
       "\n",
       "                                               filename    label  \\\n",
       "2     /Users/krazmic/.cache/kagglehub/datasets/bhand...  neutral   \n",
       "4     /Users/krazmic/.cache/kagglehub/datasets/bhand...    happy   \n",
       "8     /Users/krazmic/.cache/kagglehub/datasets/bhand...    happy   \n",
       "9     /Users/krazmic/.cache/kagglehub/datasets/bhand...    happy   \n",
       "10    /Users/krazmic/.cache/kagglehub/datasets/bhand...    happy   \n",
       "...                                                 ...      ...   \n",
       "2594  /Users/krazmic/.cache/kagglehub/datasets/bhand...    angry   \n",
       "2595  /Users/krazmic/.cache/kagglehub/datasets/bhand...    angry   \n",
       "2598  /Users/krazmic/.cache/kagglehub/datasets/bhand...    angry   \n",
       "2602  /Users/krazmic/.cache/kagglehub/datasets/bhand...  neutral   \n",
       "2603  /Users/krazmic/.cache/kagglehub/datasets/bhand...  neutral   \n",
       "\n",
       "                                                   text  WER   S_ratio  \\\n",
       "2                                        You know what?  1.0  0.500000   \n",
       "4                                                  Push  1.0  1.000000   \n",
       "8                Let's get... I was just... Yeah, okay.  1.0  0.600000   \n",
       "9                                     Push, push, push!  3.0  1.000000   \n",
       "10                                          Push! Push!  1.0  0.000000   \n",
       "...                                                 ...  ...       ...   \n",
       "2594                      Give me a note they are mine.  3.5  1.000000   \n",
       "2595                                               Bye!  1.0  0.250000   \n",
       "2598                                    Give me a kiss!  2.0  1.000000   \n",
       "2602                                            Well...  1.0  1.000000   \n",
       "2603   Why don't you phase it out? Yeah, phase the a...  1.0  0.166667   \n",
       "\n",
       "      D_ratio   I_ratio  Hits_ratio  \n",
       "2        0.00  0.500000    0.500000  \n",
       "4        0.00  0.000000    0.000000  \n",
       "8        0.00  0.400000    0.400000  \n",
       "9        0.00  2.000000    0.000000  \n",
       "10       0.00  1.000000    1.000000  \n",
       "...       ...       ...         ...  \n",
       "2594     0.00  2.500000    0.000000  \n",
       "2595     0.75  0.000000    0.000000  \n",
       "2598     0.00  1.000000    0.000000  \n",
       "2602     0.00  0.000000    0.000000  \n",
       "2603     0.00  0.833333    0.833333  \n",
       "\n",
       "[671 rows x 19 columns]"
      ]
     },
     "execution_count": 51,
     "metadata": {},
     "output_type": "execute_result"
    }
   ],
   "source": [
    "df_results[df_results.WER>=1.0]"
   ]
  },
  {
   "cell_type": "code",
   "execution_count": 2,
   "id": "0d16731c",
   "metadata": {},
   "outputs": [
    {
     "data": {
      "text/html": [
       "<div>\n",
       "<style scoped>\n",
       "    .dataframe tbody tr th:only-of-type {\n",
       "        vertical-align: middle;\n",
       "    }\n",
       "\n",
       "    .dataframe tbody tr th {\n",
       "        vertical-align: top;\n",
       "    }\n",
       "\n",
       "    .dataframe thead th {\n",
       "        text-align: right;\n",
       "    }\n",
       "</style>\n",
       "<table border=\"1\" class=\"dataframe\">\n",
       "  <thead>\n",
       "    <tr style=\"text-align: right;\">\n",
       "      <th></th>\n",
       "      <th>text</th>\n",
       "      <th>label</th>\n",
       "    </tr>\n",
       "  </thead>\n",
       "  <tbody>\n",
       "    <tr>\n",
       "      <th>216</th>\n",
       "      <td>It's nothing to freak out about.</td>\n",
       "      <td>neutral</td>\n",
       "    </tr>\n",
       "    <tr>\n",
       "      <th>1752</th>\n",
       "      <td>Yes.</td>\n",
       "      <td>neutral</td>\n",
       "    </tr>\n",
       "    <tr>\n",
       "      <th>1207</th>\n",
       "      <td>Yeah, that's fine.</td>\n",
       "      <td>neutral</td>\n",
       "    </tr>\n",
       "    <tr>\n",
       "      <th>2107</th>\n",
       "      <td>I also said number one.</td>\n",
       "      <td>neutral</td>\n",
       "    </tr>\n",
       "    <tr>\n",
       "      <th>1747</th>\n",
       "      <td>No, you can't let this stop you from getting ...</td>\n",
       "      <td>sad</td>\n",
       "    </tr>\n",
       "  </tbody>\n",
       "</table>\n",
       "</div>"
      ],
      "text/plain": [
       "                                                   text    label\n",
       "216                    It's nothing to freak out about.  neutral\n",
       "1752                                               Yes.  neutral\n",
       "1207                                 Yeah, that's fine.  neutral\n",
       "2107                            I also said number one.  neutral\n",
       "1747   No, you can't let this stop you from getting ...      sad"
      ]
     },
     "execution_count": 2,
     "metadata": {},
     "output_type": "execute_result"
    }
   ],
   "source": [
    "train_df, val_df = train_test_split(df, test_size=0.3, random_state=42, stratify=df['label'])\n",
    "val_df, test_df = train_test_split(val_df, test_size=0.5, random_state=42, stratify=val_df['label'])\n",
    "#test_df = iemocap\n",
    "\n",
    "test_df.head()"
   ]
  },
  {
   "cell_type": "code",
   "execution_count": null,
   "id": "e594492b",
   "metadata": {},
   "outputs": [
    {
     "name": "stdout",
     "output_type": "stream",
     "text": [
      "Classes: {0: 'angry', 1: 'disgust', 2: 'fear', 3: 'happy', 4: 'neutral', 5: 'sad', 6: 'surprise'}\n"
     ]
    },
    {
     "name": "stderr",
     "output_type": "stream",
     "text": [
      "Map: 100%|██████████| 1782/1782 [00:00<00:00, 46635.95 examples/s]\n",
      "Map: 100%|██████████| 382/382 [00:00<00:00, 46343.22 examples/s]\n",
      "Map: 100%|██████████| 382/382 [00:00<00:00, 43330.29 examples/s]\n",
      "Some weights of AlbertForSequenceClassification were not initialized from the model checkpoint at albert-base-v2 and are newly initialized: ['classifier.weight', 'classifier.bias']\n",
      "You should probably TRAIN this model on a down-stream task to be able to use it for predictions and inference.\n",
      "Using the latest cached version of the module from /Users/krazmic/.cache/huggingface/modules/evaluate_modules/metrics/evaluate-metric--accuracy/f887c0aab52c2d38e1f8a215681126379eca617f96c447638f751434e8e65b14 (last modified on Wed Sep 10 18:03:35 2025) since it couldn't be found locally at evaluate-metric--accuracy, or remotely on the Hugging Face Hub.\n",
      "Using the latest cached version of the module from /Users/krazmic/.cache/huggingface/modules/evaluate_modules/metrics/evaluate-metric--f1/34c46321f42186df33a6260966e34a368f14868d9cc2ba47d142112e2800d233 (last modified on Wed Sep 10 18:03:36 2025) since it couldn't be found locally at evaluate-metric--f1, or remotely on the Hugging Face Hub.\n",
      "  0%|          | 0/2230 [00:00<?, ?it/s]You're using a AlbertTokenizerFast tokenizer. Please note that with a fast tokenizer, using the `__call__` method is faster than using a method to encode the text followed by a call to the `pad` method to get a padded encoding.\n",
      "  2%|▏         | 51/2230 [00:09<03:45,  9.65it/s]"
     ]
    },
    {
     "name": "stdout",
     "output_type": "stream",
     "text": [
      "{'loss': 2.8079, 'learning_rate': 0.004887892376681614, 'epoch': 0.11}\n"
     ]
    },
    {
     "name": "stderr",
     "output_type": "stream",
     "text": [
      "  5%|▍         | 102/2230 [00:14<03:38,  9.73it/s]"
     ]
    },
    {
     "name": "stdout",
     "output_type": "stream",
     "text": [
      "{'loss': 3.8789, 'learning_rate': 0.0047757847533632285, 'epoch': 0.22}\n"
     ]
    },
    {
     "name": "stderr",
     "output_type": "stream",
     "text": [
      "  7%|▋         | 152/2230 [00:19<02:57, 11.71it/s]"
     ]
    },
    {
     "name": "stdout",
     "output_type": "stream",
     "text": [
      "{'loss': 2.7581, 'learning_rate': 0.004663677130044844, 'epoch': 0.34}\n"
     ]
    },
    {
     "name": "stderr",
     "output_type": "stream",
     "text": [
      "  9%|▉         | 201/2230 [00:24<03:19, 10.15it/s]"
     ]
    },
    {
     "name": "stdout",
     "output_type": "stream",
     "text": [
      "{'loss': 2.344, 'learning_rate': 0.004551569506726457, 'epoch': 0.45}\n"
     ]
    },
    {
     "name": "stderr",
     "output_type": "stream",
     "text": [
      " 11%|█▏        | 251/2230 [00:28<02:50, 11.60it/s]"
     ]
    },
    {
     "name": "stdout",
     "output_type": "stream",
     "text": [
      "{'loss': 2.8005, 'learning_rate': 0.004439461883408072, 'epoch': 0.56}\n"
     ]
    },
    {
     "name": "stderr",
     "output_type": "stream",
     "text": [
      " 13%|█▎        | 301/2230 [00:33<03:00, 10.66it/s]"
     ]
    },
    {
     "name": "stdout",
     "output_type": "stream",
     "text": [
      "{'loss': 2.508, 'learning_rate': 0.004327354260089686, 'epoch': 0.67}\n"
     ]
    },
    {
     "name": "stderr",
     "output_type": "stream",
     "text": [
      " 16%|█▌        | 351/2230 [00:38<02:42, 11.53it/s]"
     ]
    },
    {
     "name": "stdout",
     "output_type": "stream",
     "text": [
      "{'loss': 2.1864, 'learning_rate': 0.0042152466367713, 'epoch': 0.78}\n"
     ]
    },
    {
     "name": "stderr",
     "output_type": "stream",
     "text": [
      " 18%|█▊        | 401/2230 [00:42<02:36, 11.68it/s]"
     ]
    },
    {
     "name": "stdout",
     "output_type": "stream",
     "text": [
      "{'loss': 2.3863, 'learning_rate': 0.0041031390134529154, 'epoch': 0.9}\n"
     ]
    },
    {
     "name": "stderr",
     "output_type": "stream",
     "text": [
      "                                                  \n",
      " 20%|██        | 446/2230 [00:51<02:30, 11.88it/s]"
     ]
    },
    {
     "name": "stdout",
     "output_type": "stream",
     "text": [
      "{'eval_loss': 2.065119981765747, 'eval_accuracy': 0.4816753926701571, 'eval_f1_macro': 0.0928823826350328, 'eval_runtime': 5.2726, 'eval_samples_per_second': 72.45, 'eval_steps_per_second': 9.104, 'epoch': 1.0}\n"
     ]
    },
    {
     "name": "stderr",
     "output_type": "stream",
     "text": [
      " 20%|██        | 451/2230 [00:52<15:07,  1.96it/s]"
     ]
    },
    {
     "name": "stdout",
     "output_type": "stream",
     "text": [
      "{'loss': 2.4463, 'learning_rate': 0.003991031390134529, 'epoch': 1.01}\n"
     ]
    },
    {
     "name": "stderr",
     "output_type": "stream",
     "text": [
      " 23%|██▎       | 502/2230 [00:56<02:28, 11.67it/s]"
     ]
    },
    {
     "name": "stdout",
     "output_type": "stream",
     "text": [
      "{'loss': 2.6628, 'learning_rate': 0.003878923766816144, 'epoch': 1.12}\n"
     ]
    },
    {
     "name": "stderr",
     "output_type": "stream",
     "text": [
      " 25%|██▍       | 552/2230 [01:01<02:22, 11.77it/s]"
     ]
    },
    {
     "name": "stdout",
     "output_type": "stream",
     "text": [
      "{'loss': 2.5575, 'learning_rate': 0.0037668161434977576, 'epoch': 1.23}\n"
     ]
    },
    {
     "name": "stderr",
     "output_type": "stream",
     "text": [
      " 27%|██▋       | 602/2230 [01:05<02:19, 11.70it/s]"
     ]
    },
    {
     "name": "stdout",
     "output_type": "stream",
     "text": [
      "{'loss': 2.9481, 'learning_rate': 0.0036547085201793722, 'epoch': 1.35}\n"
     ]
    },
    {
     "name": "stderr",
     "output_type": "stream",
     "text": [
      " 29%|██▉       | 652/2230 [01:09<02:15, 11.66it/s]"
     ]
    },
    {
     "name": "stdout",
     "output_type": "stream",
     "text": [
      "{'loss': 1.9495, 'learning_rate': 0.003542600896860987, 'epoch': 1.46}\n"
     ]
    },
    {
     "name": "stderr",
     "output_type": "stream",
     "text": [
      " 31%|███▏      | 702/2230 [01:13<02:09, 11.83it/s]"
     ]
    },
    {
     "name": "stdout",
     "output_type": "stream",
     "text": [
      "{'loss': 2.4296, 'learning_rate': 0.003430493273542601, 'epoch': 1.57}\n"
     ]
    },
    {
     "name": "stderr",
     "output_type": "stream",
     "text": [
      " 34%|███▎      | 752/2230 [01:18<02:07, 11.61it/s]"
     ]
    },
    {
     "name": "stdout",
     "output_type": "stream",
     "text": [
      "{'loss': 2.3123, 'learning_rate': 0.0033183856502242153, 'epoch': 1.68}\n"
     ]
    },
    {
     "name": "stderr",
     "output_type": "stream",
     "text": [
      " 36%|███▌      | 802/2230 [01:22<02:01, 11.79it/s]"
     ]
    },
    {
     "name": "stdout",
     "output_type": "stream",
     "text": [
      "{'loss': 2.1183, 'learning_rate': 0.0032062780269058295, 'epoch': 1.79}\n"
     ]
    },
    {
     "name": "stderr",
     "output_type": "stream",
     "text": [
      " 38%|███▊      | 852/2230 [01:26<01:56, 11.82it/s]"
     ]
    },
    {
     "name": "stdout",
     "output_type": "stream",
     "text": [
      "{'loss': 2.3127, 'learning_rate': 0.003094170403587444, 'epoch': 1.91}\n"
     ]
    },
    {
     "name": "stderr",
     "output_type": "stream",
     "text": [
      "                                                  \n",
      " 40%|████      | 892/2230 [01:31<02:29,  8.92it/s]"
     ]
    },
    {
     "name": "stdout",
     "output_type": "stream",
     "text": [
      "{'eval_loss': 2.387507200241089, 'eval_accuracy': 0.02617801047120419, 'eval_f1_macro': 0.00728862973760933, 'eval_runtime': 1.5279, 'eval_samples_per_second': 250.012, 'eval_steps_per_second': 31.415, 'epoch': 2.0}\n"
     ]
    },
    {
     "name": "stderr",
     "output_type": "stream",
     "text": [
      " 40%|████      | 902/2230 [01:33<03:24,  6.49it/s]"
     ]
    },
    {
     "name": "stdout",
     "output_type": "stream",
     "text": [
      "{'loss': 2.4033, 'learning_rate': 0.0029820627802690583, 'epoch': 2.02}\n"
     ]
    },
    {
     "name": "stderr",
     "output_type": "stream",
     "text": [
      " 43%|████▎     | 950/2230 [01:37<01:50, 11.54it/s]"
     ]
    },
    {
     "name": "stdout",
     "output_type": "stream",
     "text": [
      "{'loss': 2.3826, 'learning_rate': 0.0028699551569506725, 'epoch': 2.13}\n"
     ]
    },
    {
     "name": "stderr",
     "output_type": "stream",
     "text": [
      " 45%|████▍     | 1002/2230 [01:41<01:45, 11.65it/s]"
     ]
    },
    {
     "name": "stdout",
     "output_type": "stream",
     "text": [
      "{'loss': 2.1259, 'learning_rate': 0.002757847533632287, 'epoch': 2.24}\n"
     ]
    },
    {
     "name": "stderr",
     "output_type": "stream",
     "text": [
      " 47%|████▋     | 1052/2230 [01:46<01:41, 11.60it/s]"
     ]
    },
    {
     "name": "stdout",
     "output_type": "stream",
     "text": [
      "{'loss': 2.3724, 'learning_rate': 0.0026457399103139013, 'epoch': 2.35}\n"
     ]
    },
    {
     "name": "stderr",
     "output_type": "stream",
     "text": [
      " 49%|████▉     | 1102/2230 [01:50<01:38, 11.49it/s]"
     ]
    },
    {
     "name": "stdout",
     "output_type": "stream",
     "text": [
      "{'loss': 1.9971, 'learning_rate': 0.002533632286995516, 'epoch': 2.47}\n"
     ]
    },
    {
     "name": "stderr",
     "output_type": "stream",
     "text": [
      " 52%|█████▏    | 1152/2230 [01:55<01:33, 11.48it/s]"
     ]
    },
    {
     "name": "stdout",
     "output_type": "stream",
     "text": [
      "{'loss': 1.9667, 'learning_rate': 0.00242152466367713, 'epoch': 2.58}\n"
     ]
    },
    {
     "name": "stderr",
     "output_type": "stream",
     "text": [
      " 54%|█████▍    | 1202/2230 [01:59<01:27, 11.77it/s]"
     ]
    },
    {
     "name": "stdout",
     "output_type": "stream",
     "text": [
      "{'loss': 2.1385, 'learning_rate': 0.0023094170403587444, 'epoch': 2.69}\n"
     ]
    },
    {
     "name": "stderr",
     "output_type": "stream",
     "text": [
      " 56%|█████▌    | 1252/2230 [02:03<01:22, 11.82it/s]"
     ]
    },
    {
     "name": "stdout",
     "output_type": "stream",
     "text": [
      "{'loss': 1.9962, 'learning_rate': 0.0021973094170403586, 'epoch': 2.8}\n"
     ]
    },
    {
     "name": "stderr",
     "output_type": "stream",
     "text": [
      " 58%|█████▊    | 1302/2230 [02:07<01:16, 12.10it/s]"
     ]
    },
    {
     "name": "stdout",
     "output_type": "stream",
     "text": [
      "{'loss': 2.0241, 'learning_rate': 0.002085201793721973, 'epoch': 2.91}\n"
     ]
    },
    {
     "name": "stderr",
     "output_type": "stream",
     "text": [
      "                                                   \n",
      " 60%|██████    | 1338/2230 [02:12<01:18, 11.36it/s]"
     ]
    },
    {
     "name": "stdout",
     "output_type": "stream",
     "text": [
      "{'eval_loss': 2.06929349899292, 'eval_accuracy': 0.4816753926701571, 'eval_f1_macro': 0.0928823826350328, 'eval_runtime': 1.4629, 'eval_samples_per_second': 261.12, 'eval_steps_per_second': 32.811, 'epoch': 3.0}\n"
     ]
    },
    {
     "name": "stderr",
     "output_type": "stream",
     "text": [
      " 61%|██████    | 1352/2230 [02:13<01:41,  8.62it/s]"
     ]
    },
    {
     "name": "stdout",
     "output_type": "stream",
     "text": [
      "{'loss': 1.9243, 'learning_rate': 0.0019730941704035874, 'epoch': 3.03}\n"
     ]
    },
    {
     "name": "stderr",
     "output_type": "stream",
     "text": [
      " 63%|██████▎   | 1402/2230 [02:17<01:11, 11.60it/s]"
     ]
    },
    {
     "name": "stdout",
     "output_type": "stream",
     "text": [
      "{'loss': 2.1714, 'learning_rate': 0.001860986547085202, 'epoch': 3.14}\n"
     ]
    },
    {
     "name": "stderr",
     "output_type": "stream",
     "text": [
      " 65%|██████▌   | 1452/2230 [02:22<01:05, 11.91it/s]"
     ]
    },
    {
     "name": "stdout",
     "output_type": "stream",
     "text": [
      "{'loss': 1.9455, 'learning_rate': 0.0017488789237668162, 'epoch': 3.25}\n"
     ]
    },
    {
     "name": "stderr",
     "output_type": "stream",
     "text": [
      " 67%|██████▋   | 1502/2230 [02:26<01:01, 11.93it/s]"
     ]
    },
    {
     "name": "stdout",
     "output_type": "stream",
     "text": [
      "{'loss': 1.9014, 'learning_rate': 0.0016367713004484304, 'epoch': 3.36}\n"
     ]
    },
    {
     "name": "stderr",
     "output_type": "stream",
     "text": [
      " 70%|██████▉   | 1552/2230 [02:30<00:58, 11.59it/s]"
     ]
    },
    {
     "name": "stdout",
     "output_type": "stream",
     "text": [
      "{'loss': 1.9098, 'learning_rate': 0.0015246636771300448, 'epoch': 3.48}\n"
     ]
    },
    {
     "name": "stderr",
     "output_type": "stream",
     "text": [
      " 72%|███████▏  | 1602/2230 [02:34<00:53, 11.83it/s]"
     ]
    },
    {
     "name": "stdout",
     "output_type": "stream",
     "text": [
      "{'loss': 1.9613, 'learning_rate': 0.001412556053811659, 'epoch': 3.59}\n"
     ]
    },
    {
     "name": "stderr",
     "output_type": "stream",
     "text": [
      " 74%|███████▍  | 1652/2230 [02:39<00:50, 11.37it/s]"
     ]
    },
    {
     "name": "stdout",
     "output_type": "stream",
     "text": [
      "{'loss': 1.8454, 'learning_rate': 0.0013004484304932735, 'epoch': 3.7}\n"
     ]
    },
    {
     "name": "stderr",
     "output_type": "stream",
     "text": [
      " 76%|███████▋  | 1702/2230 [02:43<00:45, 11.60it/s]"
     ]
    },
    {
     "name": "stdout",
     "output_type": "stream",
     "text": [
      "{'loss': 1.9344, 'learning_rate': 0.0011883408071748879, 'epoch': 3.81}\n"
     ]
    },
    {
     "name": "stderr",
     "output_type": "stream",
     "text": [
      " 79%|███████▊  | 1752/2230 [02:47<00:42, 11.29it/s]"
     ]
    },
    {
     "name": "stdout",
     "output_type": "stream",
     "text": [
      "{'loss': 1.7784, 'learning_rate': 0.0010762331838565023, 'epoch': 3.92}\n"
     ]
    },
    {
     "name": "stderr",
     "output_type": "stream",
     "text": [
      "                                                   \n",
      " 80%|████████  | 1784/2230 [02:52<01:02,  7.14it/s]"
     ]
    },
    {
     "name": "stdout",
     "output_type": "stream",
     "text": [
      "{'eval_loss': 2.2482292652130127, 'eval_accuracy': 0.4816753926701571, 'eval_f1_macro': 0.0928823826350328, 'eval_runtime': 1.4728, 'eval_samples_per_second': 259.365, 'eval_steps_per_second': 32.59, 'epoch': 4.0}\n"
     ]
    },
    {
     "name": "stderr",
     "output_type": "stream",
     "text": [
      " 81%|████████  | 1801/2230 [02:54<00:44,  9.67it/s]"
     ]
    },
    {
     "name": "stdout",
     "output_type": "stream",
     "text": [
      "{'loss': 1.8206, 'learning_rate': 0.0009641255605381166, 'epoch': 4.04}\n"
     ]
    },
    {
     "name": "stderr",
     "output_type": "stream",
     "text": [
      " 83%|████████▎ | 1851/2230 [02:58<00:32, 11.65it/s]"
     ]
    },
    {
     "name": "stdout",
     "output_type": "stream",
     "text": [
      "{'loss': 1.5994, 'learning_rate': 0.0008520179372197309, 'epoch': 4.15}\n"
     ]
    },
    {
     "name": "stderr",
     "output_type": "stream",
     "text": [
      " 85%|████████▌ | 1901/2230 [03:02<00:28, 11.54it/s]"
     ]
    },
    {
     "name": "stdout",
     "output_type": "stream",
     "text": [
      "{'loss': 1.7673, 'learning_rate': 0.0007399103139013453, 'epoch': 4.26}\n"
     ]
    },
    {
     "name": "stderr",
     "output_type": "stream",
     "text": [
      " 87%|████████▋ | 1951/2230 [03:06<00:23, 11.81it/s]"
     ]
    },
    {
     "name": "stdout",
     "output_type": "stream",
     "text": [
      "{'loss': 1.6927, 'learning_rate': 0.0006278026905829596, 'epoch': 4.37}\n"
     ]
    },
    {
     "name": "stderr",
     "output_type": "stream",
     "text": [
      " 90%|████████▉ | 2001/2230 [03:11<00:19, 11.80it/s]"
     ]
    },
    {
     "name": "stdout",
     "output_type": "stream",
     "text": [
      "{'loss': 1.5978, 'learning_rate': 0.000515695067264574, 'epoch': 4.48}\n"
     ]
    },
    {
     "name": "stderr",
     "output_type": "stream",
     "text": [
      " 92%|█████████▏| 2051/2230 [03:15<00:15, 11.75it/s]"
     ]
    },
    {
     "name": "stdout",
     "output_type": "stream",
     "text": [
      "{'loss': 1.7515, 'learning_rate': 0.00040358744394618836, 'epoch': 4.6}\n"
     ]
    },
    {
     "name": "stderr",
     "output_type": "stream",
     "text": [
      " 94%|█████████▍| 2101/2230 [03:19<00:11, 11.56it/s]"
     ]
    },
    {
     "name": "stdout",
     "output_type": "stream",
     "text": [
      "{'loss': 1.7593, 'learning_rate': 0.0002914798206278027, 'epoch': 4.71}\n"
     ]
    },
    {
     "name": "stderr",
     "output_type": "stream",
     "text": [
      " 96%|█████████▋| 2151/2230 [03:24<00:06, 11.69it/s]"
     ]
    },
    {
     "name": "stdout",
     "output_type": "stream",
     "text": [
      "{'loss': 1.6073, 'learning_rate': 0.00017937219730941703, 'epoch': 4.82}\n"
     ]
    },
    {
     "name": "stderr",
     "output_type": "stream",
     "text": [
      " 99%|█████████▊| 2201/2230 [03:28<00:02, 11.97it/s]"
     ]
    },
    {
     "name": "stdout",
     "output_type": "stream",
     "text": [
      "{'loss': 1.6338, 'learning_rate': 6.72645739910314e-05, 'epoch': 4.93}\n"
     ]
    },
    {
     "name": "stderr",
     "output_type": "stream",
     "text": [
      "                                                   \n",
      "100%|██████████| 2230/2230 [03:32<00:00, 11.63it/s]"
     ]
    },
    {
     "name": "stdout",
     "output_type": "stream",
     "text": [
      "{'eval_loss': 1.527614712715149, 'eval_accuracy': 0.4816753926701571, 'eval_f1_macro': 0.0928823826350328, 'eval_runtime': 1.4825, 'eval_samples_per_second': 257.681, 'eval_steps_per_second': 32.379, 'epoch': 5.0}\n"
     ]
    },
    {
     "name": "stderr",
     "output_type": "stream",
     "text": [
      "100%|██████████| 2230/2230 [03:32<00:00, 10.49it/s]\n"
     ]
    },
    {
     "name": "stdout",
     "output_type": "stream",
     "text": [
      "{'train_runtime': 212.6754, 'train_samples_per_second': 41.895, 'train_steps_per_second': 10.485, 'train_loss': 2.1627641053477746, 'epoch': 5.0}\n"
     ]
    },
    {
     "name": "stderr",
     "output_type": "stream",
     "text": [
      "100%|██████████| 48/48 [00:02<00:00, 17.83it/s]"
     ]
    },
    {
     "name": "stdout",
     "output_type": "stream",
     "text": [
      "Final test results: {'eval_loss': 2.091597557067871, 'eval_accuracy': 0.4790575916230366, 'eval_f1_macro': 0.09254108723135271, 'eval_runtime': 2.7417, 'eval_samples_per_second': 139.327, 'eval_steps_per_second': 17.507, 'epoch': 5.0}\n"
     ]
    },
    {
     "name": "stderr",
     "output_type": "stream",
     "text": [
      "\n"
     ]
    }
   ],
   "source": [
    "\n",
    "\n",
    "# ===========\n",
    "# 2) encode labels (string -> int)\n",
    "# ===========\n",
    "le = LabelEncoder()\n",
    "le.fit(train_df[\"label\"])\n",
    "\n",
    "train_df[\"label_id\"] = le.transform(train_df[\"label\"])\n",
    "val_df[\"label_id\"]   = le.transform(val_df[\"label\"])\n",
    "test_df[\"label_id\"]  = le.transform(test_df[\"label\"])\n",
    "\n",
    "id2label = {i: l for i, l in enumerate(le.classes_)}\n",
    "label2id = {l: i for i, l in id2label.items()}\n",
    "\n",
    "print(\"Classes:\", id2label)\n",
    "\n",
    "\n",
    "# ===========\n",
    "# 3) Convert pandas -> Hugging Face Dataset\n",
    "# ===========\n",
    "train_ds = Dataset.from_pandas(train_df[[\"text\",\"label_id\"]].rename(columns={\"label_id\":\"labels\"}))\n",
    "val_ds   = Dataset.from_pandas(val_df[[\"text\",\"label_id\"]].rename(columns={\"label_id\":\"labels\"}))\n",
    "test_ds  = Dataset.from_pandas(test_df[[\"text\",\"label_id\"]].rename(columns={\"label_id\":\"labels\"}))\n",
    "\n",
    "dataset = DatasetDict({\n",
    "    \"train\": train_ds,\n",
    "    \"validation\": val_ds,\n",
    "    \"test\": test_ds\n",
    "})\n",
    "\n",
    "# ===========\n",
    "# 4) Tokenizer & model\n",
    "# ===========\n",
    "model_name = \"albert-base-v2\" # MELD - \n",
    "#model_name = \"distilbert-base-multilingual-cased\"\n",
    "#model_name = \"nlptown/bert-base-multilingual-uncased-sentiment\"\n",
    "#model_name = \"xlm-roberta-base\"\n",
    "#model_name = \"cardiffnlp/twitter-xlm-roberta-base-emotion\"#\"distilroberta-base\"\n",
    "#model_name = \"meta-llama/Llama-3.2-1B\" #\"cardiffnlp/twitter-xlm-roberta-base-emotion\"\n",
    "tok = AutoTokenizer.from_pretrained(model_name)\n",
    "\n",
    "def tokenize(batch):\n",
    "    return tok(batch[\"text\"], truncation=True, max_length=64) #128\n",
    "\n",
    "\n",
    "\n",
    "dataset_tok = dataset.map(tokenize, batched=True)\n",
    "collator = DataCollatorWithPadding(tokenizer=tok)\n",
    "\n",
    "cfg = AutoConfig.from_pretrained(model_name, num_labels=len(le.classes_), id2label=id2label, label2id=label2id)\n",
    "model = AutoModelForSequenceClassification.from_pretrained(model_name, config=cfg)\n",
    "\n",
    "# ===========\n",
    "# 5) Metrics\n",
    "# ===========\n",
    "acc = evaluate.load(\"accuracy\")\n",
    "f1 = evaluate.load(\"f1\")\n",
    "\n",
    "def compute_metrics(eval_pred):\n",
    "    logits, labels = eval_pred\n",
    "    preds = np.argmax(logits, axis=-1)\n",
    "    return {\n",
    "        \"accuracy\": acc.compute(predictions=preds, references=labels)[\"accuracy\"],\n",
    "        \"f1_macro\": f1.compute(predictions=preds, references=labels, average=\"macro\")[\"f1\"],\n",
    "    }\n",
    "\n",
    "# ===========\n",
    "# 6) Trainer\n",
    "# ===========\n",
    "args = TrainingArguments(\n",
    "    output_dir=model_name+\"_train\",#\"mdistilbert_emotions\",\n",
    "    #eval_strategy=\"epoch\",\n",
    "    evaluation_strategy=\"epoch\",#\"epoch\",\n",
    "    save_strategy=\"epoch\",\n",
    "    learning_rate=5e-3,#5e-5,\n",
    "    per_device_train_batch_size=4,#16,\n",
    "    per_device_eval_batch_size=8,#32,\n",
    "    num_train_epochs=5,\n",
    "    weight_decay=0.01,\n",
    "    load_best_model_at_end=True,\n",
    "    metric_for_best_model=\"accuracy\", #\"f1_macro\",\n",
    "    logging_steps=50,\n",
    "    report_to=\"none\",\n",
    "    #fp16=True,\n",
    ")\n",
    "\n",
    "trainer = Trainer(\n",
    "    model=model,\n",
    "    args=args,\n",
    "    train_dataset=dataset_tok[\"train\"],\n",
    "    eval_dataset=dataset_tok[\"validation\"],\n",
    "    tokenizer=tok,\n",
    "    data_collator=collator,\n",
    "    compute_metrics=compute_metrics,\n",
    ")\n",
    "\n",
    "# ===========\n",
    "# 7) Train and evaluate\n",
    "# ===========\n",
    "trainer.train()\n",
    "print(\"Final test results:\", trainer.evaluate(dataset_tok[\"test\"]))\n",
    "\n",
    "# distilbert emodb+tess--iemocap 3ep 21,09"
   ]
  },
  {
   "cell_type": "markdown",
   "id": "b8271ed3",
   "metadata": {},
   "source": [
    "{'loss': 24.9592, 'grad_norm': 1.0552517175674438, 'learning_rate': 0.048660235798499464, 'epoch': 0.08}\n",
    "{'loss': 1.5166, 'grad_norm': 0.22348372638225555, 'learning_rate': 0.04732047159699893, 'epoch': 0.16}\n",
    "{'loss': 1.3658, 'grad_norm': 0.3004882335662842, 'learning_rate': 0.045980707395498394, 'epoch': 0.24}\n",
    "{'loss': 1.3918, 'grad_norm': 0.25394704937934875, 'learning_rate': 0.04464094319399786, 'epoch': 0.32}\n",
    "{'loss': 1.3852, 'grad_norm': 0.3115262985229492, 'learning_rate': 0.04330117899249732, 'epoch': 0.4}\n",
    "{'loss': 1.3673, 'grad_norm': 0.3080769181251526, 'learning_rate': 0.04196141479099679, 'epoch': 0.48}\n",
    "{'loss': 1.3941, 'grad_norm': 0.1880466192960739, 'learning_rate': 0.04062165058949625, 'epoch': 0.56}"
   ]
  },
  {
   "cell_type": "code",
   "execution_count": 4,
   "id": "f64b7dd0",
   "metadata": {},
   "outputs": [
    {
     "name": "stderr",
     "output_type": "stream",
     "text": [
      "100%|██████████| 48/48 [00:01<00:00, 33.04it/s]"
     ]
    },
    {
     "name": "stdout",
     "output_type": "stream",
     "text": [
      "              precision    recall  f1-score   support\n",
      "\n",
      "       angry       0.00      0.00      0.00        50\n",
      "     disgust       0.00      0.00      0.00        10\n",
      "        fear       0.00      0.00      0.00         8\n",
      "       happy       0.00      0.00      0.00        59\n",
      "     neutral       0.48      1.00      0.65       183\n",
      "         sad       0.00      0.00      0.00        31\n",
      "    surprise       0.00      0.00      0.00        41\n",
      "\n",
      "    accuracy                           0.48       382\n",
      "   macro avg       0.07      0.14      0.09       382\n",
      "weighted avg       0.23      0.48      0.31       382\n",
      "\n"
     ]
    },
    {
     "name": "stderr",
     "output_type": "stream",
     "text": [
      "\n"
     ]
    }
   ],
   "source": [
    "from sklearn.metrics import classification_report\n",
    "\n",
    "preds = trainer.predict(dataset_tok[\"test\"])\n",
    "print(classification_report(preds.label_ids, np.argmax(preds.predictions, axis=1), target_names=le.classes_))\n"
   ]
  },
  {
   "cell_type": "markdown",
   "id": "4c1c70d1",
   "metadata": {},
   "source": [
    "## Experiment 4"
   ]
  },
  {
   "cell_type": "code",
   "execution_count": 2,
   "id": "3ec0cb69",
   "metadata": {},
   "outputs": [
    {
     "ename": "NameError",
     "evalue": "name 'test_df' is not defined",
     "output_type": "error",
     "traceback": [
      "\u001b[31m---------------------------------------------------------------------------\u001b[39m",
      "\u001b[31mNameError\u001b[39m                                 Traceback (most recent call last)",
      "\u001b[36mCell\u001b[39m\u001b[36m \u001b[39m\u001b[32mIn[2]\u001b[39m\u001b[32m, line 10\u001b[39m\n\u001b[32m      8\u001b[39m \u001b[38;5;28;01mfrom\u001b[39;00m\u001b[38;5;250m \u001b[39m\u001b[34;01msrc\u001b[39;00m\u001b[34;01m.\u001b[39;00m\u001b[34;01mevaluation\u001b[39;00m\u001b[38;5;250m \u001b[39m\u001b[38;5;28;01mimport\u001b[39;00m plot_confusion_matrix\n\u001b[32m      9\u001b[39m \u001b[38;5;28;01mfrom\u001b[39;00m\u001b[38;5;250m \u001b[39m\u001b[34;01msklearn\u001b[39;00m\u001b[34;01m.\u001b[39;00m\u001b[34;01mmetrics\u001b[39;00m\u001b[38;5;250m \u001b[39m\u001b[38;5;28;01mimport\u001b[39;00m classification_report, confusion_matrix\n\u001b[32m---> \u001b[39m\u001b[32m10\u001b[39m df = \u001b[43mtest_df\u001b[49m\n",
      "\u001b[31mNameError\u001b[39m: name 'test_df' is not defined"
     ]
    }
   ],
   "source": [
    "import pandas as pd\n",
    "from tqdm import tqdm\n",
    "tqdm.pandas()\n",
    "import os, sys\n",
    "module_path = os.path.abspath(os.path.join('..', '..')) # or the path to your source code\n",
    "sys.path.insert(0, module_path)\n",
    "from src.recognizers import TextEmotionRecognizer\n",
    "from src.evaluation import plot_confusion_matrix\n",
    "from sklearn.metrics import classification_report, confusion_matrix\n",
    "df = test_df"
   ]
  },
  {
   "cell_type": "code",
   "execution_count": 4,
   "id": "9bafbcfa",
   "metadata": {},
   "outputs": [
    {
     "name": "stderr",
     "output_type": "stream",
     "text": [
      "100%|██████████| 382/382 [02:02<00:00,  3.11it/s]"
     ]
    },
    {
     "name": "stdout",
     "output_type": "stream",
     "text": [
      "              precision    recall  f1-score   support\n",
      "\n",
      "       angry       0.31      0.24      0.27        50\n",
      "     disgust       0.05      0.10      0.07        10\n",
      "        fear       0.07      0.12      0.09         8\n",
      "       happy       0.30      0.12      0.17        59\n",
      "     neutral       0.80      0.17      0.29       183\n",
      "         sad       0.28      0.16      0.20        31\n",
      "    surprise       0.13      0.73      0.22        41\n",
      "\n",
      "    accuracy                           0.23       382\n",
      "   macro avg       0.28      0.24      0.19       382\n",
      "weighted avg       0.51      0.23      0.24       382\n",
      "\n"
     ]
    },
    {
     "name": "stderr",
     "output_type": "stream",
     "text": [
      "\n"
     ]
    },
    {
     "data": {
      "image/png": "[encoded data removed]",
      "text/plain": [
       "<Figure size 600x500 with 2 Axes>"
      ]
     },
     "metadata": {},
     "output_type": "display_data"
    }
   ],
   "source": [
    "ter = TextEmotionRecognizer(\"gemma3:4b\")\n",
    "df['pred'] = df['text'].progress_apply(ter.analyze)\n",
    "\n",
    "print(classification_report(df['label'], df['pred']))\n",
    "plot_confusion_matrix(df['label'], df['pred'])"
   ]
  },
  {
   "cell_type": "code",
   "execution_count": 5,
   "id": "b71f0c8b",
   "metadata": {},
   "outputs": [
    {
     "name": "stderr",
     "output_type": "stream",
     "text": [
      "100%|██████████| 382/382 [03:25<00:00,  1.85it/s]"
     ]
    },
    {
     "name": "stdout",
     "output_type": "stream",
     "text": [
      "              precision    recall  f1-score   support\n",
      "\n",
      "       angry       0.40      0.24      0.30        50\n",
      "     disgust       0.11      0.20      0.14        10\n",
      "        fear       0.08      0.12      0.10         8\n",
      "       happy       0.40      0.10      0.16        59\n",
      "     neutral       0.58      0.65      0.61       183\n",
      "         sad       0.67      0.19      0.30        31\n",
      "    surprise       0.21      0.46      0.29        41\n",
      "\n",
      "    accuracy                           0.43       382\n",
      "   macro avg       0.35      0.28      0.27       382\n",
      "weighted avg       0.47      0.43      0.42       382\n",
      "\n"
     ]
    },
    {
     "name": "stderr",
     "output_type": "stream",
     "text": [
      "\n"
     ]
    },
    {
     "data": {
      "image/png": "[encoded data removed]",
      "text/plain": [
       "<Figure size 600x500 with 2 Axes>"
      ]
     },
     "metadata": {},
     "output_type": "display_data"
    }
   ],
   "source": [
    "ter = TextEmotionRecognizer(\"gemma2\")\n",
    "df['pred'] = df['text'].progress_apply(ter.analyze)\n",
    "\n",
    "print(classification_report(df['label'], df['pred']))\n",
    "plot_confusion_matrix(df['label'], df['pred'])"
   ]
  },
  {
   "cell_type": "code",
   "execution_count": null,
   "id": "d1fbf1c7",
   "metadata": {},
   "outputs": [
    {
     "name": "stderr",
     "output_type": "stream",
     "text": [
      " 38%|███▊      | 147/382 [01:06<01:39,  2.36it/s]"
     ]
    }
   ],
   "source": [
    "ter = TextEmotionRecognizer(\"gemma\")\n",
    "df['pred'] = df['text'].progress_apply(ter.analyze)\n",
    "\n",
    "print(classification_report(df['label'], df['pred']))\n",
    "plot_confusion_matrix(df['label'], df['pred'])"
   ]
  },
  {
   "cell_type": "code",
   "execution_count": null,
   "id": "81f2c9c1",
   "metadata": {},
   "outputs": [],
   "source": [
    "ter = TextEmotionRecognizer(\"qwen\")\n",
    "df['pred'] = df['text'].progress_apply(ter.analyze)\n",
    "\n",
    "print(classification_report(df['label'], df['pred']))\n",
    "plot_confusion_matrix(df['label'], df['pred'])"
   ]
  },
  {
   "cell_type": "code",
   "execution_count": null,
   "id": "99c07f23",
   "metadata": {},
   "outputs": [],
   "source": [
    "ter = TextEmotionRecognizer(\"glm4\")\n",
    "df['pred'] = df['text'].progress_apply(ter.analyze)\n",
    "\n",
    "print(classification_report(df['label'], df['pred']))\n",
    "plot_confusion_matrix(df['label'], df['pred'])"
   ]
  },
  {
   "cell_type": "code",
   "execution_count": null,
   "id": "8d1ac2cf",
   "metadata": {},
   "outputs": [],
   "source": [
    "ter = TextEmotionRecognizer(\"mistral\")\n",
    "df['pred'] = df['text'].progress_apply(ter.analyze)\n",
    "\n",
    "print(classification_report(df['label'], df['pred']))\n",
    "plot_confusion_matrix(df['label'], df['pred'])"
   ]
  },
  {
   "cell_type": "code",
   "execution_count": 4,
   "id": "960e68d1",
   "metadata": {},
   "outputs": [
    {
     "name": "stdout",
     "output_type": "stream",
     "text": [
      "Collecting gensim\n",
      "  Downloading gensim-4.3.3-cp311-cp311-macosx_11_0_arm64.whl.metadata (8.1 kB)\n",
      "Requirement already satisfied: numpy<2.0,>=1.18.5 in /Users/krazmic/Documents/GitHub/Repos/EmoReA/.venv/lib/python3.11/site-packages (from gensim) (1.26.4)\n",
      "Collecting scipy<1.14.0,>=1.7.0 (from gensim)\n",
      "  Downloading scipy-1.13.1-cp311-cp311-macosx_12_0_arm64.whl.metadata (60 kB)\n",
      "Collecting smart-open>=1.8.1 (from gensim)\n",
      "  Downloading smart_open-7.3.1-py3-none-any.whl.metadata (24 kB)\n",
      "Requirement already satisfied: wrapt in /Users/krazmic/Documents/GitHub/Repos/EmoReA/.venv/lib/python3.11/site-packages (from smart-open>=1.8.1->gensim) (1.14.2)\n",
      "Downloading gensim-4.3.3-cp311-cp311-macosx_11_0_arm64.whl (24.0 MB)\n",
      "\u001b[2K   \u001b[90m━━━━━━━━━━━━━━━━━━━━━━━━━━━━━━━━━━━━━━━━\u001b[0m \u001b[32m24.0/24.0 MB\u001b[0m \u001b[31m24.3 MB/s\u001b[0m  \u001b[33m0:00:01\u001b[0m eta \u001b[36m0:00:01\u001b[0m\n",
      "\u001b[?25hDownloading scipy-1.13.1-cp311-cp311-macosx_12_0_arm64.whl (30.3 MB)\n",
      "\u001b[2K   \u001b[90m━━━━━━━━━━━━━━━━━━━━━━━━━━━━━━━━━━━━━━━━\u001b[0m \u001b[32m30.3/30.3 MB\u001b[0m \u001b[31m37.1 MB/s\u001b[0m  \u001b[33m0:00:00\u001b[0m eta \u001b[36m0:00:01\u001b[0m\n",
      "\u001b[?25hDownloading smart_open-7.3.1-py3-none-any.whl (61 kB)\n",
      "Installing collected packages: smart-open, scipy, gensim\n",
      "\u001b[2K  Attempting uninstall: scipy\n",
      "\u001b[2K    Found existing installation: scipy 1.16.1\n",
      "\u001b[2K    Uninstalling scipy-1.16.1:\n",
      "\u001b[2K      Successfully uninstalled scipy-1.16.1\n",
      "\u001b[2K   \u001b[90m━━━━━━━━━━━━━━━━━━━━━━━━━━━━━━━━━━━━━━━━\u001b[0m \u001b[32m3/3\u001b[0m [gensim]2m2/3\u001b[0m [gensim]\n",
      "\u001b[1A\u001b[2KSuccessfully installed gensim-4.3.3 scipy-1.13.1 smart-open-7.3.1\n"
     ]
    }
   ],
   "source": [
    "!pip install gensim"
   ]
  },
  {
   "cell_type": "code",
   "execution_count": 5,
   "id": "8c810454",
   "metadata": {},
   "outputs": [],
   "source": [
    "import pandas as pd\n",
    "import numpy as np\n",
    "from sklearn.model_selection import GridSearchCV, LeaveOneOut\n",
    "from sklearn.pipeline import Pipeline\n",
    "from sklearn.base import TransformerMixin, BaseEstimator\n",
    "from sklearn.svm import SVC\n",
    "from sklearn.ensemble import RandomForestClassifier\n",
    "from sklearn.naive_bayes import GaussianNB\n",
    "from sklearn.linear_model import LogisticRegression\n",
    "from sklearn.preprocessing import StandardScaler\n",
    "from gensim.models import Word2Vec, KeyedVectors\n",
    "import gensim.downloader as api\n",
    "\n",
    "# -----------------\n",
    "# Embedding Transformers\n",
    "# -----------------\n",
    "class Word2VecTransformer(BaseEstimator, TransformerMixin):\n",
    "    def __init__(self, size=100, window=5, min_count=1):\n",
    "        self.size = size\n",
    "        self.window = window\n",
    "        self.min_count = min_count\n",
    "        self.model = None\n",
    "\n",
    "    def fit(self, X, y=None):\n",
    "        tokenized = [t.split() for t in X]\n",
    "        self.model = Word2Vec(sentences=tokenized, vector_size=self.size,\n",
    "                              window=self.window, min_count=self.min_count, workers=4)\n",
    "        return self\n",
    "\n",
    "    def transform(self, X):\n",
    "        tokenized = [t.split() for t in X]\n",
    "        features = []\n",
    "        for tokens in tokenized:\n",
    "            vecs = [self.model.wv[w] for w in tokens if w in self.model.wv]\n",
    "            if len(vecs) > 0:\n",
    "                features.append(np.mean(vecs, axis=0))\n",
    "            else:\n",
    "                features.append(np.zeros(self.size))\n",
    "        return np.array(features)\n",
    "\n",
    "\n",
    "class GloVeTransformer(BaseEstimator, TransformerMixin):\n",
    "    def __init__(self, size=100):\n",
    "        self.size = size\n",
    "        self.glove = None\n",
    "\n",
    "    def fit(self, X, y=None):\n",
    "        # load pretrained GloVe from gensim (small version)\n",
    "        self.glove = api.load(f'glove-wiki-gigaword-{self.size}')\n",
    "        return self\n",
    "\n",
    "    def transform(self, X):\n",
    "        tokenized = [t.split() for t in X]\n",
    "        features = []\n",
    "        for tokens in tokenized:\n",
    "            vecs = [self.glove[w] for w in tokens if w in self.glove]\n",
    "            if len(vecs) > 0:\n",
    "                features.append(np.mean(vecs, axis=0))\n",
    "            else:\n",
    "                features.append(np.zeros(self.size))\n",
    "        return np.array(features)\n",
    "\n",
    "\n",
    "# -----------------\n",
    "# Experiment Function\n",
    "# -----------------\n",
    "def run_experiment(df):\n",
    "    X = df['text']\n",
    "    y = df['label']\n",
    "\n",
    "    loo = LeaveOneOut()\n",
    "\n",
    "    classifiers = {\n",
    "        'SVM': (SVC(), {'clf__C': [0.1, 1, 10], 'clf__kernel': ['linear', 'rbf']}),\n",
    "        'RandomForest': (RandomForestClassifier(), {'clf__n_estimators': [50, 100]}),\n",
    "        'NaiveBayes': (GaussianNB(), {}),\n",
    "        'LogReg': (LogisticRegression(max_iter=500), {'clf__C': [0.1, 1, 10]})\n",
    "    }\n",
    "\n",
    "    embeddings = {\n",
    "        'Word2Vec': Word2VecTransformer(size=100),\n",
    "        'GloVe': GloVeTransformer(size=100)\n",
    "    }\n",
    "\n",
    "    results = {}\n",
    "\n",
    "    for emb_name, emb in embeddings.items():\n",
    "        for clf_name, (clf, params) in classifiers.items():\n",
    "            pipe = Pipeline([\n",
    "                ('emb', emb),\n",
    "                ('scaler', StandardScaler()),\n",
    "                ('clf', clf)\n",
    "            ])\n",
    "\n",
    "            grid = GridSearchCV(pipe, param_grid=params, cv=loo, scoring='accuracy', n_jobs=-1)\n",
    "            grid.fit(X, y)\n",
    "\n",
    "            results[(emb_name, clf_name)] = grid.best_score_\n",
    "\n",
    "    return results\n",
    "\n",
    "\n"
   ]
  },
  {
   "cell_type": "code",
   "execution_count": null,
   "id": "3b34a1f2",
   "metadata": {},
   "outputs": [],
   "source": [
    "results = run_experiment(df)\n",
    "print(\"Results:\")\n",
    "for k, v in results.items():\n",
    "    print(k, v)"
   ]
  },
  {
   "cell_type": "code",
   "execution_count": null,
   "id": "ff4cee78",
   "metadata": {},
   "outputs": [],
   "source": []
  }
 ],
 "metadata": {
  "kernelspec": {
   "display_name": ".venv",
   "language": "python",
   "name": "python3"
  },
  "language_info": {
   "codemirror_mode": {
    "name": "ipython",
    "version": 3
   },
   "file_extension": ".py",
   "mimetype": "text/x-python",
   "name": "python",
   "nbconvert_exporter": "python",
   "pygments_lexer": "ipython3",
   "version": "3.11.13"
  }
 },
 "nbformat": 4,
 "nbformat_minor": 5
}
