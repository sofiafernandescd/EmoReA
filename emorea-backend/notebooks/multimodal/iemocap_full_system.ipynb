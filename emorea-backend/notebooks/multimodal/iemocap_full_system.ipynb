{
 "cells": [
  {
   "cell_type": "markdown",
   "id": "40f317d1",
   "metadata": {},
   "source": [
    "## Multimodal Emotion Recognition - Full system\n",
    "\n",
    "### FileProcessor"
   ]
  },
  {
   "cell_type": "code",
   "execution_count": 1,
   "id": "75ae0d4d",
   "metadata": {},
   "outputs": [],
   "source": [
    "import pandas as pd\n",
    "from tqdm import tqdm\n",
    "tqdm.pandas(desc=\"Processing...\")\n",
    "import sys\n",
    "import os\n",
    "# insert the path to the source code directory\n",
    "module_path = os.path.abspath(os.path.join('..', '..')) \n",
    "sys.path.insert(0, module_path)\n",
    "\n"
   ]
  },
  {
   "cell_type": "code",
   "execution_count": 2,
   "id": "73ad9212",
   "metadata": {},
   "outputs": [
    {
     "name": "stderr",
     "output_type": "stream",
     "text": [
      "/Users/sofiafernandes/miniconda3/envs/varm/lib/python3.8/site-packages/tqdm/auto.py:21: TqdmWarning: IProgress not found. Please update jupyter and ipywidgets. See https://ipywidgets.readthedocs.io/en/stable/user_install.html\n",
      "  from .autonotebook import tqdm as notebook_tqdm\n"
     ]
    },
    {
     "name": "stdout",
     "output_type": "stream",
     "text": [
      "Warning: Looks like you're using an outdated `kagglehub` version, please consider updating (latest version: 0.3.12)\n",
      "Subfolders in the dataset: ['IEMOCAP_full_release']\n",
      "Warning: Looks like you're using an outdated `kagglehub` version, please consider updating (latest version: 0.3.12)\n"
     ]
    },
    {
     "name": "stderr",
     "output_type": "stream",
     "text": [
      "Processing...: 100%|██████████| 100/100 [00:00<00:00, 35818.14it/s]"
     ]
    },
    {
     "name": "stdout",
     "output_type": "stream",
     "text": [
      "      session  method gender emotion  n_annotators  agreement  \\\n",
      "309         1   impro      M     sad             4          4   \n",
      "3670        3  script      F     ang             3          3   \n",
      "1293        1   impro      M     ang             4          4   \n",
      "683         1  script      F     neu             3          2   \n",
      "4335        3   impro      F     sad             4          4   \n",
      "\n",
      "                                                   path  \\\n",
      "309   Session1/sentences/wav/Ses01M_impro06/Ses01M_i...   \n",
      "3670  Session3/sentences/wav/Ses03F_script03_2/Ses03...   \n",
      "1293  Session1/sentences/wav/Ses01M_impro01/Ses01M_i...   \n",
      "683   Session1/sentences/wav/Ses01F_script02_2/Ses01...   \n",
      "4335  Session3/sentences/wav/Ses03F_impro06/Ses03F_i...   \n",
      "\n",
      "                                               filename  \n",
      "309   /Users/sofiafernandes/.cache/kagglehub/dataset...  \n",
      "3670  /Users/sofiafernandes/.cache/kagglehub/dataset...  \n",
      "1293  /Users/sofiafernandes/.cache/kagglehub/dataset...  \n",
      "683   /Users/sofiafernandes/.cache/kagglehub/dataset...  \n",
      "4335  /Users/sofiafernandes/.cache/kagglehub/dataset...  \n",
      "emotion\n",
      "neu    38\n",
      "ang    25\n",
      "sad    24\n",
      "hap    13\n",
      "Name: count, dtype: int64\n"
     ]
    },
    {
     "name": "stderr",
     "output_type": "stream",
     "text": [
      "\n"
     ]
    }
   ],
   "source": [
    "import kagglehub\n",
    "\n",
    "# Download dataset\n",
    "file_path = kagglehub.dataset_download(\"dejolilandry/iemocapfullrelease\")\n",
    "# Check subfolders\n",
    "print(\"Subfolders in the dataset:\", os.listdir(file_path))\n",
    "\n",
    "labels_path = kagglehub.dataset_download(\"samuelsamsudinng/iemocap-emotion-speech-database\")\n",
    "labels_path = os.path.join(labels_path, \"iemocap_full_dataset.csv\")\n",
    "# Load the labels CSV file\n",
    "labels_df = pd.read_csv(labels_path)\n",
    "allowed_emotions = ['neu', 'sad', 'ang', 'hap', 'sur', 'fea', 'dis']\n",
    "df = labels_df[labels_df['emotion'].isin(allowed_emotions)].sample(100)\n",
    "df['filename'] = df['path'].progress_apply(lambda x: os.path.join(file_path, \"IEMOCAP_full_release\", x))\n",
    "print(df.head())\n",
    "print(df['emotion'].value_counts())"
   ]
  },
  {
   "cell_type": "code",
   "execution_count": 3,
   "id": "8febbbe8",
   "metadata": {},
   "outputs": [
    {
     "name": "stderr",
     "output_type": "stream",
     "text": [
      "2025-08-03 15:39:55.366348: I tensorflow/core/platform/cpu_feature_guard.cc:182] This TensorFlow binary is optimized to use available CPU instructions in performance-critical operations.\n",
      "To enable the following instructions: AVX2 FMA, in other operations, rebuild TensorFlow with the appropriate compiler flags.\n"
     ]
    }
   ],
   "source": [
    "from tqdm import tqdm\n",
    "tqdm.pandas(desc=\"Processing...\")\n",
    "from src.processor import FileProcessor\n",
    "from src.recognizers import SpeechEmotionRecognizer\n",
    "\n",
    "# Initialize the FileProcessor\n",
    "processor = FileProcessor()\n",
    "# Initialize the SpeechEmotionRecognizer\n",
    "recognizer = SpeechEmotionRecognizer()\n",
    "\n",
    "def analyze_file(file_path):\n",
    "    # Process the file to extract audio\n",
    "    modalities = processor.process_file(file_path)\n",
    "    # Recognize emotion from the audio\n",
    "    emotion = recognizer.analyze(modalities['audio']['raw'], modalities['audio']['sample_rate'])\n",
    "    return emotion\n",
    "\n",
    "#df['preds_audio2'] = df['filename'].progress_apply(analyze_file)\n"
   ]
  },
  {
   "cell_type": "code",
   "execution_count": 4,
   "id": "2a8c726b",
   "metadata": {},
   "outputs": [
    {
     "name": "stderr",
     "output_type": "stream",
     "text": [
      "Processing...: 100%|██████████| 100/100 [16:49<00:00, 10.10s/it]\n"
     ]
    }
   ],
   "source": [
    "from tqdm import tqdm\n",
    "tqdm.pandas(desc=\"Processing...\")\n",
    "from src.assistant import EmotionRecognitionAssistant\n",
    "assistant = EmotionRecognitionAssistant()\n",
    "df['preds'] = df['filename'].progress_apply(assistant.analyze)"
   ]
  },
  {
   "cell_type": "code",
   "execution_count": 5,
   "id": "0f08933d",
   "metadata": {},
   "outputs": [
    {
     "data": {
      "text/html": [
       "<div>\n",
       "<style scoped>\n",
       "    .dataframe tbody tr th:only-of-type {\n",
       "        vertical-align: middle;\n",
       "    }\n",
       "\n",
       "    .dataframe tbody tr th {\n",
       "        vertical-align: top;\n",
       "    }\n",
       "\n",
       "    .dataframe thead th {\n",
       "        text-align: right;\n",
       "    }\n",
       "</style>\n",
       "<table border=\"1\" class=\"dataframe\">\n",
       "  <thead>\n",
       "    <tr style=\"text-align: right;\">\n",
       "      <th></th>\n",
       "      <th>session</th>\n",
       "      <th>method</th>\n",
       "      <th>gender</th>\n",
       "      <th>emotion</th>\n",
       "      <th>n_annotators</th>\n",
       "      <th>agreement</th>\n",
       "      <th>path</th>\n",
       "      <th>filename</th>\n",
       "      <th>preds</th>\n",
       "    </tr>\n",
       "  </thead>\n",
       "  <tbody>\n",
       "    <tr>\n",
       "      <th>309</th>\n",
       "      <td>1</td>\n",
       "      <td>impro</td>\n",
       "      <td>M</td>\n",
       "      <td>sad</td>\n",
       "      <td>4</td>\n",
       "      <td>4</td>\n",
       "      <td>Session1/sentences/wav/Ses01M_impro06/Ses01M_i...</td>\n",
       "      <td>/Users/sofiafernandes/.cache/kagglehub/dataset...</td>\n",
       "      <td>{'text_emotion': {'transcription': ' Exactly, ...</td>\n",
       "    </tr>\n",
       "    <tr>\n",
       "      <th>3670</th>\n",
       "      <td>3</td>\n",
       "      <td>script</td>\n",
       "      <td>F</td>\n",
       "      <td>ang</td>\n",
       "      <td>3</td>\n",
       "      <td>3</td>\n",
       "      <td>Session3/sentences/wav/Ses03F_script03_2/Ses03...</td>\n",
       "      <td>/Users/sofiafernandes/.cache/kagglehub/dataset...</td>\n",
       "      <td>{'text_emotion': {'transcription': ' This is t...</td>\n",
       "    </tr>\n",
       "    <tr>\n",
       "      <th>1293</th>\n",
       "      <td>1</td>\n",
       "      <td>impro</td>\n",
       "      <td>M</td>\n",
       "      <td>ang</td>\n",
       "      <td>4</td>\n",
       "      <td>4</td>\n",
       "      <td>Session1/sentences/wav/Ses01M_impro01/Ses01M_i...</td>\n",
       "      <td>/Users/sofiafernandes/.cache/kagglehub/dataset...</td>\n",
       "      <td>{'text_emotion': {'transcription': ' Don't was...</td>\n",
       "    </tr>\n",
       "    <tr>\n",
       "      <th>683</th>\n",
       "      <td>1</td>\n",
       "      <td>script</td>\n",
       "      <td>F</td>\n",
       "      <td>neu</td>\n",
       "      <td>3</td>\n",
       "      <td>2</td>\n",
       "      <td>Session1/sentences/wav/Ses01F_script02_2/Ses01...</td>\n",
       "      <td>/Users/sofiafernandes/.cache/kagglehub/dataset...</td>\n",
       "      <td>{'text_emotion': {'transcription': ' Listen, w...</td>\n",
       "    </tr>\n",
       "    <tr>\n",
       "      <th>4335</th>\n",
       "      <td>3</td>\n",
       "      <td>impro</td>\n",
       "      <td>F</td>\n",
       "      <td>sad</td>\n",
       "      <td>4</td>\n",
       "      <td>4</td>\n",
       "      <td>Session3/sentences/wav/Ses03F_impro06/Ses03F_i...</td>\n",
       "      <td>/Users/sofiafernandes/.cache/kagglehub/dataset...</td>\n",
       "      <td>{'text_emotion': {'transcription': ' Turned ar...</td>\n",
       "    </tr>\n",
       "  </tbody>\n",
       "</table>\n",
       "</div>"
      ],
      "text/plain": [
       "      session  method gender emotion  n_annotators  agreement  \\\n",
       "309         1   impro      M     sad             4          4   \n",
       "3670        3  script      F     ang             3          3   \n",
       "1293        1   impro      M     ang             4          4   \n",
       "683         1  script      F     neu             3          2   \n",
       "4335        3   impro      F     sad             4          4   \n",
       "\n",
       "                                                   path  \\\n",
       "309   Session1/sentences/wav/Ses01M_impro06/Ses01M_i...   \n",
       "3670  Session3/sentences/wav/Ses03F_script03_2/Ses03...   \n",
       "1293  Session1/sentences/wav/Ses01M_impro01/Ses01M_i...   \n",
       "683   Session1/sentences/wav/Ses01F_script02_2/Ses01...   \n",
       "4335  Session3/sentences/wav/Ses03F_impro06/Ses03F_i...   \n",
       "\n",
       "                                               filename  \\\n",
       "309   /Users/sofiafernandes/.cache/kagglehub/dataset...   \n",
       "3670  /Users/sofiafernandes/.cache/kagglehub/dataset...   \n",
       "1293  /Users/sofiafernandes/.cache/kagglehub/dataset...   \n",
       "683   /Users/sofiafernandes/.cache/kagglehub/dataset...   \n",
       "4335  /Users/sofiafernandes/.cache/kagglehub/dataset...   \n",
       "\n",
       "                                                  preds  \n",
       "309   {'text_emotion': {'transcription': ' Exactly, ...  \n",
       "3670  {'text_emotion': {'transcription': ' This is t...  \n",
       "1293  {'text_emotion': {'transcription': ' Don't was...  \n",
       "683   {'text_emotion': {'transcription': ' Listen, w...  \n",
       "4335  {'text_emotion': {'transcription': ' Turned ar...  "
      ]
     },
     "execution_count": 5,
     "metadata": {},
     "output_type": "execute_result"
    }
   ],
   "source": [
    "df.head()"
   ]
  },
  {
   "cell_type": "code",
   "execution_count": 6,
   "id": "6108a095",
   "metadata": {},
   "outputs": [
    {
     "data": {
      "text/plain": [
       "{'text_emotion': {'transcription': ' Exactly, you know, and I keep so many plants he was gonna do.',\n",
       "  'emotion': 'happy'},\n",
       " 'audio_emotion': {'emotions': ['neutral']}}"
      ]
     },
     "execution_count": 6,
     "metadata": {},
     "output_type": "execute_result"
    }
   ],
   "source": [
    "df.iloc[0].preds"
   ]
  },
  {
   "cell_type": "code",
   "execution_count": 7,
   "id": "eb263fdf",
   "metadata": {},
   "outputs": [
    {
     "name": "stderr",
     "output_type": "stream",
     "text": [
      "Processing...: 100%|██████████| 100/100 [00:00<00:00, 92182.51it/s]\n",
      "Processing...: 100%|██████████| 100/100 [00:00<00:00, 111728.93it/s]\n"
     ]
    },
    {
     "data": {
      "text/html": [
       "<div>\n",
       "<style scoped>\n",
       "    .dataframe tbody tr th:only-of-type {\n",
       "        vertical-align: middle;\n",
       "    }\n",
       "\n",
       "    .dataframe tbody tr th {\n",
       "        vertical-align: top;\n",
       "    }\n",
       "\n",
       "    .dataframe thead th {\n",
       "        text-align: right;\n",
       "    }\n",
       "</style>\n",
       "<table border=\"1\" class=\"dataframe\">\n",
       "  <thead>\n",
       "    <tr style=\"text-align: right;\">\n",
       "      <th></th>\n",
       "      <th>session</th>\n",
       "      <th>method</th>\n",
       "      <th>gender</th>\n",
       "      <th>emotion</th>\n",
       "      <th>n_annotators</th>\n",
       "      <th>agreement</th>\n",
       "      <th>path</th>\n",
       "      <th>filename</th>\n",
       "      <th>preds</th>\n",
       "      <th>audio_preds</th>\n",
       "      <th>text_preds</th>\n",
       "    </tr>\n",
       "  </thead>\n",
       "  <tbody>\n",
       "    <tr>\n",
       "      <th>309</th>\n",
       "      <td>1</td>\n",
       "      <td>impro</td>\n",
       "      <td>M</td>\n",
       "      <td>sad</td>\n",
       "      <td>4</td>\n",
       "      <td>4</td>\n",
       "      <td>Session1/sentences/wav/Ses01M_impro06/Ses01M_i...</td>\n",
       "      <td>/Users/sofiafernandes/.cache/kagglehub/dataset...</td>\n",
       "      <td>{'text_emotion': {'transcription': ' Exactly, ...</td>\n",
       "      <td>neutral</td>\n",
       "      <td>happy</td>\n",
       "    </tr>\n",
       "    <tr>\n",
       "      <th>3670</th>\n",
       "      <td>3</td>\n",
       "      <td>script</td>\n",
       "      <td>F</td>\n",
       "      <td>ang</td>\n",
       "      <td>3</td>\n",
       "      <td>3</td>\n",
       "      <td>Session3/sentences/wav/Ses03F_script03_2/Ses03...</td>\n",
       "      <td>/Users/sofiafernandes/.cache/kagglehub/dataset...</td>\n",
       "      <td>{'text_emotion': {'transcription': ' This is t...</td>\n",
       "      <td>angry</td>\n",
       "      <td>neutral</td>\n",
       "    </tr>\n",
       "    <tr>\n",
       "      <th>1293</th>\n",
       "      <td>1</td>\n",
       "      <td>impro</td>\n",
       "      <td>M</td>\n",
       "      <td>ang</td>\n",
       "      <td>4</td>\n",
       "      <td>4</td>\n",
       "      <td>Session1/sentences/wav/Ses01M_impro01/Ses01M_i...</td>\n",
       "      <td>/Users/sofiafernandes/.cache/kagglehub/dataset...</td>\n",
       "      <td>{'text_emotion': {'transcription': ' Don't was...</td>\n",
       "      <td>angry</td>\n",
       "      <td>angry</td>\n",
       "    </tr>\n",
       "    <tr>\n",
       "      <th>683</th>\n",
       "      <td>1</td>\n",
       "      <td>script</td>\n",
       "      <td>F</td>\n",
       "      <td>neu</td>\n",
       "      <td>3</td>\n",
       "      <td>2</td>\n",
       "      <td>Session1/sentences/wav/Ses01F_script02_2/Ses01...</td>\n",
       "      <td>/Users/sofiafernandes/.cache/kagglehub/dataset...</td>\n",
       "      <td>{'text_emotion': {'transcription': ' Listen, w...</td>\n",
       "      <td>sad</td>\n",
       "      <td>happy</td>\n",
       "    </tr>\n",
       "    <tr>\n",
       "      <th>4335</th>\n",
       "      <td>3</td>\n",
       "      <td>impro</td>\n",
       "      <td>F</td>\n",
       "      <td>sad</td>\n",
       "      <td>4</td>\n",
       "      <td>4</td>\n",
       "      <td>Session3/sentences/wav/Ses03F_impro06/Ses03F_i...</td>\n",
       "      <td>/Users/sofiafernandes/.cache/kagglehub/dataset...</td>\n",
       "      <td>{'text_emotion': {'transcription': ' Turned ar...</td>\n",
       "      <td>sad</td>\n",
       "      <td>happy</td>\n",
       "    </tr>\n",
       "  </tbody>\n",
       "</table>\n",
       "</div>"
      ],
      "text/plain": [
       "      session  method gender emotion  n_annotators  agreement  \\\n",
       "309         1   impro      M     sad             4          4   \n",
       "3670        3  script      F     ang             3          3   \n",
       "1293        1   impro      M     ang             4          4   \n",
       "683         1  script      F     neu             3          2   \n",
       "4335        3   impro      F     sad             4          4   \n",
       "\n",
       "                                                   path  \\\n",
       "309   Session1/sentences/wav/Ses01M_impro06/Ses01M_i...   \n",
       "3670  Session3/sentences/wav/Ses03F_script03_2/Ses03...   \n",
       "1293  Session1/sentences/wav/Ses01M_impro01/Ses01M_i...   \n",
       "683   Session1/sentences/wav/Ses01F_script02_2/Ses01...   \n",
       "4335  Session3/sentences/wav/Ses03F_impro06/Ses03F_i...   \n",
       "\n",
       "                                               filename  \\\n",
       "309   /Users/sofiafernandes/.cache/kagglehub/dataset...   \n",
       "3670  /Users/sofiafernandes/.cache/kagglehub/dataset...   \n",
       "1293  /Users/sofiafernandes/.cache/kagglehub/dataset...   \n",
       "683   /Users/sofiafernandes/.cache/kagglehub/dataset...   \n",
       "4335  /Users/sofiafernandes/.cache/kagglehub/dataset...   \n",
       "\n",
       "                                                  preds audio_preds text_preds  \n",
       "309   {'text_emotion': {'transcription': ' Exactly, ...     neutral      happy  \n",
       "3670  {'text_emotion': {'transcription': ' This is t...       angry    neutral  \n",
       "1293  {'text_emotion': {'transcription': ' Don't was...       angry      angry  \n",
       "683   {'text_emotion': {'transcription': ' Listen, w...         sad      happy  \n",
       "4335  {'text_emotion': {'transcription': ' Turned ar...         sad      happy  "
      ]
     },
     "execution_count": 7,
     "metadata": {},
     "output_type": "execute_result"
    }
   ],
   "source": [
    "df['audio_preds'] = df['preds'].progress_apply(lambda x: x['audio_emotion']['emotions'][0])\n",
    "df['text_preds'] = df['preds'].progress_apply(lambda x: x['text_emotion']['emotion'] if 'text_emotion' in x.keys() else None)\n",
    "df.head()\n"
   ]
  },
  {
   "cell_type": "code",
   "execution_count": 8,
   "id": "3604adec",
   "metadata": {},
   "outputs": [],
   "source": [
    "df = df.dropna(subset=['audio_preds', 'text_preds'])"
   ]
  },
  {
   "cell_type": "code",
   "execution_count": 9,
   "id": "6078b9e7",
   "metadata": {},
   "outputs": [
    {
     "name": "stdout",
     "output_type": "stream",
     "text": [
      "              precision    recall  f1-score   support\n",
      "\n",
      "       angry       0.62      0.20      0.30        25\n",
      "      cheers       0.00      0.00      0.00         0\n",
      "     excited       0.00      0.00      0.00         0\n",
      "        fear       0.00      0.00      0.00         0\n",
      "  frustrated       0.00      0.00      0.00         0\n",
      "       happy       0.26      0.38      0.31        13\n",
      "        love       0.00      0.00      0.00         0\n",
      "     neutral       0.52      0.68      0.59        37\n",
      "         sad       0.75      0.25      0.38        24\n",
      "    surprise       0.00      0.00      0.00         0\n",
      "       worry       0.00      0.00      0.00         0\n",
      "\n",
      "    accuracy                           0.41        99\n",
      "   macro avg       0.20      0.14      0.14        99\n",
      "weighted avg       0.57      0.41      0.43        99\n",
      "\n",
      "[[ 5  0  1  0  1  6  1  9  1  1  0]\n",
      " [ 0  0  0  0  0  0  0  0  0  0  0]\n",
      " [ 0  0  0  0  0  0  0  0  0  0  0]\n",
      " [ 0  0  0  0  0  0  0  0  0  0  0]\n",
      " [ 0  0  0  0  0  0  0  0  0  0  0]\n",
      " [ 0  1  0  0  0  5  0  5  1  1  0]\n",
      " [ 0  0  0  0  0  0  0  0  0  0  0]\n",
      " [ 2  0  0  0  0  4  0 25  0  6  0]\n",
      " [ 1  0  0  1  0  4  0  9  6  2  1]\n",
      " [ 0  0  0  0  0  0  0  0  0  0  0]\n",
      " [ 0  0  0  0  0  0  0  0  0  0  0]]\n"
     ]
    }
   ],
   "source": [
    "from sklearn.metrics import classification_report, confusion_matrix\n",
    "map_labels = {\n",
    "    'neu': 'neutral',\n",
    "    'sad': 'sad',\n",
    "    'ang': 'angry',\n",
    "    'hap': 'happy',\n",
    "    'sur': 'surprise',\n",
    "    'fea': 'fear',\n",
    "    'dis': 'disgust'\n",
    "}\n",
    "df['label'] = df['emotion'].map(map_labels)\n",
    "#df['preds_audio1'] = df['preds_audio2'].progress_apply(lambda x: x['emotions'][0])\n",
    "print(classification_report(df['label'], df['text_preds']))\n",
    "print(confusion_matrix(df['label'], df['text_preds']))"
   ]
  },
  {
   "cell_type": "code",
   "execution_count": 10,
   "id": "a789ef0f",
   "metadata": {},
   "outputs": [
    {
     "name": "stdout",
     "output_type": "stream",
     "text": [
      "              precision    recall  f1-score   support\n",
      "\n",
      "       angry       0.79      0.76      0.78        25\n",
      "       happy       1.00      0.08      0.14        13\n",
      "     neutral       0.57      0.70      0.63        37\n",
      "         sad       0.57      0.67      0.62        24\n",
      "\n",
      "    accuracy                           0.63        99\n",
      "   macro avg       0.73      0.55      0.54        99\n",
      "weighted avg       0.68      0.63      0.60        99\n",
      "\n",
      "[[19  0  5  1]\n",
      " [ 3  1  8  1]\n",
      " [ 1  0 26 10]\n",
      " [ 1  0  7 16]]\n"
     ]
    }
   ],
   "source": [
    "print(classification_report(df['label'], df['audio_preds']))\n",
    "print(confusion_matrix(df['label'], df['audio_preds']))"
   ]
  },
  {
   "cell_type": "code",
   "execution_count": null,
   "id": "37adb05c",
   "metadata": {},
   "outputs": [
    {
     "data": {
      "text/plain": [
       "label\n",
       "neutral    37\n",
       "angry      25\n",
       "sad        24\n",
       "happy      13\n",
       "Name: count, dtype: int64"
      ]
     },
     "execution_count": 11,
     "metadata": {},
     "output_type": "execute_result"
    },
    {
     "ename": "",
     "evalue": "",
     "output_type": "error",
     "traceback": [
      "\u001b[1;31mThe Kernel crashed while executing code in the current cell or a previous cell. \n",
      "\u001b[1;31mPlease review the code in the cell(s) to identify a possible cause of the failure. \n",
      "\u001b[1;31mClick <a href='https://aka.ms/vscodeJupyterKernelCrash'>here</a> for more info. \n",
      "\u001b[1;31mView Jupyter <a href='command:jupyter.viewOutput'>log</a> for further details."
     ]
    }
   ],
   "source": [
    "df.label.value_counts()"
   ]
  },
  {
   "cell_type": "code",
   "execution_count": null,
   "id": "0b0979c5",
   "metadata": {},
   "outputs": [
    {
     "data": {
      "text/plain": [
       "text_preds\n",
       "{'error': 'name 'max_retries' is not defined'}    99\n",
       "Name: count, dtype: int64"
      ]
     },
     "execution_count": 10,
     "metadata": {},
     "output_type": "execute_result"
    },
    {
     "ename": "",
     "evalue": "",
     "output_type": "error",
     "traceback": [
      "\u001b[1;31mThe Kernel crashed while executing code in the current cell or a previous cell. \n",
      "\u001b[1;31mPlease review the code in the cell(s) to identify a possible cause of the failure. \n",
      "\u001b[1;31mClick <a href='https://aka.ms/vscodeJupyterKernelCrash'>here</a> for more info. \n",
      "\u001b[1;31mView Jupyter <a href='command:jupyter.viewOutput'>log</a> for further details."
     ]
    }
   ],
   "source": [
    "df.text_preds.value_counts()"
   ]
  },
  {
   "cell_type": "code",
   "execution_count": null,
   "id": "83aeb329",
   "metadata": {},
   "outputs": [],
   "source": [
    "from src.processor import FileProcessor\n",
    "from src.recognizers import SpeechEmotionRecognizer\n",
    "# Initialize the FileProcessor\n",
    "processor = FileProcessor()\n",
    "# Initialize the SpeechEmotionRecognizer\n",
    "recognizer = SpeechEmotionRecognizer()\n",
    "# Define the file path to the audio file"
   ]
  },
  {
   "cell_type": "code",
   "execution_count": null,
   "id": "4717c4ab",
   "metadata": {},
   "outputs": [
    {
     "name": "stderr",
     "output_type": "stream",
     "text": [
      "  0%|          | 0/10 [00:00<?, ?it/s]"
     ]
    },
    {
     "name": "stdout",
     "output_type": "stream",
     "text": [
      "Processing file: /Users/sofiafernandes/.cache/kagglehub/datasets/dejolilandry/iemocapfullrelease/versions/1/IEMOCAP_full_release/Session1/sentences/wav/Ses01F_script02_1/Ses01F_script02_1_F000.wav\n"
     ]
    },
    {
     "name": "stderr",
     "output_type": "stream",
     "text": [
      " 10%|█         | 1/10 [00:18<02:43, 18.21s/it]"
     ]
    },
    {
     "name": "stdout",
     "output_type": "stream",
     "text": [
      "{'text_emotion': {'transcription': ' Come on.', 'emotion': 'happy'}, 'audio_emotion': {'emotions': ['fear']}}\n",
      "Processing file: /Users/sofiafernandes/.cache/kagglehub/datasets/dejolilandry/iemocapfullrelease/versions/1/IEMOCAP_full_release/Session1/sentences/wav/Ses01F_script02_1/Ses01F_script02_1_F001.wav\n"
     ]
    },
    {
     "name": "stderr",
     "output_type": "stream",
     "text": [
      " 20%|██        | 2/10 [00:21<01:13,  9.18s/it]"
     ]
    },
    {
     "name": "stdout",
     "output_type": "stream",
     "text": [
      "{'audio_emotion': {'emotions': ['sad']}}\n",
      "Processing file: /Users/sofiafernandes/.cache/kagglehub/datasets/dejolilandry/iemocapfullrelease/versions/1/IEMOCAP_full_release/Session1/sentences/wav/Ses01F_script02_1/Ses01F_script02_1_F002.wav\n"
     ]
    },
    {
     "name": "stderr",
     "output_type": "stream",
     "text": [
      " 30%|███       | 3/10 [00:26<00:50,  7.28s/it]"
     ]
    },
    {
     "name": "stdout",
     "output_type": "stream",
     "text": [
      "{'text_emotion': {'transcription': ' What?', 'emotion': 'surprise'}, 'audio_emotion': {'emotions': ['happy']}}\n",
      "Processing file: /Users/sofiafernandes/.cache/kagglehub/datasets/dejolilandry/iemocapfullrelease/versions/1/IEMOCAP_full_release/Session1/sentences/wav/Ses01F_script02_1/Ses01F_script02_1_F003.wav\n"
     ]
    },
    {
     "name": "stderr",
     "output_type": "stream",
     "text": [
      " 40%|████      | 4/10 [00:30<00:37,  6.30s/it]"
     ]
    },
    {
     "name": "stdout",
     "output_type": "stream",
     "text": [
      "{'text_emotion': {'transcription': \" We're flashlight\", 'emotion': 'Happy'}, 'audio_emotion': {'emotions': ['disgust']}}\n",
      "Processing file: /Users/sofiafernandes/.cache/kagglehub/datasets/dejolilandry/iemocapfullrelease/versions/1/IEMOCAP_full_release/Session1/sentences/wav/Ses01F_script02_1/Ses01F_script02_1_F004.wav\n"
     ]
    },
    {
     "name": "stderr",
     "output_type": "stream",
     "text": [
      " 50%|█████     | 5/10 [00:36<00:30,  6.02s/it]"
     ]
    },
    {
     "name": "stdout",
     "output_type": "stream",
     "text": [
      "{'text_emotion': {'transcription': \" That's not your flashlight.\", 'emotion': 'anger'}, 'audio_emotion': {'emotions': ['disgust']}}\n",
      "Processing file: /Users/sofiafernandes/.cache/kagglehub/datasets/dejolilandry/iemocapfullrelease/versions/1/IEMOCAP_full_release/Session1/sentences/wav/Ses01F_script02_1/Ses01F_script02_1_F005.wav\n"
     ]
    },
    {
     "name": "stderr",
     "output_type": "stream",
     "text": [
      " 60%|██████    | 6/10 [00:41<00:23,  5.87s/it]"
     ]
    },
    {
     "name": "stdout",
     "output_type": "stream",
     "text": [
      "{'text_emotion': {'transcription': \" It's hours, it's my flashlight too.\", 'emotion': 'fear'}, 'audio_emotion': {'emotions': ['disgust']}}\n",
      "Processing file: /Users/sofiafernandes/.cache/kagglehub/datasets/dejolilandry/iemocapfullrelease/versions/1/IEMOCAP_full_release/Session1/sentences/wav/Ses01F_script02_1/Ses01F_script02_1_F006.wav\n"
     ]
    },
    {
     "name": "stderr",
     "output_type": "stream",
     "text": [
      " 70%|███████   | 7/10 [00:48<00:17,  6.00s/it]"
     ]
    },
    {
     "name": "stdout",
     "output_type": "stream",
     "text": [
      "{'text_emotion': {'transcription': \" You keep saying my flashlight, like it's just yours.\", 'emotion': 'angry'}, 'audio_emotion': {'emotions': ['disgust']}}\n",
      "Processing file: /Users/sofiafernandes/.cache/kagglehub/datasets/dejolilandry/iemocapfullrelease/versions/1/IEMOCAP_full_release/Session1/sentences/wav/Ses01F_script02_1/Ses01F_script02_1_F007.wav\n"
     ]
    },
    {
     "name": "stderr",
     "output_type": "stream",
     "text": [
      " 80%|████████  | 8/10 [00:54<00:12,  6.00s/it]"
     ]
    },
    {
     "name": "stdout",
     "output_type": "stream",
     "text": [
      "{'text_emotion': {'transcription': \" How's that supposed to make me feel?\", 'emotion': 'angry'}, 'audio_emotion': {'emotions': ['happy']}}\n",
      "Processing file: /Users/sofiafernandes/.cache/kagglehub/datasets/dejolilandry/iemocapfullrelease/versions/1/IEMOCAP_full_release/Session1/sentences/wav/Ses01F_script02_1/Ses01F_script02_1_F008.wav\n"
     ]
    },
    {
     "name": "stderr",
     "output_type": "stream",
     "text": [
      " 90%|█████████ | 9/10 [00:59<00:05,  5.88s/it]"
     ]
    },
    {
     "name": "stdout",
     "output_type": "stream",
     "text": [
      "{'text_emotion': {'transcription': ' Yeah', 'emotion': 'Surprised.'}, 'audio_emotion': {'emotions': ['sad']}}\n",
      "Processing file: /Users/sofiafernandes/.cache/kagglehub/datasets/dejolilandry/iemocapfullrelease/versions/1/IEMOCAP_full_release/Session1/sentences/wav/Ses01F_script02_1/Ses01F_script02_1_F009.wav\n"
     ]
    },
    {
     "name": "stderr",
     "output_type": "stream",
     "text": [
      "100%|██████████| 10/10 [01:12<00:00,  7.29s/it]"
     ]
    },
    {
     "name": "stdout",
     "output_type": "stream",
     "text": [
      "{'text_emotion': {'transcription': \" Y'know.\", 'emotion': 'no emotion'}, 'audio_emotion': {'emotions': ['fear']}}\n"
     ]
    },
    {
     "name": "stderr",
     "output_type": "stream",
     "text": [
      "\n"
     ]
    }
   ],
   "source": [
    "from src.assistant import EmotionRecognitionAssistant\n",
    "\n",
    "from tqdm import tqdm\n",
    "assistant = EmotionRecognitionAssistant()\n",
    "#processor = FileProcessor()\n",
    "# Process a few files from the dataset\n",
    "paths = labels_df['path'].tolist()[:10]\n",
    "for path in tqdm(paths):\n",
    "    full_path = os.path.join(file_path, \"IEMOCAP_full_release\", path)\n",
    "    print(f\"Processing file: {full_path}\")\n",
    "    result = assistant.analyze(full_path)\n",
    "    #result = processor.process_file(full_path)\n",
    "    print(result)\n"
   ]
  },
  {
   "cell_type": "code",
   "execution_count": 45,
   "id": "994689cf",
   "metadata": {},
   "outputs": [],
   "source": [
    "import os\n",
    "import tempfile\n",
    "import cv2\n",
    "import whisper #pip install git+https://github.com/openai/whisper.git\n",
    "import librosa\n",
    "from PyPDF2 import PdfReader\n",
    "from docx import Document\n",
    "from moviepy.editor import VideoFileClip\n",
    "from PIL import Image\n",
    "\n",
    "\n",
    "class FileProcessor:\n",
    "    def __init__(self):\n",
    "        self.file_types = {\n",
    "            'text': ['txt', 'pdf', 'docx'],\n",
    "            'audio': ['mp3', 'wav', 'sph'],\n",
    "            'image': ['jpg', 'jpeg', 'png'],\n",
    "            'video': ['mp4', 'avi', 'mov', 'webm']\n",
    "        }\n",
    "        self.face_cascade = cv2.CascadeClassifier(cv2.data.haarcascades + 'haarcascade_frontalface_default.xml')\n",
    "        self.transcriber = whisper.load_model(\"base\") \n",
    "\n",
    "    def process_file(self, file_path):\n",
    "        \"\"\"Main processing method\"\"\"\n",
    "        if not os.path.isfile(file_path):\n",
    "            return {\"error\": \"File not found\"}\n",
    "\n",
    "        file_type = self._detect_file_type(file_path)\n",
    "\n",
    "        try:\n",
    "            if file_type == 'text':\n",
    "                return self._process_text(file_path)\n",
    "            elif file_type == 'audio':\n",
    "                return self._process_audio(file_path)\n",
    "            elif file_type == 'image':\n",
    "                return self._process_image(file_path)\n",
    "            elif file_type == 'video':\n",
    "                return self._process_video(file_path)\n",
    "            else:\n",
    "                return {\"error\": \"Unsupported file type\"}\n",
    "        except Exception as e:\n",
    "            return {\"error\": str(e)}\n",
    "\n",
    "    def _detect_file_type(self, file_path):\n",
    "        \"\"\"Detect file type category\"\"\"\n",
    "        ext = file_path.split('.')[-1].lower()\n",
    "        for category, extensions in self.file_types.items():\n",
    "            if ext in extensions:\n",
    "                return category\n",
    "        return 'unknown'\n",
    "\n",
    "    def _process_text(self, file_path):\n",
    "        \"\"\"Process text-based files\"\"\"\n",
    "        ext = file_path.split('.')[-1].lower()\n",
    "        text = ''\n",
    "\n",
    "        if ext == 'txt':\n",
    "            with open(file_path, 'r') as f:\n",
    "                text = f.read()\n",
    "        elif ext == 'pdf':\n",
    "            with open(file_path, 'rb') as f:\n",
    "                reader = PdfReader(f)\n",
    "                text = '\\n'.join([page.extract_text() for page in reader.pages])\n",
    "        elif ext == 'docx':\n",
    "            doc = Document(file_path)\n",
    "            text = '\\n'.join([para.text for para in doc.paragraphs])\n",
    "\n",
    "        return {\"text\": text}\n",
    "\n",
    "    def _process_audio(self, file_path, chunk_duration=3, hop_duration=1):\n",
    "        \"\"\"Load audio files and transcribe them\"\"\"\n",
    "        audio, sr = librosa.load(file_path, sr=16000)\n",
    "        transcript = self.transcriber.transcribe(audio)\n",
    "        segments = transcript['segments']\n",
    "        audio_chunks = [audio[int(seg['start'] * sr):int(seg['end'] * sr)] for seg in segments]\n",
    "\n",
    "        return {\n",
    "            \"text\": transcript['text'],\n",
    "            \"segments\": segments,\n",
    "            \"audio\": {\n",
    "                \"raw\": audio,\n",
    "                \"audio_chunks\": audio_chunks,\n",
    "                \"sample_rate\": sr,\n",
    "            }\n",
    "        }\n",
    "\n",
    "\n",
    "    def _process_image(self, file_path):\n",
    "        \"\"\"Process image files with face detection\"\"\"\n",
    "        img = cv2.imread(file_path)\n",
    "        gray = cv2.cvtColor(img, cv2.COLOR_BGR2GRAY)\n",
    "        faces = self.face_cascade.detectMultiScale(gray, 1.3, 5)\n",
    "        if len(faces) > 0:\n",
    "            x, y, w, h = faces[0]\n",
    "            face_img = img[y:y+h, x:x+w]\n",
    "            pil_image = Image.fromarray(cv2.cvtColor(face_img, cv2.COLOR_BGR2RGB))\n",
    "        else:\n",
    "            pil_image = Image.fromarray(cv2.cvtColor(img, cv2.COLOR_BGR2RGB))\n",
    "        return {\"image\": pil_image}\n",
    "\n",
    "    def _process_video(self, file_path):\n",
    "        \"\"\"Process video files with frame extraction and audio processing\"\"\"\n",
    "        result = {}\n",
    "        with tempfile.NamedTemporaryFile(suffix='.wav') as tmpfile:\n",
    "            video = VideoFileClip(file_path)\n",
    "            if video.audio:\n",
    "                video.audio.write_audiofile(tmpfile.name)\n",
    "                audio_result = self._process_audio(tmpfile.name)\n",
    "                result.update(audio_result)\n",
    "            else:\n",
    "                result[\"audio\"] = None\n",
    "                result[\"text\"] = None\n",
    "\n",
    "        cap = cv2.VideoCapture(file_path)\n",
    "        fps = cap.get(cv2.CAP_PROP_FPS)\n",
    "        frame_interval = int(fps * 1)  # Every 1 second\n",
    "        frame_count = 0\n",
    "        frames = []\n",
    "\n",
    "        while cap.isOpened():\n",
    "            ret, frame = cap.read()\n",
    "            if not ret:\n",
    "                break\n",
    "\n",
    "            if frame_count % frame_interval == 0:\n",
    "                gray = cv2.cvtColor(frame, cv2.COLOR_BGR2GRAY)\n",
    "                faces = self.face_cascade.detectMultiScale(gray, 1.3, 5)\n",
    "                if len(faces) > 0:\n",
    "                    x, y, w, h = faces[0]\n",
    "                    face_img = frame[y:y+h, x:x+w]\n",
    "                    pil_image = Image.fromarray(cv2.cvtColor(face_img, cv2.COLOR_BGR2RGB))\n",
    "                    frames.append(pil_image)\n",
    "\n",
    "            frame_count += 1\n",
    "\n",
    "        cap.release()\n",
    "        result[\"frames\"] = frames\n",
    "        return result\n",
    "\n",
    "processor = FileProcessor()"
   ]
  },
  {
   "cell_type": "code",
   "execution_count": 46,
   "id": "2f9d81a8",
   "metadata": {},
   "outputs": [
    {
     "name": "stdout",
     "output_type": "stream",
     "text": [
      " I think I've seen this before.\n"
     ]
    }
   ],
   "source": [
    "#filename = emodb['filename'].to_list()[1]\n",
    "filename = crema['filename'].to_list()[0]\n",
    "#filename =\"/Users/sofiafernandes/Documents/Repos/MEIM-ano1-sem2/TFM-SC/01-01-05-02-02-01-01.mp4\"\n",
    "#filename = \"/Users/sofiafernandes/Documents/Repos/MEIM-ano1-sem2/TFM-SC/Ses01F_impro01.avi\"\n",
    "result = processor.process_file(filename)\n",
    "print(result['text'])"
   ]
  },
  {
   "cell_type": "code",
   "execution_count": 29,
   "id": "8d7feb10",
   "metadata": {},
   "outputs": [
    {
     "data": {
      "text/plain": [
       "array([0.01741896, 0.01392634, 0.00778588, ..., 0.00131959, 0.00121908,\n",
       "       0.00037531], dtype=float32)"
      ]
     },
     "execution_count": 29,
     "metadata": {},
     "output_type": "execute_result"
    }
   ],
   "source": [
    "result['audio']['audio_chunks'][1]"
   ]
  },
  {
   "cell_type": "code",
   "execution_count": 47,
   "id": "5268120b",
   "metadata": {},
   "outputs": [],
   "source": [
    "import pickle\n",
    "from joblib import dump, load\n",
    "import opensmile\n",
    "\n",
    "class SpeechEmotionRecognizer:\n",
    "    def __init__(self, model_path='/Users/sofiafernandes/Documents/Repos/EmoReA/emorea-backend/notebooks/speech/ser_svm_model3.joblib'):\n",
    "        try:\n",
    "            with open(model_path, 'rb') as file:\n",
    "                #self.model = pickle.load(file)\n",
    "                self.model = load(file)\n",
    "        except FileNotFoundError:\n",
    "            self.model = None\n",
    "            print(f\"Warning: Speech emotion recognizer model not found at {model_path}\")\n",
    "        except Exception as e:\n",
    "            self.model = None\n",
    "            print(f\"Error loading speech emotion recognizer: {e}\")\n",
    "\n",
    "    def extract_features(self, audio, sr):\n",
    "        smile = opensmile.Smile(\n",
    "            feature_set=opensmile.FeatureSet.GeMAPSv01b,\n",
    "            feature_level=opensmile.FeatureLevel.Functionals,\n",
    "        )\n",
    "        features = smile.process_signal(audio, sr)\n",
    "        return features.values\n",
    "\n",
    "    def analyze(self, audio, sr):\n",
    "        if self.model is None:\n",
    "            return {\"error\": \"Speech emotion recognizer model not loaded\"}\n",
    "        features = self.extract_features(audio, sr)\n",
    "        try:\n",
    "            prediction = self.model.predict(features)\n",
    "            return {\"emotions\": prediction.tolist()} # Return as list for JSON\n",
    "        except Exception as e:\n",
    "            return {\"error\": f\"Error during audio emotion analysis: {e}\"}\n",
    "        \n",
    "ser = SpeechEmotionRecognizer()"
   ]
  },
  {
   "cell_type": "code",
   "execution_count": 48,
   "id": "fb63f4d1",
   "metadata": {},
   "outputs": [
    {
     "name": "stderr",
     "output_type": "stream",
     "text": [
      "100%|██████████| 1/1 [00:00<00:00,  8.24it/s]\n"
     ]
    }
   ],
   "source": [
    "from tqdm import tqdm\n",
    "chunks_emotion = []\n",
    "for chunk in tqdm(result['audio']['audio_chunks']):\n",
    "    sr = result['audio']['sample_rate']\n",
    "    audio_emotion_result = ser.analyze(chunk, sr)\n",
    "    chunks_emotion.append(audio_emotion_result)"
   ]
  },
  {
   "cell_type": "code",
   "execution_count": 49,
   "id": "cbc533f3",
   "metadata": {},
   "outputs": [
    {
     "name": "stdout",
     "output_type": "stream",
     "text": [
      "Text:  I think I've seen this before.\n",
      "Emotion: angry\n"
     ]
    }
   ],
   "source": [
    "for segment, emotion in zip(result['segments'], chunks_emotion):\n",
    "    print(f\"Text: {segment['text']}\\nEmotion: {emotion['emotions'][0]}\")"
   ]
  },
  {
   "cell_type": "code",
   "execution_count": null,
   "id": "674862b2",
   "metadata": {},
   "outputs": [
    {
     "data": {
      "text/plain": [
       "label                                                   angry\n",
       "filename    /Users/sofiafernandes/.cache/kagglehub/dataset...\n",
       "Name: 0, dtype: object"
      ]
     },
     "execution_count": 50,
     "metadata": {},
     "output_type": "execute_result"
    },
    {
     "ename": "",
     "evalue": "",
     "output_type": "error",
     "traceback": [
      "\u001b[1;31mThe Kernel crashed while executing code in the current cell or a previous cell. \n",
      "\u001b[1;31mPlease review the code in the cell(s) to identify a possible cause of the failure. \n",
      "\u001b[1;31mClick <a href='https://aka.ms/vscodeJupyterKernelCrash'>here</a> for more info. \n",
      "\u001b[1;31mView Jupyter <a href='command:jupyter.viewOutput'>log</a> for further details."
     ]
    }
   ],
   "source": [
    "crema.iloc[0]"
   ]
  },
  {
   "cell_type": "code",
   "execution_count": 43,
   "id": "c3a36d6e",
   "metadata": {},
   "outputs": [
    {
     "data": {
      "image/png": "[encoded data removed]",
      "text/plain": [
       "<Figure size 1200x600 with 1 Axes>"
      ]
     },
     "metadata": {},
     "output_type": "display_data"
    }
   ],
   "source": [
    "emos = [emotion['emotions'][0] for emotion in chunks_emotion]\n",
    "#plotting the emotions\n",
    "import matplotlib.pyplot as plt\n",
    "import seaborn as sns   \n",
    "sns.set(style=\"whitegrid\")\n",
    "plt.figure(figsize=(12, 6))\n",
    "sns.countplot(x=emos, palette=\"viridis\")\n",
    "plt.title('Emotion Distribution in Audio Segments')\n",
    "plt.xlabel('Emotions')\n",
    "plt.ylabel('Count')\n",
    "plt.xticks(rotation=45)\n",
    "plt.show()"
   ]
  },
  {
   "cell_type": "code",
   "execution_count": 6,
   "id": "870e3bfb",
   "metadata": {},
   "outputs": [
    {
     "name": "stdout",
     "output_type": "stream",
     "text": [
      "{'error': \"local variable 'texts' referenced before assignment\"}\n",
      "{'error': \"local variable 'texts' referenced before assignment\"}\n",
      "{'error': \"local variable 'texts' referenced before assignment\"}\n",
      "{'error': \"local variable 'texts' referenced before assignment\"}\n",
      "{'error': \"local variable 'texts' referenced before assignment\"}\n",
      "{'error': \"local variable 'texts' referenced before assignment\"}\n",
      "{'error': \"local variable 'texts' referenced before assignment\"}\n",
      "{'error': \"local variable 'texts' referenced before assignment\"}\n",
      "{'error': \"local variable 'texts' referenced before assignment\"}\n",
      "{'error': \"local variable 'texts' referenced before assignment\"}\n",
      "{'error': \"local variable 'texts' referenced before assignment\"}\n",
      "{'error': \"local variable 'texts' referenced before assignment\"}\n",
      "{'error': \"local variable 'texts' referenced before assignment\"}\n",
      "{'error': \"local variable 'texts' referenced before assignment\"}\n",
      "{'error': \"local variable 'texts' referenced before assignment\"}\n",
      "{'error': \"local variable 'texts' referenced before assignment\"}\n",
      "{'error': \"local variable 'texts' referenced before assignment\"}\n",
      "{'error': \"local variable 'texts' referenced before assignment\"}\n",
      "{'error': \"local variable 'texts' referenced before assignment\"}\n",
      "{'error': \"local variable 'texts' referenced before assignment\"}\n",
      "{'error': \"local variable 'texts' referenced before assignment\"}\n",
      "{'error': \"local variable 'texts' referenced before assignment\"}\n",
      "{'error': \"local variable 'texts' referenced before assignment\"}\n",
      "{'error': \"local variable 'texts' referenced before assignment\"}\n",
      "{'error': \"local variable 'texts' referenced before assignment\"}\n",
      "{'error': \"local variable 'texts' referenced before assignment\"}\n",
      "{'error': \"local variable 'texts' referenced before assignment\"}\n",
      "{'error': \"local variable 'texts' referenced before assignment\"}\n",
      "{'error': \"local variable 'texts' referenced before assignment\"}\n",
      "{'error': \"local variable 'texts' referenced before assignment\"}\n",
      "{'error': \"local variable 'texts' referenced before assignment\"}\n",
      "{'error': \"local variable 'texts' referenced before assignment\"}\n",
      "{'error': \"local variable 'texts' referenced before assignment\"}\n",
      "{'error': \"local variable 'texts' referenced before assignment\"}\n",
      "{'error': \"local variable 'texts' referenced before assignment\"}\n",
      "{'error': \"local variable 'texts' referenced before assignment\"}\n",
      "{'error': \"local variable 'texts' referenced before assignment\"}\n",
      "{'error': \"local variable 'texts' referenced before assignment\"}\n",
      "{'error': \"local variable 'texts' referenced before assignment\"}\n",
      "{'error': \"local variable 'texts' referenced before assignment\"}\n",
      "{'error': \"local variable 'texts' referenced before assignment\"}\n",
      "{'error': \"local variable 'texts' referenced before assignment\"}\n",
      "{'error': \"local variable 'texts' referenced before assignment\"}\n",
      "{'error': \"local variable 'texts' referenced before assignment\"}\n",
      "{'error': \"local variable 'texts' referenced before assignment\"}\n",
      "{'error': \"local variable 'texts' referenced before assignment\"}\n",
      "{'error': \"local variable 'texts' referenced before assignment\"}\n",
      "{'error': \"local variable 'texts' referenced before assignment\"}\n",
      "{'error': \"local variable 'texts' referenced before assignment\"}\n",
      "{'error': \"local variable 'texts' referenced before assignment\"}\n",
      "{'error': \"local variable 'texts' referenced before assignment\"}\n",
      "{'error': \"local variable 'texts' referenced before assignment\"}\n",
      "{'error': \"local variable 'texts' referenced before assignment\"}\n",
      "{'error': \"local variable 'texts' referenced before assignment\"}\n",
      "{'error': \"local variable 'texts' referenced before assignment\"}\n",
      "{'error': \"local variable 'texts' referenced before assignment\"}\n",
      "{'error': \"local variable 'texts' referenced before assignment\"}\n",
      "{'error': \"local variable 'texts' referenced before assignment\"}\n",
      "{'error': \"local variable 'texts' referenced before assignment\"}\n",
      "{'error': \"local variable 'texts' referenced before assignment\"}\n",
      "{'error': \"local variable 'texts' referenced before assignment\"}\n",
      "{'error': \"local variable 'texts' referenced before assignment\"}\n",
      "{'error': \"local variable 'texts' referenced before assignment\"}\n",
      "{'error': \"local variable 'texts' referenced before assignment\"}\n",
      "{'error': \"local variable 'texts' referenced before assignment\"}\n",
      "{'error': \"local variable 'texts' referenced before assignment\"}\n",
      "{'error': \"local variable 'texts' referenced before assignment\"}\n",
      "{'error': \"local variable 'texts' referenced before assignment\"}\n",
      "{'error': \"local variable 'texts' referenced before assignment\"}\n",
      "{'error': \"local variable 'texts' referenced before assignment\"}\n",
      "{'error': \"local variable 'texts' referenced before assignment\"}\n",
      "{'error': \"local variable 'texts' referenced before assignment\"}\n",
      "{'error': \"local variable 'texts' referenced before assignment\"}\n",
      "{'error': \"local variable 'texts' referenced before assignment\"}\n",
      "{'error': \"local variable 'texts' referenced before assignment\"}\n",
      "{'error': \"local variable 'texts' referenced before assignment\"}\n",
      "{'error': \"local variable 'texts' referenced before assignment\"}\n",
      "{'error': \"local variable 'texts' referenced before assignment\"}\n",
      "{'error': \"local variable 'texts' referenced before assignment\"}\n",
      "{'error': \"local variable 'texts' referenced before assignment\"}\n",
      "{'error': \"local variable 'texts' referenced before assignment\"}\n",
      "{'error': \"local variable 'texts' referenced before assignment\"}\n",
      "{'error': \"local variable 'texts' referenced before assignment\"}\n",
      "{'error': \"local variable 'texts' referenced before assignment\"}\n",
      "{'error': \"local variable 'texts' referenced before assignment\"}\n",
      "{'error': \"local variable 'texts' referenced before assignment\"}\n",
      "{'error': \"local variable 'texts' referenced before assignment\"}\n",
      "{'error': \"local variable 'texts' referenced before assignment\"}\n",
      "{'error': \"local variable 'texts' referenced before assignment\"}\n",
      "{'error': \"local variable 'texts' referenced before assignment\"}\n",
      "{'error': \"local variable 'texts' referenced before assignment\"}\n",
      "{'error': \"local variable 'texts' referenced before assignment\"}\n",
      "{'error': \"local variable 'texts' referenced before assignment\"}\n",
      "{'error': \"local variable 'texts' referenced before assignment\"}\n",
      "{'error': \"local variable 'texts' referenced before assignment\"}\n",
      "{'error': \"local variable 'texts' referenced before assignment\"}\n",
      "{'error': \"local variable 'texts' referenced before assignment\"}\n",
      "{'error': \"local variable 'texts' referenced before assignment\"}\n",
      "{'error': \"local variable 'texts' referenced before assignment\"}\n",
      "{'error': \"local variable 'texts' referenced before assignment\"}\n",
      "{'error': \"local variable 'texts' referenced before assignment\"}\n",
      "{'error': \"local variable 'texts' referenced before assignment\"}\n",
      "{'error': \"local variable 'texts' referenced before assignment\"}\n",
      "{'error': \"local variable 'texts' referenced before assignment\"}\n",
      "{'error': \"local variable 'texts' referenced before assignment\"}\n",
      "{'error': \"local variable 'texts' referenced before assignment\"}\n",
      "{'error': \"local variable 'texts' referenced before assignment\"}\n",
      "{'error': \"local variable 'texts' referenced before assignment\"}\n",
      "{'error': \"local variable 'texts' referenced before assignment\"}\n",
      "{'error': \"local variable 'texts' referenced before assignment\"}\n",
      "{'error': \"local variable 'texts' referenced before assignment\"}\n",
      "{'error': \"local variable 'texts' referenced before assignment\"}\n",
      "{'error': \"local variable 'texts' referenced before assignment\"}\n",
      "{'error': \"local variable 'texts' referenced before assignment\"}\n",
      "{'error': \"local variable 'texts' referenced before assignment\"}\n",
      "{'error': \"local variable 'texts' referenced before assignment\"}\n",
      "{'error': \"local variable 'texts' referenced before assignment\"}\n",
      "{'error': \"local variable 'texts' referenced before assignment\"}\n",
      "{'error': \"local variable 'texts' referenced before assignment\"}\n",
      "{'error': \"local variable 'texts' referenced before assignment\"}\n",
      "{'error': \"local variable 'texts' referenced before assignment\"}\n",
      "{'error': \"local variable 'texts' referenced before assignment\"}\n",
      "{'error': \"local variable 'texts' referenced before assignment\"}\n",
      "{'error': \"local variable 'texts' referenced before assignment\"}\n",
      "{'error': \"local variable 'texts' referenced before assignment\"}\n",
      "{'error': \"local variable 'texts' referenced before assignment\"}\n",
      "{'error': \"local variable 'texts' referenced before assignment\"}\n",
      "{'error': \"local variable 'texts' referenced before assignment\"}\n",
      "{'error': \"local variable 'texts' referenced before assignment\"}\n",
      "{'error': \"local variable 'texts' referenced before assignment\"}\n",
      "{'error': \"local variable 'texts' referenced before assignment\"}\n",
      "{'error': \"local variable 'texts' referenced before assignment\"}\n",
      "{'error': \"local variable 'texts' referenced before assignment\"}\n",
      "{'error': \"local variable 'texts' referenced before assignment\"}\n",
      "{'error': \"local variable 'texts' referenced before assignment\"}\n",
      "{'error': \"local variable 'texts' referenced before assignment\"}\n",
      "{'error': \"local variable 'texts' referenced before assignment\"}\n",
      "{'error': \"local variable 'texts' referenced before assignment\"}\n",
      "{'error': \"local variable 'texts' referenced before assignment\"}\n",
      "{'error': \"local variable 'texts' referenced before assignment\"}\n",
      "{'error': \"local variable 'texts' referenced before assignment\"}\n",
      "{'error': \"local variable 'texts' referenced before assignment\"}\n",
      "{'error': \"local variable 'texts' referenced before assignment\"}\n",
      "{'error': \"local variable 'texts' referenced before assignment\"}\n",
      "{'error': \"local variable 'texts' referenced before assignment\"}\n",
      "{'error': \"local variable 'texts' referenced before assignment\"}\n",
      "{'error': \"local variable 'texts' referenced before assignment\"}\n",
      "{'error': \"local variable 'texts' referenced before assignment\"}\n",
      "{'error': \"local variable 'texts' referenced before assignment\"}\n",
      "{'error': \"local variable 'texts' referenced before assignment\"}\n",
      "{'error': \"local variable 'texts' referenced before assignment\"}\n",
      "{'error': \"local variable 'texts' referenced before assignment\"}\n",
      "{'error': \"local variable 'texts' referenced before assignment\"}\n",
      "{'error': \"local variable 'texts' referenced before assignment\"}\n",
      "{'error': \"local variable 'texts' referenced before assignment\"}\n",
      "{'error': \"local variable 'texts' referenced before assignment\"}\n",
      "{'error': \"local variable 'texts' referenced before assignment\"}\n",
      "{'error': \"local variable 'texts' referenced before assignment\"}\n",
      "{'error': \"local variable 'texts' referenced before assignment\"}\n",
      "{'error': \"local variable 'texts' referenced before assignment\"}\n",
      "{'error': \"local variable 'texts' referenced before assignment\"}\n",
      "{'error': \"local variable 'texts' referenced before assignment\"}\n",
      "{'error': \"local variable 'texts' referenced before assignment\"}\n",
      "{'error': \"local variable 'texts' referenced before assignment\"}\n",
      "{'error': \"local variable 'texts' referenced before assignment\"}\n",
      "{'error': \"local variable 'texts' referenced before assignment\"}\n",
      "{'error': \"local variable 'texts' referenced before assignment\"}\n",
      "{'error': \"local variable 'texts' referenced before assignment\"}\n",
      "{'error': \"local variable 'texts' referenced before assignment\"}\n",
      "{'error': \"local variable 'texts' referenced before assignment\"}\n",
      "{'error': \"local variable 'texts' referenced before assignment\"}\n",
      "{'error': \"local variable 'texts' referenced before assignment\"}\n",
      "{'error': \"local variable 'texts' referenced before assignment\"}\n",
      "{'error': \"local variable 'texts' referenced before assignment\"}\n",
      "{'error': \"local variable 'texts' referenced before assignment\"}\n",
      "{'error': \"local variable 'texts' referenced before assignment\"}\n",
      "{'error': \"local variable 'texts' referenced before assignment\"}\n",
      "{'error': \"local variable 'texts' referenced before assignment\"}\n",
      "{'error': \"local variable 'texts' referenced before assignment\"}\n",
      "{'error': \"local variable 'texts' referenced before assignment\"}\n",
      "{'error': \"local variable 'texts' referenced before assignment\"}\n",
      "{'error': \"local variable 'texts' referenced before assignment\"}\n",
      "{'error': \"local variable 'texts' referenced before assignment\"}\n",
      "{'error': \"local variable 'texts' referenced before assignment\"}\n",
      "{'error': \"local variable 'texts' referenced before assignment\"}\n",
      "{'error': \"local variable 'texts' referenced before assignment\"}\n",
      "{'error': \"local variable 'texts' referenced before assignment\"}\n",
      "{'error': \"local variable 'texts' referenced before assignment\"}\n",
      "{'error': \"local variable 'texts' referenced before assignment\"}\n",
      "{'error': \"local variable 'texts' referenced before assignment\"}\n",
      "{'error': \"local variable 'texts' referenced before assignment\"}\n",
      "{'error': \"local variable 'texts' referenced before assignment\"}\n",
      "{'error': \"local variable 'texts' referenced before assignment\"}\n",
      "{'error': \"local variable 'texts' referenced before assignment\"}\n",
      "{'error': \"local variable 'texts' referenced before assignment\"}\n",
      "{'error': \"local variable 'texts' referenced before assignment\"}\n",
      "{'error': \"local variable 'texts' referenced before assignment\"}\n",
      "{'error': \"local variable 'texts' referenced before assignment\"}\n",
      "{'error': \"local variable 'texts' referenced before assignment\"}\n",
      "{'error': \"local variable 'texts' referenced before assignment\"}\n",
      "{'error': \"local variable 'texts' referenced before assignment\"}\n",
      "{'error': \"local variable 'texts' referenced before assignment\"}\n",
      "{'error': \"local variable 'texts' referenced before assignment\"}\n",
      "{'error': \"local variable 'texts' referenced before assignment\"}\n",
      "{'error': \"local variable 'texts' referenced before assignment\"}\n",
      "{'error': \"local variable 'texts' referenced before assignment\"}\n",
      "{'error': \"local variable 'texts' referenced before assignment\"}\n",
      "{'error': \"local variable 'texts' referenced before assignment\"}\n",
      "{'error': \"local variable 'texts' referenced before assignment\"}\n",
      "{'error': \"local variable 'texts' referenced before assignment\"}\n",
      "{'error': \"local variable 'texts' referenced before assignment\"}\n",
      "{'error': \"local variable 'texts' referenced before assignment\"}\n",
      "{'error': \"local variable 'texts' referenced before assignment\"}\n",
      "{'error': \"local variable 'texts' referenced before assignment\"}\n",
      "{'error': \"local variable 'texts' referenced before assignment\"}\n",
      "{'error': \"local variable 'texts' referenced before assignment\"}\n",
      "{'error': \"local variable 'texts' referenced before assignment\"}\n",
      "{'error': \"local variable 'texts' referenced before assignment\"}\n",
      "{'error': \"local variable 'texts' referenced before assignment\"}\n",
      "{'error': \"local variable 'texts' referenced before assignment\"}\n",
      "{'error': \"local variable 'texts' referenced before assignment\"}\n",
      "{'error': \"local variable 'texts' referenced before assignment\"}\n",
      "{'error': \"local variable 'texts' referenced before assignment\"}\n",
      "{'error': \"local variable 'texts' referenced before assignment\"}\n",
      "{'error': \"local variable 'texts' referenced before assignment\"}\n",
      "{'error': \"local variable 'texts' referenced before assignment\"}\n",
      "{'error': \"local variable 'texts' referenced before assignment\"}\n",
      "{'error': \"local variable 'texts' referenced before assignment\"}\n",
      "{'error': \"local variable 'texts' referenced before assignment\"}\n",
      "{'error': \"local variable 'texts' referenced before assignment\"}\n",
      "{'error': \"local variable 'texts' referenced before assignment\"}\n",
      "{'error': \"local variable 'texts' referenced before assignment\"}\n",
      "{'error': \"local variable 'texts' referenced before assignment\"}\n",
      "{'error': \"local variable 'texts' referenced before assignment\"}\n",
      "{'error': \"local variable 'texts' referenced before assignment\"}\n",
      "{'error': \"local variable 'texts' referenced before assignment\"}\n",
      "{'error': \"local variable 'texts' referenced before assignment\"}\n",
      "{'error': \"local variable 'texts' referenced before assignment\"}\n",
      "{'error': \"local variable 'texts' referenced before assignment\"}\n",
      "{'error': \"local variable 'texts' referenced before assignment\"}\n",
      "{'error': \"local variable 'texts' referenced before assignment\"}\n",
      "{'error': \"local variable 'texts' referenced before assignment\"}\n",
      "{'error': \"local variable 'texts' referenced before assignment\"}\n",
      "{'error': \"local variable 'texts' referenced before assignment\"}\n",
      "{'error': \"local variable 'texts' referenced before assignment\"}\n",
      "{'error': \"local variable 'texts' referenced before assignment\"}\n",
      "{'error': \"local variable 'texts' referenced before assignment\"}\n",
      "{'error': \"local variable 'texts' referenced before assignment\"}\n",
      "{'error': \"local variable 'texts' referenced before assignment\"}\n",
      "{'error': \"local variable 'texts' referenced before assignment\"}\n",
      "{'error': \"local variable 'texts' referenced before assignment\"}\n",
      "{'error': \"local variable 'texts' referenced before assignment\"}\n",
      "{'error': \"local variable 'texts' referenced before assignment\"}\n",
      "{'error': \"local variable 'texts' referenced before assignment\"}\n",
      "{'error': \"local variable 'texts' referenced before assignment\"}\n",
      "{'error': \"local variable 'texts' referenced before assignment\"}\n",
      "{'error': \"local variable 'texts' referenced before assignment\"}\n",
      "{'error': \"local variable 'texts' referenced before assignment\"}\n",
      "{'error': \"local variable 'texts' referenced before assignment\"}\n",
      "{'error': \"local variable 'texts' referenced before assignment\"}\n",
      "{'error': \"local variable 'texts' referenced before assignment\"}\n",
      "{'error': \"local variable 'texts' referenced before assignment\"}\n",
      "{'error': \"local variable 'texts' referenced before assignment\"}\n",
      "{'error': \"local variable 'texts' referenced before assignment\"}\n",
      "{'error': \"local variable 'texts' referenced before assignment\"}\n",
      "{'error': \"local variable 'texts' referenced before assignment\"}\n",
      "{'error': \"local variable 'texts' referenced before assignment\"}\n",
      "{'error': \"local variable 'texts' referenced before assignment\"}\n",
      "{'error': \"local variable 'texts' referenced before assignment\"}\n",
      "{'error': \"local variable 'texts' referenced before assignment\"}\n",
      "{'error': \"local variable 'texts' referenced before assignment\"}\n",
      "{'error': \"local variable 'texts' referenced before assignment\"}\n",
      "{'error': \"local variable 'texts' referenced before assignment\"}\n",
      "{'error': \"local variable 'texts' referenced before assignment\"}\n",
      "{'error': \"local variable 'texts' referenced before assignment\"}\n",
      "{'error': \"local variable 'texts' referenced before assignment\"}\n",
      "{'error': \"local variable 'texts' referenced before assignment\"}\n",
      "{'error': \"local variable 'texts' referenced before assignment\"}\n",
      "{'error': \"local variable 'texts' referenced before assignment\"}\n",
      "{'error': \"local variable 'texts' referenced before assignment\"}\n",
      "{'error': \"local variable 'texts' referenced before assignment\"}\n",
      "{'error': \"local variable 'texts' referenced before assignment\"}\n",
      "{'error': \"local variable 'texts' referenced before assignment\"}\n",
      "{'error': \"local variable 'texts' referenced before assignment\"}\n",
      "{'error': \"local variable 'texts' referenced before assignment\"}\n",
      "{'error': \"local variable 'texts' referenced before assignment\"}\n",
      "{'error': \"local variable 'texts' referenced before assignment\"}\n",
      "{'error': \"local variable 'texts' referenced before assignment\"}\n",
      "{'error': \"local variable 'texts' referenced before assignment\"}\n",
      "{'error': \"local variable 'texts' referenced before assignment\"}\n",
      "{'error': \"local variable 'texts' referenced before assignment\"}\n",
      "{'error': \"local variable 'texts' referenced before assignment\"}\n",
      "{'error': \"local variable 'texts' referenced before assignment\"}\n",
      "{'error': \"local variable 'texts' referenced before assignment\"}\n",
      "{'error': \"local variable 'texts' referenced before assignment\"}\n",
      "{'error': \"local variable 'texts' referenced before assignment\"}\n",
      "{'error': \"local variable 'texts' referenced before assignment\"}\n",
      "{'error': \"local variable 'texts' referenced before assignment\"}\n",
      "{'error': \"local variable 'texts' referenced before assignment\"}\n",
      "{'error': \"local variable 'texts' referenced before assignment\"}\n",
      "{'error': \"local variable 'texts' referenced before assignment\"}\n",
      "{'error': \"local variable 'texts' referenced before assignment\"}\n",
      "{'error': \"local variable 'texts' referenced before assignment\"}\n",
      "{'error': \"local variable 'texts' referenced before assignment\"}\n",
      "{'error': \"local variable 'texts' referenced before assignment\"}\n",
      "{'error': \"local variable 'texts' referenced before assignment\"}\n",
      "{'error': \"local variable 'texts' referenced before assignment\"}\n",
      "{'error': \"local variable 'texts' referenced before assignment\"}\n",
      "{'error': \"local variable 'texts' referenced before assignment\"}\n",
      "{'error': \"local variable 'texts' referenced before assignment\"}\n",
      "{'error': \"local variable 'texts' referenced before assignment\"}\n",
      "{'error': \"local variable 'texts' referenced before assignment\"}\n",
      "{'error': \"local variable 'texts' referenced before assignment\"}\n",
      "{'error': \"local variable 'texts' referenced before assignment\"}\n",
      "{'error': \"local variable 'texts' referenced before assignment\"}\n",
      "{'error': \"local variable 'texts' referenced before assignment\"}\n",
      "{'error': \"local variable 'texts' referenced before assignment\"}\n",
      "{'error': \"local variable 'texts' referenced before assignment\"}\n",
      "{'error': \"local variable 'texts' referenced before assignment\"}\n",
      "{'error': \"local variable 'texts' referenced before assignment\"}\n",
      "{'error': \"local variable 'texts' referenced before assignment\"}\n",
      "{'error': \"local variable 'texts' referenced before assignment\"}\n",
      "{'error': \"local variable 'texts' referenced before assignment\"}\n",
      "{'error': \"local variable 'texts' referenced before assignment\"}\n",
      "{'error': \"local variable 'texts' referenced before assignment\"}\n",
      "{'error': \"local variable 'texts' referenced before assignment\"}\n",
      "{'error': \"local variable 'texts' referenced before assignment\"}\n",
      "{'error': \"local variable 'texts' referenced before assignment\"}\n",
      "{'error': \"local variable 'texts' referenced before assignment\"}\n",
      "{'error': \"local variable 'texts' referenced before assignment\"}\n",
      "{'error': \"local variable 'texts' referenced before assignment\"}\n",
      "{'error': \"local variable 'texts' referenced before assignment\"}\n",
      "{'error': \"local variable 'texts' referenced before assignment\"}\n",
      "{'error': \"local variable 'texts' referenced before assignment\"}\n",
      "{'error': \"local variable 'texts' referenced before assignment\"}\n",
      "{'error': \"local variable 'texts' referenced before assignment\"}\n",
      "{'error': \"local variable 'texts' referenced before assignment\"}\n",
      "{'error': \"local variable 'texts' referenced before assignment\"}\n",
      "{'error': \"local variable 'texts' referenced before assignment\"}\n",
      "{'error': \"local variable 'texts' referenced before assignment\"}\n",
      "{'error': \"local variable 'texts' referenced before assignment\"}\n",
      "{'error': \"local variable 'texts' referenced before assignment\"}\n",
      "{'error': \"local variable 'texts' referenced before assignment\"}\n",
      "{'error': \"local variable 'texts' referenced before assignment\"}\n",
      "{'error': \"local variable 'texts' referenced before assignment\"}\n",
      "{'error': \"local variable 'texts' referenced before assignment\"}\n",
      "{'error': \"local variable 'texts' referenced before assignment\"}\n",
      "{'error': \"local variable 'texts' referenced before assignment\"}\n",
      "{'error': \"local variable 'texts' referenced before assignment\"}\n",
      "{'error': \"local variable 'texts' referenced before assignment\"}\n",
      "{'error': \"local variable 'texts' referenced before assignment\"}\n",
      "{'error': \"local variable 'texts' referenced before assignment\"}\n",
      "{'error': \"local variable 'texts' referenced before assignment\"}\n",
      "{'error': \"local variable 'texts' referenced before assignment\"}\n",
      "{'error': \"local variable 'texts' referenced before assignment\"}\n",
      "{'error': \"local variable 'texts' referenced before assignment\"}\n",
      "{'error': \"local variable 'texts' referenced before assignment\"}\n",
      "{'error': \"local variable 'texts' referenced before assignment\"}\n",
      "{'error': \"local variable 'texts' referenced before assignment\"}\n",
      "{'error': \"local variable 'texts' referenced before assignment\"}\n",
      "{'error': \"local variable 'texts' referenced before assignment\"}\n",
      "{'error': \"local variable 'texts' referenced before assignment\"}\n",
      "{'error': \"local variable 'texts' referenced before assignment\"}\n",
      "{'error': \"local variable 'texts' referenced before assignment\"}\n",
      "{'error': \"local variable 'texts' referenced before assignment\"}\n",
      "{'error': \"local variable 'texts' referenced before assignment\"}\n",
      "{'error': \"local variable 'texts' referenced before assignment\"}\n",
      "{'error': \"local variable 'texts' referenced before assignment\"}\n",
      "{'error': \"local variable 'texts' referenced before assignment\"}\n",
      "{'error': \"local variable 'texts' referenced before assignment\"}\n",
      "{'error': \"local variable 'texts' referenced before assignment\"}\n",
      "{'error': \"local variable 'texts' referenced before assignment\"}\n",
      "{'error': \"local variable 'texts' referenced before assignment\"}\n",
      "{'error': \"local variable 'texts' referenced before assignment\"}\n",
      "{'error': \"local variable 'texts' referenced before assignment\"}\n",
      "{'error': \"local variable 'texts' referenced before assignment\"}\n",
      "{'error': \"local variable 'texts' referenced before assignment\"}\n",
      "{'error': \"local variable 'texts' referenced before assignment\"}\n",
      "{'error': \"local variable 'texts' referenced before assignment\"}\n",
      "{'error': \"local variable 'texts' referenced before assignment\"}\n",
      "{'error': \"local variable 'texts' referenced before assignment\"}\n",
      "{'error': \"local variable 'texts' referenced before assignment\"}\n",
      "{'error': \"local variable 'texts' referenced before assignment\"}\n",
      "{'error': \"local variable 'texts' referenced before assignment\"}\n",
      "{'error': \"local variable 'texts' referenced before assignment\"}\n",
      "{'error': \"local variable 'texts' referenced before assignment\"}\n",
      "{'error': \"local variable 'texts' referenced before assignment\"}\n",
      "{'error': \"local variable 'texts' referenced before assignment\"}\n",
      "{'error': \"local variable 'texts' referenced before assignment\"}\n",
      "{'error': \"local variable 'texts' referenced before assignment\"}\n",
      "{'error': \"local variable 'texts' referenced before assignment\"}\n",
      "{'error': \"local variable 'texts' referenced before assignment\"}\n",
      "{'error': \"local variable 'texts' referenced before assignment\"}\n",
      "{'error': \"local variable 'texts' referenced before assignment\"}\n",
      "{'error': \"local variable 'texts' referenced before assignment\"}\n",
      "{'error': \"local variable 'texts' referenced before assignment\"}\n",
      "{'error': \"local variable 'texts' referenced before assignment\"}\n",
      "{'error': \"local variable 'texts' referenced before assignment\"}\n",
      "{'error': \"local variable 'texts' referenced before assignment\"}\n",
      "{'error': \"local variable 'texts' referenced before assignment\"}\n",
      "{'error': \"local variable 'texts' referenced before assignment\"}\n",
      "{'error': \"local variable 'texts' referenced before assignment\"}\n",
      "{'error': \"local variable 'texts' referenced before assignment\"}\n",
      "{'error': \"local variable 'texts' referenced before assignment\"}\n",
      "{'error': \"local variable 'texts' referenced before assignment\"}\n",
      "{'error': \"local variable 'texts' referenced before assignment\"}\n",
      "{'error': \"local variable 'texts' referenced before assignment\"}\n",
      "{'error': \"local variable 'texts' referenced before assignment\"}\n",
      "{'error': \"local variable 'texts' referenced before assignment\"}\n",
      "{'error': \"local variable 'texts' referenced before assignment\"}\n",
      "{'error': \"local variable 'texts' referenced before assignment\"}\n",
      "{'error': \"local variable 'texts' referenced before assignment\"}\n",
      "{'error': \"local variable 'texts' referenced before assignment\"}\n",
      "{'error': \"local variable 'texts' referenced before assignment\"}\n",
      "{'error': \"local variable 'texts' referenced before assignment\"}\n",
      "{'error': \"local variable 'texts' referenced before assignment\"}\n",
      "{'error': \"local variable 'texts' referenced before assignment\"}\n",
      "{'error': \"local variable 'texts' referenced before assignment\"}\n",
      "{'error': \"local variable 'texts' referenced before assignment\"}\n",
      "{'error': \"local variable 'texts' referenced before assignment\"}\n",
      "{'error': \"local variable 'texts' referenced before assignment\"}\n",
      "{'error': \"local variable 'texts' referenced before assignment\"}\n",
      "{'error': \"local variable 'texts' referenced before assignment\"}\n",
      "{'error': \"local variable 'texts' referenced before assignment\"}\n",
      "{'error': \"local variable 'texts' referenced before assignment\"}\n",
      "{'error': \"local variable 'texts' referenced before assignment\"}\n",
      "{'error': \"local variable 'texts' referenced before assignment\"}\n",
      "{'error': \"local variable 'texts' referenced before assignment\"}\n",
      "{'error': \"local variable 'texts' referenced before assignment\"}\n",
      "{'error': \"local variable 'texts' referenced before assignment\"}\n",
      "{'error': \"local variable 'texts' referenced before assignment\"}\n",
      "{'error': \"local variable 'texts' referenced before assignment\"}\n",
      "{'error': \"local variable 'texts' referenced before assignment\"}\n",
      "{'error': \"local variable 'texts' referenced before assignment\"}\n",
      "{'error': \"local variable 'texts' referenced before assignment\"}\n",
      "{'error': \"local variable 'texts' referenced before assignment\"}\n",
      "{'error': \"local variable 'texts' referenced before assignment\"}\n",
      "{'error': \"local variable 'texts' referenced before assignment\"}\n",
      "{'error': \"local variable 'texts' referenced before assignment\"}\n",
      "{'error': \"local variable 'texts' referenced before assignment\"}\n",
      "{'error': \"local variable 'texts' referenced before assignment\"}\n",
      "{'error': \"local variable 'texts' referenced before assignment\"}\n",
      "{'error': \"local variable 'texts' referenced before assignment\"}\n",
      "{'error': \"local variable 'texts' referenced before assignment\"}\n",
      "{'error': \"local variable 'texts' referenced before assignment\"}\n",
      "{'error': \"local variable 'texts' referenced before assignment\"}\n",
      "{'error': \"local variable 'texts' referenced before assignment\"}\n",
      "{'error': \"local variable 'texts' referenced before assignment\"}\n",
      "{'error': \"local variable 'texts' referenced before assignment\"}\n",
      "{'error': \"local variable 'texts' referenced before assignment\"}\n",
      "{'error': \"local variable 'texts' referenced before assignment\"}\n",
      "{'error': \"local variable 'texts' referenced before assignment\"}\n",
      "{'error': \"local variable 'texts' referenced before assignment\"}\n",
      "{'error': \"local variable 'texts' referenced before assignment\"}\n"
     ]
    }
   ],
   "source": [
    "filenames = emodb['filename'].to_list()\n",
    "for filename in filenames:\n",
    "    result = processor.process_file(file_path)\n",
    "    print(result)"
   ]
  },
  {
   "cell_type": "code",
   "execution_count": null,
   "id": "ff16d500",
   "metadata": {},
   "outputs": [],
   "source": []
  }
 ],
 "metadata": {
  "kernelspec": {
   "display_name": "varm",
   "language": "python",
   "name": "python3"
  },
  "language_info": {
   "codemirror_mode": {
    "name": "ipython",
    "version": 3
   },
   "file_extension": ".py",
   "mimetype": "text/x-python",
   "name": "python",
   "nbconvert_exporter": "python",
   "pygments_lexer": "ipython3",
   "version": "3.8.19"
  }
 },
 "nbformat": 4,
 "nbformat_minor": 5
}
