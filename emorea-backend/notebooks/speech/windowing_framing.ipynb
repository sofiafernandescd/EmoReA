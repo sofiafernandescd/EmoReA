{
 "cells": [
  {
   "cell_type": "markdown",
   "id": "364acc7c",
   "metadata": {},
   "source": [
    "# Final Speech Results"
   ]
  },
  {
   "cell_type": "markdown",
   "id": "84e3626a",
   "metadata": {},
   "source": []
  }
 ],
 "metadata": {
  "language_info": {
   "name": "python"
  }
 },
 "nbformat": 4,
 "nbformat_minor": 5
}
