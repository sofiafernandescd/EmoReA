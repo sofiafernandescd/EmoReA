{
 "cells": [
  {
   "cell_type": "markdown",
   "id": "ac28c5c5",
   "metadata": {},
   "source": [
    "# Set of Experiments\n",
    "Goals: minimizing latency and maximizing benchmark performance, while using lightweight components where possible. \n",
    "\n",
    " \n",
    "\n",
    "## ⚙️ General Implementation Setup \n",
    "\n",
    "Environment: Python 3.10+, TensorFlow/Keras or PyTorch, scikit-learn, HuggingFace Transformers, DeepFace, OpenSMILE, librosa. \n",
    "\n",
    "Evaluation Split: Stratified Shuffle Split (70% train, 30% test). \n",
    "\n",
    "Metrics Across All Tasks: \n",
    "- Accuracy \n",
    "- F1-Score (macro): Handles emotion class imbalance. \n",
    "- Latency (ms/sample or s/batch) \n",
    "- Model Size (MB) \n",
    "- Confusion Matrix for qualitative insights. \n",
    "\n",
    "\n",
    "## 🧠🔊👤 4.4.5 Multimodal Emotion Recognition \n",
    "\n",
    "## Experiment 4.1 – Speech + Textual \n",
    "\n",
    "Fusion Strategy: \n",
    "\n",
    "Early: Concatenate audio features + text embeddings \n",
    "\n",
    "Late: Combine softmax outputs (weighted sum or stacking) \n",
    "\n",
    "Models: \n",
    "\n",
    "MLP / Feedforward + attention on concatenated features \n",
    "\n",
    "Datasets: IEMOCAP, MELD (or combine aligned RAVDESS + text) \n",
    "\n",
    "Metrics: F1-macro, inference time per instance, fusion gain vs unimodal \n"
   ]
  },
  {
   "cell_type": "code",
   "execution_count": null,
   "id": "dbd4315f",
   "metadata": {},
   "outputs": [],
   "source": []
  },
  {
   "cell_type": "markdown",
   "id": "b7c3d880",
   "metadata": {},
   "source": [
    "\n",
    "## Experiment 4.2 – Speech + Textual + Facial \n",
    "\n",
    "Fusion: Multimodal Transformer (or custom attention network) \n",
    "\n",
    "Alignment: Use utterance-level temporal sync \n",
    "\n",
    "Optional: Train/validate on IEMOCAP (with aligned modalities) \n",
    "\n",
    "Metrics: \n",
    "\n",
    "Per-modality ablation \n",
    "\n",
    "Improvement over bimodal \n",
    "\n",
    "Confusion matrices across emotions \n",
    "\n",
    "Inference time "
   ]
  },
  {
   "cell_type": "code",
   "execution_count": null,
   "id": "230039ca",
   "metadata": {},
   "outputs": [],
   "source": []
  }
 ],
 "metadata": {
  "language_info": {
   "name": "python"
  }
 },
 "nbformat": 4,
 "nbformat_minor": 5
}
